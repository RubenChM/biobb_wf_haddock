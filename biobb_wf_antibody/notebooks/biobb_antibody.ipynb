{
 "cells": [
  {
   "cell_type": "code",
   "execution_count": 38,
   "metadata": {},
   "outputs": [
    {
     "name": "stdout",
     "output_type": "stream",
     "text": [
      "The autoreload extension is already loaded. To reload it, use:\n",
      "  %reload_ext autoreload\n"
     ]
    }
   ],
   "source": [
    "# TO BE REMOVED!!!\n",
    "%load_ext autoreload\n",
    "%autoreload 2\n",
    "import os, shutil\n",
    "import nglview as nv\n",
    "import ipywidgets\n",
    "import zipfile\n",
    "import webbrowser\n",
    "\n",
    "antibody_id = '4G6K'\n",
    "antigen_id  = '4I1B'\n",
    "complex_id  = '4C6M'\n",
    "out_path = 'data/antibody/'"
   ]
  },
  {
   "cell_type": "code",
   "execution_count": 39,
   "metadata": {},
   "outputs": [],
   "source": [
    "# Helpers\n",
    "def def_dict(propierties={}):\n",
    "    def_props = {'out_log_path': 'log/log.log',\n",
    "                 'err_log_path': 'log/log.err',\n",
    "                 'remove_tmp': True,\n",
    "                 'can_write_console_log': True}\n",
    "    def_props.update(propierties)\n",
    "    return def_props\n",
    "\n",
    "def show_pdbs(pdbs, surface=False):\n",
    "    # Load the PDB files\n",
    "    views = [nv.show_file(pdb) for pdb in pdbs]\n",
    "    for view in views:\n",
    "        if surface:\n",
    "            view.clear()\n",
    "            view.add_cartoon(color='black')\n",
    "            view.add_surface(color='electrostatic', opacity=0.5)\n",
    "        view.layout.width = '100%'\n",
    "    return ipywidgets.HBox(views)\n",
    "\n",
    "def display_actpass(pdb, actpass, opacity=1):\n",
    "    with open(actpass, 'r') as file:\n",
    "        actpass = file.read().splitlines()\n",
    "        act_res = actpass[0].replace(' ', ', ')\n",
    "        pas_res = actpass[1].replace(' ', ', ')\n",
    "        \n",
    "    # Load the PDB files\n",
    "    view = nv.NGLWidget()\n",
    "    view.add_component(pdb)\n",
    "    view.clear()\n",
    "    view.add_cartoon(color='black')\n",
    "    view.add_ball_and_stick(color='grey',opacity=opacity)\n",
    "    view.add_surface(selection=f'not ( {pas_res}, {act_res} )', color='white', opacity=opacity)\n",
    "    if act_res != '':\n",
    "        view.add_surface(selection=f'{act_res}', color='red')\n",
    "    if pas_res != '':\n",
    "        view.add_surface(selection=f'{pas_res}', color='green', opacity=opacity)\n",
    "    view.layout.width = '100%'\n",
    "    return view"
   ]
  },
  {
   "cell_type": "markdown",
   "metadata": {},
   "source": [
    "# Antibody use case\n",
    "\n",
    "***\n",
    "This tutorial aims to illustrate the process of \n",
    "***\n"
   ]
  },
  {
   "cell_type": "markdown",
   "metadata": {},
   "source": [
    "## Settings"
   ]
  },
  {
   "cell_type": "markdown",
   "metadata": {},
   "source": [
    "### Biobb modules used\n",
    "\n",
    " - [biobb_io](https://github.com/bioexcel/biobb_io): Tools to fetch biomolecular data from public databases.\n",
    " - [biobb_model](https://github.com/bioexcel/biobb_model): Tools to model macromolecular structures.\n",
    " - [biobb_gromacs](https://github.com/bioexcel/biobb_gromacs): Tools to setup and run Molecular Dynamics simulations.\n",
    " - [biobb_analysis](https://github.com/bioexcel/biobb_analysis): Tools to analyse Molecular Dynamics trajectories.\n",
    " \n",
    "### Auxiliar libraries used\n",
    "\n",
    " - [nb_conda_kernels](https://github.com/Anaconda-Platform/nb_conda_kernels): Enables a Jupyter Notebook or JupyterLab application in one conda environment to access kernels for Python, R, and other languages found in other environments.\n",
    " - [nglview](http://nglviewer.org/#nglview): Jupyter/IPython widget to interactively view molecular structures and trajectories in notebooks.\n",
    " - [ipywidgets](https://github.com/jupyter-widgets/ipywidgets): Interactive HTML widgets for Jupyter notebooks and the IPython kernel.\n",
    " - [plotly](https://plot.ly/python/offline/): Python interactive graphing library integrated in Jupyter notebooks.\n",
    " - [simpletraj](https://github.com/arose/simpletraj): Lightweight coordinate-only trajectory reader based on code from GROMACS, MDAnalysis and VMD.\n",
    "\n",
    "### Conda Installation and Launch\n",
    "\n",
    "```console\n",
    "git clone https://github.com/bioexcel/biobb_wf_md_setup.git\n",
    "cd biobb_wf_md_setup\n",
    "conda env create -f conda_env/environment.yml\n",
    "conda activate biobb_GMX_MDsetup_tutorial\n",
    "jupyter nbextension enable python-markdown/main\n",
    "jupyter-notebook biobb_wf_md_setup/notebooks/biobb_MDsetup_tutorial.ipynb\n",
    "```\n",
    "\n",
    "Please execute the following commands before launching the Jupyter Notebook if you experience some issues with widgets such as NGL View (3D molecular visualization):\n",
    "\n",
    "```console\n",
    "jupyter-nbextension enable --py --user widgetsnbextension\n",
    "jupyter-nbextension enable --py --user nglview\n",
    "```\n",
    "\n",
    "***\n"
   ]
  },
  {
   "cell_type": "markdown",
   "metadata": {},
   "source": [
    "## Pipeline steps"
   ]
  },
  {
   "cell_type": "markdown",
   "metadata": {},
   "source": [
    "\n",
    " 1. [Input Parameters](#input)\n",
    " 2. [Fetching PDB Structure](#fetch)\n",
    " 3. [Fix Protein Structure](#fix)\n",
    " 4. [Create Protein System Topology](#top)\n",
    " 5. [Create Solvent Box](#box)\n",
    " 6. [Fill the Box with Water Molecules](#water)\n",
    " 7. [Adding Ions](#ions)\n",
    " 8. [Energetically Minimize the System](#min)\n",
    " 9. [Equilibrate the System (NVT)](#nvt)\n",
    " 10. [Equilibrate the System (NPT)](#npt)\n",
    " 11. [Free Molecular Dynamics Simulation](#free)\n",
    " 12. [Post-processing and Visualizing Resulting 3D Trajectory](#post)\n",
    " 13. [Output Files](#output)\n",
    " 14. [Questions & Comments](#questions)\n",
    " \n",
    "***\n",
    "<img src=\"https://bioexcel.eu/wp-content/uploads/2019/04/Bioexcell_logo_1080px_transp.png\" alt=\"Bioexcel2 logo\"\n",
    "    title=\"Bioexcel2 logo\" width=\"400\" />\n",
    "***\n"
   ]
  },
  {
   "cell_type": "markdown",
   "metadata": {},
   "source": [
    "## Sampling using ensemble from MD with GROMACS"
   ]
  },
  {
   "cell_type": "code",
   "execution_count": null,
   "metadata": {},
   "outputs": [],
   "source": [
    "# https://mmb.irbbarcelona.org/biobb/workflows/tutorials/biobb_wf_flexdyn ?\n",
    "# https://github.com/bioexcel/biobb_wf_flexdyn\n",
    "# https://github.com/alevil-gmx/workflow_template/blob/main/workflow_template/workshop-template-ab.ipynb"
   ]
  },
  {
   "cell_type": "markdown",
   "metadata": {},
   "source": [
    "<a id=\"input\"></a>\n",
    "### Input parameters\n",
    "**Input parameters** needed:\n",
    " - **pdbCode**: PDB code of the protein structure (e.g. 1AKI)"
   ]
  },
  {
   "cell_type": "code",
   "execution_count": 40,
   "metadata": {},
   "outputs": [],
   "source": [
    "cwd = os.getcwd()\n",
    "MD_dir = out_path+'1_MD/'\n",
    "MD_inp = MD_dir+'input/'\n",
    "os.makedirs(MD_inp, exist_ok=True) \n",
    "pdbCode = \"4G6K\""
   ]
  },
  {
   "cell_type": "markdown",
   "metadata": {},
   "source": [
    "<a id=\"fetch\"></a>\n",
    "***\n",
    "### Fetching PDB structure\n",
    "Downloading **PDB structure** with the **protein molecule** from the RCSB PDB database.<br>\n",
    "Alternatively, a **PDB file** can be used as starting structure. <br>\n",
    "***\n",
    "**Building Blocks** used:\n",
    " - [Pdb](https://biobb-io.readthedocs.io/en/latest/api.html#module-api.pdb) from **biobb_io.api.pdb**\n",
    "***"
   ]
  },
  {
   "cell_type": "code",
   "execution_count": 6,
   "metadata": {},
   "outputs": [
    {
     "name": "stdout",
     "output_type": "stream",
     "text": [
      "2025-06-04 10:22:57,873 [MainThread  ] [INFO ]  Module: biobb_io.api.pdb Version: 5.0.1\n",
      "2025-06-04 10:22:57,873 [MainThread  ] [INFO ]  Downloading 4g6k from: https://www.ebi.ac.uk/pdbe/entry-files/download/pdb4g6k.ent\n",
      "2025-06-04 10:22:58,182 [MainThread  ] [INFO ]  Writting pdb to: data/antibody/1_MD/4G6K.pdb\n",
      "2025-06-04 10:22:58,182 [MainThread  ] [INFO ]  Filtering lines NOT starting with one of these words: ['ATOM', 'MODEL', 'ENDMDL']\n",
      "2025-06-04 10:22:58,186 [MainThread  ] [INFO ]  \n"
     ]
    },
    {
     "data": {
      "text/plain": [
       "0"
      ]
     },
     "execution_count": 6,
     "metadata": {},
     "output_type": "execute_result"
    }
   ],
   "source": [
    "# Downloading desired PDB file \n",
    "# Import module\n",
    "from biobb_io.api.pdb import pdb\n",
    "\n",
    "# Create properties dict and inputs/outputs\n",
    "downloaded_pdb = f'{MD_dir}{pdbCode}.pdb'\n",
    "prop = {\n",
    "    'pdb_code': pdbCode\n",
    "}\n",
    "\n",
    "# Create and launch bb\n",
    "pdb(output_pdb_path=downloaded_pdb,\n",
    "    properties=def_dict(prop))"
   ]
  },
  {
   "cell_type": "markdown",
   "metadata": {},
   "source": [
    "<a id=\"vis3D\"></a>\n",
    "#### Visualizing 3D structure\n",
    "Visualizing the downloaded/given **PDB structure** using **NGL**:    "
   ]
  },
  {
   "cell_type": "code",
   "execution_count": null,
   "metadata": {},
   "outputs": [
    {
     "data": {
      "application/vnd.jupyter.widget-view+json": {
       "model_id": "9bcc1b51d3004ceca560edda00d8ac7b",
       "version_major": 2,
       "version_minor": 0
      },
      "text/plain": [
       "NGLWidget()"
      ]
     },
     "metadata": {},
     "output_type": "display_data"
    }
   ],
   "source": [
    "# Show protein\n",
    "view = nv.show_structure_file(downloaded_pdb)\n",
    "view.add_representation(repr_type='ball+stick', selection='all')\n",
    "view._remote_call('setSize', target='Widget', args=['','600px'])\n",
    "view"
   ]
  },
  {
   "cell_type": "markdown",
   "metadata": {},
   "source": [
    "<a id=\"fix\"></a>\n",
    "***\n",
    "### Fix protein structure\n",
    "**Checking** and **fixing** (if needed) the protein structure:<br>\n",
    "- **Modeling** **missing side-chain atoms**, modifying incorrect **amide assignments**, choosing **alternative locations**.<br>\n",
    "- **Checking** for missing **backbone atoms**, **heteroatoms**, **modified residues** and possible **atomic clashes**.\n",
    "\n",
    "***\n",
    "**Building Blocks** used:\n",
    " - [FixSideChain](https://biobb-model.readthedocs.io/en/latest/model.html#module-model.fix_side_chain) from **biobb_model.model.fix_side_chain**\n",
    "***"
   ]
  },
  {
   "cell_type": "code",
   "execution_count": 181,
   "metadata": {},
   "outputs": [
    {
     "name": "stdout",
     "output_type": "stream",
     "text": [
      "2025-06-04 15:11:28,210 [MainThread  ] [INFO ]  Module: biobb_model.model.fix_side_chain Version: 5.0.0\n",
      "2025-06-04 15:11:28,211 [MainThread  ] [INFO ]  /home/rchaves/repo/biobb/biobb_wf_antibody/biobb_wf_antibody/notebooks/sandbox_46bb2f6b-973c-45f8-85cc-935e5bc9b9a6 directory successfully created\n",
      "2025-06-04 15:11:28,211 [MainThread  ] [INFO ]  Copy: data/antibody/1_MD/4G6K.pdb to /home/rchaves/repo/biobb/biobb_wf_antibody/biobb_wf_antibody/notebooks/sandbox_46bb2f6b-973c-45f8-85cc-935e5bc9b9a6\n",
      "2025-06-04 15:11:28,212 [MainThread  ] [INFO ]  check_structure -i /home/rchaves/repo/biobb/biobb_wf_antibody/biobb_wf_antibody/notebooks/sandbox_46bb2f6b-973c-45f8-85cc-935e5bc9b9a6/4G6K.pdb -o /home/rchaves/repo/biobb/biobb_wf_antibody/biobb_wf_antibody/notebooks/sandbox_46bb2f6b-973c-45f8-85cc-935e5bc9b9a6/4G6K_fixed.pdb --force_save fixside --fix ALL\n",
      "\n",
      "2025-06-04 15:11:28,435 [MainThread  ] [INFO ]  Executing: check_structure -i /home/rchaves/repo/biobb/biobb_wf_antibody/biobb_wf_antibody/...\n",
      "2025-06-04 15:11:28,435 [MainThread  ] [INFO ]  Exit code: 0\n",
      "2025-06-04 15:11:28,436 [MainThread  ] [INFO ]  ================================================================================\n",
      "=                   BioBB structure checking utility v3.13.5                   =\n",
      "=            P. Andrio, A. Hospital, G. Bayarri, J.L. Gelpi 2018-23            =\n",
      "================================================================================\n",
      "\n",
      "Warning: sequence features may not be available, use --sequence for  external fasta input\n",
      "Structure /home/rchaves/repo/biobb/biobb_wf_antibody/biobb_wf_antibody/notebooks/sandbox_46bb2f6b-973c-45f8-85cc-935e5bc9b9a6/4G6K.pdb loaded\n",
      " PDB id:  \n",
      " Title: \n",
      " Experimental method: unknown\n",
      " Resolution (A): N.A.\n",
      "\n",
      " Num. models: 1\n",
      " Num. chains: 2 (H: Protein, L: Protein)\n",
      " Num. residues:  432\n",
      " Num. residues with ins. codes:  0\n",
      " Num. residues with H atoms: 0\n",
      " Num. HETATM residues:  0\n",
      " Num. ligands or modified residues:  0\n",
      " Num. water mol.:  0\n",
      " Num. atoms:  3291\n",
      "Running fixside. Options: --fix ALL\n",
      "Found no residues with missing or unknown side chain atoms\n",
      "Structure not modified, saving due to --force_save option\n",
      "Final Num. models: 1\n",
      "Final Num. chains: 2 (H: Protein, L: Protein)\n",
      "Final Num. residues:  432\n",
      "Final Num. residues with ins. codes:  0\n",
      "Final Num. residues with H atoms: 0\n",
      "Final Num. HETATM residues:  0\n",
      "Final Num. ligands or modified residues:  0\n",
      "Final Num. water mol.:  0\n",
      "Final Num. atoms:  3291\n",
      "Structure saved on /home/rchaves/repo/biobb/biobb_wf_antibody/biobb_wf_antibody/notebooks/sandbox_46bb2f6b-973c-45f8-85cc-935e5bc9b9a6/4G6K_fixed.pdb\n",
      "\n",
      "2025-06-04 15:11:28,437 [MainThread  ] [INFO ]  Removed: ['/home/rchaves/repo/biobb/biobb_wf_antibody/biobb_wf_antibody/notebooks/sandbox_46bb2f6b-973c-45f8-85cc-935e5bc9b9a6']\n",
      "2025-06-04 15:11:28,437 [MainThread  ] [INFO ]  \n"
     ]
    },
    {
     "data": {
      "text/plain": [
       "0"
      ]
     },
     "execution_count": 181,
     "metadata": {},
     "output_type": "execute_result"
    }
   ],
   "source": [
    "# Check & Fix PDB\n",
    "# Import module\n",
    "from biobb_model.model.fix_side_chain import fix_side_chain\n",
    "\n",
    "# Create prop dict and inputs/outputs\n",
    "fixed_pdb = f'{MD_dir}{pdbCode}_fixed.pdb'\n",
    "\n",
    "# Create and launch bb\n",
    "fix_side_chain(input_pdb_path=downloaded_pdb, \n",
    "               output_pdb_path=fixed_pdb,\n",
    "               properties=def_dict())"
   ]
  },
  {
   "cell_type": "markdown",
   "metadata": {},
   "source": [
    "#### Visualizing 3D structure\n",
    "Visualizing the fixed **PDB structure** using **NGL**. In this particular example, the checking step didn't find any issue to be solved, so there is no difference between the original structure and the fixed one.   "
   ]
  },
  {
   "cell_type": "code",
   "execution_count": 8,
   "metadata": {},
   "outputs": [
    {
     "data": {
      "application/vnd.jupyter.widget-view+json": {
       "model_id": "b31ed8921f2148aa8bfc24ae223554fe",
       "version_major": 2,
       "version_minor": 0
      },
      "text/plain": [
       "NGLWidget()"
      ]
     },
     "metadata": {},
     "output_type": "display_data"
    }
   ],
   "source": [
    "# Show protein\n",
    "view = nv.show_structure_file(fixed_pdb)\n",
    "view.add_representation(repr_type='ball+stick', selection='all')\n",
    "view._remote_call('setSize', target='Widget', args=['','600px'])\n",
    "view.camera='orthographic'\n",
    "view"
   ]
  },
  {
   "cell_type": "markdown",
   "metadata": {},
   "source": [
    "<a id=\"top\"></a>\n",
    "***\n",
    "### Create protein system topology\n",
    "**Building GROMACS topology** corresponding to the protein structure.<br>\n",
    "Force field used in this tutorial is [**amber99sb-ildn**](https://dx.doi.org/10.1002%2Fprot.22711): AMBER **parm99** force field with **corrections on backbone** (sb) and **side-chain torsion potentials** (ildn). Water molecules type used in this tutorial is [**spc/e**](https://pubs.acs.org/doi/abs/10.1021/j100308a038).<br>\n",
    "Adding **hydrogen atoms** if missing. Automatically identifying **disulfide bridges**. <br>\n",
    "\n",
    "Generating two output files: \n",
    "- **GROMACS structure** (gro file)\n",
    "- **GROMACS topology** ZIP compressed file containing:\n",
    "    - *GROMACS topology top file* (top file)\n",
    "    - *GROMACS position restraint file/s* (itp file/s)\n",
    "***\n",
    "**Building Blocks** used:\n",
    " - [Pdb2gmx](https://biobb-md.readthedocs.io/en/latest/gromacs.html#module-gromacs.pdb2gmx) from **biobb_gromacs.gromacs.pdb2gmx**\n",
    "***"
   ]
  },
  {
   "cell_type": "code",
   "execution_count": 9,
   "metadata": {},
   "outputs": [
    {
     "name": "stdout",
     "output_type": "stream",
     "text": [
      "  % Total    % Received % Xferd  Average Speed   Time    Time     Time  Current\n",
      "                                 Dload  Upload   Total   Spent    Left  Speed\n",
      "100  586k  100  586k    0     0   162k      0  0:00:03  0:00:03 --:--:--  162k\n",
      "charmm36-jul2017.ff/\n",
      "charmm36-jul2017.ff/spc.itp\n",
      "charmm36-jul2017.ff/ffbonded.itp\n",
      "charmm36-jul2017.ff/merged.rtp\n",
      "charmm36-jul2017.ff/nbfix.itp\n",
      "charmm36-jul2017.ff/gb.itp\n",
      "charmm36-jul2017.ff/forcefield.doc\n",
      "charmm36-jul2017.ff/merged.hdb\n",
      "charmm36-jul2017.ff/ions.itp\n",
      "charmm36-jul2017.ff/merged.arn\n",
      "charmm36-jul2017.ff/merged.vsd\n",
      "charmm36-jul2017.ff/spce.itp\n",
      "charmm36-jul2017.ff/old_c36_cmap.itp\n",
      "charmm36-jul2017.ff/ffnonbonded.itp\n",
      "charmm36-jul2017.ff/atomtypes.atp\n",
      "charmm36-jul2017.ff/merged.c.tdb\n",
      "charmm36-jul2017.ff/forcefield.itp\n",
      "charmm36-jul2017.ff/watermodels.dat\n",
      "charmm36-jul2017.ff/tip4p.itp\n",
      "charmm36-jul2017.ff/cmap.itp\n",
      "charmm36-jul2017.ff/merged.n.tdb\n",
      "charmm36-jul2017.ff/tip3p.itp\n",
      "charmm36-jul2017.ff/merged.r2b\n"
     ]
    }
   ],
   "source": [
    "# Downloading CHARMM36 FF\n",
    "!curl  -o {MD_inp}charmm36-jul2017.ff.tgz https://mackerell.umaryland.edu/download.php?filename=CHARMM_ff_params_files/charmm36-jul2017.ff.tgz\n",
    "# Unzip CHARMM36 FF\n",
    "!tar -xvzf {MD_inp}charmm36-jul2017.ff.tgz -C {MD_inp}"
   ]
  },
  {
   "cell_type": "code",
   "execution_count": 10,
   "metadata": {},
   "outputs": [
    {
     "name": "stdout",
     "output_type": "stream",
     "text": [
      "2025-06-04 10:23:10,718 [MainThread  ] [INFO ]  Module: biobb_gromacs.gromacs.pdb2gmx Version: 5.0.0\n",
      "2025-06-04 10:23:10,719 [MainThread  ] [INFO ]  /home/rchaves/repo/biobb/biobb_wf_antibody/biobb_wf_antibody/notebooks/sandbox_789d6e3f-9f0c-4f99-bbea-bf3693f7b5b1 directory successfully created\n",
      "2025-06-04 10:23:10,719 [MainThread  ] [INFO ]  Copy: data/antibody/1_MD/4G6K_fixed.pdb to /home/rchaves/repo/biobb/biobb_wf_antibody/biobb_wf_antibody/notebooks/sandbox_789d6e3f-9f0c-4f99-bbea-bf3693f7b5b1\n",
      "2025-06-04 10:23:10,720 [MainThread  ] [INFO ]  gmx -nobackup -nocopyright pdb2gmx -f /home/rchaves/repo/biobb/biobb_wf_antibody/biobb_wf_antibody/notebooks/sandbox_789d6e3f-9f0c-4f99-bbea-bf3693f7b5b1/4G6K_fixed.pdb -o /home/rchaves/repo/biobb/biobb_wf_antibody/biobb_wf_antibody/notebooks/sandbox_789d6e3f-9f0c-4f99-bbea-bf3693f7b5b1/4G6K__pdb2gmx.gro -p p2g.top -water tip3p -ff charmm36-jul2017 -i posre.itp\n",
      "\n",
      "2025-06-04 10:23:11,336 [MainThread  ] [INFO ]  Executing: gmx -nobackup -nocopyright pdb2gmx -f /home/rchaves/repo/biobb/biobb_wf_antibody...\n",
      "2025-06-04 10:23:11,336 [MainThread  ] [INFO ]  Exit code: 0\n",
      "2025-06-04 10:23:11,337 [MainThread  ] [INFO ]  Using the Charmm36-jul2017 force field in directory /home/rchaves/repo/biobb/biobb_wf_antibody/biobb_wf_antibody/notebooks/data/antibody/1_MD/input//charmm36-jul2017.ff\n",
      "\n",
      "going to rename /home/rchaves/repo/biobb/biobb_wf_antibody/biobb_wf_antibody/notebooks/data/antibody/1_MD/input//charmm36-jul2017.ff/merged.r2b\n",
      "Reading /home/rchaves/repo/biobb/biobb_wf_antibody/biobb_wf_antibody/notebooks/sandbox_789d6e3f-9f0c-4f99-bbea-bf3693f7b5b1/4G6K_fixed.pdb...\n",
      "Read '', 3291 atoms\n",
      "\n",
      "Analyzing pdb file\n",
      "Splitting chemical chains based on TER records or chain id changing.\n",
      "\n",
      "There are 2 chains and 0 blocks of water and 432 residues with 3291 atoms\n",
      "\n",
      "  chain  #res #atoms\n",
      "\n",
      "  1 'H'   220   1649  \n",
      "\n",
      "  2 'L'   212   1642  \n",
      "\n",
      "there were 70 atoms with zero occupancy and 0 atoms with          occupancy unequal to one (out of 3291 atoms). Check your pdb file.\n",
      "\n",
      "Reading residue database... (Charmm36-jul2017)\n",
      "\n",
      "Processing chain 1 'H' (1649 atoms, 220 residues)\n",
      "\n",
      "Identified residue GLN1 as a starting terminus.\n",
      "\n",
      "Identified residue PRO220 as a ending terminus.\n",
      "Start terminus GLN-1: NH3+\n",
      "End terminus PRO-220: COO-\n",
      "\n",
      "Checking for duplicate atoms....\n",
      "\n",
      "Generating any missing hydrogen atoms and/or adding termini.\n",
      "\n",
      "Now there are 220 residues with 3272 atoms\n",
      "Chain time...\n",
      "\n",
      "Making bonds...\n",
      "\n",
      "Number of bonds was 3318, now 3318\n",
      "\n",
      "Generating angles, dihedrals and pairs...\n",
      "\n",
      "Making cmap torsions...\n",
      "\n",
      "There are  218 cmap torsion pairs\n",
      "\n",
      "There are 8857 dihedrals,  549 impropers, 6001 angles\n",
      "          8672 pairs,     3318 bonds and     0 virtual sites\n",
      "\n",
      "Total mass 23400.367 a.m.u.\n",
      "\n",
      "Total charge 4.000 e\n",
      "\n",
      "Writing topology\n",
      "\n",
      "Processing chain 2 'L' (1642 atoms, 212 residues)\n",
      "\n",
      "Identified residue ASP1 as a starting terminus.\n",
      "\n",
      "Identified residue GLY212 as a ending terminus.\n",
      "Start terminus ASP-1: NH3+\n",
      "End terminus GLY-212: COO-\n",
      "\n",
      "Checking for duplicate atoms....\n",
      "\n",
      "Generating any missing hydrogen atoms and/or adding termini.\n",
      "\n",
      "Now there are 212 residues with 3253 atoms\n",
      "Chain time...\n",
      "\n",
      "Making bonds...\n",
      "\n",
      "Number of bonds was 3289, now 3289\n",
      "\n",
      "Generating angles, dihedrals and pairs...\n",
      "\n",
      "Making cmap torsions...\n",
      "\n",
      "There are  210 cmap torsion pairs\n",
      "\n",
      "There are 8714 dihedrals,  561 impropers, 5926 angles\n",
      "          8581 pairs,     3289 bonds and     0 virtual sites\n",
      "\n",
      "Total mass 23346.175 a.m.u.\n",
      "\n",
      "Total charge 3.000 e\n",
      "\n",
      "Writing topology\n",
      "\n",
      "Including chain 1 in system: 3272 atoms 220 residues\n",
      "\n",
      "Including chain 2 in system: 3253 atoms 212 residues\n",
      "\n",
      "Now there are 6525 atoms and 432 residues\n",
      "\n",
      "Total mass in system 46746.543 a.m.u.\n",
      "\n",
      "Total charge in system 7.000 e\n",
      "\n",
      "Writing coordinate file...\n",
      "\n",
      "\t\t--------- PLEASE NOTE ------------\n",
      "\n",
      "You have successfully generated a topology from: /home/rchaves/repo/biobb/biobb_wf_antibody/biobb_wf_antibody/notebooks/sandbox_789d6e3f-9f0c-4f99-bbea-bf3693f7b5b1/4G6K_fixed.pdb.\n",
      "\n",
      "The Charmm36-jul2017 force field and the tip3p water model are used.\n",
      "\n",
      "\t\t--------- ETON ESAELP ------------\n",
      "\n",
      "2025-06-04 10:23:11,337 [MainThread  ] [INFO ]                 :-) GROMACS - gmx pdb2gmx, 2022.2-conda_forge (-:\n",
      "\n",
      "Executable:   /home/rchaves/miniforge3/envs/biobb_wf_antibody/bin.AVX2_256/gmx\n",
      "Data prefix:  /home/rchaves/miniforge3/envs/biobb_wf_antibody\n",
      "Working dir:  /home/rchaves/repo/biobb/biobb_wf_antibody/biobb_wf_antibody/notebooks\n",
      "Command line:\n",
      "  gmx -nobackup -nocopyright pdb2gmx -f /home/rchaves/repo/biobb/biobb_wf_antibody/biobb_wf_antibody/notebooks/sandbox_789d6e3f-9f0c-4f99-bbea-bf3693f7b5b1/4G6K_fixed.pdb -o /home/rchaves/repo/biobb/biobb_wf_antibody/biobb_wf_antibody/notebooks/sandbox_789d6e3f-9f0c-4f99-bbea-bf3693f7b5b1/4G6K__pdb2gmx.gro -p p2g.top -water tip3p -ff charmm36-jul2017 -i posre.itp\n",
      "\n",
      "Opening force field file /home/rchaves/repo/biobb/biobb_wf_antibody/biobb_wf_antibody/notebooks/data/antibody/1_MD/input//charmm36-jul2017.ff/merged.r2b\n",
      "there were 70 atoms with zero occupancy and 0 atoms with          occupancy unequal to one (out of 3291 atoms). Check your pdb file.\n",
      "Opening force field file /home/rchaves/repo/biobb/biobb_wf_antibody/biobb_wf_antibody/notebooks/data/antibody/1_MD/input//charmm36-jul2017.ff/atomtypes.atp\n",
      "Opening force field file /home/rchaves/repo/biobb/biobb_wf_antibody/biobb_wf_antibody/notebooks/data/antibody/1_MD/input//charmm36-jul2017.ff/merged.rtp\n",
      "Opening force field file /home/rchaves/repo/biobb/biobb_wf_antibody/biobb_wf_antibody/notebooks/data/antibody/1_MD/input//charmm36-jul2017.ff/merged.hdb\n",
      "Opening force field file /home/rchaves/repo/biobb/biobb_wf_antibody/biobb_wf_antibody/notebooks/data/antibody/1_MD/input//charmm36-jul2017.ff/merged.n.tdb\n",
      "Opening force field file /home/rchaves/repo/biobb/biobb_wf_antibody/biobb_wf_antibody/notebooks/data/antibody/1_MD/input//charmm36-jul2017.ff/merged.c.tdb\n",
      "Analysing hydrogen-bonding network for automated assignment of histidine\n",
      " protonation. 338 donors and 324 acceptors were found.\n",
      "There are 538 hydrogen bonds\n",
      "Will use HISE for residue 52\n",
      "Will use HISE for residue 171\n",
      "Will use HISE for residue 207\n",
      "8 out of 8 lines of specbond.dat converted successfully\n",
      "Special Atom Distance matrix:\n",
      "                   CYS22   MET34   HIS52   CYS97  CYS147  HIS171  CYS203\n",
      "                   SG160   SD242  NE2384   SG738  SG1098 NE21282  SG1512\n",
      "   MET34   SD242   1.150\n",
      "   HIS52  NE2384   1.100   0.868\n",
      "   CYS97   SG738   0.205   1.239   1.129\n",
      "  CYS147  SG1098   3.398   4.328   4.322   3.268\n",
      "  HIS171 NE21282   3.229   3.887   3.872   3.053   1.548\n",
      "  CYS203  SG1512   3.256   4.191   4.204   3.135   0.203   1.613\n",
      "  HIS207 NE21545   2.473   3.596   3.381   2.370   1.627   2.438   1.532\n",
      "                \n",
      "                \n",
      "Linking CYS-22 SG-160 and CYS-97 SG-738...\n",
      "Linking CYS-147 SG-1098 and CYS-203 SG-1512...\n",
      "Opening force field file /home/rchaves/repo/biobb/biobb_wf_antibody/biobb_wf_antibody/notebooks/data/antibody/1_MD/input//charmm36-jul2017.ff/merged.arn\n",
      "Before cleaning: 8732 pairs\n",
      "Before cleaning: 8857 dihedrals\n",
      "Analysing hydrogen-bonding network for automated assignment of histidine\n",
      " protonation. 336 donors and 330 acceptors were found.\n",
      "There are 537 hydrogen bonds\n",
      "Will use HISE for residue 55\n",
      "Will use HISE for residue 189\n",
      "Will use HISE for residue 198\n",
      "8 out of 8 lines of specbond.dat converted successfully\n",
      "Special Atom Distance matrix:\n",
      "                    MET4   CYS23   HIS55   CYS88   MET93  CYS134  HIS189\n",
      "                    SD32   SG164  NE2433   SG679   SD716  SG1027 NE21467\n",
      "   CYS23   SG164   0.481\n",
      "   HIS55  NE2433   2.086   1.904\n",
      "   CYS88   SG679   0.538   0.205   1.792\n",
      "   MET93   SD716   1.068   1.537   2.652   1.583\n",
      "  CYS134  SG1027   4.416   4.128   4.220   3.980   5.299\n",
      "  HIS189 NE21467   5.631   5.445   5.751   5.297   6.358   1.824\n",
      "  CYS194  SG1506   4.471   4.185   4.357   4.043   5.356   0.203   1.716\n",
      "  HIS198 NE21539   3.649   3.276   3.578   3.168   4.651   1.308   2.971\n",
      "                  CYS194\n",
      "                  SG1506\n",
      "  HIS198 NE21539   1.324\n",
      "Linking CYS-23 SG-164 and CYS-88 SG-679...\n",
      "Linking CYS-134 SG-1027 and CYS-194 SG-1506...\n",
      "Opening force field file /home/rchaves/repo/biobb/biobb_wf_antibody/biobb_wf_antibody/notebooks/data/antibody/1_MD/input//charmm36-jul2017.ff/merged.arn\n",
      "Before cleaning: 8644 pairs\n",
      "Before cleaning: 8714 dihedrals\n",
      "\n",
      "GROMACS reminds you: \"The public have an insatiable curiosity to know everything, except what is worth knowing.\" (Oscar Wilde)\n",
      "\n",
      "\n",
      "2025-06-04 10:23:11,338 [MainThread  ] [INFO ]  Compressing topology to: data/antibody/1_MD/4G6K__pdb2gmx_top.zip\n",
      "2025-06-04 10:23:11,339 [MainThread  ] [INFO ]  Ignored file charmm36-jul2017.ff/forcefield.itp\n",
      "2025-06-04 10:23:11,348 [MainThread  ] [INFO ]  Ignored file charmm36-jul2017.ff/tip3p.itp\n",
      "2025-06-04 10:23:11,349 [MainThread  ] [INFO ]  Ignored file charmm36-jul2017.ff/ions.itp\n",
      "2025-06-04 10:23:11,353 [MainThread  ] [INFO ]  Adding:\n",
      "2025-06-04 10:23:11,354 [MainThread  ] [INFO ]  ['p2g.top', 'p2g_Protein_chain_H.itp', 'p2g_Protein_chain_L.itp', 'posre_Protein_chain_H.itp', 'posre_Protein_chain_L.itp']\n",
      "2025-06-04 10:23:11,354 [MainThread  ] [INFO ]  to: /home/rchaves/repo/biobb/biobb_wf_antibody/biobb_wf_antibody/notebooks/data/antibody/1_MD/4G6K__pdb2gmx_top.zip\n",
      "2025-06-04 10:23:11,355 [MainThread  ] [INFO ]  Removed: ['posre_Protein_chain_H.itp', 'p2g_Protein_chain_H.itp', 'posre_Protein_chain_L.itp', 'p2g_Protein_chain_L.itp', 'p2g.top']\n",
      "2025-06-04 10:23:11,356 [MainThread  ] [INFO ]  Removed: ['/home/rchaves/repo/biobb/biobb_wf_antibody/biobb_wf_antibody/notebooks/sandbox_789d6e3f-9f0c-4f99-bbea-bf3693f7b5b1']\n",
      "2025-06-04 10:23:11,356 [MainThread  ] [INFO ]  \n"
     ]
    },
    {
     "data": {
      "text/plain": [
       "0"
      ]
     },
     "execution_count": 10,
     "metadata": {},
     "output_type": "execute_result"
    }
   ],
   "source": [
    "# Create system topology\n",
    "# Import module\n",
    "from biobb_gromacs.gromacs.pdb2gmx import pdb2gmx\n",
    "\n",
    "# Create inputs/outputs\n",
    "output_pdb2gmx_gro     = f'{MD_dir}{pdbCode}__pdb2gmx.gro'\n",
    "output_pdb2gmx_top_zip = f'{MD_dir}{pdbCode}__pdb2gmx_top.zip'\n",
    "\n",
    "prop = {\n",
    "    'force_field' : 'charmm36-jul2017',\n",
    "    'gmx_lib' : f'{cwd}/{MD_inp}',\n",
    "    'water_type' : 'tip3p',\n",
    "    #'force_field' : 'amber99sb-ildn'\n",
    "}\n",
    "\n",
    "# Create and launch bb\n",
    "pdb2gmx(input_pdb_path=fixed_pdb, \n",
    "        output_gro_path=output_pdb2gmx_gro, \n",
    "        output_top_zip_path=output_pdb2gmx_top_zip,\n",
    "        properties=def_dict(prop))"
   ]
  },
  {
   "cell_type": "markdown",
   "metadata": {},
   "source": [
    "#### Visualizing 3D structure\n",
    "Visualizing the generated **GRO structure** using **NGL**. Note that **hydrogen atoms** were added to the structure by the **pdb2gmx GROMACS tool** when generating the **topology**.    "
   ]
  },
  {
   "cell_type": "code",
   "execution_count": 11,
   "metadata": {},
   "outputs": [
    {
     "data": {
      "application/vnd.jupyter.widget-view+json": {
       "model_id": "821a009c0526405587bdbf28262a954d",
       "version_major": 2,
       "version_minor": 0
      },
      "text/plain": [
       "NGLWidget()"
      ]
     },
     "metadata": {},
     "output_type": "display_data"
    }
   ],
   "source": [
    "# Show protein\n",
    "view = nv.show_structure_file(output_pdb2gmx_gro)\n",
    "view.add_representation(repr_type='ball+stick', selection='all')\n",
    "view._remote_call('setSize', target='Widget', args=['','600px'])\n",
    "view.camera='orthographic'\n",
    "view"
   ]
  },
  {
   "cell_type": "markdown",
   "metadata": {},
   "source": [
    "<a id=\"box\"></a>\n",
    "***\n",
    "### Create solvent box\n",
    "Define the unit cell for the **protein structure MD system** to fill it with water molecules.<br>\n",
    "A **cubic box** is used to define the unit cell, with a **distance from the protein to the box edge of 1.0 nm**. The protein is **centered in the box**.  \n",
    "\n",
    "***\n",
    "**Building Blocks** used:\n",
    " - [Editconf](https://biobb-md.readthedocs.io/en/latest/gromacs.html#module-gromacs.editconf) from **biobb_gromacs.gromacs.editconf** \n",
    "***"
   ]
  },
  {
   "cell_type": "code",
   "execution_count": 12,
   "metadata": {},
   "outputs": [
    {
     "name": "stdout",
     "output_type": "stream",
     "text": [
      "2025-06-04 10:23:11,490 [MainThread  ] [INFO ]  Module: biobb_gromacs.gromacs.editconf Version: 5.0.0\n",
      "2025-06-04 10:23:11,491 [MainThread  ] [INFO ]  /home/rchaves/repo/biobb/biobb_wf_antibody/biobb_wf_antibody/notebooks/sandbox_9102d68a-bbfd-4693-aade-279df55d9e4a directory successfully created\n",
      "2025-06-04 10:23:11,492 [MainThread  ] [INFO ]  Copy: data/antibody/1_MD/4G6K__pdb2gmx.gro to /home/rchaves/repo/biobb/biobb_wf_antibody/biobb_wf_antibody/notebooks/sandbox_9102d68a-bbfd-4693-aade-279df55d9e4a\n",
      "2025-06-04 10:23:11,493 [MainThread  ] [INFO ]  Distance of the box to molecule:   0.70\n",
      "2025-06-04 10:23:11,493 [MainThread  ] [INFO ]  Centering molecule in the box.\n",
      "2025-06-04 10:23:11,494 [MainThread  ] [INFO ]  Box type: dodecahedron\n",
      "2025-06-04 10:23:11,494 [MainThread  ] [INFO ]  gmx -nobackup -nocopyright editconf -f /home/rchaves/repo/biobb/biobb_wf_antibody/biobb_wf_antibody/notebooks/sandbox_9102d68a-bbfd-4693-aade-279df55d9e4a/4G6K__pdb2gmx.gro -o /home/rchaves/repo/biobb/biobb_wf_antibody/biobb_wf_antibody/notebooks/sandbox_9102d68a-bbfd-4693-aade-279df55d9e4a/4G6K_editconf.gro -bt dodecahedron -d 0.7 -c\n",
      "\n"
     ]
    },
    {
     "name": "stdout",
     "output_type": "stream",
     "text": [
      "2025-06-04 10:23:11,529 [MainThread  ] [INFO ]  Executing: gmx -nobackup -nocopyright editconf -f /home/rchaves/repo/biobb/biobb_wf_antibod...\n",
      "2025-06-04 10:23:11,530 [MainThread  ] [INFO ]  Exit code: 0\n",
      "2025-06-04 10:23:11,530 [MainThread  ] [INFO ]  Note that major changes are planned in future for editconf, to improve usability and utility.\n",
      "Read 6525 atoms\n",
      "Volume: 244.744 nm^3, corresponds to roughly 110100 electrons\n",
      "No velocities found\n",
      "    system size :  6.427  5.139  7.410 (nm)\n",
      "    diameter    :  7.999               (nm)\n",
      "    center      :  4.070  2.468 -2.706 (nm)\n",
      "    box vectors :  6.427  5.139  7.410 (nm)\n",
      "    box angles  :  90.00  90.00  90.00 (degrees)\n",
      "    box volume  : 244.74               (nm^3)\n",
      "    shift       :  2.979  4.582  6.029 (nm)\n",
      "new center      :  7.049  7.049  3.323 (nm)\n",
      "new box vectors :  9.399  9.399  9.399 (nm)\n",
      "new box angles  :  60.00  60.00  90.00 (degrees)\n",
      "new box volume  : 587.15               (nm^3)\n",
      "\n",
      "2025-06-04 10:23:11,530 [MainThread  ] [INFO ]                 :-) GROMACS - gmx editconf, 2022.2-conda_forge (-:\n",
      "\n",
      "Executable:   /home/rchaves/miniforge3/envs/biobb_wf_antibody/bin.AVX2_256/gmx\n",
      "Data prefix:  /home/rchaves/miniforge3/envs/biobb_wf_antibody\n",
      "Working dir:  /home/rchaves/repo/biobb/biobb_wf_antibody/biobb_wf_antibody/notebooks\n",
      "Command line:\n",
      "  gmx -nobackup -nocopyright editconf -f /home/rchaves/repo/biobb/biobb_wf_antibody/biobb_wf_antibody/notebooks/sandbox_9102d68a-bbfd-4693-aade-279df55d9e4a/4G6K__pdb2gmx.gro -o /home/rchaves/repo/biobb/biobb_wf_antibody/biobb_wf_antibody/notebooks/sandbox_9102d68a-bbfd-4693-aade-279df55d9e4a/4G6K_editconf.gro -bt dodecahedron -d 0.7 -c\n",
      "\n",
      "\n",
      "GROMACS reminds you: \"The public have an insatiable curiosity to know everything, except what is worth knowing.\" (Oscar Wilde)\n",
      "\n",
      "\n",
      "2025-06-04 10:23:11,532 [MainThread  ] [INFO ]  Removed: ['/home/rchaves/repo/biobb/biobb_wf_antibody/biobb_wf_antibody/notebooks/sandbox_9102d68a-bbfd-4693-aade-279df55d9e4a']\n",
      "2025-06-04 10:23:11,532 [MainThread  ] [INFO ]  \n"
     ]
    },
    {
     "data": {
      "text/plain": [
       "0"
      ]
     },
     "execution_count": 12,
     "metadata": {},
     "output_type": "execute_result"
    }
   ],
   "source": [
    "# Editconf: Create solvent box\n",
    "# Import module\n",
    "from biobb_gromacs.gromacs.editconf import editconf\n",
    "\n",
    "# Create prop dict and inputs/outputs\n",
    "output_editconf_gro = f'{MD_dir}{pdbCode}_editconf.gro'\n",
    "\n",
    "prop = {\n",
    "    'box_type': 'dodecahedron',\n",
    "    'distance_to_molecule': 0.7\n",
    "}\n",
    "\n",
    "#Create and launch bb\n",
    "editconf(input_gro_path=output_pdb2gmx_gro, \n",
    "         output_gro_path=output_editconf_gro,\n",
    "         properties=def_dict(prop))"
   ]
  },
  {
   "cell_type": "markdown",
   "metadata": {},
   "source": [
    "<a id=\"water\"></a>\n",
    "***\n",
    "### Fill the box with water molecules\n",
    "Fill the unit cell for the **protein structure system** with water molecules.<br>\n",
    "The solvent type used is the default **Simple Point Charge water (SPC)**, a generic equilibrated 3-point solvent model. \n",
    "\n",
    "***\n",
    "**Building Blocks** used:\n",
    " - [Solvate](https://biobb-md.readthedocs.io/en/latest/gromacs.html#module-gromacs.solvate) from **biobb_gromacs.gromacs.solvate** \n",
    "***"
   ]
  },
  {
   "cell_type": "code",
   "execution_count": 13,
   "metadata": {
    "scrolled": true
   },
   "outputs": [
    {
     "name": "stdout",
     "output_type": "stream",
     "text": [
      "2025-06-04 10:23:11,709 [MainThread  ] [INFO ]  Module: biobb_gromacs.gromacs.solvate Version: 5.0.0\n",
      "2025-06-04 10:23:11,709 [MainThread  ] [INFO ]  /home/rchaves/repo/biobb/biobb_wf_antibody/biobb_wf_antibody/notebooks/sandbox_972867ae-b497-4c79-9e0a-10756ac7fe42 directory successfully created\n",
      "2025-06-04 10:23:11,710 [MainThread  ] [INFO ]  Copy: data/antibody/1_MD/4G6K_editconf.gro to /home/rchaves/repo/biobb/biobb_wf_antibody/biobb_wf_antibody/notebooks/sandbox_972867ae-b497-4c79-9e0a-10756ac7fe42\n",
      "2025-06-04 10:23:11,713 [MainThread  ] [INFO ]  Extracting: /home/rchaves/repo/biobb/biobb_wf_antibody/biobb_wf_antibody/notebooks/data/antibody/1_MD/4G6K__pdb2gmx_top.zip\n",
      "2025-06-04 10:23:11,713 [MainThread  ] [INFO ]  to:\n",
      "2025-06-04 10:23:11,714 [MainThread  ] [INFO ]  ['466c834d-3108-41fd-8c85-d2196d062d0e/p2g.top', '466c834d-3108-41fd-8c85-d2196d062d0e/p2g_Protein_chain_H.itp', '466c834d-3108-41fd-8c85-d2196d062d0e/p2g_Protein_chain_L.itp', '466c834d-3108-41fd-8c85-d2196d062d0e/posre_Protein_chain_H.itp', '466c834d-3108-41fd-8c85-d2196d062d0e/posre_Protein_chain_L.itp']\n",
      "2025-06-04 10:23:11,714 [MainThread  ] [INFO ]  Unzipping: \n",
      "2025-06-04 10:23:11,714 [MainThread  ] [INFO ]  data/antibody/1_MD/4G6K__pdb2gmx_top.zip\n",
      "2025-06-04 10:23:11,714 [MainThread  ] [INFO ]  To: \n",
      "2025-06-04 10:23:11,714 [MainThread  ] [INFO ]  466c834d-3108-41fd-8c85-d2196d062d0e/p2g.top\n",
      "2025-06-04 10:23:11,715 [MainThread  ] [INFO ]  466c834d-3108-41fd-8c85-d2196d062d0e/p2g_Protein_chain_H.itp\n",
      "2025-06-04 10:23:11,715 [MainThread  ] [INFO ]  466c834d-3108-41fd-8c85-d2196d062d0e/p2g_Protein_chain_L.itp\n",
      "2025-06-04 10:23:11,715 [MainThread  ] [INFO ]  466c834d-3108-41fd-8c85-d2196d062d0e/posre_Protein_chain_H.itp\n",
      "2025-06-04 10:23:11,715 [MainThread  ] [INFO ]  466c834d-3108-41fd-8c85-d2196d062d0e/posre_Protein_chain_L.itp\n",
      "2025-06-04 10:23:11,715 [MainThread  ] [INFO ]  gmx -nobackup -nocopyright solvate -cp /home/rchaves/repo/biobb/biobb_wf_antibody/biobb_wf_antibody/notebooks/sandbox_972867ae-b497-4c79-9e0a-10756ac7fe42/4G6K_editconf.gro -cs spc216.gro -o /home/rchaves/repo/biobb/biobb_wf_antibody/biobb_wf_antibody/notebooks/sandbox_972867ae-b497-4c79-9e0a-10756ac7fe42/4G6K_solvate.gro -p 466c834d-3108-41fd-8c85-d2196d062d0e/p2g.top\n",
      "\n"
     ]
    },
    {
     "name": "stderr",
     "output_type": "stream",
     "text": [
      "/home/rchaves/miniforge3/envs/biobb_wf_antibody/lib/python3.10/site-packages/biobb_common/generic/biobb_object.py:183: UserWarning: Warning: distance_to_molecule is not a recognized property. The most similar property is: stage_io_dict\n",
      "  warnings.warn(\n",
      "/home/rchaves/miniforge3/envs/biobb_wf_antibody/lib/python3.10/site-packages/biobb_common/generic/biobb_object.py:183: UserWarning: Warning: box_type is not a recognized property. The most similar property is: sandbox_path\n",
      "  warnings.warn(\n"
     ]
    },
    {
     "name": "stdout",
     "output_type": "stream",
     "text": [
      "2025-06-04 10:23:11,941 [MainThread  ] [INFO ]  Executing: gmx -nobackup -nocopyright solvate -cp /home/rchaves/repo/biobb/biobb_wf_antibod...\n",
      "2025-06-04 10:23:11,942 [MainThread  ] [INFO ]  Exit code: 0\n",
      "2025-06-04 10:23:11,942 [MainThread  ] [INFO ]  \n",
      "WARNING: Masses and atomic (Van der Waals) radii will be guessed\n",
      "         based on residue and atom names, since they could not be\n",
      "         definitively assigned from the information in your input\n",
      "         files. These guessed numbers might deviate from the mass\n",
      "         and radius of the atom type. Please check the output\n",
      "         files if necessary. Note, that this functionality may\n",
      "         be removed in a future GROMACS version. Please, consider\n",
      "         using another file format for your input.\n",
      "\n",
      "NOTE: From version 5.0 gmx solvate uses the Van der Waals radii\n",
      "from the source below. This means the results may be different\n",
      "compared to previous GROMACS versions.\n",
      "\n",
      "++++ PLEASE READ AND CITE THE FOLLOWING REFERENCE ++++\n",
      "A. Bondi\n",
      "van der Waals Volumes and Radii\n",
      "J. Phys. Chem. 68 (1964) pp. 441-451\n",
      "-------- -------- --- Thank You --- -------- --------\n",
      "\n",
      "Adding line for 16821 solvent molecules with resname (SOL) to topology file (466c834d-3108-41fd-8c85-d2196d062d0e/p2g.top)\n",
      "\n",
      "2025-06-04 10:23:11,942 [MainThread  ] [INFO ]                 :-) GROMACS - gmx solvate, 2022.2-conda_forge (-:\n",
      "\n",
      "Executable:   /home/rchaves/miniforge3/envs/biobb_wf_antibody/bin.AVX2_256/gmx\n",
      "Data prefix:  /home/rchaves/miniforge3/envs/biobb_wf_antibody\n",
      "Working dir:  /home/rchaves/repo/biobb/biobb_wf_antibody/biobb_wf_antibody/notebooks\n",
      "Command line:\n",
      "  gmx -nobackup -nocopyright solvate -cp /home/rchaves/repo/biobb/biobb_wf_antibody/biobb_wf_antibody/notebooks/sandbox_972867ae-b497-4c79-9e0a-10756ac7fe42/4G6K_editconf.gro -cs spc216.gro -o /home/rchaves/repo/biobb/biobb_wf_antibody/biobb_wf_antibody/notebooks/sandbox_972867ae-b497-4c79-9e0a-10756ac7fe42/4G6K_solvate.gro -p 466c834d-3108-41fd-8c85-d2196d062d0e/p2g.top\n",
      "\n",
      "Reading solute configuration\n",
      "Reading solvent configuration\n",
      "\n",
      "Initialising inter-atomic distances...\n",
      "Generating solvent configuration\n",
      "Will generate new solvent configuration of 6x6x4 boxes\n",
      "Solvent box contains 65364 atoms in 21788 residues\n",
      "Removed 8835 solvent atoms due to solvent-solvent overlap\n",
      "Removed 6066 solvent atoms due to solute-solvent overlap\n",
      "Sorting configuration\n",
      "Found 1 molecule type:\n",
      "    SOL (   3 atoms): 16821 residues\n",
      "Generated solvent containing 50463 atoms in 16821 residues\n",
      "Writing generated configuration to /home/rchaves/repo/biobb/biobb_wf_antibody/biobb_wf_antibody/notebooks/sandbox_972867ae-b497-4c79-9e0a-10756ac7fe42/4G6K_solvate.gro\n",
      "\n",
      "Output configuration contains 56988 atoms in 17253 residues\n",
      "Volume                 :     587.153 (nm^3)\n",
      "Density                :     998.303 (g/l)\n",
      "Number of solvent molecules:  16821   \n",
      "\n",
      "Processing topology\n",
      "\n",
      "GROMACS reminds you: \"The public have an insatiable curiosity to know everything, except what is worth knowing.\" (Oscar Wilde)\n",
      "\n",
      "\n",
      "2025-06-04 10:23:11,945 [MainThread  ] [INFO ]  Compressing topology to: /home/rchaves/repo/biobb/biobb_wf_antibody/biobb_wf_antibody/notebooks/sandbox_972867ae-b497-4c79-9e0a-10756ac7fe42/4G6K_solvate_top.zip\n",
      "2025-06-04 10:23:11,946 [MainThread  ] [INFO ]  Ignored file 466c834d-3108-41fd-8c85-d2196d062d0e/charmm36-jul2017.ff/forcefield.itp\n",
      "2025-06-04 10:23:11,956 [MainThread  ] [INFO ]  Ignored file 466c834d-3108-41fd-8c85-d2196d062d0e/charmm36-jul2017.ff/tip3p.itp\n",
      "2025-06-04 10:23:11,957 [MainThread  ] [INFO ]  Ignored file 466c834d-3108-41fd-8c85-d2196d062d0e/charmm36-jul2017.ff/ions.itp\n",
      "2025-06-04 10:23:11,961 [MainThread  ] [INFO ]  Adding:\n",
      "2025-06-04 10:23:11,962 [MainThread  ] [INFO ]  ['466c834d-3108-41fd-8c85-d2196d062d0e/p2g.top', '466c834d-3108-41fd-8c85-d2196d062d0e/p2g_Protein_chain_H.itp', '466c834d-3108-41fd-8c85-d2196d062d0e/p2g_Protein_chain_L.itp', '466c834d-3108-41fd-8c85-d2196d062d0e/posre_Protein_chain_H.itp', '466c834d-3108-41fd-8c85-d2196d062d0e/posre_Protein_chain_L.itp']\n",
      "2025-06-04 10:23:11,962 [MainThread  ] [INFO ]  to: /home/rchaves/repo/biobb/biobb_wf_antibody/biobb_wf_antibody/notebooks/data/antibody/1_MD/4G6K_solvate_top.zip\n",
      "2025-06-04 10:23:11,963 [MainThread  ] [INFO ]  Removed: ['466c834d-3108-41fd-8c85-d2196d062d0e/posre_Protein_chain_H.itp', '466c834d-3108-41fd-8c85-d2196d062d0e/p2g_Protein_chain_H.itp', '466c834d-3108-41fd-8c85-d2196d062d0e/posre_Protein_chain_L.itp', '466c834d-3108-41fd-8c85-d2196d062d0e/p2g_Protein_chain_L.itp', '466c834d-3108-41fd-8c85-d2196d062d0e/p2g.top']\n",
      "2025-06-04 10:23:11,965 [MainThread  ] [INFO ]  Removed: ['/home/rchaves/repo/biobb/biobb_wf_antibody/biobb_wf_antibody/notebooks/sandbox_972867ae-b497-4c79-9e0a-10756ac7fe42', '466c834d-3108-41fd-8c85-d2196d062d0e']\n",
      "2025-06-04 10:23:11,965 [MainThread  ] [INFO ]  \n"
     ]
    },
    {
     "data": {
      "text/plain": [
       "0"
      ]
     },
     "execution_count": 13,
     "metadata": {},
     "output_type": "execute_result"
    }
   ],
   "source": [
    "# Solvate: Fill the box with water molecules\n",
    "from biobb_gromacs.gromacs.solvate import solvate\n",
    "\n",
    "# Create prop dict and inputs/outputs\n",
    "output_solvate_gro     = f'{MD_dir}{pdbCode}_solvate.gro'\n",
    "output_solvate_top_zip = f'{MD_dir}{pdbCode}_solvate_top.zip'\n",
    "\n",
    "# Create and launch bb\n",
    "solvate(input_solute_gro_path=output_editconf_gro, \n",
    "        output_gro_path=output_solvate_gro, \n",
    "        input_top_zip_path=output_pdb2gmx_top_zip, \n",
    "        output_top_zip_path=output_solvate_top_zip,\n",
    "        properties=def_dict(prop))"
   ]
  },
  {
   "cell_type": "markdown",
   "metadata": {},
   "source": [
    "#### Visualizing 3D structure\n",
    "Visualizing the **protein system** with the newly added **solvent box** using **NGL**.<br> Note the **cubic box** filled with **water molecules** surrounding the **protein structure**, which is **centered** right in the middle of the cube."
   ]
  },
  {
   "cell_type": "code",
   "execution_count": 14,
   "metadata": {},
   "outputs": [
    {
     "data": {
      "application/vnd.jupyter.widget-view+json": {
       "model_id": "a363fac9086746af9f7f3de43f3e2ad7",
       "version_major": 2,
       "version_minor": 0
      },
      "text/plain": [
       "NGLWidget()"
      ]
     },
     "metadata": {},
     "output_type": "display_data"
    }
   ],
   "source": [
    "# Show protein\n",
    "view = nv.show_structure_file(output_solvate_gro)\n",
    "view.clear_representations()\n",
    "view.add_representation(repr_type='cartoon', selection='solute', color='green')\n",
    "view.add_representation(repr_type='ball+stick', selection='SOL')\n",
    "view._remote_call('setSize', target='Widget', args=['','600px'])\n",
    "view.camera='orthographic'\n",
    "view"
   ]
  },
  {
   "cell_type": "markdown",
   "metadata": {},
   "source": [
    "<a id=\"ions\"></a>\n",
    "***\n",
    "### Adding ions\n",
    "Add ions to neutralize the **protein structure** charge\n",
    "- [Step 1](#ionsStep1): Creating portable binary run file for ion generation\n",
    "- [Step 2](#ionsStep2): Adding ions to **neutralize** the system\n",
    "***\n",
    "**Building Blocks** used:\n",
    " - [Grompp](https://biobb-md.readthedocs.io/en/latest/gromacs.html#module-gromacs.grompp) from **biobb_gromacs.gromacs.grompp** \n",
    " - [Genion](https://biobb-md.readthedocs.io/en/latest/gromacs.html#module-gromacs.genion) from **biobb_gromacs.gromacs.genion** \n",
    "***"
   ]
  },
  {
   "cell_type": "markdown",
   "metadata": {},
   "source": [
    "<a id=\"ionsStep1\"></a>\n",
    "#### Step 1: Creating portable binary run file for ion generation\n",
    "A simple **energy minimization** molecular dynamics parameters (mdp) properties will be used to generate the portable binary run file for **ion generation**, although **any legitimate combination of parameters** could be used in this step."
   ]
  },
  {
   "cell_type": "code",
   "execution_count": 15,
   "metadata": {},
   "outputs": [
    {
     "name": "stdout",
     "output_type": "stream",
     "text": [
      "2025-06-04 10:23:15,595 [MainThread  ] [INFO ]  Module: biobb_gromacs.gromacs.grompp Version: 5.0.0\n",
      "2025-06-04 10:23:15,596 [MainThread  ] [INFO ]  /home/rchaves/repo/biobb/biobb_wf_antibody/biobb_wf_antibody/notebooks/sandbox_4c55a9db-0a19-44d6-81b9-c92d24a76d4b directory successfully created\n",
      "2025-06-04 10:23:15,598 [MainThread  ] [INFO ]  Copy: data/antibody/1_MD/4G6K_solvate.gro to /home/rchaves/repo/biobb/biobb_wf_antibody/biobb_wf_antibody/notebooks/sandbox_4c55a9db-0a19-44d6-81b9-c92d24a76d4b\n",
      "2025-06-04 10:23:15,601 [MainThread  ] [INFO ]  Extracting: /home/rchaves/repo/biobb/biobb_wf_antibody/biobb_wf_antibody/notebooks/data/antibody/1_MD/4G6K_solvate_top.zip\n",
      "2025-06-04 10:23:15,601 [MainThread  ] [INFO ]  to:\n",
      "2025-06-04 10:23:15,601 [MainThread  ] [INFO ]  ['/home/rchaves/repo/biobb/biobb_wf_antibody/biobb_wf_antibody/notebooks/sandbox_4c55a9db-0a19-44d6-81b9-c92d24a76d4b/p2g.top', '/home/rchaves/repo/biobb/biobb_wf_antibody/biobb_wf_antibody/notebooks/sandbox_4c55a9db-0a19-44d6-81b9-c92d24a76d4b/p2g_Protein_chain_H.itp', '/home/rchaves/repo/biobb/biobb_wf_antibody/biobb_wf_antibody/notebooks/sandbox_4c55a9db-0a19-44d6-81b9-c92d24a76d4b/p2g_Protein_chain_L.itp', '/home/rchaves/repo/biobb/biobb_wf_antibody/biobb_wf_antibody/notebooks/sandbox_4c55a9db-0a19-44d6-81b9-c92d24a76d4b/posre_Protein_chain_H.itp', '/home/rchaves/repo/biobb/biobb_wf_antibody/biobb_wf_antibody/notebooks/sandbox_4c55a9db-0a19-44d6-81b9-c92d24a76d4b/posre_Protein_chain_L.itp']\n",
      "2025-06-04 10:23:15,602 [MainThread  ] [INFO ]  Unzipping: \n",
      "2025-06-04 10:23:15,602 [MainThread  ] [INFO ]  data/antibody/1_MD/4G6K_solvate_top.zip\n",
      "2025-06-04 10:23:15,602 [MainThread  ] [INFO ]  To: \n",
      "2025-06-04 10:23:15,603 [MainThread  ] [INFO ]  /home/rchaves/repo/biobb/biobb_wf_antibody/biobb_wf_antibody/notebooks/sandbox_4c55a9db-0a19-44d6-81b9-c92d24a76d4b/p2g.top\n",
      "2025-06-04 10:23:15,603 [MainThread  ] [INFO ]  /home/rchaves/repo/biobb/biobb_wf_antibody/biobb_wf_antibody/notebooks/sandbox_4c55a9db-0a19-44d6-81b9-c92d24a76d4b/p2g_Protein_chain_H.itp\n",
      "2025-06-04 10:23:15,603 [MainThread  ] [INFO ]  /home/rchaves/repo/biobb/biobb_wf_antibody/biobb_wf_antibody/notebooks/sandbox_4c55a9db-0a19-44d6-81b9-c92d24a76d4b/p2g_Protein_chain_L.itp\n",
      "2025-06-04 10:23:15,603 [MainThread  ] [INFO ]  /home/rchaves/repo/biobb/biobb_wf_antibody/biobb_wf_antibody/notebooks/sandbox_4c55a9db-0a19-44d6-81b9-c92d24a76d4b/posre_Protein_chain_H.itp\n",
      "2025-06-04 10:23:15,604 [MainThread  ] [INFO ]  /home/rchaves/repo/biobb/biobb_wf_antibody/biobb_wf_antibody/notebooks/sandbox_4c55a9db-0a19-44d6-81b9-c92d24a76d4b/posre_Protein_chain_L.itp\n",
      "2025-06-04 10:23:15,604 [MainThread  ] [INFO ]  gmx -nobackup -nocopyright grompp -f /home/rchaves/repo/biobb/biobb_wf_antibody/biobb_wf_antibody/notebooks/sandbox_4c55a9db-0a19-44d6-81b9-c92d24a76d4b/grompp.mdp -c /home/rchaves/repo/biobb/biobb_wf_antibody/biobb_wf_antibody/notebooks/sandbox_4c55a9db-0a19-44d6-81b9-c92d24a76d4b/4G6K_solvate.gro -r /home/rchaves/repo/biobb/biobb_wf_antibody/biobb_wf_antibody/notebooks/sandbox_4c55a9db-0a19-44d6-81b9-c92d24a76d4b/4G6K_solvate.gro -p /home/rchaves/repo/biobb/biobb_wf_antibody/biobb_wf_antibody/notebooks/sandbox_4c55a9db-0a19-44d6-81b9-c92d24a76d4b/p2g.top -o /home/rchaves/repo/biobb/biobb_wf_antibody/biobb_wf_antibody/notebooks/sandbox_4c55a9db-0a19-44d6-81b9-c92d24a76d4b/4G6K_gppion.tpr -po mdout.mdp -maxwarn 1\n",
      "\n",
      "2025-06-04 10:23:16,437 [MainThread  ] [INFO ]  Executing: gmx -nobackup -nocopyright grompp -f /home/rchaves/repo/biobb/biobb_wf_antibody/...\n",
      "2025-06-04 10:23:16,437 [MainThread  ] [INFO ]  Exit code: 0\n",
      "2025-06-04 10:23:16,437 [MainThread  ] [INFO ]  Setting the LD random seed to 1055915903\n",
      "\n",
      "Generated 97877 of the 97903 non-bonded parameter combinations\n",
      "\n",
      "Generated 64492 of the 97903 1-4 parameter combinations\n",
      "\n",
      "Excluding 3 bonded neighbours molecule type 'Protein_chain_H'\n",
      "\n",
      "Excluding 3 bonded neighbours molecule type 'Protein_chain_L'\n",
      "\n",
      "Excluding 2 bonded neighbours molecule type 'SOL'\n",
      "\n",
      "++++ PLEASE READ AND CITE THE FOLLOWING REFERENCE ++++\n",
      "J. S. Hub, B. L. de Groot, H. Grubmueller, G. Groenhof\n",
      "Quantifying Artifacts in Ewald Simulations of Inhomogeneous Systems with a Net\n",
      "Charge\n",
      "J. Chem. Theory Comput. 10 (2014) pp. 381-393\n",
      "-------- -------- --- Thank You --- -------- --------\n",
      "\n",
      "Analysing residue names:\n",
      "There are:   432    Protein residues\n",
      "There are: 16821      Water residues\n",
      "Analysing Protein...\n",
      "\n",
      "The largest distance between excluded atoms is 0.447 nm\n",
      "Calculating fourier grid dimensions for X Y Z\n",
      "Using a fourier grid of 80x80x80, spacing 0.117 0.117 0.117\n",
      "\n",
      "Estimate for the relative computational load of the PME mesh part: 0.25\n",
      "\n",
      "This run will generate roughly 4 Mb of data\n",
      "\n",
      "2025-06-04 10:23:16,438 [MainThread  ] [INFO ]                  :-) GROMACS - gmx grompp, 2022.2-conda_forge (-:\n",
      "\n",
      "Executable:   /home/rchaves/miniforge3/envs/biobb_wf_antibody/bin.AVX2_256/gmx\n",
      "Data prefix:  /home/rchaves/miniforge3/envs/biobb_wf_antibody\n",
      "Working dir:  /home/rchaves/repo/biobb/biobb_wf_antibody/biobb_wf_antibody/notebooks\n",
      "Command line:\n",
      "  gmx -nobackup -nocopyright grompp -f /home/rchaves/repo/biobb/biobb_wf_antibody/biobb_wf_antibody/notebooks/sandbox_4c55a9db-0a19-44d6-81b9-c92d24a76d4b/grompp.mdp -c /home/rchaves/repo/biobb/biobb_wf_antibody/biobb_wf_antibody/notebooks/sandbox_4c55a9db-0a19-44d6-81b9-c92d24a76d4b/4G6K_solvate.gro -r /home/rchaves/repo/biobb/biobb_wf_antibody/biobb_wf_antibody/notebooks/sandbox_4c55a9db-0a19-44d6-81b9-c92d24a76d4b/4G6K_solvate.gro -p /home/rchaves/repo/biobb/biobb_wf_antibody/biobb_wf_antibody/notebooks/sandbox_4c55a9db-0a19-44d6-81b9-c92d24a76d4b/p2g.top -o /home/rchaves/repo/biobb/biobb_wf_antibody/biobb_wf_antibody/notebooks/sandbox_4c55a9db-0a19-44d6-81b9-c92d24a76d4b/4G6K_gppion.tpr -po mdout.mdp -maxwarn 1\n",
      "\n",
      "Ignoring obsolete mdp entry 'ns-type'\n",
      "Generating 1-4 interactions: fudge = 1\n",
      "\n",
      "NOTE 1 [file p2g.top, line 54]:\n",
      "  System has non-zero total charge: 7.000000\n",
      "  Total charge should normally be an integer. See\n",
      "  http://www.gromacs.org/Documentation/Floating_Point_Arithmetic\n",
      "  for discussion on how close it should be to an integer.\n",
      "  \n",
      "\n",
      "\n",
      "\n",
      "WARNING 1 [file p2g.top, line 54]:\n",
      "  You are using Ewald electrostatics in a system with net charge. This can\n",
      "  lead to severe artifacts, such as ions moving into regions with low\n",
      "  dielectric, due to the uniform background charge. We suggest to\n",
      "  neutralize your system with counter ions, possibly in combination with a\n",
      "  physiological salt concentration.\n",
      "\n",
      "Number of degrees of freedom in T-Coupling group rest is 120498.00\n",
      "\n",
      "NOTE 2 [file /home/rchaves/repo/biobb/biobb_wf_antibody/biobb_wf_antibody/notebooks/sandbox_4c55a9db-0a19-44d6-81b9-c92d24a76d4b/grompp.mdp]:\n",
      "  Removing center of mass motion in the presence of position restraints\n",
      "  might cause artifacts. When you are using position restraints to\n",
      "  equilibrate a macro-molecule, the artifacts are usually negligible.\n",
      "\n",
      "\n",
      "There were 2 notes\n",
      "\n",
      "There was 1 warning\n",
      "\n",
      "GROMACS reminds you: \"During my undergraduate work I concluded that electrostatics is unlikely to be important [for enzymes]\" (Arieh Warshel, Nobel lecture 2013)\n",
      "\n",
      "\n",
      "2025-06-04 10:23:16,442 [MainThread  ] [INFO ]  Removed: ['/home/rchaves/repo/biobb/biobb_wf_antibody/biobb_wf_antibody/notebooks/sandbox_4c55a9db-0a19-44d6-81b9-c92d24a76d4b', 'mdout.mdp']\n",
      "2025-06-04 10:23:16,442 [MainThread  ] [INFO ]  \n"
     ]
    },
    {
     "data": {
      "text/plain": [
       "0"
      ]
     },
     "execution_count": 15,
     "metadata": {},
     "output_type": "execute_result"
    }
   ],
   "source": [
    "# Grompp: Creating portable binary run file for ion generation\n",
    "from biobb_gromacs.gromacs.grompp import grompp\n",
    "\n",
    "# Create prop dict and inputs/outputs\n",
    "output_gppion_tpr = f'{MD_dir}{pdbCode}_gppion.tpr'\n",
    "prop = {\n",
    "    'simulation_type': 'ions',\n",
    "    'gmx_lib' : f'{cwd}/{MD_inp}',\n",
    "    'maxwarn': 1\n",
    "}\n",
    "\n",
    "# Create and launch bb\n",
    "grompp(input_gro_path=output_solvate_gro, \n",
    "       input_top_zip_path=output_solvate_top_zip, \n",
    "       output_tpr_path=output_gppion_tpr,  \n",
    "       properties=def_dict(prop))"
   ]
  },
  {
   "cell_type": "markdown",
   "metadata": {},
   "source": [
    "<a id=\"ionsStep2\"></a>\n",
    "#### Step 2: Adding ions to neutralize the system\n",
    "Replace **solvent molecules** with **ions** to **neutralize** the system."
   ]
  },
  {
   "cell_type": "code",
   "execution_count": 16,
   "metadata": {},
   "outputs": [
    {
     "name": "stdout",
     "output_type": "stream",
     "text": [
      "2025-06-04 10:23:16,480 [MainThread  ] [INFO ]  Module: biobb_gromacs.gromacs.genion Version: 5.0.0\n",
      "2025-06-04 10:23:16,481 [MainThread  ] [INFO ]  /home/rchaves/repo/biobb/biobb_wf_antibody/biobb_wf_antibody/notebooks/sandbox_587be689-12d0-4dfb-86fc-1871ebfe911c directory successfully created\n",
      "2025-06-04 10:23:16,484 [MainThread  ] [INFO ]  Copy: data/antibody/1_MD/4G6K_gppion.tpr to /home/rchaves/repo/biobb/biobb_wf_antibody/biobb_wf_antibody/notebooks/sandbox_587be689-12d0-4dfb-86fc-1871ebfe911c\n",
      "2025-06-04 10:23:16,484 [MainThread  ] [INFO ]  Copy: /home/rchaves/repo/biobb/biobb_wf_antibody/biobb_wf_antibody/notebooks/0a322edb-9f2a-48b8-ad8a-b7504ab4cbe6.stdin to /home/rchaves/repo/biobb/biobb_wf_antibody/biobb_wf_antibody/notebooks/sandbox_587be689-12d0-4dfb-86fc-1871ebfe911c\n",
      "2025-06-04 10:23:16,489 [MainThread  ] [INFO ]  Extracting: /home/rchaves/repo/biobb/biobb_wf_antibody/biobb_wf_antibody/notebooks/data/antibody/1_MD/4G6K_solvate_top.zip\n",
      "2025-06-04 10:23:16,489 [MainThread  ] [INFO ]  to:\n",
      "2025-06-04 10:23:16,489 [MainThread  ] [INFO ]  ['4191c654-e6ea-4286-b1af-93e48aba8ba2/p2g.top', '4191c654-e6ea-4286-b1af-93e48aba8ba2/p2g_Protein_chain_H.itp', '4191c654-e6ea-4286-b1af-93e48aba8ba2/p2g_Protein_chain_L.itp', '4191c654-e6ea-4286-b1af-93e48aba8ba2/posre_Protein_chain_H.itp', '4191c654-e6ea-4286-b1af-93e48aba8ba2/posre_Protein_chain_L.itp']\n",
      "2025-06-04 10:23:16,490 [MainThread  ] [INFO ]  Unzipping: \n",
      "2025-06-04 10:23:16,490 [MainThread  ] [INFO ]  data/antibody/1_MD/4G6K_solvate_top.zip\n",
      "2025-06-04 10:23:16,491 [MainThread  ] [INFO ]  To: \n",
      "2025-06-04 10:23:16,492 [MainThread  ] [INFO ]  4191c654-e6ea-4286-b1af-93e48aba8ba2/p2g.top\n",
      "2025-06-04 10:23:16,492 [MainThread  ] [INFO ]  4191c654-e6ea-4286-b1af-93e48aba8ba2/p2g_Protein_chain_H.itp\n",
      "2025-06-04 10:23:16,492 [MainThread  ] [INFO ]  4191c654-e6ea-4286-b1af-93e48aba8ba2/p2g_Protein_chain_L.itp\n",
      "2025-06-04 10:23:16,492 [MainThread  ] [INFO ]  4191c654-e6ea-4286-b1af-93e48aba8ba2/posre_Protein_chain_H.itp\n",
      "2025-06-04 10:23:16,493 [MainThread  ] [INFO ]  4191c654-e6ea-4286-b1af-93e48aba8ba2/posre_Protein_chain_L.itp\n",
      "2025-06-04 10:23:16,493 [MainThread  ] [INFO ]  To reach up 0.05 mol/litre concentration\n",
      "2025-06-04 10:23:16,493 [MainThread  ] [INFO ]  gmx -nobackup -nocopyright genion -s /home/rchaves/repo/biobb/biobb_wf_antibody/biobb_wf_antibody/notebooks/sandbox_587be689-12d0-4dfb-86fc-1871ebfe911c/4G6K_gppion.tpr -o /home/rchaves/repo/biobb/biobb_wf_antibody/biobb_wf_antibody/notebooks/sandbox_587be689-12d0-4dfb-86fc-1871ebfe911c/4G6K_genion.gro -p 4191c654-e6ea-4286-b1af-93e48aba8ba2/p2g.top -neutral -conc 0.05 -seed 1993 < /home/rchaves/repo/biobb/biobb_wf_antibody/biobb_wf_antibody/notebooks/sandbox_587be689-12d0-4dfb-86fc-1871ebfe911c/0a322edb-9f2a-48b8-ad8a-b7504ab4cbe6.stdin\n",
      "\n",
      "2025-06-04 10:23:16,563 [MainThread  ] [INFO ]  Executing: gmx -nobackup -nocopyright genion -s /home/rchaves/repo/biobb/biobb_wf_antibody/...\n",
      "2025-06-04 10:23:16,563 [MainThread  ] [INFO ]  Exit code: 0\n",
      "2025-06-04 10:23:16,563 [MainThread  ] [INFO ]  Will try to add 18 NA ions and 25 CL ions.\n",
      "Select a continuous group of solvent molecules\n",
      "Selected 13: 'SOL'\n",
      "\n",
      "Processing topology\n",
      "Replacing 43 solute molecules in topology file (4191c654-e6ea-4286-b1af-93e48aba8ba2/p2g.top)  by 18 NA and 25 CL ions.\n",
      "\n",
      "2025-06-04 10:23:16,564 [MainThread  ] [INFO ]                  :-) GROMACS - gmx genion, 2022.2-conda_forge (-:\n",
      "\n",
      "Executable:   /home/rchaves/miniforge3/envs/biobb_wf_antibody/bin.AVX2_256/gmx\n",
      "Data prefix:  /home/rchaves/miniforge3/envs/biobb_wf_antibody\n",
      "Working dir:  /home/rchaves/repo/biobb/biobb_wf_antibody/biobb_wf_antibody/notebooks\n",
      "Command line:\n",
      "  gmx -nobackup -nocopyright genion -s /home/rchaves/repo/biobb/biobb_wf_antibody/biobb_wf_antibody/notebooks/sandbox_587be689-12d0-4dfb-86fc-1871ebfe911c/4G6K_gppion.tpr -o /home/rchaves/repo/biobb/biobb_wf_antibody/biobb_wf_antibody/notebooks/sandbox_587be689-12d0-4dfb-86fc-1871ebfe911c/4G6K_genion.gro -p 4191c654-e6ea-4286-b1af-93e48aba8ba2/p2g.top -neutral -conc 0.05 -seed 1993\n",
      "\n",
      "Reading file /home/rchaves/repo/biobb/biobb_wf_antibody/biobb_wf_antibody/notebooks/sandbox_587be689-12d0-4dfb-86fc-1871ebfe911c/4G6K_gppion.tpr, VERSION 2022.2-conda_forge (single precision)\n",
      "Reading file /home/rchaves/repo/biobb/biobb_wf_antibody/biobb_wf_antibody/notebooks/sandbox_587be689-12d0-4dfb-86fc-1871ebfe911c/4G6K_gppion.tpr, VERSION 2022.2-conda_forge (single precision)\n",
      "Group     0 (         System) has 56988 elements\n",
      "Group     1 (        Protein) has  6525 elements\n",
      "Group     2 (      Protein-H) has  3293 elements\n",
      "Group     3 (        C-alpha) has   432 elements\n",
      "Group     4 (       Backbone) has  1296 elements\n",
      "Group     5 (      MainChain) has  1726 elements\n",
      "Group     6 (   MainChain+Cb) has  2126 elements\n",
      "Group     7 (    MainChain+H) has  2139 elements\n",
      "Group     8 (      SideChain) has  4386 elements\n",
      "Group     9 (    SideChain-H) has  1567 elements\n",
      "Group    10 (    Prot-Masses) has  6525 elements\n",
      "Group    11 (    non-Protein) has 50463 elements\n",
      "Group    12 (          Water) has 50463 elements\n",
      "Group    13 (            SOL) has 50463 elements\n",
      "Group    14 (      non-Water) has  6525 elements\n",
      "Select a group: Number of (3-atomic) solvent molecules: 16821\n",
      "Using random seed 1993.\n",
      "Replacing solvent molecule 1016 (atom 9573) with NA\n",
      "Replacing solvent molecule 7886 (atom 30183) with NA\n",
      "Replacing solvent molecule 340 (atom 7545) with NA\n",
      "Replacing solvent molecule 9793 (atom 35904) with NA\n",
      "Replacing solvent molecule 11798 (atom 41919) with NA\n",
      "Replacing solvent molecule 3029 (atom 15612) with NA\n",
      "Replacing solvent molecule 13033 (atom 45624) with NA\n",
      "Replacing solvent molecule 13037 (atom 45636) with NA\n",
      "Replacing solvent molecule 3887 (atom 18186) with NA\n",
      "Replacing solvent molecule 4426 (atom 19803) with NA\n",
      "Replacing solvent molecule 7384 (atom 28677) with NA\n",
      "Replacing solvent molecule 11728 (atom 41709) with NA\n",
      "Replacing solvent molecule 6702 (atom 26631) with NA\n",
      "Replacing solvent molecule 2180 (atom 13065) with NA\n",
      "Replacing solvent molecule 7423 (atom 28794) with NA\n",
      "Replacing solvent molecule 9120 (atom 33885) with NA\n",
      "Replacing solvent molecule 1450 (atom 10875) with NA\n",
      "Replacing solvent molecule 2665 (atom 14520) with NA\n",
      "Replacing solvent molecule 15675 (atom 53550) with CL\n",
      "Replacing solvent molecule 5409 (atom 22752) with CL\n",
      "Replacing solvent molecule 231 (atom 7218) with CL\n",
      "Replacing solvent molecule 5896 (atom 24213) with CL\n",
      "Replacing solvent molecule 9159 (atom 34002) with CL\n",
      "Replacing solvent molecule 3677 (atom 17556) with CL\n",
      "Replacing solvent molecule 1061 (atom 9708) with CL\n",
      "Replacing solvent molecule 13389 (atom 46692) with CL\n",
      "Replacing solvent molecule 6880 (atom 27165) with CL\n",
      "Replacing solvent molecule 7264 (atom 28317) with CL\n",
      "Replacing solvent molecule 11499 (atom 41022) with CL\n",
      "Replacing solvent molecule 9826 (atom 36003) with CL\n",
      "Replacing solvent molecule 3996 (atom 18513) with CL\n",
      "Replacing solvent molecule 7947 (atom 30366) with CL\n",
      "Replacing solvent molecule 6143 (atom 24954) with CL\n",
      "Replacing solvent molecule 4438 (atom 19839) with CL\n",
      "Replacing solvent molecule 12163 (atom 43014) with CL\n",
      "Replacing solvent molecule 16577 (atom 56256) with CL\n",
      "Replacing solvent molecule 11590 (atom 41295) with CL\n",
      "Replacing solvent molecule 15217 (atom 52176) with CL\n",
      "Replacing solvent molecule 1980 (atom 12465) with CL\n",
      "Replacing solvent molecule 667 (atom 8526) with CL\n",
      "Replacing solvent molecule 7324 (atom 28497) with CL\n",
      "Replacing solvent molecule 14653 (atom 50484) with CL\n",
      "Replacing solvent molecule 14514 (atom 50067) with CL\n",
      "\n",
      "\n",
      "GROMACS reminds you: \"During my undergraduate work I concluded that electrostatics is unlikely to be important [for enzymes]\" (Arieh Warshel, Nobel lecture 2013)\n",
      "\n",
      "\n",
      "2025-06-04 10:23:16,566 [MainThread  ] [INFO ]  Compressing topology to: /home/rchaves/repo/biobb/biobb_wf_antibody/biobb_wf_antibody/notebooks/sandbox_587be689-12d0-4dfb-86fc-1871ebfe911c/4G6K_genion_top.zip\n",
      "2025-06-04 10:23:16,567 [MainThread  ] [INFO ]  Ignored file 4191c654-e6ea-4286-b1af-93e48aba8ba2/charmm36-jul2017.ff/forcefield.itp\n",
      "2025-06-04 10:23:16,575 [MainThread  ] [INFO ]  Ignored file 4191c654-e6ea-4286-b1af-93e48aba8ba2/charmm36-jul2017.ff/tip3p.itp\n",
      "2025-06-04 10:23:16,576 [MainThread  ] [INFO ]  Ignored file 4191c654-e6ea-4286-b1af-93e48aba8ba2/charmm36-jul2017.ff/ions.itp\n",
      "2025-06-04 10:23:16,580 [MainThread  ] [INFO ]  Adding:\n",
      "2025-06-04 10:23:16,580 [MainThread  ] [INFO ]  ['4191c654-e6ea-4286-b1af-93e48aba8ba2/p2g.top', '4191c654-e6ea-4286-b1af-93e48aba8ba2/p2g_Protein_chain_H.itp', '4191c654-e6ea-4286-b1af-93e48aba8ba2/p2g_Protein_chain_L.itp', '4191c654-e6ea-4286-b1af-93e48aba8ba2/posre_Protein_chain_H.itp', '4191c654-e6ea-4286-b1af-93e48aba8ba2/posre_Protein_chain_L.itp']\n",
      "2025-06-04 10:23:16,581 [MainThread  ] [INFO ]  to: /home/rchaves/repo/biobb/biobb_wf_antibody/biobb_wf_antibody/notebooks/data/antibody/1_MD/4G6K_genion_top.zip\n",
      "2025-06-04 10:23:16,583 [MainThread  ] [INFO ]  Removed: ['4191c654-e6ea-4286-b1af-93e48aba8ba2/posre_Protein_chain_H.itp', '4191c654-e6ea-4286-b1af-93e48aba8ba2/p2g_Protein_chain_H.itp', '4191c654-e6ea-4286-b1af-93e48aba8ba2/posre_Protein_chain_L.itp', '4191c654-e6ea-4286-b1af-93e48aba8ba2/p2g_Protein_chain_L.itp', '4191c654-e6ea-4286-b1af-93e48aba8ba2/p2g.top']\n",
      "2025-06-04 10:23:16,585 [MainThread  ] [INFO ]  Removed: ['/home/rchaves/repo/biobb/biobb_wf_antibody/biobb_wf_antibody/notebooks/sandbox_587be689-12d0-4dfb-86fc-1871ebfe911c', '4191c654-e6ea-4286-b1af-93e48aba8ba2', '/home/rchaves/repo/biobb/biobb_wf_antibody/biobb_wf_antibody/notebooks/0a322edb-9f2a-48b8-ad8a-b7504ab4cbe6.stdin']\n",
      "2025-06-04 10:23:16,585 [MainThread  ] [INFO ]  \n"
     ]
    },
    {
     "name": "stderr",
     "output_type": "stream",
     "text": [
      "/home/rchaves/miniforge3/envs/biobb_wf_antibody/lib/python3.10/site-packages/biobb_common/generic/biobb_object.py:183: UserWarning: Warning: ionic_concentration is not a recognized property. The most similar property is: concentration\n",
      "  warnings.warn(\n"
     ]
    },
    {
     "data": {
      "text/plain": [
       "0"
      ]
     },
     "execution_count": 16,
     "metadata": {},
     "output_type": "execute_result"
    }
   ],
   "source": [
    "# Genion: Adding ions to neutralize the system\n",
    "from biobb_gromacs.gromacs.genion import genion\n",
    "\n",
    "# Create prop dict and inputs/outputs\n",
    "output_genion_gro     = f'{MD_dir}{pdbCode}_genion.gro'\n",
    "output_genion_top_zip = f'{MD_dir}{pdbCode}_genion_top.zip'\n",
    "prop={\n",
    "    'neutral':True,\n",
    "    'ionic_concentration' : 0.15\n",
    "}\n",
    "\n",
    "# Create and launch bb\n",
    "genion(input_tpr_path=output_gppion_tpr, \n",
    "       output_gro_path=output_genion_gro, \n",
    "       input_top_zip_path=output_solvate_top_zip, \n",
    "       output_top_zip_path=output_genion_top_zip, \n",
    "       properties=def_dict(prop))"
   ]
  },
  {
   "cell_type": "markdown",
   "metadata": {},
   "source": [
    "#### Visualizing 3D structure\n",
    "Visualizing the **neutralized protein system** with the newly added **ions** using **NGL**"
   ]
  },
  {
   "cell_type": "code",
   "execution_count": 17,
   "metadata": {},
   "outputs": [
    {
     "data": {
      "application/vnd.jupyter.widget-view+json": {
       "model_id": "7d6d8a3c663e4103905849663000aeba",
       "version_major": 2,
       "version_minor": 0
      },
      "text/plain": [
       "NGLWidget()"
      ]
     },
     "metadata": {},
     "output_type": "display_data"
    }
   ],
   "source": [
    "# Show protein\n",
    "view = nv.show_structure_file(output_genion_gro)\n",
    "view.clear_representations()\n",
    "view.add_representation(repr_type='cartoon', selection='solute', color='sstruc')\n",
    "view.add_representation(repr_type='ball+stick', selection='NA')\n",
    "view.add_representation(repr_type='ball+stick', selection='CL')\n",
    "view._remote_call('setSize', target='Widget', args=['','600px'])\n",
    "view.camera='orthographic'\n",
    "view"
   ]
  },
  {
   "cell_type": "markdown",
   "metadata": {},
   "source": [
    "<a id=\"min\"></a>\n",
    "***\n",
    "### Energetically minimize the system\n",
    "Energetically minimize the **protein system** till reaching a desired potential energy.\n",
    "- [Step 1](#emStep1): Creating portable binary run file for energy minimization\n",
    "- [Step 2](#emStep2): Energetically minimize the **system** till reaching a force of 500 kJ mol-1 nm-1.\n",
    "- [Step 3](#emStep3): Checking **energy minimization** results. Plotting energy by time during the **minimization** process.\n",
    "***\n",
    "**Building Blocks** used:\n",
    " - [Grompp](https://biobb-md.readthedocs.io/en/latest/gromacs.html#module-gromacs.grompp) from **biobb_gromacs.gromacs.grompp** \n",
    " - [Mdrun](https://biobb-md.readthedocs.io/en/latest/gromacs.html#module-gromacs.mdrun) from **biobb_gromacs.gromacs.mdrun** \n",
    " - [GMXEnergy](https://biobb-analysis.readthedocs.io/en/latest/gromacs.html#module-gromacs.gmx_energy) from **biobb_analysis.gromacs.gmx_energy** \n",
    "***"
   ]
  },
  {
   "cell_type": "markdown",
   "metadata": {},
   "source": [
    "<a id=\"emStep1\"></a>\n",
    "#### Step 1: Creating portable binary run file for energy minimization\n",
    "The **minimization** type of the **molecular dynamics parameters (mdp) property** contains the main default parameters to run an **energy minimization**:\n",
    "\n",
    "-  integrator  = steep ; Algorithm (steep = steepest descent minimization)\n",
    "-  emtol       = 1000.0 ; Stop minimization when the maximum force < 1000.0 kJ/mol/nm\n",
    "-  emstep      = 0.01 ; Minimization step size (nm)\n",
    "-  nsteps      = 50000 ; Maximum number of (minimization) steps to perform\n",
    "\n",
    "In this particular example, the method used to run the **energy minimization** is the default **steepest descent**, but the **maximum force** is placed at **500 KJ/mol\\*nm^2**, and the **maximum number of steps** to perform (if the maximum force is not reached) to **5,000 steps**. "
   ]
  },
  {
   "cell_type": "code",
   "execution_count": 18,
   "metadata": {},
   "outputs": [],
   "source": [
    "# https://github.com/alevil-gmx/workflow_template/blob/main/workflow_template/data/input/emin-charmm.mdp\n",
    "input_mdp_min = f\"{MD_inp}emin-charmm.mdp\"\n",
    "fl = \"\"\"title       = CHARMM steepest descent enrgy minimisation\n",
    "\n",
    "; Parameters describing what to do, when to stop and what to save\n",
    "integrator  = steep  ; Algorithm (steep = steepest descent minimization)\n",
    "emtol       = 1000.0 ; Stop minimization when the maximum force < 1000.0 kJ/mol/nm\n",
    "emstep      = 0.01   ; Minimization step size\n",
    "nstenergy   = 500    ; save energies every 1.0 ps, so we can observe if we are successful\n",
    "nsteps      = -1     ; run as long as we need\n",
    "; Settings that make sure we run with parameters in harmony with the selected force-field\n",
    "constraints             = h-bonds   ; bonds involving H are constrained\n",
    "rcoulomb                = 1.2       ; short-range electrostatic cutoff (in nm)\n",
    "rvdw                    = 1.2       ; short-range van der Waals cutoff (in nm)\n",
    "vdw-modifier            = Force-switch ;  specific CHARMM\n",
    "rvdw_switch             = 1.0       ;\n",
    "DispCorr                = EnerPres  ; account for cut-off vdW scheme\n",
    "coulombtype             = PME       ; Particle Mesh Ewald for long-range electrostatics\n",
    "fourierspacing          = 0.15     ; grid spacing for FFT\n",
    "\"\"\"\n",
    "\n",
    "with open(input_mdp_min, 'w') as f:\n",
    "    f.write(fl)"
   ]
  },
  {
   "cell_type": "code",
   "execution_count": 19,
   "metadata": {
    "scrolled": true
   },
   "outputs": [
    {
     "name": "stdout",
     "output_type": "stream",
     "text": [
      "2025-06-04 10:23:27,211 [MainThread  ] [INFO ]  Module: biobb_gromacs.gromacs.grompp Version: 5.0.0\n",
      "2025-06-04 10:23:27,211 [MainThread  ] [INFO ]  /home/rchaves/repo/biobb/biobb_wf_antibody/biobb_wf_antibody/notebooks/sandbox_c1122525-196a-42a6-ab36-ae95d333e980 directory successfully created\n",
      "2025-06-04 10:23:27,213 [MainThread  ] [INFO ]  Copy: data/antibody/1_MD/4G6K_genion.gro to /home/rchaves/repo/biobb/biobb_wf_antibody/biobb_wf_antibody/notebooks/sandbox_c1122525-196a-42a6-ab36-ae95d333e980\n",
      "2025-06-04 10:23:27,213 [MainThread  ] [INFO ]  Copy: data/antibody/1_MD/input/emin-charmm.mdp to /home/rchaves/repo/biobb/biobb_wf_antibody/biobb_wf_antibody/notebooks/sandbox_c1122525-196a-42a6-ab36-ae95d333e980\n",
      "2025-06-04 10:23:27,216 [MainThread  ] [INFO ]  Extracting: /home/rchaves/repo/biobb/biobb_wf_antibody/biobb_wf_antibody/notebooks/data/antibody/1_MD/4G6K_genion_top.zip\n",
      "2025-06-04 10:23:27,217 [MainThread  ] [INFO ]  to:\n",
      "2025-06-04 10:23:27,217 [MainThread  ] [INFO ]  ['/home/rchaves/repo/biobb/biobb_wf_antibody/biobb_wf_antibody/notebooks/sandbox_c1122525-196a-42a6-ab36-ae95d333e980/p2g.top', '/home/rchaves/repo/biobb/biobb_wf_antibody/biobb_wf_antibody/notebooks/sandbox_c1122525-196a-42a6-ab36-ae95d333e980/p2g_Protein_chain_H.itp', '/home/rchaves/repo/biobb/biobb_wf_antibody/biobb_wf_antibody/notebooks/sandbox_c1122525-196a-42a6-ab36-ae95d333e980/p2g_Protein_chain_L.itp', '/home/rchaves/repo/biobb/biobb_wf_antibody/biobb_wf_antibody/notebooks/sandbox_c1122525-196a-42a6-ab36-ae95d333e980/posre_Protein_chain_H.itp', '/home/rchaves/repo/biobb/biobb_wf_antibody/biobb_wf_antibody/notebooks/sandbox_c1122525-196a-42a6-ab36-ae95d333e980/posre_Protein_chain_L.itp']\n",
      "2025-06-04 10:23:27,217 [MainThread  ] [INFO ]  Unzipping: \n",
      "2025-06-04 10:23:27,217 [MainThread  ] [INFO ]  data/antibody/1_MD/4G6K_genion_top.zip\n",
      "2025-06-04 10:23:27,218 [MainThread  ] [INFO ]  To: \n",
      "2025-06-04 10:23:27,218 [MainThread  ] [INFO ]  /home/rchaves/repo/biobb/biobb_wf_antibody/biobb_wf_antibody/notebooks/sandbox_c1122525-196a-42a6-ab36-ae95d333e980/p2g.top\n",
      "2025-06-04 10:23:27,218 [MainThread  ] [INFO ]  /home/rchaves/repo/biobb/biobb_wf_antibody/biobb_wf_antibody/notebooks/sandbox_c1122525-196a-42a6-ab36-ae95d333e980/p2g_Protein_chain_H.itp\n",
      "2025-06-04 10:23:27,218 [MainThread  ] [INFO ]  /home/rchaves/repo/biobb/biobb_wf_antibody/biobb_wf_antibody/notebooks/sandbox_c1122525-196a-42a6-ab36-ae95d333e980/p2g_Protein_chain_L.itp\n",
      "2025-06-04 10:23:27,218 [MainThread  ] [INFO ]  /home/rchaves/repo/biobb/biobb_wf_antibody/biobb_wf_antibody/notebooks/sandbox_c1122525-196a-42a6-ab36-ae95d333e980/posre_Protein_chain_H.itp\n",
      "2025-06-04 10:23:27,218 [MainThread  ] [INFO ]  /home/rchaves/repo/biobb/biobb_wf_antibody/biobb_wf_antibody/notebooks/sandbox_c1122525-196a-42a6-ab36-ae95d333e980/posre_Protein_chain_L.itp\n",
      "2025-06-04 10:23:27,219 [MainThread  ] [INFO ]  gmx -nobackup -nocopyright grompp -f /home/rchaves/repo/biobb/biobb_wf_antibody/biobb_wf_antibody/notebooks/sandbox_c1122525-196a-42a6-ab36-ae95d333e980/grompp.mdp -c /home/rchaves/repo/biobb/biobb_wf_antibody/biobb_wf_antibody/notebooks/sandbox_c1122525-196a-42a6-ab36-ae95d333e980/4G6K_genion.gro -r /home/rchaves/repo/biobb/biobb_wf_antibody/biobb_wf_antibody/notebooks/sandbox_c1122525-196a-42a6-ab36-ae95d333e980/4G6K_genion.gro -p /home/rchaves/repo/biobb/biobb_wf_antibody/biobb_wf_antibody/notebooks/sandbox_c1122525-196a-42a6-ab36-ae95d333e980/p2g.top -o /home/rchaves/repo/biobb/biobb_wf_antibody/biobb_wf_antibody/notebooks/sandbox_c1122525-196a-42a6-ab36-ae95d333e980/4G6K_gppmin.tpr -po mdout.mdp -maxwarn 0\n",
      "\n",
      "2025-06-04 10:23:28,077 [MainThread  ] [INFO ]  Executing: gmx -nobackup -nocopyright grompp -f /home/rchaves/repo/biobb/biobb_wf_antibody/...\n",
      "2025-06-04 10:23:28,078 [MainThread  ] [INFO ]  Exit code: 0\n",
      "2025-06-04 10:23:28,078 [MainThread  ] [INFO ]  Setting the LD random seed to -553648670\n",
      "\n",
      "Generated 97877 of the 97903 non-bonded parameter combinations\n",
      "\n",
      "Generated 64492 of the 97903 1-4 parameter combinations\n",
      "\n",
      "Excluding 3 bonded neighbours molecule type 'Protein_chain_H'\n",
      "\n",
      "turning H bonds into constraints...\n",
      "\n",
      "Excluding 3 bonded neighbours molecule type 'Protein_chain_L'\n",
      "\n",
      "turning H bonds into constraints...\n",
      "\n",
      "Excluding 2 bonded neighbours molecule type 'SOL'\n",
      "\n",
      "turning H bonds into constraints...\n",
      "\n",
      "Excluding 1 bonded neighbours molecule type 'NA'\n",
      "\n",
      "turning H bonds into constraints...\n",
      "\n",
      "Excluding 1 bonded neighbours molecule type 'CL'\n",
      "\n",
      "turning H bonds into constraints...\n",
      "Analysing residue names:\n",
      "There are:   432    Protein residues\n",
      "There are: 16778      Water residues\n",
      "There are:    43        Ion residues\n",
      "Analysing Protein...\n",
      "Analysing residues not classified as Protein/DNA/RNA/Water and splitting into groups...\n",
      "\n",
      "The largest distance between excluded atoms is 0.447 nm\n",
      "Calculating fourier grid dimensions for X Y Z\n",
      "Using a fourier grid of 64x64x64, spacing 0.147 0.147 0.147\n",
      "\n",
      "Estimate for the relative computational load of the PME mesh part: 0.15\n",
      "\n",
      "This run will generate roughly 4 Mb of data\n",
      "\n",
      "2025-06-04 10:23:28,078 [MainThread  ] [INFO ]                  :-) GROMACS - gmx grompp, 2022.2-conda_forge (-:\n",
      "\n",
      "Executable:   /home/rchaves/miniforge3/envs/biobb_wf_antibody/bin.AVX2_256/gmx\n",
      "Data prefix:  /home/rchaves/miniforge3/envs/biobb_wf_antibody\n",
      "Working dir:  /home/rchaves/repo/biobb/biobb_wf_antibody/biobb_wf_antibody/notebooks\n",
      "Command line:\n",
      "  gmx -nobackup -nocopyright grompp -f /home/rchaves/repo/biobb/biobb_wf_antibody/biobb_wf_antibody/notebooks/sandbox_c1122525-196a-42a6-ab36-ae95d333e980/grompp.mdp -c /home/rchaves/repo/biobb/biobb_wf_antibody/biobb_wf_antibody/notebooks/sandbox_c1122525-196a-42a6-ab36-ae95d333e980/4G6K_genion.gro -r /home/rchaves/repo/biobb/biobb_wf_antibody/biobb_wf_antibody/notebooks/sandbox_c1122525-196a-42a6-ab36-ae95d333e980/4G6K_genion.gro -p /home/rchaves/repo/biobb/biobb_wf_antibody/biobb_wf_antibody/notebooks/sandbox_c1122525-196a-42a6-ab36-ae95d333e980/p2g.top -o /home/rchaves/repo/biobb/biobb_wf_antibody/biobb_wf_antibody/notebooks/sandbox_c1122525-196a-42a6-ab36-ae95d333e980/4G6K_gppmin.tpr -po mdout.mdp -maxwarn 0\n",
      "\n",
      "Ignoring obsolete mdp entry 'title'\n",
      "Ignoring obsolete mdp entry 'ns-type'\n",
      "Generating 1-4 interactions: fudge = 1\n",
      "Number of degrees of freedom in T-Coupling group rest is 117137.00\n",
      "\n",
      "NOTE 1 [file /home/rchaves/repo/biobb/biobb_wf_antibody/biobb_wf_antibody/notebooks/sandbox_c1122525-196a-42a6-ab36-ae95d333e980/grompp.mdp]:\n",
      "  Removing center of mass motion in the presence of position restraints\n",
      "  might cause artifacts. When you are using position restraints to\n",
      "  equilibrate a macro-molecule, the artifacts are usually negligible.\n",
      "\n",
      "\n",
      "There was 1 note\n",
      "\n",
      "GROMACS reminds you: \"The absence of real intelligence doesn't prove you're using AI\" (Magnus Lundborg)\n",
      "\n",
      "\n",
      "2025-06-04 10:23:28,082 [MainThread  ] [INFO ]  Removed: ['/home/rchaves/repo/biobb/biobb_wf_antibody/biobb_wf_antibody/notebooks/sandbox_c1122525-196a-42a6-ab36-ae95d333e980', 'mdout.mdp']\n",
      "2025-06-04 10:23:28,083 [MainThread  ] [INFO ]  \n"
     ]
    },
    {
     "data": {
      "text/plain": [
       "0"
      ]
     },
     "execution_count": 19,
     "metadata": {},
     "output_type": "execute_result"
    }
   ],
   "source": [
    "# Grompp: Creating portable binary run file for mdrun\n",
    "from biobb_gromacs.gromacs.grompp import grompp\n",
    "\n",
    "# Create prop dict and inputs/outputs\n",
    "output_gppmin_tpr = f'{MD_dir}{pdbCode}_gppmin.tpr'\n",
    "\n",
    "prop = {\n",
    "    'gmx_lib' : f'{cwd}/{MD_inp}',\n",
    "}\n",
    "\n",
    "# Create and launch bb\n",
    "grompp(input_gro_path=output_genion_gro, \n",
    "       input_top_zip_path=output_genion_top_zip, \n",
    "       input_mdp_path=input_mdp_min,\n",
    "       output_tpr_path=output_gppmin_tpr,  \n",
    "       properties=def_dict(prop))"
   ]
  },
  {
   "cell_type": "markdown",
   "metadata": {},
   "source": [
    "<a id=\"emStep2\"></a>\n",
    "#### Step 2: Running Energy Minimization\n",
    "Running **energy minimization** using the **tpr file** generated in the previous step. "
   ]
  },
  {
   "cell_type": "code",
   "execution_count": null,
   "metadata": {},
   "outputs": [],
   "source": [
    "# Mdrun: Running minimization\n",
    "from biobb_gromacs.gromacs.mdrun import mdrun\n",
    "\n",
    "# Create prop dict and inputs/outputs\n",
    "output_min_trr = f'{MD_dir}{pdbCode}_min.trr'\n",
    "output_min_gro = f'{MD_dir}{pdbCode}_min.gro'\n",
    "output_min_edr = f'{MD_dir}{pdbCode}_min.edr'\n",
    "output_min_log = f'{MD_dir}{pdbCode}_min.log'\n",
    "\n",
    "# Create and launch bb\n",
    "mdrun(input_tpr_path=output_gppmin_tpr, \n",
    "      output_trr_path=output_min_trr, \n",
    "      output_gro_path=output_min_gro, \n",
    "      output_edr_path=output_min_edr, \n",
    "      output_log_path=output_min_log,\n",
    "      properties=def_dict(prop))"
   ]
  },
  {
   "cell_type": "markdown",
   "metadata": {},
   "source": [
    "<a id=\"emStep3\"></a>\n",
    "#### Step 3: Checking Energy Minimization results\n",
    "Checking **energy minimization** results. Plotting **potential energy** by time during the minimization process. "
   ]
  },
  {
   "cell_type": "code",
   "execution_count": 21,
   "metadata": {
    "scrolled": true
   },
   "outputs": [
    {
     "name": "stdout",
     "output_type": "stream",
     "text": [
      "2025-06-04 10:23:48,123 [MainThread  ] [INFO ]  Module: biobb_analysis.gromacs.gmx_energy Version: 5.0.1\n",
      "2025-06-04 10:23:48,123 [MainThread  ] [INFO ]  /home/rchaves/repo/biobb/biobb_wf_antibody/biobb_wf_antibody/notebooks/sandbox_d42ae4be-9ef7-473a-9e55-5532745d80f4 directory successfully created\n",
      "2025-06-04 10:23:48,124 [MainThread  ] [INFO ]  Copy: /home/rchaves/repo/biobb/biobb_wf_antibody/biobb_wf_antibody/notebooks/data/antibody/1_MD/4G6K_min.edr to /home/rchaves/repo/biobb/biobb_wf_antibody/biobb_wf_antibody/notebooks/sandbox_d42ae4be-9ef7-473a-9e55-5532745d80f4\n",
      "2025-06-04 10:23:48,125 [MainThread  ] [INFO ]  gmx energy -f /home/rchaves/repo/biobb/biobb_wf_antibody/biobb_wf_antibody/notebooks/sandbox_d42ae4be-9ef7-473a-9e55-5532745d80f4/4G6K_min.edr -o /home/rchaves/repo/biobb/biobb_wf_antibody/biobb_wf_antibody/notebooks/sandbox_d42ae4be-9ef7-473a-9e55-5532745d80f4/4G6K_min_ene.xvg -xvg none < 115e9708-f0c2-4866-bfcb-e774cdfe1b65/instructions.in\n",
      "\n",
      "2025-06-04 10:23:48,140 [MainThread  ] [INFO ]  Executing: gmx energy -f /home/rchaves/repo/biobb/biobb_wf_antibody/biobb_wf_antibody/noteb...\n",
      "2025-06-04 10:23:48,141 [MainThread  ] [INFO ]  Exit code: 0\n",
      "2025-06-04 10:23:48,141 [MainThread  ] [INFO ]  \n",
      "Statistics over 770 steps [ 0.0000 through 769.0000 ps ], 1 data sets\n",
      "All statistics are over 610 points (frames)\n",
      "\n",
      "Energy                      Average   Err.Est.       RMSD  Tot-Drift\n",
      "-------------------------------------------------------------------------------\n",
      "Potential                   -825272      16000    43734.9    -108199  (kJ/mol)\n",
      "\n",
      "2025-06-04 10:23:48,141 [MainThread  ] [INFO ]                  :-) GROMACS - gmx energy, 2022.2-conda_forge (-:\n",
      "\n",
      "Executable:   /home/rchaves/miniforge3/envs/biobb_wf_antibody/bin.AVX2_256/gmx\n",
      "Data prefix:  /home/rchaves/miniforge3/envs/biobb_wf_antibody\n",
      "Working dir:  /home/rchaves/repo/biobb/biobb_wf_antibody/biobb_wf_antibody/notebooks\n",
      "Command line:\n",
      "  gmx energy -f /home/rchaves/repo/biobb/biobb_wf_antibody/biobb_wf_antibody/notebooks/sandbox_d42ae4be-9ef7-473a-9e55-5532745d80f4/4G6K_min.edr -o /home/rchaves/repo/biobb/biobb_wf_antibody/biobb_wf_antibody/notebooks/sandbox_d42ae4be-9ef7-473a-9e55-5532745d80f4/4G6K_min_ene.xvg -xvg none\n",
      "\n",
      "Opened /home/rchaves/repo/biobb/biobb_wf_antibody/biobb_wf_antibody/notebooks/sandbox_d42ae4be-9ef7-473a-9e55-5532745d80f4/4G6K_min.edr as single precision energy file\n",
      "\n",
      "Select the terms you want from the following list by\n",
      "selecting either (part of) the name or the number or a combination.\n",
      "End your selection with an empty line or a zero.\n",
      "-------------------------------------------------------------------\n",
      "  1  Bond             2  U-B              3  Proper-Dih.      4  Improper-Dih. \n",
      "  5  CMAP-Dih.        6  LJ-14            7  Coulomb-14       8  LJ-(SR)       \n",
      "  9  Disper.-corr.   10  Coulomb-(SR)    11  Coul.-recip.    12  Position-Rest.\n",
      " 13  Potential       14  Pres.-DC        15  Pressure        16  Constr.-rmsd  \n",
      " 17  Vir-XX          18  Vir-XY          19  Vir-XZ          20  Vir-YX        \n",
      " 21  Vir-YY          22  Vir-YZ          23  Vir-ZX          24  Vir-ZY        \n",
      " 25  Vir-ZZ          26  Pres-XX         27  Pres-XY         28  Pres-XZ       \n",
      " 29  Pres-YX         30  Pres-YY         31  Pres-YZ         32  Pres-ZX       \n",
      " 33  Pres-ZY         34  Pres-ZZ         35  #Surf*SurfTen   36  T-rest        \n",
      "\n",
      "Last energy frame read 609 time  769.000          \n",
      "\n",
      "GROMACS reminds you: \"The aim of science is not to open the door to infinite wisdom, but to set a limit to infinite error.\" (Bertolt Brecht, Life of Galileo)\n",
      "\n",
      "\n",
      "2025-06-04 10:23:48,142 [MainThread  ] [INFO ]  Removed: ['/home/rchaves/repo/biobb/biobb_wf_antibody/biobb_wf_antibody/notebooks/sandbox_d42ae4be-9ef7-473a-9e55-5532745d80f4', '115e9708-f0c2-4866-bfcb-e774cdfe1b65']\n",
      "2025-06-04 10:23:48,143 [MainThread  ] [INFO ]  \n"
     ]
    },
    {
     "data": {
      "text/plain": [
       "0"
      ]
     },
     "execution_count": 21,
     "metadata": {},
     "output_type": "execute_result"
    }
   ],
   "source": [
    "# GMXEnergy: Getting system energy by time  \n",
    "from biobb_analysis.gromacs.gmx_energy import gmx_energy\n",
    "\n",
    "# Create prop dict and inputs/outputs\n",
    "output_min_ene_xvg = f'{MD_dir}{pdbCode}_min_ene.xvg'\n",
    "prop = {\n",
    "    'terms':  [\"Potential\"]\n",
    "}\n",
    "\n",
    "# Create and launch bb\n",
    "gmx_energy(input_energy_path=output_min_edr, \n",
    "          output_xvg_path=output_min_ene_xvg, \n",
    "          properties=def_dict(prop))"
   ]
  },
  {
   "cell_type": "code",
   "execution_count": 22,
   "metadata": {},
   "outputs": [
    {
     "data": {
      "text/html": [
       "        <script type=\"text/javascript\">\n",
       "        window.PlotlyConfig = {MathJaxConfig: 'local'};\n",
       "        if (window.MathJax && window.MathJax.Hub && window.MathJax.Hub.Config) {window.MathJax.Hub.Config({SVG: {font: \"STIX-Web\"}});}\n",
       "        </script>\n",
       "        <script type=\"module\">import \"https://cdn.plot.ly/plotly-3.0.1.min\"</script>\n",
       "        "
      ]
     },
     "metadata": {},
     "output_type": "display_data"
    },
    {
     "data": {
      "application/vnd.plotly.v1+json": {
       "config": {
        "linkText": "Export to plot.ly",
        "plotlyServerURL": "https://plot.ly",
        "showLink": false
       },
       "data": [
        {
         "type": "scatter",
         "x": [
          0,
          1,
          2,
          3,
          4,
          5,
          6,
          7,
          8,
          9,
          10,
          11,
          12,
          14,
          16,
          17,
          18,
          20,
          21,
          22,
          24,
          25,
          26,
          28,
          29,
          30,
          32,
          33,
          34,
          35,
          36,
          38,
          39,
          40,
          42,
          43,
          44,
          45,
          46,
          48,
          49,
          50,
          52,
          53,
          54,
          55,
          57,
          58,
          59,
          61,
          62,
          63,
          64,
          65,
          66,
          68,
          69,
          70,
          72,
          73,
          74,
          75,
          76,
          78,
          79,
          80,
          82,
          83,
          85,
          86,
          87,
          89,
          90,
          91,
          92,
          93,
          94,
          95,
          97,
          98,
          99,
          101,
          102,
          103,
          104,
          106,
          107,
          108,
          110,
          111,
          112,
          113,
          115,
          116,
          117,
          119,
          120,
          121,
          122,
          124,
          125,
          126,
          128,
          129,
          130,
          131,
          132,
          134,
          135,
          136,
          138,
          139,
          140,
          141,
          142,
          143,
          145,
          147,
          148,
          149,
          150,
          152,
          153,
          154,
          156,
          157,
          158,
          160,
          161,
          162,
          163,
          164,
          165,
          166,
          168,
          169,
          170,
          172,
          173,
          174,
          175,
          177,
          178,
          179,
          181,
          182,
          183,
          184,
          185,
          186,
          188,
          190,
          191,
          192,
          193,
          195,
          196,
          197,
          199,
          200,
          201,
          203,
          204,
          205,
          206,
          207,
          209,
          210,
          211,
          213,
          214,
          215,
          216,
          217,
          218,
          220,
          221,
          222,
          224,
          225,
          226,
          227,
          229,
          230,
          231,
          233,
          234,
          235,
          236,
          237,
          238,
          240,
          241,
          242,
          244,
          245,
          246,
          247,
          249,
          250,
          251,
          253,
          254,
          255,
          256,
          258,
          259,
          260,
          262,
          263,
          264,
          265,
          266,
          268,
          269,
          270,
          272,
          273,
          274,
          275,
          277,
          278,
          279,
          281,
          282,
          283,
          284,
          285,
          287,
          288,
          289,
          291,
          292,
          293,
          294,
          296,
          297,
          298,
          300,
          301,
          302,
          303,
          304,
          306,
          307,
          308,
          310,
          311,
          312,
          313,
          315,
          316,
          317,
          319,
          320,
          321,
          322,
          324,
          325,
          326,
          328,
          329,
          330,
          331,
          332,
          333,
          335,
          336,
          337,
          339,
          340,
          341,
          342,
          344,
          345,
          346,
          348,
          349,
          350,
          351,
          352,
          354,
          355,
          356,
          358,
          359,
          360,
          361,
          363,
          364,
          365,
          367,
          368,
          369,
          370,
          371,
          373,
          374,
          375,
          377,
          378,
          380,
          381,
          382,
          384,
          385,
          386,
          387,
          388,
          389,
          390,
          392,
          393,
          394,
          396,
          397,
          398,
          399,
          401,
          402,
          403,
          405,
          406,
          407,
          408,
          410,
          411,
          412,
          414,
          415,
          416,
          417,
          418,
          419,
          421,
          422,
          423,
          425,
          426,
          428,
          429,
          430,
          432,
          433,
          434,
          435,
          436,
          437,
          438,
          440,
          441,
          442,
          444,
          445,
          446,
          447,
          449,
          450,
          451,
          453,
          454,
          455,
          456,
          458,
          459,
          460,
          462,
          463,
          464,
          465,
          467,
          468,
          469,
          471,
          472,
          473,
          474,
          475,
          476,
          478,
          479,
          480,
          482,
          483,
          484,
          485,
          487,
          488,
          489,
          491,
          492,
          493,
          494,
          495,
          497,
          498,
          499,
          501,
          502,
          503,
          504,
          506,
          507,
          508,
          510,
          511,
          512,
          513,
          514,
          516,
          517,
          518,
          520,
          521,
          522,
          523,
          525,
          526,
          527,
          529,
          530,
          531,
          532,
          533,
          535,
          536,
          537,
          539,
          540,
          541,
          542,
          544,
          545,
          546,
          548,
          549,
          550,
          551,
          552,
          554,
          555,
          556,
          558,
          559,
          560,
          561,
          563,
          564,
          565,
          567,
          568,
          569,
          570,
          571,
          573,
          574,
          575,
          577,
          578,
          579,
          580,
          582,
          583,
          584,
          586,
          587,
          588,
          589,
          590,
          591,
          593,
          595,
          596,
          597,
          598,
          600,
          601,
          602,
          604,
          605,
          606,
          607,
          608,
          610,
          611,
          612,
          614,
          615,
          616,
          617,
          618,
          620,
          621,
          622,
          624,
          625,
          626,
          627,
          628,
          630,
          631,
          632,
          634,
          635,
          636,
          637,
          638,
          639,
          641,
          643,
          644,
          645,
          646,
          648,
          649,
          650,
          652,
          653,
          654,
          656,
          657,
          658,
          659,
          660,
          662,
          663,
          664,
          666,
          667,
          668,
          669,
          670,
          672,
          673,
          674,
          676,
          677,
          678,
          679,
          680,
          682,
          683,
          684,
          686,
          687,
          688,
          689,
          690,
          691,
          693,
          694,
          695,
          697,
          698,
          699,
          700,
          702,
          703,
          704,
          706,
          707,
          708,
          709,
          711,
          712,
          713,
          715,
          716,
          717,
          718,
          720,
          721,
          722,
          724,
          725,
          726,
          727,
          728,
          729,
          731,
          732,
          733,
          735,
          736,
          737,
          738,
          740,
          741,
          742,
          744,
          745,
          746,
          747,
          748,
          750,
          751,
          752,
          754,
          755,
          756,
          757,
          759,
          760,
          761,
          763,
          764,
          765,
          766,
          767,
          769
         ],
         "y": [
          -443273.5,
          -465062.53125,
          -506159.21875,
          -564507.625,
          -609953.6875,
          -649245,
          -666895.625,
          -674735.125,
          -680707.6875,
          -686046.5,
          -687415.4375,
          -690197.125,
          -691252.6875,
          -705897.25,
          -709347.5,
          -711776.4375,
          -714858.875,
          -718915.6875,
          -721473.25,
          -726716.25,
          -729169.5,
          -730356.625,
          -732743.6875,
          -735606.5625,
          -737571.3125,
          -741046.3125,
          -742654.25,
          -743834.375,
          -745291.125,
          -745701.375,
          -746896.125,
          -750242.9375,
          -751232.5,
          -755273.1875,
          -756304.5,
          -757031.0625,
          -757847.375,
          -757988.375,
          -758387.8125,
          -762043.25,
          -762127.25,
          -766534.125,
          -767141.875,
          -767864.375,
          -768206.875,
          -768655.5,
          -770881.75,
          -772789.6875,
          -774998,
          -775599.25,
          -776237.25,
          -776653.0625,
          -777220.875,
          -777340.625,
          -777775.5625,
          -779608.0625,
          -779899.375,
          -782265.0625,
          -782683.8125,
          -783134.25,
          -783392.6875,
          -783662.5625,
          -783679.125,
          -785580.3125,
          -786384.4375,
          -789073,
          -789258.0625,
          -789772.25,
          -790469.375,
          -790964.6875,
          -791797.1875,
          -792191.25,
          -792525.5,
          -792903.0625,
          -793108.25,
          -793416.5,
          -793432.75,
          -793546.4375,
          -794961,
          -795148.9375,
          -796785.0625,
          -797015.0625,
          -797301.3125,
          -797371.875,
          -797576.125,
          -798541.5,
          -798586.625,
          -799993.4375,
          -800195,
          -800434.875,
          -800510.875,
          -800620,
          -801571.6875,
          -801911.375,
          -803070.0625,
          -803263.75,
          -803499.25,
          -803572.6875,
          -803746.5,
          -804459.625,
          -804650.875,
          -805539.4375,
          -805756,
          -805935.875,
          -806110.5625,
          -806204.6875,
          -806289,
          -807039.375,
          -807506.5625,
          -808318,
          -808499.6875,
          -808687.8125,
          -808809.5625,
          -808944.75,
          -808959.125,
          -808989,
          -809878.3125,
          -810201.125,
          -810558,
          -810571,
          -811005.75,
          -811249.5625,
          -811351.75,
          -811614.25,
          -811871.5,
          -812068.375,
          -812389,
          -812575.625,
          -812744,
          -812934.5,
          -813036.5625,
          -813214.3125,
          -813221.4375,
          -813357.4375,
          -813897.25,
          -813906.5,
          -814656.5625,
          -814780.4375,
          -814924.75,
          -814986,
          -815081.4375,
          -815547,
          -815805.6875,
          -816360,
          -816495,
          -816626.25,
          -816722.8125,
          -816810.875,
          -816831.9375,
          -816836.875,
          -817501.0625,
          -817758,
          -818025.25,
          -818037.0625,
          -818364,
          -818543.5625,
          -818619,
          -818812.6875,
          -819007.5,
          -819155.8125,
          -819399.375,
          -819540.4375,
          -819666.6875,
          -819811.5625,
          -819885.9375,
          -820021.9375,
          -820258.4375,
          -820479.0625,
          -820791.25,
          -820916.875,
          -821035.1875,
          -821141.75,
          -821236,
          -821304.875,
          -821347.5,
          -821732.6875,
          -822082.125,
          -822548.375,
          -822645.375,
          -822761.125,
          -822814.5625,
          -822908.6875,
          -823188.5,
          -823375.4375,
          -823755.875,
          -823857.0625,
          -823965.3125,
          -824033.625,
          -824121,
          -824133.0625,
          -824165.75,
          -824603.625,
          -824655.125,
          -825199,
          -825273.9375,
          -825366.1875,
          -825392.9375,
          -825451.8125,
          -825792.25,
          -825869,
          -826340.9375,
          -826415.25,
          -826515.8125,
          -826545.625,
          -826621.6875,
          -826898.9375,
          -827017.25,
          -827365.4375,
          -827453.5,
          -827535,
          -827599.6875,
          -827652.0625,
          -827667.6875,
          -828002.125,
          -828280.8125,
          -828696.125,
          -828763.4375,
          -828859.25,
          -828882.9375,
          -828964.125,
          -829202.5625,
          -829279,
          -829600.625,
          -829680.1875,
          -829757.625,
          -829814.375,
          -829866.125,
          -829880.4375,
          -830183.625,
          -830429.5,
          -830857.875,
          -830912.9375,
          -831015.875,
          -831020.625,
          -831116.125,
          -831326.125,
          -831364.4375,
          -831630.25,
          -831712.8125,
          -831770.4375,
          -831843.25,
          -831865.3125,
          -831909.75,
          -832171.125,
          -832264.125,
          -832596.4375,
          -832660.8125,
          -832731.375,
          -832767.4375,
          -832816.625,
          -833031.75,
          -833168.75,
          -833462.25,
          -833526.8125,
          -833603,
          -833640,
          -833702.5625,
          -833877.6875,
          -834015.5625,
          -834237.6875,
          -834307.9375,
          -834374.5,
          -834430.3125,
          -834479.625,
          -834504.8125,
          -834519.5625,
          -834797.6875,
          -834875.125,
          -835264,
          -835305.75,
          -835385.375,
          -835387,
          -835452.375,
          -835659.25,
          -835682.8125,
          -835947,
          -836011.125,
          -836061.5,
          -836110,
          -836133.375,
          -836146.1875,
          -836405.875,
          -836511.375,
          -836841.6875,
          -836887,
          -836953.5,
          -836965.3125,
          -837018,
          -837212.1875,
          -837248.75,
          -837511.25,
          -837566.1875,
          -837622.5625,
          -837657.8125,
          -837693.5625,
          -837693.75,
          -837940.875,
          -838103.75,
          -838452.5,
          -838487.75,
          -838566.1875,
          -838660.9375,
          -838742.5,
          -838859.9375,
          -838924.25,
          -838980.8125,
          -839046.5,
          -839081.5625,
          -839142.0625,
          -839143.4375,
          -839184.3125,
          -839390.5625,
          -839405.125,
          -839670.0625,
          -839718.6875,
          -839766.125,
          -839794.625,
          -839821.1875,
          -840002.25,
          -840117.5,
          -840365.8125,
          -840411,
          -840471.8125,
          -840491.4375,
          -840543.1875,
          -840683.0625,
          -840756.5,
          -840935.5,
          -840989,
          -841037.625,
          -841079.875,
          -841112.125,
          -841130.875,
          -841133.125,
          -841366.125,
          -841415.5625,
          -841740.625,
          -841769.0625,
          -841832,
          -841925.8125,
          -842003.8125,
          -842122.0625,
          -842176.9375,
          -842225.5,
          -842278.1875,
          -842310.1875,
          -842354.0625,
          -842358.875,
          -842376.75,
          -842585.9375,
          -842606.125,
          -842876.625,
          -842912,
          -842960.0625,
          -842970,
          -843003.5625,
          -843169.8125,
          -843197.875,
          -843422.8125,
          -843463.5,
          -843509.3125,
          -843532.5,
          -843561.75,
          -843705.5625,
          -843804.875,
          -843990.25,
          -844032.9375,
          -844080.75,
          -844106.875,
          -844145.5,
          -844262,
          -844357.625,
          -844513.0625,
          -844558.5,
          -844605,
          -844638,
          -844675.0625,
          -844687,
          -844699.75,
          -844883.6875,
          -844936,
          -845174.625,
          -845206.8125,
          -845254.125,
          -845261.5,
          -845299,
          -845439.25,
          -845463.0625,
          -845651.125,
          -845691.25,
          -845730.125,
          -845757.1875,
          -845780.125,
          -845783.0625,
          -845959.9375,
          -846054,
          -846298.5,
          -846325.6875,
          -846378.875,
          -846379.375,
          -846424.5625,
          -846551.125,
          -846566,
          -846729.4375,
          -846771.125,
          -846804.125,
          -846836.75,
          -846852.625,
          -846863.5,
          -847024.875,
          -847099.6875,
          -847308.9375,
          -847338.8125,
          -847384.3125,
          -847391.75,
          -847429.6875,
          -847549.75,
          -847574.8125,
          -847734.875,
          -847773.3125,
          -847808.1875,
          -847836.75,
          -847856.4375,
          -847865.6875,
          -848016.6875,
          -848094.875,
          -848302.1875,
          -848330.25,
          -848375.9375,
          -848382.8125,
          -848420.3125,
          -848532.75,
          -848562.9375,
          -848707.9375,
          -848745.4375,
          -848778.625,
          -848806.8125,
          -848826.75,
          -848834.875,
          -848977.5,
          -849081.5625,
          -849266.8125,
          -849294.8125,
          -849338,
          -849345.0625,
          -849384.25,
          -849486.5625,
          -849510.875,
          -849646.375,
          -849683.5,
          -849714.0625,
          -849743.8125,
          -849760.0625,
          -849774.9375,
          -849903.3125,
          -849965.3125,
          -850140,
          -850168.4375,
          -850207.875,
          -850218.9375,
          -850250.25,
          -850350.4375,
          -850395.8125,
          -850526,
          -850559.8125,
          -850592.4375,
          -850617.4375,
          -850640.25,
          -850645.625,
          -850648.8125,
          -850812.1875,
          -850876.4375,
          -850939.8125,
          -850947.625,
          -851023.625,
          -851072.375,
          -851094.3125,
          -851149.625,
          -851196.625,
          -851232.375,
          -851288.75,
          -851289.6875,
          -851353.8125,
          -851414.25,
          -851430.3125,
          -851504.3125,
          -851547.125,
          -851572.6875,
          -851619.9375,
          -851621.75,
          -851669,
          -851746.125,
          -851762.125,
          -851860.4375,
          -851897.6875,
          -851922,
          -851957.6875,
          -851965.75,
          -851992.5625,
          -852091.0625,
          -852124.875,
          -852252.5,
          -852282.875,
          -852312.5625,
          -852333,
          -852353.25,
          -852354,
          -852355.3125,
          -852515.1875,
          -852569.25,
          -852629.875,
          -852631.4375,
          -852704.1875,
          -852750.1875,
          -852766.5625,
          -852819.875,
          -852864.3125,
          -852893.8125,
          -852947,
          -852983.625,
          -853017,
          -853058.125,
          -853071.125,
          -853115.8125,
          -853169.25,
          -853200.875,
          -853267.875,
          -853302.5,
          -853330.25,
          -853365.375,
          -853379.3125,
          -853413.125,
          -853478.1875,
          -853519.9375,
          -853604.875,
          -853636,
          -853663.5625,
          -853691.5625,
          -853709.625,
          -853729.125,
          -853809.25,
          -853884.125,
          -853991.4375,
          -854019.3125,
          -854049.8125,
          -854067.875,
          -854093.125,
          -854095.5625,
          -854106.4375,
          -854227.1875,
          -854235.8125,
          -854393.625,
          -854413.4375,
          -854441.9375,
          -854447.0625,
          -854467.1875,
          -854563.125,
          -854577.9375,
          -854706.5625,
          -854730.6875,
          -854756.4375,
          -854770.75,
          -854786.6875,
          -854871.125,
          -854937.6875,
          -855048.25,
          -855072.625,
          -855101.875,
          -855115.5625,
          -855140.5,
          -855207,
          -855253.5625,
          -855341.375,
          -855368.5,
          -855394.4375,
          -855415.875,
          -855435,
          -855445.1875,
          -855448.9375,
          -855559.25,
          -855608.4375,
          -855752.75,
          -855770.375,
          -855800.5,
          -855802.375,
          -855828.4375,
          -855908.125,
          -855915.6875,
          -856021.25,
          -856046.3125,
          -856067.5,
          -856086.5625,
          -856096.1875,
          -856103.5625,
          -856204.25,
          -856236.1875,
          -856373.25,
          -856391.4375,
          -856419.4375,
          -856424.3125,
          -856446,
          -856523.5,
          -856544.125,
          -856645.3125,
          -856668.8125,
          -856691.25,
          -856707.0625,
          -856722.0625,
          -856723.0625,
          -856822.0625
         ]
        }
       ],
       "layout": {
        "template": {
         "data": {
          "bar": [
           {
            "error_x": {
             "color": "#2a3f5f"
            },
            "error_y": {
             "color": "#2a3f5f"
            },
            "marker": {
             "line": {
              "color": "#E5ECF6",
              "width": 0.5
             },
             "pattern": {
              "fillmode": "overlay",
              "size": 10,
              "solidity": 0.2
             }
            },
            "type": "bar"
           }
          ],
          "barpolar": [
           {
            "marker": {
             "line": {
              "color": "#E5ECF6",
              "width": 0.5
             },
             "pattern": {
              "fillmode": "overlay",
              "size": 10,
              "solidity": 0.2
             }
            },
            "type": "barpolar"
           }
          ],
          "carpet": [
           {
            "aaxis": {
             "endlinecolor": "#2a3f5f",
             "gridcolor": "white",
             "linecolor": "white",
             "minorgridcolor": "white",
             "startlinecolor": "#2a3f5f"
            },
            "baxis": {
             "endlinecolor": "#2a3f5f",
             "gridcolor": "white",
             "linecolor": "white",
             "minorgridcolor": "white",
             "startlinecolor": "#2a3f5f"
            },
            "type": "carpet"
           }
          ],
          "choropleth": [
           {
            "colorbar": {
             "outlinewidth": 0,
             "ticks": ""
            },
            "type": "choropleth"
           }
          ],
          "contour": [
           {
            "colorbar": {
             "outlinewidth": 0,
             "ticks": ""
            },
            "colorscale": [
             [
              0,
              "#0d0887"
             ],
             [
              0.1111111111111111,
              "#46039f"
             ],
             [
              0.2222222222222222,
              "#7201a8"
             ],
             [
              0.3333333333333333,
              "#9c179e"
             ],
             [
              0.4444444444444444,
              "#bd3786"
             ],
             [
              0.5555555555555556,
              "#d8576b"
             ],
             [
              0.6666666666666666,
              "#ed7953"
             ],
             [
              0.7777777777777778,
              "#fb9f3a"
             ],
             [
              0.8888888888888888,
              "#fdca26"
             ],
             [
              1,
              "#f0f921"
             ]
            ],
            "type": "contour"
           }
          ],
          "contourcarpet": [
           {
            "colorbar": {
             "outlinewidth": 0,
             "ticks": ""
            },
            "type": "contourcarpet"
           }
          ],
          "heatmap": [
           {
            "colorbar": {
             "outlinewidth": 0,
             "ticks": ""
            },
            "colorscale": [
             [
              0,
              "#0d0887"
             ],
             [
              0.1111111111111111,
              "#46039f"
             ],
             [
              0.2222222222222222,
              "#7201a8"
             ],
             [
              0.3333333333333333,
              "#9c179e"
             ],
             [
              0.4444444444444444,
              "#bd3786"
             ],
             [
              0.5555555555555556,
              "#d8576b"
             ],
             [
              0.6666666666666666,
              "#ed7953"
             ],
             [
              0.7777777777777778,
              "#fb9f3a"
             ],
             [
              0.8888888888888888,
              "#fdca26"
             ],
             [
              1,
              "#f0f921"
             ]
            ],
            "type": "heatmap"
           }
          ],
          "histogram": [
           {
            "marker": {
             "pattern": {
              "fillmode": "overlay",
              "size": 10,
              "solidity": 0.2
             }
            },
            "type": "histogram"
           }
          ],
          "histogram2d": [
           {
            "colorbar": {
             "outlinewidth": 0,
             "ticks": ""
            },
            "colorscale": [
             [
              0,
              "#0d0887"
             ],
             [
              0.1111111111111111,
              "#46039f"
             ],
             [
              0.2222222222222222,
              "#7201a8"
             ],
             [
              0.3333333333333333,
              "#9c179e"
             ],
             [
              0.4444444444444444,
              "#bd3786"
             ],
             [
              0.5555555555555556,
              "#d8576b"
             ],
             [
              0.6666666666666666,
              "#ed7953"
             ],
             [
              0.7777777777777778,
              "#fb9f3a"
             ],
             [
              0.8888888888888888,
              "#fdca26"
             ],
             [
              1,
              "#f0f921"
             ]
            ],
            "type": "histogram2d"
           }
          ],
          "histogram2dcontour": [
           {
            "colorbar": {
             "outlinewidth": 0,
             "ticks": ""
            },
            "colorscale": [
             [
              0,
              "#0d0887"
             ],
             [
              0.1111111111111111,
              "#46039f"
             ],
             [
              0.2222222222222222,
              "#7201a8"
             ],
             [
              0.3333333333333333,
              "#9c179e"
             ],
             [
              0.4444444444444444,
              "#bd3786"
             ],
             [
              0.5555555555555556,
              "#d8576b"
             ],
             [
              0.6666666666666666,
              "#ed7953"
             ],
             [
              0.7777777777777778,
              "#fb9f3a"
             ],
             [
              0.8888888888888888,
              "#fdca26"
             ],
             [
              1,
              "#f0f921"
             ]
            ],
            "type": "histogram2dcontour"
           }
          ],
          "mesh3d": [
           {
            "colorbar": {
             "outlinewidth": 0,
             "ticks": ""
            },
            "type": "mesh3d"
           }
          ],
          "parcoords": [
           {
            "line": {
             "colorbar": {
              "outlinewidth": 0,
              "ticks": ""
             }
            },
            "type": "parcoords"
           }
          ],
          "pie": [
           {
            "automargin": true,
            "type": "pie"
           }
          ],
          "scatter": [
           {
            "fillpattern": {
             "fillmode": "overlay",
             "size": 10,
             "solidity": 0.2
            },
            "type": "scatter"
           }
          ],
          "scatter3d": [
           {
            "line": {
             "colorbar": {
              "outlinewidth": 0,
              "ticks": ""
             }
            },
            "marker": {
             "colorbar": {
              "outlinewidth": 0,
              "ticks": ""
             }
            },
            "type": "scatter3d"
           }
          ],
          "scattercarpet": [
           {
            "marker": {
             "colorbar": {
              "outlinewidth": 0,
              "ticks": ""
             }
            },
            "type": "scattercarpet"
           }
          ],
          "scattergeo": [
           {
            "marker": {
             "colorbar": {
              "outlinewidth": 0,
              "ticks": ""
             }
            },
            "type": "scattergeo"
           }
          ],
          "scattergl": [
           {
            "marker": {
             "colorbar": {
              "outlinewidth": 0,
              "ticks": ""
             }
            },
            "type": "scattergl"
           }
          ],
          "scattermap": [
           {
            "marker": {
             "colorbar": {
              "outlinewidth": 0,
              "ticks": ""
             }
            },
            "type": "scattermap"
           }
          ],
          "scattermapbox": [
           {
            "marker": {
             "colorbar": {
              "outlinewidth": 0,
              "ticks": ""
             }
            },
            "type": "scattermapbox"
           }
          ],
          "scatterpolar": [
           {
            "marker": {
             "colorbar": {
              "outlinewidth": 0,
              "ticks": ""
             }
            },
            "type": "scatterpolar"
           }
          ],
          "scatterpolargl": [
           {
            "marker": {
             "colorbar": {
              "outlinewidth": 0,
              "ticks": ""
             }
            },
            "type": "scatterpolargl"
           }
          ],
          "scatterternary": [
           {
            "marker": {
             "colorbar": {
              "outlinewidth": 0,
              "ticks": ""
             }
            },
            "type": "scatterternary"
           }
          ],
          "surface": [
           {
            "colorbar": {
             "outlinewidth": 0,
             "ticks": ""
            },
            "colorscale": [
             [
              0,
              "#0d0887"
             ],
             [
              0.1111111111111111,
              "#46039f"
             ],
             [
              0.2222222222222222,
              "#7201a8"
             ],
             [
              0.3333333333333333,
              "#9c179e"
             ],
             [
              0.4444444444444444,
              "#bd3786"
             ],
             [
              0.5555555555555556,
              "#d8576b"
             ],
             [
              0.6666666666666666,
              "#ed7953"
             ],
             [
              0.7777777777777778,
              "#fb9f3a"
             ],
             [
              0.8888888888888888,
              "#fdca26"
             ],
             [
              1,
              "#f0f921"
             ]
            ],
            "type": "surface"
           }
          ],
          "table": [
           {
            "cells": {
             "fill": {
              "color": "#EBF0F8"
             },
             "line": {
              "color": "white"
             }
            },
            "header": {
             "fill": {
              "color": "#C8D4E3"
             },
             "line": {
              "color": "white"
             }
            },
            "type": "table"
           }
          ]
         },
         "layout": {
          "annotationdefaults": {
           "arrowcolor": "#2a3f5f",
           "arrowhead": 0,
           "arrowwidth": 1
          },
          "autotypenumbers": "strict",
          "coloraxis": {
           "colorbar": {
            "outlinewidth": 0,
            "ticks": ""
           }
          },
          "colorscale": {
           "diverging": [
            [
             0,
             "#8e0152"
            ],
            [
             0.1,
             "#c51b7d"
            ],
            [
             0.2,
             "#de77ae"
            ],
            [
             0.3,
             "#f1b6da"
            ],
            [
             0.4,
             "#fde0ef"
            ],
            [
             0.5,
             "#f7f7f7"
            ],
            [
             0.6,
             "#e6f5d0"
            ],
            [
             0.7,
             "#b8e186"
            ],
            [
             0.8,
             "#7fbc41"
            ],
            [
             0.9,
             "#4d9221"
            ],
            [
             1,
             "#276419"
            ]
           ],
           "sequential": [
            [
             0,
             "#0d0887"
            ],
            [
             0.1111111111111111,
             "#46039f"
            ],
            [
             0.2222222222222222,
             "#7201a8"
            ],
            [
             0.3333333333333333,
             "#9c179e"
            ],
            [
             0.4444444444444444,
             "#bd3786"
            ],
            [
             0.5555555555555556,
             "#d8576b"
            ],
            [
             0.6666666666666666,
             "#ed7953"
            ],
            [
             0.7777777777777778,
             "#fb9f3a"
            ],
            [
             0.8888888888888888,
             "#fdca26"
            ],
            [
             1,
             "#f0f921"
            ]
           ],
           "sequentialminus": [
            [
             0,
             "#0d0887"
            ],
            [
             0.1111111111111111,
             "#46039f"
            ],
            [
             0.2222222222222222,
             "#7201a8"
            ],
            [
             0.3333333333333333,
             "#9c179e"
            ],
            [
             0.4444444444444444,
             "#bd3786"
            ],
            [
             0.5555555555555556,
             "#d8576b"
            ],
            [
             0.6666666666666666,
             "#ed7953"
            ],
            [
             0.7777777777777778,
             "#fb9f3a"
            ],
            [
             0.8888888888888888,
             "#fdca26"
            ],
            [
             1,
             "#f0f921"
            ]
           ]
          },
          "colorway": [
           "#636efa",
           "#EF553B",
           "#00cc96",
           "#ab63fa",
           "#FFA15A",
           "#19d3f3",
           "#FF6692",
           "#B6E880",
           "#FF97FF",
           "#FECB52"
          ],
          "font": {
           "color": "#2a3f5f"
          },
          "geo": {
           "bgcolor": "white",
           "lakecolor": "white",
           "landcolor": "#E5ECF6",
           "showlakes": true,
           "showland": true,
           "subunitcolor": "white"
          },
          "hoverlabel": {
           "align": "left"
          },
          "hovermode": "closest",
          "mapbox": {
           "style": "light"
          },
          "paper_bgcolor": "white",
          "plot_bgcolor": "#E5ECF6",
          "polar": {
           "angularaxis": {
            "gridcolor": "white",
            "linecolor": "white",
            "ticks": ""
           },
           "bgcolor": "#E5ECF6",
           "radialaxis": {
            "gridcolor": "white",
            "linecolor": "white",
            "ticks": ""
           }
          },
          "scene": {
           "xaxis": {
            "backgroundcolor": "#E5ECF6",
            "gridcolor": "white",
            "gridwidth": 2,
            "linecolor": "white",
            "showbackground": true,
            "ticks": "",
            "zerolinecolor": "white"
           },
           "yaxis": {
            "backgroundcolor": "#E5ECF6",
            "gridcolor": "white",
            "gridwidth": 2,
            "linecolor": "white",
            "showbackground": true,
            "ticks": "",
            "zerolinecolor": "white"
           },
           "zaxis": {
            "backgroundcolor": "#E5ECF6",
            "gridcolor": "white",
            "gridwidth": 2,
            "linecolor": "white",
            "showbackground": true,
            "ticks": "",
            "zerolinecolor": "white"
           }
          },
          "shapedefaults": {
           "line": {
            "color": "#2a3f5f"
           }
          },
          "ternary": {
           "aaxis": {
            "gridcolor": "white",
            "linecolor": "white",
            "ticks": ""
           },
           "baxis": {
            "gridcolor": "white",
            "linecolor": "white",
            "ticks": ""
           },
           "bgcolor": "#E5ECF6",
           "caxis": {
            "gridcolor": "white",
            "linecolor": "white",
            "ticks": ""
           }
          },
          "title": {
           "x": 0.05
          },
          "xaxis": {
           "automargin": true,
           "gridcolor": "white",
           "linecolor": "white",
           "ticks": "",
           "title": {
            "standoff": 15
           },
           "zerolinecolor": "white",
           "zerolinewidth": 2
          },
          "yaxis": {
           "automargin": true,
           "gridcolor": "white",
           "linecolor": "white",
           "ticks": "",
           "title": {
            "standoff": 15
           },
           "zerolinecolor": "white",
           "zerolinewidth": 2
          }
         }
        },
        "title": {
         "text": "Energy Minimization"
        },
        "xaxis": {
         "title": {
          "text": "Energy Minimization Step"
         }
        },
        "yaxis": {
         "title": {
          "text": "Potential Energy KJ/mol-1"
         }
        }
       }
      },
      "text/html": [
       "<div>            <script src=\"https://cdnjs.cloudflare.com/ajax/libs/mathjax/2.7.5/MathJax.js?config=TeX-AMS-MML_SVG\"></script><script type=\"text/javascript\">if (window.MathJax && window.MathJax.Hub && window.MathJax.Hub.Config) {window.MathJax.Hub.Config({SVG: {font: \"STIX-Web\"}});}</script>                <script type=\"text/javascript\">window.PlotlyConfig = {MathJaxConfig: 'local'};</script>\n",
       "        <script charset=\"utf-8\" src=\"https://cdn.plot.ly/plotly-3.0.1.min.js\"></script>                <div id=\"57f9188f-057a-4d2f-8203-17acb310684f\" class=\"plotly-graph-div\" style=\"height:525px; width:100%;\"></div>            <script type=\"text/javascript\">                window.PLOTLYENV=window.PLOTLYENV || {};                                if (document.getElementById(\"57f9188f-057a-4d2f-8203-17acb310684f\")) {                    Plotly.newPlot(                        \"57f9188f-057a-4d2f-8203-17acb310684f\",                        [{\"x\":[0.0,1.0,2.0,3.0,4.0,5.0,6.0,7.0,8.0,9.0,10.0,11.0,12.0,14.0,16.0,17.0,18.0,20.0,21.0,22.0,24.0,25.0,26.0,28.0,29.0,30.0,32.0,33.0,34.0,35.0,36.0,38.0,39.0,40.0,42.0,43.0,44.0,45.0,46.0,48.0,49.0,50.0,52.0,53.0,54.0,55.0,57.0,58.0,59.0,61.0,62.0,63.0,64.0,65.0,66.0,68.0,69.0,70.0,72.0,73.0,74.0,75.0,76.0,78.0,79.0,80.0,82.0,83.0,85.0,86.0,87.0,89.0,90.0,91.0,92.0,93.0,94.0,95.0,97.0,98.0,99.0,101.0,102.0,103.0,104.0,106.0,107.0,108.0,110.0,111.0,112.0,113.0,115.0,116.0,117.0,119.0,120.0,121.0,122.0,124.0,125.0,126.0,128.0,129.0,130.0,131.0,132.0,134.0,135.0,136.0,138.0,139.0,140.0,141.0,142.0,143.0,145.0,147.0,148.0,149.0,150.0,152.0,153.0,154.0,156.0,157.0,158.0,160.0,161.0,162.0,163.0,164.0,165.0,166.0,168.0,169.0,170.0,172.0,173.0,174.0,175.0,177.0,178.0,179.0,181.0,182.0,183.0,184.0,185.0,186.0,188.0,190.0,191.0,192.0,193.0,195.0,196.0,197.0,199.0,200.0,201.0,203.0,204.0,205.0,206.0,207.0,209.0,210.0,211.0,213.0,214.0,215.0,216.0,217.0,218.0,220.0,221.0,222.0,224.0,225.0,226.0,227.0,229.0,230.0,231.0,233.0,234.0,235.0,236.0,237.0,238.0,240.0,241.0,242.0,244.0,245.0,246.0,247.0,249.0,250.0,251.0,253.0,254.0,255.0,256.0,258.0,259.0,260.0,262.0,263.0,264.0,265.0,266.0,268.0,269.0,270.0,272.0,273.0,274.0,275.0,277.0,278.0,279.0,281.0,282.0,283.0,284.0,285.0,287.0,288.0,289.0,291.0,292.0,293.0,294.0,296.0,297.0,298.0,300.0,301.0,302.0,303.0,304.0,306.0,307.0,308.0,310.0,311.0,312.0,313.0,315.0,316.0,317.0,319.0,320.0,321.0,322.0,324.0,325.0,326.0,328.0,329.0,330.0,331.0,332.0,333.0,335.0,336.0,337.0,339.0,340.0,341.0,342.0,344.0,345.0,346.0,348.0,349.0,350.0,351.0,352.0,354.0,355.0,356.0,358.0,359.0,360.0,361.0,363.0,364.0,365.0,367.0,368.0,369.0,370.0,371.0,373.0,374.0,375.0,377.0,378.0,380.0,381.0,382.0,384.0,385.0,386.0,387.0,388.0,389.0,390.0,392.0,393.0,394.0,396.0,397.0,398.0,399.0,401.0,402.0,403.0,405.0,406.0,407.0,408.0,410.0,411.0,412.0,414.0,415.0,416.0,417.0,418.0,419.0,421.0,422.0,423.0,425.0,426.0,428.0,429.0,430.0,432.0,433.0,434.0,435.0,436.0,437.0,438.0,440.0,441.0,442.0,444.0,445.0,446.0,447.0,449.0,450.0,451.0,453.0,454.0,455.0,456.0,458.0,459.0,460.0,462.0,463.0,464.0,465.0,467.0,468.0,469.0,471.0,472.0,473.0,474.0,475.0,476.0,478.0,479.0,480.0,482.0,483.0,484.0,485.0,487.0,488.0,489.0,491.0,492.0,493.0,494.0,495.0,497.0,498.0,499.0,501.0,502.0,503.0,504.0,506.0,507.0,508.0,510.0,511.0,512.0,513.0,514.0,516.0,517.0,518.0,520.0,521.0,522.0,523.0,525.0,526.0,527.0,529.0,530.0,531.0,532.0,533.0,535.0,536.0,537.0,539.0,540.0,541.0,542.0,544.0,545.0,546.0,548.0,549.0,550.0,551.0,552.0,554.0,555.0,556.0,558.0,559.0,560.0,561.0,563.0,564.0,565.0,567.0,568.0,569.0,570.0,571.0,573.0,574.0,575.0,577.0,578.0,579.0,580.0,582.0,583.0,584.0,586.0,587.0,588.0,589.0,590.0,591.0,593.0,595.0,596.0,597.0,598.0,600.0,601.0,602.0,604.0,605.0,606.0,607.0,608.0,610.0,611.0,612.0,614.0,615.0,616.0,617.0,618.0,620.0,621.0,622.0,624.0,625.0,626.0,627.0,628.0,630.0,631.0,632.0,634.0,635.0,636.0,637.0,638.0,639.0,641.0,643.0,644.0,645.0,646.0,648.0,649.0,650.0,652.0,653.0,654.0,656.0,657.0,658.0,659.0,660.0,662.0,663.0,664.0,666.0,667.0,668.0,669.0,670.0,672.0,673.0,674.0,676.0,677.0,678.0,679.0,680.0,682.0,683.0,684.0,686.0,687.0,688.0,689.0,690.0,691.0,693.0,694.0,695.0,697.0,698.0,699.0,700.0,702.0,703.0,704.0,706.0,707.0,708.0,709.0,711.0,712.0,713.0,715.0,716.0,717.0,718.0,720.0,721.0,722.0,724.0,725.0,726.0,727.0,728.0,729.0,731.0,732.0,733.0,735.0,736.0,737.0,738.0,740.0,741.0,742.0,744.0,745.0,746.0,747.0,748.0,750.0,751.0,752.0,754.0,755.0,756.0,757.0,759.0,760.0,761.0,763.0,764.0,765.0,766.0,767.0,769.0],\"y\":[-443273.5,-465062.53125,-506159.21875,-564507.625,-609953.6875,-649245.0,-666895.625,-674735.125,-680707.6875,-686046.5,-687415.4375,-690197.125,-691252.6875,-705897.25,-709347.5,-711776.4375,-714858.875,-718915.6875,-721473.25,-726716.25,-729169.5,-730356.625,-732743.6875,-735606.5625,-737571.3125,-741046.3125,-742654.25,-743834.375,-745291.125,-745701.375,-746896.125,-750242.9375,-751232.5,-755273.1875,-756304.5,-757031.0625,-757847.375,-757988.375,-758387.8125,-762043.25,-762127.25,-766534.125,-767141.875,-767864.375,-768206.875,-768655.5,-770881.75,-772789.6875,-774998.0,-775599.25,-776237.25,-776653.0625,-777220.875,-777340.625,-777775.5625,-779608.0625,-779899.375,-782265.0625,-782683.8125,-783134.25,-783392.6875,-783662.5625,-783679.125,-785580.3125,-786384.4375,-789073.0,-789258.0625,-789772.25,-790469.375,-790964.6875,-791797.1875,-792191.25,-792525.5,-792903.0625,-793108.25,-793416.5,-793432.75,-793546.4375,-794961.0,-795148.9375,-796785.0625,-797015.0625,-797301.3125,-797371.875,-797576.125,-798541.5,-798586.625,-799993.4375,-800195.0,-800434.875,-800510.875,-800620.0,-801571.6875,-801911.375,-803070.0625,-803263.75,-803499.25,-803572.6875,-803746.5,-804459.625,-804650.875,-805539.4375,-805756.0,-805935.875,-806110.5625,-806204.6875,-806289.0,-807039.375,-807506.5625,-808318.0,-808499.6875,-808687.8125,-808809.5625,-808944.75,-808959.125,-808989.0,-809878.3125,-810201.125,-810558.0,-810571.0,-811005.75,-811249.5625,-811351.75,-811614.25,-811871.5,-812068.375,-812389.0,-812575.625,-812744.0,-812934.5,-813036.5625,-813214.3125,-813221.4375,-813357.4375,-813897.25,-813906.5,-814656.5625,-814780.4375,-814924.75,-814986.0,-815081.4375,-815547.0,-815805.6875,-816360.0,-816495.0,-816626.25,-816722.8125,-816810.875,-816831.9375,-816836.875,-817501.0625,-817758.0,-818025.25,-818037.0625,-818364.0,-818543.5625,-818619.0,-818812.6875,-819007.5,-819155.8125,-819399.375,-819540.4375,-819666.6875,-819811.5625,-819885.9375,-820021.9375,-820258.4375,-820479.0625,-820791.25,-820916.875,-821035.1875,-821141.75,-821236.0,-821304.875,-821347.5,-821732.6875,-822082.125,-822548.375,-822645.375,-822761.125,-822814.5625,-822908.6875,-823188.5,-823375.4375,-823755.875,-823857.0625,-823965.3125,-824033.625,-824121.0,-824133.0625,-824165.75,-824603.625,-824655.125,-825199.0,-825273.9375,-825366.1875,-825392.9375,-825451.8125,-825792.25,-825869.0,-826340.9375,-826415.25,-826515.8125,-826545.625,-826621.6875,-826898.9375,-827017.25,-827365.4375,-827453.5,-827535.0,-827599.6875,-827652.0625,-827667.6875,-828002.125,-828280.8125,-828696.125,-828763.4375,-828859.25,-828882.9375,-828964.125,-829202.5625,-829279.0,-829600.625,-829680.1875,-829757.625,-829814.375,-829866.125,-829880.4375,-830183.625,-830429.5,-830857.875,-830912.9375,-831015.875,-831020.625,-831116.125,-831326.125,-831364.4375,-831630.25,-831712.8125,-831770.4375,-831843.25,-831865.3125,-831909.75,-832171.125,-832264.125,-832596.4375,-832660.8125,-832731.375,-832767.4375,-832816.625,-833031.75,-833168.75,-833462.25,-833526.8125,-833603.0,-833640.0,-833702.5625,-833877.6875,-834015.5625,-834237.6875,-834307.9375,-834374.5,-834430.3125,-834479.625,-834504.8125,-834519.5625,-834797.6875,-834875.125,-835264.0,-835305.75,-835385.375,-835387.0,-835452.375,-835659.25,-835682.8125,-835947.0,-836011.125,-836061.5,-836110.0,-836133.375,-836146.1875,-836405.875,-836511.375,-836841.6875,-836887.0,-836953.5,-836965.3125,-837018.0,-837212.1875,-837248.75,-837511.25,-837566.1875,-837622.5625,-837657.8125,-837693.5625,-837693.75,-837940.875,-838103.75,-838452.5,-838487.75,-838566.1875,-838660.9375,-838742.5,-838859.9375,-838924.25,-838980.8125,-839046.5,-839081.5625,-839142.0625,-839143.4375,-839184.3125,-839390.5625,-839405.125,-839670.0625,-839718.6875,-839766.125,-839794.625,-839821.1875,-840002.25,-840117.5,-840365.8125,-840411.0,-840471.8125,-840491.4375,-840543.1875,-840683.0625,-840756.5,-840935.5,-840989.0,-841037.625,-841079.875,-841112.125,-841130.875,-841133.125,-841366.125,-841415.5625,-841740.625,-841769.0625,-841832.0,-841925.8125,-842003.8125,-842122.0625,-842176.9375,-842225.5,-842278.1875,-842310.1875,-842354.0625,-842358.875,-842376.75,-842585.9375,-842606.125,-842876.625,-842912.0,-842960.0625,-842970.0,-843003.5625,-843169.8125,-843197.875,-843422.8125,-843463.5,-843509.3125,-843532.5,-843561.75,-843705.5625,-843804.875,-843990.25,-844032.9375,-844080.75,-844106.875,-844145.5,-844262.0,-844357.625,-844513.0625,-844558.5,-844605.0,-844638.0,-844675.0625,-844687.0,-844699.75,-844883.6875,-844936.0,-845174.625,-845206.8125,-845254.125,-845261.5,-845299.0,-845439.25,-845463.0625,-845651.125,-845691.25,-845730.125,-845757.1875,-845780.125,-845783.0625,-845959.9375,-846054.0,-846298.5,-846325.6875,-846378.875,-846379.375,-846424.5625,-846551.125,-846566.0,-846729.4375,-846771.125,-846804.125,-846836.75,-846852.625,-846863.5,-847024.875,-847099.6875,-847308.9375,-847338.8125,-847384.3125,-847391.75,-847429.6875,-847549.75,-847574.8125,-847734.875,-847773.3125,-847808.1875,-847836.75,-847856.4375,-847865.6875,-848016.6875,-848094.875,-848302.1875,-848330.25,-848375.9375,-848382.8125,-848420.3125,-848532.75,-848562.9375,-848707.9375,-848745.4375,-848778.625,-848806.8125,-848826.75,-848834.875,-848977.5,-849081.5625,-849266.8125,-849294.8125,-849338.0,-849345.0625,-849384.25,-849486.5625,-849510.875,-849646.375,-849683.5,-849714.0625,-849743.8125,-849760.0625,-849774.9375,-849903.3125,-849965.3125,-850140.0,-850168.4375,-850207.875,-850218.9375,-850250.25,-850350.4375,-850395.8125,-850526.0,-850559.8125,-850592.4375,-850617.4375,-850640.25,-850645.625,-850648.8125,-850812.1875,-850876.4375,-850939.8125,-850947.625,-851023.625,-851072.375,-851094.3125,-851149.625,-851196.625,-851232.375,-851288.75,-851289.6875,-851353.8125,-851414.25,-851430.3125,-851504.3125,-851547.125,-851572.6875,-851619.9375,-851621.75,-851669.0,-851746.125,-851762.125,-851860.4375,-851897.6875,-851922.0,-851957.6875,-851965.75,-851992.5625,-852091.0625,-852124.875,-852252.5,-852282.875,-852312.5625,-852333.0,-852353.25,-852354.0,-852355.3125,-852515.1875,-852569.25,-852629.875,-852631.4375,-852704.1875,-852750.1875,-852766.5625,-852819.875,-852864.3125,-852893.8125,-852947.0,-852983.625,-853017.0,-853058.125,-853071.125,-853115.8125,-853169.25,-853200.875,-853267.875,-853302.5,-853330.25,-853365.375,-853379.3125,-853413.125,-853478.1875,-853519.9375,-853604.875,-853636.0,-853663.5625,-853691.5625,-853709.625,-853729.125,-853809.25,-853884.125,-853991.4375,-854019.3125,-854049.8125,-854067.875,-854093.125,-854095.5625,-854106.4375,-854227.1875,-854235.8125,-854393.625,-854413.4375,-854441.9375,-854447.0625,-854467.1875,-854563.125,-854577.9375,-854706.5625,-854730.6875,-854756.4375,-854770.75,-854786.6875,-854871.125,-854937.6875,-855048.25,-855072.625,-855101.875,-855115.5625,-855140.5,-855207.0,-855253.5625,-855341.375,-855368.5,-855394.4375,-855415.875,-855435.0,-855445.1875,-855448.9375,-855559.25,-855608.4375,-855752.75,-855770.375,-855800.5,-855802.375,-855828.4375,-855908.125,-855915.6875,-856021.25,-856046.3125,-856067.5,-856086.5625,-856096.1875,-856103.5625,-856204.25,-856236.1875,-856373.25,-856391.4375,-856419.4375,-856424.3125,-856446.0,-856523.5,-856544.125,-856645.3125,-856668.8125,-856691.25,-856707.0625,-856722.0625,-856723.0625,-856822.0625],\"type\":\"scatter\"}],                        {\"template\":{\"data\":{\"barpolar\":[{\"marker\":{\"line\":{\"color\":\"#E5ECF6\",\"width\":0.5},\"pattern\":{\"fillmode\":\"overlay\",\"size\":10,\"solidity\":0.2}},\"type\":\"barpolar\"}],\"bar\":[{\"error_x\":{\"color\":\"#2a3f5f\"},\"error_y\":{\"color\":\"#2a3f5f\"},\"marker\":{\"line\":{\"color\":\"#E5ECF6\",\"width\":0.5},\"pattern\":{\"fillmode\":\"overlay\",\"size\":10,\"solidity\":0.2}},\"type\":\"bar\"}],\"carpet\":[{\"aaxis\":{\"endlinecolor\":\"#2a3f5f\",\"gridcolor\":\"white\",\"linecolor\":\"white\",\"minorgridcolor\":\"white\",\"startlinecolor\":\"#2a3f5f\"},\"baxis\":{\"endlinecolor\":\"#2a3f5f\",\"gridcolor\":\"white\",\"linecolor\":\"white\",\"minorgridcolor\":\"white\",\"startlinecolor\":\"#2a3f5f\"},\"type\":\"carpet\"}],\"choropleth\":[{\"colorbar\":{\"outlinewidth\":0,\"ticks\":\"\"},\"type\":\"choropleth\"}],\"contourcarpet\":[{\"colorbar\":{\"outlinewidth\":0,\"ticks\":\"\"},\"type\":\"contourcarpet\"}],\"contour\":[{\"colorbar\":{\"outlinewidth\":0,\"ticks\":\"\"},\"colorscale\":[[0.0,\"#0d0887\"],[0.1111111111111111,\"#46039f\"],[0.2222222222222222,\"#7201a8\"],[0.3333333333333333,\"#9c179e\"],[0.4444444444444444,\"#bd3786\"],[0.5555555555555556,\"#d8576b\"],[0.6666666666666666,\"#ed7953\"],[0.7777777777777778,\"#fb9f3a\"],[0.8888888888888888,\"#fdca26\"],[1.0,\"#f0f921\"]],\"type\":\"contour\"}],\"heatmap\":[{\"colorbar\":{\"outlinewidth\":0,\"ticks\":\"\"},\"colorscale\":[[0.0,\"#0d0887\"],[0.1111111111111111,\"#46039f\"],[0.2222222222222222,\"#7201a8\"],[0.3333333333333333,\"#9c179e\"],[0.4444444444444444,\"#bd3786\"],[0.5555555555555556,\"#d8576b\"],[0.6666666666666666,\"#ed7953\"],[0.7777777777777778,\"#fb9f3a\"],[0.8888888888888888,\"#fdca26\"],[1.0,\"#f0f921\"]],\"type\":\"heatmap\"}],\"histogram2dcontour\":[{\"colorbar\":{\"outlinewidth\":0,\"ticks\":\"\"},\"colorscale\":[[0.0,\"#0d0887\"],[0.1111111111111111,\"#46039f\"],[0.2222222222222222,\"#7201a8\"],[0.3333333333333333,\"#9c179e\"],[0.4444444444444444,\"#bd3786\"],[0.5555555555555556,\"#d8576b\"],[0.6666666666666666,\"#ed7953\"],[0.7777777777777778,\"#fb9f3a\"],[0.8888888888888888,\"#fdca26\"],[1.0,\"#f0f921\"]],\"type\":\"histogram2dcontour\"}],\"histogram2d\":[{\"colorbar\":{\"outlinewidth\":0,\"ticks\":\"\"},\"colorscale\":[[0.0,\"#0d0887\"],[0.1111111111111111,\"#46039f\"],[0.2222222222222222,\"#7201a8\"],[0.3333333333333333,\"#9c179e\"],[0.4444444444444444,\"#bd3786\"],[0.5555555555555556,\"#d8576b\"],[0.6666666666666666,\"#ed7953\"],[0.7777777777777778,\"#fb9f3a\"],[0.8888888888888888,\"#fdca26\"],[1.0,\"#f0f921\"]],\"type\":\"histogram2d\"}],\"histogram\":[{\"marker\":{\"pattern\":{\"fillmode\":\"overlay\",\"size\":10,\"solidity\":0.2}},\"type\":\"histogram\"}],\"mesh3d\":[{\"colorbar\":{\"outlinewidth\":0,\"ticks\":\"\"},\"type\":\"mesh3d\"}],\"parcoords\":[{\"line\":{\"colorbar\":{\"outlinewidth\":0,\"ticks\":\"\"}},\"type\":\"parcoords\"}],\"pie\":[{\"automargin\":true,\"type\":\"pie\"}],\"scatter3d\":[{\"line\":{\"colorbar\":{\"outlinewidth\":0,\"ticks\":\"\"}},\"marker\":{\"colorbar\":{\"outlinewidth\":0,\"ticks\":\"\"}},\"type\":\"scatter3d\"}],\"scattercarpet\":[{\"marker\":{\"colorbar\":{\"outlinewidth\":0,\"ticks\":\"\"}},\"type\":\"scattercarpet\"}],\"scattergeo\":[{\"marker\":{\"colorbar\":{\"outlinewidth\":0,\"ticks\":\"\"}},\"type\":\"scattergeo\"}],\"scattergl\":[{\"marker\":{\"colorbar\":{\"outlinewidth\":0,\"ticks\":\"\"}},\"type\":\"scattergl\"}],\"scattermapbox\":[{\"marker\":{\"colorbar\":{\"outlinewidth\":0,\"ticks\":\"\"}},\"type\":\"scattermapbox\"}],\"scattermap\":[{\"marker\":{\"colorbar\":{\"outlinewidth\":0,\"ticks\":\"\"}},\"type\":\"scattermap\"}],\"scatterpolargl\":[{\"marker\":{\"colorbar\":{\"outlinewidth\":0,\"ticks\":\"\"}},\"type\":\"scatterpolargl\"}],\"scatterpolar\":[{\"marker\":{\"colorbar\":{\"outlinewidth\":0,\"ticks\":\"\"}},\"type\":\"scatterpolar\"}],\"scatter\":[{\"fillpattern\":{\"fillmode\":\"overlay\",\"size\":10,\"solidity\":0.2},\"type\":\"scatter\"}],\"scatterternary\":[{\"marker\":{\"colorbar\":{\"outlinewidth\":0,\"ticks\":\"\"}},\"type\":\"scatterternary\"}],\"surface\":[{\"colorbar\":{\"outlinewidth\":0,\"ticks\":\"\"},\"colorscale\":[[0.0,\"#0d0887\"],[0.1111111111111111,\"#46039f\"],[0.2222222222222222,\"#7201a8\"],[0.3333333333333333,\"#9c179e\"],[0.4444444444444444,\"#bd3786\"],[0.5555555555555556,\"#d8576b\"],[0.6666666666666666,\"#ed7953\"],[0.7777777777777778,\"#fb9f3a\"],[0.8888888888888888,\"#fdca26\"],[1.0,\"#f0f921\"]],\"type\":\"surface\"}],\"table\":[{\"cells\":{\"fill\":{\"color\":\"#EBF0F8\"},\"line\":{\"color\":\"white\"}},\"header\":{\"fill\":{\"color\":\"#C8D4E3\"},\"line\":{\"color\":\"white\"}},\"type\":\"table\"}]},\"layout\":{\"annotationdefaults\":{\"arrowcolor\":\"#2a3f5f\",\"arrowhead\":0,\"arrowwidth\":1},\"autotypenumbers\":\"strict\",\"coloraxis\":{\"colorbar\":{\"outlinewidth\":0,\"ticks\":\"\"}},\"colorscale\":{\"diverging\":[[0,\"#8e0152\"],[0.1,\"#c51b7d\"],[0.2,\"#de77ae\"],[0.3,\"#f1b6da\"],[0.4,\"#fde0ef\"],[0.5,\"#f7f7f7\"],[0.6,\"#e6f5d0\"],[0.7,\"#b8e186\"],[0.8,\"#7fbc41\"],[0.9,\"#4d9221\"],[1,\"#276419\"]],\"sequential\":[[0.0,\"#0d0887\"],[0.1111111111111111,\"#46039f\"],[0.2222222222222222,\"#7201a8\"],[0.3333333333333333,\"#9c179e\"],[0.4444444444444444,\"#bd3786\"],[0.5555555555555556,\"#d8576b\"],[0.6666666666666666,\"#ed7953\"],[0.7777777777777778,\"#fb9f3a\"],[0.8888888888888888,\"#fdca26\"],[1.0,\"#f0f921\"]],\"sequentialminus\":[[0.0,\"#0d0887\"],[0.1111111111111111,\"#46039f\"],[0.2222222222222222,\"#7201a8\"],[0.3333333333333333,\"#9c179e\"],[0.4444444444444444,\"#bd3786\"],[0.5555555555555556,\"#d8576b\"],[0.6666666666666666,\"#ed7953\"],[0.7777777777777778,\"#fb9f3a\"],[0.8888888888888888,\"#fdca26\"],[1.0,\"#f0f921\"]]},\"colorway\":[\"#636efa\",\"#EF553B\",\"#00cc96\",\"#ab63fa\",\"#FFA15A\",\"#19d3f3\",\"#FF6692\",\"#B6E880\",\"#FF97FF\",\"#FECB52\"],\"font\":{\"color\":\"#2a3f5f\"},\"geo\":{\"bgcolor\":\"white\",\"lakecolor\":\"white\",\"landcolor\":\"#E5ECF6\",\"showlakes\":true,\"showland\":true,\"subunitcolor\":\"white\"},\"hoverlabel\":{\"align\":\"left\"},\"hovermode\":\"closest\",\"mapbox\":{\"style\":\"light\"},\"paper_bgcolor\":\"white\",\"plot_bgcolor\":\"#E5ECF6\",\"polar\":{\"angularaxis\":{\"gridcolor\":\"white\",\"linecolor\":\"white\",\"ticks\":\"\"},\"bgcolor\":\"#E5ECF6\",\"radialaxis\":{\"gridcolor\":\"white\",\"linecolor\":\"white\",\"ticks\":\"\"}},\"scene\":{\"xaxis\":{\"backgroundcolor\":\"#E5ECF6\",\"gridcolor\":\"white\",\"gridwidth\":2,\"linecolor\":\"white\",\"showbackground\":true,\"ticks\":\"\",\"zerolinecolor\":\"white\"},\"yaxis\":{\"backgroundcolor\":\"#E5ECF6\",\"gridcolor\":\"white\",\"gridwidth\":2,\"linecolor\":\"white\",\"showbackground\":true,\"ticks\":\"\",\"zerolinecolor\":\"white\"},\"zaxis\":{\"backgroundcolor\":\"#E5ECF6\",\"gridcolor\":\"white\",\"gridwidth\":2,\"linecolor\":\"white\",\"showbackground\":true,\"ticks\":\"\",\"zerolinecolor\":\"white\"}},\"shapedefaults\":{\"line\":{\"color\":\"#2a3f5f\"}},\"ternary\":{\"aaxis\":{\"gridcolor\":\"white\",\"linecolor\":\"white\",\"ticks\":\"\"},\"baxis\":{\"gridcolor\":\"white\",\"linecolor\":\"white\",\"ticks\":\"\"},\"bgcolor\":\"#E5ECF6\",\"caxis\":{\"gridcolor\":\"white\",\"linecolor\":\"white\",\"ticks\":\"\"}},\"title\":{\"x\":0.05},\"xaxis\":{\"automargin\":true,\"gridcolor\":\"white\",\"linecolor\":\"white\",\"ticks\":\"\",\"title\":{\"standoff\":15},\"zerolinecolor\":\"white\",\"zerolinewidth\":2},\"yaxis\":{\"automargin\":true,\"gridcolor\":\"white\",\"linecolor\":\"white\",\"ticks\":\"\",\"title\":{\"standoff\":15},\"zerolinecolor\":\"white\",\"zerolinewidth\":2}}},\"title\":{\"text\":\"Energy Minimization\"},\"xaxis\":{\"title\":{\"text\":\"Energy Minimization Step\"}},\"yaxis\":{\"title\":{\"text\":\"Potential Energy KJ\\u002fmol-1\"}}},                        {\"responsive\": true}                    ).then(function(){\n",
       "                            \n",
       "var gd = document.getElementById('57f9188f-057a-4d2f-8203-17acb310684f');\n",
       "var x = new MutationObserver(function (mutations, observer) {{\n",
       "        var display = window.getComputedStyle(gd).display;\n",
       "        if (!display || display === 'none') {{\n",
       "            console.log([gd, 'removed!']);\n",
       "            Plotly.purge(gd);\n",
       "            observer.disconnect();\n",
       "        }}\n",
       "}});\n",
       "\n",
       "// Listen for the removal of the full notebook cells\n",
       "var notebookContainer = gd.closest('#notebook-container');\n",
       "if (notebookContainer) {{\n",
       "    x.observe(notebookContainer, {childList: true});\n",
       "}}\n",
       "\n",
       "// Listen for the clearing of the current output cell\n",
       "var outputEl = gd.closest('.output');\n",
       "if (outputEl) {{\n",
       "    x.observe(outputEl, {childList: true});\n",
       "}}\n",
       "\n",
       "                        })                };            </script>        </div>"
      ]
     },
     "metadata": {},
     "output_type": "display_data"
    }
   ],
   "source": [
    "import plotly\n",
    "import plotly.graph_objs as go\n",
    "\n",
    "#Read data from file and filter energy values higher than 1000 Kj/mol^-1\n",
    "with open(output_min_ene_xvg,'r') as energy_file:\n",
    "    x,y = map(\n",
    "        list,\n",
    "        zip(*[\n",
    "            (float(line.split()[0]),float(line.split()[1]))\n",
    "            for line in energy_file \n",
    "            if not line.startswith((\"#\",\"@\")) \n",
    "            if float(line.split()[1]) < 1000 \n",
    "        ])\n",
    "    )\n",
    "\n",
    "plotly.offline.init_notebook_mode(connected=True)\n",
    "\n",
    "fig = {\n",
    "    \"data\": [go.Scatter(x=x, y=y)],\n",
    "    \"layout\": go.Layout(title=\"Energy Minimization\",\n",
    "                        xaxis=dict(title = \"Energy Minimization Step\"),\n",
    "                        yaxis=dict(title = \"Potential Energy KJ/mol-1\")\n",
    "                       )\n",
    "}\n",
    "\n",
    "plotly.offline.iplot(fig)"
   ]
  },
  {
   "cell_type": "markdown",
   "metadata": {},
   "source": [
    "<a id=\"npt\"></a>\n",
    "***\n",
    "### Equilibrate the system (NPT)\n",
    "Equilibrate the **protein system** in **NPT** ensemble (constant Number of particles, Pressure and Temperature).\n",
    "- [Step 1](#eqNPTStep1): Creating portable binary run file for system equilibration\n",
    "- [Step 2](#eqNPTStep2): Equilibrate the **protein system** with **NPT** ensemble.\n",
    "- [Step 3](#eqNPTStep3): Checking **NPT Equilibration** results. Plotting **system pressure and density** by time during the **NPT equilibration** process.\n",
    "***\n",
    "**Building Blocks** used:\n",
    " - [Grompp](https://biobb-md.readthedocs.io/en/latest/gromacs.html#module-gromacs.grompp) from **biobb_gromacs.gromacs.grompp** \n",
    " - [Mdrun](https://biobb-md.readthedocs.io/en/latest/gromacs.html#module-gromacs.mdrun) from **biobb_gromacs.gromacs.mdrun** \n",
    " - [GMXEnergy](https://biobb-analysis.readthedocs.io/en/latest/gromacs.html#module-gromacs.gmx_energy) from **biobb_analysis.gromacs.gmx_energy** \n",
    "***"
   ]
  },
  {
   "cell_type": "markdown",
   "metadata": {},
   "source": [
    "<a id=\"eqNPTStep1\"></a>\n",
    "#### Step 1: Creating portable binary run file for system equilibration (NPT)\n",
    "\n",
    "The **npt** type of the **molecular dynamics parameters (mdp) property** contains the main default parameters to run an **NPT equilibration** with **protein restraints** (see [GROMACS mdp options](http://manual.gromacs.org/documentation/2018/user-guide/mdp-options.html)):\n",
    "\n",
    "-  Define                   = -DPOSRES\n",
    "-  integrator               = md\n",
    "-  dt                       = 0.002\n",
    "-  nsteps                   = 5000\n",
    "-  pcoupl = Parrinello-Rahman\n",
    "-  pcoupltype = isotropic\n",
    "-  tau_p = 1.0\n",
    "-  ref_p = 1.0\n",
    "-  compressibility = 4.5e-5\n",
    "-  refcoord_scaling = com\n",
    "-  gen_vel = no\n",
    "\n",
    "In this particular example, the default parameters will be used: **md** integrator algorithm, a **time step** of **2fs**, **5,000 equilibration steps** with the protein **heavy atoms restrained**, and a Parrinello-Rahman **pressure coupling** algorithm.\n",
    "\n",
    "*Please note that for the sake of time this tutorial is only running 10ps of NPT equilibration, whereas in the [original example](http://www.mdtutorials.com/gmx/lysozyme/07_equil2.html) the simulated time was 100ps.*"
   ]
  },
  {
   "cell_type": "code",
   "execution_count": 23,
   "metadata": {},
   "outputs": [],
   "source": [
    "# From https://github.com/alevil-gmx/workflow_template/blob/main/workflow_template/data/input/md_eq_posre_charmm36m.mdp\n",
    "# !! se cambia define -> Define y ns_type -> ns-type o el biobb da error (TO-DO arreglar)\n",
    "\n",
    "input_mdp_eq = f\"{MD_inp}md_eq_posre_charmm36m.mdp\"\n",
    "fl=\"\"\"Define                   = -DPOSRES\n",
    "integrator               = md\n",
    "tinit                    = 0\n",
    "dt                       = 0.002\n",
    "nsteps                   = 500000   ; 1  ns\n",
    "comm_grps                = system\n",
    "nstxout                  = 0\n",
    "nstvout                  = 0\n",
    "nstfout                  = 0\n",
    "nstlog                   = 10000\n",
    "nstenergy                = 10000\n",
    "nstxout-compressed       = 10000\n",
    "compressed-x-grps        = system \n",
    "nstlist                  = 10\n",
    "ns-type                  = grid\n",
    "pbc                      = xyz\n",
    "; \n",
    "coulombtype              = PME\n",
    "rcoulomb                 = 1.2\n",
    "fourierspacing           = 0.15 \n",
    ";\n",
    "vdwtype                  = Cut-off\n",
    "vdw_modifier=Force-switch\n",
    "rvdw_switch              = 1.0\n",
    "rvdw                     = 1.2\n",
    "DispCorr                 = EnerPres\n",
    ";\n",
    "constraints              = h-bonds\n",
    "constraint_algorithm     = LINCS\n",
    "; new\n",
    "Pcoupl                   = Berendsen\n",
    "tau_p                    = 5.0  \n",
    "ref_p                    = 1.0 \n",
    "compressibility          = 4.5e-5 \n",
    "refcoord-scaling         = all     ; to use with pos restrain\n",
    "Tcoupl                   = v-rescale \n",
    "tc-grps                  = system\n",
    "tau_t                    = 0.5 \n",
    "ref_t                    = 298 \"\"\"\n",
    "with open(input_mdp_eq, 'w') as f:\n",
    "    f.write(fl)"
   ]
  },
  {
   "cell_type": "code",
   "execution_count": 24,
   "metadata": {
    "scrolled": true
   },
   "outputs": [
    {
     "name": "stdout",
     "output_type": "stream",
     "text": [
      "2025-06-04 10:23:48,451 [MainThread  ] [INFO ]  Module: biobb_gromacs.gromacs.grompp Version: 5.0.0\n",
      "2025-06-04 10:23:48,452 [MainThread  ] [INFO ]  /home/rchaves/repo/biobb/biobb_wf_antibody/biobb_wf_antibody/notebooks/sandbox_a1841467-8a9d-47f8-8d5a-62eefb6c1cbc directory successfully created\n",
      "2025-06-04 10:23:48,455 [MainThread  ] [INFO ]  Copy: data/antibody/1_MD/4G6K_min.gro to /home/rchaves/repo/biobb/biobb_wf_antibody/biobb_wf_antibody/notebooks/sandbox_a1841467-8a9d-47f8-8d5a-62eefb6c1cbc\n",
      "2025-06-04 10:23:48,455 [MainThread  ] [INFO ]  Copy: data/antibody/1_MD/input/md_eq_posre_charmm36m.mdp to /home/rchaves/repo/biobb/biobb_wf_antibody/biobb_wf_antibody/notebooks/sandbox_a1841467-8a9d-47f8-8d5a-62eefb6c1cbc\n",
      "2025-06-04 10:23:48,458 [MainThread  ] [INFO ]  Extracting: /home/rchaves/repo/biobb/biobb_wf_antibody/biobb_wf_antibody/notebooks/data/antibody/1_MD/4G6K_genion_top.zip\n",
      "2025-06-04 10:23:48,459 [MainThread  ] [INFO ]  to:\n",
      "2025-06-04 10:23:48,459 [MainThread  ] [INFO ]  ['/home/rchaves/repo/biobb/biobb_wf_antibody/biobb_wf_antibody/notebooks/sandbox_a1841467-8a9d-47f8-8d5a-62eefb6c1cbc/p2g.top', '/home/rchaves/repo/biobb/biobb_wf_antibody/biobb_wf_antibody/notebooks/sandbox_a1841467-8a9d-47f8-8d5a-62eefb6c1cbc/p2g_Protein_chain_H.itp', '/home/rchaves/repo/biobb/biobb_wf_antibody/biobb_wf_antibody/notebooks/sandbox_a1841467-8a9d-47f8-8d5a-62eefb6c1cbc/p2g_Protein_chain_L.itp', '/home/rchaves/repo/biobb/biobb_wf_antibody/biobb_wf_antibody/notebooks/sandbox_a1841467-8a9d-47f8-8d5a-62eefb6c1cbc/posre_Protein_chain_H.itp', '/home/rchaves/repo/biobb/biobb_wf_antibody/biobb_wf_antibody/notebooks/sandbox_a1841467-8a9d-47f8-8d5a-62eefb6c1cbc/posre_Protein_chain_L.itp']\n",
      "2025-06-04 10:23:48,459 [MainThread  ] [INFO ]  Unzipping: \n",
      "2025-06-04 10:23:48,460 [MainThread  ] [INFO ]  data/antibody/1_MD/4G6K_genion_top.zip\n",
      "2025-06-04 10:23:48,460 [MainThread  ] [INFO ]  To: \n",
      "2025-06-04 10:23:48,460 [MainThread  ] [INFO ]  /home/rchaves/repo/biobb/biobb_wf_antibody/biobb_wf_antibody/notebooks/sandbox_a1841467-8a9d-47f8-8d5a-62eefb6c1cbc/p2g.top\n",
      "2025-06-04 10:23:48,460 [MainThread  ] [INFO ]  /home/rchaves/repo/biobb/biobb_wf_antibody/biobb_wf_antibody/notebooks/sandbox_a1841467-8a9d-47f8-8d5a-62eefb6c1cbc/p2g_Protein_chain_H.itp\n",
      "2025-06-04 10:23:48,461 [MainThread  ] [INFO ]  /home/rchaves/repo/biobb/biobb_wf_antibody/biobb_wf_antibody/notebooks/sandbox_a1841467-8a9d-47f8-8d5a-62eefb6c1cbc/p2g_Protein_chain_L.itp\n",
      "2025-06-04 10:23:48,461 [MainThread  ] [INFO ]  /home/rchaves/repo/biobb/biobb_wf_antibody/biobb_wf_antibody/notebooks/sandbox_a1841467-8a9d-47f8-8d5a-62eefb6c1cbc/posre_Protein_chain_H.itp\n",
      "2025-06-04 10:23:48,461 [MainThread  ] [INFO ]  /home/rchaves/repo/biobb/biobb_wf_antibody/biobb_wf_antibody/notebooks/sandbox_a1841467-8a9d-47f8-8d5a-62eefb6c1cbc/posre_Protein_chain_L.itp\n",
      "2025-06-04 10:23:48,462 [MainThread  ] [INFO ]  gmx -nobackup -nocopyright grompp -f /home/rchaves/repo/biobb/biobb_wf_antibody/biobb_wf_antibody/notebooks/sandbox_a1841467-8a9d-47f8-8d5a-62eefb6c1cbc/grompp.mdp -c /home/rchaves/repo/biobb/biobb_wf_antibody/biobb_wf_antibody/notebooks/sandbox_a1841467-8a9d-47f8-8d5a-62eefb6c1cbc/4G6K_min.gro -r /home/rchaves/repo/biobb/biobb_wf_antibody/biobb_wf_antibody/notebooks/sandbox_a1841467-8a9d-47f8-8d5a-62eefb6c1cbc/4G6K_min.gro -p /home/rchaves/repo/biobb/biobb_wf_antibody/biobb_wf_antibody/notebooks/sandbox_a1841467-8a9d-47f8-8d5a-62eefb6c1cbc/p2g.top -o /home/rchaves/repo/biobb/biobb_wf_antibody/biobb_wf_antibody/notebooks/sandbox_a1841467-8a9d-47f8-8d5a-62eefb6c1cbc/4G6K_gppnpt.tpr -po mdout.mdp -maxwarn 1\n",
      "\n",
      "2025-06-04 10:23:49,285 [MainThread  ] [INFO ]  Executing: gmx -nobackup -nocopyright grompp -f /home/rchaves/repo/biobb/biobb_wf_antibody/...\n",
      "2025-06-04 10:23:49,285 [MainThread  ] [INFO ]  Exit code: 0\n",
      "2025-06-04 10:23:49,286 [MainThread  ] [INFO ]  Setting the LD random seed to 2147221486\n",
      "\n",
      "Generated 97877 of the 97903 non-bonded parameter combinations\n",
      "\n",
      "Generated 64492 of the 97903 1-4 parameter combinations\n",
      "\n",
      "Excluding 3 bonded neighbours molecule type 'Protein_chain_H'\n",
      "\n",
      "turning H bonds into constraints...\n",
      "\n",
      "Excluding 3 bonded neighbours molecule type 'Protein_chain_L'\n",
      "\n",
      "turning H bonds into constraints...\n",
      "\n",
      "Excluding 2 bonded neighbours molecule type 'SOL'\n",
      "\n",
      "turning H bonds into constraints...\n",
      "\n",
      "Excluding 1 bonded neighbours molecule type 'NA'\n",
      "\n",
      "turning H bonds into constraints...\n",
      "\n",
      "Excluding 1 bonded neighbours molecule type 'CL'\n",
      "\n",
      "turning H bonds into constraints...\n",
      "Analysing residue names:\n",
      "There are:   432    Protein residues\n",
      "There are: 16778      Water residues\n",
      "There are:    43        Ion residues\n",
      "Analysing Protein...\n",
      "Analysing residues not classified as Protein/DNA/RNA/Water and splitting into groups...\n",
      "\n",
      "The largest distance between excluded atoms is 0.447 nm\n",
      "\n",
      "Determining Verlet buffer for a tolerance of 0.005 kJ/mol/ps at 298 K\n",
      "\n",
      "Calculated rlist for 1x1 atom pair-list as 1.232 nm, buffer size 0.032 nm\n",
      "\n",
      "Set rlist, assuming 4x4 atom pair-list, to 1.200 nm, buffer size 0.000 nm\n",
      "\n",
      "Note that mdrun will redetermine rlist based on the actual pair-list setup\n",
      "Calculating fourier grid dimensions for X Y Z\n",
      "Using a fourier grid of 64x64x64, spacing 0.147 0.147 0.147\n",
      "\n",
      "Estimate for the relative computational load of the PME mesh part: 0.16\n",
      "\n",
      "This run will generate roughly 5 Mb of data\n",
      "\n",
      "2025-06-04 10:23:49,286 [MainThread  ] [INFO ]                  :-) GROMACS - gmx grompp, 2022.2-conda_forge (-:\n",
      "\n",
      "Executable:   /home/rchaves/miniforge3/envs/biobb_wf_antibody/bin.AVX2_256/gmx\n",
      "Data prefix:  /home/rchaves/miniforge3/envs/biobb_wf_antibody\n",
      "Working dir:  /home/rchaves/repo/biobb/biobb_wf_antibody/biobb_wf_antibody/notebooks\n",
      "Command line:\n",
      "  gmx -nobackup -nocopyright grompp -f /home/rchaves/repo/biobb/biobb_wf_antibody/biobb_wf_antibody/notebooks/sandbox_a1841467-8a9d-47f8-8d5a-62eefb6c1cbc/grompp.mdp -c /home/rchaves/repo/biobb/biobb_wf_antibody/biobb_wf_antibody/notebooks/sandbox_a1841467-8a9d-47f8-8d5a-62eefb6c1cbc/4G6K_min.gro -r /home/rchaves/repo/biobb/biobb_wf_antibody/biobb_wf_antibody/notebooks/sandbox_a1841467-8a9d-47f8-8d5a-62eefb6c1cbc/4G6K_min.gro -p /home/rchaves/repo/biobb/biobb_wf_antibody/biobb_wf_antibody/notebooks/sandbox_a1841467-8a9d-47f8-8d5a-62eefb6c1cbc/p2g.top -o /home/rchaves/repo/biobb/biobb_wf_antibody/biobb_wf_antibody/notebooks/sandbox_a1841467-8a9d-47f8-8d5a-62eefb6c1cbc/4G6K_gppnpt.tpr -po mdout.mdp -maxwarn 1\n",
      "\n",
      "Ignoring obsolete mdp entry 'ns-type'\n",
      "\n",
      "WARNING 1 [file /home/rchaves/repo/biobb/biobb_wf_antibody/biobb_wf_antibody/notebooks/sandbox_a1841467-8a9d-47f8-8d5a-62eefb6c1cbc/grompp.mdp]:\n",
      "  The Berendsen barostat does not generate any strictly correct ensemble,\n",
      "  and should not be used for new production simulations (in our opinion).\n",
      "  For isotropic scaling we would recommend the C-rescale barostat that also\n",
      "  ensures fast relaxation without oscillations, and for anisotropic scaling\n",
      "  you likely want to use the Parrinello-Rahman barostat.\n",
      "\n",
      "Generating 1-4 interactions: fudge = 1\n",
      "Number of degrees of freedom in T-Coupling group System is 117137.00\n",
      "\n",
      "NOTE 1 [file /home/rchaves/repo/biobb/biobb_wf_antibody/biobb_wf_antibody/notebooks/sandbox_a1841467-8a9d-47f8-8d5a-62eefb6c1cbc/grompp.mdp]:\n",
      "  Removing center of mass motion in the presence of position restraints\n",
      "  might cause artifacts. When you are using position restraints to\n",
      "  equilibrate a macro-molecule, the artifacts are usually negligible.\n",
      "\n",
      "\n",
      "There was 1 note\n",
      "\n",
      "There was 1 warning\n",
      "\n",
      "GROMACS reminds you: \"There is no reason for any individual to have a computer in his home.\" (Ken Olsen, head of Digital Equipment Corp.)\n",
      "\n",
      "\n",
      "2025-06-04 10:23:49,291 [MainThread  ] [INFO ]  Removed: ['/home/rchaves/repo/biobb/biobb_wf_antibody/biobb_wf_antibody/notebooks/sandbox_a1841467-8a9d-47f8-8d5a-62eefb6c1cbc', 'mdout.mdp']\n",
      "2025-06-04 10:23:49,291 [MainThread  ] [INFO ]  \n"
     ]
    },
    {
     "data": {
      "text/plain": [
       "0"
      ]
     },
     "execution_count": 24,
     "metadata": {},
     "output_type": "execute_result"
    }
   ],
   "source": [
    "# Grompp: Creating portable binary run file for NPT Equilibration\n",
    "from biobb_gromacs.gromacs.grompp import grompp\n",
    "\n",
    "# Create prop dict and inputs/outputs\n",
    "output_gppnpt_tpr = f'{MD_dir}{pdbCode}_gppnpt.tpr'\n",
    "\n",
    "prop = {\n",
    "    'mdp': {\n",
    "        'nsteps' : 5000, # subir\n",
    "    },\n",
    "    'gmx_lib' : f'{cwd}/{MD_inp}',\n",
    "    'maxwarn' : 1,\n",
    "}\n",
    "\n",
    "# Create and launch bb\n",
    "grompp(input_gro_path=output_min_gro, \n",
    "       input_top_zip_path=output_genion_top_zip, \n",
    "       input_mdp_path=input_mdp_eq,\n",
    "       output_tpr_path=output_gppnpt_tpr,  \n",
    "       properties=def_dict(prop))"
   ]
  },
  {
   "cell_type": "markdown",
   "metadata": {},
   "source": [
    "<a id=\"eqNPTStep2\"></a>\n",
    "#### Step 2: Running NPT equilibration"
   ]
  },
  {
   "cell_type": "code",
   "execution_count": 25,
   "metadata": {},
   "outputs": [
    {
     "name": "stdout",
     "output_type": "stream",
     "text": [
      "2025-06-04 10:23:49,346 [MainThread  ] [INFO ]  Module: biobb_gromacs.gromacs.mdrun Version: 5.0.0\n",
      "2025-06-04 10:23:49,346 [MainThread  ] [INFO ]  /home/rchaves/repo/biobb/biobb_wf_antibody/biobb_wf_antibody/notebooks/sandbox_b8d1f1ca-4b65-4973-a634-557a25edfc8f directory successfully created\n",
      "2025-06-04 10:23:49,349 [MainThread  ] [INFO ]  Copy: data/antibody/1_MD/4G6K_gppnpt.tpr to /home/rchaves/repo/biobb/biobb_wf_antibody/biobb_wf_antibody/notebooks/sandbox_b8d1f1ca-4b65-4973-a634-557a25edfc8f\n",
      "2025-06-04 10:23:49,350 [MainThread  ] [INFO ]  gmx -nobackup -nocopyright mdrun -o /home/rchaves/repo/biobb/biobb_wf_antibody/biobb_wf_antibody/notebooks/sandbox_b8d1f1ca-4b65-4973-a634-557a25edfc8f/4G6K_npt.trr -s /home/rchaves/repo/biobb/biobb_wf_antibody/biobb_wf_antibody/notebooks/sandbox_b8d1f1ca-4b65-4973-a634-557a25edfc8f/4G6K_gppnpt.tpr -c /home/rchaves/repo/biobb/biobb_wf_antibody/biobb_wf_antibody/notebooks/sandbox_b8d1f1ca-4b65-4973-a634-557a25edfc8f/4G6K_npt.gro -e /home/rchaves/repo/biobb/biobb_wf_antibody/biobb_wf_antibody/notebooks/sandbox_b8d1f1ca-4b65-4973-a634-557a25edfc8f/4G6K_npt.edr -g /home/rchaves/repo/biobb/biobb_wf_antibody/biobb_wf_antibody/notebooks/sandbox_b8d1f1ca-4b65-4973-a634-557a25edfc8f/4G6K_npt.log -cpo /home/rchaves/repo/biobb/biobb_wf_antibody/biobb_wf_antibody/notebooks/sandbox_b8d1f1ca-4b65-4973-a634-557a25edfc8f/4G6K_npt.cpt\n",
      "\n",
      "2025-06-04 10:25:23,996 [MainThread  ] [INFO ]  Executing: gmx -nobackup -nocopyright mdrun -o /home/rchaves/repo/biobb/biobb_wf_antibody/b...\n",
      "2025-06-04 10:25:23,996 [MainThread  ] [INFO ]  Exit code: 0\n",
      "2025-06-04 10:25:23,997 [MainThread  ] [INFO ]                  :-) GROMACS - gmx mdrun, 2022.2-conda_forge (-:\n",
      "\n",
      "Executable:   /home/rchaves/miniforge3/envs/biobb_wf_antibody/bin.AVX2_256/gmx\n",
      "Data prefix:  /home/rchaves/miniforge3/envs/biobb_wf_antibody\n",
      "Working dir:  /home/rchaves/repo/biobb/biobb_wf_antibody/biobb_wf_antibody/notebooks\n",
      "Command line:\n",
      "  gmx -nobackup -nocopyright mdrun -o /home/rchaves/repo/biobb/biobb_wf_antibody/biobb_wf_antibody/notebooks/sandbox_b8d1f1ca-4b65-4973-a634-557a25edfc8f/4G6K_npt.trr -s /home/rchaves/repo/biobb/biobb_wf_antibody/biobb_wf_antibody/notebooks/sandbox_b8d1f1ca-4b65-4973-a634-557a25edfc8f/4G6K_gppnpt.tpr -c /home/rchaves/repo/biobb/biobb_wf_antibody/biobb_wf_antibody/notebooks/sandbox_b8d1f1ca-4b65-4973-a634-557a25edfc8f/4G6K_npt.gro -e /home/rchaves/repo/biobb/biobb_wf_antibody/biobb_wf_antibody/notebooks/sandbox_b8d1f1ca-4b65-4973-a634-557a25edfc8f/4G6K_npt.edr -g /home/rchaves/repo/biobb/biobb_wf_antibody/biobb_wf_antibody/notebooks/sandbox_b8d1f1ca-4b65-4973-a634-557a25edfc8f/4G6K_npt.log -cpo /home/rchaves/repo/biobb/biobb_wf_antibody/biobb_wf_antibody/notebooks/sandbox_b8d1f1ca-4b65-4973-a634-557a25edfc8f/4G6K_npt.cpt\n",
      "\n",
      "Reading file /home/rchaves/repo/biobb/biobb_wf_antibody/biobb_wf_antibody/notebooks/sandbox_b8d1f1ca-4b65-4973-a634-557a25edfc8f/4G6K_gppnpt.tpr, VERSION 2022.2-conda_forge (single precision)\n",
      "Changing nstlist from 10 to 80, rlist from 1.2 to 1.314\n",
      "\n",
      "Using 1 MPI thread\n",
      "Using 16 OpenMP threads \n",
      "\n",
      "starting mdrun 'Protein in water'\n",
      "5000 steps,     10.0 ps.\n",
      "\n",
      "Writing final coordinates.\n",
      "\n",
      "               Core t (s)   Wall t (s)        (%)\n",
      "       Time:     1506.929       94.183     1600.0\n",
      "                 (ns/day)    (hour/ns)\n",
      "Performance:        9.175        2.616\n",
      "\n",
      "GROMACS reminds you: \"This is extremely unlikely.\" (Berk Hess)\n",
      "\n",
      "\n",
      "2025-06-04 10:25:24,003 [MainThread  ] [INFO ]  Removed: ['traj_comp.xtc', '/home/rchaves/repo/biobb/biobb_wf_antibody/biobb_wf_antibody/notebooks/sandbox_b8d1f1ca-4b65-4973-a634-557a25edfc8f']\n",
      "2025-06-04 10:25:24,004 [MainThread  ] [INFO ]  Path data/antibody/1_MD/4G6K_npt.trr --- biobb_gromacs.gromacs.mdrun: Unexisting output_trr_path file.\n",
      "2025-06-04 10:25:24,004 [MainThread  ] [INFO ]  \n"
     ]
    },
    {
     "name": "stderr",
     "output_type": "stream",
     "text": [
      "/home/rchaves/miniforge3/envs/biobb_wf_antibody/lib/python3.10/site-packages/biobb_common/tools/file_utils.py:770: UserWarning:\n",
      "\n",
      "Path data/antibody/1_MD/4G6K_npt.trr --- biobb_gromacs.gromacs.mdrun: Unexisting output_trr_path file.\n",
      "\n"
     ]
    },
    {
     "data": {
      "text/plain": [
       "0"
      ]
     },
     "execution_count": 25,
     "metadata": {},
     "output_type": "execute_result"
    }
   ],
   "source": [
    "# Mdrun: Running NPT System Equilibration\n",
    "from biobb_gromacs.gromacs.mdrun import mdrun\n",
    "\n",
    "# Create prop dict and inputs/outputs\n",
    "output_npt_trr = f'{MD_dir}{pdbCode}_npt.trr'\n",
    "output_npt_gro = f'{MD_dir}{pdbCode}_npt.gro'\n",
    "output_npt_edr = f'{MD_dir}{pdbCode}_npt.edr'\n",
    "output_npt_log = f'{MD_dir}{pdbCode}_npt.log'\n",
    "output_npt_cpt = f'{MD_dir}{pdbCode}_npt.cpt'\n",
    "\n",
    "# Create and launch bb\n",
    "mdrun(input_tpr_path=output_gppnpt_tpr, \n",
    "      output_trr_path=output_npt_trr, \n",
    "      output_gro_path=output_npt_gro, \n",
    "      output_edr_path=output_npt_edr, \n",
    "      output_log_path=output_npt_log, \n",
    "      output_cpt_path=output_npt_cpt,\n",
    "      properties=def_dict())"
   ]
  },
  {
   "cell_type": "markdown",
   "metadata": {},
   "source": [
    "<a id=\"eqNPTStep3\"></a>\n",
    "#### Step 3: Checking NPT Equilibration results\n",
    "Checking **NPT Equilibration** results. Plotting **system pressure and density** by time during the **NPT equilibration** process. "
   ]
  },
  {
   "cell_type": "code",
   "execution_count": null,
   "metadata": {
    "scrolled": true
   },
   "outputs": [
    {
     "name": "stdout",
     "output_type": "stream",
     "text": [
      "2025-06-04 10:25:24,031 [MainThread  ] [INFO ]  Module: biobb_analysis.gromacs.gmx_energy Version: 5.0.1\n",
      "2025-06-04 10:25:24,032 [MainThread  ] [INFO ]  /home/rchaves/repo/biobb/biobb_wf_antibody/biobb_wf_antibody/notebooks/sandbox_c7bacdd8-1041-4125-8185-9e711ac9c30e directory successfully created\n",
      "2025-06-04 10:25:24,032 [MainThread  ] [INFO ]  Copy: /home/rchaves/repo/biobb/biobb_wf_antibody/biobb_wf_antibody/notebooks/data/antibody/1_MD/4G6K_npt.edr to /home/rchaves/repo/biobb/biobb_wf_antibody/biobb_wf_antibody/notebooks/sandbox_c7bacdd8-1041-4125-8185-9e711ac9c30e\n",
      "2025-06-04 10:25:24,033 [MainThread  ] [INFO ]  gmx energy -f /home/rchaves/repo/biobb/biobb_wf_antibody/biobb_wf_antibody/notebooks/sandbox_c7bacdd8-1041-4125-8185-9e711ac9c30e/4G6K_npt.edr -o /home/rchaves/repo/biobb/biobb_wf_antibody/biobb_wf_antibody/notebooks/sandbox_c7bacdd8-1041-4125-8185-9e711ac9c30e/4G6K_npt_PD.xvg -xvg none < c034ab8b-6250-4c26-90c9-a30512cabadd/instructions.in\n",
      "\n",
      "2025-06-04 10:25:24,047 [MainThread  ] [INFO ]  Executing: gmx energy -f /home/rchaves/repo/biobb/biobb_wf_antibody/biobb_wf_antibody/noteb...\n",
      "2025-06-04 10:25:24,047 [MainThread  ] [INFO ]  Exit code: 0\n",
      "2025-06-04 10:25:24,048 [MainThread  ] [INFO ]  \n",
      "Statistics over 5001 steps [ 0.0000 through 10.0000 ps ], 2 data sets\n",
      "All statistics are over 51 points\n",
      "\n",
      "Energy                      Average   Err.Est.       RMSD  Tot-Drift\n",
      "-------------------------------------------------------------------------------\n",
      "Pressure                   -556.864         --    989.904    11626.1  (bar)\n",
      "Density                     1025.39         --    10.2497    70.7137  (kg/m^3)\n",
      "\n",
      "2025-06-04 10:25:24,048 [MainThread  ] [INFO ]                  :-) GROMACS - gmx energy, 2022.2-conda_forge (-:\n",
      "\n",
      "Executable:   /home/rchaves/miniforge3/envs/biobb_wf_antibody/bin.AVX2_256/gmx\n",
      "Data prefix:  /home/rchaves/miniforge3/envs/biobb_wf_antibody\n",
      "Working dir:  /home/rchaves/repo/biobb/biobb_wf_antibody/biobb_wf_antibody/notebooks\n",
      "Command line:\n",
      "  gmx energy -f /home/rchaves/repo/biobb/biobb_wf_antibody/biobb_wf_antibody/notebooks/sandbox_c7bacdd8-1041-4125-8185-9e711ac9c30e/4G6K_npt.edr -o /home/rchaves/repo/biobb/biobb_wf_antibody/biobb_wf_antibody/notebooks/sandbox_c7bacdd8-1041-4125-8185-9e711ac9c30e/4G6K_npt_PD.xvg -xvg none\n",
      "\n",
      "Opened /home/rchaves/repo/biobb/biobb_wf_antibody/biobb_wf_antibody/notebooks/sandbox_c7bacdd8-1041-4125-8185-9e711ac9c30e/4G6K_npt.edr as single precision energy file\n",
      "\n",
      "Select the terms you want from the following list by\n",
      "selecting either (part of) the name or the number or a combination.\n",
      "End your selection with an empty line or a zero.\n",
      "-------------------------------------------------------------------\n",
      "  1  Bond             2  U-B              3  Proper-Dih.      4  Improper-Dih. \n",
      "  5  CMAP-Dih.        6  LJ-14            7  Coulomb-14       8  LJ-(SR)       \n",
      "  9  Disper.-corr.   10  Coulomb-(SR)    11  Coul.-recip.    12  Position-Rest.\n",
      " 13  Potential       14  Kinetic-En.     15  Total-Energy    16  Conserved-En. \n",
      " 17  Temperature     18  Pres.-DC        19  Pressure        20  Constr.-rmsd  \n",
      " 21  Box-X           22  Box-Y           23  Box-Z           24  Volume        \n",
      " 25  Density         26  pV              27  Enthalpy        28  Vir-XX        \n",
      " 29  Vir-XY          30  Vir-XZ          31  Vir-YX          32  Vir-YY        \n",
      " 33  Vir-YZ          34  Vir-ZX          35  Vir-ZY          36  Vir-ZZ        \n",
      " 37  Pres-XX         38  Pres-XY         39  Pres-XZ         40  Pres-YX       \n",
      " 41  Pres-YY         42  Pres-YZ         43  Pres-ZX         44  Pres-ZY       \n",
      " 45  Pres-ZZ         46  #Surf*SurfTen   47  T-System        48  Lamb-System   \n",
      "\n",
      "Last energy frame read 1 time   10.000            \n",
      "\n",
      "GROMACS reminds you: \"You Think That You're Bigger When You Fill the Void\" (Urban Dance Squad)\n",
      "\n",
      "\n",
      "2025-06-04 10:25:24,049 [MainThread  ] [INFO ]  Removed: ['/home/rchaves/repo/biobb/biobb_wf_antibody/biobb_wf_antibody/notebooks/sandbox_c7bacdd8-1041-4125-8185-9e711ac9c30e', 'c034ab8b-6250-4c26-90c9-a30512cabadd']\n",
      "2025-06-04 10:25:24,050 [MainThread  ] [INFO ]  \n"
     ]
    },
    {
     "data": {
      "text/plain": [
       "0"
      ]
     },
     "execution_count": 26,
     "metadata": {},
     "output_type": "execute_result"
    }
   ],
   "source": [
    "# GMXEnergy: Getting system pressure and density by time during NPT Equilibration  \n",
    "from biobb_analysis.gromacs.gmx_energy import gmx_energy\n",
    "\n",
    "# Create prop dict and inputs/outputs\n",
    "output_npt_pd_xvg = f'{MD_dir}{pdbCode}_npt_PD.xvg'\n",
    "prop = {\n",
    "    'terms':  [\"Pressure\",\"Density\"]\n",
    "}\n",
    "\n",
    "# Create and launch bb\n",
    "gmx_energy(input_energy_path=output_npt_edr, \n",
    "          output_xvg_path=output_npt_pd_xvg, \n",
    "          properties=def_dict(prop))"
   ]
  },
  {
   "cell_type": "code",
   "execution_count": 27,
   "metadata": {},
   "outputs": [
    {
     "data": {
      "text/html": [
       "        <script type=\"text/javascript\">\n",
       "        window.PlotlyConfig = {MathJaxConfig: 'local'};\n",
       "        if (window.MathJax && window.MathJax.Hub && window.MathJax.Hub.Config) {window.MathJax.Hub.Config({SVG: {font: \"STIX-Web\"}});}\n",
       "        </script>\n",
       "        <script type=\"module\">import \"https://cdn.plot.ly/plotly-3.0.1.min\"</script>\n",
       "        "
      ]
     },
     "metadata": {},
     "output_type": "display_data"
    },
    {
     "data": {
      "application/vnd.plotly.v1+json": {
       "config": {
        "linkText": "Export to plot.ly",
        "plotlyServerURL": "https://plot.ly",
        "showLink": false
       },
       "data": [
        {
         "type": "scatter",
         "x": [
          0,
          10
         ],
         "xaxis": "x",
         "y": [
          -6257.088379,
          -18.076792
         ],
         "yaxis": "y"
        },
        {
         "type": "scatter",
         "x": [
          0,
          10
         ],
         "xaxis": "x2",
         "y": [
          990.716003,
          1036.458496
         ],
         "yaxis": "y2"
        }
       ],
       "layout": {
        "showlegend": false,
        "template": {
         "data": {
          "bar": [
           {
            "error_x": {
             "color": "#2a3f5f"
            },
            "error_y": {
             "color": "#2a3f5f"
            },
            "marker": {
             "line": {
              "color": "#E5ECF6",
              "width": 0.5
             },
             "pattern": {
              "fillmode": "overlay",
              "size": 10,
              "solidity": 0.2
             }
            },
            "type": "bar"
           }
          ],
          "barpolar": [
           {
            "marker": {
             "line": {
              "color": "#E5ECF6",
              "width": 0.5
             },
             "pattern": {
              "fillmode": "overlay",
              "size": 10,
              "solidity": 0.2
             }
            },
            "type": "barpolar"
           }
          ],
          "carpet": [
           {
            "aaxis": {
             "endlinecolor": "#2a3f5f",
             "gridcolor": "white",
             "linecolor": "white",
             "minorgridcolor": "white",
             "startlinecolor": "#2a3f5f"
            },
            "baxis": {
             "endlinecolor": "#2a3f5f",
             "gridcolor": "white",
             "linecolor": "white",
             "minorgridcolor": "white",
             "startlinecolor": "#2a3f5f"
            },
            "type": "carpet"
           }
          ],
          "choropleth": [
           {
            "colorbar": {
             "outlinewidth": 0,
             "ticks": ""
            },
            "type": "choropleth"
           }
          ],
          "contour": [
           {
            "colorbar": {
             "outlinewidth": 0,
             "ticks": ""
            },
            "colorscale": [
             [
              0,
              "#0d0887"
             ],
             [
              0.1111111111111111,
              "#46039f"
             ],
             [
              0.2222222222222222,
              "#7201a8"
             ],
             [
              0.3333333333333333,
              "#9c179e"
             ],
             [
              0.4444444444444444,
              "#bd3786"
             ],
             [
              0.5555555555555556,
              "#d8576b"
             ],
             [
              0.6666666666666666,
              "#ed7953"
             ],
             [
              0.7777777777777778,
              "#fb9f3a"
             ],
             [
              0.8888888888888888,
              "#fdca26"
             ],
             [
              1,
              "#f0f921"
             ]
            ],
            "type": "contour"
           }
          ],
          "contourcarpet": [
           {
            "colorbar": {
             "outlinewidth": 0,
             "ticks": ""
            },
            "type": "contourcarpet"
           }
          ],
          "heatmap": [
           {
            "colorbar": {
             "outlinewidth": 0,
             "ticks": ""
            },
            "colorscale": [
             [
              0,
              "#0d0887"
             ],
             [
              0.1111111111111111,
              "#46039f"
             ],
             [
              0.2222222222222222,
              "#7201a8"
             ],
             [
              0.3333333333333333,
              "#9c179e"
             ],
             [
              0.4444444444444444,
              "#bd3786"
             ],
             [
              0.5555555555555556,
              "#d8576b"
             ],
             [
              0.6666666666666666,
              "#ed7953"
             ],
             [
              0.7777777777777778,
              "#fb9f3a"
             ],
             [
              0.8888888888888888,
              "#fdca26"
             ],
             [
              1,
              "#f0f921"
             ]
            ],
            "type": "heatmap"
           }
          ],
          "histogram": [
           {
            "marker": {
             "pattern": {
              "fillmode": "overlay",
              "size": 10,
              "solidity": 0.2
             }
            },
            "type": "histogram"
           }
          ],
          "histogram2d": [
           {
            "colorbar": {
             "outlinewidth": 0,
             "ticks": ""
            },
            "colorscale": [
             [
              0,
              "#0d0887"
             ],
             [
              0.1111111111111111,
              "#46039f"
             ],
             [
              0.2222222222222222,
              "#7201a8"
             ],
             [
              0.3333333333333333,
              "#9c179e"
             ],
             [
              0.4444444444444444,
              "#bd3786"
             ],
             [
              0.5555555555555556,
              "#d8576b"
             ],
             [
              0.6666666666666666,
              "#ed7953"
             ],
             [
              0.7777777777777778,
              "#fb9f3a"
             ],
             [
              0.8888888888888888,
              "#fdca26"
             ],
             [
              1,
              "#f0f921"
             ]
            ],
            "type": "histogram2d"
           }
          ],
          "histogram2dcontour": [
           {
            "colorbar": {
             "outlinewidth": 0,
             "ticks": ""
            },
            "colorscale": [
             [
              0,
              "#0d0887"
             ],
             [
              0.1111111111111111,
              "#46039f"
             ],
             [
              0.2222222222222222,
              "#7201a8"
             ],
             [
              0.3333333333333333,
              "#9c179e"
             ],
             [
              0.4444444444444444,
              "#bd3786"
             ],
             [
              0.5555555555555556,
              "#d8576b"
             ],
             [
              0.6666666666666666,
              "#ed7953"
             ],
             [
              0.7777777777777778,
              "#fb9f3a"
             ],
             [
              0.8888888888888888,
              "#fdca26"
             ],
             [
              1,
              "#f0f921"
             ]
            ],
            "type": "histogram2dcontour"
           }
          ],
          "mesh3d": [
           {
            "colorbar": {
             "outlinewidth": 0,
             "ticks": ""
            },
            "type": "mesh3d"
           }
          ],
          "parcoords": [
           {
            "line": {
             "colorbar": {
              "outlinewidth": 0,
              "ticks": ""
             }
            },
            "type": "parcoords"
           }
          ],
          "pie": [
           {
            "automargin": true,
            "type": "pie"
           }
          ],
          "scatter": [
           {
            "fillpattern": {
             "fillmode": "overlay",
             "size": 10,
             "solidity": 0.2
            },
            "type": "scatter"
           }
          ],
          "scatter3d": [
           {
            "line": {
             "colorbar": {
              "outlinewidth": 0,
              "ticks": ""
             }
            },
            "marker": {
             "colorbar": {
              "outlinewidth": 0,
              "ticks": ""
             }
            },
            "type": "scatter3d"
           }
          ],
          "scattercarpet": [
           {
            "marker": {
             "colorbar": {
              "outlinewidth": 0,
              "ticks": ""
             }
            },
            "type": "scattercarpet"
           }
          ],
          "scattergeo": [
           {
            "marker": {
             "colorbar": {
              "outlinewidth": 0,
              "ticks": ""
             }
            },
            "type": "scattergeo"
           }
          ],
          "scattergl": [
           {
            "marker": {
             "colorbar": {
              "outlinewidth": 0,
              "ticks": ""
             }
            },
            "type": "scattergl"
           }
          ],
          "scattermap": [
           {
            "marker": {
             "colorbar": {
              "outlinewidth": 0,
              "ticks": ""
             }
            },
            "type": "scattermap"
           }
          ],
          "scattermapbox": [
           {
            "marker": {
             "colorbar": {
              "outlinewidth": 0,
              "ticks": ""
             }
            },
            "type": "scattermapbox"
           }
          ],
          "scatterpolar": [
           {
            "marker": {
             "colorbar": {
              "outlinewidth": 0,
              "ticks": ""
             }
            },
            "type": "scatterpolar"
           }
          ],
          "scatterpolargl": [
           {
            "marker": {
             "colorbar": {
              "outlinewidth": 0,
              "ticks": ""
             }
            },
            "type": "scatterpolargl"
           }
          ],
          "scatterternary": [
           {
            "marker": {
             "colorbar": {
              "outlinewidth": 0,
              "ticks": ""
             }
            },
            "type": "scatterternary"
           }
          ],
          "surface": [
           {
            "colorbar": {
             "outlinewidth": 0,
             "ticks": ""
            },
            "colorscale": [
             [
              0,
              "#0d0887"
             ],
             [
              0.1111111111111111,
              "#46039f"
             ],
             [
              0.2222222222222222,
              "#7201a8"
             ],
             [
              0.3333333333333333,
              "#9c179e"
             ],
             [
              0.4444444444444444,
              "#bd3786"
             ],
             [
              0.5555555555555556,
              "#d8576b"
             ],
             [
              0.6666666666666666,
              "#ed7953"
             ],
             [
              0.7777777777777778,
              "#fb9f3a"
             ],
             [
              0.8888888888888888,
              "#fdca26"
             ],
             [
              1,
              "#f0f921"
             ]
            ],
            "type": "surface"
           }
          ],
          "table": [
           {
            "cells": {
             "fill": {
              "color": "#EBF0F8"
             },
             "line": {
              "color": "white"
             }
            },
            "header": {
             "fill": {
              "color": "#C8D4E3"
             },
             "line": {
              "color": "white"
             }
            },
            "type": "table"
           }
          ]
         },
         "layout": {
          "annotationdefaults": {
           "arrowcolor": "#2a3f5f",
           "arrowhead": 0,
           "arrowwidth": 1
          },
          "autotypenumbers": "strict",
          "coloraxis": {
           "colorbar": {
            "outlinewidth": 0,
            "ticks": ""
           }
          },
          "colorscale": {
           "diverging": [
            [
             0,
             "#8e0152"
            ],
            [
             0.1,
             "#c51b7d"
            ],
            [
             0.2,
             "#de77ae"
            ],
            [
             0.3,
             "#f1b6da"
            ],
            [
             0.4,
             "#fde0ef"
            ],
            [
             0.5,
             "#f7f7f7"
            ],
            [
             0.6,
             "#e6f5d0"
            ],
            [
             0.7,
             "#b8e186"
            ],
            [
             0.8,
             "#7fbc41"
            ],
            [
             0.9,
             "#4d9221"
            ],
            [
             1,
             "#276419"
            ]
           ],
           "sequential": [
            [
             0,
             "#0d0887"
            ],
            [
             0.1111111111111111,
             "#46039f"
            ],
            [
             0.2222222222222222,
             "#7201a8"
            ],
            [
             0.3333333333333333,
             "#9c179e"
            ],
            [
             0.4444444444444444,
             "#bd3786"
            ],
            [
             0.5555555555555556,
             "#d8576b"
            ],
            [
             0.6666666666666666,
             "#ed7953"
            ],
            [
             0.7777777777777778,
             "#fb9f3a"
            ],
            [
             0.8888888888888888,
             "#fdca26"
            ],
            [
             1,
             "#f0f921"
            ]
           ],
           "sequentialminus": [
            [
             0,
             "#0d0887"
            ],
            [
             0.1111111111111111,
             "#46039f"
            ],
            [
             0.2222222222222222,
             "#7201a8"
            ],
            [
             0.3333333333333333,
             "#9c179e"
            ],
            [
             0.4444444444444444,
             "#bd3786"
            ],
            [
             0.5555555555555556,
             "#d8576b"
            ],
            [
             0.6666666666666666,
             "#ed7953"
            ],
            [
             0.7777777777777778,
             "#fb9f3a"
            ],
            [
             0.8888888888888888,
             "#fdca26"
            ],
            [
             1,
             "#f0f921"
            ]
           ]
          },
          "colorway": [
           "#636efa",
           "#EF553B",
           "#00cc96",
           "#ab63fa",
           "#FFA15A",
           "#19d3f3",
           "#FF6692",
           "#B6E880",
           "#FF97FF",
           "#FECB52"
          ],
          "font": {
           "color": "#2a3f5f"
          },
          "geo": {
           "bgcolor": "white",
           "lakecolor": "white",
           "landcolor": "#E5ECF6",
           "showlakes": true,
           "showland": true,
           "subunitcolor": "white"
          },
          "hoverlabel": {
           "align": "left"
          },
          "hovermode": "closest",
          "mapbox": {
           "style": "light"
          },
          "paper_bgcolor": "white",
          "plot_bgcolor": "#E5ECF6",
          "polar": {
           "angularaxis": {
            "gridcolor": "white",
            "linecolor": "white",
            "ticks": ""
           },
           "bgcolor": "#E5ECF6",
           "radialaxis": {
            "gridcolor": "white",
            "linecolor": "white",
            "ticks": ""
           }
          },
          "scene": {
           "xaxis": {
            "backgroundcolor": "#E5ECF6",
            "gridcolor": "white",
            "gridwidth": 2,
            "linecolor": "white",
            "showbackground": true,
            "ticks": "",
            "zerolinecolor": "white"
           },
           "yaxis": {
            "backgroundcolor": "#E5ECF6",
            "gridcolor": "white",
            "gridwidth": 2,
            "linecolor": "white",
            "showbackground": true,
            "ticks": "",
            "zerolinecolor": "white"
           },
           "zaxis": {
            "backgroundcolor": "#E5ECF6",
            "gridcolor": "white",
            "gridwidth": 2,
            "linecolor": "white",
            "showbackground": true,
            "ticks": "",
            "zerolinecolor": "white"
           }
          },
          "shapedefaults": {
           "line": {
            "color": "#2a3f5f"
           }
          },
          "ternary": {
           "aaxis": {
            "gridcolor": "white",
            "linecolor": "white",
            "ticks": ""
           },
           "baxis": {
            "gridcolor": "white",
            "linecolor": "white",
            "ticks": ""
           },
           "bgcolor": "#E5ECF6",
           "caxis": {
            "gridcolor": "white",
            "linecolor": "white",
            "ticks": ""
           }
          },
          "title": {
           "x": 0.05
          },
          "xaxis": {
           "automargin": true,
           "gridcolor": "white",
           "linecolor": "white",
           "ticks": "",
           "title": {
            "standoff": 15
           },
           "zerolinecolor": "white",
           "zerolinewidth": 2
          },
          "yaxis": {
           "automargin": true,
           "gridcolor": "white",
           "linecolor": "white",
           "ticks": "",
           "title": {
            "standoff": 15
           },
           "zerolinecolor": "white",
           "zerolinewidth": 2
          }
         }
        },
        "title": {
         "text": "Pressure and Density during NPT Equilibration"
        },
        "xaxis": {
         "anchor": "y",
         "domain": [
          0,
          0.45
         ],
         "title": {
          "text": "Time (ps)"
         }
        },
        "xaxis2": {
         "anchor": "y2",
         "domain": [
          0.55,
          1
         ],
         "title": {
          "text": "Time (ps)"
         }
        },
        "yaxis": {
         "anchor": "x",
         "domain": [
          0,
          1
         ],
         "title": {
          "text": "Pressure (bar)"
         }
        },
        "yaxis2": {
         "anchor": "x2",
         "domain": [
          0,
          1
         ],
         "title": {
          "text": "Density (Kg*m^-3)"
         }
        }
       }
      },
      "text/html": [
       "<div>            <script src=\"https://cdnjs.cloudflare.com/ajax/libs/mathjax/2.7.5/MathJax.js?config=TeX-AMS-MML_SVG\"></script><script type=\"text/javascript\">if (window.MathJax && window.MathJax.Hub && window.MathJax.Hub.Config) {window.MathJax.Hub.Config({SVG: {font: \"STIX-Web\"}});}</script>                <script type=\"text/javascript\">window.PlotlyConfig = {MathJaxConfig: 'local'};</script>\n",
       "        <script charset=\"utf-8\" src=\"https://cdn.plot.ly/plotly-3.0.1.min.js\"></script>                <div id=\"c25dce62-788a-4f69-8ecc-7c543075eb01\" class=\"plotly-graph-div\" style=\"height:525px; width:100%;\"></div>            <script type=\"text/javascript\">                window.PLOTLYENV=window.PLOTLYENV || {};                                if (document.getElementById(\"c25dce62-788a-4f69-8ecc-7c543075eb01\")) {                    Plotly.newPlot(                        \"c25dce62-788a-4f69-8ecc-7c543075eb01\",                        [{\"x\":[0.0,10.0],\"xaxis\":\"x\",\"y\":[-6257.088379,-18.076792],\"yaxis\":\"y\",\"type\":\"scatter\"},{\"x\":[0.0,10.0],\"xaxis\":\"x2\",\"y\":[990.716003,1036.458496],\"yaxis\":\"y2\",\"type\":\"scatter\"}],                        {\"showlegend\":false,\"template\":{\"data\":{\"barpolar\":[{\"marker\":{\"line\":{\"color\":\"#E5ECF6\",\"width\":0.5},\"pattern\":{\"fillmode\":\"overlay\",\"size\":10,\"solidity\":0.2}},\"type\":\"barpolar\"}],\"bar\":[{\"error_x\":{\"color\":\"#2a3f5f\"},\"error_y\":{\"color\":\"#2a3f5f\"},\"marker\":{\"line\":{\"color\":\"#E5ECF6\",\"width\":0.5},\"pattern\":{\"fillmode\":\"overlay\",\"size\":10,\"solidity\":0.2}},\"type\":\"bar\"}],\"carpet\":[{\"aaxis\":{\"endlinecolor\":\"#2a3f5f\",\"gridcolor\":\"white\",\"linecolor\":\"white\",\"minorgridcolor\":\"white\",\"startlinecolor\":\"#2a3f5f\"},\"baxis\":{\"endlinecolor\":\"#2a3f5f\",\"gridcolor\":\"white\",\"linecolor\":\"white\",\"minorgridcolor\":\"white\",\"startlinecolor\":\"#2a3f5f\"},\"type\":\"carpet\"}],\"choropleth\":[{\"colorbar\":{\"outlinewidth\":0,\"ticks\":\"\"},\"type\":\"choropleth\"}],\"contourcarpet\":[{\"colorbar\":{\"outlinewidth\":0,\"ticks\":\"\"},\"type\":\"contourcarpet\"}],\"contour\":[{\"colorbar\":{\"outlinewidth\":0,\"ticks\":\"\"},\"colorscale\":[[0.0,\"#0d0887\"],[0.1111111111111111,\"#46039f\"],[0.2222222222222222,\"#7201a8\"],[0.3333333333333333,\"#9c179e\"],[0.4444444444444444,\"#bd3786\"],[0.5555555555555556,\"#d8576b\"],[0.6666666666666666,\"#ed7953\"],[0.7777777777777778,\"#fb9f3a\"],[0.8888888888888888,\"#fdca26\"],[1.0,\"#f0f921\"]],\"type\":\"contour\"}],\"heatmap\":[{\"colorbar\":{\"outlinewidth\":0,\"ticks\":\"\"},\"colorscale\":[[0.0,\"#0d0887\"],[0.1111111111111111,\"#46039f\"],[0.2222222222222222,\"#7201a8\"],[0.3333333333333333,\"#9c179e\"],[0.4444444444444444,\"#bd3786\"],[0.5555555555555556,\"#d8576b\"],[0.6666666666666666,\"#ed7953\"],[0.7777777777777778,\"#fb9f3a\"],[0.8888888888888888,\"#fdca26\"],[1.0,\"#f0f921\"]],\"type\":\"heatmap\"}],\"histogram2dcontour\":[{\"colorbar\":{\"outlinewidth\":0,\"ticks\":\"\"},\"colorscale\":[[0.0,\"#0d0887\"],[0.1111111111111111,\"#46039f\"],[0.2222222222222222,\"#7201a8\"],[0.3333333333333333,\"#9c179e\"],[0.4444444444444444,\"#bd3786\"],[0.5555555555555556,\"#d8576b\"],[0.6666666666666666,\"#ed7953\"],[0.7777777777777778,\"#fb9f3a\"],[0.8888888888888888,\"#fdca26\"],[1.0,\"#f0f921\"]],\"type\":\"histogram2dcontour\"}],\"histogram2d\":[{\"colorbar\":{\"outlinewidth\":0,\"ticks\":\"\"},\"colorscale\":[[0.0,\"#0d0887\"],[0.1111111111111111,\"#46039f\"],[0.2222222222222222,\"#7201a8\"],[0.3333333333333333,\"#9c179e\"],[0.4444444444444444,\"#bd3786\"],[0.5555555555555556,\"#d8576b\"],[0.6666666666666666,\"#ed7953\"],[0.7777777777777778,\"#fb9f3a\"],[0.8888888888888888,\"#fdca26\"],[1.0,\"#f0f921\"]],\"type\":\"histogram2d\"}],\"histogram\":[{\"marker\":{\"pattern\":{\"fillmode\":\"overlay\",\"size\":10,\"solidity\":0.2}},\"type\":\"histogram\"}],\"mesh3d\":[{\"colorbar\":{\"outlinewidth\":0,\"ticks\":\"\"},\"type\":\"mesh3d\"}],\"parcoords\":[{\"line\":{\"colorbar\":{\"outlinewidth\":0,\"ticks\":\"\"}},\"type\":\"parcoords\"}],\"pie\":[{\"automargin\":true,\"type\":\"pie\"}],\"scatter3d\":[{\"line\":{\"colorbar\":{\"outlinewidth\":0,\"ticks\":\"\"}},\"marker\":{\"colorbar\":{\"outlinewidth\":0,\"ticks\":\"\"}},\"type\":\"scatter3d\"}],\"scattercarpet\":[{\"marker\":{\"colorbar\":{\"outlinewidth\":0,\"ticks\":\"\"}},\"type\":\"scattercarpet\"}],\"scattergeo\":[{\"marker\":{\"colorbar\":{\"outlinewidth\":0,\"ticks\":\"\"}},\"type\":\"scattergeo\"}],\"scattergl\":[{\"marker\":{\"colorbar\":{\"outlinewidth\":0,\"ticks\":\"\"}},\"type\":\"scattergl\"}],\"scattermapbox\":[{\"marker\":{\"colorbar\":{\"outlinewidth\":0,\"ticks\":\"\"}},\"type\":\"scattermapbox\"}],\"scattermap\":[{\"marker\":{\"colorbar\":{\"outlinewidth\":0,\"ticks\":\"\"}},\"type\":\"scattermap\"}],\"scatterpolargl\":[{\"marker\":{\"colorbar\":{\"outlinewidth\":0,\"ticks\":\"\"}},\"type\":\"scatterpolargl\"}],\"scatterpolar\":[{\"marker\":{\"colorbar\":{\"outlinewidth\":0,\"ticks\":\"\"}},\"type\":\"scatterpolar\"}],\"scatter\":[{\"fillpattern\":{\"fillmode\":\"overlay\",\"size\":10,\"solidity\":0.2},\"type\":\"scatter\"}],\"scatterternary\":[{\"marker\":{\"colorbar\":{\"outlinewidth\":0,\"ticks\":\"\"}},\"type\":\"scatterternary\"}],\"surface\":[{\"colorbar\":{\"outlinewidth\":0,\"ticks\":\"\"},\"colorscale\":[[0.0,\"#0d0887\"],[0.1111111111111111,\"#46039f\"],[0.2222222222222222,\"#7201a8\"],[0.3333333333333333,\"#9c179e\"],[0.4444444444444444,\"#bd3786\"],[0.5555555555555556,\"#d8576b\"],[0.6666666666666666,\"#ed7953\"],[0.7777777777777778,\"#fb9f3a\"],[0.8888888888888888,\"#fdca26\"],[1.0,\"#f0f921\"]],\"type\":\"surface\"}],\"table\":[{\"cells\":{\"fill\":{\"color\":\"#EBF0F8\"},\"line\":{\"color\":\"white\"}},\"header\":{\"fill\":{\"color\":\"#C8D4E3\"},\"line\":{\"color\":\"white\"}},\"type\":\"table\"}]},\"layout\":{\"annotationdefaults\":{\"arrowcolor\":\"#2a3f5f\",\"arrowhead\":0,\"arrowwidth\":1},\"autotypenumbers\":\"strict\",\"coloraxis\":{\"colorbar\":{\"outlinewidth\":0,\"ticks\":\"\"}},\"colorscale\":{\"diverging\":[[0,\"#8e0152\"],[0.1,\"#c51b7d\"],[0.2,\"#de77ae\"],[0.3,\"#f1b6da\"],[0.4,\"#fde0ef\"],[0.5,\"#f7f7f7\"],[0.6,\"#e6f5d0\"],[0.7,\"#b8e186\"],[0.8,\"#7fbc41\"],[0.9,\"#4d9221\"],[1,\"#276419\"]],\"sequential\":[[0.0,\"#0d0887\"],[0.1111111111111111,\"#46039f\"],[0.2222222222222222,\"#7201a8\"],[0.3333333333333333,\"#9c179e\"],[0.4444444444444444,\"#bd3786\"],[0.5555555555555556,\"#d8576b\"],[0.6666666666666666,\"#ed7953\"],[0.7777777777777778,\"#fb9f3a\"],[0.8888888888888888,\"#fdca26\"],[1.0,\"#f0f921\"]],\"sequentialminus\":[[0.0,\"#0d0887\"],[0.1111111111111111,\"#46039f\"],[0.2222222222222222,\"#7201a8\"],[0.3333333333333333,\"#9c179e\"],[0.4444444444444444,\"#bd3786\"],[0.5555555555555556,\"#d8576b\"],[0.6666666666666666,\"#ed7953\"],[0.7777777777777778,\"#fb9f3a\"],[0.8888888888888888,\"#fdca26\"],[1.0,\"#f0f921\"]]},\"colorway\":[\"#636efa\",\"#EF553B\",\"#00cc96\",\"#ab63fa\",\"#FFA15A\",\"#19d3f3\",\"#FF6692\",\"#B6E880\",\"#FF97FF\",\"#FECB52\"],\"font\":{\"color\":\"#2a3f5f\"},\"geo\":{\"bgcolor\":\"white\",\"lakecolor\":\"white\",\"landcolor\":\"#E5ECF6\",\"showlakes\":true,\"showland\":true,\"subunitcolor\":\"white\"},\"hoverlabel\":{\"align\":\"left\"},\"hovermode\":\"closest\",\"mapbox\":{\"style\":\"light\"},\"paper_bgcolor\":\"white\",\"plot_bgcolor\":\"#E5ECF6\",\"polar\":{\"angularaxis\":{\"gridcolor\":\"white\",\"linecolor\":\"white\",\"ticks\":\"\"},\"bgcolor\":\"#E5ECF6\",\"radialaxis\":{\"gridcolor\":\"white\",\"linecolor\":\"white\",\"ticks\":\"\"}},\"scene\":{\"xaxis\":{\"backgroundcolor\":\"#E5ECF6\",\"gridcolor\":\"white\",\"gridwidth\":2,\"linecolor\":\"white\",\"showbackground\":true,\"ticks\":\"\",\"zerolinecolor\":\"white\"},\"yaxis\":{\"backgroundcolor\":\"#E5ECF6\",\"gridcolor\":\"white\",\"gridwidth\":2,\"linecolor\":\"white\",\"showbackground\":true,\"ticks\":\"\",\"zerolinecolor\":\"white\"},\"zaxis\":{\"backgroundcolor\":\"#E5ECF6\",\"gridcolor\":\"white\",\"gridwidth\":2,\"linecolor\":\"white\",\"showbackground\":true,\"ticks\":\"\",\"zerolinecolor\":\"white\"}},\"shapedefaults\":{\"line\":{\"color\":\"#2a3f5f\"}},\"ternary\":{\"aaxis\":{\"gridcolor\":\"white\",\"linecolor\":\"white\",\"ticks\":\"\"},\"baxis\":{\"gridcolor\":\"white\",\"linecolor\":\"white\",\"ticks\":\"\"},\"bgcolor\":\"#E5ECF6\",\"caxis\":{\"gridcolor\":\"white\",\"linecolor\":\"white\",\"ticks\":\"\"}},\"title\":{\"x\":0.05},\"xaxis\":{\"automargin\":true,\"gridcolor\":\"white\",\"linecolor\":\"white\",\"ticks\":\"\",\"title\":{\"standoff\":15},\"zerolinecolor\":\"white\",\"zerolinewidth\":2},\"yaxis\":{\"automargin\":true,\"gridcolor\":\"white\",\"linecolor\":\"white\",\"ticks\":\"\",\"title\":{\"standoff\":15},\"zerolinecolor\":\"white\",\"zerolinewidth\":2}}},\"title\":{\"text\":\"Pressure and Density during NPT Equilibration\"},\"xaxis\":{\"anchor\":\"y\",\"domain\":[0.0,0.45],\"title\":{\"text\":\"Time (ps)\"}},\"yaxis\":{\"anchor\":\"x\",\"domain\":[0.0,1.0],\"title\":{\"text\":\"Pressure (bar)\"}},\"xaxis2\":{\"anchor\":\"y2\",\"domain\":[0.55,1.0],\"title\":{\"text\":\"Time (ps)\"}},\"yaxis2\":{\"anchor\":\"x2\",\"domain\":[0.0,1.0],\"title\":{\"text\":\"Density (Kg*m^-3)\"}}},                        {\"responsive\": true}                    ).then(function(){\n",
       "                            \n",
       "var gd = document.getElementById('c25dce62-788a-4f69-8ecc-7c543075eb01');\n",
       "var x = new MutationObserver(function (mutations, observer) {{\n",
       "        var display = window.getComputedStyle(gd).display;\n",
       "        if (!display || display === 'none') {{\n",
       "            console.log([gd, 'removed!']);\n",
       "            Plotly.purge(gd);\n",
       "            observer.disconnect();\n",
       "        }}\n",
       "}});\n",
       "\n",
       "// Listen for the removal of the full notebook cells\n",
       "var notebookContainer = gd.closest('#notebook-container');\n",
       "if (notebookContainer) {{\n",
       "    x.observe(notebookContainer, {childList: true});\n",
       "}}\n",
       "\n",
       "// Listen for the clearing of the current output cell\n",
       "var outputEl = gd.closest('.output');\n",
       "if (outputEl) {{\n",
       "    x.observe(outputEl, {childList: true});\n",
       "}}\n",
       "\n",
       "                        })                };            </script>        </div>"
      ]
     },
     "metadata": {},
     "output_type": "display_data"
    }
   ],
   "source": [
    "import plotly\n",
    "from plotly import subplots\n",
    "import plotly.graph_objs as go\n",
    "\n",
    "# Read pressure and density data from file \n",
    "with open(output_npt_pd_xvg,'r') as pd_file:\n",
    "    x,y,z = map(\n",
    "        list,\n",
    "        zip(*[\n",
    "            (float(line.split()[0]),float(line.split()[1]),float(line.split()[2]))\n",
    "            for line in pd_file \n",
    "            if not line.startswith((\"#\",\"@\")) \n",
    "        ])\n",
    "    )\n",
    "\n",
    "plotly.offline.init_notebook_mode(connected=True)\n",
    "\n",
    "trace1 = go.Scatter(\n",
    "    x=x,y=y\n",
    ")\n",
    "trace2 = go.Scatter(\n",
    "    x=x,y=z\n",
    ")\n",
    "\n",
    "fig = subplots.make_subplots(rows=1, cols=2, print_grid=False)\n",
    "\n",
    "fig.append_trace(trace1, 1, 1)\n",
    "fig.append_trace(trace2, 1, 2)\n",
    "\n",
    "fig['layout']['xaxis1'].update(title='Time (ps)')\n",
    "fig['layout']['xaxis2'].update(title='Time (ps)')\n",
    "fig['layout']['yaxis1'].update(title='Pressure (bar)')\n",
    "fig['layout']['yaxis2'].update(title='Density (Kg*m^-3)')\n",
    "\n",
    "fig['layout'].update(title='Pressure and Density during NPT Equilibration')\n",
    "fig['layout'].update(showlegend=False)\n",
    "\n",
    "plotly.offline.iplot(fig)"
   ]
  },
  {
   "cell_type": "markdown",
   "metadata": {},
   "source": [
    "<a id=\"free\"></a>\n",
    "***\n",
    "### Free Molecular Dynamics Simulation\n",
    "Upon completion of the **two equilibration phases (NVT and NPT)**, the system is now well-equilibrated at the desired temperature and pressure. The **position restraints** can now be released. The last step of the **protein** MD setup is a short, **free MD simulation**, to ensure the robustness of the system. \n",
    "- [Step 1](#mdStep1): Creating portable binary run file to run a **free MD simulation**.\n",
    "- [Step 2](#mdStep2): Run short MD simulation of the **protein system**.\n",
    "- [Step 3](#mdStep3): Checking results for the final step of the setup process, the **free MD run**. Plotting **Root Mean Square deviation (RMSd)** and **Radius of Gyration (Rgyr)** by time during the **free MD run** step. \n",
    "***\n",
    "**Building Blocks** used:\n",
    " - [Grompp](https://biobb-md.readthedocs.io/en/latest/gromacs.html#module-gromacs.grompp) from **biobb_gromacs.gromacs.grompp** \n",
    " - [Mdrun](https://biobb-md.readthedocs.io/en/latest/gromacs.html#module-gromacs.mdrun) from **biobb_gromacs.gromacs.mdrun** \n",
    " - [GMXRms](https://biobb-analysis.readthedocs.io/en/latest/gromacs.html#module-gromacs.gmx_rms) from **biobb_analysis.gromacs.gmx_rms** \n",
    " - [GMXRgyr](https://biobb-analysis.readthedocs.io/en/latest/gromacs.html#module-gromacs.gmx_rgyr) from **biobb_analysis.gromacs.gmx_rgyr** \n",
    "***"
   ]
  },
  {
   "cell_type": "markdown",
   "metadata": {},
   "source": [
    "<a id=\"mdStep1\"></a>\n",
    "#### Step 1: Creating portable binary run file to run a free MD simulation\n",
    "\n",
    "The **free** type of the **molecular dynamics parameters (mdp) property** contains the main default parameters to run an **free MD simulation** (see [GROMACS mdp options](http://manual.gromacs.org/documentation/2018/user-guide/mdp-options.html)):\n",
    "\n",
    "-  integrator               = md\n",
    "-  dt                       = 0.002 (ps)\n",
    "-  nsteps                   = 50000\n",
    "\n",
    "In this particular example, the default parameters will be used: **md** integrator algorithm, a **time step** of **2fs**, and a total of **50,000 md steps** (100ps).\n",
    "\n",
    "*Please note that for the sake of time this tutorial is only running 100ps of free MD, whereas in the [original example](http://www.mdtutorials.com/gmx/lysozyme/08_MD.html) the simulated time was 1ns (1000ps).*"
   ]
  },
  {
   "cell_type": "code",
   "execution_count": 77,
   "metadata": {},
   "outputs": [],
   "source": [
    "# https://github.com/alevil-gmx/workflow_template/blob/main/workflow_template/data/input/md_charmm36m.mdp\n",
    "# ns_type -> ns-type\n",
    "input_mdp_md = f\"{MD_inp}md_charmm36m.mdp\"\n",
    "\n",
    "file=\"\"\";define                   =  -DPOSRES\n",
    ";include                  = -I/home/villa/work/UseCaseI/forcefield\n",
    "integrator               = md\n",
    "tinit                    = 0\n",
    "dt                       = 0.002\n",
    "nsteps                   = 50000000   ; 100  ns\n",
    ";nstcomm                  = 1\n",
    "comm_grps                = system\n",
    "nstxout                  = 0\n",
    "nstvout                  = 0\n",
    "nstfout                  = 0\n",
    "nstlog                   = 100000\n",
    "nstenergy                = 100000\n",
    "nstxout-compressed       = 100000\n",
    "compressed-x-grps        = system \n",
    "nstlist                  = 10\n",
    "ns-type                  = grid\n",
    "pbc                      = xyz\n",
    "; neighbour\n",
    "; rlist                   = 1.2 ; not used when cutoff-scheme = verlet\n",
    "cutoff-scheme           = Verlet\n",
    "; coulomb\n",
    "coulombtype              = PME\n",
    "rcoulomb                 = 1.2\n",
    "fourierspacing           = 0.15 ;  For constant accuracy one should keep fourier-spacing/rcoulomb constant = 0.125\n",
    "; vdw\n",
    "vdwtype                  = Cut-off\n",
    "vdw_modifier             = Force-switch\n",
    "rvdw_switch              = 1.0  ; \n",
    "rvdw                     = 1.2\n",
    "DispCorr                 = EnerPres ; while for lipid bilayer,  it's a difficult topic in the CHARMM force field. If one don't have lipids bi- or monolayers one should use it. \n",
    ";\n",
    "constraints              = h-bonds\n",
    "constraint_algorithm     = LINCS\n",
    "; barostat\n",
    "Pcoupl                   = Parrinello-Rahman   \n",
    "tau_p                    = 5.0  \n",
    "ref_p                    = 1.0 \n",
    "compressibility          = 4.5e-5 \n",
    "; thermostat\n",
    "Tcoupl                   = v-rescale \n",
    "tc-grps                  = system\n",
    "tau_t                    = 0.5 ; or 0.1 \n",
    "ref_t                    = 298 \"\"\"\n",
    "with open(input_mdp_md, 'w') as f:\n",
    "    f.write(file)"
   ]
  },
  {
   "cell_type": "code",
   "execution_count": 78,
   "metadata": {
    "scrolled": true
   },
   "outputs": [
    {
     "name": "stdout",
     "output_type": "stream",
     "text": [
      "2025-06-04 12:09:55,560 [MainThread  ] [INFO ]  Module: biobb_gromacs.gromacs.grompp Version: 5.0.0\n",
      "2025-06-04 12:09:55,561 [MainThread  ] [INFO ]  /home/rchaves/repo/biobb/biobb_wf_antibody/biobb_wf_antibody/notebooks/sandbox_1ac5201f-249a-45a9-a746-c97b0531bd04 directory successfully created\n",
      "2025-06-04 12:09:55,564 [MainThread  ] [INFO ]  Copy: data/antibody/1_MD/4G6K_npt.gro to /home/rchaves/repo/biobb/biobb_wf_antibody/biobb_wf_antibody/notebooks/sandbox_1ac5201f-249a-45a9-a746-c97b0531bd04\n",
      "2025-06-04 12:09:55,566 [MainThread  ] [INFO ]  Copy: data/antibody/1_MD/4G6K_npt.cpt to /home/rchaves/repo/biobb/biobb_wf_antibody/biobb_wf_antibody/notebooks/sandbox_1ac5201f-249a-45a9-a746-c97b0531bd04\n",
      "2025-06-04 12:09:55,567 [MainThread  ] [INFO ]  Copy: data/antibody/1_MD/input/md_charmm36m.mdp to /home/rchaves/repo/biobb/biobb_wf_antibody/biobb_wf_antibody/notebooks/sandbox_1ac5201f-249a-45a9-a746-c97b0531bd04\n",
      "2025-06-04 12:09:55,569 [MainThread  ] [INFO ]  Extracting: /home/rchaves/repo/biobb/biobb_wf_antibody/biobb_wf_antibody/notebooks/data/antibody/1_MD/4G6K_genion_top.zip\n",
      "2025-06-04 12:09:55,570 [MainThread  ] [INFO ]  to:\n",
      "2025-06-04 12:09:55,570 [MainThread  ] [INFO ]  ['/home/rchaves/repo/biobb/biobb_wf_antibody/biobb_wf_antibody/notebooks/sandbox_1ac5201f-249a-45a9-a746-c97b0531bd04/p2g.top', '/home/rchaves/repo/biobb/biobb_wf_antibody/biobb_wf_antibody/notebooks/sandbox_1ac5201f-249a-45a9-a746-c97b0531bd04/p2g_Protein_chain_H.itp', '/home/rchaves/repo/biobb/biobb_wf_antibody/biobb_wf_antibody/notebooks/sandbox_1ac5201f-249a-45a9-a746-c97b0531bd04/p2g_Protein_chain_L.itp', '/home/rchaves/repo/biobb/biobb_wf_antibody/biobb_wf_antibody/notebooks/sandbox_1ac5201f-249a-45a9-a746-c97b0531bd04/posre_Protein_chain_H.itp', '/home/rchaves/repo/biobb/biobb_wf_antibody/biobb_wf_antibody/notebooks/sandbox_1ac5201f-249a-45a9-a746-c97b0531bd04/posre_Protein_chain_L.itp']\n",
      "2025-06-04 12:09:55,570 [MainThread  ] [INFO ]  Unzipping: \n",
      "2025-06-04 12:09:55,571 [MainThread  ] [INFO ]  data/antibody/1_MD/4G6K_genion_top.zip\n",
      "2025-06-04 12:09:55,571 [MainThread  ] [INFO ]  To: \n",
      "2025-06-04 12:09:55,571 [MainThread  ] [INFO ]  /home/rchaves/repo/biobb/biobb_wf_antibody/biobb_wf_antibody/notebooks/sandbox_1ac5201f-249a-45a9-a746-c97b0531bd04/p2g.top\n",
      "2025-06-04 12:09:55,571 [MainThread  ] [INFO ]  /home/rchaves/repo/biobb/biobb_wf_antibody/biobb_wf_antibody/notebooks/sandbox_1ac5201f-249a-45a9-a746-c97b0531bd04/p2g_Protein_chain_H.itp\n",
      "2025-06-04 12:09:55,572 [MainThread  ] [INFO ]  /home/rchaves/repo/biobb/biobb_wf_antibody/biobb_wf_antibody/notebooks/sandbox_1ac5201f-249a-45a9-a746-c97b0531bd04/p2g_Protein_chain_L.itp\n",
      "2025-06-04 12:09:55,572 [MainThread  ] [INFO ]  /home/rchaves/repo/biobb/biobb_wf_antibody/biobb_wf_antibody/notebooks/sandbox_1ac5201f-249a-45a9-a746-c97b0531bd04/posre_Protein_chain_H.itp\n",
      "2025-06-04 12:09:55,572 [MainThread  ] [INFO ]  /home/rchaves/repo/biobb/biobb_wf_antibody/biobb_wf_antibody/notebooks/sandbox_1ac5201f-249a-45a9-a746-c97b0531bd04/posre_Protein_chain_L.itp\n",
      "2025-06-04 12:09:55,573 [MainThread  ] [INFO ]  gmx -nobackup -nocopyright grompp -f /home/rchaves/repo/biobb/biobb_wf_antibody/biobb_wf_antibody/notebooks/sandbox_1ac5201f-249a-45a9-a746-c97b0531bd04/grompp.mdp -c /home/rchaves/repo/biobb/biobb_wf_antibody/biobb_wf_antibody/notebooks/sandbox_1ac5201f-249a-45a9-a746-c97b0531bd04/4G6K_npt.gro -r /home/rchaves/repo/biobb/biobb_wf_antibody/biobb_wf_antibody/notebooks/sandbox_1ac5201f-249a-45a9-a746-c97b0531bd04/4G6K_npt.gro -p /home/rchaves/repo/biobb/biobb_wf_antibody/biobb_wf_antibody/notebooks/sandbox_1ac5201f-249a-45a9-a746-c97b0531bd04/p2g.top -o /home/rchaves/repo/biobb/biobb_wf_antibody/biobb_wf_antibody/notebooks/sandbox_1ac5201f-249a-45a9-a746-c97b0531bd04/4G6K_gppmd.tpr -po mdout.mdp -maxwarn 1 -t /home/rchaves/repo/biobb/biobb_wf_antibody/biobb_wf_antibody/notebooks/sandbox_1ac5201f-249a-45a9-a746-c97b0531bd04/4G6K_npt.cpt\n",
      "\n",
      "2025-06-04 12:09:56,438 [MainThread  ] [INFO ]  Executing: gmx -nobackup -nocopyright grompp -f /home/rchaves/repo/biobb/biobb_wf_antibody/...\n",
      "2025-06-04 12:09:56,438 [MainThread  ] [INFO ]  Exit code: 0\n",
      "2025-06-04 12:09:56,439 [MainThread  ] [INFO ]  Setting the LD random seed to -1370626083\n",
      "\n",
      "Generated 97877 of the 97903 non-bonded parameter combinations\n",
      "\n",
      "Generated 64492 of the 97903 1-4 parameter combinations\n",
      "\n",
      "Excluding 3 bonded neighbours molecule type 'Protein_chain_H'\n",
      "\n",
      "turning H bonds into constraints...\n",
      "\n",
      "Excluding 3 bonded neighbours molecule type 'Protein_chain_L'\n",
      "\n",
      "turning H bonds into constraints...\n",
      "\n",
      "Excluding 2 bonded neighbours molecule type 'SOL'\n",
      "\n",
      "turning H bonds into constraints...\n",
      "\n",
      "Excluding 1 bonded neighbours molecule type 'NA'\n",
      "\n",
      "turning H bonds into constraints...\n",
      "\n",
      "Excluding 1 bonded neighbours molecule type 'CL'\n",
      "\n",
      "turning H bonds into constraints...\n",
      "Analysing residue names:\n",
      "There are:   432    Protein residues\n",
      "There are: 16778      Water residues\n",
      "There are:    43        Ion residues\n",
      "Analysing Protein...\n",
      "Analysing residues not classified as Protein/DNA/RNA/Water and splitting into groups...\n",
      "\n",
      "The largest distance between excluded atoms is 0.462 nm\n",
      "\n",
      "Determining Verlet buffer for a tolerance of 0.005 kJ/mol/ps at 298 K\n",
      "\n",
      "Calculated rlist for 1x1 atom pair-list as 1.233 nm, buffer size 0.033 nm\n",
      "\n",
      "Set rlist, assuming 4x4 atom pair-list, to 1.200 nm, buffer size 0.000 nm\n",
      "\n",
      "Note that mdrun will redetermine rlist based on the actual pair-list setup\n",
      "\n",
      "Reading Coordinates, Velocities and Box size from old trajectory\n",
      "\n",
      "Will read whole trajectory\n",
      "\n",
      "Using frame at t = 10 ps\n",
      "\n",
      "Starting time for run is 0 ps\n",
      "Calculating fourier grid dimensions for X Y Z\n",
      "Using a fourier grid of 64x64x64, spacing 0.145 0.145 0.145\n",
      "\n",
      "Estimate for the relative computational load of the PME mesh part: 0.16\n",
      "\n",
      "This run will generate roughly 52 Mb of data\n",
      "\n",
      "2025-06-04 12:09:56,439 [MainThread  ] [INFO ]                  :-) GROMACS - gmx grompp, 2022.2-conda_forge (-:\n",
      "\n",
      "Executable:   /home/rchaves/miniforge3/envs/biobb_wf_antibody/bin.AVX2_256/gmx\n",
      "Data prefix:  /home/rchaves/miniforge3/envs/biobb_wf_antibody\n",
      "Working dir:  /home/rchaves/repo/biobb/biobb_wf_antibody/biobb_wf_antibody/notebooks\n",
      "Command line:\n",
      "  gmx -nobackup -nocopyright grompp -f /home/rchaves/repo/biobb/biobb_wf_antibody/biobb_wf_antibody/notebooks/sandbox_1ac5201f-249a-45a9-a746-c97b0531bd04/grompp.mdp -c /home/rchaves/repo/biobb/biobb_wf_antibody/biobb_wf_antibody/notebooks/sandbox_1ac5201f-249a-45a9-a746-c97b0531bd04/4G6K_npt.gro -r /home/rchaves/repo/biobb/biobb_wf_antibody/biobb_wf_antibody/notebooks/sandbox_1ac5201f-249a-45a9-a746-c97b0531bd04/4G6K_npt.gro -p /home/rchaves/repo/biobb/biobb_wf_antibody/biobb_wf_antibody/notebooks/sandbox_1ac5201f-249a-45a9-a746-c97b0531bd04/p2g.top -o /home/rchaves/repo/biobb/biobb_wf_antibody/biobb_wf_antibody/notebooks/sandbox_1ac5201f-249a-45a9-a746-c97b0531bd04/4G6K_gppmd.tpr -po mdout.mdp -maxwarn 1 -t /home/rchaves/repo/biobb/biobb_wf_antibody/biobb_wf_antibody/notebooks/sandbox_1ac5201f-249a-45a9-a746-c97b0531bd04/4G6K_npt.cpt\n",
      "\n",
      "Ignoring obsolete mdp entry 'ns-type'\n",
      "Generating 1-4 interactions: fudge = 1\n",
      "\n",
      "NOTE 1 [file p2g.top, line 56]:\n",
      "  You are combining position restraints with Parrinello-Rahman pressure\n",
      "  coupling, which can lead to instabilities. If you really want to combine\n",
      "  position restraints with pressure coupling, we suggest to use Berendsen\n",
      "  pressure coupling instead.\n",
      "\n",
      "Number of degrees of freedom in T-Coupling group System is 117137.00\n",
      "\n",
      "NOTE 2 [file /home/rchaves/repo/biobb/biobb_wf_antibody/biobb_wf_antibody/notebooks/sandbox_1ac5201f-249a-45a9-a746-c97b0531bd04/grompp.mdp]:\n",
      "  Removing center of mass motion in the presence of position restraints\n",
      "  might cause artifacts. When you are using position restraints to\n",
      "  equilibrate a macro-molecule, the artifacts are usually negligible.\n",
      "\n",
      "\n",
      "WARNING 1 [file /home/rchaves/repo/biobb/biobb_wf_antibody/biobb_wf_antibody/notebooks/sandbox_1ac5201f-249a-45a9-a746-c97b0531bd04/grompp.mdp]:\n",
      "  You are using pressure coupling with absolute position restraints, this\n",
      "  will give artifacts. Use the refcoord_scaling option.\n",
      "\n",
      "Last frame         -1 time   10.000   \n",
      "\n",
      "There were 2 notes\n",
      "\n",
      "There was 1 warning\n",
      "\n",
      "GROMACS reminds you: \"Documentation is like sex: When it's good it's great, and when it's bad it's better than nothing.\" (Linus Torvalds)\n",
      "\n",
      "\n",
      "2025-06-04 12:09:56,444 [MainThread  ] [INFO ]  Removed: ['/home/rchaves/repo/biobb/biobb_wf_antibody/biobb_wf_antibody/notebooks/sandbox_1ac5201f-249a-45a9-a746-c97b0531bd04', 'mdout.mdp']\n",
      "2025-06-04 12:09:56,445 [MainThread  ] [INFO ]  \n"
     ]
    },
    {
     "data": {
      "text/plain": [
       "0"
      ]
     },
     "execution_count": 78,
     "metadata": {},
     "output_type": "execute_result"
    }
   ],
   "source": [
    "# Grompp: Creating portable binary run file for mdrun\n",
    "from biobb_gromacs.gromacs.grompp import grompp\n",
    "\n",
    "# Create prop dict and inputs/outputs\n",
    "\n",
    "output_gppmd_tpr = f\"{MD_dir}{pdbCode}_gppmd.tpr\"\n",
    "\n",
    "prop = {\n",
    "    'mdp': {\n",
    "        'nsteps' : 5_000_000, # 1 ns\n",
    "        'nstxout' :  100_000\n",
    "    },\n",
    "    'gmx_lib' : f\"{cwd}/{MD_inp}\",\n",
    "    'maxwarn' : 1\n",
    "}\n",
    "\n",
    "# Create and launch bb\n",
    "grompp(input_gro_path=output_npt_gro, \n",
    "       input_top_zip_path=output_genion_top_zip, \n",
    "       input_mdp_path=input_mdp_md,\n",
    "       output_tpr_path=output_gppmd_tpr, \n",
    "       input_cpt_path=output_npt_cpt, \n",
    "       properties=def_dict(prop))"
   ]
  },
  {
   "cell_type": "markdown",
   "metadata": {},
   "source": [
    "<a id=\"mdStep2\"></a>\n",
    "#### Step 2: Running short free MD simulation"
   ]
  },
  {
   "cell_type": "code",
   "execution_count": 79,
   "metadata": {
    "scrolled": true
   },
   "outputs": [],
   "source": [
    "# Mdrun: Running free dynamics\n",
    "from biobb_gromacs.gromacs.mdrun import mdrun\n",
    "\n",
    "# Create prop dict and inputs/outputs\n",
    "output_md_trr = f'{MD_dir}{pdbCode}_md.trr'\n",
    "output_md_gro = f'{MD_dir}{pdbCode}_md.gro'\n",
    "output_md_edr = f'{MD_dir}{pdbCode}_md.edr'\n",
    "output_md_log = f'{MD_dir}{pdbCode}_md.log'\n",
    "output_md_cpt = f'{MD_dir}{pdbCode}_md.cpt'\n",
    "\n",
    "# Create and launch bb\n",
    "# mdrun(input_tpr_path=output_gppmd_tpr, \n",
    "#       output_trr_path=output_md_trr, \n",
    "#       output_gro_path=output_md_gro, \n",
    "#       output_edr_path=output_md_edr, \n",
    "#       output_log_path=output_md_log, \n",
    "#       output_cpt_path=output_md_cpt,\n",
    "#       properties=def_dict())"
   ]
  },
  {
   "cell_type": "markdown",
   "metadata": {},
   "source": [
    "<a id=\"post\"></a>\n",
    "***\n",
    "### Post-processing and Visualizing resulting 3D trajectory\n",
    "Post-processing and Visualizing the **protein system** MD setup **resulting trajectory** using **NGL**\n",
    "- [Step 1](#ppStep1): *Imaging* the resulting trajectory, **stripping out water molecules and ions** and **correcting periodicity issues**.\n",
    "- [Step 2](#ppStep2): Generating a *dry* structure, **removing water molecules and ions** from the final snapshot of the MD setup pipeline.\n",
    "- [Step 3](#ppStep3): Visualizing the *imaged* trajectory using the *dry* structure as a **topology**. \n",
    "***\n",
    "**Building Blocks** used:\n",
    " - [GMXImage](https://biobb-analysis.readthedocs.io/en/latest/gromacs.html#module-gromacs.gmx_image) from **biobb_analysis.gromacs.gmx_image** \n",
    " - [GMXTrjConvStr](https://biobb-analysis.readthedocs.io/en/latest/gromacs.html#module-gromacs.gmx_trjconv_str) from **biobb_analysis.gromacs.gmx_trjconv_str** \n",
    "***"
   ]
  },
  {
   "cell_type": "markdown",
   "metadata": {},
   "source": [
    "<a id=\"ppStep1\"></a>\n",
    "#### Step 1: *Imaging* the resulting trajectory.\n",
    "Stripping out **water molecules and ions** and **correcting periodicity issues**  "
   ]
  },
  {
   "cell_type": "code",
   "execution_count": null,
   "metadata": {
    "scrolled": true
   },
   "outputs": [
    {
     "name": "stdout",
     "output_type": "stream",
     "text": [
      "2025-06-04 12:05:02,914 [MainThread  ] [INFO ]  Module: biobb_analysis.gromacs.gmx_image Version: 5.0.1\n",
      "2025-06-04 12:05:02,915 [MainThread  ] [INFO ]  /home/rchaves/repo/biobb/biobb_wf_antibody/biobb_wf_antibody/notebooks/sandbox_ef99ad73-5a3d-4b9e-8dd7-4a3b2daba5dc directory successfully created\n",
      "2025-06-04 12:05:02,935 [MainThread  ] [INFO ]  Copy: /home/rchaves/repo/biobb/biobb_wf_antibody/biobb_wf_antibody/notebooks/data/antibody/1_MD/4G6K_md.trr to /home/rchaves/repo/biobb/biobb_wf_antibody/biobb_wf_antibody/notebooks/sandbox_ef99ad73-5a3d-4b9e-8dd7-4a3b2daba5dc\n",
      "2025-06-04 12:05:02,939 [MainThread  ] [INFO ]  Copy: /home/rchaves/repo/biobb/biobb_wf_antibody/biobb_wf_antibody/notebooks/data/antibody/1_MD/4G6K_gppmin.tpr to /home/rchaves/repo/biobb/biobb_wf_antibody/biobb_wf_antibody/notebooks/sandbox_ef99ad73-5a3d-4b9e-8dd7-4a3b2daba5dc\n",
      "2025-06-04 12:05:02,939 [MainThread  ] [INFO ]  Copy: /home/rchaves/repo/biobb/biobb_wf_antibody/biobb_wf_antibody/notebooks/6ae0808c-5c89-4b30-ac00-506fd39875ce.stdin to /home/rchaves/repo/biobb/biobb_wf_antibody/biobb_wf_antibody/notebooks/sandbox_ef99ad73-5a3d-4b9e-8dd7-4a3b2daba5dc\n",
      "2025-06-04 12:05:02,940 [MainThread  ] [INFO ]  gmx trjconv -f /home/rchaves/repo/biobb/biobb_wf_antibody/biobb_wf_antibody/notebooks/sandbox_ef99ad73-5a3d-4b9e-8dd7-4a3b2daba5dc/4G6K_md.trr -s /home/rchaves/repo/biobb/biobb_wf_antibody/biobb_wf_antibody/notebooks/sandbox_ef99ad73-5a3d-4b9e-8dd7-4a3b2daba5dc/4G6K_gppmin.tpr -fit none -o /home/rchaves/repo/biobb/biobb_wf_antibody/biobb_wf_antibody/notebooks/sandbox_ef99ad73-5a3d-4b9e-8dd7-4a3b2daba5dc/4G6K_imaged_traj.trr -center -pbc nojump -ur compact < /home/rchaves/repo/biobb/biobb_wf_antibody/biobb_wf_antibody/notebooks/sandbox_ef99ad73-5a3d-4b9e-8dd7-4a3b2daba5dc/6ae0808c-5c89-4b30-ac00-506fd39875ce.stdin\n",
      "\n",
      "2025-06-04 12:05:03,140 [MainThread  ] [INFO ]  Executing: gmx trjconv -f /home/rchaves/repo/biobb/biobb_wf_antibody/biobb_wf_antibody/note...\n",
      "2025-06-04 12:05:03,141 [MainThread  ] [INFO ]  Exit code: 0\n",
      "2025-06-04 12:05:03,141 [MainThread  ] [INFO ]  Note that major changes are planned in future for trjconv, to improve usability and utility.\n",
      "Select group for centering\n",
      "Selected 1: 'Protein'\n",
      "Select group for output\n",
      "Selected 1: 'Protein'\n",
      "\n",
      "2025-06-04 12:05:03,141 [MainThread  ] [INFO ]                 :-) GROMACS - gmx trjconv, 2022.2-conda_forge (-:\n",
      "\n",
      "Executable:   /home/rchaves/miniforge3/envs/biobb_wf_antibody/bin.AVX2_256/gmx\n",
      "Data prefix:  /home/rchaves/miniforge3/envs/biobb_wf_antibody\n",
      "Working dir:  /home/rchaves/repo/biobb/biobb_wf_antibody/biobb_wf_antibody/notebooks\n",
      "Command line:\n",
      "  gmx trjconv -f /home/rchaves/repo/biobb/biobb_wf_antibody/biobb_wf_antibody/notebooks/sandbox_ef99ad73-5a3d-4b9e-8dd7-4a3b2daba5dc/4G6K_md.trr -s /home/rchaves/repo/biobb/biobb_wf_antibody/biobb_wf_antibody/notebooks/sandbox_ef99ad73-5a3d-4b9e-8dd7-4a3b2daba5dc/4G6K_gppmin.tpr -fit none -o /home/rchaves/repo/biobb/biobb_wf_antibody/biobb_wf_antibody/notebooks/sandbox_ef99ad73-5a3d-4b9e-8dd7-4a3b2daba5dc/4G6K_imaged_traj.trr -center -pbc nojump -ur compact\n",
      "\n",
      "WARNING: Option for unitcell representation (-ur compact)\n",
      "         only has effect in combination with -pbc mol, res or atom.\n",
      "         Ingoring unitcell representation.\n",
      "\n",
      "Will write trr: Trajectory in portable xdr format\n",
      "Reading file /home/rchaves/repo/biobb/biobb_wf_antibody/biobb_wf_antibody/notebooks/sandbox_ef99ad73-5a3d-4b9e-8dd7-4a3b2daba5dc/4G6K_gppmin.tpr, VERSION 2022.2-conda_forge (single precision)\n",
      "Reading file /home/rchaves/repo/biobb/biobb_wf_antibody/biobb_wf_antibody/notebooks/sandbox_ef99ad73-5a3d-4b9e-8dd7-4a3b2daba5dc/4G6K_gppmin.tpr, VERSION 2022.2-conda_forge (single precision)\n",
      "Group     0 (         System) has 56902 elements\n",
      "Group     1 (        Protein) has  6525 elements\n",
      "Group     2 (      Protein-H) has  3293 elements\n",
      "Group     3 (        C-alpha) has   432 elements\n",
      "Group     4 (       Backbone) has  1296 elements\n",
      "Group     5 (      MainChain) has  1726 elements\n",
      "Group     6 (   MainChain+Cb) has  2126 elements\n",
      "Group     7 (    MainChain+H) has  2139 elements\n",
      "Group     8 (      SideChain) has  4386 elements\n",
      "Group     9 (    SideChain-H) has  1567 elements\n",
      "Group    10 (    Prot-Masses) has  6525 elements\n",
      "Group    11 (    non-Protein) has 50377 elements\n",
      "Group    12 (          Water) has 50334 elements\n",
      "Group    13 (            SOL) has 50334 elements\n",
      "Group    14 (      non-Water) has  6568 elements\n",
      "Group    15 (            Ion) has    43 elements\n",
      "Group    16 (             NA) has    18 elements\n",
      "Group    17 (             CL) has    25 elements\n",
      "Group    18 ( Water_and_ions) has 50377 elements\n",
      "Select a group: Group     0 (         System) has 56902 elements\n",
      "Group     1 (        Protein) has  6525 elements\n",
      "Group     2 (      Protein-H) has  3293 elements\n",
      "Group     3 (        C-alpha) has   432 elements\n",
      "Group     4 (       Backbone) has  1296 elements\n",
      "Group     5 (      MainChain) has  1726 elements\n",
      "Group     6 (   MainChain+Cb) has  2126 elements\n",
      "Group     7 (    MainChain+H) has  2139 elements\n",
      "Group     8 (      SideChain) has  4386 elements\n",
      "Group     9 (    SideChain-H) has  1567 elements\n",
      "Group    10 (    Prot-Masses) has  6525 elements\n",
      "Group    11 (    non-Protein) has 50377 elements\n",
      "Group    12 (          Water) has 50334 elements\n",
      "Group    13 (            SOL) has 50334 elements\n",
      "Group    14 (      non-Water) has  6568 elements\n",
      "Group    15 (            Ion) has    43 elements\n",
      "Group    16 (             NA) has    18 elements\n",
      "Group    17 (             CL) has    25 elements\n",
      "Group    18 ( Water_and_ions) has 50377 elements\n",
      "Select a group: trr version: GMX_trn_file (single precision)\n",
      "Last frame         50 time 10000.000    ->  frame     49 time 9800.000      \n",
      " ->  frame     50 time 10000.000      \n",
      "Last written: frame     50 time 10000.000\n",
      "\n",
      "\n",
      "GROMACS reminds you: \"I had a polynomial once. My doctor removed it.\" (Michael Grant)\n",
      "\n",
      "\n",
      "2025-06-04 12:05:03,152 [MainThread  ] [INFO ]  Removed: ['/home/rchaves/repo/biobb/biobb_wf_antibody/biobb_wf_antibody/notebooks/sandbox_ef99ad73-5a3d-4b9e-8dd7-4a3b2daba5dc', '/home/rchaves/repo/biobb/biobb_wf_antibody/biobb_wf_antibody/notebooks/6ae0808c-5c89-4b30-ac00-506fd39875ce.stdin']\n",
      "2025-06-04 12:05:03,153 [MainThread  ] [INFO ]  \n"
     ]
    },
    {
     "data": {
      "text/plain": [
       "0"
      ]
     },
     "execution_count": 71,
     "metadata": {},
     "output_type": "execute_result"
    }
   ],
   "source": [
    "# GMXImage: \"Imaging\" the resulting trajectory\n",
    "#           Removing water molecules and ions from the resulting structure\n",
    "from biobb_analysis.gromacs.gmx_image import gmx_image\n",
    "\n",
    "# Create prop dict and inputs/outputs\n",
    "output_imaged_traj = f'{MD_dir}{pdbCode}_imaged_traj.trr'\n",
    "prop = {\n",
    "    'center_selection':  'Protein',\n",
    "    'output_selection': 'Protein',\n",
    "    'pbc' : 'nojump',\n",
    "}\n",
    "\n",
    "# Create and launch bb\n",
    "gmx_image(input_traj_path=output_md_trr,\n",
    "          input_top_path=output_gppmin_tpr,\n",
    "          output_traj_path=output_imaged_traj, \n",
    "          properties=def_dict(prop))"
   ]
  },
  {
   "cell_type": "code",
   "execution_count": 72,
   "metadata": {
    "scrolled": true
   },
   "outputs": [
    {
     "name": "stdout",
     "output_type": "stream",
     "text": [
      "2025-06-04 12:05:07,478 [MainThread  ] [INFO ]  Module: biobb_analysis.gromacs.gmx_image Version: 5.0.1\n",
      "2025-06-04 12:05:07,479 [MainThread  ] [INFO ]  /home/rchaves/repo/biobb/biobb_wf_antibody/biobb_wf_antibody/notebooks/sandbox_e02c79e6-14e3-470c-9f00-3db6d149a801 directory successfully created\n",
      "2025-06-04 12:05:07,481 [MainThread  ] [INFO ]  Copy: /home/rchaves/repo/biobb/biobb_wf_antibody/biobb_wf_antibody/notebooks/data/antibody/1_MD/4G6K_imaged_traj.trr to /home/rchaves/repo/biobb/biobb_wf_antibody/biobb_wf_antibody/notebooks/sandbox_e02c79e6-14e3-470c-9f00-3db6d149a801\n",
      "2025-06-04 12:05:07,485 [MainThread  ] [INFO ]  Copy: /home/rchaves/repo/biobb/biobb_wf_antibody/biobb_wf_antibody/notebooks/data/antibody/1_MD/4G6K_gppmd.tpr to /home/rchaves/repo/biobb/biobb_wf_antibody/biobb_wf_antibody/notebooks/sandbox_e02c79e6-14e3-470c-9f00-3db6d149a801\n",
      "2025-06-04 12:05:07,485 [MainThread  ] [INFO ]  Copy: /home/rchaves/repo/biobb/biobb_wf_antibody/biobb_wf_antibody/notebooks/c284f75f-3211-4c0c-80a1-2f4c9d3a6251.stdin to /home/rchaves/repo/biobb/biobb_wf_antibody/biobb_wf_antibody/notebooks/sandbox_e02c79e6-14e3-470c-9f00-3db6d149a801\n",
      "2025-06-04 12:05:07,486 [MainThread  ] [INFO ]  gmx trjconv -f /home/rchaves/repo/biobb/biobb_wf_antibody/biobb_wf_antibody/notebooks/sandbox_e02c79e6-14e3-470c-9f00-3db6d149a801/4G6K_imaged_traj.trr -s /home/rchaves/repo/biobb/biobb_wf_antibody/biobb_wf_antibody/notebooks/sandbox_e02c79e6-14e3-470c-9f00-3db6d149a801/4G6K_gppmd.tpr -fit rot+trans -o /home/rchaves/repo/biobb/biobb_wf_antibody/biobb_wf_antibody/notebooks/sandbox_e02c79e6-14e3-470c-9f00-3db6d149a801/4G6K_imaged_traj_rot.trr -center < /home/rchaves/repo/biobb/biobb_wf_antibody/biobb_wf_antibody/notebooks/sandbox_e02c79e6-14e3-470c-9f00-3db6d149a801/c284f75f-3211-4c0c-80a1-2f4c9d3a6251.stdin\n",
      "\n",
      "2025-06-04 12:05:07,590 [MainThread  ] [INFO ]  Executing: gmx trjconv -f /home/rchaves/repo/biobb/biobb_wf_antibody/biobb_wf_antibody/note...\n",
      "2025-06-04 12:05:07,591 [MainThread  ] [INFO ]  Exit code: 0\n",
      "2025-06-04 12:05:07,591 [MainThread  ] [INFO ]  Note that major changes are planned in future for trjconv, to improve usability and utility.\n",
      "Select group for least squares fit\n",
      "Selected 0: 'System'\n",
      "Select group for centering\n",
      "Selected 1: 'Protein'\n",
      "Select group for output\n",
      "Selected 1: 'Protein'\n",
      "\n",
      "2025-06-04 12:05:07,592 [MainThread  ] [INFO ]                 :-) GROMACS - gmx trjconv, 2022.2-conda_forge (-:\n",
      "\n",
      "Executable:   /home/rchaves/miniforge3/envs/biobb_wf_antibody/bin.AVX2_256/gmx\n",
      "Data prefix:  /home/rchaves/miniforge3/envs/biobb_wf_antibody\n",
      "Working dir:  /home/rchaves/repo/biobb/biobb_wf_antibody/biobb_wf_antibody/notebooks\n",
      "Command line:\n",
      "  gmx trjconv -f /home/rchaves/repo/biobb/biobb_wf_antibody/biobb_wf_antibody/notebooks/sandbox_e02c79e6-14e3-470c-9f00-3db6d149a801/4G6K_imaged_traj.trr -s /home/rchaves/repo/biobb/biobb_wf_antibody/biobb_wf_antibody/notebooks/sandbox_e02c79e6-14e3-470c-9f00-3db6d149a801/4G6K_gppmd.tpr -fit rot+trans -o /home/rchaves/repo/biobb/biobb_wf_antibody/biobb_wf_antibody/notebooks/sandbox_e02c79e6-14e3-470c-9f00-3db6d149a801/4G6K_imaged_traj_rot.trr -center\n",
      "\n",
      "Will write trr: Trajectory in portable xdr format\n",
      "Reading file /home/rchaves/repo/biobb/biobb_wf_antibody/biobb_wf_antibody/notebooks/sandbox_e02c79e6-14e3-470c-9f00-3db6d149a801/4G6K_gppmd.tpr, VERSION 2022.2-conda_forge (single precision)\n",
      "Reading file /home/rchaves/repo/biobb/biobb_wf_antibody/biobb_wf_antibody/notebooks/sandbox_e02c79e6-14e3-470c-9f00-3db6d149a801/4G6K_gppmd.tpr, VERSION 2022.2-conda_forge (single precision)\n",
      "Group     0 (         System) has 56902 elements\n",
      "Group     1 (        Protein) has  6525 elements\n",
      "Group     2 (      Protein-H) has  3293 elements\n",
      "Group     3 (        C-alpha) has   432 elements\n",
      "Group     4 (       Backbone) has  1296 elements\n",
      "Group     5 (      MainChain) has  1726 elements\n",
      "Group     6 (   MainChain+Cb) has  2126 elements\n",
      "Group     7 (    MainChain+H) has  2139 elements\n",
      "Group     8 (      SideChain) has  4386 elements\n",
      "Group     9 (    SideChain-H) has  1567 elements\n",
      "Group    10 (    Prot-Masses) has  6525 elements\n",
      "Group    11 (    non-Protein) has 50377 elements\n",
      "Group    12 (          Water) has 50334 elements\n",
      "Group    13 (            SOL) has 50334 elements\n",
      "Group    14 (      non-Water) has  6568 elements\n",
      "Group    15 (            Ion) has    43 elements\n",
      "Group    16 (             NA) has    18 elements\n",
      "Group    17 (             CL) has    25 elements\n",
      "Group    18 ( Water_and_ions) has 50377 elements\n",
      "Select a group: Group     0 (         System) has 56902 elements\n",
      "Group     1 (        Protein) has  6525 elements\n",
      "Group     2 (      Protein-H) has  3293 elements\n",
      "Group     3 (        C-alpha) has   432 elements\n",
      "Group     4 (       Backbone) has  1296 elements\n",
      "Group     5 (      MainChain) has  1726 elements\n",
      "Group     6 (   MainChain+Cb) has  2126 elements\n",
      "Group     7 (    MainChain+H) has  2139 elements\n",
      "Group     8 (      SideChain) has  4386 elements\n",
      "Group     9 (    SideChain-H) has  1567 elements\n",
      "Group    10 (    Prot-Masses) has  6525 elements\n",
      "Group    11 (    non-Protein) has 50377 elements\n",
      "Group    12 (          Water) has 50334 elements\n",
      "Group    13 (            SOL) has 50334 elements\n",
      "Group    14 (      non-Water) has  6568 elements\n",
      "Group    15 (            Ion) has    43 elements\n",
      "Group    16 (             NA) has    18 elements\n",
      "Group    17 (             CL) has    25 elements\n",
      "Group    18 ( Water_and_ions) has 50377 elements\n",
      "Select a group: Group     0 (         System) has 56902 elements\n",
      "Group     1 (        Protein) has  6525 elements\n",
      "Group     2 (      Protein-H) has  3293 elements\n",
      "Group     3 (        C-alpha) has   432 elements\n",
      "Group     4 (       Backbone) has  1296 elements\n",
      "Group     5 (      MainChain) has  1726 elements\n",
      "Group     6 (   MainChain+Cb) has  2126 elements\n",
      "Group     7 (    MainChain+H) has  2139 elements\n",
      "Group     8 (      SideChain) has  4386 elements\n",
      "Group     9 (    SideChain-H) has  1567 elements\n",
      "Group    10 (    Prot-Masses) has  6525 elements\n",
      "Group    11 (    non-Protein) has 50377 elements\n",
      "Group    12 (          Water) has 50334 elements\n",
      "Group    13 (            SOL) has 50334 elements\n",
      "Group    14 (      non-Water) has  6568 elements\n",
      "Group    15 (            Ion) has    43 elements\n",
      "Group    16 (             NA) has    18 elements\n",
      "Group    17 (             CL) has    25 elements\n",
      "Group    18 ( Water_and_ions) has 50377 elements\n",
      "Select a group: trr version: GMX_trn_file (single precision)\n",
      "Last frame         50 time 10000.000    ->  frame     49 time 9800.000      \n",
      " ->  frame     50 time 10000.000      \n",
      "Last written: frame     50 time 10000.000\n",
      "\n",
      "\n",
      "GROMACS reminds you: \"Developing the AI requires the work of a data scientist, and most of them understand neither data nor science.\" (Scott LeGrand)\n",
      "\n",
      "\n",
      "2025-06-04 12:05:07,599 [MainThread  ] [INFO ]  Removed: ['/home/rchaves/repo/biobb/biobb_wf_antibody/biobb_wf_antibody/notebooks/sandbox_e02c79e6-14e3-470c-9f00-3db6d149a801', '/home/rchaves/repo/biobb/biobb_wf_antibody/biobb_wf_antibody/notebooks/c284f75f-3211-4c0c-80a1-2f4c9d3a6251.stdin']\n",
      "2025-06-04 12:05:07,599 [MainThread  ] [INFO ]  \n"
     ]
    },
    {
     "data": {
      "text/plain": [
       "0"
      ]
     },
     "execution_count": 72,
     "metadata": {},
     "output_type": "execute_result"
    }
   ],
   "source": [
    "# GMXImage: \"Imaging\" the resulting trajectory\n",
    "#           Removing water molecules and ions from the resulting structure\n",
    "from biobb_analysis.gromacs.gmx_image import gmx_image\n",
    "\n",
    "# Create prop dict and inputs/outputs\n",
    "output_imaged_traj_rot = f'{MD_dir}{pdbCode}_imaged_traj_rot.trr'\n",
    "prop = {\n",
    "    'center_selection':  'Protein',\n",
    "    'output_selection': 'Protein',\n",
    "    'fit' : 'rot+trans',\n",
    "    'center' : True\n",
    "}\n",
    "\n",
    "# Create and launch bb\n",
    "gmx_image(input_traj_path=output_imaged_traj,\n",
    "          input_top_path=output_gppmd_tpr,\n",
    "          output_traj_path=output_imaged_traj_rot, \n",
    "          properties=def_dict(prop))"
   ]
  },
  {
   "cell_type": "markdown",
   "metadata": {},
   "source": [
    "<a id=\"ppStep2\"></a>\n",
    "#### Step 2: Generating the output *dry* structure.\n",
    "**Removing water molecules and ions** from the resulting structure"
   ]
  },
  {
   "cell_type": "code",
   "execution_count": 81,
   "metadata": {
    "scrolled": true
   },
   "outputs": [
    {
     "name": "stdout",
     "output_type": "stream",
     "text": [
      "2025-06-04 12:11:03,331 [MainThread  ] [INFO ]  Module: biobb_analysis.gromacs.gmx_trjconv_str Version: 5.0.1\n",
      "2025-06-04 12:11:03,332 [MainThread  ] [INFO ]  /home/rchaves/repo/biobb/biobb_wf_antibody/biobb_wf_antibody/notebooks/sandbox_cfe50716-6505-4f9d-9774-9f3a7c1fe42e directory successfully created\n",
      "2025-06-04 12:11:03,335 [MainThread  ] [INFO ]  Copy: /home/rchaves/repo/biobb/biobb_wf_antibody/biobb_wf_antibody/notebooks/data/antibody/1_MD/4G6K_md.gro to /home/rchaves/repo/biobb/biobb_wf_antibody/biobb_wf_antibody/notebooks/sandbox_cfe50716-6505-4f9d-9774-9f3a7c1fe42e\n",
      "2025-06-04 12:11:03,339 [MainThread  ] [INFO ]  Copy: /home/rchaves/repo/biobb/biobb_wf_antibody/biobb_wf_antibody/notebooks/data/antibody/1_MD/4G6K_gppmd.tpr to /home/rchaves/repo/biobb/biobb_wf_antibody/biobb_wf_antibody/notebooks/sandbox_cfe50716-6505-4f9d-9774-9f3a7c1fe42e\n",
      "2025-06-04 12:11:03,340 [MainThread  ] [INFO ]  Copy: /home/rchaves/repo/biobb/biobb_wf_antibody/biobb_wf_antibody/notebooks/2bb698e0-6095-4a90-970d-3ec348208232.stdin to /home/rchaves/repo/biobb/biobb_wf_antibody/biobb_wf_antibody/notebooks/sandbox_cfe50716-6505-4f9d-9774-9f3a7c1fe42e\n",
      "2025-06-04 12:11:03,340 [MainThread  ] [INFO ]  gmx trjconv -f /home/rchaves/repo/biobb/biobb_wf_antibody/biobb_wf_antibody/notebooks/sandbox_cfe50716-6505-4f9d-9774-9f3a7c1fe42e/4G6K_md.gro -s /home/rchaves/repo/biobb/biobb_wf_antibody/biobb_wf_antibody/notebooks/sandbox_cfe50716-6505-4f9d-9774-9f3a7c1fe42e/4G6K_gppmd.tpr -o /home/rchaves/repo/biobb/biobb_wf_antibody/biobb_wf_antibody/notebooks/sandbox_cfe50716-6505-4f9d-9774-9f3a7c1fe42e/4G6K_md_dry.gro -nocenter < /home/rchaves/repo/biobb/biobb_wf_antibody/biobb_wf_antibody/notebooks/sandbox_cfe50716-6505-4f9d-9774-9f3a7c1fe42e/2bb698e0-6095-4a90-970d-3ec348208232.stdin\n",
      "\n",
      "2025-06-04 12:11:03,444 [MainThread  ] [INFO ]  Executing: gmx trjconv -f /home/rchaves/repo/biobb/biobb_wf_antibody/biobb_wf_antibody/note...\n",
      "2025-06-04 12:11:03,445 [MainThread  ] [INFO ]  Exit code: 0\n",
      "2025-06-04 12:11:03,445 [MainThread  ] [INFO ]  Note that major changes are planned in future for trjconv, to improve usability and utility.\n",
      "Select group for output\n",
      "Selected 1: 'Protein'\n",
      "\n",
      "2025-06-04 12:11:03,445 [MainThread  ] [INFO ]                 :-) GROMACS - gmx trjconv, 2022.2-conda_forge (-:\n",
      "\n",
      "Executable:   /home/rchaves/miniforge3/envs/biobb_wf_antibody/bin.AVX2_256/gmx\n",
      "Data prefix:  /home/rchaves/miniforge3/envs/biobb_wf_antibody\n",
      "Working dir:  /home/rchaves/repo/biobb/biobb_wf_antibody/biobb_wf_antibody/notebooks\n",
      "Command line:\n",
      "  gmx trjconv -f /home/rchaves/repo/biobb/biobb_wf_antibody/biobb_wf_antibody/notebooks/sandbox_cfe50716-6505-4f9d-9774-9f3a7c1fe42e/4G6K_md.gro -s /home/rchaves/repo/biobb/biobb_wf_antibody/biobb_wf_antibody/notebooks/sandbox_cfe50716-6505-4f9d-9774-9f3a7c1fe42e/4G6K_gppmd.tpr -o /home/rchaves/repo/biobb/biobb_wf_antibody/biobb_wf_antibody/notebooks/sandbox_cfe50716-6505-4f9d-9774-9f3a7c1fe42e/4G6K_md_dry.gro -nocenter\n",
      "\n",
      "Will write gro: Coordinate file in Gromos-87 format\n",
      "Reading file /home/rchaves/repo/biobb/biobb_wf_antibody/biobb_wf_antibody/notebooks/sandbox_cfe50716-6505-4f9d-9774-9f3a7c1fe42e/4G6K_gppmd.tpr, VERSION 2022.2-conda_forge (single precision)\n",
      "Reading file /home/rchaves/repo/biobb/biobb_wf_antibody/biobb_wf_antibody/notebooks/sandbox_cfe50716-6505-4f9d-9774-9f3a7c1fe42e/4G6K_gppmd.tpr, VERSION 2022.2-conda_forge (single precision)\n",
      "Group     0 (         System) has 56902 elements\n",
      "Group     1 (        Protein) has  6525 elements\n",
      "Group     2 (      Protein-H) has  3293 elements\n",
      "Group     3 (        C-alpha) has   432 elements\n",
      "Group     4 (       Backbone) has  1296 elements\n",
      "Group     5 (      MainChain) has  1726 elements\n",
      "Group     6 (   MainChain+Cb) has  2126 elements\n",
      "Group     7 (    MainChain+H) has  2139 elements\n",
      "Group     8 (      SideChain) has  4386 elements\n",
      "Group     9 (    SideChain-H) has  1567 elements\n",
      "Group    10 (    Prot-Masses) has  6525 elements\n",
      "Group    11 (    non-Protein) has 50377 elements\n",
      "Group    12 (          Water) has 50334 elements\n",
      "Group    13 (            SOL) has 50334 elements\n",
      "Group    14 (      non-Water) has  6568 elements\n",
      "Group    15 (            Ion) has    43 elements\n",
      "Group    16 (             NA) has    18 elements\n",
      "Group    17 (             CL) has    25 elements\n",
      "Group    18 ( Water_and_ions) has 50377 elements\n",
      "Select a group: Reading frames from gro file 'Protein in water', 56902 atoms.\n",
      "Reading frame       0 time    0.000   \n",
      "Precision of /home/rchaves/repo/biobb/biobb_wf_antibody/biobb_wf_antibody/notebooks/sandbox_cfe50716-6505-4f9d-9774-9f3a7c1fe42e/4G6K_md.gro is 0.001 (nm)\n",
      "Last frame          0 time    0.000   \n",
      " ->  frame      0 time    0.000      \n",
      "Last written: frame      0 time    0.000\n",
      "\n",
      "\n",
      "GROMACS reminds you: \"Stupidity got us into this mess, and stupidity will get us out.\" (Homer Simpson)\n",
      "\n",
      "\n",
      "2025-06-04 12:11:03,449 [MainThread  ] [INFO ]  Removed: ['/home/rchaves/repo/biobb/biobb_wf_antibody/biobb_wf_antibody/notebooks/sandbox_cfe50716-6505-4f9d-9774-9f3a7c1fe42e', '/home/rchaves/repo/biobb/biobb_wf_antibody/biobb_wf_antibody/notebooks/2bb698e0-6095-4a90-970d-3ec348208232.stdin']\n",
      "2025-06-04 12:11:03,449 [MainThread  ] [INFO ]  \n"
     ]
    },
    {
     "data": {
      "text/plain": [
       "0"
      ]
     },
     "execution_count": 81,
     "metadata": {},
     "output_type": "execute_result"
    }
   ],
   "source": [
    "# GMXTrjConvStr: Converting and/or manipulating a structure\n",
    "#                Removing water molecules and ions from the resulting structure\n",
    "#                The \"dry\" structure will be used as a topology to visualize \n",
    "#                the \"imaged dry\" trajectory generated in the previous step.\n",
    "from biobb_analysis.gromacs.gmx_trjconv_str import gmx_trjconv_str\n",
    "\n",
    "# Create prop dict and inputs/outputs\n",
    "output_dry_gro = f'{MD_dir}{pdbCode}_md_dry.gro'\n",
    "prop = {\n",
    "    'selection':  'Protein'\n",
    "}\n",
    "\n",
    "# Create and launch bb\n",
    "gmx_trjconv_str(input_structure_path=output_md_gro,\n",
    "                input_top_path=output_gppmd_tpr,\n",
    "                output_str_path=output_dry_gro, \n",
    "                properties=def_dict(prop))"
   ]
  },
  {
   "cell_type": "markdown",
   "metadata": {},
   "source": [
    "<a id=\"ppStep3\"></a>\n",
    "#### Step 3: Visualizing the generated dehydrated trajectory.\n",
    "Using the **imaged trajectory** (output of the [Post-processing step 1](#ppStep1)) with the **dry structure** (output of the [Post-processing step 2](#ppStep2)) as a topology."
   ]
  },
  {
   "cell_type": "code",
   "execution_count": 82,
   "metadata": {},
   "outputs": [
    {
     "data": {
      "application/vnd.jupyter.widget-view+json": {
       "model_id": "542e502dfe414ac493de14fdb7c4b19f",
       "version_major": 2,
       "version_minor": 0
      },
      "text/plain": [
       "NGLWidget(max_frame=50)"
      ]
     },
     "metadata": {},
     "output_type": "display_data"
    }
   ],
   "source": [
    "# Show trajectory\n",
    "view = nv.show_simpletraj(nv.SimpletrajTrajectory(output_imaged_traj_rot, output_dry_gro), gui=True)\n",
    "view.add_licorice()\n",
    "view"
   ]
  },
  {
   "cell_type": "markdown",
   "metadata": {},
   "source": [
    "<a id=\"mdStep3\"></a>\n",
    "#### Step 4: Checking free MD simulation results\n",
    "Checking results for the final step of the setup process, the **free MD run**. Plotting **Root Mean Square deviation (RMSd)** and **Radius of Gyration (Rgyr)** by time during the **free MD run** step. **RMSd** against the **experimental structure** (input structure of the pipeline) and against the **minimized and equilibrated structure** (output structure of the NPT equilibration step)."
   ]
  },
  {
   "cell_type": "code",
   "execution_count": 36,
   "metadata": {
    "scrolled": true
   },
   "outputs": [
    {
     "name": "stdout",
     "output_type": "stream",
     "text": [
      "2025-06-04 10:27:36,636 [MainThread  ] [INFO ]  Module: biobb_analysis.gromacs.gmx_rms Version: 5.0.1\n",
      "2025-06-04 10:27:36,637 [MainThread  ] [INFO ]  /home/rchaves/repo/biobb/biobb_wf_antibody/biobb_wf_antibody/notebooks/sandbox_1d5c9980-989c-4255-ab26-f414f3aa1e86 directory successfully created\n",
      "2025-06-04 10:27:36,639 [MainThread  ] [INFO ]  Copy: /home/rchaves/repo/biobb/biobb_wf_antibody/biobb_wf_antibody/notebooks/data/antibody/1_MD/4G6K_gppmin.tpr to /home/rchaves/repo/biobb/biobb_wf_antibody/biobb_wf_antibody/notebooks/sandbox_1d5c9980-989c-4255-ab26-f414f3aa1e86\n",
      "2025-06-04 10:27:36,642 [MainThread  ] [INFO ]  Copy: /home/rchaves/repo/biobb/biobb_wf_antibody/biobb_wf_antibody/notebooks/data/antibody/1_MD/4G6K_imaged_traj_rot.trr to /home/rchaves/repo/biobb/biobb_wf_antibody/biobb_wf_antibody/notebooks/sandbox_1d5c9980-989c-4255-ab26-f414f3aa1e86\n",
      "2025-06-04 10:27:36,642 [MainThread  ] [INFO ]  Copy: /home/rchaves/repo/biobb/biobb_wf_antibody/biobb_wf_antibody/notebooks/99e7ef81-bee5-4f50-a8ac-d62f57ab62d1.stdin to /home/rchaves/repo/biobb/biobb_wf_antibody/biobb_wf_antibody/notebooks/sandbox_1d5c9980-989c-4255-ab26-f414f3aa1e86\n",
      "2025-06-04 10:27:36,642 [MainThread  ] [INFO ]  gmx rms -s /home/rchaves/repo/biobb/biobb_wf_antibody/biobb_wf_antibody/notebooks/sandbox_1d5c9980-989c-4255-ab26-f414f3aa1e86/4G6K_gppmin.tpr -f /home/rchaves/repo/biobb/biobb_wf_antibody/biobb_wf_antibody/notebooks/sandbox_1d5c9980-989c-4255-ab26-f414f3aa1e86/4G6K_imaged_traj_rot.trr -o /home/rchaves/repo/biobb/biobb_wf_antibody/biobb_wf_antibody/notebooks/sandbox_1d5c9980-989c-4255-ab26-f414f3aa1e86/4G6K_rms_exp.xvg -xvg none < /home/rchaves/repo/biobb/biobb_wf_antibody/biobb_wf_antibody/notebooks/sandbox_1d5c9980-989c-4255-ab26-f414f3aa1e86/99e7ef81-bee5-4f50-a8ac-d62f57ab62d1.stdin\n",
      "\n",
      "2025-06-04 10:27:36,711 [MainThread  ] [INFO ]  Executing: gmx rms -s /home/rchaves/repo/biobb/biobb_wf_antibody/biobb_wf_antibody/notebook...\n",
      "2025-06-04 10:27:36,711 [MainThread  ] [INFO ]  Exit code: 0\n",
      "2025-06-04 10:27:36,711 [MainThread  ] [INFO ]  Selected 4: 'Backbone'\n",
      "Selected 4: 'Backbone'\n",
      "\n",
      "2025-06-04 10:27:36,712 [MainThread  ] [INFO ]                   :-) GROMACS - gmx rms, 2022.2-conda_forge (-:\n",
      "\n",
      "Executable:   /home/rchaves/miniforge3/envs/biobb_wf_antibody/bin.AVX2_256/gmx\n",
      "Data prefix:  /home/rchaves/miniforge3/envs/biobb_wf_antibody\n",
      "Working dir:  /home/rchaves/repo/biobb/biobb_wf_antibody/biobb_wf_antibody/notebooks\n",
      "Command line:\n",
      "  gmx rms -s /home/rchaves/repo/biobb/biobb_wf_antibody/biobb_wf_antibody/notebooks/sandbox_1d5c9980-989c-4255-ab26-f414f3aa1e86/4G6K_gppmin.tpr -f /home/rchaves/repo/biobb/biobb_wf_antibody/biobb_wf_antibody/notebooks/sandbox_1d5c9980-989c-4255-ab26-f414f3aa1e86/4G6K_imaged_traj_rot.trr -o /home/rchaves/repo/biobb/biobb_wf_antibody/biobb_wf_antibody/notebooks/sandbox_1d5c9980-989c-4255-ab26-f414f3aa1e86/4G6K_rms_exp.xvg -xvg none\n",
      "\n",
      "Reading file /home/rchaves/repo/biobb/biobb_wf_antibody/biobb_wf_antibody/notebooks/sandbox_1d5c9980-989c-4255-ab26-f414f3aa1e86/4G6K_gppmin.tpr, VERSION 2022.2-conda_forge (single precision)\n",
      "Reading file /home/rchaves/repo/biobb/biobb_wf_antibody/biobb_wf_antibody/notebooks/sandbox_1d5c9980-989c-4255-ab26-f414f3aa1e86/4G6K_gppmin.tpr, VERSION 2022.2-conda_forge (single precision)\n",
      "Select group for least squares fit\n",
      "Group     0 (         System) has 56902 elements\n",
      "Group     1 (        Protein) has  6525 elements\n",
      "Group     2 (      Protein-H) has  3293 elements\n",
      "Group     3 (        C-alpha) has   432 elements\n",
      "Group     4 (       Backbone) has  1296 elements\n",
      "Group     5 (      MainChain) has  1726 elements\n",
      "Group     6 (   MainChain+Cb) has  2126 elements\n",
      "Group     7 (    MainChain+H) has  2139 elements\n",
      "Group     8 (      SideChain) has  4386 elements\n",
      "Group     9 (    SideChain-H) has  1567 elements\n",
      "Group    10 (    Prot-Masses) has  6525 elements\n",
      "Group    11 (    non-Protein) has 50377 elements\n",
      "Group    12 (          Water) has 50334 elements\n",
      "Group    13 (            SOL) has 50334 elements\n",
      "Group    14 (      non-Water) has  6568 elements\n",
      "Group    15 (            Ion) has    43 elements\n",
      "Group    16 (             NA) has    18 elements\n",
      "Group    17 (             CL) has    25 elements\n",
      "Group    18 ( Water_and_ions) has 50377 elements\n",
      "Select a group: Select group for RMSD calculation\n",
      "Group     0 (         System) has 56902 elements\n",
      "Group     1 (        Protein) has  6525 elements\n",
      "Group     2 (      Protein-H) has  3293 elements\n",
      "Group     3 (        C-alpha) has   432 elements\n",
      "Group     4 (       Backbone) has  1296 elements\n",
      "Group     5 (      MainChain) has  1726 elements\n",
      "Group     6 (   MainChain+Cb) has  2126 elements\n",
      "Group     7 (    MainChain+H) has  2139 elements\n",
      "Group     8 (      SideChain) has  4386 elements\n",
      "Group     9 (    SideChain-H) has  1567 elements\n",
      "Group    10 (    Prot-Masses) has  6525 elements\n",
      "Group    11 (    non-Protein) has 50377 elements\n",
      "Group    12 (          Water) has 50334 elements\n",
      "Group    13 (            SOL) has 50334 elements\n",
      "Group    14 (      non-Water) has  6568 elements\n",
      "Group    15 (            Ion) has    43 elements\n",
      "Group    16 (             NA) has    18 elements\n",
      "Group    17 (             CL) has    25 elements\n",
      "Group    18 ( Water_and_ions) has 50377 elements\n",
      "Select a group: trr version: GMX_trn_file (single precision)\n",
      "Reading frame       0 time    0.000   \n",
      "WARNING: topology has 56902 atoms, whereas trajectory has 6525\n",
      "Last frame         50 time 10000.000   \n",
      "\n",
      "GROMACS reminds you: \"I tend to consider myself as a scientist.\" (Emmanuelle Charpentier, when asked about the importance of two women sharing the Nobel Prize for Chemistry)\n",
      "\n",
      "\n",
      "2025-06-04 10:27:36,714 [MainThread  ] [INFO ]  Removed: ['/home/rchaves/repo/biobb/biobb_wf_antibody/biobb_wf_antibody/notebooks/sandbox_1d5c9980-989c-4255-ab26-f414f3aa1e86', '/home/rchaves/repo/biobb/biobb_wf_antibody/biobb_wf_antibody/notebooks/99e7ef81-bee5-4f50-a8ac-d62f57ab62d1.stdin']\n",
      "2025-06-04 10:27:36,715 [MainThread  ] [INFO ]  \n"
     ]
    },
    {
     "data": {
      "text/plain": [
       "0"
      ]
     },
     "execution_count": 36,
     "metadata": {},
     "output_type": "execute_result"
    }
   ],
   "source": [
    "# GMXRms: Computing Root Mean Square deviation to analyse structural stability \n",
    "#         RMSd against experimental structure (backbone atoms)   \n",
    "\n",
    "from biobb_analysis.gromacs.gmx_rms import gmx_rms\n",
    "\n",
    "# Create prop dict and inputs/outputs\n",
    "output_rms_exp = f'{MD_dir}{pdbCode}_rms_exp.xvg'\n",
    "prop = {\n",
    "    'selection':  'Backbone',\n",
    "    #'selection': 'non-Water'\n",
    "}\n",
    "\n",
    "# Create and launch bb\n",
    "gmx_rms(input_structure_path=output_gppmin_tpr,\n",
    "         input_traj_path=output_imaged_traj_rot,\n",
    "         output_xvg_path=output_rms_exp, \n",
    "          properties=def_dict(prop))"
   ]
  },
  {
   "cell_type": "code",
   "execution_count": 37,
   "metadata": {},
   "outputs": [
    {
     "data": {
      "text/html": [
       "        <script type=\"text/javascript\">\n",
       "        window.PlotlyConfig = {MathJaxConfig: 'local'};\n",
       "        if (window.MathJax && window.MathJax.Hub && window.MathJax.Hub.Config) {window.MathJax.Hub.Config({SVG: {font: \"STIX-Web\"}});}\n",
       "        </script>\n",
       "        <script type=\"module\">import \"https://cdn.plot.ly/plotly-3.0.1.min\"</script>\n",
       "        "
      ]
     },
     "metadata": {},
     "output_type": "display_data"
    },
    {
     "data": {
      "application/vnd.plotly.v1+json": {
       "config": {
        "linkText": "Export to plot.ly",
        "plotlyServerURL": "https://plot.ly",
        "showLink": false
       },
       "data": [
        {
         "name": "RMSd vs exp",
         "type": "scatter",
         "x": [
          0,
          200,
          400,
          600,
          800,
          1000,
          1200,
          1400,
          1600,
          1800,
          2000,
          2200,
          2400,
          2600,
          2800,
          3000,
          3200,
          3400,
          3600,
          3800,
          4000,
          4200,
          4400,
          4600,
          4800,
          5000,
          5200,
          5400,
          5600,
          5800,
          6000,
          6200,
          6400,
          6600,
          6800,
          7000,
          7200,
          7400,
          7600,
          7800,
          8000,
          8200,
          8400,
          8600,
          8800,
          9000,
          9200,
          9400,
          9600,
          9800,
          10000
         ],
         "y": [
          0.0386878,
          0.0404195,
          0.0390424,
          0.0398874,
          0.0403012,
          0.0406378,
          0.0400435,
          0.0403754,
          0.0403275,
          0.0396397,
          0.0392773,
          0.0405622,
          0.0386765,
          0.0419496,
          0.0395095,
          0.0410918,
          0.0392661,
          0.0398912,
          0.0401332,
          0.0404633,
          0.0395466,
          0.0406952,
          0.0391792,
          0.0400824,
          0.0419042,
          0.0395109,
          0.0411223,
          0.0383865,
          0.0412594,
          0.0403057,
          0.0393463,
          0.0402155,
          0.0403644,
          0.0404315,
          0.0407176,
          0.0409765,
          0.0405022,
          0.0406235,
          0.0407731,
          0.0391052,
          0.0393213,
          0.0406853,
          0.0410742,
          0.0399178,
          0.0395565,
          0.040949,
          0.0409939,
          0.040694,
          0.0390734,
          0.0398987,
          0.0403551
         ]
        }
       ],
       "layout": {
        "template": {
         "data": {
          "bar": [
           {
            "error_x": {
             "color": "#2a3f5f"
            },
            "error_y": {
             "color": "#2a3f5f"
            },
            "marker": {
             "line": {
              "color": "#E5ECF6",
              "width": 0.5
             },
             "pattern": {
              "fillmode": "overlay",
              "size": 10,
              "solidity": 0.2
             }
            },
            "type": "bar"
           }
          ],
          "barpolar": [
           {
            "marker": {
             "line": {
              "color": "#E5ECF6",
              "width": 0.5
             },
             "pattern": {
              "fillmode": "overlay",
              "size": 10,
              "solidity": 0.2
             }
            },
            "type": "barpolar"
           }
          ],
          "carpet": [
           {
            "aaxis": {
             "endlinecolor": "#2a3f5f",
             "gridcolor": "white",
             "linecolor": "white",
             "minorgridcolor": "white",
             "startlinecolor": "#2a3f5f"
            },
            "baxis": {
             "endlinecolor": "#2a3f5f",
             "gridcolor": "white",
             "linecolor": "white",
             "minorgridcolor": "white",
             "startlinecolor": "#2a3f5f"
            },
            "type": "carpet"
           }
          ],
          "choropleth": [
           {
            "colorbar": {
             "outlinewidth": 0,
             "ticks": ""
            },
            "type": "choropleth"
           }
          ],
          "contour": [
           {
            "colorbar": {
             "outlinewidth": 0,
             "ticks": ""
            },
            "colorscale": [
             [
              0,
              "#0d0887"
             ],
             [
              0.1111111111111111,
              "#46039f"
             ],
             [
              0.2222222222222222,
              "#7201a8"
             ],
             [
              0.3333333333333333,
              "#9c179e"
             ],
             [
              0.4444444444444444,
              "#bd3786"
             ],
             [
              0.5555555555555556,
              "#d8576b"
             ],
             [
              0.6666666666666666,
              "#ed7953"
             ],
             [
              0.7777777777777778,
              "#fb9f3a"
             ],
             [
              0.8888888888888888,
              "#fdca26"
             ],
             [
              1,
              "#f0f921"
             ]
            ],
            "type": "contour"
           }
          ],
          "contourcarpet": [
           {
            "colorbar": {
             "outlinewidth": 0,
             "ticks": ""
            },
            "type": "contourcarpet"
           }
          ],
          "heatmap": [
           {
            "colorbar": {
             "outlinewidth": 0,
             "ticks": ""
            },
            "colorscale": [
             [
              0,
              "#0d0887"
             ],
             [
              0.1111111111111111,
              "#46039f"
             ],
             [
              0.2222222222222222,
              "#7201a8"
             ],
             [
              0.3333333333333333,
              "#9c179e"
             ],
             [
              0.4444444444444444,
              "#bd3786"
             ],
             [
              0.5555555555555556,
              "#d8576b"
             ],
             [
              0.6666666666666666,
              "#ed7953"
             ],
             [
              0.7777777777777778,
              "#fb9f3a"
             ],
             [
              0.8888888888888888,
              "#fdca26"
             ],
             [
              1,
              "#f0f921"
             ]
            ],
            "type": "heatmap"
           }
          ],
          "histogram": [
           {
            "marker": {
             "pattern": {
              "fillmode": "overlay",
              "size": 10,
              "solidity": 0.2
             }
            },
            "type": "histogram"
           }
          ],
          "histogram2d": [
           {
            "colorbar": {
             "outlinewidth": 0,
             "ticks": ""
            },
            "colorscale": [
             [
              0,
              "#0d0887"
             ],
             [
              0.1111111111111111,
              "#46039f"
             ],
             [
              0.2222222222222222,
              "#7201a8"
             ],
             [
              0.3333333333333333,
              "#9c179e"
             ],
             [
              0.4444444444444444,
              "#bd3786"
             ],
             [
              0.5555555555555556,
              "#d8576b"
             ],
             [
              0.6666666666666666,
              "#ed7953"
             ],
             [
              0.7777777777777778,
              "#fb9f3a"
             ],
             [
              0.8888888888888888,
              "#fdca26"
             ],
             [
              1,
              "#f0f921"
             ]
            ],
            "type": "histogram2d"
           }
          ],
          "histogram2dcontour": [
           {
            "colorbar": {
             "outlinewidth": 0,
             "ticks": ""
            },
            "colorscale": [
             [
              0,
              "#0d0887"
             ],
             [
              0.1111111111111111,
              "#46039f"
             ],
             [
              0.2222222222222222,
              "#7201a8"
             ],
             [
              0.3333333333333333,
              "#9c179e"
             ],
             [
              0.4444444444444444,
              "#bd3786"
             ],
             [
              0.5555555555555556,
              "#d8576b"
             ],
             [
              0.6666666666666666,
              "#ed7953"
             ],
             [
              0.7777777777777778,
              "#fb9f3a"
             ],
             [
              0.8888888888888888,
              "#fdca26"
             ],
             [
              1,
              "#f0f921"
             ]
            ],
            "type": "histogram2dcontour"
           }
          ],
          "mesh3d": [
           {
            "colorbar": {
             "outlinewidth": 0,
             "ticks": ""
            },
            "type": "mesh3d"
           }
          ],
          "parcoords": [
           {
            "line": {
             "colorbar": {
              "outlinewidth": 0,
              "ticks": ""
             }
            },
            "type": "parcoords"
           }
          ],
          "pie": [
           {
            "automargin": true,
            "type": "pie"
           }
          ],
          "scatter": [
           {
            "fillpattern": {
             "fillmode": "overlay",
             "size": 10,
             "solidity": 0.2
            },
            "type": "scatter"
           }
          ],
          "scatter3d": [
           {
            "line": {
             "colorbar": {
              "outlinewidth": 0,
              "ticks": ""
             }
            },
            "marker": {
             "colorbar": {
              "outlinewidth": 0,
              "ticks": ""
             }
            },
            "type": "scatter3d"
           }
          ],
          "scattercarpet": [
           {
            "marker": {
             "colorbar": {
              "outlinewidth": 0,
              "ticks": ""
             }
            },
            "type": "scattercarpet"
           }
          ],
          "scattergeo": [
           {
            "marker": {
             "colorbar": {
              "outlinewidth": 0,
              "ticks": ""
             }
            },
            "type": "scattergeo"
           }
          ],
          "scattergl": [
           {
            "marker": {
             "colorbar": {
              "outlinewidth": 0,
              "ticks": ""
             }
            },
            "type": "scattergl"
           }
          ],
          "scattermap": [
           {
            "marker": {
             "colorbar": {
              "outlinewidth": 0,
              "ticks": ""
             }
            },
            "type": "scattermap"
           }
          ],
          "scattermapbox": [
           {
            "marker": {
             "colorbar": {
              "outlinewidth": 0,
              "ticks": ""
             }
            },
            "type": "scattermapbox"
           }
          ],
          "scatterpolar": [
           {
            "marker": {
             "colorbar": {
              "outlinewidth": 0,
              "ticks": ""
             }
            },
            "type": "scatterpolar"
           }
          ],
          "scatterpolargl": [
           {
            "marker": {
             "colorbar": {
              "outlinewidth": 0,
              "ticks": ""
             }
            },
            "type": "scatterpolargl"
           }
          ],
          "scatterternary": [
           {
            "marker": {
             "colorbar": {
              "outlinewidth": 0,
              "ticks": ""
             }
            },
            "type": "scatterternary"
           }
          ],
          "surface": [
           {
            "colorbar": {
             "outlinewidth": 0,
             "ticks": ""
            },
            "colorscale": [
             [
              0,
              "#0d0887"
             ],
             [
              0.1111111111111111,
              "#46039f"
             ],
             [
              0.2222222222222222,
              "#7201a8"
             ],
             [
              0.3333333333333333,
              "#9c179e"
             ],
             [
              0.4444444444444444,
              "#bd3786"
             ],
             [
              0.5555555555555556,
              "#d8576b"
             ],
             [
              0.6666666666666666,
              "#ed7953"
             ],
             [
              0.7777777777777778,
              "#fb9f3a"
             ],
             [
              0.8888888888888888,
              "#fdca26"
             ],
             [
              1,
              "#f0f921"
             ]
            ],
            "type": "surface"
           }
          ],
          "table": [
           {
            "cells": {
             "fill": {
              "color": "#EBF0F8"
             },
             "line": {
              "color": "white"
             }
            },
            "header": {
             "fill": {
              "color": "#C8D4E3"
             },
             "line": {
              "color": "white"
             }
            },
            "type": "table"
           }
          ]
         },
         "layout": {
          "annotationdefaults": {
           "arrowcolor": "#2a3f5f",
           "arrowhead": 0,
           "arrowwidth": 1
          },
          "autotypenumbers": "strict",
          "coloraxis": {
           "colorbar": {
            "outlinewidth": 0,
            "ticks": ""
           }
          },
          "colorscale": {
           "diverging": [
            [
             0,
             "#8e0152"
            ],
            [
             0.1,
             "#c51b7d"
            ],
            [
             0.2,
             "#de77ae"
            ],
            [
             0.3,
             "#f1b6da"
            ],
            [
             0.4,
             "#fde0ef"
            ],
            [
             0.5,
             "#f7f7f7"
            ],
            [
             0.6,
             "#e6f5d0"
            ],
            [
             0.7,
             "#b8e186"
            ],
            [
             0.8,
             "#7fbc41"
            ],
            [
             0.9,
             "#4d9221"
            ],
            [
             1,
             "#276419"
            ]
           ],
           "sequential": [
            [
             0,
             "#0d0887"
            ],
            [
             0.1111111111111111,
             "#46039f"
            ],
            [
             0.2222222222222222,
             "#7201a8"
            ],
            [
             0.3333333333333333,
             "#9c179e"
            ],
            [
             0.4444444444444444,
             "#bd3786"
            ],
            [
             0.5555555555555556,
             "#d8576b"
            ],
            [
             0.6666666666666666,
             "#ed7953"
            ],
            [
             0.7777777777777778,
             "#fb9f3a"
            ],
            [
             0.8888888888888888,
             "#fdca26"
            ],
            [
             1,
             "#f0f921"
            ]
           ],
           "sequentialminus": [
            [
             0,
             "#0d0887"
            ],
            [
             0.1111111111111111,
             "#46039f"
            ],
            [
             0.2222222222222222,
             "#7201a8"
            ],
            [
             0.3333333333333333,
             "#9c179e"
            ],
            [
             0.4444444444444444,
             "#bd3786"
            ],
            [
             0.5555555555555556,
             "#d8576b"
            ],
            [
             0.6666666666666666,
             "#ed7953"
            ],
            [
             0.7777777777777778,
             "#fb9f3a"
            ],
            [
             0.8888888888888888,
             "#fdca26"
            ],
            [
             1,
             "#f0f921"
            ]
           ]
          },
          "colorway": [
           "#636efa",
           "#EF553B",
           "#00cc96",
           "#ab63fa",
           "#FFA15A",
           "#19d3f3",
           "#FF6692",
           "#B6E880",
           "#FF97FF",
           "#FECB52"
          ],
          "font": {
           "color": "#2a3f5f"
          },
          "geo": {
           "bgcolor": "white",
           "lakecolor": "white",
           "landcolor": "#E5ECF6",
           "showlakes": true,
           "showland": true,
           "subunitcolor": "white"
          },
          "hoverlabel": {
           "align": "left"
          },
          "hovermode": "closest",
          "mapbox": {
           "style": "light"
          },
          "paper_bgcolor": "white",
          "plot_bgcolor": "#E5ECF6",
          "polar": {
           "angularaxis": {
            "gridcolor": "white",
            "linecolor": "white",
            "ticks": ""
           },
           "bgcolor": "#E5ECF6",
           "radialaxis": {
            "gridcolor": "white",
            "linecolor": "white",
            "ticks": ""
           }
          },
          "scene": {
           "xaxis": {
            "backgroundcolor": "#E5ECF6",
            "gridcolor": "white",
            "gridwidth": 2,
            "linecolor": "white",
            "showbackground": true,
            "ticks": "",
            "zerolinecolor": "white"
           },
           "yaxis": {
            "backgroundcolor": "#E5ECF6",
            "gridcolor": "white",
            "gridwidth": 2,
            "linecolor": "white",
            "showbackground": true,
            "ticks": "",
            "zerolinecolor": "white"
           },
           "zaxis": {
            "backgroundcolor": "#E5ECF6",
            "gridcolor": "white",
            "gridwidth": 2,
            "linecolor": "white",
            "showbackground": true,
            "ticks": "",
            "zerolinecolor": "white"
           }
          },
          "shapedefaults": {
           "line": {
            "color": "#2a3f5f"
           }
          },
          "ternary": {
           "aaxis": {
            "gridcolor": "white",
            "linecolor": "white",
            "ticks": ""
           },
           "baxis": {
            "gridcolor": "white",
            "linecolor": "white",
            "ticks": ""
           },
           "bgcolor": "#E5ECF6",
           "caxis": {
            "gridcolor": "white",
            "linecolor": "white",
            "ticks": ""
           }
          },
          "title": {
           "x": 0.05
          },
          "xaxis": {
           "automargin": true,
           "gridcolor": "white",
           "linecolor": "white",
           "ticks": "",
           "title": {
            "standoff": 15
           },
           "zerolinecolor": "white",
           "zerolinewidth": 2
          },
          "yaxis": {
           "automargin": true,
           "gridcolor": "white",
           "linecolor": "white",
           "ticks": "",
           "title": {
            "standoff": 15
           },
           "zerolinecolor": "white",
           "zerolinewidth": 2
          }
         }
        },
        "title": {
         "text": "RMSd during free MD Simulation"
        },
        "xaxis": {
         "title": {
          "text": "Time (ps)"
         }
        },
        "yaxis": {
         "title": {
          "text": "RMSd (nm)"
         }
        }
       }
      },
      "text/html": [
       "<div>            <script src=\"https://cdnjs.cloudflare.com/ajax/libs/mathjax/2.7.5/MathJax.js?config=TeX-AMS-MML_SVG\"></script><script type=\"text/javascript\">if (window.MathJax && window.MathJax.Hub && window.MathJax.Hub.Config) {window.MathJax.Hub.Config({SVG: {font: \"STIX-Web\"}});}</script>                <script type=\"text/javascript\">window.PlotlyConfig = {MathJaxConfig: 'local'};</script>\n",
       "        <script charset=\"utf-8\" src=\"https://cdn.plot.ly/plotly-3.0.1.min.js\"></script>                <div id=\"55313c3f-76b2-4f95-9fef-a5b268f369fc\" class=\"plotly-graph-div\" style=\"height:525px; width:100%;\"></div>            <script type=\"text/javascript\">                window.PLOTLYENV=window.PLOTLYENV || {};                                if (document.getElementById(\"55313c3f-76b2-4f95-9fef-a5b268f369fc\")) {                    Plotly.newPlot(                        \"55313c3f-76b2-4f95-9fef-a5b268f369fc\",                        [{\"name\":\"RMSd vs exp\",\"x\":[0.0,200.0,400.0,600.0,800.0,1000.0,1200.0,1400.0,1600.0,1800.0,2000.0,2200.0,2400.0,2600.0,2800.0,3000.0,3200.0,3400.0,3600.0,3800.0,4000.0,4200.0,4400.0,4600.0,4800.0,5000.0,5200.0,5400.0,5600.0,5800.0,6000.0,6200.0,6400.0,6600.0,6800.0,7000.0,7200.0,7400.0,7600.0,7800.0,8000.0,8200.0,8400.0,8600.0,8800.0,9000.0,9200.0,9400.0,9600.0,9800.0,10000.0],\"y\":[0.0386878,0.0404195,0.0390424,0.0398874,0.0403012,0.0406378,0.0400435,0.0403754,0.0403275,0.0396397,0.0392773,0.0405622,0.0386765,0.0419496,0.0395095,0.0410918,0.0392661,0.0398912,0.0401332,0.0404633,0.0395466,0.0406952,0.0391792,0.0400824,0.0419042,0.0395109,0.0411223,0.0383865,0.0412594,0.0403057,0.0393463,0.0402155,0.0403644,0.0404315,0.0407176,0.0409765,0.0405022,0.0406235,0.0407731,0.0391052,0.0393213,0.0406853,0.0410742,0.0399178,0.0395565,0.040949,0.0409939,0.040694,0.0390734,0.0398987,0.0403551],\"type\":\"scatter\"}],                        {\"template\":{\"data\":{\"barpolar\":[{\"marker\":{\"line\":{\"color\":\"#E5ECF6\",\"width\":0.5},\"pattern\":{\"fillmode\":\"overlay\",\"size\":10,\"solidity\":0.2}},\"type\":\"barpolar\"}],\"bar\":[{\"error_x\":{\"color\":\"#2a3f5f\"},\"error_y\":{\"color\":\"#2a3f5f\"},\"marker\":{\"line\":{\"color\":\"#E5ECF6\",\"width\":0.5},\"pattern\":{\"fillmode\":\"overlay\",\"size\":10,\"solidity\":0.2}},\"type\":\"bar\"}],\"carpet\":[{\"aaxis\":{\"endlinecolor\":\"#2a3f5f\",\"gridcolor\":\"white\",\"linecolor\":\"white\",\"minorgridcolor\":\"white\",\"startlinecolor\":\"#2a3f5f\"},\"baxis\":{\"endlinecolor\":\"#2a3f5f\",\"gridcolor\":\"white\",\"linecolor\":\"white\",\"minorgridcolor\":\"white\",\"startlinecolor\":\"#2a3f5f\"},\"type\":\"carpet\"}],\"choropleth\":[{\"colorbar\":{\"outlinewidth\":0,\"ticks\":\"\"},\"type\":\"choropleth\"}],\"contourcarpet\":[{\"colorbar\":{\"outlinewidth\":0,\"ticks\":\"\"},\"type\":\"contourcarpet\"}],\"contour\":[{\"colorbar\":{\"outlinewidth\":0,\"ticks\":\"\"},\"colorscale\":[[0.0,\"#0d0887\"],[0.1111111111111111,\"#46039f\"],[0.2222222222222222,\"#7201a8\"],[0.3333333333333333,\"#9c179e\"],[0.4444444444444444,\"#bd3786\"],[0.5555555555555556,\"#d8576b\"],[0.6666666666666666,\"#ed7953\"],[0.7777777777777778,\"#fb9f3a\"],[0.8888888888888888,\"#fdca26\"],[1.0,\"#f0f921\"]],\"type\":\"contour\"}],\"heatmap\":[{\"colorbar\":{\"outlinewidth\":0,\"ticks\":\"\"},\"colorscale\":[[0.0,\"#0d0887\"],[0.1111111111111111,\"#46039f\"],[0.2222222222222222,\"#7201a8\"],[0.3333333333333333,\"#9c179e\"],[0.4444444444444444,\"#bd3786\"],[0.5555555555555556,\"#d8576b\"],[0.6666666666666666,\"#ed7953\"],[0.7777777777777778,\"#fb9f3a\"],[0.8888888888888888,\"#fdca26\"],[1.0,\"#f0f921\"]],\"type\":\"heatmap\"}],\"histogram2dcontour\":[{\"colorbar\":{\"outlinewidth\":0,\"ticks\":\"\"},\"colorscale\":[[0.0,\"#0d0887\"],[0.1111111111111111,\"#46039f\"],[0.2222222222222222,\"#7201a8\"],[0.3333333333333333,\"#9c179e\"],[0.4444444444444444,\"#bd3786\"],[0.5555555555555556,\"#d8576b\"],[0.6666666666666666,\"#ed7953\"],[0.7777777777777778,\"#fb9f3a\"],[0.8888888888888888,\"#fdca26\"],[1.0,\"#f0f921\"]],\"type\":\"histogram2dcontour\"}],\"histogram2d\":[{\"colorbar\":{\"outlinewidth\":0,\"ticks\":\"\"},\"colorscale\":[[0.0,\"#0d0887\"],[0.1111111111111111,\"#46039f\"],[0.2222222222222222,\"#7201a8\"],[0.3333333333333333,\"#9c179e\"],[0.4444444444444444,\"#bd3786\"],[0.5555555555555556,\"#d8576b\"],[0.6666666666666666,\"#ed7953\"],[0.7777777777777778,\"#fb9f3a\"],[0.8888888888888888,\"#fdca26\"],[1.0,\"#f0f921\"]],\"type\":\"histogram2d\"}],\"histogram\":[{\"marker\":{\"pattern\":{\"fillmode\":\"overlay\",\"size\":10,\"solidity\":0.2}},\"type\":\"histogram\"}],\"mesh3d\":[{\"colorbar\":{\"outlinewidth\":0,\"ticks\":\"\"},\"type\":\"mesh3d\"}],\"parcoords\":[{\"line\":{\"colorbar\":{\"outlinewidth\":0,\"ticks\":\"\"}},\"type\":\"parcoords\"}],\"pie\":[{\"automargin\":true,\"type\":\"pie\"}],\"scatter3d\":[{\"line\":{\"colorbar\":{\"outlinewidth\":0,\"ticks\":\"\"}},\"marker\":{\"colorbar\":{\"outlinewidth\":0,\"ticks\":\"\"}},\"type\":\"scatter3d\"}],\"scattercarpet\":[{\"marker\":{\"colorbar\":{\"outlinewidth\":0,\"ticks\":\"\"}},\"type\":\"scattercarpet\"}],\"scattergeo\":[{\"marker\":{\"colorbar\":{\"outlinewidth\":0,\"ticks\":\"\"}},\"type\":\"scattergeo\"}],\"scattergl\":[{\"marker\":{\"colorbar\":{\"outlinewidth\":0,\"ticks\":\"\"}},\"type\":\"scattergl\"}],\"scattermapbox\":[{\"marker\":{\"colorbar\":{\"outlinewidth\":0,\"ticks\":\"\"}},\"type\":\"scattermapbox\"}],\"scattermap\":[{\"marker\":{\"colorbar\":{\"outlinewidth\":0,\"ticks\":\"\"}},\"type\":\"scattermap\"}],\"scatterpolargl\":[{\"marker\":{\"colorbar\":{\"outlinewidth\":0,\"ticks\":\"\"}},\"type\":\"scatterpolargl\"}],\"scatterpolar\":[{\"marker\":{\"colorbar\":{\"outlinewidth\":0,\"ticks\":\"\"}},\"type\":\"scatterpolar\"}],\"scatter\":[{\"fillpattern\":{\"fillmode\":\"overlay\",\"size\":10,\"solidity\":0.2},\"type\":\"scatter\"}],\"scatterternary\":[{\"marker\":{\"colorbar\":{\"outlinewidth\":0,\"ticks\":\"\"}},\"type\":\"scatterternary\"}],\"surface\":[{\"colorbar\":{\"outlinewidth\":0,\"ticks\":\"\"},\"colorscale\":[[0.0,\"#0d0887\"],[0.1111111111111111,\"#46039f\"],[0.2222222222222222,\"#7201a8\"],[0.3333333333333333,\"#9c179e\"],[0.4444444444444444,\"#bd3786\"],[0.5555555555555556,\"#d8576b\"],[0.6666666666666666,\"#ed7953\"],[0.7777777777777778,\"#fb9f3a\"],[0.8888888888888888,\"#fdca26\"],[1.0,\"#f0f921\"]],\"type\":\"surface\"}],\"table\":[{\"cells\":{\"fill\":{\"color\":\"#EBF0F8\"},\"line\":{\"color\":\"white\"}},\"header\":{\"fill\":{\"color\":\"#C8D4E3\"},\"line\":{\"color\":\"white\"}},\"type\":\"table\"}]},\"layout\":{\"annotationdefaults\":{\"arrowcolor\":\"#2a3f5f\",\"arrowhead\":0,\"arrowwidth\":1},\"autotypenumbers\":\"strict\",\"coloraxis\":{\"colorbar\":{\"outlinewidth\":0,\"ticks\":\"\"}},\"colorscale\":{\"diverging\":[[0,\"#8e0152\"],[0.1,\"#c51b7d\"],[0.2,\"#de77ae\"],[0.3,\"#f1b6da\"],[0.4,\"#fde0ef\"],[0.5,\"#f7f7f7\"],[0.6,\"#e6f5d0\"],[0.7,\"#b8e186\"],[0.8,\"#7fbc41\"],[0.9,\"#4d9221\"],[1,\"#276419\"]],\"sequential\":[[0.0,\"#0d0887\"],[0.1111111111111111,\"#46039f\"],[0.2222222222222222,\"#7201a8\"],[0.3333333333333333,\"#9c179e\"],[0.4444444444444444,\"#bd3786\"],[0.5555555555555556,\"#d8576b\"],[0.6666666666666666,\"#ed7953\"],[0.7777777777777778,\"#fb9f3a\"],[0.8888888888888888,\"#fdca26\"],[1.0,\"#f0f921\"]],\"sequentialminus\":[[0.0,\"#0d0887\"],[0.1111111111111111,\"#46039f\"],[0.2222222222222222,\"#7201a8\"],[0.3333333333333333,\"#9c179e\"],[0.4444444444444444,\"#bd3786\"],[0.5555555555555556,\"#d8576b\"],[0.6666666666666666,\"#ed7953\"],[0.7777777777777778,\"#fb9f3a\"],[0.8888888888888888,\"#fdca26\"],[1.0,\"#f0f921\"]]},\"colorway\":[\"#636efa\",\"#EF553B\",\"#00cc96\",\"#ab63fa\",\"#FFA15A\",\"#19d3f3\",\"#FF6692\",\"#B6E880\",\"#FF97FF\",\"#FECB52\"],\"font\":{\"color\":\"#2a3f5f\"},\"geo\":{\"bgcolor\":\"white\",\"lakecolor\":\"white\",\"landcolor\":\"#E5ECF6\",\"showlakes\":true,\"showland\":true,\"subunitcolor\":\"white\"},\"hoverlabel\":{\"align\":\"left\"},\"hovermode\":\"closest\",\"mapbox\":{\"style\":\"light\"},\"paper_bgcolor\":\"white\",\"plot_bgcolor\":\"#E5ECF6\",\"polar\":{\"angularaxis\":{\"gridcolor\":\"white\",\"linecolor\":\"white\",\"ticks\":\"\"},\"bgcolor\":\"#E5ECF6\",\"radialaxis\":{\"gridcolor\":\"white\",\"linecolor\":\"white\",\"ticks\":\"\"}},\"scene\":{\"xaxis\":{\"backgroundcolor\":\"#E5ECF6\",\"gridcolor\":\"white\",\"gridwidth\":2,\"linecolor\":\"white\",\"showbackground\":true,\"ticks\":\"\",\"zerolinecolor\":\"white\"},\"yaxis\":{\"backgroundcolor\":\"#E5ECF6\",\"gridcolor\":\"white\",\"gridwidth\":2,\"linecolor\":\"white\",\"showbackground\":true,\"ticks\":\"\",\"zerolinecolor\":\"white\"},\"zaxis\":{\"backgroundcolor\":\"#E5ECF6\",\"gridcolor\":\"white\",\"gridwidth\":2,\"linecolor\":\"white\",\"showbackground\":true,\"ticks\":\"\",\"zerolinecolor\":\"white\"}},\"shapedefaults\":{\"line\":{\"color\":\"#2a3f5f\"}},\"ternary\":{\"aaxis\":{\"gridcolor\":\"white\",\"linecolor\":\"white\",\"ticks\":\"\"},\"baxis\":{\"gridcolor\":\"white\",\"linecolor\":\"white\",\"ticks\":\"\"},\"bgcolor\":\"#E5ECF6\",\"caxis\":{\"gridcolor\":\"white\",\"linecolor\":\"white\",\"ticks\":\"\"}},\"title\":{\"x\":0.05},\"xaxis\":{\"automargin\":true,\"gridcolor\":\"white\",\"linecolor\":\"white\",\"ticks\":\"\",\"title\":{\"standoff\":15},\"zerolinecolor\":\"white\",\"zerolinewidth\":2},\"yaxis\":{\"automargin\":true,\"gridcolor\":\"white\",\"linecolor\":\"white\",\"ticks\":\"\",\"title\":{\"standoff\":15},\"zerolinecolor\":\"white\",\"zerolinewidth\":2}}},\"title\":{\"text\":\"RMSd during free MD Simulation\"},\"xaxis\":{\"title\":{\"text\":\"Time (ps)\"}},\"yaxis\":{\"title\":{\"text\":\"RMSd (nm)\"}}},                        {\"responsive\": true}                    ).then(function(){\n",
       "                            \n",
       "var gd = document.getElementById('55313c3f-76b2-4f95-9fef-a5b268f369fc');\n",
       "var x = new MutationObserver(function (mutations, observer) {{\n",
       "        var display = window.getComputedStyle(gd).display;\n",
       "        if (!display || display === 'none') {{\n",
       "            console.log([gd, 'removed!']);\n",
       "            Plotly.purge(gd);\n",
       "            observer.disconnect();\n",
       "        }}\n",
       "}});\n",
       "\n",
       "// Listen for the removal of the full notebook cells\n",
       "var notebookContainer = gd.closest('#notebook-container');\n",
       "if (notebookContainer) {{\n",
       "    x.observe(notebookContainer, {childList: true});\n",
       "}}\n",
       "\n",
       "// Listen for the clearing of the current output cell\n",
       "var outputEl = gd.closest('.output');\n",
       "if (outputEl) {{\n",
       "    x.observe(outputEl, {childList: true});\n",
       "}}\n",
       "\n",
       "                        })                };            </script>        </div>"
      ]
     },
     "metadata": {},
     "output_type": "display_data"
    }
   ],
   "source": [
    "import plotly\n",
    "import plotly.graph_objs as go\n",
    "\n",
    "# Read RMS vs experimental structure data from file \n",
    "with open(output_rms_exp,'r') as rms_exp_file:\n",
    "    x2,y2 = map(\n",
    "        list,\n",
    "        zip(*[\n",
    "            (float(line.split()[0]),float(line.split()[1]))\n",
    "            for line in rms_exp_file\n",
    "            if not line.startswith((\"#\",\"@\")) \n",
    "        ])\n",
    "    )\n",
    "\n",
    "trace = go.Scatter(\n",
    "    x = x2,\n",
    "    y = y2,\n",
    "    name = 'RMSd vs exp'\n",
    ")\n",
    "\n",
    "plotly.offline.init_notebook_mode(connected=True)\n",
    "\n",
    "fig = {\n",
    "    \"data\": trace,\n",
    "    \"layout\": go.Layout(title=\"RMSd during free MD Simulation\",\n",
    "                        xaxis=dict(title = \"Time (ps)\"),\n",
    "                        yaxis=dict(title = \"RMSd (nm)\")\n",
    "                       )\n",
    "}\n",
    "\n",
    "plotly.offline.iplot(fig)\n"
   ]
  },
  {
   "cell_type": "code",
   "execution_count": 38,
   "metadata": {
    "scrolled": true
   },
   "outputs": [
    {
     "name": "stdout",
     "output_type": "stream",
     "text": [
      "2025-06-04 10:27:36,806 [MainThread  ] [INFO ]  Module: biobb_analysis.gromacs.gmx_rgyr Version: 5.0.1\n",
      "2025-06-04 10:27:36,807 [MainThread  ] [INFO ]  /home/rchaves/repo/biobb/biobb_wf_antibody/biobb_wf_antibody/notebooks/sandbox_b1993f73-be26-42e8-b3ff-1a67c5a92eb7 directory successfully created\n",
      "2025-06-04 10:27:36,810 [MainThread  ] [INFO ]  Copy: /home/rchaves/repo/biobb/biobb_wf_antibody/biobb_wf_antibody/notebooks/data/antibody/1_MD/4G6K_gppmin.tpr to /home/rchaves/repo/biobb/biobb_wf_antibody/biobb_wf_antibody/notebooks/sandbox_b1993f73-be26-42e8-b3ff-1a67c5a92eb7\n",
      "2025-06-04 10:27:36,814 [MainThread  ] [INFO ]  Copy: /home/rchaves/repo/biobb/biobb_wf_antibody/biobb_wf_antibody/notebooks/data/antibody/1_MD/4G6K_imaged_traj_rot.trr to /home/rchaves/repo/biobb/biobb_wf_antibody/biobb_wf_antibody/notebooks/sandbox_b1993f73-be26-42e8-b3ff-1a67c5a92eb7\n",
      "2025-06-04 10:27:36,815 [MainThread  ] [INFO ]  Copy: /home/rchaves/repo/biobb/biobb_wf_antibody/biobb_wf_antibody/notebooks/66c9e076-a627-4a64-ae62-4e3dde461ba2.stdin to /home/rchaves/repo/biobb/biobb_wf_antibody/biobb_wf_antibody/notebooks/sandbox_b1993f73-be26-42e8-b3ff-1a67c5a92eb7\n",
      "2025-06-04 10:27:36,815 [MainThread  ] [INFO ]  gmx gyrate -s /home/rchaves/repo/biobb/biobb_wf_antibody/biobb_wf_antibody/notebooks/sandbox_b1993f73-be26-42e8-b3ff-1a67c5a92eb7/4G6K_gppmin.tpr -f /home/rchaves/repo/biobb/biobb_wf_antibody/biobb_wf_antibody/notebooks/sandbox_b1993f73-be26-42e8-b3ff-1a67c5a92eb7/4G6K_imaged_traj_rot.trr -o /home/rchaves/repo/biobb/biobb_wf_antibody/biobb_wf_antibody/notebooks/sandbox_b1993f73-be26-42e8-b3ff-1a67c5a92eb7/4G6K_rgyr.xvg -xvg none < /home/rchaves/repo/biobb/biobb_wf_antibody/biobb_wf_antibody/notebooks/sandbox_b1993f73-be26-42e8-b3ff-1a67c5a92eb7/66c9e076-a627-4a64-ae62-4e3dde461ba2.stdin\n",
      "\n",
      "2025-06-04 10:27:36,872 [MainThread  ] [INFO ]  Executing: gmx gyrate -s /home/rchaves/repo/biobb/biobb_wf_antibody/biobb_wf_antibody/noteb...\n",
      "2025-06-04 10:27:36,873 [MainThread  ] [INFO ]  Exit code: 0\n",
      "2025-06-04 10:27:36,873 [MainThread  ] [INFO ]  Selected 4: 'Backbone'\n",
      "\n",
      "2025-06-04 10:27:36,873 [MainThread  ] [INFO ]                  :-) GROMACS - gmx gyrate, 2022.2-conda_forge (-:\n",
      "\n",
      "Executable:   /home/rchaves/miniforge3/envs/biobb_wf_antibody/bin.AVX2_256/gmx\n",
      "Data prefix:  /home/rchaves/miniforge3/envs/biobb_wf_antibody\n",
      "Working dir:  /home/rchaves/repo/biobb/biobb_wf_antibody/biobb_wf_antibody/notebooks\n",
      "Command line:\n",
      "  gmx gyrate -s /home/rchaves/repo/biobb/biobb_wf_antibody/biobb_wf_antibody/notebooks/sandbox_b1993f73-be26-42e8-b3ff-1a67c5a92eb7/4G6K_gppmin.tpr -f /home/rchaves/repo/biobb/biobb_wf_antibody/biobb_wf_antibody/notebooks/sandbox_b1993f73-be26-42e8-b3ff-1a67c5a92eb7/4G6K_imaged_traj_rot.trr -o /home/rchaves/repo/biobb/biobb_wf_antibody/biobb_wf_antibody/notebooks/sandbox_b1993f73-be26-42e8-b3ff-1a67c5a92eb7/4G6K_rgyr.xvg -xvg none\n",
      "\n",
      "Reading file /home/rchaves/repo/biobb/biobb_wf_antibody/biobb_wf_antibody/notebooks/sandbox_b1993f73-be26-42e8-b3ff-1a67c5a92eb7/4G6K_gppmin.tpr, VERSION 2022.2-conda_forge (single precision)\n",
      "Reading file /home/rchaves/repo/biobb/biobb_wf_antibody/biobb_wf_antibody/notebooks/sandbox_b1993f73-be26-42e8-b3ff-1a67c5a92eb7/4G6K_gppmin.tpr, VERSION 2022.2-conda_forge (single precision)\n",
      "Group     0 (         System) has 56902 elements\n",
      "Group     1 (        Protein) has  6525 elements\n",
      "Group     2 (      Protein-H) has  3293 elements\n",
      "Group     3 (        C-alpha) has   432 elements\n",
      "Group     4 (       Backbone) has  1296 elements\n",
      "Group     5 (      MainChain) has  1726 elements\n",
      "Group     6 (   MainChain+Cb) has  2126 elements\n",
      "Group     7 (    MainChain+H) has  2139 elements\n",
      "Group     8 (      SideChain) has  4386 elements\n",
      "Group     9 (    SideChain-H) has  1567 elements\n",
      "Group    10 (    Prot-Masses) has  6525 elements\n",
      "Group    11 (    non-Protein) has 50377 elements\n",
      "Group    12 (          Water) has 50334 elements\n",
      "Group    13 (            SOL) has 50334 elements\n",
      "Group    14 (      non-Water) has  6568 elements\n",
      "Group    15 (            Ion) has    43 elements\n",
      "Group    16 (             NA) has    18 elements\n",
      "Group    17 (             CL) has    25 elements\n",
      "Group    18 ( Water_and_ions) has 50377 elements\n",
      "Select a group: trr version: GMX_trn_file (single precision)\n",
      "Last frame         50 time 10000.000   \n",
      "\n",
      "GROMACS reminds you: \"I tend to consider myself as a scientist.\" (Emmanuelle Charpentier, when asked about the importance of two women sharing the Nobel Prize for Chemistry)\n",
      "\n",
      "\n",
      "2025-06-04 10:27:36,876 [MainThread  ] [INFO ]  Removed: ['/home/rchaves/repo/biobb/biobb_wf_antibody/biobb_wf_antibody/notebooks/sandbox_b1993f73-be26-42e8-b3ff-1a67c5a92eb7', '/home/rchaves/repo/biobb/biobb_wf_antibody/biobb_wf_antibody/notebooks/66c9e076-a627-4a64-ae62-4e3dde461ba2.stdin']\n",
      "2025-06-04 10:27:36,876 [MainThread  ] [INFO ]  \n"
     ]
    },
    {
     "data": {
      "text/plain": [
       "0"
      ]
     },
     "execution_count": 38,
     "metadata": {},
     "output_type": "execute_result"
    }
   ],
   "source": [
    "# GMXRgyr: Computing Radius of Gyration to measure the protein compactness during the free MD simulation \n",
    "\n",
    "from biobb_analysis.gromacs.gmx_rgyr import gmx_rgyr\n",
    "\n",
    "# Create prop dict and inputs/outputs\n",
    "output_rgyr = f'{MD_dir}{pdbCode}_rgyr.xvg'\n",
    "prop = {\n",
    "    'selection':  'Backbone'\n",
    "}\n",
    "\n",
    "# Create and launch bb\n",
    "gmx_rgyr(input_structure_path=output_gppmin_tpr,\n",
    "         input_traj_path=output_imaged_traj_rot,\n",
    "         output_xvg_path=output_rgyr, \n",
    "          properties=def_dict(prop))"
   ]
  },
  {
   "cell_type": "code",
   "execution_count": 39,
   "metadata": {},
   "outputs": [
    {
     "data": {
      "text/html": [
       "        <script type=\"text/javascript\">\n",
       "        window.PlotlyConfig = {MathJaxConfig: 'local'};\n",
       "        if (window.MathJax && window.MathJax.Hub && window.MathJax.Hub.Config) {window.MathJax.Hub.Config({SVG: {font: \"STIX-Web\"}});}\n",
       "        </script>\n",
       "        <script type=\"module\">import \"https://cdn.plot.ly/plotly-3.0.1.min\"</script>\n",
       "        "
      ]
     },
     "metadata": {},
     "output_type": "display_data"
    },
    {
     "data": {
      "application/vnd.plotly.v1+json": {
       "config": {
        "linkText": "Export to plot.ly",
        "plotlyServerURL": "https://plot.ly",
        "showLink": false
       },
       "data": [
        {
         "type": "scatter",
         "x": [
          0,
          200,
          400,
          600,
          800,
          1000,
          1200,
          1400,
          1600,
          1800,
          2000,
          2200,
          2400,
          2600,
          2800,
          3000,
          3200,
          3400,
          3600,
          3800,
          4000,
          4200,
          4400,
          4600,
          4800,
          5000,
          5200,
          5400,
          5600,
          5800,
          6000,
          6200,
          6400,
          6600,
          6800,
          7000,
          7200,
          7400,
          7600,
          7800,
          8000,
          8200,
          8400,
          8600,
          8800,
          9000,
          9200,
          9400,
          9600,
          9800,
          10000
         ],
         "y": [
          2.36752,
          2.36944,
          2.37112,
          2.37153,
          2.37114,
          2.37146,
          2.37031,
          2.37052,
          2.37071,
          2.37032,
          2.37113,
          2.37107,
          2.37156,
          2.36928,
          2.37059,
          2.37115,
          2.37099,
          2.37102,
          2.36976,
          2.37036,
          2.37114,
          2.36998,
          2.37151,
          2.37015,
          2.36873,
          2.37014,
          2.36882,
          2.37151,
          2.36985,
          2.37078,
          2.37202,
          2.3704,
          2.37044,
          2.37116,
          2.3695,
          2.37008,
          2.36997,
          2.37021,
          2.37041,
          2.37194,
          2.37145,
          2.36923,
          2.36904,
          2.36903,
          2.37083,
          2.36926,
          2.36929,
          2.37078,
          2.37103,
          2.37065,
          2.37031
         ]
        }
       ],
       "layout": {
        "template": {
         "data": {
          "bar": [
           {
            "error_x": {
             "color": "#2a3f5f"
            },
            "error_y": {
             "color": "#2a3f5f"
            },
            "marker": {
             "line": {
              "color": "#E5ECF6",
              "width": 0.5
             },
             "pattern": {
              "fillmode": "overlay",
              "size": 10,
              "solidity": 0.2
             }
            },
            "type": "bar"
           }
          ],
          "barpolar": [
           {
            "marker": {
             "line": {
              "color": "#E5ECF6",
              "width": 0.5
             },
             "pattern": {
              "fillmode": "overlay",
              "size": 10,
              "solidity": 0.2
             }
            },
            "type": "barpolar"
           }
          ],
          "carpet": [
           {
            "aaxis": {
             "endlinecolor": "#2a3f5f",
             "gridcolor": "white",
             "linecolor": "white",
             "minorgridcolor": "white",
             "startlinecolor": "#2a3f5f"
            },
            "baxis": {
             "endlinecolor": "#2a3f5f",
             "gridcolor": "white",
             "linecolor": "white",
             "minorgridcolor": "white",
             "startlinecolor": "#2a3f5f"
            },
            "type": "carpet"
           }
          ],
          "choropleth": [
           {
            "colorbar": {
             "outlinewidth": 0,
             "ticks": ""
            },
            "type": "choropleth"
           }
          ],
          "contour": [
           {
            "colorbar": {
             "outlinewidth": 0,
             "ticks": ""
            },
            "colorscale": [
             [
              0,
              "#0d0887"
             ],
             [
              0.1111111111111111,
              "#46039f"
             ],
             [
              0.2222222222222222,
              "#7201a8"
             ],
             [
              0.3333333333333333,
              "#9c179e"
             ],
             [
              0.4444444444444444,
              "#bd3786"
             ],
             [
              0.5555555555555556,
              "#d8576b"
             ],
             [
              0.6666666666666666,
              "#ed7953"
             ],
             [
              0.7777777777777778,
              "#fb9f3a"
             ],
             [
              0.8888888888888888,
              "#fdca26"
             ],
             [
              1,
              "#f0f921"
             ]
            ],
            "type": "contour"
           }
          ],
          "contourcarpet": [
           {
            "colorbar": {
             "outlinewidth": 0,
             "ticks": ""
            },
            "type": "contourcarpet"
           }
          ],
          "heatmap": [
           {
            "colorbar": {
             "outlinewidth": 0,
             "ticks": ""
            },
            "colorscale": [
             [
              0,
              "#0d0887"
             ],
             [
              0.1111111111111111,
              "#46039f"
             ],
             [
              0.2222222222222222,
              "#7201a8"
             ],
             [
              0.3333333333333333,
              "#9c179e"
             ],
             [
              0.4444444444444444,
              "#bd3786"
             ],
             [
              0.5555555555555556,
              "#d8576b"
             ],
             [
              0.6666666666666666,
              "#ed7953"
             ],
             [
              0.7777777777777778,
              "#fb9f3a"
             ],
             [
              0.8888888888888888,
              "#fdca26"
             ],
             [
              1,
              "#f0f921"
             ]
            ],
            "type": "heatmap"
           }
          ],
          "histogram": [
           {
            "marker": {
             "pattern": {
              "fillmode": "overlay",
              "size": 10,
              "solidity": 0.2
             }
            },
            "type": "histogram"
           }
          ],
          "histogram2d": [
           {
            "colorbar": {
             "outlinewidth": 0,
             "ticks": ""
            },
            "colorscale": [
             [
              0,
              "#0d0887"
             ],
             [
              0.1111111111111111,
              "#46039f"
             ],
             [
              0.2222222222222222,
              "#7201a8"
             ],
             [
              0.3333333333333333,
              "#9c179e"
             ],
             [
              0.4444444444444444,
              "#bd3786"
             ],
             [
              0.5555555555555556,
              "#d8576b"
             ],
             [
              0.6666666666666666,
              "#ed7953"
             ],
             [
              0.7777777777777778,
              "#fb9f3a"
             ],
             [
              0.8888888888888888,
              "#fdca26"
             ],
             [
              1,
              "#f0f921"
             ]
            ],
            "type": "histogram2d"
           }
          ],
          "histogram2dcontour": [
           {
            "colorbar": {
             "outlinewidth": 0,
             "ticks": ""
            },
            "colorscale": [
             [
              0,
              "#0d0887"
             ],
             [
              0.1111111111111111,
              "#46039f"
             ],
             [
              0.2222222222222222,
              "#7201a8"
             ],
             [
              0.3333333333333333,
              "#9c179e"
             ],
             [
              0.4444444444444444,
              "#bd3786"
             ],
             [
              0.5555555555555556,
              "#d8576b"
             ],
             [
              0.6666666666666666,
              "#ed7953"
             ],
             [
              0.7777777777777778,
              "#fb9f3a"
             ],
             [
              0.8888888888888888,
              "#fdca26"
             ],
             [
              1,
              "#f0f921"
             ]
            ],
            "type": "histogram2dcontour"
           }
          ],
          "mesh3d": [
           {
            "colorbar": {
             "outlinewidth": 0,
             "ticks": ""
            },
            "type": "mesh3d"
           }
          ],
          "parcoords": [
           {
            "line": {
             "colorbar": {
              "outlinewidth": 0,
              "ticks": ""
             }
            },
            "type": "parcoords"
           }
          ],
          "pie": [
           {
            "automargin": true,
            "type": "pie"
           }
          ],
          "scatter": [
           {
            "fillpattern": {
             "fillmode": "overlay",
             "size": 10,
             "solidity": 0.2
            },
            "type": "scatter"
           }
          ],
          "scatter3d": [
           {
            "line": {
             "colorbar": {
              "outlinewidth": 0,
              "ticks": ""
             }
            },
            "marker": {
             "colorbar": {
              "outlinewidth": 0,
              "ticks": ""
             }
            },
            "type": "scatter3d"
           }
          ],
          "scattercarpet": [
           {
            "marker": {
             "colorbar": {
              "outlinewidth": 0,
              "ticks": ""
             }
            },
            "type": "scattercarpet"
           }
          ],
          "scattergeo": [
           {
            "marker": {
             "colorbar": {
              "outlinewidth": 0,
              "ticks": ""
             }
            },
            "type": "scattergeo"
           }
          ],
          "scattergl": [
           {
            "marker": {
             "colorbar": {
              "outlinewidth": 0,
              "ticks": ""
             }
            },
            "type": "scattergl"
           }
          ],
          "scattermap": [
           {
            "marker": {
             "colorbar": {
              "outlinewidth": 0,
              "ticks": ""
             }
            },
            "type": "scattermap"
           }
          ],
          "scattermapbox": [
           {
            "marker": {
             "colorbar": {
              "outlinewidth": 0,
              "ticks": ""
             }
            },
            "type": "scattermapbox"
           }
          ],
          "scatterpolar": [
           {
            "marker": {
             "colorbar": {
              "outlinewidth": 0,
              "ticks": ""
             }
            },
            "type": "scatterpolar"
           }
          ],
          "scatterpolargl": [
           {
            "marker": {
             "colorbar": {
              "outlinewidth": 0,
              "ticks": ""
             }
            },
            "type": "scatterpolargl"
           }
          ],
          "scatterternary": [
           {
            "marker": {
             "colorbar": {
              "outlinewidth": 0,
              "ticks": ""
             }
            },
            "type": "scatterternary"
           }
          ],
          "surface": [
           {
            "colorbar": {
             "outlinewidth": 0,
             "ticks": ""
            },
            "colorscale": [
             [
              0,
              "#0d0887"
             ],
             [
              0.1111111111111111,
              "#46039f"
             ],
             [
              0.2222222222222222,
              "#7201a8"
             ],
             [
              0.3333333333333333,
              "#9c179e"
             ],
             [
              0.4444444444444444,
              "#bd3786"
             ],
             [
              0.5555555555555556,
              "#d8576b"
             ],
             [
              0.6666666666666666,
              "#ed7953"
             ],
             [
              0.7777777777777778,
              "#fb9f3a"
             ],
             [
              0.8888888888888888,
              "#fdca26"
             ],
             [
              1,
              "#f0f921"
             ]
            ],
            "type": "surface"
           }
          ],
          "table": [
           {
            "cells": {
             "fill": {
              "color": "#EBF0F8"
             },
             "line": {
              "color": "white"
             }
            },
            "header": {
             "fill": {
              "color": "#C8D4E3"
             },
             "line": {
              "color": "white"
             }
            },
            "type": "table"
           }
          ]
         },
         "layout": {
          "annotationdefaults": {
           "arrowcolor": "#2a3f5f",
           "arrowhead": 0,
           "arrowwidth": 1
          },
          "autotypenumbers": "strict",
          "coloraxis": {
           "colorbar": {
            "outlinewidth": 0,
            "ticks": ""
           }
          },
          "colorscale": {
           "diverging": [
            [
             0,
             "#8e0152"
            ],
            [
             0.1,
             "#c51b7d"
            ],
            [
             0.2,
             "#de77ae"
            ],
            [
             0.3,
             "#f1b6da"
            ],
            [
             0.4,
             "#fde0ef"
            ],
            [
             0.5,
             "#f7f7f7"
            ],
            [
             0.6,
             "#e6f5d0"
            ],
            [
             0.7,
             "#b8e186"
            ],
            [
             0.8,
             "#7fbc41"
            ],
            [
             0.9,
             "#4d9221"
            ],
            [
             1,
             "#276419"
            ]
           ],
           "sequential": [
            [
             0,
             "#0d0887"
            ],
            [
             0.1111111111111111,
             "#46039f"
            ],
            [
             0.2222222222222222,
             "#7201a8"
            ],
            [
             0.3333333333333333,
             "#9c179e"
            ],
            [
             0.4444444444444444,
             "#bd3786"
            ],
            [
             0.5555555555555556,
             "#d8576b"
            ],
            [
             0.6666666666666666,
             "#ed7953"
            ],
            [
             0.7777777777777778,
             "#fb9f3a"
            ],
            [
             0.8888888888888888,
             "#fdca26"
            ],
            [
             1,
             "#f0f921"
            ]
           ],
           "sequentialminus": [
            [
             0,
             "#0d0887"
            ],
            [
             0.1111111111111111,
             "#46039f"
            ],
            [
             0.2222222222222222,
             "#7201a8"
            ],
            [
             0.3333333333333333,
             "#9c179e"
            ],
            [
             0.4444444444444444,
             "#bd3786"
            ],
            [
             0.5555555555555556,
             "#d8576b"
            ],
            [
             0.6666666666666666,
             "#ed7953"
            ],
            [
             0.7777777777777778,
             "#fb9f3a"
            ],
            [
             0.8888888888888888,
             "#fdca26"
            ],
            [
             1,
             "#f0f921"
            ]
           ]
          },
          "colorway": [
           "#636efa",
           "#EF553B",
           "#00cc96",
           "#ab63fa",
           "#FFA15A",
           "#19d3f3",
           "#FF6692",
           "#B6E880",
           "#FF97FF",
           "#FECB52"
          ],
          "font": {
           "color": "#2a3f5f"
          },
          "geo": {
           "bgcolor": "white",
           "lakecolor": "white",
           "landcolor": "#E5ECF6",
           "showlakes": true,
           "showland": true,
           "subunitcolor": "white"
          },
          "hoverlabel": {
           "align": "left"
          },
          "hovermode": "closest",
          "mapbox": {
           "style": "light"
          },
          "paper_bgcolor": "white",
          "plot_bgcolor": "#E5ECF6",
          "polar": {
           "angularaxis": {
            "gridcolor": "white",
            "linecolor": "white",
            "ticks": ""
           },
           "bgcolor": "#E5ECF6",
           "radialaxis": {
            "gridcolor": "white",
            "linecolor": "white",
            "ticks": ""
           }
          },
          "scene": {
           "xaxis": {
            "backgroundcolor": "#E5ECF6",
            "gridcolor": "white",
            "gridwidth": 2,
            "linecolor": "white",
            "showbackground": true,
            "ticks": "",
            "zerolinecolor": "white"
           },
           "yaxis": {
            "backgroundcolor": "#E5ECF6",
            "gridcolor": "white",
            "gridwidth": 2,
            "linecolor": "white",
            "showbackground": true,
            "ticks": "",
            "zerolinecolor": "white"
           },
           "zaxis": {
            "backgroundcolor": "#E5ECF6",
            "gridcolor": "white",
            "gridwidth": 2,
            "linecolor": "white",
            "showbackground": true,
            "ticks": "",
            "zerolinecolor": "white"
           }
          },
          "shapedefaults": {
           "line": {
            "color": "#2a3f5f"
           }
          },
          "ternary": {
           "aaxis": {
            "gridcolor": "white",
            "linecolor": "white",
            "ticks": ""
           },
           "baxis": {
            "gridcolor": "white",
            "linecolor": "white",
            "ticks": ""
           },
           "bgcolor": "#E5ECF6",
           "caxis": {
            "gridcolor": "white",
            "linecolor": "white",
            "ticks": ""
           }
          },
          "title": {
           "x": 0.05
          },
          "xaxis": {
           "automargin": true,
           "gridcolor": "white",
           "linecolor": "white",
           "ticks": "",
           "title": {
            "standoff": 15
           },
           "zerolinecolor": "white",
           "zerolinewidth": 2
          },
          "yaxis": {
           "automargin": true,
           "gridcolor": "white",
           "linecolor": "white",
           "ticks": "",
           "title": {
            "standoff": 15
           },
           "zerolinecolor": "white",
           "zerolinewidth": 2
          }
         }
        },
        "title": {
         "text": "Radius of Gyration"
        },
        "xaxis": {
         "title": {
          "text": "Time (ps)"
         }
        },
        "yaxis": {
         "title": {
          "text": "Rgyr (nm)"
         }
        }
       }
      },
      "text/html": [
       "<div>            <script src=\"https://cdnjs.cloudflare.com/ajax/libs/mathjax/2.7.5/MathJax.js?config=TeX-AMS-MML_SVG\"></script><script type=\"text/javascript\">if (window.MathJax && window.MathJax.Hub && window.MathJax.Hub.Config) {window.MathJax.Hub.Config({SVG: {font: \"STIX-Web\"}});}</script>                <script type=\"text/javascript\">window.PlotlyConfig = {MathJaxConfig: 'local'};</script>\n",
       "        <script charset=\"utf-8\" src=\"https://cdn.plot.ly/plotly-3.0.1.min.js\"></script>                <div id=\"b0abcdb8-e068-453d-b708-4870b8e5c08b\" class=\"plotly-graph-div\" style=\"height:525px; width:100%;\"></div>            <script type=\"text/javascript\">                window.PLOTLYENV=window.PLOTLYENV || {};                                if (document.getElementById(\"b0abcdb8-e068-453d-b708-4870b8e5c08b\")) {                    Plotly.newPlot(                        \"b0abcdb8-e068-453d-b708-4870b8e5c08b\",                        [{\"x\":[0.0,200.0,400.0,600.0,800.0,1000.0,1200.0,1400.0,1600.0,1800.0,2000.0,2200.0,2400.0,2600.0,2800.0,3000.0,3200.0,3400.0,3600.0,3800.0,4000.0,4200.0,4400.0,4600.0,4800.0,5000.0,5200.0,5400.0,5600.0,5800.0,6000.0,6200.0,6400.0,6600.0,6800.0,7000.0,7200.0,7400.0,7600.0,7800.0,8000.0,8200.0,8400.0,8600.0,8800.0,9000.0,9200.0,9400.0,9600.0,9800.0,10000.0],\"y\":[2.36752,2.36944,2.37112,2.37153,2.37114,2.37146,2.37031,2.37052,2.37071,2.37032,2.37113,2.37107,2.37156,2.36928,2.37059,2.37115,2.37099,2.37102,2.36976,2.37036,2.37114,2.36998,2.37151,2.37015,2.36873,2.37014,2.36882,2.37151,2.36985,2.37078,2.37202,2.3704,2.37044,2.37116,2.3695,2.37008,2.36997,2.37021,2.37041,2.37194,2.37145,2.36923,2.36904,2.36903,2.37083,2.36926,2.36929,2.37078,2.37103,2.37065,2.37031],\"type\":\"scatter\"}],                        {\"template\":{\"data\":{\"barpolar\":[{\"marker\":{\"line\":{\"color\":\"#E5ECF6\",\"width\":0.5},\"pattern\":{\"fillmode\":\"overlay\",\"size\":10,\"solidity\":0.2}},\"type\":\"barpolar\"}],\"bar\":[{\"error_x\":{\"color\":\"#2a3f5f\"},\"error_y\":{\"color\":\"#2a3f5f\"},\"marker\":{\"line\":{\"color\":\"#E5ECF6\",\"width\":0.5},\"pattern\":{\"fillmode\":\"overlay\",\"size\":10,\"solidity\":0.2}},\"type\":\"bar\"}],\"carpet\":[{\"aaxis\":{\"endlinecolor\":\"#2a3f5f\",\"gridcolor\":\"white\",\"linecolor\":\"white\",\"minorgridcolor\":\"white\",\"startlinecolor\":\"#2a3f5f\"},\"baxis\":{\"endlinecolor\":\"#2a3f5f\",\"gridcolor\":\"white\",\"linecolor\":\"white\",\"minorgridcolor\":\"white\",\"startlinecolor\":\"#2a3f5f\"},\"type\":\"carpet\"}],\"choropleth\":[{\"colorbar\":{\"outlinewidth\":0,\"ticks\":\"\"},\"type\":\"choropleth\"}],\"contourcarpet\":[{\"colorbar\":{\"outlinewidth\":0,\"ticks\":\"\"},\"type\":\"contourcarpet\"}],\"contour\":[{\"colorbar\":{\"outlinewidth\":0,\"ticks\":\"\"},\"colorscale\":[[0.0,\"#0d0887\"],[0.1111111111111111,\"#46039f\"],[0.2222222222222222,\"#7201a8\"],[0.3333333333333333,\"#9c179e\"],[0.4444444444444444,\"#bd3786\"],[0.5555555555555556,\"#d8576b\"],[0.6666666666666666,\"#ed7953\"],[0.7777777777777778,\"#fb9f3a\"],[0.8888888888888888,\"#fdca26\"],[1.0,\"#f0f921\"]],\"type\":\"contour\"}],\"heatmap\":[{\"colorbar\":{\"outlinewidth\":0,\"ticks\":\"\"},\"colorscale\":[[0.0,\"#0d0887\"],[0.1111111111111111,\"#46039f\"],[0.2222222222222222,\"#7201a8\"],[0.3333333333333333,\"#9c179e\"],[0.4444444444444444,\"#bd3786\"],[0.5555555555555556,\"#d8576b\"],[0.6666666666666666,\"#ed7953\"],[0.7777777777777778,\"#fb9f3a\"],[0.8888888888888888,\"#fdca26\"],[1.0,\"#f0f921\"]],\"type\":\"heatmap\"}],\"histogram2dcontour\":[{\"colorbar\":{\"outlinewidth\":0,\"ticks\":\"\"},\"colorscale\":[[0.0,\"#0d0887\"],[0.1111111111111111,\"#46039f\"],[0.2222222222222222,\"#7201a8\"],[0.3333333333333333,\"#9c179e\"],[0.4444444444444444,\"#bd3786\"],[0.5555555555555556,\"#d8576b\"],[0.6666666666666666,\"#ed7953\"],[0.7777777777777778,\"#fb9f3a\"],[0.8888888888888888,\"#fdca26\"],[1.0,\"#f0f921\"]],\"type\":\"histogram2dcontour\"}],\"histogram2d\":[{\"colorbar\":{\"outlinewidth\":0,\"ticks\":\"\"},\"colorscale\":[[0.0,\"#0d0887\"],[0.1111111111111111,\"#46039f\"],[0.2222222222222222,\"#7201a8\"],[0.3333333333333333,\"#9c179e\"],[0.4444444444444444,\"#bd3786\"],[0.5555555555555556,\"#d8576b\"],[0.6666666666666666,\"#ed7953\"],[0.7777777777777778,\"#fb9f3a\"],[0.8888888888888888,\"#fdca26\"],[1.0,\"#f0f921\"]],\"type\":\"histogram2d\"}],\"histogram\":[{\"marker\":{\"pattern\":{\"fillmode\":\"overlay\",\"size\":10,\"solidity\":0.2}},\"type\":\"histogram\"}],\"mesh3d\":[{\"colorbar\":{\"outlinewidth\":0,\"ticks\":\"\"},\"type\":\"mesh3d\"}],\"parcoords\":[{\"line\":{\"colorbar\":{\"outlinewidth\":0,\"ticks\":\"\"}},\"type\":\"parcoords\"}],\"pie\":[{\"automargin\":true,\"type\":\"pie\"}],\"scatter3d\":[{\"line\":{\"colorbar\":{\"outlinewidth\":0,\"ticks\":\"\"}},\"marker\":{\"colorbar\":{\"outlinewidth\":0,\"ticks\":\"\"}},\"type\":\"scatter3d\"}],\"scattercarpet\":[{\"marker\":{\"colorbar\":{\"outlinewidth\":0,\"ticks\":\"\"}},\"type\":\"scattercarpet\"}],\"scattergeo\":[{\"marker\":{\"colorbar\":{\"outlinewidth\":0,\"ticks\":\"\"}},\"type\":\"scattergeo\"}],\"scattergl\":[{\"marker\":{\"colorbar\":{\"outlinewidth\":0,\"ticks\":\"\"}},\"type\":\"scattergl\"}],\"scattermapbox\":[{\"marker\":{\"colorbar\":{\"outlinewidth\":0,\"ticks\":\"\"}},\"type\":\"scattermapbox\"}],\"scattermap\":[{\"marker\":{\"colorbar\":{\"outlinewidth\":0,\"ticks\":\"\"}},\"type\":\"scattermap\"}],\"scatterpolargl\":[{\"marker\":{\"colorbar\":{\"outlinewidth\":0,\"ticks\":\"\"}},\"type\":\"scatterpolargl\"}],\"scatterpolar\":[{\"marker\":{\"colorbar\":{\"outlinewidth\":0,\"ticks\":\"\"}},\"type\":\"scatterpolar\"}],\"scatter\":[{\"fillpattern\":{\"fillmode\":\"overlay\",\"size\":10,\"solidity\":0.2},\"type\":\"scatter\"}],\"scatterternary\":[{\"marker\":{\"colorbar\":{\"outlinewidth\":0,\"ticks\":\"\"}},\"type\":\"scatterternary\"}],\"surface\":[{\"colorbar\":{\"outlinewidth\":0,\"ticks\":\"\"},\"colorscale\":[[0.0,\"#0d0887\"],[0.1111111111111111,\"#46039f\"],[0.2222222222222222,\"#7201a8\"],[0.3333333333333333,\"#9c179e\"],[0.4444444444444444,\"#bd3786\"],[0.5555555555555556,\"#d8576b\"],[0.6666666666666666,\"#ed7953\"],[0.7777777777777778,\"#fb9f3a\"],[0.8888888888888888,\"#fdca26\"],[1.0,\"#f0f921\"]],\"type\":\"surface\"}],\"table\":[{\"cells\":{\"fill\":{\"color\":\"#EBF0F8\"},\"line\":{\"color\":\"white\"}},\"header\":{\"fill\":{\"color\":\"#C8D4E3\"},\"line\":{\"color\":\"white\"}},\"type\":\"table\"}]},\"layout\":{\"annotationdefaults\":{\"arrowcolor\":\"#2a3f5f\",\"arrowhead\":0,\"arrowwidth\":1},\"autotypenumbers\":\"strict\",\"coloraxis\":{\"colorbar\":{\"outlinewidth\":0,\"ticks\":\"\"}},\"colorscale\":{\"diverging\":[[0,\"#8e0152\"],[0.1,\"#c51b7d\"],[0.2,\"#de77ae\"],[0.3,\"#f1b6da\"],[0.4,\"#fde0ef\"],[0.5,\"#f7f7f7\"],[0.6,\"#e6f5d0\"],[0.7,\"#b8e186\"],[0.8,\"#7fbc41\"],[0.9,\"#4d9221\"],[1,\"#276419\"]],\"sequential\":[[0.0,\"#0d0887\"],[0.1111111111111111,\"#46039f\"],[0.2222222222222222,\"#7201a8\"],[0.3333333333333333,\"#9c179e\"],[0.4444444444444444,\"#bd3786\"],[0.5555555555555556,\"#d8576b\"],[0.6666666666666666,\"#ed7953\"],[0.7777777777777778,\"#fb9f3a\"],[0.8888888888888888,\"#fdca26\"],[1.0,\"#f0f921\"]],\"sequentialminus\":[[0.0,\"#0d0887\"],[0.1111111111111111,\"#46039f\"],[0.2222222222222222,\"#7201a8\"],[0.3333333333333333,\"#9c179e\"],[0.4444444444444444,\"#bd3786\"],[0.5555555555555556,\"#d8576b\"],[0.6666666666666666,\"#ed7953\"],[0.7777777777777778,\"#fb9f3a\"],[0.8888888888888888,\"#fdca26\"],[1.0,\"#f0f921\"]]},\"colorway\":[\"#636efa\",\"#EF553B\",\"#00cc96\",\"#ab63fa\",\"#FFA15A\",\"#19d3f3\",\"#FF6692\",\"#B6E880\",\"#FF97FF\",\"#FECB52\"],\"font\":{\"color\":\"#2a3f5f\"},\"geo\":{\"bgcolor\":\"white\",\"lakecolor\":\"white\",\"landcolor\":\"#E5ECF6\",\"showlakes\":true,\"showland\":true,\"subunitcolor\":\"white\"},\"hoverlabel\":{\"align\":\"left\"},\"hovermode\":\"closest\",\"mapbox\":{\"style\":\"light\"},\"paper_bgcolor\":\"white\",\"plot_bgcolor\":\"#E5ECF6\",\"polar\":{\"angularaxis\":{\"gridcolor\":\"white\",\"linecolor\":\"white\",\"ticks\":\"\"},\"bgcolor\":\"#E5ECF6\",\"radialaxis\":{\"gridcolor\":\"white\",\"linecolor\":\"white\",\"ticks\":\"\"}},\"scene\":{\"xaxis\":{\"backgroundcolor\":\"#E5ECF6\",\"gridcolor\":\"white\",\"gridwidth\":2,\"linecolor\":\"white\",\"showbackground\":true,\"ticks\":\"\",\"zerolinecolor\":\"white\"},\"yaxis\":{\"backgroundcolor\":\"#E5ECF6\",\"gridcolor\":\"white\",\"gridwidth\":2,\"linecolor\":\"white\",\"showbackground\":true,\"ticks\":\"\",\"zerolinecolor\":\"white\"},\"zaxis\":{\"backgroundcolor\":\"#E5ECF6\",\"gridcolor\":\"white\",\"gridwidth\":2,\"linecolor\":\"white\",\"showbackground\":true,\"ticks\":\"\",\"zerolinecolor\":\"white\"}},\"shapedefaults\":{\"line\":{\"color\":\"#2a3f5f\"}},\"ternary\":{\"aaxis\":{\"gridcolor\":\"white\",\"linecolor\":\"white\",\"ticks\":\"\"},\"baxis\":{\"gridcolor\":\"white\",\"linecolor\":\"white\",\"ticks\":\"\"},\"bgcolor\":\"#E5ECF6\",\"caxis\":{\"gridcolor\":\"white\",\"linecolor\":\"white\",\"ticks\":\"\"}},\"title\":{\"x\":0.05},\"xaxis\":{\"automargin\":true,\"gridcolor\":\"white\",\"linecolor\":\"white\",\"ticks\":\"\",\"title\":{\"standoff\":15},\"zerolinecolor\":\"white\",\"zerolinewidth\":2},\"yaxis\":{\"automargin\":true,\"gridcolor\":\"white\",\"linecolor\":\"white\",\"ticks\":\"\",\"title\":{\"standoff\":15},\"zerolinecolor\":\"white\",\"zerolinewidth\":2}}},\"title\":{\"text\":\"Radius of Gyration\"},\"xaxis\":{\"title\":{\"text\":\"Time (ps)\"}},\"yaxis\":{\"title\":{\"text\":\"Rgyr (nm)\"}}},                        {\"responsive\": true}                    ).then(function(){\n",
       "                            \n",
       "var gd = document.getElementById('b0abcdb8-e068-453d-b708-4870b8e5c08b');\n",
       "var x = new MutationObserver(function (mutations, observer) {{\n",
       "        var display = window.getComputedStyle(gd).display;\n",
       "        if (!display || display === 'none') {{\n",
       "            console.log([gd, 'removed!']);\n",
       "            Plotly.purge(gd);\n",
       "            observer.disconnect();\n",
       "        }}\n",
       "}});\n",
       "\n",
       "// Listen for the removal of the full notebook cells\n",
       "var notebookContainer = gd.closest('#notebook-container');\n",
       "if (notebookContainer) {{\n",
       "    x.observe(notebookContainer, {childList: true});\n",
       "}}\n",
       "\n",
       "// Listen for the clearing of the current output cell\n",
       "var outputEl = gd.closest('.output');\n",
       "if (outputEl) {{\n",
       "    x.observe(outputEl, {childList: true});\n",
       "}}\n",
       "\n",
       "                        })                };            </script>        </div>"
      ]
     },
     "metadata": {},
     "output_type": "display_data"
    }
   ],
   "source": [
    "import plotly\n",
    "import plotly.graph_objs as go\n",
    "\n",
    "# Read Rgyr data from file \n",
    "with open(output_rgyr,'r') as rgyr_file:\n",
    "    x,y = map(\n",
    "        list,\n",
    "        zip(*[\n",
    "            (float(line.split()[0]),float(line.split()[1]))\n",
    "            for line in rgyr_file \n",
    "            if not line.startswith((\"#\",\"@\")) \n",
    "        ])\n",
    "    )\n",
    "\n",
    "plotly.offline.init_notebook_mode(connected=True)\n",
    "\n",
    "fig = {\n",
    "    \"data\": [go.Scatter(x=x, y=y)],\n",
    "    \"layout\": go.Layout(title=\"Radius of Gyration\",\n",
    "                        xaxis=dict(title = \"Time (ps)\"),\n",
    "                        yaxis=dict(title = \"Rgyr (nm)\")\n",
    "                       )\n",
    "}\n",
    "\n",
    "plotly.offline.iplot(fig)"
   ]
  },
  {
   "cell_type": "markdown",
   "metadata": {},
   "source": [
    "#### Step 5. Clustering CDR loops"
   ]
  },
  {
   "cell_type": "code",
   "execution_count": 41,
   "metadata": {},
   "outputs": [],
   "source": [
    "fixed_pdb = f'{MD_dir}{pdbCode}_fixed.pdb'"
   ]
  },
  {
   "cell_type": "code",
   "execution_count": 47,
   "metadata": {},
   "outputs": [],
   "source": [
    "!code {anarcii_pdb}"
   ]
  },
  {
   "cell_type": "code",
   "execution_count": 42,
   "metadata": {},
   "outputs": [
    {
     "name": "stdout",
     "output_type": "stream",
     "text": [
      "Using device CUDA with 16 CPUs\n",
      "Batch size: 32\n",
      "\tSpeed is a balance of batch size and length diversity. Adjust accordingly. For a full explanation see:\n",
      " \twiki/FAQs#recommended-batch-sizes\n",
      " \tSeqs all similar length (+/-5), increase batch size. Mixed lengths (+/-30), reduce.\n",
      "\n",
      "\n",
      "Consider larger batch size for optimal GPU performance.\n",
      "\n",
      "Length of sequence list: 2\n",
      "Processing sequences in 1 chunks of 102400 sequences.\n",
      "Processing chunk 1 of 1.\n",
      "\n",
      " 2 Long sequences detected - running in sliding window. This is slow.\n",
      "Max probability windows selected.\n",
      "\n",
      "Making predictions on 1 batches.\n",
      "PDBx model index, chain ID: 0, H\n",
      "ANARCII chain type (score): H (30.58661460876465)\n",
      " Sequence length: 128\n",
      " Sequence: [((1, ' '), 'Q'), ((2, ' '), 'V'), ((3, ' '), 'Q'), ((4, ' '), 'L'), ((5, ' '), 'Q'), ((6, ' '), 'E'), ((7, ' '), 'S'), ((8, ' '), 'G'), ((9, ' '), 'P'), ((10, ' '), '-'), ((11, ' '), 'G'), ((12, ' '), 'L'), ((13, ' '), 'V'), ((14, ' '), 'K'), ((15, ' '), 'P'), ((16, ' '), 'S'), ((17, ' '), 'Q'), ((18, ' '), 'T'), ((19, ' '), 'L'), ((20, ' '), 'S'), ((21, ' '), 'L'), ((22, ' '), 'T'), ((23, ' '), 'C'), ((24, ' '), 'S'), ((25, ' '), 'F'), ((26, ' '), 'S'), ((27, ' '), 'G'), ((28, ' '), 'F'), ((29, ' '), 'S'), ((30, ' '), 'L'), ((31, ' '), 'S'), ((32, ' '), '-'), ((33, ' '), '-'), ((34, ' '), 'T'), ((35, ' '), 'S'), ((36, ' '), 'G'), ((37, ' '), 'M'), ((38, ' '), 'G'), ((39, ' '), 'V'), ((40, ' '), 'G'), ((41, ' '), 'W'), ((42, ' '), 'I'), ((43, ' '), 'R'), ((44, ' '), 'Q'), ((45, ' '), 'P'), ((46, ' '), 'S'), ((47, ' '), 'G'), ((48, ' '), 'K'), ((49, ' '), 'G'), ((50, ' '), 'L'), ((51, ' '), 'E'), ((52, ' '), 'W'), ((53, ' '), 'L'), ((54, ' '), 'A'), ((55, ' '), 'H'), ((56, ' '), 'I'), ((57, ' '), 'W'), ((58, ' '), 'W'), ((59, ' '), 'D'), ((60, ' '), '-'), ((61, ' '), '-'), ((62, ' '), '-'), ((63, ' '), 'G'), ((64, ' '), 'D'), ((65, ' '), 'E'), ((66, ' '), 'S'), ((67, ' '), 'Y'), ((68, ' '), 'N'), ((69, ' '), 'P'), ((70, ' '), 'S'), ((71, ' '), 'L'), ((72, ' '), 'K'), ((73, ' '), '-'), ((74, ' '), 'S'), ((75, ' '), 'R'), ((76, ' '), 'L'), ((77, ' '), 'T'), ((78, ' '), 'I'), ((79, ' '), 'S'), ((80, ' '), 'K'), ((81, ' '), 'D'), ((82, ' '), 'T'), ((83, ' '), 'S'), ((84, ' '), 'K'), ((85, ' '), 'N'), ((86, ' '), 'Q'), ((87, ' '), 'V'), ((88, ' '), 'S'), ((89, ' '), 'L'), ((90, ' '), 'K'), ((91, ' '), 'I'), ((92, ' '), 'T'), ((93, ' '), 'S'), ((94, ' '), 'V'), ((95, ' '), 'T'), ((96, ' '), 'A'), ((97, ' '), 'A'), ((98, ' '), 'D'), ((99, ' '), 'T'), ((100, ' '), 'A'), ((101, ' '), 'V'), ((102, ' '), 'Y'), ((103, ' '), 'F'), ((104, ' '), 'C'), ((105, ' '), 'A'), ((106, ' '), 'R'), ((107, ' '), 'N'), ((108, ' '), 'R'), ((109, ' '), 'Y'), ((110, ' '), 'D'), ((111, ' '), '-'), ((112, ' '), 'P'), ((113, ' '), 'P'), ((114, ' '), 'W'), ((115, ' '), 'F'), ((116, ' '), 'V'), ((117, ' '), 'D'), ((118, ' '), 'W'), ((119, ' '), 'G'), ((120, ' '), 'Q'), ((121, ' '), 'G'), ((122, ' '), 'T'), ((123, ' '), 'L'), ((124, ' '), 'V'), ((125, ' '), 'T'), ((126, ' '), 'V'), ((127, ' '), 'S'), ((128, ' '), 'S')]\n",
      "PDBx model index, chain ID: 0, L\n",
      "ANARCII chain type (score): K (30.43303871154785)\n",
      " Sequence length: 128\n",
      " Sequence: [((1, ' '), 'D'), ((2, ' '), 'I'), ((3, ' '), 'Q'), ((4, ' '), 'M'), ((5, ' '), 'T'), ((6, ' '), 'Q'), ((7, ' '), 'S'), ((8, ' '), 'T'), ((9, ' '), 'S'), ((10, ' '), 'S'), ((11, ' '), 'L'), ((12, ' '), 'S'), ((13, ' '), 'A'), ((14, ' '), 'S'), ((15, ' '), 'V'), ((16, ' '), 'G'), ((17, ' '), 'D'), ((18, ' '), 'R'), ((19, ' '), 'V'), ((20, ' '), 'T'), ((21, ' '), 'I'), ((22, ' '), 'T'), ((23, ' '), 'C'), ((24, ' '), 'R'), ((25, ' '), 'A'), ((26, ' '), 'S'), ((27, ' '), 'Q'), ((28, ' '), 'D'), ((29, ' '), 'I'), ((30, ' '), '-'), ((31, ' '), '-'), ((32, ' '), '-'), ((33, ' '), '-'), ((34, ' '), '-'), ((35, ' '), '-'), ((36, ' '), 'S'), ((37, ' '), 'N'), ((38, ' '), 'Y'), ((39, ' '), 'L'), ((40, ' '), 'S'), ((41, ' '), 'W'), ((42, ' '), 'Y'), ((43, ' '), 'Q'), ((44, ' '), 'Q'), ((45, ' '), 'K'), ((46, ' '), 'P'), ((47, ' '), 'G'), ((48, ' '), 'K'), ((49, ' '), 'A'), ((50, ' '), 'V'), ((51, ' '), 'K'), ((52, ' '), 'L'), ((53, ' '), 'L'), ((54, ' '), 'I'), ((55, ' '), 'Y'), ((56, ' '), 'Y'), ((57, ' '), 'T'), ((58, ' '), '-'), ((59, ' '), '-'), ((60, ' '), '-'), ((61, ' '), '-'), ((62, ' '), '-'), ((63, ' '), '-'), ((64, ' '), '-'), ((65, ' '), 'S'), ((66, ' '), 'K'), ((67, ' '), 'L'), ((68, ' '), 'H'), ((69, ' '), 'S'), ((70, ' '), 'G'), ((71, ' '), 'V'), ((72, ' '), 'P'), ((73, ' '), '-'), ((74, ' '), 'S'), ((75, ' '), 'R'), ((76, ' '), 'F'), ((77, ' '), 'S'), ((78, ' '), 'G'), ((79, ' '), 'S'), ((80, ' '), 'G'), ((81, ' '), '-'), ((82, ' '), '-'), ((83, ' '), 'S'), ((84, ' '), 'G'), ((85, ' '), 'T'), ((86, ' '), 'D'), ((87, ' '), 'Y'), ((88, ' '), 'T'), ((89, ' '), 'L'), ((90, ' '), 'T'), ((91, ' '), 'I'), ((92, ' '), 'S'), ((93, ' '), 'S'), ((94, ' '), 'L'), ((95, ' '), 'Q'), ((96, ' '), 'Q'), ((97, ' '), 'E'), ((98, ' '), 'D'), ((99, ' '), 'F'), ((100, ' '), 'A'), ((101, ' '), 'T'), ((102, ' '), 'Y'), ((103, ' '), 'F'), ((104, ' '), 'C'), ((105, ' '), 'L'), ((106, ' '), 'Q'), ((107, ' '), 'G'), ((108, ' '), 'K'), ((109, ' '), 'M'), ((110, ' '), '-'), ((111, ' '), '-'), ((112, ' '), '-'), ((113, ' '), '-'), ((114, ' '), 'L'), ((115, ' '), 'P'), ((116, ' '), 'W'), ((117, ' '), 'T'), ((118, ' '), 'F'), ((119, ' '), 'G'), ((120, ' '), 'Q'), ((121, ' '), 'G'), ((122, ' '), 'T'), ((123, ' '), 'K'), ((124, ' '), 'L'), ((125, ' '), 'E'), ((126, ' '), 'I'), ((127, ' '), 'K'), ((128, ' '), '-')]\n",
      "Numbered 2 seqs in 0.93 sec.\n",
      "\n"
     ]
    },
    {
     "data": {
      "text/plain": [
       "'data/antibody/1_MD/4g6k_fixed-anarcii-imgt.pdb'"
      ]
     },
     "execution_count": 42,
     "metadata": {},
     "output_type": "execute_result"
    }
   ],
   "source": [
    "from anarcii import Anarcii\n",
    "\n",
    "model = Anarcii(seq_type=\"antibody\", mode=\"accuracy\", verbose=True)\n",
    "# results renunbers the file and returns the numbering\n",
    "results = model.number(fixed_pdb)\n",
    "anarcii_pdb = f'{MD_dir}4g6k_fixed-anarcii-imgt.pdb'\n",
    "shutil.move('4g6k_fixed-anarcii-imgt.pdb', anarcii_pdb)"
   ]
  },
  {
   "cell_type": "code",
   "execution_count": 43,
   "metadata": {},
   "outputs": [
    {
     "data": {
      "application/vnd.jupyter.widget-view+json": {
       "model_id": "f771f383d39f48cd8bf8633d2313cfc1",
       "version_major": 2,
       "version_minor": 0
      },
      "text/plain": [
       "NGLWidget()"
      ]
     },
     "metadata": {},
     "output_type": "display_data"
    }
   ],
   "source": [
    "from anarcii.output_data_processing.schemes_constants import schemes\n",
    "\n",
    "# Show protein\n",
    "view = nv.show_structure_file(anarcii_pdb)\n",
    "# https://www.imgt.org/IMGTScientificChart/Nomenclature/IMGT-FRCDRdefinition.html\n",
    "view.add_ball_and_stick(selection='27-38')   #CDR1\n",
    "view.add_ball_and_stick(selection='56-65')   #CDR2\n",
    "view.add_ball_and_stick(selection='105-117') #CDR3\n",
    "view"
   ]
  },
  {
   "cell_type": "code",
   "execution_count": 48,
   "metadata": {},
   "outputs": [
    {
     "name": "stdout",
     "output_type": "stream",
     "text": [
      "2025-06-04 18:46:56,384 [MainThread  ] [INFO ]  Module: biobb_gromacs.gromacs.pdb2gmx Version: 5.0.0\n",
      "2025-06-04 18:46:56,385 [MainThread  ] [INFO ]  /home/rchaves/repo/biobb/biobb_wf_antibody/biobb_wf_antibody/notebooks/sandbox_fe7a7c17-e656-437d-9955-0270e4b6de2f directory successfully created\n",
      "2025-06-04 18:46:56,386 [MainThread  ] [INFO ]  Copy: data/antibody/1_MD/4g6k_fixed-anarcii-imgt.pdb to /home/rchaves/repo/biobb/biobb_wf_antibody/biobb_wf_antibody/notebooks/sandbox_fe7a7c17-e656-437d-9955-0270e4b6de2f\n",
      "2025-06-04 18:46:56,386 [MainThread  ] [INFO ]  gmx -nobackup -nocopyright pdb2gmx -f /home/rchaves/repo/biobb/biobb_wf_antibody/biobb_wf_antibody/notebooks/sandbox_fe7a7c17-e656-437d-9955-0270e4b6de2f/4g6k_fixed-anarcii-imgt.pdb -o /home/rchaves/repo/biobb/biobb_wf_antibody/biobb_wf_antibody/notebooks/sandbox_fe7a7c17-e656-437d-9955-0270e4b6de2f/4g6k_fixed-anarcii-imgt.gro -p p2g.top -water tip3p -ff charmm36-jul2017 -i posre.itp\n",
      "\n",
      "2025-06-04 18:46:57,003 [MainThread  ] [INFO ]  Executing: gmx -nobackup -nocopyright pdb2gmx -f /home/rchaves/repo/biobb/biobb_wf_antibody...\n",
      "2025-06-04 18:46:57,004 [MainThread  ] [INFO ]  Exit code: 0\n",
      "2025-06-04 18:46:57,004 [MainThread  ] [INFO ]  Using the Charmm36-jul2017 force field in directory /home/rchaves/repo/biobb/biobb_wf_antibody/biobb_wf_antibody/notebooks/data/antibody/1_MD/input//charmm36-jul2017.ff\n",
      "\n",
      "going to rename /home/rchaves/repo/biobb/biobb_wf_antibody/biobb_wf_antibody/notebooks/data/antibody/1_MD/input//charmm36-jul2017.ff/merged.r2b\n",
      "Reading /home/rchaves/repo/biobb/biobb_wf_antibody/biobb_wf_antibody/notebooks/sandbox_fe7a7c17-e656-437d-9955-0270e4b6de2f/4g6k_fixed-anarcii-imgt.pdb...\n",
      "Read '', 3291 atoms\n",
      "\n",
      "Analyzing pdb file\n",
      "Splitting chemical chains based on TER records or chain id changing.\n",
      "\n",
      "There are 2 chains and 0 blocks of water and 432 residues with 3291 atoms\n",
      "\n",
      "  chain  #res #atoms\n",
      "\n",
      "  1 'H'   220   1649  \n",
      "\n",
      "  2 'L'   212   1642  \n",
      "\n",
      "there were 70 atoms with zero occupancy and 0 atoms with          occupancy unequal to one (out of 3291 atoms). Check your pdb file.\n",
      "\n",
      "Reading residue database... (Charmm36-jul2017)\n",
      "\n",
      "Processing chain 1 'H' (1649 atoms, 220 residues)\n",
      "\n",
      "Identified residue GLN1 as a starting terminus.\n",
      "\n",
      "Identified residue PRO228 as a ending terminus.\n",
      "Start terminus GLN-1: NH3+\n",
      "End terminus PRO-228: COO-\n",
      "\n",
      "Checking for duplicate atoms....\n",
      "\n",
      "Generating any missing hydrogen atoms and/or adding termini.\n",
      "\n",
      "Now there are 220 residues with 3272 atoms\n",
      "Chain time...\n",
      "\n",
      "Making bonds...\n",
      "\n",
      "Number of bonds was 3318, now 3318\n",
      "\n",
      "Generating angles, dihedrals and pairs...\n",
      "\n",
      "Making cmap torsions...\n",
      "\n",
      "There are  218 cmap torsion pairs\n",
      "\n",
      "There are 8857 dihedrals,  549 impropers, 6001 angles\n",
      "          8672 pairs,     3318 bonds and     0 virtual sites\n",
      "\n",
      "Total mass 23400.367 a.m.u.\n",
      "\n",
      "Total charge 4.000 e\n",
      "\n",
      "Writing topology\n",
      "\n",
      "Processing chain 2 'L' (1642 atoms, 212 residues)\n",
      "\n",
      "Identified residue ASP1 as a starting terminus.\n",
      "\n",
      "Identified residue GLY232 as a ending terminus.\n",
      "Start terminus ASP-1: NH3+\n",
      "End terminus GLY-232: COO-\n",
      "\n",
      "Checking for duplicate atoms....\n",
      "\n",
      "Generating any missing hydrogen atoms and/or adding termini.\n",
      "\n",
      "Now there are 212 residues with 3253 atoms\n",
      "Chain time...\n",
      "\n",
      "Making bonds...\n",
      "\n",
      "Number of bonds was 3289, now 3289\n",
      "\n",
      "Generating angles, dihedrals and pairs...\n",
      "\n",
      "Making cmap torsions...\n",
      "\n",
      "There are  210 cmap torsion pairs\n",
      "\n",
      "There are 8714 dihedrals,  561 impropers, 5926 angles\n",
      "          8581 pairs,     3289 bonds and     0 virtual sites\n",
      "\n",
      "Total mass 23346.175 a.m.u.\n",
      "\n",
      "Total charge 3.000 e\n",
      "\n",
      "Writing topology\n",
      "\n",
      "Including chain 1 in system: 3272 atoms 220 residues\n",
      "\n",
      "Including chain 2 in system: 3253 atoms 212 residues\n",
      "\n",
      "Now there are 6525 atoms and 432 residues\n",
      "\n",
      "Total mass in system 46746.543 a.m.u.\n",
      "\n",
      "Total charge in system 7.000 e\n",
      "\n",
      "Writing coordinate file...\n",
      "\n",
      "\t\t--------- PLEASE NOTE ------------\n",
      "\n",
      "You have successfully generated a topology from: /home/rchaves/repo/biobb/biobb_wf_antibody/biobb_wf_antibody/notebooks/sandbox_fe7a7c17-e656-437d-9955-0270e4b6de2f/4g6k_fixed-anarcii-imgt.pdb.\n",
      "\n",
      "The Charmm36-jul2017 force field and the tip3p water model are used.\n",
      "\n",
      "\t\t--------- ETON ESAELP ------------\n",
      "\n",
      "2025-06-04 18:46:57,004 [MainThread  ] [INFO ]                 :-) GROMACS - gmx pdb2gmx, 2022.2-conda_forge (-:\n",
      "\n",
      "Executable:   /home/rchaves/miniforge3/envs/biobb_wf_antibody/bin.AVX2_256/gmx\n",
      "Data prefix:  /home/rchaves/miniforge3/envs/biobb_wf_antibody\n",
      "Working dir:  /home/rchaves/repo/biobb/biobb_wf_antibody/biobb_wf_antibody/notebooks\n",
      "Command line:\n",
      "  gmx -nobackup -nocopyright pdb2gmx -f /home/rchaves/repo/biobb/biobb_wf_antibody/biobb_wf_antibody/notebooks/sandbox_fe7a7c17-e656-437d-9955-0270e4b6de2f/4g6k_fixed-anarcii-imgt.pdb -o /home/rchaves/repo/biobb/biobb_wf_antibody/biobb_wf_antibody/notebooks/sandbox_fe7a7c17-e656-437d-9955-0270e4b6de2f/4g6k_fixed-anarcii-imgt.gro -p p2g.top -water tip3p -ff charmm36-jul2017 -i posre.itp\n",
      "\n",
      "Opening force field file /home/rchaves/repo/biobb/biobb_wf_antibody/biobb_wf_antibody/notebooks/data/antibody/1_MD/input//charmm36-jul2017.ff/merged.r2b\n",
      "there were 70 atoms with zero occupancy and 0 atoms with          occupancy unequal to one (out of 3291 atoms). Check your pdb file.\n",
      "Opening force field file /home/rchaves/repo/biobb/biobb_wf_antibody/biobb_wf_antibody/notebooks/data/antibody/1_MD/input//charmm36-jul2017.ff/atomtypes.atp\n",
      "Opening force field file /home/rchaves/repo/biobb/biobb_wf_antibody/biobb_wf_antibody/notebooks/data/antibody/1_MD/input//charmm36-jul2017.ff/merged.rtp\n",
      "Opening force field file /home/rchaves/repo/biobb/biobb_wf_antibody/biobb_wf_antibody/notebooks/data/antibody/1_MD/input//charmm36-jul2017.ff/merged.hdb\n",
      "Opening force field file /home/rchaves/repo/biobb/biobb_wf_antibody/biobb_wf_antibody/notebooks/data/antibody/1_MD/input//charmm36-jul2017.ff/merged.n.tdb\n",
      "Opening force field file /home/rchaves/repo/biobb/biobb_wf_antibody/biobb_wf_antibody/notebooks/data/antibody/1_MD/input//charmm36-jul2017.ff/merged.c.tdb\n",
      "Analysing hydrogen-bonding network for automated assignment of histidine\n",
      " protonation. 338 donors and 324 acceptors were found.\n",
      "There are 538 hydrogen bonds\n",
      "Will use HISE for residue 55\n",
      "Will use HISE for residue 179\n",
      "Will use HISE for residue 215\n",
      "8 out of 8 lines of specbond.dat converted successfully\n",
      "Special Atom Distance matrix:\n",
      "                   CYS23   MET37   HIS55  CYS104  CYS155  HIS179  CYS211\n",
      "                   SG160   SD242  NE2384   SG738  SG1098 NE21282  SG1512\n",
      "   MET37   SD242   1.150\n",
      "   HIS55  NE2384   1.100   0.868\n",
      "  CYS104   SG738   0.205   1.239   1.129\n",
      "  CYS155  SG1098   3.398   4.328   4.322   3.268\n",
      "  HIS179 NE21282   3.229   3.887   3.872   3.053   1.548\n",
      "  CYS211  SG1512   3.256   4.191   4.204   3.135   0.203   1.613\n",
      "  HIS215 NE21545   2.473   3.596   3.381   2.370   1.627   2.438   1.532\n",
      "                \n",
      "                \n",
      "Linking CYS-23 SG-160 and CYS-104 SG-738...\n",
      "Linking CYS-155 SG-1098 and CYS-211 SG-1512...\n",
      "Opening force field file /home/rchaves/repo/biobb/biobb_wf_antibody/biobb_wf_antibody/notebooks/data/antibody/1_MD/input//charmm36-jul2017.ff/merged.arn\n",
      "Before cleaning: 8732 pairs\n",
      "Before cleaning: 8857 dihedrals\n",
      "Analysing hydrogen-bonding network for automated assignment of histidine\n",
      " protonation. 336 donors and 330 acceptors were found.\n",
      "There are 537 hydrogen bonds\n",
      "Will use HISE for residue 68\n",
      "Will use HISE for residue 209\n",
      "Will use HISE for residue 218\n",
      "8 out of 8 lines of specbond.dat converted successfully\n",
      "Special Atom Distance matrix:\n",
      "                    MET4   CYS23   HIS68  CYS104  MET109  CYS154  HIS209\n",
      "                    SD32   SG164  NE2433   SG679   SD716  SG1027 NE21467\n",
      "   CYS23   SG164   0.481\n",
      "   HIS68  NE2433   2.086   1.904\n",
      "  CYS104   SG679   0.538   0.205   1.792\n",
      "  MET109   SD716   1.068   1.537   2.652   1.583\n",
      "  CYS154  SG1027   4.416   4.128   4.220   3.980   5.299\n",
      "  HIS209 NE21467   5.631   5.445   5.751   5.297   6.358   1.824\n",
      "  CYS214  SG1506   4.471   4.185   4.357   4.043   5.356   0.203   1.716\n",
      "  HIS218 NE21539   3.649   3.276   3.578   3.168   4.651   1.308   2.971\n",
      "                  CYS214\n",
      "                  SG1506\n",
      "  HIS218 NE21539   1.324\n",
      "Linking CYS-23 SG-164 and CYS-104 SG-679...\n",
      "Linking CYS-154 SG-1027 and CYS-214 SG-1506...\n",
      "Opening force field file /home/rchaves/repo/biobb/biobb_wf_antibody/biobb_wf_antibody/notebooks/data/antibody/1_MD/input//charmm36-jul2017.ff/merged.arn\n",
      "Before cleaning: 8644 pairs\n",
      "Before cleaning: 8714 dihedrals\n",
      "\n",
      "GROMACS reminds you: \"I Do It All the Time\" (Magnapop)\n",
      "\n",
      "\n",
      "2025-06-04 18:46:57,005 [MainThread  ] [INFO ]  Compressing topology to: data/antibody/1_MD/4g6k_fixed-anarcii-imgt.zip\n",
      "2025-06-04 18:46:57,006 [MainThread  ] [INFO ]  Ignored file charmm36-jul2017.ff/forcefield.itp\n",
      "2025-06-04 18:46:57,015 [MainThread  ] [INFO ]  Ignored file charmm36-jul2017.ff/tip3p.itp\n",
      "2025-06-04 18:46:57,015 [MainThread  ] [INFO ]  Ignored file charmm36-jul2017.ff/ions.itp\n",
      "2025-06-04 18:46:57,020 [MainThread  ] [INFO ]  Adding:\n",
      "2025-06-04 18:46:57,020 [MainThread  ] [INFO ]  ['p2g.top', 'p2g_Protein_chain_H.itp', 'p2g_Protein_chain_L.itp', 'posre_Protein_chain_H.itp', 'posre_Protein_chain_L.itp']\n",
      "2025-06-04 18:46:57,021 [MainThread  ] [INFO ]  to: /home/rchaves/repo/biobb/biobb_wf_antibody/biobb_wf_antibody/notebooks/data/antibody/1_MD/4g6k_fixed-anarcii-imgt.zip\n",
      "2025-06-04 18:46:57,022 [MainThread  ] [INFO ]  Removed: ['posre_Protein_chain_H.itp', 'p2g_Protein_chain_H.itp', 'posre_Protein_chain_L.itp', 'p2g_Protein_chain_L.itp', 'p2g.top']\n",
      "2025-06-04 18:46:57,023 [MainThread  ] [INFO ]  Removed: ['/home/rchaves/repo/biobb/biobb_wf_antibody/biobb_wf_antibody/notebooks/sandbox_fe7a7c17-e656-437d-9955-0270e4b6de2f']\n",
      "2025-06-04 18:46:57,023 [MainThread  ] [INFO ]  \n"
     ]
    },
    {
     "data": {
      "text/plain": [
       "0"
      ]
     },
     "execution_count": 48,
     "metadata": {},
     "output_type": "execute_result"
    }
   ],
   "source": [
    "from biobb_gromacs.gromacs.pdb2gmx import pdb2gmx\n",
    "anarcii_gro = f'{MD_dir}4g6k_fixed-anarcii-imgt.gro'\n",
    "anarcii_zip = f'{MD_dir}4g6k_fixed-anarcii-imgt.zip'\n",
    "\n",
    "prop = {\n",
    "    'force_field' : 'charmm36-jul2017',\n",
    "    'gmx_lib' : f'{cwd}/{MD_inp}',\n",
    "    'water_type' : 'tip3p',\n",
    "    #'force_field' : 'amber99sb-ildn'\n",
    "}\n",
    "\n",
    "# Create and launch bb\n",
    "pdb2gmx(input_pdb_path=anarcii_pdb, \n",
    "        output_gro_path=anarcii_gro, \n",
    "        output_top_zip_path=anarcii_zip,\n",
    "        properties=def_dict(prop))"
   ]
  },
  {
   "cell_type": "code",
   "execution_count": 54,
   "metadata": {
    "scrolled": true
   },
   "outputs": [
    {
     "name": "stdout",
     "output_type": "stream",
     "text": [
      "2025-06-04 18:48:21,082 [MainThread  ] [INFO ]  Module: biobb_gromacs.gromacs.make_ndx Version: 5.0.0\n",
      "2025-06-04 18:48:21,083 [MainThread  ] [INFO ]  /home/rchaves/repo/biobb/biobb_wf_antibody/biobb_wf_antibody/notebooks/sandbox_a254e5bb-5152-4416-8194-7196599c6e76 directory successfully created\n",
      "2025-06-04 18:48:21,084 [MainThread  ] [INFO ]  Copy: data/antibody/1_MD/4g6k_fixed-anarcii-imgt.gro to /home/rchaves/repo/biobb/biobb_wf_antibody/biobb_wf_antibody/notebooks/sandbox_a254e5bb-5152-4416-8194-7196599c6e76\n",
      "2025-06-04 18:48:21,085 [MainThread  ] [INFO ]  Copy: /home/rchaves/repo/biobb/biobb_wf_antibody/biobb_wf_antibody/notebooks/d9f89f2d-da54-4d9c-b175-5e1e984f96e5.stdin to /home/rchaves/repo/biobb/biobb_wf_antibody/biobb_wf_antibody/notebooks/sandbox_a254e5bb-5152-4416-8194-7196599c6e76\n",
      "2025-06-04 18:48:21,085 [MainThread  ] [INFO ]  gmx -nobackup -nocopyright make_ndx -f /home/rchaves/repo/biobb/biobb_wf_antibody/biobb_wf_antibody/notebooks/sandbox_a254e5bb-5152-4416-8194-7196599c6e76/4g6k_fixed-anarcii-imgt.gro -o /home/rchaves/repo/biobb/biobb_wf_antibody/biobb_wf_antibody/notebooks/sandbox_a254e5bb-5152-4416-8194-7196599c6e76/4G6K_loop.ndx < /home/rchaves/repo/biobb/biobb_wf_antibody/biobb_wf_antibody/notebooks/sandbox_a254e5bb-5152-4416-8194-7196599c6e76/d9f89f2d-da54-4d9c-b175-5e1e984f96e5.stdin\n",
      "\n",
      "2025-06-04 18:48:21,110 [MainThread  ] [INFO ]  Executing: gmx -nobackup -nocopyright make_ndx -f /home/rchaves/repo/biobb/biobb_wf_antibod...\n",
      "2025-06-04 18:48:21,110 [MainThread  ] [INFO ]  Exit code: 0\n",
      "2025-06-04 18:48:21,111 [MainThread  ] [INFO ]  Going to read 0 old index file(s)\n",
      "Analysing residue names:\n",
      "There are:   432    Protein residues\n",
      "Analysing Protein...\n",
      "\n",
      "  0 System              :  6525 atoms\n",
      "  1 Protein             :  6525 atoms\n",
      "  2 Protein-H           :  3293 atoms\n",
      "  3 C-alpha             :   432 atoms\n",
      "  4 Backbone            :  1296 atoms\n",
      "  5 MainChain           :  1726 atoms\n",
      "  6 MainChain+Cb        :  2126 atoms\n",
      "  7 MainChain+H         :  2139 atoms\n",
      "  8 SideChain           :  4386 atoms\n",
      "  9 SideChain-H         :  1567 atoms\n",
      "\n",
      " nr : group      '!': not  'name' nr name   'splitch' nr    Enter: list groups\n",
      " 'a': atom       '&': and  'del' nr         'splitres' nr   'l': list residues\n",
      " 't': atom type  '|': or   'keep' nr        'splitat' nr    'h': help\n",
      " 'r': residue              'res' nr         'chain' char\n",
      " \"name\": group             'case': case sensitive           'q': save and quit\n",
      " 'ri': residue index\n",
      "\n",
      "> \n",
      "Found 218 atoms with res.nr. in range 27-38\n",
      "Found 159 atoms with res.nr. in range 56-65\n",
      "Merged two groups with OR: 218 159 -> 377\n",
      "Found 358 atoms with res.nr. in range 105-117\n",
      "Merged two groups with OR: 377 358 -> 735\n",
      "\n",
      " 10 r_27-38_r_56-65_r_105-117:   735 atoms\n",
      "\n",
      "> \n",
      "\n",
      "> \n",
      "\n",
      "2025-06-04 18:48:21,111 [MainThread  ] [INFO ]                 :-) GROMACS - gmx make_ndx, 2022.2-conda_forge (-:\n",
      "\n",
      "Executable:   /home/rchaves/miniforge3/envs/biobb_wf_antibody/bin.AVX2_256/gmx\n",
      "Data prefix:  /home/rchaves/miniforge3/envs/biobb_wf_antibody\n",
      "Working dir:  /home/rchaves/repo/biobb/biobb_wf_antibody/biobb_wf_antibody/notebooks\n",
      "Command line:\n",
      "  gmx -nobackup -nocopyright make_ndx -f /home/rchaves/repo/biobb/biobb_wf_antibody/biobb_wf_antibody/notebooks/sandbox_a254e5bb-5152-4416-8194-7196599c6e76/4g6k_fixed-anarcii-imgt.gro -o /home/rchaves/repo/biobb/biobb_wf_antibody/biobb_wf_antibody/notebooks/sandbox_a254e5bb-5152-4416-8194-7196599c6e76/4G6K_loop.ndx\n",
      "\n",
      "\n",
      "Reading structure file\n",
      "\n",
      "GROMACS reminds you: \"Rockets are cool. There's no getting around that.\" (Elon Musk)\n",
      "\n",
      "\n",
      "2025-06-04 18:48:21,112 [MainThread  ] [INFO ]  Removed: ['/home/rchaves/repo/biobb/biobb_wf_antibody/biobb_wf_antibody/notebooks/sandbox_a254e5bb-5152-4416-8194-7196599c6e76', '/home/rchaves/repo/biobb/biobb_wf_antibody/biobb_wf_antibody/notebooks/d9f89f2d-da54-4d9c-b175-5e1e984f96e5.stdin']\n",
      "2025-06-04 18:48:21,113 [MainThread  ] [INFO ]  \n"
     ]
    },
    {
     "data": {
      "text/plain": [
       "0"
      ]
     },
     "execution_count": 54,
     "metadata": {},
     "output_type": "execute_result"
    }
   ],
   "source": [
    "from biobb_gromacs.gromacs.make_ndx import make_ndx\n",
    "\n",
    "# Create prop dict and inputs/outputs\n",
    "loop_ndx = f'{MD_dir}{pdbCode}_loop.ndx'\n",
    "sele = 'r 27-38 | r 56-65 | r 105-117\\nname 10 Loop'\n",
    "\n",
    "prop = { \n",
    "    'selection': sele\n",
    "}\n",
    "\n",
    "# Create and launch bb\n",
    "make_ndx(input_structure_path=anarcii_gro,\n",
    "         output_ndx_path=loop_ndx,\n",
    "         properties=def_dict(prop))"
   ]
  },
  {
   "cell_type": "code",
   "execution_count": 56,
   "metadata": {},
   "outputs": [],
   "source": [
    "output_gppmin_tpr = f'{MD_dir}{pdbCode}_gppmin.tpr'\n",
    "output_imaged_traj_rot = f'{MD_dir}{pdbCode}_imaged_traj_rot.trr'"
   ]
  },
  {
   "cell_type": "code",
   "execution_count": 57,
   "metadata": {
    "scrolled": true
   },
   "outputs": [
    {
     "name": "stdout",
     "output_type": "stream",
     "text": [
      "2025-06-04 18:48:59,364 [MainThread  ] [INFO ]  Module: biobb_analysis.gromacs.gmx_cluster Version: 5.0.1\n",
      "2025-06-04 18:48:59,366 [MainThread  ] [INFO ]  /home/rchaves/repo/biobb/biobb_wf_antibody/biobb_wf_antibody/notebooks/sandbox_3fc2b69f-693e-45e8-ab7e-9930dba8c3c8 directory successfully created\n",
      "2025-06-04 18:48:59,370 [MainThread  ] [INFO ]  Copy: /home/rchaves/repo/biobb/biobb_wf_antibody/biobb_wf_antibody/notebooks/data/antibody/1_MD/4G6K_gppmin.tpr to /home/rchaves/repo/biobb/biobb_wf_antibody/biobb_wf_antibody/notebooks/sandbox_3fc2b69f-693e-45e8-ab7e-9930dba8c3c8\n",
      "2025-06-04 18:48:59,375 [MainThread  ] [INFO ]  Copy: /home/rchaves/repo/biobb/biobb_wf_antibody/biobb_wf_antibody/notebooks/data/antibody/1_MD/4G6K_imaged_traj_rot.trr to /home/rchaves/repo/biobb/biobb_wf_antibody/biobb_wf_antibody/notebooks/sandbox_3fc2b69f-693e-45e8-ab7e-9930dba8c3c8\n",
      "2025-06-04 18:48:59,376 [MainThread  ] [INFO ]  Copy: /home/rchaves/repo/biobb/biobb_wf_antibody/biobb_wf_antibody/notebooks/data/antibody/1_MD/4G6K_loop.ndx to /home/rchaves/repo/biobb/biobb_wf_antibody/biobb_wf_antibody/notebooks/sandbox_3fc2b69f-693e-45e8-ab7e-9930dba8c3c8\n",
      "2025-06-04 18:48:59,377 [MainThread  ] [INFO ]  Copy: /home/rchaves/repo/biobb/biobb_wf_antibody/biobb_wf_antibody/notebooks/914ea6a9-547d-4c26-a494-ac811a98723a.stdin to /home/rchaves/repo/biobb/biobb_wf_antibody/biobb_wf_antibody/notebooks/sandbox_3fc2b69f-693e-45e8-ab7e-9930dba8c3c8\n",
      "2025-06-04 18:48:59,377 [MainThread  ] [INFO ]  gmx cluster -g /home/rchaves/repo/biobb/biobb_wf_antibody/biobb_wf_antibody/notebooks/sandbox_3fc2b69f-693e-45e8-ab7e-9930dba8c3c8/cluster.log -dist /home/rchaves/repo/biobb/biobb_wf_antibody/biobb_wf_antibody/notebooks/sandbox_3fc2b69f-693e-45e8-ab7e-9930dba8c3c8/rmsd-dist.xvg -o /home/rchaves/repo/biobb/biobb_wf_antibody/biobb_wf_antibody/notebooks/sandbox_3fc2b69f-693e-45e8-ab7e-9930dba8c3c8/rmsd-clust.xpm -s /home/rchaves/repo/biobb/biobb_wf_antibody/biobb_wf_antibody/notebooks/sandbox_3fc2b69f-693e-45e8-ab7e-9930dba8c3c8/4G6K_gppmin.tpr -f /home/rchaves/repo/biobb/biobb_wf_antibody/biobb_wf_antibody/notebooks/sandbox_3fc2b69f-693e-45e8-ab7e-9930dba8c3c8/4G6K_imaged_traj_rot.trr -cl /home/rchaves/repo/biobb/biobb_wf_antibody/biobb_wf_antibody/notebooks/sandbox_3fc2b69f-693e-45e8-ab7e-9930dba8c3c8/4G6K_clusters.pdb -cutoff 0.1 -method jarvis-patrick -n /home/rchaves/repo/biobb/biobb_wf_antibody/biobb_wf_antibody/notebooks/sandbox_3fc2b69f-693e-45e8-ab7e-9930dba8c3c8/4G6K_loop.ndx -nofit < /home/rchaves/repo/biobb/biobb_wf_antibody/biobb_wf_antibody/notebooks/sandbox_3fc2b69f-693e-45e8-ab7e-9930dba8c3c8/914ea6a9-547d-4c26-a494-ac811a98723a.stdin\n",
      "\n",
      "2025-06-04 18:48:59,472 [MainThread  ] [INFO ]  Executing: gmx cluster -g /home/rchaves/repo/biobb/biobb_wf_antibody/biobb_wf_antibody/note...\n",
      "2025-06-04 18:48:59,473 [MainThread  ] [INFO ]  Exit code: 0\n",
      "2025-06-04 18:48:59,473 [MainThread  ] [INFO ]  Selected 10: 'Loop'\n",
      "Selected 0: 'System'\n",
      "\n",
      "2025-06-04 18:48:59,474 [MainThread  ] [INFO ]                 :-) GROMACS - gmx cluster, 2022.2-conda_forge (-:\n",
      "\n",
      "Executable:   /home/rchaves/miniforge3/envs/biobb_wf_antibody/bin.AVX2_256/gmx\n",
      "Data prefix:  /home/rchaves/miniforge3/envs/biobb_wf_antibody\n",
      "Working dir:  /home/rchaves/repo/biobb/biobb_wf_antibody/biobb_wf_antibody/notebooks\n",
      "Command line:\n",
      "  gmx cluster -g /home/rchaves/repo/biobb/biobb_wf_antibody/biobb_wf_antibody/notebooks/sandbox_3fc2b69f-693e-45e8-ab7e-9930dba8c3c8/cluster.log -dist /home/rchaves/repo/biobb/biobb_wf_antibody/biobb_wf_antibody/notebooks/sandbox_3fc2b69f-693e-45e8-ab7e-9930dba8c3c8/rmsd-dist.xvg -o /home/rchaves/repo/biobb/biobb_wf_antibody/biobb_wf_antibody/notebooks/sandbox_3fc2b69f-693e-45e8-ab7e-9930dba8c3c8/rmsd-clust.xpm -s /home/rchaves/repo/biobb/biobb_wf_antibody/biobb_wf_antibody/notebooks/sandbox_3fc2b69f-693e-45e8-ab7e-9930dba8c3c8/4G6K_gppmin.tpr -f /home/rchaves/repo/biobb/biobb_wf_antibody/biobb_wf_antibody/notebooks/sandbox_3fc2b69f-693e-45e8-ab7e-9930dba8c3c8/4G6K_imaged_traj_rot.trr -cl /home/rchaves/repo/biobb/biobb_wf_antibody/biobb_wf_antibody/notebooks/sandbox_3fc2b69f-693e-45e8-ab7e-9930dba8c3c8/4G6K_clusters.pdb -cutoff 0.1 -method jarvis-patrick -n /home/rchaves/repo/biobb/biobb_wf_antibody/biobb_wf_antibody/notebooks/sandbox_3fc2b69f-693e-45e8-ab7e-9930dba8c3c8/4G6K_loop.ndx -nofit\n",
      "\n",
      "Using jarvis-patrick method for clustering\n",
      "Will use P=3, M=10 and RMSD cutoff (0.1) for determining the neighbors\n",
      "\n",
      "Reading file /home/rchaves/repo/biobb/biobb_wf_antibody/biobb_wf_antibody/notebooks/sandbox_3fc2b69f-693e-45e8-ab7e-9930dba8c3c8/4G6K_gppmin.tpr, VERSION 2022.2-conda_forge (single precision)\n",
      "Reading file /home/rchaves/repo/biobb/biobb_wf_antibody/biobb_wf_antibody/notebooks/sandbox_3fc2b69f-693e-45e8-ab7e-9930dba8c3c8/4G6K_gppmin.tpr, VERSION 2022.2-conda_forge (single precision)\n",
      "\n",
      "Select group for least squares fit and RMSD calculation:\n",
      "Group     0 (         System) has  6525 elements\n",
      "Group     1 (        Protein) has  6525 elements\n",
      "Group     2 (      Protein-H) has  3293 elements\n",
      "Group     3 (        C-alpha) has   432 elements\n",
      "Group     4 (       Backbone) has  1296 elements\n",
      "Group     5 (      MainChain) has  1726 elements\n",
      "Group     6 (   MainChain+Cb) has  2126 elements\n",
      "Group     7 (    MainChain+H) has  2139 elements\n",
      "Group     8 (      SideChain) has  4386 elements\n",
      "Group     9 (    SideChain-H) has  1567 elements\n",
      "Group    10 (           Loop) has   735 elements\n",
      "Select a group: \n",
      "Select group for output:\n",
      "Group     0 (         System) has  6525 elements\n",
      "Group     1 (        Protein) has  6525 elements\n",
      "Group     2 (      Protein-H) has  3293 elements\n",
      "Group     3 (        C-alpha) has   432 elements\n",
      "Group     4 (       Backbone) has  1296 elements\n",
      "Group     5 (      MainChain) has  1726 elements\n",
      "Group     6 (   MainChain+Cb) has  2126 elements\n",
      "Group     7 (    MainChain+H) has  2139 elements\n",
      "Group     8 (      SideChain) has  4386 elements\n",
      "Group     9 (    SideChain-H) has  1567 elements\n",
      "Group    10 (           Loop) has   735 elements\n",
      "Select a group: trr version: GMX_trn_file (single precision)\n",
      "Last frame         50 time 10000.000   \n",
      "Allocated 4698000 bytes for frames\n",
      "Read 51 frames from trajectory /home/rchaves/repo/biobb/biobb_wf_antibody/biobb_wf_antibody/notebooks/sandbox_3fc2b69f-693e-45e8-ab7e-9930dba8c3c8/4G6K_imaged_traj_rot.trr\n",
      "Computing 51x51 RMS deviation matrix\n",
      "# RMSD calculations left: 0      \n",
      "\n",
      "The RMSD ranges from 0.0354191 to 0.170043 nm\n",
      "Average RMSD is 0.0727791\n",
      "Number of structures for matrix 51\n",
      "Energy of the matrix is 0.37401.\n",
      "WARNING: rmsd minimum 0 is below lowest rmsd value 0.0354191\n",
      "Linking structures ****\n",
      "Sorting and renumbering clusters\n",
      "\n",
      "Found 3 clusters\n",
      "\n",
      "Writing middle structure for each cluster to /home/rchaves/repo/biobb/biobb_wf_antibody/biobb_wf_antibody/notebooks/sandbox_3fc2b69f-693e-45e8-ab7e-9930dba8c3c8/4G6K_clusters.pdb\n",
      "Writing rms distance/clustering matrix            1 1 1 1 1 2 2 2 2 2 3 3 3 3 3 4 4 4 4 4 5 5 5 5 5 6 6 6 6 6 7 7 7 7 7 8 8 8 8 8 9 9 9 9 910\n",
      "\n",
      "GROMACS reminds you: \"When using an abacus, a human can achieve about 0.1 flops/watt. Super-computers achieve about 2 gigaflops/watt.\" (John Linford)\n",
      "\n",
      "\n",
      "2025-06-04 18:48:59,478 [MainThread  ] [INFO ]  Removed: ['rmsd-dist.xvg', 'rmsd-clust.xpm', 'cluster.log', '/home/rchaves/repo/biobb/biobb_wf_antibody/biobb_wf_antibody/notebooks/sandbox_3fc2b69f-693e-45e8-ab7e-9930dba8c3c8', '/home/rchaves/repo/biobb/biobb_wf_antibody/biobb_wf_antibody/notebooks/914ea6a9-547d-4c26-a494-ac811a98723a.stdin']\n",
      "2025-06-04 18:48:59,478 [MainThread  ] [INFO ]  \n"
     ]
    },
    {
     "data": {
      "text/plain": [
       "0"
      ]
     },
     "execution_count": 57,
     "metadata": {},
     "output_type": "execute_result"
    }
   ],
   "source": [
    "from biobb_analysis.gromacs.gmx_cluster import gmx_cluster\n",
    "\n",
    "output_pdb_cluster = f'{MD_dir}{pdbCode}_clusters.pdb'\n",
    "\n",
    "prop = {\n",
    "    'fit_selection': 'Loop',\n",
    "    'output_selection': 'System',\n",
    "#    'method': 'gromos',\n",
    "    'method' : 'jarvis-patrick',\n",
    "    'cutoff' : 0.1,\n",
    "    'nofit' : True,\n",
    "}\n",
    "gmx_cluster(input_structure_path=output_gppmin_tpr,\n",
    "            input_traj_path=output_imaged_traj_rot,\n",
    "            input_index_path=loop_ndx,\n",
    "            output_pdb_path=output_pdb_cluster,\n",
    "            properties=def_dict(prop))"
   ]
  },
  {
   "cell_type": "code",
   "execution_count": 58,
   "metadata": {},
   "outputs": [
    {
     "name": "stderr",
     "output_type": "stream",
     "text": [
      "/home/rchaves/miniforge3/envs/biobb_wf_antibody/lib/python3.10/site-packages/MDAnalysis/coordinates/PDB.py:453: UserWarning: 1 A^3 CRYST1 record, this is usually a placeholder. Unit cell dimensions will be set to None.\n",
      "  warnings.warn(\"1 A^3 CRYST1 record,\"\n",
      "/home/rchaves/miniforge3/envs/biobb_wf_antibody/lib/python3.10/site-packages/MDAnalysis/topology/PDBParser.py:331: UserWarning: Element information is missing, elements attribute will not be populated. If needed these can be guessed using MDAnalysis.topology.guessers.\n",
      "  warnings.warn(\"Element information is missing, elements attribute \"\n"
     ]
    }
   ],
   "source": [
    "import MDAnalysis as mda\n",
    "u1  = mda.Universe(anarcii_pdb)\n",
    "u2  = mda.Universe(output_pdb_cluster)\n",
    "\n",
    "residsH = u1.select_atoms('chainID H').residues.resids\n",
    "maskH = ((27 <= residsH) & (residsH <= 38)) | ((56 <= residsH) & (residsH <= 65)) | ((105 <= residsH) & (residsH <= 117))\n",
    "residsA = u2.select_atoms('chainID A').residues.resids\n",
    "\n",
    "residsL = u1.select_atoms('chainID L').residues.resids\n",
    "maskL = ((27 <= residsL) & (residsL <= 38)) | ((56 <= residsL) & (residsL <= 65)) | ((105 <= residsL) & (residsL <= 117))\n",
    "residsB = u2.select_atoms('chainID B').residues.resids"
   ]
  },
  {
   "cell_type": "code",
   "execution_count": 59,
   "metadata": {},
   "outputs": [
    {
     "data": {
      "application/vnd.jupyter.widget-view+json": {
       "model_id": "717b1225b0374d499acd02c44fb66f5e",
       "version_major": 2,
       "version_minor": 0
      },
      "text/plain": [
       "NGLWidget()"
      ]
     },
     "metadata": {},
     "output_type": "display_data"
    }
   ],
   "source": [
    "view = nv.show_structure_file(output_pdb_cluster, default_representation=False)\n",
    "view.clear_representations()\n",
    "view.add_representation(repr_type='cartoon', selection='all', color='modelindex')\n",
    "view.center()\n",
    "view._remote_call('setSize', target='Widget', args=['','600px'])\n",
    "view.add_ball_and_stick(selection=f\"( {', '.join(list(map(str, residsA[maskH])))} ) and :A\", color='modelindex')\n",
    "view.add_ball_and_stick(selection=f\"( {', '.join(list(map(str, residsB[maskL])))} ) and :B\", color='modelindex')\n",
    "view\n"
   ]
  },
  {
   "cell_type": "markdown",
   "metadata": {},
   "source": [
    "## Docking the generated structures with HADDOCK"
   ]
  },
  {
   "cell_type": "code",
   "execution_count": 5,
   "metadata": {},
   "outputs": [],
   "source": [
    "dock_dir = out_path+'2_docking/'"
   ]
  },
  {
   "cell_type": "markdown",
   "metadata": {},
   "source": [
    "### Prepare PDBs\n",
    "\n",
    "[pdb format](https://www.bonvinlab.org/haddock3-user-manual/structure_requirements.html#pdb-format)"
   ]
  },
  {
   "cell_type": "markdown",
   "metadata": {},
   "source": [
    "#### Antibody"
   ]
  },
  {
   "cell_type": "code",
   "execution_count": null,
   "metadata": {},
   "outputs": [],
   "source": [
    "!cat {output_pdb_cluster}  | pdb_reres -1 | pdb_chain -A | pdb_tidy -strict > {dock_dir}ab_clean.pdb"
   ]
  },
  {
   "cell_type": "markdown",
   "metadata": {},
   "source": [
    "#### Antigen"
   ]
  },
  {
   "cell_type": "code",
   "execution_count": 254,
   "metadata": {},
   "outputs": [],
   "source": [
    "!pdb_fetch 4I1B | pdb_tidy -strict | pdb_delhetatm | pdb_selaltloc | pdb_keepcoord | pdb_chain -B | pdb_chainxseg | pdb_tidy -strict > {dock_dir}ag_clean.pdb"
   ]
  },
  {
   "cell_type": "markdown",
   "metadata": {},
   "source": [
    "#### Reference"
   ]
  },
  {
   "cell_type": "code",
   "execution_count": 253,
   "metadata": {},
   "outputs": [],
   "source": [
    "!pdb_fetch 4G6M | pdb_tidy -strict | pdb_selchain -H | pdb_delhetatm | pdb_fixinsert | pdb_selaltloc | pdb_keepcoord | pdb_tidy -strict > {dock_dir}4G6M_H.pdb\n",
    "!pdb_fetch 4G6M | pdb_tidy -strict | pdb_selchain -L | pdb_delhetatm | pdb_fixinsert | pdb_selaltloc | pdb_keepcoord | pdb_tidy -strict > {dock_dir}4G6M_L.pdb\n",
    "!pdb_fetch 4G6M | pdb_tidy -strict | pdb_selchain -A | pdb_delhetatm | pdb_fixinsert | pdb_selaltloc | pdb_keepcoord | pdb_reres -1 | pdb_chain -B | pdb_chainxseg | pdb_tidy -strict > {dock_dir}4G6M_A.pdb\n",
    "!pdb_merge {dock_dir}4G6M_H.pdb {dock_dir}4G6M_L.pdb | pdb_reres -1 | pdb_chain -A | pdb_chainxseg | pdb_tidy -strict > {dock_dir}4G6M_HL.pdb\n",
    "!pdb_merge {dock_dir}4G6M_HL.pdb {dock_dir}4G6M_A.pdb | pdb_tidy -strict > {dock_dir}ref_clean.pdb"
   ]
  },
  {
   "cell_type": "markdown",
   "metadata": {},
   "source": [
    "### Generate AIRs with epitope"
   ]
  },
  {
   "cell_type": "code",
   "execution_count": 292,
   "metadata": {},
   "outputs": [
    {
     "name": "stdout",
     "output_type": "stream",
     "text": [
      "[2025-06-04 17:40:04,713 cli_restraints INFO] Starting arctic3d-restraints\n",
      "[2025-06-04 17:40:04,740 output INFO] Creating output_directory data/antibody/2_docking/arctic3d_res\n",
      "[2025-06-04 17:40:04,740] cli_restraints.py:arctic3d:main:260: Input files are {'r1_res_fname': PosixPath('data/antibody/2_docking/arctic3d/clustered_residues_probs.out'), 'r2_res_fname': PosixPath('data/antibody/2_docking/arctic3d/clustered_residues_probs.out')}\n",
      "[2025-06-04 17:40:04,740] output.py:arctic3d.log:setup_output_folder:64: Setting up output folder data/antibody/2_docking/arctic3d_res\n",
      "[2025-06-04 17:40:04,740] output.py:arctic3d.log:setup_output_folder:73: File clustered_residues_probs.out already exists, adding _1 to the filename\n",
      "[2025-06-04 17:40:04,740] cli_restraints.py:arctic3d:main:268: data/antibody/2_docking/arctic3d/ residues = {1: [120, 121, 122, 127, 129, 130, 131, 135, 136, 137, 138, 139, 140, 141, 143, 145, 146, 147, 148, 149, 150, 151, 152, 153, 154, 155, 162, 164, 167, 168, 169, 170, 172, 180, 181, 182, 188, 189, 197, 200, 202, 203, 208, 209, 210, 212, 214, 219, 221, 223, 224, 243, 244, 245, 246, 247, 263, 264, 265, 266, 267, 268, 269], 2: [119, 120, 121, 122, 123, 159, 177, 178, 179, 182, 183, 184, 203, 204, 206, 207, 269], 3: [130, 170, 220, 222, 223, 225, 227, 242, 253, 254, 255, 256, 257, 258, 260, 261]}\n",
      "[2025-06-04 17:40:04,741] cli_restraints.py:arctic3d:main:269: data/antibody/2_docking/arctic3d/ residues = {1: [120, 121, 122, 127, 129, 130, 131, 135, 136, 137, 138, 139, 140, 141, 143, 145, 146, 147, 148, 149, 150, 151, 152, 153, 154, 155, 162, 164, 167, 168, 169, 170, 172, 180, 181, 182, 188, 189, 197, 200, 202, 203, 208, 209, 210, 212, 214, 219, 221, 223, 224, 243, 244, 245, 246, 247, 263, 264, 265, 266, 267, 268, 269], 2: [119, 120, 121, 122, 123, 159, 177, 178, 179, 182, 183, 184, 203, 204, 206, 207, 269], 3: [130, 170, 220, 222, 223, 225, 227, 242, 253, 254, 255, 256, 257, 258, 260, 261]}\n",
      "[2025-06-04 17:40:04,741] cli_restraints.py:arctic3d:main:275: Creating 9 restraints\n",
      "[2025-06-04 17:40:04,741] cli_restraints.py:arctic3d:main:280: Creating ambig_0.tbl restraint file by coupling 1 (r1) and 1 (r2)\n",
      "[2025-06-04 17:40:04,742] cli_restraints.py:arctic3d:main:280: Creating ambig_1.tbl restraint file by coupling 1 (r1) and 2 (r2)\n",
      "[2025-06-04 17:40:04,742] cli_restraints.py:arctic3d:main:280: Creating ambig_2.tbl restraint file by coupling 1 (r1) and 3 (r2)\n",
      "[2025-06-04 17:40:04,742] cli_restraints.py:arctic3d:main:280: Creating ambig_3.tbl restraint file by coupling 2 (r1) and 1 (r2)\n",
      "[2025-06-04 17:40:04,743] cli_restraints.py:arctic3d:main:280: Creating ambig_4.tbl restraint file by coupling 2 (r1) and 2 (r2)\n",
      "[2025-06-04 17:40:04,743] cli_restraints.py:arctic3d:main:280: Creating ambig_5.tbl restraint file by coupling 2 (r1) and 3 (r2)\n",
      "[2025-06-04 17:40:04,743] cli_restraints.py:arctic3d:main:280: Creating ambig_6.tbl restraint file by coupling 3 (r1) and 1 (r2)\n",
      "[2025-06-04 17:40:04,743] cli_restraints.py:arctic3d:main:280: Creating ambig_7.tbl restraint file by coupling 3 (r1) and 2 (r2)\n",
      "[2025-06-04 17:40:04,743] cli_restraints.py:arctic3d:main:280: Creating ambig_8.tbl restraint file by coupling 3 (r1) and 3 (r2)\n",
      "[2025-06-04 17:40:04,744] cli_restraints.py:arctic3d:compress_tbl_files:184: Compressing restraints into ambig.tbl.tgz\n",
      "[2025-06-04 17:40:04,752] cli_restraints.py:arctic3d:main:290: arctic3d-restraints run took 0.039 seconds\n"
     ]
    }
   ],
   "source": [
    "!arctic3d-restraints --r1 {arc_path} --r2 {arc_path} --run_dir {dock_dir}arctic3d_res/"
   ]
  },
  {
   "cell_type": "code",
   "execution_count": null,
   "metadata": {},
   "outputs": [],
   "source": [
    "!pdb_fetch 4I1B > {dock_dir}ag.pdb"
   ]
  },
  {
   "cell_type": "code",
   "execution_count": 9,
   "metadata": {},
   "outputs": [
    {
     "name": "stdout",
     "output_type": "stream",
     "text": [
      "[2025-06-04 17:51:09,480 cli INFO] \n",
      "##############################################\n",
      "#                                            #\n",
      "#                 ARCTIC-3D                  #\n",
      "#                                            #\n",
      "##############################################\n",
      "\n",
      "Starting ARCTIC-3D 0.4.1\n",
      "\n",
      "\n",
      "Traceback (most recent call last):\n",
      "  File \"/home/rchaves/miniforge3/envs/biobb_wf_antibody/bin/arctic3d\", line 8, in <module>\n",
      "    sys.exit(maincli())\n",
      "  File \"/home/rchaves/miniforge3/envs/biobb_wf_antibody/lib/python3.10/site-packages/arctic3d/cli.py\", line 169, in maincli\n",
      "    return cli(argument_parser, main)\n",
      "  File \"/home/rchaves/miniforge3/envs/biobb_wf_antibody/lib/python3.10/site-packages/arctic3d/cli.py\", line 164, in cli\n",
      "    return main_func(**vars(cmd))\n",
      "  File \"/home/rchaves/miniforge3/envs/biobb_wf_antibody/lib/python3.10/site-packages/arctic3d/cli.py\", line 213, in main\n",
      "    run_dir_path = create_output_folder(run_dir, uniprot_id)\n",
      "  File \"/home/rchaves/miniforge3/envs/biobb_wf_antibody/lib/python3.10/site-packages/arctic3d/modules/output.py\", line 43, in create_output_folder\n",
      "    raise Exception(f\"{run_dir} already exists!\")\n",
      "Exception: data/antibody/2_docking/arctic3d already exists!\n"
     ]
    }
   ],
   "source": [
    "# Obtain epitope\n",
    "arc_path = 'data/antibody/2_docking/arctic3d/'\n",
    "!arctic3d P01584 --db /home/rchaves/repo/arctic3d/db/swissprot --pdb_to_use 4I1B --run_dir {arc_path}"
   ]
  },
  {
   "cell_type": "code",
   "execution_count": null,
   "metadata": {},
   "outputs": [
    {
     "data": {
      "text/plain": [
       "[119,\n",
       " 120,\n",
       " 121,\n",
       " 122,\n",
       " 125,\n",
       " 127,\n",
       " 129,\n",
       " 130,\n",
       " 131,\n",
       " 135,\n",
       " 136,\n",
       " 137,\n",
       " 138,\n",
       " 139,\n",
       " 140,\n",
       " 141,\n",
       " 143,\n",
       " 145,\n",
       " 146,\n",
       " 147,\n",
       " 148,\n",
       " 149,\n",
       " 150,\n",
       " 151,\n",
       " 152,\n",
       " 153,\n",
       " 154,\n",
       " 155,\n",
       " 157,\n",
       " 162,\n",
       " 164,\n",
       " 167,\n",
       " 168,\n",
       " 169,\n",
       " 170,\n",
       " 171,\n",
       " 172,\n",
       " 180,\n",
       " 181,\n",
       " 182,\n",
       " 183,\n",
       " 188,\n",
       " 189,\n",
       " 190,\n",
       " 191,\n",
       " 197,\n",
       " 198,\n",
       " 199,\n",
       " 200,\n",
       " 201,\n",
       " 202,\n",
       " 203,\n",
       " 204,\n",
       " 205,\n",
       " 206,\n",
       " 208,\n",
       " 209,\n",
       " 210,\n",
       " 212,\n",
       " 213,\n",
       " 214,\n",
       " 219,\n",
       " 220,\n",
       " 221,\n",
       " 222,\n",
       " 223,\n",
       " 224,\n",
       " 225,\n",
       " 231,\n",
       " 232,\n",
       " 233,\n",
       " 234,\n",
       " 242,\n",
       " 243,\n",
       " 244,\n",
       " 245,\n",
       " 246,\n",
       " 247,\n",
       " 256,\n",
       " 257,\n",
       " 263,\n",
       " 264,\n",
       " 265,\n",
       " 266,\n",
       " 267,\n",
       " 268,\n",
       " 269]"
      ]
     },
     "execution_count": 10,
     "metadata": {},
     "output_type": "execute_result"
    }
   ],
   "source": [
    "epitopes = !cat {arc_path}clustered_residues.out\n",
    "\n",
    "# Convert space-separated string to list of integers\n",
    "residue_numbers1 = list(map(int, epitopes[0].split('>')[1].split()))"
   ]
  },
  {
   "cell_type": "code",
   "execution_count": 280,
   "metadata": {},
   "outputs": [],
   "source": [
    "# Convert to Uniprot numbering\n",
    "!pdb_fetch 4I1B | pdb_reres -119 > {dock_dir}ag_uni.pdb"
   ]
  },
  {
   "cell_type": "code",
   "execution_count": 62,
   "metadata": {},
   "outputs": [
    {
     "name": "stdout",
     "output_type": "stream",
     "text": [
      "119, 120, 121, 122, 125, 127, 129, 130, 131, 135, 136, 137, 138, 139, 140, 141, 143, 145, 146, 147, 148, 149, 150, 151, 152, 153, 154, 155, 157, 162, 164, 167, 168, 169, 170, 171, 172, 180, 181, 182, 183, 188, 189, 190, 191, 197, 198, 199, 200, 201, 202, 203, 204, 205, 206, 208, 209, 210, 212, 213, 214, 219, 220, 221, 222, 223, 224, 225, 231, 232, 233, 234, 242, 243, 244, 245, 246, 247, 256, 257, 263, 264, 265, 266, 267, 268, 269\n",
      "119, 120, 121, 122, 123, 159, 177, 178, 179, 182, 183, 184, 203, 204, 206, 207, 269\n",
      "130, 170, 220, 222, 223, 225, 227, 242, 253, 254, 255, 256, 257, 258, 260, 261\n"
     ]
    },
    {
     "data": {
      "application/vnd.jupyter.widget-view+json": {
       "model_id": "dd3d2e77558840c6b537943f30532c1f",
       "version_major": 2,
       "version_minor": 0
      },
      "text/plain": [
       "NGLWidget()"
      ]
     },
     "metadata": {},
     "output_type": "display_data"
    }
   ],
   "source": [
    "view = nv.show_structure_file(f'{dock_dir}ag_uni.pdb')\n",
    "for cluster, color in zip(epitopes, ['red', 'blue', 'green', 'orange', 'purple']):\n",
    "    residue_numbers = list(map(int, cluster.split('>')[1].split()))\n",
    "    res_sel = f\"{', '.join(map(str, residue_numbers))}\"\n",
    "    print(res_sel)\n",
    "    view.add_ball_and_stick(selection=res_sel, color=color, radius=0.2)\n",
    "#view.add_surface(selection='not HOH',color='residueindex')\n",
    "view"
   ]
  },
  {
   "cell_type": "code",
   "execution_count": 34,
   "metadata": {},
   "outputs": [
    {
     "data": {
      "text/plain": [
       "[119,\n",
       " 120,\n",
       " 121,\n",
       " 122,\n",
       " 125,\n",
       " 127,\n",
       " 129,\n",
       " 130,\n",
       " 131,\n",
       " 135,\n",
       " 136,\n",
       " 137,\n",
       " 138,\n",
       " 139,\n",
       " 140,\n",
       " 141,\n",
       " 143,\n",
       " 145,\n",
       " 146,\n",
       " 147,\n",
       " 148,\n",
       " 149,\n",
       " 150,\n",
       " 151,\n",
       " 152,\n",
       " 153,\n",
       " 154,\n",
       " 155,\n",
       " 157,\n",
       " 162,\n",
       " 164,\n",
       " 167,\n",
       " 168,\n",
       " 169,\n",
       " 170,\n",
       " 171,\n",
       " 172,\n",
       " 180,\n",
       " 181,\n",
       " 182,\n",
       " 183,\n",
       " 188,\n",
       " 189,\n",
       " 190,\n",
       " 191,\n",
       " 197,\n",
       " 198,\n",
       " 199,\n",
       " 200,\n",
       " 201,\n",
       " 202,\n",
       " 203,\n",
       " 204,\n",
       " 205,\n",
       " 206,\n",
       " 208,\n",
       " 209,\n",
       " 210,\n",
       " 212,\n",
       " 213,\n",
       " 214,\n",
       " 219,\n",
       " 220,\n",
       " 221,\n",
       " 222,\n",
       " 223,\n",
       " 224,\n",
       " 225,\n",
       " 231,\n",
       " 232,\n",
       " 233,\n",
       " 234,\n",
       " 242,\n",
       " 243,\n",
       " 244,\n",
       " 245,\n",
       " 246,\n",
       " 247,\n",
       " 256,\n",
       " 257,\n",
       " 263,\n",
       " 264,\n",
       " 265,\n",
       " 266,\n",
       " 267,\n",
       " 268,\n",
       " 269]"
      ]
     },
     "execution_count": 34,
     "metadata": {},
     "output_type": "execute_result"
    }
   ],
   "source": [
    "residue_numbers"
   ]
  },
  {
   "cell_type": "code",
   "execution_count": null,
   "metadata": {},
   "outputs": [
    {
     "data": {
      "application/vnd.jupyter.widget-view+json": {
       "model_id": "6d9165b274df4bdeb42434489f6b8925",
       "version_major": 2,
       "version_minor": 0
      },
      "text/plain": [
       "NGLWidget()"
      ]
     },
     "metadata": {},
     "output_type": "display_data"
    }
   ],
   "source": [
    "view = nv.show_structure_file(f'{dock_dir}ref_clean.pdb')\n",
    "# view.clear()\n",
    "residue_numbers = list(map(int, cluster.split('>')[1].split()))\n",
    "res_sel = f\"{', '.join(map(str, residue_numbers))}\"\n",
    "print(res_sel)\n",
    "view.add_ball_and_stick(selection=res_sel, color=color, radius=0.2)\n",
    "view"
   ]
  },
  {
   "cell_type": "markdown",
   "metadata": {},
   "source": [
    "### Run HADDOCK3"
   ]
  },
  {
   "cell_type": "code",
   "execution_count": null,
   "metadata": {},
   "outputs": [],
   "source": [
    "!haddock3 data/antibody/2_docking/docking-antibody-antigen.cfg"
   ]
  },
  {
   "cell_type": "markdown",
   "metadata": {},
   "source": [
    "## PMX"
   ]
  },
  {
   "cell_type": "code",
   "execution_count": null,
   "metadata": {},
   "outputs": [],
   "source": [
    "# https://mmb.irbbarcelona.org/biobb/workflows/tutorials/biobb_wf_pmx_tutorial\n",
    "# https://github.com/bioexcel/biobb_wf_pmx_tutorial"
   ]
  },
  {
   "cell_type": "markdown",
   "metadata": {},
   "source": [
    "***\n",
    "<a id=\"questions\"></a>\n",
    "\n",
    "## Questions & Comments\n",
    "\n",
    "Questions, issues, suggestions and comments are really welcome!\n",
    "\n",
    "* GitHub issues:\n",
    "    * [https://github.com/bioexcel/biobb](https://github.com/bioexcel/biobb)\n",
    "\n",
    "* BioExcel forum:\n",
    "    * [https://ask.bioexcel.eu/c/BioExcel-Building-Blocks-library](https://ask.bioexcel.eu/c/BioExcel-Building-Blocks-library)\n"
   ]
  }
 ],
 "metadata": {
  "kernelspec": {
   "display_name": "biobb_wf_antibody",
   "language": "python",
   "name": "python3"
  },
  "language_info": {
   "codemirror_mode": {
    "name": "ipython",
    "version": 3
   },
   "file_extension": ".py",
   "mimetype": "text/x-python",
   "name": "python",
   "nbconvert_exporter": "python",
   "pygments_lexer": "ipython3",
   "version": "3.10.17"
  }
 },
 "nbformat": 4,
 "nbformat_minor": 4
}
