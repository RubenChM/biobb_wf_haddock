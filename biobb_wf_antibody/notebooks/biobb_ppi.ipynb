{
 "cells": [
  {
   "cell_type": "markdown",
   "id": "e2bd4c62",
   "metadata": {
    "jp-MarkdownHeadingCollapsed": true
   },
   "source": [
    "# Barnase-Barstar protein complex"
   ]
  },
  {
   "cell_type": "code",
   "execution_count": null,
   "id": "ef33a50f",
   "metadata": {},
   "outputs": [],
   "source": [
    "# Barnase-Barstar protein complex\n",
    "# From Chen, R., Mintseris, J., Janin, J. and Weng, Z. (2003)\n",
    "# A protein–protein docking benchmark. \n",
    "# Proteins, 52: 88-91. https://doi-org.sire.ub.edu/10.1002/prot.10390\n",
    "barnase_id = \"1A2P\"\n",
    "barnase_ch = \"B\"\n",
    "barstar_id = \"1A19\"\n",
    "barstar_ch = \"A\"\n",
    "complex_id = \"1BRS\" # barnase_barstar_complex\n",
    "complex_ch = \"A,D\"\n",
    "out_path = 'data/barnase_barstar/'\n",
    "os.makedirs(out_path, exist_ok=True)"
   ]
  },
  {
   "cell_type": "markdown",
   "id": "5f4f0ed2",
   "metadata": {
    "jp-MarkdownHeadingCollapsed": true
   },
   "source": [
    "## Prepare pdbs"
   ]
  },
  {
   "cell_type": "code",
   "execution_count": null,
   "id": "c1284be6",
   "metadata": {},
   "outputs": [],
   "source": [
    "# Downloading desired PDB files\n",
    "# Import module\n",
    "from biobb_io.api.pdb import pdb\n",
    "\n",
    "# Create properties dict and inputs/outputs\n",
    "barnase_pdb = f'{out_path}{barnase_id}.pdb'\n",
    "barstar_pdb = f'{out_path}{barstar_id}.pdb'\n",
    "complex_pdb = f'{out_path}{complex_id}.pdb'\n",
    "\n",
    "# Create and launch bb\n",
    "pdb(output_pdb_path=barnase_pdb, properties=def_dict({'pdb_code': barnase_id}))\n",
    "pdb(output_pdb_path=barstar_pdb, properties=def_dict({'pdb_code': barstar_id}))\n",
    "pdb(output_pdb_path=complex_pdb, properties=def_dict({'pdb_code': complex_id}))"
   ]
  },
  {
   "cell_type": "code",
   "execution_count": null,
   "id": "0b3dbc69",
   "metadata": {},
   "outputs": [],
   "source": [
    "# These are the pdbs we get from RCSB\n",
    "show_pdbs([barnase_pdb, barstar_pdb, complex_pdb])"
   ]
  },
  {
   "cell_type": "code",
   "execution_count": null,
   "id": "38081557",
   "metadata": {},
   "outputs": [],
   "source": [
    "# Filtering specific chains: we need to get rid of repeated chains\n",
    "from biobb_pdb_tools.pdb_tools.biobb_pdb_selchain import biobb_pdb_selchain\n",
    "\n",
    "# Create properties dict and inputs/outputs\n",
    "barnase_pdb_ch = f'{out_path}{barnase_id}_ch.pdb'\n",
    "barstar_pdb_ch = f'{out_path}{barstar_id}_ch.pdb'\n",
    "complex_pdb_ch = f'{out_path}{complex_id}_ch.pdb'\n",
    "\n",
    "# # Create and launch bb\n",
    "biobb_pdb_selchain(input_file_path  = barnase_pdb,\n",
    "                   output_file_path = barnase_pdb_ch,\n",
    "                   properties       = def_dict({'chains': barnase_ch}))\n",
    "\n",
    "biobb_pdb_selchain(input_file_path  = barstar_pdb,\n",
    "                   output_file_path = barstar_pdb_ch,\n",
    "                   properties       = def_dict({'chains': barstar_ch}))\n",
    "\n",
    "biobb_pdb_selchain(input_file_path  = complex_pdb,\n",
    "                   output_file_path = complex_pdb_ch,\n",
    "                   properties       = def_dict({'chains': complex_ch}))"
   ]
  },
  {
   "cell_type": "code",
   "execution_count": null,
   "id": "9938bb02",
   "metadata": {},
   "outputs": [],
   "source": [
    "# On a real case we don't have the reference to know how the proteins bind each other\n",
    "# What information can use to guide the process?\n",
    "show_pdbs([barnase_pdb_ch, barstar_pdb_ch, complex_pdb_ch])"
   ]
  },
  {
   "cell_type": "markdown",
   "id": "64c69646",
   "metadata": {
    "jp-MarkdownHeadingCollapsed": true
   },
   "source": [
    "## Prepare AIRs"
   ]
  },
  {
   "cell_type": "code",
   "execution_count": null,
   "id": "13c57d4a",
   "metadata": {},
   "outputs": [],
   "source": [
    "# Solvent accessibility: \n",
    "from biobb_haddock.haddock_restraints.haddock3_accessibility import haddock3_accessibility\n",
    "\n",
    "# Create properties dict and inputs/outputs\n",
    "barnase_sasa_out = f'{out_path}{barnase_id}_sasa_out.txt'\n",
    "barstar_sasa_out = f'{out_path}{barstar_id}_sasa_out.txt'\n",
    "barnase_sasa_actpass = f'{out_path}{barnase_id}_sasa_actpass.txt'\n",
    "barstar_sasa_actpass = f'{out_path}{barstar_id}_sasa_actpass.txt'\n",
    "\n",
    "cutoff = 0.3\n",
    "# Barnase Chain\n",
    "haddock3_accessibility(\n",
    "        input_pdb_path            = barnase_pdb_ch,\n",
    "        output_accessibility_path = barnase_sasa_out,\n",
    "        output_actpass_path       = barnase_sasa_actpass,\n",
    "        properties                = def_dict({'chain': barnase_ch,\n",
    "                                              'cutoff': cutoff}))\n",
    "# Barstar Chain\n",
    "haddock3_accessibility(\n",
    "        input_pdb_path            = barstar_pdb_ch,\n",
    "        output_accessibility_path = barstar_sasa_out,\n",
    "        output_actpass_path       = barstar_sasa_actpass,\n",
    "        properties                = def_dict({'chain': barstar_ch,\n",
    "                                              'cutoff': cutoff}))"
   ]
  },
  {
   "cell_type": "code",
   "execution_count": null,
   "id": "a2d68edd",
   "metadata": {},
   "outputs": [],
   "source": [
    "# Careful! Pockets are good places to bind but have low accessibility\n",
    "view1 = display_actpass(barnase_pdb_ch, barnase_sasa_actpass)\n",
    "view2 = display_actpass(barstar_pdb_ch, barstar_sasa_actpass)\n",
    "ipywidgets.HBox([view1, view2])"
   ]
  },
  {
   "cell_type": "code",
   "execution_count": null,
   "id": "5b761833",
   "metadata": {},
   "outputs": [],
   "source": [
    "# Electrostatic energies:\n",
    "# We see a postive charge in the binding site of barnase and a negative charge in the binding site of barstar\n",
    "show_pdbs([barnase_pdb_ch, barstar_pdb_ch],surface=True)"
   ]
  },
  {
   "cell_type": "code",
   "execution_count": null,
   "id": "c658b3e0",
   "metadata": {},
   "outputs": [],
   "source": [
    "# Obtain passive from active selection\n",
    "from biobb_haddock.haddock_restraints.haddock3_passive_from_active import haddock3_passive_from_active\n",
    "\n",
    "barnase_pass2act = f'{out_path}{barnase_id}_manual_actpass.txt'\n",
    "barstar_pass2act = f'{out_path}{barstar_id}_manual_actpass.txt'\n",
    "\n",
    "haddock3_passive_from_active( \n",
    "    input_pdb_path      = barnase_pdb_ch,\n",
    "    output_actpass_path = barnase_pass2act,\n",
    "    properties          = def_dict({'active_list' : '27,73,83,87'})\n",
    ")\n",
    "\n",
    "haddock3_passive_from_active( \n",
    "    input_pdb_path      = barstar_pdb_ch,\n",
    "    output_actpass_path = barstar_pass2act,\n",
    "    properties          = def_dict({'active_list' : '33,35,39,43'})\n",
    ")"
   ]
  },
  {
   "cell_type": "code",
   "execution_count": null,
   "id": "46aab9fd",
   "metadata": {},
   "outputs": [],
   "source": [
    "view1 = display_actpass(barnase_pdb_ch, barnase_pass2act, opacity=0.3)\n",
    "view2 = display_actpass(barstar_pdb_ch, barstar_pass2act, opacity=0.3)\n",
    "ipywidgets.HBox([view1, view2])"
   ]
  },
  {
   "cell_type": "code",
   "execution_count": null,
   "id": "40c6033a",
   "metadata": {},
   "outputs": [],
   "source": [
    "# Convert active/passive to ambiguous restraints\n",
    "from biobb_haddock.haddock_restraints.haddock3_actpass_to_ambig import haddock3_actpass_to_ambig\n",
    "\n",
    "# With SASA\n",
    "barnase_barstar_sasa_tbl = f'{out_path}barnase_barstar_sasa.tbl'\n",
    "haddock3_actpass_to_ambig( \n",
    "    input_actpass1_path = barnase_sasa_actpass,\n",
    "    input_actpass2_path = barstar_sasa_actpass,    \n",
    "    output_tbl_path     = barnase_barstar_sasa_tbl,\n",
    "    properties          = def_dict({'pass_to_act' : True,  # tbl need actives, we use the passive as active\n",
    "                                    'segid_one': barnase_ch, \n",
    "                                    'segid_two': barstar_ch}))\n",
    "\n",
    "# With manual active/passive\n",
    "barnase_barstar_manual_tbl = f'{out_path}barnase_barstar_manual.tbl'\n",
    "haddock3_actpass_to_ambig( \n",
    "    input_actpass1_path = barnase_pass2act,\n",
    "    input_actpass2_path = barstar_pass2act,    \n",
    "    output_tbl_path     = barnase_barstar_manual_tbl,\n",
    "    properties          = def_dict({'segid_one': barnase_ch,\n",
    "                                    'segid_two': barstar_ch}))\n",
    "\n",
    "# The restrain have the next format:\n",
    "# assign (selection1) (selection2) distance, lower-bound correction, upper-bound correction"
   ]
  },
  {
   "cell_type": "code",
   "execution_count": null,
   "id": "16b3e559",
   "metadata": {},
   "outputs": [],
   "source": [
    "# Validate tbl\n",
    "!haddock3-restraints validate_tbl {barnase_barstar_sasa_tbl} --silent\n",
    "!haddock3-restraints validate_tbl {barnase_barstar_manual_tbl} --silent"
   ]
  },
  {
   "cell_type": "markdown",
   "id": "53ca348c",
   "metadata": {},
   "source": [
    "## Docking"
   ]
  },
  {
   "cell_type": "code",
   "execution_count": null,
   "id": "010cc965",
   "metadata": {},
   "outputs": [],
   "source": [
    "barnase_pdb_ch = f'{out_path}{barnase_id}_ch.pdb'\n",
    "barstar_pdb_ch = f'{out_path}{barstar_id}_ch.pdb'\n",
    "complex_pdb_ch = f'{out_path}{complex_id}_ch.pdb'\n",
    "barnase_barstar_manual_tbl = 'data/barnase_barstar/barnase_barstar_manual.tbl'"
   ]
  },
  {
   "cell_type": "markdown",
   "id": "083f28de",
   "metadata": {},
   "source": [
    "### 0. Topology"
   ]
  },
  {
   "cell_type": "code",
   "execution_count": null,
   "id": "de15e97d",
   "metadata": {},
   "outputs": [],
   "source": [
    "from biobb_haddock.haddock.topology import topology\n",
    "\n",
    "properties=def_dict({\n",
    "    'cfg': {\n",
    "        'tolerance': 0,\n",
    "    },\n",
    "})\n",
    "\n",
    "step_idx = 0\n",
    "barnase_top_zip_path = f'{out_path}{step_idx}/barnase_top.zip'\n",
    "barstar_top_zip_path = f'{out_path}{step_idx}/barstar_top.zip'\n",
    "wf_topology          = f'{out_path}{step_idx}/wf_topology.zip'\n",
    "\n",
    "topology(mol1_input_pdb_path        = barnase_pdb_ch,\n",
    "         mol2_input_pdb_path        = barstar_pdb_ch,\n",
    "         mol1_output_top_zip_path   = barnase_top_zip_path,\n",
    "         mol2_output_top_zip_path   = barstar_top_zip_path,\n",
    "         output_haddock_wf_data_zip = wf_topology,\n",
    "         properties                 = properties)"
   ]
  },
  {
   "cell_type": "markdown",
   "id": "223db566",
   "metadata": {},
   "source": [
    "### 1. Rigid body docking"
   ]
  },
  {
   "cell_type": "code",
   "execution_count": null,
   "id": "5cd2d632",
   "metadata": {},
   "outputs": [],
   "source": [
    "from biobb_haddock.haddock.rigid_body import rigid_body\n",
    "\n",
    "properties=def_dict({\n",
    "    'cfg': {\n",
    "        'tolerance': 5,\n",
    "        'sampling': 10,\n",
    "        # turn on random definiton of AIRs\n",
    "        'ranair': False\n",
    "    },\n",
    "})\n",
    "\n",
    "step_idx = 1\n",
    "docking_output_zip_path = f'{out_path}{step_idx}/docking.zip'\n",
    "wf_rigidbody            = f'{out_path}{step_idx}/wf_rigidbody.zip'\n",
    "\n",
    "rigid_body(input_haddock_wf_data_zip   = wf_topology,\n",
    "           docking_output_zip_path     = docking_output_zip_path,\n",
    "           ambig_restraints_table_path = barnase_barstar_manual_tbl,\n",
    "           output_haddock_wf_data_zip  = wf_rigidbody,\n",
    "           properties                  = properties)"
   ]
  },
  {
   "cell_type": "code",
   "execution_count": null,
   "id": "86c17622",
   "metadata": {},
   "outputs": [],
   "source": [
    "folder = docking_output_zip_path[:-4]\n",
    "if os.path.exists(folder):\n",
    "    shutil.rmtree(folder)\n",
    "if not os.path.exists(folder):\n",
    "    os.makedirs(folder)\n",
    "\n",
    "with zipfile.ZipFile(docking_output_zip_path, 'r') as zip_ref:\n",
    "    zip_ref.extractall(folder)"
   ]
  },
  {
   "cell_type": "code",
   "execution_count": null,
   "id": "b795e74b",
   "metadata": {},
   "outputs": [],
   "source": [
    "import pytraj as pt\n",
    "import glob\n",
    "\n",
    "pdb_dir = \"data/barnase_barstar/1/docking/\"\n",
    "pdb_files = sorted(glob.glob(f\"{pdb_dir}/*.pdb.gz\"))\n",
    "def show_aligned(chain):\n",
    "    # Get all PDB files and sort them\n",
    "    # Create a trajectory from the PDB files\n",
    "    traj = pt.iterload(pdb_files, top=pdb_files[0])\n",
    "    # Save the trajectory\n",
    "    # pt.write_traj(f\"{pdb_dir}/combined_{chain}_aligned.dcd\", traj, overwrite=True)\n",
    "    pt.align(traj, ref=0, mask=f'::{chain}')\n",
    "    traj.save(f\"{pdb_dir}/combined_{chain}_aligned_clust.pdb\", options=\"model\", overwrite=True)\n",
    "    view = nv.show_pytraj(traj)\n",
    "    view.layout.width = '100%'\n",
    "    return view"
   ]
  },
  {
   "cell_type": "code",
   "execution_count": null,
   "id": "28a0e0c9",
   "metadata": {},
   "outputs": [],
   "source": [
    "view1 = show_aligned('B') # barnase\n",
    "view2 = show_aligned('A') # barstar\n",
    "\n",
    "# Display the viewer\n",
    "ipywidgets.HBox([view1, view2])"
   ]
  },
  {
   "cell_type": "code",
   "execution_count": null,
   "id": "4863cc3a",
   "metadata": {},
   "outputs": [],
   "source": [
    "view1 = nv.show_structure_file(f\"{pdb_dir}/combined_A_aligned_clust.pdb\", default_representation=False)\n",
    "view2 = nv.show_structure_file(f\"{pdb_dir}/combined_B_aligned_clust.pdb\", default_representation=False)\n",
    "view1.add_ribbon(color='chainIndex')\n",
    "view2.add_ribbon(color='chainIndex')\n",
    "view1.layout.width = '100%'\n",
    "view2.layout.width = '100%'\n",
    "# Display the viewer\n",
    "box = ipywidgets.HBox([view1, view2])\n",
    "display(box)\n",
    "# Create a dropdown widget\n",
    "opts = ['All']\n",
    "opts.extend([pdb_file.split('/')[-1].split('.')[0] for pdb_file in pdb_files])\n",
    "mdsel = ipywidgets.Dropdown(\n",
    "    options=opts,\n",
    "    description='Sel. model:',\n",
    "    disabled=False,\n",
    ")\n",
    "display(mdsel)\n",
    "\n",
    "def on_dropdown_change(change):\n",
    "    \"\"\"Handle dropdown selection changes.\n",
    "    From https://github.com/nglviewer/nglview/issues/765\n",
    "    \"\"\"\n",
    "    if change['type'] == 'change' and change['name'] == 'value': \n",
    "        selected_file = change['new']\n",
    "        if selected_file=='All':\n",
    "            view1._remote_call('setSelection', target='compList', args=[\"*\"], \n",
    "               kwargs=dict(component_index=0))\n",
    "            view2._remote_call('setSelection', target='compList', args=[\"*\"], \n",
    "               kwargs=dict(component_index=0))\n",
    "        else:\n",
    "            # Extract model number from the filename\n",
    "            model_num = selected_file.split('_')[1]\n",
    "            print(f\"Selected model: {model_num}\")\n",
    "            # Update the view with the selected model\n",
    "            view1._remote_call('setSelection', target='compList', \n",
    "                            args=[f\"/{model_num}\"], \n",
    "                            kwargs=dict(component_index=0))\n",
    "            # You can also update view2 if needed\n",
    "            view2._remote_call('setSelection', target='compList', \n",
    "                            args=[f\"/{model_num}\"], \n",
    "                            kwargs=dict(component_index=0))\n",
    "\n",
    "# Register the callback function\n",
    "mdsel.observe(on_dropdown_change, names='value')"
   ]
  },
  {
   "cell_type": "markdown",
   "id": "d1987bad",
   "metadata": {},
   "source": [
    "### 2. CAPRI eval"
   ]
  },
  {
   "cell_type": "code",
   "execution_count": null,
   "id": "fe766d42",
   "metadata": {},
   "outputs": [],
   "source": [
    "from biobb_haddock.haddock.capri_eval import capri_eval\n",
    "\n",
    "output_evaluation_zip_path = f'{out_path}2/caprieval.zip'\n",
    "wf_caprieval               = f'{out_path}2/wf_caprieval.zip'\n",
    "\n",
    "capri_eval(input_haddock_wf_data_zip  = wf_rigidbody,\n",
    "           reference_pdb_path         = complex_pdb_ch,\n",
    "           output_evaluation_zip_path = output_evaluation_zip_path,\n",
    "           output_haddock_wf_data_zip = wf_caprieval,\n",
    "           properties = def_dict())"
   ]
  },
  {
   "cell_type": "code",
   "execution_count": null,
   "id": "ee712a19",
   "metadata": {},
   "outputs": [],
   "source": [
    "with zipfile.ZipFile(wf_caprieval, 'r') as zip_ref:\n",
    "    zip_ref.extractall(wf_caprieval[:-4])\n",
    "    \n",
    "#webbrowser.open(f\"http://0.0.0.0:8000/{wf_caprieval[:-4]}/analysis/2_caprieval_analysis/report.html\")\n",
    "#!python3 -m http.server"
   ]
  },
  {
   "cell_type": "code",
   "execution_count": null,
   "id": "eec024af",
   "metadata": {},
   "outputs": [],
   "source": [
    "tsv_dir = wf_caprieval[:-4]+'/2_caprieval/'\n",
    "# Load the cluster and single data into pandas DataFrames\n",
    "cluster_df = pd.read_csv(tsv_dir + 'capri_clt.tsv', sep='\\t',comment='#')\n",
    "single_df = pd.read_csv(tsv_dir + 'capri_ss.tsv', sep='\\t',comment='#')\n",
    "\n",
    "# DockQ: incorrect (<0.23), acceptable (0.23-0.49), medium (0.49-0.80), and high (>=0.80) \n",
    "display(single_df.head())\n",
    "single_df = single_df.sort_values(by='dockq', ascending=False)\n",
    "display(single_df.head())\n",
    "display(cluster_df.head())"
   ]
  },
  {
   "cell_type": "code",
   "execution_count": null,
   "id": "731cbf5c",
   "metadata": {},
   "outputs": [],
   "source": [
    "import gzip\n",
    "import shutil\n",
    "best_pdb = os.path.normpath(os.path.join(tsv_dir, single_df['model'][0]))\n",
    "# Decompress the .gz file\n",
    "with gzip.open(best_pdb + '.gz', 'rb') as f_in:\n",
    "    with open(best_pdb, 'wb') as f_out:\n",
    "        shutil.copyfileobj(f_in, f_out)"
   ]
  },
  {
   "cell_type": "code",
   "execution_count": null,
   "id": "5eefb7f7",
   "metadata": {},
   "outputs": [],
   "source": [
    "show_pdbs([best_pdb, complex_pdb_ch])"
   ]
  },
  {
   "cell_type": "code",
   "execution_count": null,
   "id": "cd974ec9",
   "metadata": {},
   "outputs": [],
   "source": [
    "# the reference and the input proteins have diferent number of residues/atoms, \n",
    "# so a fit based on rmsd like pytraj does fails\n",
    "\n",
    "# # TODO: meter en structure utils\n",
    "from Bio.PDB import PDBParser, PDBIO\n",
    "from Bio.PDB.cealign import CEAligner\n",
    "\n",
    "# Parse the structures\n",
    "parser = PDBParser(QUIET=True)\n",
    "structure1 = parser.get_structure(\"complex_pdb_ch\", complex_pdb_ch)\n",
    "structure2 = parser.get_structure(\"best_pdb\", best_pdb)\n",
    "    \n",
    "# Perform CE alignment\n",
    "aligner = CEAligner()\n",
    "aligner.set_reference(structure1)\n",
    "aligner.align(structure2)\n",
    "\n",
    "# Save structure2 to a PDB file\n",
    "output_pdb_path = f\"{out_path}aligned_structure2.pdb\"\n",
    "io = PDBIO()\n",
    "io.set_structure(structure2)\n",
    "io.save(output_pdb_path)"
   ]
  },
  {
   "cell_type": "code",
   "execution_count": null,
   "id": "c63cc0c3",
   "metadata": {},
   "outputs": [],
   "source": [
    "view = nv.show_structure_file(output_pdb_path)\n",
    "view.add_component(complex_pdb_ch)\n",
    "view.clear()\n",
    "view.component_0.add_cartoon(selection=f':{barnase_ch}', color='red')\n",
    "view.component_0.add_cartoon(selection=f':{barstar_ch}', color='pink')\n",
    "view.component_1.clear()\n",
    "view.component_1.add_cartoon(selection=f':{complex_ch[0]}', color='blue')\n",
    "view.component_1.add_cartoon(selection=f':{complex_ch[-1]}', color='cyan')\n",
    "view"
   ]
  },
  {
   "cell_type": "markdown",
   "id": "2a10727a",
   "metadata": {},
   "source": [
    "### 3. Extend docking"
   ]
  },
  {
   "cell_type": "code",
   "execution_count": null,
   "id": "f73e8d83",
   "metadata": {},
   "outputs": [],
   "source": [
    "# Files are relative to the input_haddock_wf_data_zip\n",
    "cfg =\"\"\"\n",
    "[seletop]\n",
    "select = 25\n",
    "\n",
    "[caprieval]\n",
    "reference_fname = \"./data/2_caprieval/1BRS_ch.pdb\"\n",
    "\n",
    "[flexref]\n",
    "tolerance = 5\n",
    "ambig_fname = \"./data/1_rigidbody/barnase_barstar_manual.tbl\"\n",
    "\n",
    "[caprieval]\n",
    "reference_fname = \"./data/2_caprieval/1BRS_ch.pdb\"\n",
    "\n",
    "[emref]\n",
    "tolerance = 5\n",
    "ambig_fname = \"./data/1_rigidbody/barnase_barstar_manual.tbl\"\n",
    "\n",
    "[caprieval]\n",
    "reference_fname = \"./data/2_caprieval/1BRS_ch.pdb\"\n",
    "# ====================================================================\n",
    "\"\"\"\n",
    "haddock_config_path        = f'{out_path}docking-barnase-barstar.cfg'\n",
    "\n",
    "with open(haddock_config_path, 'w') as config_file:\n",
    "    config_file.write(cfg)"
   ]
  },
  {
   "cell_type": "code",
   "execution_count": null,
   "id": "ea83ce5f",
   "metadata": {},
   "outputs": [],
   "source": [
    "from biobb_haddock.haddock.haddock3_extend import haddock3_extend\n",
    "\n",
    "output_haddock_wf_data_zip = f'{out_path}3/extend_wf.zip'  \n",
    "\n",
    "haddock3_extend(input_haddock_wf_data_zip  = wf_caprieval,\n",
    "                haddock_config_path        = haddock_config_path,\n",
    "                output_haddock_wf_data_zip = output_haddock_wf_data_zip,\n",
    "                properties = def_dict())"
   ]
  },
  {
   "cell_type": "code",
   "execution_count": null,
   "id": "dc943a80",
   "metadata": {},
   "outputs": [],
   "source": [
    "with zipfile.ZipFile(output_haddock_wf_data_zip, 'r') as zip_ref:\n",
    "    zip_ref.extractall(output_haddock_wf_data_zip[:-4])\n",
    "    \n",
    "webbrowser.open(\"http://localhost:8888/edit/biobb_wf_haddock/notebooks/data/barnase_barstar/3/extend_wf/analysis/8_caprieval_analysis/report.html\")\n",
    "#!python3 -m http.server"
   ]
  },
  {
   "cell_type": "code",
   "execution_count": null,
   "id": "a879c154",
   "metadata": {},
   "outputs": [],
   "source": [
    "from IPython.display import IFrame\n",
    "#display(IFrame(src='/path/to/your/file.html', width=800, height=600))"
   ]
  },
  {
   "cell_type": "code",
   "execution_count": null,
   "id": "cc83a06a",
   "metadata": {},
   "outputs": [],
   "source": [
    "tsv_dir = output_haddock_wf_data_zip[:-4]+'/8_caprieval/'\n",
    "# Load the cluster and single data into pandas DataFrames\n",
    "cluster_df = pd.read_csv(tsv_dir + 'capri_clt.tsv', sep='\\t',comment='#')\n",
    "single_df = pd.read_csv(tsv_dir + 'capri_ss.tsv', sep='\\t',comment='#')\n",
    "\n",
    "# DockQ: incorrect (<0.23), acceptable (0.23-0.49), medium (0.49-0.80), and high (>=0.80) \n",
    "display(single_df.head())\n",
    "single_df = single_df.sort_values(by='dockq', ascending=False)\n",
    "display(single_df.head())\n",
    "display(cluster_df.head())"
   ]
  }
 ],
 "metadata": {
  "kernelspec": {
   "display_name": "biobb_wf_haddock",
   "language": "python",
   "name": "python3"
  },
  "language_info": {
   "codemirror_mode": {
    "name": "ipython",
    "version": 3
   },
   "file_extension": ".py",
   "mimetype": "text/x-python",
   "name": "python",
   "nbconvert_exporter": "python",
   "pygments_lexer": "ipython3",
   "version": "3.12.10"
  }
 },
 "nbformat": 4,
 "nbformat_minor": 5
}
