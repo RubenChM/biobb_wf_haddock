{
 "cells": [
  {
   "cell_type": "code",
   "execution_count": 2,
   "metadata": {},
   "outputs": [
    {
     "data": {
      "application/vnd.jupyter.widget-view+json": {
       "model_id": "2162433338d64c00b2bc0f2c4a6d3dd1",
       "version_major": 2,
       "version_minor": 0
      },
      "text/plain": []
     },
     "metadata": {},
     "output_type": "display_data"
    }
   ],
   "source": [
    "# TO BE REMOVED!!!\n",
    "%load_ext autoreload\n",
    "%autoreload 2\n",
    "import os, shutil\n",
    "import nglview as nv\n",
    "import ipywidgets\n",
    "import zipfile\n",
    "import webbrowser\n",
    "\n",
    "antibody_id = '4G6K'\n",
    "antigen_id  = '4I1B'\n",
    "complex_id  = '4C6M'\n",
    "out_path = './data/antibody/'"
   ]
  },
  {
   "cell_type": "code",
   "execution_count": 44,
   "metadata": {},
   "outputs": [],
   "source": [
    "def show_pdbs(pdbs, surface=False):\n",
    "    # Load the PDB files\n",
    "    views = [nv.show_file(pdb) for pdb in pdbs]\n",
    "    for view in views:\n",
    "        if surface:\n",
    "            view.clear()\n",
    "            view.add_cartoon(color='black')\n",
    "            view.add_surface(color='electrostatic', opacity=0.5)\n",
    "        view.layout.width = '100%'\n",
    "    return ipywidgets.HBox(views)\n",
    "\n",
    "def display_actpass(pdb, actpass, opacity=1):\n",
    "    with open(actpass, 'r') as file:\n",
    "        actpass = file.read().splitlines()\n",
    "        act_res = actpass[0].replace(' ', ', ')\n",
    "        pas_res = actpass[1].replace(' ', ', ')\n",
    "        \n",
    "    # Load the PDB files\n",
    "    view = nv.NGLWidget()\n",
    "    view.add_component(pdb)\n",
    "    view.clear()\n",
    "    view.add_cartoon(color='black')\n",
    "    view.add_ball_and_stick(color='grey',opacity=opacity)\n",
    "    view.add_surface(selection=f'not ( {pas_res}, {act_res} )', color='white', opacity=opacity)\n",
    "    if act_res != '':\n",
    "        view.add_surface(selection=f'{act_res}', color='red')\n",
    "    if pas_res != '':\n",
    "        view.add_surface(selection=f'{pas_res}', color='green', opacity=opacity)\n",
    "    view.layout.width = '100%'\n",
    "    return view"
   ]
  },
  {
   "cell_type": "markdown",
   "metadata": {},
   "source": [
    "# Antibody use case\n",
    "\n",
    "***\n",
    "This tutorial aims to illustrate the process of \n",
    "***\n"
   ]
  },
  {
   "cell_type": "markdown",
   "metadata": {},
   "source": [
    "## Settings"
   ]
  },
  {
   "cell_type": "markdown",
   "metadata": {},
   "source": [
    "### Biobb modules used\n",
    "\n",
    " - [biobb_io](https://github.com/bioexcel/biobb_io): Tools to fetch biomolecular data from public databases.\n",
    " - [biobb_model](https://github.com/bioexcel/biobb_model): Tools to model macromolecular structures.\n",
    " - [biobb_gromacs](https://github.com/bioexcel/biobb_gromacs): Tools to setup and run Molecular Dynamics simulations.\n",
    " - [biobb_analysis](https://github.com/bioexcel/biobb_analysis): Tools to analyse Molecular Dynamics trajectories.\n",
    " \n",
    "### Auxiliar libraries used\n",
    "\n",
    " - [nb_conda_kernels](https://github.com/Anaconda-Platform/nb_conda_kernels): Enables a Jupyter Notebook or JupyterLab application in one conda environment to access kernels for Python, R, and other languages found in other environments.\n",
    " - [nglview](http://nglviewer.org/#nglview): Jupyter/IPython widget to interactively view molecular structures and trajectories in notebooks.\n",
    " - [ipywidgets](https://github.com/jupyter-widgets/ipywidgets): Interactive HTML widgets for Jupyter notebooks and the IPython kernel.\n",
    " - [plotly](https://plot.ly/python/offline/): Python interactive graphing library integrated in Jupyter notebooks.\n",
    " - [simpletraj](https://github.com/arose/simpletraj): Lightweight coordinate-only trajectory reader based on code from GROMACS, MDAnalysis and VMD.\n",
    "\n",
    "### Conda Installation and Launch\n",
    "\n",
    "```console\n",
    "git clone https://github.com/bioexcel/biobb_wf_md_setup.git\n",
    "cd biobb_wf_md_setup\n",
    "conda env create -f conda_env/environment.yml\n",
    "conda activate biobb_GMX_MDsetup_tutorial\n",
    "jupyter nbextension enable python-markdown/main\n",
    "jupyter-notebook biobb_wf_md_setup/notebooks/biobb_MDsetup_tutorial.ipynb\n",
    "```\n",
    "\n",
    "Please execute the following commands before launching the Jupyter Notebook if you experience some issues with widgets such as NGL View (3D molecular visualization):\n",
    "\n",
    "```console\n",
    "jupyter-nbextension enable --py --user widgetsnbextension\n",
    "jupyter-nbextension enable --py --user nglview\n",
    "```\n",
    "\n",
    "***\n"
   ]
  },
  {
   "cell_type": "markdown",
   "metadata": {},
   "source": [
    "## Pipeline steps"
   ]
  },
  {
   "cell_type": "markdown",
   "metadata": {},
   "source": [
    "\n",
    " 1. [Input Parameters](#input)\n",
    " 2. [Fetching PDB Structure](#fetch)\n",
    " 3. [Fix Protein Structure](#fix)\n",
    " 4. [Create Protein System Topology](#top)\n",
    " 5. [Create Solvent Box](#box)\n",
    " 6. [Fill the Box with Water Molecules](#water)\n",
    " 7. [Adding Ions](#ions)\n",
    " 8. [Energetically Minimize the System](#min)\n",
    " 9. [Equilibrate the System (NVT)](#nvt)\n",
    " 10. [Equilibrate the System (NPT)](#npt)\n",
    " 11. [Free Molecular Dynamics Simulation](#free)\n",
    " 12. [Post-processing and Visualizing Resulting 3D Trajectory](#post)\n",
    " 13. [Output Files](#output)\n",
    " 14. [Questions & Comments](#questions)\n",
    " \n",
    "***\n",
    "<img src=\"https://bioexcel.eu/wp-content/uploads/2019/04/Bioexcell_logo_1080px_transp.png\" alt=\"Bioexcel2 logo\"\n",
    "    title=\"Bioexcel2 logo\" width=\"400\" />\n",
    "***\n"
   ]
  },
  {
   "cell_type": "markdown",
   "metadata": {},
   "source": [
    "## Sampling using ensemble from MD with GROMACS"
   ]
  },
  {
   "cell_type": "code",
   "execution_count": null,
   "metadata": {},
   "outputs": [],
   "source": [
    "# https://mmb.irbbarcelona.org/biobb/workflows/tutorials/biobb_wf_flexdyn\n",
    "# https://github.com/bioexcel/biobb_wf_flexdyn\n",
    "# https://github.com/alevil-gmx/workflow_template/blob/main/workflow_template/workshop-template-ab.ipynb"
   ]
  },
  {
   "cell_type": "markdown",
   "metadata": {},
   "source": [
    "<a id=\"input\"></a>\n",
    "### Input parameters\n",
    "**Input parameters** needed:\n",
    " - **pdbCode**: PDB code of the protein structure (e.g. 1AKI)"
   ]
  },
  {
   "cell_type": "code",
   "execution_count": null,
   "metadata": {},
   "outputs": [
    {
     "data": {
      "application/vnd.jupyter.widget-view+json": {
       "model_id": "dc1b6a8756e44a06aefdd3b03c305532",
       "version_major": 2,
       "version_minor": 0
      },
      "text/plain": []
     },
     "metadata": {},
     "output_type": "display_data"
    }
   ],
   "source": [
    "import nglview\n",
    "import ipywidgets\n",
    "import os\n",
    "\n",
    "cwd = os.getcwd()\n",
    "pdbCode = \"4G6K\""
   ]
  },
  {
   "cell_type": "markdown",
   "metadata": {},
   "source": [
    "<a id=\"fetch\"></a>\n",
    "***\n",
    "### Fetching PDB structure\n",
    "Downloading **PDB structure** with the **protein molecule** from the RCSB PDB database.<br>\n",
    "Alternatively, a **PDB file** can be used as starting structure. <br>\n",
    "***\n",
    "**Building Blocks** used:\n",
    " - [Pdb](https://biobb-io.readthedocs.io/en/latest/api.html#module-api.pdb) from **biobb_io.api.pdb**\n",
    "***"
   ]
  },
  {
   "cell_type": "code",
   "execution_count": 54,
   "metadata": {},
   "outputs": [
    {
     "name": "stdout",
     "output_type": "stream",
     "text": [
      "2023-09-28 17:23:08,735 [MainThread  ] [INFO ]  Executing biobb_io.api.pdb Version: 4.1.0\n",
      "2023-09-28 17:23:08,736 [MainThread  ] [INFO ]  Downloading 3rvt from: https://www.ebi.ac.uk/pdbe/entry-files/download/pdb3rvt.ent\n",
      "2023-09-28 17:23:09,548 [MainThread  ] [INFO ]  Writting pdb to: 3RVT.pdb\n",
      "2023-09-28 17:23:09,551 [MainThread  ] [INFO ]  Filtering lines NOT starting with one of these words: ['ATOM', 'MODEL', 'ENDMDL']\n"
     ]
    },
    {
     "data": {
      "text/plain": [
       "0"
      ]
     },
     "execution_count": 54,
     "metadata": {},
     "output_type": "execute_result"
    }
   ],
   "source": [
    "# Downloading desired PDB file \n",
    "# Import module\n",
    "from biobb_io.api.pdb import pdb\n",
    "\n",
    "# Create properties dict and inputs/outputs\n",
    "downloaded_pdb = pdbCode+'.pdb'\n",
    "prop = {\n",
    "    'pdb_code': pdbCode\n",
    "}\n",
    "\n",
    "#Create and launch bb\n",
    "pdb(output_pdb_path=downloaded_pdb,\n",
    "    properties=prop)"
   ]
  },
  {
   "cell_type": "markdown",
   "metadata": {},
   "source": [
    "<a id=\"vis3D\"></a>\n",
    "#### Visualizing 3D structure\n",
    "Visualizing the downloaded/given **PDB structure** using **NGL**:    "
   ]
  },
  {
   "cell_type": "code",
   "execution_count": 114,
   "metadata": {},
   "outputs": [
    {
     "data": {
      "application/vnd.jupyter.widget-view+json": {
       "model_id": "de94facc8caf4e94b314a07a5a781271",
       "version_major": 2,
       "version_minor": 0
      },
      "text/plain": [
       "NGLWidget()"
      ]
     },
     "metadata": {},
     "output_type": "display_data"
    }
   ],
   "source": [
    "# Show protein\n",
    "view = nglview.show_structure_file(downloaded_pdb)\n",
    "view.add_representation(repr_type='ball+stick', selection='all')\n",
    "view._remote_call('setSize', target='Widget', args=['','600px'])\n",
    "view"
   ]
  },
  {
   "cell_type": "markdown",
   "metadata": {},
   "source": [
    "<a id=\"fix\"></a>\n",
    "***\n",
    "### Fix protein structure\n",
    "**Checking** and **fixing** (if needed) the protein structure:<br>\n",
    "- **Modeling** **missing side-chain atoms**, modifying incorrect **amide assignments**, choosing **alternative locations**.<br>\n",
    "- **Checking** for missing **backbone atoms**, **heteroatoms**, **modified residues** and possible **atomic clashes**.\n",
    "\n",
    "***\n",
    "**Building Blocks** used:\n",
    " - [FixSideChain](https://biobb-model.readthedocs.io/en/latest/model.html#module-model.fix_side_chain) from **biobb_model.model.fix_side_chain**\n",
    "***"
   ]
  },
  {
   "cell_type": "code",
   "execution_count": 56,
   "metadata": {},
   "outputs": [
    {
     "name": "stdout",
     "output_type": "stream",
     "text": [
      "2023-09-28 17:23:14,935 [MainThread  ] [INFO ]  Executing biobb_model.model.fix_side_chain Version: 4.1.0\n",
      "2023-09-28 17:23:14,937 [MainThread  ] [INFO ]  Copy: 3RVT.pdb to /Users/hospital/BioBB/Antibody/BioBB/biobb_wf_md_setup/biobb_wf_md_setup/notebooks/eeabf494-9106-4f20-a5a4-2fec1dbdc0f4\n",
      "2023-09-28 17:23:14,939 [MainThread  ] [INFO ]  check_structure -i /Users/hospital/BioBB/Antibody/BioBB/biobb_wf_md_setup/biobb_wf_md_setup/notebooks/eeabf494-9106-4f20-a5a4-2fec1dbdc0f4/3RVT.pdb -o /Users/hospital/BioBB/Antibody/BioBB/biobb_wf_md_setup/biobb_wf_md_setup/notebooks/eeabf494-9106-4f20-a5a4-2fec1dbdc0f4/3RVT_fixed.pdb --force_save fixside --fix ALL\n",
      "\n",
      "2023-09-28 17:23:15,368 [MainThread  ] [INFO ]  Exit code 0\n",
      "\n",
      "2023-09-28 17:23:15,370 [MainThread  ] [INFO ]  ================================================================================\n",
      "=                   BioBB structure checking utility v3.13.4                   =\n",
      "=            P. Andrio, A. Hospital, G. Bayarri, J.L. Gelpi 2018-23            =\n",
      "================================================================================\n",
      "\n",
      "Warning: sequence features may not be available, use --sequence for  external fasta input\n",
      "Structure /Users/hospital/BioBB/Antibody/BioBB/biobb_wf_md_setup/biobb_wf_md_setup/notebooks/eeabf494-9106-4f20-a5a4-2fec1dbdc0f4/3RVT.pdb loaded\n",
      " PDB id:  \n",
      " Title: \n",
      " Experimental method: unknown\n",
      " Resolution (A): N.A.\n",
      "\n",
      " Num. models: 1\n",
      " Num. chains: 2 (C: Protein, D: Protein)\n",
      " Num. residues:  435\n",
      " Num. residues with ins. codes:  0\n",
      " Num. residues with H atoms: 0\n",
      " Num. HETATM residues:  0\n",
      " Num. ligands or modified residues:  0\n",
      " Num. water mol.:  0\n",
      " Num. atoms:  3378\n",
      "Running fixside. Options: --fix ALL\n",
      "Found 1 Residues with missing side chain atoms\n",
      " ASP D222   CG,OD1,OD2\n",
      "Fixing side chains\n",
      "ASP D222\n",
      "  Adding new atom CG\n",
      "  Adding new atom OD1\n",
      "  Adding new atom OD2\n",
      "Fixed 1 side chain(s)\n",
      "Checking for steric clashes\n",
      "No severe clashes detected\n",
      "No apolar clashes detected\n",
      "No polar_acceptor clashes detected\n",
      "No polar_donor clashes detected\n",
      "No positive clashes detected\n",
      "No negative clashes detected\n",
      "Final Num. models: 1\n",
      "Final Num. chains: 2 (C: Protein, D: Protein)\n",
      "Final Num. residues:  435\n",
      "Final Num. residues with ins. codes:  0\n",
      "Final Num. residues with H atoms: 0\n",
      "Final Num. HETATM residues:  0\n",
      "Final Num. ligands or modified residues:  0\n",
      "Final Num. water mol.:  0\n",
      "Final Num. atoms:  3381\n",
      "Structure saved on /Users/hospital/BioBB/Antibody/BioBB/biobb_wf_md_setup/biobb_wf_md_setup/notebooks/eeabf494-9106-4f20-a5a4-2fec1dbdc0f4/3RVT_fixed.pdb\n",
      "\n",
      "2023-09-28 17:23:15,372 [MainThread  ] [INFO ]  Removed: ['/Users/hospital/BioBB/Antibody/BioBB/biobb_wf_md_setup/biobb_wf_md_setup/notebooks/eeabf494-9106-4f20-a5a4-2fec1dbdc0f4']\n"
     ]
    },
    {
     "data": {
      "text/plain": [
       "0"
      ]
     },
     "execution_count": 56,
     "metadata": {},
     "output_type": "execute_result"
    }
   ],
   "source": [
    "# Check & Fix PDB\n",
    "# Import module\n",
    "from biobb_model.model.fix_side_chain import fix_side_chain\n",
    "\n",
    "# Create prop dict and inputs/outputs\n",
    "fixed_pdb = pdbCode + '_fixed.pdb'\n",
    "\n",
    "# Create and launch bb\n",
    "fix_side_chain(input_pdb_path=downloaded_pdb, \n",
    "             output_pdb_path=fixed_pdb)"
   ]
  },
  {
   "cell_type": "markdown",
   "metadata": {},
   "source": [
    "#### Visualizing 3D structure\n",
    "Visualizing the fixed **PDB structure** using **NGL**. In this particular example, the checking step didn't find any issue to be solved, so there is no difference between the original structure and the fixed one.   "
   ]
  },
  {
   "cell_type": "code",
   "execution_count": 57,
   "metadata": {},
   "outputs": [
    {
     "data": {
      "application/vnd.jupyter.widget-view+json": {
       "model_id": "69f91961da9e4152a032a19e75aa46a9",
       "version_major": 2,
       "version_minor": 0
      },
      "text/plain": [
       "NGLWidget()"
      ]
     },
     "metadata": {},
     "output_type": "display_data"
    }
   ],
   "source": [
    "# Show protein\n",
    "view = nglview.show_structure_file(fixed_pdb)\n",
    "view.add_representation(repr_type='ball+stick', selection='all')\n",
    "view._remote_call('setSize', target='Widget', args=['','600px'])\n",
    "view.camera='orthographic'\n",
    "view"
   ]
  },
  {
   "cell_type": "markdown",
   "metadata": {},
   "source": [
    "<a id=\"top\"></a>\n",
    "***\n",
    "### Create protein system topology\n",
    "**Building GROMACS topology** corresponding to the protein structure.<br>\n",
    "Force field used in this tutorial is [**amber99sb-ildn**](https://dx.doi.org/10.1002%2Fprot.22711): AMBER **parm99** force field with **corrections on backbone** (sb) and **side-chain torsion potentials** (ildn). Water molecules type used in this tutorial is [**spc/e**](https://pubs.acs.org/doi/abs/10.1021/j100308a038).<br>\n",
    "Adding **hydrogen atoms** if missing. Automatically identifying **disulfide bridges**. <br>\n",
    "\n",
    "Generating two output files: \n",
    "- **GROMACS structure** (gro file)\n",
    "- **GROMACS topology** ZIP compressed file containing:\n",
    "    - *GROMACS topology top file* (top file)\n",
    "    - *GROMACS position restraint file/s* (itp file/s)\n",
    "***\n",
    "**Building Blocks** used:\n",
    " - [Pdb2gmx](https://biobb-md.readthedocs.io/en/latest/gromacs.html#module-gromacs.pdb2gmx) from **biobb_gromacs.gromacs.pdb2gmx**\n",
    "***"
   ]
  },
  {
   "cell_type": "code",
   "execution_count": 58,
   "metadata": {},
   "outputs": [
    {
     "name": "stdout",
     "output_type": "stream",
     "text": [
      "2023-09-28 17:23:29,670 [MainThread  ] [INFO ]  Executing biobb_gromacs.gromacs.pdb2gmx Version: 4.1.0\n",
      "2023-09-28 17:23:29,672 [MainThread  ] [INFO ]  Copy: 3RVT_fixed.pdb to /Users/hospital/BioBB/Antibody/BioBB/biobb_wf_md_setup/biobb_wf_md_setup/notebooks/129959a8-0770-414f-b137-f775506f5c4b\n",
      "2023-09-28 17:23:29,672 [MainThread  ] [INFO ]  GROMACS Pdb2gmx 20222 version detected\n",
      "2023-09-28 17:23:29,673 [MainThread  ] [INFO ]  gmx -nobackup -nocopyright pdb2gmx -f /Users/hospital/BioBB/Antibody/BioBB/biobb_wf_md_setup/biobb_wf_md_setup/notebooks/129959a8-0770-414f-b137-f775506f5c4b/3RVT_fixed.pdb -o /Users/hospital/BioBB/Antibody/BioBB/biobb_wf_md_setup/biobb_wf_md_setup/notebooks/129959a8-0770-414f-b137-f775506f5c4b/3RVT_pdb2gmx.gro -p p2g.top -water tip3p -ff charmm36-jul2017 -i posre.itp\n",
      "\n",
      "2023-09-28 17:23:30,788 [MainThread  ] [INFO ]  Exit code 0\n",
      "\n",
      "2023-09-28 17:23:30,789 [MainThread  ] [INFO ]  Using the Charmm36-jul2017 force field in directory /Users/hospital/BioBB/Antibody/BioBB/biobb_wf_md_setup/biobb_wf_md_setup/notebooks/inputs/charmm36-jul2017.ff\n",
      "\n",
      "going to rename /Users/hospital/BioBB/Antibody/BioBB/biobb_wf_md_setup/biobb_wf_md_setup/notebooks/inputs/charmm36-jul2017.ff/merged.r2b\n",
      "Reading /Users/hospital/BioBB/Antibody/BioBB/biobb_wf_md_setup/biobb_wf_md_setup/notebooks/129959a8-0770-414f-b137-f775506f5c4b/3RVT_fixed.pdb...\n",
      "Read '', 3390 atoms\n",
      "\n",
      "Analyzing pdb file\n",
      "Splitting chemical chains based on TER records or chain id changing.\n",
      "\n",
      "There are 2 chains and 0 blocks of water and 435 residues with 3390 atoms\n",
      "\n",
      "  chain  #res #atoms\n",
      "\n",
      "  1 'C'   213   1680  \n",
      "\n",
      "  2 'D'   222   1710  \n",
      "\n",
      "there were 0 atoms with zero occupancy and 18 atoms with          occupancy unequal to one (out of 3390 atoms). Check your pdb file.\n",
      "\n",
      "Reading residue database... (Charmm36-jul2017)\n",
      "\n",
      "Processing chain 1 'C' (1680 atoms, 213 residues)\n",
      "\n",
      "Identified residue GLN1 as a starting terminus.\n",
      "\n",
      "Identified residue GLU213 as a ending terminus.\n",
      "Start terminus GLN-1: NH3+\n",
      "End terminus GLU-213: COO-\n",
      "\n",
      "Checking for duplicate atoms....\n",
      "\n",
      "Generating any missing hydrogen atoms and/or adding termini.\n",
      "\n",
      "Now there are 213 residues with 3303 atoms\n",
      "Chain time...\n",
      "\n",
      "Making bonds...\n",
      "\n",
      "Number of bonds was 3342, now 3342\n",
      "\n",
      "Generating angles, dihedrals and pairs...\n",
      "\n",
      "Making cmap torsions...\n",
      "\n",
      "There are  211 cmap torsion pairs\n",
      "\n",
      "There are 8834 dihedrals,  557 impropers, 6004 angles\n",
      "          8689 pairs,     3342 bonds and     0 virtual sites\n",
      "\n",
      "Total mass 23912.724 a.m.u.\n",
      "\n",
      "Total charge 0.000 e\n",
      "\n",
      "Writing topology\n",
      "\n",
      "Processing chain 2 'D' (1710 atoms, 222 residues)\n",
      "\n",
      "Identified residue GLU1 as a starting terminus.\n",
      "\n",
      "Identified residue ASP222 as a ending terminus.\n",
      "Start terminus GLU-1: NH3+\n",
      "End terminus ASP-222: COO-\n",
      "\n",
      "Checking for duplicate atoms....\n",
      "\n",
      "Now there are 1701 atoms. Deleted 9 duplicates.\n",
      "\n",
      "Generating any missing hydrogen atoms and/or adding termini.\n",
      "\n",
      "Now there are 222 residues with 3361 atoms\n",
      "Chain time...\n",
      "\n",
      "Making bonds...\n",
      "\n",
      "Number of bonds was 3411, now 3411\n",
      "\n",
      "Generating angles, dihedrals and pairs...\n",
      "\n",
      "Making cmap torsions...\n",
      "\n",
      "There are  220 cmap torsion pairs\n",
      "\n",
      "There are 9107 dihedrals,  555 impropers, 6154 angles\n",
      "          8910 pairs,     3411 bonds and     0 virtual sites\n",
      "\n",
      "Total mass 24140.116 a.m.u.\n",
      "\n",
      "Total charge 4.000 e\n",
      "\n",
      "Writing topology\n",
      "\n",
      "Including chain 1 in system: 3303 atoms 213 residues\n",
      "\n",
      "Including chain 2 in system: 3361 atoms 222 residues\n",
      "\n",
      "Now there are 6664 atoms and 435 residues\n",
      "\n",
      "Total mass in system 48052.841 a.m.u.\n",
      "\n",
      "Total charge in system 4.000 e\n",
      "\n",
      "Writing coordinate file...\n",
      "\n",
      "\t\t--------- PLEASE NOTE ------------\n",
      "\n",
      "You have successfully generated a topology from: /Users/hospital/BioBB/Antibody/BioBB/biobb_wf_md_setup/biobb_wf_md_setup/notebooks/129959a8-0770-414f-b137-f775506f5c4b/3RVT_fixed.pdb.\n",
      "\n",
      "The Charmm36-jul2017 force field and the tip3p water model are used.\n",
      "\n",
      "\t\t--------- ETON ESAELP ------------\n",
      "\n",
      "2023-09-28 17:23:30,789 [MainThread  ] [INFO ]                 :-) GROMACS - gmx pdb2gmx, 2022.2-conda_forge (-:\n",
      "\n",
      "Executable:   /opt/anaconda3/envs/biobb_GMX_MDsetup_tutorial_v4.1/bin.SSE2/gmx\n",
      "Data prefix:  /opt/anaconda3/envs/biobb_GMX_MDsetup_tutorial_v4.1\n",
      "Working dir:  /Users/hospital/BioBB/Antibody/BioBB/biobb_wf_md_setup/biobb_wf_md_setup/notebooks\n",
      "Command line:\n",
      "  gmx -nobackup -nocopyright pdb2gmx -f /Users/hospital/BioBB/Antibody/BioBB/biobb_wf_md_setup/biobb_wf_md_setup/notebooks/129959a8-0770-414f-b137-f775506f5c4b/3RVT_fixed.pdb -o /Users/hospital/BioBB/Antibody/BioBB/biobb_wf_md_setup/biobb_wf_md_setup/notebooks/129959a8-0770-414f-b137-f775506f5c4b/3RVT_pdb2gmx.gro -p p2g.top -water tip3p -ff charmm36-jul2017 -i posre.itp\n",
      "\n",
      "Opening force field file /Users/hospital/BioBB/Antibody/BioBB/biobb_wf_md_setup/biobb_wf_md_setup/notebooks/inputs/charmm36-jul2017.ff/merged.r2b\n",
      "there were 0 atoms with zero occupancy and 18 atoms with          occupancy unequal to one (out of 3390 atoms). Check your pdb file.\n",
      "Opening force field file /Users/hospital/BioBB/Antibody/BioBB/biobb_wf_md_setup/biobb_wf_md_setup/notebooks/inputs/charmm36-jul2017.ff/atomtypes.atp\n",
      "Opening force field file /Users/hospital/BioBB/Antibody/BioBB/biobb_wf_md_setup/biobb_wf_md_setup/notebooks/inputs/charmm36-jul2017.ff/merged.rtp\n",
      "Opening force field file /Users/hospital/BioBB/Antibody/BioBB/biobb_wf_md_setup/biobb_wf_md_setup/notebooks/inputs/charmm36-jul2017.ff/merged.hdb\n",
      "Opening force field file /Users/hospital/BioBB/Antibody/BioBB/biobb_wf_md_setup/biobb_wf_md_setup/notebooks/inputs/charmm36-jul2017.ff/merged.n.tdb\n",
      "Opening force field file /Users/hospital/BioBB/Antibody/BioBB/biobb_wf_md_setup/biobb_wf_md_setup/notebooks/inputs/charmm36-jul2017.ff/merged.c.tdb\n",
      "Analysing hydrogen-bonding network for automated assignment of histidine\n",
      " protonation. 339 donors and 339 acceptors were found.\n",
      "There are 568 hydrogen bonds\n",
      "Will use HISE for residue 189\n",
      "Will use HISH for residue 198\n",
      "8 out of 8 lines of specbond.dat converted successfully\n",
      "Special Atom Distance matrix:\n",
      "                    MET4   MET11   CYS23   MET83   CYS88  MET106  CYS134\n",
      "                    SD31    SD85   SG177   SD650   SG693   SD839  SG1033\n",
      "   MET11    SD85   1.861\n",
      "   CYS23   SG177   0.454   1.427\n",
      "   MET83   SD650   2.628   1.273   2.265\n",
      "   CYS88   SG693   0.508   1.394   0.223   2.126\n",
      "  MET106   SD839   2.896   1.246   2.481   0.615   2.389\n",
      "  CYS134  SG1033   4.365   3.180   4.113   2.341   3.944   2.594\n",
      "  MET175  SD1373   3.613   2.494   3.368   1.842   3.205   2.152   0.796\n",
      "  HIS189 NE21491   5.622   4.749   5.467   4.101   5.296   4.400   1.865\n",
      "  CYS194  SG1530   4.430   3.237   4.180   2.453   4.015   2.689   0.182\n",
      "  HIS198 NE21561   3.642   2.091   3.301   1.589   3.184   1.594   1.381\n",
      "                  MET175  HIS189  CYS194\n",
      "                  SD1373 NE21491  SG1530\n",
      "  HIS189 NE21491   2.295\n",
      "  CYS194  SG1530   0.824   1.752\n",
      "  HIS198 NE21561   1.009   3.009   1.388\n",
      "Linking CYS-134 SG-1033 and CYS-194 SG-1530...\n",
      "Opening force field file /Users/hospital/BioBB/Antibody/BioBB/biobb_wf_md_setup/biobb_wf_md_setup/notebooks/inputs/charmm36-jul2017.ff/merged.arn\n",
      "Before cleaning: 8764 pairs\n",
      "Before cleaning: 8834 dihedrals\n",
      "Analysing hydrogen-bonding network for automated assignment of histidine\n",
      " protonation. 353 donors and 339 acceptors were found.\n",
      "There are 587 hydrogen bonds\n",
      "Will use HISE for residue 172\n",
      "Will use HISH for residue 207\n",
      "8 out of 8 lines of specbond.dat converted successfully\n",
      "Special Atom Distance matrix:\n",
      "                   CYS22   MET49   CYS96  MET143  CYS148  HIS172  CYS203\n",
      "                   SG159   SD389   SG764  SD1121  SG1154 NE21335  SG1566\n",
      "   MET49   SD389   1.221\n",
      "   CYS96   SG764   0.219   1.095\n",
      "  MET143  SD1121   4.257   4.437   4.094\n",
      "  CYS148  SG1154   3.469   3.538   3.319   1.803\n",
      "  HIS172 NE21335   3.429   3.352   3.237   1.270   1.325\n",
      "  CYS203  SG1566   3.325   3.446   3.181   1.874   0.204   1.408\n",
      "  HIS207 NE21596   2.403   2.259   2.265   3.137   1.584   2.169   1.496\n",
      "                \n",
      "                \n",
      "Linking CYS-22 SG-159 and CYS-96 SG-764...\n",
      "Linking CYS-148 SG-1154 and CYS-203 SG-1566...\n",
      "Opening force field file /Users/hospital/BioBB/Antibody/BioBB/biobb_wf_md_setup/biobb_wf_md_setup/notebooks/inputs/charmm36-jul2017.ff/merged.arn\n",
      "Before cleaning: 8982 pairs\n",
      "Before cleaning: 9107 dihedrals\n",
      "\n",
      "GROMACS reminds you: \"It's Calling Me to Break my Bonds, Again...\" (Van der Graaf)\n",
      "\n",
      "\n",
      "2023-09-28 17:23:30,791 [MainThread  ] [INFO ]  Compressing topology to: 3RVT_pdb2gmx_top.zip\n",
      "2023-09-28 17:23:30,792 [MainThread  ] [INFO ]  Ignored file charmm36-jul2017.ff/forcefield.itp\n",
      "2023-09-28 17:23:30,809 [MainThread  ] [INFO ]  Ignored file charmm36-jul2017.ff/tip3p.itp\n",
      "2023-09-28 17:23:30,809 [MainThread  ] [INFO ]  Ignored file charmm36-jul2017.ff/ions.itp\n",
      "2023-09-28 17:23:30,813 [MainThread  ] [INFO ]  Adding:\n",
      "2023-09-28 17:23:30,814 [MainThread  ] [INFO ]  ['p2g.top', 'p2g_Protein_chain_C.itp', 'p2g_Protein_chain_D.itp', 'posre_Protein_chain_C.itp', 'posre_Protein_chain_D.itp']\n",
      "2023-09-28 17:23:30,815 [MainThread  ] [INFO ]  to: /Users/hospital/BioBB/Antibody/BioBB/biobb_wf_md_setup/biobb_wf_md_setup/notebooks/3RVT_pdb2gmx_top.zip\n",
      "2023-09-28 17:23:30,816 [MainThread  ] [INFO ]  Removed: ['p2g.top', 'p2g_Protein_chain_C.itp', 'p2g_Protein_chain_D.itp', 'posre_Protein_chain_C.itp', 'posre_Protein_chain_D.itp']\n",
      "2023-09-28 17:23:30,817 [MainThread  ] [INFO ]  Removed: ['/Users/hospital/BioBB/Antibody/BioBB/biobb_wf_md_setup/biobb_wf_md_setup/notebooks/129959a8-0770-414f-b137-f775506f5c4b']\n"
     ]
    },
    {
     "data": {
      "text/plain": [
       "0"
      ]
     },
     "execution_count": 58,
     "metadata": {},
     "output_type": "execute_result"
    }
   ],
   "source": [
    "# Create system topology\n",
    "# Import module\n",
    "from biobb_gromacs.gromacs.pdb2gmx import pdb2gmx\n",
    "\n",
    "# Create inputs/outputs\n",
    "output_pdb2gmx_gro = pdbCode+'_pdb2gmx.gro'\n",
    "output_pdb2gmx_top_zip = pdbCode+'_pdb2gmx_top.zip'\n",
    "\n",
    "prop = {\n",
    "    'force_field' : 'charmm36-jul2017',\n",
    "    'gmx_lib' : cwd + '/inputs',\n",
    "    'water_type' : 'tip3p'\n",
    "    #'force_field' : 'amber99sb-ildn'\n",
    "}\n",
    "\n",
    "# Create and launch bb\n",
    "pdb2gmx(input_pdb_path=fixed_pdb, \n",
    "        output_gro_path=output_pdb2gmx_gro, \n",
    "        output_top_zip_path=output_pdb2gmx_top_zip,\n",
    "        properties=prop)"
   ]
  },
  {
   "cell_type": "markdown",
   "metadata": {},
   "source": [
    "#### Visualizing 3D structure\n",
    "Visualizing the generated **GRO structure** using **NGL**. Note that **hydrogen atoms** were added to the structure by the **pdb2gmx GROMACS tool** when generating the **topology**.    "
   ]
  },
  {
   "cell_type": "code",
   "execution_count": 1,
   "metadata": {},
   "outputs": [
    {
     "ename": "NameError",
     "evalue": "name 'nglview' is not defined",
     "output_type": "error",
     "traceback": [
      "\u001b[0;31m---------------------------------------------------------------------------\u001b[0m",
      "\u001b[0;31mNameError\u001b[0m                                 Traceback (most recent call last)",
      "Cell \u001b[0;32mIn[1], line 2\u001b[0m\n\u001b[1;32m      1\u001b[0m \u001b[38;5;66;03m# Show protein\u001b[39;00m\n\u001b[0;32m----> 2\u001b[0m view \u001b[38;5;241m=\u001b[39m \u001b[43mnglview\u001b[49m\u001b[38;5;241m.\u001b[39mshow_structure_file(output_pdb2gmx_gro)\n\u001b[1;32m      3\u001b[0m view\u001b[38;5;241m.\u001b[39madd_representation(repr_type\u001b[38;5;241m=\u001b[39m\u001b[38;5;124m'\u001b[39m\u001b[38;5;124mball+stick\u001b[39m\u001b[38;5;124m'\u001b[39m, selection\u001b[38;5;241m=\u001b[39m\u001b[38;5;124m'\u001b[39m\u001b[38;5;124mall\u001b[39m\u001b[38;5;124m'\u001b[39m)\n\u001b[1;32m      4\u001b[0m view\u001b[38;5;241m.\u001b[39m_remote_call(\u001b[38;5;124m'\u001b[39m\u001b[38;5;124msetSize\u001b[39m\u001b[38;5;124m'\u001b[39m, target\u001b[38;5;241m=\u001b[39m\u001b[38;5;124m'\u001b[39m\u001b[38;5;124mWidget\u001b[39m\u001b[38;5;124m'\u001b[39m, args\u001b[38;5;241m=\u001b[39m[\u001b[38;5;124m'\u001b[39m\u001b[38;5;124m'\u001b[39m,\u001b[38;5;124m'\u001b[39m\u001b[38;5;124m600px\u001b[39m\u001b[38;5;124m'\u001b[39m])\n",
      "\u001b[0;31mNameError\u001b[0m: name 'nglview' is not defined"
     ]
    }
   ],
   "source": [
    "# Show protein\n",
    "view = nglview.show_structure_file(output_pdb2gmx_gro)\n",
    "view.add_representation(repr_type='ball+stick', selection='all')\n",
    "view._remote_call('setSize', target='Widget', args=['','600px'])\n",
    "view.camera='orthographic'\n",
    "view"
   ]
  },
  {
   "cell_type": "markdown",
   "metadata": {},
   "source": [
    "<a id=\"box\"></a>\n",
    "***\n",
    "### Create solvent box\n",
    "Define the unit cell for the **protein structure MD system** to fill it with water molecules.<br>\n",
    "A **cubic box** is used to define the unit cell, with a **distance from the protein to the box edge of 1.0 nm**. The protein is **centered in the box**.  \n",
    "\n",
    "***\n",
    "**Building Blocks** used:\n",
    " - [Editconf](https://biobb-md.readthedocs.io/en/latest/gromacs.html#module-gromacs.editconf) from **biobb_gromacs.gromacs.editconf** \n",
    "***"
   ]
  },
  {
   "cell_type": "code",
   "execution_count": 60,
   "metadata": {},
   "outputs": [
    {
     "name": "stdout",
     "output_type": "stream",
     "text": [
      "2023-09-28 17:23:40,425 [MainThread  ] [INFO ]  Executing biobb_gromacs.gromacs.editconf Version: 4.1.0\n",
      "2023-09-28 17:23:40,427 [MainThread  ] [INFO ]  Copy: 3RVT_pdb2gmx.gro to /Users/hospital/BioBB/Antibody/BioBB/biobb_wf_md_setup/biobb_wf_md_setup/notebooks/7f897cc7-e893-4122-ac51-111bf7992b50\n",
      "2023-09-28 17:23:40,427 [MainThread  ] [INFO ]  Distance of the box to molecule:   0.70\n",
      "2023-09-28 17:23:40,428 [MainThread  ] [INFO ]  Centering molecule in the box.\n",
      "2023-09-28 17:23:40,428 [MainThread  ] [INFO ]  Box type: dodecahedron\n",
      "2023-09-28 17:23:40,429 [MainThread  ] [INFO ]  GROMACS Editconf 20222 version detected\n",
      "2023-09-28 17:23:40,429 [MainThread  ] [INFO ]  gmx -nobackup -nocopyright editconf -f /Users/hospital/BioBB/Antibody/BioBB/biobb_wf_md_setup/biobb_wf_md_setup/notebooks/7f897cc7-e893-4122-ac51-111bf7992b50/3RVT_pdb2gmx.gro -o /Users/hospital/BioBB/Antibody/BioBB/biobb_wf_md_setup/biobb_wf_md_setup/notebooks/7f897cc7-e893-4122-ac51-111bf7992b50/3RVT_editconf.gro -bt dodecahedron -d 0.7 -c\n",
      "\n",
      "2023-09-28 17:23:40,490 [MainThread  ] [INFO ]  Exit code 0\n",
      "\n",
      "2023-09-28 17:23:40,491 [MainThread  ] [INFO ]  Note that major changes are planned in future for editconf, to improve usability and utility.\n",
      "Read 6664 atoms\n",
      "Volume: 235.85 nm^3, corresponds to roughly 106100 electrons\n",
      "No velocities found\n",
      "    system size :  7.654  5.358  5.751 (nm)\n",
      "    diameter    :  8.057               (nm)\n",
      "    center      :  0.331 -0.066  0.216 (nm)\n",
      "    box vectors :  7.654  5.358  5.751 (nm)\n",
      "    box angles  :  90.00  90.00  90.00 (degrees)\n",
      "    box volume  : 235.85               (nm^3)\n",
      "    shift       :  6.762  7.159  3.127 (nm)\n",
      "new center      :  7.093  7.093  3.343 (nm)\n",
      "new box vectors :  9.457  9.457  9.457 (nm)\n",
      "new box angles  :  60.00  60.00  90.00 (degrees)\n",
      "new box volume  : 598.02               (nm^3)\n",
      "\n",
      "2023-09-28 17:23:40,492 [MainThread  ] [INFO ]                 :-) GROMACS - gmx editconf, 2022.2-conda_forge (-:\n",
      "\n",
      "Executable:   /opt/anaconda3/envs/biobb_GMX_MDsetup_tutorial_v4.1/bin.SSE2/gmx\n",
      "Data prefix:  /opt/anaconda3/envs/biobb_GMX_MDsetup_tutorial_v4.1\n",
      "Working dir:  /Users/hospital/BioBB/Antibody/BioBB/biobb_wf_md_setup/biobb_wf_md_setup/notebooks\n",
      "Command line:\n",
      "  gmx -nobackup -nocopyright editconf -f /Users/hospital/BioBB/Antibody/BioBB/biobb_wf_md_setup/biobb_wf_md_setup/notebooks/7f897cc7-e893-4122-ac51-111bf7992b50/3RVT_pdb2gmx.gro -o /Users/hospital/BioBB/Antibody/BioBB/biobb_wf_md_setup/biobb_wf_md_setup/notebooks/7f897cc7-e893-4122-ac51-111bf7992b50/3RVT_editconf.gro -bt dodecahedron -d 0.7 -c\n",
      "\n",
      "\n",
      "GROMACS reminds you: \"A curious aspect of the theory of evolution is that everybody thinks he understands it.\" (Jacques Monod)\n",
      "\n",
      "\n",
      "2023-09-28 17:23:40,494 [MainThread  ] [INFO ]  Removed: ['/Users/hospital/BioBB/Antibody/BioBB/biobb_wf_md_setup/biobb_wf_md_setup/notebooks/7f897cc7-e893-4122-ac51-111bf7992b50']\n"
     ]
    },
    {
     "data": {
      "text/plain": [
       "0"
      ]
     },
     "execution_count": 60,
     "metadata": {},
     "output_type": "execute_result"
    }
   ],
   "source": [
    "# Editconf: Create solvent box\n",
    "# Import module\n",
    "from biobb_gromacs.gromacs.editconf import editconf\n",
    "\n",
    "# Create prop dict and inputs/outputs\n",
    "output_editconf_gro = pdbCode+'_editconf.gro'\n",
    "\n",
    "prop = {\n",
    "    'box_type': 'dodecahedron',\n",
    "    'distance_to_molecule': 0.7\n",
    "}\n",
    "\n",
    "#Create and launch bb\n",
    "editconf(input_gro_path=output_pdb2gmx_gro, \n",
    "         output_gro_path=output_editconf_gro,\n",
    "         properties=prop)"
   ]
  },
  {
   "cell_type": "markdown",
   "metadata": {},
   "source": [
    "<a id=\"water\"></a>\n",
    "***\n",
    "### Fill the box with water molecules\n",
    "Fill the unit cell for the **protein structure system** with water molecules.<br>\n",
    "The solvent type used is the default **Simple Point Charge water (SPC)**, a generic equilibrated 3-point solvent model. \n",
    "\n",
    "***\n",
    "**Building Blocks** used:\n",
    " - [Solvate](https://biobb-md.readthedocs.io/en/latest/gromacs.html#module-gromacs.solvate) from **biobb_gromacs.gromacs.solvate** \n",
    "***"
   ]
  },
  {
   "cell_type": "code",
   "execution_count": 61,
   "metadata": {
    "scrolled": true
   },
   "outputs": [
    {
     "name": "stdout",
     "output_type": "stream",
     "text": [
      "2023-09-28 17:23:41,881 [MainThread  ] [INFO ]  Executing biobb_gromacs.gromacs.solvate Version: 4.1.0\n",
      "2023-09-28 17:23:41,884 [MainThread  ] [INFO ]  Copy: 3RVT_editconf.gro to /Users/hospital/BioBB/Antibody/BioBB/biobb_wf_md_setup/biobb_wf_md_setup/notebooks/aecfdde5-ccfe-4b98-bee8-1f65d1c068a1\n",
      "2023-09-28 17:23:41,889 [MainThread  ] [INFO ]  Extracting: /Users/hospital/BioBB/Antibody/BioBB/biobb_wf_md_setup/biobb_wf_md_setup/notebooks/3RVT_pdb2gmx_top.zip\n",
      "2023-09-28 17:23:41,889 [MainThread  ] [INFO ]  to:\n",
      "2023-09-28 17:23:41,890 [MainThread  ] [INFO ]  ['19af34d7-6240-42cc-9547-aa1311a7d05d/p2g.top', '19af34d7-6240-42cc-9547-aa1311a7d05d/p2g_Protein_chain_C.itp', '19af34d7-6240-42cc-9547-aa1311a7d05d/p2g_Protein_chain_D.itp', '19af34d7-6240-42cc-9547-aa1311a7d05d/posre_Protein_chain_C.itp', '19af34d7-6240-42cc-9547-aa1311a7d05d/posre_Protein_chain_D.itp']\n",
      "2023-09-28 17:23:41,890 [MainThread  ] [INFO ]  Unzipping: \n",
      "2023-09-28 17:23:41,891 [MainThread  ] [INFO ]  3RVT_pdb2gmx_top.zip\n",
      "2023-09-28 17:23:41,891 [MainThread  ] [INFO ]  To: \n",
      "2023-09-28 17:23:41,892 [MainThread  ] [INFO ]  19af34d7-6240-42cc-9547-aa1311a7d05d/p2g.top\n",
      "2023-09-28 17:23:41,892 [MainThread  ] [INFO ]  19af34d7-6240-42cc-9547-aa1311a7d05d/p2g_Protein_chain_C.itp\n",
      "2023-09-28 17:23:41,893 [MainThread  ] [INFO ]  19af34d7-6240-42cc-9547-aa1311a7d05d/p2g_Protein_chain_D.itp\n",
      "2023-09-28 17:23:41,893 [MainThread  ] [INFO ]  19af34d7-6240-42cc-9547-aa1311a7d05d/posre_Protein_chain_C.itp\n",
      "2023-09-28 17:23:41,894 [MainThread  ] [INFO ]  19af34d7-6240-42cc-9547-aa1311a7d05d/posre_Protein_chain_D.itp\n",
      "2023-09-28 17:23:41,894 [MainThread  ] [INFO ]  GROMACS Solvate 20222 version detected\n",
      "2023-09-28 17:23:41,895 [MainThread  ] [INFO ]  gmx -nobackup -nocopyright solvate -cp /Users/hospital/BioBB/Antibody/BioBB/biobb_wf_md_setup/biobb_wf_md_setup/notebooks/aecfdde5-ccfe-4b98-bee8-1f65d1c068a1/3RVT_editconf.gro -cs spc216.gro -o /Users/hospital/BioBB/Antibody/BioBB/biobb_wf_md_setup/biobb_wf_md_setup/notebooks/aecfdde5-ccfe-4b98-bee8-1f65d1c068a1/3RVT_solvate.gro -p 19af34d7-6240-42cc-9547-aa1311a7d05d/p2g.top\n",
      "\n",
      "2023-09-28 17:23:42,233 [MainThread  ] [INFO ]  Exit code 0\n",
      "\n",
      "2023-09-28 17:23:42,234 [MainThread  ] [INFO ]  \n",
      "WARNING: Masses and atomic (Van der Waals) radii will be guessed\n",
      "         based on residue and atom names, since they could not be\n",
      "         definitively assigned from the information in your input\n",
      "         files. These guessed numbers might deviate from the mass\n",
      "         and radius of the atom type. Please check the output\n",
      "         files if necessary. Note, that this functionality may\n",
      "         be removed in a future GROMACS version. Please, consider\n",
      "         using another file format for your input.\n",
      "\n",
      "NOTE: From version 5.0 gmx solvate uses the Van der Waals radii\n",
      "from the source below. This means the results may be different\n",
      "compared to previous GROMACS versions.\n",
      "\n",
      "++++ PLEASE READ AND CITE THE FOLLOWING REFERENCE ++++\n",
      "A. Bondi\n",
      "van der Waals Volumes and Radii\n",
      "J. Phys. Chem. 68 (1964) pp. 441-451\n",
      "-------- -------- --- Thank You --- -------- --------\n",
      "\n",
      "Adding line for 17003 solvent molecules with resname (SOL) to topology file (19af34d7-6240-42cc-9547-aa1311a7d05d/p2g.top)\n",
      "\n",
      "2023-09-28 17:23:42,235 [MainThread  ] [INFO ]                 :-) GROMACS - gmx solvate, 2022.2-conda_forge (-:\n",
      "\n",
      "Executable:   /opt/anaconda3/envs/biobb_GMX_MDsetup_tutorial_v4.1/bin.SSE2/gmx\n",
      "Data prefix:  /opt/anaconda3/envs/biobb_GMX_MDsetup_tutorial_v4.1\n",
      "Working dir:  /Users/hospital/BioBB/Antibody/BioBB/biobb_wf_md_setup/biobb_wf_md_setup/notebooks\n",
      "Command line:\n",
      "  gmx -nobackup -nocopyright solvate -cp /Users/hospital/BioBB/Antibody/BioBB/biobb_wf_md_setup/biobb_wf_md_setup/notebooks/aecfdde5-ccfe-4b98-bee8-1f65d1c068a1/3RVT_editconf.gro -cs spc216.gro -o /Users/hospital/BioBB/Antibody/BioBB/biobb_wf_md_setup/biobb_wf_md_setup/notebooks/aecfdde5-ccfe-4b98-bee8-1f65d1c068a1/3RVT_solvate.gro -p 19af34d7-6240-42cc-9547-aa1311a7d05d/p2g.top\n",
      "\n",
      "Reading solute configuration\n",
      "Reading solvent configuration\n",
      "\n",
      "Initialising inter-atomic distances...\n",
      "Generating solvent configuration\n",
      "Will generate new solvent configuration of 6x6x4 boxes\n",
      "Solvent box contains 66735 atoms in 22245 residues\n",
      "Removed 9657 solvent atoms due to solvent-solvent overlap\n",
      "Removed 6069 solvent atoms due to solute-solvent overlap\n",
      "Sorting configuration\n",
      "Found 1 molecule type:\n",
      "    SOL (   3 atoms): 17003 residues\n",
      "Generated solvent containing 51009 atoms in 17003 residues\n",
      "Writing generated configuration to /Users/hospital/BioBB/Antibody/BioBB/biobb_wf_md_setup/biobb_wf_md_setup/notebooks/aecfdde5-ccfe-4b98-bee8-1f65d1c068a1/3RVT_solvate.gro\n",
      "\n",
      "Output configuration contains 57673 atoms in 17438 residues\n",
      "Volume                 :     598.016 (nm^3)\n",
      "Density                :     993.043 (g/l)\n",
      "Number of solvent molecules:  17003   \n",
      "\n",
      "Processing topology\n",
      "\n",
      "GROMACS reminds you: \"In a talk you have a choice: You can make one point or no points.\" (Paul Sigler)\n",
      "\n",
      "\n",
      "2023-09-28 17:23:42,237 [MainThread  ] [INFO ]  Compressing topology to: /Users/hospital/BioBB/Antibody/BioBB/biobb_wf_md_setup/biobb_wf_md_setup/notebooks/aecfdde5-ccfe-4b98-bee8-1f65d1c068a1/3RVT_solvate_top.zip\n",
      "2023-09-28 17:23:42,238 [MainThread  ] [INFO ]  Ignored file 19af34d7-6240-42cc-9547-aa1311a7d05d/charmm36-jul2017.ff/forcefield.itp\n",
      "2023-09-28 17:23:42,255 [MainThread  ] [INFO ]  Ignored file 19af34d7-6240-42cc-9547-aa1311a7d05d/charmm36-jul2017.ff/tip3p.itp\n",
      "2023-09-28 17:23:42,256 [MainThread  ] [INFO ]  Ignored file 19af34d7-6240-42cc-9547-aa1311a7d05d/charmm36-jul2017.ff/ions.itp\n",
      "2023-09-28 17:23:42,259 [MainThread  ] [INFO ]  Adding:\n",
      "2023-09-28 17:23:42,260 [MainThread  ] [INFO ]  ['19af34d7-6240-42cc-9547-aa1311a7d05d/p2g.top', '19af34d7-6240-42cc-9547-aa1311a7d05d/p2g_Protein_chain_C.itp', '19af34d7-6240-42cc-9547-aa1311a7d05d/p2g_Protein_chain_D.itp', '19af34d7-6240-42cc-9547-aa1311a7d05d/posre_Protein_chain_C.itp', '19af34d7-6240-42cc-9547-aa1311a7d05d/posre_Protein_chain_D.itp']\n",
      "2023-09-28 17:23:42,261 [MainThread  ] [INFO ]  to: /Users/hospital/BioBB/Antibody/BioBB/biobb_wf_md_setup/biobb_wf_md_setup/notebooks/3RVT_solvate_top.zip\n",
      "2023-09-28 17:23:42,262 [MainThread  ] [INFO ]  Removed: ['19af34d7-6240-42cc-9547-aa1311a7d05d/p2g.top', '19af34d7-6240-42cc-9547-aa1311a7d05d/p2g_Protein_chain_C.itp', '19af34d7-6240-42cc-9547-aa1311a7d05d/p2g_Protein_chain_D.itp', '19af34d7-6240-42cc-9547-aa1311a7d05d/posre_Protein_chain_C.itp', '19af34d7-6240-42cc-9547-aa1311a7d05d/posre_Protein_chain_D.itp']\n",
      "2023-09-28 17:23:42,263 [MainThread  ] [INFO ]  Removed: ['/Users/hospital/BioBB/Antibody/BioBB/biobb_wf_md_setup/biobb_wf_md_setup/notebooks/aecfdde5-ccfe-4b98-bee8-1f65d1c068a1', '19af34d7-6240-42cc-9547-aa1311a7d05d']\n"
     ]
    },
    {
     "data": {
      "text/plain": [
       "0"
      ]
     },
     "execution_count": 61,
     "metadata": {},
     "output_type": "execute_result"
    }
   ],
   "source": [
    "# Solvate: Fill the box with water molecules\n",
    "from biobb_gromacs.gromacs.solvate import solvate\n",
    "\n",
    "# Create prop dict and inputs/outputs\n",
    "output_solvate_gro = pdbCode+'_solvate.gro'\n",
    "output_solvate_top_zip = pdbCode+'_solvate_top.zip'\n",
    "\n",
    "# Create and launch bb\n",
    "solvate(input_solute_gro_path=output_editconf_gro, \n",
    "        output_gro_path=output_solvate_gro, \n",
    "        input_top_zip_path=output_pdb2gmx_top_zip, \n",
    "        output_top_zip_path=output_solvate_top_zip)"
   ]
  },
  {
   "cell_type": "markdown",
   "metadata": {},
   "source": [
    "#### Visualizing 3D structure\n",
    "Visualizing the **protein system** with the newly added **solvent box** using **NGL**.<br> Note the **cubic box** filled with **water molecules** surrounding the **protein structure**, which is **centered** right in the middle of the cube."
   ]
  },
  {
   "cell_type": "code",
   "execution_count": 62,
   "metadata": {},
   "outputs": [
    {
     "data": {
      "application/vnd.jupyter.widget-view+json": {
       "model_id": "e3ce090d195342f69afb62b002f45172",
       "version_major": 2,
       "version_minor": 0
      },
      "text/plain": [
       "NGLWidget()"
      ]
     },
     "metadata": {},
     "output_type": "display_data"
    }
   ],
   "source": [
    "# Show protein\n",
    "view = nglview.show_structure_file(output_solvate_gro)\n",
    "view.clear_representations()\n",
    "view.add_representation(repr_type='cartoon', selection='solute', color='green')\n",
    "view.add_representation(repr_type='ball+stick', selection='SOL')\n",
    "view._remote_call('setSize', target='Widget', args=['','600px'])\n",
    "view.camera='orthographic'\n",
    "view"
   ]
  },
  {
   "cell_type": "markdown",
   "metadata": {},
   "source": [
    "<a id=\"ions\"></a>\n",
    "***\n",
    "### Adding ions\n",
    "Add ions to neutralize the **protein structure** charge\n",
    "- [Step 1](#ionsStep1): Creating portable binary run file for ion generation\n",
    "- [Step 2](#ionsStep2): Adding ions to **neutralize** the system\n",
    "***\n",
    "**Building Blocks** used:\n",
    " - [Grompp](https://biobb-md.readthedocs.io/en/latest/gromacs.html#module-gromacs.grompp) from **biobb_gromacs.gromacs.grompp** \n",
    " - [Genion](https://biobb-md.readthedocs.io/en/latest/gromacs.html#module-gromacs.genion) from **biobb_gromacs.gromacs.genion** \n",
    "***"
   ]
  },
  {
   "cell_type": "markdown",
   "metadata": {},
   "source": [
    "<a id=\"ionsStep1\"></a>\n",
    "#### Step 1: Creating portable binary run file for ion generation\n",
    "A simple **energy minimization** molecular dynamics parameters (mdp) properties will be used to generate the portable binary run file for **ion generation**, although **any legitimate combination of parameters** could be used in this step."
   ]
  },
  {
   "cell_type": "code",
   "execution_count": 66,
   "metadata": {},
   "outputs": [
    {
     "name": "stdout",
     "output_type": "stream",
     "text": [
      "2023-09-28 17:24:05,989 [MainThread  ] [INFO ]  Executing biobb_gromacs.gromacs.grompp Version: 4.1.0\n",
      "2023-09-28 17:24:05,993 [MainThread  ] [INFO ]  Copy: 3RVT_solvate.gro to /Users/hospital/BioBB/Antibody/BioBB/biobb_wf_md_setup/biobb_wf_md_setup/notebooks/e0813af2-66c6-40d2-99cf-627f60a6b170\n",
      "2023-09-28 17:24:05,997 [MainThread  ] [INFO ]  Extracting: /Users/hospital/BioBB/Antibody/BioBB/biobb_wf_md_setup/biobb_wf_md_setup/notebooks/3RVT_solvate_top.zip\n",
      "2023-09-28 17:24:05,998 [MainThread  ] [INFO ]  to:\n",
      "2023-09-28 17:24:05,998 [MainThread  ] [INFO ]  ['/Users/hospital/BioBB/Antibody/BioBB/biobb_wf_md_setup/biobb_wf_md_setup/notebooks/e0813af2-66c6-40d2-99cf-627f60a6b170/p2g.top', '/Users/hospital/BioBB/Antibody/BioBB/biobb_wf_md_setup/biobb_wf_md_setup/notebooks/e0813af2-66c6-40d2-99cf-627f60a6b170/p2g_Protein_chain_C.itp', '/Users/hospital/BioBB/Antibody/BioBB/biobb_wf_md_setup/biobb_wf_md_setup/notebooks/e0813af2-66c6-40d2-99cf-627f60a6b170/p2g_Protein_chain_D.itp', '/Users/hospital/BioBB/Antibody/BioBB/biobb_wf_md_setup/biobb_wf_md_setup/notebooks/e0813af2-66c6-40d2-99cf-627f60a6b170/posre_Protein_chain_C.itp', '/Users/hospital/BioBB/Antibody/BioBB/biobb_wf_md_setup/biobb_wf_md_setup/notebooks/e0813af2-66c6-40d2-99cf-627f60a6b170/posre_Protein_chain_D.itp']\n",
      "2023-09-28 17:24:05,999 [MainThread  ] [INFO ]  Unzipping: \n",
      "2023-09-28 17:24:05,999 [MainThread  ] [INFO ]  3RVT_solvate_top.zip\n",
      "2023-09-28 17:24:05,999 [MainThread  ] [INFO ]  To: \n",
      "2023-09-28 17:24:06,000 [MainThread  ] [INFO ]  /Users/hospital/BioBB/Antibody/BioBB/biobb_wf_md_setup/biobb_wf_md_setup/notebooks/e0813af2-66c6-40d2-99cf-627f60a6b170/p2g.top\n",
      "2023-09-28 17:24:06,000 [MainThread  ] [INFO ]  /Users/hospital/BioBB/Antibody/BioBB/biobb_wf_md_setup/biobb_wf_md_setup/notebooks/e0813af2-66c6-40d2-99cf-627f60a6b170/p2g_Protein_chain_C.itp\n",
      "2023-09-28 17:24:06,001 [MainThread  ] [INFO ]  /Users/hospital/BioBB/Antibody/BioBB/biobb_wf_md_setup/biobb_wf_md_setup/notebooks/e0813af2-66c6-40d2-99cf-627f60a6b170/p2g_Protein_chain_D.itp\n",
      "2023-09-28 17:24:06,002 [MainThread  ] [INFO ]  /Users/hospital/BioBB/Antibody/BioBB/biobb_wf_md_setup/biobb_wf_md_setup/notebooks/e0813af2-66c6-40d2-99cf-627f60a6b170/posre_Protein_chain_C.itp\n",
      "2023-09-28 17:24:06,002 [MainThread  ] [INFO ]  /Users/hospital/BioBB/Antibody/BioBB/biobb_wf_md_setup/biobb_wf_md_setup/notebooks/e0813af2-66c6-40d2-99cf-627f60a6b170/posre_Protein_chain_D.itp\n",
      "2023-09-28 17:24:06,003 [MainThread  ] [INFO ]  GROMACS Grompp 20222 version detected\n",
      "2023-09-28 17:24:06,004 [MainThread  ] [INFO ]  gmx -nobackup -nocopyright grompp -f /Users/hospital/BioBB/Antibody/BioBB/biobb_wf_md_setup/biobb_wf_md_setup/notebooks/e0813af2-66c6-40d2-99cf-627f60a6b170/grompp.mdp -c /Users/hospital/BioBB/Antibody/BioBB/biobb_wf_md_setup/biobb_wf_md_setup/notebooks/e0813af2-66c6-40d2-99cf-627f60a6b170/3RVT_solvate.gro -r /Users/hospital/BioBB/Antibody/BioBB/biobb_wf_md_setup/biobb_wf_md_setup/notebooks/e0813af2-66c6-40d2-99cf-627f60a6b170/3RVT_solvate.gro -p /Users/hospital/BioBB/Antibody/BioBB/biobb_wf_md_setup/biobb_wf_md_setup/notebooks/e0813af2-66c6-40d2-99cf-627f60a6b170/p2g.top -o /Users/hospital/BioBB/Antibody/BioBB/biobb_wf_md_setup/biobb_wf_md_setup/notebooks/e0813af2-66c6-40d2-99cf-627f60a6b170/3RVT_gppion.tpr -po mdout.mdp -maxwarn 1\n",
      "\n",
      "2023-09-28 17:24:07,033 [MainThread  ] [INFO ]  Exit code 0\n",
      "\n",
      "2023-09-28 17:24:07,035 [MainThread  ] [INFO ]  Setting the LD random seed to -230773381\n",
      "\n",
      "Generated 97877 of the 97903 non-bonded parameter combinations\n",
      "\n",
      "Generated 64492 of the 97903 1-4 parameter combinations\n",
      "\n",
      "Excluding 3 bonded neighbours molecule type 'Protein_chain_C'\n",
      "\n",
      "Excluding 3 bonded neighbours molecule type 'Protein_chain_D'\n",
      "\n",
      "Excluding 2 bonded neighbours molecule type 'SOL'\n",
      "\n",
      "++++ PLEASE READ AND CITE THE FOLLOWING REFERENCE ++++\n",
      "J. S. Hub, B. L. de Groot, H. Grubmueller, G. Groenhof\n",
      "Quantifying Artifacts in Ewald Simulations of Inhomogeneous Systems with a Net\n",
      "Charge\n",
      "J. Chem. Theory Comput. 10 (2014) pp. 381-393\n",
      "-------- -------- --- Thank You --- -------- --------\n",
      "\n",
      "Analysing residue names:\n",
      "There are:   435    Protein residues\n",
      "There are: 17003      Water residues\n",
      "Analysing Protein...\n",
      "\n",
      "The largest distance between excluded atoms is 0.454 nm\n",
      "Calculating fourier grid dimensions for X Y Z\n",
      "Using a fourier grid of 80x80x80, spacing 0.118 0.118 0.118\n",
      "\n",
      "Estimate for the relative computational load of the PME mesh part: 0.18\n",
      "\n",
      "This run will generate roughly 4 Mb of data\n",
      "\n",
      "2023-09-28 17:24:07,036 [MainThread  ] [INFO ]                  :-) GROMACS - gmx grompp, 2022.2-conda_forge (-:\n",
      "\n",
      "Executable:   /opt/anaconda3/envs/biobb_GMX_MDsetup_tutorial_v4.1/bin.SSE2/gmx\n",
      "Data prefix:  /opt/anaconda3/envs/biobb_GMX_MDsetup_tutorial_v4.1\n",
      "Working dir:  /Users/hospital/BioBB/Antibody/BioBB/biobb_wf_md_setup/biobb_wf_md_setup/notebooks\n",
      "Command line:\n",
      "  gmx -nobackup -nocopyright grompp -f /Users/hospital/BioBB/Antibody/BioBB/biobb_wf_md_setup/biobb_wf_md_setup/notebooks/e0813af2-66c6-40d2-99cf-627f60a6b170/grompp.mdp -c /Users/hospital/BioBB/Antibody/BioBB/biobb_wf_md_setup/biobb_wf_md_setup/notebooks/e0813af2-66c6-40d2-99cf-627f60a6b170/3RVT_solvate.gro -r /Users/hospital/BioBB/Antibody/BioBB/biobb_wf_md_setup/biobb_wf_md_setup/notebooks/e0813af2-66c6-40d2-99cf-627f60a6b170/3RVT_solvate.gro -p /Users/hospital/BioBB/Antibody/BioBB/biobb_wf_md_setup/biobb_wf_md_setup/notebooks/e0813af2-66c6-40d2-99cf-627f60a6b170/p2g.top -o /Users/hospital/BioBB/Antibody/BioBB/biobb_wf_md_setup/biobb_wf_md_setup/notebooks/e0813af2-66c6-40d2-99cf-627f60a6b170/3RVT_gppion.tpr -po mdout.mdp -maxwarn 1\n",
      "\n",
      "Ignoring obsolete mdp entry 'ns-type'\n",
      "Generating 1-4 interactions: fudge = 1\n",
      "\n",
      "NOTE 1 [file p2g.top, line 54]:\n",
      "  System has non-zero total charge: 4.000000\n",
      "  Total charge should normally be an integer. See\n",
      "  http://www.gromacs.org/Documentation/Floating_Point_Arithmetic\n",
      "  for discussion on how close it should be to an integer.\n",
      "  \n",
      "\n",
      "\n",
      "\n",
      "WARNING 1 [file p2g.top, line 54]:\n",
      "  You are using Ewald electrostatics in a system with net charge. This can\n",
      "  lead to severe artifacts, such as ions moving into regions with low\n",
      "  dielectric, due to the uniform background charge. We suggest to\n",
      "  neutralize your system with counter ions, possibly in combination with a\n",
      "  physiological salt concentration.\n",
      "\n",
      "Number of degrees of freedom in T-Coupling group rest is 122007.00\n",
      "\n",
      "NOTE 2 [file /Users/hospital/BioBB/Antibody/BioBB/biobb_wf_md_setup/biobb_wf_md_setup/notebooks/e0813af2-66c6-40d2-99cf-627f60a6b170/grompp.mdp]:\n",
      "  Removing center of mass motion in the presence of position restraints\n",
      "  might cause artifacts. When you are using position restraints to\n",
      "  equilibrate a macro-molecule, the artifacts are usually negligible.\n",
      "\n",
      "\n",
      "There were 2 notes\n",
      "\n",
      "There was 1 warning\n",
      "\n",
      "GROMACS reminds you: \"When using an abacus, a human can achieve about 0.1 flops/watt. Super-computers achieve about 2 gigaflops/watt.\" (John Linford)\n",
      "\n",
      "\n",
      "2023-09-28 17:24:07,039 [MainThread  ] [INFO ]  Removed: ['/Users/hospital/BioBB/Antibody/BioBB/biobb_wf_md_setup/biobb_wf_md_setup/notebooks/e0813af2-66c6-40d2-99cf-627f60a6b170', 'mdout.mdp']\n"
     ]
    },
    {
     "data": {
      "text/plain": [
       "0"
      ]
     },
     "execution_count": 66,
     "metadata": {},
     "output_type": "execute_result"
    }
   ],
   "source": [
    "# Grompp: Creating portable binary run file for ion generation\n",
    "from biobb_gromacs.gromacs.grompp import grompp\n",
    "\n",
    "# Create prop dict and inputs/outputs\n",
    "output_gppion_tpr = pdbCode+'_gppion.tpr'\n",
    "prop = {\n",
    "    'simulation_type': 'ions',\n",
    "    'gmx_lib' : cwd + '/inputs',\n",
    "    'maxwarn': 1\n",
    "}\n",
    "\n",
    "# Create and launch bb\n",
    "grompp(input_gro_path=output_solvate_gro, \n",
    "       input_top_zip_path=output_solvate_top_zip, \n",
    "       output_tpr_path=output_gppion_tpr,  \n",
    "       properties=prop)"
   ]
  },
  {
   "cell_type": "markdown",
   "metadata": {},
   "source": [
    "<a id=\"ionsStep2\"></a>\n",
    "#### Step 2: Adding ions to neutralize the system\n",
    "Replace **solvent molecules** with **ions** to **neutralize** the system."
   ]
  },
  {
   "cell_type": "code",
   "execution_count": 67,
   "metadata": {},
   "outputs": [
    {
     "name": "stdout",
     "output_type": "stream",
     "text": [
      "2023-09-28 17:24:09,431 [MainThread  ] [INFO ]  Executing biobb_gromacs.gromacs.genion Version: 4.1.0\n",
      "2023-09-28 17:24:09,434 [MainThread  ] [INFO ]  Copy: 3RVT_gppion.tpr to /Users/hospital/BioBB/Antibody/BioBB/biobb_wf_md_setup/biobb_wf_md_setup/notebooks/ab3539d3-6f47-4016-a1a5-997b9883f4e5\n",
      "2023-09-28 17:24:09,435 [MainThread  ] [INFO ]  Copy: /Users/hospital/BioBB/Antibody/BioBB/biobb_wf_md_setup/biobb_wf_md_setup/notebooks/4ccaa1bd-1fde-480b-9a8b-79b99db94db0.stdin to /Users/hospital/BioBB/Antibody/BioBB/biobb_wf_md_setup/biobb_wf_md_setup/notebooks/ab3539d3-6f47-4016-a1a5-997b9883f4e5\n",
      "2023-09-28 17:24:09,439 [MainThread  ] [INFO ]  Extracting: /Users/hospital/BioBB/Antibody/BioBB/biobb_wf_md_setup/biobb_wf_md_setup/notebooks/3RVT_solvate_top.zip\n",
      "2023-09-28 17:24:09,440 [MainThread  ] [INFO ]  to:\n",
      "2023-09-28 17:24:09,441 [MainThread  ] [INFO ]  ['249337b0-e5c6-416e-86d8-7260224bd96a/p2g.top', '249337b0-e5c6-416e-86d8-7260224bd96a/p2g_Protein_chain_C.itp', '249337b0-e5c6-416e-86d8-7260224bd96a/p2g_Protein_chain_D.itp', '249337b0-e5c6-416e-86d8-7260224bd96a/posre_Protein_chain_C.itp', '249337b0-e5c6-416e-86d8-7260224bd96a/posre_Protein_chain_D.itp']\n",
      "2023-09-28 17:24:09,442 [MainThread  ] [INFO ]  Unzipping: \n",
      "2023-09-28 17:24:09,442 [MainThread  ] [INFO ]  3RVT_solvate_top.zip\n",
      "2023-09-28 17:24:09,443 [MainThread  ] [INFO ]  To: \n",
      "2023-09-28 17:24:09,443 [MainThread  ] [INFO ]  249337b0-e5c6-416e-86d8-7260224bd96a/p2g.top\n",
      "2023-09-28 17:24:09,444 [MainThread  ] [INFO ]  249337b0-e5c6-416e-86d8-7260224bd96a/p2g_Protein_chain_C.itp\n",
      "2023-09-28 17:24:09,444 [MainThread  ] [INFO ]  249337b0-e5c6-416e-86d8-7260224bd96a/p2g_Protein_chain_D.itp\n",
      "2023-09-28 17:24:09,445 [MainThread  ] [INFO ]  249337b0-e5c6-416e-86d8-7260224bd96a/posre_Protein_chain_C.itp\n",
      "2023-09-28 17:24:09,445 [MainThread  ] [INFO ]  249337b0-e5c6-416e-86d8-7260224bd96a/posre_Protein_chain_D.itp\n",
      "2023-09-28 17:24:09,446 [MainThread  ] [INFO ]  To reach up 0.05 mol/litre concentration\n",
      "2023-09-28 17:24:09,446 [MainThread  ] [INFO ]  GROMACS Genion 20222 version detected\n",
      "2023-09-28 17:24:09,446 [MainThread  ] [INFO ]  gmx -nobackup -nocopyright genion -s /Users/hospital/BioBB/Antibody/BioBB/biobb_wf_md_setup/biobb_wf_md_setup/notebooks/ab3539d3-6f47-4016-a1a5-997b9883f4e5/3RVT_gppion.tpr -o /Users/hospital/BioBB/Antibody/BioBB/biobb_wf_md_setup/biobb_wf_md_setup/notebooks/ab3539d3-6f47-4016-a1a5-997b9883f4e5/3RVT_genion.gro -p 249337b0-e5c6-416e-86d8-7260224bd96a/p2g.top -neutral -conc 0.05 -seed 1993 < /Users/hospital/BioBB/Antibody/BioBB/biobb_wf_md_setup/biobb_wf_md_setup/notebooks/ab3539d3-6f47-4016-a1a5-997b9883f4e5/4ccaa1bd-1fde-480b-9a8b-79b99db94db0.stdin\n",
      "\n",
      "2023-09-28 17:24:09,582 [MainThread  ] [INFO ]  Exit code 0\n",
      "\n",
      "2023-09-28 17:24:09,583 [MainThread  ] [INFO ]  Will try to add 18 NA ions and 22 CL ions.\n",
      "Select a continuous group of solvent molecules\n",
      "Selected 13: 'SOL'\n",
      "\n",
      "Processing topology\n",
      "Replacing 40 solute molecules in topology file (249337b0-e5c6-416e-86d8-7260224bd96a/p2g.top)  by 18 NA and 22 CL ions.\n",
      "\n",
      "2023-09-28 17:24:09,584 [MainThread  ] [INFO ]                  :-) GROMACS - gmx genion, 2022.2-conda_forge (-:\n",
      "\n",
      "Executable:   /opt/anaconda3/envs/biobb_GMX_MDsetup_tutorial_v4.1/bin.SSE2/gmx\n",
      "Data prefix:  /opt/anaconda3/envs/biobb_GMX_MDsetup_tutorial_v4.1\n",
      "Working dir:  /Users/hospital/BioBB/Antibody/BioBB/biobb_wf_md_setup/biobb_wf_md_setup/notebooks\n",
      "Command line:\n",
      "  gmx -nobackup -nocopyright genion -s /Users/hospital/BioBB/Antibody/BioBB/biobb_wf_md_setup/biobb_wf_md_setup/notebooks/ab3539d3-6f47-4016-a1a5-997b9883f4e5/3RVT_gppion.tpr -o /Users/hospital/BioBB/Antibody/BioBB/biobb_wf_md_setup/biobb_wf_md_setup/notebooks/ab3539d3-6f47-4016-a1a5-997b9883f4e5/3RVT_genion.gro -p 249337b0-e5c6-416e-86d8-7260224bd96a/p2g.top -neutral -conc 0.05 -seed 1993\n",
      "\n",
      "Reading file /Users/hospital/BioBB/Antibody/BioBB/biobb_wf_md_setup/biobb_wf_md_setup/notebooks/ab3539d3-6f47-4016-a1a5-997b9883f4e5/3RVT_gppion.tpr, VERSION 2022.2-conda_forge (single precision)\n",
      "Reading file /Users/hospital/BioBB/Antibody/BioBB/biobb_wf_md_setup/biobb_wf_md_setup/notebooks/ab3539d3-6f47-4016-a1a5-997b9883f4e5/3RVT_gppion.tpr, VERSION 2022.2-conda_forge (single precision)\n",
      "Group     0 (         System) has 57673 elements\n",
      "Group     1 (        Protein) has  6664 elements\n",
      "Group     2 (      Protein-H) has  3383 elements\n",
      "Group     3 (        C-alpha) has   435 elements\n",
      "Group     4 (       Backbone) has  1305 elements\n",
      "Group     5 (      MainChain) has  1738 elements\n",
      "Group     6 (   MainChain+Cb) has  2144 elements\n",
      "Group     7 (    MainChain+H) has  2151 elements\n",
      "Group     8 (      SideChain) has  4513 elements\n",
      "Group     9 (    SideChain-H) has  1645 elements\n",
      "Group    10 (    Prot-Masses) has  6664 elements\n",
      "Group    11 (    non-Protein) has 51009 elements\n",
      "Group    12 (          Water) has 51009 elements\n",
      "Group    13 (            SOL) has 51009 elements\n",
      "Group    14 (      non-Water) has  6664 elements\n",
      "Select a group: Number of (3-atomic) solvent molecules: 17003\n",
      "Using random seed 1993.\n",
      "Replacing solvent molecule 12426 (atom 43942) with NA\n",
      "Replacing solvent molecule 1592 (atom 11440) with NA\n",
      "Replacing solvent molecule 7325 (atom 28639) with NA\n",
      "Replacing solvent molecule 4783 (atom 21013) with NA\n",
      "Replacing solvent molecule 12996 (atom 45652) with NA\n",
      "Replacing solvent molecule 9591 (atom 35437) with NA\n",
      "Replacing solvent molecule 10018 (atom 36718) with NA\n",
      "Replacing solvent molecule 11513 (atom 41203) with NA\n",
      "Replacing solvent molecule 9700 (atom 35764) with NA\n",
      "Replacing solvent molecule 15069 (atom 51871) with NA\n",
      "Replacing solvent molecule 11363 (atom 40753) with NA\n",
      "Replacing solvent molecule 14943 (atom 51493) with NA\n",
      "Replacing solvent molecule 4658 (atom 20638) with NA\n",
      "Replacing solvent molecule 13184 (atom 46216) with NA\n",
      "Replacing solvent molecule 4269 (atom 19471) with NA\n",
      "Replacing solvent molecule 14004 (atom 48676) with NA\n",
      "Replacing solvent molecule 2344 (atom 13696) with NA\n",
      "Replacing solvent molecule 12514 (atom 44206) with NA\n",
      "Replacing solvent molecule 16831 (atom 57157) with CL\n",
      "Replacing solvent molecule 15350 (atom 52714) with CL\n",
      "Replacing solvent molecule 16481 (atom 56107) with CL\n",
      "Replacing solvent molecule 11915 (atom 42409) with CL\n",
      "Replacing solvent molecule 6165 (atom 25159) with CL\n",
      "Replacing solvent molecule 921 (atom 9427) with CL\n",
      "Replacing solvent molecule 13050 (atom 45814) with CL\n",
      "Replacing solvent molecule 12797 (atom 45055) with CL\n",
      "Replacing solvent molecule 6365 (atom 25759) with CL\n",
      "Replacing solvent molecule 8682 (atom 32710) with CL\n",
      "Replacing solvent molecule 7030 (atom 27754) with CL\n",
      "Replacing solvent molecule 7838 (atom 30178) with CL\n",
      "Replacing solvent molecule 14387 (atom 49825) with CL\n",
      "Replacing solvent molecule 14504 (atom 50176) with CL\n",
      "Replacing solvent molecule 11167 (atom 40165) with CL\n",
      "Replacing solvent molecule 8330 (atom 31654) with CL\n",
      "Replacing solvent molecule 841 (atom 9187) with CL\n",
      "Replacing solvent molecule 5423 (atom 22933) with CL\n",
      "Replacing solvent molecule 14493 (atom 50143) with CL\n",
      "Replacing solvent molecule 4058 (atom 18838) with CL\n",
      "Replacing solvent molecule 12214 (atom 43306) with CL\n",
      "Replacing solvent molecule 1888 (atom 12328) with CL\n",
      "\n",
      "\n",
      "GROMACS reminds you: \"Heavier-than-air flying machines are impossible.\" (Lord Kelvin, President of Royal Society, 1895.)\n",
      "\n",
      "\n",
      "2023-09-28 17:24:09,587 [MainThread  ] [INFO ]  Compressing topology to: /Users/hospital/BioBB/Antibody/BioBB/biobb_wf_md_setup/biobb_wf_md_setup/notebooks/ab3539d3-6f47-4016-a1a5-997b9883f4e5/3RVT_genion_top.zip\n",
      "2023-09-28 17:24:09,587 [MainThread  ] [INFO ]  Ignored file 249337b0-e5c6-416e-86d8-7260224bd96a/charmm36-jul2017.ff/forcefield.itp\n",
      "2023-09-28 17:24:09,605 [MainThread  ] [INFO ]  Ignored file 249337b0-e5c6-416e-86d8-7260224bd96a/charmm36-jul2017.ff/tip3p.itp\n",
      "2023-09-28 17:24:09,606 [MainThread  ] [INFO ]  Ignored file 249337b0-e5c6-416e-86d8-7260224bd96a/charmm36-jul2017.ff/ions.itp\n",
      "2023-09-28 17:24:09,612 [MainThread  ] [INFO ]  Adding:\n",
      "2023-09-28 17:24:09,612 [MainThread  ] [INFO ]  ['249337b0-e5c6-416e-86d8-7260224bd96a/p2g.top', '249337b0-e5c6-416e-86d8-7260224bd96a/p2g_Protein_chain_C.itp', '249337b0-e5c6-416e-86d8-7260224bd96a/p2g_Protein_chain_D.itp', '249337b0-e5c6-416e-86d8-7260224bd96a/posre_Protein_chain_C.itp', '249337b0-e5c6-416e-86d8-7260224bd96a/posre_Protein_chain_D.itp']\n",
      "2023-09-28 17:24:09,613 [MainThread  ] [INFO ]  to: /Users/hospital/BioBB/Antibody/BioBB/biobb_wf_md_setup/biobb_wf_md_setup/notebooks/3RVT_genion_top.zip\n",
      "2023-09-28 17:24:09,614 [MainThread  ] [INFO ]  Removed: ['249337b0-e5c6-416e-86d8-7260224bd96a/p2g.top', '249337b0-e5c6-416e-86d8-7260224bd96a/p2g_Protein_chain_C.itp', '249337b0-e5c6-416e-86d8-7260224bd96a/p2g_Protein_chain_D.itp', '249337b0-e5c6-416e-86d8-7260224bd96a/posre_Protein_chain_C.itp', '249337b0-e5c6-416e-86d8-7260224bd96a/posre_Protein_chain_D.itp']\n",
      "2023-09-28 17:24:09,615 [MainThread  ] [INFO ]  Removed: ['/Users/hospital/BioBB/Antibody/BioBB/biobb_wf_md_setup/biobb_wf_md_setup/notebooks/ab3539d3-6f47-4016-a1a5-997b9883f4e5', '249337b0-e5c6-416e-86d8-7260224bd96a', '/Users/hospital/BioBB/Antibody/BioBB/biobb_wf_md_setup/biobb_wf_md_setup/notebooks/4ccaa1bd-1fde-480b-9a8b-79b99db94db0.stdin']\n"
     ]
    },
    {
     "name": "stderr",
     "output_type": "stream",
     "text": [
      "/opt/anaconda3/envs/biobb_GMX_MDsetup_tutorial_v4.1/lib/python3.11/site-packages/biobb_common/generic/biobb_object.py:152: UserWarning: Warning: ionic_concentration is not a recognized property. The most similar property is: concentration\n",
      "  warnings.warn(\n"
     ]
    },
    {
     "data": {
      "text/plain": [
       "0"
      ]
     },
     "execution_count": 67,
     "metadata": {},
     "output_type": "execute_result"
    }
   ],
   "source": [
    "# Genion: Adding ions to neutralize the system\n",
    "from biobb_gromacs.gromacs.genion import genion\n",
    "\n",
    "# Create prop dict and inputs/outputs\n",
    "output_genion_gro = pdbCode+'_genion.gro'\n",
    "output_genion_top_zip = pdbCode+'_genion_top.zip'\n",
    "prop={\n",
    "    'neutral':True,\n",
    "    'ionic_concentration' : 0.15\n",
    "}\n",
    "\n",
    "# Create and launch bb\n",
    "genion(input_tpr_path=output_gppion_tpr, \n",
    "       output_gro_path=output_genion_gro, \n",
    "       input_top_zip_path=output_solvate_top_zip, \n",
    "       output_top_zip_path=output_genion_top_zip, \n",
    "       properties=prop)"
   ]
  },
  {
   "cell_type": "markdown",
   "metadata": {},
   "source": [
    "#### Visualizing 3D structure\n",
    "Visualizing the **neutralized protein system** with the newly added **ions** using **NGL**"
   ]
  },
  {
   "cell_type": "code",
   "execution_count": 68,
   "metadata": {},
   "outputs": [
    {
     "data": {
      "application/vnd.jupyter.widget-view+json": {
       "model_id": "f70bb887158f477aa3faf50adf58edd7",
       "version_major": 2,
       "version_minor": 0
      },
      "text/plain": [
       "NGLWidget()"
      ]
     },
     "metadata": {},
     "output_type": "display_data"
    }
   ],
   "source": [
    "# Show protein\n",
    "view = nglview.show_structure_file(output_genion_gro)\n",
    "view.clear_representations()\n",
    "view.add_representation(repr_type='cartoon', selection='solute', color='sstruc')\n",
    "view.add_representation(repr_type='ball+stick', selection='NA')\n",
    "view.add_representation(repr_type='ball+stick', selection='CL')\n",
    "view._remote_call('setSize', target='Widget', args=['','600px'])\n",
    "view.camera='orthographic'\n",
    "view"
   ]
  },
  {
   "cell_type": "markdown",
   "metadata": {},
   "source": [
    "<a id=\"min\"></a>\n",
    "***\n",
    "### Energetically minimize the system\n",
    "Energetically minimize the **protein system** till reaching a desired potential energy.\n",
    "- [Step 1](#emStep1): Creating portable binary run file for energy minimization\n",
    "- [Step 2](#emStep2): Energetically minimize the **system** till reaching a force of 500 kJ mol-1 nm-1.\n",
    "- [Step 3](#emStep3): Checking **energy minimization** results. Plotting energy by time during the **minimization** process.\n",
    "***\n",
    "**Building Blocks** used:\n",
    " - [Grompp](https://biobb-md.readthedocs.io/en/latest/gromacs.html#module-gromacs.grompp) from **biobb_gromacs.gromacs.grompp** \n",
    " - [Mdrun](https://biobb-md.readthedocs.io/en/latest/gromacs.html#module-gromacs.mdrun) from **biobb_gromacs.gromacs.mdrun** \n",
    " - [GMXEnergy](https://biobb-analysis.readthedocs.io/en/latest/gromacs.html#module-gromacs.gmx_energy) from **biobb_analysis.gromacs.gmx_energy** \n",
    "***"
   ]
  },
  {
   "cell_type": "markdown",
   "metadata": {},
   "source": [
    "<a id=\"emStep1\"></a>\n",
    "#### Step 1: Creating portable binary run file for energy minimization\n",
    "The **minimization** type of the **molecular dynamics parameters (mdp) property** contains the main default parameters to run an **energy minimization**:\n",
    "\n",
    "-  integrator  = steep ; Algorithm (steep = steepest descent minimization)\n",
    "-  emtol       = 1000.0 ; Stop minimization when the maximum force < 1000.0 kJ/mol/nm\n",
    "-  emstep      = 0.01 ; Minimization step size (nm)\n",
    "-  nsteps      = 50000 ; Maximum number of (minimization) steps to perform\n",
    "\n",
    "In this particular example, the method used to run the **energy minimization** is the default **steepest descent**, but the **maximum force** is placed at **500 KJ/mol\\*nm^2**, and the **maximum number of steps** to perform (if the maximum force is not reached) to **5,000 steps**. "
   ]
  },
  {
   "cell_type": "code",
   "execution_count": 71,
   "metadata": {
    "scrolled": true
   },
   "outputs": [
    {
     "name": "stdout",
     "output_type": "stream",
     "text": [
      "2023-09-28 17:28:41,972 [MainThread  ] [INFO ]  Executing biobb_gromacs.gromacs.grompp Version: 4.1.0\n",
      "2023-09-28 17:28:41,975 [MainThread  ] [INFO ]  Copy: 3RVT_genion.gro to /Users/hospital/BioBB/Antibody/BioBB/biobb_wf_md_setup/biobb_wf_md_setup/notebooks/60481595-2b94-4e31-a8e7-6274360d729e\n",
      "2023-09-28 17:28:41,977 [MainThread  ] [INFO ]  Copy: inputs/emin-charmm.mdp to /Users/hospital/BioBB/Antibody/BioBB/biobb_wf_md_setup/biobb_wf_md_setup/notebooks/60481595-2b94-4e31-a8e7-6274360d729e\n",
      "2023-09-28 17:28:41,980 [MainThread  ] [INFO ]  Extracting: /Users/hospital/BioBB/Antibody/BioBB/biobb_wf_md_setup/biobb_wf_md_setup/notebooks/3RVT_genion_top.zip\n",
      "2023-09-28 17:28:41,981 [MainThread  ] [INFO ]  to:\n",
      "2023-09-28 17:28:41,981 [MainThread  ] [INFO ]  ['/Users/hospital/BioBB/Antibody/BioBB/biobb_wf_md_setup/biobb_wf_md_setup/notebooks/60481595-2b94-4e31-a8e7-6274360d729e/p2g.top', '/Users/hospital/BioBB/Antibody/BioBB/biobb_wf_md_setup/biobb_wf_md_setup/notebooks/60481595-2b94-4e31-a8e7-6274360d729e/p2g_Protein_chain_C.itp', '/Users/hospital/BioBB/Antibody/BioBB/biobb_wf_md_setup/biobb_wf_md_setup/notebooks/60481595-2b94-4e31-a8e7-6274360d729e/p2g_Protein_chain_D.itp', '/Users/hospital/BioBB/Antibody/BioBB/biobb_wf_md_setup/biobb_wf_md_setup/notebooks/60481595-2b94-4e31-a8e7-6274360d729e/posre_Protein_chain_C.itp', '/Users/hospital/BioBB/Antibody/BioBB/biobb_wf_md_setup/biobb_wf_md_setup/notebooks/60481595-2b94-4e31-a8e7-6274360d729e/posre_Protein_chain_D.itp']\n",
      "2023-09-28 17:28:41,982 [MainThread  ] [INFO ]  Unzipping: \n",
      "2023-09-28 17:28:41,982 [MainThread  ] [INFO ]  3RVT_genion_top.zip\n",
      "2023-09-28 17:28:41,983 [MainThread  ] [INFO ]  To: \n",
      "2023-09-28 17:28:41,983 [MainThread  ] [INFO ]  /Users/hospital/BioBB/Antibody/BioBB/biobb_wf_md_setup/biobb_wf_md_setup/notebooks/60481595-2b94-4e31-a8e7-6274360d729e/p2g.top\n",
      "2023-09-28 17:28:41,984 [MainThread  ] [INFO ]  /Users/hospital/BioBB/Antibody/BioBB/biobb_wf_md_setup/biobb_wf_md_setup/notebooks/60481595-2b94-4e31-a8e7-6274360d729e/p2g_Protein_chain_C.itp\n",
      "2023-09-28 17:28:41,984 [MainThread  ] [INFO ]  /Users/hospital/BioBB/Antibody/BioBB/biobb_wf_md_setup/biobb_wf_md_setup/notebooks/60481595-2b94-4e31-a8e7-6274360d729e/p2g_Protein_chain_D.itp\n",
      "2023-09-28 17:28:41,985 [MainThread  ] [INFO ]  /Users/hospital/BioBB/Antibody/BioBB/biobb_wf_md_setup/biobb_wf_md_setup/notebooks/60481595-2b94-4e31-a8e7-6274360d729e/posre_Protein_chain_C.itp\n",
      "2023-09-28 17:28:41,985 [MainThread  ] [INFO ]  /Users/hospital/BioBB/Antibody/BioBB/biobb_wf_md_setup/biobb_wf_md_setup/notebooks/60481595-2b94-4e31-a8e7-6274360d729e/posre_Protein_chain_D.itp\n",
      "2023-09-28 17:28:41,987 [MainThread  ] [INFO ]  GROMACS Grompp 20222 version detected\n",
      "2023-09-28 17:28:41,987 [MainThread  ] [INFO ]  gmx -nobackup -nocopyright grompp -f /Users/hospital/BioBB/Antibody/BioBB/biobb_wf_md_setup/biobb_wf_md_setup/notebooks/60481595-2b94-4e31-a8e7-6274360d729e/grompp.mdp -c /Users/hospital/BioBB/Antibody/BioBB/biobb_wf_md_setup/biobb_wf_md_setup/notebooks/60481595-2b94-4e31-a8e7-6274360d729e/3RVT_genion.gro -r /Users/hospital/BioBB/Antibody/BioBB/biobb_wf_md_setup/biobb_wf_md_setup/notebooks/60481595-2b94-4e31-a8e7-6274360d729e/3RVT_genion.gro -p /Users/hospital/BioBB/Antibody/BioBB/biobb_wf_md_setup/biobb_wf_md_setup/notebooks/60481595-2b94-4e31-a8e7-6274360d729e/p2g.top -o /Users/hospital/BioBB/Antibody/BioBB/biobb_wf_md_setup/biobb_wf_md_setup/notebooks/60481595-2b94-4e31-a8e7-6274360d729e/3RVT_gppmin.tpr -po mdout.mdp -maxwarn 0\n",
      "\n",
      "2023-09-28 17:28:42,859 [MainThread  ] [INFO ]  Exit code 0\n",
      "\n",
      "2023-09-28 17:28:42,860 [MainThread  ] [INFO ]  Setting the LD random seed to -2047008817\n",
      "\n",
      "Generated 97877 of the 97903 non-bonded parameter combinations\n",
      "\n",
      "Generated 64492 of the 97903 1-4 parameter combinations\n",
      "\n",
      "Excluding 3 bonded neighbours molecule type 'Protein_chain_C'\n",
      "\n",
      "turning H bonds into constraints...\n",
      "\n",
      "Excluding 3 bonded neighbours molecule type 'Protein_chain_D'\n",
      "\n",
      "turning H bonds into constraints...\n",
      "\n",
      "Excluding 2 bonded neighbours molecule type 'SOL'\n",
      "\n",
      "turning H bonds into constraints...\n",
      "\n",
      "Excluding 1 bonded neighbours molecule type 'NA'\n",
      "\n",
      "turning H bonds into constraints...\n",
      "\n",
      "Excluding 1 bonded neighbours molecule type 'CL'\n",
      "\n",
      "turning H bonds into constraints...\n",
      "Analysing residue names:\n",
      "There are:   435    Protein residues\n",
      "There are: 16963      Water residues\n",
      "There are:    40        Ion residues\n",
      "Analysing Protein...\n",
      "Analysing residues not classified as Protein/DNA/RNA/Water and splitting into groups...\n",
      "\n",
      "The largest distance between excluded atoms is 0.454 nm\n",
      "Calculating fourier grid dimensions for X Y Z\n",
      "Using a fourier grid of 64x64x64, spacing 0.148 0.148 0.148\n",
      "\n",
      "Estimate for the relative computational load of the PME mesh part: 0.10\n",
      "\n",
      "This run will generate roughly 4 Mb of data\n",
      "\n",
      "2023-09-28 17:28:42,860 [MainThread  ] [INFO ]                  :-) GROMACS - gmx grompp, 2022.2-conda_forge (-:\n",
      "\n",
      "Executable:   /opt/anaconda3/envs/biobb_GMX_MDsetup_tutorial_v4.1/bin.SSE2/gmx\n",
      "Data prefix:  /opt/anaconda3/envs/biobb_GMX_MDsetup_tutorial_v4.1\n",
      "Working dir:  /Users/hospital/BioBB/Antibody/BioBB/biobb_wf_md_setup/biobb_wf_md_setup/notebooks\n",
      "Command line:\n",
      "  gmx -nobackup -nocopyright grompp -f /Users/hospital/BioBB/Antibody/BioBB/biobb_wf_md_setup/biobb_wf_md_setup/notebooks/60481595-2b94-4e31-a8e7-6274360d729e/grompp.mdp -c /Users/hospital/BioBB/Antibody/BioBB/biobb_wf_md_setup/biobb_wf_md_setup/notebooks/60481595-2b94-4e31-a8e7-6274360d729e/3RVT_genion.gro -r /Users/hospital/BioBB/Antibody/BioBB/biobb_wf_md_setup/biobb_wf_md_setup/notebooks/60481595-2b94-4e31-a8e7-6274360d729e/3RVT_genion.gro -p /Users/hospital/BioBB/Antibody/BioBB/biobb_wf_md_setup/biobb_wf_md_setup/notebooks/60481595-2b94-4e31-a8e7-6274360d729e/p2g.top -o /Users/hospital/BioBB/Antibody/BioBB/biobb_wf_md_setup/biobb_wf_md_setup/notebooks/60481595-2b94-4e31-a8e7-6274360d729e/3RVT_gppmin.tpr -po mdout.mdp -maxwarn 0\n",
      "\n",
      "Ignoring obsolete mdp entry 'title'\n",
      "Generating 1-4 interactions: fudge = 1\n",
      "Number of degrees of freedom in T-Coupling group rest is 118606.00\n",
      "\n",
      "GROMACS reminds you: \"Your Excellency, I have no need of this hypothesis.\" (Pierre Laplace, to Napoleon on why his works on celestial mechanics make no mention of God.)\n",
      "\n",
      "\n",
      "2023-09-28 17:28:42,863 [MainThread  ] [INFO ]  Removed: ['/Users/hospital/BioBB/Antibody/BioBB/biobb_wf_md_setup/biobb_wf_md_setup/notebooks/60481595-2b94-4e31-a8e7-6274360d729e', 'mdout.mdp']\n"
     ]
    },
    {
     "data": {
      "text/plain": [
       "0"
      ]
     },
     "execution_count": 71,
     "metadata": {},
     "output_type": "execute_result"
    }
   ],
   "source": [
    "# Grompp: Creating portable binary run file for mdrun\n",
    "from biobb_gromacs.gromacs.grompp import grompp\n",
    "\n",
    "# Create prop dict and inputs/outputs\n",
    "input_mdp_min = \"inputs/emin-charmm.mdp\"\n",
    "output_gppmin_tpr = pdbCode+'_gppmin.tpr'\n",
    "\n",
    "prop = {\n",
    "    'gmx_lib' : cwd + '/inputs'\n",
    "}\n",
    "\n",
    "# Create and launch bb\n",
    "grompp(input_gro_path=output_genion_gro, \n",
    "       input_top_zip_path=output_genion_top_zip, \n",
    "       input_mdp_path=input_mdp_min,\n",
    "       output_tpr_path=output_gppmin_tpr,  \n",
    "       properties=prop)"
   ]
  },
  {
   "cell_type": "markdown",
   "metadata": {},
   "source": [
    "<a id=\"emStep2\"></a>\n",
    "#### Step 2: Running Energy Minimization\n",
    "Running **energy minimization** using the **tpr file** generated in the previous step. "
   ]
  },
  {
   "cell_type": "code",
   "execution_count": 72,
   "metadata": {},
   "outputs": [
    {
     "name": "stdout",
     "output_type": "stream",
     "text": [
      "2023-09-28 17:28:49,758 [MainThread  ] [INFO ]  Executing biobb_gromacs.gromacs.mdrun Version: 4.1.0\n",
      "2023-09-28 17:28:49,761 [MainThread  ] [INFO ]  Copy: 3RVT_gppmin.tpr to /Users/hospital/BioBB/Antibody/BioBB/biobb_wf_md_setup/biobb_wf_md_setup/notebooks/9d8234b7-c5cb-44c8-bcb7-62a9e5c7fa59\n",
      "2023-09-28 17:28:49,761 [MainThread  ] [INFO ]  GROMACS Mdrun 20222 version detected\n",
      "2023-09-28 17:28:49,762 [MainThread  ] [INFO ]  gmx -nobackup -nocopyright mdrun -o /Users/hospital/BioBB/Antibody/BioBB/biobb_wf_md_setup/biobb_wf_md_setup/notebooks/9d8234b7-c5cb-44c8-bcb7-62a9e5c7fa59/3RVT_min.trr -s /Users/hospital/BioBB/Antibody/BioBB/biobb_wf_md_setup/biobb_wf_md_setup/notebooks/9d8234b7-c5cb-44c8-bcb7-62a9e5c7fa59/3RVT_gppmin.tpr -c /Users/hospital/BioBB/Antibody/BioBB/biobb_wf_md_setup/biobb_wf_md_setup/notebooks/9d8234b7-c5cb-44c8-bcb7-62a9e5c7fa59/3RVT_min.gro -e /Users/hospital/BioBB/Antibody/BioBB/biobb_wf_md_setup/biobb_wf_md_setup/notebooks/9d8234b7-c5cb-44c8-bcb7-62a9e5c7fa59/3RVT_min.edr -g /Users/hospital/BioBB/Antibody/BioBB/biobb_wf_md_setup/biobb_wf_md_setup/notebooks/9d8234b7-c5cb-44c8-bcb7-62a9e5c7fa59/3RVT_min.log\n",
      "\n",
      "2023-09-28 17:29:22,052 [MainThread  ] [INFO ]  Exit code 0\n",
      "\n",
      "2023-09-28 17:29:22,053 [MainThread  ] [INFO ]                  :-) GROMACS - gmx mdrun, 2022.2-conda_forge (-:\n",
      "\n",
      "Executable:   /opt/anaconda3/envs/biobb_GMX_MDsetup_tutorial_v4.1/bin.SSE2/gmx\n",
      "Data prefix:  /opt/anaconda3/envs/biobb_GMX_MDsetup_tutorial_v4.1\n",
      "Working dir:  /Users/hospital/BioBB/Antibody/BioBB/biobb_wf_md_setup/biobb_wf_md_setup/notebooks\n",
      "Command line:\n",
      "  gmx -nobackup -nocopyright mdrun -o /Users/hospital/BioBB/Antibody/BioBB/biobb_wf_md_setup/biobb_wf_md_setup/notebooks/9d8234b7-c5cb-44c8-bcb7-62a9e5c7fa59/3RVT_min.trr -s /Users/hospital/BioBB/Antibody/BioBB/biobb_wf_md_setup/biobb_wf_md_setup/notebooks/9d8234b7-c5cb-44c8-bcb7-62a9e5c7fa59/3RVT_gppmin.tpr -c /Users/hospital/BioBB/Antibody/BioBB/biobb_wf_md_setup/biobb_wf_md_setup/notebooks/9d8234b7-c5cb-44c8-bcb7-62a9e5c7fa59/3RVT_min.gro -e /Users/hospital/BioBB/Antibody/BioBB/biobb_wf_md_setup/biobb_wf_md_setup/notebooks/9d8234b7-c5cb-44c8-bcb7-62a9e5c7fa59/3RVT_min.edr -g /Users/hospital/BioBB/Antibody/BioBB/biobb_wf_md_setup/biobb_wf_md_setup/notebooks/9d8234b7-c5cb-44c8-bcb7-62a9e5c7fa59/3RVT_min.log\n",
      "\n",
      "Compiled SIMD: SSE2, but for this host/run SSE4.1 might be better (see log).\n",
      "Reading file /Users/hospital/BioBB/Antibody/BioBB/biobb_wf_md_setup/biobb_wf_md_setup/notebooks/9d8234b7-c5cb-44c8-bcb7-62a9e5c7fa59/3RVT_gppmin.tpr, VERSION 2022.2-conda_forge (single precision)\n",
      "Using 1 MPI thread\n",
      "Using 8 OpenMP threads \n",
      "\n",
      "\n",
      "Steepest Descents:\n",
      "   Tolerance (Fmax)   =  1.00000e+03\n",
      "   Number of steps    =           -1\n",
      "\n",
      "writing lowest energy coordinates.\n",
      "\n",
      "Steepest Descents converged to Fmax < 1000 in 865 steps\n",
      "Potential Energy  = -8.7078700e+05\n",
      "Maximum force     =  9.2979211e+02 on atom 4622\n",
      "Norm of force     =  1.7743642e+01\n",
      "\n",
      "GROMACS reminds you: \"Working in the Burger Kings, Spitting on your Onion Rings\" (Slim Shady)\n",
      "\n",
      "\n",
      "2023-09-28 17:29:22,057 [MainThread  ] [INFO ]  Removed: ['/Users/hospital/BioBB/Antibody/BioBB/biobb_wf_md_setup/biobb_wf_md_setup/notebooks/9d8234b7-c5cb-44c8-bcb7-62a9e5c7fa59']\n"
     ]
    },
    {
     "data": {
      "text/plain": [
       "0"
      ]
     },
     "execution_count": 72,
     "metadata": {},
     "output_type": "execute_result"
    }
   ],
   "source": [
    "# Mdrun: Running minimization\n",
    "from biobb_gromacs.gromacs.mdrun import mdrun\n",
    "\n",
    "# Create prop dict and inputs/outputs\n",
    "output_min_trr = pdbCode+'_min.trr'\n",
    "output_min_gro = pdbCode+'_min.gro'\n",
    "output_min_edr = pdbCode+'_min.edr'\n",
    "output_min_log = pdbCode+'_min.log'\n",
    "\n",
    "# Create and launch bb\n",
    "mdrun(input_tpr_path=output_gppmin_tpr, \n",
    "      output_trr_path=output_min_trr, \n",
    "      output_gro_path=output_min_gro, \n",
    "      output_edr_path=output_min_edr, \n",
    "      output_log_path=output_min_log)"
   ]
  },
  {
   "cell_type": "markdown",
   "metadata": {},
   "source": [
    "<a id=\"emStep3\"></a>\n",
    "#### Step 3: Checking Energy Minimization results\n",
    "Checking **energy minimization** results. Plotting **potential energy** by time during the minimization process. "
   ]
  },
  {
   "cell_type": "code",
   "execution_count": 73,
   "metadata": {
    "scrolled": true
   },
   "outputs": [
    {
     "name": "stdout",
     "output_type": "stream",
     "text": [
      "2023-09-28 17:30:07,392 [MainThread  ] [INFO ]  Executing biobb_analysis.gromacs.gmx_energy Version: 4.1.0\n",
      "2023-09-28 17:30:07,394 [MainThread  ] [INFO ]  Copy: /Users/hospital/BioBB/Antibody/BioBB/biobb_wf_md_setup/biobb_wf_md_setup/notebooks/3RVT_min.edr to /Users/hospital/BioBB/Antibody/BioBB/biobb_wf_md_setup/biobb_wf_md_setup/notebooks/779f388f-1d1a-45a1-b9da-aa518fe71746\n",
      "2023-09-28 17:30:07,396 [MainThread  ] [INFO ]  gmx energy -f /Users/hospital/BioBB/Antibody/BioBB/biobb_wf_md_setup/biobb_wf_md_setup/notebooks/779f388f-1d1a-45a1-b9da-aa518fe71746/3RVT_min.edr -o /Users/hospital/BioBB/Antibody/BioBB/biobb_wf_md_setup/biobb_wf_md_setup/notebooks/779f388f-1d1a-45a1-b9da-aa518fe71746/3RVT_min_ene.xvg -xvg none < 73bf27f2-b7ca-43d3-840a-6227616f9a61/instructions.in\n",
      "\n",
      "2023-09-28 17:30:07,432 [MainThread  ] [INFO ]  Exit code 0\n",
      "\n",
      "2023-09-28 17:30:07,434 [MainThread  ] [INFO ]  \n",
      "Statistics over 865 steps [ 0.0000 through 864.0000 ps ], 1 data sets\n",
      "All statistics are over 685 points (frames)\n",
      "\n",
      "Energy                      Average   Err.Est.       RMSD  Tot-Drift\n",
      "-------------------------------------------------------------------------------\n",
      "Potential                   -838524      16000    43256.5    -108787  (kJ/mol)\n",
      "\n",
      "2023-09-28 17:30:07,434 [MainThread  ] [INFO ]                  :-) GROMACS - gmx energy, 2022.2-conda_forge (-:\n",
      "\n",
      "Executable:   /opt/anaconda3/envs/biobb_GMX_MDsetup_tutorial_v4.1/bin.SSE2/gmx\n",
      "Data prefix:  /opt/anaconda3/envs/biobb_GMX_MDsetup_tutorial_v4.1\n",
      "Working dir:  /Users/hospital/BioBB/Antibody/BioBB/biobb_wf_md_setup/biobb_wf_md_setup/notebooks\n",
      "Command line:\n",
      "  gmx energy -f /Users/hospital/BioBB/Antibody/BioBB/biobb_wf_md_setup/biobb_wf_md_setup/notebooks/779f388f-1d1a-45a1-b9da-aa518fe71746/3RVT_min.edr -o /Users/hospital/BioBB/Antibody/BioBB/biobb_wf_md_setup/biobb_wf_md_setup/notebooks/779f388f-1d1a-45a1-b9da-aa518fe71746/3RVT_min_ene.xvg -xvg none\n",
      "\n",
      "Opened /Users/hospital/BioBB/Antibody/BioBB/biobb_wf_md_setup/biobb_wf_md_setup/notebooks/779f388f-1d1a-45a1-b9da-aa518fe71746/3RVT_min.edr as single precision energy file\n",
      "\n",
      "Select the terms you want from the following list by\n",
      "selecting either (part of) the name or the number or a combination.\n",
      "End your selection with an empty line or a zero.\n",
      "-------------------------------------------------------------------\n",
      "  1  Bond             2  U-B              3  Proper-Dih.      4  Improper-Dih. \n",
      "  5  CMAP-Dih.        6  LJ-14            7  Coulomb-14       8  LJ-(SR)       \n",
      "  9  Disper.-corr.   10  Coulomb-(SR)    11  Coul.-recip.    12  Potential     \n",
      " 13  Pres.-DC        14  Pressure        15  Constr.-rmsd    16  Vir-XX        \n",
      " 17  Vir-XY          18  Vir-XZ          19  Vir-YX          20  Vir-YY        \n",
      " 21  Vir-YZ          22  Vir-ZX          23  Vir-ZY          24  Vir-ZZ        \n",
      " 25  Pres-XX         26  Pres-XY         27  Pres-XZ         28  Pres-YX       \n",
      " 29  Pres-YY         30  Pres-YZ         31  Pres-ZX         32  Pres-ZY       \n",
      " 33  Pres-ZZ         34  #Surf*SurfTen   35  T-rest        \n",
      "\n",
      "Last energy frame read 684 time  864.000          \n",
      "\n",
      "GROMACS reminds you: \"I have no responsibility to live up to what others expect of me. That's their mistake, not my failing.\" (Richard Feynman)\n",
      "\n",
      "\n",
      "2023-09-28 17:30:07,437 [MainThread  ] [INFO ]  Removed: ['/Users/hospital/BioBB/Antibody/BioBB/biobb_wf_md_setup/biobb_wf_md_setup/notebooks/779f388f-1d1a-45a1-b9da-aa518fe71746', '73bf27f2-b7ca-43d3-840a-6227616f9a61']\n"
     ]
    },
    {
     "data": {
      "text/plain": [
       "0"
      ]
     },
     "execution_count": 73,
     "metadata": {},
     "output_type": "execute_result"
    }
   ],
   "source": [
    "# GMXEnergy: Getting system energy by time  \n",
    "from biobb_analysis.gromacs.gmx_energy import gmx_energy\n",
    "\n",
    "# Create prop dict and inputs/outputs\n",
    "output_min_ene_xvg = pdbCode+'_min_ene.xvg'\n",
    "prop = {\n",
    "    'terms':  [\"Potential\"]\n",
    "}\n",
    "\n",
    "# Create and launch bb\n",
    "gmx_energy(input_energy_path=output_min_edr, \n",
    "          output_xvg_path=output_min_ene_xvg, \n",
    "          properties=prop)"
   ]
  },
  {
   "cell_type": "code",
   "execution_count": 74,
   "metadata": {},
   "outputs": [
    {
     "data": {
      "text/html": [
       "        <script type=\"text/javascript\">\n",
       "        window.PlotlyConfig = {MathJaxConfig: 'local'};\n",
       "        if (window.MathJax && window.MathJax.Hub && window.MathJax.Hub.Config) {window.MathJax.Hub.Config({SVG: {font: \"STIX-Web\"}});}\n",
       "        if (typeof require !== 'undefined') {\n",
       "        require.undef(\"plotly\");\n",
       "        requirejs.config({\n",
       "            paths: {\n",
       "                'plotly': ['https://cdn.plot.ly/plotly-2.26.0.min']\n",
       "            }\n",
       "        });\n",
       "        require(['plotly'], function(Plotly) {\n",
       "            window._Plotly = Plotly;\n",
       "        });\n",
       "        }\n",
       "        </script>\n",
       "        "
      ]
     },
     "metadata": {},
     "output_type": "display_data"
    },
    {
     "data": {
      "application/vnd.plotly.v1+json": {
       "config": {
        "linkText": "Export to plot.ly",
        "plotlyServerURL": "https://plot.ly",
        "showLink": false
       },
       "data": [
        {
         "type": "scatter",
         "x": [
          0,
          1,
          2,
          3,
          4,
          5,
          6,
          7,
          8,
          9,
          10,
          11,
          12,
          13,
          15,
          16,
          17,
          18,
          19,
          20,
          22,
          23,
          25,
          26,
          28,
          29,
          30,
          32,
          33,
          34,
          36,
          37,
          38,
          40,
          41,
          42,
          44,
          45,
          46,
          48,
          49,
          50,
          52,
          53,
          54,
          55,
          56,
          58,
          59,
          60,
          62,
          63,
          64,
          65,
          66,
          67,
          69,
          70,
          71,
          73,
          74,
          75,
          76,
          78,
          80,
          81,
          82,
          83,
          85,
          86,
          87,
          89,
          90,
          91,
          92,
          93,
          95,
          96,
          97,
          99,
          100,
          101,
          102,
          103,
          105,
          106,
          107,
          109,
          110,
          111,
          112,
          113,
          114,
          116,
          117,
          118,
          120,
          121,
          123,
          124,
          125,
          127,
          128,
          129,
          130,
          131,
          133,
          134,
          135,
          137,
          138,
          139,
          140,
          141,
          142,
          144,
          146,
          147,
          148,
          149,
          151,
          152,
          153,
          155,
          156,
          157,
          159,
          160,
          161,
          162,
          163,
          165,
          166,
          167,
          169,
          170,
          171,
          172,
          173,
          175,
          176,
          177,
          179,
          180,
          181,
          182,
          183,
          185,
          186,
          187,
          189,
          190,
          191,
          192,
          194,
          195,
          196,
          198,
          199,
          200,
          201,
          203,
          204,
          205,
          207,
          208,
          209,
          210,
          212,
          213,
          214,
          216,
          217,
          218,
          219,
          221,
          222,
          223,
          225,
          226,
          227,
          228,
          229,
          230,
          232,
          233,
          234,
          236,
          237,
          238,
          239,
          241,
          242,
          243,
          245,
          246,
          247,
          248,
          249,
          251,
          252,
          253,
          255,
          256,
          257,
          258,
          260,
          261,
          262,
          264,
          265,
          266,
          267,
          268,
          269,
          271,
          272,
          273,
          275,
          276,
          277,
          278,
          280,
          281,
          282,
          284,
          285,
          286,
          287,
          288,
          290,
          291,
          292,
          294,
          295,
          296,
          297,
          299,
          300,
          301,
          303,
          304,
          305,
          306,
          307,
          309,
          310,
          311,
          313,
          314,
          315,
          316,
          318,
          319,
          320,
          322,
          323,
          324,
          325,
          326,
          328,
          329,
          330,
          332,
          333,
          334,
          335,
          337,
          338,
          339,
          341,
          342,
          343,
          344,
          345,
          347,
          348,
          349,
          351,
          352,
          353,
          354,
          356,
          357,
          358,
          360,
          361,
          362,
          363,
          364,
          366,
          367,
          368,
          370,
          371,
          372,
          373,
          375,
          376,
          377,
          379,
          380,
          381,
          382,
          383,
          385,
          386,
          387,
          389,
          390,
          391,
          392,
          394,
          395,
          396,
          398,
          399,
          400,
          401,
          402,
          403,
          405,
          406,
          407,
          409,
          410,
          411,
          412,
          414,
          415,
          416,
          418,
          419,
          420,
          421,
          423,
          424,
          425,
          427,
          428,
          429,
          430,
          432,
          433,
          434,
          436,
          437,
          438,
          439,
          440,
          441,
          443,
          444,
          445,
          447,
          448,
          449,
          450,
          452,
          453,
          454,
          456,
          457,
          458,
          459,
          460,
          462,
          463,
          464,
          466,
          467,
          468,
          469,
          471,
          472,
          473,
          475,
          476,
          477,
          478,
          479,
          480,
          482,
          483,
          484,
          486,
          487,
          488,
          489,
          491,
          492,
          493,
          495,
          496,
          497,
          498,
          499,
          501,
          502,
          503,
          505,
          506,
          508,
          509,
          510,
          512,
          513,
          514,
          515,
          516,
          517,
          518,
          520,
          521,
          522,
          524,
          525,
          526,
          527,
          529,
          530,
          531,
          533,
          534,
          535,
          536,
          538,
          539,
          540,
          542,
          543,
          544,
          545,
          546,
          548,
          549,
          550,
          552,
          553,
          554,
          555,
          557,
          558,
          559,
          561,
          562,
          563,
          564,
          565,
          566,
          568,
          569,
          570,
          572,
          573,
          574,
          575,
          577,
          578,
          579,
          581,
          582,
          583,
          584,
          586,
          587,
          588,
          590,
          591,
          592,
          593,
          594,
          595,
          597,
          598,
          599,
          601,
          602,
          603,
          604,
          606,
          607,
          608,
          610,
          611,
          612,
          613,
          614,
          616,
          617,
          618,
          620,
          621,
          622,
          623,
          625,
          626,
          627,
          629,
          630,
          631,
          632,
          634,
          635,
          636,
          638,
          639,
          640,
          641,
          642,
          643,
          645,
          647,
          648,
          649,
          650,
          652,
          653,
          654,
          656,
          657,
          658,
          659,
          660,
          662,
          663,
          664,
          666,
          667,
          668,
          669,
          670,
          672,
          673,
          674,
          676,
          677,
          678,
          679,
          680,
          682,
          683,
          684,
          686,
          687,
          688,
          689,
          690,
          692,
          693,
          694,
          696,
          697,
          698,
          699,
          701,
          702,
          703,
          705,
          706,
          707,
          708,
          710,
          711,
          712,
          714,
          715,
          716,
          717,
          718,
          719,
          721,
          722,
          723,
          725,
          726,
          727,
          728,
          730,
          731,
          732,
          734,
          735,
          736,
          737,
          738,
          740,
          741,
          742,
          744,
          745,
          746,
          747,
          749,
          750,
          751,
          753,
          754,
          755,
          756,
          758,
          759,
          760,
          762,
          763,
          764,
          765,
          766,
          767,
          769,
          770,
          771,
          773,
          774,
          776,
          777,
          778,
          780,
          781,
          782,
          783,
          784,
          785,
          786,
          788,
          789,
          790,
          792,
          793,
          794,
          795,
          797,
          798,
          799,
          801,
          802,
          803,
          804,
          806,
          807,
          808,
          810,
          811,
          812,
          813,
          814,
          816,
          817,
          818,
          820,
          821,
          822,
          823,
          825,
          826,
          827,
          829,
          830,
          831,
          832,
          833,
          834,
          836,
          837,
          838,
          840,
          841,
          842,
          843,
          845,
          846,
          847,
          849,
          850,
          851,
          852,
          854,
          855,
          856,
          858,
          859,
          860,
          861,
          862,
          864
         ],
         "y": [
          -422667.75,
          -473588.1875,
          -530584,
          -581033,
          -617987.625,
          -642227.125,
          -661003,
          -668317.6875,
          -691781.6875,
          -695211.5625,
          -710859.6875,
          -715248.25,
          -716419.1875,
          -721949.6875,
          -724967.8125,
          -727061.6875,
          -730330.375,
          -730832.375,
          -731604.0625,
          -734665.4375,
          -738966.375,
          -740224.375,
          -743563.125,
          -744865.8125,
          -747868.0625,
          -749514.5,
          -750432.125,
          -753732.5625,
          -755592.5625,
          -759525.375,
          -760718.375,
          -761290.6875,
          -762372.3125,
          -764544.9375,
          -765403.0625,
          -768215.8125,
          -769192.0625,
          -769705.9375,
          -770715.75,
          -772251.75,
          -773532.875,
          -775405.625,
          -776203.8125,
          -776896.9375,
          -777621.9375,
          -778066.9375,
          -778665.5,
          -780200.6875,
          -781593.8125,
          -783580.125,
          -784169.625,
          -784752.25,
          -785186.1875,
          -785611.875,
          -785817.5,
          -785879.6875,
          -788114.5,
          -789323.6875,
          -791819.625,
          -792151,
          -792644.125,
          -792690.5,
          -793107.9375,
          -794488.625,
          -795095.375,
          -795673.9375,
          -795932.0625,
          -796573.75,
          -797144.25,
          -797568.4375,
          -798233.8125,
          -798676.0625,
          -799073.8125,
          -799557.3125,
          -799721.1875,
          -800212,
          -800862.1875,
          -801265.8125,
          -802056.25,
          -802434.9375,
          -802731.5625,
          -803102.75,
          -803250.5625,
          -803561.125,
          -804329.9375,
          -804841.6875,
          -805790.875,
          -806095.875,
          -806368.125,
          -806608.25,
          -806794.75,
          -806897,
          -806933.75,
          -808136.25,
          -808219,
          -809988.9375,
          -810110.0625,
          -810417.0625,
          -810923.5625,
          -811269.6875,
          -811900.625,
          -812162,
          -812378.875,
          -812617.3125,
          -812749.25,
          -812920,
          -813531.875,
          -814071.875,
          -814834.5,
          -815045.25,
          -815262.3125,
          -815405.3125,
          -815577.5625,
          -815591.0625,
          -815672.5,
          -816559.1875,
          -816878.5625,
          -817234.375,
          -817268.1875,
          -817688.6875,
          -817982.5,
          -818093.5,
          -818433.25,
          -818696.25,
          -818866.4375,
          -819177.5625,
          -819404.75,
          -819605.375,
          -819863.5625,
          -819923,
          -820204.125,
          -820519.5,
          -820657.875,
          -821056.125,
          -821261.25,
          -821404.5625,
          -821618.3125,
          -821659.5625,
          -821866.25,
          -822264.4375,
          -822375.25,
          -822906.8125,
          -823079.8125,
          -823207.375,
          -823358.4375,
          -823407.6875,
          -823508.5625,
          -824033.25,
          -824139.9375,
          -824882.9375,
          -825003.4375,
          -825147.875,
          -825202.3125,
          -825287.4375,
          -825773.25,
          -825989,
          -826623.25,
          -826743,
          -826884.5625,
          -826941.375,
          -827047.875,
          -827451.4375,
          -827608.625,
          -828170.3125,
          -828290.625,
          -828415.25,
          -828487.8125,
          -828564.625,
          -828951.9375,
          -829267.5,
          -829770.4375,
          -829886.0625,
          -830020.5,
          -830089.9375,
          -830207.1875,
          -830494.0625,
          -830733.25,
          -831100.625,
          -831224.0625,
          -831341.9375,
          -831442.9375,
          -831533.4375,
          -831594.0625,
          -831623.3125,
          -832055.875,
          -832395.0625,
          -832922,
          -833011.25,
          -833140.0625,
          -833173.5625,
          -833291.4375,
          -833570.8125,
          -833679.9375,
          -834042.75,
          -834151.375,
          -834245.25,
          -834336.125,
          -834393.125,
          -834448.0625,
          -834778.375,
          -835008.375,
          -835451.125,
          -835537.9375,
          -835647.8125,
          -835693.5,
          -835783.8125,
          -836035.3125,
          -836212.3125,
          -836527.9375,
          -836625.6875,
          -836719.375,
          -836795,
          -836866.0625,
          -836898.25,
          -836925.75,
          -837302.625,
          -837389.0625,
          -837907.5625,
          -837969.5625,
          -838071.125,
          -838083.625,
          -838160.75,
          -838449.25,
          -838516.5625,
          -838882,
          -838964.125,
          -839042.4375,
          -839097.9375,
          -839147.5625,
          -839149.9375,
          -839500.75,
          -839789.6875,
          -840225.6875,
          -840284.8125,
          -840385.4375,
          -840394.0625,
          -840485.625,
          -840717.125,
          -840748.5625,
          -841056.1875,
          -841137.8125,
          -841202.1875,
          -841268.1875,
          -841297,
          -841329.4375,
          -841623.8125,
          -841711.5625,
          -842119.9375,
          -842176.75,
          -842261.3125,
          -842278.3125,
          -842342.5,
          -842578.25,
          -842649.0625,
          -842951.5,
          -843022.0625,
          -843088.9375,
          -843138.1875,
          -843180.125,
          -843184.1875,
          -843479.75,
          -843713.5625,
          -844091.5625,
          -844140.625,
          -844227.0625,
          -844233.0625,
          -844310.125,
          -844515.6875,
          -844538,
          -844814.375,
          -844883.625,
          -844939.625,
          -844992.6875,
          -845017.8125,
          -845038.375,
          -845308.125,
          -845380.6875,
          -845761.375,
          -845805.9375,
          -845883.3125,
          -845888.4375,
          -845948.3125,
          -846163.125,
          -846188.9375,
          -846467.8125,
          -846529.875,
          -846583.25,
          -846627.25,
          -846656.0625,
          -846659.8125,
          -846934.375,
          -847097.6875,
          -847439.5625,
          -847483.25,
          -847559.125,
          -847565.6875,
          -847634.6875,
          -847813.625,
          -847843.0625,
          -848075.5,
          -848138.5,
          -848189.25,
          -848241.0625,
          -848266.375,
          -848295.625,
          -848509.9375,
          -848602.125,
          -848888.3125,
          -848937.5,
          -849001.9375,
          -849025.4375,
          -849075.875,
          -849240.3125,
          -849338.25,
          -849546.25,
          -849603.75,
          -849660.75,
          -849703.125,
          -849746.3125,
          -849759.25,
          -849774.8125,
          -850021.375,
          -850044.875,
          -850379.875,
          -850417.3125,
          -850479.375,
          -850485.875,
          -850531.8125,
          -850718.8125,
          -850757.4375,
          -850995.375,
          -851046.375,
          -851095.625,
          -851129.5,
          -851161.5,
          -851321,
          -851470.9375,
          -851685.1875,
          -851734.375,
          -851794.9375,
          -851823.4375,
          -851875.25,
          -851997.0625,
          -852101.25,
          -852255.9375,
          -852310.8125,
          -852361.75,
          -852407.875,
          -852446.75,
          -852474.0625,
          -852489.3125,
          -852680.8125,
          -852789.5,
          -853051.8125,
          -853089.6875,
          -853150.4375,
          -853161,
          -853212.875,
          -853353.125,
          -853400.625,
          -853578.4375,
          -853629.25,
          -853672.3125,
          -853713.625,
          -853739.75,
          -853758.375,
          -853928.5625,
          -854061.4375,
          -854275.625,
          -854316.625,
          -854369.8125,
          -854390.375,
          -854435.125,
          -854560.25,
          -854627.0625,
          -854793.4375,
          -854840.4375,
          -854886.1875,
          -854921.3125,
          -854955.5,
          -854969.8125,
          -854974.4375,
          -855179.875,
          -855249.3125,
          -855508.0625,
          -855539.375,
          -855590.5625,
          -855595.3125,
          -855635.875,
          -855784.0625,
          -855799.5,
          -855998.0625,
          -856039.0625,
          -856079.5,
          -856107.1875,
          -856130.9375,
          -856132.5625,
          -856319.1875,
          -856416.6875,
          -856679.875,
          -856706.1875,
          -856763.6875,
          -856836.875,
          -856900.25,
          -856990.875,
          -857038.75,
          -857081.9375,
          -857130.75,
          -857157.5625,
          -857202.1875,
          -857204.875,
          -857234.375,
          -857390.8125,
          -857407.0625,
          -857606.6875,
          -857643.5625,
          -857680,
          -857702.4375,
          -857723.5,
          -857858,
          -857951.375,
          -858137.1875,
          -858172,
          -858219.0625,
          -858234.5625,
          -858275.3125,
          -858379,
          -858434.875,
          -858566.125,
          -858607.75,
          -858644.5,
          -858679.375,
          -858703.375,
          -858723.25,
          -858848,
          -858963.6875,
          -859122.0625,
          -859157.25,
          -859199.9375,
          -859221.25,
          -859256.1875,
          -859352.625,
          -859427.9375,
          -859557.125,
          -859595.8125,
          -859635.4375,
          -859664.5,
          -859696.6875,
          -859707.3125,
          -859720.625,
          -859872.4375,
          -859918.75,
          -860111.9375,
          -860141.4375,
          -860180.25,
          -860192.0625,
          -860220.1875,
          -860337.9375,
          -860378.5625,
          -860539.8125,
          -860572.4375,
          -860610.0625,
          -860629.125,
          -860657.1875,
          -860758.625,
          -860837.625,
          -860965.875,
          -861001.75,
          -861038.5,
          -861064.875,
          -861091.875,
          -861100.5625,
          -861109,
          -861264.0625,
          -861280.9375,
          -861497.8125,
          -861519.1875,
          -861561.0625,
          -861561.125,
          -861593.6875,
          -861712.625,
          -861721.625,
          -861872.25,
          -861906.375,
          -861934.3125,
          -861959.9375,
          -861972.0625,
          -861977,
          -862124.375,
          -862179.8125,
          -862366.5,
          -862391.3125,
          -862428.5,
          -862434.625,
          -862463.4375,
          -862572.9375,
          -862594,
          -862743.125,
          -862773.25,
          -862805.5625,
          -862824.0625,
          -862846.0625,
          -862943.375,
          -863024.875,
          -863148.3125,
          -863180.1875,
          -863213.625,
          -863235,
          -863262.0625,
          -863264.75,
          -863275.1875,
          -863420.5625,
          -863478.75,
          -863536.5,
          -863546.75,
          -863616.25,
          -863662.1875,
          -863685.4375,
          -863736.8125,
          -863780.875,
          -863817.8125,
          -863871.5625,
          -863873.9375,
          -863936.1875,
          -863991.25,
          -864009.6875,
          -864074.5625,
          -864116.9375,
          -864142.875,
          -864190.875,
          -864191.6875,
          -864242.75,
          -864310,
          -864325.5625,
          -864410.4375,
          -864447.5625,
          -864470.6875,
          -864510.0625,
          -864513.8125,
          -864550,
          -864634,
          -864654.1875,
          -864761.125,
          -864794,
          -864817.6875,
          -864847.3125,
          -864857.3125,
          -864874.8125,
          -864978.9375,
          -865022.9375,
          -865156.5625,
          -865182.9375,
          -865212.75,
          -865228.5,
          -865249.125,
          -865335.1875,
          -865399.3125,
          -865516.875,
          -865544.375,
          -865576.8125,
          -865592.9375,
          -865621,
          -865690.9375,
          -865747.6875,
          -865836.5625,
          -865867.25,
          -865894.6875,
          -865920.75,
          -865941.0625,
          -865956.25,
          -865961,
          -866074.875,
          -866139.125,
          -866299.8125,
          -866318.4375,
          -866355.25,
          -866355.8125,
          -866388.6875,
          -866470.4375,
          -866480.9375,
          -866584.25,
          -866614.5625,
          -866635.375,
          -866660.9375,
          -866669.0625,
          -866683.6875,
          -866785.3125,
          -866816.125,
          -866945.875,
          -866969.4375,
          -866996.25,
          -867009.375,
          -867027,
          -867110.8125,
          -867161.5625,
          -867276.375,
          -867300.9375,
          -867330.25,
          -867343.4375,
          -867368.9375,
          -867436.6875,
          -867483.5,
          -867570.0625,
          -867598.125,
          -867623.5625,
          -867646.25,
          -867663.625,
          -867676.5,
          -867678,
          -867789.625,
          -867836.8125,
          -867993.875,
          -868009.875,
          -868044.4375,
          -868089,
          -868128.125,
          -868183.6875,
          -868212.3125,
          -868238.4375,
          -868267.75,
          -868283.875,
          -868310.5625,
          -868311.0625,
          -868329.75,
          -868426,
          -868431.3125,
          -868554.9375,
          -868578.0625,
          -868599.125,
          -868612.4375,
          -868623.9375,
          -868709.1875,
          -868768.625,
          -868886.1875,
          -868906.8125,
          -868936.75,
          -868943.875,
          -868970.5625,
          -869034.9375,
          -869063.125,
          -869144.9375,
          -869170.4375,
          -869192.4375,
          -869214.875,
          -869227.25,
          -869240.375,
          -869319.5,
          -869373.75,
          -869474.4375,
          -869496.4375,
          -869521.4375,
          -869534.625,
          -869554.1875,
          -869617.625,
          -869670.75,
          -869756.25,
          -869780.0625,
          -869805,
          -869820.375,
          -869842.75,
          -869845.4375,
          -869855.4375,
          -869953.5,
          -869962.6875,
          -870088,
          -870106.4375,
          -870128.6875,
          -870137.25,
          -870150.9375,
          -870231.0625,
          -870260.5,
          -870370.5,
          -870389.375,
          -870415,
          -870423.1875,
          -870443.5,
          -870508.625,
          -870541.875,
          -870624.8125,
          -870647.5,
          -870668.6875,
          -870686.375,
          -870700.875,
          -870707.375,
          -870787
         ]
        }
       ],
       "layout": {
        "autosize": true,
        "template": {
         "data": {
          "bar": [
           {
            "error_x": {
             "color": "#2a3f5f"
            },
            "error_y": {
             "color": "#2a3f5f"
            },
            "marker": {
             "line": {
              "color": "#E5ECF6",
              "width": 0.5
             },
             "pattern": {
              "fillmode": "overlay",
              "size": 10,
              "solidity": 0.2
             }
            },
            "type": "bar"
           }
          ],
          "barpolar": [
           {
            "marker": {
             "line": {
              "color": "#E5ECF6",
              "width": 0.5
             },
             "pattern": {
              "fillmode": "overlay",
              "size": 10,
              "solidity": 0.2
             }
            },
            "type": "barpolar"
           }
          ],
          "carpet": [
           {
            "aaxis": {
             "endlinecolor": "#2a3f5f",
             "gridcolor": "white",
             "linecolor": "white",
             "minorgridcolor": "white",
             "startlinecolor": "#2a3f5f"
            },
            "baxis": {
             "endlinecolor": "#2a3f5f",
             "gridcolor": "white",
             "linecolor": "white",
             "minorgridcolor": "white",
             "startlinecolor": "#2a3f5f"
            },
            "type": "carpet"
           }
          ],
          "choropleth": [
           {
            "colorbar": {
             "outlinewidth": 0,
             "ticks": ""
            },
            "type": "choropleth"
           }
          ],
          "contour": [
           {
            "colorbar": {
             "outlinewidth": 0,
             "ticks": ""
            },
            "colorscale": [
             [
              0,
              "#0d0887"
             ],
             [
              0.1111111111111111,
              "#46039f"
             ],
             [
              0.2222222222222222,
              "#7201a8"
             ],
             [
              0.3333333333333333,
              "#9c179e"
             ],
             [
              0.4444444444444444,
              "#bd3786"
             ],
             [
              0.5555555555555556,
              "#d8576b"
             ],
             [
              0.6666666666666666,
              "#ed7953"
             ],
             [
              0.7777777777777778,
              "#fb9f3a"
             ],
             [
              0.8888888888888888,
              "#fdca26"
             ],
             [
              1,
              "#f0f921"
             ]
            ],
            "type": "contour"
           }
          ],
          "contourcarpet": [
           {
            "colorbar": {
             "outlinewidth": 0,
             "ticks": ""
            },
            "type": "contourcarpet"
           }
          ],
          "heatmap": [
           {
            "colorbar": {
             "outlinewidth": 0,
             "ticks": ""
            },
            "colorscale": [
             [
              0,
              "#0d0887"
             ],
             [
              0.1111111111111111,
              "#46039f"
             ],
             [
              0.2222222222222222,
              "#7201a8"
             ],
             [
              0.3333333333333333,
              "#9c179e"
             ],
             [
              0.4444444444444444,
              "#bd3786"
             ],
             [
              0.5555555555555556,
              "#d8576b"
             ],
             [
              0.6666666666666666,
              "#ed7953"
             ],
             [
              0.7777777777777778,
              "#fb9f3a"
             ],
             [
              0.8888888888888888,
              "#fdca26"
             ],
             [
              1,
              "#f0f921"
             ]
            ],
            "type": "heatmap"
           }
          ],
          "heatmapgl": [
           {
            "colorbar": {
             "outlinewidth": 0,
             "ticks": ""
            },
            "colorscale": [
             [
              0,
              "#0d0887"
             ],
             [
              0.1111111111111111,
              "#46039f"
             ],
             [
              0.2222222222222222,
              "#7201a8"
             ],
             [
              0.3333333333333333,
              "#9c179e"
             ],
             [
              0.4444444444444444,
              "#bd3786"
             ],
             [
              0.5555555555555556,
              "#d8576b"
             ],
             [
              0.6666666666666666,
              "#ed7953"
             ],
             [
              0.7777777777777778,
              "#fb9f3a"
             ],
             [
              0.8888888888888888,
              "#fdca26"
             ],
             [
              1,
              "#f0f921"
             ]
            ],
            "type": "heatmapgl"
           }
          ],
          "histogram": [
           {
            "marker": {
             "pattern": {
              "fillmode": "overlay",
              "size": 10,
              "solidity": 0.2
             }
            },
            "type": "histogram"
           }
          ],
          "histogram2d": [
           {
            "colorbar": {
             "outlinewidth": 0,
             "ticks": ""
            },
            "colorscale": [
             [
              0,
              "#0d0887"
             ],
             [
              0.1111111111111111,
              "#46039f"
             ],
             [
              0.2222222222222222,
              "#7201a8"
             ],
             [
              0.3333333333333333,
              "#9c179e"
             ],
             [
              0.4444444444444444,
              "#bd3786"
             ],
             [
              0.5555555555555556,
              "#d8576b"
             ],
             [
              0.6666666666666666,
              "#ed7953"
             ],
             [
              0.7777777777777778,
              "#fb9f3a"
             ],
             [
              0.8888888888888888,
              "#fdca26"
             ],
             [
              1,
              "#f0f921"
             ]
            ],
            "type": "histogram2d"
           }
          ],
          "histogram2dcontour": [
           {
            "colorbar": {
             "outlinewidth": 0,
             "ticks": ""
            },
            "colorscale": [
             [
              0,
              "#0d0887"
             ],
             [
              0.1111111111111111,
              "#46039f"
             ],
             [
              0.2222222222222222,
              "#7201a8"
             ],
             [
              0.3333333333333333,
              "#9c179e"
             ],
             [
              0.4444444444444444,
              "#bd3786"
             ],
             [
              0.5555555555555556,
              "#d8576b"
             ],
             [
              0.6666666666666666,
              "#ed7953"
             ],
             [
              0.7777777777777778,
              "#fb9f3a"
             ],
             [
              0.8888888888888888,
              "#fdca26"
             ],
             [
              1,
              "#f0f921"
             ]
            ],
            "type": "histogram2dcontour"
           }
          ],
          "mesh3d": [
           {
            "colorbar": {
             "outlinewidth": 0,
             "ticks": ""
            },
            "type": "mesh3d"
           }
          ],
          "parcoords": [
           {
            "line": {
             "colorbar": {
              "outlinewidth": 0,
              "ticks": ""
             }
            },
            "type": "parcoords"
           }
          ],
          "pie": [
           {
            "automargin": true,
            "type": "pie"
           }
          ],
          "scatter": [
           {
            "fillpattern": {
             "fillmode": "overlay",
             "size": 10,
             "solidity": 0.2
            },
            "type": "scatter"
           }
          ],
          "scatter3d": [
           {
            "line": {
             "colorbar": {
              "outlinewidth": 0,
              "ticks": ""
             }
            },
            "marker": {
             "colorbar": {
              "outlinewidth": 0,
              "ticks": ""
             }
            },
            "type": "scatter3d"
           }
          ],
          "scattercarpet": [
           {
            "marker": {
             "colorbar": {
              "outlinewidth": 0,
              "ticks": ""
             }
            },
            "type": "scattercarpet"
           }
          ],
          "scattergeo": [
           {
            "marker": {
             "colorbar": {
              "outlinewidth": 0,
              "ticks": ""
             }
            },
            "type": "scattergeo"
           }
          ],
          "scattergl": [
           {
            "marker": {
             "colorbar": {
              "outlinewidth": 0,
              "ticks": ""
             }
            },
            "type": "scattergl"
           }
          ],
          "scattermapbox": [
           {
            "marker": {
             "colorbar": {
              "outlinewidth": 0,
              "ticks": ""
             }
            },
            "type": "scattermapbox"
           }
          ],
          "scatterpolar": [
           {
            "marker": {
             "colorbar": {
              "outlinewidth": 0,
              "ticks": ""
             }
            },
            "type": "scatterpolar"
           }
          ],
          "scatterpolargl": [
           {
            "marker": {
             "colorbar": {
              "outlinewidth": 0,
              "ticks": ""
             }
            },
            "type": "scatterpolargl"
           }
          ],
          "scatterternary": [
           {
            "marker": {
             "colorbar": {
              "outlinewidth": 0,
              "ticks": ""
             }
            },
            "type": "scatterternary"
           }
          ],
          "surface": [
           {
            "colorbar": {
             "outlinewidth": 0,
             "ticks": ""
            },
            "colorscale": [
             [
              0,
              "#0d0887"
             ],
             [
              0.1111111111111111,
              "#46039f"
             ],
             [
              0.2222222222222222,
              "#7201a8"
             ],
             [
              0.3333333333333333,
              "#9c179e"
             ],
             [
              0.4444444444444444,
              "#bd3786"
             ],
             [
              0.5555555555555556,
              "#d8576b"
             ],
             [
              0.6666666666666666,
              "#ed7953"
             ],
             [
              0.7777777777777778,
              "#fb9f3a"
             ],
             [
              0.8888888888888888,
              "#fdca26"
             ],
             [
              1,
              "#f0f921"
             ]
            ],
            "type": "surface"
           }
          ],
          "table": [
           {
            "cells": {
             "fill": {
              "color": "#EBF0F8"
             },
             "line": {
              "color": "white"
             }
            },
            "header": {
             "fill": {
              "color": "#C8D4E3"
             },
             "line": {
              "color": "white"
             }
            },
            "type": "table"
           }
          ]
         },
         "layout": {
          "annotationdefaults": {
           "arrowcolor": "#2a3f5f",
           "arrowhead": 0,
           "arrowwidth": 1
          },
          "autotypenumbers": "strict",
          "coloraxis": {
           "colorbar": {
            "outlinewidth": 0,
            "ticks": ""
           }
          },
          "colorscale": {
           "diverging": [
            [
             0,
             "#8e0152"
            ],
            [
             0.1,
             "#c51b7d"
            ],
            [
             0.2,
             "#de77ae"
            ],
            [
             0.3,
             "#f1b6da"
            ],
            [
             0.4,
             "#fde0ef"
            ],
            [
             0.5,
             "#f7f7f7"
            ],
            [
             0.6,
             "#e6f5d0"
            ],
            [
             0.7,
             "#b8e186"
            ],
            [
             0.8,
             "#7fbc41"
            ],
            [
             0.9,
             "#4d9221"
            ],
            [
             1,
             "#276419"
            ]
           ],
           "sequential": [
            [
             0,
             "#0d0887"
            ],
            [
             0.1111111111111111,
             "#46039f"
            ],
            [
             0.2222222222222222,
             "#7201a8"
            ],
            [
             0.3333333333333333,
             "#9c179e"
            ],
            [
             0.4444444444444444,
             "#bd3786"
            ],
            [
             0.5555555555555556,
             "#d8576b"
            ],
            [
             0.6666666666666666,
             "#ed7953"
            ],
            [
             0.7777777777777778,
             "#fb9f3a"
            ],
            [
             0.8888888888888888,
             "#fdca26"
            ],
            [
             1,
             "#f0f921"
            ]
           ],
           "sequentialminus": [
            [
             0,
             "#0d0887"
            ],
            [
             0.1111111111111111,
             "#46039f"
            ],
            [
             0.2222222222222222,
             "#7201a8"
            ],
            [
             0.3333333333333333,
             "#9c179e"
            ],
            [
             0.4444444444444444,
             "#bd3786"
            ],
            [
             0.5555555555555556,
             "#d8576b"
            ],
            [
             0.6666666666666666,
             "#ed7953"
            ],
            [
             0.7777777777777778,
             "#fb9f3a"
            ],
            [
             0.8888888888888888,
             "#fdca26"
            ],
            [
             1,
             "#f0f921"
            ]
           ]
          },
          "colorway": [
           "#636efa",
           "#EF553B",
           "#00cc96",
           "#ab63fa",
           "#FFA15A",
           "#19d3f3",
           "#FF6692",
           "#B6E880",
           "#FF97FF",
           "#FECB52"
          ],
          "font": {
           "color": "#2a3f5f"
          },
          "geo": {
           "bgcolor": "white",
           "lakecolor": "white",
           "landcolor": "#E5ECF6",
           "showlakes": true,
           "showland": true,
           "subunitcolor": "white"
          },
          "hoverlabel": {
           "align": "left"
          },
          "hovermode": "closest",
          "mapbox": {
           "style": "light"
          },
          "paper_bgcolor": "white",
          "plot_bgcolor": "#E5ECF6",
          "polar": {
           "angularaxis": {
            "gridcolor": "white",
            "linecolor": "white",
            "ticks": ""
           },
           "bgcolor": "#E5ECF6",
           "radialaxis": {
            "gridcolor": "white",
            "linecolor": "white",
            "ticks": ""
           }
          },
          "scene": {
           "xaxis": {
            "backgroundcolor": "#E5ECF6",
            "gridcolor": "white",
            "gridwidth": 2,
            "linecolor": "white",
            "showbackground": true,
            "ticks": "",
            "zerolinecolor": "white"
           },
           "yaxis": {
            "backgroundcolor": "#E5ECF6",
            "gridcolor": "white",
            "gridwidth": 2,
            "linecolor": "white",
            "showbackground": true,
            "ticks": "",
            "zerolinecolor": "white"
           },
           "zaxis": {
            "backgroundcolor": "#E5ECF6",
            "gridcolor": "white",
            "gridwidth": 2,
            "linecolor": "white",
            "showbackground": true,
            "ticks": "",
            "zerolinecolor": "white"
           }
          },
          "shapedefaults": {
           "line": {
            "color": "#2a3f5f"
           }
          },
          "ternary": {
           "aaxis": {
            "gridcolor": "white",
            "linecolor": "white",
            "ticks": ""
           },
           "baxis": {
            "gridcolor": "white",
            "linecolor": "white",
            "ticks": ""
           },
           "bgcolor": "#E5ECF6",
           "caxis": {
            "gridcolor": "white",
            "linecolor": "white",
            "ticks": ""
           }
          },
          "title": {
           "x": 0.05
          },
          "xaxis": {
           "automargin": true,
           "gridcolor": "white",
           "linecolor": "white",
           "ticks": "",
           "title": {
            "standoff": 15
           },
           "zerolinecolor": "white",
           "zerolinewidth": 2
          },
          "yaxis": {
           "automargin": true,
           "gridcolor": "white",
           "linecolor": "white",
           "ticks": "",
           "title": {
            "standoff": 15
           },
           "zerolinecolor": "white",
           "zerolinewidth": 2
          }
         }
        },
        "title": {
         "text": "Energy Minimization"
        },
        "xaxis": {
         "autorange": true,
         "range": [
          0,
          864
         ],
         "title": {
          "text": "Energy Minimization Step"
         },
         "type": "linear"
        },
        "yaxis": {
         "autorange": true,
         "range": [
          -895682.5138888889,
          -397772.2361111111
         ],
         "title": {
          "text": "Potential Energy KJ/mol-1"
         },
         "type": "linear"
        }
       }
      },
      "image/png": "[encoded data removed]",
      "text/html": [
       "<div>                            <div id=\"188c07ae-2f4e-4c10-89c7-be0816585d9c\" class=\"plotly-graph-div\" style=\"height:525px; width:100%;\"></div>            <script type=\"text/javascript\">                require([\"plotly\"], function(Plotly) {                    window.PLOTLYENV=window.PLOTLYENV || {};                                    if (document.getElementById(\"188c07ae-2f4e-4c10-89c7-be0816585d9c\")) {                    Plotly.newPlot(                        \"188c07ae-2f4e-4c10-89c7-be0816585d9c\",                        [{\"x\":[0.0,1.0,2.0,3.0,4.0,5.0,6.0,7.0,8.0,9.0,10.0,11.0,12.0,13.0,15.0,16.0,17.0,18.0,19.0,20.0,22.0,23.0,25.0,26.0,28.0,29.0,30.0,32.0,33.0,34.0,36.0,37.0,38.0,40.0,41.0,42.0,44.0,45.0,46.0,48.0,49.0,50.0,52.0,53.0,54.0,55.0,56.0,58.0,59.0,60.0,62.0,63.0,64.0,65.0,66.0,67.0,69.0,70.0,71.0,73.0,74.0,75.0,76.0,78.0,80.0,81.0,82.0,83.0,85.0,86.0,87.0,89.0,90.0,91.0,92.0,93.0,95.0,96.0,97.0,99.0,100.0,101.0,102.0,103.0,105.0,106.0,107.0,109.0,110.0,111.0,112.0,113.0,114.0,116.0,117.0,118.0,120.0,121.0,123.0,124.0,125.0,127.0,128.0,129.0,130.0,131.0,133.0,134.0,135.0,137.0,138.0,139.0,140.0,141.0,142.0,144.0,146.0,147.0,148.0,149.0,151.0,152.0,153.0,155.0,156.0,157.0,159.0,160.0,161.0,162.0,163.0,165.0,166.0,167.0,169.0,170.0,171.0,172.0,173.0,175.0,176.0,177.0,179.0,180.0,181.0,182.0,183.0,185.0,186.0,187.0,189.0,190.0,191.0,192.0,194.0,195.0,196.0,198.0,199.0,200.0,201.0,203.0,204.0,205.0,207.0,208.0,209.0,210.0,212.0,213.0,214.0,216.0,217.0,218.0,219.0,221.0,222.0,223.0,225.0,226.0,227.0,228.0,229.0,230.0,232.0,233.0,234.0,236.0,237.0,238.0,239.0,241.0,242.0,243.0,245.0,246.0,247.0,248.0,249.0,251.0,252.0,253.0,255.0,256.0,257.0,258.0,260.0,261.0,262.0,264.0,265.0,266.0,267.0,268.0,269.0,271.0,272.0,273.0,275.0,276.0,277.0,278.0,280.0,281.0,282.0,284.0,285.0,286.0,287.0,288.0,290.0,291.0,292.0,294.0,295.0,296.0,297.0,299.0,300.0,301.0,303.0,304.0,305.0,306.0,307.0,309.0,310.0,311.0,313.0,314.0,315.0,316.0,318.0,319.0,320.0,322.0,323.0,324.0,325.0,326.0,328.0,329.0,330.0,332.0,333.0,334.0,335.0,337.0,338.0,339.0,341.0,342.0,343.0,344.0,345.0,347.0,348.0,349.0,351.0,352.0,353.0,354.0,356.0,357.0,358.0,360.0,361.0,362.0,363.0,364.0,366.0,367.0,368.0,370.0,371.0,372.0,373.0,375.0,376.0,377.0,379.0,380.0,381.0,382.0,383.0,385.0,386.0,387.0,389.0,390.0,391.0,392.0,394.0,395.0,396.0,398.0,399.0,400.0,401.0,402.0,403.0,405.0,406.0,407.0,409.0,410.0,411.0,412.0,414.0,415.0,416.0,418.0,419.0,420.0,421.0,423.0,424.0,425.0,427.0,428.0,429.0,430.0,432.0,433.0,434.0,436.0,437.0,438.0,439.0,440.0,441.0,443.0,444.0,445.0,447.0,448.0,449.0,450.0,452.0,453.0,454.0,456.0,457.0,458.0,459.0,460.0,462.0,463.0,464.0,466.0,467.0,468.0,469.0,471.0,472.0,473.0,475.0,476.0,477.0,478.0,479.0,480.0,482.0,483.0,484.0,486.0,487.0,488.0,489.0,491.0,492.0,493.0,495.0,496.0,497.0,498.0,499.0,501.0,502.0,503.0,505.0,506.0,508.0,509.0,510.0,512.0,513.0,514.0,515.0,516.0,517.0,518.0,520.0,521.0,522.0,524.0,525.0,526.0,527.0,529.0,530.0,531.0,533.0,534.0,535.0,536.0,538.0,539.0,540.0,542.0,543.0,544.0,545.0,546.0,548.0,549.0,550.0,552.0,553.0,554.0,555.0,557.0,558.0,559.0,561.0,562.0,563.0,564.0,565.0,566.0,568.0,569.0,570.0,572.0,573.0,574.0,575.0,577.0,578.0,579.0,581.0,582.0,583.0,584.0,586.0,587.0,588.0,590.0,591.0,592.0,593.0,594.0,595.0,597.0,598.0,599.0,601.0,602.0,603.0,604.0,606.0,607.0,608.0,610.0,611.0,612.0,613.0,614.0,616.0,617.0,618.0,620.0,621.0,622.0,623.0,625.0,626.0,627.0,629.0,630.0,631.0,632.0,634.0,635.0,636.0,638.0,639.0,640.0,641.0,642.0,643.0,645.0,647.0,648.0,649.0,650.0,652.0,653.0,654.0,656.0,657.0,658.0,659.0,660.0,662.0,663.0,664.0,666.0,667.0,668.0,669.0,670.0,672.0,673.0,674.0,676.0,677.0,678.0,679.0,680.0,682.0,683.0,684.0,686.0,687.0,688.0,689.0,690.0,692.0,693.0,694.0,696.0,697.0,698.0,699.0,701.0,702.0,703.0,705.0,706.0,707.0,708.0,710.0,711.0,712.0,714.0,715.0,716.0,717.0,718.0,719.0,721.0,722.0,723.0,725.0,726.0,727.0,728.0,730.0,731.0,732.0,734.0,735.0,736.0,737.0,738.0,740.0,741.0,742.0,744.0,745.0,746.0,747.0,749.0,750.0,751.0,753.0,754.0,755.0,756.0,758.0,759.0,760.0,762.0,763.0,764.0,765.0,766.0,767.0,769.0,770.0,771.0,773.0,774.0,776.0,777.0,778.0,780.0,781.0,782.0,783.0,784.0,785.0,786.0,788.0,789.0,790.0,792.0,793.0,794.0,795.0,797.0,798.0,799.0,801.0,802.0,803.0,804.0,806.0,807.0,808.0,810.0,811.0,812.0,813.0,814.0,816.0,817.0,818.0,820.0,821.0,822.0,823.0,825.0,826.0,827.0,829.0,830.0,831.0,832.0,833.0,834.0,836.0,837.0,838.0,840.0,841.0,842.0,843.0,845.0,846.0,847.0,849.0,850.0,851.0,852.0,854.0,855.0,856.0,858.0,859.0,860.0,861.0,862.0,864.0],\"y\":[-422667.75,-473588.1875,-530584.0,-581033.0,-617987.625,-642227.125,-661003.0,-668317.6875,-691781.6875,-695211.5625,-710859.6875,-715248.25,-716419.1875,-721949.6875,-724967.8125,-727061.6875,-730330.375,-730832.375,-731604.0625,-734665.4375,-738966.375,-740224.375,-743563.125,-744865.8125,-747868.0625,-749514.5,-750432.125,-753732.5625,-755592.5625,-759525.375,-760718.375,-761290.6875,-762372.3125,-764544.9375,-765403.0625,-768215.8125,-769192.0625,-769705.9375,-770715.75,-772251.75,-773532.875,-775405.625,-776203.8125,-776896.9375,-777621.9375,-778066.9375,-778665.5,-780200.6875,-781593.8125,-783580.125,-784169.625,-784752.25,-785186.1875,-785611.875,-785817.5,-785879.6875,-788114.5,-789323.6875,-791819.625,-792151.0,-792644.125,-792690.5,-793107.9375,-794488.625,-795095.375,-795673.9375,-795932.0625,-796573.75,-797144.25,-797568.4375,-798233.8125,-798676.0625,-799073.8125,-799557.3125,-799721.1875,-800212.0,-800862.1875,-801265.8125,-802056.25,-802434.9375,-802731.5625,-803102.75,-803250.5625,-803561.125,-804329.9375,-804841.6875,-805790.875,-806095.875,-806368.125,-806608.25,-806794.75,-806897.0,-806933.75,-808136.25,-808219.0,-809988.9375,-810110.0625,-810417.0625,-810923.5625,-811269.6875,-811900.625,-812162.0,-812378.875,-812617.3125,-812749.25,-812920.0,-813531.875,-814071.875,-814834.5,-815045.25,-815262.3125,-815405.3125,-815577.5625,-815591.0625,-815672.5,-816559.1875,-816878.5625,-817234.375,-817268.1875,-817688.6875,-817982.5,-818093.5,-818433.25,-818696.25,-818866.4375,-819177.5625,-819404.75,-819605.375,-819863.5625,-819923.0,-820204.125,-820519.5,-820657.875,-821056.125,-821261.25,-821404.5625,-821618.3125,-821659.5625,-821866.25,-822264.4375,-822375.25,-822906.8125,-823079.8125,-823207.375,-823358.4375,-823407.6875,-823508.5625,-824033.25,-824139.9375,-824882.9375,-825003.4375,-825147.875,-825202.3125,-825287.4375,-825773.25,-825989.0,-826623.25,-826743.0,-826884.5625,-826941.375,-827047.875,-827451.4375,-827608.625,-828170.3125,-828290.625,-828415.25,-828487.8125,-828564.625,-828951.9375,-829267.5,-829770.4375,-829886.0625,-830020.5,-830089.9375,-830207.1875,-830494.0625,-830733.25,-831100.625,-831224.0625,-831341.9375,-831442.9375,-831533.4375,-831594.0625,-831623.3125,-832055.875,-832395.0625,-832922.0,-833011.25,-833140.0625,-833173.5625,-833291.4375,-833570.8125,-833679.9375,-834042.75,-834151.375,-834245.25,-834336.125,-834393.125,-834448.0625,-834778.375,-835008.375,-835451.125,-835537.9375,-835647.8125,-835693.5,-835783.8125,-836035.3125,-836212.3125,-836527.9375,-836625.6875,-836719.375,-836795.0,-836866.0625,-836898.25,-836925.75,-837302.625,-837389.0625,-837907.5625,-837969.5625,-838071.125,-838083.625,-838160.75,-838449.25,-838516.5625,-838882.0,-838964.125,-839042.4375,-839097.9375,-839147.5625,-839149.9375,-839500.75,-839789.6875,-840225.6875,-840284.8125,-840385.4375,-840394.0625,-840485.625,-840717.125,-840748.5625,-841056.1875,-841137.8125,-841202.1875,-841268.1875,-841297.0,-841329.4375,-841623.8125,-841711.5625,-842119.9375,-842176.75,-842261.3125,-842278.3125,-842342.5,-842578.25,-842649.0625,-842951.5,-843022.0625,-843088.9375,-843138.1875,-843180.125,-843184.1875,-843479.75,-843713.5625,-844091.5625,-844140.625,-844227.0625,-844233.0625,-844310.125,-844515.6875,-844538.0,-844814.375,-844883.625,-844939.625,-844992.6875,-845017.8125,-845038.375,-845308.125,-845380.6875,-845761.375,-845805.9375,-845883.3125,-845888.4375,-845948.3125,-846163.125,-846188.9375,-846467.8125,-846529.875,-846583.25,-846627.25,-846656.0625,-846659.8125,-846934.375,-847097.6875,-847439.5625,-847483.25,-847559.125,-847565.6875,-847634.6875,-847813.625,-847843.0625,-848075.5,-848138.5,-848189.25,-848241.0625,-848266.375,-848295.625,-848509.9375,-848602.125,-848888.3125,-848937.5,-849001.9375,-849025.4375,-849075.875,-849240.3125,-849338.25,-849546.25,-849603.75,-849660.75,-849703.125,-849746.3125,-849759.25,-849774.8125,-850021.375,-850044.875,-850379.875,-850417.3125,-850479.375,-850485.875,-850531.8125,-850718.8125,-850757.4375,-850995.375,-851046.375,-851095.625,-851129.5,-851161.5,-851321.0,-851470.9375,-851685.1875,-851734.375,-851794.9375,-851823.4375,-851875.25,-851997.0625,-852101.25,-852255.9375,-852310.8125,-852361.75,-852407.875,-852446.75,-852474.0625,-852489.3125,-852680.8125,-852789.5,-853051.8125,-853089.6875,-853150.4375,-853161.0,-853212.875,-853353.125,-853400.625,-853578.4375,-853629.25,-853672.3125,-853713.625,-853739.75,-853758.375,-853928.5625,-854061.4375,-854275.625,-854316.625,-854369.8125,-854390.375,-854435.125,-854560.25,-854627.0625,-854793.4375,-854840.4375,-854886.1875,-854921.3125,-854955.5,-854969.8125,-854974.4375,-855179.875,-855249.3125,-855508.0625,-855539.375,-855590.5625,-855595.3125,-855635.875,-855784.0625,-855799.5,-855998.0625,-856039.0625,-856079.5,-856107.1875,-856130.9375,-856132.5625,-856319.1875,-856416.6875,-856679.875,-856706.1875,-856763.6875,-856836.875,-856900.25,-856990.875,-857038.75,-857081.9375,-857130.75,-857157.5625,-857202.1875,-857204.875,-857234.375,-857390.8125,-857407.0625,-857606.6875,-857643.5625,-857680.0,-857702.4375,-857723.5,-857858.0,-857951.375,-858137.1875,-858172.0,-858219.0625,-858234.5625,-858275.3125,-858379.0,-858434.875,-858566.125,-858607.75,-858644.5,-858679.375,-858703.375,-858723.25,-858848.0,-858963.6875,-859122.0625,-859157.25,-859199.9375,-859221.25,-859256.1875,-859352.625,-859427.9375,-859557.125,-859595.8125,-859635.4375,-859664.5,-859696.6875,-859707.3125,-859720.625,-859872.4375,-859918.75,-860111.9375,-860141.4375,-860180.25,-860192.0625,-860220.1875,-860337.9375,-860378.5625,-860539.8125,-860572.4375,-860610.0625,-860629.125,-860657.1875,-860758.625,-860837.625,-860965.875,-861001.75,-861038.5,-861064.875,-861091.875,-861100.5625,-861109.0,-861264.0625,-861280.9375,-861497.8125,-861519.1875,-861561.0625,-861561.125,-861593.6875,-861712.625,-861721.625,-861872.25,-861906.375,-861934.3125,-861959.9375,-861972.0625,-861977.0,-862124.375,-862179.8125,-862366.5,-862391.3125,-862428.5,-862434.625,-862463.4375,-862572.9375,-862594.0,-862743.125,-862773.25,-862805.5625,-862824.0625,-862846.0625,-862943.375,-863024.875,-863148.3125,-863180.1875,-863213.625,-863235.0,-863262.0625,-863264.75,-863275.1875,-863420.5625,-863478.75,-863536.5,-863546.75,-863616.25,-863662.1875,-863685.4375,-863736.8125,-863780.875,-863817.8125,-863871.5625,-863873.9375,-863936.1875,-863991.25,-864009.6875,-864074.5625,-864116.9375,-864142.875,-864190.875,-864191.6875,-864242.75,-864310.0,-864325.5625,-864410.4375,-864447.5625,-864470.6875,-864510.0625,-864513.8125,-864550.0,-864634.0,-864654.1875,-864761.125,-864794.0,-864817.6875,-864847.3125,-864857.3125,-864874.8125,-864978.9375,-865022.9375,-865156.5625,-865182.9375,-865212.75,-865228.5,-865249.125,-865335.1875,-865399.3125,-865516.875,-865544.375,-865576.8125,-865592.9375,-865621.0,-865690.9375,-865747.6875,-865836.5625,-865867.25,-865894.6875,-865920.75,-865941.0625,-865956.25,-865961.0,-866074.875,-866139.125,-866299.8125,-866318.4375,-866355.25,-866355.8125,-866388.6875,-866470.4375,-866480.9375,-866584.25,-866614.5625,-866635.375,-866660.9375,-866669.0625,-866683.6875,-866785.3125,-866816.125,-866945.875,-866969.4375,-866996.25,-867009.375,-867027.0,-867110.8125,-867161.5625,-867276.375,-867300.9375,-867330.25,-867343.4375,-867368.9375,-867436.6875,-867483.5,-867570.0625,-867598.125,-867623.5625,-867646.25,-867663.625,-867676.5,-867678.0,-867789.625,-867836.8125,-867993.875,-868009.875,-868044.4375,-868089.0,-868128.125,-868183.6875,-868212.3125,-868238.4375,-868267.75,-868283.875,-868310.5625,-868311.0625,-868329.75,-868426.0,-868431.3125,-868554.9375,-868578.0625,-868599.125,-868612.4375,-868623.9375,-868709.1875,-868768.625,-868886.1875,-868906.8125,-868936.75,-868943.875,-868970.5625,-869034.9375,-869063.125,-869144.9375,-869170.4375,-869192.4375,-869214.875,-869227.25,-869240.375,-869319.5,-869373.75,-869474.4375,-869496.4375,-869521.4375,-869534.625,-869554.1875,-869617.625,-869670.75,-869756.25,-869780.0625,-869805.0,-869820.375,-869842.75,-869845.4375,-869855.4375,-869953.5,-869962.6875,-870088.0,-870106.4375,-870128.6875,-870137.25,-870150.9375,-870231.0625,-870260.5,-870370.5,-870389.375,-870415.0,-870423.1875,-870443.5,-870508.625,-870541.875,-870624.8125,-870647.5,-870668.6875,-870686.375,-870700.875,-870707.375,-870787.0],\"type\":\"scatter\"}],                        {\"template\":{\"data\":{\"barpolar\":[{\"marker\":{\"line\":{\"color\":\"#E5ECF6\",\"width\":0.5},\"pattern\":{\"fillmode\":\"overlay\",\"size\":10,\"solidity\":0.2}},\"type\":\"barpolar\"}],\"bar\":[{\"error_x\":{\"color\":\"#2a3f5f\"},\"error_y\":{\"color\":\"#2a3f5f\"},\"marker\":{\"line\":{\"color\":\"#E5ECF6\",\"width\":0.5},\"pattern\":{\"fillmode\":\"overlay\",\"size\":10,\"solidity\":0.2}},\"type\":\"bar\"}],\"carpet\":[{\"aaxis\":{\"endlinecolor\":\"#2a3f5f\",\"gridcolor\":\"white\",\"linecolor\":\"white\",\"minorgridcolor\":\"white\",\"startlinecolor\":\"#2a3f5f\"},\"baxis\":{\"endlinecolor\":\"#2a3f5f\",\"gridcolor\":\"white\",\"linecolor\":\"white\",\"minorgridcolor\":\"white\",\"startlinecolor\":\"#2a3f5f\"},\"type\":\"carpet\"}],\"choropleth\":[{\"colorbar\":{\"outlinewidth\":0,\"ticks\":\"\"},\"type\":\"choropleth\"}],\"contourcarpet\":[{\"colorbar\":{\"outlinewidth\":0,\"ticks\":\"\"},\"type\":\"contourcarpet\"}],\"contour\":[{\"colorbar\":{\"outlinewidth\":0,\"ticks\":\"\"},\"colorscale\":[[0.0,\"#0d0887\"],[0.1111111111111111,\"#46039f\"],[0.2222222222222222,\"#7201a8\"],[0.3333333333333333,\"#9c179e\"],[0.4444444444444444,\"#bd3786\"],[0.5555555555555556,\"#d8576b\"],[0.6666666666666666,\"#ed7953\"],[0.7777777777777778,\"#fb9f3a\"],[0.8888888888888888,\"#fdca26\"],[1.0,\"#f0f921\"]],\"type\":\"contour\"}],\"heatmapgl\":[{\"colorbar\":{\"outlinewidth\":0,\"ticks\":\"\"},\"colorscale\":[[0.0,\"#0d0887\"],[0.1111111111111111,\"#46039f\"],[0.2222222222222222,\"#7201a8\"],[0.3333333333333333,\"#9c179e\"],[0.4444444444444444,\"#bd3786\"],[0.5555555555555556,\"#d8576b\"],[0.6666666666666666,\"#ed7953\"],[0.7777777777777778,\"#fb9f3a\"],[0.8888888888888888,\"#fdca26\"],[1.0,\"#f0f921\"]],\"type\":\"heatmapgl\"}],\"heatmap\":[{\"colorbar\":{\"outlinewidth\":0,\"ticks\":\"\"},\"colorscale\":[[0.0,\"#0d0887\"],[0.1111111111111111,\"#46039f\"],[0.2222222222222222,\"#7201a8\"],[0.3333333333333333,\"#9c179e\"],[0.4444444444444444,\"#bd3786\"],[0.5555555555555556,\"#d8576b\"],[0.6666666666666666,\"#ed7953\"],[0.7777777777777778,\"#fb9f3a\"],[0.8888888888888888,\"#fdca26\"],[1.0,\"#f0f921\"]],\"type\":\"heatmap\"}],\"histogram2dcontour\":[{\"colorbar\":{\"outlinewidth\":0,\"ticks\":\"\"},\"colorscale\":[[0.0,\"#0d0887\"],[0.1111111111111111,\"#46039f\"],[0.2222222222222222,\"#7201a8\"],[0.3333333333333333,\"#9c179e\"],[0.4444444444444444,\"#bd3786\"],[0.5555555555555556,\"#d8576b\"],[0.6666666666666666,\"#ed7953\"],[0.7777777777777778,\"#fb9f3a\"],[0.8888888888888888,\"#fdca26\"],[1.0,\"#f0f921\"]],\"type\":\"histogram2dcontour\"}],\"histogram2d\":[{\"colorbar\":{\"outlinewidth\":0,\"ticks\":\"\"},\"colorscale\":[[0.0,\"#0d0887\"],[0.1111111111111111,\"#46039f\"],[0.2222222222222222,\"#7201a8\"],[0.3333333333333333,\"#9c179e\"],[0.4444444444444444,\"#bd3786\"],[0.5555555555555556,\"#d8576b\"],[0.6666666666666666,\"#ed7953\"],[0.7777777777777778,\"#fb9f3a\"],[0.8888888888888888,\"#fdca26\"],[1.0,\"#f0f921\"]],\"type\":\"histogram2d\"}],\"histogram\":[{\"marker\":{\"pattern\":{\"fillmode\":\"overlay\",\"size\":10,\"solidity\":0.2}},\"type\":\"histogram\"}],\"mesh3d\":[{\"colorbar\":{\"outlinewidth\":0,\"ticks\":\"\"},\"type\":\"mesh3d\"}],\"parcoords\":[{\"line\":{\"colorbar\":{\"outlinewidth\":0,\"ticks\":\"\"}},\"type\":\"parcoords\"}],\"pie\":[{\"automargin\":true,\"type\":\"pie\"}],\"scatter3d\":[{\"line\":{\"colorbar\":{\"outlinewidth\":0,\"ticks\":\"\"}},\"marker\":{\"colorbar\":{\"outlinewidth\":0,\"ticks\":\"\"}},\"type\":\"scatter3d\"}],\"scattercarpet\":[{\"marker\":{\"colorbar\":{\"outlinewidth\":0,\"ticks\":\"\"}},\"type\":\"scattercarpet\"}],\"scattergeo\":[{\"marker\":{\"colorbar\":{\"outlinewidth\":0,\"ticks\":\"\"}},\"type\":\"scattergeo\"}],\"scattergl\":[{\"marker\":{\"colorbar\":{\"outlinewidth\":0,\"ticks\":\"\"}},\"type\":\"scattergl\"}],\"scattermapbox\":[{\"marker\":{\"colorbar\":{\"outlinewidth\":0,\"ticks\":\"\"}},\"type\":\"scattermapbox\"}],\"scatterpolargl\":[{\"marker\":{\"colorbar\":{\"outlinewidth\":0,\"ticks\":\"\"}},\"type\":\"scatterpolargl\"}],\"scatterpolar\":[{\"marker\":{\"colorbar\":{\"outlinewidth\":0,\"ticks\":\"\"}},\"type\":\"scatterpolar\"}],\"scatter\":[{\"fillpattern\":{\"fillmode\":\"overlay\",\"size\":10,\"solidity\":0.2},\"type\":\"scatter\"}],\"scatterternary\":[{\"marker\":{\"colorbar\":{\"outlinewidth\":0,\"ticks\":\"\"}},\"type\":\"scatterternary\"}],\"surface\":[{\"colorbar\":{\"outlinewidth\":0,\"ticks\":\"\"},\"colorscale\":[[0.0,\"#0d0887\"],[0.1111111111111111,\"#46039f\"],[0.2222222222222222,\"#7201a8\"],[0.3333333333333333,\"#9c179e\"],[0.4444444444444444,\"#bd3786\"],[0.5555555555555556,\"#d8576b\"],[0.6666666666666666,\"#ed7953\"],[0.7777777777777778,\"#fb9f3a\"],[0.8888888888888888,\"#fdca26\"],[1.0,\"#f0f921\"]],\"type\":\"surface\"}],\"table\":[{\"cells\":{\"fill\":{\"color\":\"#EBF0F8\"},\"line\":{\"color\":\"white\"}},\"header\":{\"fill\":{\"color\":\"#C8D4E3\"},\"line\":{\"color\":\"white\"}},\"type\":\"table\"}]},\"layout\":{\"annotationdefaults\":{\"arrowcolor\":\"#2a3f5f\",\"arrowhead\":0,\"arrowwidth\":1},\"autotypenumbers\":\"strict\",\"coloraxis\":{\"colorbar\":{\"outlinewidth\":0,\"ticks\":\"\"}},\"colorscale\":{\"diverging\":[[0,\"#8e0152\"],[0.1,\"#c51b7d\"],[0.2,\"#de77ae\"],[0.3,\"#f1b6da\"],[0.4,\"#fde0ef\"],[0.5,\"#f7f7f7\"],[0.6,\"#e6f5d0\"],[0.7,\"#b8e186\"],[0.8,\"#7fbc41\"],[0.9,\"#4d9221\"],[1,\"#276419\"]],\"sequential\":[[0.0,\"#0d0887\"],[0.1111111111111111,\"#46039f\"],[0.2222222222222222,\"#7201a8\"],[0.3333333333333333,\"#9c179e\"],[0.4444444444444444,\"#bd3786\"],[0.5555555555555556,\"#d8576b\"],[0.6666666666666666,\"#ed7953\"],[0.7777777777777778,\"#fb9f3a\"],[0.8888888888888888,\"#fdca26\"],[1.0,\"#f0f921\"]],\"sequentialminus\":[[0.0,\"#0d0887\"],[0.1111111111111111,\"#46039f\"],[0.2222222222222222,\"#7201a8\"],[0.3333333333333333,\"#9c179e\"],[0.4444444444444444,\"#bd3786\"],[0.5555555555555556,\"#d8576b\"],[0.6666666666666666,\"#ed7953\"],[0.7777777777777778,\"#fb9f3a\"],[0.8888888888888888,\"#fdca26\"],[1.0,\"#f0f921\"]]},\"colorway\":[\"#636efa\",\"#EF553B\",\"#00cc96\",\"#ab63fa\",\"#FFA15A\",\"#19d3f3\",\"#FF6692\",\"#B6E880\",\"#FF97FF\",\"#FECB52\"],\"font\":{\"color\":\"#2a3f5f\"},\"geo\":{\"bgcolor\":\"white\",\"lakecolor\":\"white\",\"landcolor\":\"#E5ECF6\",\"showlakes\":true,\"showland\":true,\"subunitcolor\":\"white\"},\"hoverlabel\":{\"align\":\"left\"},\"hovermode\":\"closest\",\"mapbox\":{\"style\":\"light\"},\"paper_bgcolor\":\"white\",\"plot_bgcolor\":\"#E5ECF6\",\"polar\":{\"angularaxis\":{\"gridcolor\":\"white\",\"linecolor\":\"white\",\"ticks\":\"\"},\"bgcolor\":\"#E5ECF6\",\"radialaxis\":{\"gridcolor\":\"white\",\"linecolor\":\"white\",\"ticks\":\"\"}},\"scene\":{\"xaxis\":{\"backgroundcolor\":\"#E5ECF6\",\"gridcolor\":\"white\",\"gridwidth\":2,\"linecolor\":\"white\",\"showbackground\":true,\"ticks\":\"\",\"zerolinecolor\":\"white\"},\"yaxis\":{\"backgroundcolor\":\"#E5ECF6\",\"gridcolor\":\"white\",\"gridwidth\":2,\"linecolor\":\"white\",\"showbackground\":true,\"ticks\":\"\",\"zerolinecolor\":\"white\"},\"zaxis\":{\"backgroundcolor\":\"#E5ECF6\",\"gridcolor\":\"white\",\"gridwidth\":2,\"linecolor\":\"white\",\"showbackground\":true,\"ticks\":\"\",\"zerolinecolor\":\"white\"}},\"shapedefaults\":{\"line\":{\"color\":\"#2a3f5f\"}},\"ternary\":{\"aaxis\":{\"gridcolor\":\"white\",\"linecolor\":\"white\",\"ticks\":\"\"},\"baxis\":{\"gridcolor\":\"white\",\"linecolor\":\"white\",\"ticks\":\"\"},\"bgcolor\":\"#E5ECF6\",\"caxis\":{\"gridcolor\":\"white\",\"linecolor\":\"white\",\"ticks\":\"\"}},\"title\":{\"x\":0.05},\"xaxis\":{\"automargin\":true,\"gridcolor\":\"white\",\"linecolor\":\"white\",\"ticks\":\"\",\"title\":{\"standoff\":15},\"zerolinecolor\":\"white\",\"zerolinewidth\":2},\"yaxis\":{\"automargin\":true,\"gridcolor\":\"white\",\"linecolor\":\"white\",\"ticks\":\"\",\"title\":{\"standoff\":15},\"zerolinecolor\":\"white\",\"zerolinewidth\":2}}},\"title\":{\"text\":\"Energy Minimization\"},\"xaxis\":{\"title\":{\"text\":\"Energy Minimization Step\"}},\"yaxis\":{\"title\":{\"text\":\"Potential Energy KJ\\u002fmol-1\"}}},                        {\"responsive\": true}                    ).then(function(){\n",
       "                            \n",
       "var gd = document.getElementById('188c07ae-2f4e-4c10-89c7-be0816585d9c');\n",
       "var x = new MutationObserver(function (mutations, observer) {{\n",
       "        var display = window.getComputedStyle(gd).display;\n",
       "        if (!display || display === 'none') {{\n",
       "            console.log([gd, 'removed!']);\n",
       "            Plotly.purge(gd);\n",
       "            observer.disconnect();\n",
       "        }}\n",
       "}});\n",
       "\n",
       "// Listen for the removal of the full notebook cells\n",
       "var notebookContainer = gd.closest('#notebook-container');\n",
       "if (notebookContainer) {{\n",
       "    x.observe(notebookContainer, {childList: true});\n",
       "}}\n",
       "\n",
       "// Listen for the clearing of the current output cell\n",
       "var outputEl = gd.closest('.output');\n",
       "if (outputEl) {{\n",
       "    x.observe(outputEl, {childList: true});\n",
       "}}\n",
       "\n",
       "                        })                };                });            </script>        </div>"
      ]
     },
     "metadata": {},
     "output_type": "display_data"
    }
   ],
   "source": [
    "import plotly\n",
    "import plotly.graph_objs as go\n",
    "\n",
    "#Read data from file and filter energy values higher than 1000 Kj/mol^-1\n",
    "with open(output_min_ene_xvg,'r') as energy_file:\n",
    "    x,y = map(\n",
    "        list,\n",
    "        zip(*[\n",
    "            (float(line.split()[0]),float(line.split()[1]))\n",
    "            for line in energy_file \n",
    "            if not line.startswith((\"#\",\"@\")) \n",
    "            if float(line.split()[1]) < 1000 \n",
    "        ])\n",
    "    )\n",
    "\n",
    "plotly.offline.init_notebook_mode(connected=True)\n",
    "\n",
    "fig = {\n",
    "    \"data\": [go.Scatter(x=x, y=y)],\n",
    "    \"layout\": go.Layout(title=\"Energy Minimization\",\n",
    "                        xaxis=dict(title = \"Energy Minimization Step\"),\n",
    "                        yaxis=dict(title = \"Potential Energy KJ/mol-1\")\n",
    "                       )\n",
    "}\n",
    "\n",
    "plotly.offline.iplot(fig)"
   ]
  },
  {
   "cell_type": "markdown",
   "metadata": {},
   "source": [
    "<a id=\"npt\"></a>\n",
    "***\n",
    "### Equilibrate the system (NPT)\n",
    "Equilibrate the **protein system** in **NPT** ensemble (constant Number of particles, Pressure and Temperature).\n",
    "- [Step 1](#eqNPTStep1): Creating portable binary run file for system equilibration\n",
    "- [Step 2](#eqNPTStep2): Equilibrate the **protein system** with **NPT** ensemble.\n",
    "- [Step 3](#eqNPTStep3): Checking **NPT Equilibration** results. Plotting **system pressure and density** by time during the **NPT equilibration** process.\n",
    "***\n",
    "**Building Blocks** used:\n",
    " - [Grompp](https://biobb-md.readthedocs.io/en/latest/gromacs.html#module-gromacs.grompp) from **biobb_gromacs.gromacs.grompp** \n",
    " - [Mdrun](https://biobb-md.readthedocs.io/en/latest/gromacs.html#module-gromacs.mdrun) from **biobb_gromacs.gromacs.mdrun** \n",
    " - [GMXEnergy](https://biobb-analysis.readthedocs.io/en/latest/gromacs.html#module-gromacs.gmx_energy) from **biobb_analysis.gromacs.gmx_energy** \n",
    "***"
   ]
  },
  {
   "cell_type": "markdown",
   "metadata": {},
   "source": [
    "<a id=\"eqNPTStep1\"></a>\n",
    "#### Step 1: Creating portable binary run file for system equilibration (NPT)\n",
    "\n",
    "The **npt** type of the **molecular dynamics parameters (mdp) property** contains the main default parameters to run an **NPT equilibration** with **protein restraints** (see [GROMACS mdp options](http://manual.gromacs.org/documentation/2018/user-guide/mdp-options.html)):\n",
    "\n",
    "-  Define                   = -DPOSRES\n",
    "-  integrator               = md\n",
    "-  dt                       = 0.002\n",
    "-  nsteps                   = 5000\n",
    "-  pcoupl = Parrinello-Rahman\n",
    "-  pcoupltype = isotropic\n",
    "-  tau_p = 1.0\n",
    "-  ref_p = 1.0\n",
    "-  compressibility = 4.5e-5\n",
    "-  refcoord_scaling = com\n",
    "-  gen_vel = no\n",
    "\n",
    "In this particular example, the default parameters will be used: **md** integrator algorithm, a **time step** of **2fs**, **5,000 equilibration steps** with the protein **heavy atoms restrained**, and a Parrinello-Rahman **pressure coupling** algorithm.\n",
    "\n",
    "*Please note that for the sake of time this tutorial is only running 10ps of NPT equilibration, whereas in the [original example](http://www.mdtutorials.com/gmx/lysozyme/07_equil2.html) the simulated time was 100ps.*"
   ]
  },
  {
   "cell_type": "code",
   "execution_count": 88,
   "metadata": {
    "scrolled": true
   },
   "outputs": [
    {
     "name": "stdout",
     "output_type": "stream",
     "text": [
      "2023-10-02 11:53:57,938 [MainThread  ] [INFO ]  Executing biobb_gromacs.gromacs.grompp Version: 4.1.0\n",
      "2023-10-02 11:53:57,942 [MainThread  ] [INFO ]  Copy: 3RVT_min.gro to /Users/hospital/BioBB/Antibody/BioBB/biobb_wf_md_setup/biobb_wf_md_setup/notebooks/09122201-d13c-40d5-abdd-6ba1ca25216f\n",
      "2023-10-02 11:53:57,944 [MainThread  ] [INFO ]  Copy: inputs/md_eq_posre_charmm36m.mdp to /Users/hospital/BioBB/Antibody/BioBB/biobb_wf_md_setup/biobb_wf_md_setup/notebooks/09122201-d13c-40d5-abdd-6ba1ca25216f\n",
      "2023-10-02 11:53:57,949 [MainThread  ] [INFO ]  Extracting: /Users/hospital/BioBB/Antibody/BioBB/biobb_wf_md_setup/biobb_wf_md_setup/notebooks/3RVT_genion_top.zip\n",
      "2023-10-02 11:53:57,950 [MainThread  ] [INFO ]  to:\n",
      "2023-10-02 11:53:57,950 [MainThread  ] [INFO ]  ['/Users/hospital/BioBB/Antibody/BioBB/biobb_wf_md_setup/biobb_wf_md_setup/notebooks/09122201-d13c-40d5-abdd-6ba1ca25216f/p2g.top', '/Users/hospital/BioBB/Antibody/BioBB/biobb_wf_md_setup/biobb_wf_md_setup/notebooks/09122201-d13c-40d5-abdd-6ba1ca25216f/p2g_Protein_chain_C.itp', '/Users/hospital/BioBB/Antibody/BioBB/biobb_wf_md_setup/biobb_wf_md_setup/notebooks/09122201-d13c-40d5-abdd-6ba1ca25216f/p2g_Protein_chain_D.itp', '/Users/hospital/BioBB/Antibody/BioBB/biobb_wf_md_setup/biobb_wf_md_setup/notebooks/09122201-d13c-40d5-abdd-6ba1ca25216f/posre_Protein_chain_C.itp', '/Users/hospital/BioBB/Antibody/BioBB/biobb_wf_md_setup/biobb_wf_md_setup/notebooks/09122201-d13c-40d5-abdd-6ba1ca25216f/posre_Protein_chain_D.itp']\n",
      "2023-10-02 11:53:57,951 [MainThread  ] [INFO ]  Unzipping: \n",
      "2023-10-02 11:53:57,951 [MainThread  ] [INFO ]  3RVT_genion_top.zip\n",
      "2023-10-02 11:53:57,951 [MainThread  ] [INFO ]  To: \n",
      "2023-10-02 11:53:57,952 [MainThread  ] [INFO ]  /Users/hospital/BioBB/Antibody/BioBB/biobb_wf_md_setup/biobb_wf_md_setup/notebooks/09122201-d13c-40d5-abdd-6ba1ca25216f/p2g.top\n",
      "2023-10-02 11:53:57,952 [MainThread  ] [INFO ]  /Users/hospital/BioBB/Antibody/BioBB/biobb_wf_md_setup/biobb_wf_md_setup/notebooks/09122201-d13c-40d5-abdd-6ba1ca25216f/p2g_Protein_chain_C.itp\n",
      "2023-10-02 11:53:57,953 [MainThread  ] [INFO ]  /Users/hospital/BioBB/Antibody/BioBB/biobb_wf_md_setup/biobb_wf_md_setup/notebooks/09122201-d13c-40d5-abdd-6ba1ca25216f/p2g_Protein_chain_D.itp\n",
      "2023-10-02 11:53:57,953 [MainThread  ] [INFO ]  /Users/hospital/BioBB/Antibody/BioBB/biobb_wf_md_setup/biobb_wf_md_setup/notebooks/09122201-d13c-40d5-abdd-6ba1ca25216f/posre_Protein_chain_C.itp\n",
      "2023-10-02 11:53:57,953 [MainThread  ] [INFO ]  /Users/hospital/BioBB/Antibody/BioBB/biobb_wf_md_setup/biobb_wf_md_setup/notebooks/09122201-d13c-40d5-abdd-6ba1ca25216f/posre_Protein_chain_D.itp\n",
      "2023-10-02 11:53:57,954 [MainThread  ] [INFO ]  GROMACS Grompp 20222 version detected\n",
      "2023-10-02 11:53:57,955 [MainThread  ] [INFO ]  gmx -nobackup -nocopyright grompp -f /Users/hospital/BioBB/Antibody/BioBB/biobb_wf_md_setup/biobb_wf_md_setup/notebooks/09122201-d13c-40d5-abdd-6ba1ca25216f/grompp.mdp -c /Users/hospital/BioBB/Antibody/BioBB/biobb_wf_md_setup/biobb_wf_md_setup/notebooks/09122201-d13c-40d5-abdd-6ba1ca25216f/3RVT_min.gro -r /Users/hospital/BioBB/Antibody/BioBB/biobb_wf_md_setup/biobb_wf_md_setup/notebooks/09122201-d13c-40d5-abdd-6ba1ca25216f/3RVT_min.gro -p /Users/hospital/BioBB/Antibody/BioBB/biobb_wf_md_setup/biobb_wf_md_setup/notebooks/09122201-d13c-40d5-abdd-6ba1ca25216f/p2g.top -o /Users/hospital/BioBB/Antibody/BioBB/biobb_wf_md_setup/biobb_wf_md_setup/notebooks/09122201-d13c-40d5-abdd-6ba1ca25216f/3RVT_gppnpt.tpr -po mdout.mdp -maxwarn 1\n",
      "\n",
      "2023-10-02 11:53:58,991 [MainThread  ] [INFO ]  Exit code 0\n",
      "\n",
      "2023-10-02 11:53:58,992 [MainThread  ] [INFO ]  Setting the LD random seed to -1651058737\n",
      "\n",
      "Generated 97877 of the 97903 non-bonded parameter combinations\n",
      "\n",
      "Generated 64492 of the 97903 1-4 parameter combinations\n",
      "\n",
      "Excluding 3 bonded neighbours molecule type 'Protein_chain_C'\n",
      "\n",
      "turning H bonds into constraints...\n",
      "\n",
      "Excluding 3 bonded neighbours molecule type 'Protein_chain_D'\n",
      "\n",
      "turning H bonds into constraints...\n",
      "\n",
      "Excluding 2 bonded neighbours molecule type 'SOL'\n",
      "\n",
      "turning H bonds into constraints...\n",
      "\n",
      "Excluding 1 bonded neighbours molecule type 'NA'\n",
      "\n",
      "turning H bonds into constraints...\n",
      "\n",
      "Excluding 1 bonded neighbours molecule type 'CL'\n",
      "\n",
      "turning H bonds into constraints...\n",
      "Analysing residue names:\n",
      "There are:   435    Protein residues\n",
      "There are: 16963      Water residues\n",
      "There are:    40        Ion residues\n",
      "Analysing Protein...\n",
      "Analysing residues not classified as Protein/DNA/RNA/Water and splitting into groups...\n",
      "\n",
      "The largest distance between excluded atoms is 0.454 nm\n",
      "\n",
      "Determining Verlet buffer for a tolerance of 0.005 kJ/mol/ps at 298 K\n",
      "\n",
      "Calculated rlist for 1x1 atom pair-list as 1.232 nm, buffer size 0.032 nm\n",
      "\n",
      "Set rlist, assuming 4x4 atom pair-list, to 1.200 nm, buffer size 0.000 nm\n",
      "\n",
      "Note that mdrun will redetermine rlist based on the actual pair-list setup\n",
      "Calculating fourier grid dimensions for X Y Z\n",
      "Using a fourier grid of 64x64x64, spacing 0.148 0.148 0.148\n",
      "\n",
      "Estimate for the relative computational load of the PME mesh part: 0.11\n",
      "\n",
      "This run will generate roughly 6 Mb of data\n",
      "\n",
      "2023-10-02 11:53:58,993 [MainThread  ] [INFO ]                  :-) GROMACS - gmx grompp, 2022.2-conda_forge (-:\n",
      "\n",
      "Executable:   /opt/anaconda3/envs/biobb_GMX_MDsetup_tutorial_v4.1/bin.SSE2/gmx\n",
      "Data prefix:  /opt/anaconda3/envs/biobb_GMX_MDsetup_tutorial_v4.1\n",
      "Working dir:  /Users/hospital/BioBB/Antibody/BioBB/biobb_wf_md_setup/biobb_wf_md_setup/notebooks\n",
      "Command line:\n",
      "  gmx -nobackup -nocopyright grompp -f /Users/hospital/BioBB/Antibody/BioBB/biobb_wf_md_setup/biobb_wf_md_setup/notebooks/09122201-d13c-40d5-abdd-6ba1ca25216f/grompp.mdp -c /Users/hospital/BioBB/Antibody/BioBB/biobb_wf_md_setup/biobb_wf_md_setup/notebooks/09122201-d13c-40d5-abdd-6ba1ca25216f/3RVT_min.gro -r /Users/hospital/BioBB/Antibody/BioBB/biobb_wf_md_setup/biobb_wf_md_setup/notebooks/09122201-d13c-40d5-abdd-6ba1ca25216f/3RVT_min.gro -p /Users/hospital/BioBB/Antibody/BioBB/biobb_wf_md_setup/biobb_wf_md_setup/notebooks/09122201-d13c-40d5-abdd-6ba1ca25216f/p2g.top -o /Users/hospital/BioBB/Antibody/BioBB/biobb_wf_md_setup/biobb_wf_md_setup/notebooks/09122201-d13c-40d5-abdd-6ba1ca25216f/3RVT_gppnpt.tpr -po mdout.mdp -maxwarn 1\n",
      "\n",
      "Ignoring obsolete mdp entry 'ns-type'\n",
      "\n",
      "WARNING 1 [file /Users/hospital/BioBB/Antibody/BioBB/biobb_wf_md_setup/biobb_wf_md_setup/notebooks/09122201-d13c-40d5-abdd-6ba1ca25216f/grompp.mdp]:\n",
      "  The Berendsen barostat does not generate any strictly correct ensemble,\n",
      "  and should not be used for new production simulations (in our opinion).\n",
      "  For isotropic scaling we would recommend the C-rescale barostat that also\n",
      "  ensures fast relaxation without oscillations, and for anisotropic scaling\n",
      "  you likely want to use the Parrinello-Rahman barostat.\n",
      "\n",
      "Generating 1-4 interactions: fudge = 1\n",
      "Number of degrees of freedom in T-Coupling group System is 118606.00\n",
      "\n",
      "NOTE 1 [file /Users/hospital/BioBB/Antibody/BioBB/biobb_wf_md_setup/biobb_wf_md_setup/notebooks/09122201-d13c-40d5-abdd-6ba1ca25216f/grompp.mdp]:\n",
      "  Removing center of mass motion in the presence of position restraints\n",
      "  might cause artifacts. When you are using position restraints to\n",
      "  equilibrate a macro-molecule, the artifacts are usually negligible.\n",
      "\n",
      "\n",
      "There was 1 note\n",
      "\n",
      "There was 1 warning\n",
      "\n",
      "GROMACS reminds you: \"If at one time or another I have brushed a few colleagues the wrong way, I must apologize: I had not realized that they were covered with fur.\" (Edwin Chargaff)\n",
      "\n",
      "\n",
      "2023-10-02 11:53:58,996 [MainThread  ] [INFO ]  Removed: ['/Users/hospital/BioBB/Antibody/BioBB/biobb_wf_md_setup/biobb_wf_md_setup/notebooks/09122201-d13c-40d5-abdd-6ba1ca25216f', 'mdout.mdp']\n"
     ]
    },
    {
     "data": {
      "text/plain": [
       "0"
      ]
     },
     "execution_count": 88,
     "metadata": {},
     "output_type": "execute_result"
    }
   ],
   "source": [
    "# Grompp: Creating portable binary run file for NPT Equilibration\n",
    "from biobb_gromacs.gromacs.grompp import grompp\n",
    "\n",
    "# Create prop dict and inputs/outputs\n",
    "input_mdp_eq = \"inputs/md_eq_posre_charmm36m.mdp\"\n",
    "output_gppnpt_tpr = pdbCode+'_gppnpt.tpr'\n",
    "\n",
    "prop = {\n",
    "    'mdp': {\n",
    "        'nsteps' : 50000\n",
    "    },\n",
    "    'gmx_lib' : cwd + '/inputs',\n",
    "    'maxwarn' : 1\n",
    "}\n",
    "\n",
    "# Create and launch bb\n",
    "grompp(input_gro_path=output_min_gro, \n",
    "       input_top_zip_path=output_genion_top_zip, \n",
    "       input_mdp_path=input_mdp_eq,\n",
    "       output_tpr_path=output_gppnpt_tpr,  \n",
    "       properties=prop)"
   ]
  },
  {
   "cell_type": "markdown",
   "metadata": {},
   "source": [
    "<a id=\"eqNPTStep2\"></a>\n",
    "#### Step 2: Running NPT equilibration"
   ]
  },
  {
   "cell_type": "code",
   "execution_count": 89,
   "metadata": {},
   "outputs": [
    {
     "name": "stdout",
     "output_type": "stream",
     "text": [
      "2023-10-02 11:54:03,542 [MainThread  ] [INFO ]  Executing biobb_gromacs.gromacs.mdrun Version: 4.1.0\n",
      "2023-10-02 11:54:03,547 [MainThread  ] [INFO ]  Copy: 3RVT_gppnpt.tpr to /Users/hospital/BioBB/Antibody/BioBB/biobb_wf_md_setup/biobb_wf_md_setup/notebooks/e31fda58-eb8f-4699-8627-23c58a704d4a\n",
      "2023-10-02 11:54:03,547 [MainThread  ] [INFO ]  GROMACS Mdrun 20222 version detected\n",
      "2023-10-02 11:54:03,548 [MainThread  ] [INFO ]  gmx -nobackup -nocopyright mdrun -o /Users/hospital/BioBB/Antibody/BioBB/biobb_wf_md_setup/biobb_wf_md_setup/notebooks/e31fda58-eb8f-4699-8627-23c58a704d4a/3RVT_npt.trr -s /Users/hospital/BioBB/Antibody/BioBB/biobb_wf_md_setup/biobb_wf_md_setup/notebooks/e31fda58-eb8f-4699-8627-23c58a704d4a/3RVT_gppnpt.tpr -c /Users/hospital/BioBB/Antibody/BioBB/biobb_wf_md_setup/biobb_wf_md_setup/notebooks/e31fda58-eb8f-4699-8627-23c58a704d4a/3RVT_npt.gro -e /Users/hospital/BioBB/Antibody/BioBB/biobb_wf_md_setup/biobb_wf_md_setup/notebooks/e31fda58-eb8f-4699-8627-23c58a704d4a/3RVT_npt.edr -g /Users/hospital/BioBB/Antibody/BioBB/biobb_wf_md_setup/biobb_wf_md_setup/notebooks/e31fda58-eb8f-4699-8627-23c58a704d4a/3RVT_npt.log -cpo /Users/hospital/BioBB/Antibody/BioBB/biobb_wf_md_setup/biobb_wf_md_setup/notebooks/e31fda58-eb8f-4699-8627-23c58a704d4a/3RVT_npt.cpt\n",
      "\n",
      "2023-10-02 12:15:45,626 [MainThread  ] [INFO ]  Exit code 0\n",
      "\n",
      "2023-10-02 12:15:45,628 [MainThread  ] [INFO ]                  :-) GROMACS - gmx mdrun, 2022.2-conda_forge (-:\n",
      "\n",
      "Executable:   /opt/anaconda3/envs/biobb_GMX_MDsetup_tutorial_v4.1/bin.SSE2/gmx\n",
      "Data prefix:  /opt/anaconda3/envs/biobb_GMX_MDsetup_tutorial_v4.1\n",
      "Working dir:  /Users/hospital/BioBB/Antibody/BioBB/biobb_wf_md_setup/biobb_wf_md_setup/notebooks\n",
      "Command line:\n",
      "  gmx -nobackup -nocopyright mdrun -o /Users/hospital/BioBB/Antibody/BioBB/biobb_wf_md_setup/biobb_wf_md_setup/notebooks/e31fda58-eb8f-4699-8627-23c58a704d4a/3RVT_npt.trr -s /Users/hospital/BioBB/Antibody/BioBB/biobb_wf_md_setup/biobb_wf_md_setup/notebooks/e31fda58-eb8f-4699-8627-23c58a704d4a/3RVT_gppnpt.tpr -c /Users/hospital/BioBB/Antibody/BioBB/biobb_wf_md_setup/biobb_wf_md_setup/notebooks/e31fda58-eb8f-4699-8627-23c58a704d4a/3RVT_npt.gro -e /Users/hospital/BioBB/Antibody/BioBB/biobb_wf_md_setup/biobb_wf_md_setup/notebooks/e31fda58-eb8f-4699-8627-23c58a704d4a/3RVT_npt.edr -g /Users/hospital/BioBB/Antibody/BioBB/biobb_wf_md_setup/biobb_wf_md_setup/notebooks/e31fda58-eb8f-4699-8627-23c58a704d4a/3RVT_npt.log -cpo /Users/hospital/BioBB/Antibody/BioBB/biobb_wf_md_setup/biobb_wf_md_setup/notebooks/e31fda58-eb8f-4699-8627-23c58a704d4a/3RVT_npt.cpt\n",
      "\n",
      "Compiled SIMD: SSE2, but for this host/run SSE4.1 might be better (see log).\n",
      "Reading file /Users/hospital/BioBB/Antibody/BioBB/biobb_wf_md_setup/biobb_wf_md_setup/notebooks/e31fda58-eb8f-4699-8627-23c58a704d4a/3RVT_gppnpt.tpr, VERSION 2022.2-conda_forge (single precision)\n",
      "Changing nstlist from 10 to 80, rlist from 1.2 to 1.313\n",
      "\n",
      "Using 1 MPI thread\n",
      "Using 8 OpenMP threads \n",
      "\n",
      "starting mdrun 'Protein in water'\n",
      "50000 steps,    100.0 ps.\n",
      "\n",
      "Writing final coordinates.\n",
      "\n",
      "               Core t (s)   Wall t (s)        (%)\n",
      "       Time:    10408.597     1301.075      800.0\n",
      "                 (ns/day)    (hour/ns)\n",
      "Performance:        6.641        3.614\n",
      "\n",
      "GROMACS reminds you: \"Your Shopping Techniques are Amazing\" (Gogol Bordello)\n",
      "\n",
      "\n",
      "2023-10-02 12:15:45,632 [MainThread  ] [INFO ]  Removed: ['traj_comp.xtc', '/Users/hospital/BioBB/Antibody/BioBB/biobb_wf_md_setup/biobb_wf_md_setup/notebooks/e31fda58-eb8f-4699-8627-23c58a704d4a']\n",
      "2023-10-02 12:15:45,633 [MainThread  ] [INFO ]  Path 3RVT_npt.trr --- biobb_gromacs.gromacs.mdrun: Unexisting output_trr_path file.\n"
     ]
    },
    {
     "data": {
      "text/plain": [
       "0"
      ]
     },
     "execution_count": 89,
     "metadata": {},
     "output_type": "execute_result"
    }
   ],
   "source": [
    "# Mdrun: Running NPT System Equilibration\n",
    "from biobb_gromacs.gromacs.mdrun import mdrun\n",
    "\n",
    "# Create prop dict and inputs/outputs\n",
    "output_npt_trr = pdbCode+'_npt.trr'\n",
    "output_npt_gro = pdbCode+'_npt.gro'\n",
    "output_npt_edr = pdbCode+'_npt.edr'\n",
    "output_npt_log = pdbCode+'_npt.log'\n",
    "output_npt_cpt = pdbCode+'_npt.cpt'\n",
    "\n",
    "# Create and launch bb\n",
    "mdrun(input_tpr_path=output_gppnpt_tpr, \n",
    "      output_trr_path=output_npt_trr, \n",
    "      output_gro_path=output_npt_gro, \n",
    "      output_edr_path=output_npt_edr, \n",
    "      output_log_path=output_npt_log, \n",
    "      output_cpt_path=output_npt_cpt)"
   ]
  },
  {
   "cell_type": "markdown",
   "metadata": {},
   "source": [
    "<a id=\"eqNPTStep3\"></a>\n",
    "#### Step 3: Checking NPT Equilibration results\n",
    "Checking **NPT Equilibration** results. Plotting **system pressure and density** by time during the **NPT equilibration** process. "
   ]
  },
  {
   "cell_type": "code",
   "execution_count": 92,
   "metadata": {
    "scrolled": true
   },
   "outputs": [
    {
     "name": "stdout",
     "output_type": "stream",
     "text": [
      "2023-10-02 13:24:55,899 [MainThread  ] [INFO ]  Executing biobb_analysis.gromacs.gmx_energy Version: 4.1.0\n",
      "2023-10-02 13:24:55,901 [MainThread  ] [INFO ]  Copy: /Users/hospital/BioBB/Antibody/BioBB/biobb_wf_md_setup/biobb_wf_md_setup/notebooks/3RVT_npt.edr to /Users/hospital/BioBB/Antibody/BioBB/biobb_wf_md_setup/biobb_wf_md_setup/notebooks/3f358c90-477d-487d-8d79-af9ab738c06a\n",
      "2023-10-02 13:24:55,902 [MainThread  ] [INFO ]  gmx energy -f /Users/hospital/BioBB/Antibody/BioBB/biobb_wf_md_setup/biobb_wf_md_setup/notebooks/3f358c90-477d-487d-8d79-af9ab738c06a/3RVT_npt.edr -o /Users/hospital/BioBB/Antibody/BioBB/biobb_wf_md_setup/biobb_wf_md_setup/notebooks/3f358c90-477d-487d-8d79-af9ab738c06a/3RVT_npt_PD.xvg -xvg none < f9f95004-7a35-4c8a-99be-2f3a4f188ef3/instructions.in\n",
      "\n",
      "2023-10-02 13:24:55,961 [MainThread  ] [INFO ]  Exit code 0\n",
      "\n",
      "2023-10-02 13:24:55,962 [MainThread  ] [INFO ]  \n",
      "Statistics over 50001 steps [ 0.0000 through 100.0000 ps ], 2 data sets\n",
      "All statistics are over 501 points\n",
      "\n",
      "Energy                      Average   Err.Est.       RMSD  Tot-Drift\n",
      "-------------------------------------------------------------------------------\n",
      "Pressure                   -48.9598         60    374.885    301.168  (bar)\n",
      "Density                     1031.63       0.91    5.03658    3.12124  (kg/m^3)\n",
      "\n",
      "2023-10-02 13:24:55,963 [MainThread  ] [INFO ]                  :-) GROMACS - gmx energy, 2022.2-conda_forge (-:\n",
      "\n",
      "Executable:   /opt/anaconda3/envs/biobb_GMX_MDsetup_tutorial_v4.1/bin.SSE2/gmx\n",
      "Data prefix:  /opt/anaconda3/envs/biobb_GMX_MDsetup_tutorial_v4.1\n",
      "Working dir:  /Users/hospital/BioBB/Antibody/BioBB/biobb_wf_md_setup/biobb_wf_md_setup/notebooks\n",
      "Command line:\n",
      "  gmx energy -f /Users/hospital/BioBB/Antibody/BioBB/biobb_wf_md_setup/biobb_wf_md_setup/notebooks/3f358c90-477d-487d-8d79-af9ab738c06a/3RVT_npt.edr -o /Users/hospital/BioBB/Antibody/BioBB/biobb_wf_md_setup/biobb_wf_md_setup/notebooks/3f358c90-477d-487d-8d79-af9ab738c06a/3RVT_npt_PD.xvg -xvg none\n",
      "\n",
      "Opened /Users/hospital/BioBB/Antibody/BioBB/biobb_wf_md_setup/biobb_wf_md_setup/notebooks/3f358c90-477d-487d-8d79-af9ab738c06a/3RVT_npt.edr as single precision energy file\n",
      "\n",
      "Select the terms you want from the following list by\n",
      "selecting either (part of) the name or the number or a combination.\n",
      "End your selection with an empty line or a zero.\n",
      "-------------------------------------------------------------------\n",
      "  1  Bond             2  U-B              3  Proper-Dih.      4  Improper-Dih. \n",
      "  5  CMAP-Dih.        6  LJ-14            7  Coulomb-14       8  LJ-(SR)       \n",
      "  9  Disper.-corr.   10  Coulomb-(SR)    11  Coul.-recip.    12  Position-Rest.\n",
      " 13  Potential       14  Kinetic-En.     15  Total-Energy    16  Conserved-En. \n",
      " 17  Temperature     18  Pres.-DC        19  Pressure        20  Constr.-rmsd  \n",
      " 21  Box-X           22  Box-Y           23  Box-Z           24  Volume        \n",
      " 25  Density         26  pV              27  Enthalpy        28  Vir-XX        \n",
      " 29  Vir-XY          30  Vir-XZ          31  Vir-YX          32  Vir-YY        \n",
      " 33  Vir-YZ          34  Vir-ZX          35  Vir-ZY          36  Vir-ZZ        \n",
      " 37  Pres-XX         38  Pres-XY         39  Pres-XZ         40  Pres-YX       \n",
      " 41  Pres-YY         42  Pres-YZ         43  Pres-ZX         44  Pres-ZY       \n",
      " 45  Pres-ZZ         46  #Surf*SurfTen   47  T-System        48  Lamb-System   \n",
      "\n",
      "Last energy frame read 5 time  100.000            \n",
      "\n",
      "GROMACS reminds you: \"Science is the record of dead religions.\" (Oscar Wilde)\n",
      "\n",
      "\n",
      "2023-10-02 13:24:55,965 [MainThread  ] [INFO ]  Removed: ['/Users/hospital/BioBB/Antibody/BioBB/biobb_wf_md_setup/biobb_wf_md_setup/notebooks/3f358c90-477d-487d-8d79-af9ab738c06a', 'f9f95004-7a35-4c8a-99be-2f3a4f188ef3']\n"
     ]
    },
    {
     "data": {
      "text/plain": [
       "0"
      ]
     },
     "execution_count": 92,
     "metadata": {},
     "output_type": "execute_result"
    }
   ],
   "source": [
    "# GMXEnergy: Getting system pressure and density by time during NPT Equilibration  \n",
    "from biobb_analysis.gromacs.gmx_energy import gmx_energy\n",
    "\n",
    "# Create prop dict and inputs/outputs\n",
    "output_npt_pd_xvg = pdbCode+'_npt_PD.xvg'\n",
    "prop = {\n",
    "    'terms':  [\"Pressure\",\"Density\"]\n",
    "}\n",
    "\n",
    "# Create and launch bb\n",
    "gmx_energy(input_energy_path=output_npt_edr, \n",
    "          output_xvg_path=output_npt_pd_xvg, \n",
    "          properties=prop)"
   ]
  },
  {
   "cell_type": "code",
   "execution_count": 93,
   "metadata": {},
   "outputs": [
    {
     "data": {
      "text/html": [
       "        <script type=\"text/javascript\">\n",
       "        window.PlotlyConfig = {MathJaxConfig: 'local'};\n",
       "        if (window.MathJax && window.MathJax.Hub && window.MathJax.Hub.Config) {window.MathJax.Hub.Config({SVG: {font: \"STIX-Web\"}});}\n",
       "        if (typeof require !== 'undefined') {\n",
       "        require.undef(\"plotly\");\n",
       "        requirejs.config({\n",
       "            paths: {\n",
       "                'plotly': ['https://cdn.plot.ly/plotly-2.26.0.min']\n",
       "            }\n",
       "        });\n",
       "        require(['plotly'], function(Plotly) {\n",
       "            window._Plotly = Plotly;\n",
       "        });\n",
       "        }\n",
       "        </script>\n",
       "        "
      ]
     },
     "metadata": {},
     "output_type": "display_data"
    },
    {
     "data": {
      "application/vnd.plotly.v1+json": {
       "config": {
        "linkText": "Export to plot.ly",
        "plotlyServerURL": "https://plot.ly",
        "showLink": false
       },
       "data": [
        {
         "type": "scatter",
         "x": [
          0,
          20,
          40,
          60,
          80,
          100
         ],
         "xaxis": "x",
         "y": [
          -6025.039551,
          25.948029,
          -69.692795,
          -20.042879,
          -50.116909,
          46.213318
         ],
         "yaxis": "y"
        },
        {
         "type": "scatter",
         "x": [
          0,
          20,
          40,
          60,
          80,
          100
         ],
         "xaxis": "x2",
         "y": [
          985.305237,
          1034.971313,
          1032.097534,
          1031.674194,
          1032.619995,
          1031.884399
         ],
         "yaxis": "y2"
        }
       ],
       "layout": {
        "autosize": true,
        "showlegend": false,
        "template": {
         "data": {
          "bar": [
           {
            "error_x": {
             "color": "#2a3f5f"
            },
            "error_y": {
             "color": "#2a3f5f"
            },
            "marker": {
             "line": {
              "color": "#E5ECF6",
              "width": 0.5
             },
             "pattern": {
              "fillmode": "overlay",
              "size": 10,
              "solidity": 0.2
             }
            },
            "type": "bar"
           }
          ],
          "barpolar": [
           {
            "marker": {
             "line": {
              "color": "#E5ECF6",
              "width": 0.5
             },
             "pattern": {
              "fillmode": "overlay",
              "size": 10,
              "solidity": 0.2
             }
            },
            "type": "barpolar"
           }
          ],
          "carpet": [
           {
            "aaxis": {
             "endlinecolor": "#2a3f5f",
             "gridcolor": "white",
             "linecolor": "white",
             "minorgridcolor": "white",
             "startlinecolor": "#2a3f5f"
            },
            "baxis": {
             "endlinecolor": "#2a3f5f",
             "gridcolor": "white",
             "linecolor": "white",
             "minorgridcolor": "white",
             "startlinecolor": "#2a3f5f"
            },
            "type": "carpet"
           }
          ],
          "choropleth": [
           {
            "colorbar": {
             "outlinewidth": 0,
             "ticks": ""
            },
            "type": "choropleth"
           }
          ],
          "contour": [
           {
            "colorbar": {
             "outlinewidth": 0,
             "ticks": ""
            },
            "colorscale": [
             [
              0,
              "#0d0887"
             ],
             [
              0.1111111111111111,
              "#46039f"
             ],
             [
              0.2222222222222222,
              "#7201a8"
             ],
             [
              0.3333333333333333,
              "#9c179e"
             ],
             [
              0.4444444444444444,
              "#bd3786"
             ],
             [
              0.5555555555555556,
              "#d8576b"
             ],
             [
              0.6666666666666666,
              "#ed7953"
             ],
             [
              0.7777777777777778,
              "#fb9f3a"
             ],
             [
              0.8888888888888888,
              "#fdca26"
             ],
             [
              1,
              "#f0f921"
             ]
            ],
            "type": "contour"
           }
          ],
          "contourcarpet": [
           {
            "colorbar": {
             "outlinewidth": 0,
             "ticks": ""
            },
            "type": "contourcarpet"
           }
          ],
          "heatmap": [
           {
            "colorbar": {
             "outlinewidth": 0,
             "ticks": ""
            },
            "colorscale": [
             [
              0,
              "#0d0887"
             ],
             [
              0.1111111111111111,
              "#46039f"
             ],
             [
              0.2222222222222222,
              "#7201a8"
             ],
             [
              0.3333333333333333,
              "#9c179e"
             ],
             [
              0.4444444444444444,
              "#bd3786"
             ],
             [
              0.5555555555555556,
              "#d8576b"
             ],
             [
              0.6666666666666666,
              "#ed7953"
             ],
             [
              0.7777777777777778,
              "#fb9f3a"
             ],
             [
              0.8888888888888888,
              "#fdca26"
             ],
             [
              1,
              "#f0f921"
             ]
            ],
            "type": "heatmap"
           }
          ],
          "heatmapgl": [
           {
            "colorbar": {
             "outlinewidth": 0,
             "ticks": ""
            },
            "colorscale": [
             [
              0,
              "#0d0887"
             ],
             [
              0.1111111111111111,
              "#46039f"
             ],
             [
              0.2222222222222222,
              "#7201a8"
             ],
             [
              0.3333333333333333,
              "#9c179e"
             ],
             [
              0.4444444444444444,
              "#bd3786"
             ],
             [
              0.5555555555555556,
              "#d8576b"
             ],
             [
              0.6666666666666666,
              "#ed7953"
             ],
             [
              0.7777777777777778,
              "#fb9f3a"
             ],
             [
              0.8888888888888888,
              "#fdca26"
             ],
             [
              1,
              "#f0f921"
             ]
            ],
            "type": "heatmapgl"
           }
          ],
          "histogram": [
           {
            "marker": {
             "pattern": {
              "fillmode": "overlay",
              "size": 10,
              "solidity": 0.2
             }
            },
            "type": "histogram"
           }
          ],
          "histogram2d": [
           {
            "colorbar": {
             "outlinewidth": 0,
             "ticks": ""
            },
            "colorscale": [
             [
              0,
              "#0d0887"
             ],
             [
              0.1111111111111111,
              "#46039f"
             ],
             [
              0.2222222222222222,
              "#7201a8"
             ],
             [
              0.3333333333333333,
              "#9c179e"
             ],
             [
              0.4444444444444444,
              "#bd3786"
             ],
             [
              0.5555555555555556,
              "#d8576b"
             ],
             [
              0.6666666666666666,
              "#ed7953"
             ],
             [
              0.7777777777777778,
              "#fb9f3a"
             ],
             [
              0.8888888888888888,
              "#fdca26"
             ],
             [
              1,
              "#f0f921"
             ]
            ],
            "type": "histogram2d"
           }
          ],
          "histogram2dcontour": [
           {
            "colorbar": {
             "outlinewidth": 0,
             "ticks": ""
            },
            "colorscale": [
             [
              0,
              "#0d0887"
             ],
             [
              0.1111111111111111,
              "#46039f"
             ],
             [
              0.2222222222222222,
              "#7201a8"
             ],
             [
              0.3333333333333333,
              "#9c179e"
             ],
             [
              0.4444444444444444,
              "#bd3786"
             ],
             [
              0.5555555555555556,
              "#d8576b"
             ],
             [
              0.6666666666666666,
              "#ed7953"
             ],
             [
              0.7777777777777778,
              "#fb9f3a"
             ],
             [
              0.8888888888888888,
              "#fdca26"
             ],
             [
              1,
              "#f0f921"
             ]
            ],
            "type": "histogram2dcontour"
           }
          ],
          "mesh3d": [
           {
            "colorbar": {
             "outlinewidth": 0,
             "ticks": ""
            },
            "type": "mesh3d"
           }
          ],
          "parcoords": [
           {
            "line": {
             "colorbar": {
              "outlinewidth": 0,
              "ticks": ""
             }
            },
            "type": "parcoords"
           }
          ],
          "pie": [
           {
            "automargin": true,
            "type": "pie"
           }
          ],
          "scatter": [
           {
            "fillpattern": {
             "fillmode": "overlay",
             "size": 10,
             "solidity": 0.2
            },
            "type": "scatter"
           }
          ],
          "scatter3d": [
           {
            "line": {
             "colorbar": {
              "outlinewidth": 0,
              "ticks": ""
             }
            },
            "marker": {
             "colorbar": {
              "outlinewidth": 0,
              "ticks": ""
             }
            },
            "type": "scatter3d"
           }
          ],
          "scattercarpet": [
           {
            "marker": {
             "colorbar": {
              "outlinewidth": 0,
              "ticks": ""
             }
            },
            "type": "scattercarpet"
           }
          ],
          "scattergeo": [
           {
            "marker": {
             "colorbar": {
              "outlinewidth": 0,
              "ticks": ""
             }
            },
            "type": "scattergeo"
           }
          ],
          "scattergl": [
           {
            "marker": {
             "colorbar": {
              "outlinewidth": 0,
              "ticks": ""
             }
            },
            "type": "scattergl"
           }
          ],
          "scattermapbox": [
           {
            "marker": {
             "colorbar": {
              "outlinewidth": 0,
              "ticks": ""
             }
            },
            "type": "scattermapbox"
           }
          ],
          "scatterpolar": [
           {
            "marker": {
             "colorbar": {
              "outlinewidth": 0,
              "ticks": ""
             }
            },
            "type": "scatterpolar"
           }
          ],
          "scatterpolargl": [
           {
            "marker": {
             "colorbar": {
              "outlinewidth": 0,
              "ticks": ""
             }
            },
            "type": "scatterpolargl"
           }
          ],
          "scatterternary": [
           {
            "marker": {
             "colorbar": {
              "outlinewidth": 0,
              "ticks": ""
             }
            },
            "type": "scatterternary"
           }
          ],
          "surface": [
           {
            "colorbar": {
             "outlinewidth": 0,
             "ticks": ""
            },
            "colorscale": [
             [
              0,
              "#0d0887"
             ],
             [
              0.1111111111111111,
              "#46039f"
             ],
             [
              0.2222222222222222,
              "#7201a8"
             ],
             [
              0.3333333333333333,
              "#9c179e"
             ],
             [
              0.4444444444444444,
              "#bd3786"
             ],
             [
              0.5555555555555556,
              "#d8576b"
             ],
             [
              0.6666666666666666,
              "#ed7953"
             ],
             [
              0.7777777777777778,
              "#fb9f3a"
             ],
             [
              0.8888888888888888,
              "#fdca26"
             ],
             [
              1,
              "#f0f921"
             ]
            ],
            "type": "surface"
           }
          ],
          "table": [
           {
            "cells": {
             "fill": {
              "color": "#EBF0F8"
             },
             "line": {
              "color": "white"
             }
            },
            "header": {
             "fill": {
              "color": "#C8D4E3"
             },
             "line": {
              "color": "white"
             }
            },
            "type": "table"
           }
          ]
         },
         "layout": {
          "annotationdefaults": {
           "arrowcolor": "#2a3f5f",
           "arrowhead": 0,
           "arrowwidth": 1
          },
          "autotypenumbers": "strict",
          "coloraxis": {
           "colorbar": {
            "outlinewidth": 0,
            "ticks": ""
           }
          },
          "colorscale": {
           "diverging": [
            [
             0,
             "#8e0152"
            ],
            [
             0.1,
             "#c51b7d"
            ],
            [
             0.2,
             "#de77ae"
            ],
            [
             0.3,
             "#f1b6da"
            ],
            [
             0.4,
             "#fde0ef"
            ],
            [
             0.5,
             "#f7f7f7"
            ],
            [
             0.6,
             "#e6f5d0"
            ],
            [
             0.7,
             "#b8e186"
            ],
            [
             0.8,
             "#7fbc41"
            ],
            [
             0.9,
             "#4d9221"
            ],
            [
             1,
             "#276419"
            ]
           ],
           "sequential": [
            [
             0,
             "#0d0887"
            ],
            [
             0.1111111111111111,
             "#46039f"
            ],
            [
             0.2222222222222222,
             "#7201a8"
            ],
            [
             0.3333333333333333,
             "#9c179e"
            ],
            [
             0.4444444444444444,
             "#bd3786"
            ],
            [
             0.5555555555555556,
             "#d8576b"
            ],
            [
             0.6666666666666666,
             "#ed7953"
            ],
            [
             0.7777777777777778,
             "#fb9f3a"
            ],
            [
             0.8888888888888888,
             "#fdca26"
            ],
            [
             1,
             "#f0f921"
            ]
           ],
           "sequentialminus": [
            [
             0,
             "#0d0887"
            ],
            [
             0.1111111111111111,
             "#46039f"
            ],
            [
             0.2222222222222222,
             "#7201a8"
            ],
            [
             0.3333333333333333,
             "#9c179e"
            ],
            [
             0.4444444444444444,
             "#bd3786"
            ],
            [
             0.5555555555555556,
             "#d8576b"
            ],
            [
             0.6666666666666666,
             "#ed7953"
            ],
            [
             0.7777777777777778,
             "#fb9f3a"
            ],
            [
             0.8888888888888888,
             "#fdca26"
            ],
            [
             1,
             "#f0f921"
            ]
           ]
          },
          "colorway": [
           "#636efa",
           "#EF553B",
           "#00cc96",
           "#ab63fa",
           "#FFA15A",
           "#19d3f3",
           "#FF6692",
           "#B6E880",
           "#FF97FF",
           "#FECB52"
          ],
          "font": {
           "color": "#2a3f5f"
          },
          "geo": {
           "bgcolor": "white",
           "lakecolor": "white",
           "landcolor": "#E5ECF6",
           "showlakes": true,
           "showland": true,
           "subunitcolor": "white"
          },
          "hoverlabel": {
           "align": "left"
          },
          "hovermode": "closest",
          "mapbox": {
           "style": "light"
          },
          "paper_bgcolor": "white",
          "plot_bgcolor": "#E5ECF6",
          "polar": {
           "angularaxis": {
            "gridcolor": "white",
            "linecolor": "white",
            "ticks": ""
           },
           "bgcolor": "#E5ECF6",
           "radialaxis": {
            "gridcolor": "white",
            "linecolor": "white",
            "ticks": ""
           }
          },
          "scene": {
           "xaxis": {
            "backgroundcolor": "#E5ECF6",
            "gridcolor": "white",
            "gridwidth": 2,
            "linecolor": "white",
            "showbackground": true,
            "ticks": "",
            "zerolinecolor": "white"
           },
           "yaxis": {
            "backgroundcolor": "#E5ECF6",
            "gridcolor": "white",
            "gridwidth": 2,
            "linecolor": "white",
            "showbackground": true,
            "ticks": "",
            "zerolinecolor": "white"
           },
           "zaxis": {
            "backgroundcolor": "#E5ECF6",
            "gridcolor": "white",
            "gridwidth": 2,
            "linecolor": "white",
            "showbackground": true,
            "ticks": "",
            "zerolinecolor": "white"
           }
          },
          "shapedefaults": {
           "line": {
            "color": "#2a3f5f"
           }
          },
          "ternary": {
           "aaxis": {
            "gridcolor": "white",
            "linecolor": "white",
            "ticks": ""
           },
           "baxis": {
            "gridcolor": "white",
            "linecolor": "white",
            "ticks": ""
           },
           "bgcolor": "#E5ECF6",
           "caxis": {
            "gridcolor": "white",
            "linecolor": "white",
            "ticks": ""
           }
          },
          "title": {
           "x": 0.05
          },
          "xaxis": {
           "automargin": true,
           "gridcolor": "white",
           "linecolor": "white",
           "ticks": "",
           "title": {
            "standoff": 15
           },
           "zerolinecolor": "white",
           "zerolinewidth": 2
          },
          "yaxis": {
           "automargin": true,
           "gridcolor": "white",
           "linecolor": "white",
           "ticks": "",
           "title": {
            "standoff": 15
           },
           "zerolinecolor": "white",
           "zerolinewidth": 2
          }
         }
        },
        "title": {
         "text": "Pressure and Density during NPT Equilibration"
        },
        "xaxis": {
         "anchor": "y",
         "autorange": true,
         "domain": [
          0,
          0.45
         ],
         "range": [
          -6.650634707876686,
          106.65063470787669
         ],
         "title": {
          "text": "Time (ps)"
         },
         "type": "linear"
        },
        "xaxis2": {
         "anchor": "y2",
         "autorange": true,
         "domain": [
          0.55,
          1
         ],
         "range": [
          -6.650634707876686,
          106.65063470787669
         ],
         "title": {
          "text": "Time (ps)"
         },
         "type": "linear"
        },
        "yaxis": {
         "anchor": "x",
         "autorange": true,
         "domain": [
          0,
          1
         ],
         "range": [
          -6526.0652731990285,
          547.2390401990291
         ],
         "title": {
          "text": "Pressure (bar)"
         },
         "type": "linear"
        },
        "yaxis2": {
         "anchor": "x2",
         "autorange": true,
         "domain": [
          0,
          1
         ],
         "range": [
          981.2065802427185,
          1039.0699697572816
         ],
         "title": {
          "text": "Density (Kg*m^-3)"
         },
         "type": "linear"
        }
       }
      },
      "image/png": "[encoded data removed]",
      "text/html": [
       "<div>                            <div id=\"5976c67f-eafa-45ff-b9b0-0ae3f19935f8\" class=\"plotly-graph-div\" style=\"height:525px; width:100%;\"></div>            <script type=\"text/javascript\">                require([\"plotly\"], function(Plotly) {                    window.PLOTLYENV=window.PLOTLYENV || {};                                    if (document.getElementById(\"5976c67f-eafa-45ff-b9b0-0ae3f19935f8\")) {                    Plotly.newPlot(                        \"5976c67f-eafa-45ff-b9b0-0ae3f19935f8\",                        [{\"x\":[0.0,20.0,40.0,60.0,80.0,100.0],\"xaxis\":\"x\",\"y\":[-6025.039551,25.948029,-69.692795,-20.042879,-50.116909,46.213318],\"yaxis\":\"y\",\"type\":\"scatter\"},{\"x\":[0.0,20.0,40.0,60.0,80.0,100.0],\"xaxis\":\"x2\",\"y\":[985.305237,1034.971313,1032.097534,1031.674194,1032.619995,1031.884399],\"yaxis\":\"y2\",\"type\":\"scatter\"}],                        {\"showlegend\":false,\"template\":{\"data\":{\"barpolar\":[{\"marker\":{\"line\":{\"color\":\"#E5ECF6\",\"width\":0.5},\"pattern\":{\"fillmode\":\"overlay\",\"size\":10,\"solidity\":0.2}},\"type\":\"barpolar\"}],\"bar\":[{\"error_x\":{\"color\":\"#2a3f5f\"},\"error_y\":{\"color\":\"#2a3f5f\"},\"marker\":{\"line\":{\"color\":\"#E5ECF6\",\"width\":0.5},\"pattern\":{\"fillmode\":\"overlay\",\"size\":10,\"solidity\":0.2}},\"type\":\"bar\"}],\"carpet\":[{\"aaxis\":{\"endlinecolor\":\"#2a3f5f\",\"gridcolor\":\"white\",\"linecolor\":\"white\",\"minorgridcolor\":\"white\",\"startlinecolor\":\"#2a3f5f\"},\"baxis\":{\"endlinecolor\":\"#2a3f5f\",\"gridcolor\":\"white\",\"linecolor\":\"white\",\"minorgridcolor\":\"white\",\"startlinecolor\":\"#2a3f5f\"},\"type\":\"carpet\"}],\"choropleth\":[{\"colorbar\":{\"outlinewidth\":0,\"ticks\":\"\"},\"type\":\"choropleth\"}],\"contourcarpet\":[{\"colorbar\":{\"outlinewidth\":0,\"ticks\":\"\"},\"type\":\"contourcarpet\"}],\"contour\":[{\"colorbar\":{\"outlinewidth\":0,\"ticks\":\"\"},\"colorscale\":[[0.0,\"#0d0887\"],[0.1111111111111111,\"#46039f\"],[0.2222222222222222,\"#7201a8\"],[0.3333333333333333,\"#9c179e\"],[0.4444444444444444,\"#bd3786\"],[0.5555555555555556,\"#d8576b\"],[0.6666666666666666,\"#ed7953\"],[0.7777777777777778,\"#fb9f3a\"],[0.8888888888888888,\"#fdca26\"],[1.0,\"#f0f921\"]],\"type\":\"contour\"}],\"heatmapgl\":[{\"colorbar\":{\"outlinewidth\":0,\"ticks\":\"\"},\"colorscale\":[[0.0,\"#0d0887\"],[0.1111111111111111,\"#46039f\"],[0.2222222222222222,\"#7201a8\"],[0.3333333333333333,\"#9c179e\"],[0.4444444444444444,\"#bd3786\"],[0.5555555555555556,\"#d8576b\"],[0.6666666666666666,\"#ed7953\"],[0.7777777777777778,\"#fb9f3a\"],[0.8888888888888888,\"#fdca26\"],[1.0,\"#f0f921\"]],\"type\":\"heatmapgl\"}],\"heatmap\":[{\"colorbar\":{\"outlinewidth\":0,\"ticks\":\"\"},\"colorscale\":[[0.0,\"#0d0887\"],[0.1111111111111111,\"#46039f\"],[0.2222222222222222,\"#7201a8\"],[0.3333333333333333,\"#9c179e\"],[0.4444444444444444,\"#bd3786\"],[0.5555555555555556,\"#d8576b\"],[0.6666666666666666,\"#ed7953\"],[0.7777777777777778,\"#fb9f3a\"],[0.8888888888888888,\"#fdca26\"],[1.0,\"#f0f921\"]],\"type\":\"heatmap\"}],\"histogram2dcontour\":[{\"colorbar\":{\"outlinewidth\":0,\"ticks\":\"\"},\"colorscale\":[[0.0,\"#0d0887\"],[0.1111111111111111,\"#46039f\"],[0.2222222222222222,\"#7201a8\"],[0.3333333333333333,\"#9c179e\"],[0.4444444444444444,\"#bd3786\"],[0.5555555555555556,\"#d8576b\"],[0.6666666666666666,\"#ed7953\"],[0.7777777777777778,\"#fb9f3a\"],[0.8888888888888888,\"#fdca26\"],[1.0,\"#f0f921\"]],\"type\":\"histogram2dcontour\"}],\"histogram2d\":[{\"colorbar\":{\"outlinewidth\":0,\"ticks\":\"\"},\"colorscale\":[[0.0,\"#0d0887\"],[0.1111111111111111,\"#46039f\"],[0.2222222222222222,\"#7201a8\"],[0.3333333333333333,\"#9c179e\"],[0.4444444444444444,\"#bd3786\"],[0.5555555555555556,\"#d8576b\"],[0.6666666666666666,\"#ed7953\"],[0.7777777777777778,\"#fb9f3a\"],[0.8888888888888888,\"#fdca26\"],[1.0,\"#f0f921\"]],\"type\":\"histogram2d\"}],\"histogram\":[{\"marker\":{\"pattern\":{\"fillmode\":\"overlay\",\"size\":10,\"solidity\":0.2}},\"type\":\"histogram\"}],\"mesh3d\":[{\"colorbar\":{\"outlinewidth\":0,\"ticks\":\"\"},\"type\":\"mesh3d\"}],\"parcoords\":[{\"line\":{\"colorbar\":{\"outlinewidth\":0,\"ticks\":\"\"}},\"type\":\"parcoords\"}],\"pie\":[{\"automargin\":true,\"type\":\"pie\"}],\"scatter3d\":[{\"line\":{\"colorbar\":{\"outlinewidth\":0,\"ticks\":\"\"}},\"marker\":{\"colorbar\":{\"outlinewidth\":0,\"ticks\":\"\"}},\"type\":\"scatter3d\"}],\"scattercarpet\":[{\"marker\":{\"colorbar\":{\"outlinewidth\":0,\"ticks\":\"\"}},\"type\":\"scattercarpet\"}],\"scattergeo\":[{\"marker\":{\"colorbar\":{\"outlinewidth\":0,\"ticks\":\"\"}},\"type\":\"scattergeo\"}],\"scattergl\":[{\"marker\":{\"colorbar\":{\"outlinewidth\":0,\"ticks\":\"\"}},\"type\":\"scattergl\"}],\"scattermapbox\":[{\"marker\":{\"colorbar\":{\"outlinewidth\":0,\"ticks\":\"\"}},\"type\":\"scattermapbox\"}],\"scatterpolargl\":[{\"marker\":{\"colorbar\":{\"outlinewidth\":0,\"ticks\":\"\"}},\"type\":\"scatterpolargl\"}],\"scatterpolar\":[{\"marker\":{\"colorbar\":{\"outlinewidth\":0,\"ticks\":\"\"}},\"type\":\"scatterpolar\"}],\"scatter\":[{\"fillpattern\":{\"fillmode\":\"overlay\",\"size\":10,\"solidity\":0.2},\"type\":\"scatter\"}],\"scatterternary\":[{\"marker\":{\"colorbar\":{\"outlinewidth\":0,\"ticks\":\"\"}},\"type\":\"scatterternary\"}],\"surface\":[{\"colorbar\":{\"outlinewidth\":0,\"ticks\":\"\"},\"colorscale\":[[0.0,\"#0d0887\"],[0.1111111111111111,\"#46039f\"],[0.2222222222222222,\"#7201a8\"],[0.3333333333333333,\"#9c179e\"],[0.4444444444444444,\"#bd3786\"],[0.5555555555555556,\"#d8576b\"],[0.6666666666666666,\"#ed7953\"],[0.7777777777777778,\"#fb9f3a\"],[0.8888888888888888,\"#fdca26\"],[1.0,\"#f0f921\"]],\"type\":\"surface\"}],\"table\":[{\"cells\":{\"fill\":{\"color\":\"#EBF0F8\"},\"line\":{\"color\":\"white\"}},\"header\":{\"fill\":{\"color\":\"#C8D4E3\"},\"line\":{\"color\":\"white\"}},\"type\":\"table\"}]},\"layout\":{\"annotationdefaults\":{\"arrowcolor\":\"#2a3f5f\",\"arrowhead\":0,\"arrowwidth\":1},\"autotypenumbers\":\"strict\",\"coloraxis\":{\"colorbar\":{\"outlinewidth\":0,\"ticks\":\"\"}},\"colorscale\":{\"diverging\":[[0,\"#8e0152\"],[0.1,\"#c51b7d\"],[0.2,\"#de77ae\"],[0.3,\"#f1b6da\"],[0.4,\"#fde0ef\"],[0.5,\"#f7f7f7\"],[0.6,\"#e6f5d0\"],[0.7,\"#b8e186\"],[0.8,\"#7fbc41\"],[0.9,\"#4d9221\"],[1,\"#276419\"]],\"sequential\":[[0.0,\"#0d0887\"],[0.1111111111111111,\"#46039f\"],[0.2222222222222222,\"#7201a8\"],[0.3333333333333333,\"#9c179e\"],[0.4444444444444444,\"#bd3786\"],[0.5555555555555556,\"#d8576b\"],[0.6666666666666666,\"#ed7953\"],[0.7777777777777778,\"#fb9f3a\"],[0.8888888888888888,\"#fdca26\"],[1.0,\"#f0f921\"]],\"sequentialminus\":[[0.0,\"#0d0887\"],[0.1111111111111111,\"#46039f\"],[0.2222222222222222,\"#7201a8\"],[0.3333333333333333,\"#9c179e\"],[0.4444444444444444,\"#bd3786\"],[0.5555555555555556,\"#d8576b\"],[0.6666666666666666,\"#ed7953\"],[0.7777777777777778,\"#fb9f3a\"],[0.8888888888888888,\"#fdca26\"],[1.0,\"#f0f921\"]]},\"colorway\":[\"#636efa\",\"#EF553B\",\"#00cc96\",\"#ab63fa\",\"#FFA15A\",\"#19d3f3\",\"#FF6692\",\"#B6E880\",\"#FF97FF\",\"#FECB52\"],\"font\":{\"color\":\"#2a3f5f\"},\"geo\":{\"bgcolor\":\"white\",\"lakecolor\":\"white\",\"landcolor\":\"#E5ECF6\",\"showlakes\":true,\"showland\":true,\"subunitcolor\":\"white\"},\"hoverlabel\":{\"align\":\"left\"},\"hovermode\":\"closest\",\"mapbox\":{\"style\":\"light\"},\"paper_bgcolor\":\"white\",\"plot_bgcolor\":\"#E5ECF6\",\"polar\":{\"angularaxis\":{\"gridcolor\":\"white\",\"linecolor\":\"white\",\"ticks\":\"\"},\"bgcolor\":\"#E5ECF6\",\"radialaxis\":{\"gridcolor\":\"white\",\"linecolor\":\"white\",\"ticks\":\"\"}},\"scene\":{\"xaxis\":{\"backgroundcolor\":\"#E5ECF6\",\"gridcolor\":\"white\",\"gridwidth\":2,\"linecolor\":\"white\",\"showbackground\":true,\"ticks\":\"\",\"zerolinecolor\":\"white\"},\"yaxis\":{\"backgroundcolor\":\"#E5ECF6\",\"gridcolor\":\"white\",\"gridwidth\":2,\"linecolor\":\"white\",\"showbackground\":true,\"ticks\":\"\",\"zerolinecolor\":\"white\"},\"zaxis\":{\"backgroundcolor\":\"#E5ECF6\",\"gridcolor\":\"white\",\"gridwidth\":2,\"linecolor\":\"white\",\"showbackground\":true,\"ticks\":\"\",\"zerolinecolor\":\"white\"}},\"shapedefaults\":{\"line\":{\"color\":\"#2a3f5f\"}},\"ternary\":{\"aaxis\":{\"gridcolor\":\"white\",\"linecolor\":\"white\",\"ticks\":\"\"},\"baxis\":{\"gridcolor\":\"white\",\"linecolor\":\"white\",\"ticks\":\"\"},\"bgcolor\":\"#E5ECF6\",\"caxis\":{\"gridcolor\":\"white\",\"linecolor\":\"white\",\"ticks\":\"\"}},\"title\":{\"x\":0.05},\"xaxis\":{\"automargin\":true,\"gridcolor\":\"white\",\"linecolor\":\"white\",\"ticks\":\"\",\"title\":{\"standoff\":15},\"zerolinecolor\":\"white\",\"zerolinewidth\":2},\"yaxis\":{\"automargin\":true,\"gridcolor\":\"white\",\"linecolor\":\"white\",\"ticks\":\"\",\"title\":{\"standoff\":15},\"zerolinecolor\":\"white\",\"zerolinewidth\":2}}},\"title\":{\"text\":\"Pressure and Density during NPT Equilibration\"},\"xaxis\":{\"anchor\":\"y\",\"domain\":[0.0,0.45],\"title\":{\"text\":\"Time (ps)\"}},\"yaxis\":{\"anchor\":\"x\",\"domain\":[0.0,1.0],\"title\":{\"text\":\"Pressure (bar)\"}},\"xaxis2\":{\"anchor\":\"y2\",\"domain\":[0.55,1.0],\"title\":{\"text\":\"Time (ps)\"}},\"yaxis2\":{\"anchor\":\"x2\",\"domain\":[0.0,1.0],\"title\":{\"text\":\"Density (Kg*m^-3)\"}}},                        {\"responsive\": true}                    ).then(function(){\n",
       "                            \n",
       "var gd = document.getElementById('5976c67f-eafa-45ff-b9b0-0ae3f19935f8');\n",
       "var x = new MutationObserver(function (mutations, observer) {{\n",
       "        var display = window.getComputedStyle(gd).display;\n",
       "        if (!display || display === 'none') {{\n",
       "            console.log([gd, 'removed!']);\n",
       "            Plotly.purge(gd);\n",
       "            observer.disconnect();\n",
       "        }}\n",
       "}});\n",
       "\n",
       "// Listen for the removal of the full notebook cells\n",
       "var notebookContainer = gd.closest('#notebook-container');\n",
       "if (notebookContainer) {{\n",
       "    x.observe(notebookContainer, {childList: true});\n",
       "}}\n",
       "\n",
       "// Listen for the clearing of the current output cell\n",
       "var outputEl = gd.closest('.output');\n",
       "if (outputEl) {{\n",
       "    x.observe(outputEl, {childList: true});\n",
       "}}\n",
       "\n",
       "                        })                };                });            </script>        </div>"
      ]
     },
     "metadata": {},
     "output_type": "display_data"
    }
   ],
   "source": [
    "import plotly\n",
    "from plotly import subplots\n",
    "import plotly.graph_objs as go\n",
    "\n",
    "# Read pressure and density data from file \n",
    "with open(output_npt_pd_xvg,'r') as pd_file:\n",
    "    x,y,z = map(\n",
    "        list,\n",
    "        zip(*[\n",
    "            (float(line.split()[0]),float(line.split()[1]),float(line.split()[2]))\n",
    "            for line in pd_file \n",
    "            if not line.startswith((\"#\",\"@\")) \n",
    "        ])\n",
    "    )\n",
    "\n",
    "plotly.offline.init_notebook_mode(connected=True)\n",
    "\n",
    "trace1 = go.Scatter(\n",
    "    x=x,y=y\n",
    ")\n",
    "trace2 = go.Scatter(\n",
    "    x=x,y=z\n",
    ")\n",
    "\n",
    "fig = subplots.make_subplots(rows=1, cols=2, print_grid=False)\n",
    "\n",
    "fig.append_trace(trace1, 1, 1)\n",
    "fig.append_trace(trace2, 1, 2)\n",
    "\n",
    "fig['layout']['xaxis1'].update(title='Time (ps)')\n",
    "fig['layout']['xaxis2'].update(title='Time (ps)')\n",
    "fig['layout']['yaxis1'].update(title='Pressure (bar)')\n",
    "fig['layout']['yaxis2'].update(title='Density (Kg*m^-3)')\n",
    "\n",
    "fig['layout'].update(title='Pressure and Density during NPT Equilibration')\n",
    "fig['layout'].update(showlegend=False)\n",
    "\n",
    "plotly.offline.iplot(fig)"
   ]
  },
  {
   "cell_type": "markdown",
   "metadata": {},
   "source": [
    "<a id=\"free\"></a>\n",
    "***\n",
    "### Free Molecular Dynamics Simulation\n",
    "Upon completion of the **two equilibration phases (NVT and NPT)**, the system is now well-equilibrated at the desired temperature and pressure. The **position restraints** can now be released. The last step of the **protein** MD setup is a short, **free MD simulation**, to ensure the robustness of the system. \n",
    "- [Step 1](#mdStep1): Creating portable binary run file to run a **free MD simulation**.\n",
    "- [Step 2](#mdStep2): Run short MD simulation of the **protein system**.\n",
    "- [Step 3](#mdStep3): Checking results for the final step of the setup process, the **free MD run**. Plotting **Root Mean Square deviation (RMSd)** and **Radius of Gyration (Rgyr)** by time during the **free MD run** step. \n",
    "***\n",
    "**Building Blocks** used:\n",
    " - [Grompp](https://biobb-md.readthedocs.io/en/latest/gromacs.html#module-gromacs.grompp) from **biobb_gromacs.gromacs.grompp** \n",
    " - [Mdrun](https://biobb-md.readthedocs.io/en/latest/gromacs.html#module-gromacs.mdrun) from **biobb_gromacs.gromacs.mdrun** \n",
    " - [GMXRms](https://biobb-analysis.readthedocs.io/en/latest/gromacs.html#module-gromacs.gmx_rms) from **biobb_analysis.gromacs.gmx_rms** \n",
    " - [GMXRgyr](https://biobb-analysis.readthedocs.io/en/latest/gromacs.html#module-gromacs.gmx_rgyr) from **biobb_analysis.gromacs.gmx_rgyr** \n",
    "***"
   ]
  },
  {
   "cell_type": "markdown",
   "metadata": {},
   "source": [
    "<a id=\"mdStep1\"></a>\n",
    "#### Step 1: Creating portable binary run file to run a free MD simulation\n",
    "\n",
    "The **free** type of the **molecular dynamics parameters (mdp) property** contains the main default parameters to run an **free MD simulation** (see [GROMACS mdp options](http://manual.gromacs.org/documentation/2018/user-guide/mdp-options.html)):\n",
    "\n",
    "-  integrator               = md\n",
    "-  dt                       = 0.002 (ps)\n",
    "-  nsteps                   = 50000\n",
    "\n",
    "In this particular example, the default parameters will be used: **md** integrator algorithm, a **time step** of **2fs**, and a total of **50,000 md steps** (100ps).\n",
    "\n",
    "*Please note that for the sake of time this tutorial is only running 100ps of free MD, whereas in the [original example](http://www.mdtutorials.com/gmx/lysozyme/08_MD.html) the simulated time was 1ns (1000ps).*"
   ]
  },
  {
   "cell_type": "code",
   "execution_count": 104,
   "metadata": {
    "scrolled": true
   },
   "outputs": [
    {
     "name": "stdout",
     "output_type": "stream",
     "text": [
      "2023-10-02 14:40:06,525 [MainThread  ] [INFO ]  Executing biobb_gromacs.gromacs.grompp Version: 4.1.0\n",
      "2023-10-02 14:40:06,529 [MainThread  ] [INFO ]  Copy: 3RVT_npt.gro to /Users/hospital/BioBB/Antibody/BioBB/biobb_wf_md_setup/biobb_wf_md_setup/notebooks/3115c09e-0fac-41b1-bfd4-cd957a63acf9\n",
      "2023-10-02 14:40:06,532 [MainThread  ] [INFO ]  Copy: 3RVT_npt.cpt to /Users/hospital/BioBB/Antibody/BioBB/biobb_wf_md_setup/biobb_wf_md_setup/notebooks/3115c09e-0fac-41b1-bfd4-cd957a63acf9\n",
      "2023-10-02 14:40:06,533 [MainThread  ] [INFO ]  Copy: inputs/md_charmm36m.mdp to /Users/hospital/BioBB/Antibody/BioBB/biobb_wf_md_setup/biobb_wf_md_setup/notebooks/3115c09e-0fac-41b1-bfd4-cd957a63acf9\n",
      "2023-10-02 14:40:06,538 [MainThread  ] [INFO ]  Extracting: /Users/hospital/BioBB/Antibody/BioBB/biobb_wf_md_setup/biobb_wf_md_setup/notebooks/3RVT_genion_top.zip\n",
      "2023-10-02 14:40:06,538 [MainThread  ] [INFO ]  to:\n",
      "2023-10-02 14:40:06,539 [MainThread  ] [INFO ]  ['/Users/hospital/BioBB/Antibody/BioBB/biobb_wf_md_setup/biobb_wf_md_setup/notebooks/3115c09e-0fac-41b1-bfd4-cd957a63acf9/p2g.top', '/Users/hospital/BioBB/Antibody/BioBB/biobb_wf_md_setup/biobb_wf_md_setup/notebooks/3115c09e-0fac-41b1-bfd4-cd957a63acf9/p2g_Protein_chain_C.itp', '/Users/hospital/BioBB/Antibody/BioBB/biobb_wf_md_setup/biobb_wf_md_setup/notebooks/3115c09e-0fac-41b1-bfd4-cd957a63acf9/p2g_Protein_chain_D.itp', '/Users/hospital/BioBB/Antibody/BioBB/biobb_wf_md_setup/biobb_wf_md_setup/notebooks/3115c09e-0fac-41b1-bfd4-cd957a63acf9/posre_Protein_chain_C.itp', '/Users/hospital/BioBB/Antibody/BioBB/biobb_wf_md_setup/biobb_wf_md_setup/notebooks/3115c09e-0fac-41b1-bfd4-cd957a63acf9/posre_Protein_chain_D.itp']\n",
      "2023-10-02 14:40:06,539 [MainThread  ] [INFO ]  Unzipping: \n",
      "2023-10-02 14:40:06,540 [MainThread  ] [INFO ]  3RVT_genion_top.zip\n",
      "2023-10-02 14:40:06,540 [MainThread  ] [INFO ]  To: \n",
      "2023-10-02 14:40:06,541 [MainThread  ] [INFO ]  /Users/hospital/BioBB/Antibody/BioBB/biobb_wf_md_setup/biobb_wf_md_setup/notebooks/3115c09e-0fac-41b1-bfd4-cd957a63acf9/p2g.top\n",
      "2023-10-02 14:40:06,541 [MainThread  ] [INFO ]  /Users/hospital/BioBB/Antibody/BioBB/biobb_wf_md_setup/biobb_wf_md_setup/notebooks/3115c09e-0fac-41b1-bfd4-cd957a63acf9/p2g_Protein_chain_C.itp\n",
      "2023-10-02 14:40:06,542 [MainThread  ] [INFO ]  /Users/hospital/BioBB/Antibody/BioBB/biobb_wf_md_setup/biobb_wf_md_setup/notebooks/3115c09e-0fac-41b1-bfd4-cd957a63acf9/p2g_Protein_chain_D.itp\n",
      "2023-10-02 14:40:06,542 [MainThread  ] [INFO ]  /Users/hospital/BioBB/Antibody/BioBB/biobb_wf_md_setup/biobb_wf_md_setup/notebooks/3115c09e-0fac-41b1-bfd4-cd957a63acf9/posre_Protein_chain_C.itp\n",
      "2023-10-02 14:40:06,542 [MainThread  ] [INFO ]  /Users/hospital/BioBB/Antibody/BioBB/biobb_wf_md_setup/biobb_wf_md_setup/notebooks/3115c09e-0fac-41b1-bfd4-cd957a63acf9/posre_Protein_chain_D.itp\n",
      "2023-10-02 14:40:06,544 [MainThread  ] [INFO ]  GROMACS Grompp 20222 version detected\n",
      "2023-10-02 14:40:06,544 [MainThread  ] [INFO ]  gmx -nobackup -nocopyright grompp -f /Users/hospital/BioBB/Antibody/BioBB/biobb_wf_md_setup/biobb_wf_md_setup/notebooks/3115c09e-0fac-41b1-bfd4-cd957a63acf9/grompp.mdp -c /Users/hospital/BioBB/Antibody/BioBB/biobb_wf_md_setup/biobb_wf_md_setup/notebooks/3115c09e-0fac-41b1-bfd4-cd957a63acf9/3RVT_npt.gro -r /Users/hospital/BioBB/Antibody/BioBB/biobb_wf_md_setup/biobb_wf_md_setup/notebooks/3115c09e-0fac-41b1-bfd4-cd957a63acf9/3RVT_npt.gro -p /Users/hospital/BioBB/Antibody/BioBB/biobb_wf_md_setup/biobb_wf_md_setup/notebooks/3115c09e-0fac-41b1-bfd4-cd957a63acf9/p2g.top -o /Users/hospital/BioBB/Antibody/BioBB/biobb_wf_md_setup/biobb_wf_md_setup/notebooks/3115c09e-0fac-41b1-bfd4-cd957a63acf9/3RVT_gppmd.tpr -po mdout.mdp -maxwarn 1 -t /Users/hospital/BioBB/Antibody/BioBB/biobb_wf_md_setup/biobb_wf_md_setup/notebooks/3115c09e-0fac-41b1-bfd4-cd957a63acf9/3RVT_npt.cpt\n",
      "\n",
      "2023-10-02 14:40:07,460 [MainThread  ] [INFO ]  Exit code 0\n",
      "\n",
      "2023-10-02 14:40:07,461 [MainThread  ] [INFO ]  Setting the LD random seed to -1898239300\n",
      "\n",
      "Generated 97877 of the 97903 non-bonded parameter combinations\n",
      "\n",
      "Generated 64492 of the 97903 1-4 parameter combinations\n",
      "\n",
      "Excluding 3 bonded neighbours molecule type 'Protein_chain_C'\n",
      "\n",
      "turning H bonds into constraints...\n",
      "\n",
      "Excluding 3 bonded neighbours molecule type 'Protein_chain_D'\n",
      "\n",
      "turning H bonds into constraints...\n",
      "\n",
      "Excluding 2 bonded neighbours molecule type 'SOL'\n",
      "\n",
      "turning H bonds into constraints...\n",
      "\n",
      "Excluding 1 bonded neighbours molecule type 'NA'\n",
      "\n",
      "turning H bonds into constraints...\n",
      "\n",
      "Excluding 1 bonded neighbours molecule type 'CL'\n",
      "\n",
      "turning H bonds into constraints...\n",
      "Analysing residue names:\n",
      "There are:   435    Protein residues\n",
      "There are: 16963      Water residues\n",
      "There are:    40        Ion residues\n",
      "Analysing Protein...\n",
      "Analysing residues not classified as Protein/DNA/RNA/Water and splitting into groups...\n",
      "\n",
      "The largest distance between excluded atoms is 0.456 nm\n",
      "\n",
      "Determining Verlet buffer for a tolerance of 0.005 kJ/mol/ps at 298 K\n",
      "\n",
      "Calculated rlist for 1x1 atom pair-list as 1.233 nm, buffer size 0.033 nm\n",
      "\n",
      "Set rlist, assuming 4x4 atom pair-list, to 1.200 nm, buffer size 0.000 nm\n",
      "\n",
      "Note that mdrun will redetermine rlist based on the actual pair-list setup\n",
      "\n",
      "Reading Coordinates, Velocities and Box size from old trajectory\n",
      "\n",
      "Will read whole trajectory\n",
      "\n",
      "Using frame at t = 100 ps\n",
      "\n",
      "Starting time for run is 0 ps\n",
      "Calculating fourier grid dimensions for X Y Z\n",
      "Using a fourier grid of 64x64x64, spacing 0.146 0.146 0.146\n",
      "\n",
      "Estimate for the relative computational load of the PME mesh part: 0.11\n",
      "\n",
      "This run will generate roughly 38 Mb of data\n",
      "\n",
      "2023-10-02 14:40:07,461 [MainThread  ] [INFO ]                  :-) GROMACS - gmx grompp, 2022.2-conda_forge (-:\n",
      "\n",
      "Executable:   /opt/anaconda3/envs/biobb_GMX_MDsetup_tutorial_v4.1/bin.SSE2/gmx\n",
      "Data prefix:  /opt/anaconda3/envs/biobb_GMX_MDsetup_tutorial_v4.1\n",
      "Working dir:  /Users/hospital/BioBB/Antibody/BioBB/biobb_wf_md_setup/biobb_wf_md_setup/notebooks\n",
      "Command line:\n",
      "  gmx -nobackup -nocopyright grompp -f /Users/hospital/BioBB/Antibody/BioBB/biobb_wf_md_setup/biobb_wf_md_setup/notebooks/3115c09e-0fac-41b1-bfd4-cd957a63acf9/grompp.mdp -c /Users/hospital/BioBB/Antibody/BioBB/biobb_wf_md_setup/biobb_wf_md_setup/notebooks/3115c09e-0fac-41b1-bfd4-cd957a63acf9/3RVT_npt.gro -r /Users/hospital/BioBB/Antibody/BioBB/biobb_wf_md_setup/biobb_wf_md_setup/notebooks/3115c09e-0fac-41b1-bfd4-cd957a63acf9/3RVT_npt.gro -p /Users/hospital/BioBB/Antibody/BioBB/biobb_wf_md_setup/biobb_wf_md_setup/notebooks/3115c09e-0fac-41b1-bfd4-cd957a63acf9/p2g.top -o /Users/hospital/BioBB/Antibody/BioBB/biobb_wf_md_setup/biobb_wf_md_setup/notebooks/3115c09e-0fac-41b1-bfd4-cd957a63acf9/3RVT_gppmd.tpr -po mdout.mdp -maxwarn 1 -t /Users/hospital/BioBB/Antibody/BioBB/biobb_wf_md_setup/biobb_wf_md_setup/notebooks/3115c09e-0fac-41b1-bfd4-cd957a63acf9/3RVT_npt.cpt\n",
      "\n",
      "Ignoring obsolete mdp entry 'ns-type'\n",
      "Generating 1-4 interactions: fudge = 1\n",
      "Number of degrees of freedom in T-Coupling group System is 118606.00\n",
      "Last frame         -1 time  100.000   \n",
      "\n",
      "GROMACS reminds you: \"RTFM\" (B. Hess)\n",
      "\n",
      "\n",
      "2023-10-02 14:40:07,464 [MainThread  ] [INFO ]  Removed: ['/Users/hospital/BioBB/Antibody/BioBB/biobb_wf_md_setup/biobb_wf_md_setup/notebooks/3115c09e-0fac-41b1-bfd4-cd957a63acf9', 'mdout.mdp']\n"
     ]
    },
    {
     "data": {
      "text/plain": [
       "0"
      ]
     },
     "execution_count": 104,
     "metadata": {},
     "output_type": "execute_result"
    }
   ],
   "source": [
    "# Grompp: Creating portable binary run file for mdrun\n",
    "from biobb_gromacs.gromacs.grompp import grompp\n",
    "\n",
    "# Create prop dict and inputs/outputs\n",
    "input_mdp_md = \"inputs/md_charmm36m.mdp\"\n",
    "output_gppmd_tpr = pdbCode+'_gppmd.tpr'\n",
    "\n",
    "prop = {\n",
    "    'mdp': {\n",
    "        'nsteps' : 50000,\n",
    "        'nstxout' : 1000\n",
    "    },\n",
    "    'gmx_lib' : cwd + '/inputs',\n",
    "    'maxwarn' : 1\n",
    "}\n",
    "\n",
    "# Create and launch bb\n",
    "grompp(input_gro_path=output_npt_gro, \n",
    "       input_top_zip_path=output_genion_top_zip, \n",
    "       input_mdp_path=input_mdp_md,\n",
    "       output_tpr_path=output_gppmd_tpr, \n",
    "       input_cpt_path=output_npt_cpt, \n",
    "       properties=prop)"
   ]
  },
  {
   "cell_type": "markdown",
   "metadata": {},
   "source": [
    "<a id=\"mdStep2\"></a>\n",
    "#### Step 2: Running short free MD simulation"
   ]
  },
  {
   "cell_type": "code",
   "execution_count": 105,
   "metadata": {
    "scrolled": true
   },
   "outputs": [
    {
     "name": "stdout",
     "output_type": "stream",
     "text": [
      "2023-10-02 14:40:09,681 [MainThread  ] [INFO ]  Executing biobb_gromacs.gromacs.mdrun Version: 4.1.0\n",
      "2023-10-02 14:40:09,684 [MainThread  ] [INFO ]  Copy: 3RVT_gppmd.tpr to /Users/hospital/BioBB/Antibody/BioBB/biobb_wf_md_setup/biobb_wf_md_setup/notebooks/8814764c-314d-4018-ba25-c673fde1752d\n",
      "2023-10-02 14:40:09,685 [MainThread  ] [INFO ]  GROMACS Mdrun 20222 version detected\n",
      "2023-10-02 14:40:09,685 [MainThread  ] [INFO ]  gmx -nobackup -nocopyright mdrun -o /Users/hospital/BioBB/Antibody/BioBB/biobb_wf_md_setup/biobb_wf_md_setup/notebooks/8814764c-314d-4018-ba25-c673fde1752d/3RVT_md.trr -s /Users/hospital/BioBB/Antibody/BioBB/biobb_wf_md_setup/biobb_wf_md_setup/notebooks/8814764c-314d-4018-ba25-c673fde1752d/3RVT_gppmd.tpr -c /Users/hospital/BioBB/Antibody/BioBB/biobb_wf_md_setup/biobb_wf_md_setup/notebooks/8814764c-314d-4018-ba25-c673fde1752d/3RVT_md.gro -e /Users/hospital/BioBB/Antibody/BioBB/biobb_wf_md_setup/biobb_wf_md_setup/notebooks/8814764c-314d-4018-ba25-c673fde1752d/3RVT_md.edr -g /Users/hospital/BioBB/Antibody/BioBB/biobb_wf_md_setup/biobb_wf_md_setup/notebooks/8814764c-314d-4018-ba25-c673fde1752d/3RVT_md.log -cpo /Users/hospital/BioBB/Antibody/BioBB/biobb_wf_md_setup/biobb_wf_md_setup/notebooks/8814764c-314d-4018-ba25-c673fde1752d/3RVT_md.cpt\n",
      "\n",
      "2023-10-02 15:02:16,635 [MainThread  ] [INFO ]  Exit code 0\n",
      "\n",
      "2023-10-02 15:02:16,637 [MainThread  ] [INFO ]                  :-) GROMACS - gmx mdrun, 2022.2-conda_forge (-:\n",
      "\n",
      "Executable:   /opt/anaconda3/envs/biobb_GMX_MDsetup_tutorial_v4.1/bin.SSE2/gmx\n",
      "Data prefix:  /opt/anaconda3/envs/biobb_GMX_MDsetup_tutorial_v4.1\n",
      "Working dir:  /Users/hospital/BioBB/Antibody/BioBB/biobb_wf_md_setup/biobb_wf_md_setup/notebooks\n",
      "Command line:\n",
      "  gmx -nobackup -nocopyright mdrun -o /Users/hospital/BioBB/Antibody/BioBB/biobb_wf_md_setup/biobb_wf_md_setup/notebooks/8814764c-314d-4018-ba25-c673fde1752d/3RVT_md.trr -s /Users/hospital/BioBB/Antibody/BioBB/biobb_wf_md_setup/biobb_wf_md_setup/notebooks/8814764c-314d-4018-ba25-c673fde1752d/3RVT_gppmd.tpr -c /Users/hospital/BioBB/Antibody/BioBB/biobb_wf_md_setup/biobb_wf_md_setup/notebooks/8814764c-314d-4018-ba25-c673fde1752d/3RVT_md.gro -e /Users/hospital/BioBB/Antibody/BioBB/biobb_wf_md_setup/biobb_wf_md_setup/notebooks/8814764c-314d-4018-ba25-c673fde1752d/3RVT_md.edr -g /Users/hospital/BioBB/Antibody/BioBB/biobb_wf_md_setup/biobb_wf_md_setup/notebooks/8814764c-314d-4018-ba25-c673fde1752d/3RVT_md.log -cpo /Users/hospital/BioBB/Antibody/BioBB/biobb_wf_md_setup/biobb_wf_md_setup/notebooks/8814764c-314d-4018-ba25-c673fde1752d/3RVT_md.cpt\n",
      "\n",
      "Compiled SIMD: SSE2, but for this host/run SSE4.1 might be better (see log).\n",
      "Reading file /Users/hospital/BioBB/Antibody/BioBB/biobb_wf_md_setup/biobb_wf_md_setup/notebooks/8814764c-314d-4018-ba25-c673fde1752d/3RVT_gppmd.tpr, VERSION 2022.2-conda_forge (single precision)\n",
      "Changing nstlist from 10 to 80, rlist from 1.2 to 1.316\n",
      "\n",
      "Using 1 MPI thread\n",
      "Using 8 OpenMP threads \n",
      "\n",
      "starting mdrun 'Protein in water'\n",
      "50000 steps,    100.0 ps.\n",
      "\n",
      "Writing final coordinates.\n",
      "\n",
      "               Core t (s)   Wall t (s)        (%)\n",
      "       Time:    10607.966     1325.997      800.0\n",
      "                 (ns/day)    (hour/ns)\n",
      "Performance:        6.516        3.683\n",
      "\n",
      "GROMACS reminds you: \"We ignore public understanding of science at our peril.\" (Eugenie Clark)\n",
      "\n",
      "\n",
      "2023-10-02 15:02:16,654 [MainThread  ] [INFO ]  Removed: ['traj_comp.xtc', '/Users/hospital/BioBB/Antibody/BioBB/biobb_wf_md_setup/biobb_wf_md_setup/notebooks/8814764c-314d-4018-ba25-c673fde1752d']\n"
     ]
    },
    {
     "data": {
      "text/plain": [
       "0"
      ]
     },
     "execution_count": 105,
     "metadata": {},
     "output_type": "execute_result"
    }
   ],
   "source": [
    "# Mdrun: Running free dynamics\n",
    "from biobb_gromacs.gromacs.mdrun import mdrun\n",
    "\n",
    "# Create prop dict and inputs/outputs\n",
    "output_md_trr = pdbCode+'_md.trr'\n",
    "output_md_gro = pdbCode+'_md.gro'\n",
    "output_md_edr = pdbCode+'_md.edr'\n",
    "output_md_log = pdbCode+'_md.log'\n",
    "output_md_cpt = pdbCode+'_md.cpt'\n",
    "\n",
    "# Create and launch bb\n",
    "mdrun(input_tpr_path=output_gppmd_tpr, \n",
    "      output_trr_path=output_md_trr, \n",
    "      output_gro_path=output_md_gro, \n",
    "      output_edr_path=output_md_edr, \n",
    "      output_log_path=output_md_log, \n",
    "      output_cpt_path=output_md_cpt)"
   ]
  },
  {
   "cell_type": "markdown",
   "metadata": {},
   "source": [
    "<a id=\"post\"></a>\n",
    "***\n",
    "### Post-processing and Visualizing resulting 3D trajectory\n",
    "Post-processing and Visualizing the **protein system** MD setup **resulting trajectory** using **NGL**\n",
    "- [Step 1](#ppStep1): *Imaging* the resulting trajectory, **stripping out water molecules and ions** and **correcting periodicity issues**.\n",
    "- [Step 2](#ppStep2): Generating a *dry* structure, **removing water molecules and ions** from the final snapshot of the MD setup pipeline.\n",
    "- [Step 3](#ppStep3): Visualizing the *imaged* trajectory using the *dry* structure as a **topology**. \n",
    "***\n",
    "**Building Blocks** used:\n",
    " - [GMXImage](https://biobb-analysis.readthedocs.io/en/latest/gromacs.html#module-gromacs.gmx_image) from **biobb_analysis.gromacs.gmx_image** \n",
    " - [GMXTrjConvStr](https://biobb-analysis.readthedocs.io/en/latest/gromacs.html#module-gromacs.gmx_trjconv_str) from **biobb_analysis.gromacs.gmx_trjconv_str** \n",
    "***"
   ]
  },
  {
   "cell_type": "markdown",
   "metadata": {},
   "source": [
    "<a id=\"ppStep1\"></a>\n",
    "#### Step 1: *Imaging* the resulting trajectory.\n",
    "Stripping out **water molecules and ions** and **correcting periodicity issues**  "
   ]
  },
  {
   "cell_type": "code",
   "execution_count": 142,
   "metadata": {
    "scrolled": true
   },
   "outputs": [
    {
     "name": "stdout",
     "output_type": "stream",
     "text": [
      "2023-10-02 16:26:57,046 [MainThread  ] [INFO ]  Executing biobb_analysis.gromacs.gmx_image Version: 4.1.0\n",
      "2023-10-02 16:26:57,060 [MainThread  ] [INFO ]  Copy: /Users/hospital/BioBB/Antibody/BioBB/biobb_wf_md_setup/biobb_wf_md_setup/notebooks/3RVT_md.trr to /Users/hospital/BioBB/Antibody/BioBB/biobb_wf_md_setup/biobb_wf_md_setup/notebooks/192c8be6-b056-4cd1-ac6e-70295176dbe4\n",
      "2023-10-02 16:26:57,065 [MainThread  ] [INFO ]  Copy: /Users/hospital/BioBB/Antibody/BioBB/biobb_wf_md_setup/biobb_wf_md_setup/notebooks/3RVT_gppmin.tpr to /Users/hospital/BioBB/Antibody/BioBB/biobb_wf_md_setup/biobb_wf_md_setup/notebooks/192c8be6-b056-4cd1-ac6e-70295176dbe4\n",
      "2023-10-02 16:26:57,066 [MainThread  ] [INFO ]  Copy: /Users/hospital/BioBB/Antibody/BioBB/biobb_wf_md_setup/biobb_wf_md_setup/notebooks/397d5af4-deaa-47cf-b586-c250a6f57a40.stdin to /Users/hospital/BioBB/Antibody/BioBB/biobb_wf_md_setup/biobb_wf_md_setup/notebooks/192c8be6-b056-4cd1-ac6e-70295176dbe4\n",
      "2023-10-02 16:26:57,066 [MainThread  ] [INFO ]  gmx trjconv -f /Users/hospital/BioBB/Antibody/BioBB/biobb_wf_md_setup/biobb_wf_md_setup/notebooks/192c8be6-b056-4cd1-ac6e-70295176dbe4/3RVT_md.trr -s /Users/hospital/BioBB/Antibody/BioBB/biobb_wf_md_setup/biobb_wf_md_setup/notebooks/192c8be6-b056-4cd1-ac6e-70295176dbe4/3RVT_gppmin.tpr -fit none -o /Users/hospital/BioBB/Antibody/BioBB/biobb_wf_md_setup/biobb_wf_md_setup/notebooks/192c8be6-b056-4cd1-ac6e-70295176dbe4/3RVT_imaged_traj.trr -center -pbc nojump -ur compact < /Users/hospital/BioBB/Antibody/BioBB/biobb_wf_md_setup/biobb_wf_md_setup/notebooks/192c8be6-b056-4cd1-ac6e-70295176dbe4/397d5af4-deaa-47cf-b586-c250a6f57a40.stdin\n",
      "\n",
      "2023-10-02 16:26:57,955 [MainThread  ] [INFO ]  Exit code 0\n",
      "\n",
      "2023-10-02 16:26:57,956 [MainThread  ] [INFO ]  Note that major changes are planned in future for trjconv, to improve usability and utility.\n",
      "Select group for centering\n",
      "Selected 1: 'Protein'\n",
      "Select group for output\n",
      "Selected 1: 'Protein'\n",
      "\n",
      "2023-10-02 16:26:57,956 [MainThread  ] [INFO ]                 :-) GROMACS - gmx trjconv, 2022.2-conda_forge (-:\n",
      "\n",
      "Executable:   /opt/anaconda3/envs/biobb_GMX_MDsetup_tutorial_v4.1/bin.SSE2/gmx\n",
      "Data prefix:  /opt/anaconda3/envs/biobb_GMX_MDsetup_tutorial_v4.1\n",
      "Working dir:  /Users/hospital/BioBB/Antibody/BioBB/biobb_wf_md_setup/biobb_wf_md_setup/notebooks\n",
      "Command line:\n",
      "  gmx trjconv -f /Users/hospital/BioBB/Antibody/BioBB/biobb_wf_md_setup/biobb_wf_md_setup/notebooks/192c8be6-b056-4cd1-ac6e-70295176dbe4/3RVT_md.trr -s /Users/hospital/BioBB/Antibody/BioBB/biobb_wf_md_setup/biobb_wf_md_setup/notebooks/192c8be6-b056-4cd1-ac6e-70295176dbe4/3RVT_gppmin.tpr -fit none -o /Users/hospital/BioBB/Antibody/BioBB/biobb_wf_md_setup/biobb_wf_md_setup/notebooks/192c8be6-b056-4cd1-ac6e-70295176dbe4/3RVT_imaged_traj.trr -center -pbc nojump -ur compact\n",
      "\n",
      "WARNING: Option for unitcell representation (-ur compact)\n",
      "         only has effect in combination with -pbc mol, res or atom.\n",
      "         Ingoring unitcell representation.\n",
      "\n",
      "Will write trr: Trajectory in portable xdr format\n",
      "Reading file /Users/hospital/BioBB/Antibody/BioBB/biobb_wf_md_setup/biobb_wf_md_setup/notebooks/192c8be6-b056-4cd1-ac6e-70295176dbe4/3RVT_gppmin.tpr, VERSION 2022.2-conda_forge (single precision)\n",
      "Reading file /Users/hospital/BioBB/Antibody/BioBB/biobb_wf_md_setup/biobb_wf_md_setup/notebooks/192c8be6-b056-4cd1-ac6e-70295176dbe4/3RVT_gppmin.tpr, VERSION 2022.2-conda_forge (single precision)\n",
      "Group     0 (         System) has 57593 elements\n",
      "Group     1 (        Protein) has  6664 elements\n",
      "Group     2 (      Protein-H) has  3383 elements\n",
      "Group     3 (        C-alpha) has   435 elements\n",
      "Group     4 (       Backbone) has  1305 elements\n",
      "Group     5 (      MainChain) has  1738 elements\n",
      "Group     6 (   MainChain+Cb) has  2144 elements\n",
      "Group     7 (    MainChain+H) has  2151 elements\n",
      "Group     8 (      SideChain) has  4513 elements\n",
      "Group     9 (    SideChain-H) has  1645 elements\n",
      "Group    10 (    Prot-Masses) has  6664 elements\n",
      "Group    11 (    non-Protein) has 50929 elements\n",
      "Group    12 (          Water) has 50889 elements\n",
      "Group    13 (            SOL) has 50889 elements\n",
      "Group    14 (      non-Water) has  6704 elements\n",
      "Group    15 (            Ion) has    40 elements\n",
      "Group    16 (             NA) has    18 elements\n",
      "Group    17 (             CL) has    22 elements\n",
      "Group    18 ( Water_and_ions) has 50929 elements\n",
      "Select a group: Group     0 (         System) has 57593 elements\n",
      "Group     1 (        Protein) has  6664 elements\n",
      "Group     2 (      Protein-H) has  3383 elements\n",
      "Group     3 (        C-alpha) has   435 elements\n",
      "Group     4 (       Backbone) has  1305 elements\n",
      "Group     5 (      MainChain) has  1738 elements\n",
      "Group     6 (   MainChain+Cb) has  2144 elements\n",
      "Group     7 (    MainChain+H) has  2151 elements\n",
      "Group     8 (      SideChain) has  4513 elements\n",
      "Group     9 (    SideChain-H) has  1645 elements\n",
      "Group    10 (    Prot-Masses) has  6664 elements\n",
      "Group    11 (    non-Protein) has 50929 elements\n",
      "Group    12 (          Water) has 50889 elements\n",
      "Group    13 (            SOL) has 50889 elements\n",
      "Group    14 (      non-Water) has  6704 elements\n",
      "Group    15 (            Ion) has    40 elements\n",
      "Group    16 (             NA) has    18 elements\n",
      "Group    17 (             CL) has    22 elements\n",
      "Group    18 ( Water_and_ions) has 50929 elements\n",
      "Select a group: trr version: GMX_trn_file (single precision)\n",
      "Last frame         50 time  100.000    ->  frame     49 time   98.000      \n",
      " ->  frame     50 time  100.000      \n",
      "Last written: frame     50 time  100.000\n",
      "\n",
      "\n",
      "GROMACS reminds you: \"Computer system analysis is like child-rearing; you can do grievous damage, but you cannot ensure success.\" (Tom DeMarcho)\n",
      "\n",
      "\n",
      "2023-10-02 16:26:57,960 [MainThread  ] [INFO ]  Removed: ['/Users/hospital/BioBB/Antibody/BioBB/biobb_wf_md_setup/biobb_wf_md_setup/notebooks/192c8be6-b056-4cd1-ac6e-70295176dbe4', '/Users/hospital/BioBB/Antibody/BioBB/biobb_wf_md_setup/biobb_wf_md_setup/notebooks/397d5af4-deaa-47cf-b586-c250a6f57a40.stdin']\n"
     ]
    },
    {
     "data": {
      "text/plain": [
       "0"
      ]
     },
     "execution_count": 142,
     "metadata": {},
     "output_type": "execute_result"
    }
   ],
   "source": [
    "# GMXImage: \"Imaging\" the resulting trajectory\n",
    "#           Removing water molecules and ions from the resulting structure\n",
    "from biobb_analysis.gromacs.gmx_image import gmx_image\n",
    "\n",
    "# Create prop dict and inputs/outputs\n",
    "output_imaged_traj = pdbCode+'_imaged_traj.trr'\n",
    "prop = {\n",
    "    'center_selection':  'Protein',\n",
    "    'output_selection': 'Protein',\n",
    "    'pbc' : 'nojump',\n",
    "}\n",
    "\n",
    "# Create and launch bb\n",
    "gmx_image(input_traj_path=output_md_trr,\n",
    "         input_top_path=output_gppmin_tpr,\n",
    "         output_traj_path=output_imaged_traj, \n",
    "          properties=prop)"
   ]
  },
  {
   "cell_type": "code",
   "execution_count": 143,
   "metadata": {
    "scrolled": true
   },
   "outputs": [
    {
     "name": "stdout",
     "output_type": "stream",
     "text": [
      "2023-10-02 16:26:57,973 [MainThread  ] [INFO ]  Executing biobb_analysis.gromacs.gmx_image Version: 4.1.0\n",
      "2023-10-02 16:26:57,976 [MainThread  ] [INFO ]  Copy: /Users/hospital/BioBB/Antibody/BioBB/biobb_wf_md_setup/biobb_wf_md_setup/notebooks/3RVT_imaged_traj.trr to /Users/hospital/BioBB/Antibody/BioBB/biobb_wf_md_setup/biobb_wf_md_setup/notebooks/33882efd-fb79-4b8d-8397-e1d007902d19\n",
      "2023-10-02 16:26:57,980 [MainThread  ] [INFO ]  Copy: /Users/hospital/BioBB/Antibody/BioBB/biobb_wf_md_setup/biobb_wf_md_setup/notebooks/3RVT_gppmd.tpr to /Users/hospital/BioBB/Antibody/BioBB/biobb_wf_md_setup/biobb_wf_md_setup/notebooks/33882efd-fb79-4b8d-8397-e1d007902d19\n",
      "2023-10-02 16:26:57,981 [MainThread  ] [INFO ]  Copy: /Users/hospital/BioBB/Antibody/BioBB/biobb_wf_md_setup/biobb_wf_md_setup/notebooks/c83d90e3-b53e-4696-a82d-bda3dbd3d58d.stdin to /Users/hospital/BioBB/Antibody/BioBB/biobb_wf_md_setup/biobb_wf_md_setup/notebooks/33882efd-fb79-4b8d-8397-e1d007902d19\n",
      "2023-10-02 16:26:57,981 [MainThread  ] [INFO ]  gmx trjconv -f /Users/hospital/BioBB/Antibody/BioBB/biobb_wf_md_setup/biobb_wf_md_setup/notebooks/33882efd-fb79-4b8d-8397-e1d007902d19/3RVT_imaged_traj.trr -s /Users/hospital/BioBB/Antibody/BioBB/biobb_wf_md_setup/biobb_wf_md_setup/notebooks/33882efd-fb79-4b8d-8397-e1d007902d19/3RVT_gppmd.tpr -fit rot+trans -o /Users/hospital/BioBB/Antibody/BioBB/biobb_wf_md_setup/biobb_wf_md_setup/notebooks/33882efd-fb79-4b8d-8397-e1d007902d19/3RVT_imaged_traj_rot.trr -center < /Users/hospital/BioBB/Antibody/BioBB/biobb_wf_md_setup/biobb_wf_md_setup/notebooks/33882efd-fb79-4b8d-8397-e1d007902d19/c83d90e3-b53e-4696-a82d-bda3dbd3d58d.stdin\n",
      "\n",
      "2023-10-02 16:26:58,292 [MainThread  ] [INFO ]  Exit code 0\n",
      "\n",
      "2023-10-02 16:26:58,293 [MainThread  ] [INFO ]  Note that major changes are planned in future for trjconv, to improve usability and utility.\n",
      "Select group for least squares fit\n",
      "Selected 0: 'System'\n",
      "Select group for centering\n",
      "Selected 1: 'Protein'\n",
      "Select group for output\n",
      "Selected 1: 'Protein'\n",
      "\n",
      "2023-10-02 16:26:58,293 [MainThread  ] [INFO ]                 :-) GROMACS - gmx trjconv, 2022.2-conda_forge (-:\n",
      "\n",
      "Executable:   /opt/anaconda3/envs/biobb_GMX_MDsetup_tutorial_v4.1/bin.SSE2/gmx\n",
      "Data prefix:  /opt/anaconda3/envs/biobb_GMX_MDsetup_tutorial_v4.1\n",
      "Working dir:  /Users/hospital/BioBB/Antibody/BioBB/biobb_wf_md_setup/biobb_wf_md_setup/notebooks\n",
      "Command line:\n",
      "  gmx trjconv -f /Users/hospital/BioBB/Antibody/BioBB/biobb_wf_md_setup/biobb_wf_md_setup/notebooks/33882efd-fb79-4b8d-8397-e1d007902d19/3RVT_imaged_traj.trr -s /Users/hospital/BioBB/Antibody/BioBB/biobb_wf_md_setup/biobb_wf_md_setup/notebooks/33882efd-fb79-4b8d-8397-e1d007902d19/3RVT_gppmd.tpr -fit rot+trans -o /Users/hospital/BioBB/Antibody/BioBB/biobb_wf_md_setup/biobb_wf_md_setup/notebooks/33882efd-fb79-4b8d-8397-e1d007902d19/3RVT_imaged_traj_rot.trr -center\n",
      "\n",
      "Will write trr: Trajectory in portable xdr format\n",
      "Reading file /Users/hospital/BioBB/Antibody/BioBB/biobb_wf_md_setup/biobb_wf_md_setup/notebooks/33882efd-fb79-4b8d-8397-e1d007902d19/3RVT_gppmd.tpr, VERSION 2022.2-conda_forge (single precision)\n",
      "Reading file /Users/hospital/BioBB/Antibody/BioBB/biobb_wf_md_setup/biobb_wf_md_setup/notebooks/33882efd-fb79-4b8d-8397-e1d007902d19/3RVT_gppmd.tpr, VERSION 2022.2-conda_forge (single precision)\n",
      "Group     0 (         System) has 57593 elements\n",
      "Group     1 (        Protein) has  6664 elements\n",
      "Group     2 (      Protein-H) has  3383 elements\n",
      "Group     3 (        C-alpha) has   435 elements\n",
      "Group     4 (       Backbone) has  1305 elements\n",
      "Group     5 (      MainChain) has  1738 elements\n",
      "Group     6 (   MainChain+Cb) has  2144 elements\n",
      "Group     7 (    MainChain+H) has  2151 elements\n",
      "Group     8 (      SideChain) has  4513 elements\n",
      "Group     9 (    SideChain-H) has  1645 elements\n",
      "Group    10 (    Prot-Masses) has  6664 elements\n",
      "Group    11 (    non-Protein) has 50929 elements\n",
      "Group    12 (          Water) has 50889 elements\n",
      "Group    13 (            SOL) has 50889 elements\n",
      "Group    14 (      non-Water) has  6704 elements\n",
      "Group    15 (            Ion) has    40 elements\n",
      "Group    16 (             NA) has    18 elements\n",
      "Group    17 (             CL) has    22 elements\n",
      "Group    18 ( Water_and_ions) has 50929 elements\n",
      "Select a group: Group     0 (         System) has 57593 elements\n",
      "Group     1 (        Protein) has  6664 elements\n",
      "Group     2 (      Protein-H) has  3383 elements\n",
      "Group     3 (        C-alpha) has   435 elements\n",
      "Group     4 (       Backbone) has  1305 elements\n",
      "Group     5 (      MainChain) has  1738 elements\n",
      "Group     6 (   MainChain+Cb) has  2144 elements\n",
      "Group     7 (    MainChain+H) has  2151 elements\n",
      "Group     8 (      SideChain) has  4513 elements\n",
      "Group     9 (    SideChain-H) has  1645 elements\n",
      "Group    10 (    Prot-Masses) has  6664 elements\n",
      "Group    11 (    non-Protein) has 50929 elements\n",
      "Group    12 (          Water) has 50889 elements\n",
      "Group    13 (            SOL) has 50889 elements\n",
      "Group    14 (      non-Water) has  6704 elements\n",
      "Group    15 (            Ion) has    40 elements\n",
      "Group    16 (             NA) has    18 elements\n",
      "Group    17 (             CL) has    22 elements\n",
      "Group    18 ( Water_and_ions) has 50929 elements\n",
      "Select a group: Group     0 (         System) has 57593 elements\n",
      "Group     1 (        Protein) has  6664 elements\n",
      "Group     2 (      Protein-H) has  3383 elements\n",
      "Group     3 (        C-alpha) has   435 elements\n",
      "Group     4 (       Backbone) has  1305 elements\n",
      "Group     5 (      MainChain) has  1738 elements\n",
      "Group     6 (   MainChain+Cb) has  2144 elements\n",
      "Group     7 (    MainChain+H) has  2151 elements\n",
      "Group     8 (      SideChain) has  4513 elements\n",
      "Group     9 (    SideChain-H) has  1645 elements\n",
      "Group    10 (    Prot-Masses) has  6664 elements\n",
      "Group    11 (    non-Protein) has 50929 elements\n",
      "Group    12 (          Water) has 50889 elements\n",
      "Group    13 (            SOL) has 50889 elements\n",
      "Group    14 (      non-Water) has  6704 elements\n",
      "Group    15 (            Ion) has    40 elements\n",
      "Group    16 (             NA) has    18 elements\n",
      "Group    17 (             CL) has    22 elements\n",
      "Group    18 ( Water_and_ions) has 50929 elements\n",
      "Select a group: trr version: GMX_trn_file (single precision)\n",
      "Last frame         50 time  100.000    ->  frame     49 time   98.000      \n",
      " ->  frame     50 time  100.000      \n",
      "Last written: frame     50 time  100.000\n",
      "\n",
      "\n",
      "GROMACS reminds you: \"According to my computations we're overdue for a transformation.\" (Jackson Browne)\n",
      "\n",
      "\n",
      "2023-10-02 16:26:58,297 [MainThread  ] [INFO ]  Removed: ['/Users/hospital/BioBB/Antibody/BioBB/biobb_wf_md_setup/biobb_wf_md_setup/notebooks/33882efd-fb79-4b8d-8397-e1d007902d19', '/Users/hospital/BioBB/Antibody/BioBB/biobb_wf_md_setup/biobb_wf_md_setup/notebooks/c83d90e3-b53e-4696-a82d-bda3dbd3d58d.stdin']\n"
     ]
    },
    {
     "data": {
      "text/plain": [
       "0"
      ]
     },
     "execution_count": 143,
     "metadata": {},
     "output_type": "execute_result"
    }
   ],
   "source": [
    "# GMXImage: \"Imaging\" the resulting trajectory\n",
    "#           Removing water molecules and ions from the resulting structure\n",
    "from biobb_analysis.gromacs.gmx_image import gmx_image\n",
    "\n",
    "# Create prop dict and inputs/outputs\n",
    "output_imaged_traj_rot = pdbCode+'_imaged_traj_rot.trr'\n",
    "prop = {\n",
    "    'center_selection':  'Protein',\n",
    "    'output_selection': 'Protein',\n",
    "    'fit' : 'rot+trans',\n",
    "    'center' : True\n",
    "}\n",
    "\n",
    "# Create and launch bb\n",
    "gmx_image(input_traj_path=output_imaged_traj,\n",
    "         input_top_path=output_gppmd_tpr,\n",
    "         output_traj_path=output_imaged_traj_rot, \n",
    "          properties=prop)"
   ]
  },
  {
   "cell_type": "markdown",
   "metadata": {},
   "source": [
    "<a id=\"ppStep2\"></a>\n",
    "#### Step 2: Generating the output *dry* structure.\n",
    "**Removing water molecules and ions** from the resulting structure"
   ]
  },
  {
   "cell_type": "code",
   "execution_count": 144,
   "metadata": {
    "scrolled": true
   },
   "outputs": [
    {
     "name": "stdout",
     "output_type": "stream",
     "text": [
      "2023-10-02 16:26:58,357 [MainThread  ] [INFO ]  Executing biobb_analysis.gromacs.gmx_trjconv_str Version: 4.1.0\n",
      "2023-10-02 16:26:58,361 [MainThread  ] [INFO ]  Copy: /Users/hospital/BioBB/Antibody/BioBB/biobb_wf_md_setup/biobb_wf_md_setup/notebooks/3RVT_md.gro to /Users/hospital/BioBB/Antibody/BioBB/biobb_wf_md_setup/biobb_wf_md_setup/notebooks/129c7d38-257c-484f-8468-4e805ed7fde7\n",
      "2023-10-02 16:26:58,364 [MainThread  ] [INFO ]  Copy: /Users/hospital/BioBB/Antibody/BioBB/biobb_wf_md_setup/biobb_wf_md_setup/notebooks/3RVT_gppmd.tpr to /Users/hospital/BioBB/Antibody/BioBB/biobb_wf_md_setup/biobb_wf_md_setup/notebooks/129c7d38-257c-484f-8468-4e805ed7fde7\n",
      "2023-10-02 16:26:58,366 [MainThread  ] [INFO ]  Copy: /Users/hospital/BioBB/Antibody/BioBB/biobb_wf_md_setup/biobb_wf_md_setup/notebooks/256c0288-7b65-4719-97cb-c2e6aa22fc6c.stdin to /Users/hospital/BioBB/Antibody/BioBB/biobb_wf_md_setup/biobb_wf_md_setup/notebooks/129c7d38-257c-484f-8468-4e805ed7fde7\n",
      "2023-10-02 16:26:58,367 [MainThread  ] [INFO ]  gmx trjconv -f /Users/hospital/BioBB/Antibody/BioBB/biobb_wf_md_setup/biobb_wf_md_setup/notebooks/129c7d38-257c-484f-8468-4e805ed7fde7/3RVT_md.gro -s /Users/hospital/BioBB/Antibody/BioBB/biobb_wf_md_setup/biobb_wf_md_setup/notebooks/129c7d38-257c-484f-8468-4e805ed7fde7/3RVT_gppmd.tpr -o /Users/hospital/BioBB/Antibody/BioBB/biobb_wf_md_setup/biobb_wf_md_setup/notebooks/129c7d38-257c-484f-8468-4e805ed7fde7/3RVT_md_dry.gro -nocenter < /Users/hospital/BioBB/Antibody/BioBB/biobb_wf_md_setup/biobb_wf_md_setup/notebooks/129c7d38-257c-484f-8468-4e805ed7fde7/256c0288-7b65-4719-97cb-c2e6aa22fc6c.stdin\n",
      "\n",
      "2023-10-02 16:26:58,546 [MainThread  ] [INFO ]  Exit code 0\n",
      "\n",
      "2023-10-02 16:26:58,547 [MainThread  ] [INFO ]  Note that major changes are planned in future for trjconv, to improve usability and utility.\n",
      "Select group for output\n",
      "Selected 1: 'Protein'\n",
      "\n",
      "2023-10-02 16:26:58,547 [MainThread  ] [INFO ]                 :-) GROMACS - gmx trjconv, 2022.2-conda_forge (-:\n",
      "\n",
      "Executable:   /opt/anaconda3/envs/biobb_GMX_MDsetup_tutorial_v4.1/bin.SSE2/gmx\n",
      "Data prefix:  /opt/anaconda3/envs/biobb_GMX_MDsetup_tutorial_v4.1\n",
      "Working dir:  /Users/hospital/BioBB/Antibody/BioBB/biobb_wf_md_setup/biobb_wf_md_setup/notebooks\n",
      "Command line:\n",
      "  gmx trjconv -f /Users/hospital/BioBB/Antibody/BioBB/biobb_wf_md_setup/biobb_wf_md_setup/notebooks/129c7d38-257c-484f-8468-4e805ed7fde7/3RVT_md.gro -s /Users/hospital/BioBB/Antibody/BioBB/biobb_wf_md_setup/biobb_wf_md_setup/notebooks/129c7d38-257c-484f-8468-4e805ed7fde7/3RVT_gppmd.tpr -o /Users/hospital/BioBB/Antibody/BioBB/biobb_wf_md_setup/biobb_wf_md_setup/notebooks/129c7d38-257c-484f-8468-4e805ed7fde7/3RVT_md_dry.gro -nocenter\n",
      "\n",
      "Will write gro: Coordinate file in Gromos-87 format\n",
      "Reading file /Users/hospital/BioBB/Antibody/BioBB/biobb_wf_md_setup/biobb_wf_md_setup/notebooks/129c7d38-257c-484f-8468-4e805ed7fde7/3RVT_gppmd.tpr, VERSION 2022.2-conda_forge (single precision)\n",
      "Reading file /Users/hospital/BioBB/Antibody/BioBB/biobb_wf_md_setup/biobb_wf_md_setup/notebooks/129c7d38-257c-484f-8468-4e805ed7fde7/3RVT_gppmd.tpr, VERSION 2022.2-conda_forge (single precision)\n",
      "Group     0 (         System) has 57593 elements\n",
      "Group     1 (        Protein) has  6664 elements\n",
      "Group     2 (      Protein-H) has  3383 elements\n",
      "Group     3 (        C-alpha) has   435 elements\n",
      "Group     4 (       Backbone) has  1305 elements\n",
      "Group     5 (      MainChain) has  1738 elements\n",
      "Group     6 (   MainChain+Cb) has  2144 elements\n",
      "Group     7 (    MainChain+H) has  2151 elements\n",
      "Group     8 (      SideChain) has  4513 elements\n",
      "Group     9 (    SideChain-H) has  1645 elements\n",
      "Group    10 (    Prot-Masses) has  6664 elements\n",
      "Group    11 (    non-Protein) has 50929 elements\n",
      "Group    12 (          Water) has 50889 elements\n",
      "Group    13 (            SOL) has 50889 elements\n",
      "Group    14 (      non-Water) has  6704 elements\n",
      "Group    15 (            Ion) has    40 elements\n",
      "Group    16 (             NA) has    18 elements\n",
      "Group    17 (             CL) has    22 elements\n",
      "Group    18 ( Water_and_ions) has 50929 elements\n",
      "Select a group: Reading frames from gro file 'Protein in water', 57593 atoms.\n",
      "Reading frame       0 time    0.000   \n",
      "Precision of /Users/hospital/BioBB/Antibody/BioBB/biobb_wf_md_setup/biobb_wf_md_setup/notebooks/129c7d38-257c-484f-8468-4e805ed7fde7/3RVT_md.gro is 0.001 (nm)\n",
      "Last frame          0 time    0.000   \n",
      " ->  frame      0 time    0.000      \n",
      "Last written: frame      0 time    0.000\n",
      "\n",
      "\n",
      "GROMACS reminds you: \"According to my computations we're overdue for a transformation.\" (Jackson Browne)\n",
      "\n",
      "\n",
      "2023-10-02 16:26:58,550 [MainThread  ] [INFO ]  Removed: ['/Users/hospital/BioBB/Antibody/BioBB/biobb_wf_md_setup/biobb_wf_md_setup/notebooks/129c7d38-257c-484f-8468-4e805ed7fde7', '/Users/hospital/BioBB/Antibody/BioBB/biobb_wf_md_setup/biobb_wf_md_setup/notebooks/256c0288-7b65-4719-97cb-c2e6aa22fc6c.stdin']\n"
     ]
    }
   ],
   "source": [
    "# GMXTrjConvStr: Converting and/or manipulating a structure\n",
    "#                Removing water molecules and ions from the resulting structure\n",
    "#                The \"dry\" structure will be used as a topology to visualize \n",
    "#                the \"imaged dry\" trajectory generated in the previous step.\n",
    "from biobb_analysis.gromacs.gmx_trjconv_str import gmx_trjconv_str\n",
    "\n",
    "# Create prop dict and inputs/outputs\n",
    "output_dry_gro = pdbCode+'_md_dry.gro'\n",
    "prop = {\n",
    "    'selection':  'Protein'\n",
    "}\n",
    "\n",
    "# Create and launch bb\n",
    "gmx_trjconv_str(input_structure_path=output_md_gro,\n",
    "         input_top_path=output_gppmd_tpr,\n",
    "         output_str_path=output_dry_gro, \n",
    "          properties=prop)"
   ]
  },
  {
   "cell_type": "markdown",
   "metadata": {},
   "source": [
    "<a id=\"ppStep3\"></a>\n",
    "#### Step 3: Visualizing the generated dehydrated trajectory.\n",
    "Using the **imaged trajectory** (output of the [Post-processing step 1](#ppStep1)) with the **dry structure** (output of the [Post-processing step 2](#ppStep2)) as a topology."
   ]
  },
  {
   "cell_type": "code",
   "execution_count": 145,
   "metadata": {},
   "outputs": [
    {
     "data": {
      "application/vnd.jupyter.widget-view+json": {
       "model_id": "cd5bbdb066084a039f13eb35906d010e",
       "version_major": 2,
       "version_minor": 0
      },
      "text/plain": [
       "NGLWidget(max_frame=50)"
      ]
     },
     "metadata": {},
     "output_type": "display_data"
    },
    {
     "data": {
      "application/vnd.jupyter.widget-view+json": {
       "model_id": "d1789f1c717844bc880d83c1c4df953e",
       "version_major": 2,
       "version_minor": 0
      },
      "text/plain": [
       "Tab(children=(Box(children=(Box(children=(Box(children=(Label(value='step'), IntSlider(value=1, min=-100)), la…"
      ]
     },
     "metadata": {},
     "output_type": "display_data"
    }
   ],
   "source": [
    "# Show trajectory\n",
    "view = nglview.show_simpletraj(nglview.SimpletrajTrajectory(output_imaged_traj_rot, output_dry_gro), gui=True)\n",
    "view"
   ]
  },
  {
   "cell_type": "markdown",
   "metadata": {},
   "source": [
    "<a id=\"mdStep3\"></a>\n",
    "#### Step 4: Checking free MD simulation results\n",
    "Checking results for the final step of the setup process, the **free MD run**. Plotting **Root Mean Square deviation (RMSd)** and **Radius of Gyration (Rgyr)** by time during the **free MD run** step. **RMSd** against the **experimental structure** (input structure of the pipeline) and against the **minimized and equilibrated structure** (output structure of the NPT equilibration step)."
   ]
  },
  {
   "cell_type": "code",
   "execution_count": 150,
   "metadata": {
    "scrolled": true
   },
   "outputs": [
    {
     "name": "stdout",
     "output_type": "stream",
     "text": [
      "2023-10-02 16:28:12,901 [MainThread  ] [INFO ]  Executing biobb_analysis.gromacs.gmx_rms Version: 4.1.0\n",
      "2023-10-02 16:28:12,905 [MainThread  ] [INFO ]  Copy: /Users/hospital/BioBB/Antibody/BioBB/biobb_wf_md_setup/biobb_wf_md_setup/notebooks/3RVT_gppmin.tpr to /Users/hospital/BioBB/Antibody/BioBB/biobb_wf_md_setup/biobb_wf_md_setup/notebooks/b882df3a-1905-49c3-8641-732fbbd8f7a2\n",
      "2023-10-02 16:28:12,908 [MainThread  ] [INFO ]  Copy: /Users/hospital/BioBB/Antibody/BioBB/biobb_wf_md_setup/biobb_wf_md_setup/notebooks/3RVT_imaged_traj_rot.trr to /Users/hospital/BioBB/Antibody/BioBB/biobb_wf_md_setup/biobb_wf_md_setup/notebooks/b882df3a-1905-49c3-8641-732fbbd8f7a2\n",
      "2023-10-02 16:28:12,909 [MainThread  ] [INFO ]  Copy: /Users/hospital/BioBB/Antibody/BioBB/biobb_wf_md_setup/biobb_wf_md_setup/notebooks/33c6821c-0b74-48b9-bb5b-739845b78762.stdin to /Users/hospital/BioBB/Antibody/BioBB/biobb_wf_md_setup/biobb_wf_md_setup/notebooks/b882df3a-1905-49c3-8641-732fbbd8f7a2\n",
      "2023-10-02 16:28:12,910 [MainThread  ] [INFO ]  gmx rms -s /Users/hospital/BioBB/Antibody/BioBB/biobb_wf_md_setup/biobb_wf_md_setup/notebooks/b882df3a-1905-49c3-8641-732fbbd8f7a2/3RVT_gppmin.tpr -f /Users/hospital/BioBB/Antibody/BioBB/biobb_wf_md_setup/biobb_wf_md_setup/notebooks/b882df3a-1905-49c3-8641-732fbbd8f7a2/3RVT_imaged_traj_rot.trr -o /Users/hospital/BioBB/Antibody/BioBB/biobb_wf_md_setup/biobb_wf_md_setup/notebooks/b882df3a-1905-49c3-8641-732fbbd8f7a2/3RVT_rms_exp.xvg -xvg none < /Users/hospital/BioBB/Antibody/BioBB/biobb_wf_md_setup/biobb_wf_md_setup/notebooks/b882df3a-1905-49c3-8641-732fbbd8f7a2/33c6821c-0b74-48b9-bb5b-739845b78762.stdin\n",
      "\n",
      "2023-10-02 16:28:13,109 [MainThread  ] [INFO ]  Exit code 0\n",
      "\n",
      "2023-10-02 16:28:13,111 [MainThread  ] [INFO ]  Selected 4: 'Backbone'\n",
      "Selected 4: 'Backbone'\n",
      "\n",
      "2023-10-02 16:28:13,111 [MainThread  ] [INFO ]                   :-) GROMACS - gmx rms, 2022.2-conda_forge (-:\n",
      "\n",
      "Executable:   /opt/anaconda3/envs/biobb_GMX_MDsetup_tutorial_v4.1/bin.SSE2/gmx\n",
      "Data prefix:  /opt/anaconda3/envs/biobb_GMX_MDsetup_tutorial_v4.1\n",
      "Working dir:  /Users/hospital/BioBB/Antibody/BioBB/biobb_wf_md_setup/biobb_wf_md_setup/notebooks\n",
      "Command line:\n",
      "  gmx rms -s /Users/hospital/BioBB/Antibody/BioBB/biobb_wf_md_setup/biobb_wf_md_setup/notebooks/b882df3a-1905-49c3-8641-732fbbd8f7a2/3RVT_gppmin.tpr -f /Users/hospital/BioBB/Antibody/BioBB/biobb_wf_md_setup/biobb_wf_md_setup/notebooks/b882df3a-1905-49c3-8641-732fbbd8f7a2/3RVT_imaged_traj_rot.trr -o /Users/hospital/BioBB/Antibody/BioBB/biobb_wf_md_setup/biobb_wf_md_setup/notebooks/b882df3a-1905-49c3-8641-732fbbd8f7a2/3RVT_rms_exp.xvg -xvg none\n",
      "\n",
      "Reading file /Users/hospital/BioBB/Antibody/BioBB/biobb_wf_md_setup/biobb_wf_md_setup/notebooks/b882df3a-1905-49c3-8641-732fbbd8f7a2/3RVT_gppmin.tpr, VERSION 2022.2-conda_forge (single precision)\n",
      "Reading file /Users/hospital/BioBB/Antibody/BioBB/biobb_wf_md_setup/biobb_wf_md_setup/notebooks/b882df3a-1905-49c3-8641-732fbbd8f7a2/3RVT_gppmin.tpr, VERSION 2022.2-conda_forge (single precision)\n",
      "Select group for least squares fit\n",
      "Group     0 (         System) has 57593 elements\n",
      "Group     1 (        Protein) has  6664 elements\n",
      "Group     2 (      Protein-H) has  3383 elements\n",
      "Group     3 (        C-alpha) has   435 elements\n",
      "Group     4 (       Backbone) has  1305 elements\n",
      "Group     5 (      MainChain) has  1738 elements\n",
      "Group     6 (   MainChain+Cb) has  2144 elements\n",
      "Group     7 (    MainChain+H) has  2151 elements\n",
      "Group     8 (      SideChain) has  4513 elements\n",
      "Group     9 (    SideChain-H) has  1645 elements\n",
      "Group    10 (    Prot-Masses) has  6664 elements\n",
      "Group    11 (    non-Protein) has 50929 elements\n",
      "Group    12 (          Water) has 50889 elements\n",
      "Group    13 (            SOL) has 50889 elements\n",
      "Group    14 (      non-Water) has  6704 elements\n",
      "Group    15 (            Ion) has    40 elements\n",
      "Group    16 (             NA) has    18 elements\n",
      "Group    17 (             CL) has    22 elements\n",
      "Group    18 ( Water_and_ions) has 50929 elements\n",
      "Select a group: Select group for RMSD calculation\n",
      "Group     0 (         System) has 57593 elements\n",
      "Group     1 (        Protein) has  6664 elements\n",
      "Group     2 (      Protein-H) has  3383 elements\n",
      "Group     3 (        C-alpha) has   435 elements\n",
      "Group     4 (       Backbone) has  1305 elements\n",
      "Group     5 (      MainChain) has  1738 elements\n",
      "Group     6 (   MainChain+Cb) has  2144 elements\n",
      "Group     7 (    MainChain+H) has  2151 elements\n",
      "Group     8 (      SideChain) has  4513 elements\n",
      "Group     9 (    SideChain-H) has  1645 elements\n",
      "Group    10 (    Prot-Masses) has  6664 elements\n",
      "Group    11 (    non-Protein) has 50929 elements\n",
      "Group    12 (          Water) has 50889 elements\n",
      "Group    13 (            SOL) has 50889 elements\n",
      "Group    14 (      non-Water) has  6704 elements\n",
      "Group    15 (            Ion) has    40 elements\n",
      "Group    16 (             NA) has    18 elements\n",
      "Group    17 (             CL) has    22 elements\n",
      "Group    18 ( Water_and_ions) has 50929 elements\n",
      "Select a group: trr version: GMX_trn_file (single precision)\n",
      "Reading frame       0 time    0.000   \n",
      "WARNING: topology has 57593 atoms, whereas trajectory has 6664\n",
      "Last frame         50 time  100.000   \n",
      "\n",
      "GROMACS reminds you: \"Be less curious about people and more curious about ideas.\" (Marie Curie)\n",
      "\n",
      "\n",
      "2023-10-02 16:28:13,113 [MainThread  ] [INFO ]  Removed: ['/Users/hospital/BioBB/Antibody/BioBB/biobb_wf_md_setup/biobb_wf_md_setup/notebooks/b882df3a-1905-49c3-8641-732fbbd8f7a2', '/Users/hospital/BioBB/Antibody/BioBB/biobb_wf_md_setup/biobb_wf_md_setup/notebooks/33c6821c-0b74-48b9-bb5b-739845b78762.stdin']\n"
     ]
    },
    {
     "data": {
      "text/plain": [
       "0"
      ]
     },
     "execution_count": 150,
     "metadata": {},
     "output_type": "execute_result"
    }
   ],
   "source": [
    "# GMXRms: Computing Root Mean Square deviation to analyse structural stability \n",
    "#         RMSd against experimental structure (backbone atoms)   \n",
    "\n",
    "from biobb_analysis.gromacs.gmx_rms import gmx_rms\n",
    "\n",
    "# Create prop dict and inputs/outputs\n",
    "output_rms_exp = pdbCode+'_rms_exp.xvg'\n",
    "prop = {\n",
    "    'selection':  'Backbone',\n",
    "    #'selection': 'non-Water'\n",
    "}\n",
    "\n",
    "# Create and launch bb\n",
    "gmx_rms(input_structure_path=output_gppmin_tpr,\n",
    "         input_traj_path=output_imaged_traj_rot,\n",
    "         output_xvg_path=output_rms_exp, \n",
    "          properties=prop)"
   ]
  },
  {
   "cell_type": "code",
   "execution_count": 153,
   "metadata": {},
   "outputs": [
    {
     "data": {
      "text/html": [
       "        <script type=\"text/javascript\">\n",
       "        window.PlotlyConfig = {MathJaxConfig: 'local'};\n",
       "        if (window.MathJax && window.MathJax.Hub && window.MathJax.Hub.Config) {window.MathJax.Hub.Config({SVG: {font: \"STIX-Web\"}});}\n",
       "        if (typeof require !== 'undefined') {\n",
       "        require.undef(\"plotly\");\n",
       "        requirejs.config({\n",
       "            paths: {\n",
       "                'plotly': ['https://cdn.plot.ly/plotly-2.26.0.min']\n",
       "            }\n",
       "        });\n",
       "        require(['plotly'], function(Plotly) {\n",
       "            window._Plotly = Plotly;\n",
       "        });\n",
       "        }\n",
       "        </script>\n",
       "        "
      ]
     },
     "metadata": {},
     "output_type": "display_data"
    },
    {
     "data": {
      "application/vnd.plotly.v1+json": {
       "config": {
        "linkText": "Export to plot.ly",
        "plotlyServerURL": "https://plot.ly",
        "showLink": false
       },
       "data": [
        {
         "name": "RMSd vs exp",
         "type": "scatter",
         "x": [
          0,
          2,
          4,
          6,
          8,
          10,
          12,
          14,
          16,
          18,
          20,
          22,
          24,
          26,
          28,
          30,
          32,
          34,
          36,
          38,
          40,
          42,
          44,
          46,
          48,
          50,
          52,
          54,
          56,
          58,
          60,
          62,
          64,
          66,
          68,
          70,
          72,
          74,
          76,
          78,
          80,
          82,
          84,
          86,
          88,
          90,
          92,
          94,
          96,
          98,
          100
         ],
         "y": [
          0.0413407,
          0.0727323,
          0.0693021,
          0.0773883,
          0.0850166,
          0.0798397,
          0.0777142,
          0.0857559,
          0.092796,
          0.0825637,
          0.0850154,
          0.0889432,
          0.0871884,
          0.0904905,
          0.1027857,
          0.1032413,
          0.1119461,
          0.1194656,
          0.127445,
          0.13105,
          0.1320159,
          0.1460233,
          0.1570139,
          0.1557104,
          0.149748,
          0.1466174,
          0.1362801,
          0.1353492,
          0.1467026,
          0.1495098,
          0.1544425,
          0.1430609,
          0.1436101,
          0.1473882,
          0.1407134,
          0.1423638,
          0.1416694,
          0.1393222,
          0.1339584,
          0.1308487,
          0.1266475,
          0.1211516,
          0.1110371,
          0.1175442,
          0.1210981,
          0.1318951,
          0.1363175,
          0.1349925,
          0.1278263,
          0.1177407,
          0.1233729
         ]
        }
       ],
       "layout": {
        "autosize": true,
        "template": {
         "data": {
          "bar": [
           {
            "error_x": {
             "color": "#2a3f5f"
            },
            "error_y": {
             "color": "#2a3f5f"
            },
            "marker": {
             "line": {
              "color": "#E5ECF6",
              "width": 0.5
             },
             "pattern": {
              "fillmode": "overlay",
              "size": 10,
              "solidity": 0.2
             }
            },
            "type": "bar"
           }
          ],
          "barpolar": [
           {
            "marker": {
             "line": {
              "color": "#E5ECF6",
              "width": 0.5
             },
             "pattern": {
              "fillmode": "overlay",
              "size": 10,
              "solidity": 0.2
             }
            },
            "type": "barpolar"
           }
          ],
          "carpet": [
           {
            "aaxis": {
             "endlinecolor": "#2a3f5f",
             "gridcolor": "white",
             "linecolor": "white",
             "minorgridcolor": "white",
             "startlinecolor": "#2a3f5f"
            },
            "baxis": {
             "endlinecolor": "#2a3f5f",
             "gridcolor": "white",
             "linecolor": "white",
             "minorgridcolor": "white",
             "startlinecolor": "#2a3f5f"
            },
            "type": "carpet"
           }
          ],
          "choropleth": [
           {
            "colorbar": {
             "outlinewidth": 0,
             "ticks": ""
            },
            "type": "choropleth"
           }
          ],
          "contour": [
           {
            "colorbar": {
             "outlinewidth": 0,
             "ticks": ""
            },
            "colorscale": [
             [
              0,
              "#0d0887"
             ],
             [
              0.1111111111111111,
              "#46039f"
             ],
             [
              0.2222222222222222,
              "#7201a8"
             ],
             [
              0.3333333333333333,
              "#9c179e"
             ],
             [
              0.4444444444444444,
              "#bd3786"
             ],
             [
              0.5555555555555556,
              "#d8576b"
             ],
             [
              0.6666666666666666,
              "#ed7953"
             ],
             [
              0.7777777777777778,
              "#fb9f3a"
             ],
             [
              0.8888888888888888,
              "#fdca26"
             ],
             [
              1,
              "#f0f921"
             ]
            ],
            "type": "contour"
           }
          ],
          "contourcarpet": [
           {
            "colorbar": {
             "outlinewidth": 0,
             "ticks": ""
            },
            "type": "contourcarpet"
           }
          ],
          "heatmap": [
           {
            "colorbar": {
             "outlinewidth": 0,
             "ticks": ""
            },
            "colorscale": [
             [
              0,
              "#0d0887"
             ],
             [
              0.1111111111111111,
              "#46039f"
             ],
             [
              0.2222222222222222,
              "#7201a8"
             ],
             [
              0.3333333333333333,
              "#9c179e"
             ],
             [
              0.4444444444444444,
              "#bd3786"
             ],
             [
              0.5555555555555556,
              "#d8576b"
             ],
             [
              0.6666666666666666,
              "#ed7953"
             ],
             [
              0.7777777777777778,
              "#fb9f3a"
             ],
             [
              0.8888888888888888,
              "#fdca26"
             ],
             [
              1,
              "#f0f921"
             ]
            ],
            "type": "heatmap"
           }
          ],
          "heatmapgl": [
           {
            "colorbar": {
             "outlinewidth": 0,
             "ticks": ""
            },
            "colorscale": [
             [
              0,
              "#0d0887"
             ],
             [
              0.1111111111111111,
              "#46039f"
             ],
             [
              0.2222222222222222,
              "#7201a8"
             ],
             [
              0.3333333333333333,
              "#9c179e"
             ],
             [
              0.4444444444444444,
              "#bd3786"
             ],
             [
              0.5555555555555556,
              "#d8576b"
             ],
             [
              0.6666666666666666,
              "#ed7953"
             ],
             [
              0.7777777777777778,
              "#fb9f3a"
             ],
             [
              0.8888888888888888,
              "#fdca26"
             ],
             [
              1,
              "#f0f921"
             ]
            ],
            "type": "heatmapgl"
           }
          ],
          "histogram": [
           {
            "marker": {
             "pattern": {
              "fillmode": "overlay",
              "size": 10,
              "solidity": 0.2
             }
            },
            "type": "histogram"
           }
          ],
          "histogram2d": [
           {
            "colorbar": {
             "outlinewidth": 0,
             "ticks": ""
            },
            "colorscale": [
             [
              0,
              "#0d0887"
             ],
             [
              0.1111111111111111,
              "#46039f"
             ],
             [
              0.2222222222222222,
              "#7201a8"
             ],
             [
              0.3333333333333333,
              "#9c179e"
             ],
             [
              0.4444444444444444,
              "#bd3786"
             ],
             [
              0.5555555555555556,
              "#d8576b"
             ],
             [
              0.6666666666666666,
              "#ed7953"
             ],
             [
              0.7777777777777778,
              "#fb9f3a"
             ],
             [
              0.8888888888888888,
              "#fdca26"
             ],
             [
              1,
              "#f0f921"
             ]
            ],
            "type": "histogram2d"
           }
          ],
          "histogram2dcontour": [
           {
            "colorbar": {
             "outlinewidth": 0,
             "ticks": ""
            },
            "colorscale": [
             [
              0,
              "#0d0887"
             ],
             [
              0.1111111111111111,
              "#46039f"
             ],
             [
              0.2222222222222222,
              "#7201a8"
             ],
             [
              0.3333333333333333,
              "#9c179e"
             ],
             [
              0.4444444444444444,
              "#bd3786"
             ],
             [
              0.5555555555555556,
              "#d8576b"
             ],
             [
              0.6666666666666666,
              "#ed7953"
             ],
             [
              0.7777777777777778,
              "#fb9f3a"
             ],
             [
              0.8888888888888888,
              "#fdca26"
             ],
             [
              1,
              "#f0f921"
             ]
            ],
            "type": "histogram2dcontour"
           }
          ],
          "mesh3d": [
           {
            "colorbar": {
             "outlinewidth": 0,
             "ticks": ""
            },
            "type": "mesh3d"
           }
          ],
          "parcoords": [
           {
            "line": {
             "colorbar": {
              "outlinewidth": 0,
              "ticks": ""
             }
            },
            "type": "parcoords"
           }
          ],
          "pie": [
           {
            "automargin": true,
            "type": "pie"
           }
          ],
          "scatter": [
           {
            "fillpattern": {
             "fillmode": "overlay",
             "size": 10,
             "solidity": 0.2
            },
            "type": "scatter"
           }
          ],
          "scatter3d": [
           {
            "line": {
             "colorbar": {
              "outlinewidth": 0,
              "ticks": ""
             }
            },
            "marker": {
             "colorbar": {
              "outlinewidth": 0,
              "ticks": ""
             }
            },
            "type": "scatter3d"
           }
          ],
          "scattercarpet": [
           {
            "marker": {
             "colorbar": {
              "outlinewidth": 0,
              "ticks": ""
             }
            },
            "type": "scattercarpet"
           }
          ],
          "scattergeo": [
           {
            "marker": {
             "colorbar": {
              "outlinewidth": 0,
              "ticks": ""
             }
            },
            "type": "scattergeo"
           }
          ],
          "scattergl": [
           {
            "marker": {
             "colorbar": {
              "outlinewidth": 0,
              "ticks": ""
             }
            },
            "type": "scattergl"
           }
          ],
          "scattermapbox": [
           {
            "marker": {
             "colorbar": {
              "outlinewidth": 0,
              "ticks": ""
             }
            },
            "type": "scattermapbox"
           }
          ],
          "scatterpolar": [
           {
            "marker": {
             "colorbar": {
              "outlinewidth": 0,
              "ticks": ""
             }
            },
            "type": "scatterpolar"
           }
          ],
          "scatterpolargl": [
           {
            "marker": {
             "colorbar": {
              "outlinewidth": 0,
              "ticks": ""
             }
            },
            "type": "scatterpolargl"
           }
          ],
          "scatterternary": [
           {
            "marker": {
             "colorbar": {
              "outlinewidth": 0,
              "ticks": ""
             }
            },
            "type": "scatterternary"
           }
          ],
          "surface": [
           {
            "colorbar": {
             "outlinewidth": 0,
             "ticks": ""
            },
            "colorscale": [
             [
              0,
              "#0d0887"
             ],
             [
              0.1111111111111111,
              "#46039f"
             ],
             [
              0.2222222222222222,
              "#7201a8"
             ],
             [
              0.3333333333333333,
              "#9c179e"
             ],
             [
              0.4444444444444444,
              "#bd3786"
             ],
             [
              0.5555555555555556,
              "#d8576b"
             ],
             [
              0.6666666666666666,
              "#ed7953"
             ],
             [
              0.7777777777777778,
              "#fb9f3a"
             ],
             [
              0.8888888888888888,
              "#fdca26"
             ],
             [
              1,
              "#f0f921"
             ]
            ],
            "type": "surface"
           }
          ],
          "table": [
           {
            "cells": {
             "fill": {
              "color": "#EBF0F8"
             },
             "line": {
              "color": "white"
             }
            },
            "header": {
             "fill": {
              "color": "#C8D4E3"
             },
             "line": {
              "color": "white"
             }
            },
            "type": "table"
           }
          ]
         },
         "layout": {
          "annotationdefaults": {
           "arrowcolor": "#2a3f5f",
           "arrowhead": 0,
           "arrowwidth": 1
          },
          "autotypenumbers": "strict",
          "coloraxis": {
           "colorbar": {
            "outlinewidth": 0,
            "ticks": ""
           }
          },
          "colorscale": {
           "diverging": [
            [
             0,
             "#8e0152"
            ],
            [
             0.1,
             "#c51b7d"
            ],
            [
             0.2,
             "#de77ae"
            ],
            [
             0.3,
             "#f1b6da"
            ],
            [
             0.4,
             "#fde0ef"
            ],
            [
             0.5,
             "#f7f7f7"
            ],
            [
             0.6,
             "#e6f5d0"
            ],
            [
             0.7,
             "#b8e186"
            ],
            [
             0.8,
             "#7fbc41"
            ],
            [
             0.9,
             "#4d9221"
            ],
            [
             1,
             "#276419"
            ]
           ],
           "sequential": [
            [
             0,
             "#0d0887"
            ],
            [
             0.1111111111111111,
             "#46039f"
            ],
            [
             0.2222222222222222,
             "#7201a8"
            ],
            [
             0.3333333333333333,
             "#9c179e"
            ],
            [
             0.4444444444444444,
             "#bd3786"
            ],
            [
             0.5555555555555556,
             "#d8576b"
            ],
            [
             0.6666666666666666,
             "#ed7953"
            ],
            [
             0.7777777777777778,
             "#fb9f3a"
            ],
            [
             0.8888888888888888,
             "#fdca26"
            ],
            [
             1,
             "#f0f921"
            ]
           ],
           "sequentialminus": [
            [
             0,
             "#0d0887"
            ],
            [
             0.1111111111111111,
             "#46039f"
            ],
            [
             0.2222222222222222,
             "#7201a8"
            ],
            [
             0.3333333333333333,
             "#9c179e"
            ],
            [
             0.4444444444444444,
             "#bd3786"
            ],
            [
             0.5555555555555556,
             "#d8576b"
            ],
            [
             0.6666666666666666,
             "#ed7953"
            ],
            [
             0.7777777777777778,
             "#fb9f3a"
            ],
            [
             0.8888888888888888,
             "#fdca26"
            ],
            [
             1,
             "#f0f921"
            ]
           ]
          },
          "colorway": [
           "#636efa",
           "#EF553B",
           "#00cc96",
           "#ab63fa",
           "#FFA15A",
           "#19d3f3",
           "#FF6692",
           "#B6E880",
           "#FF97FF",
           "#FECB52"
          ],
          "font": {
           "color": "#2a3f5f"
          },
          "geo": {
           "bgcolor": "white",
           "lakecolor": "white",
           "landcolor": "#E5ECF6",
           "showlakes": true,
           "showland": true,
           "subunitcolor": "white"
          },
          "hoverlabel": {
           "align": "left"
          },
          "hovermode": "closest",
          "mapbox": {
           "style": "light"
          },
          "paper_bgcolor": "white",
          "plot_bgcolor": "#E5ECF6",
          "polar": {
           "angularaxis": {
            "gridcolor": "white",
            "linecolor": "white",
            "ticks": ""
           },
           "bgcolor": "#E5ECF6",
           "radialaxis": {
            "gridcolor": "white",
            "linecolor": "white",
            "ticks": ""
           }
          },
          "scene": {
           "xaxis": {
            "backgroundcolor": "#E5ECF6",
            "gridcolor": "white",
            "gridwidth": 2,
            "linecolor": "white",
            "showbackground": true,
            "ticks": "",
            "zerolinecolor": "white"
           },
           "yaxis": {
            "backgroundcolor": "#E5ECF6",
            "gridcolor": "white",
            "gridwidth": 2,
            "linecolor": "white",
            "showbackground": true,
            "ticks": "",
            "zerolinecolor": "white"
           },
           "zaxis": {
            "backgroundcolor": "#E5ECF6",
            "gridcolor": "white",
            "gridwidth": 2,
            "linecolor": "white",
            "showbackground": true,
            "ticks": "",
            "zerolinecolor": "white"
           }
          },
          "shapedefaults": {
           "line": {
            "color": "#2a3f5f"
           }
          },
          "ternary": {
           "aaxis": {
            "gridcolor": "white",
            "linecolor": "white",
            "ticks": ""
           },
           "baxis": {
            "gridcolor": "white",
            "linecolor": "white",
            "ticks": ""
           },
           "bgcolor": "#E5ECF6",
           "caxis": {
            "gridcolor": "white",
            "linecolor": "white",
            "ticks": ""
           }
          },
          "title": {
           "x": 0.05
          },
          "xaxis": {
           "automargin": true,
           "gridcolor": "white",
           "linecolor": "white",
           "ticks": "",
           "title": {
            "standoff": 15
           },
           "zerolinecolor": "white",
           "zerolinewidth": 2
          },
          "yaxis": {
           "automargin": true,
           "gridcolor": "white",
           "linecolor": "white",
           "ticks": "",
           "title": {
            "standoff": 15
           },
           "zerolinecolor": "white",
           "zerolinewidth": 2
          }
         }
        },
        "title": {
         "text": "RMSd during free MD Simulation"
        },
        "xaxis": {
         "autorange": true,
         "range": [
          0,
          100
         ],
         "title": {
          "text": "Time (ps)"
         },
         "type": "linear"
        },
        "yaxis": {
         "autorange": true,
         "range": [
          0.03491441111111111,
          0.1634401888888889
         ],
         "title": {
          "text": "RMSd (nm)"
         },
         "type": "linear"
        }
       }
      },
      "image/png": "[encoded data removed]",
      "text/html": [
       "<div>                            <div id=\"9b0df6bd-ca9d-46a8-8925-b5860eda9130\" class=\"plotly-graph-div\" style=\"height:525px; width:100%;\"></div>            <script type=\"text/javascript\">                require([\"plotly\"], function(Plotly) {                    window.PLOTLYENV=window.PLOTLYENV || {};                                    if (document.getElementById(\"9b0df6bd-ca9d-46a8-8925-b5860eda9130\")) {                    Plotly.newPlot(                        \"9b0df6bd-ca9d-46a8-8925-b5860eda9130\",                        [{\"name\":\"RMSd vs exp\",\"x\":[0.0,2.0,4.0,6.0,8.0,10.0,12.0,14.0,16.0,18.0,20.0,22.0,24.0,26.0,28.0,30.0,32.0,34.0,36.0,38.0,40.0,42.0,44.0,46.0,48.0,50.0,52.0,54.0,56.0,58.0,60.0,62.0,64.0,66.0,68.0,70.0,72.0,74.0,76.0,78.0,80.0,82.0,84.0,86.0,88.0,90.0,92.0,94.0,96.0,98.0,100.0],\"y\":[0.0413407,0.0727323,0.0693021,0.0773883,0.0850166,0.0798397,0.0777142,0.0857559,0.092796,0.0825637,0.0850154,0.0889432,0.0871884,0.0904905,0.1027857,0.1032413,0.1119461,0.1194656,0.127445,0.13105,0.1320159,0.1460233,0.1570139,0.1557104,0.149748,0.1466174,0.1362801,0.1353492,0.1467026,0.1495098,0.1544425,0.1430609,0.1436101,0.1473882,0.1407134,0.1423638,0.1416694,0.1393222,0.1339584,0.1308487,0.1266475,0.1211516,0.1110371,0.1175442,0.1210981,0.1318951,0.1363175,0.1349925,0.1278263,0.1177407,0.1233729],\"type\":\"scatter\"}],                        {\"template\":{\"data\":{\"barpolar\":[{\"marker\":{\"line\":{\"color\":\"#E5ECF6\",\"width\":0.5},\"pattern\":{\"fillmode\":\"overlay\",\"size\":10,\"solidity\":0.2}},\"type\":\"barpolar\"}],\"bar\":[{\"error_x\":{\"color\":\"#2a3f5f\"},\"error_y\":{\"color\":\"#2a3f5f\"},\"marker\":{\"line\":{\"color\":\"#E5ECF6\",\"width\":0.5},\"pattern\":{\"fillmode\":\"overlay\",\"size\":10,\"solidity\":0.2}},\"type\":\"bar\"}],\"carpet\":[{\"aaxis\":{\"endlinecolor\":\"#2a3f5f\",\"gridcolor\":\"white\",\"linecolor\":\"white\",\"minorgridcolor\":\"white\",\"startlinecolor\":\"#2a3f5f\"},\"baxis\":{\"endlinecolor\":\"#2a3f5f\",\"gridcolor\":\"white\",\"linecolor\":\"white\",\"minorgridcolor\":\"white\",\"startlinecolor\":\"#2a3f5f\"},\"type\":\"carpet\"}],\"choropleth\":[{\"colorbar\":{\"outlinewidth\":0,\"ticks\":\"\"},\"type\":\"choropleth\"}],\"contourcarpet\":[{\"colorbar\":{\"outlinewidth\":0,\"ticks\":\"\"},\"type\":\"contourcarpet\"}],\"contour\":[{\"colorbar\":{\"outlinewidth\":0,\"ticks\":\"\"},\"colorscale\":[[0.0,\"#0d0887\"],[0.1111111111111111,\"#46039f\"],[0.2222222222222222,\"#7201a8\"],[0.3333333333333333,\"#9c179e\"],[0.4444444444444444,\"#bd3786\"],[0.5555555555555556,\"#d8576b\"],[0.6666666666666666,\"#ed7953\"],[0.7777777777777778,\"#fb9f3a\"],[0.8888888888888888,\"#fdca26\"],[1.0,\"#f0f921\"]],\"type\":\"contour\"}],\"heatmapgl\":[{\"colorbar\":{\"outlinewidth\":0,\"ticks\":\"\"},\"colorscale\":[[0.0,\"#0d0887\"],[0.1111111111111111,\"#46039f\"],[0.2222222222222222,\"#7201a8\"],[0.3333333333333333,\"#9c179e\"],[0.4444444444444444,\"#bd3786\"],[0.5555555555555556,\"#d8576b\"],[0.6666666666666666,\"#ed7953\"],[0.7777777777777778,\"#fb9f3a\"],[0.8888888888888888,\"#fdca26\"],[1.0,\"#f0f921\"]],\"type\":\"heatmapgl\"}],\"heatmap\":[{\"colorbar\":{\"outlinewidth\":0,\"ticks\":\"\"},\"colorscale\":[[0.0,\"#0d0887\"],[0.1111111111111111,\"#46039f\"],[0.2222222222222222,\"#7201a8\"],[0.3333333333333333,\"#9c179e\"],[0.4444444444444444,\"#bd3786\"],[0.5555555555555556,\"#d8576b\"],[0.6666666666666666,\"#ed7953\"],[0.7777777777777778,\"#fb9f3a\"],[0.8888888888888888,\"#fdca26\"],[1.0,\"#f0f921\"]],\"type\":\"heatmap\"}],\"histogram2dcontour\":[{\"colorbar\":{\"outlinewidth\":0,\"ticks\":\"\"},\"colorscale\":[[0.0,\"#0d0887\"],[0.1111111111111111,\"#46039f\"],[0.2222222222222222,\"#7201a8\"],[0.3333333333333333,\"#9c179e\"],[0.4444444444444444,\"#bd3786\"],[0.5555555555555556,\"#d8576b\"],[0.6666666666666666,\"#ed7953\"],[0.7777777777777778,\"#fb9f3a\"],[0.8888888888888888,\"#fdca26\"],[1.0,\"#f0f921\"]],\"type\":\"histogram2dcontour\"}],\"histogram2d\":[{\"colorbar\":{\"outlinewidth\":0,\"ticks\":\"\"},\"colorscale\":[[0.0,\"#0d0887\"],[0.1111111111111111,\"#46039f\"],[0.2222222222222222,\"#7201a8\"],[0.3333333333333333,\"#9c179e\"],[0.4444444444444444,\"#bd3786\"],[0.5555555555555556,\"#d8576b\"],[0.6666666666666666,\"#ed7953\"],[0.7777777777777778,\"#fb9f3a\"],[0.8888888888888888,\"#fdca26\"],[1.0,\"#f0f921\"]],\"type\":\"histogram2d\"}],\"histogram\":[{\"marker\":{\"pattern\":{\"fillmode\":\"overlay\",\"size\":10,\"solidity\":0.2}},\"type\":\"histogram\"}],\"mesh3d\":[{\"colorbar\":{\"outlinewidth\":0,\"ticks\":\"\"},\"type\":\"mesh3d\"}],\"parcoords\":[{\"line\":{\"colorbar\":{\"outlinewidth\":0,\"ticks\":\"\"}},\"type\":\"parcoords\"}],\"pie\":[{\"automargin\":true,\"type\":\"pie\"}],\"scatter3d\":[{\"line\":{\"colorbar\":{\"outlinewidth\":0,\"ticks\":\"\"}},\"marker\":{\"colorbar\":{\"outlinewidth\":0,\"ticks\":\"\"}},\"type\":\"scatter3d\"}],\"scattercarpet\":[{\"marker\":{\"colorbar\":{\"outlinewidth\":0,\"ticks\":\"\"}},\"type\":\"scattercarpet\"}],\"scattergeo\":[{\"marker\":{\"colorbar\":{\"outlinewidth\":0,\"ticks\":\"\"}},\"type\":\"scattergeo\"}],\"scattergl\":[{\"marker\":{\"colorbar\":{\"outlinewidth\":0,\"ticks\":\"\"}},\"type\":\"scattergl\"}],\"scattermapbox\":[{\"marker\":{\"colorbar\":{\"outlinewidth\":0,\"ticks\":\"\"}},\"type\":\"scattermapbox\"}],\"scatterpolargl\":[{\"marker\":{\"colorbar\":{\"outlinewidth\":0,\"ticks\":\"\"}},\"type\":\"scatterpolargl\"}],\"scatterpolar\":[{\"marker\":{\"colorbar\":{\"outlinewidth\":0,\"ticks\":\"\"}},\"type\":\"scatterpolar\"}],\"scatter\":[{\"fillpattern\":{\"fillmode\":\"overlay\",\"size\":10,\"solidity\":0.2},\"type\":\"scatter\"}],\"scatterternary\":[{\"marker\":{\"colorbar\":{\"outlinewidth\":0,\"ticks\":\"\"}},\"type\":\"scatterternary\"}],\"surface\":[{\"colorbar\":{\"outlinewidth\":0,\"ticks\":\"\"},\"colorscale\":[[0.0,\"#0d0887\"],[0.1111111111111111,\"#46039f\"],[0.2222222222222222,\"#7201a8\"],[0.3333333333333333,\"#9c179e\"],[0.4444444444444444,\"#bd3786\"],[0.5555555555555556,\"#d8576b\"],[0.6666666666666666,\"#ed7953\"],[0.7777777777777778,\"#fb9f3a\"],[0.8888888888888888,\"#fdca26\"],[1.0,\"#f0f921\"]],\"type\":\"surface\"}],\"table\":[{\"cells\":{\"fill\":{\"color\":\"#EBF0F8\"},\"line\":{\"color\":\"white\"}},\"header\":{\"fill\":{\"color\":\"#C8D4E3\"},\"line\":{\"color\":\"white\"}},\"type\":\"table\"}]},\"layout\":{\"annotationdefaults\":{\"arrowcolor\":\"#2a3f5f\",\"arrowhead\":0,\"arrowwidth\":1},\"autotypenumbers\":\"strict\",\"coloraxis\":{\"colorbar\":{\"outlinewidth\":0,\"ticks\":\"\"}},\"colorscale\":{\"diverging\":[[0,\"#8e0152\"],[0.1,\"#c51b7d\"],[0.2,\"#de77ae\"],[0.3,\"#f1b6da\"],[0.4,\"#fde0ef\"],[0.5,\"#f7f7f7\"],[0.6,\"#e6f5d0\"],[0.7,\"#b8e186\"],[0.8,\"#7fbc41\"],[0.9,\"#4d9221\"],[1,\"#276419\"]],\"sequential\":[[0.0,\"#0d0887\"],[0.1111111111111111,\"#46039f\"],[0.2222222222222222,\"#7201a8\"],[0.3333333333333333,\"#9c179e\"],[0.4444444444444444,\"#bd3786\"],[0.5555555555555556,\"#d8576b\"],[0.6666666666666666,\"#ed7953\"],[0.7777777777777778,\"#fb9f3a\"],[0.8888888888888888,\"#fdca26\"],[1.0,\"#f0f921\"]],\"sequentialminus\":[[0.0,\"#0d0887\"],[0.1111111111111111,\"#46039f\"],[0.2222222222222222,\"#7201a8\"],[0.3333333333333333,\"#9c179e\"],[0.4444444444444444,\"#bd3786\"],[0.5555555555555556,\"#d8576b\"],[0.6666666666666666,\"#ed7953\"],[0.7777777777777778,\"#fb9f3a\"],[0.8888888888888888,\"#fdca26\"],[1.0,\"#f0f921\"]]},\"colorway\":[\"#636efa\",\"#EF553B\",\"#00cc96\",\"#ab63fa\",\"#FFA15A\",\"#19d3f3\",\"#FF6692\",\"#B6E880\",\"#FF97FF\",\"#FECB52\"],\"font\":{\"color\":\"#2a3f5f\"},\"geo\":{\"bgcolor\":\"white\",\"lakecolor\":\"white\",\"landcolor\":\"#E5ECF6\",\"showlakes\":true,\"showland\":true,\"subunitcolor\":\"white\"},\"hoverlabel\":{\"align\":\"left\"},\"hovermode\":\"closest\",\"mapbox\":{\"style\":\"light\"},\"paper_bgcolor\":\"white\",\"plot_bgcolor\":\"#E5ECF6\",\"polar\":{\"angularaxis\":{\"gridcolor\":\"white\",\"linecolor\":\"white\",\"ticks\":\"\"},\"bgcolor\":\"#E5ECF6\",\"radialaxis\":{\"gridcolor\":\"white\",\"linecolor\":\"white\",\"ticks\":\"\"}},\"scene\":{\"xaxis\":{\"backgroundcolor\":\"#E5ECF6\",\"gridcolor\":\"white\",\"gridwidth\":2,\"linecolor\":\"white\",\"showbackground\":true,\"ticks\":\"\",\"zerolinecolor\":\"white\"},\"yaxis\":{\"backgroundcolor\":\"#E5ECF6\",\"gridcolor\":\"white\",\"gridwidth\":2,\"linecolor\":\"white\",\"showbackground\":true,\"ticks\":\"\",\"zerolinecolor\":\"white\"},\"zaxis\":{\"backgroundcolor\":\"#E5ECF6\",\"gridcolor\":\"white\",\"gridwidth\":2,\"linecolor\":\"white\",\"showbackground\":true,\"ticks\":\"\",\"zerolinecolor\":\"white\"}},\"shapedefaults\":{\"line\":{\"color\":\"#2a3f5f\"}},\"ternary\":{\"aaxis\":{\"gridcolor\":\"white\",\"linecolor\":\"white\",\"ticks\":\"\"},\"baxis\":{\"gridcolor\":\"white\",\"linecolor\":\"white\",\"ticks\":\"\"},\"bgcolor\":\"#E5ECF6\",\"caxis\":{\"gridcolor\":\"white\",\"linecolor\":\"white\",\"ticks\":\"\"}},\"title\":{\"x\":0.05},\"xaxis\":{\"automargin\":true,\"gridcolor\":\"white\",\"linecolor\":\"white\",\"ticks\":\"\",\"title\":{\"standoff\":15},\"zerolinecolor\":\"white\",\"zerolinewidth\":2},\"yaxis\":{\"automargin\":true,\"gridcolor\":\"white\",\"linecolor\":\"white\",\"ticks\":\"\",\"title\":{\"standoff\":15},\"zerolinecolor\":\"white\",\"zerolinewidth\":2}}},\"title\":{\"text\":\"RMSd during free MD Simulation\"},\"xaxis\":{\"title\":{\"text\":\"Time (ps)\"}},\"yaxis\":{\"title\":{\"text\":\"RMSd (nm)\"}}},                        {\"responsive\": true}                    ).then(function(){\n",
       "                            \n",
       "var gd = document.getElementById('9b0df6bd-ca9d-46a8-8925-b5860eda9130');\n",
       "var x = new MutationObserver(function (mutations, observer) {{\n",
       "        var display = window.getComputedStyle(gd).display;\n",
       "        if (!display || display === 'none') {{\n",
       "            console.log([gd, 'removed!']);\n",
       "            Plotly.purge(gd);\n",
       "            observer.disconnect();\n",
       "        }}\n",
       "}});\n",
       "\n",
       "// Listen for the removal of the full notebook cells\n",
       "var notebookContainer = gd.closest('#notebook-container');\n",
       "if (notebookContainer) {{\n",
       "    x.observe(notebookContainer, {childList: true});\n",
       "}}\n",
       "\n",
       "// Listen for the clearing of the current output cell\n",
       "var outputEl = gd.closest('.output');\n",
       "if (outputEl) {{\n",
       "    x.observe(outputEl, {childList: true});\n",
       "}}\n",
       "\n",
       "                        })                };                });            </script>        </div>"
      ]
     },
     "metadata": {},
     "output_type": "display_data"
    }
   ],
   "source": [
    "import plotly\n",
    "import plotly.graph_objs as go\n",
    "\n",
    "# Read RMS vs experimental structure data from file \n",
    "with open(output_rms_exp,'r') as rms_exp_file:\n",
    "    x2,y2 = map(\n",
    "        list,\n",
    "        zip(*[\n",
    "            (float(line.split()[0]),float(line.split()[1]))\n",
    "            for line in rms_exp_file\n",
    "            if not line.startswith((\"#\",\"@\")) \n",
    "        ])\n",
    "    )\n",
    "\n",
    "trace = go.Scatter(\n",
    "    x = x,\n",
    "    y = y2,\n",
    "    name = 'RMSd vs exp'\n",
    ")\n",
    "\n",
    "plotly.offline.init_notebook_mode(connected=True)\n",
    "\n",
    "fig = {\n",
    "    \"data\": trace,\n",
    "    \"layout\": go.Layout(title=\"RMSd during free MD Simulation\",\n",
    "                        xaxis=dict(title = \"Time (ps)\"),\n",
    "                        yaxis=dict(title = \"RMSd (nm)\")\n",
    "                       )\n",
    "}\n",
    "\n",
    "plotly.offline.iplot(fig)\n"
   ]
  },
  {
   "cell_type": "code",
   "execution_count": 156,
   "metadata": {
    "scrolled": true
   },
   "outputs": [
    {
     "name": "stdout",
     "output_type": "stream",
     "text": [
      "2023-10-02 16:30:12,263 [MainThread  ] [INFO ]  Executing biobb_analysis.gromacs.gmx_rgyr Version: 4.1.0\n",
      "2023-10-02 16:30:12,266 [MainThread  ] [INFO ]  Copy: /Users/hospital/BioBB/Antibody/BioBB/biobb_wf_md_setup/biobb_wf_md_setup/notebooks/3RVT_gppmin.tpr to /Users/hospital/BioBB/Antibody/BioBB/biobb_wf_md_setup/biobb_wf_md_setup/notebooks/cb93be73-9d22-48cd-9bfb-2169a1844f08\n",
      "2023-10-02 16:30:12,269 [MainThread  ] [INFO ]  Copy: /Users/hospital/BioBB/Antibody/BioBB/biobb_wf_md_setup/biobb_wf_md_setup/notebooks/3RVT_imaged_traj_rot.trr to /Users/hospital/BioBB/Antibody/BioBB/biobb_wf_md_setup/biobb_wf_md_setup/notebooks/cb93be73-9d22-48cd-9bfb-2169a1844f08\n",
      "2023-10-02 16:30:12,270 [MainThread  ] [INFO ]  Copy: /Users/hospital/BioBB/Antibody/BioBB/biobb_wf_md_setup/biobb_wf_md_setup/notebooks/d79f90bc-c970-4883-a832-13c5f1396a84.stdin to /Users/hospital/BioBB/Antibody/BioBB/biobb_wf_md_setup/biobb_wf_md_setup/notebooks/cb93be73-9d22-48cd-9bfb-2169a1844f08\n",
      "2023-10-02 16:30:12,271 [MainThread  ] [INFO ]  gmx gyrate -s /Users/hospital/BioBB/Antibody/BioBB/biobb_wf_md_setup/biobb_wf_md_setup/notebooks/cb93be73-9d22-48cd-9bfb-2169a1844f08/3RVT_gppmin.tpr -f /Users/hospital/BioBB/Antibody/BioBB/biobb_wf_md_setup/biobb_wf_md_setup/notebooks/cb93be73-9d22-48cd-9bfb-2169a1844f08/3RVT_imaged_traj_rot.trr -o /Users/hospital/BioBB/Antibody/BioBB/biobb_wf_md_setup/biobb_wf_md_setup/notebooks/cb93be73-9d22-48cd-9bfb-2169a1844f08/3RVT_rgyr.xvg -xvg none < /Users/hospital/BioBB/Antibody/BioBB/biobb_wf_md_setup/biobb_wf_md_setup/notebooks/cb93be73-9d22-48cd-9bfb-2169a1844f08/d79f90bc-c970-4883-a832-13c5f1396a84.stdin\n",
      "\n",
      "2023-10-02 16:30:12,440 [MainThread  ] [INFO ]  Exit code 0\n",
      "\n",
      "2023-10-02 16:30:12,442 [MainThread  ] [INFO ]  Selected 4: 'Backbone'\n",
      "\n",
      "2023-10-02 16:30:12,442 [MainThread  ] [INFO ]                  :-) GROMACS - gmx gyrate, 2022.2-conda_forge (-:\n",
      "\n",
      "Executable:   /opt/anaconda3/envs/biobb_GMX_MDsetup_tutorial_v4.1/bin.SSE2/gmx\n",
      "Data prefix:  /opt/anaconda3/envs/biobb_GMX_MDsetup_tutorial_v4.1\n",
      "Working dir:  /Users/hospital/BioBB/Antibody/BioBB/biobb_wf_md_setup/biobb_wf_md_setup/notebooks\n",
      "Command line:\n",
      "  gmx gyrate -s /Users/hospital/BioBB/Antibody/BioBB/biobb_wf_md_setup/biobb_wf_md_setup/notebooks/cb93be73-9d22-48cd-9bfb-2169a1844f08/3RVT_gppmin.tpr -f /Users/hospital/BioBB/Antibody/BioBB/biobb_wf_md_setup/biobb_wf_md_setup/notebooks/cb93be73-9d22-48cd-9bfb-2169a1844f08/3RVT_imaged_traj_rot.trr -o /Users/hospital/BioBB/Antibody/BioBB/biobb_wf_md_setup/biobb_wf_md_setup/notebooks/cb93be73-9d22-48cd-9bfb-2169a1844f08/3RVT_rgyr.xvg -xvg none\n",
      "\n",
      "Reading file /Users/hospital/BioBB/Antibody/BioBB/biobb_wf_md_setup/biobb_wf_md_setup/notebooks/cb93be73-9d22-48cd-9bfb-2169a1844f08/3RVT_gppmin.tpr, VERSION 2022.2-conda_forge (single precision)\n",
      "Reading file /Users/hospital/BioBB/Antibody/BioBB/biobb_wf_md_setup/biobb_wf_md_setup/notebooks/cb93be73-9d22-48cd-9bfb-2169a1844f08/3RVT_gppmin.tpr, VERSION 2022.2-conda_forge (single precision)\n",
      "Group     0 (         System) has 57593 elements\n",
      "Group     1 (        Protein) has  6664 elements\n",
      "Group     2 (      Protein-H) has  3383 elements\n",
      "Group     3 (        C-alpha) has   435 elements\n",
      "Group     4 (       Backbone) has  1305 elements\n",
      "Group     5 (      MainChain) has  1738 elements\n",
      "Group     6 (   MainChain+Cb) has  2144 elements\n",
      "Group     7 (    MainChain+H) has  2151 elements\n",
      "Group     8 (      SideChain) has  4513 elements\n",
      "Group     9 (    SideChain-H) has  1645 elements\n",
      "Group    10 (    Prot-Masses) has  6664 elements\n",
      "Group    11 (    non-Protein) has 50929 elements\n",
      "Group    12 (          Water) has 50889 elements\n",
      "Group    13 (            SOL) has 50889 elements\n",
      "Group    14 (      non-Water) has  6704 elements\n",
      "Group    15 (            Ion) has    40 elements\n",
      "Group    16 (             NA) has    18 elements\n",
      "Group    17 (             CL) has    22 elements\n",
      "Group    18 ( Water_and_ions) has 50929 elements\n",
      "Select a group: trr version: GMX_trn_file (single precision)\n",
      "Last frame         50 time  100.000   \n",
      "\n",
      "GROMACS reminds you: \"A cop pulls Heisenberg over and asks him 'Do you know how fast you were going?' Heisenberg replies 'No, but I know exactly where I am'. The cop says 'You were doing 55 in a 35 zone'. Heisenberg: 'Great! Now I'm lost!\" (Anonymous)\n",
      "\n",
      "\n",
      "2023-10-02 16:30:12,444 [MainThread  ] [INFO ]  Removed: ['/Users/hospital/BioBB/Antibody/BioBB/biobb_wf_md_setup/biobb_wf_md_setup/notebooks/cb93be73-9d22-48cd-9bfb-2169a1844f08', '/Users/hospital/BioBB/Antibody/BioBB/biobb_wf_md_setup/biobb_wf_md_setup/notebooks/d79f90bc-c970-4883-a832-13c5f1396a84.stdin']\n"
     ]
    },
    {
     "data": {
      "text/plain": [
       "0"
      ]
     },
     "execution_count": 156,
     "metadata": {},
     "output_type": "execute_result"
    }
   ],
   "source": [
    "# GMXRgyr: Computing Radius of Gyration to measure the protein compactness during the free MD simulation \n",
    "\n",
    "from biobb_analysis.gromacs.gmx_rgyr import gmx_rgyr\n",
    "\n",
    "# Create prop dict and inputs/outputs\n",
    "output_rgyr = pdbCode+'_rgyr.xvg'\n",
    "prop = {\n",
    "    'selection':  'Backbone'\n",
    "}\n",
    "\n",
    "# Create and launch bb\n",
    "gmx_rgyr(input_structure_path=output_gppmin_tpr,\n",
    "         input_traj_path=output_imaged_traj_rot,\n",
    "         output_xvg_path=output_rgyr, \n",
    "          properties=prop)"
   ]
  },
  {
   "cell_type": "code",
   "execution_count": 157,
   "metadata": {},
   "outputs": [
    {
     "data": {
      "text/html": [
       "        <script type=\"text/javascript\">\n",
       "        window.PlotlyConfig = {MathJaxConfig: 'local'};\n",
       "        if (window.MathJax && window.MathJax.Hub && window.MathJax.Hub.Config) {window.MathJax.Hub.Config({SVG: {font: \"STIX-Web\"}});}\n",
       "        if (typeof require !== 'undefined') {\n",
       "        require.undef(\"plotly\");\n",
       "        requirejs.config({\n",
       "            paths: {\n",
       "                'plotly': ['https://cdn.plot.ly/plotly-2.26.0.min']\n",
       "            }\n",
       "        });\n",
       "        require(['plotly'], function(Plotly) {\n",
       "            window._Plotly = Plotly;\n",
       "        });\n",
       "        }\n",
       "        </script>\n",
       "        "
      ]
     },
     "metadata": {},
     "output_type": "display_data"
    },
    {
     "data": {
      "application/vnd.plotly.v1+json": {
       "config": {
        "linkText": "Export to plot.ly",
        "plotlyServerURL": "https://plot.ly",
        "showLink": false
       },
       "data": [
        {
         "type": "scatter",
         "x": [
          0,
          2,
          4,
          6,
          8,
          10,
          12,
          14,
          16,
          18,
          20,
          22,
          24,
          26,
          28,
          30,
          32,
          34,
          36,
          38,
          40,
          42,
          44,
          46,
          48,
          50,
          52,
          54,
          56,
          58,
          60,
          62,
          64,
          66,
          68,
          70,
          72,
          74,
          76,
          78,
          80,
          82,
          84,
          86,
          88,
          90,
          92,
          94,
          96,
          98,
          100
         ],
         "y": [
          2.39291,
          2.40365,
          2.41688,
          2.41699,
          2.41231,
          2.40967,
          2.42521,
          2.42692,
          2.42392,
          2.42062,
          2.42626,
          2.43263,
          2.43257,
          2.42434,
          2.41204,
          2.41029,
          2.4144,
          2.41751,
          2.41431,
          2.41492,
          2.4144,
          2.40778,
          2.39821,
          2.40169,
          2.40888,
          2.41145,
          2.41325,
          2.40409,
          2.39926,
          2.39744,
          2.39716,
          2.40107,
          2.41078,
          2.40288,
          2.39977,
          2.4042,
          2.40762,
          2.40876,
          2.41167,
          2.41027,
          2.4135,
          2.41936,
          2.4172,
          2.42156,
          2.4241,
          2.43104,
          2.42843,
          2.42392,
          2.42461,
          2.42882,
          2.43084
         ]
        }
       ],
       "layout": {
        "autosize": true,
        "template": {
         "data": {
          "bar": [
           {
            "error_x": {
             "color": "#2a3f5f"
            },
            "error_y": {
             "color": "#2a3f5f"
            },
            "marker": {
             "line": {
              "color": "#E5ECF6",
              "width": 0.5
             },
             "pattern": {
              "fillmode": "overlay",
              "size": 10,
              "solidity": 0.2
             }
            },
            "type": "bar"
           }
          ],
          "barpolar": [
           {
            "marker": {
             "line": {
              "color": "#E5ECF6",
              "width": 0.5
             },
             "pattern": {
              "fillmode": "overlay",
              "size": 10,
              "solidity": 0.2
             }
            },
            "type": "barpolar"
           }
          ],
          "carpet": [
           {
            "aaxis": {
             "endlinecolor": "#2a3f5f",
             "gridcolor": "white",
             "linecolor": "white",
             "minorgridcolor": "white",
             "startlinecolor": "#2a3f5f"
            },
            "baxis": {
             "endlinecolor": "#2a3f5f",
             "gridcolor": "white",
             "linecolor": "white",
             "minorgridcolor": "white",
             "startlinecolor": "#2a3f5f"
            },
            "type": "carpet"
           }
          ],
          "choropleth": [
           {
            "colorbar": {
             "outlinewidth": 0,
             "ticks": ""
            },
            "type": "choropleth"
           }
          ],
          "contour": [
           {
            "colorbar": {
             "outlinewidth": 0,
             "ticks": ""
            },
            "colorscale": [
             [
              0,
              "#0d0887"
             ],
             [
              0.1111111111111111,
              "#46039f"
             ],
             [
              0.2222222222222222,
              "#7201a8"
             ],
             [
              0.3333333333333333,
              "#9c179e"
             ],
             [
              0.4444444444444444,
              "#bd3786"
             ],
             [
              0.5555555555555556,
              "#d8576b"
             ],
             [
              0.6666666666666666,
              "#ed7953"
             ],
             [
              0.7777777777777778,
              "#fb9f3a"
             ],
             [
              0.8888888888888888,
              "#fdca26"
             ],
             [
              1,
              "#f0f921"
             ]
            ],
            "type": "contour"
           }
          ],
          "contourcarpet": [
           {
            "colorbar": {
             "outlinewidth": 0,
             "ticks": ""
            },
            "type": "contourcarpet"
           }
          ],
          "heatmap": [
           {
            "colorbar": {
             "outlinewidth": 0,
             "ticks": ""
            },
            "colorscale": [
             [
              0,
              "#0d0887"
             ],
             [
              0.1111111111111111,
              "#46039f"
             ],
             [
              0.2222222222222222,
              "#7201a8"
             ],
             [
              0.3333333333333333,
              "#9c179e"
             ],
             [
              0.4444444444444444,
              "#bd3786"
             ],
             [
              0.5555555555555556,
              "#d8576b"
             ],
             [
              0.6666666666666666,
              "#ed7953"
             ],
             [
              0.7777777777777778,
              "#fb9f3a"
             ],
             [
              0.8888888888888888,
              "#fdca26"
             ],
             [
              1,
              "#f0f921"
             ]
            ],
            "type": "heatmap"
           }
          ],
          "heatmapgl": [
           {
            "colorbar": {
             "outlinewidth": 0,
             "ticks": ""
            },
            "colorscale": [
             [
              0,
              "#0d0887"
             ],
             [
              0.1111111111111111,
              "#46039f"
             ],
             [
              0.2222222222222222,
              "#7201a8"
             ],
             [
              0.3333333333333333,
              "#9c179e"
             ],
             [
              0.4444444444444444,
              "#bd3786"
             ],
             [
              0.5555555555555556,
              "#d8576b"
             ],
             [
              0.6666666666666666,
              "#ed7953"
             ],
             [
              0.7777777777777778,
              "#fb9f3a"
             ],
             [
              0.8888888888888888,
              "#fdca26"
             ],
             [
              1,
              "#f0f921"
             ]
            ],
            "type": "heatmapgl"
           }
          ],
          "histogram": [
           {
            "marker": {
             "pattern": {
              "fillmode": "overlay",
              "size": 10,
              "solidity": 0.2
             }
            },
            "type": "histogram"
           }
          ],
          "histogram2d": [
           {
            "colorbar": {
             "outlinewidth": 0,
             "ticks": ""
            },
            "colorscale": [
             [
              0,
              "#0d0887"
             ],
             [
              0.1111111111111111,
              "#46039f"
             ],
             [
              0.2222222222222222,
              "#7201a8"
             ],
             [
              0.3333333333333333,
              "#9c179e"
             ],
             [
              0.4444444444444444,
              "#bd3786"
             ],
             [
              0.5555555555555556,
              "#d8576b"
             ],
             [
              0.6666666666666666,
              "#ed7953"
             ],
             [
              0.7777777777777778,
              "#fb9f3a"
             ],
             [
              0.8888888888888888,
              "#fdca26"
             ],
             [
              1,
              "#f0f921"
             ]
            ],
            "type": "histogram2d"
           }
          ],
          "histogram2dcontour": [
           {
            "colorbar": {
             "outlinewidth": 0,
             "ticks": ""
            },
            "colorscale": [
             [
              0,
              "#0d0887"
             ],
             [
              0.1111111111111111,
              "#46039f"
             ],
             [
              0.2222222222222222,
              "#7201a8"
             ],
             [
              0.3333333333333333,
              "#9c179e"
             ],
             [
              0.4444444444444444,
              "#bd3786"
             ],
             [
              0.5555555555555556,
              "#d8576b"
             ],
             [
              0.6666666666666666,
              "#ed7953"
             ],
             [
              0.7777777777777778,
              "#fb9f3a"
             ],
             [
              0.8888888888888888,
              "#fdca26"
             ],
             [
              1,
              "#f0f921"
             ]
            ],
            "type": "histogram2dcontour"
           }
          ],
          "mesh3d": [
           {
            "colorbar": {
             "outlinewidth": 0,
             "ticks": ""
            },
            "type": "mesh3d"
           }
          ],
          "parcoords": [
           {
            "line": {
             "colorbar": {
              "outlinewidth": 0,
              "ticks": ""
             }
            },
            "type": "parcoords"
           }
          ],
          "pie": [
           {
            "automargin": true,
            "type": "pie"
           }
          ],
          "scatter": [
           {
            "fillpattern": {
             "fillmode": "overlay",
             "size": 10,
             "solidity": 0.2
            },
            "type": "scatter"
           }
          ],
          "scatter3d": [
           {
            "line": {
             "colorbar": {
              "outlinewidth": 0,
              "ticks": ""
             }
            },
            "marker": {
             "colorbar": {
              "outlinewidth": 0,
              "ticks": ""
             }
            },
            "type": "scatter3d"
           }
          ],
          "scattercarpet": [
           {
            "marker": {
             "colorbar": {
              "outlinewidth": 0,
              "ticks": ""
             }
            },
            "type": "scattercarpet"
           }
          ],
          "scattergeo": [
           {
            "marker": {
             "colorbar": {
              "outlinewidth": 0,
              "ticks": ""
             }
            },
            "type": "scattergeo"
           }
          ],
          "scattergl": [
           {
            "marker": {
             "colorbar": {
              "outlinewidth": 0,
              "ticks": ""
             }
            },
            "type": "scattergl"
           }
          ],
          "scattermapbox": [
           {
            "marker": {
             "colorbar": {
              "outlinewidth": 0,
              "ticks": ""
             }
            },
            "type": "scattermapbox"
           }
          ],
          "scatterpolar": [
           {
            "marker": {
             "colorbar": {
              "outlinewidth": 0,
              "ticks": ""
             }
            },
            "type": "scatterpolar"
           }
          ],
          "scatterpolargl": [
           {
            "marker": {
             "colorbar": {
              "outlinewidth": 0,
              "ticks": ""
             }
            },
            "type": "scatterpolargl"
           }
          ],
          "scatterternary": [
           {
            "marker": {
             "colorbar": {
              "outlinewidth": 0,
              "ticks": ""
             }
            },
            "type": "scatterternary"
           }
          ],
          "surface": [
           {
            "colorbar": {
             "outlinewidth": 0,
             "ticks": ""
            },
            "colorscale": [
             [
              0,
              "#0d0887"
             ],
             [
              0.1111111111111111,
              "#46039f"
             ],
             [
              0.2222222222222222,
              "#7201a8"
             ],
             [
              0.3333333333333333,
              "#9c179e"
             ],
             [
              0.4444444444444444,
              "#bd3786"
             ],
             [
              0.5555555555555556,
              "#d8576b"
             ],
             [
              0.6666666666666666,
              "#ed7953"
             ],
             [
              0.7777777777777778,
              "#fb9f3a"
             ],
             [
              0.8888888888888888,
              "#fdca26"
             ],
             [
              1,
              "#f0f921"
             ]
            ],
            "type": "surface"
           }
          ],
          "table": [
           {
            "cells": {
             "fill": {
              "color": "#EBF0F8"
             },
             "line": {
              "color": "white"
             }
            },
            "header": {
             "fill": {
              "color": "#C8D4E3"
             },
             "line": {
              "color": "white"
             }
            },
            "type": "table"
           }
          ]
         },
         "layout": {
          "annotationdefaults": {
           "arrowcolor": "#2a3f5f",
           "arrowhead": 0,
           "arrowwidth": 1
          },
          "autotypenumbers": "strict",
          "coloraxis": {
           "colorbar": {
            "outlinewidth": 0,
            "ticks": ""
           }
          },
          "colorscale": {
           "diverging": [
            [
             0,
             "#8e0152"
            ],
            [
             0.1,
             "#c51b7d"
            ],
            [
             0.2,
             "#de77ae"
            ],
            [
             0.3,
             "#f1b6da"
            ],
            [
             0.4,
             "#fde0ef"
            ],
            [
             0.5,
             "#f7f7f7"
            ],
            [
             0.6,
             "#e6f5d0"
            ],
            [
             0.7,
             "#b8e186"
            ],
            [
             0.8,
             "#7fbc41"
            ],
            [
             0.9,
             "#4d9221"
            ],
            [
             1,
             "#276419"
            ]
           ],
           "sequential": [
            [
             0,
             "#0d0887"
            ],
            [
             0.1111111111111111,
             "#46039f"
            ],
            [
             0.2222222222222222,
             "#7201a8"
            ],
            [
             0.3333333333333333,
             "#9c179e"
            ],
            [
             0.4444444444444444,
             "#bd3786"
            ],
            [
             0.5555555555555556,
             "#d8576b"
            ],
            [
             0.6666666666666666,
             "#ed7953"
            ],
            [
             0.7777777777777778,
             "#fb9f3a"
            ],
            [
             0.8888888888888888,
             "#fdca26"
            ],
            [
             1,
             "#f0f921"
            ]
           ],
           "sequentialminus": [
            [
             0,
             "#0d0887"
            ],
            [
             0.1111111111111111,
             "#46039f"
            ],
            [
             0.2222222222222222,
             "#7201a8"
            ],
            [
             0.3333333333333333,
             "#9c179e"
            ],
            [
             0.4444444444444444,
             "#bd3786"
            ],
            [
             0.5555555555555556,
             "#d8576b"
            ],
            [
             0.6666666666666666,
             "#ed7953"
            ],
            [
             0.7777777777777778,
             "#fb9f3a"
            ],
            [
             0.8888888888888888,
             "#fdca26"
            ],
            [
             1,
             "#f0f921"
            ]
           ]
          },
          "colorway": [
           "#636efa",
           "#EF553B",
           "#00cc96",
           "#ab63fa",
           "#FFA15A",
           "#19d3f3",
           "#FF6692",
           "#B6E880",
           "#FF97FF",
           "#FECB52"
          ],
          "font": {
           "color": "#2a3f5f"
          },
          "geo": {
           "bgcolor": "white",
           "lakecolor": "white",
           "landcolor": "#E5ECF6",
           "showlakes": true,
           "showland": true,
           "subunitcolor": "white"
          },
          "hoverlabel": {
           "align": "left"
          },
          "hovermode": "closest",
          "mapbox": {
           "style": "light"
          },
          "paper_bgcolor": "white",
          "plot_bgcolor": "#E5ECF6",
          "polar": {
           "angularaxis": {
            "gridcolor": "white",
            "linecolor": "white",
            "ticks": ""
           },
           "bgcolor": "#E5ECF6",
           "radialaxis": {
            "gridcolor": "white",
            "linecolor": "white",
            "ticks": ""
           }
          },
          "scene": {
           "xaxis": {
            "backgroundcolor": "#E5ECF6",
            "gridcolor": "white",
            "gridwidth": 2,
            "linecolor": "white",
            "showbackground": true,
            "ticks": "",
            "zerolinecolor": "white"
           },
           "yaxis": {
            "backgroundcolor": "#E5ECF6",
            "gridcolor": "white",
            "gridwidth": 2,
            "linecolor": "white",
            "showbackground": true,
            "ticks": "",
            "zerolinecolor": "white"
           },
           "zaxis": {
            "backgroundcolor": "#E5ECF6",
            "gridcolor": "white",
            "gridwidth": 2,
            "linecolor": "white",
            "showbackground": true,
            "ticks": "",
            "zerolinecolor": "white"
           }
          },
          "shapedefaults": {
           "line": {
            "color": "#2a3f5f"
           }
          },
          "ternary": {
           "aaxis": {
            "gridcolor": "white",
            "linecolor": "white",
            "ticks": ""
           },
           "baxis": {
            "gridcolor": "white",
            "linecolor": "white",
            "ticks": ""
           },
           "bgcolor": "#E5ECF6",
           "caxis": {
            "gridcolor": "white",
            "linecolor": "white",
            "ticks": ""
           }
          },
          "title": {
           "x": 0.05
          },
          "xaxis": {
           "automargin": true,
           "gridcolor": "white",
           "linecolor": "white",
           "ticks": "",
           "title": {
            "standoff": 15
           },
           "zerolinecolor": "white",
           "zerolinewidth": 2
          },
          "yaxis": {
           "automargin": true,
           "gridcolor": "white",
           "linecolor": "white",
           "ticks": "",
           "title": {
            "standoff": 15
           },
           "zerolinecolor": "white",
           "zerolinewidth": 2
          }
         }
        },
        "title": {
         "text": "Radius of Gyration"
        },
        "xaxis": {
         "autorange": true,
         "range": [
          0,
          100
         ],
         "title": {
          "text": "Time (ps)"
         },
         "type": "linear"
        },
        "yaxis": {
         "autorange": true,
         "range": [
          2.3907033333333336,
          2.4348366666666665
         ],
         "title": {
          "text": "Rgyr (nm)"
         },
         "type": "linear"
        }
       }
      },
      "image/png": "[encoded data removed]",
      "text/html": [
       "<div>                            <div id=\"79988542-eb00-4fd8-9679-5ba4fea43bb8\" class=\"plotly-graph-div\" style=\"height:525px; width:100%;\"></div>            <script type=\"text/javascript\">                require([\"plotly\"], function(Plotly) {                    window.PLOTLYENV=window.PLOTLYENV || {};                                    if (document.getElementById(\"79988542-eb00-4fd8-9679-5ba4fea43bb8\")) {                    Plotly.newPlot(                        \"79988542-eb00-4fd8-9679-5ba4fea43bb8\",                        [{\"x\":[0.0,2.0,4.0,6.0,8.0,10.0,12.0,14.0,16.0,18.0,20.0,22.0,24.0,26.0,28.0,30.0,32.0,34.0,36.0,38.0,40.0,42.0,44.0,46.0,48.0,50.0,52.0,54.0,56.0,58.0,60.0,62.0,64.0,66.0,68.0,70.0,72.0,74.0,76.0,78.0,80.0,82.0,84.0,86.0,88.0,90.0,92.0,94.0,96.0,98.0,100.0],\"y\":[2.39291,2.40365,2.41688,2.41699,2.41231,2.40967,2.42521,2.42692,2.42392,2.42062,2.42626,2.43263,2.43257,2.42434,2.41204,2.41029,2.4144,2.41751,2.41431,2.41492,2.4144,2.40778,2.39821,2.40169,2.40888,2.41145,2.41325,2.40409,2.39926,2.39744,2.39716,2.40107,2.41078,2.40288,2.39977,2.4042,2.40762,2.40876,2.41167,2.41027,2.4135,2.41936,2.4172,2.42156,2.4241,2.43104,2.42843,2.42392,2.42461,2.42882,2.43084],\"type\":\"scatter\"}],                        {\"template\":{\"data\":{\"barpolar\":[{\"marker\":{\"line\":{\"color\":\"#E5ECF6\",\"width\":0.5},\"pattern\":{\"fillmode\":\"overlay\",\"size\":10,\"solidity\":0.2}},\"type\":\"barpolar\"}],\"bar\":[{\"error_x\":{\"color\":\"#2a3f5f\"},\"error_y\":{\"color\":\"#2a3f5f\"},\"marker\":{\"line\":{\"color\":\"#E5ECF6\",\"width\":0.5},\"pattern\":{\"fillmode\":\"overlay\",\"size\":10,\"solidity\":0.2}},\"type\":\"bar\"}],\"carpet\":[{\"aaxis\":{\"endlinecolor\":\"#2a3f5f\",\"gridcolor\":\"white\",\"linecolor\":\"white\",\"minorgridcolor\":\"white\",\"startlinecolor\":\"#2a3f5f\"},\"baxis\":{\"endlinecolor\":\"#2a3f5f\",\"gridcolor\":\"white\",\"linecolor\":\"white\",\"minorgridcolor\":\"white\",\"startlinecolor\":\"#2a3f5f\"},\"type\":\"carpet\"}],\"choropleth\":[{\"colorbar\":{\"outlinewidth\":0,\"ticks\":\"\"},\"type\":\"choropleth\"}],\"contourcarpet\":[{\"colorbar\":{\"outlinewidth\":0,\"ticks\":\"\"},\"type\":\"contourcarpet\"}],\"contour\":[{\"colorbar\":{\"outlinewidth\":0,\"ticks\":\"\"},\"colorscale\":[[0.0,\"#0d0887\"],[0.1111111111111111,\"#46039f\"],[0.2222222222222222,\"#7201a8\"],[0.3333333333333333,\"#9c179e\"],[0.4444444444444444,\"#bd3786\"],[0.5555555555555556,\"#d8576b\"],[0.6666666666666666,\"#ed7953\"],[0.7777777777777778,\"#fb9f3a\"],[0.8888888888888888,\"#fdca26\"],[1.0,\"#f0f921\"]],\"type\":\"contour\"}],\"heatmapgl\":[{\"colorbar\":{\"outlinewidth\":0,\"ticks\":\"\"},\"colorscale\":[[0.0,\"#0d0887\"],[0.1111111111111111,\"#46039f\"],[0.2222222222222222,\"#7201a8\"],[0.3333333333333333,\"#9c179e\"],[0.4444444444444444,\"#bd3786\"],[0.5555555555555556,\"#d8576b\"],[0.6666666666666666,\"#ed7953\"],[0.7777777777777778,\"#fb9f3a\"],[0.8888888888888888,\"#fdca26\"],[1.0,\"#f0f921\"]],\"type\":\"heatmapgl\"}],\"heatmap\":[{\"colorbar\":{\"outlinewidth\":0,\"ticks\":\"\"},\"colorscale\":[[0.0,\"#0d0887\"],[0.1111111111111111,\"#46039f\"],[0.2222222222222222,\"#7201a8\"],[0.3333333333333333,\"#9c179e\"],[0.4444444444444444,\"#bd3786\"],[0.5555555555555556,\"#d8576b\"],[0.6666666666666666,\"#ed7953\"],[0.7777777777777778,\"#fb9f3a\"],[0.8888888888888888,\"#fdca26\"],[1.0,\"#f0f921\"]],\"type\":\"heatmap\"}],\"histogram2dcontour\":[{\"colorbar\":{\"outlinewidth\":0,\"ticks\":\"\"},\"colorscale\":[[0.0,\"#0d0887\"],[0.1111111111111111,\"#46039f\"],[0.2222222222222222,\"#7201a8\"],[0.3333333333333333,\"#9c179e\"],[0.4444444444444444,\"#bd3786\"],[0.5555555555555556,\"#d8576b\"],[0.6666666666666666,\"#ed7953\"],[0.7777777777777778,\"#fb9f3a\"],[0.8888888888888888,\"#fdca26\"],[1.0,\"#f0f921\"]],\"type\":\"histogram2dcontour\"}],\"histogram2d\":[{\"colorbar\":{\"outlinewidth\":0,\"ticks\":\"\"},\"colorscale\":[[0.0,\"#0d0887\"],[0.1111111111111111,\"#46039f\"],[0.2222222222222222,\"#7201a8\"],[0.3333333333333333,\"#9c179e\"],[0.4444444444444444,\"#bd3786\"],[0.5555555555555556,\"#d8576b\"],[0.6666666666666666,\"#ed7953\"],[0.7777777777777778,\"#fb9f3a\"],[0.8888888888888888,\"#fdca26\"],[1.0,\"#f0f921\"]],\"type\":\"histogram2d\"}],\"histogram\":[{\"marker\":{\"pattern\":{\"fillmode\":\"overlay\",\"size\":10,\"solidity\":0.2}},\"type\":\"histogram\"}],\"mesh3d\":[{\"colorbar\":{\"outlinewidth\":0,\"ticks\":\"\"},\"type\":\"mesh3d\"}],\"parcoords\":[{\"line\":{\"colorbar\":{\"outlinewidth\":0,\"ticks\":\"\"}},\"type\":\"parcoords\"}],\"pie\":[{\"automargin\":true,\"type\":\"pie\"}],\"scatter3d\":[{\"line\":{\"colorbar\":{\"outlinewidth\":0,\"ticks\":\"\"}},\"marker\":{\"colorbar\":{\"outlinewidth\":0,\"ticks\":\"\"}},\"type\":\"scatter3d\"}],\"scattercarpet\":[{\"marker\":{\"colorbar\":{\"outlinewidth\":0,\"ticks\":\"\"}},\"type\":\"scattercarpet\"}],\"scattergeo\":[{\"marker\":{\"colorbar\":{\"outlinewidth\":0,\"ticks\":\"\"}},\"type\":\"scattergeo\"}],\"scattergl\":[{\"marker\":{\"colorbar\":{\"outlinewidth\":0,\"ticks\":\"\"}},\"type\":\"scattergl\"}],\"scattermapbox\":[{\"marker\":{\"colorbar\":{\"outlinewidth\":0,\"ticks\":\"\"}},\"type\":\"scattermapbox\"}],\"scatterpolargl\":[{\"marker\":{\"colorbar\":{\"outlinewidth\":0,\"ticks\":\"\"}},\"type\":\"scatterpolargl\"}],\"scatterpolar\":[{\"marker\":{\"colorbar\":{\"outlinewidth\":0,\"ticks\":\"\"}},\"type\":\"scatterpolar\"}],\"scatter\":[{\"fillpattern\":{\"fillmode\":\"overlay\",\"size\":10,\"solidity\":0.2},\"type\":\"scatter\"}],\"scatterternary\":[{\"marker\":{\"colorbar\":{\"outlinewidth\":0,\"ticks\":\"\"}},\"type\":\"scatterternary\"}],\"surface\":[{\"colorbar\":{\"outlinewidth\":0,\"ticks\":\"\"},\"colorscale\":[[0.0,\"#0d0887\"],[0.1111111111111111,\"#46039f\"],[0.2222222222222222,\"#7201a8\"],[0.3333333333333333,\"#9c179e\"],[0.4444444444444444,\"#bd3786\"],[0.5555555555555556,\"#d8576b\"],[0.6666666666666666,\"#ed7953\"],[0.7777777777777778,\"#fb9f3a\"],[0.8888888888888888,\"#fdca26\"],[1.0,\"#f0f921\"]],\"type\":\"surface\"}],\"table\":[{\"cells\":{\"fill\":{\"color\":\"#EBF0F8\"},\"line\":{\"color\":\"white\"}},\"header\":{\"fill\":{\"color\":\"#C8D4E3\"},\"line\":{\"color\":\"white\"}},\"type\":\"table\"}]},\"layout\":{\"annotationdefaults\":{\"arrowcolor\":\"#2a3f5f\",\"arrowhead\":0,\"arrowwidth\":1},\"autotypenumbers\":\"strict\",\"coloraxis\":{\"colorbar\":{\"outlinewidth\":0,\"ticks\":\"\"}},\"colorscale\":{\"diverging\":[[0,\"#8e0152\"],[0.1,\"#c51b7d\"],[0.2,\"#de77ae\"],[0.3,\"#f1b6da\"],[0.4,\"#fde0ef\"],[0.5,\"#f7f7f7\"],[0.6,\"#e6f5d0\"],[0.7,\"#b8e186\"],[0.8,\"#7fbc41\"],[0.9,\"#4d9221\"],[1,\"#276419\"]],\"sequential\":[[0.0,\"#0d0887\"],[0.1111111111111111,\"#46039f\"],[0.2222222222222222,\"#7201a8\"],[0.3333333333333333,\"#9c179e\"],[0.4444444444444444,\"#bd3786\"],[0.5555555555555556,\"#d8576b\"],[0.6666666666666666,\"#ed7953\"],[0.7777777777777778,\"#fb9f3a\"],[0.8888888888888888,\"#fdca26\"],[1.0,\"#f0f921\"]],\"sequentialminus\":[[0.0,\"#0d0887\"],[0.1111111111111111,\"#46039f\"],[0.2222222222222222,\"#7201a8\"],[0.3333333333333333,\"#9c179e\"],[0.4444444444444444,\"#bd3786\"],[0.5555555555555556,\"#d8576b\"],[0.6666666666666666,\"#ed7953\"],[0.7777777777777778,\"#fb9f3a\"],[0.8888888888888888,\"#fdca26\"],[1.0,\"#f0f921\"]]},\"colorway\":[\"#636efa\",\"#EF553B\",\"#00cc96\",\"#ab63fa\",\"#FFA15A\",\"#19d3f3\",\"#FF6692\",\"#B6E880\",\"#FF97FF\",\"#FECB52\"],\"font\":{\"color\":\"#2a3f5f\"},\"geo\":{\"bgcolor\":\"white\",\"lakecolor\":\"white\",\"landcolor\":\"#E5ECF6\",\"showlakes\":true,\"showland\":true,\"subunitcolor\":\"white\"},\"hoverlabel\":{\"align\":\"left\"},\"hovermode\":\"closest\",\"mapbox\":{\"style\":\"light\"},\"paper_bgcolor\":\"white\",\"plot_bgcolor\":\"#E5ECF6\",\"polar\":{\"angularaxis\":{\"gridcolor\":\"white\",\"linecolor\":\"white\",\"ticks\":\"\"},\"bgcolor\":\"#E5ECF6\",\"radialaxis\":{\"gridcolor\":\"white\",\"linecolor\":\"white\",\"ticks\":\"\"}},\"scene\":{\"xaxis\":{\"backgroundcolor\":\"#E5ECF6\",\"gridcolor\":\"white\",\"gridwidth\":2,\"linecolor\":\"white\",\"showbackground\":true,\"ticks\":\"\",\"zerolinecolor\":\"white\"},\"yaxis\":{\"backgroundcolor\":\"#E5ECF6\",\"gridcolor\":\"white\",\"gridwidth\":2,\"linecolor\":\"white\",\"showbackground\":true,\"ticks\":\"\",\"zerolinecolor\":\"white\"},\"zaxis\":{\"backgroundcolor\":\"#E5ECF6\",\"gridcolor\":\"white\",\"gridwidth\":2,\"linecolor\":\"white\",\"showbackground\":true,\"ticks\":\"\",\"zerolinecolor\":\"white\"}},\"shapedefaults\":{\"line\":{\"color\":\"#2a3f5f\"}},\"ternary\":{\"aaxis\":{\"gridcolor\":\"white\",\"linecolor\":\"white\",\"ticks\":\"\"},\"baxis\":{\"gridcolor\":\"white\",\"linecolor\":\"white\",\"ticks\":\"\"},\"bgcolor\":\"#E5ECF6\",\"caxis\":{\"gridcolor\":\"white\",\"linecolor\":\"white\",\"ticks\":\"\"}},\"title\":{\"x\":0.05},\"xaxis\":{\"automargin\":true,\"gridcolor\":\"white\",\"linecolor\":\"white\",\"ticks\":\"\",\"title\":{\"standoff\":15},\"zerolinecolor\":\"white\",\"zerolinewidth\":2},\"yaxis\":{\"automargin\":true,\"gridcolor\":\"white\",\"linecolor\":\"white\",\"ticks\":\"\",\"title\":{\"standoff\":15},\"zerolinecolor\":\"white\",\"zerolinewidth\":2}}},\"title\":{\"text\":\"Radius of Gyration\"},\"xaxis\":{\"title\":{\"text\":\"Time (ps)\"}},\"yaxis\":{\"title\":{\"text\":\"Rgyr (nm)\"}}},                        {\"responsive\": true}                    ).then(function(){\n",
       "                            \n",
       "var gd = document.getElementById('79988542-eb00-4fd8-9679-5ba4fea43bb8');\n",
       "var x = new MutationObserver(function (mutations, observer) {{\n",
       "        var display = window.getComputedStyle(gd).display;\n",
       "        if (!display || display === 'none') {{\n",
       "            console.log([gd, 'removed!']);\n",
       "            Plotly.purge(gd);\n",
       "            observer.disconnect();\n",
       "        }}\n",
       "}});\n",
       "\n",
       "// Listen for the removal of the full notebook cells\n",
       "var notebookContainer = gd.closest('#notebook-container');\n",
       "if (notebookContainer) {{\n",
       "    x.observe(notebookContainer, {childList: true});\n",
       "}}\n",
       "\n",
       "// Listen for the clearing of the current output cell\n",
       "var outputEl = gd.closest('.output');\n",
       "if (outputEl) {{\n",
       "    x.observe(outputEl, {childList: true});\n",
       "}}\n",
       "\n",
       "                        })                };                });            </script>        </div>"
      ]
     },
     "metadata": {},
     "output_type": "display_data"
    }
   ],
   "source": [
    "import plotly\n",
    "import plotly.graph_objs as go\n",
    "\n",
    "# Read Rgyr data from file \n",
    "with open(output_rgyr,'r') as rgyr_file:\n",
    "    x,y = map(\n",
    "        list,\n",
    "        zip(*[\n",
    "            (float(line.split()[0]),float(line.split()[1]))\n",
    "            for line in rgyr_file \n",
    "            if not line.startswith((\"#\",\"@\")) \n",
    "        ])\n",
    "    )\n",
    "\n",
    "plotly.offline.init_notebook_mode(connected=True)\n",
    "\n",
    "fig = {\n",
    "    \"data\": [go.Scatter(x=x, y=y)],\n",
    "    \"layout\": go.Layout(title=\"Radius of Gyration\",\n",
    "                        xaxis=dict(title = \"Time (ps)\"),\n",
    "                        yaxis=dict(title = \"Rgyr (nm)\")\n",
    "                       )\n",
    "}\n",
    "\n",
    "plotly.offline.iplot(fig)"
   ]
  },
  {
   "cell_type": "code",
   "execution_count": 212,
   "metadata": {},
   "outputs": [
    {
     "data": {
      "application/vnd.jupyter.widget-view+json": {
       "model_id": "11cd6e4fda5945dd9c465d023e734e15",
       "version_major": 2,
       "version_minor": 0
      },
      "text/plain": [
       "NGLWidget()"
      ]
     },
     "metadata": {},
     "output_type": "display_data"
    }
   ],
   "source": [
    "#r_26_27_28_29_30_31_32_50_51_52_91_92_93_94_95_96_239_240_241_242_243_244_245_246_267_268_269_313_314_315_316_317_318_319_320_321_322\n",
    "loop_residues = [26,27,28,29,30,31,32,50,51,52,91,92,93,94,95,96,239,240,241,242,243,244,245,246,267,268,269,313,314,315,316,317,318,319,320,321,322]\n",
    "ngl_loop_residues = ':' + ' '.join(str(x) for x in loop_residues)\n",
    "\n",
    "view = nglview.show_structure_file(output_dry_gro, default_representation=False)\n",
    "view.add_representation(repr_type='cartoon')\n",
    "#view.add_representation(repr_type='ball+stick', selection=ngl_loop_residues, color='red')\n",
    "view.add_representation(repr_type='ball+stick', selection=\"26 17\", color='red')\n",
    "view.center()\n",
    "view._remote_call('setSize', target='Widget', args=['','600px'])\n",
    "view"
   ]
  },
  {
   "cell_type": "code",
   "execution_count": 205,
   "metadata": {
    "scrolled": true
   },
   "outputs": [
    {
     "name": "stdout",
     "output_type": "stream",
     "text": [
      "r 26 27 28 29 30 31 32 50 51 52 91 92 93 94 95 96 239 240 241 242 243 244 245 246 267 268 269 313 314 315 316 317 318 319 320 321 322\n",
      "r 26 27 28 29 30 31 32 50 51 52 91 92 93 94 95 96 239 240 241 242 243 244 245 246 267 268 269 313 314 315 316 317 318 319 320 321 322\n",
      "name 10 Loop\n",
      "2023-10-02 17:19:50,388 [MainThread  ] [INFO ]  Executing biobb_gromacs.gromacs.make_ndx Version: 4.1.0\n",
      "2023-10-02 17:19:50,391 [MainThread  ] [INFO ]  Copy: 3RVT_md_dry.gro to /Users/hospital/BioBB/Antibody/BioBB/biobb_wf_md_setup/biobb_wf_md_setup/notebooks/015374cf-4276-4c48-b70f-8c26bd0e6d4d\n",
      "2023-10-02 17:19:50,392 [MainThread  ] [INFO ]  Copy: /Users/hospital/BioBB/Antibody/BioBB/biobb_wf_md_setup/biobb_wf_md_setup/notebooks/809cc400-06e6-4d60-9256-36f20ad911ad.stdin to /Users/hospital/BioBB/Antibody/BioBB/biobb_wf_md_setup/biobb_wf_md_setup/notebooks/015374cf-4276-4c48-b70f-8c26bd0e6d4d\n",
      "2023-10-02 17:19:50,392 [MainThread  ] [INFO ]  GROMACS MakeNdx 20222 version detected\n",
      "2023-10-02 17:19:50,393 [MainThread  ] [INFO ]  gmx -nobackup -nocopyright make_ndx -f /Users/hospital/BioBB/Antibody/BioBB/biobb_wf_md_setup/biobb_wf_md_setup/notebooks/015374cf-4276-4c48-b70f-8c26bd0e6d4d/3RVT_md_dry.gro -o /Users/hospital/BioBB/Antibody/BioBB/biobb_wf_md_setup/biobb_wf_md_setup/notebooks/015374cf-4276-4c48-b70f-8c26bd0e6d4d/3RVT_loop.ndx < /Users/hospital/BioBB/Antibody/BioBB/biobb_wf_md_setup/biobb_wf_md_setup/notebooks/015374cf-4276-4c48-b70f-8c26bd0e6d4d/809cc400-06e6-4d60-9256-36f20ad911ad.stdin\n",
      "\n",
      "2023-10-02 17:19:50,452 [MainThread  ] [INFO ]  Exit code 0\n",
      "\n",
      "2023-10-02 17:19:50,454 [MainThread  ] [INFO ]  Going to read 0 old index file(s)\n",
      "Analysing residue names:\n",
      "There are:   435    Protein residues\n",
      "Analysing Protein...\n",
      "\n",
      "  0 System              :  6664 atoms\n",
      "  1 Protein             :  6664 atoms\n",
      "  2 Protein-H           :  3383 atoms\n",
      "  3 C-alpha             :   435 atoms\n",
      "  4 Backbone            :  1305 atoms\n",
      "  5 MainChain           :  1738 atoms\n",
      "  6 MainChain+Cb        :  2144 atoms\n",
      "  7 MainChain+H         :  2151 atoms\n",
      "  8 SideChain           :  4513 atoms\n",
      "  9 SideChain-H         :  1645 atoms\n",
      "\n",
      " nr : group      '!': not  'name' nr name   'splitch' nr    Enter: list groups\n",
      " 'a': atom       '&': and  'del' nr         'splitres' nr   'l': list residues\n",
      " 't': atom type  '|': or   'keep' nr        'splitat' nr    'h': help\n",
      " 'r': residue              'res' nr         'chain' char\n",
      " \"name\": group             'case': case sensitive           'q': save and quit\n",
      " 'ri': residue index\n",
      "\n",
      "> \n",
      "\n",
      " 10 r_26_27_28_29_30_31_32_50_51_52_91_92_93_94_95_96_239_240_241_242_243_244_245_246_267_268_269_313_314_315_316_317_318_319_320_321_322:   495 atoms\n",
      "\n",
      "> \n",
      "\n",
      "> \n",
      "\n",
      "2023-10-02 17:19:50,454 [MainThread  ] [INFO ]                 :-) GROMACS - gmx make_ndx, 2022.2-conda_forge (-:\n",
      "\n",
      "Executable:   /opt/anaconda3/envs/biobb_GMX_MDsetup_tutorial_v4.1/bin.SSE2/gmx\n",
      "Data prefix:  /opt/anaconda3/envs/biobb_GMX_MDsetup_tutorial_v4.1\n",
      "Working dir:  /Users/hospital/BioBB/Antibody/BioBB/biobb_wf_md_setup/biobb_wf_md_setup/notebooks\n",
      "Command line:\n",
      "  gmx -nobackup -nocopyright make_ndx -f /Users/hospital/BioBB/Antibody/BioBB/biobb_wf_md_setup/biobb_wf_md_setup/notebooks/015374cf-4276-4c48-b70f-8c26bd0e6d4d/3RVT_md_dry.gro -o /Users/hospital/BioBB/Antibody/BioBB/biobb_wf_md_setup/biobb_wf_md_setup/notebooks/015374cf-4276-4c48-b70f-8c26bd0e6d4d/3RVT_loop.ndx\n",
      "\n",
      "\n",
      "Reading structure file\n",
      "\n",
      "GROMACS reminds you: \"It's Unacceptable That Chocolate Makes You Fat\" (MI 3)\n",
      "\n",
      "\n",
      "2023-10-02 17:19:50,456 [MainThread  ] [INFO ]  Removed: ['/Users/hospital/BioBB/Antibody/BioBB/biobb_wf_md_setup/biobb_wf_md_setup/notebooks/015374cf-4276-4c48-b70f-8c26bd0e6d4d', '/Users/hospital/BioBB/Antibody/BioBB/biobb_wf_md_setup/biobb_wf_md_setup/notebooks/809cc400-06e6-4d60-9256-36f20ad911ad.stdin']\n"
     ]
    },
    {
     "data": {
      "text/plain": [
       "0"
      ]
     },
     "execution_count": 205,
     "metadata": {},
     "output_type": "execute_result"
    }
   ],
   "source": [
    "from biobb_gromacs.gromacs.make_ndx import make_ndx\n",
    "\n",
    "# Create prop dict and inputs/outputs\n",
    "loop_ndx = pdbCode+'_loop.ndx'\n",
    "\n",
    "select_loop_residues = 'r ' + ' '.join(str(x) for x in loop_residues)\n",
    "\n",
    "index_input = select_loop_residues + '\\nname 10 Loop'\n",
    "\n",
    "print(select_loop_residues)\n",
    "print(index_input)\n",
    "\n",
    "prop = { \n",
    "    'selection': index_input\n",
    "}\n",
    "\n",
    "# Create and launch bb\n",
    "make_ndx(input_structure_path=output_dry_gro,\n",
    "         output_ndx_path=loop_ndx,\n",
    "         properties=prop)"
   ]
  },
  {
   "cell_type": "code",
   "execution_count": 208,
   "metadata": {
    "scrolled": true
   },
   "outputs": [
    {
     "name": "stdout",
     "output_type": "stream",
     "text": [
      "2023-10-02 17:23:35,322 [MainThread  ] [INFO ]  Executing biobb_analysis.gromacs.gmx_cluster Version: 4.1.0\n",
      "2023-10-02 17:23:35,327 [MainThread  ] [INFO ]  Copy: /Users/hospital/BioBB/Antibody/BioBB/biobb_wf_md_setup/biobb_wf_md_setup/notebooks/3RVT_gppmin.tpr to /Users/hospital/BioBB/Antibody/BioBB/biobb_wf_md_setup/biobb_wf_md_setup/notebooks/55823374-a2ba-45f4-9302-a43a58ac1750\n",
      "2023-10-02 17:23:35,330 [MainThread  ] [INFO ]  Copy: /Users/hospital/BioBB/Antibody/BioBB/biobb_wf_md_setup/biobb_wf_md_setup/notebooks/3RVT_imaged_traj_rot.trr to /Users/hospital/BioBB/Antibody/BioBB/biobb_wf_md_setup/biobb_wf_md_setup/notebooks/55823374-a2ba-45f4-9302-a43a58ac1750\n",
      "2023-10-02 17:23:35,331 [MainThread  ] [INFO ]  Copy: /Users/hospital/BioBB/Antibody/BioBB/biobb_wf_md_setup/biobb_wf_md_setup/notebooks/3RVT_loop.ndx to /Users/hospital/BioBB/Antibody/BioBB/biobb_wf_md_setup/biobb_wf_md_setup/notebooks/55823374-a2ba-45f4-9302-a43a58ac1750\n",
      "2023-10-02 17:23:35,333 [MainThread  ] [INFO ]  Copy: /Users/hospital/BioBB/Antibody/BioBB/biobb_wf_md_setup/biobb_wf_md_setup/notebooks/5280606b-62f9-4978-b945-5ad465fa0ce6.stdin to /Users/hospital/BioBB/Antibody/BioBB/biobb_wf_md_setup/biobb_wf_md_setup/notebooks/55823374-a2ba-45f4-9302-a43a58ac1750\n",
      "2023-10-02 17:23:35,333 [MainThread  ] [INFO ]  gmx cluster -g /Users/hospital/BioBB/Antibody/BioBB/biobb_wf_md_setup/biobb_wf_md_setup/notebooks/55823374-a2ba-45f4-9302-a43a58ac1750/cluster.log -dist /Users/hospital/BioBB/Antibody/BioBB/biobb_wf_md_setup/biobb_wf_md_setup/notebooks/55823374-a2ba-45f4-9302-a43a58ac1750/rmsd-dist.xvg -o /Users/hospital/BioBB/Antibody/BioBB/biobb_wf_md_setup/biobb_wf_md_setup/notebooks/55823374-a2ba-45f4-9302-a43a58ac1750/rmsd-clust.xpm -s /Users/hospital/BioBB/Antibody/BioBB/biobb_wf_md_setup/biobb_wf_md_setup/notebooks/55823374-a2ba-45f4-9302-a43a58ac1750/3RVT_gppmin.tpr -f /Users/hospital/BioBB/Antibody/BioBB/biobb_wf_md_setup/biobb_wf_md_setup/notebooks/55823374-a2ba-45f4-9302-a43a58ac1750/3RVT_imaged_traj_rot.trr -cl /Users/hospital/BioBB/Antibody/BioBB/biobb_wf_md_setup/biobb_wf_md_setup/notebooks/55823374-a2ba-45f4-9302-a43a58ac1750/3RVT_clusters.pdb -cutoff 0.1 -method jarvis-patrick -n /Users/hospital/BioBB/Antibody/BioBB/biobb_wf_md_setup/biobb_wf_md_setup/notebooks/55823374-a2ba-45f4-9302-a43a58ac1750/3RVT_loop.ndx -nofit < /Users/hospital/BioBB/Antibody/BioBB/biobb_wf_md_setup/biobb_wf_md_setup/notebooks/55823374-a2ba-45f4-9302-a43a58ac1750/5280606b-62f9-4978-b945-5ad465fa0ce6.stdin\n",
      "\n",
      "2023-10-02 17:23:35,572 [MainThread  ] [INFO ]  Exit code 0\n",
      "\n",
      "2023-10-02 17:23:35,573 [MainThread  ] [INFO ]  Selected 10: 'Loop'\n",
      "Selected 0: 'System'\n",
      "\n",
      "2023-10-02 17:23:35,574 [MainThread  ] [INFO ]                 :-) GROMACS - gmx cluster, 2022.2-conda_forge (-:\n",
      "\n",
      "Executable:   /opt/anaconda3/envs/biobb_GMX_MDsetup_tutorial_v4.1/bin.SSE2/gmx\n",
      "Data prefix:  /opt/anaconda3/envs/biobb_GMX_MDsetup_tutorial_v4.1\n",
      "Working dir:  /Users/hospital/BioBB/Antibody/BioBB/biobb_wf_md_setup/biobb_wf_md_setup/notebooks\n",
      "Command line:\n",
      "  gmx cluster -g /Users/hospital/BioBB/Antibody/BioBB/biobb_wf_md_setup/biobb_wf_md_setup/notebooks/55823374-a2ba-45f4-9302-a43a58ac1750/cluster.log -dist /Users/hospital/BioBB/Antibody/BioBB/biobb_wf_md_setup/biobb_wf_md_setup/notebooks/55823374-a2ba-45f4-9302-a43a58ac1750/rmsd-dist.xvg -o /Users/hospital/BioBB/Antibody/BioBB/biobb_wf_md_setup/biobb_wf_md_setup/notebooks/55823374-a2ba-45f4-9302-a43a58ac1750/rmsd-clust.xpm -s /Users/hospital/BioBB/Antibody/BioBB/biobb_wf_md_setup/biobb_wf_md_setup/notebooks/55823374-a2ba-45f4-9302-a43a58ac1750/3RVT_gppmin.tpr -f /Users/hospital/BioBB/Antibody/BioBB/biobb_wf_md_setup/biobb_wf_md_setup/notebooks/55823374-a2ba-45f4-9302-a43a58ac1750/3RVT_imaged_traj_rot.trr -cl /Users/hospital/BioBB/Antibody/BioBB/biobb_wf_md_setup/biobb_wf_md_setup/notebooks/55823374-a2ba-45f4-9302-a43a58ac1750/3RVT_clusters.pdb -cutoff 0.1 -method jarvis-patrick -n /Users/hospital/BioBB/Antibody/BioBB/biobb_wf_md_setup/biobb_wf_md_setup/notebooks/55823374-a2ba-45f4-9302-a43a58ac1750/3RVT_loop.ndx -nofit\n",
      "\n",
      "Using jarvis-patrick method for clustering\n",
      "Will use P=3, M=10 and RMSD cutoff (0.1) for determining the neighbors\n",
      "\n",
      "Reading file /Users/hospital/BioBB/Antibody/BioBB/biobb_wf_md_setup/biobb_wf_md_setup/notebooks/55823374-a2ba-45f4-9302-a43a58ac1750/3RVT_gppmin.tpr, VERSION 2022.2-conda_forge (single precision)\n",
      "Reading file /Users/hospital/BioBB/Antibody/BioBB/biobb_wf_md_setup/biobb_wf_md_setup/notebooks/55823374-a2ba-45f4-9302-a43a58ac1750/3RVT_gppmin.tpr, VERSION 2022.2-conda_forge (single precision)\n",
      "\n",
      "Select group for least squares fit and RMSD calculation:\n",
      "Group     0 (         System) has  6664 elements\n",
      "Group     1 (        Protein) has  6664 elements\n",
      "Group     2 (      Protein-H) has  3383 elements\n",
      "Group     3 (        C-alpha) has   435 elements\n",
      "Group     4 (       Backbone) has  1305 elements\n",
      "Group     5 (      MainChain) has  1738 elements\n",
      "Group     6 (   MainChain+Cb) has  2144 elements\n",
      "Group     7 (    MainChain+H) has  2151 elements\n",
      "Group     8 (      SideChain) has  4513 elements\n",
      "Group     9 (    SideChain-H) has  1645 elements\n",
      "Group    10 (           Loop) has   495 elements\n",
      "Select a group: \n",
      "Select group for output:\n",
      "Group     0 (         System) has  6664 elements\n",
      "Group     1 (        Protein) has  6664 elements\n",
      "Group     2 (      Protein-H) has  3383 elements\n",
      "Group     3 (        C-alpha) has   435 elements\n",
      "Group     4 (       Backbone) has  1305 elements\n",
      "Group     5 (      MainChain) has  1738 elements\n",
      "Group     6 (   MainChain+Cb) has  2144 elements\n",
      "Group     7 (    MainChain+H) has  2151 elements\n",
      "Group     8 (      SideChain) has  4513 elements\n",
      "Group     9 (    SideChain-H) has  1645 elements\n",
      "Group    10 (           Loop) has   495 elements\n",
      "Select a group: trr version: GMX_trn_file (single precision)\n",
      "Last frame         50 time  100.000   \n",
      "Allocated 4798080 bytes for frames\n",
      "Read 51 frames from trajectory /Users/hospital/BioBB/Antibody/BioBB/biobb_wf_md_setup/biobb_wf_md_setup/notebooks/55823374-a2ba-45f4-9302-a43a58ac1750/3RVT_imaged_traj_rot.trr\n",
      "Computing 51x51 RMS deviation matrix\n",
      "# RMSD calculations left: 0      \n",
      "\n",
      "The RMSD ranges from 0.0606247 to 0.370415 nm\n",
      "Average RMSD is 0.158087\n",
      "Number of structures for matrix 51\n",
      "Energy of the matrix is 0.370685.\n",
      "WARNING: rmsd minimum 0 is below lowest rmsd value 0.0606247\n",
      "Linking structures ***\n",
      "Sorting and renumbering clusters\n",
      "\n",
      "Found 6 clusters\n",
      "\n",
      "Writing middle structure for each cluster to /Users/hospital/BioBB/Antibody/BioBB/biobb_wf_md_setup/biobb_wf_md_setup/notebooks/55823374-a2ba-45f4-9302-a43a58ac1750/3RVT_clusters.pdb\n",
      "Writing rms distance/clustering matrix            1 1 1 1 1 2 2 2 2 2 3 3 3 3 3 4 4 4 4 4 5 5 5 5 5 6 6 6 6 6 7 7 7 7 7 8 8 8 8 8 9 9 9 9 910\n",
      "\n",
      "GROMACS reminds you: \"With a Little Penknife\" (Nick Cave)\n",
      "\n",
      "\n",
      "2023-10-02 17:23:35,578 [MainThread  ] [INFO ]  Removed: ['rmsd-dist.xvg', 'rmsd-clust.xpm', 'cluster.log', '/Users/hospital/BioBB/Antibody/BioBB/biobb_wf_md_setup/biobb_wf_md_setup/notebooks/55823374-a2ba-45f4-9302-a43a58ac1750', '/Users/hospital/BioBB/Antibody/BioBB/biobb_wf_md_setup/biobb_wf_md_setup/notebooks/5280606b-62f9-4978-b945-5ad465fa0ce6.stdin']\n"
     ]
    },
    {
     "data": {
      "text/plain": [
       "0"
      ]
     },
     "execution_count": 208,
     "metadata": {},
     "output_type": "execute_result"
    }
   ],
   "source": [
    "from biobb_analysis.gromacs.gmx_cluster import gmx_cluster\n",
    "\n",
    "output_pdb_cluster = pdbCode+\"_clusters.pdb\"\n",
    "\n",
    "prop = {\n",
    "    'fit_selection': 'Loop',\n",
    "    'output_selection': 'System',\n",
    "#    'method': 'gromos',\n",
    "    'method' : 'jarvis-patrick',\n",
    "    'cutoff' : 0.1,\n",
    "    'nofit' : True\n",
    "    #'remove_tmp' : False\n",
    "}\n",
    "gmx_cluster(input_structure_path=output_gppmin_tpr,\n",
    "            input_traj_path=output_imaged_traj_rot,\n",
    "            input_index_path=loop_ndx,\n",
    "            output_pdb_path=output_pdb_cluster,\n",
    "            properties=prop)"
   ]
  },
  {
   "cell_type": "code",
   "execution_count": 209,
   "metadata": {},
   "outputs": [
    {
     "data": {
      "application/vnd.jupyter.widget-view+json": {
       "model_id": "6b73ee9b60dc49d0ae3e093b985ce6f2",
       "version_major": 2,
       "version_minor": 0
      },
      "text/plain": [
       "NGLWidget()"
      ]
     },
     "metadata": {},
     "output_type": "display_data"
    }
   ],
   "source": [
    "view = nglview.show_structure_file(output_pdb_cluster, default_representation=False)\n",
    "view.clear_representations()\n",
    "view.add_representation(repr_type='cartoon', selection='all', color='modelindex')\n",
    "view.center()\n",
    "view._remote_call('setSize', target='Widget', args=['','600px'])\n",
    "view"
   ]
  },
  {
   "cell_type": "code",
   "execution_count": 214,
   "metadata": {},
   "outputs": [
    {
     "name": "stdout",
     "output_type": "stream",
     "text": [
      "  File \"/Users/hospital/BioBB/Antibody/BioBB/biobb_wf_md_setup/biobb_wf_md_setup/notebooks/scripts/ImmunoPDB.py\", line 175\n",
      "    print 'Warning: Numbering may be incorrect as a missing residue was detected in chain %s (around residue %d%s). Provide the seqres record to overcome this problem.'%(chain.id, chain.child_list[at].id[1], chain.child_list[at].id[2] )\n",
      "    ^^^^^^^^^^^^^^^^^^^^^^^^^^^^^^^^^^^^^^^^^^^^^^^^^^^^^^^^^^^^^^^^^^^^^^^^^^^^^^^^^^^^^^^^^^^^^^^^^^^^^^^^^^^^^^^^^^^^^^^^^^^^^^^^^^^^^^^^^^^^^^^^^^^^^^^^^^^^^^^^^^^^^^^^^^^^^^^^^^^^^^^^^^^^^^^^^^^^^^^^^^^^^^^^^^^^^^^^^^^^^^^^^^^^^^^^\n",
      "SyntaxError: Missing parentheses in call to 'print'. Did you mean print(...)?\n"
     ]
    }
   ],
   "source": [
    "!python scripts/ImmunoPDB.py -i 3RVT.pdb -o 3RVT_ch.pdb --scheme c --rename --splitscfv"
   ]
  },
  {
   "cell_type": "markdown",
   "metadata": {},
   "source": [
    "## Docking the generated structures with HADDOCK"
   ]
  },
  {
   "cell_type": "code",
   "execution_count": null,
   "metadata": {},
   "outputs": [],
   "source": [
    "# copiar del workflow de biobb_wf_haddock"
   ]
  },
  {
   "cell_type": "markdown",
   "metadata": {},
   "source": [
    "### Running HADDOCK3"
   ]
  },
  {
   "cell_type": "code",
   "execution_count": null,
   "metadata": {},
   "outputs": [],
   "source": [
    "from biobb_haddock.haddock.common import read_cfg\n",
    "from haddock.gear.config import load, save"
   ]
  },
  {
   "cell_type": "code",
   "execution_count": 39,
   "metadata": {},
   "outputs": [
    {
     "data": {
      "text/plain": [
       "{'run_dir': PosixPath('run1'),\n",
       " 'mode': 'local',\n",
       " 'ncores': 50,\n",
       " 'postprocess': True,\n",
       " 'clean': True,\n",
       " 'molecules': [PosixPath('pdbs/4G6K_clean.pdb'),\n",
       "  PosixPath('pdbs/4I1B_clean.pdb')],\n",
       " 'topoaa.1': {},\n",
       " 'rigidbody.1': {'ambig_fname': PosixPath('restraints/ambig-paratope-NMR-epitope.tbl'),\n",
       "  'unambig_fname': PosixPath('restraints/antibody-unambig.tbl'),\n",
       "  'sampling': 100},\n",
       " 'caprieval.1': {'reference_fname': PosixPath('pdbs/4G6M_matched.pdb')},\n",
       " 'seletop.1': {'select': 40},\n",
       " 'flexref.1': {'tolerance': 5,\n",
       "  'ambig_fname': PosixPath('restraints/ambig-paratope-NMR-epitope.tbl'),\n",
       "  'unambig_fname': PosixPath('restraints/antibody-unambig.tbl')},\n",
       " 'caprieval.2': {'reference_fname': PosixPath('pdbs/4G6M_matched.pdb')},\n",
       " 'emref.1': {'tolerance': 5,\n",
       "  'ambig_fname': PosixPath('restraints/ambig-paratope-NMR-epitope.tbl'),\n",
       "  'unambig_fname': PosixPath('restraints/antibody-unambig.tbl')},\n",
       " 'caprieval.3': {'reference_fname': PosixPath('pdbs/4G6M_matched.pdb')},\n",
       " 'clustfcc.1': {'plot_matrix': True},\n",
       " 'seletopclusts.1': {'top_models': 4},\n",
       " 'caprieval.4': {'reference_fname': PosixPath('pdbs/4G6M_matched.pdb')},\n",
       " 'contactmap.1': {}}"
      ]
     },
     "execution_count": 39,
     "metadata": {},
     "output_type": "execute_result"
    }
   ],
   "source": [
    "final_cfg = load(haddock_config_path)\n",
    "final_cfg['final_cfg']"
   ]
  },
  {
   "cell_type": "code",
   "execution_count": 21,
   "metadata": {},
   "outputs": [],
   "source": [
    "save(load(wf_config)['final_cfg'], 'output_file_path.cfg')"
   ]
  },
  {
   "cell_type": "code",
   "execution_count": 36,
   "metadata": {},
   "outputs": [
    {
     "name": "stdout",
     "output_type": "stream",
     "text": [
      "2025-05-05 10:38:18,057 [MainThread  ] [INFO ]  Module: biobb_haddock.haddock.haddock3_run Version: 5.0.0\n",
      "2025-05-05 10:38:18,058 [MainThread  ] [INFO ]  /home/rchaves/repo/ab_design/biobb_wf_haddock/sandbox_8cb99d08-da81-4a4f-97e4-91f820d07e3d directory successfully created\n",
      "2025-05-05 10:38:18,059 [MainThread  ] [INFO ]  Copy: ./data/antibody/HADDOCK3-antibody-antigen/pdbs/4G6K_clean.pdb to /home/rchaves/repo/ab_design/biobb_wf_haddock/sandbox_8cb99d08-da81-4a4f-97e4-91f820d07e3d\n",
      "2025-05-05 10:38:18,059 [MainThread  ] [INFO ]  Copy: ./data/antibody/HADDOCK3-antibody-antigen/pdbs/4I1B_clean.pdb to /home/rchaves/repo/ab_design/biobb_wf_haddock/sandbox_8cb99d08-da81-4a4f-97e4-91f820d07e3d\n",
      "2025-05-05 10:38:18,060 [MainThread  ] [INFO ]  Copy: ./data/antibody/HADDOCK3-antibody-antigen/workflows/docking-antibody-antigen.cfg to /home/rchaves/repo/ab_design/biobb_wf_haddock/sandbox_8cb99d08-da81-4a4f-97e4-91f820d07e3d\n",
      "/home/rchaves/repo/ab_design/biobb_wf_haddock/sandbox_8cb99d08-da81-4a4f-97e4-91f820d07e3d/docking-antibody-antigen.cfg\n"
     ]
    },
    {
     "ename": "KeyError",
     "evalue": "'haddock_step_name'",
     "output_type": "error",
     "traceback": [
      "\u001b[0;31m---------------------------------------------------------------------------\u001b[0m",
      "\u001b[0;31mKeyError\u001b[0m                                  Traceback (most recent call last)",
      "Cell \u001b[0;32mIn[36], line 6\u001b[0m\n\u001b[1;32m      3\u001b[0m haddock_config_path        \u001b[38;5;241m=\u001b[39m \u001b[38;5;124mf\u001b[39m\u001b[38;5;124m'\u001b[39m\u001b[38;5;132;01m{\u001b[39;00mhaddock_data\u001b[38;5;132;01m}\u001b[39;00m\u001b[38;5;124mworkflows/docking-antibody-antigen.cfg\u001b[39m\u001b[38;5;124m'\u001b[39m\n\u001b[1;32m      4\u001b[0m output_haddock_wf_data_zip \u001b[38;5;241m=\u001b[39m \u001b[38;5;124mf\u001b[39m\u001b[38;5;124m'\u001b[39m\u001b[38;5;132;01m{\u001b[39;00mout_path\u001b[38;5;132;01m}\u001b[39;00m\u001b[38;5;124mwf.zip\u001b[39m\u001b[38;5;124m'\u001b[39m  \n\u001b[0;32m----> 6\u001b[0m \u001b[43mhaddock3_run\u001b[49m\u001b[43m(\u001b[49m\u001b[43mmol1_input_pdb_path\u001b[49m\u001b[43m  \u001b[49m\u001b[38;5;241;43m=\u001b[39;49m\u001b[43m \u001b[49m\u001b[43mab_clean_pdb\u001b[49m\u001b[43m,\u001b[49m\n\u001b[1;32m      7\u001b[0m \u001b[43m             \u001b[49m\u001b[43mmol2_input_pdb_path\u001b[49m\u001b[43m  \u001b[49m\u001b[38;5;241;43m=\u001b[39;49m\u001b[43m \u001b[49m\u001b[43mag_clean_pdb\u001b[49m\u001b[43m,\u001b[49m\n\u001b[1;32m      8\u001b[0m \u001b[43m             \u001b[49m\u001b[43mhaddock_config_path\u001b[49m\u001b[43m        \u001b[49m\u001b[38;5;241;43m=\u001b[39;49m\u001b[43m \u001b[49m\u001b[43mhaddock_config_path\u001b[49m\u001b[43m,\u001b[49m\n\u001b[1;32m      9\u001b[0m \u001b[43m             \u001b[49m\u001b[43moutput_haddock_wf_data_zip\u001b[49m\u001b[43m \u001b[49m\u001b[38;5;241;43m=\u001b[39;49m\u001b[43m \u001b[49m\u001b[43moutput_haddock_wf_data_zip\u001b[49m\u001b[43m)\u001b[49m\n",
      "File \u001b[0;32m~/repo/biobb_haddock/biobb_haddock/haddock/haddock3_run.py:191\u001b[0m, in \u001b[0;36mhaddock3_run\u001b[0;34m(mol1_input_pdb_path, mol2_input_pdb_path, output_haddock_wf_data_zip, ambig_restraints_table_path, unambig_restraints_table_path, hb_restraints_table_path, haddock_config_path, properties, **kwargs)\u001b[0m\n\u001b[1;32m    177\u001b[0m \u001b[38;5;28;01mdef\u001b[39;00m\u001b[38;5;250m \u001b[39m\u001b[38;5;21mhaddock3_run\u001b[39m(\n\u001b[1;32m    178\u001b[0m     mol1_input_pdb_path: \u001b[38;5;28mstr\u001b[39m,\n\u001b[1;32m    179\u001b[0m     mol2_input_pdb_path: \u001b[38;5;28mstr\u001b[39m,\n\u001b[0;32m   (...)\u001b[0m\n\u001b[1;32m    186\u001b[0m     \u001b[38;5;241m*\u001b[39m\u001b[38;5;241m*\u001b[39mkwargs,\n\u001b[1;32m    187\u001b[0m ) \u001b[38;5;241m-\u001b[39m\u001b[38;5;241m>\u001b[39m \u001b[38;5;28mint\u001b[39m:\n\u001b[1;32m    188\u001b[0m \u001b[38;5;250m    \u001b[39m\u001b[38;5;124;03m\"\"\"Create :class:`Haddock3Run <biobb_haddock.haddock.haddock3_run>` class and\u001b[39;00m\n\u001b[1;32m    189\u001b[0m \u001b[38;5;124;03m    execute the :meth:`launch() <biobb_haddock.haddock.haddock3_run.launch>` method.\"\"\"\u001b[39;00m\n\u001b[0;32m--> 191\u001b[0m     \u001b[38;5;28;01mreturn\u001b[39;00m \u001b[43mHaddock3Run\u001b[49m\u001b[43m(\u001b[49m\n\u001b[1;32m    192\u001b[0m \u001b[43m        \u001b[49m\u001b[43mmol1_input_pdb_path\u001b[49m\u001b[38;5;241;43m=\u001b[39;49m\u001b[43mmol1_input_pdb_path\u001b[49m\u001b[43m,\u001b[49m\n\u001b[1;32m    193\u001b[0m \u001b[43m        \u001b[49m\u001b[43mmol2_input_pdb_path\u001b[49m\u001b[38;5;241;43m=\u001b[39;49m\u001b[43mmol2_input_pdb_path\u001b[49m\u001b[43m,\u001b[49m\n\u001b[1;32m    194\u001b[0m \u001b[43m        \u001b[49m\u001b[43moutput_haddock_wf_data_zip\u001b[49m\u001b[38;5;241;43m=\u001b[39;49m\u001b[43moutput_haddock_wf_data_zip\u001b[49m\u001b[43m,\u001b[49m\n\u001b[1;32m    195\u001b[0m \u001b[43m        \u001b[49m\u001b[43mambig_restraints_table_path\u001b[49m\u001b[38;5;241;43m=\u001b[39;49m\u001b[43mambig_restraints_table_path\u001b[49m\u001b[43m,\u001b[49m\n\u001b[1;32m    196\u001b[0m \u001b[43m        \u001b[49m\u001b[43munambig_restraints_table_path\u001b[49m\u001b[38;5;241;43m=\u001b[39;49m\u001b[43munambig_restraints_table_path\u001b[49m\u001b[43m,\u001b[49m\n\u001b[1;32m    197\u001b[0m \u001b[43m        \u001b[49m\u001b[43mhb_restraints_table_path\u001b[49m\u001b[38;5;241;43m=\u001b[39;49m\u001b[43mhb_restraints_table_path\u001b[49m\u001b[43m,\u001b[49m\n\u001b[1;32m    198\u001b[0m \u001b[43m        \u001b[49m\u001b[43mhaddock_config_path\u001b[49m\u001b[38;5;241;43m=\u001b[39;49m\u001b[43mhaddock_config_path\u001b[49m\u001b[43m,\u001b[49m\n\u001b[1;32m    199\u001b[0m \u001b[43m        \u001b[49m\u001b[43mproperties\u001b[49m\u001b[38;5;241;43m=\u001b[39;49m\u001b[43mproperties\u001b[49m\u001b[43m,\u001b[49m\n\u001b[1;32m    200\u001b[0m \u001b[43m        \u001b[49m\u001b[38;5;241;43m*\u001b[39;49m\u001b[38;5;241;43m*\u001b[39;49m\u001b[43mkwargs\u001b[49m\u001b[43m,\u001b[49m\n\u001b[1;32m    201\u001b[0m \u001b[43m    \u001b[49m\u001b[43m)\u001b[49m\u001b[38;5;241;43m.\u001b[39;49m\u001b[43mlaunch\u001b[49m\u001b[43m(\u001b[49m\u001b[43m)\u001b[49m\n",
      "File \u001b[0;32m~/miniforge3/envs/biobb_haddock/lib/python3.9/site-packages/biobb_common/tools/file_utils.py:381\u001b[0m, in \u001b[0;36mlaunchlogger.<locals>.wrapper_log\u001b[0;34m(*args, **kwargs)\u001b[0m\n\u001b[1;32m    371\u001b[0m     \u001b[38;5;28;01mreturn\u001b[39;00m func(\u001b[38;5;241m*\u001b[39margs, \u001b[38;5;241m*\u001b[39m\u001b[38;5;241m*\u001b[39mkwargs)\n\u001b[1;32m    373\u001b[0m args[\u001b[38;5;241m0\u001b[39m]\u001b[38;5;241m.\u001b[39mout_log, args[\u001b[38;5;241m0\u001b[39m]\u001b[38;5;241m.\u001b[39merr_log \u001b[38;5;241m=\u001b[39m get_logs(\n\u001b[1;32m    374\u001b[0m     path\u001b[38;5;241m=\u001b[39margs[\u001b[38;5;241m0\u001b[39m]\u001b[38;5;241m.\u001b[39mpath,\n\u001b[1;32m    375\u001b[0m     prefix\u001b[38;5;241m=\u001b[39margs[\u001b[38;5;241m0\u001b[39m]\u001b[38;5;241m.\u001b[39mprefix,\n\u001b[0;32m   (...)\u001b[0m\n\u001b[1;32m    379\u001b[0m     err_log_path\u001b[38;5;241m=\u001b[39margs[\u001b[38;5;241m0\u001b[39m]\u001b[38;5;241m.\u001b[39merr_log_path\n\u001b[1;32m    380\u001b[0m )\n\u001b[0;32m--> 381\u001b[0m value \u001b[38;5;241m=\u001b[39m \u001b[43mfunc\u001b[49m\u001b[43m(\u001b[49m\u001b[38;5;241;43m*\u001b[39;49m\u001b[43margs\u001b[49m\u001b[43m,\u001b[49m\u001b[43m \u001b[49m\u001b[38;5;241;43m*\u001b[39;49m\u001b[38;5;241;43m*\u001b[39;49m\u001b[43mkwargs\u001b[49m\u001b[43m)\u001b[49m\n\u001b[1;32m    382\u001b[0m handlers \u001b[38;5;241m=\u001b[39m args[\u001b[38;5;241m0\u001b[39m]\u001b[38;5;241m.\u001b[39mout_log\u001b[38;5;241m.\u001b[39mhandlers[\n\u001b[1;32m    383\u001b[0m     :\n\u001b[1;32m    384\u001b[0m ]  \u001b[38;5;66;03m# Create a copy [:] of the handler list to be able to modify it while we are iterating\u001b[39;00m\n\u001b[1;32m    385\u001b[0m \u001b[38;5;28;01mfor\u001b[39;00m handler \u001b[38;5;129;01min\u001b[39;00m handlers:\n",
      "File \u001b[0;32m~/repo/biobb_haddock/biobb_haddock/haddock/haddock3_run.py:128\u001b[0m, in \u001b[0;36mHaddock3Run.launch\u001b[0;34m(self)\u001b[0m\n\u001b[1;32m    126\u001b[0m \u001b[38;5;66;03m# Create data dir\u001b[39;00m\n\u001b[1;32m    127\u001b[0m cfg_dir \u001b[38;5;241m=\u001b[39m fu\u001b[38;5;241m.\u001b[39mcreate_unique_dir()\n\u001b[0;32m--> 128\u001b[0m \u001b[38;5;28mself\u001b[39m\u001b[38;5;241m.\u001b[39moutput_cfg_path \u001b[38;5;241m=\u001b[39m \u001b[43mcreate_cfg\u001b[49m\u001b[43m(\u001b[49m\n\u001b[1;32m    129\u001b[0m \u001b[43m    \u001b[49m\u001b[43moutput_cfg_path\u001b[49m\u001b[38;5;241;43m=\u001b[39;49m\u001b[38;5;28;43mstr\u001b[39;49m\u001b[43m(\u001b[49m\u001b[43mPath\u001b[49m\u001b[43m(\u001b[49m\u001b[43mcfg_dir\u001b[49m\u001b[43m)\u001b[49m\u001b[38;5;241;43m.\u001b[39;49m\u001b[43mjoinpath\u001b[49m\u001b[43m(\u001b[49m\u001b[38;5;28;43mself\u001b[39;49m\u001b[38;5;241;43m.\u001b[39;49m\u001b[43moutput_cfg_path\u001b[49m\u001b[43m)\u001b[49m\u001b[43m)\u001b[49m\u001b[43m,\u001b[49m\n\u001b[1;32m    130\u001b[0m \u001b[43m    \u001b[49m\u001b[43mworkflow_dict\u001b[49m\u001b[38;5;241;43m=\u001b[39;49m\u001b[43mworkflow_dict\u001b[49m\u001b[43m,\u001b[49m\n\u001b[1;32m    131\u001b[0m \u001b[43m    \u001b[49m\u001b[43minput_cfg_path\u001b[49m\u001b[38;5;241;43m=\u001b[39;49m\u001b[38;5;28;43mself\u001b[39;49m\u001b[38;5;241;43m.\u001b[39;49m\u001b[43mstage_io_dict\u001b[49m\u001b[43m[\u001b[49m\u001b[38;5;124;43m\"\u001b[39;49m\u001b[38;5;124;43min\u001b[39;49m\u001b[38;5;124;43m\"\u001b[39;49m\u001b[43m]\u001b[49m\u001b[38;5;241;43m.\u001b[39;49m\u001b[43mget\u001b[49m\u001b[43m(\u001b[49m\u001b[38;5;124;43m\"\u001b[39;49m\u001b[38;5;124;43mhaddock_config_path\u001b[39;49m\u001b[38;5;124;43m\"\u001b[39;49m\u001b[43m)\u001b[49m\u001b[43m,\u001b[49m\n\u001b[1;32m    132\u001b[0m \u001b[43m    \u001b[49m\u001b[43mcfg_properties_dict\u001b[49m\u001b[38;5;241;43m=\u001b[39;49m\u001b[38;5;28;43mself\u001b[39;49m\u001b[38;5;241;43m.\u001b[39;49m\u001b[43mcfg\u001b[49m\u001b[43m,\u001b[49m\n\u001b[1;32m    133\u001b[0m \u001b[43m\u001b[49m\u001b[43m)\u001b[49m\n\u001b[1;32m    134\u001b[0m \u001b[38;5;28;01mreturn\u001b[39;00m\n\u001b[1;32m    135\u001b[0m \u001b[38;5;28;01mif\u001b[39;00m \u001b[38;5;28mself\u001b[39m\u001b[38;5;241m.\u001b[39mcontainer_path:\n",
      "File \u001b[0;32m~/repo/biobb_haddock/biobb_haddock/haddock/common.py:34\u001b[0m, in \u001b[0;36mcreate_cfg\u001b[0;34m(output_cfg_path, workflow_dict, input_cfg_path, preset_dict, cfg_properties_dict)\u001b[0m\n\u001b[1;32m     31\u001b[0m         \u001b[38;5;28mprint\u001b[39m(\u001b[38;5;124m\"\u001b[39m\u001b[38;5;124mCFG: \u001b[39m\u001b[38;5;124m\"\u001b[39m \u001b[38;5;241m+\u001b[39m \u001b[38;5;28mstr\u001b[39m(v))\n\u001b[1;32m     32\u001b[0m         cfg_dict[k] \u001b[38;5;241m=\u001b[39m v\n\u001b[0;32m---> 34\u001b[0m \u001b[38;5;28;01mreturn\u001b[39;00m \u001b[43mwrite_cfg\u001b[49m\u001b[43m(\u001b[49m\u001b[43moutput_cfg_path\u001b[49m\u001b[43m,\u001b[49m\u001b[43m \u001b[49m\u001b[43mworkflow_dict\u001b[49m\u001b[43m,\u001b[49m\u001b[43m \u001b[49m\u001b[43mcfg_dict\u001b[49m\u001b[43m)\u001b[49m\n",
      "File \u001b[0;32m~/repo/biobb_haddock/biobb_haddock/haddock/common.py:45\u001b[0m, in \u001b[0;36mwrite_cfg\u001b[0;34m(output_cfg_path, workflow_dict, cfg_dict)\u001b[0m\n\u001b[1;32m     43\u001b[0m \u001b[38;5;28;01mif\u001b[39;00m workflow_dict\u001b[38;5;241m.\u001b[39mget(\u001b[38;5;124m\"\u001b[39m\u001b[38;5;124mmolecules\u001b[39m\u001b[38;5;124m\"\u001b[39m):\n\u001b[1;32m     44\u001b[0m     cfg_list\u001b[38;5;241m.\u001b[39mappend(\u001b[38;5;124mf\u001b[39m\u001b[38;5;124m\"\u001b[39m\u001b[38;5;124mmolecules = \u001b[39m\u001b[38;5;132;01m{\u001b[39;00mworkflow_dict[\u001b[38;5;124m'\u001b[39m\u001b[38;5;124mmolecules\u001b[39m\u001b[38;5;124m'\u001b[39m]\u001b[38;5;132;01m}\u001b[39;00m\u001b[38;5;124m\"\u001b[39m)\n\u001b[0;32m---> 45\u001b[0m cfg_list\u001b[38;5;241m.\u001b[39mappend(\u001b[38;5;124mf\u001b[39m\u001b[38;5;124m\"\u001b[39m\u001b[38;5;130;01m\\n\u001b[39;00m\u001b[38;5;124m[\u001b[39m\u001b[38;5;132;01m{\u001b[39;00mworkflow_dict[\u001b[38;5;124m'\u001b[39m\u001b[38;5;124mhaddock_step_name\u001b[39m\u001b[38;5;124m'\u001b[39m]\u001b[38;5;132;01m}\u001b[39;00m\u001b[38;5;124m]\u001b[39m\u001b[38;5;124m\"\u001b[39m)\n\u001b[1;32m     47\u001b[0m \u001b[38;5;28;01mfor\u001b[39;00m k, v \u001b[38;5;129;01min\u001b[39;00m cfg_dict\u001b[38;5;241m.\u001b[39mitems():\n\u001b[1;32m     48\u001b[0m     \u001b[38;5;66;03m# cfg_list.append(k + ' = ' + str(v))\u001b[39;00m\n\u001b[1;32m     49\u001b[0m     \u001b[38;5;28;01mif\u001b[39;00m \u001b[38;5;28misinstance\u001b[39m(v, \u001b[38;5;28mint\u001b[39m):\n",
      "\u001b[0;31mKeyError\u001b[0m: 'haddock_step_name'"
     ]
    }
   ],
   "source": [
    "from biobb_haddock.haddock.haddock3_run import haddock3_run\n",
    "\n",
    "haddock_config_path        = f'{haddock_data}workflows/docking-antibody-antigen.cfg'\n",
    "output_haddock_wf_data_zip = f'{out_path}wf.zip'  \n",
    "\n",
    "haddock3_run(mol1_input_pdb_path  = ab_clean_pdb,\n",
    "             mol2_input_pdb_path  = ag_clean_pdb,\n",
    "             haddock_config_path        = haddock_config_path,\n",
    "             output_haddock_wf_data_zip = output_haddock_wf_data_zip)"
   ]
  },
  {
   "cell_type": "markdown",
   "metadata": {},
   "source": [
    "### Analysis of results"
   ]
  },
  {
   "cell_type": "markdown",
   "metadata": {},
   "source": [
    "## PMX"
   ]
  },
  {
   "cell_type": "code",
   "execution_count": null,
   "metadata": {},
   "outputs": [],
   "source": [
    "# https://mmb.irbbarcelona.org/biobb/workflows/tutorials/biobb_wf_pmx_tutorial\n",
    "# https://github.com/bioexcel/biobb_wf_pmx_tutorial"
   ]
  },
  {
   "cell_type": "markdown",
   "metadata": {},
   "source": [
    "***\n",
    "<a id=\"questions\"></a>\n",
    "\n",
    "## Questions & Comments\n",
    "\n",
    "Questions, issues, suggestions and comments are really welcome!\n",
    "\n",
    "* GitHub issues:\n",
    "    * [https://github.com/bioexcel/biobb](https://github.com/bioexcel/biobb)\n",
    "\n",
    "* BioExcel forum:\n",
    "    * [https://ask.bioexcel.eu/c/BioExcel-Building-Blocks-library](https://ask.bioexcel.eu/c/BioExcel-Building-Blocks-library)\n"
   ]
  }
 ],
 "metadata": {
  "kernelspec": {
   "display_name": "biobb_haddock",
   "language": "python",
   "name": "python3"
  },
  "language_info": {
   "codemirror_mode": {
    "name": "ipython",
    "version": 3
   },
   "file_extension": ".py",
   "mimetype": "text/x-python",
   "name": "python",
   "nbconvert_exporter": "python",
   "pygments_lexer": "ipython3",
   "version": "3.9.21"
  }
 },
 "nbformat": 4,
 "nbformat_minor": 4
}
