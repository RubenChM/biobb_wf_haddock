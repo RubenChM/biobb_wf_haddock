{
 "cells": [
  {
   "cell_type": "code",
   "execution_count": 4,
   "metadata": {},
   "outputs": [
    {
     "data": {
      "application/vnd.jupyter.widget-view+json": {
       "model_id": "409a19dfe4ca4faab9fc3edf8249bfe2",
       "version_major": 2,
       "version_minor": 0
      },
      "text/plain": []
     },
     "metadata": {},
     "output_type": "display_data"
    }
   ],
   "source": [
    "# TO BE REMOVED!!!\n",
    "%load_ext autoreload\n",
    "%autoreload 2\n",
    "import os, shutil\n",
    "import nglview as nv\n",
    "import ipywidgets\n",
    "import zipfile\n",
    "import webbrowser\n",
    "\n",
    "antibody_id = '4G6K'\n",
    "antigen_id  = '4I1B'\n",
    "complex_id  = '4C6M'\n",
    "out_path = 'data/antibody/'"
   ]
  },
  {
   "cell_type": "code",
   "execution_count": 5,
   "metadata": {},
   "outputs": [],
   "source": [
    "# Helpers\n",
    "def def_dict(propierties={}):\n",
    "    def_props = {'out_log_path': 'log/log.log',\n",
    "                 'err_log_path': 'log/log.err',\n",
    "                 'remove_tmp': True,\n",
    "                 'can_write_console_log': True}\n",
    "    def_props.update(propierties)\n",
    "    return def_props\n",
    "\n",
    "def show_pdbs(pdbs, surface=False):\n",
    "    # Load the PDB files\n",
    "    views = [nv.show_file(pdb) for pdb in pdbs]\n",
    "    for view in views:\n",
    "        if surface:\n",
    "            view.clear()\n",
    "            view.add_cartoon(color='black')\n",
    "            view.add_surface(color='electrostatic', opacity=0.5)\n",
    "        view.layout.width = '100%'\n",
    "    return ipywidgets.HBox(views)\n",
    "\n",
    "def display_actpass(pdb, actpass, opacity=1):\n",
    "    with open(actpass, 'r') as file:\n",
    "        actpass = file.read().splitlines()\n",
    "        act_res = actpass[0].replace(' ', ', ')\n",
    "        pas_res = actpass[1].replace(' ', ', ')\n",
    "        \n",
    "    # Load the PDB files\n",
    "    view = nv.NGLWidget()\n",
    "    view.add_component(pdb)\n",
    "    view.clear()\n",
    "    view.add_cartoon(color='black')\n",
    "    view.add_ball_and_stick(color='grey',opacity=opacity)\n",
    "    view.add_surface(selection=f'not ( {pas_res}, {act_res} )', color='white', opacity=opacity)\n",
    "    if act_res != '':\n",
    "        view.add_surface(selection=f'{act_res}', color='red')\n",
    "    if pas_res != '':\n",
    "        view.add_surface(selection=f'{pas_res}', color='green', opacity=opacity)\n",
    "    view.layout.width = '100%'\n",
    "    return view"
   ]
  },
  {
   "cell_type": "markdown",
   "metadata": {},
   "source": [
    "# Antibody use case\n",
    "\n",
    "***\n",
    "This tutorial aims to illustrate the process of \n",
    "***\n"
   ]
  },
  {
   "cell_type": "markdown",
   "metadata": {},
   "source": [
    "## Settings"
   ]
  },
  {
   "cell_type": "markdown",
   "metadata": {},
   "source": [
    "### Biobb modules used\n",
    "\n",
    " - [biobb_io](https://github.com/bioexcel/biobb_io): Tools to fetch biomolecular data from public databases.\n",
    " - [biobb_model](https://github.com/bioexcel/biobb_model): Tools to model macromolecular structures.\n",
    " - [biobb_gromacs](https://github.com/bioexcel/biobb_gromacs): Tools to setup and run Molecular Dynamics simulations.\n",
    " - [biobb_analysis](https://github.com/bioexcel/biobb_analysis): Tools to analyse Molecular Dynamics trajectories.\n",
    " \n",
    "### Auxiliar libraries used\n",
    "\n",
    " - [nb_conda_kernels](https://github.com/Anaconda-Platform/nb_conda_kernels): Enables a Jupyter Notebook or JupyterLab application in one conda environment to access kernels for Python, R, and other languages found in other environments.\n",
    " - [nglview](http://nglviewer.org/#nglview): Jupyter/IPython widget to interactively view molecular structures and trajectories in notebooks.\n",
    " - [ipywidgets](https://github.com/jupyter-widgets/ipywidgets): Interactive HTML widgets for Jupyter notebooks and the IPython kernel.\n",
    " - [plotly](https://plot.ly/python/offline/): Python interactive graphing library integrated in Jupyter notebooks.\n",
    " - [simpletraj](https://github.com/arose/simpletraj): Lightweight coordinate-only trajectory reader based on code from GROMACS, MDAnalysis and VMD.\n",
    "\n",
    "### Conda Installation and Launch\n",
    "\n",
    "```console\n",
    "git clone https://github.com/bioexcel/biobb_wf_md_setup.git\n",
    "cd biobb_wf_md_setup\n",
    "conda env create -f conda_env/environment.yml\n",
    "conda activate biobb_GMX_MDsetup_tutorial\n",
    "jupyter nbextension enable python-markdown/main\n",
    "jupyter-notebook biobb_wf_md_setup/notebooks/biobb_MDsetup_tutorial.ipynb\n",
    "```\n",
    "\n",
    "Please execute the following commands before launching the Jupyter Notebook if you experience some issues with widgets such as NGL View (3D molecular visualization):\n",
    "\n",
    "```console\n",
    "jupyter-nbextension enable --py --user widgetsnbextension\n",
    "jupyter-nbextension enable --py --user nglview\n",
    "```\n",
    "\n",
    "***\n"
   ]
  },
  {
   "cell_type": "markdown",
   "metadata": {},
   "source": [
    "## Pipeline steps"
   ]
  },
  {
   "cell_type": "markdown",
   "metadata": {},
   "source": [
    "\n",
    " 1. [Input Parameters](#input)\n",
    " 2. [Fetching PDB Structure](#fetch)\n",
    " 3. [Fix Protein Structure](#fix)\n",
    " 4. [Create Protein System Topology](#top)\n",
    " 5. [Create Solvent Box](#box)\n",
    " 6. [Fill the Box with Water Molecules](#water)\n",
    " 7. [Adding Ions](#ions)\n",
    " 8. [Energetically Minimize the System](#min)\n",
    " 9. [Equilibrate the System (NVT)](#nvt)\n",
    " 10. [Equilibrate the System (NPT)](#npt)\n",
    " 11. [Free Molecular Dynamics Simulation](#free)\n",
    " 12. [Post-processing and Visualizing Resulting 3D Trajectory](#post)\n",
    " 13. [Output Files](#output)\n",
    " 14. [Questions & Comments](#questions)\n",
    " \n",
    "***\n",
    "<img src=\"https://bioexcel.eu/wp-content/uploads/2019/04/Bioexcell_logo_1080px_transp.png\" alt=\"Bioexcel2 logo\"\n",
    "    title=\"Bioexcel2 logo\" width=\"400\" />\n",
    "***\n"
   ]
  },
  {
   "cell_type": "markdown",
   "metadata": {},
   "source": [
    "## Sampling using ensemble from MD with GROMACS"
   ]
  },
  {
   "cell_type": "code",
   "execution_count": null,
   "metadata": {},
   "outputs": [],
   "source": [
    "# https://mmb.irbbarcelona.org/biobb/workflows/tutorials/biobb_wf_flexdyn ?\n",
    "# https://github.com/bioexcel/biobb_wf_flexdyn\n",
    "# https://github.com/alevil-gmx/workflow_template/blob/main/workflow_template/workshop-template-ab.ipynb"
   ]
  },
  {
   "cell_type": "markdown",
   "metadata": {},
   "source": [
    "<a id=\"input\"></a>\n",
    "### Input parameters\n",
    "**Input parameters** needed:\n",
    " - **pdbCode**: PDB code of the protein structure (e.g. 1AKI)"
   ]
  },
  {
   "cell_type": "code",
   "execution_count": 7,
   "metadata": {},
   "outputs": [],
   "source": [
    "cwd = os.getcwd()\n",
    "MD_dir = out_path+'1_MD/'\n",
    "MD_inp = MD_dir+'input/'\n",
    "os.makedirs(MD_inp, exist_ok=True) \n",
    "pdbCode = \"4G6K\""
   ]
  },
  {
   "cell_type": "markdown",
   "metadata": {},
   "source": [
    "<a id=\"fetch\"></a>\n",
    "***\n",
    "### Fetching PDB structure\n",
    "Downloading **PDB structure** with the **protein molecule** from the RCSB PDB database.<br>\n",
    "Alternatively, a **PDB file** can be used as starting structure. <br>\n",
    "***\n",
    "**Building Blocks** used:\n",
    " - [Pdb](https://biobb-io.readthedocs.io/en/latest/api.html#module-api.pdb) from **biobb_io.api.pdb**\n",
    "***"
   ]
  },
  {
   "cell_type": "code",
   "execution_count": 5,
   "metadata": {},
   "outputs": [
    {
     "name": "stdout",
     "output_type": "stream",
     "text": [
      "2025-05-19 16:20:45,534 [MainThread  ] [INFO ]  Module: biobb_io.api.pdb Version: 5.0.1\n",
      "2025-05-19 16:20:45,534 [MainThread  ] [INFO ]  Downloading 4g6k from: https://www.ebi.ac.uk/pdbe/entry-files/download/pdb4g6k.ent\n",
      "2025-05-19 16:20:45,938 [MainThread  ] [INFO ]  Writting pdb to: data/antibody/1_MD/4G6K.pdb\n",
      "2025-05-19 16:20:45,938 [MainThread  ] [INFO ]  Filtering lines NOT starting with one of these words: ['ATOM', 'MODEL', 'ENDMDL']\n",
      "2025-05-19 16:20:45,944 [MainThread  ] [INFO ]  \n"
     ]
    },
    {
     "data": {
      "text/plain": [
       "0"
      ]
     },
     "execution_count": 5,
     "metadata": {},
     "output_type": "execute_result"
    }
   ],
   "source": [
    "# Downloading desired PDB file \n",
    "# Import module\n",
    "from biobb_io.api.pdb import pdb\n",
    "\n",
    "# Create properties dict and inputs/outputs\n",
    "downloaded_pdb = f'{MD_dir}{pdbCode}.pdb'\n",
    "prop = {\n",
    "    'pdb_code': pdbCode\n",
    "}\n",
    "\n",
    "# Create and launch bb\n",
    "pdb(output_pdb_path=downloaded_pdb,\n",
    "    properties=def_dict(prop))"
   ]
  },
  {
   "cell_type": "markdown",
   "metadata": {},
   "source": [
    "<a id=\"vis3D\"></a>\n",
    "#### Visualizing 3D structure\n",
    "Visualizing the downloaded/given **PDB structure** using **NGL**:    "
   ]
  },
  {
   "cell_type": "code",
   "execution_count": 13,
   "metadata": {},
   "outputs": [
    {
     "data": {
      "application/vnd.jupyter.widget-view+json": {
       "model_id": "9bcc1b51d3004ceca560edda00d8ac7b",
       "version_major": 2,
       "version_minor": 0
      },
      "text/plain": [
       "NGLWidget()"
      ]
     },
     "metadata": {},
     "output_type": "display_data"
    }
   ],
   "source": [
    "# Show protein\n",
    "view = nv.show_structure_file(downloaded_pdb)\n",
    "view.add_representation(repr_type='ball+stick', selection='all')\n",
    "view._remote_call('setSize', target='Widget', args=['','600px'])\n",
    "view"
   ]
  },
  {
   "cell_type": "markdown",
   "metadata": {},
   "source": [
    "<a id=\"fix\"></a>\n",
    "***\n",
    "### Fix protein structure\n",
    "**Checking** and **fixing** (if needed) the protein structure:<br>\n",
    "- **Modeling** **missing side-chain atoms**, modifying incorrect **amide assignments**, choosing **alternative locations**.<br>\n",
    "- **Checking** for missing **backbone atoms**, **heteroatoms**, **modified residues** and possible **atomic clashes**.\n",
    "\n",
    "***\n",
    "**Building Blocks** used:\n",
    " - [FixSideChain](https://biobb-model.readthedocs.io/en/latest/model.html#module-model.fix_side_chain) from **biobb_model.model.fix_side_chain**\n",
    "***"
   ]
  },
  {
   "cell_type": "code",
   "execution_count": 6,
   "metadata": {},
   "outputs": [
    {
     "name": "stdout",
     "output_type": "stream",
     "text": [
      "2025-05-19 16:20:50,662 [MainThread  ] [INFO ]  Module: biobb_model.model.fix_side_chain Version: 5.0.0\n",
      "2025-05-19 16:20:50,663 [MainThread  ] [INFO ]  /home/rchaves/repo/ab_design/biobb_wf_haddock/biobb_wf_haddock/notebooks/sandbox_6721d9c4-8255-4f05-95c6-509413aa75ba directory successfully created\n",
      "2025-05-19 16:20:50,664 [MainThread  ] [INFO ]  Copy: data/antibody/1_MD/4G6K.pdb to /home/rchaves/repo/ab_design/biobb_wf_haddock/biobb_wf_haddock/notebooks/sandbox_6721d9c4-8255-4f05-95c6-509413aa75ba\n",
      "2025-05-19 16:20:50,665 [MainThread  ] [INFO ]  check_structure -i /home/rchaves/repo/ab_design/biobb_wf_haddock/biobb_wf_haddock/notebooks/sandbox_6721d9c4-8255-4f05-95c6-509413aa75ba/4G6K.pdb -o /home/rchaves/repo/ab_design/biobb_wf_haddock/biobb_wf_haddock/notebooks/sandbox_6721d9c4-8255-4f05-95c6-509413aa75ba/4G6K_fixed.pdb --force_save fixside --fix ALL\n",
      "\n",
      "2025-05-19 16:20:50,914 [MainThread  ] [INFO ]  Executing: check_structure -i /home/rchaves/repo/ab_design/biobb_wf_haddock/biobb_wf_haddoc...\n",
      "2025-05-19 16:20:50,915 [MainThread  ] [INFO ]  Exit code: 0\n",
      "2025-05-19 16:20:50,915 [MainThread  ] [INFO ]  ================================================================================\n",
      "=                   BioBB structure checking utility v3.13.5                   =\n",
      "=            P. Andrio, A. Hospital, G. Bayarri, J.L. Gelpi 2018-23            =\n",
      "================================================================================\n",
      "\n",
      "Warning: sequence features may not be available, use --sequence for  external fasta input\n",
      "Structure /home/rchaves/repo/ab_design/biobb_wf_haddock/biobb_wf_haddock/notebooks/sandbox_6721d9c4-8255-4f05-95c6-509413aa75ba/4G6K.pdb loaded\n",
      " PDB id:  \n",
      " Title: \n",
      " Experimental method: unknown\n",
      " Resolution (A): N.A.\n",
      "\n",
      " Num. models: 1\n",
      " Num. chains: 2 (H: Protein, L: Protein)\n",
      " Num. residues:  432\n",
      " Num. residues with ins. codes:  0\n",
      " Num. residues with H atoms: 0\n",
      " Num. HETATM residues:  0\n",
      " Num. ligands or modified residues:  0\n",
      " Num. water mol.:  0\n",
      " Num. atoms:  3291\n",
      "Running fixside. Options: --fix ALL\n",
      "Found no residues with missing or unknown side chain atoms\n",
      "Structure not modified, saving due to --force_save option\n",
      "Final Num. models: 1\n",
      "Final Num. chains: 2 (H: Protein, L: Protein)\n",
      "Final Num. residues:  432\n",
      "Final Num. residues with ins. codes:  0\n",
      "Final Num. residues with H atoms: 0\n",
      "Final Num. HETATM residues:  0\n",
      "Final Num. ligands or modified residues:  0\n",
      "Final Num. water mol.:  0\n",
      "Final Num. atoms:  3291\n",
      "Structure saved on /home/rchaves/repo/ab_design/biobb_wf_haddock/biobb_wf_haddock/notebooks/sandbox_6721d9c4-8255-4f05-95c6-509413aa75ba/4G6K_fixed.pdb\n",
      "\n",
      "2025-05-19 16:20:50,916 [MainThread  ] [INFO ]  Removed: ['/home/rchaves/repo/ab_design/biobb_wf_haddock/biobb_wf_haddock/notebooks/sandbox_6721d9c4-8255-4f05-95c6-509413aa75ba']\n",
      "2025-05-19 16:20:50,917 [MainThread  ] [INFO ]  \n"
     ]
    },
    {
     "data": {
      "text/plain": [
       "0"
      ]
     },
     "execution_count": 6,
     "metadata": {},
     "output_type": "execute_result"
    }
   ],
   "source": [
    "# Check & Fix PDB\n",
    "# Import module\n",
    "from biobb_model.model.fix_side_chain import fix_side_chain\n",
    "\n",
    "# Create prop dict and inputs/outputs\n",
    "fixed_pdb = f'{MD_dir}{pdbCode}_fixed.pdb'\n",
    "\n",
    "# Create and launch bb\n",
    "fix_side_chain(input_pdb_path=downloaded_pdb, \n",
    "               output_pdb_path=fixed_pdb,\n",
    "               properties=def_dict())"
   ]
  },
  {
   "cell_type": "markdown",
   "metadata": {},
   "source": [
    "#### Visualizing 3D structure\n",
    "Visualizing the fixed **PDB structure** using **NGL**. In this particular example, the checking step didn't find any issue to be solved, so there is no difference between the original structure and the fixed one.   "
   ]
  },
  {
   "cell_type": "code",
   "execution_count": 7,
   "metadata": {},
   "outputs": [
    {
     "data": {
      "application/vnd.jupyter.widget-view+json": {
       "model_id": "a8c1e38fff644436a1f1472ab54651d9",
       "version_major": 2,
       "version_minor": 0
      },
      "text/plain": [
       "NGLWidget()"
      ]
     },
     "metadata": {},
     "output_type": "display_data"
    }
   ],
   "source": [
    "# Show protein\n",
    "view = nv.show_structure_file(fixed_pdb)\n",
    "view.add_representation(repr_type='ball+stick', selection='all')\n",
    "view._remote_call('setSize', target='Widget', args=['','600px'])\n",
    "view.camera='orthographic'\n",
    "view"
   ]
  },
  {
   "cell_type": "markdown",
   "metadata": {},
   "source": [
    "<a id=\"top\"></a>\n",
    "***\n",
    "### Create protein system topology\n",
    "**Building GROMACS topology** corresponding to the protein structure.<br>\n",
    "Force field used in this tutorial is [**amber99sb-ildn**](https://dx.doi.org/10.1002%2Fprot.22711): AMBER **parm99** force field with **corrections on backbone** (sb) and **side-chain torsion potentials** (ildn). Water molecules type used in this tutorial is [**spc/e**](https://pubs.acs.org/doi/abs/10.1021/j100308a038).<br>\n",
    "Adding **hydrogen atoms** if missing. Automatically identifying **disulfide bridges**. <br>\n",
    "\n",
    "Generating two output files: \n",
    "- **GROMACS structure** (gro file)\n",
    "- **GROMACS topology** ZIP compressed file containing:\n",
    "    - *GROMACS topology top file* (top file)\n",
    "    - *GROMACS position restraint file/s* (itp file/s)\n",
    "***\n",
    "**Building Blocks** used:\n",
    " - [Pdb2gmx](https://biobb-md.readthedocs.io/en/latest/gromacs.html#module-gromacs.pdb2gmx) from **biobb_gromacs.gromacs.pdb2gmx**\n",
    "***"
   ]
  },
  {
   "cell_type": "code",
   "execution_count": 8,
   "metadata": {},
   "outputs": [
    {
     "name": "stdout",
     "output_type": "stream",
     "text": [
      "  % Total    % Received % Xferd  Average Speed   Time    Time     Time  Current\n",
      "                                 Dload  Upload   Total   Spent    Left  Speed\n",
      "100  586k  100  586k    0     0   119k      0  0:00:04  0:00:04 --:--:--  125k\n",
      "charmm36-jul2017.ff/\n",
      "charmm36-jul2017.ff/spc.itp\n",
      "charmm36-jul2017.ff/ffbonded.itp\n",
      "charmm36-jul2017.ff/merged.rtp\n",
      "charmm36-jul2017.ff/nbfix.itp\n",
      "charmm36-jul2017.ff/gb.itp\n",
      "charmm36-jul2017.ff/forcefield.doc\n",
      "charmm36-jul2017.ff/merged.hdb\n",
      "charmm36-jul2017.ff/ions.itp\n",
      "charmm36-jul2017.ff/merged.arn\n",
      "charmm36-jul2017.ff/merged.vsd\n",
      "charmm36-jul2017.ff/spce.itp\n",
      "charmm36-jul2017.ff/old_c36_cmap.itp\n",
      "charmm36-jul2017.ff/ffnonbonded.itp\n",
      "charmm36-jul2017.ff/atomtypes.atp\n",
      "charmm36-jul2017.ff/merged.c.tdb\n",
      "charmm36-jul2017.ff/forcefield.itp\n",
      "charmm36-jul2017.ff/watermodels.dat\n",
      "charmm36-jul2017.ff/tip4p.itp\n",
      "charmm36-jul2017.ff/cmap.itp\n",
      "charmm36-jul2017.ff/merged.n.tdb\n",
      "charmm36-jul2017.ff/tip3p.itp\n",
      "charmm36-jul2017.ff/merged.r2b\n"
     ]
    }
   ],
   "source": [
    "# Downloading CHARMM36 FF\n",
    "!curl  -o {MD_inp}charmm36-jul2017.ff.tgz https://mackerell.umaryland.edu/download.php?filename=CHARMM_ff_params_files/charmm36-jul2017.ff.tgz\n",
    "# Unzip CHARMM36 FF\n",
    "!tar -xvzf {MD_inp}charmm36-jul2017.ff.tgz -C {MD_inp}"
   ]
  },
  {
   "cell_type": "code",
   "execution_count": 12,
   "metadata": {},
   "outputs": [
    {
     "name": "stdout",
     "output_type": "stream",
     "text": [
      "2025-05-19 16:22:50,532 [MainThread  ] [INFO ]  Module: biobb_gromacs.gromacs.pdb2gmx Version: 5.0.0\n",
      "2025-05-19 16:22:50,532 [MainThread  ] [INFO ]  /home/rchaves/repo/ab_design/biobb_wf_haddock/biobb_wf_haddock/notebooks/sandbox_e7614182-e452-435c-bead-25fcc027d9c1 directory successfully created\n",
      "2025-05-19 16:22:50,533 [MainThread  ] [INFO ]  Copy: data/antibody/1_MD/4G6K_fixed.pdb to /home/rchaves/repo/ab_design/biobb_wf_haddock/biobb_wf_haddock/notebooks/sandbox_e7614182-e452-435c-bead-25fcc027d9c1\n",
      "2025-05-19 16:22:50,533 [MainThread  ] [INFO ]  gmx -nobackup -nocopyright pdb2gmx -f /home/rchaves/repo/ab_design/biobb_wf_haddock/biobb_wf_haddock/notebooks/sandbox_e7614182-e452-435c-bead-25fcc027d9c1/4G6K_fixed.pdb -o /home/rchaves/repo/ab_design/biobb_wf_haddock/biobb_wf_haddock/notebooks/sandbox_e7614182-e452-435c-bead-25fcc027d9c1/4G6K__pdb2gmx.gro -p p2g.top -water tip3p -ff charmm36-jul2017 -i posre.itp\n",
      "\n",
      "2025-05-19 16:22:51,144 [MainThread  ] [INFO ]  Executing: gmx -nobackup -nocopyright pdb2gmx -f /home/rchaves/repo/ab_design/biobb_wf_hadd...\n",
      "2025-05-19 16:22:51,144 [MainThread  ] [INFO ]  Exit code: 0\n",
      "2025-05-19 16:22:51,145 [MainThread  ] [INFO ]  Using the Charmm36-jul2017 force field in directory /home/rchaves/repo/ab_design/biobb_wf_haddock/biobb_wf_haddock/notebooks/data/antibody/1_MD/input//charmm36-jul2017.ff\n",
      "\n",
      "going to rename /home/rchaves/repo/ab_design/biobb_wf_haddock/biobb_wf_haddock/notebooks/data/antibody/1_MD/input//charmm36-jul2017.ff/merged.r2b\n",
      "Reading /home/rchaves/repo/ab_design/biobb_wf_haddock/biobb_wf_haddock/notebooks/sandbox_e7614182-e452-435c-bead-25fcc027d9c1/4G6K_fixed.pdb...\n",
      "Read '', 3291 atoms\n",
      "\n",
      "Analyzing pdb file\n",
      "Splitting chemical chains based on TER records or chain id changing.\n",
      "\n",
      "There are 2 chains and 0 blocks of water and 432 residues with 3291 atoms\n",
      "\n",
      "  chain  #res #atoms\n",
      "\n",
      "  1 'H'   220   1649  \n",
      "\n",
      "  2 'L'   212   1642  \n",
      "\n",
      "there were 70 atoms with zero occupancy and 0 atoms with          occupancy unequal to one (out of 3291 atoms). Check your pdb file.\n",
      "\n",
      "Reading residue database... (Charmm36-jul2017)\n",
      "\n",
      "Processing chain 1 'H' (1649 atoms, 220 residues)\n",
      "\n",
      "Identified residue GLN1 as a starting terminus.\n",
      "\n",
      "Identified residue PRO220 as a ending terminus.\n",
      "Start terminus GLN-1: NH3+\n",
      "End terminus PRO-220: COO-\n",
      "\n",
      "Checking for duplicate atoms....\n",
      "\n",
      "Generating any missing hydrogen atoms and/or adding termini.\n",
      "\n",
      "Now there are 220 residues with 3272 atoms\n",
      "Chain time...\n",
      "\n",
      "Making bonds...\n",
      "\n",
      "Number of bonds was 3318, now 3318\n",
      "\n",
      "Generating angles, dihedrals and pairs...\n",
      "\n",
      "Making cmap torsions...\n",
      "\n",
      "There are  218 cmap torsion pairs\n",
      "\n",
      "There are 8857 dihedrals,  549 impropers, 6001 angles\n",
      "          8672 pairs,     3318 bonds and     0 virtual sites\n",
      "\n",
      "Total mass 23400.367 a.m.u.\n",
      "\n",
      "Total charge 4.000 e\n",
      "\n",
      "Writing topology\n",
      "\n",
      "Processing chain 2 'L' (1642 atoms, 212 residues)\n",
      "\n",
      "Identified residue ASP1 as a starting terminus.\n",
      "\n",
      "Identified residue GLY212 as a ending terminus.\n",
      "Start terminus ASP-1: NH3+\n",
      "End terminus GLY-212: COO-\n",
      "\n",
      "Checking for duplicate atoms....\n",
      "\n",
      "Generating any missing hydrogen atoms and/or adding termini.\n",
      "\n",
      "Now there are 212 residues with 3253 atoms\n",
      "Chain time...\n",
      "\n",
      "Making bonds...\n",
      "\n",
      "Number of bonds was 3289, now 3289\n",
      "\n",
      "Generating angles, dihedrals and pairs...\n",
      "\n",
      "Making cmap torsions...\n",
      "\n",
      "There are  210 cmap torsion pairs\n",
      "\n",
      "There are 8714 dihedrals,  561 impropers, 5926 angles\n",
      "          8581 pairs,     3289 bonds and     0 virtual sites\n",
      "\n",
      "Total mass 23346.175 a.m.u.\n",
      "\n",
      "Total charge 3.000 e\n",
      "\n",
      "Writing topology\n",
      "\n",
      "Including chain 1 in system: 3272 atoms 220 residues\n",
      "\n",
      "Including chain 2 in system: 3253 atoms 212 residues\n",
      "\n",
      "Now there are 6525 atoms and 432 residues\n",
      "\n",
      "Total mass in system 46746.543 a.m.u.\n",
      "\n",
      "Total charge in system 7.000 e\n",
      "\n",
      "Writing coordinate file...\n",
      "\n",
      "\t\t--------- PLEASE NOTE ------------\n",
      "\n",
      "You have successfully generated a topology from: /home/rchaves/repo/ab_design/biobb_wf_haddock/biobb_wf_haddock/notebooks/sandbox_e7614182-e452-435c-bead-25fcc027d9c1/4G6K_fixed.pdb.\n",
      "\n",
      "The Charmm36-jul2017 force field and the tip3p water model are used.\n",
      "\n",
      "\t\t--------- ETON ESAELP ------------\n",
      "\n",
      "2025-05-19 16:22:51,145 [MainThread  ] [INFO ]                 :-) GROMACS - gmx pdb2gmx, 2022.2-conda_forge (-:\n",
      "\n",
      "Executable:   /home/rchaves/miniforge3/envs/biobb_wf_antibody/bin.AVX2_256/gmx\n",
      "Data prefix:  /home/rchaves/miniforge3/envs/biobb_wf_antibody\n",
      "Working dir:  /home/rchaves/repo/ab_design/biobb_wf_haddock/biobb_wf_haddock/notebooks\n",
      "Command line:\n",
      "  gmx -nobackup -nocopyright pdb2gmx -f /home/rchaves/repo/ab_design/biobb_wf_haddock/biobb_wf_haddock/notebooks/sandbox_e7614182-e452-435c-bead-25fcc027d9c1/4G6K_fixed.pdb -o /home/rchaves/repo/ab_design/biobb_wf_haddock/biobb_wf_haddock/notebooks/sandbox_e7614182-e452-435c-bead-25fcc027d9c1/4G6K__pdb2gmx.gro -p p2g.top -water tip3p -ff charmm36-jul2017 -i posre.itp\n",
      "\n",
      "Opening force field file /home/rchaves/repo/ab_design/biobb_wf_haddock/biobb_wf_haddock/notebooks/data/antibody/1_MD/input//charmm36-jul2017.ff/merged.r2b\n",
      "there were 70 atoms with zero occupancy and 0 atoms with          occupancy unequal to one (out of 3291 atoms). Check your pdb file.\n",
      "Opening force field file /home/rchaves/repo/ab_design/biobb_wf_haddock/biobb_wf_haddock/notebooks/data/antibody/1_MD/input//charmm36-jul2017.ff/atomtypes.atp\n",
      "Opening force field file /home/rchaves/repo/ab_design/biobb_wf_haddock/biobb_wf_haddock/notebooks/data/antibody/1_MD/input//charmm36-jul2017.ff/merged.rtp\n",
      "Opening force field file /home/rchaves/repo/ab_design/biobb_wf_haddock/biobb_wf_haddock/notebooks/data/antibody/1_MD/input//charmm36-jul2017.ff/merged.hdb\n",
      "Opening force field file /home/rchaves/repo/ab_design/biobb_wf_haddock/biobb_wf_haddock/notebooks/data/antibody/1_MD/input//charmm36-jul2017.ff/merged.n.tdb\n",
      "Opening force field file /home/rchaves/repo/ab_design/biobb_wf_haddock/biobb_wf_haddock/notebooks/data/antibody/1_MD/input//charmm36-jul2017.ff/merged.c.tdb\n",
      "Analysing hydrogen-bonding network for automated assignment of histidine\n",
      " protonation. 338 donors and 324 acceptors were found.\n",
      "There are 538 hydrogen bonds\n",
      "Will use HISE for residue 52\n",
      "Will use HISE for residue 171\n",
      "Will use HISE for residue 207\n",
      "8 out of 8 lines of specbond.dat converted successfully\n",
      "Special Atom Distance matrix:\n",
      "                   CYS22   MET34   HIS52   CYS97  CYS147  HIS171  CYS203\n",
      "                   SG160   SD242  NE2384   SG738  SG1098 NE21282  SG1512\n",
      "   MET34   SD242   1.150\n",
      "   HIS52  NE2384   1.100   0.868\n",
      "   CYS97   SG738   0.205   1.239   1.129\n",
      "  CYS147  SG1098   3.398   4.328   4.322   3.268\n",
      "  HIS171 NE21282   3.229   3.887   3.872   3.053   1.548\n",
      "  CYS203  SG1512   3.256   4.191   4.204   3.135   0.203   1.613\n",
      "  HIS207 NE21545   2.473   3.596   3.381   2.370   1.627   2.438   1.532\n",
      "                \n",
      "                \n",
      "Linking CYS-22 SG-160 and CYS-97 SG-738...\n",
      "Linking CYS-147 SG-1098 and CYS-203 SG-1512...\n",
      "Opening force field file /home/rchaves/repo/ab_design/biobb_wf_haddock/biobb_wf_haddock/notebooks/data/antibody/1_MD/input//charmm36-jul2017.ff/merged.arn\n",
      "Before cleaning: 8732 pairs\n",
      "Before cleaning: 8857 dihedrals\n",
      "Analysing hydrogen-bonding network for automated assignment of histidine\n",
      " protonation. 336 donors and 330 acceptors were found.\n",
      "There are 537 hydrogen bonds\n",
      "Will use HISE for residue 55\n",
      "Will use HISE for residue 189\n",
      "Will use HISE for residue 198\n",
      "8 out of 8 lines of specbond.dat converted successfully\n",
      "Special Atom Distance matrix:\n",
      "                    MET4   CYS23   HIS55   CYS88   MET93  CYS134  HIS189\n",
      "                    SD32   SG164  NE2433   SG679   SD716  SG1027 NE21467\n",
      "   CYS23   SG164   0.481\n",
      "   HIS55  NE2433   2.086   1.904\n",
      "   CYS88   SG679   0.538   0.205   1.792\n",
      "   MET93   SD716   1.068   1.537   2.652   1.583\n",
      "  CYS134  SG1027   4.416   4.128   4.220   3.980   5.299\n",
      "  HIS189 NE21467   5.631   5.445   5.751   5.297   6.358   1.824\n",
      "  CYS194  SG1506   4.471   4.185   4.357   4.043   5.356   0.203   1.716\n",
      "  HIS198 NE21539   3.649   3.276   3.578   3.168   4.651   1.308   2.971\n",
      "                  CYS194\n",
      "                  SG1506\n",
      "  HIS198 NE21539   1.324\n",
      "Linking CYS-23 SG-164 and CYS-88 SG-679...\n",
      "Linking CYS-134 SG-1027 and CYS-194 SG-1506...\n",
      "Opening force field file /home/rchaves/repo/ab_design/biobb_wf_haddock/biobb_wf_haddock/notebooks/data/antibody/1_MD/input//charmm36-jul2017.ff/merged.arn\n",
      "Before cleaning: 8644 pairs\n",
      "Before cleaning: 8714 dihedrals\n",
      "\n",
      "GROMACS reminds you: \"I never see what has been done; I only see what remains to be done.\" (Marie Curie)\n",
      "\n",
      "\n",
      "2025-05-19 16:22:51,146 [MainThread  ] [INFO ]  Compressing topology to: data/antibody/1_MD/4G6K__pdb2gmx_top.zip\n",
      "2025-05-19 16:22:51,147 [MainThread  ] [INFO ]  Ignored file charmm36-jul2017.ff/forcefield.itp\n",
      "2025-05-19 16:22:51,155 [MainThread  ] [INFO ]  Ignored file charmm36-jul2017.ff/tip3p.itp\n",
      "2025-05-19 16:22:51,156 [MainThread  ] [INFO ]  Ignored file charmm36-jul2017.ff/ions.itp\n",
      "2025-05-19 16:22:51,160 [MainThread  ] [INFO ]  Adding:\n",
      "2025-05-19 16:22:51,161 [MainThread  ] [INFO ]  ['p2g.top', 'p2g_Protein_chain_H.itp', 'p2g_Protein_chain_L.itp', 'posre_Protein_chain_H.itp', 'posre_Protein_chain_L.itp']\n",
      "2025-05-19 16:22:51,161 [MainThread  ] [INFO ]  to: /home/rchaves/repo/ab_design/biobb_wf_haddock/biobb_wf_haddock/notebooks/data/antibody/1_MD/4G6K__pdb2gmx_top.zip\n",
      "2025-05-19 16:22:51,163 [MainThread  ] [INFO ]  Removed: ['posre_Protein_chain_H.itp', 'p2g_Protein_chain_H.itp', 'posre_Protein_chain_L.itp', 'p2g_Protein_chain_L.itp', 'p2g.top']\n",
      "2025-05-19 16:22:51,164 [MainThread  ] [INFO ]  Removed: ['/home/rchaves/repo/ab_design/biobb_wf_haddock/biobb_wf_haddock/notebooks/sandbox_e7614182-e452-435c-bead-25fcc027d9c1']\n",
      "2025-05-19 16:22:51,164 [MainThread  ] [INFO ]  \n"
     ]
    },
    {
     "data": {
      "text/plain": [
       "0"
      ]
     },
     "execution_count": 12,
     "metadata": {},
     "output_type": "execute_result"
    }
   ],
   "source": [
    "# Create system topology\n",
    "# Import module\n",
    "from biobb_gromacs.gromacs.pdb2gmx import pdb2gmx\n",
    "\n",
    "# Create inputs/outputs\n",
    "output_pdb2gmx_gro     = f'{MD_dir}{pdbCode}__pdb2gmx.gro'\n",
    "output_pdb2gmx_top_zip = f'{MD_dir}{pdbCode}__pdb2gmx_top.zip'\n",
    "\n",
    "prop = {\n",
    "    'force_field' : 'charmm36-jul2017',\n",
    "    'gmx_lib' : f'{cwd}/{MD_inp}',\n",
    "    'water_type' : 'tip3p',\n",
    "    #'force_field' : 'amber99sb-ildn'\n",
    "}\n",
    "\n",
    "# Create and launch bb\n",
    "pdb2gmx(input_pdb_path=fixed_pdb, \n",
    "        output_gro_path=output_pdb2gmx_gro, \n",
    "        output_top_zip_path=output_pdb2gmx_top_zip,\n",
    "        properties=def_dict(prop))"
   ]
  },
  {
   "cell_type": "markdown",
   "metadata": {},
   "source": [
    "#### Visualizing 3D structure\n",
    "Visualizing the generated **GRO structure** using **NGL**. Note that **hydrogen atoms** were added to the structure by the **pdb2gmx GROMACS tool** when generating the **topology**.    "
   ]
  },
  {
   "cell_type": "code",
   "execution_count": 42,
   "metadata": {},
   "outputs": [
    {
     "data": {
      "application/vnd.jupyter.widget-view+json": {
       "model_id": "fb2053fcc4da441cb0b7d8a48121e311",
       "version_major": 2,
       "version_minor": 0
      },
      "text/plain": [
       "NGLWidget()"
      ]
     },
     "metadata": {},
     "output_type": "display_data"
    }
   ],
   "source": [
    "# Show protein\n",
    "view = nv.show_structure_file(output_pdb2gmx_gro)\n",
    "view.add_representation(repr_type='ball+stick', selection='all')\n",
    "view._remote_call('setSize', target='Widget', args=['','600px'])\n",
    "view.camera='orthographic'\n",
    "view"
   ]
  },
  {
   "cell_type": "markdown",
   "metadata": {},
   "source": [
    "<a id=\"box\"></a>\n",
    "***\n",
    "### Create solvent box\n",
    "Define the unit cell for the **protein structure MD system** to fill it with water molecules.<br>\n",
    "A **cubic box** is used to define the unit cell, with a **distance from the protein to the box edge of 1.0 nm**. The protein is **centered in the box**.  \n",
    "\n",
    "***\n",
    "**Building Blocks** used:\n",
    " - [Editconf](https://biobb-md.readthedocs.io/en/latest/gromacs.html#module-gromacs.editconf) from **biobb_gromacs.gromacs.editconf** \n",
    "***"
   ]
  },
  {
   "cell_type": "code",
   "execution_count": 13,
   "metadata": {},
   "outputs": [
    {
     "name": "stdout",
     "output_type": "stream",
     "text": [
      "2025-05-19 16:23:00,202 [MainThread  ] [INFO ]  Module: biobb_gromacs.gromacs.editconf Version: 5.0.0\n",
      "2025-05-19 16:23:00,202 [MainThread  ] [INFO ]  /home/rchaves/repo/ab_design/biobb_wf_haddock/biobb_wf_haddock/notebooks/sandbox_b42d8fa3-1809-46bc-ada3-9b815b053336 directory successfully created\n",
      "2025-05-19 16:23:00,203 [MainThread  ] [INFO ]  Copy: data/antibody/1_MD/4G6K__pdb2gmx.gro to /home/rchaves/repo/ab_design/biobb_wf_haddock/biobb_wf_haddock/notebooks/sandbox_b42d8fa3-1809-46bc-ada3-9b815b053336\n",
      "2025-05-19 16:23:00,203 [MainThread  ] [INFO ]  Distance of the box to molecule:   0.70\n",
      "2025-05-19 16:23:00,203 [MainThread  ] [INFO ]  Centering molecule in the box.\n",
      "2025-05-19 16:23:00,204 [MainThread  ] [INFO ]  Box type: dodecahedron\n",
      "2025-05-19 16:23:00,204 [MainThread  ] [INFO ]  gmx -nobackup -nocopyright editconf -f /home/rchaves/repo/ab_design/biobb_wf_haddock/biobb_wf_haddock/notebooks/sandbox_b42d8fa3-1809-46bc-ada3-9b815b053336/4G6K__pdb2gmx.gro -o /home/rchaves/repo/ab_design/biobb_wf_haddock/biobb_wf_haddock/notebooks/sandbox_b42d8fa3-1809-46bc-ada3-9b815b053336/4G6K_editconf.gro -bt dodecahedron -d 0.7 -c\n",
      "\n",
      "2025-05-19 16:23:00,245 [MainThread  ] [INFO ]  Executing: gmx -nobackup -nocopyright editconf -f /home/rchaves/repo/ab_design/biobb_wf_had...\n",
      "2025-05-19 16:23:00,246 [MainThread  ] [INFO ]  Exit code: 0\n",
      "2025-05-19 16:23:00,247 [MainThread  ] [INFO ]  Note that major changes are planned in future for editconf, to improve usability and utility.\n",
      "Read 6525 atoms\n",
      "Volume: 244.744 nm^3, corresponds to roughly 110100 electrons\n",
      "No velocities found\n",
      "    system size :  6.427  5.139  7.410 (nm)\n",
      "    diameter    :  7.999               (nm)\n",
      "    center      :  4.070  2.468 -2.706 (nm)\n",
      "    box vectors :  6.427  5.139  7.410 (nm)\n",
      "    box angles  :  90.00  90.00  90.00 (degrees)\n",
      "    box volume  : 244.74               (nm^3)\n",
      "    shift       :  2.979  4.582  6.029 (nm)\n",
      "new center      :  7.049  7.049  3.323 (nm)\n",
      "new box vectors :  9.399  9.399  9.399 (nm)\n",
      "new box angles  :  60.00  60.00  90.00 (degrees)\n",
      "new box volume  : 587.15               (nm^3)\n",
      "\n",
      "2025-05-19 16:23:00,247 [MainThread  ] [INFO ]                 :-) GROMACS - gmx editconf, 2022.2-conda_forge (-:\n",
      "\n",
      "Executable:   /home/rchaves/miniforge3/envs/biobb_wf_antibody/bin.AVX2_256/gmx\n",
      "Data prefix:  /home/rchaves/miniforge3/envs/biobb_wf_antibody\n",
      "Working dir:  /home/rchaves/repo/ab_design/biobb_wf_haddock/biobb_wf_haddock/notebooks\n",
      "Command line:\n",
      "  gmx -nobackup -nocopyright editconf -f /home/rchaves/repo/ab_design/biobb_wf_haddock/biobb_wf_haddock/notebooks/sandbox_b42d8fa3-1809-46bc-ada3-9b815b053336/4G6K__pdb2gmx.gro -o /home/rchaves/repo/ab_design/biobb_wf_haddock/biobb_wf_haddock/notebooks/sandbox_b42d8fa3-1809-46bc-ada3-9b815b053336/4G6K_editconf.gro -bt dodecahedron -d 0.7 -c\n",
      "\n",
      "\n",
      "GROMACS reminds you: \"Beat On the Brat With a Baseball Bat\" (The Ramones)\n",
      "\n",
      "\n",
      "2025-05-19 16:23:00,249 [MainThread  ] [INFO ]  Removed: ['/home/rchaves/repo/ab_design/biobb_wf_haddock/biobb_wf_haddock/notebooks/sandbox_b42d8fa3-1809-46bc-ada3-9b815b053336']\n",
      "2025-05-19 16:23:00,250 [MainThread  ] [INFO ]  \n"
     ]
    },
    {
     "data": {
      "text/plain": [
       "0"
      ]
     },
     "execution_count": 13,
     "metadata": {},
     "output_type": "execute_result"
    }
   ],
   "source": [
    "# Editconf: Create solvent box\n",
    "# Import module\n",
    "from biobb_gromacs.gromacs.editconf import editconf\n",
    "\n",
    "# Create prop dict and inputs/outputs\n",
    "output_editconf_gro = f'{MD_dir}{pdbCode}_editconf.gro'\n",
    "\n",
    "prop = {\n",
    "    'box_type': 'dodecahedron',\n",
    "    'distance_to_molecule': 0.7\n",
    "}\n",
    "\n",
    "#Create and launch bb\n",
    "editconf(input_gro_path=output_pdb2gmx_gro, \n",
    "         output_gro_path=output_editconf_gro,\n",
    "         properties=def_dict(prop))"
   ]
  },
  {
   "cell_type": "markdown",
   "metadata": {},
   "source": [
    "<a id=\"water\"></a>\n",
    "***\n",
    "### Fill the box with water molecules\n",
    "Fill the unit cell for the **protein structure system** with water molecules.<br>\n",
    "The solvent type used is the default **Simple Point Charge water (SPC)**, a generic equilibrated 3-point solvent model. \n",
    "\n",
    "***\n",
    "**Building Blocks** used:\n",
    " - [Solvate](https://biobb-md.readthedocs.io/en/latest/gromacs.html#module-gromacs.solvate) from **biobb_gromacs.gromacs.solvate** \n",
    "***"
   ]
  },
  {
   "cell_type": "code",
   "execution_count": 14,
   "metadata": {
    "scrolled": true
   },
   "outputs": [
    {
     "name": "stdout",
     "output_type": "stream",
     "text": [
      "2025-05-19 16:23:07,444 [MainThread  ] [INFO ]  Module: biobb_gromacs.gromacs.solvate Version: 5.0.0\n",
      "2025-05-19 16:23:07,445 [MainThread  ] [INFO ]  /home/rchaves/repo/ab_design/biobb_wf_haddock/biobb_wf_haddock/notebooks/sandbox_0ffea171-ee61-47cf-a415-5195f61b94ba directory successfully created\n",
      "2025-05-19 16:23:07,446 [MainThread  ] [INFO ]  Copy: data/antibody/1_MD/4G6K_editconf.gro to /home/rchaves/repo/ab_design/biobb_wf_haddock/biobb_wf_haddock/notebooks/sandbox_0ffea171-ee61-47cf-a415-5195f61b94ba\n",
      "2025-05-19 16:23:07,449 [MainThread  ] [INFO ]  Extracting: /home/rchaves/repo/ab_design/biobb_wf_haddock/biobb_wf_haddock/notebooks/data/antibody/1_MD/4G6K__pdb2gmx_top.zip\n",
      "2025-05-19 16:23:07,449 [MainThread  ] [INFO ]  to:\n",
      "2025-05-19 16:23:07,449 [MainThread  ] [INFO ]  ['2b88df63-9a0a-4df6-b090-b488608448fc/p2g.top', '2b88df63-9a0a-4df6-b090-b488608448fc/p2g_Protein_chain_H.itp', '2b88df63-9a0a-4df6-b090-b488608448fc/p2g_Protein_chain_L.itp', '2b88df63-9a0a-4df6-b090-b488608448fc/posre_Protein_chain_H.itp', '2b88df63-9a0a-4df6-b090-b488608448fc/posre_Protein_chain_L.itp']\n",
      "2025-05-19 16:23:07,450 [MainThread  ] [INFO ]  Unzipping: \n",
      "2025-05-19 16:23:07,450 [MainThread  ] [INFO ]  data/antibody/1_MD/4G6K__pdb2gmx_top.zip\n",
      "2025-05-19 16:23:07,450 [MainThread  ] [INFO ]  To: \n",
      "2025-05-19 16:23:07,451 [MainThread  ] [INFO ]  2b88df63-9a0a-4df6-b090-b488608448fc/p2g.top\n",
      "2025-05-19 16:23:07,451 [MainThread  ] [INFO ]  2b88df63-9a0a-4df6-b090-b488608448fc/p2g_Protein_chain_H.itp\n",
      "2025-05-19 16:23:07,451 [MainThread  ] [INFO ]  2b88df63-9a0a-4df6-b090-b488608448fc/p2g_Protein_chain_L.itp\n",
      "2025-05-19 16:23:07,451 [MainThread  ] [INFO ]  2b88df63-9a0a-4df6-b090-b488608448fc/posre_Protein_chain_H.itp\n",
      "2025-05-19 16:23:07,452 [MainThread  ] [INFO ]  2b88df63-9a0a-4df6-b090-b488608448fc/posre_Protein_chain_L.itp\n",
      "2025-05-19 16:23:07,452 [MainThread  ] [INFO ]  gmx -nobackup -nocopyright solvate -cp /home/rchaves/repo/ab_design/biobb_wf_haddock/biobb_wf_haddock/notebooks/sandbox_0ffea171-ee61-47cf-a415-5195f61b94ba/4G6K_editconf.gro -cs spc216.gro -o /home/rchaves/repo/ab_design/biobb_wf_haddock/biobb_wf_haddock/notebooks/sandbox_0ffea171-ee61-47cf-a415-5195f61b94ba/4G6K_solvate.gro -p 2b88df63-9a0a-4df6-b090-b488608448fc/p2g.top\n",
      "\n"
     ]
    },
    {
     "name": "stderr",
     "output_type": "stream",
     "text": [
      "/home/rchaves/miniforge3/envs/biobb_wf_antibody/lib/python3.10/site-packages/biobb_common/generic/biobb_object.py:183: UserWarning: Warning: distance_to_molecule is not a recognized property. The most similar property is: stage_io_dict\n",
      "  warnings.warn(\n",
      "/home/rchaves/miniforge3/envs/biobb_wf_antibody/lib/python3.10/site-packages/biobb_common/generic/biobb_object.py:183: UserWarning: Warning: box_type is not a recognized property. The most similar property is: sandbox_path\n",
      "  warnings.warn(\n"
     ]
    },
    {
     "name": "stdout",
     "output_type": "stream",
     "text": [
      "2025-05-19 16:23:07,670 [MainThread  ] [INFO ]  Executing: gmx -nobackup -nocopyright solvate -cp /home/rchaves/repo/ab_design/biobb_wf_had...\n",
      "2025-05-19 16:23:07,670 [MainThread  ] [INFO ]  Exit code: 0\n",
      "2025-05-19 16:23:07,671 [MainThread  ] [INFO ]  \n",
      "WARNING: Masses and atomic (Van der Waals) radii will be guessed\n",
      "         based on residue and atom names, since they could not be\n",
      "         definitively assigned from the information in your input\n",
      "         files. These guessed numbers might deviate from the mass\n",
      "         and radius of the atom type. Please check the output\n",
      "         files if necessary. Note, that this functionality may\n",
      "         be removed in a future GROMACS version. Please, consider\n",
      "         using another file format for your input.\n",
      "\n",
      "NOTE: From version 5.0 gmx solvate uses the Van der Waals radii\n",
      "from the source below. This means the results may be different\n",
      "compared to previous GROMACS versions.\n",
      "\n",
      "++++ PLEASE READ AND CITE THE FOLLOWING REFERENCE ++++\n",
      "A. Bondi\n",
      "van der Waals Volumes and Radii\n",
      "J. Phys. Chem. 68 (1964) pp. 441-451\n",
      "-------- -------- --- Thank You --- -------- --------\n",
      "\n",
      "Adding line for 16821 solvent molecules with resname (SOL) to topology file (2b88df63-9a0a-4df6-b090-b488608448fc/p2g.top)\n",
      "\n",
      "2025-05-19 16:23:07,671 [MainThread  ] [INFO ]                 :-) GROMACS - gmx solvate, 2022.2-conda_forge (-:\n",
      "\n",
      "Executable:   /home/rchaves/miniforge3/envs/biobb_wf_antibody/bin.AVX2_256/gmx\n",
      "Data prefix:  /home/rchaves/miniforge3/envs/biobb_wf_antibody\n",
      "Working dir:  /home/rchaves/repo/ab_design/biobb_wf_haddock/biobb_wf_haddock/notebooks\n",
      "Command line:\n",
      "  gmx -nobackup -nocopyright solvate -cp /home/rchaves/repo/ab_design/biobb_wf_haddock/biobb_wf_haddock/notebooks/sandbox_0ffea171-ee61-47cf-a415-5195f61b94ba/4G6K_editconf.gro -cs spc216.gro -o /home/rchaves/repo/ab_design/biobb_wf_haddock/biobb_wf_haddock/notebooks/sandbox_0ffea171-ee61-47cf-a415-5195f61b94ba/4G6K_solvate.gro -p 2b88df63-9a0a-4df6-b090-b488608448fc/p2g.top\n",
      "\n",
      "Reading solute configuration\n",
      "Reading solvent configuration\n",
      "\n",
      "Initialising inter-atomic distances...\n",
      "Generating solvent configuration\n",
      "Will generate new solvent configuration of 6x6x4 boxes\n",
      "Solvent box contains 65364 atoms in 21788 residues\n",
      "Removed 8835 solvent atoms due to solvent-solvent overlap\n",
      "Removed 6066 solvent atoms due to solute-solvent overlap\n",
      "Sorting configuration\n",
      "Found 1 molecule type:\n",
      "    SOL (   3 atoms): 16821 residues\n",
      "Generated solvent containing 50463 atoms in 16821 residues\n",
      "Writing generated configuration to /home/rchaves/repo/ab_design/biobb_wf_haddock/biobb_wf_haddock/notebooks/sandbox_0ffea171-ee61-47cf-a415-5195f61b94ba/4G6K_solvate.gro\n",
      "\n",
      "Output configuration contains 56988 atoms in 17253 residues\n",
      "Volume                 :     587.153 (nm^3)\n",
      "Density                :     998.303 (g/l)\n",
      "Number of solvent molecules:  16821   \n",
      "\n",
      "Processing topology\n",
      "\n",
      "GROMACS reminds you: \"Time is the best appraiser of scientific work, and I am aware that an industrial discovery rarely produces all its fruit in the hands of its first inventor.\" (Louis Pasteur)\n",
      "\n",
      "\n",
      "2025-05-19 16:23:07,673 [MainThread  ] [INFO ]  Compressing topology to: /home/rchaves/repo/ab_design/biobb_wf_haddock/biobb_wf_haddock/notebooks/sandbox_0ffea171-ee61-47cf-a415-5195f61b94ba/4G6K_solvate_top.zip\n",
      "2025-05-19 16:23:07,673 [MainThread  ] [INFO ]  Ignored file 2b88df63-9a0a-4df6-b090-b488608448fc/charmm36-jul2017.ff/forcefield.itp\n",
      "2025-05-19 16:23:07,681 [MainThread  ] [INFO ]  Ignored file 2b88df63-9a0a-4df6-b090-b488608448fc/charmm36-jul2017.ff/tip3p.itp\n",
      "2025-05-19 16:23:07,682 [MainThread  ] [INFO ]  Ignored file 2b88df63-9a0a-4df6-b090-b488608448fc/charmm36-jul2017.ff/ions.itp\n",
      "2025-05-19 16:23:07,687 [MainThread  ] [INFO ]  Adding:\n",
      "2025-05-19 16:23:07,687 [MainThread  ] [INFO ]  ['2b88df63-9a0a-4df6-b090-b488608448fc/p2g.top', '2b88df63-9a0a-4df6-b090-b488608448fc/p2g_Protein_chain_H.itp', '2b88df63-9a0a-4df6-b090-b488608448fc/p2g_Protein_chain_L.itp', '2b88df63-9a0a-4df6-b090-b488608448fc/posre_Protein_chain_H.itp', '2b88df63-9a0a-4df6-b090-b488608448fc/posre_Protein_chain_L.itp']\n",
      "2025-05-19 16:23:07,688 [MainThread  ] [INFO ]  to: /home/rchaves/repo/ab_design/biobb_wf_haddock/biobb_wf_haddock/notebooks/data/antibody/1_MD/4G6K_solvate_top.zip\n",
      "2025-05-19 16:23:07,688 [MainThread  ] [INFO ]  Removed: ['2b88df63-9a0a-4df6-b090-b488608448fc/posre_Protein_chain_H.itp', '2b88df63-9a0a-4df6-b090-b488608448fc/p2g_Protein_chain_H.itp', '2b88df63-9a0a-4df6-b090-b488608448fc/posre_Protein_chain_L.itp', '2b88df63-9a0a-4df6-b090-b488608448fc/p2g_Protein_chain_L.itp', '2b88df63-9a0a-4df6-b090-b488608448fc/p2g.top']\n",
      "2025-05-19 16:23:07,689 [MainThread  ] [INFO ]  Removed: ['/home/rchaves/repo/ab_design/biobb_wf_haddock/biobb_wf_haddock/notebooks/sandbox_0ffea171-ee61-47cf-a415-5195f61b94ba', '2b88df63-9a0a-4df6-b090-b488608448fc']\n",
      "2025-05-19 16:23:07,690 [MainThread  ] [INFO ]  \n"
     ]
    },
    {
     "data": {
      "text/plain": [
       "0"
      ]
     },
     "execution_count": 14,
     "metadata": {},
     "output_type": "execute_result"
    }
   ],
   "source": [
    "# Solvate: Fill the box with water molecules\n",
    "from biobb_gromacs.gromacs.solvate import solvate\n",
    "\n",
    "# Create prop dict and inputs/outputs\n",
    "output_solvate_gro     = f'{MD_dir}{pdbCode}_solvate.gro'\n",
    "output_solvate_top_zip = f'{MD_dir}{pdbCode}_solvate_top.zip'\n",
    "\n",
    "# Create and launch bb\n",
    "solvate(input_solute_gro_path=output_editconf_gro, \n",
    "        output_gro_path=output_solvate_gro, \n",
    "        input_top_zip_path=output_pdb2gmx_top_zip, \n",
    "        output_top_zip_path=output_solvate_top_zip,\n",
    "        properties=def_dict(prop))"
   ]
  },
  {
   "cell_type": "markdown",
   "metadata": {},
   "source": [
    "#### Visualizing 3D structure\n",
    "Visualizing the **protein system** with the newly added **solvent box** using **NGL**.<br> Note the **cubic box** filled with **water molecules** surrounding the **protein structure**, which is **centered** right in the middle of the cube."
   ]
  },
  {
   "cell_type": "code",
   "execution_count": 47,
   "metadata": {},
   "outputs": [
    {
     "data": {
      "application/vnd.jupyter.widget-view+json": {
       "model_id": "a76f91e336d54e5dbc306d23399d155d",
       "version_major": 2,
       "version_minor": 0
      },
      "text/plain": [
       "NGLWidget()"
      ]
     },
     "metadata": {},
     "output_type": "display_data"
    }
   ],
   "source": [
    "# Show protein\n",
    "view = nv.show_structure_file(output_solvate_gro)\n",
    "view.clear_representations()\n",
    "view.add_representation(repr_type='cartoon', selection='solute', color='green')\n",
    "view.add_representation(repr_type='ball+stick', selection='SOL')\n",
    "view._remote_call('setSize', target='Widget', args=['','600px'])\n",
    "view.camera='orthographic'\n",
    "view"
   ]
  },
  {
   "cell_type": "markdown",
   "metadata": {},
   "source": [
    "<a id=\"ions\"></a>\n",
    "***\n",
    "### Adding ions\n",
    "Add ions to neutralize the **protein structure** charge\n",
    "- [Step 1](#ionsStep1): Creating portable binary run file for ion generation\n",
    "- [Step 2](#ionsStep2): Adding ions to **neutralize** the system\n",
    "***\n",
    "**Building Blocks** used:\n",
    " - [Grompp](https://biobb-md.readthedocs.io/en/latest/gromacs.html#module-gromacs.grompp) from **biobb_gromacs.gromacs.grompp** \n",
    " - [Genion](https://biobb-md.readthedocs.io/en/latest/gromacs.html#module-gromacs.genion) from **biobb_gromacs.gromacs.genion** \n",
    "***"
   ]
  },
  {
   "cell_type": "markdown",
   "metadata": {},
   "source": [
    "<a id=\"ionsStep1\"></a>\n",
    "#### Step 1: Creating portable binary run file for ion generation\n",
    "A simple **energy minimization** molecular dynamics parameters (mdp) properties will be used to generate the portable binary run file for **ion generation**, although **any legitimate combination of parameters** could be used in this step."
   ]
  },
  {
   "cell_type": "code",
   "execution_count": 15,
   "metadata": {},
   "outputs": [
    {
     "name": "stdout",
     "output_type": "stream",
     "text": [
      "2025-05-19 16:23:27,987 [MainThread  ] [INFO ]  Module: biobb_gromacs.gromacs.grompp Version: 5.0.0\n",
      "2025-05-19 16:23:27,988 [MainThread  ] [INFO ]  /home/rchaves/repo/ab_design/biobb_wf_haddock/biobb_wf_haddock/notebooks/sandbox_0e856f46-8902-4bce-a948-17e63baadb3e directory successfully created\n",
      "2025-05-19 16:23:27,990 [MainThread  ] [INFO ]  Copy: data/antibody/1_MD/4G6K_solvate.gro to /home/rchaves/repo/ab_design/biobb_wf_haddock/biobb_wf_haddock/notebooks/sandbox_0e856f46-8902-4bce-a948-17e63baadb3e\n",
      "2025-05-19 16:23:27,994 [MainThread  ] [INFO ]  Extracting: /home/rchaves/repo/ab_design/biobb_wf_haddock/biobb_wf_haddock/notebooks/data/antibody/1_MD/4G6K_solvate_top.zip\n",
      "2025-05-19 16:23:27,994 [MainThread  ] [INFO ]  to:\n",
      "2025-05-19 16:23:27,995 [MainThread  ] [INFO ]  ['/home/rchaves/repo/ab_design/biobb_wf_haddock/biobb_wf_haddock/notebooks/sandbox_0e856f46-8902-4bce-a948-17e63baadb3e/p2g.top', '/home/rchaves/repo/ab_design/biobb_wf_haddock/biobb_wf_haddock/notebooks/sandbox_0e856f46-8902-4bce-a948-17e63baadb3e/p2g_Protein_chain_H.itp', '/home/rchaves/repo/ab_design/biobb_wf_haddock/biobb_wf_haddock/notebooks/sandbox_0e856f46-8902-4bce-a948-17e63baadb3e/p2g_Protein_chain_L.itp', '/home/rchaves/repo/ab_design/biobb_wf_haddock/biobb_wf_haddock/notebooks/sandbox_0e856f46-8902-4bce-a948-17e63baadb3e/posre_Protein_chain_H.itp', '/home/rchaves/repo/ab_design/biobb_wf_haddock/biobb_wf_haddock/notebooks/sandbox_0e856f46-8902-4bce-a948-17e63baadb3e/posre_Protein_chain_L.itp']\n",
      "2025-05-19 16:23:27,995 [MainThread  ] [INFO ]  Unzipping: \n",
      "2025-05-19 16:23:27,996 [MainThread  ] [INFO ]  data/antibody/1_MD/4G6K_solvate_top.zip\n",
      "2025-05-19 16:23:27,996 [MainThread  ] [INFO ]  To: \n",
      "2025-05-19 16:23:27,996 [MainThread  ] [INFO ]  /home/rchaves/repo/ab_design/biobb_wf_haddock/biobb_wf_haddock/notebooks/sandbox_0e856f46-8902-4bce-a948-17e63baadb3e/p2g.top\n",
      "2025-05-19 16:23:27,997 [MainThread  ] [INFO ]  /home/rchaves/repo/ab_design/biobb_wf_haddock/biobb_wf_haddock/notebooks/sandbox_0e856f46-8902-4bce-a948-17e63baadb3e/p2g_Protein_chain_H.itp\n",
      "2025-05-19 16:23:27,997 [MainThread  ] [INFO ]  /home/rchaves/repo/ab_design/biobb_wf_haddock/biobb_wf_haddock/notebooks/sandbox_0e856f46-8902-4bce-a948-17e63baadb3e/p2g_Protein_chain_L.itp\n",
      "2025-05-19 16:23:27,997 [MainThread  ] [INFO ]  /home/rchaves/repo/ab_design/biobb_wf_haddock/biobb_wf_haddock/notebooks/sandbox_0e856f46-8902-4bce-a948-17e63baadb3e/posre_Protein_chain_H.itp\n",
      "2025-05-19 16:23:27,997 [MainThread  ] [INFO ]  /home/rchaves/repo/ab_design/biobb_wf_haddock/biobb_wf_haddock/notebooks/sandbox_0e856f46-8902-4bce-a948-17e63baadb3e/posre_Protein_chain_L.itp\n",
      "2025-05-19 16:23:27,998 [MainThread  ] [INFO ]  gmx -nobackup -nocopyright grompp -f /home/rchaves/repo/ab_design/biobb_wf_haddock/biobb_wf_haddock/notebooks/sandbox_0e856f46-8902-4bce-a948-17e63baadb3e/grompp.mdp -c /home/rchaves/repo/ab_design/biobb_wf_haddock/biobb_wf_haddock/notebooks/sandbox_0e856f46-8902-4bce-a948-17e63baadb3e/4G6K_solvate.gro -r /home/rchaves/repo/ab_design/biobb_wf_haddock/biobb_wf_haddock/notebooks/sandbox_0e856f46-8902-4bce-a948-17e63baadb3e/4G6K_solvate.gro -p /home/rchaves/repo/ab_design/biobb_wf_haddock/biobb_wf_haddock/notebooks/sandbox_0e856f46-8902-4bce-a948-17e63baadb3e/p2g.top -o /home/rchaves/repo/ab_design/biobb_wf_haddock/biobb_wf_haddock/notebooks/sandbox_0e856f46-8902-4bce-a948-17e63baadb3e/4G6K_gppion.tpr -po mdout.mdp -maxwarn 1\n",
      "\n",
      "2025-05-19 16:23:28,859 [MainThread  ] [INFO ]  Executing: gmx -nobackup -nocopyright grompp -f /home/rchaves/repo/ab_design/biobb_wf_haddo...\n",
      "2025-05-19 16:23:28,860 [MainThread  ] [INFO ]  Exit code: 0\n",
      "2025-05-19 16:23:28,860 [MainThread  ] [INFO ]  Setting the LD random seed to -402735234\n",
      "\n",
      "Generated 97877 of the 97903 non-bonded parameter combinations\n",
      "\n",
      "Generated 64492 of the 97903 1-4 parameter combinations\n",
      "\n",
      "Excluding 3 bonded neighbours molecule type 'Protein_chain_H'\n",
      "\n",
      "Excluding 3 bonded neighbours molecule type 'Protein_chain_L'\n",
      "\n",
      "Excluding 2 bonded neighbours molecule type 'SOL'\n",
      "\n",
      "++++ PLEASE READ AND CITE THE FOLLOWING REFERENCE ++++\n",
      "J. S. Hub, B. L. de Groot, H. Grubmueller, G. Groenhof\n",
      "Quantifying Artifacts in Ewald Simulations of Inhomogeneous Systems with a Net\n",
      "Charge\n",
      "J. Chem. Theory Comput. 10 (2014) pp. 381-393\n",
      "-------- -------- --- Thank You --- -------- --------\n",
      "\n",
      "Analysing residue names:\n",
      "There are:   432    Protein residues\n",
      "There are: 16821      Water residues\n",
      "Analysing Protein...\n",
      "\n",
      "The largest distance between excluded atoms is 0.447 nm\n",
      "Calculating fourier grid dimensions for X Y Z\n",
      "Using a fourier grid of 80x80x80, spacing 0.117 0.117 0.117\n",
      "\n",
      "Estimate for the relative computational load of the PME mesh part: 0.25\n",
      "\n",
      "This run will generate roughly 4 Mb of data\n",
      "\n",
      "2025-05-19 16:23:28,861 [MainThread  ] [INFO ]                  :-) GROMACS - gmx grompp, 2022.2-conda_forge (-:\n",
      "\n",
      "Executable:   /home/rchaves/miniforge3/envs/biobb_wf_antibody/bin.AVX2_256/gmx\n",
      "Data prefix:  /home/rchaves/miniforge3/envs/biobb_wf_antibody\n",
      "Working dir:  /home/rchaves/repo/ab_design/biobb_wf_haddock/biobb_wf_haddock/notebooks\n",
      "Command line:\n",
      "  gmx -nobackup -nocopyright grompp -f /home/rchaves/repo/ab_design/biobb_wf_haddock/biobb_wf_haddock/notebooks/sandbox_0e856f46-8902-4bce-a948-17e63baadb3e/grompp.mdp -c /home/rchaves/repo/ab_design/biobb_wf_haddock/biobb_wf_haddock/notebooks/sandbox_0e856f46-8902-4bce-a948-17e63baadb3e/4G6K_solvate.gro -r /home/rchaves/repo/ab_design/biobb_wf_haddock/biobb_wf_haddock/notebooks/sandbox_0e856f46-8902-4bce-a948-17e63baadb3e/4G6K_solvate.gro -p /home/rchaves/repo/ab_design/biobb_wf_haddock/biobb_wf_haddock/notebooks/sandbox_0e856f46-8902-4bce-a948-17e63baadb3e/p2g.top -o /home/rchaves/repo/ab_design/biobb_wf_haddock/biobb_wf_haddock/notebooks/sandbox_0e856f46-8902-4bce-a948-17e63baadb3e/4G6K_gppion.tpr -po mdout.mdp -maxwarn 1\n",
      "\n",
      "Ignoring obsolete mdp entry 'ns-type'\n",
      "Generating 1-4 interactions: fudge = 1\n",
      "\n",
      "NOTE 1 [file p2g.top, line 54]:\n",
      "  System has non-zero total charge: 7.000000\n",
      "  Total charge should normally be an integer. See\n",
      "  http://www.gromacs.org/Documentation/Floating_Point_Arithmetic\n",
      "  for discussion on how close it should be to an integer.\n",
      "  \n",
      "\n",
      "\n",
      "\n",
      "WARNING 1 [file p2g.top, line 54]:\n",
      "  You are using Ewald electrostatics in a system with net charge. This can\n",
      "  lead to severe artifacts, such as ions moving into regions with low\n",
      "  dielectric, due to the uniform background charge. We suggest to\n",
      "  neutralize your system with counter ions, possibly in combination with a\n",
      "  physiological salt concentration.\n",
      "\n",
      "Number of degrees of freedom in T-Coupling group rest is 120498.00\n",
      "\n",
      "NOTE 2 [file /home/rchaves/repo/ab_design/biobb_wf_haddock/biobb_wf_haddock/notebooks/sandbox_0e856f46-8902-4bce-a948-17e63baadb3e/grompp.mdp]:\n",
      "  Removing center of mass motion in the presence of position restraints\n",
      "  might cause artifacts. When you are using position restraints to\n",
      "  equilibrate a macro-molecule, the artifacts are usually negligible.\n",
      "\n",
      "\n",
      "There were 2 notes\n",
      "\n",
      "There was 1 warning\n",
      "\n",
      "GROMACS reminds you: \"I have noticed a large, negative correlation between having a well-defined mission workload and concern for the Top500. It's almost like LINPACK is what you focus on when you don't know what to focus on.\" (Jeff Hammond)\n",
      "\n",
      "\n",
      "2025-05-19 16:23:28,865 [MainThread  ] [INFO ]  Removed: ['/home/rchaves/repo/ab_design/biobb_wf_haddock/biobb_wf_haddock/notebooks/sandbox_0e856f46-8902-4bce-a948-17e63baadb3e', 'mdout.mdp']\n",
      "2025-05-19 16:23:28,866 [MainThread  ] [INFO ]  \n"
     ]
    },
    {
     "data": {
      "text/plain": [
       "0"
      ]
     },
     "execution_count": 15,
     "metadata": {},
     "output_type": "execute_result"
    }
   ],
   "source": [
    "# Grompp: Creating portable binary run file for ion generation\n",
    "from biobb_gromacs.gromacs.grompp import grompp\n",
    "\n",
    "# Create prop dict and inputs/outputs\n",
    "output_gppion_tpr = f'{MD_dir}{pdbCode}_gppion.tpr'\n",
    "prop = {\n",
    "    'simulation_type': 'ions',\n",
    "    'gmx_lib' : f'{cwd}/{MD_inp}',\n",
    "    'maxwarn': 1\n",
    "}\n",
    "\n",
    "# Create and launch bb\n",
    "grompp(input_gro_path=output_solvate_gro, \n",
    "       input_top_zip_path=output_solvate_top_zip, \n",
    "       output_tpr_path=output_gppion_tpr,  \n",
    "       properties=def_dict(prop))"
   ]
  },
  {
   "cell_type": "markdown",
   "metadata": {},
   "source": [
    "<a id=\"ionsStep2\"></a>\n",
    "#### Step 2: Adding ions to neutralize the system\n",
    "Replace **solvent molecules** with **ions** to **neutralize** the system."
   ]
  },
  {
   "cell_type": "code",
   "execution_count": 16,
   "metadata": {},
   "outputs": [
    {
     "name": "stdout",
     "output_type": "stream",
     "text": [
      "2025-05-19 16:23:34,283 [MainThread  ] [INFO ]  Module: biobb_gromacs.gromacs.genion Version: 5.0.0\n",
      "2025-05-19 16:23:34,284 [MainThread  ] [INFO ]  /home/rchaves/repo/ab_design/biobb_wf_haddock/biobb_wf_haddock/notebooks/sandbox_eb8effc8-5f9f-4f15-a082-9663b49ff874 directory successfully created\n",
      "2025-05-19 16:23:34,287 [MainThread  ] [INFO ]  Copy: data/antibody/1_MD/4G6K_gppion.tpr to /home/rchaves/repo/ab_design/biobb_wf_haddock/biobb_wf_haddock/notebooks/sandbox_eb8effc8-5f9f-4f15-a082-9663b49ff874\n",
      "2025-05-19 16:23:34,287 [MainThread  ] [INFO ]  Copy: /home/rchaves/repo/ab_design/biobb_wf_haddock/biobb_wf_haddock/notebooks/8e08cfb8-9abf-4ea6-bb24-315ffd030804.stdin to /home/rchaves/repo/ab_design/biobb_wf_haddock/biobb_wf_haddock/notebooks/sandbox_eb8effc8-5f9f-4f15-a082-9663b49ff874\n",
      "2025-05-19 16:23:34,290 [MainThread  ] [INFO ]  Extracting: /home/rchaves/repo/ab_design/biobb_wf_haddock/biobb_wf_haddock/notebooks/data/antibody/1_MD/4G6K_solvate_top.zip\n",
      "2025-05-19 16:23:34,290 [MainThread  ] [INFO ]  to:\n",
      "2025-05-19 16:23:34,291 [MainThread  ] [INFO ]  ['153f00e8-95bd-4f14-9873-fb742db8aad6/p2g.top', '153f00e8-95bd-4f14-9873-fb742db8aad6/p2g_Protein_chain_H.itp', '153f00e8-95bd-4f14-9873-fb742db8aad6/p2g_Protein_chain_L.itp', '153f00e8-95bd-4f14-9873-fb742db8aad6/posre_Protein_chain_H.itp', '153f00e8-95bd-4f14-9873-fb742db8aad6/posre_Protein_chain_L.itp']\n",
      "2025-05-19 16:23:34,291 [MainThread  ] [INFO ]  Unzipping: \n",
      "2025-05-19 16:23:34,291 [MainThread  ] [INFO ]  data/antibody/1_MD/4G6K_solvate_top.zip\n",
      "2025-05-19 16:23:34,292 [MainThread  ] [INFO ]  To: \n",
      "2025-05-19 16:23:34,292 [MainThread  ] [INFO ]  153f00e8-95bd-4f14-9873-fb742db8aad6/p2g.top\n",
      "2025-05-19 16:23:34,292 [MainThread  ] [INFO ]  153f00e8-95bd-4f14-9873-fb742db8aad6/p2g_Protein_chain_H.itp\n",
      "2025-05-19 16:23:34,292 [MainThread  ] [INFO ]  153f00e8-95bd-4f14-9873-fb742db8aad6/p2g_Protein_chain_L.itp\n",
      "2025-05-19 16:23:34,292 [MainThread  ] [INFO ]  153f00e8-95bd-4f14-9873-fb742db8aad6/posre_Protein_chain_H.itp\n",
      "2025-05-19 16:23:34,293 [MainThread  ] [INFO ]  153f00e8-95bd-4f14-9873-fb742db8aad6/posre_Protein_chain_L.itp\n",
      "2025-05-19 16:23:34,293 [MainThread  ] [INFO ]  To reach up 0.05 mol/litre concentration\n",
      "2025-05-19 16:23:34,293 [MainThread  ] [INFO ]  gmx -nobackup -nocopyright genion -s /home/rchaves/repo/ab_design/biobb_wf_haddock/biobb_wf_haddock/notebooks/sandbox_eb8effc8-5f9f-4f15-a082-9663b49ff874/4G6K_gppion.tpr -o /home/rchaves/repo/ab_design/biobb_wf_haddock/biobb_wf_haddock/notebooks/sandbox_eb8effc8-5f9f-4f15-a082-9663b49ff874/4G6K_genion.gro -p 153f00e8-95bd-4f14-9873-fb742db8aad6/p2g.top -neutral -conc 0.05 -seed 1993 < /home/rchaves/repo/ab_design/biobb_wf_haddock/biobb_wf_haddock/notebooks/sandbox_eb8effc8-5f9f-4f15-a082-9663b49ff874/8e08cfb8-9abf-4ea6-bb24-315ffd030804.stdin\n",
      "\n",
      "2025-05-19 16:23:34,380 [MainThread  ] [INFO ]  Executing: gmx -nobackup -nocopyright genion -s /home/rchaves/repo/ab_design/biobb_wf_haddo...\n",
      "2025-05-19 16:23:34,381 [MainThread  ] [INFO ]  Exit code: 0\n",
      "2025-05-19 16:23:34,381 [MainThread  ] [INFO ]  Will try to add 18 NA ions and 25 CL ions.\n",
      "Select a continuous group of solvent molecules\n",
      "Selected 13: 'SOL'\n",
      "\n",
      "Processing topology\n",
      "Replacing 43 solute molecules in topology file (153f00e8-95bd-4f14-9873-fb742db8aad6/p2g.top)  by 18 NA and 25 CL ions.\n",
      "\n",
      "2025-05-19 16:23:34,381 [MainThread  ] [INFO ]                  :-) GROMACS - gmx genion, 2022.2-conda_forge (-:\n",
      "\n",
      "Executable:   /home/rchaves/miniforge3/envs/biobb_wf_antibody/bin.AVX2_256/gmx\n",
      "Data prefix:  /home/rchaves/miniforge3/envs/biobb_wf_antibody\n",
      "Working dir:  /home/rchaves/repo/ab_design/biobb_wf_haddock/biobb_wf_haddock/notebooks\n",
      "Command line:\n",
      "  gmx -nobackup -nocopyright genion -s /home/rchaves/repo/ab_design/biobb_wf_haddock/biobb_wf_haddock/notebooks/sandbox_eb8effc8-5f9f-4f15-a082-9663b49ff874/4G6K_gppion.tpr -o /home/rchaves/repo/ab_design/biobb_wf_haddock/biobb_wf_haddock/notebooks/sandbox_eb8effc8-5f9f-4f15-a082-9663b49ff874/4G6K_genion.gro -p 153f00e8-95bd-4f14-9873-fb742db8aad6/p2g.top -neutral -conc 0.05 -seed 1993\n",
      "\n",
      "Reading file /home/rchaves/repo/ab_design/biobb_wf_haddock/biobb_wf_haddock/notebooks/sandbox_eb8effc8-5f9f-4f15-a082-9663b49ff874/4G6K_gppion.tpr, VERSION 2022.2-conda_forge (single precision)\n",
      "Reading file /home/rchaves/repo/ab_design/biobb_wf_haddock/biobb_wf_haddock/notebooks/sandbox_eb8effc8-5f9f-4f15-a082-9663b49ff874/4G6K_gppion.tpr, VERSION 2022.2-conda_forge (single precision)\n",
      "Group     0 (         System) has 56988 elements\n",
      "Group     1 (        Protein) has  6525 elements\n",
      "Group     2 (      Protein-H) has  3293 elements\n",
      "Group     3 (        C-alpha) has   432 elements\n",
      "Group     4 (       Backbone) has  1296 elements\n",
      "Group     5 (      MainChain) has  1726 elements\n",
      "Group     6 (   MainChain+Cb) has  2126 elements\n",
      "Group     7 (    MainChain+H) has  2139 elements\n",
      "Group     8 (      SideChain) has  4386 elements\n",
      "Group     9 (    SideChain-H) has  1567 elements\n",
      "Group    10 (    Prot-Masses) has  6525 elements\n",
      "Group    11 (    non-Protein) has 50463 elements\n",
      "Group    12 (          Water) has 50463 elements\n",
      "Group    13 (            SOL) has 50463 elements\n",
      "Group    14 (      non-Water) has  6525 elements\n",
      "Select a group: Number of (3-atomic) solvent molecules: 16821\n",
      "Using random seed 1993.\n",
      "Replacing solvent molecule 1016 (atom 9573) with NA\n",
      "Replacing solvent molecule 7886 (atom 30183) with NA\n",
      "Replacing solvent molecule 340 (atom 7545) with NA\n",
      "Replacing solvent molecule 9793 (atom 35904) with NA\n",
      "Replacing solvent molecule 11798 (atom 41919) with NA\n",
      "Replacing solvent molecule 3029 (atom 15612) with NA\n",
      "Replacing solvent molecule 13033 (atom 45624) with NA\n",
      "Replacing solvent molecule 13037 (atom 45636) with NA\n",
      "Replacing solvent molecule 3887 (atom 18186) with NA\n",
      "Replacing solvent molecule 4426 (atom 19803) with NA\n",
      "Replacing solvent molecule 7384 (atom 28677) with NA\n",
      "Replacing solvent molecule 11728 (atom 41709) with NA\n",
      "Replacing solvent molecule 6702 (atom 26631) with NA\n",
      "Replacing solvent molecule 2180 (atom 13065) with NA\n",
      "Replacing solvent molecule 7423 (atom 28794) with NA\n",
      "Replacing solvent molecule 9120 (atom 33885) with NA\n",
      "Replacing solvent molecule 1450 (atom 10875) with NA\n",
      "Replacing solvent molecule 2665 (atom 14520) with NA\n",
      "Replacing solvent molecule 15675 (atom 53550) with CL\n",
      "Replacing solvent molecule 5409 (atom 22752) with CL\n",
      "Replacing solvent molecule 231 (atom 7218) with CL\n",
      "Replacing solvent molecule 5896 (atom 24213) with CL\n",
      "Replacing solvent molecule 9159 (atom 34002) with CL\n",
      "Replacing solvent molecule 3677 (atom 17556) with CL\n",
      "Replacing solvent molecule 1061 (atom 9708) with CL\n",
      "Replacing solvent molecule 13389 (atom 46692) with CL\n",
      "Replacing solvent molecule 6880 (atom 27165) with CL\n",
      "Replacing solvent molecule 7264 (atom 28317) with CL\n",
      "Replacing solvent molecule 11499 (atom 41022) with CL\n",
      "Replacing solvent molecule 9826 (atom 36003) with CL\n",
      "Replacing solvent molecule 3996 (atom 18513) with CL\n",
      "Replacing solvent molecule 7947 (atom 30366) with CL\n",
      "Replacing solvent molecule 6143 (atom 24954) with CL\n",
      "Replacing solvent molecule 4438 (atom 19839) with CL\n",
      "Replacing solvent molecule 12163 (atom 43014) with CL\n",
      "Replacing solvent molecule 16577 (atom 56256) with CL\n",
      "Replacing solvent molecule 11590 (atom 41295) with CL\n",
      "Replacing solvent molecule 15217 (atom 52176) with CL\n",
      "Replacing solvent molecule 1980 (atom 12465) with CL\n",
      "Replacing solvent molecule 667 (atom 8526) with CL\n",
      "Replacing solvent molecule 7324 (atom 28497) with CL\n",
      "Replacing solvent molecule 14653 (atom 50484) with CL\n",
      "Replacing solvent molecule 14514 (atom 50067) with CL\n",
      "\n",
      "\n",
      "GROMACS reminds you: \"More than 10000000 total errors detected.  I'm not reporting any more. Final error counts will be inaccurate.  Go fix your program!\" (Valgrind while memory debugging mdrun)\n",
      "\n",
      "\n",
      "2025-05-19 16:23:34,385 [MainThread  ] [INFO ]  Compressing topology to: /home/rchaves/repo/ab_design/biobb_wf_haddock/biobb_wf_haddock/notebooks/sandbox_eb8effc8-5f9f-4f15-a082-9663b49ff874/4G6K_genion_top.zip\n",
      "2025-05-19 16:23:34,386 [MainThread  ] [INFO ]  Ignored file 153f00e8-95bd-4f14-9873-fb742db8aad6/charmm36-jul2017.ff/forcefield.itp\n",
      "2025-05-19 16:23:34,395 [MainThread  ] [INFO ]  Ignored file 153f00e8-95bd-4f14-9873-fb742db8aad6/charmm36-jul2017.ff/tip3p.itp\n",
      "2025-05-19 16:23:34,395 [MainThread  ] [INFO ]  Ignored file 153f00e8-95bd-4f14-9873-fb742db8aad6/charmm36-jul2017.ff/ions.itp\n",
      "2025-05-19 16:23:34,399 [MainThread  ] [INFO ]  Adding:\n",
      "2025-05-19 16:23:34,399 [MainThread  ] [INFO ]  ['153f00e8-95bd-4f14-9873-fb742db8aad6/p2g.top', '153f00e8-95bd-4f14-9873-fb742db8aad6/p2g_Protein_chain_H.itp', '153f00e8-95bd-4f14-9873-fb742db8aad6/p2g_Protein_chain_L.itp', '153f00e8-95bd-4f14-9873-fb742db8aad6/posre_Protein_chain_H.itp', '153f00e8-95bd-4f14-9873-fb742db8aad6/posre_Protein_chain_L.itp']\n",
      "2025-05-19 16:23:34,400 [MainThread  ] [INFO ]  to: /home/rchaves/repo/ab_design/biobb_wf_haddock/biobb_wf_haddock/notebooks/data/antibody/1_MD/4G6K_genion_top.zip\n",
      "2025-05-19 16:23:34,401 [MainThread  ] [INFO ]  Removed: ['153f00e8-95bd-4f14-9873-fb742db8aad6/posre_Protein_chain_H.itp', '153f00e8-95bd-4f14-9873-fb742db8aad6/p2g_Protein_chain_H.itp', '153f00e8-95bd-4f14-9873-fb742db8aad6/posre_Protein_chain_L.itp', '153f00e8-95bd-4f14-9873-fb742db8aad6/p2g_Protein_chain_L.itp', '153f00e8-95bd-4f14-9873-fb742db8aad6/p2g.top']\n",
      "2025-05-19 16:23:34,403 [MainThread  ] [INFO ]  Removed: ['/home/rchaves/repo/ab_design/biobb_wf_haddock/biobb_wf_haddock/notebooks/sandbox_eb8effc8-5f9f-4f15-a082-9663b49ff874', '153f00e8-95bd-4f14-9873-fb742db8aad6', '/home/rchaves/repo/ab_design/biobb_wf_haddock/biobb_wf_haddock/notebooks/8e08cfb8-9abf-4ea6-bb24-315ffd030804.stdin']\n",
      "2025-05-19 16:23:34,403 [MainThread  ] [INFO ]  \n"
     ]
    },
    {
     "name": "stderr",
     "output_type": "stream",
     "text": [
      "/home/rchaves/miniforge3/envs/biobb_wf_antibody/lib/python3.10/site-packages/biobb_common/generic/biobb_object.py:183: UserWarning: Warning: ionic_concentration is not a recognized property. The most similar property is: concentration\n",
      "  warnings.warn(\n"
     ]
    },
    {
     "data": {
      "text/plain": [
       "0"
      ]
     },
     "execution_count": 16,
     "metadata": {},
     "output_type": "execute_result"
    }
   ],
   "source": [
    "# Genion: Adding ions to neutralize the system\n",
    "from biobb_gromacs.gromacs.genion import genion\n",
    "\n",
    "# Create prop dict and inputs/outputs\n",
    "output_genion_gro     = f'{MD_dir}{pdbCode}_genion.gro'\n",
    "output_genion_top_zip = f'{MD_dir}{pdbCode}_genion_top.zip'\n",
    "prop={\n",
    "    'neutral':True,\n",
    "    'ionic_concentration' : 0.15\n",
    "}\n",
    "\n",
    "# Create and launch bb\n",
    "genion(input_tpr_path=output_gppion_tpr, \n",
    "       output_gro_path=output_genion_gro, \n",
    "       input_top_zip_path=output_solvate_top_zip, \n",
    "       output_top_zip_path=output_genion_top_zip, \n",
    "       properties=def_dict(prop))"
   ]
  },
  {
   "cell_type": "markdown",
   "metadata": {},
   "source": [
    "#### Visualizing 3D structure\n",
    "Visualizing the **neutralized protein system** with the newly added **ions** using **NGL**"
   ]
  },
  {
   "cell_type": "code",
   "execution_count": 51,
   "metadata": {},
   "outputs": [
    {
     "data": {
      "application/vnd.jupyter.widget-view+json": {
       "model_id": "a76fa12003d94ffda87afd18d8c17c31",
       "version_major": 2,
       "version_minor": 0
      },
      "text/plain": [
       "NGLWidget()"
      ]
     },
     "metadata": {},
     "output_type": "display_data"
    }
   ],
   "source": [
    "# Show protein\n",
    "view = nv.show_structure_file(output_genion_gro)\n",
    "view.clear_representations()\n",
    "view.add_representation(repr_type='cartoon', selection='solute', color='sstruc')\n",
    "view.add_representation(repr_type='ball+stick', selection='NA')\n",
    "view.add_representation(repr_type='ball+stick', selection='CL')\n",
    "view._remote_call('setSize', target='Widget', args=['','600px'])\n",
    "view.camera='orthographic'\n",
    "view"
   ]
  },
  {
   "cell_type": "markdown",
   "metadata": {},
   "source": [
    "<a id=\"min\"></a>\n",
    "***\n",
    "### Energetically minimize the system\n",
    "Energetically minimize the **protein system** till reaching a desired potential energy.\n",
    "- [Step 1](#emStep1): Creating portable binary run file for energy minimization\n",
    "- [Step 2](#emStep2): Energetically minimize the **system** till reaching a force of 500 kJ mol-1 nm-1.\n",
    "- [Step 3](#emStep3): Checking **energy minimization** results. Plotting energy by time during the **minimization** process.\n",
    "***\n",
    "**Building Blocks** used:\n",
    " - [Grompp](https://biobb-md.readthedocs.io/en/latest/gromacs.html#module-gromacs.grompp) from **biobb_gromacs.gromacs.grompp** \n",
    " - [Mdrun](https://biobb-md.readthedocs.io/en/latest/gromacs.html#module-gromacs.mdrun) from **biobb_gromacs.gromacs.mdrun** \n",
    " - [GMXEnergy](https://biobb-analysis.readthedocs.io/en/latest/gromacs.html#module-gromacs.gmx_energy) from **biobb_analysis.gromacs.gmx_energy** \n",
    "***"
   ]
  },
  {
   "cell_type": "markdown",
   "metadata": {},
   "source": [
    "<a id=\"emStep1\"></a>\n",
    "#### Step 1: Creating portable binary run file for energy minimization\n",
    "The **minimization** type of the **molecular dynamics parameters (mdp) property** contains the main default parameters to run an **energy minimization**:\n",
    "\n",
    "-  integrator  = steep ; Algorithm (steep = steepest descent minimization)\n",
    "-  emtol       = 1000.0 ; Stop minimization when the maximum force < 1000.0 kJ/mol/nm\n",
    "-  emstep      = 0.01 ; Minimization step size (nm)\n",
    "-  nsteps      = 50000 ; Maximum number of (minimization) steps to perform\n",
    "\n",
    "In this particular example, the method used to run the **energy minimization** is the default **steepest descent**, but the **maximum force** is placed at **500 KJ/mol\\*nm^2**, and the **maximum number of steps** to perform (if the maximum force is not reached) to **5,000 steps**. "
   ]
  },
  {
   "cell_type": "code",
   "execution_count": 19,
   "metadata": {},
   "outputs": [],
   "source": [
    "# https://github.com/alevil-gmx/workflow_template/blob/main/workflow_template/data/input/emin-charmm.mdp\n",
    "input_mdp_min = f\"{MD_inp}emin-charmm.mdp\"\n",
    "fl = \"\"\"title       = CHARMM steepest descent enrgy minimisation\n",
    "\n",
    "; Parameters describing what to do, when to stop and what to save\n",
    "integrator  = steep  ; Algorithm (steep = steepest descent minimization)\n",
    "emtol       = 1000.0 ; Stop minimization when the maximum force < 1000.0 kJ/mol/nm\n",
    "emstep      = 0.01   ; Minimization step size\n",
    "nstenergy   = 500    ; save energies every 1.0 ps, so we can observe if we are successful\n",
    "nsteps      = -1     ; run as long as we need\n",
    "; Settings that make sure we run with parameters in harmony with the selected force-field\n",
    "constraints             = h-bonds   ; bonds involving H are constrained\n",
    "rcoulomb                = 1.2       ; short-range electrostatic cutoff (in nm)\n",
    "rvdw                    = 1.2       ; short-range van der Waals cutoff (in nm)\n",
    "vdw-modifier            = Force-switch ;  specific CHARMM\n",
    "rvdw_switch             = 1.0       ;\n",
    "DispCorr                = EnerPres  ; account for cut-off vdW scheme\n",
    "coulombtype             = PME       ; Particle Mesh Ewald for long-range electrostatics\n",
    "fourierspacing          = 0.15     ; grid spacing for FFT\n",
    "\"\"\"\n",
    "\n",
    "with open(input_mdp_min, 'w') as f:\n",
    "    f.write(fl)"
   ]
  },
  {
   "cell_type": "code",
   "execution_count": 21,
   "metadata": {
    "scrolled": true
   },
   "outputs": [
    {
     "name": "stdout",
     "output_type": "stream",
     "text": [
      "2025-05-19 16:25:07,155 [MainThread  ] [INFO ]  Module: biobb_gromacs.gromacs.grompp Version: 5.0.0\n",
      "2025-05-19 16:25:07,156 [MainThread  ] [INFO ]  /home/rchaves/repo/ab_design/biobb_wf_haddock/biobb_wf_haddock/notebooks/sandbox_5a2f2751-4a29-4eb1-b837-f08578d83dfc directory successfully created\n",
      "2025-05-19 16:25:07,158 [MainThread  ] [INFO ]  Copy: data/antibody/1_MD/4G6K_genion.gro to /home/rchaves/repo/ab_design/biobb_wf_haddock/biobb_wf_haddock/notebooks/sandbox_5a2f2751-4a29-4eb1-b837-f08578d83dfc\n",
      "2025-05-19 16:25:07,159 [MainThread  ] [INFO ]  Copy: data/antibody/1_MD/input/emin-charmm.mdp to /home/rchaves/repo/ab_design/biobb_wf_haddock/biobb_wf_haddock/notebooks/sandbox_5a2f2751-4a29-4eb1-b837-f08578d83dfc\n",
      "2025-05-19 16:25:07,163 [MainThread  ] [INFO ]  Extracting: /home/rchaves/repo/ab_design/biobb_wf_haddock/biobb_wf_haddock/notebooks/data/antibody/1_MD/4G6K_genion_top.zip\n",
      "2025-05-19 16:25:07,163 [MainThread  ] [INFO ]  to:\n",
      "2025-05-19 16:25:07,163 [MainThread  ] [INFO ]  ['/home/rchaves/repo/ab_design/biobb_wf_haddock/biobb_wf_haddock/notebooks/sandbox_5a2f2751-4a29-4eb1-b837-f08578d83dfc/p2g.top', '/home/rchaves/repo/ab_design/biobb_wf_haddock/biobb_wf_haddock/notebooks/sandbox_5a2f2751-4a29-4eb1-b837-f08578d83dfc/p2g_Protein_chain_H.itp', '/home/rchaves/repo/ab_design/biobb_wf_haddock/biobb_wf_haddock/notebooks/sandbox_5a2f2751-4a29-4eb1-b837-f08578d83dfc/p2g_Protein_chain_L.itp', '/home/rchaves/repo/ab_design/biobb_wf_haddock/biobb_wf_haddock/notebooks/sandbox_5a2f2751-4a29-4eb1-b837-f08578d83dfc/posre_Protein_chain_H.itp', '/home/rchaves/repo/ab_design/biobb_wf_haddock/biobb_wf_haddock/notebooks/sandbox_5a2f2751-4a29-4eb1-b837-f08578d83dfc/posre_Protein_chain_L.itp']\n",
      "2025-05-19 16:25:07,164 [MainThread  ] [INFO ]  Unzipping: \n",
      "2025-05-19 16:25:07,164 [MainThread  ] [INFO ]  data/antibody/1_MD/4G6K_genion_top.zip\n",
      "2025-05-19 16:25:07,164 [MainThread  ] [INFO ]  To: \n",
      "2025-05-19 16:25:07,165 [MainThread  ] [INFO ]  /home/rchaves/repo/ab_design/biobb_wf_haddock/biobb_wf_haddock/notebooks/sandbox_5a2f2751-4a29-4eb1-b837-f08578d83dfc/p2g.top\n",
      "2025-05-19 16:25:07,165 [MainThread  ] [INFO ]  /home/rchaves/repo/ab_design/biobb_wf_haddock/biobb_wf_haddock/notebooks/sandbox_5a2f2751-4a29-4eb1-b837-f08578d83dfc/p2g_Protein_chain_H.itp\n",
      "2025-05-19 16:25:07,165 [MainThread  ] [INFO ]  /home/rchaves/repo/ab_design/biobb_wf_haddock/biobb_wf_haddock/notebooks/sandbox_5a2f2751-4a29-4eb1-b837-f08578d83dfc/p2g_Protein_chain_L.itp\n",
      "2025-05-19 16:25:07,165 [MainThread  ] [INFO ]  /home/rchaves/repo/ab_design/biobb_wf_haddock/biobb_wf_haddock/notebooks/sandbox_5a2f2751-4a29-4eb1-b837-f08578d83dfc/posre_Protein_chain_H.itp\n",
      "2025-05-19 16:25:07,165 [MainThread  ] [INFO ]  /home/rchaves/repo/ab_design/biobb_wf_haddock/biobb_wf_haddock/notebooks/sandbox_5a2f2751-4a29-4eb1-b837-f08578d83dfc/posre_Protein_chain_L.itp\n",
      "2025-05-19 16:25:07,166 [MainThread  ] [INFO ]  gmx -nobackup -nocopyright grompp -f /home/rchaves/repo/ab_design/biobb_wf_haddock/biobb_wf_haddock/notebooks/sandbox_5a2f2751-4a29-4eb1-b837-f08578d83dfc/grompp.mdp -c /home/rchaves/repo/ab_design/biobb_wf_haddock/biobb_wf_haddock/notebooks/sandbox_5a2f2751-4a29-4eb1-b837-f08578d83dfc/4G6K_genion.gro -r /home/rchaves/repo/ab_design/biobb_wf_haddock/biobb_wf_haddock/notebooks/sandbox_5a2f2751-4a29-4eb1-b837-f08578d83dfc/4G6K_genion.gro -p /home/rchaves/repo/ab_design/biobb_wf_haddock/biobb_wf_haddock/notebooks/sandbox_5a2f2751-4a29-4eb1-b837-f08578d83dfc/p2g.top -o /home/rchaves/repo/ab_design/biobb_wf_haddock/biobb_wf_haddock/notebooks/sandbox_5a2f2751-4a29-4eb1-b837-f08578d83dfc/4G6K_gppmin.tpr -po mdout.mdp -maxwarn 0\n",
      "\n",
      "2025-05-19 16:25:08,028 [MainThread  ] [INFO ]  Executing: gmx -nobackup -nocopyright grompp -f /home/rchaves/repo/ab_design/biobb_wf_haddo...\n",
      "2025-05-19 16:25:08,028 [MainThread  ] [INFO ]  Exit code: 0\n",
      "2025-05-19 16:25:08,029 [MainThread  ] [INFO ]  Setting the LD random seed to -1116274692\n",
      "\n",
      "Generated 97877 of the 97903 non-bonded parameter combinations\n",
      "\n",
      "Generated 64492 of the 97903 1-4 parameter combinations\n",
      "\n",
      "Excluding 3 bonded neighbours molecule type 'Protein_chain_H'\n",
      "\n",
      "turning H bonds into constraints...\n",
      "\n",
      "Excluding 3 bonded neighbours molecule type 'Protein_chain_L'\n",
      "\n",
      "turning H bonds into constraints...\n",
      "\n",
      "Excluding 2 bonded neighbours molecule type 'SOL'\n",
      "\n",
      "turning H bonds into constraints...\n",
      "\n",
      "Excluding 1 bonded neighbours molecule type 'NA'\n",
      "\n",
      "turning H bonds into constraints...\n",
      "\n",
      "Excluding 1 bonded neighbours molecule type 'CL'\n",
      "\n",
      "turning H bonds into constraints...\n",
      "Analysing residue names:\n",
      "There are:   432    Protein residues\n",
      "There are: 16778      Water residues\n",
      "There are:    43        Ion residues\n",
      "Analysing Protein...\n",
      "Analysing residues not classified as Protein/DNA/RNA/Water and splitting into groups...\n",
      "\n",
      "The largest distance between excluded atoms is 0.447 nm\n",
      "Calculating fourier grid dimensions for X Y Z\n",
      "Using a fourier grid of 64x64x64, spacing 0.147 0.147 0.147\n",
      "\n",
      "Estimate for the relative computational load of the PME mesh part: 0.15\n",
      "\n",
      "This run will generate roughly 4 Mb of data\n",
      "\n",
      "2025-05-19 16:25:08,029 [MainThread  ] [INFO ]                  :-) GROMACS - gmx grompp, 2022.2-conda_forge (-:\n",
      "\n",
      "Executable:   /home/rchaves/miniforge3/envs/biobb_wf_antibody/bin.AVX2_256/gmx\n",
      "Data prefix:  /home/rchaves/miniforge3/envs/biobb_wf_antibody\n",
      "Working dir:  /home/rchaves/repo/ab_design/biobb_wf_haddock/biobb_wf_haddock/notebooks\n",
      "Command line:\n",
      "  gmx -nobackup -nocopyright grompp -f /home/rchaves/repo/ab_design/biobb_wf_haddock/biobb_wf_haddock/notebooks/sandbox_5a2f2751-4a29-4eb1-b837-f08578d83dfc/grompp.mdp -c /home/rchaves/repo/ab_design/biobb_wf_haddock/biobb_wf_haddock/notebooks/sandbox_5a2f2751-4a29-4eb1-b837-f08578d83dfc/4G6K_genion.gro -r /home/rchaves/repo/ab_design/biobb_wf_haddock/biobb_wf_haddock/notebooks/sandbox_5a2f2751-4a29-4eb1-b837-f08578d83dfc/4G6K_genion.gro -p /home/rchaves/repo/ab_design/biobb_wf_haddock/biobb_wf_haddock/notebooks/sandbox_5a2f2751-4a29-4eb1-b837-f08578d83dfc/p2g.top -o /home/rchaves/repo/ab_design/biobb_wf_haddock/biobb_wf_haddock/notebooks/sandbox_5a2f2751-4a29-4eb1-b837-f08578d83dfc/4G6K_gppmin.tpr -po mdout.mdp -maxwarn 0\n",
      "\n",
      "Ignoring obsolete mdp entry 'title'\n",
      "Ignoring obsolete mdp entry 'ns-type'\n",
      "Generating 1-4 interactions: fudge = 1\n",
      "Number of degrees of freedom in T-Coupling group rest is 117137.00\n",
      "\n",
      "NOTE 1 [file /home/rchaves/repo/ab_design/biobb_wf_haddock/biobb_wf_haddock/notebooks/sandbox_5a2f2751-4a29-4eb1-b837-f08578d83dfc/grompp.mdp]:\n",
      "  Removing center of mass motion in the presence of position restraints\n",
      "  might cause artifacts. When you are using position restraints to\n",
      "  equilibrate a macro-molecule, the artifacts are usually negligible.\n",
      "\n",
      "\n",
      "There was 1 note\n",
      "\n",
      "GROMACS reminds you: \"Roses are read // Violets are blue // Unexpected '}' on line 32\" (Anonymous)\n",
      "\n",
      "\n",
      "2025-05-19 16:25:08,034 [MainThread  ] [INFO ]  Removed: ['/home/rchaves/repo/ab_design/biobb_wf_haddock/biobb_wf_haddock/notebooks/sandbox_5a2f2751-4a29-4eb1-b837-f08578d83dfc', 'mdout.mdp']\n",
      "2025-05-19 16:25:08,034 [MainThread  ] [INFO ]  \n"
     ]
    },
    {
     "data": {
      "text/plain": [
       "0"
      ]
     },
     "execution_count": 21,
     "metadata": {},
     "output_type": "execute_result"
    }
   ],
   "source": [
    "# Grompp: Creating portable binary run file for mdrun\n",
    "from biobb_gromacs.gromacs.grompp import grompp\n",
    "\n",
    "# Create prop dict and inputs/outputs\n",
    "output_gppmin_tpr = f'{MD_dir}{pdbCode}_gppmin.tpr'\n",
    "\n",
    "prop = {\n",
    "    'gmx_lib' : f'{cwd}/{MD_inp}',\n",
    "}\n",
    "\n",
    "# Create and launch bb\n",
    "grompp(input_gro_path=output_genion_gro, \n",
    "       input_top_zip_path=output_genion_top_zip, \n",
    "       input_mdp_path=input_mdp_min,\n",
    "       output_tpr_path=output_gppmin_tpr,  \n",
    "       properties=def_dict(prop))"
   ]
  },
  {
   "cell_type": "markdown",
   "metadata": {},
   "source": [
    "<a id=\"emStep2\"></a>\n",
    "#### Step 2: Running Energy Minimization\n",
    "Running **energy minimization** using the **tpr file** generated in the previous step. "
   ]
  },
  {
   "cell_type": "code",
   "execution_count": 22,
   "metadata": {},
   "outputs": [
    {
     "name": "stdout",
     "output_type": "stream",
     "text": [
      "2025-05-19 16:25:18,735 [MainThread  ] [INFO ]  Module: biobb_gromacs.gromacs.mdrun Version: 5.0.0\n",
      "2025-05-19 16:25:18,736 [MainThread  ] [INFO ]  /home/rchaves/repo/ab_design/biobb_wf_haddock/biobb_wf_haddock/notebooks/sandbox_cf1fc660-e862-481c-8710-56666593389a directory successfully created\n",
      "2025-05-19 16:25:18,738 [MainThread  ] [INFO ]  Copy: data/antibody/1_MD/4G6K_gppmin.tpr to /home/rchaves/repo/ab_design/biobb_wf_haddock/biobb_wf_haddock/notebooks/sandbox_cf1fc660-e862-481c-8710-56666593389a\n",
      "2025-05-19 16:25:18,738 [MainThread  ] [INFO ]  gmx -nobackup -nocopyright mdrun -o /home/rchaves/repo/ab_design/biobb_wf_haddock/biobb_wf_haddock/notebooks/sandbox_cf1fc660-e862-481c-8710-56666593389a/4G6K_min.trr -s /home/rchaves/repo/ab_design/biobb_wf_haddock/biobb_wf_haddock/notebooks/sandbox_cf1fc660-e862-481c-8710-56666593389a/4G6K_gppmin.tpr -c /home/rchaves/repo/ab_design/biobb_wf_haddock/biobb_wf_haddock/notebooks/sandbox_cf1fc660-e862-481c-8710-56666593389a/4G6K_min.gro -e /home/rchaves/repo/ab_design/biobb_wf_haddock/biobb_wf_haddock/notebooks/sandbox_cf1fc660-e862-481c-8710-56666593389a/4G6K_min.edr -g /home/rchaves/repo/ab_design/biobb_wf_haddock/biobb_wf_haddock/notebooks/sandbox_cf1fc660-e862-481c-8710-56666593389a/4G6K_min.log\n",
      "\n",
      "2025-05-19 16:25:38,815 [MainThread  ] [INFO ]  Executing: gmx -nobackup -nocopyright mdrun -o /home/rchaves/repo/ab_design/biobb_wf_haddoc...\n",
      "2025-05-19 16:25:38,816 [MainThread  ] [INFO ]  Exit code: 0\n",
      "2025-05-19 16:25:38,816 [MainThread  ] [INFO ]                  :-) GROMACS - gmx mdrun, 2022.2-conda_forge (-:\n",
      "\n",
      "Executable:   /home/rchaves/miniforge3/envs/biobb_wf_antibody/bin.AVX2_256/gmx\n",
      "Data prefix:  /home/rchaves/miniforge3/envs/biobb_wf_antibody\n",
      "Working dir:  /home/rchaves/repo/ab_design/biobb_wf_haddock/biobb_wf_haddock/notebooks\n",
      "Command line:\n",
      "  gmx -nobackup -nocopyright mdrun -o /home/rchaves/repo/ab_design/biobb_wf_haddock/biobb_wf_haddock/notebooks/sandbox_cf1fc660-e862-481c-8710-56666593389a/4G6K_min.trr -s /home/rchaves/repo/ab_design/biobb_wf_haddock/biobb_wf_haddock/notebooks/sandbox_cf1fc660-e862-481c-8710-56666593389a/4G6K_gppmin.tpr -c /home/rchaves/repo/ab_design/biobb_wf_haddock/biobb_wf_haddock/notebooks/sandbox_cf1fc660-e862-481c-8710-56666593389a/4G6K_min.gro -e /home/rchaves/repo/ab_design/biobb_wf_haddock/biobb_wf_haddock/notebooks/sandbox_cf1fc660-e862-481c-8710-56666593389a/4G6K_min.edr -g /home/rchaves/repo/ab_design/biobb_wf_haddock/biobb_wf_haddock/notebooks/sandbox_cf1fc660-e862-481c-8710-56666593389a/4G6K_min.log\n",
      "\n",
      "Reading file /home/rchaves/repo/ab_design/biobb_wf_haddock/biobb_wf_haddock/notebooks/sandbox_cf1fc660-e862-481c-8710-56666593389a/4G6K_gppmin.tpr, VERSION 2022.2-conda_forge (single precision)\n",
      "Using 1 MPI thread\n",
      "Using 16 OpenMP threads \n",
      "\n",
      "\n",
      "Steepest Descents:\n",
      "   Tolerance (Fmax)   =  1.00000e+03\n",
      "   Number of steps    =           -1\n",
      "\n",
      "writing lowest energy coordinates.\n",
      "\n",
      "Steepest Descents converged to Fmax < 1000 in 770 steps\n",
      "Potential Energy  = -8.5682206e+05\n",
      "Maximum force     =  9.7496631e+02 on atom 5176\n",
      "Norm of force     =  1.8398587e+01\n",
      "\n",
      "GROMACS reminds you: \"Consistently separating words by spaces became a general custom about the tenth century A.D., and lasted until about 1957, when FORTRAN abandoned the practice.\" (Sun FORTRAN Reference Manual)\n",
      "\n",
      "\n",
      "2025-05-19 16:25:38,821 [MainThread  ] [INFO ]  Removed: ['/home/rchaves/repo/ab_design/biobb_wf_haddock/biobb_wf_haddock/notebooks/sandbox_cf1fc660-e862-481c-8710-56666593389a']\n",
      "2025-05-19 16:25:38,822 [MainThread  ] [INFO ]  \n"
     ]
    },
    {
     "data": {
      "text/plain": [
       "0"
      ]
     },
     "execution_count": 22,
     "metadata": {},
     "output_type": "execute_result"
    }
   ],
   "source": [
    "# Mdrun: Running minimization\n",
    "from biobb_gromacs.gromacs.mdrun import mdrun\n",
    "\n",
    "# Create prop dict and inputs/outputs\n",
    "output_min_trr = f'{MD_dir}{pdbCode}_min.trr'\n",
    "output_min_gro = f'{MD_dir}{pdbCode}_min.gro'\n",
    "output_min_edr = f'{MD_dir}{pdbCode}_min.edr'\n",
    "output_min_log = f'{MD_dir}{pdbCode}_min.log'\n",
    "\n",
    "# Create and launch bb\n",
    "mdrun(input_tpr_path=output_gppmin_tpr, \n",
    "      output_trr_path=output_min_trr, \n",
    "      output_gro_path=output_min_gro, \n",
    "      output_edr_path=output_min_edr, \n",
    "      output_log_path=output_min_log,\n",
    "      properties=def_dict(prop))"
   ]
  },
  {
   "cell_type": "markdown",
   "metadata": {},
   "source": [
    "<a id=\"emStep3\"></a>\n",
    "#### Step 3: Checking Energy Minimization results\n",
    "Checking **energy minimization** results. Plotting **potential energy** by time during the minimization process. "
   ]
  },
  {
   "cell_type": "code",
   "execution_count": 23,
   "metadata": {
    "scrolled": true
   },
   "outputs": [
    {
     "name": "stdout",
     "output_type": "stream",
     "text": [
      "2025-05-19 16:25:38,853 [MainThread  ] [INFO ]  Module: biobb_analysis.gromacs.gmx_energy Version: 5.0.1\n",
      "2025-05-19 16:25:38,853 [MainThread  ] [INFO ]  /home/rchaves/repo/ab_design/biobb_wf_haddock/biobb_wf_haddock/notebooks/sandbox_30102591-632e-46c6-a3fd-4fc02fb479e7 directory successfully created\n",
      "2025-05-19 16:25:38,854 [MainThread  ] [INFO ]  Copy: /home/rchaves/repo/ab_design/biobb_wf_haddock/biobb_wf_haddock/notebooks/data/antibody/1_MD/4G6K_min.edr to /home/rchaves/repo/ab_design/biobb_wf_haddock/biobb_wf_haddock/notebooks/sandbox_30102591-632e-46c6-a3fd-4fc02fb479e7\n",
      "2025-05-19 16:25:38,855 [MainThread  ] [INFO ]  gmx energy -f /home/rchaves/repo/ab_design/biobb_wf_haddock/biobb_wf_haddock/notebooks/sandbox_30102591-632e-46c6-a3fd-4fc02fb479e7/4G6K_min.edr -o /home/rchaves/repo/ab_design/biobb_wf_haddock/biobb_wf_haddock/notebooks/sandbox_30102591-632e-46c6-a3fd-4fc02fb479e7/4G6K_min_ene.xvg -xvg none < 66740b61-b7f9-458b-8eb2-d68f6523457f/instructions.in\n",
      "\n",
      "2025-05-19 16:25:38,869 [MainThread  ] [INFO ]  Executing: gmx energy -f /home/rchaves/repo/ab_design/biobb_wf_haddock/biobb_wf_haddock/not...\n",
      "2025-05-19 16:25:38,870 [MainThread  ] [INFO ]  Exit code: 0\n",
      "2025-05-19 16:25:38,870 [MainThread  ] [INFO ]  \n",
      "Statistics over 770 steps [ 0.0000 through 769.0000 ps ], 1 data sets\n",
      "All statistics are over 610 points (frames)\n",
      "\n",
      "Energy                      Average   Err.Est.       RMSD  Tot-Drift\n",
      "-------------------------------------------------------------------------------\n",
      "Potential                   -825272      16000    43734.9    -108199  (kJ/mol)\n",
      "\n",
      "2025-05-19 16:25:38,870 [MainThread  ] [INFO ]                  :-) GROMACS - gmx energy, 2022.2-conda_forge (-:\n",
      "\n",
      "Executable:   /home/rchaves/miniforge3/envs/biobb_wf_antibody/bin.AVX2_256/gmx\n",
      "Data prefix:  /home/rchaves/miniforge3/envs/biobb_wf_antibody\n",
      "Working dir:  /home/rchaves/repo/ab_design/biobb_wf_haddock/biobb_wf_haddock/notebooks\n",
      "Command line:\n",
      "  gmx energy -f /home/rchaves/repo/ab_design/biobb_wf_haddock/biobb_wf_haddock/notebooks/sandbox_30102591-632e-46c6-a3fd-4fc02fb479e7/4G6K_min.edr -o /home/rchaves/repo/ab_design/biobb_wf_haddock/biobb_wf_haddock/notebooks/sandbox_30102591-632e-46c6-a3fd-4fc02fb479e7/4G6K_min_ene.xvg -xvg none\n",
      "\n",
      "Opened /home/rchaves/repo/ab_design/biobb_wf_haddock/biobb_wf_haddock/notebooks/sandbox_30102591-632e-46c6-a3fd-4fc02fb479e7/4G6K_min.edr as single precision energy file\n",
      "\n",
      "Select the terms you want from the following list by\n",
      "selecting either (part of) the name or the number or a combination.\n",
      "End your selection with an empty line or a zero.\n",
      "-------------------------------------------------------------------\n",
      "  1  Bond             2  U-B              3  Proper-Dih.      4  Improper-Dih. \n",
      "  5  CMAP-Dih.        6  LJ-14            7  Coulomb-14       8  LJ-(SR)       \n",
      "  9  Disper.-corr.   10  Coulomb-(SR)    11  Coul.-recip.    12  Position-Rest.\n",
      " 13  Potential       14  Pres.-DC        15  Pressure        16  Constr.-rmsd  \n",
      " 17  Vir-XX          18  Vir-XY          19  Vir-XZ          20  Vir-YX        \n",
      " 21  Vir-YY          22  Vir-YZ          23  Vir-ZX          24  Vir-ZY        \n",
      " 25  Vir-ZZ          26  Pres-XX         27  Pres-XY         28  Pres-XZ       \n",
      " 29  Pres-YX         30  Pres-YY         31  Pres-YZ         32  Pres-ZX       \n",
      " 33  Pres-ZY         34  Pres-ZZ         35  #Surf*SurfTen   36  T-rest        \n",
      "\n",
      "Last energy frame read 609 time  769.000          \n",
      "\n",
      "GROMACS reminds you: \"Consistently separating words by spaces became a general custom about the tenth century A.D., and lasted until about 1957, when FORTRAN abandoned the practice.\" (Sun FORTRAN Reference Manual)\n",
      "\n",
      "\n",
      "2025-05-19 16:25:38,871 [MainThread  ] [INFO ]  Removed: ['/home/rchaves/repo/ab_design/biobb_wf_haddock/biobb_wf_haddock/notebooks/sandbox_30102591-632e-46c6-a3fd-4fc02fb479e7', '66740b61-b7f9-458b-8eb2-d68f6523457f']\n",
      "2025-05-19 16:25:38,872 [MainThread  ] [INFO ]  \n"
     ]
    },
    {
     "data": {
      "text/plain": [
       "0"
      ]
     },
     "execution_count": 23,
     "metadata": {},
     "output_type": "execute_result"
    }
   ],
   "source": [
    "# GMXEnergy: Getting system energy by time  \n",
    "from biobb_analysis.gromacs.gmx_energy import gmx_energy\n",
    "\n",
    "# Create prop dict and inputs/outputs\n",
    "output_min_ene_xvg = f'{MD_dir}{pdbCode}_min_ene.xvg'\n",
    "prop = {\n",
    "    'terms':  [\"Potential\"]\n",
    "}\n",
    "\n",
    "# Create and launch bb\n",
    "gmx_energy(input_energy_path=output_min_edr, \n",
    "          output_xvg_path=output_min_ene_xvg, \n",
    "          properties=def_dict(prop))"
   ]
  },
  {
   "cell_type": "code",
   "execution_count": 24,
   "metadata": {},
   "outputs": [
    {
     "data": {
      "text/html": [
       "        <script type=\"text/javascript\">\n",
       "        window.PlotlyConfig = {MathJaxConfig: 'local'};\n",
       "        if (window.MathJax && window.MathJax.Hub && window.MathJax.Hub.Config) {window.MathJax.Hub.Config({SVG: {font: \"STIX-Web\"}});}\n",
       "        </script>\n",
       "        <script type=\"module\">import \"https://cdn.plot.ly/plotly-3.0.1.min\"</script>\n",
       "        "
      ]
     },
     "metadata": {},
     "output_type": "display_data"
    },
    {
     "data": {
      "application/vnd.plotly.v1+json": {
       "config": {
        "linkText": "Export to plot.ly",
        "plotlyServerURL": "https://plot.ly",
        "showLink": false
       },
       "data": [
        {
         "type": "scatter",
         "x": [
          0,
          1,
          2,
          3,
          4,
          5,
          6,
          7,
          8,
          9,
          10,
          11,
          12,
          14,
          16,
          17,
          18,
          20,
          21,
          22,
          24,
          25,
          26,
          28,
          29,
          30,
          32,
          33,
          34,
          35,
          36,
          38,
          39,
          40,
          42,
          43,
          44,
          45,
          46,
          48,
          49,
          50,
          52,
          53,
          54,
          55,
          57,
          58,
          59,
          61,
          62,
          63,
          64,
          65,
          66,
          68,
          69,
          70,
          72,
          73,
          74,
          75,
          76,
          78,
          79,
          80,
          82,
          83,
          85,
          86,
          87,
          89,
          90,
          91,
          92,
          93,
          94,
          95,
          97,
          98,
          99,
          101,
          102,
          103,
          104,
          106,
          107,
          108,
          110,
          111,
          112,
          113,
          115,
          116,
          117,
          119,
          120,
          121,
          122,
          124,
          125,
          126,
          128,
          129,
          130,
          131,
          132,
          134,
          135,
          136,
          138,
          139,
          140,
          141,
          142,
          143,
          145,
          147,
          148,
          149,
          150,
          152,
          153,
          154,
          156,
          157,
          158,
          160,
          161,
          162,
          163,
          164,
          165,
          166,
          168,
          169,
          170,
          172,
          173,
          174,
          175,
          177,
          178,
          179,
          181,
          182,
          183,
          184,
          185,
          186,
          188,
          190,
          191,
          192,
          193,
          195,
          196,
          197,
          199,
          200,
          201,
          203,
          204,
          205,
          206,
          207,
          209,
          210,
          211,
          213,
          214,
          215,
          216,
          217,
          218,
          220,
          221,
          222,
          224,
          225,
          226,
          227,
          229,
          230,
          231,
          233,
          234,
          235,
          236,
          237,
          238,
          240,
          241,
          242,
          244,
          245,
          246,
          247,
          249,
          250,
          251,
          253,
          254,
          255,
          256,
          258,
          259,
          260,
          262,
          263,
          264,
          265,
          266,
          268,
          269,
          270,
          272,
          273,
          274,
          275,
          277,
          278,
          279,
          281,
          282,
          283,
          284,
          285,
          287,
          288,
          289,
          291,
          292,
          293,
          294,
          296,
          297,
          298,
          300,
          301,
          302,
          303,
          304,
          306,
          307,
          308,
          310,
          311,
          312,
          313,
          315,
          316,
          317,
          319,
          320,
          321,
          322,
          324,
          325,
          326,
          328,
          329,
          330,
          331,
          332,
          333,
          335,
          336,
          337,
          339,
          340,
          341,
          342,
          344,
          345,
          346,
          348,
          349,
          350,
          351,
          352,
          354,
          355,
          356,
          358,
          359,
          360,
          361,
          363,
          364,
          365,
          367,
          368,
          369,
          370,
          371,
          373,
          374,
          375,
          377,
          378,
          380,
          381,
          382,
          384,
          385,
          386,
          387,
          388,
          389,
          390,
          392,
          393,
          394,
          396,
          397,
          398,
          399,
          401,
          402,
          403,
          405,
          406,
          407,
          408,
          410,
          411,
          412,
          414,
          415,
          416,
          417,
          418,
          419,
          421,
          422,
          423,
          425,
          426,
          428,
          429,
          430,
          432,
          433,
          434,
          435,
          436,
          437,
          438,
          440,
          441,
          442,
          444,
          445,
          446,
          447,
          449,
          450,
          451,
          453,
          454,
          455,
          456,
          458,
          459,
          460,
          462,
          463,
          464,
          465,
          467,
          468,
          469,
          471,
          472,
          473,
          474,
          475,
          476,
          478,
          479,
          480,
          482,
          483,
          484,
          485,
          487,
          488,
          489,
          491,
          492,
          493,
          494,
          495,
          497,
          498,
          499,
          501,
          502,
          503,
          504,
          506,
          507,
          508,
          510,
          511,
          512,
          513,
          514,
          516,
          517,
          518,
          520,
          521,
          522,
          523,
          525,
          526,
          527,
          529,
          530,
          531,
          532,
          533,
          535,
          536,
          537,
          539,
          540,
          541,
          542,
          544,
          545,
          546,
          548,
          549,
          550,
          551,
          552,
          554,
          555,
          556,
          558,
          559,
          560,
          561,
          563,
          564,
          565,
          567,
          568,
          569,
          570,
          571,
          573,
          574,
          575,
          577,
          578,
          579,
          580,
          582,
          583,
          584,
          586,
          587,
          588,
          589,
          590,
          591,
          593,
          595,
          596,
          597,
          598,
          600,
          601,
          602,
          604,
          605,
          606,
          607,
          608,
          610,
          611,
          612,
          614,
          615,
          616,
          617,
          618,
          620,
          621,
          622,
          624,
          625,
          626,
          627,
          628,
          630,
          631,
          632,
          634,
          635,
          636,
          637,
          638,
          639,
          641,
          643,
          644,
          645,
          646,
          648,
          649,
          650,
          652,
          653,
          654,
          656,
          657,
          658,
          659,
          660,
          662,
          663,
          664,
          666,
          667,
          668,
          669,
          670,
          672,
          673,
          674,
          676,
          677,
          678,
          679,
          680,
          682,
          683,
          684,
          686,
          687,
          688,
          689,
          690,
          691,
          693,
          694,
          695,
          697,
          698,
          699,
          700,
          702,
          703,
          704,
          706,
          707,
          708,
          709,
          711,
          712,
          713,
          715,
          716,
          717,
          718,
          720,
          721,
          722,
          724,
          725,
          726,
          727,
          728,
          729,
          731,
          732,
          733,
          735,
          736,
          737,
          738,
          740,
          741,
          742,
          744,
          745,
          746,
          747,
          748,
          750,
          751,
          752,
          754,
          755,
          756,
          757,
          759,
          760,
          761,
          763,
          764,
          765,
          766,
          767,
          769
         ],
         "y": [
          -443273.5,
          -465062.53125,
          -506159.21875,
          -564507.625,
          -609953.6875,
          -649245,
          -666895.625,
          -674735.125,
          -680707.6875,
          -686046.5,
          -687415.4375,
          -690197.125,
          -691252.6875,
          -705897.25,
          -709347.5,
          -711776.4375,
          -714858.875,
          -718915.6875,
          -721473.25,
          -726716.25,
          -729169.5,
          -730356.625,
          -732743.6875,
          -735606.5625,
          -737571.3125,
          -741046.3125,
          -742654.25,
          -743834.375,
          -745291.125,
          -745701.375,
          -746896.125,
          -750242.9375,
          -751232.5,
          -755273.1875,
          -756304.5,
          -757031.0625,
          -757847.375,
          -757988.375,
          -758387.8125,
          -762043.25,
          -762127.25,
          -766534.125,
          -767141.875,
          -767864.375,
          -768206.875,
          -768655.5,
          -770881.75,
          -772789.6875,
          -774998,
          -775599.25,
          -776237.25,
          -776653.0625,
          -777220.875,
          -777340.625,
          -777775.5625,
          -779608.0625,
          -779899.375,
          -782265.0625,
          -782683.8125,
          -783134.25,
          -783392.6875,
          -783662.5625,
          -783679.125,
          -785580.3125,
          -786384.4375,
          -789073,
          -789258.0625,
          -789772.25,
          -790469.375,
          -790964.6875,
          -791797.1875,
          -792191.25,
          -792525.5,
          -792903.0625,
          -793108.25,
          -793416.5,
          -793432.75,
          -793546.4375,
          -794961,
          -795148.9375,
          -796785.0625,
          -797015.0625,
          -797301.3125,
          -797371.875,
          -797576.125,
          -798541.5,
          -798586.625,
          -799993.4375,
          -800195,
          -800434.875,
          -800510.875,
          -800620,
          -801571.6875,
          -801911.375,
          -803070.0625,
          -803263.75,
          -803499.25,
          -803572.6875,
          -803746.5,
          -804459.625,
          -804650.875,
          -805539.4375,
          -805756,
          -805935.875,
          -806110.5625,
          -806204.6875,
          -806289,
          -807039.375,
          -807506.5625,
          -808318,
          -808499.6875,
          -808687.8125,
          -808809.5625,
          -808944.75,
          -808959.125,
          -808989,
          -809878.3125,
          -810201.125,
          -810558,
          -810571,
          -811005.75,
          -811249.5625,
          -811351.75,
          -811614.25,
          -811871.5,
          -812068.375,
          -812389,
          -812575.625,
          -812744,
          -812934.5,
          -813036.5625,
          -813214.3125,
          -813221.4375,
          -813357.4375,
          -813897.25,
          -813906.5,
          -814656.5625,
          -814780.4375,
          -814924.75,
          -814986,
          -815081.4375,
          -815547,
          -815805.6875,
          -816360,
          -816495,
          -816626.25,
          -816722.8125,
          -816810.875,
          -816831.9375,
          -816836.875,
          -817501.0625,
          -817758,
          -818025.25,
          -818037.0625,
          -818364,
          -818543.5625,
          -818619,
          -818812.6875,
          -819007.5,
          -819155.8125,
          -819399.375,
          -819540.4375,
          -819666.6875,
          -819811.5625,
          -819885.9375,
          -820021.9375,
          -820258.4375,
          -820479.0625,
          -820791.25,
          -820916.875,
          -821035.1875,
          -821141.75,
          -821236,
          -821304.875,
          -821347.5,
          -821732.6875,
          -822082.125,
          -822548.375,
          -822645.375,
          -822761.125,
          -822814.5625,
          -822908.6875,
          -823188.5,
          -823375.4375,
          -823755.875,
          -823857.0625,
          -823965.3125,
          -824033.625,
          -824121,
          -824133.0625,
          -824165.75,
          -824603.625,
          -824655.125,
          -825199,
          -825273.9375,
          -825366.1875,
          -825392.9375,
          -825451.8125,
          -825792.25,
          -825869,
          -826340.9375,
          -826415.25,
          -826515.8125,
          -826545.625,
          -826621.6875,
          -826898.9375,
          -827017.25,
          -827365.4375,
          -827453.5,
          -827535,
          -827599.6875,
          -827652.0625,
          -827667.6875,
          -828002.125,
          -828280.8125,
          -828696.125,
          -828763.4375,
          -828859.25,
          -828882.9375,
          -828964.125,
          -829202.5625,
          -829279,
          -829600.625,
          -829680.1875,
          -829757.625,
          -829814.375,
          -829866.125,
          -829880.4375,
          -830183.625,
          -830429.5,
          -830857.875,
          -830912.9375,
          -831015.875,
          -831020.625,
          -831116.125,
          -831326.125,
          -831364.4375,
          -831630.25,
          -831712.8125,
          -831770.4375,
          -831843.25,
          -831865.3125,
          -831909.75,
          -832171.125,
          -832264.125,
          -832596.4375,
          -832660.8125,
          -832731.375,
          -832767.4375,
          -832816.625,
          -833031.75,
          -833168.75,
          -833462.25,
          -833526.8125,
          -833603,
          -833640,
          -833702.5625,
          -833877.6875,
          -834015.5625,
          -834237.6875,
          -834307.9375,
          -834374.5,
          -834430.3125,
          -834479.625,
          -834504.8125,
          -834519.5625,
          -834797.6875,
          -834875.125,
          -835264,
          -835305.75,
          -835385.375,
          -835387,
          -835452.375,
          -835659.25,
          -835682.8125,
          -835947,
          -836011.125,
          -836061.5,
          -836110,
          -836133.375,
          -836146.1875,
          -836405.875,
          -836511.375,
          -836841.6875,
          -836887,
          -836953.5,
          -836965.3125,
          -837018,
          -837212.1875,
          -837248.75,
          -837511.25,
          -837566.1875,
          -837622.5625,
          -837657.8125,
          -837693.5625,
          -837693.75,
          -837940.875,
          -838103.75,
          -838452.5,
          -838487.75,
          -838566.1875,
          -838660.9375,
          -838742.5,
          -838859.9375,
          -838924.25,
          -838980.8125,
          -839046.5,
          -839081.5625,
          -839142.0625,
          -839143.4375,
          -839184.3125,
          -839390.5625,
          -839405.125,
          -839670.0625,
          -839718.6875,
          -839766.125,
          -839794.625,
          -839821.1875,
          -840002.25,
          -840117.5,
          -840365.8125,
          -840411,
          -840471.8125,
          -840491.4375,
          -840543.1875,
          -840683.0625,
          -840756.5,
          -840935.5,
          -840989,
          -841037.625,
          -841079.875,
          -841112.125,
          -841130.875,
          -841133.125,
          -841366.125,
          -841415.5625,
          -841740.625,
          -841769.0625,
          -841832,
          -841925.8125,
          -842003.8125,
          -842122.0625,
          -842176.9375,
          -842225.5,
          -842278.1875,
          -842310.1875,
          -842354.0625,
          -842358.875,
          -842376.75,
          -842585.9375,
          -842606.125,
          -842876.625,
          -842912,
          -842960.0625,
          -842970,
          -843003.5625,
          -843169.8125,
          -843197.875,
          -843422.8125,
          -843463.5,
          -843509.3125,
          -843532.5,
          -843561.75,
          -843705.5625,
          -843804.875,
          -843990.25,
          -844032.9375,
          -844080.75,
          -844106.875,
          -844145.5,
          -844262,
          -844357.625,
          -844513.0625,
          -844558.5,
          -844605,
          -844638,
          -844675.0625,
          -844687,
          -844699.75,
          -844883.6875,
          -844936,
          -845174.625,
          -845206.8125,
          -845254.125,
          -845261.5,
          -845299,
          -845439.25,
          -845463.0625,
          -845651.125,
          -845691.25,
          -845730.125,
          -845757.1875,
          -845780.125,
          -845783.0625,
          -845959.9375,
          -846054,
          -846298.5,
          -846325.6875,
          -846378.875,
          -846379.375,
          -846424.5625,
          -846551.125,
          -846566,
          -846729.4375,
          -846771.125,
          -846804.125,
          -846836.75,
          -846852.625,
          -846863.5,
          -847024.875,
          -847099.6875,
          -847308.9375,
          -847338.8125,
          -847384.3125,
          -847391.75,
          -847429.6875,
          -847549.75,
          -847574.8125,
          -847734.875,
          -847773.3125,
          -847808.1875,
          -847836.75,
          -847856.4375,
          -847865.6875,
          -848016.6875,
          -848094.875,
          -848302.1875,
          -848330.25,
          -848375.9375,
          -848382.8125,
          -848420.3125,
          -848532.75,
          -848562.9375,
          -848707.9375,
          -848745.4375,
          -848778.625,
          -848806.8125,
          -848826.75,
          -848834.875,
          -848977.5,
          -849081.5625,
          -849266.8125,
          -849294.8125,
          -849338,
          -849345.0625,
          -849384.25,
          -849486.5625,
          -849510.875,
          -849646.375,
          -849683.5,
          -849714.0625,
          -849743.8125,
          -849760.0625,
          -849774.9375,
          -849903.3125,
          -849965.3125,
          -850140,
          -850168.4375,
          -850207.875,
          -850218.9375,
          -850250.25,
          -850350.4375,
          -850395.8125,
          -850526,
          -850559.8125,
          -850592.4375,
          -850617.4375,
          -850640.25,
          -850645.625,
          -850648.8125,
          -850812.1875,
          -850876.4375,
          -850939.8125,
          -850947.625,
          -851023.625,
          -851072.375,
          -851094.3125,
          -851149.625,
          -851196.625,
          -851232.375,
          -851288.75,
          -851289.6875,
          -851353.8125,
          -851414.25,
          -851430.3125,
          -851504.3125,
          -851547.125,
          -851572.6875,
          -851619.9375,
          -851621.75,
          -851669,
          -851746.125,
          -851762.125,
          -851860.4375,
          -851897.6875,
          -851922,
          -851957.6875,
          -851965.75,
          -851992.5625,
          -852091.0625,
          -852124.875,
          -852252.5,
          -852282.875,
          -852312.5625,
          -852333,
          -852353.25,
          -852354,
          -852355.3125,
          -852515.1875,
          -852569.25,
          -852629.875,
          -852631.4375,
          -852704.1875,
          -852750.1875,
          -852766.5625,
          -852819.875,
          -852864.3125,
          -852893.8125,
          -852947,
          -852983.625,
          -853017,
          -853058.125,
          -853071.125,
          -853115.8125,
          -853169.25,
          -853200.875,
          -853267.875,
          -853302.5,
          -853330.25,
          -853365.375,
          -853379.3125,
          -853413.125,
          -853478.1875,
          -853519.9375,
          -853604.875,
          -853636,
          -853663.5625,
          -853691.5625,
          -853709.625,
          -853729.125,
          -853809.25,
          -853884.125,
          -853991.4375,
          -854019.3125,
          -854049.8125,
          -854067.875,
          -854093.125,
          -854095.5625,
          -854106.4375,
          -854227.1875,
          -854235.8125,
          -854393.625,
          -854413.4375,
          -854441.9375,
          -854447.0625,
          -854467.1875,
          -854563.125,
          -854577.9375,
          -854706.5625,
          -854730.6875,
          -854756.4375,
          -854770.75,
          -854786.6875,
          -854871.125,
          -854937.6875,
          -855048.25,
          -855072.625,
          -855101.875,
          -855115.5625,
          -855140.5,
          -855207,
          -855253.5625,
          -855341.375,
          -855368.5,
          -855394.4375,
          -855415.875,
          -855435,
          -855445.1875,
          -855448.9375,
          -855559.25,
          -855608.4375,
          -855752.75,
          -855770.375,
          -855800.5,
          -855802.375,
          -855828.4375,
          -855908.125,
          -855915.6875,
          -856021.25,
          -856046.3125,
          -856067.5,
          -856086.5625,
          -856096.1875,
          -856103.5625,
          -856204.25,
          -856236.1875,
          -856373.25,
          -856391.4375,
          -856419.4375,
          -856424.3125,
          -856446,
          -856523.5,
          -856544.125,
          -856645.3125,
          -856668.8125,
          -856691.25,
          -856707.0625,
          -856722.0625,
          -856723.0625,
          -856822.0625
         ]
        }
       ],
       "layout": {
        "template": {
         "data": {
          "bar": [
           {
            "error_x": {
             "color": "#2a3f5f"
            },
            "error_y": {
             "color": "#2a3f5f"
            },
            "marker": {
             "line": {
              "color": "#E5ECF6",
              "width": 0.5
             },
             "pattern": {
              "fillmode": "overlay",
              "size": 10,
              "solidity": 0.2
             }
            },
            "type": "bar"
           }
          ],
          "barpolar": [
           {
            "marker": {
             "line": {
              "color": "#E5ECF6",
              "width": 0.5
             },
             "pattern": {
              "fillmode": "overlay",
              "size": 10,
              "solidity": 0.2
             }
            },
            "type": "barpolar"
           }
          ],
          "carpet": [
           {
            "aaxis": {
             "endlinecolor": "#2a3f5f",
             "gridcolor": "white",
             "linecolor": "white",
             "minorgridcolor": "white",
             "startlinecolor": "#2a3f5f"
            },
            "baxis": {
             "endlinecolor": "#2a3f5f",
             "gridcolor": "white",
             "linecolor": "white",
             "minorgridcolor": "white",
             "startlinecolor": "#2a3f5f"
            },
            "type": "carpet"
           }
          ],
          "choropleth": [
           {
            "colorbar": {
             "outlinewidth": 0,
             "ticks": ""
            },
            "type": "choropleth"
           }
          ],
          "contour": [
           {
            "colorbar": {
             "outlinewidth": 0,
             "ticks": ""
            },
            "colorscale": [
             [
              0,
              "#0d0887"
             ],
             [
              0.1111111111111111,
              "#46039f"
             ],
             [
              0.2222222222222222,
              "#7201a8"
             ],
             [
              0.3333333333333333,
              "#9c179e"
             ],
             [
              0.4444444444444444,
              "#bd3786"
             ],
             [
              0.5555555555555556,
              "#d8576b"
             ],
             [
              0.6666666666666666,
              "#ed7953"
             ],
             [
              0.7777777777777778,
              "#fb9f3a"
             ],
             [
              0.8888888888888888,
              "#fdca26"
             ],
             [
              1,
              "#f0f921"
             ]
            ],
            "type": "contour"
           }
          ],
          "contourcarpet": [
           {
            "colorbar": {
             "outlinewidth": 0,
             "ticks": ""
            },
            "type": "contourcarpet"
           }
          ],
          "heatmap": [
           {
            "colorbar": {
             "outlinewidth": 0,
             "ticks": ""
            },
            "colorscale": [
             [
              0,
              "#0d0887"
             ],
             [
              0.1111111111111111,
              "#46039f"
             ],
             [
              0.2222222222222222,
              "#7201a8"
             ],
             [
              0.3333333333333333,
              "#9c179e"
             ],
             [
              0.4444444444444444,
              "#bd3786"
             ],
             [
              0.5555555555555556,
              "#d8576b"
             ],
             [
              0.6666666666666666,
              "#ed7953"
             ],
             [
              0.7777777777777778,
              "#fb9f3a"
             ],
             [
              0.8888888888888888,
              "#fdca26"
             ],
             [
              1,
              "#f0f921"
             ]
            ],
            "type": "heatmap"
           }
          ],
          "histogram": [
           {
            "marker": {
             "pattern": {
              "fillmode": "overlay",
              "size": 10,
              "solidity": 0.2
             }
            },
            "type": "histogram"
           }
          ],
          "histogram2d": [
           {
            "colorbar": {
             "outlinewidth": 0,
             "ticks": ""
            },
            "colorscale": [
             [
              0,
              "#0d0887"
             ],
             [
              0.1111111111111111,
              "#46039f"
             ],
             [
              0.2222222222222222,
              "#7201a8"
             ],
             [
              0.3333333333333333,
              "#9c179e"
             ],
             [
              0.4444444444444444,
              "#bd3786"
             ],
             [
              0.5555555555555556,
              "#d8576b"
             ],
             [
              0.6666666666666666,
              "#ed7953"
             ],
             [
              0.7777777777777778,
              "#fb9f3a"
             ],
             [
              0.8888888888888888,
              "#fdca26"
             ],
             [
              1,
              "#f0f921"
             ]
            ],
            "type": "histogram2d"
           }
          ],
          "histogram2dcontour": [
           {
            "colorbar": {
             "outlinewidth": 0,
             "ticks": ""
            },
            "colorscale": [
             [
              0,
              "#0d0887"
             ],
             [
              0.1111111111111111,
              "#46039f"
             ],
             [
              0.2222222222222222,
              "#7201a8"
             ],
             [
              0.3333333333333333,
              "#9c179e"
             ],
             [
              0.4444444444444444,
              "#bd3786"
             ],
             [
              0.5555555555555556,
              "#d8576b"
             ],
             [
              0.6666666666666666,
              "#ed7953"
             ],
             [
              0.7777777777777778,
              "#fb9f3a"
             ],
             [
              0.8888888888888888,
              "#fdca26"
             ],
             [
              1,
              "#f0f921"
             ]
            ],
            "type": "histogram2dcontour"
           }
          ],
          "mesh3d": [
           {
            "colorbar": {
             "outlinewidth": 0,
             "ticks": ""
            },
            "type": "mesh3d"
           }
          ],
          "parcoords": [
           {
            "line": {
             "colorbar": {
              "outlinewidth": 0,
              "ticks": ""
             }
            },
            "type": "parcoords"
           }
          ],
          "pie": [
           {
            "automargin": true,
            "type": "pie"
           }
          ],
          "scatter": [
           {
            "fillpattern": {
             "fillmode": "overlay",
             "size": 10,
             "solidity": 0.2
            },
            "type": "scatter"
           }
          ],
          "scatter3d": [
           {
            "line": {
             "colorbar": {
              "outlinewidth": 0,
              "ticks": ""
             }
            },
            "marker": {
             "colorbar": {
              "outlinewidth": 0,
              "ticks": ""
             }
            },
            "type": "scatter3d"
           }
          ],
          "scattercarpet": [
           {
            "marker": {
             "colorbar": {
              "outlinewidth": 0,
              "ticks": ""
             }
            },
            "type": "scattercarpet"
           }
          ],
          "scattergeo": [
           {
            "marker": {
             "colorbar": {
              "outlinewidth": 0,
              "ticks": ""
             }
            },
            "type": "scattergeo"
           }
          ],
          "scattergl": [
           {
            "marker": {
             "colorbar": {
              "outlinewidth": 0,
              "ticks": ""
             }
            },
            "type": "scattergl"
           }
          ],
          "scattermap": [
           {
            "marker": {
             "colorbar": {
              "outlinewidth": 0,
              "ticks": ""
             }
            },
            "type": "scattermap"
           }
          ],
          "scattermapbox": [
           {
            "marker": {
             "colorbar": {
              "outlinewidth": 0,
              "ticks": ""
             }
            },
            "type": "scattermapbox"
           }
          ],
          "scatterpolar": [
           {
            "marker": {
             "colorbar": {
              "outlinewidth": 0,
              "ticks": ""
             }
            },
            "type": "scatterpolar"
           }
          ],
          "scatterpolargl": [
           {
            "marker": {
             "colorbar": {
              "outlinewidth": 0,
              "ticks": ""
             }
            },
            "type": "scatterpolargl"
           }
          ],
          "scatterternary": [
           {
            "marker": {
             "colorbar": {
              "outlinewidth": 0,
              "ticks": ""
             }
            },
            "type": "scatterternary"
           }
          ],
          "surface": [
           {
            "colorbar": {
             "outlinewidth": 0,
             "ticks": ""
            },
            "colorscale": [
             [
              0,
              "#0d0887"
             ],
             [
              0.1111111111111111,
              "#46039f"
             ],
             [
              0.2222222222222222,
              "#7201a8"
             ],
             [
              0.3333333333333333,
              "#9c179e"
             ],
             [
              0.4444444444444444,
              "#bd3786"
             ],
             [
              0.5555555555555556,
              "#d8576b"
             ],
             [
              0.6666666666666666,
              "#ed7953"
             ],
             [
              0.7777777777777778,
              "#fb9f3a"
             ],
             [
              0.8888888888888888,
              "#fdca26"
             ],
             [
              1,
              "#f0f921"
             ]
            ],
            "type": "surface"
           }
          ],
          "table": [
           {
            "cells": {
             "fill": {
              "color": "#EBF0F8"
             },
             "line": {
              "color": "white"
             }
            },
            "header": {
             "fill": {
              "color": "#C8D4E3"
             },
             "line": {
              "color": "white"
             }
            },
            "type": "table"
           }
          ]
         },
         "layout": {
          "annotationdefaults": {
           "arrowcolor": "#2a3f5f",
           "arrowhead": 0,
           "arrowwidth": 1
          },
          "autotypenumbers": "strict",
          "coloraxis": {
           "colorbar": {
            "outlinewidth": 0,
            "ticks": ""
           }
          },
          "colorscale": {
           "diverging": [
            [
             0,
             "#8e0152"
            ],
            [
             0.1,
             "#c51b7d"
            ],
            [
             0.2,
             "#de77ae"
            ],
            [
             0.3,
             "#f1b6da"
            ],
            [
             0.4,
             "#fde0ef"
            ],
            [
             0.5,
             "#f7f7f7"
            ],
            [
             0.6,
             "#e6f5d0"
            ],
            [
             0.7,
             "#b8e186"
            ],
            [
             0.8,
             "#7fbc41"
            ],
            [
             0.9,
             "#4d9221"
            ],
            [
             1,
             "#276419"
            ]
           ],
           "sequential": [
            [
             0,
             "#0d0887"
            ],
            [
             0.1111111111111111,
             "#46039f"
            ],
            [
             0.2222222222222222,
             "#7201a8"
            ],
            [
             0.3333333333333333,
             "#9c179e"
            ],
            [
             0.4444444444444444,
             "#bd3786"
            ],
            [
             0.5555555555555556,
             "#d8576b"
            ],
            [
             0.6666666666666666,
             "#ed7953"
            ],
            [
             0.7777777777777778,
             "#fb9f3a"
            ],
            [
             0.8888888888888888,
             "#fdca26"
            ],
            [
             1,
             "#f0f921"
            ]
           ],
           "sequentialminus": [
            [
             0,
             "#0d0887"
            ],
            [
             0.1111111111111111,
             "#46039f"
            ],
            [
             0.2222222222222222,
             "#7201a8"
            ],
            [
             0.3333333333333333,
             "#9c179e"
            ],
            [
             0.4444444444444444,
             "#bd3786"
            ],
            [
             0.5555555555555556,
             "#d8576b"
            ],
            [
             0.6666666666666666,
             "#ed7953"
            ],
            [
             0.7777777777777778,
             "#fb9f3a"
            ],
            [
             0.8888888888888888,
             "#fdca26"
            ],
            [
             1,
             "#f0f921"
            ]
           ]
          },
          "colorway": [
           "#636efa",
           "#EF553B",
           "#00cc96",
           "#ab63fa",
           "#FFA15A",
           "#19d3f3",
           "#FF6692",
           "#B6E880",
           "#FF97FF",
           "#FECB52"
          ],
          "font": {
           "color": "#2a3f5f"
          },
          "geo": {
           "bgcolor": "white",
           "lakecolor": "white",
           "landcolor": "#E5ECF6",
           "showlakes": true,
           "showland": true,
           "subunitcolor": "white"
          },
          "hoverlabel": {
           "align": "left"
          },
          "hovermode": "closest",
          "mapbox": {
           "style": "light"
          },
          "paper_bgcolor": "white",
          "plot_bgcolor": "#E5ECF6",
          "polar": {
           "angularaxis": {
            "gridcolor": "white",
            "linecolor": "white",
            "ticks": ""
           },
           "bgcolor": "#E5ECF6",
           "radialaxis": {
            "gridcolor": "white",
            "linecolor": "white",
            "ticks": ""
           }
          },
          "scene": {
           "xaxis": {
            "backgroundcolor": "#E5ECF6",
            "gridcolor": "white",
            "gridwidth": 2,
            "linecolor": "white",
            "showbackground": true,
            "ticks": "",
            "zerolinecolor": "white"
           },
           "yaxis": {
            "backgroundcolor": "#E5ECF6",
            "gridcolor": "white",
            "gridwidth": 2,
            "linecolor": "white",
            "showbackground": true,
            "ticks": "",
            "zerolinecolor": "white"
           },
           "zaxis": {
            "backgroundcolor": "#E5ECF6",
            "gridcolor": "white",
            "gridwidth": 2,
            "linecolor": "white",
            "showbackground": true,
            "ticks": "",
            "zerolinecolor": "white"
           }
          },
          "shapedefaults": {
           "line": {
            "color": "#2a3f5f"
           }
          },
          "ternary": {
           "aaxis": {
            "gridcolor": "white",
            "linecolor": "white",
            "ticks": ""
           },
           "baxis": {
            "gridcolor": "white",
            "linecolor": "white",
            "ticks": ""
           },
           "bgcolor": "#E5ECF6",
           "caxis": {
            "gridcolor": "white",
            "linecolor": "white",
            "ticks": ""
           }
          },
          "title": {
           "x": 0.05
          },
          "xaxis": {
           "automargin": true,
           "gridcolor": "white",
           "linecolor": "white",
           "ticks": "",
           "title": {
            "standoff": 15
           },
           "zerolinecolor": "white",
           "zerolinewidth": 2
          },
          "yaxis": {
           "automargin": true,
           "gridcolor": "white",
           "linecolor": "white",
           "ticks": "",
           "title": {
            "standoff": 15
           },
           "zerolinecolor": "white",
           "zerolinewidth": 2
          }
         }
        },
        "title": {
         "text": "Energy Minimization"
        },
        "xaxis": {
         "title": {
          "text": "Energy Minimization Step"
         }
        },
        "yaxis": {
         "title": {
          "text": "Potential Energy KJ/mol-1"
         }
        }
       }
      },
      "text/html": [
       "<div>            <script src=\"https://cdnjs.cloudflare.com/ajax/libs/mathjax/2.7.5/MathJax.js?config=TeX-AMS-MML_SVG\"></script><script type=\"text/javascript\">if (window.MathJax && window.MathJax.Hub && window.MathJax.Hub.Config) {window.MathJax.Hub.Config({SVG: {font: \"STIX-Web\"}});}</script>                <script type=\"text/javascript\">window.PlotlyConfig = {MathJaxConfig: 'local'};</script>\n",
       "        <script charset=\"utf-8\" src=\"https://cdn.plot.ly/plotly-3.0.1.min.js\"></script>                <div id=\"b55385a7-908a-458b-8a07-96bdf8b79f7b\" class=\"plotly-graph-div\" style=\"height:525px; width:100%;\"></div>            <script type=\"text/javascript\">                window.PLOTLYENV=window.PLOTLYENV || {};                                if (document.getElementById(\"b55385a7-908a-458b-8a07-96bdf8b79f7b\")) {                    Plotly.newPlot(                        \"b55385a7-908a-458b-8a07-96bdf8b79f7b\",                        [{\"x\":[0.0,1.0,2.0,3.0,4.0,5.0,6.0,7.0,8.0,9.0,10.0,11.0,12.0,14.0,16.0,17.0,18.0,20.0,21.0,22.0,24.0,25.0,26.0,28.0,29.0,30.0,32.0,33.0,34.0,35.0,36.0,38.0,39.0,40.0,42.0,43.0,44.0,45.0,46.0,48.0,49.0,50.0,52.0,53.0,54.0,55.0,57.0,58.0,59.0,61.0,62.0,63.0,64.0,65.0,66.0,68.0,69.0,70.0,72.0,73.0,74.0,75.0,76.0,78.0,79.0,80.0,82.0,83.0,85.0,86.0,87.0,89.0,90.0,91.0,92.0,93.0,94.0,95.0,97.0,98.0,99.0,101.0,102.0,103.0,104.0,106.0,107.0,108.0,110.0,111.0,112.0,113.0,115.0,116.0,117.0,119.0,120.0,121.0,122.0,124.0,125.0,126.0,128.0,129.0,130.0,131.0,132.0,134.0,135.0,136.0,138.0,139.0,140.0,141.0,142.0,143.0,145.0,147.0,148.0,149.0,150.0,152.0,153.0,154.0,156.0,157.0,158.0,160.0,161.0,162.0,163.0,164.0,165.0,166.0,168.0,169.0,170.0,172.0,173.0,174.0,175.0,177.0,178.0,179.0,181.0,182.0,183.0,184.0,185.0,186.0,188.0,190.0,191.0,192.0,193.0,195.0,196.0,197.0,199.0,200.0,201.0,203.0,204.0,205.0,206.0,207.0,209.0,210.0,211.0,213.0,214.0,215.0,216.0,217.0,218.0,220.0,221.0,222.0,224.0,225.0,226.0,227.0,229.0,230.0,231.0,233.0,234.0,235.0,236.0,237.0,238.0,240.0,241.0,242.0,244.0,245.0,246.0,247.0,249.0,250.0,251.0,253.0,254.0,255.0,256.0,258.0,259.0,260.0,262.0,263.0,264.0,265.0,266.0,268.0,269.0,270.0,272.0,273.0,274.0,275.0,277.0,278.0,279.0,281.0,282.0,283.0,284.0,285.0,287.0,288.0,289.0,291.0,292.0,293.0,294.0,296.0,297.0,298.0,300.0,301.0,302.0,303.0,304.0,306.0,307.0,308.0,310.0,311.0,312.0,313.0,315.0,316.0,317.0,319.0,320.0,321.0,322.0,324.0,325.0,326.0,328.0,329.0,330.0,331.0,332.0,333.0,335.0,336.0,337.0,339.0,340.0,341.0,342.0,344.0,345.0,346.0,348.0,349.0,350.0,351.0,352.0,354.0,355.0,356.0,358.0,359.0,360.0,361.0,363.0,364.0,365.0,367.0,368.0,369.0,370.0,371.0,373.0,374.0,375.0,377.0,378.0,380.0,381.0,382.0,384.0,385.0,386.0,387.0,388.0,389.0,390.0,392.0,393.0,394.0,396.0,397.0,398.0,399.0,401.0,402.0,403.0,405.0,406.0,407.0,408.0,410.0,411.0,412.0,414.0,415.0,416.0,417.0,418.0,419.0,421.0,422.0,423.0,425.0,426.0,428.0,429.0,430.0,432.0,433.0,434.0,435.0,436.0,437.0,438.0,440.0,441.0,442.0,444.0,445.0,446.0,447.0,449.0,450.0,451.0,453.0,454.0,455.0,456.0,458.0,459.0,460.0,462.0,463.0,464.0,465.0,467.0,468.0,469.0,471.0,472.0,473.0,474.0,475.0,476.0,478.0,479.0,480.0,482.0,483.0,484.0,485.0,487.0,488.0,489.0,491.0,492.0,493.0,494.0,495.0,497.0,498.0,499.0,501.0,502.0,503.0,504.0,506.0,507.0,508.0,510.0,511.0,512.0,513.0,514.0,516.0,517.0,518.0,520.0,521.0,522.0,523.0,525.0,526.0,527.0,529.0,530.0,531.0,532.0,533.0,535.0,536.0,537.0,539.0,540.0,541.0,542.0,544.0,545.0,546.0,548.0,549.0,550.0,551.0,552.0,554.0,555.0,556.0,558.0,559.0,560.0,561.0,563.0,564.0,565.0,567.0,568.0,569.0,570.0,571.0,573.0,574.0,575.0,577.0,578.0,579.0,580.0,582.0,583.0,584.0,586.0,587.0,588.0,589.0,590.0,591.0,593.0,595.0,596.0,597.0,598.0,600.0,601.0,602.0,604.0,605.0,606.0,607.0,608.0,610.0,611.0,612.0,614.0,615.0,616.0,617.0,618.0,620.0,621.0,622.0,624.0,625.0,626.0,627.0,628.0,630.0,631.0,632.0,634.0,635.0,636.0,637.0,638.0,639.0,641.0,643.0,644.0,645.0,646.0,648.0,649.0,650.0,652.0,653.0,654.0,656.0,657.0,658.0,659.0,660.0,662.0,663.0,664.0,666.0,667.0,668.0,669.0,670.0,672.0,673.0,674.0,676.0,677.0,678.0,679.0,680.0,682.0,683.0,684.0,686.0,687.0,688.0,689.0,690.0,691.0,693.0,694.0,695.0,697.0,698.0,699.0,700.0,702.0,703.0,704.0,706.0,707.0,708.0,709.0,711.0,712.0,713.0,715.0,716.0,717.0,718.0,720.0,721.0,722.0,724.0,725.0,726.0,727.0,728.0,729.0,731.0,732.0,733.0,735.0,736.0,737.0,738.0,740.0,741.0,742.0,744.0,745.0,746.0,747.0,748.0,750.0,751.0,752.0,754.0,755.0,756.0,757.0,759.0,760.0,761.0,763.0,764.0,765.0,766.0,767.0,769.0],\"y\":[-443273.5,-465062.53125,-506159.21875,-564507.625,-609953.6875,-649245.0,-666895.625,-674735.125,-680707.6875,-686046.5,-687415.4375,-690197.125,-691252.6875,-705897.25,-709347.5,-711776.4375,-714858.875,-718915.6875,-721473.25,-726716.25,-729169.5,-730356.625,-732743.6875,-735606.5625,-737571.3125,-741046.3125,-742654.25,-743834.375,-745291.125,-745701.375,-746896.125,-750242.9375,-751232.5,-755273.1875,-756304.5,-757031.0625,-757847.375,-757988.375,-758387.8125,-762043.25,-762127.25,-766534.125,-767141.875,-767864.375,-768206.875,-768655.5,-770881.75,-772789.6875,-774998.0,-775599.25,-776237.25,-776653.0625,-777220.875,-777340.625,-777775.5625,-779608.0625,-779899.375,-782265.0625,-782683.8125,-783134.25,-783392.6875,-783662.5625,-783679.125,-785580.3125,-786384.4375,-789073.0,-789258.0625,-789772.25,-790469.375,-790964.6875,-791797.1875,-792191.25,-792525.5,-792903.0625,-793108.25,-793416.5,-793432.75,-793546.4375,-794961.0,-795148.9375,-796785.0625,-797015.0625,-797301.3125,-797371.875,-797576.125,-798541.5,-798586.625,-799993.4375,-800195.0,-800434.875,-800510.875,-800620.0,-801571.6875,-801911.375,-803070.0625,-803263.75,-803499.25,-803572.6875,-803746.5,-804459.625,-804650.875,-805539.4375,-805756.0,-805935.875,-806110.5625,-806204.6875,-806289.0,-807039.375,-807506.5625,-808318.0,-808499.6875,-808687.8125,-808809.5625,-808944.75,-808959.125,-808989.0,-809878.3125,-810201.125,-810558.0,-810571.0,-811005.75,-811249.5625,-811351.75,-811614.25,-811871.5,-812068.375,-812389.0,-812575.625,-812744.0,-812934.5,-813036.5625,-813214.3125,-813221.4375,-813357.4375,-813897.25,-813906.5,-814656.5625,-814780.4375,-814924.75,-814986.0,-815081.4375,-815547.0,-815805.6875,-816360.0,-816495.0,-816626.25,-816722.8125,-816810.875,-816831.9375,-816836.875,-817501.0625,-817758.0,-818025.25,-818037.0625,-818364.0,-818543.5625,-818619.0,-818812.6875,-819007.5,-819155.8125,-819399.375,-819540.4375,-819666.6875,-819811.5625,-819885.9375,-820021.9375,-820258.4375,-820479.0625,-820791.25,-820916.875,-821035.1875,-821141.75,-821236.0,-821304.875,-821347.5,-821732.6875,-822082.125,-822548.375,-822645.375,-822761.125,-822814.5625,-822908.6875,-823188.5,-823375.4375,-823755.875,-823857.0625,-823965.3125,-824033.625,-824121.0,-824133.0625,-824165.75,-824603.625,-824655.125,-825199.0,-825273.9375,-825366.1875,-825392.9375,-825451.8125,-825792.25,-825869.0,-826340.9375,-826415.25,-826515.8125,-826545.625,-826621.6875,-826898.9375,-827017.25,-827365.4375,-827453.5,-827535.0,-827599.6875,-827652.0625,-827667.6875,-828002.125,-828280.8125,-828696.125,-828763.4375,-828859.25,-828882.9375,-828964.125,-829202.5625,-829279.0,-829600.625,-829680.1875,-829757.625,-829814.375,-829866.125,-829880.4375,-830183.625,-830429.5,-830857.875,-830912.9375,-831015.875,-831020.625,-831116.125,-831326.125,-831364.4375,-831630.25,-831712.8125,-831770.4375,-831843.25,-831865.3125,-831909.75,-832171.125,-832264.125,-832596.4375,-832660.8125,-832731.375,-832767.4375,-832816.625,-833031.75,-833168.75,-833462.25,-833526.8125,-833603.0,-833640.0,-833702.5625,-833877.6875,-834015.5625,-834237.6875,-834307.9375,-834374.5,-834430.3125,-834479.625,-834504.8125,-834519.5625,-834797.6875,-834875.125,-835264.0,-835305.75,-835385.375,-835387.0,-835452.375,-835659.25,-835682.8125,-835947.0,-836011.125,-836061.5,-836110.0,-836133.375,-836146.1875,-836405.875,-836511.375,-836841.6875,-836887.0,-836953.5,-836965.3125,-837018.0,-837212.1875,-837248.75,-837511.25,-837566.1875,-837622.5625,-837657.8125,-837693.5625,-837693.75,-837940.875,-838103.75,-838452.5,-838487.75,-838566.1875,-838660.9375,-838742.5,-838859.9375,-838924.25,-838980.8125,-839046.5,-839081.5625,-839142.0625,-839143.4375,-839184.3125,-839390.5625,-839405.125,-839670.0625,-839718.6875,-839766.125,-839794.625,-839821.1875,-840002.25,-840117.5,-840365.8125,-840411.0,-840471.8125,-840491.4375,-840543.1875,-840683.0625,-840756.5,-840935.5,-840989.0,-841037.625,-841079.875,-841112.125,-841130.875,-841133.125,-841366.125,-841415.5625,-841740.625,-841769.0625,-841832.0,-841925.8125,-842003.8125,-842122.0625,-842176.9375,-842225.5,-842278.1875,-842310.1875,-842354.0625,-842358.875,-842376.75,-842585.9375,-842606.125,-842876.625,-842912.0,-842960.0625,-842970.0,-843003.5625,-843169.8125,-843197.875,-843422.8125,-843463.5,-843509.3125,-843532.5,-843561.75,-843705.5625,-843804.875,-843990.25,-844032.9375,-844080.75,-844106.875,-844145.5,-844262.0,-844357.625,-844513.0625,-844558.5,-844605.0,-844638.0,-844675.0625,-844687.0,-844699.75,-844883.6875,-844936.0,-845174.625,-845206.8125,-845254.125,-845261.5,-845299.0,-845439.25,-845463.0625,-845651.125,-845691.25,-845730.125,-845757.1875,-845780.125,-845783.0625,-845959.9375,-846054.0,-846298.5,-846325.6875,-846378.875,-846379.375,-846424.5625,-846551.125,-846566.0,-846729.4375,-846771.125,-846804.125,-846836.75,-846852.625,-846863.5,-847024.875,-847099.6875,-847308.9375,-847338.8125,-847384.3125,-847391.75,-847429.6875,-847549.75,-847574.8125,-847734.875,-847773.3125,-847808.1875,-847836.75,-847856.4375,-847865.6875,-848016.6875,-848094.875,-848302.1875,-848330.25,-848375.9375,-848382.8125,-848420.3125,-848532.75,-848562.9375,-848707.9375,-848745.4375,-848778.625,-848806.8125,-848826.75,-848834.875,-848977.5,-849081.5625,-849266.8125,-849294.8125,-849338.0,-849345.0625,-849384.25,-849486.5625,-849510.875,-849646.375,-849683.5,-849714.0625,-849743.8125,-849760.0625,-849774.9375,-849903.3125,-849965.3125,-850140.0,-850168.4375,-850207.875,-850218.9375,-850250.25,-850350.4375,-850395.8125,-850526.0,-850559.8125,-850592.4375,-850617.4375,-850640.25,-850645.625,-850648.8125,-850812.1875,-850876.4375,-850939.8125,-850947.625,-851023.625,-851072.375,-851094.3125,-851149.625,-851196.625,-851232.375,-851288.75,-851289.6875,-851353.8125,-851414.25,-851430.3125,-851504.3125,-851547.125,-851572.6875,-851619.9375,-851621.75,-851669.0,-851746.125,-851762.125,-851860.4375,-851897.6875,-851922.0,-851957.6875,-851965.75,-851992.5625,-852091.0625,-852124.875,-852252.5,-852282.875,-852312.5625,-852333.0,-852353.25,-852354.0,-852355.3125,-852515.1875,-852569.25,-852629.875,-852631.4375,-852704.1875,-852750.1875,-852766.5625,-852819.875,-852864.3125,-852893.8125,-852947.0,-852983.625,-853017.0,-853058.125,-853071.125,-853115.8125,-853169.25,-853200.875,-853267.875,-853302.5,-853330.25,-853365.375,-853379.3125,-853413.125,-853478.1875,-853519.9375,-853604.875,-853636.0,-853663.5625,-853691.5625,-853709.625,-853729.125,-853809.25,-853884.125,-853991.4375,-854019.3125,-854049.8125,-854067.875,-854093.125,-854095.5625,-854106.4375,-854227.1875,-854235.8125,-854393.625,-854413.4375,-854441.9375,-854447.0625,-854467.1875,-854563.125,-854577.9375,-854706.5625,-854730.6875,-854756.4375,-854770.75,-854786.6875,-854871.125,-854937.6875,-855048.25,-855072.625,-855101.875,-855115.5625,-855140.5,-855207.0,-855253.5625,-855341.375,-855368.5,-855394.4375,-855415.875,-855435.0,-855445.1875,-855448.9375,-855559.25,-855608.4375,-855752.75,-855770.375,-855800.5,-855802.375,-855828.4375,-855908.125,-855915.6875,-856021.25,-856046.3125,-856067.5,-856086.5625,-856096.1875,-856103.5625,-856204.25,-856236.1875,-856373.25,-856391.4375,-856419.4375,-856424.3125,-856446.0,-856523.5,-856544.125,-856645.3125,-856668.8125,-856691.25,-856707.0625,-856722.0625,-856723.0625,-856822.0625],\"type\":\"scatter\"}],                        {\"template\":{\"data\":{\"barpolar\":[{\"marker\":{\"line\":{\"color\":\"#E5ECF6\",\"width\":0.5},\"pattern\":{\"fillmode\":\"overlay\",\"size\":10,\"solidity\":0.2}},\"type\":\"barpolar\"}],\"bar\":[{\"error_x\":{\"color\":\"#2a3f5f\"},\"error_y\":{\"color\":\"#2a3f5f\"},\"marker\":{\"line\":{\"color\":\"#E5ECF6\",\"width\":0.5},\"pattern\":{\"fillmode\":\"overlay\",\"size\":10,\"solidity\":0.2}},\"type\":\"bar\"}],\"carpet\":[{\"aaxis\":{\"endlinecolor\":\"#2a3f5f\",\"gridcolor\":\"white\",\"linecolor\":\"white\",\"minorgridcolor\":\"white\",\"startlinecolor\":\"#2a3f5f\"},\"baxis\":{\"endlinecolor\":\"#2a3f5f\",\"gridcolor\":\"white\",\"linecolor\":\"white\",\"minorgridcolor\":\"white\",\"startlinecolor\":\"#2a3f5f\"},\"type\":\"carpet\"}],\"choropleth\":[{\"colorbar\":{\"outlinewidth\":0,\"ticks\":\"\"},\"type\":\"choropleth\"}],\"contourcarpet\":[{\"colorbar\":{\"outlinewidth\":0,\"ticks\":\"\"},\"type\":\"contourcarpet\"}],\"contour\":[{\"colorbar\":{\"outlinewidth\":0,\"ticks\":\"\"},\"colorscale\":[[0.0,\"#0d0887\"],[0.1111111111111111,\"#46039f\"],[0.2222222222222222,\"#7201a8\"],[0.3333333333333333,\"#9c179e\"],[0.4444444444444444,\"#bd3786\"],[0.5555555555555556,\"#d8576b\"],[0.6666666666666666,\"#ed7953\"],[0.7777777777777778,\"#fb9f3a\"],[0.8888888888888888,\"#fdca26\"],[1.0,\"#f0f921\"]],\"type\":\"contour\"}],\"heatmap\":[{\"colorbar\":{\"outlinewidth\":0,\"ticks\":\"\"},\"colorscale\":[[0.0,\"#0d0887\"],[0.1111111111111111,\"#46039f\"],[0.2222222222222222,\"#7201a8\"],[0.3333333333333333,\"#9c179e\"],[0.4444444444444444,\"#bd3786\"],[0.5555555555555556,\"#d8576b\"],[0.6666666666666666,\"#ed7953\"],[0.7777777777777778,\"#fb9f3a\"],[0.8888888888888888,\"#fdca26\"],[1.0,\"#f0f921\"]],\"type\":\"heatmap\"}],\"histogram2dcontour\":[{\"colorbar\":{\"outlinewidth\":0,\"ticks\":\"\"},\"colorscale\":[[0.0,\"#0d0887\"],[0.1111111111111111,\"#46039f\"],[0.2222222222222222,\"#7201a8\"],[0.3333333333333333,\"#9c179e\"],[0.4444444444444444,\"#bd3786\"],[0.5555555555555556,\"#d8576b\"],[0.6666666666666666,\"#ed7953\"],[0.7777777777777778,\"#fb9f3a\"],[0.8888888888888888,\"#fdca26\"],[1.0,\"#f0f921\"]],\"type\":\"histogram2dcontour\"}],\"histogram2d\":[{\"colorbar\":{\"outlinewidth\":0,\"ticks\":\"\"},\"colorscale\":[[0.0,\"#0d0887\"],[0.1111111111111111,\"#46039f\"],[0.2222222222222222,\"#7201a8\"],[0.3333333333333333,\"#9c179e\"],[0.4444444444444444,\"#bd3786\"],[0.5555555555555556,\"#d8576b\"],[0.6666666666666666,\"#ed7953\"],[0.7777777777777778,\"#fb9f3a\"],[0.8888888888888888,\"#fdca26\"],[1.0,\"#f0f921\"]],\"type\":\"histogram2d\"}],\"histogram\":[{\"marker\":{\"pattern\":{\"fillmode\":\"overlay\",\"size\":10,\"solidity\":0.2}},\"type\":\"histogram\"}],\"mesh3d\":[{\"colorbar\":{\"outlinewidth\":0,\"ticks\":\"\"},\"type\":\"mesh3d\"}],\"parcoords\":[{\"line\":{\"colorbar\":{\"outlinewidth\":0,\"ticks\":\"\"}},\"type\":\"parcoords\"}],\"pie\":[{\"automargin\":true,\"type\":\"pie\"}],\"scatter3d\":[{\"line\":{\"colorbar\":{\"outlinewidth\":0,\"ticks\":\"\"}},\"marker\":{\"colorbar\":{\"outlinewidth\":0,\"ticks\":\"\"}},\"type\":\"scatter3d\"}],\"scattercarpet\":[{\"marker\":{\"colorbar\":{\"outlinewidth\":0,\"ticks\":\"\"}},\"type\":\"scattercarpet\"}],\"scattergeo\":[{\"marker\":{\"colorbar\":{\"outlinewidth\":0,\"ticks\":\"\"}},\"type\":\"scattergeo\"}],\"scattergl\":[{\"marker\":{\"colorbar\":{\"outlinewidth\":0,\"ticks\":\"\"}},\"type\":\"scattergl\"}],\"scattermapbox\":[{\"marker\":{\"colorbar\":{\"outlinewidth\":0,\"ticks\":\"\"}},\"type\":\"scattermapbox\"}],\"scattermap\":[{\"marker\":{\"colorbar\":{\"outlinewidth\":0,\"ticks\":\"\"}},\"type\":\"scattermap\"}],\"scatterpolargl\":[{\"marker\":{\"colorbar\":{\"outlinewidth\":0,\"ticks\":\"\"}},\"type\":\"scatterpolargl\"}],\"scatterpolar\":[{\"marker\":{\"colorbar\":{\"outlinewidth\":0,\"ticks\":\"\"}},\"type\":\"scatterpolar\"}],\"scatter\":[{\"fillpattern\":{\"fillmode\":\"overlay\",\"size\":10,\"solidity\":0.2},\"type\":\"scatter\"}],\"scatterternary\":[{\"marker\":{\"colorbar\":{\"outlinewidth\":0,\"ticks\":\"\"}},\"type\":\"scatterternary\"}],\"surface\":[{\"colorbar\":{\"outlinewidth\":0,\"ticks\":\"\"},\"colorscale\":[[0.0,\"#0d0887\"],[0.1111111111111111,\"#46039f\"],[0.2222222222222222,\"#7201a8\"],[0.3333333333333333,\"#9c179e\"],[0.4444444444444444,\"#bd3786\"],[0.5555555555555556,\"#d8576b\"],[0.6666666666666666,\"#ed7953\"],[0.7777777777777778,\"#fb9f3a\"],[0.8888888888888888,\"#fdca26\"],[1.0,\"#f0f921\"]],\"type\":\"surface\"}],\"table\":[{\"cells\":{\"fill\":{\"color\":\"#EBF0F8\"},\"line\":{\"color\":\"white\"}},\"header\":{\"fill\":{\"color\":\"#C8D4E3\"},\"line\":{\"color\":\"white\"}},\"type\":\"table\"}]},\"layout\":{\"annotationdefaults\":{\"arrowcolor\":\"#2a3f5f\",\"arrowhead\":0,\"arrowwidth\":1},\"autotypenumbers\":\"strict\",\"coloraxis\":{\"colorbar\":{\"outlinewidth\":0,\"ticks\":\"\"}},\"colorscale\":{\"diverging\":[[0,\"#8e0152\"],[0.1,\"#c51b7d\"],[0.2,\"#de77ae\"],[0.3,\"#f1b6da\"],[0.4,\"#fde0ef\"],[0.5,\"#f7f7f7\"],[0.6,\"#e6f5d0\"],[0.7,\"#b8e186\"],[0.8,\"#7fbc41\"],[0.9,\"#4d9221\"],[1,\"#276419\"]],\"sequential\":[[0.0,\"#0d0887\"],[0.1111111111111111,\"#46039f\"],[0.2222222222222222,\"#7201a8\"],[0.3333333333333333,\"#9c179e\"],[0.4444444444444444,\"#bd3786\"],[0.5555555555555556,\"#d8576b\"],[0.6666666666666666,\"#ed7953\"],[0.7777777777777778,\"#fb9f3a\"],[0.8888888888888888,\"#fdca26\"],[1.0,\"#f0f921\"]],\"sequentialminus\":[[0.0,\"#0d0887\"],[0.1111111111111111,\"#46039f\"],[0.2222222222222222,\"#7201a8\"],[0.3333333333333333,\"#9c179e\"],[0.4444444444444444,\"#bd3786\"],[0.5555555555555556,\"#d8576b\"],[0.6666666666666666,\"#ed7953\"],[0.7777777777777778,\"#fb9f3a\"],[0.8888888888888888,\"#fdca26\"],[1.0,\"#f0f921\"]]},\"colorway\":[\"#636efa\",\"#EF553B\",\"#00cc96\",\"#ab63fa\",\"#FFA15A\",\"#19d3f3\",\"#FF6692\",\"#B6E880\",\"#FF97FF\",\"#FECB52\"],\"font\":{\"color\":\"#2a3f5f\"},\"geo\":{\"bgcolor\":\"white\",\"lakecolor\":\"white\",\"landcolor\":\"#E5ECF6\",\"showlakes\":true,\"showland\":true,\"subunitcolor\":\"white\"},\"hoverlabel\":{\"align\":\"left\"},\"hovermode\":\"closest\",\"mapbox\":{\"style\":\"light\"},\"paper_bgcolor\":\"white\",\"plot_bgcolor\":\"#E5ECF6\",\"polar\":{\"angularaxis\":{\"gridcolor\":\"white\",\"linecolor\":\"white\",\"ticks\":\"\"},\"bgcolor\":\"#E5ECF6\",\"radialaxis\":{\"gridcolor\":\"white\",\"linecolor\":\"white\",\"ticks\":\"\"}},\"scene\":{\"xaxis\":{\"backgroundcolor\":\"#E5ECF6\",\"gridcolor\":\"white\",\"gridwidth\":2,\"linecolor\":\"white\",\"showbackground\":true,\"ticks\":\"\",\"zerolinecolor\":\"white\"},\"yaxis\":{\"backgroundcolor\":\"#E5ECF6\",\"gridcolor\":\"white\",\"gridwidth\":2,\"linecolor\":\"white\",\"showbackground\":true,\"ticks\":\"\",\"zerolinecolor\":\"white\"},\"zaxis\":{\"backgroundcolor\":\"#E5ECF6\",\"gridcolor\":\"white\",\"gridwidth\":2,\"linecolor\":\"white\",\"showbackground\":true,\"ticks\":\"\",\"zerolinecolor\":\"white\"}},\"shapedefaults\":{\"line\":{\"color\":\"#2a3f5f\"}},\"ternary\":{\"aaxis\":{\"gridcolor\":\"white\",\"linecolor\":\"white\",\"ticks\":\"\"},\"baxis\":{\"gridcolor\":\"white\",\"linecolor\":\"white\",\"ticks\":\"\"},\"bgcolor\":\"#E5ECF6\",\"caxis\":{\"gridcolor\":\"white\",\"linecolor\":\"white\",\"ticks\":\"\"}},\"title\":{\"x\":0.05},\"xaxis\":{\"automargin\":true,\"gridcolor\":\"white\",\"linecolor\":\"white\",\"ticks\":\"\",\"title\":{\"standoff\":15},\"zerolinecolor\":\"white\",\"zerolinewidth\":2},\"yaxis\":{\"automargin\":true,\"gridcolor\":\"white\",\"linecolor\":\"white\",\"ticks\":\"\",\"title\":{\"standoff\":15},\"zerolinecolor\":\"white\",\"zerolinewidth\":2}}},\"title\":{\"text\":\"Energy Minimization\"},\"xaxis\":{\"title\":{\"text\":\"Energy Minimization Step\"}},\"yaxis\":{\"title\":{\"text\":\"Potential Energy KJ\\u002fmol-1\"}}},                        {\"responsive\": true}                    ).then(function(){\n",
       "                            \n",
       "var gd = document.getElementById('b55385a7-908a-458b-8a07-96bdf8b79f7b');\n",
       "var x = new MutationObserver(function (mutations, observer) {{\n",
       "        var display = window.getComputedStyle(gd).display;\n",
       "        if (!display || display === 'none') {{\n",
       "            console.log([gd, 'removed!']);\n",
       "            Plotly.purge(gd);\n",
       "            observer.disconnect();\n",
       "        }}\n",
       "}});\n",
       "\n",
       "// Listen for the removal of the full notebook cells\n",
       "var notebookContainer = gd.closest('#notebook-container');\n",
       "if (notebookContainer) {{\n",
       "    x.observe(notebookContainer, {childList: true});\n",
       "}}\n",
       "\n",
       "// Listen for the clearing of the current output cell\n",
       "var outputEl = gd.closest('.output');\n",
       "if (outputEl) {{\n",
       "    x.observe(outputEl, {childList: true});\n",
       "}}\n",
       "\n",
       "                        })                };            </script>        </div>"
      ]
     },
     "metadata": {},
     "output_type": "display_data"
    }
   ],
   "source": [
    "import plotly\n",
    "import plotly.graph_objs as go\n",
    "\n",
    "#Read data from file and filter energy values higher than 1000 Kj/mol^-1\n",
    "with open(output_min_ene_xvg,'r') as energy_file:\n",
    "    x,y = map(\n",
    "        list,\n",
    "        zip(*[\n",
    "            (float(line.split()[0]),float(line.split()[1]))\n",
    "            for line in energy_file \n",
    "            if not line.startswith((\"#\",\"@\")) \n",
    "            if float(line.split()[1]) < 1000 \n",
    "        ])\n",
    "    )\n",
    "\n",
    "plotly.offline.init_notebook_mode(connected=True)\n",
    "\n",
    "fig = {\n",
    "    \"data\": [go.Scatter(x=x, y=y)],\n",
    "    \"layout\": go.Layout(title=\"Energy Minimization\",\n",
    "                        xaxis=dict(title = \"Energy Minimization Step\"),\n",
    "                        yaxis=dict(title = \"Potential Energy KJ/mol-1\")\n",
    "                       )\n",
    "}\n",
    "\n",
    "plotly.offline.iplot(fig)"
   ]
  },
  {
   "cell_type": "markdown",
   "metadata": {},
   "source": [
    "<a id=\"npt\"></a>\n",
    "***\n",
    "### Equilibrate the system (NPT)\n",
    "Equilibrate the **protein system** in **NPT** ensemble (constant Number of particles, Pressure and Temperature).\n",
    "- [Step 1](#eqNPTStep1): Creating portable binary run file for system equilibration\n",
    "- [Step 2](#eqNPTStep2): Equilibrate the **protein system** with **NPT** ensemble.\n",
    "- [Step 3](#eqNPTStep3): Checking **NPT Equilibration** results. Plotting **system pressure and density** by time during the **NPT equilibration** process.\n",
    "***\n",
    "**Building Blocks** used:\n",
    " - [Grompp](https://biobb-md.readthedocs.io/en/latest/gromacs.html#module-gromacs.grompp) from **biobb_gromacs.gromacs.grompp** \n",
    " - [Mdrun](https://biobb-md.readthedocs.io/en/latest/gromacs.html#module-gromacs.mdrun) from **biobb_gromacs.gromacs.mdrun** \n",
    " - [GMXEnergy](https://biobb-analysis.readthedocs.io/en/latest/gromacs.html#module-gromacs.gmx_energy) from **biobb_analysis.gromacs.gmx_energy** \n",
    "***"
   ]
  },
  {
   "cell_type": "markdown",
   "metadata": {},
   "source": [
    "<a id=\"eqNPTStep1\"></a>\n",
    "#### Step 1: Creating portable binary run file for system equilibration (NPT)\n",
    "\n",
    "The **npt** type of the **molecular dynamics parameters (mdp) property** contains the main default parameters to run an **NPT equilibration** with **protein restraints** (see [GROMACS mdp options](http://manual.gromacs.org/documentation/2018/user-guide/mdp-options.html)):\n",
    "\n",
    "-  Define                   = -DPOSRES\n",
    "-  integrator               = md\n",
    "-  dt                       = 0.002\n",
    "-  nsteps                   = 5000\n",
    "-  pcoupl = Parrinello-Rahman\n",
    "-  pcoupltype = isotropic\n",
    "-  tau_p = 1.0\n",
    "-  ref_p = 1.0\n",
    "-  compressibility = 4.5e-5\n",
    "-  refcoord_scaling = com\n",
    "-  gen_vel = no\n",
    "\n",
    "In this particular example, the default parameters will be used: **md** integrator algorithm, a **time step** of **2fs**, **5,000 equilibration steps** with the protein **heavy atoms restrained**, and a Parrinello-Rahman **pressure coupling** algorithm.\n",
    "\n",
    "*Please note that for the sake of time this tutorial is only running 10ps of NPT equilibration, whereas in the [original example](http://www.mdtutorials.com/gmx/lysozyme/07_equil2.html) the simulated time was 100ps.*"
   ]
  },
  {
   "cell_type": "code",
   "execution_count": 25,
   "metadata": {},
   "outputs": [],
   "source": [
    "# From https://github.com/alevil-gmx/workflow_template/blob/main/workflow_template/data/input/md_eq_posre_charmm36m.mdp\n",
    "# !! se cambia define -> Define y ns_type -> ns-type o el biobb da error (TO-DO arreglar)\n",
    "\n",
    "input_mdp_eq = f\"{MD_inp}md_eq_posre_charmm36m.mdp\"\n",
    "fl=\"\"\"Define                   = -DPOSRES\n",
    "integrator               = md\n",
    "tinit                    = 0\n",
    "dt                       = 0.002\n",
    "nsteps                   = 500000   ; 1  ns\n",
    "comm_grps                = system\n",
    "nstxout                  = 0\n",
    "nstvout                  = 0\n",
    "nstfout                  = 0\n",
    "nstlog                   = 10000\n",
    "nstenergy                = 10000\n",
    "nstxout-compressed       = 10000\n",
    "compressed-x-grps        = system \n",
    "nstlist                  = 10\n",
    "ns-type                  = grid\n",
    "pbc                      = xyz\n",
    "; \n",
    "coulombtype              = PME\n",
    "rcoulomb                 = 1.2\n",
    "fourierspacing           = 0.15 \n",
    ";\n",
    "vdwtype                  = Cut-off\n",
    "vdw_modifier=Force-switch\n",
    "rvdw_switch              = 1.0\n",
    "rvdw                     = 1.2\n",
    "DispCorr                 = EnerPres\n",
    ";\n",
    "constraints              = h-bonds\n",
    "constraint_algorithm     = LINCS\n",
    "; new\n",
    "Pcoupl                   = Berendsen\n",
    "tau_p                    = 5.0  \n",
    "ref_p                    = 1.0 \n",
    "compressibility          = 4.5e-5 \n",
    "refcoord-scaling         = all     ; to use with pos restrain\n",
    "Tcoupl                   = v-rescale \n",
    "tc-grps                  = system\n",
    "tau_t                    = 0.5 \n",
    "ref_t                    = 298 \"\"\"\n",
    "with open(input_mdp_eq, 'w') as f:\n",
    "    f.write(fl)"
   ]
  },
  {
   "cell_type": "code",
   "execution_count": 26,
   "metadata": {
    "scrolled": true
   },
   "outputs": [
    {
     "name": "stdout",
     "output_type": "stream",
     "text": [
      "2025-05-19 16:25:48,448 [MainThread  ] [INFO ]  Module: biobb_gromacs.gromacs.grompp Version: 5.0.0\n",
      "2025-05-19 16:25:48,449 [MainThread  ] [INFO ]  /home/rchaves/repo/ab_design/biobb_wf_haddock/biobb_wf_haddock/notebooks/sandbox_6fffce82-0cf1-4705-8321-8ddb2478ee8a directory successfully created\n",
      "2025-05-19 16:25:48,451 [MainThread  ] [INFO ]  Copy: data/antibody/1_MD/4G6K_min.gro to /home/rchaves/repo/ab_design/biobb_wf_haddock/biobb_wf_haddock/notebooks/sandbox_6fffce82-0cf1-4705-8321-8ddb2478ee8a\n",
      "2025-05-19 16:25:48,452 [MainThread  ] [INFO ]  Copy: data/antibody/1_MD/input/md_eq_posre_charmm36m.mdp to /home/rchaves/repo/ab_design/biobb_wf_haddock/biobb_wf_haddock/notebooks/sandbox_6fffce82-0cf1-4705-8321-8ddb2478ee8a\n",
      "2025-05-19 16:25:48,455 [MainThread  ] [INFO ]  Extracting: /home/rchaves/repo/ab_design/biobb_wf_haddock/biobb_wf_haddock/notebooks/data/antibody/1_MD/4G6K_genion_top.zip\n",
      "2025-05-19 16:25:48,455 [MainThread  ] [INFO ]  to:\n",
      "2025-05-19 16:25:48,456 [MainThread  ] [INFO ]  ['/home/rchaves/repo/ab_design/biobb_wf_haddock/biobb_wf_haddock/notebooks/sandbox_6fffce82-0cf1-4705-8321-8ddb2478ee8a/p2g.top', '/home/rchaves/repo/ab_design/biobb_wf_haddock/biobb_wf_haddock/notebooks/sandbox_6fffce82-0cf1-4705-8321-8ddb2478ee8a/p2g_Protein_chain_H.itp', '/home/rchaves/repo/ab_design/biobb_wf_haddock/biobb_wf_haddock/notebooks/sandbox_6fffce82-0cf1-4705-8321-8ddb2478ee8a/p2g_Protein_chain_L.itp', '/home/rchaves/repo/ab_design/biobb_wf_haddock/biobb_wf_haddock/notebooks/sandbox_6fffce82-0cf1-4705-8321-8ddb2478ee8a/posre_Protein_chain_H.itp', '/home/rchaves/repo/ab_design/biobb_wf_haddock/biobb_wf_haddock/notebooks/sandbox_6fffce82-0cf1-4705-8321-8ddb2478ee8a/posre_Protein_chain_L.itp']\n",
      "2025-05-19 16:25:48,456 [MainThread  ] [INFO ]  Unzipping: \n",
      "2025-05-19 16:25:48,456 [MainThread  ] [INFO ]  data/antibody/1_MD/4G6K_genion_top.zip\n",
      "2025-05-19 16:25:48,457 [MainThread  ] [INFO ]  To: \n",
      "2025-05-19 16:25:48,457 [MainThread  ] [INFO ]  /home/rchaves/repo/ab_design/biobb_wf_haddock/biobb_wf_haddock/notebooks/sandbox_6fffce82-0cf1-4705-8321-8ddb2478ee8a/p2g.top\n",
      "2025-05-19 16:25:48,457 [MainThread  ] [INFO ]  /home/rchaves/repo/ab_design/biobb_wf_haddock/biobb_wf_haddock/notebooks/sandbox_6fffce82-0cf1-4705-8321-8ddb2478ee8a/p2g_Protein_chain_H.itp\n",
      "2025-05-19 16:25:48,457 [MainThread  ] [INFO ]  /home/rchaves/repo/ab_design/biobb_wf_haddock/biobb_wf_haddock/notebooks/sandbox_6fffce82-0cf1-4705-8321-8ddb2478ee8a/p2g_Protein_chain_L.itp\n",
      "2025-05-19 16:25:48,458 [MainThread  ] [INFO ]  /home/rchaves/repo/ab_design/biobb_wf_haddock/biobb_wf_haddock/notebooks/sandbox_6fffce82-0cf1-4705-8321-8ddb2478ee8a/posre_Protein_chain_H.itp\n",
      "2025-05-19 16:25:48,458 [MainThread  ] [INFO ]  /home/rchaves/repo/ab_design/biobb_wf_haddock/biobb_wf_haddock/notebooks/sandbox_6fffce82-0cf1-4705-8321-8ddb2478ee8a/posre_Protein_chain_L.itp\n",
      "2025-05-19 16:25:48,459 [MainThread  ] [INFO ]  gmx -nobackup -nocopyright grompp -f /home/rchaves/repo/ab_design/biobb_wf_haddock/biobb_wf_haddock/notebooks/sandbox_6fffce82-0cf1-4705-8321-8ddb2478ee8a/grompp.mdp -c /home/rchaves/repo/ab_design/biobb_wf_haddock/biobb_wf_haddock/notebooks/sandbox_6fffce82-0cf1-4705-8321-8ddb2478ee8a/4G6K_min.gro -r /home/rchaves/repo/ab_design/biobb_wf_haddock/biobb_wf_haddock/notebooks/sandbox_6fffce82-0cf1-4705-8321-8ddb2478ee8a/4G6K_min.gro -p /home/rchaves/repo/ab_design/biobb_wf_haddock/biobb_wf_haddock/notebooks/sandbox_6fffce82-0cf1-4705-8321-8ddb2478ee8a/p2g.top -o /home/rchaves/repo/ab_design/biobb_wf_haddock/biobb_wf_haddock/notebooks/sandbox_6fffce82-0cf1-4705-8321-8ddb2478ee8a/4G6K_gppnpt.tpr -po mdout.mdp -maxwarn 1\n",
      "\n",
      "2025-05-19 16:25:49,319 [MainThread  ] [INFO ]  Executing: gmx -nobackup -nocopyright grompp -f /home/rchaves/repo/ab_design/biobb_wf_haddo...\n",
      "2025-05-19 16:25:49,320 [MainThread  ] [INFO ]  Exit code: 0\n",
      "2025-05-19 16:25:49,320 [MainThread  ] [INFO ]  Setting the LD random seed to -37814323\n",
      "\n",
      "Generated 97877 of the 97903 non-bonded parameter combinations\n",
      "\n",
      "Generated 64492 of the 97903 1-4 parameter combinations\n",
      "\n",
      "Excluding 3 bonded neighbours molecule type 'Protein_chain_H'\n",
      "\n",
      "turning H bonds into constraints...\n",
      "\n",
      "Excluding 3 bonded neighbours molecule type 'Protein_chain_L'\n",
      "\n",
      "turning H bonds into constraints...\n",
      "\n",
      "Excluding 2 bonded neighbours molecule type 'SOL'\n",
      "\n",
      "turning H bonds into constraints...\n",
      "\n",
      "Excluding 1 bonded neighbours molecule type 'NA'\n",
      "\n",
      "turning H bonds into constraints...\n",
      "\n",
      "Excluding 1 bonded neighbours molecule type 'CL'\n",
      "\n",
      "turning H bonds into constraints...\n",
      "Analysing residue names:\n",
      "There are:   432    Protein residues\n",
      "There are: 16778      Water residues\n",
      "There are:    43        Ion residues\n",
      "Analysing Protein...\n",
      "Analysing residues not classified as Protein/DNA/RNA/Water and splitting into groups...\n",
      "\n",
      "The largest distance between excluded atoms is 0.447 nm\n",
      "\n",
      "Determining Verlet buffer for a tolerance of 0.005 kJ/mol/ps at 298 K\n",
      "\n",
      "Calculated rlist for 1x1 atom pair-list as 1.232 nm, buffer size 0.032 nm\n",
      "\n",
      "Set rlist, assuming 4x4 atom pair-list, to 1.200 nm, buffer size 0.000 nm\n",
      "\n",
      "Note that mdrun will redetermine rlist based on the actual pair-list setup\n",
      "Calculating fourier grid dimensions for X Y Z\n",
      "Using a fourier grid of 64x64x64, spacing 0.147 0.147 0.147\n",
      "\n",
      "Estimate for the relative computational load of the PME mesh part: 0.16\n",
      "\n",
      "This run will generate roughly 5 Mb of data\n",
      "\n",
      "2025-05-19 16:25:49,321 [MainThread  ] [INFO ]                  :-) GROMACS - gmx grompp, 2022.2-conda_forge (-:\n",
      "\n",
      "Executable:   /home/rchaves/miniforge3/envs/biobb_wf_antibody/bin.AVX2_256/gmx\n",
      "Data prefix:  /home/rchaves/miniforge3/envs/biobb_wf_antibody\n",
      "Working dir:  /home/rchaves/repo/ab_design/biobb_wf_haddock/biobb_wf_haddock/notebooks\n",
      "Command line:\n",
      "  gmx -nobackup -nocopyright grompp -f /home/rchaves/repo/ab_design/biobb_wf_haddock/biobb_wf_haddock/notebooks/sandbox_6fffce82-0cf1-4705-8321-8ddb2478ee8a/grompp.mdp -c /home/rchaves/repo/ab_design/biobb_wf_haddock/biobb_wf_haddock/notebooks/sandbox_6fffce82-0cf1-4705-8321-8ddb2478ee8a/4G6K_min.gro -r /home/rchaves/repo/ab_design/biobb_wf_haddock/biobb_wf_haddock/notebooks/sandbox_6fffce82-0cf1-4705-8321-8ddb2478ee8a/4G6K_min.gro -p /home/rchaves/repo/ab_design/biobb_wf_haddock/biobb_wf_haddock/notebooks/sandbox_6fffce82-0cf1-4705-8321-8ddb2478ee8a/p2g.top -o /home/rchaves/repo/ab_design/biobb_wf_haddock/biobb_wf_haddock/notebooks/sandbox_6fffce82-0cf1-4705-8321-8ddb2478ee8a/4G6K_gppnpt.tpr -po mdout.mdp -maxwarn 1\n",
      "\n",
      "Ignoring obsolete mdp entry 'ns-type'\n",
      "\n",
      "WARNING 1 [file /home/rchaves/repo/ab_design/biobb_wf_haddock/biobb_wf_haddock/notebooks/sandbox_6fffce82-0cf1-4705-8321-8ddb2478ee8a/grompp.mdp]:\n",
      "  The Berendsen barostat does not generate any strictly correct ensemble,\n",
      "  and should not be used for new production simulations (in our opinion).\n",
      "  For isotropic scaling we would recommend the C-rescale barostat that also\n",
      "  ensures fast relaxation without oscillations, and for anisotropic scaling\n",
      "  you likely want to use the Parrinello-Rahman barostat.\n",
      "\n",
      "Generating 1-4 interactions: fudge = 1\n",
      "Number of degrees of freedom in T-Coupling group System is 117137.00\n",
      "\n",
      "NOTE 1 [file /home/rchaves/repo/ab_design/biobb_wf_haddock/biobb_wf_haddock/notebooks/sandbox_6fffce82-0cf1-4705-8321-8ddb2478ee8a/grompp.mdp]:\n",
      "  Removing center of mass motion in the presence of position restraints\n",
      "  might cause artifacts. When you are using position restraints to\n",
      "  equilibrate a macro-molecule, the artifacts are usually negligible.\n",
      "\n",
      "\n",
      "There was 1 note\n",
      "\n",
      "There was 1 warning\n",
      "\n",
      "GROMACS reminds you: \"Academia is kind of like applied Marxism. The workers really do own the means of production.\" (Niklas Blomberg)\n",
      "\n",
      "\n",
      "2025-05-19 16:25:49,325 [MainThread  ] [INFO ]  Removed: ['/home/rchaves/repo/ab_design/biobb_wf_haddock/biobb_wf_haddock/notebooks/sandbox_6fffce82-0cf1-4705-8321-8ddb2478ee8a', 'mdout.mdp']\n",
      "2025-05-19 16:25:49,326 [MainThread  ] [INFO ]  \n"
     ]
    },
    {
     "data": {
      "text/plain": [
       "0"
      ]
     },
     "execution_count": 26,
     "metadata": {},
     "output_type": "execute_result"
    }
   ],
   "source": [
    "# Grompp: Creating portable binary run file for NPT Equilibration\n",
    "from biobb_gromacs.gromacs.grompp import grompp\n",
    "\n",
    "# Create prop dict and inputs/outputs\n",
    "output_gppnpt_tpr = f'{MD_dir}{pdbCode}_gppnpt.tpr'\n",
    "\n",
    "prop = {\n",
    "    'mdp': {\n",
    "        'nsteps' : 5000, # subir\n",
    "    },\n",
    "    'gmx_lib' : f'{cwd}/{MD_inp}',\n",
    "    'maxwarn' : 1,\n",
    "}\n",
    "\n",
    "# Create and launch bb\n",
    "grompp(input_gro_path=output_min_gro, \n",
    "       input_top_zip_path=output_genion_top_zip, \n",
    "       input_mdp_path=input_mdp_eq,\n",
    "       output_tpr_path=output_gppnpt_tpr,  \n",
    "       properties=def_dict(prop))"
   ]
  },
  {
   "cell_type": "markdown",
   "metadata": {},
   "source": [
    "<a id=\"eqNPTStep2\"></a>\n",
    "#### Step 2: Running NPT equilibration"
   ]
  },
  {
   "cell_type": "code",
   "execution_count": 27,
   "metadata": {},
   "outputs": [
    {
     "name": "stdout",
     "output_type": "stream",
     "text": [
      "2025-05-19 16:26:10,219 [MainThread  ] [INFO ]  Module: biobb_gromacs.gromacs.mdrun Version: 5.0.0\n",
      "2025-05-19 16:26:10,219 [MainThread  ] [INFO ]  /home/rchaves/repo/ab_design/biobb_wf_haddock/biobb_wf_haddock/notebooks/sandbox_95938b75-a977-49de-8c7d-abd14ba51677 directory successfully created\n",
      "2025-05-19 16:26:10,222 [MainThread  ] [INFO ]  Copy: data/antibody/1_MD/4G6K_gppnpt.tpr to /home/rchaves/repo/ab_design/biobb_wf_haddock/biobb_wf_haddock/notebooks/sandbox_95938b75-a977-49de-8c7d-abd14ba51677\n",
      "2025-05-19 16:26:10,223 [MainThread  ] [INFO ]  gmx -nobackup -nocopyright mdrun -o /home/rchaves/repo/ab_design/biobb_wf_haddock/biobb_wf_haddock/notebooks/sandbox_95938b75-a977-49de-8c7d-abd14ba51677/4G6K_npt.trr -s /home/rchaves/repo/ab_design/biobb_wf_haddock/biobb_wf_haddock/notebooks/sandbox_95938b75-a977-49de-8c7d-abd14ba51677/4G6K_gppnpt.tpr -c /home/rchaves/repo/ab_design/biobb_wf_haddock/biobb_wf_haddock/notebooks/sandbox_95938b75-a977-49de-8c7d-abd14ba51677/4G6K_npt.gro -e /home/rchaves/repo/ab_design/biobb_wf_haddock/biobb_wf_haddock/notebooks/sandbox_95938b75-a977-49de-8c7d-abd14ba51677/4G6K_npt.edr -g /home/rchaves/repo/ab_design/biobb_wf_haddock/biobb_wf_haddock/notebooks/sandbox_95938b75-a977-49de-8c7d-abd14ba51677/4G6K_npt.log -cpo /home/rchaves/repo/ab_design/biobb_wf_haddock/biobb_wf_haddock/notebooks/sandbox_95938b75-a977-49de-8c7d-abd14ba51677/4G6K_npt.cpt\n",
      "\n",
      "2025-05-19 16:27:40,351 [MainThread  ] [INFO ]  Executing: gmx -nobackup -nocopyright mdrun -o /home/rchaves/repo/ab_design/biobb_wf_haddoc...\n",
      "2025-05-19 16:27:40,351 [MainThread  ] [INFO ]  Exit code: 0\n",
      "2025-05-19 16:27:40,352 [MainThread  ] [INFO ]                  :-) GROMACS - gmx mdrun, 2022.2-conda_forge (-:\n",
      "\n",
      "Executable:   /home/rchaves/miniforge3/envs/biobb_wf_antibody/bin.AVX2_256/gmx\n",
      "Data prefix:  /home/rchaves/miniforge3/envs/biobb_wf_antibody\n",
      "Working dir:  /home/rchaves/repo/ab_design/biobb_wf_haddock/biobb_wf_haddock/notebooks\n",
      "Command line:\n",
      "  gmx -nobackup -nocopyright mdrun -o /home/rchaves/repo/ab_design/biobb_wf_haddock/biobb_wf_haddock/notebooks/sandbox_95938b75-a977-49de-8c7d-abd14ba51677/4G6K_npt.trr -s /home/rchaves/repo/ab_design/biobb_wf_haddock/biobb_wf_haddock/notebooks/sandbox_95938b75-a977-49de-8c7d-abd14ba51677/4G6K_gppnpt.tpr -c /home/rchaves/repo/ab_design/biobb_wf_haddock/biobb_wf_haddock/notebooks/sandbox_95938b75-a977-49de-8c7d-abd14ba51677/4G6K_npt.gro -e /home/rchaves/repo/ab_design/biobb_wf_haddock/biobb_wf_haddock/notebooks/sandbox_95938b75-a977-49de-8c7d-abd14ba51677/4G6K_npt.edr -g /home/rchaves/repo/ab_design/biobb_wf_haddock/biobb_wf_haddock/notebooks/sandbox_95938b75-a977-49de-8c7d-abd14ba51677/4G6K_npt.log -cpo /home/rchaves/repo/ab_design/biobb_wf_haddock/biobb_wf_haddock/notebooks/sandbox_95938b75-a977-49de-8c7d-abd14ba51677/4G6K_npt.cpt\n",
      "\n",
      "Reading file /home/rchaves/repo/ab_design/biobb_wf_haddock/biobb_wf_haddock/notebooks/sandbox_95938b75-a977-49de-8c7d-abd14ba51677/4G6K_gppnpt.tpr, VERSION 2022.2-conda_forge (single precision)\n",
      "Changing nstlist from 10 to 80, rlist from 1.2 to 1.314\n",
      "\n",
      "Using 1 MPI thread\n",
      "Using 16 OpenMP threads \n",
      "\n",
      "starting mdrun 'Protein in water'\n",
      "5000 steps,     10.0 ps.\n",
      "\n",
      "Writing final coordinates.\n",
      "\n",
      "               Core t (s)   Wall t (s)        (%)\n",
      "       Time:     1435.621       89.726     1600.0\n",
      "                 (ns/day)    (hour/ns)\n",
      "Performance:        9.631        2.492\n",
      "\n",
      "GROMACS reminds you: \"If you want to save your child from polio, you can pray or you can inoculate... choose science.\" (Carl Sagan)\n",
      "\n",
      "\n",
      "2025-05-19 16:27:40,357 [MainThread  ] [INFO ]  Removed: ['traj_comp.xtc', '/home/rchaves/repo/ab_design/biobb_wf_haddock/biobb_wf_haddock/notebooks/sandbox_95938b75-a977-49de-8c7d-abd14ba51677']\n",
      "2025-05-19 16:27:40,358 [MainThread  ] [INFO ]  Path data/antibody/1_MD/4G6K_npt.trr --- biobb_gromacs.gromacs.mdrun: Unexisting output_trr_path file.\n",
      "2025-05-19 16:27:40,359 [MainThread  ] [INFO ]  \n"
     ]
    },
    {
     "name": "stderr",
     "output_type": "stream",
     "text": [
      "/home/rchaves/miniforge3/envs/biobb_wf_antibody/lib/python3.10/site-packages/biobb_common/tools/file_utils.py:770: UserWarning:\n",
      "\n",
      "Path data/antibody/1_MD/4G6K_npt.trr --- biobb_gromacs.gromacs.mdrun: Unexisting output_trr_path file.\n",
      "\n"
     ]
    },
    {
     "data": {
      "text/plain": [
       "0"
      ]
     },
     "execution_count": 27,
     "metadata": {},
     "output_type": "execute_result"
    }
   ],
   "source": [
    "# Mdrun: Running NPT System Equilibration\n",
    "from biobb_gromacs.gromacs.mdrun import mdrun\n",
    "\n",
    "# Create prop dict and inputs/outputs\n",
    "output_npt_trr = f'{MD_dir}{pdbCode}_npt.trr'\n",
    "output_npt_gro = f'{MD_dir}{pdbCode}_npt.gro'\n",
    "output_npt_edr = f'{MD_dir}{pdbCode}_npt.edr'\n",
    "output_npt_log = f'{MD_dir}{pdbCode}_npt.log'\n",
    "output_npt_cpt = f'{MD_dir}{pdbCode}_npt.cpt'\n",
    "\n",
    "# Create and launch bb\n",
    "mdrun(input_tpr_path=output_gppnpt_tpr, \n",
    "      output_trr_path=output_npt_trr, \n",
    "      output_gro_path=output_npt_gro, \n",
    "      output_edr_path=output_npt_edr, \n",
    "      output_log_path=output_npt_log, \n",
    "      output_cpt_path=output_npt_cpt,\n",
    "      properties=def_dict())"
   ]
  },
  {
   "cell_type": "markdown",
   "metadata": {},
   "source": [
    "<a id=\"eqNPTStep3\"></a>\n",
    "#### Step 3: Checking NPT Equilibration results\n",
    "Checking **NPT Equilibration** results. Plotting **system pressure and density** by time during the **NPT equilibration** process. "
   ]
  },
  {
   "cell_type": "code",
   "execution_count": 28,
   "metadata": {
    "scrolled": true
   },
   "outputs": [
    {
     "name": "stdout",
     "output_type": "stream",
     "text": [
      "2025-05-19 16:27:40,397 [MainThread  ] [INFO ]  Module: biobb_analysis.gromacs.gmx_energy Version: 5.0.1\n",
      "2025-05-19 16:27:40,398 [MainThread  ] [INFO ]  /home/rchaves/repo/ab_design/biobb_wf_haddock/biobb_wf_haddock/notebooks/sandbox_e49ac801-ef8f-4634-8411-5fe51532d24a directory successfully created\n",
      "2025-05-19 16:27:40,399 [MainThread  ] [INFO ]  Copy: /home/rchaves/repo/ab_design/biobb_wf_haddock/biobb_wf_haddock/notebooks/data/antibody/1_MD/4G6K_npt.edr to /home/rchaves/repo/ab_design/biobb_wf_haddock/biobb_wf_haddock/notebooks/sandbox_e49ac801-ef8f-4634-8411-5fe51532d24a\n",
      "2025-05-19 16:27:40,399 [MainThread  ] [INFO ]  gmx energy -f /home/rchaves/repo/ab_design/biobb_wf_haddock/biobb_wf_haddock/notebooks/sandbox_e49ac801-ef8f-4634-8411-5fe51532d24a/4G6K_npt.edr -o /home/rchaves/repo/ab_design/biobb_wf_haddock/biobb_wf_haddock/notebooks/sandbox_e49ac801-ef8f-4634-8411-5fe51532d24a/4G6K_npt_PD.xvg -xvg none < c8bff021-b09b-46e0-bb62-40329280f890/instructions.in\n",
      "\n",
      "2025-05-19 16:27:40,411 [MainThread  ] [INFO ]  Executing: gmx energy -f /home/rchaves/repo/ab_design/biobb_wf_haddock/biobb_wf_haddock/not...\n",
      "2025-05-19 16:27:40,412 [MainThread  ] [INFO ]  Exit code: 0\n",
      "2025-05-19 16:27:40,412 [MainThread  ] [INFO ]  \n",
      "Statistics over 5001 steps [ 0.0000 through 10.0000 ps ], 2 data sets\n",
      "All statistics are over 51 points\n",
      "\n",
      "Energy                      Average   Err.Est.       RMSD  Tot-Drift\n",
      "-------------------------------------------------------------------------------\n",
      "Pressure                   -545.961         --    996.415    11648.4  (bar)\n",
      "Density                     1025.02         --    9.85494    69.9628  (kg/m^3)\n",
      "\n",
      "2025-05-19 16:27:40,412 [MainThread  ] [INFO ]                  :-) GROMACS - gmx energy, 2022.2-conda_forge (-:\n",
      "\n",
      "Executable:   /home/rchaves/miniforge3/envs/biobb_wf_antibody/bin.AVX2_256/gmx\n",
      "Data prefix:  /home/rchaves/miniforge3/envs/biobb_wf_antibody\n",
      "Working dir:  /home/rchaves/repo/ab_design/biobb_wf_haddock/biobb_wf_haddock/notebooks\n",
      "Command line:\n",
      "  gmx energy -f /home/rchaves/repo/ab_design/biobb_wf_haddock/biobb_wf_haddock/notebooks/sandbox_e49ac801-ef8f-4634-8411-5fe51532d24a/4G6K_npt.edr -o /home/rchaves/repo/ab_design/biobb_wf_haddock/biobb_wf_haddock/notebooks/sandbox_e49ac801-ef8f-4634-8411-5fe51532d24a/4G6K_npt_PD.xvg -xvg none\n",
      "\n",
      "Opened /home/rchaves/repo/ab_design/biobb_wf_haddock/biobb_wf_haddock/notebooks/sandbox_e49ac801-ef8f-4634-8411-5fe51532d24a/4G6K_npt.edr as single precision energy file\n",
      "\n",
      "Select the terms you want from the following list by\n",
      "selecting either (part of) the name or the number or a combination.\n",
      "End your selection with an empty line or a zero.\n",
      "-------------------------------------------------------------------\n",
      "  1  Bond             2  U-B              3  Proper-Dih.      4  Improper-Dih. \n",
      "  5  CMAP-Dih.        6  LJ-14            7  Coulomb-14       8  LJ-(SR)       \n",
      "  9  Disper.-corr.   10  Coulomb-(SR)    11  Coul.-recip.    12  Position-Rest.\n",
      " 13  Potential       14  Kinetic-En.     15  Total-Energy    16  Conserved-En. \n",
      " 17  Temperature     18  Pres.-DC        19  Pressure        20  Constr.-rmsd  \n",
      " 21  Box-X           22  Box-Y           23  Box-Z           24  Volume        \n",
      " 25  Density         26  pV              27  Enthalpy        28  Vir-XX        \n",
      " 29  Vir-XY          30  Vir-XZ          31  Vir-YX          32  Vir-YY        \n",
      " 33  Vir-YZ          34  Vir-ZX          35  Vir-ZY          36  Vir-ZZ        \n",
      " 37  Pres-XX         38  Pres-XY         39  Pres-XZ         40  Pres-YX       \n",
      " 41  Pres-YY         42  Pres-YZ         43  Pres-ZX         44  Pres-ZY       \n",
      " 45  Pres-ZZ         46  #Surf*SurfTen   47  T-System        48  Lamb-System   \n",
      "\n",
      "Last energy frame read 1 time   10.000            \n",
      "\n",
      "GROMACS reminds you: \"If you want to save your child from polio, you can pray or you can inoculate... choose science.\" (Carl Sagan)\n",
      "\n",
      "\n",
      "2025-05-19 16:27:40,413 [MainThread  ] [INFO ]  Removed: ['/home/rchaves/repo/ab_design/biobb_wf_haddock/biobb_wf_haddock/notebooks/sandbox_e49ac801-ef8f-4634-8411-5fe51532d24a', 'c8bff021-b09b-46e0-bb62-40329280f890']\n",
      "2025-05-19 16:27:40,414 [MainThread  ] [INFO ]  \n"
     ]
    },
    {
     "data": {
      "text/plain": [
       "0"
      ]
     },
     "execution_count": 28,
     "metadata": {},
     "output_type": "execute_result"
    }
   ],
   "source": [
    "# GMXEnergy: Getting system pressure and density by time during NPT Equilibration  \n",
    "from biobb_analysis.gromacs.gmx_energy import gmx_energy\n",
    "\n",
    "# Create prop dict and inputs/outputs\n",
    "output_npt_pd_xvg = f'{MD_dir}{pdbCode}_npt_PD.xvg'\n",
    "prop = {\n",
    "    'terms':  [\"Pressure\",\"Density\"]\n",
    "}\n",
    "\n",
    "# Create and launch bb\n",
    "gmx_energy(input_energy_path=output_npt_edr, \n",
    "          output_xvg_path=output_npt_pd_xvg, \n",
    "          properties=prop)"
   ]
  },
  {
   "cell_type": "code",
   "execution_count": 29,
   "metadata": {},
   "outputs": [
    {
     "data": {
      "text/html": [
       "        <script type=\"text/javascript\">\n",
       "        window.PlotlyConfig = {MathJaxConfig: 'local'};\n",
       "        if (window.MathJax && window.MathJax.Hub && window.MathJax.Hub.Config) {window.MathJax.Hub.Config({SVG: {font: \"STIX-Web\"}});}\n",
       "        </script>\n",
       "        <script type=\"module\">import \"https://cdn.plot.ly/plotly-3.0.1.min\"</script>\n",
       "        "
      ]
     },
     "metadata": {},
     "output_type": "display_data"
    },
    {
     "data": {
      "application/vnd.plotly.v1+json": {
       "config": {
        "linkText": "Export to plot.ly",
        "plotlyServerURL": "https://plot.ly",
        "showLink": false
       },
       "data": [
        {
         "type": "scatter",
         "x": [
          0,
          10
         ],
         "xaxis": "x",
         "y": [
          -6257.087891,
          -247.217041
         ],
         "yaxis": "y"
        },
        {
         "type": "scatter",
         "x": [
          0,
          10
         ],
         "xaxis": "x2",
         "y": [
          990.716003,
          1035.051514
         ],
         "yaxis": "y2"
        }
       ],
       "layout": {
        "showlegend": false,
        "template": {
         "data": {
          "bar": [
           {
            "error_x": {
             "color": "#2a3f5f"
            },
            "error_y": {
             "color": "#2a3f5f"
            },
            "marker": {
             "line": {
              "color": "#E5ECF6",
              "width": 0.5
             },
             "pattern": {
              "fillmode": "overlay",
              "size": 10,
              "solidity": 0.2
             }
            },
            "type": "bar"
           }
          ],
          "barpolar": [
           {
            "marker": {
             "line": {
              "color": "#E5ECF6",
              "width": 0.5
             },
             "pattern": {
              "fillmode": "overlay",
              "size": 10,
              "solidity": 0.2
             }
            },
            "type": "barpolar"
           }
          ],
          "carpet": [
           {
            "aaxis": {
             "endlinecolor": "#2a3f5f",
             "gridcolor": "white",
             "linecolor": "white",
             "minorgridcolor": "white",
             "startlinecolor": "#2a3f5f"
            },
            "baxis": {
             "endlinecolor": "#2a3f5f",
             "gridcolor": "white",
             "linecolor": "white",
             "minorgridcolor": "white",
             "startlinecolor": "#2a3f5f"
            },
            "type": "carpet"
           }
          ],
          "choropleth": [
           {
            "colorbar": {
             "outlinewidth": 0,
             "ticks": ""
            },
            "type": "choropleth"
           }
          ],
          "contour": [
           {
            "colorbar": {
             "outlinewidth": 0,
             "ticks": ""
            },
            "colorscale": [
             [
              0,
              "#0d0887"
             ],
             [
              0.1111111111111111,
              "#46039f"
             ],
             [
              0.2222222222222222,
              "#7201a8"
             ],
             [
              0.3333333333333333,
              "#9c179e"
             ],
             [
              0.4444444444444444,
              "#bd3786"
             ],
             [
              0.5555555555555556,
              "#d8576b"
             ],
             [
              0.6666666666666666,
              "#ed7953"
             ],
             [
              0.7777777777777778,
              "#fb9f3a"
             ],
             [
              0.8888888888888888,
              "#fdca26"
             ],
             [
              1,
              "#f0f921"
             ]
            ],
            "type": "contour"
           }
          ],
          "contourcarpet": [
           {
            "colorbar": {
             "outlinewidth": 0,
             "ticks": ""
            },
            "type": "contourcarpet"
           }
          ],
          "heatmap": [
           {
            "colorbar": {
             "outlinewidth": 0,
             "ticks": ""
            },
            "colorscale": [
             [
              0,
              "#0d0887"
             ],
             [
              0.1111111111111111,
              "#46039f"
             ],
             [
              0.2222222222222222,
              "#7201a8"
             ],
             [
              0.3333333333333333,
              "#9c179e"
             ],
             [
              0.4444444444444444,
              "#bd3786"
             ],
             [
              0.5555555555555556,
              "#d8576b"
             ],
             [
              0.6666666666666666,
              "#ed7953"
             ],
             [
              0.7777777777777778,
              "#fb9f3a"
             ],
             [
              0.8888888888888888,
              "#fdca26"
             ],
             [
              1,
              "#f0f921"
             ]
            ],
            "type": "heatmap"
           }
          ],
          "histogram": [
           {
            "marker": {
             "pattern": {
              "fillmode": "overlay",
              "size": 10,
              "solidity": 0.2
             }
            },
            "type": "histogram"
           }
          ],
          "histogram2d": [
           {
            "colorbar": {
             "outlinewidth": 0,
             "ticks": ""
            },
            "colorscale": [
             [
              0,
              "#0d0887"
             ],
             [
              0.1111111111111111,
              "#46039f"
             ],
             [
              0.2222222222222222,
              "#7201a8"
             ],
             [
              0.3333333333333333,
              "#9c179e"
             ],
             [
              0.4444444444444444,
              "#bd3786"
             ],
             [
              0.5555555555555556,
              "#d8576b"
             ],
             [
              0.6666666666666666,
              "#ed7953"
             ],
             [
              0.7777777777777778,
              "#fb9f3a"
             ],
             [
              0.8888888888888888,
              "#fdca26"
             ],
             [
              1,
              "#f0f921"
             ]
            ],
            "type": "histogram2d"
           }
          ],
          "histogram2dcontour": [
           {
            "colorbar": {
             "outlinewidth": 0,
             "ticks": ""
            },
            "colorscale": [
             [
              0,
              "#0d0887"
             ],
             [
              0.1111111111111111,
              "#46039f"
             ],
             [
              0.2222222222222222,
              "#7201a8"
             ],
             [
              0.3333333333333333,
              "#9c179e"
             ],
             [
              0.4444444444444444,
              "#bd3786"
             ],
             [
              0.5555555555555556,
              "#d8576b"
             ],
             [
              0.6666666666666666,
              "#ed7953"
             ],
             [
              0.7777777777777778,
              "#fb9f3a"
             ],
             [
              0.8888888888888888,
              "#fdca26"
             ],
             [
              1,
              "#f0f921"
             ]
            ],
            "type": "histogram2dcontour"
           }
          ],
          "mesh3d": [
           {
            "colorbar": {
             "outlinewidth": 0,
             "ticks": ""
            },
            "type": "mesh3d"
           }
          ],
          "parcoords": [
           {
            "line": {
             "colorbar": {
              "outlinewidth": 0,
              "ticks": ""
             }
            },
            "type": "parcoords"
           }
          ],
          "pie": [
           {
            "automargin": true,
            "type": "pie"
           }
          ],
          "scatter": [
           {
            "fillpattern": {
             "fillmode": "overlay",
             "size": 10,
             "solidity": 0.2
            },
            "type": "scatter"
           }
          ],
          "scatter3d": [
           {
            "line": {
             "colorbar": {
              "outlinewidth": 0,
              "ticks": ""
             }
            },
            "marker": {
             "colorbar": {
              "outlinewidth": 0,
              "ticks": ""
             }
            },
            "type": "scatter3d"
           }
          ],
          "scattercarpet": [
           {
            "marker": {
             "colorbar": {
              "outlinewidth": 0,
              "ticks": ""
             }
            },
            "type": "scattercarpet"
           }
          ],
          "scattergeo": [
           {
            "marker": {
             "colorbar": {
              "outlinewidth": 0,
              "ticks": ""
             }
            },
            "type": "scattergeo"
           }
          ],
          "scattergl": [
           {
            "marker": {
             "colorbar": {
              "outlinewidth": 0,
              "ticks": ""
             }
            },
            "type": "scattergl"
           }
          ],
          "scattermap": [
           {
            "marker": {
             "colorbar": {
              "outlinewidth": 0,
              "ticks": ""
             }
            },
            "type": "scattermap"
           }
          ],
          "scattermapbox": [
           {
            "marker": {
             "colorbar": {
              "outlinewidth": 0,
              "ticks": ""
             }
            },
            "type": "scattermapbox"
           }
          ],
          "scatterpolar": [
           {
            "marker": {
             "colorbar": {
              "outlinewidth": 0,
              "ticks": ""
             }
            },
            "type": "scatterpolar"
           }
          ],
          "scatterpolargl": [
           {
            "marker": {
             "colorbar": {
              "outlinewidth": 0,
              "ticks": ""
             }
            },
            "type": "scatterpolargl"
           }
          ],
          "scatterternary": [
           {
            "marker": {
             "colorbar": {
              "outlinewidth": 0,
              "ticks": ""
             }
            },
            "type": "scatterternary"
           }
          ],
          "surface": [
           {
            "colorbar": {
             "outlinewidth": 0,
             "ticks": ""
            },
            "colorscale": [
             [
              0,
              "#0d0887"
             ],
             [
              0.1111111111111111,
              "#46039f"
             ],
             [
              0.2222222222222222,
              "#7201a8"
             ],
             [
              0.3333333333333333,
              "#9c179e"
             ],
             [
              0.4444444444444444,
              "#bd3786"
             ],
             [
              0.5555555555555556,
              "#d8576b"
             ],
             [
              0.6666666666666666,
              "#ed7953"
             ],
             [
              0.7777777777777778,
              "#fb9f3a"
             ],
             [
              0.8888888888888888,
              "#fdca26"
             ],
             [
              1,
              "#f0f921"
             ]
            ],
            "type": "surface"
           }
          ],
          "table": [
           {
            "cells": {
             "fill": {
              "color": "#EBF0F8"
             },
             "line": {
              "color": "white"
             }
            },
            "header": {
             "fill": {
              "color": "#C8D4E3"
             },
             "line": {
              "color": "white"
             }
            },
            "type": "table"
           }
          ]
         },
         "layout": {
          "annotationdefaults": {
           "arrowcolor": "#2a3f5f",
           "arrowhead": 0,
           "arrowwidth": 1
          },
          "autotypenumbers": "strict",
          "coloraxis": {
           "colorbar": {
            "outlinewidth": 0,
            "ticks": ""
           }
          },
          "colorscale": {
           "diverging": [
            [
             0,
             "#8e0152"
            ],
            [
             0.1,
             "#c51b7d"
            ],
            [
             0.2,
             "#de77ae"
            ],
            [
             0.3,
             "#f1b6da"
            ],
            [
             0.4,
             "#fde0ef"
            ],
            [
             0.5,
             "#f7f7f7"
            ],
            [
             0.6,
             "#e6f5d0"
            ],
            [
             0.7,
             "#b8e186"
            ],
            [
             0.8,
             "#7fbc41"
            ],
            [
             0.9,
             "#4d9221"
            ],
            [
             1,
             "#276419"
            ]
           ],
           "sequential": [
            [
             0,
             "#0d0887"
            ],
            [
             0.1111111111111111,
             "#46039f"
            ],
            [
             0.2222222222222222,
             "#7201a8"
            ],
            [
             0.3333333333333333,
             "#9c179e"
            ],
            [
             0.4444444444444444,
             "#bd3786"
            ],
            [
             0.5555555555555556,
             "#d8576b"
            ],
            [
             0.6666666666666666,
             "#ed7953"
            ],
            [
             0.7777777777777778,
             "#fb9f3a"
            ],
            [
             0.8888888888888888,
             "#fdca26"
            ],
            [
             1,
             "#f0f921"
            ]
           ],
           "sequentialminus": [
            [
             0,
             "#0d0887"
            ],
            [
             0.1111111111111111,
             "#46039f"
            ],
            [
             0.2222222222222222,
             "#7201a8"
            ],
            [
             0.3333333333333333,
             "#9c179e"
            ],
            [
             0.4444444444444444,
             "#bd3786"
            ],
            [
             0.5555555555555556,
             "#d8576b"
            ],
            [
             0.6666666666666666,
             "#ed7953"
            ],
            [
             0.7777777777777778,
             "#fb9f3a"
            ],
            [
             0.8888888888888888,
             "#fdca26"
            ],
            [
             1,
             "#f0f921"
            ]
           ]
          },
          "colorway": [
           "#636efa",
           "#EF553B",
           "#00cc96",
           "#ab63fa",
           "#FFA15A",
           "#19d3f3",
           "#FF6692",
           "#B6E880",
           "#FF97FF",
           "#FECB52"
          ],
          "font": {
           "color": "#2a3f5f"
          },
          "geo": {
           "bgcolor": "white",
           "lakecolor": "white",
           "landcolor": "#E5ECF6",
           "showlakes": true,
           "showland": true,
           "subunitcolor": "white"
          },
          "hoverlabel": {
           "align": "left"
          },
          "hovermode": "closest",
          "mapbox": {
           "style": "light"
          },
          "paper_bgcolor": "white",
          "plot_bgcolor": "#E5ECF6",
          "polar": {
           "angularaxis": {
            "gridcolor": "white",
            "linecolor": "white",
            "ticks": ""
           },
           "bgcolor": "#E5ECF6",
           "radialaxis": {
            "gridcolor": "white",
            "linecolor": "white",
            "ticks": ""
           }
          },
          "scene": {
           "xaxis": {
            "backgroundcolor": "#E5ECF6",
            "gridcolor": "white",
            "gridwidth": 2,
            "linecolor": "white",
            "showbackground": true,
            "ticks": "",
            "zerolinecolor": "white"
           },
           "yaxis": {
            "backgroundcolor": "#E5ECF6",
            "gridcolor": "white",
            "gridwidth": 2,
            "linecolor": "white",
            "showbackground": true,
            "ticks": "",
            "zerolinecolor": "white"
           },
           "zaxis": {
            "backgroundcolor": "#E5ECF6",
            "gridcolor": "white",
            "gridwidth": 2,
            "linecolor": "white",
            "showbackground": true,
            "ticks": "",
            "zerolinecolor": "white"
           }
          },
          "shapedefaults": {
           "line": {
            "color": "#2a3f5f"
           }
          },
          "ternary": {
           "aaxis": {
            "gridcolor": "white",
            "linecolor": "white",
            "ticks": ""
           },
           "baxis": {
            "gridcolor": "white",
            "linecolor": "white",
            "ticks": ""
           },
           "bgcolor": "#E5ECF6",
           "caxis": {
            "gridcolor": "white",
            "linecolor": "white",
            "ticks": ""
           }
          },
          "title": {
           "x": 0.05
          },
          "xaxis": {
           "automargin": true,
           "gridcolor": "white",
           "linecolor": "white",
           "ticks": "",
           "title": {
            "standoff": 15
           },
           "zerolinecolor": "white",
           "zerolinewidth": 2
          },
          "yaxis": {
           "automargin": true,
           "gridcolor": "white",
           "linecolor": "white",
           "ticks": "",
           "title": {
            "standoff": 15
           },
           "zerolinecolor": "white",
           "zerolinewidth": 2
          }
         }
        },
        "title": {
         "text": "Pressure and Density during NPT Equilibration"
        },
        "xaxis": {
         "anchor": "y",
         "domain": [
          0,
          0.45
         ],
         "title": {
          "text": "Time (ps)"
         }
        },
        "xaxis2": {
         "anchor": "y2",
         "domain": [
          0.55,
          1
         ],
         "title": {
          "text": "Time (ps)"
         }
        },
        "yaxis": {
         "anchor": "x",
         "domain": [
          0,
          1
         ],
         "title": {
          "text": "Pressure (bar)"
         }
        },
        "yaxis2": {
         "anchor": "x2",
         "domain": [
          0,
          1
         ],
         "title": {
          "text": "Density (Kg*m^-3)"
         }
        }
       }
      },
      "text/html": [
       "<div>            <script src=\"https://cdnjs.cloudflare.com/ajax/libs/mathjax/2.7.5/MathJax.js?config=TeX-AMS-MML_SVG\"></script><script type=\"text/javascript\">if (window.MathJax && window.MathJax.Hub && window.MathJax.Hub.Config) {window.MathJax.Hub.Config({SVG: {font: \"STIX-Web\"}});}</script>                <script type=\"text/javascript\">window.PlotlyConfig = {MathJaxConfig: 'local'};</script>\n",
       "        <script charset=\"utf-8\" src=\"https://cdn.plot.ly/plotly-3.0.1.min.js\"></script>                <div id=\"ffe9f54f-2648-4f38-b434-3e445b6eb0ba\" class=\"plotly-graph-div\" style=\"height:525px; width:100%;\"></div>            <script type=\"text/javascript\">                window.PLOTLYENV=window.PLOTLYENV || {};                                if (document.getElementById(\"ffe9f54f-2648-4f38-b434-3e445b6eb0ba\")) {                    Plotly.newPlot(                        \"ffe9f54f-2648-4f38-b434-3e445b6eb0ba\",                        [{\"x\":[0.0,10.0],\"xaxis\":\"x\",\"y\":[-6257.087891,-247.217041],\"yaxis\":\"y\",\"type\":\"scatter\"},{\"x\":[0.0,10.0],\"xaxis\":\"x2\",\"y\":[990.716003,1035.051514],\"yaxis\":\"y2\",\"type\":\"scatter\"}],                        {\"showlegend\":false,\"template\":{\"data\":{\"barpolar\":[{\"marker\":{\"line\":{\"color\":\"#E5ECF6\",\"width\":0.5},\"pattern\":{\"fillmode\":\"overlay\",\"size\":10,\"solidity\":0.2}},\"type\":\"barpolar\"}],\"bar\":[{\"error_x\":{\"color\":\"#2a3f5f\"},\"error_y\":{\"color\":\"#2a3f5f\"},\"marker\":{\"line\":{\"color\":\"#E5ECF6\",\"width\":0.5},\"pattern\":{\"fillmode\":\"overlay\",\"size\":10,\"solidity\":0.2}},\"type\":\"bar\"}],\"carpet\":[{\"aaxis\":{\"endlinecolor\":\"#2a3f5f\",\"gridcolor\":\"white\",\"linecolor\":\"white\",\"minorgridcolor\":\"white\",\"startlinecolor\":\"#2a3f5f\"},\"baxis\":{\"endlinecolor\":\"#2a3f5f\",\"gridcolor\":\"white\",\"linecolor\":\"white\",\"minorgridcolor\":\"white\",\"startlinecolor\":\"#2a3f5f\"},\"type\":\"carpet\"}],\"choropleth\":[{\"colorbar\":{\"outlinewidth\":0,\"ticks\":\"\"},\"type\":\"choropleth\"}],\"contourcarpet\":[{\"colorbar\":{\"outlinewidth\":0,\"ticks\":\"\"},\"type\":\"contourcarpet\"}],\"contour\":[{\"colorbar\":{\"outlinewidth\":0,\"ticks\":\"\"},\"colorscale\":[[0.0,\"#0d0887\"],[0.1111111111111111,\"#46039f\"],[0.2222222222222222,\"#7201a8\"],[0.3333333333333333,\"#9c179e\"],[0.4444444444444444,\"#bd3786\"],[0.5555555555555556,\"#d8576b\"],[0.6666666666666666,\"#ed7953\"],[0.7777777777777778,\"#fb9f3a\"],[0.8888888888888888,\"#fdca26\"],[1.0,\"#f0f921\"]],\"type\":\"contour\"}],\"heatmap\":[{\"colorbar\":{\"outlinewidth\":0,\"ticks\":\"\"},\"colorscale\":[[0.0,\"#0d0887\"],[0.1111111111111111,\"#46039f\"],[0.2222222222222222,\"#7201a8\"],[0.3333333333333333,\"#9c179e\"],[0.4444444444444444,\"#bd3786\"],[0.5555555555555556,\"#d8576b\"],[0.6666666666666666,\"#ed7953\"],[0.7777777777777778,\"#fb9f3a\"],[0.8888888888888888,\"#fdca26\"],[1.0,\"#f0f921\"]],\"type\":\"heatmap\"}],\"histogram2dcontour\":[{\"colorbar\":{\"outlinewidth\":0,\"ticks\":\"\"},\"colorscale\":[[0.0,\"#0d0887\"],[0.1111111111111111,\"#46039f\"],[0.2222222222222222,\"#7201a8\"],[0.3333333333333333,\"#9c179e\"],[0.4444444444444444,\"#bd3786\"],[0.5555555555555556,\"#d8576b\"],[0.6666666666666666,\"#ed7953\"],[0.7777777777777778,\"#fb9f3a\"],[0.8888888888888888,\"#fdca26\"],[1.0,\"#f0f921\"]],\"type\":\"histogram2dcontour\"}],\"histogram2d\":[{\"colorbar\":{\"outlinewidth\":0,\"ticks\":\"\"},\"colorscale\":[[0.0,\"#0d0887\"],[0.1111111111111111,\"#46039f\"],[0.2222222222222222,\"#7201a8\"],[0.3333333333333333,\"#9c179e\"],[0.4444444444444444,\"#bd3786\"],[0.5555555555555556,\"#d8576b\"],[0.6666666666666666,\"#ed7953\"],[0.7777777777777778,\"#fb9f3a\"],[0.8888888888888888,\"#fdca26\"],[1.0,\"#f0f921\"]],\"type\":\"histogram2d\"}],\"histogram\":[{\"marker\":{\"pattern\":{\"fillmode\":\"overlay\",\"size\":10,\"solidity\":0.2}},\"type\":\"histogram\"}],\"mesh3d\":[{\"colorbar\":{\"outlinewidth\":0,\"ticks\":\"\"},\"type\":\"mesh3d\"}],\"parcoords\":[{\"line\":{\"colorbar\":{\"outlinewidth\":0,\"ticks\":\"\"}},\"type\":\"parcoords\"}],\"pie\":[{\"automargin\":true,\"type\":\"pie\"}],\"scatter3d\":[{\"line\":{\"colorbar\":{\"outlinewidth\":0,\"ticks\":\"\"}},\"marker\":{\"colorbar\":{\"outlinewidth\":0,\"ticks\":\"\"}},\"type\":\"scatter3d\"}],\"scattercarpet\":[{\"marker\":{\"colorbar\":{\"outlinewidth\":0,\"ticks\":\"\"}},\"type\":\"scattercarpet\"}],\"scattergeo\":[{\"marker\":{\"colorbar\":{\"outlinewidth\":0,\"ticks\":\"\"}},\"type\":\"scattergeo\"}],\"scattergl\":[{\"marker\":{\"colorbar\":{\"outlinewidth\":0,\"ticks\":\"\"}},\"type\":\"scattergl\"}],\"scattermapbox\":[{\"marker\":{\"colorbar\":{\"outlinewidth\":0,\"ticks\":\"\"}},\"type\":\"scattermapbox\"}],\"scattermap\":[{\"marker\":{\"colorbar\":{\"outlinewidth\":0,\"ticks\":\"\"}},\"type\":\"scattermap\"}],\"scatterpolargl\":[{\"marker\":{\"colorbar\":{\"outlinewidth\":0,\"ticks\":\"\"}},\"type\":\"scatterpolargl\"}],\"scatterpolar\":[{\"marker\":{\"colorbar\":{\"outlinewidth\":0,\"ticks\":\"\"}},\"type\":\"scatterpolar\"}],\"scatter\":[{\"fillpattern\":{\"fillmode\":\"overlay\",\"size\":10,\"solidity\":0.2},\"type\":\"scatter\"}],\"scatterternary\":[{\"marker\":{\"colorbar\":{\"outlinewidth\":0,\"ticks\":\"\"}},\"type\":\"scatterternary\"}],\"surface\":[{\"colorbar\":{\"outlinewidth\":0,\"ticks\":\"\"},\"colorscale\":[[0.0,\"#0d0887\"],[0.1111111111111111,\"#46039f\"],[0.2222222222222222,\"#7201a8\"],[0.3333333333333333,\"#9c179e\"],[0.4444444444444444,\"#bd3786\"],[0.5555555555555556,\"#d8576b\"],[0.6666666666666666,\"#ed7953\"],[0.7777777777777778,\"#fb9f3a\"],[0.8888888888888888,\"#fdca26\"],[1.0,\"#f0f921\"]],\"type\":\"surface\"}],\"table\":[{\"cells\":{\"fill\":{\"color\":\"#EBF0F8\"},\"line\":{\"color\":\"white\"}},\"header\":{\"fill\":{\"color\":\"#C8D4E3\"},\"line\":{\"color\":\"white\"}},\"type\":\"table\"}]},\"layout\":{\"annotationdefaults\":{\"arrowcolor\":\"#2a3f5f\",\"arrowhead\":0,\"arrowwidth\":1},\"autotypenumbers\":\"strict\",\"coloraxis\":{\"colorbar\":{\"outlinewidth\":0,\"ticks\":\"\"}},\"colorscale\":{\"diverging\":[[0,\"#8e0152\"],[0.1,\"#c51b7d\"],[0.2,\"#de77ae\"],[0.3,\"#f1b6da\"],[0.4,\"#fde0ef\"],[0.5,\"#f7f7f7\"],[0.6,\"#e6f5d0\"],[0.7,\"#b8e186\"],[0.8,\"#7fbc41\"],[0.9,\"#4d9221\"],[1,\"#276419\"]],\"sequential\":[[0.0,\"#0d0887\"],[0.1111111111111111,\"#46039f\"],[0.2222222222222222,\"#7201a8\"],[0.3333333333333333,\"#9c179e\"],[0.4444444444444444,\"#bd3786\"],[0.5555555555555556,\"#d8576b\"],[0.6666666666666666,\"#ed7953\"],[0.7777777777777778,\"#fb9f3a\"],[0.8888888888888888,\"#fdca26\"],[1.0,\"#f0f921\"]],\"sequentialminus\":[[0.0,\"#0d0887\"],[0.1111111111111111,\"#46039f\"],[0.2222222222222222,\"#7201a8\"],[0.3333333333333333,\"#9c179e\"],[0.4444444444444444,\"#bd3786\"],[0.5555555555555556,\"#d8576b\"],[0.6666666666666666,\"#ed7953\"],[0.7777777777777778,\"#fb9f3a\"],[0.8888888888888888,\"#fdca26\"],[1.0,\"#f0f921\"]]},\"colorway\":[\"#636efa\",\"#EF553B\",\"#00cc96\",\"#ab63fa\",\"#FFA15A\",\"#19d3f3\",\"#FF6692\",\"#B6E880\",\"#FF97FF\",\"#FECB52\"],\"font\":{\"color\":\"#2a3f5f\"},\"geo\":{\"bgcolor\":\"white\",\"lakecolor\":\"white\",\"landcolor\":\"#E5ECF6\",\"showlakes\":true,\"showland\":true,\"subunitcolor\":\"white\"},\"hoverlabel\":{\"align\":\"left\"},\"hovermode\":\"closest\",\"mapbox\":{\"style\":\"light\"},\"paper_bgcolor\":\"white\",\"plot_bgcolor\":\"#E5ECF6\",\"polar\":{\"angularaxis\":{\"gridcolor\":\"white\",\"linecolor\":\"white\",\"ticks\":\"\"},\"bgcolor\":\"#E5ECF6\",\"radialaxis\":{\"gridcolor\":\"white\",\"linecolor\":\"white\",\"ticks\":\"\"}},\"scene\":{\"xaxis\":{\"backgroundcolor\":\"#E5ECF6\",\"gridcolor\":\"white\",\"gridwidth\":2,\"linecolor\":\"white\",\"showbackground\":true,\"ticks\":\"\",\"zerolinecolor\":\"white\"},\"yaxis\":{\"backgroundcolor\":\"#E5ECF6\",\"gridcolor\":\"white\",\"gridwidth\":2,\"linecolor\":\"white\",\"showbackground\":true,\"ticks\":\"\",\"zerolinecolor\":\"white\"},\"zaxis\":{\"backgroundcolor\":\"#E5ECF6\",\"gridcolor\":\"white\",\"gridwidth\":2,\"linecolor\":\"white\",\"showbackground\":true,\"ticks\":\"\",\"zerolinecolor\":\"white\"}},\"shapedefaults\":{\"line\":{\"color\":\"#2a3f5f\"}},\"ternary\":{\"aaxis\":{\"gridcolor\":\"white\",\"linecolor\":\"white\",\"ticks\":\"\"},\"baxis\":{\"gridcolor\":\"white\",\"linecolor\":\"white\",\"ticks\":\"\"},\"bgcolor\":\"#E5ECF6\",\"caxis\":{\"gridcolor\":\"white\",\"linecolor\":\"white\",\"ticks\":\"\"}},\"title\":{\"x\":0.05},\"xaxis\":{\"automargin\":true,\"gridcolor\":\"white\",\"linecolor\":\"white\",\"ticks\":\"\",\"title\":{\"standoff\":15},\"zerolinecolor\":\"white\",\"zerolinewidth\":2},\"yaxis\":{\"automargin\":true,\"gridcolor\":\"white\",\"linecolor\":\"white\",\"ticks\":\"\",\"title\":{\"standoff\":15},\"zerolinecolor\":\"white\",\"zerolinewidth\":2}}},\"title\":{\"text\":\"Pressure and Density during NPT Equilibration\"},\"xaxis\":{\"anchor\":\"y\",\"domain\":[0.0,0.45],\"title\":{\"text\":\"Time (ps)\"}},\"yaxis\":{\"anchor\":\"x\",\"domain\":[0.0,1.0],\"title\":{\"text\":\"Pressure (bar)\"}},\"xaxis2\":{\"anchor\":\"y2\",\"domain\":[0.55,1.0],\"title\":{\"text\":\"Time (ps)\"}},\"yaxis2\":{\"anchor\":\"x2\",\"domain\":[0.0,1.0],\"title\":{\"text\":\"Density (Kg*m^-3)\"}}},                        {\"responsive\": true}                    ).then(function(){\n",
       "                            \n",
       "var gd = document.getElementById('ffe9f54f-2648-4f38-b434-3e445b6eb0ba');\n",
       "var x = new MutationObserver(function (mutations, observer) {{\n",
       "        var display = window.getComputedStyle(gd).display;\n",
       "        if (!display || display === 'none') {{\n",
       "            console.log([gd, 'removed!']);\n",
       "            Plotly.purge(gd);\n",
       "            observer.disconnect();\n",
       "        }}\n",
       "}});\n",
       "\n",
       "// Listen for the removal of the full notebook cells\n",
       "var notebookContainer = gd.closest('#notebook-container');\n",
       "if (notebookContainer) {{\n",
       "    x.observe(notebookContainer, {childList: true});\n",
       "}}\n",
       "\n",
       "// Listen for the clearing of the current output cell\n",
       "var outputEl = gd.closest('.output');\n",
       "if (outputEl) {{\n",
       "    x.observe(outputEl, {childList: true});\n",
       "}}\n",
       "\n",
       "                        })                };            </script>        </div>"
      ]
     },
     "metadata": {},
     "output_type": "display_data"
    }
   ],
   "source": [
    "import plotly\n",
    "from plotly import subplots\n",
    "import plotly.graph_objs as go\n",
    "\n",
    "# Read pressure and density data from file \n",
    "with open(output_npt_pd_xvg,'r') as pd_file:\n",
    "    x,y,z = map(\n",
    "        list,\n",
    "        zip(*[\n",
    "            (float(line.split()[0]),float(line.split()[1]),float(line.split()[2]))\n",
    "            for line in pd_file \n",
    "            if not line.startswith((\"#\",\"@\")) \n",
    "        ])\n",
    "    )\n",
    "\n",
    "plotly.offline.init_notebook_mode(connected=True)\n",
    "\n",
    "trace1 = go.Scatter(\n",
    "    x=x,y=y\n",
    ")\n",
    "trace2 = go.Scatter(\n",
    "    x=x,y=z\n",
    ")\n",
    "\n",
    "fig = subplots.make_subplots(rows=1, cols=2, print_grid=False)\n",
    "\n",
    "fig.append_trace(trace1, 1, 1)\n",
    "fig.append_trace(trace2, 1, 2)\n",
    "\n",
    "fig['layout']['xaxis1'].update(title='Time (ps)')\n",
    "fig['layout']['xaxis2'].update(title='Time (ps)')\n",
    "fig['layout']['yaxis1'].update(title='Pressure (bar)')\n",
    "fig['layout']['yaxis2'].update(title='Density (Kg*m^-3)')\n",
    "\n",
    "fig['layout'].update(title='Pressure and Density during NPT Equilibration')\n",
    "fig['layout'].update(showlegend=False)\n",
    "\n",
    "plotly.offline.iplot(fig)"
   ]
  },
  {
   "cell_type": "markdown",
   "metadata": {},
   "source": [
    "<a id=\"free\"></a>\n",
    "***\n",
    "### Free Molecular Dynamics Simulation\n",
    "Upon completion of the **two equilibration phases (NVT and NPT)**, the system is now well-equilibrated at the desired temperature and pressure. The **position restraints** can now be released. The last step of the **protein** MD setup is a short, **free MD simulation**, to ensure the robustness of the system. \n",
    "- [Step 1](#mdStep1): Creating portable binary run file to run a **free MD simulation**.\n",
    "- [Step 2](#mdStep2): Run short MD simulation of the **protein system**.\n",
    "- [Step 3](#mdStep3): Checking results for the final step of the setup process, the **free MD run**. Plotting **Root Mean Square deviation (RMSd)** and **Radius of Gyration (Rgyr)** by time during the **free MD run** step. \n",
    "***\n",
    "**Building Blocks** used:\n",
    " - [Grompp](https://biobb-md.readthedocs.io/en/latest/gromacs.html#module-gromacs.grompp) from **biobb_gromacs.gromacs.grompp** \n",
    " - [Mdrun](https://biobb-md.readthedocs.io/en/latest/gromacs.html#module-gromacs.mdrun) from **biobb_gromacs.gromacs.mdrun** \n",
    " - [GMXRms](https://biobb-analysis.readthedocs.io/en/latest/gromacs.html#module-gromacs.gmx_rms) from **biobb_analysis.gromacs.gmx_rms** \n",
    " - [GMXRgyr](https://biobb-analysis.readthedocs.io/en/latest/gromacs.html#module-gromacs.gmx_rgyr) from **biobb_analysis.gromacs.gmx_rgyr** \n",
    "***"
   ]
  },
  {
   "cell_type": "markdown",
   "metadata": {},
   "source": [
    "<a id=\"mdStep1\"></a>\n",
    "#### Step 1: Creating portable binary run file to run a free MD simulation\n",
    "\n",
    "The **free** type of the **molecular dynamics parameters (mdp) property** contains the main default parameters to run an **free MD simulation** (see [GROMACS mdp options](http://manual.gromacs.org/documentation/2018/user-guide/mdp-options.html)):\n",
    "\n",
    "-  integrator               = md\n",
    "-  dt                       = 0.002 (ps)\n",
    "-  nsteps                   = 50000\n",
    "\n",
    "In this particular example, the default parameters will be used: **md** integrator algorithm, a **time step** of **2fs**, and a total of **50,000 md steps** (100ps).\n",
    "\n",
    "*Please note that for the sake of time this tutorial is only running 100ps of free MD, whereas in the [original example](http://www.mdtutorials.com/gmx/lysozyme/08_MD.html) the simulated time was 1ns (1000ps).*"
   ]
  },
  {
   "cell_type": "code",
   "execution_count": 35,
   "metadata": {},
   "outputs": [],
   "source": [
    "# https://github.com/alevil-gmx/workflow_template/blob/main/workflow_template/data/input/md_charmm36m.mdp\n",
    "# ns_type -> ns-type\n",
    "input_mdp_md = f\"{MD_inp}md_charmm36m.mdp\"\n",
    "\n",
    "file=\"\"\";define                   =  -DPOSRES\n",
    ";include                  = -I/home/villa/work/UseCaseI/forcefield\n",
    "integrator               = md\n",
    "tinit                    = 0\n",
    "dt                       = 0.002\n",
    "nsteps                   = 50000000   ; 50  ns\n",
    ";nstcomm                  = 1\n",
    "comm_grps                = system\n",
    "nstxout                  = 0\n",
    "nstvout                  = 0\n",
    "nstfout                  = 0\n",
    "nstlog                   = 100000\n",
    "nstenergy                = 100000\n",
    "nstxout-compressed       = 100000\n",
    "compressed-x-grps        = system \n",
    "nstlist                  = 10\n",
    "ns-type                  = grid\n",
    "pbc                      = xyz\n",
    "; neighbour\n",
    "; rlist                   = 1.2 ; not used when cutoff-scheme = verlet\n",
    "cutoff-scheme           = Verlet\n",
    "; coulomb\n",
    "coulombtype              = PME\n",
    "rcoulomb                 = 1.2\n",
    "fourierspacing           = 0.15 ;  For constant accuracy one should keep fourier-spacing/rcoulomb constant = 0.125\n",
    "; vdw\n",
    "vdwtype                  = Cut-off\n",
    "vdw_modifier             = Force-switch\n",
    "rvdw_switch              = 1.0  ; \n",
    "rvdw                     = 1.2\n",
    "DispCorr                 = EnerPres ; while for lipid bilayer,  it's a difficult topic in the CHARMM force field. If one don't have lipids bi- or monolayers one should use it. \n",
    ";\n",
    "constraints              = h-bonds\n",
    "constraint_algorithm     = LINCS\n",
    "; barostat\n",
    "Pcoupl                   = Parrinello-Rahman   \n",
    "tau_p                    = 5.0  \n",
    "ref_p                    = 1.0 \n",
    "compressibility          = 4.5e-5 \n",
    "; thermostat\n",
    "Tcoupl                   = v-rescale \n",
    "tc-grps                  = system\n",
    "tau_t                    = 0.5 ; or 0.1 \n",
    "ref_t                    = 298 \"\"\"\n",
    "with open(input_mdp_md, 'w') as f:\n",
    "    f.write(file)"
   ]
  },
  {
   "cell_type": "code",
   "execution_count": 38,
   "metadata": {
    "scrolled": true
   },
   "outputs": [
    {
     "name": "stdout",
     "output_type": "stream",
     "text": [
      "2025-05-19 16:30:56,481 [MainThread  ] [INFO ]  Module: biobb_gromacs.gromacs.grompp Version: 5.0.0\n",
      "2025-05-19 16:30:56,482 [MainThread  ] [INFO ]  /home/rchaves/repo/ab_design/biobb_wf_haddock/biobb_wf_haddock/notebooks/sandbox_34e366ca-21da-4460-b979-7c938df0bd9b directory successfully created\n",
      "2025-05-19 16:30:56,485 [MainThread  ] [INFO ]  Copy: data/antibody/1_MD/4G6K_npt.gro to /home/rchaves/repo/ab_design/biobb_wf_haddock/biobb_wf_haddock/notebooks/sandbox_34e366ca-21da-4460-b979-7c938df0bd9b\n",
      "2025-05-19 16:30:56,486 [MainThread  ] [INFO ]  Copy: data/antibody/1_MD/4G6K_npt.cpt to /home/rchaves/repo/ab_design/biobb_wf_haddock/biobb_wf_haddock/notebooks/sandbox_34e366ca-21da-4460-b979-7c938df0bd9b\n",
      "2025-05-19 16:30:56,486 [MainThread  ] [INFO ]  Copy: data/antibody/1_MD/input/md_charmm36m.mdp to /home/rchaves/repo/ab_design/biobb_wf_haddock/biobb_wf_haddock/notebooks/sandbox_34e366ca-21da-4460-b979-7c938df0bd9b\n",
      "2025-05-19 16:30:56,489 [MainThread  ] [INFO ]  Extracting: /home/rchaves/repo/ab_design/biobb_wf_haddock/biobb_wf_haddock/notebooks/data/antibody/1_MD/4G6K_genion_top.zip\n",
      "2025-05-19 16:30:56,489 [MainThread  ] [INFO ]  to:\n",
      "2025-05-19 16:30:56,490 [MainThread  ] [INFO ]  ['/home/rchaves/repo/ab_design/biobb_wf_haddock/biobb_wf_haddock/notebooks/sandbox_34e366ca-21da-4460-b979-7c938df0bd9b/p2g.top', '/home/rchaves/repo/ab_design/biobb_wf_haddock/biobb_wf_haddock/notebooks/sandbox_34e366ca-21da-4460-b979-7c938df0bd9b/p2g_Protein_chain_H.itp', '/home/rchaves/repo/ab_design/biobb_wf_haddock/biobb_wf_haddock/notebooks/sandbox_34e366ca-21da-4460-b979-7c938df0bd9b/p2g_Protein_chain_L.itp', '/home/rchaves/repo/ab_design/biobb_wf_haddock/biobb_wf_haddock/notebooks/sandbox_34e366ca-21da-4460-b979-7c938df0bd9b/posre_Protein_chain_H.itp', '/home/rchaves/repo/ab_design/biobb_wf_haddock/biobb_wf_haddock/notebooks/sandbox_34e366ca-21da-4460-b979-7c938df0bd9b/posre_Protein_chain_L.itp']\n",
      "2025-05-19 16:30:56,490 [MainThread  ] [INFO ]  Unzipping: \n",
      "2025-05-19 16:30:56,490 [MainThread  ] [INFO ]  data/antibody/1_MD/4G6K_genion_top.zip\n",
      "2025-05-19 16:30:56,491 [MainThread  ] [INFO ]  To: \n",
      "2025-05-19 16:30:56,491 [MainThread  ] [INFO ]  /home/rchaves/repo/ab_design/biobb_wf_haddock/biobb_wf_haddock/notebooks/sandbox_34e366ca-21da-4460-b979-7c938df0bd9b/p2g.top\n",
      "2025-05-19 16:30:56,491 [MainThread  ] [INFO ]  /home/rchaves/repo/ab_design/biobb_wf_haddock/biobb_wf_haddock/notebooks/sandbox_34e366ca-21da-4460-b979-7c938df0bd9b/p2g_Protein_chain_H.itp\n",
      "2025-05-19 16:30:56,491 [MainThread  ] [INFO ]  /home/rchaves/repo/ab_design/biobb_wf_haddock/biobb_wf_haddock/notebooks/sandbox_34e366ca-21da-4460-b979-7c938df0bd9b/p2g_Protein_chain_L.itp\n",
      "2025-05-19 16:30:56,491 [MainThread  ] [INFO ]  /home/rchaves/repo/ab_design/biobb_wf_haddock/biobb_wf_haddock/notebooks/sandbox_34e366ca-21da-4460-b979-7c938df0bd9b/posre_Protein_chain_H.itp\n",
      "2025-05-19 16:30:56,491 [MainThread  ] [INFO ]  /home/rchaves/repo/ab_design/biobb_wf_haddock/biobb_wf_haddock/notebooks/sandbox_34e366ca-21da-4460-b979-7c938df0bd9b/posre_Protein_chain_L.itp\n",
      "2025-05-19 16:30:56,492 [MainThread  ] [INFO ]  gmx -nobackup -nocopyright grompp -f /home/rchaves/repo/ab_design/biobb_wf_haddock/biobb_wf_haddock/notebooks/sandbox_34e366ca-21da-4460-b979-7c938df0bd9b/grompp.mdp -c /home/rchaves/repo/ab_design/biobb_wf_haddock/biobb_wf_haddock/notebooks/sandbox_34e366ca-21da-4460-b979-7c938df0bd9b/4G6K_npt.gro -r /home/rchaves/repo/ab_design/biobb_wf_haddock/biobb_wf_haddock/notebooks/sandbox_34e366ca-21da-4460-b979-7c938df0bd9b/4G6K_npt.gro -p /home/rchaves/repo/ab_design/biobb_wf_haddock/biobb_wf_haddock/notebooks/sandbox_34e366ca-21da-4460-b979-7c938df0bd9b/p2g.top -o /home/rchaves/repo/ab_design/biobb_wf_haddock/biobb_wf_haddock/notebooks/sandbox_34e366ca-21da-4460-b979-7c938df0bd9b/4G6K_gppmd.tpr -po mdout.mdp -maxwarn 1 -t /home/rchaves/repo/ab_design/biobb_wf_haddock/biobb_wf_haddock/notebooks/sandbox_34e366ca-21da-4460-b979-7c938df0bd9b/4G6K_npt.cpt\n",
      "\n",
      "2025-05-19 16:30:57,380 [MainThread  ] [INFO ]  Executing: gmx -nobackup -nocopyright grompp -f /home/rchaves/repo/ab_design/biobb_wf_haddo...\n",
      "2025-05-19 16:30:57,381 [MainThread  ] [INFO ]  Exit code: 0\n",
      "2025-05-19 16:30:57,381 [MainThread  ] [INFO ]  Setting the LD random seed to -883702146\n",
      "\n",
      "Generated 97877 of the 97903 non-bonded parameter combinations\n",
      "\n",
      "Generated 64492 of the 97903 1-4 parameter combinations\n",
      "\n",
      "Excluding 3 bonded neighbours molecule type 'Protein_chain_H'\n",
      "\n",
      "turning H bonds into constraints...\n",
      "\n",
      "Excluding 3 bonded neighbours molecule type 'Protein_chain_L'\n",
      "\n",
      "turning H bonds into constraints...\n",
      "\n",
      "Excluding 2 bonded neighbours molecule type 'SOL'\n",
      "\n",
      "turning H bonds into constraints...\n",
      "\n",
      "Excluding 1 bonded neighbours molecule type 'NA'\n",
      "\n",
      "turning H bonds into constraints...\n",
      "\n",
      "Excluding 1 bonded neighbours molecule type 'CL'\n",
      "\n",
      "turning H bonds into constraints...\n",
      "Analysing residue names:\n",
      "There are:   432    Protein residues\n",
      "There are: 16778      Water residues\n",
      "There are:    43        Ion residues\n",
      "Analysing Protein...\n",
      "Analysing residues not classified as Protein/DNA/RNA/Water and splitting into groups...\n",
      "\n",
      "The largest distance between excluded atoms is 0.450 nm\n",
      "\n",
      "Determining Verlet buffer for a tolerance of 0.005 kJ/mol/ps at 298 K\n",
      "\n",
      "Calculated rlist for 1x1 atom pair-list as 1.233 nm, buffer size 0.033 nm\n",
      "\n",
      "Set rlist, assuming 4x4 atom pair-list, to 1.200 nm, buffer size 0.000 nm\n",
      "\n",
      "Note that mdrun will redetermine rlist based on the actual pair-list setup\n",
      "\n",
      "Reading Coordinates, Velocities and Box size from old trajectory\n",
      "\n",
      "Will read whole trajectory\n",
      "\n",
      "Using frame at t = 10 ps\n",
      "\n",
      "Starting time for run is 0 ps\n",
      "Calculating fourier grid dimensions for X Y Z\n",
      "Using a fourier grid of 64x64x64, spacing 0.145 0.145 0.145\n",
      "\n",
      "Estimate for the relative computational load of the PME mesh part: 0.16\n",
      "\n",
      "This run will generate roughly 38 Mb of data\n",
      "\n",
      "2025-05-19 16:30:57,381 [MainThread  ] [INFO ]                  :-) GROMACS - gmx grompp, 2022.2-conda_forge (-:\n",
      "\n",
      "Executable:   /home/rchaves/miniforge3/envs/biobb_wf_antibody/bin.AVX2_256/gmx\n",
      "Data prefix:  /home/rchaves/miniforge3/envs/biobb_wf_antibody\n",
      "Working dir:  /home/rchaves/repo/ab_design/biobb_wf_haddock/biobb_wf_haddock/notebooks\n",
      "Command line:\n",
      "  gmx -nobackup -nocopyright grompp -f /home/rchaves/repo/ab_design/biobb_wf_haddock/biobb_wf_haddock/notebooks/sandbox_34e366ca-21da-4460-b979-7c938df0bd9b/grompp.mdp -c /home/rchaves/repo/ab_design/biobb_wf_haddock/biobb_wf_haddock/notebooks/sandbox_34e366ca-21da-4460-b979-7c938df0bd9b/4G6K_npt.gro -r /home/rchaves/repo/ab_design/biobb_wf_haddock/biobb_wf_haddock/notebooks/sandbox_34e366ca-21da-4460-b979-7c938df0bd9b/4G6K_npt.gro -p /home/rchaves/repo/ab_design/biobb_wf_haddock/biobb_wf_haddock/notebooks/sandbox_34e366ca-21da-4460-b979-7c938df0bd9b/p2g.top -o /home/rchaves/repo/ab_design/biobb_wf_haddock/biobb_wf_haddock/notebooks/sandbox_34e366ca-21da-4460-b979-7c938df0bd9b/4G6K_gppmd.tpr -po mdout.mdp -maxwarn 1 -t /home/rchaves/repo/ab_design/biobb_wf_haddock/biobb_wf_haddock/notebooks/sandbox_34e366ca-21da-4460-b979-7c938df0bd9b/4G6K_npt.cpt\n",
      "\n",
      "Ignoring obsolete mdp entry 'ns-type'\n",
      "Generating 1-4 interactions: fudge = 1\n",
      "\n",
      "NOTE 1 [file p2g.top, line 56]:\n",
      "  You are combining position restraints with Parrinello-Rahman pressure\n",
      "  coupling, which can lead to instabilities. If you really want to combine\n",
      "  position restraints with pressure coupling, we suggest to use Berendsen\n",
      "  pressure coupling instead.\n",
      "\n",
      "Number of degrees of freedom in T-Coupling group System is 117137.00\n",
      "\n",
      "NOTE 2 [file /home/rchaves/repo/ab_design/biobb_wf_haddock/biobb_wf_haddock/notebooks/sandbox_34e366ca-21da-4460-b979-7c938df0bd9b/grompp.mdp]:\n",
      "  Removing center of mass motion in the presence of position restraints\n",
      "  might cause artifacts. When you are using position restraints to\n",
      "  equilibrate a macro-molecule, the artifacts are usually negligible.\n",
      "\n",
      "\n",
      "WARNING 1 [file /home/rchaves/repo/ab_design/biobb_wf_haddock/biobb_wf_haddock/notebooks/sandbox_34e366ca-21da-4460-b979-7c938df0bd9b/grompp.mdp]:\n",
      "  You are using pressure coupling with absolute position restraints, this\n",
      "  will give artifacts. Use the refcoord_scaling option.\n",
      "\n",
      "Last frame         -1 time   10.000   \n",
      "\n",
      "There were 2 notes\n",
      "\n",
      "There was 1 warning\n",
      "\n",
      "GROMACS reminds you: \"I am driven by two main philosophies: know more today about the world than I knew yesterday and lessen the suffering of others. You'd be surprised how far that gets you.\" (Neil deGrasse Tyson)\n",
      "\n",
      "\n",
      "2025-05-19 16:30:57,387 [MainThread  ] [INFO ]  Removed: ['/home/rchaves/repo/ab_design/biobb_wf_haddock/biobb_wf_haddock/notebooks/sandbox_34e366ca-21da-4460-b979-7c938df0bd9b', 'mdout.mdp']\n",
      "2025-05-19 16:30:57,387 [MainThread  ] [INFO ]  \n"
     ]
    },
    {
     "data": {
      "text/plain": [
       "0"
      ]
     },
     "execution_count": 38,
     "metadata": {},
     "output_type": "execute_result"
    }
   ],
   "source": [
    "# Grompp: Creating portable binary run file for mdrun\n",
    "from biobb_gromacs.gromacs.grompp import grompp\n",
    "\n",
    "# Create prop dict and inputs/outputs\n",
    "\n",
    "output_gppmd_tpr = f\"{MD_dir}{pdbCode}_gppmd.tpr\"\n",
    "\n",
    "prop = {\n",
    "    'mdp': {\n",
    "        'nsteps' : 50000,\n",
    "        'nstxout' : 1000\n",
    "    },\n",
    "    'gmx_lib' : f\"{cwd}/{MD_inp}\",\n",
    "    'maxwarn' : 1\n",
    "}\n",
    "\n",
    "# Create and launch bb\n",
    "grompp(input_gro_path=output_npt_gro, \n",
    "       input_top_zip_path=output_genion_top_zip, \n",
    "       input_mdp_path=input_mdp_md,\n",
    "       output_tpr_path=output_gppmd_tpr, \n",
    "       input_cpt_path=output_npt_cpt, \n",
    "       properties=def_dict(prop))"
   ]
  },
  {
   "cell_type": "markdown",
   "metadata": {},
   "source": [
    "<a id=\"mdStep2\"></a>\n",
    "#### Step 2: Running short free MD simulation"
   ]
  },
  {
   "cell_type": "code",
   "execution_count": 39,
   "metadata": {
    "scrolled": true
   },
   "outputs": [
    {
     "name": "stdout",
     "output_type": "stream",
     "text": [
      "2025-05-19 16:31:47,522 [MainThread  ] [INFO ]  Module: biobb_gromacs.gromacs.mdrun Version: 5.0.0\n",
      "2025-05-19 16:31:47,522 [MainThread  ] [INFO ]  /home/rchaves/repo/ab_design/biobb_wf_haddock/biobb_wf_haddock/notebooks/sandbox_ce34a6ec-f2e7-4dba-a766-5063cd75b156 directory successfully created\n",
      "2025-05-19 16:31:47,525 [MainThread  ] [INFO ]  Copy: data/antibody/1_MD/4G6K_gppmd.tpr to /home/rchaves/repo/ab_design/biobb_wf_haddock/biobb_wf_haddock/notebooks/sandbox_ce34a6ec-f2e7-4dba-a766-5063cd75b156\n",
      "2025-05-19 16:31:47,525 [MainThread  ] [INFO ]  gmx -nobackup -nocopyright mdrun -o /home/rchaves/repo/ab_design/biobb_wf_haddock/biobb_wf_haddock/notebooks/sandbox_ce34a6ec-f2e7-4dba-a766-5063cd75b156/4G6K_md.trr -s /home/rchaves/repo/ab_design/biobb_wf_haddock/biobb_wf_haddock/notebooks/sandbox_ce34a6ec-f2e7-4dba-a766-5063cd75b156/4G6K_gppmd.tpr -c /home/rchaves/repo/ab_design/biobb_wf_haddock/biobb_wf_haddock/notebooks/sandbox_ce34a6ec-f2e7-4dba-a766-5063cd75b156/4G6K_md.gro -e /home/rchaves/repo/ab_design/biobb_wf_haddock/biobb_wf_haddock/notebooks/sandbox_ce34a6ec-f2e7-4dba-a766-5063cd75b156/4G6K_md.edr -g /home/rchaves/repo/ab_design/biobb_wf_haddock/biobb_wf_haddock/notebooks/sandbox_ce34a6ec-f2e7-4dba-a766-5063cd75b156/4G6K_md.log -cpo /home/rchaves/repo/ab_design/biobb_wf_haddock/biobb_wf_haddock/notebooks/sandbox_ce34a6ec-f2e7-4dba-a766-5063cd75b156/4G6K_md.cpt\n",
      "\n",
      "2025-05-19 16:46:01,422 [MainThread  ] [INFO ]  Executing: gmx -nobackup -nocopyright mdrun -o /home/rchaves/repo/ab_design/biobb_wf_haddoc...\n",
      "2025-05-19 16:46:01,423 [MainThread  ] [INFO ]  Exit code: 0\n",
      "2025-05-19 16:46:01,423 [MainThread  ] [INFO ]                  :-) GROMACS - gmx mdrun, 2022.2-conda_forge (-:\n",
      "\n",
      "Executable:   /home/rchaves/miniforge3/envs/biobb_wf_antibody/bin.AVX2_256/gmx\n",
      "Data prefix:  /home/rchaves/miniforge3/envs/biobb_wf_antibody\n",
      "Working dir:  /home/rchaves/repo/ab_design/biobb_wf_haddock/biobb_wf_haddock/notebooks\n",
      "Command line:\n",
      "  gmx -nobackup -nocopyright mdrun -o /home/rchaves/repo/ab_design/biobb_wf_haddock/biobb_wf_haddock/notebooks/sandbox_ce34a6ec-f2e7-4dba-a766-5063cd75b156/4G6K_md.trr -s /home/rchaves/repo/ab_design/biobb_wf_haddock/biobb_wf_haddock/notebooks/sandbox_ce34a6ec-f2e7-4dba-a766-5063cd75b156/4G6K_gppmd.tpr -c /home/rchaves/repo/ab_design/biobb_wf_haddock/biobb_wf_haddock/notebooks/sandbox_ce34a6ec-f2e7-4dba-a766-5063cd75b156/4G6K_md.gro -e /home/rchaves/repo/ab_design/biobb_wf_haddock/biobb_wf_haddock/notebooks/sandbox_ce34a6ec-f2e7-4dba-a766-5063cd75b156/4G6K_md.edr -g /home/rchaves/repo/ab_design/biobb_wf_haddock/biobb_wf_haddock/notebooks/sandbox_ce34a6ec-f2e7-4dba-a766-5063cd75b156/4G6K_md.log -cpo /home/rchaves/repo/ab_design/biobb_wf_haddock/biobb_wf_haddock/notebooks/sandbox_ce34a6ec-f2e7-4dba-a766-5063cd75b156/4G6K_md.cpt\n",
      "\n",
      "Reading file /home/rchaves/repo/ab_design/biobb_wf_haddock/biobb_wf_haddock/notebooks/sandbox_ce34a6ec-f2e7-4dba-a766-5063cd75b156/4G6K_gppmd.tpr, VERSION 2022.2-conda_forge (single precision)\n",
      "Changing nstlist from 10 to 80, rlist from 1.2 to 1.316\n",
      "\n",
      "Using 1 MPI thread\n",
      "Using 16 OpenMP threads \n",
      "\n",
      "starting mdrun 'Protein in water'\n",
      "50000 steps,    100.0 ps.\n",
      "\n",
      "Writing final coordinates.\n",
      "\n",
      "               Core t (s)   Wall t (s)        (%)\n",
      "       Time:    13655.826      853.489     1600.0\n",
      "                 (ns/day)    (hour/ns)\n",
      "Performance:       10.123        2.371\n",
      "\n",
      "GROMACS reminds you: \"Academia is kind of like applied Marxism. The workers really do own the means of production.\" (Niklas Blomberg)\n",
      "\n",
      "\n",
      "2025-05-19 16:46:01,454 [MainThread  ] [INFO ]  Removed: ['traj_comp.xtc', '/home/rchaves/repo/ab_design/biobb_wf_haddock/biobb_wf_haddock/notebooks/sandbox_ce34a6ec-f2e7-4dba-a766-5063cd75b156']\n",
      "2025-05-19 16:46:01,455 [MainThread  ] [INFO ]  \n"
     ]
    },
    {
     "data": {
      "text/plain": [
       "0"
      ]
     },
     "execution_count": 39,
     "metadata": {},
     "output_type": "execute_result"
    }
   ],
   "source": [
    "# Mdrun: Running free dynamics\n",
    "from biobb_gromacs.gromacs.mdrun import mdrun\n",
    "\n",
    "# Create prop dict and inputs/outputs\n",
    "output_md_trr = f'{MD_dir}{pdbCode}_md.trr'\n",
    "output_md_gro = f'{MD_dir}{pdbCode}_md.gro'\n",
    "output_md_edr = f'{MD_dir}{pdbCode}_md.edr'\n",
    "output_md_log = f'{MD_dir}{pdbCode}_md.log'\n",
    "output_md_cpt = f'{MD_dir}{pdbCode}_md.cpt'\n",
    "\n",
    "# Create and launch bb\n",
    "mdrun(input_tpr_path=output_gppmd_tpr, \n",
    "      output_trr_path=output_md_trr, \n",
    "      output_gro_path=output_md_gro, \n",
    "      output_edr_path=output_md_edr, \n",
    "      output_log_path=output_md_log, \n",
    "      output_cpt_path=output_md_cpt,\n",
    "      properties=def_dict())"
   ]
  },
  {
   "cell_type": "markdown",
   "metadata": {},
   "source": [
    "<a id=\"post\"></a>\n",
    "***\n",
    "### Post-processing and Visualizing resulting 3D trajectory\n",
    "Post-processing and Visualizing the **protein system** MD setup **resulting trajectory** using **NGL**\n",
    "- [Step 1](#ppStep1): *Imaging* the resulting trajectory, **stripping out water molecules and ions** and **correcting periodicity issues**.\n",
    "- [Step 2](#ppStep2): Generating a *dry* structure, **removing water molecules and ions** from the final snapshot of the MD setup pipeline.\n",
    "- [Step 3](#ppStep3): Visualizing the *imaged* trajectory using the *dry* structure as a **topology**. \n",
    "***\n",
    "**Building Blocks** used:\n",
    " - [GMXImage](https://biobb-analysis.readthedocs.io/en/latest/gromacs.html#module-gromacs.gmx_image) from **biobb_analysis.gromacs.gmx_image** \n",
    " - [GMXTrjConvStr](https://biobb-analysis.readthedocs.io/en/latest/gromacs.html#module-gromacs.gmx_trjconv_str) from **biobb_analysis.gromacs.gmx_trjconv_str** \n",
    "***"
   ]
  },
  {
   "cell_type": "markdown",
   "metadata": {},
   "source": [
    "<a id=\"ppStep1\"></a>\n",
    "#### Step 1: *Imaging* the resulting trajectory.\n",
    "Stripping out **water molecules and ions** and **correcting periodicity issues**  "
   ]
  },
  {
   "cell_type": "code",
   "execution_count": 40,
   "metadata": {
    "scrolled": true
   },
   "outputs": [
    {
     "name": "stdout",
     "output_type": "stream",
     "text": [
      "2025-05-19 17:17:29,934 [MainThread  ] [INFO ]  Module: biobb_analysis.gromacs.gmx_image Version: 5.0.1\n",
      "2025-05-19 17:17:29,935 [MainThread  ] [INFO ]  /home/rchaves/repo/ab_design/biobb_wf_haddock/biobb_wf_haddock/notebooks/sandbox_55a75c29-7d6c-4294-91e1-ffae431dbeff directory successfully created\n",
      "2025-05-19 17:17:29,957 [MainThread  ] [INFO ]  Copy: /home/rchaves/repo/ab_design/biobb_wf_haddock/biobb_wf_haddock/notebooks/data/antibody/1_MD/4G6K_md.trr to /home/rchaves/repo/ab_design/biobb_wf_haddock/biobb_wf_haddock/notebooks/sandbox_55a75c29-7d6c-4294-91e1-ffae431dbeff\n",
      "2025-05-19 17:17:29,960 [MainThread  ] [INFO ]  Copy: /home/rchaves/repo/ab_design/biobb_wf_haddock/biobb_wf_haddock/notebooks/data/antibody/1_MD/4G6K_gppmin.tpr to /home/rchaves/repo/ab_design/biobb_wf_haddock/biobb_wf_haddock/notebooks/sandbox_55a75c29-7d6c-4294-91e1-ffae431dbeff\n",
      "2025-05-19 17:17:29,961 [MainThread  ] [INFO ]  Copy: /home/rchaves/repo/ab_design/biobb_wf_haddock/biobb_wf_haddock/notebooks/99f21718-423b-4ca9-abde-9cfe95ec4c13.stdin to /home/rchaves/repo/ab_design/biobb_wf_haddock/biobb_wf_haddock/notebooks/sandbox_55a75c29-7d6c-4294-91e1-ffae431dbeff\n",
      "2025-05-19 17:17:29,962 [MainThread  ] [INFO ]  gmx trjconv -f /home/rchaves/repo/ab_design/biobb_wf_haddock/biobb_wf_haddock/notebooks/sandbox_55a75c29-7d6c-4294-91e1-ffae431dbeff/4G6K_md.trr -s /home/rchaves/repo/ab_design/biobb_wf_haddock/biobb_wf_haddock/notebooks/sandbox_55a75c29-7d6c-4294-91e1-ffae431dbeff/4G6K_gppmin.tpr -fit none -o /home/rchaves/repo/ab_design/biobb_wf_haddock/biobb_wf_haddock/notebooks/sandbox_55a75c29-7d6c-4294-91e1-ffae431dbeff/4G6K_imaged_traj.trr -center -pbc nojump -ur compact < /home/rchaves/repo/ab_design/biobb_wf_haddock/biobb_wf_haddock/notebooks/sandbox_55a75c29-7d6c-4294-91e1-ffae431dbeff/99f21718-423b-4ca9-abde-9cfe95ec4c13.stdin\n",
      "\n",
      "2025-05-19 17:17:30,143 [MainThread  ] [INFO ]  Executing: gmx trjconv -f /home/rchaves/repo/ab_design/biobb_wf_haddock/biobb_wf_haddock/no...\n",
      "2025-05-19 17:17:30,144 [MainThread  ] [INFO ]  Exit code: 0\n",
      "2025-05-19 17:17:30,144 [MainThread  ] [INFO ]  Note that major changes are planned in future for trjconv, to improve usability and utility.\n",
      "Select group for centering\n",
      "Selected 1: 'Protein'\n",
      "Select group for output\n",
      "Selected 1: 'Protein'\n",
      "\n",
      "2025-05-19 17:17:30,144 [MainThread  ] [INFO ]                 :-) GROMACS - gmx trjconv, 2022.2-conda_forge (-:\n",
      "\n",
      "Executable:   /home/rchaves/miniforge3/envs/biobb_wf_antibody/bin.AVX2_256/gmx\n",
      "Data prefix:  /home/rchaves/miniforge3/envs/biobb_wf_antibody\n",
      "Working dir:  /home/rchaves/repo/ab_design/biobb_wf_haddock/biobb_wf_haddock/notebooks\n",
      "Command line:\n",
      "  gmx trjconv -f /home/rchaves/repo/ab_design/biobb_wf_haddock/biobb_wf_haddock/notebooks/sandbox_55a75c29-7d6c-4294-91e1-ffae431dbeff/4G6K_md.trr -s /home/rchaves/repo/ab_design/biobb_wf_haddock/biobb_wf_haddock/notebooks/sandbox_55a75c29-7d6c-4294-91e1-ffae431dbeff/4G6K_gppmin.tpr -fit none -o /home/rchaves/repo/ab_design/biobb_wf_haddock/biobb_wf_haddock/notebooks/sandbox_55a75c29-7d6c-4294-91e1-ffae431dbeff/4G6K_imaged_traj.trr -center -pbc nojump -ur compact\n",
      "\n",
      "WARNING: Option for unitcell representation (-ur compact)\n",
      "         only has effect in combination with -pbc mol, res or atom.\n",
      "         Ingoring unitcell representation.\n",
      "\n",
      "Will write trr: Trajectory in portable xdr format\n",
      "Reading file /home/rchaves/repo/ab_design/biobb_wf_haddock/biobb_wf_haddock/notebooks/sandbox_55a75c29-7d6c-4294-91e1-ffae431dbeff/4G6K_gppmin.tpr, VERSION 2022.2-conda_forge (single precision)\n",
      "Reading file /home/rchaves/repo/ab_design/biobb_wf_haddock/biobb_wf_haddock/notebooks/sandbox_55a75c29-7d6c-4294-91e1-ffae431dbeff/4G6K_gppmin.tpr, VERSION 2022.2-conda_forge (single precision)\n",
      "Group     0 (         System) has 56902 elements\n",
      "Group     1 (        Protein) has  6525 elements\n",
      "Group     2 (      Protein-H) has  3293 elements\n",
      "Group     3 (        C-alpha) has   432 elements\n",
      "Group     4 (       Backbone) has  1296 elements\n",
      "Group     5 (      MainChain) has  1726 elements\n",
      "Group     6 (   MainChain+Cb) has  2126 elements\n",
      "Group     7 (    MainChain+H) has  2139 elements\n",
      "Group     8 (      SideChain) has  4386 elements\n",
      "Group     9 (    SideChain-H) has  1567 elements\n",
      "Group    10 (    Prot-Masses) has  6525 elements\n",
      "Group    11 (    non-Protein) has 50377 elements\n",
      "Group    12 (          Water) has 50334 elements\n",
      "Group    13 (            SOL) has 50334 elements\n",
      "Group    14 (      non-Water) has  6568 elements\n",
      "Group    15 (            Ion) has    43 elements\n",
      "Group    16 (             NA) has    18 elements\n",
      "Group    17 (             CL) has    25 elements\n",
      "Group    18 ( Water_and_ions) has 50377 elements\n",
      "Select a group: Group     0 (         System) has 56902 elements\n",
      "Group     1 (        Protein) has  6525 elements\n",
      "Group     2 (      Protein-H) has  3293 elements\n",
      "Group     3 (        C-alpha) has   432 elements\n",
      "Group     4 (       Backbone) has  1296 elements\n",
      "Group     5 (      MainChain) has  1726 elements\n",
      "Group     6 (   MainChain+Cb) has  2126 elements\n",
      "Group     7 (    MainChain+H) has  2139 elements\n",
      "Group     8 (      SideChain) has  4386 elements\n",
      "Group     9 (    SideChain-H) has  1567 elements\n",
      "Group    10 (    Prot-Masses) has  6525 elements\n",
      "Group    11 (    non-Protein) has 50377 elements\n",
      "Group    12 (          Water) has 50334 elements\n",
      "Group    13 (            SOL) has 50334 elements\n",
      "Group    14 (      non-Water) has  6568 elements\n",
      "Group    15 (            Ion) has    43 elements\n",
      "Group    16 (             NA) has    18 elements\n",
      "Group    17 (             CL) has    25 elements\n",
      "Group    18 ( Water_and_ions) has 50377 elements\n",
      "Select a group: trr version: GMX_trn_file (single precision)\n",
      "Last frame         50 time  100.000    ->  frame     49 time   98.000      \n",
      " ->  frame     50 time  100.000      \n",
      "Last written: frame     50 time  100.000\n",
      "\n",
      "\n",
      "GROMACS reminds you: \"Just a Minute While I Reinvent Myself\" (Red Hot Chili Peppers)\n",
      "\n",
      "\n",
      "2025-05-19 17:17:30,156 [MainThread  ] [INFO ]  Removed: ['/home/rchaves/repo/ab_design/biobb_wf_haddock/biobb_wf_haddock/notebooks/sandbox_55a75c29-7d6c-4294-91e1-ffae431dbeff', '/home/rchaves/repo/ab_design/biobb_wf_haddock/biobb_wf_haddock/notebooks/99f21718-423b-4ca9-abde-9cfe95ec4c13.stdin']\n",
      "2025-05-19 17:17:30,157 [MainThread  ] [INFO ]  \n"
     ]
    },
    {
     "data": {
      "text/plain": [
       "0"
      ]
     },
     "execution_count": 40,
     "metadata": {},
     "output_type": "execute_result"
    }
   ],
   "source": [
    "# GMXImage: \"Imaging\" the resulting trajectory\n",
    "#           Removing water molecules and ions from the resulting structure\n",
    "from biobb_analysis.gromacs.gmx_image import gmx_image\n",
    "\n",
    "# Create prop dict and inputs/outputs\n",
    "output_imaged_traj = f'{MD_dir}{pdbCode}_imaged_traj.trr'\n",
    "prop = {\n",
    "    'center_selection':  'Protein',\n",
    "    'output_selection': 'Protein',\n",
    "    'pbc' : 'nojump',\n",
    "}\n",
    "\n",
    "# Create and launch bb\n",
    "gmx_image(input_traj_path=output_md_trr,\n",
    "         input_top_path=output_gppmin_tpr,\n",
    "         output_traj_path=output_imaged_traj, \n",
    "          properties=def_dict(prop))"
   ]
  },
  {
   "cell_type": "code",
   "execution_count": 43,
   "metadata": {
    "scrolled": true
   },
   "outputs": [
    {
     "name": "stdout",
     "output_type": "stream",
     "text": [
      "2025-05-19 17:18:32,483 [MainThread  ] [INFO ]  Module: biobb_analysis.gromacs.gmx_image Version: 5.0.1\n",
      "2025-05-19 17:18:32,484 [MainThread  ] [INFO ]  /home/rchaves/repo/ab_design/biobb_wf_haddock/biobb_wf_haddock/notebooks/sandbox_9070f89a-73cd-4d8b-b2ec-cb8338456f49 directory successfully created\n",
      "2025-05-19 17:18:32,487 [MainThread  ] [INFO ]  Copy: /home/rchaves/repo/ab_design/biobb_wf_haddock/biobb_wf_haddock/notebooks/data/antibody/1_MD/4G6K_imaged_traj.trr to /home/rchaves/repo/ab_design/biobb_wf_haddock/biobb_wf_haddock/notebooks/sandbox_9070f89a-73cd-4d8b-b2ec-cb8338456f49\n",
      "2025-05-19 17:18:32,489 [MainThread  ] [INFO ]  Copy: /home/rchaves/repo/ab_design/biobb_wf_haddock/biobb_wf_haddock/notebooks/data/antibody/1_MD/4G6K_gppmd.tpr to /home/rchaves/repo/ab_design/biobb_wf_haddock/biobb_wf_haddock/notebooks/sandbox_9070f89a-73cd-4d8b-b2ec-cb8338456f49\n",
      "2025-05-19 17:18:32,490 [MainThread  ] [INFO ]  Copy: /home/rchaves/repo/ab_design/biobb_wf_haddock/biobb_wf_haddock/notebooks/22a55b33-4b2c-47c1-a25e-df1b34c1ec0b.stdin to /home/rchaves/repo/ab_design/biobb_wf_haddock/biobb_wf_haddock/notebooks/sandbox_9070f89a-73cd-4d8b-b2ec-cb8338456f49\n",
      "2025-05-19 17:18:32,490 [MainThread  ] [INFO ]  gmx trjconv -f /home/rchaves/repo/ab_design/biobb_wf_haddock/biobb_wf_haddock/notebooks/sandbox_9070f89a-73cd-4d8b-b2ec-cb8338456f49/4G6K_imaged_traj.trr -s /home/rchaves/repo/ab_design/biobb_wf_haddock/biobb_wf_haddock/notebooks/sandbox_9070f89a-73cd-4d8b-b2ec-cb8338456f49/4G6K_gppmd.tpr -fit rot+trans -o /home/rchaves/repo/ab_design/biobb_wf_haddock/biobb_wf_haddock/notebooks/sandbox_9070f89a-73cd-4d8b-b2ec-cb8338456f49/4G6K_imaged_traj_rot.trr -center < /home/rchaves/repo/ab_design/biobb_wf_haddock/biobb_wf_haddock/notebooks/sandbox_9070f89a-73cd-4d8b-b2ec-cb8338456f49/22a55b33-4b2c-47c1-a25e-df1b34c1ec0b.stdin\n",
      "\n",
      "2025-05-19 17:18:32,595 [MainThread  ] [INFO ]  Executing: gmx trjconv -f /home/rchaves/repo/ab_design/biobb_wf_haddock/biobb_wf_haddock/no...\n",
      "2025-05-19 17:18:32,596 [MainThread  ] [INFO ]  Exit code: 0\n",
      "2025-05-19 17:18:32,597 [MainThread  ] [INFO ]  Note that major changes are planned in future for trjconv, to improve usability and utility.\n",
      "Select group for least squares fit\n",
      "Selected 0: 'System'\n",
      "Select group for centering\n",
      "Selected 1: 'Protein'\n",
      "Select group for output\n",
      "Selected 1: 'Protein'\n",
      "\n",
      "2025-05-19 17:18:32,597 [MainThread  ] [INFO ]                 :-) GROMACS - gmx trjconv, 2022.2-conda_forge (-:\n",
      "\n",
      "Executable:   /home/rchaves/miniforge3/envs/biobb_wf_antibody/bin.AVX2_256/gmx\n",
      "Data prefix:  /home/rchaves/miniforge3/envs/biobb_wf_antibody\n",
      "Working dir:  /home/rchaves/repo/ab_design/biobb_wf_haddock/biobb_wf_haddock/notebooks\n",
      "Command line:\n",
      "  gmx trjconv -f /home/rchaves/repo/ab_design/biobb_wf_haddock/biobb_wf_haddock/notebooks/sandbox_9070f89a-73cd-4d8b-b2ec-cb8338456f49/4G6K_imaged_traj.trr -s /home/rchaves/repo/ab_design/biobb_wf_haddock/biobb_wf_haddock/notebooks/sandbox_9070f89a-73cd-4d8b-b2ec-cb8338456f49/4G6K_gppmd.tpr -fit rot+trans -o /home/rchaves/repo/ab_design/biobb_wf_haddock/biobb_wf_haddock/notebooks/sandbox_9070f89a-73cd-4d8b-b2ec-cb8338456f49/4G6K_imaged_traj_rot.trr -center\n",
      "\n",
      "Will write trr: Trajectory in portable xdr format\n",
      "Reading file /home/rchaves/repo/ab_design/biobb_wf_haddock/biobb_wf_haddock/notebooks/sandbox_9070f89a-73cd-4d8b-b2ec-cb8338456f49/4G6K_gppmd.tpr, VERSION 2022.2-conda_forge (single precision)\n",
      "Reading file /home/rchaves/repo/ab_design/biobb_wf_haddock/biobb_wf_haddock/notebooks/sandbox_9070f89a-73cd-4d8b-b2ec-cb8338456f49/4G6K_gppmd.tpr, VERSION 2022.2-conda_forge (single precision)\n",
      "Group     0 (         System) has 56902 elements\n",
      "Group     1 (        Protein) has  6525 elements\n",
      "Group     2 (      Protein-H) has  3293 elements\n",
      "Group     3 (        C-alpha) has   432 elements\n",
      "Group     4 (       Backbone) has  1296 elements\n",
      "Group     5 (      MainChain) has  1726 elements\n",
      "Group     6 (   MainChain+Cb) has  2126 elements\n",
      "Group     7 (    MainChain+H) has  2139 elements\n",
      "Group     8 (      SideChain) has  4386 elements\n",
      "Group     9 (    SideChain-H) has  1567 elements\n",
      "Group    10 (    Prot-Masses) has  6525 elements\n",
      "Group    11 (    non-Protein) has 50377 elements\n",
      "Group    12 (          Water) has 50334 elements\n",
      "Group    13 (            SOL) has 50334 elements\n",
      "Group    14 (      non-Water) has  6568 elements\n",
      "Group    15 (            Ion) has    43 elements\n",
      "Group    16 (             NA) has    18 elements\n",
      "Group    17 (             CL) has    25 elements\n",
      "Group    18 ( Water_and_ions) has 50377 elements\n",
      "Select a group: Group     0 (         System) has 56902 elements\n",
      "Group     1 (        Protein) has  6525 elements\n",
      "Group     2 (      Protein-H) has  3293 elements\n",
      "Group     3 (        C-alpha) has   432 elements\n",
      "Group     4 (       Backbone) has  1296 elements\n",
      "Group     5 (      MainChain) has  1726 elements\n",
      "Group     6 (   MainChain+Cb) has  2126 elements\n",
      "Group     7 (    MainChain+H) has  2139 elements\n",
      "Group     8 (      SideChain) has  4386 elements\n",
      "Group     9 (    SideChain-H) has  1567 elements\n",
      "Group    10 (    Prot-Masses) has  6525 elements\n",
      "Group    11 (    non-Protein) has 50377 elements\n",
      "Group    12 (          Water) has 50334 elements\n",
      "Group    13 (            SOL) has 50334 elements\n",
      "Group    14 (      non-Water) has  6568 elements\n",
      "Group    15 (            Ion) has    43 elements\n",
      "Group    16 (             NA) has    18 elements\n",
      "Group    17 (             CL) has    25 elements\n",
      "Group    18 ( Water_and_ions) has 50377 elements\n",
      "Select a group: Group     0 (         System) has 56902 elements\n",
      "Group     1 (        Protein) has  6525 elements\n",
      "Group     2 (      Protein-H) has  3293 elements\n",
      "Group     3 (        C-alpha) has   432 elements\n",
      "Group     4 (       Backbone) has  1296 elements\n",
      "Group     5 (      MainChain) has  1726 elements\n",
      "Group     6 (   MainChain+Cb) has  2126 elements\n",
      "Group     7 (    MainChain+H) has  2139 elements\n",
      "Group     8 (      SideChain) has  4386 elements\n",
      "Group     9 (    SideChain-H) has  1567 elements\n",
      "Group    10 (    Prot-Masses) has  6525 elements\n",
      "Group    11 (    non-Protein) has 50377 elements\n",
      "Group    12 (          Water) has 50334 elements\n",
      "Group    13 (            SOL) has 50334 elements\n",
      "Group    14 (      non-Water) has  6568 elements\n",
      "Group    15 (            Ion) has    43 elements\n",
      "Group    16 (             NA) has    18 elements\n",
      "Group    17 (             CL) has    25 elements\n",
      "Group    18 ( Water_and_ions) has 50377 elements\n",
      "Select a group: trr version: GMX_trn_file (single precision)\n",
      "Last frame         50 time  100.000    ->  frame     49 time   98.000      \n",
      " ->  frame     50 time  100.000      \n",
      "Last written: frame     50 time  100.000\n",
      "\n",
      "\n",
      "GROMACS reminds you: \"An expert is a person who has made all the mistakes that can be made in a very narrow field.\" (Niels Bohr)\n",
      "\n",
      "\n",
      "2025-05-19 17:18:32,603 [MainThread  ] [INFO ]  Removed: ['/home/rchaves/repo/ab_design/biobb_wf_haddock/biobb_wf_haddock/notebooks/sandbox_9070f89a-73cd-4d8b-b2ec-cb8338456f49', '/home/rchaves/repo/ab_design/biobb_wf_haddock/biobb_wf_haddock/notebooks/22a55b33-4b2c-47c1-a25e-df1b34c1ec0b.stdin']\n",
      "2025-05-19 17:18:32,603 [MainThread  ] [INFO ]  \n"
     ]
    },
    {
     "data": {
      "text/plain": [
       "0"
      ]
     },
     "execution_count": 43,
     "metadata": {},
     "output_type": "execute_result"
    }
   ],
   "source": [
    "# GMXImage: \"Imaging\" the resulting trajectory\n",
    "#           Removing water molecules and ions from the resulting structure\n",
    "from biobb_analysis.gromacs.gmx_image import gmx_image\n",
    "\n",
    "# Create prop dict and inputs/outputs\n",
    "output_imaged_traj_rot = f'{MD_dir}{pdbCode}_imaged_traj_rot.trr'\n",
    "prop = {\n",
    "    'center_selection':  'Protein',\n",
    "    'output_selection': 'Protein',\n",
    "    'fit' : 'rot+trans',\n",
    "    'center' : True\n",
    "}\n",
    "\n",
    "# Create and launch bb\n",
    "gmx_image(input_traj_path=output_imaged_traj,\n",
    "         input_top_path=output_gppmd_tpr,\n",
    "         output_traj_path=output_imaged_traj_rot, \n",
    "          properties=def_dict(prop))"
   ]
  },
  {
   "cell_type": "markdown",
   "metadata": {},
   "source": [
    "<a id=\"ppStep2\"></a>\n",
    "#### Step 2: Generating the output *dry* structure.\n",
    "**Removing water molecules and ions** from the resulting structure"
   ]
  },
  {
   "cell_type": "code",
   "execution_count": null,
   "metadata": {
    "scrolled": true
   },
   "outputs": [
    {
     "name": "stdout",
     "output_type": "stream",
     "text": [
      "2025-05-19 17:17:56,649 [MainThread  ] [INFO ]  Module: biobb_analysis.gromacs.gmx_trjconv_str Version: 5.0.1\n",
      "2025-05-19 17:17:56,650 [MainThread  ] [INFO ]  /home/rchaves/repo/ab_design/biobb_wf_haddock/biobb_wf_haddock/notebooks/sandbox_2755c075-0df4-49e2-8aeb-6f0409a4c5f5 directory successfully created\n",
      "2025-05-19 17:17:56,654 [MainThread  ] [INFO ]  Copy: /home/rchaves/repo/ab_design/biobb_wf_haddock/biobb_wf_haddock/notebooks/data/antibody/1_MD/4G6K_md.gro to /home/rchaves/repo/ab_design/biobb_wf_haddock/biobb_wf_haddock/notebooks/sandbox_2755c075-0df4-49e2-8aeb-6f0409a4c5f5\n",
      "2025-05-19 17:17:56,657 [MainThread  ] [INFO ]  Copy: /home/rchaves/repo/ab_design/biobb_wf_haddock/biobb_wf_haddock/notebooks/data/antibody/1_MD/4G6K_gppmd.tpr to /home/rchaves/repo/ab_design/biobb_wf_haddock/biobb_wf_haddock/notebooks/sandbox_2755c075-0df4-49e2-8aeb-6f0409a4c5f5\n",
      "2025-05-19 17:17:56,657 [MainThread  ] [INFO ]  Copy: /home/rchaves/repo/ab_design/biobb_wf_haddock/biobb_wf_haddock/notebooks/03f7791a-4a76-48e8-8c2a-5fad6d8129e0.stdin to /home/rchaves/repo/ab_design/biobb_wf_haddock/biobb_wf_haddock/notebooks/sandbox_2755c075-0df4-49e2-8aeb-6f0409a4c5f5\n",
      "2025-05-19 17:17:56,658 [MainThread  ] [INFO ]  gmx trjconv -f /home/rchaves/repo/ab_design/biobb_wf_haddock/biobb_wf_haddock/notebooks/sandbox_2755c075-0df4-49e2-8aeb-6f0409a4c5f5/4G6K_md.gro -s /home/rchaves/repo/ab_design/biobb_wf_haddock/biobb_wf_haddock/notebooks/sandbox_2755c075-0df4-49e2-8aeb-6f0409a4c5f5/4G6K_gppmd.tpr -o /home/rchaves/repo/ab_design/biobb_wf_haddock/biobb_wf_haddock/notebooks/sandbox_2755c075-0df4-49e2-8aeb-6f0409a4c5f5/4G6K_md_dry.gro -nocenter < /home/rchaves/repo/ab_design/biobb_wf_haddock/biobb_wf_haddock/notebooks/sandbox_2755c075-0df4-49e2-8aeb-6f0409a4c5f5/03f7791a-4a76-48e8-8c2a-5fad6d8129e0.stdin\n",
      "\n",
      "2025-05-19 17:17:56,756 [MainThread  ] [INFO ]  Executing: gmx trjconv -f /home/rchaves/repo/ab_design/biobb_wf_haddock/biobb_wf_haddock/no...\n",
      "2025-05-19 17:17:56,756 [MainThread  ] [INFO ]  Exit code: 0\n",
      "2025-05-19 17:17:56,756 [MainThread  ] [INFO ]  Note that major changes are planned in future for trjconv, to improve usability and utility.\n",
      "Select group for output\n",
      "Selected 1: 'Protein'\n",
      "\n",
      "2025-05-19 17:17:56,757 [MainThread  ] [INFO ]                 :-) GROMACS - gmx trjconv, 2022.2-conda_forge (-:\n",
      "\n",
      "Executable:   /home/rchaves/miniforge3/envs/biobb_wf_antibody/bin.AVX2_256/gmx\n",
      "Data prefix:  /home/rchaves/miniforge3/envs/biobb_wf_antibody\n",
      "Working dir:  /home/rchaves/repo/ab_design/biobb_wf_haddock/biobb_wf_haddock/notebooks\n",
      "Command line:\n",
      "  gmx trjconv -f /home/rchaves/repo/ab_design/biobb_wf_haddock/biobb_wf_haddock/notebooks/sandbox_2755c075-0df4-49e2-8aeb-6f0409a4c5f5/4G6K_md.gro -s /home/rchaves/repo/ab_design/biobb_wf_haddock/biobb_wf_haddock/notebooks/sandbox_2755c075-0df4-49e2-8aeb-6f0409a4c5f5/4G6K_gppmd.tpr -o /home/rchaves/repo/ab_design/biobb_wf_haddock/biobb_wf_haddock/notebooks/sandbox_2755c075-0df4-49e2-8aeb-6f0409a4c5f5/4G6K_md_dry.gro -nocenter\n",
      "\n",
      "Will write gro: Coordinate file in Gromos-87 format\n",
      "Reading file /home/rchaves/repo/ab_design/biobb_wf_haddock/biobb_wf_haddock/notebooks/sandbox_2755c075-0df4-49e2-8aeb-6f0409a4c5f5/4G6K_gppmd.tpr, VERSION 2022.2-conda_forge (single precision)\n",
      "Reading file /home/rchaves/repo/ab_design/biobb_wf_haddock/biobb_wf_haddock/notebooks/sandbox_2755c075-0df4-49e2-8aeb-6f0409a4c5f5/4G6K_gppmd.tpr, VERSION 2022.2-conda_forge (single precision)\n",
      "Group     0 (         System) has 56902 elements\n",
      "Group     1 (        Protein) has  6525 elements\n",
      "Group     2 (      Protein-H) has  3293 elements\n",
      "Group     3 (        C-alpha) has   432 elements\n",
      "Group     4 (       Backbone) has  1296 elements\n",
      "Group     5 (      MainChain) has  1726 elements\n",
      "Group     6 (   MainChain+Cb) has  2126 elements\n",
      "Group     7 (    MainChain+H) has  2139 elements\n",
      "Group     8 (      SideChain) has  4386 elements\n",
      "Group     9 (    SideChain-H) has  1567 elements\n",
      "Group    10 (    Prot-Masses) has  6525 elements\n",
      "Group    11 (    non-Protein) has 50377 elements\n",
      "Group    12 (          Water) has 50334 elements\n",
      "Group    13 (            SOL) has 50334 elements\n",
      "Group    14 (      non-Water) has  6568 elements\n",
      "Group    15 (            Ion) has    43 elements\n",
      "Group    16 (             NA) has    18 elements\n",
      "Group    17 (             CL) has    25 elements\n",
      "Group    18 ( Water_and_ions) has 50377 elements\n",
      "Select a group: Reading frames from gro file 'Protein in water', 56902 atoms.\n",
      "Reading frame       0 time    0.000   \n",
      "Precision of /home/rchaves/repo/ab_design/biobb_wf_haddock/biobb_wf_haddock/notebooks/sandbox_2755c075-0df4-49e2-8aeb-6f0409a4c5f5/4G6K_md.gro is 0.001 (nm)\n",
      "Last frame          0 time    0.000   \n",
      " ->  frame      0 time    0.000      \n",
      "Last written: frame      0 time    0.000\n",
      "\n",
      "\n",
      "GROMACS reminds you: \"We are continually faced by great opportunities brilliantly disguised as insoluble problems.\" (Lee Iacocca)\n",
      "\n",
      "\n",
      "2025-05-19 17:17:56,759 [MainThread  ] [INFO ]  Removed: ['/home/rchaves/repo/ab_design/biobb_wf_haddock/biobb_wf_haddock/notebooks/sandbox_2755c075-0df4-49e2-8aeb-6f0409a4c5f5', '/home/rchaves/repo/ab_design/biobb_wf_haddock/biobb_wf_haddock/notebooks/03f7791a-4a76-48e8-8c2a-5fad6d8129e0.stdin']\n",
      "2025-05-19 17:17:56,759 [MainThread  ] [INFO ]  \n"
     ]
    },
    {
     "data": {
      "text/plain": [
       "0"
      ]
     },
     "execution_count": 41,
     "metadata": {},
     "output_type": "execute_result"
    }
   ],
   "source": [
    "# GMXTrjConvStr: Converting and/or manipulating a structure\n",
    "#                Removing water molecules and ions from the resulting structure\n",
    "#                The \"dry\" structure will be used as a topology to visualize \n",
    "#                the \"imaged dry\" trajectory generated in the previous step.\n",
    "from biobb_analysis.gromacs.gmx_trjconv_str import gmx_trjconv_str\n",
    "\n",
    "# Create prop dict and inputs/outputs\n",
    "output_dry_gro = f'{MD_dir}{pdbCode}_md_dry.gro'\n",
    "prop = {\n",
    "    'selection':  'Protein'\n",
    "}\n",
    "\n",
    "# Create and launch bb\n",
    "gmx_trjconv_str(input_structure_path=output_md_gro,\n",
    "         input_top_path=output_gppmd_tpr,\n",
    "         output_str_path=output_dry_gro, \n",
    "          properties=def_dict(prop))"
   ]
  },
  {
   "cell_type": "markdown",
   "metadata": {},
   "source": [
    "<a id=\"ppStep3\"></a>\n",
    "#### Step 3: Visualizing the generated dehydrated trajectory.\n",
    "Using the **imaged trajectory** (output of the [Post-processing step 1](#ppStep1)) with the **dry structure** (output of the [Post-processing step 2](#ppStep2)) as a topology."
   ]
  },
  {
   "cell_type": "code",
   "execution_count": 44,
   "metadata": {},
   "outputs": [
    {
     "data": {
      "application/vnd.jupyter.widget-view+json": {
       "model_id": "274330f857da4cbda3f21d833ee6b997",
       "version_major": 2,
       "version_minor": 0
      },
      "text/plain": [
       "NGLWidget(max_frame=50)"
      ]
     },
     "metadata": {},
     "output_type": "display_data"
    }
   ],
   "source": [
    "# Show trajectory\n",
    "view = nv.show_simpletraj(nv.SimpletrajTrajectory(output_imaged_traj_rot, output_dry_gro), gui=True)\n",
    "view"
   ]
  },
  {
   "cell_type": "markdown",
   "metadata": {},
   "source": [
    "<a id=\"mdStep3\"></a>\n",
    "#### Step 4: Checking free MD simulation results\n",
    "Checking results for the final step of the setup process, the **free MD run**. Plotting **Root Mean Square deviation (RMSd)** and **Radius of Gyration (Rgyr)** by time during the **free MD run** step. **RMSd** against the **experimental structure** (input structure of the pipeline) and against the **minimized and equilibrated structure** (output structure of the NPT equilibration step)."
   ]
  },
  {
   "cell_type": "code",
   "execution_count": 45,
   "metadata": {
    "scrolled": true
   },
   "outputs": [
    {
     "name": "stdout",
     "output_type": "stream",
     "text": [
      "2025-05-19 17:19:19,971 [MainThread  ] [INFO ]  Module: biobb_analysis.gromacs.gmx_rms Version: 5.0.1\n",
      "2025-05-19 17:19:19,972 [MainThread  ] [INFO ]  /home/rchaves/repo/ab_design/biobb_wf_haddock/biobb_wf_haddock/notebooks/sandbox_2efdc615-caf1-4493-9e72-b3b3b737fe94 directory successfully created\n",
      "2025-05-19 17:19:19,975 [MainThread  ] [INFO ]  Copy: /home/rchaves/repo/ab_design/biobb_wf_haddock/biobb_wf_haddock/notebooks/data/antibody/1_MD/4G6K_gppmin.tpr to /home/rchaves/repo/ab_design/biobb_wf_haddock/biobb_wf_haddock/notebooks/sandbox_2efdc615-caf1-4493-9e72-b3b3b737fe94\n",
      "2025-05-19 17:19:19,978 [MainThread  ] [INFO ]  Copy: /home/rchaves/repo/ab_design/biobb_wf_haddock/biobb_wf_haddock/notebooks/data/antibody/1_MD/4G6K_imaged_traj_rot.trr to /home/rchaves/repo/ab_design/biobb_wf_haddock/biobb_wf_haddock/notebooks/sandbox_2efdc615-caf1-4493-9e72-b3b3b737fe94\n",
      "2025-05-19 17:19:19,979 [MainThread  ] [INFO ]  Copy: /home/rchaves/repo/ab_design/biobb_wf_haddock/biobb_wf_haddock/notebooks/cf9caffb-906a-4a22-99e1-bf3fd56170ac.stdin to /home/rchaves/repo/ab_design/biobb_wf_haddock/biobb_wf_haddock/notebooks/sandbox_2efdc615-caf1-4493-9e72-b3b3b737fe94\n",
      "2025-05-19 17:19:19,979 [MainThread  ] [INFO ]  gmx rms -s /home/rchaves/repo/ab_design/biobb_wf_haddock/biobb_wf_haddock/notebooks/sandbox_2efdc615-caf1-4493-9e72-b3b3b737fe94/4G6K_gppmin.tpr -f /home/rchaves/repo/ab_design/biobb_wf_haddock/biobb_wf_haddock/notebooks/sandbox_2efdc615-caf1-4493-9e72-b3b3b737fe94/4G6K_imaged_traj_rot.trr -o /home/rchaves/repo/ab_design/biobb_wf_haddock/biobb_wf_haddock/notebooks/sandbox_2efdc615-caf1-4493-9e72-b3b3b737fe94/4G6K_rms_exp.xvg -xvg none < /home/rchaves/repo/ab_design/biobb_wf_haddock/biobb_wf_haddock/notebooks/sandbox_2efdc615-caf1-4493-9e72-b3b3b737fe94/cf9caffb-906a-4a22-99e1-bf3fd56170ac.stdin\n",
      "\n",
      "2025-05-19 17:19:20,055 [MainThread  ] [INFO ]  Executing: gmx rms -s /home/rchaves/repo/ab_design/biobb_wf_haddock/biobb_wf_haddock/notebo...\n",
      "2025-05-19 17:19:20,056 [MainThread  ] [INFO ]  Exit code: 0\n",
      "2025-05-19 17:19:20,057 [MainThread  ] [INFO ]  Selected 4: 'Backbone'\n",
      "Selected 4: 'Backbone'\n",
      "\n",
      "2025-05-19 17:19:20,057 [MainThread  ] [INFO ]                   :-) GROMACS - gmx rms, 2022.2-conda_forge (-:\n",
      "\n",
      "Executable:   /home/rchaves/miniforge3/envs/biobb_wf_antibody/bin.AVX2_256/gmx\n",
      "Data prefix:  /home/rchaves/miniforge3/envs/biobb_wf_antibody\n",
      "Working dir:  /home/rchaves/repo/ab_design/biobb_wf_haddock/biobb_wf_haddock/notebooks\n",
      "Command line:\n",
      "  gmx rms -s /home/rchaves/repo/ab_design/biobb_wf_haddock/biobb_wf_haddock/notebooks/sandbox_2efdc615-caf1-4493-9e72-b3b3b737fe94/4G6K_gppmin.tpr -f /home/rchaves/repo/ab_design/biobb_wf_haddock/biobb_wf_haddock/notebooks/sandbox_2efdc615-caf1-4493-9e72-b3b3b737fe94/4G6K_imaged_traj_rot.trr -o /home/rchaves/repo/ab_design/biobb_wf_haddock/biobb_wf_haddock/notebooks/sandbox_2efdc615-caf1-4493-9e72-b3b3b737fe94/4G6K_rms_exp.xvg -xvg none\n",
      "\n",
      "Reading file /home/rchaves/repo/ab_design/biobb_wf_haddock/biobb_wf_haddock/notebooks/sandbox_2efdc615-caf1-4493-9e72-b3b3b737fe94/4G6K_gppmin.tpr, VERSION 2022.2-conda_forge (single precision)\n",
      "Reading file /home/rchaves/repo/ab_design/biobb_wf_haddock/biobb_wf_haddock/notebooks/sandbox_2efdc615-caf1-4493-9e72-b3b3b737fe94/4G6K_gppmin.tpr, VERSION 2022.2-conda_forge (single precision)\n",
      "Select group for least squares fit\n",
      "Group     0 (         System) has 56902 elements\n",
      "Group     1 (        Protein) has  6525 elements\n",
      "Group     2 (      Protein-H) has  3293 elements\n",
      "Group     3 (        C-alpha) has   432 elements\n",
      "Group     4 (       Backbone) has  1296 elements\n",
      "Group     5 (      MainChain) has  1726 elements\n",
      "Group     6 (   MainChain+Cb) has  2126 elements\n",
      "Group     7 (    MainChain+H) has  2139 elements\n",
      "Group     8 (      SideChain) has  4386 elements\n",
      "Group     9 (    SideChain-H) has  1567 elements\n",
      "Group    10 (    Prot-Masses) has  6525 elements\n",
      "Group    11 (    non-Protein) has 50377 elements\n",
      "Group    12 (          Water) has 50334 elements\n",
      "Group    13 (            SOL) has 50334 elements\n",
      "Group    14 (      non-Water) has  6568 elements\n",
      "Group    15 (            Ion) has    43 elements\n",
      "Group    16 (             NA) has    18 elements\n",
      "Group    17 (             CL) has    25 elements\n",
      "Group    18 ( Water_and_ions) has 50377 elements\n",
      "Select a group: Select group for RMSD calculation\n",
      "Group     0 (         System) has 56902 elements\n",
      "Group     1 (        Protein) has  6525 elements\n",
      "Group     2 (      Protein-H) has  3293 elements\n",
      "Group     3 (        C-alpha) has   432 elements\n",
      "Group     4 (       Backbone) has  1296 elements\n",
      "Group     5 (      MainChain) has  1726 elements\n",
      "Group     6 (   MainChain+Cb) has  2126 elements\n",
      "Group     7 (    MainChain+H) has  2139 elements\n",
      "Group     8 (      SideChain) has  4386 elements\n",
      "Group     9 (    SideChain-H) has  1567 elements\n",
      "Group    10 (    Prot-Masses) has  6525 elements\n",
      "Group    11 (    non-Protein) has 50377 elements\n",
      "Group    12 (          Water) has 50334 elements\n",
      "Group    13 (            SOL) has 50334 elements\n",
      "Group    14 (      non-Water) has  6568 elements\n",
      "Group    15 (            Ion) has    43 elements\n",
      "Group    16 (             NA) has    18 elements\n",
      "Group    17 (             CL) has    25 elements\n",
      "Group    18 ( Water_and_ions) has 50377 elements\n",
      "Select a group: trr version: GMX_trn_file (single precision)\n",
      "Reading frame       0 time    0.000   \n",
      "WARNING: topology has 56902 atoms, whereas trajectory has 6525\n",
      "Last frame         50 time  100.000   \n",
      "\n",
      "GROMACS reminds you: \"She Needs Cash to Buy Aspirine For Her Pain\" (LIVE)\n",
      "\n",
      "\n",
      "2025-05-19 17:19:20,059 [MainThread  ] [INFO ]  Removed: ['/home/rchaves/repo/ab_design/biobb_wf_haddock/biobb_wf_haddock/notebooks/sandbox_2efdc615-caf1-4493-9e72-b3b3b737fe94', '/home/rchaves/repo/ab_design/biobb_wf_haddock/biobb_wf_haddock/notebooks/cf9caffb-906a-4a22-99e1-bf3fd56170ac.stdin']\n",
      "2025-05-19 17:19:20,059 [MainThread  ] [INFO ]  \n"
     ]
    },
    {
     "data": {
      "text/plain": [
       "0"
      ]
     },
     "execution_count": 45,
     "metadata": {},
     "output_type": "execute_result"
    }
   ],
   "source": [
    "# GMXRms: Computing Root Mean Square deviation to analyse structural stability \n",
    "#         RMSd against experimental structure (backbone atoms)   \n",
    "\n",
    "from biobb_analysis.gromacs.gmx_rms import gmx_rms\n",
    "\n",
    "# Create prop dict and inputs/outputs\n",
    "output_rms_exp = f'{MD_dir}{pdbCode}_rms_exp.xvg'\n",
    "prop = {\n",
    "    'selection':  'Backbone',\n",
    "    #'selection': 'non-Water'\n",
    "}\n",
    "\n",
    "# Create and launch bb\n",
    "gmx_rms(input_structure_path=output_gppmin_tpr,\n",
    "         input_traj_path=output_imaged_traj_rot,\n",
    "         output_xvg_path=output_rms_exp, \n",
    "          properties=def_dict(prop))"
   ]
  },
  {
   "cell_type": "code",
   "execution_count": 46,
   "metadata": {},
   "outputs": [
    {
     "data": {
      "text/html": [
       "        <script type=\"text/javascript\">\n",
       "        window.PlotlyConfig = {MathJaxConfig: 'local'};\n",
       "        if (window.MathJax && window.MathJax.Hub && window.MathJax.Hub.Config) {window.MathJax.Hub.Config({SVG: {font: \"STIX-Web\"}});}\n",
       "        </script>\n",
       "        <script type=\"module\">import \"https://cdn.plot.ly/plotly-3.0.1.min\"</script>\n",
       "        "
      ]
     },
     "metadata": {},
     "output_type": "display_data"
    },
    {
     "data": {
      "application/vnd.plotly.v1+json": {
       "config": {
        "linkText": "Export to plot.ly",
        "plotlyServerURL": "https://plot.ly",
        "showLink": false
       },
       "data": [
        {
         "name": "RMSd vs exp",
         "type": "scatter",
         "x": [
          0,
          10
         ],
         "y": [
          0.0386877,
          0.0421248,
          0.0403502,
          0.041592,
          0.0402558,
          0.0398905,
          0.0413879,
          0.0408521,
          0.0401844,
          0.0391683,
          0.0409311,
          0.0398348,
          0.0395586,
          0.0399997,
          0.0400581,
          0.0385463,
          0.0410872,
          0.0415495,
          0.0400218,
          0.0399139,
          0.0417147,
          0.0400539,
          0.0400605,
          0.0390539,
          0.0409269,
          0.0398289,
          0.0395447,
          0.0392554,
          0.0407103,
          0.0395868,
          0.0387315,
          0.0416999,
          0.0398432,
          0.0423256,
          0.040254,
          0.0408447,
          0.0409709,
          0.0407988,
          0.0399157,
          0.0389833,
          0.0391984,
          0.0412099,
          0.0402677,
          0.0398592,
          0.039731,
          0.041439,
          0.0404212,
          0.0390628,
          0.0410126,
          0.0383693,
          0.0406051
         ]
        }
       ],
       "layout": {
        "template": {
         "data": {
          "bar": [
           {
            "error_x": {
             "color": "#2a3f5f"
            },
            "error_y": {
             "color": "#2a3f5f"
            },
            "marker": {
             "line": {
              "color": "#E5ECF6",
              "width": 0.5
             },
             "pattern": {
              "fillmode": "overlay",
              "size": 10,
              "solidity": 0.2
             }
            },
            "type": "bar"
           }
          ],
          "barpolar": [
           {
            "marker": {
             "line": {
              "color": "#E5ECF6",
              "width": 0.5
             },
             "pattern": {
              "fillmode": "overlay",
              "size": 10,
              "solidity": 0.2
             }
            },
            "type": "barpolar"
           }
          ],
          "carpet": [
           {
            "aaxis": {
             "endlinecolor": "#2a3f5f",
             "gridcolor": "white",
             "linecolor": "white",
             "minorgridcolor": "white",
             "startlinecolor": "#2a3f5f"
            },
            "baxis": {
             "endlinecolor": "#2a3f5f",
             "gridcolor": "white",
             "linecolor": "white",
             "minorgridcolor": "white",
             "startlinecolor": "#2a3f5f"
            },
            "type": "carpet"
           }
          ],
          "choropleth": [
           {
            "colorbar": {
             "outlinewidth": 0,
             "ticks": ""
            },
            "type": "choropleth"
           }
          ],
          "contour": [
           {
            "colorbar": {
             "outlinewidth": 0,
             "ticks": ""
            },
            "colorscale": [
             [
              0,
              "#0d0887"
             ],
             [
              0.1111111111111111,
              "#46039f"
             ],
             [
              0.2222222222222222,
              "#7201a8"
             ],
             [
              0.3333333333333333,
              "#9c179e"
             ],
             [
              0.4444444444444444,
              "#bd3786"
             ],
             [
              0.5555555555555556,
              "#d8576b"
             ],
             [
              0.6666666666666666,
              "#ed7953"
             ],
             [
              0.7777777777777778,
              "#fb9f3a"
             ],
             [
              0.8888888888888888,
              "#fdca26"
             ],
             [
              1,
              "#f0f921"
             ]
            ],
            "type": "contour"
           }
          ],
          "contourcarpet": [
           {
            "colorbar": {
             "outlinewidth": 0,
             "ticks": ""
            },
            "type": "contourcarpet"
           }
          ],
          "heatmap": [
           {
            "colorbar": {
             "outlinewidth": 0,
             "ticks": ""
            },
            "colorscale": [
             [
              0,
              "#0d0887"
             ],
             [
              0.1111111111111111,
              "#46039f"
             ],
             [
              0.2222222222222222,
              "#7201a8"
             ],
             [
              0.3333333333333333,
              "#9c179e"
             ],
             [
              0.4444444444444444,
              "#bd3786"
             ],
             [
              0.5555555555555556,
              "#d8576b"
             ],
             [
              0.6666666666666666,
              "#ed7953"
             ],
             [
              0.7777777777777778,
              "#fb9f3a"
             ],
             [
              0.8888888888888888,
              "#fdca26"
             ],
             [
              1,
              "#f0f921"
             ]
            ],
            "type": "heatmap"
           }
          ],
          "histogram": [
           {
            "marker": {
             "pattern": {
              "fillmode": "overlay",
              "size": 10,
              "solidity": 0.2
             }
            },
            "type": "histogram"
           }
          ],
          "histogram2d": [
           {
            "colorbar": {
             "outlinewidth": 0,
             "ticks": ""
            },
            "colorscale": [
             [
              0,
              "#0d0887"
             ],
             [
              0.1111111111111111,
              "#46039f"
             ],
             [
              0.2222222222222222,
              "#7201a8"
             ],
             [
              0.3333333333333333,
              "#9c179e"
             ],
             [
              0.4444444444444444,
              "#bd3786"
             ],
             [
              0.5555555555555556,
              "#d8576b"
             ],
             [
              0.6666666666666666,
              "#ed7953"
             ],
             [
              0.7777777777777778,
              "#fb9f3a"
             ],
             [
              0.8888888888888888,
              "#fdca26"
             ],
             [
              1,
              "#f0f921"
             ]
            ],
            "type": "histogram2d"
           }
          ],
          "histogram2dcontour": [
           {
            "colorbar": {
             "outlinewidth": 0,
             "ticks": ""
            },
            "colorscale": [
             [
              0,
              "#0d0887"
             ],
             [
              0.1111111111111111,
              "#46039f"
             ],
             [
              0.2222222222222222,
              "#7201a8"
             ],
             [
              0.3333333333333333,
              "#9c179e"
             ],
             [
              0.4444444444444444,
              "#bd3786"
             ],
             [
              0.5555555555555556,
              "#d8576b"
             ],
             [
              0.6666666666666666,
              "#ed7953"
             ],
             [
              0.7777777777777778,
              "#fb9f3a"
             ],
             [
              0.8888888888888888,
              "#fdca26"
             ],
             [
              1,
              "#f0f921"
             ]
            ],
            "type": "histogram2dcontour"
           }
          ],
          "mesh3d": [
           {
            "colorbar": {
             "outlinewidth": 0,
             "ticks": ""
            },
            "type": "mesh3d"
           }
          ],
          "parcoords": [
           {
            "line": {
             "colorbar": {
              "outlinewidth": 0,
              "ticks": ""
             }
            },
            "type": "parcoords"
           }
          ],
          "pie": [
           {
            "automargin": true,
            "type": "pie"
           }
          ],
          "scatter": [
           {
            "fillpattern": {
             "fillmode": "overlay",
             "size": 10,
             "solidity": 0.2
            },
            "type": "scatter"
           }
          ],
          "scatter3d": [
           {
            "line": {
             "colorbar": {
              "outlinewidth": 0,
              "ticks": ""
             }
            },
            "marker": {
             "colorbar": {
              "outlinewidth": 0,
              "ticks": ""
             }
            },
            "type": "scatter3d"
           }
          ],
          "scattercarpet": [
           {
            "marker": {
             "colorbar": {
              "outlinewidth": 0,
              "ticks": ""
             }
            },
            "type": "scattercarpet"
           }
          ],
          "scattergeo": [
           {
            "marker": {
             "colorbar": {
              "outlinewidth": 0,
              "ticks": ""
             }
            },
            "type": "scattergeo"
           }
          ],
          "scattergl": [
           {
            "marker": {
             "colorbar": {
              "outlinewidth": 0,
              "ticks": ""
             }
            },
            "type": "scattergl"
           }
          ],
          "scattermap": [
           {
            "marker": {
             "colorbar": {
              "outlinewidth": 0,
              "ticks": ""
             }
            },
            "type": "scattermap"
           }
          ],
          "scattermapbox": [
           {
            "marker": {
             "colorbar": {
              "outlinewidth": 0,
              "ticks": ""
             }
            },
            "type": "scattermapbox"
           }
          ],
          "scatterpolar": [
           {
            "marker": {
             "colorbar": {
              "outlinewidth": 0,
              "ticks": ""
             }
            },
            "type": "scatterpolar"
           }
          ],
          "scatterpolargl": [
           {
            "marker": {
             "colorbar": {
              "outlinewidth": 0,
              "ticks": ""
             }
            },
            "type": "scatterpolargl"
           }
          ],
          "scatterternary": [
           {
            "marker": {
             "colorbar": {
              "outlinewidth": 0,
              "ticks": ""
             }
            },
            "type": "scatterternary"
           }
          ],
          "surface": [
           {
            "colorbar": {
             "outlinewidth": 0,
             "ticks": ""
            },
            "colorscale": [
             [
              0,
              "#0d0887"
             ],
             [
              0.1111111111111111,
              "#46039f"
             ],
             [
              0.2222222222222222,
              "#7201a8"
             ],
             [
              0.3333333333333333,
              "#9c179e"
             ],
             [
              0.4444444444444444,
              "#bd3786"
             ],
             [
              0.5555555555555556,
              "#d8576b"
             ],
             [
              0.6666666666666666,
              "#ed7953"
             ],
             [
              0.7777777777777778,
              "#fb9f3a"
             ],
             [
              0.8888888888888888,
              "#fdca26"
             ],
             [
              1,
              "#f0f921"
             ]
            ],
            "type": "surface"
           }
          ],
          "table": [
           {
            "cells": {
             "fill": {
              "color": "#EBF0F8"
             },
             "line": {
              "color": "white"
             }
            },
            "header": {
             "fill": {
              "color": "#C8D4E3"
             },
             "line": {
              "color": "white"
             }
            },
            "type": "table"
           }
          ]
         },
         "layout": {
          "annotationdefaults": {
           "arrowcolor": "#2a3f5f",
           "arrowhead": 0,
           "arrowwidth": 1
          },
          "autotypenumbers": "strict",
          "coloraxis": {
           "colorbar": {
            "outlinewidth": 0,
            "ticks": ""
           }
          },
          "colorscale": {
           "diverging": [
            [
             0,
             "#8e0152"
            ],
            [
             0.1,
             "#c51b7d"
            ],
            [
             0.2,
             "#de77ae"
            ],
            [
             0.3,
             "#f1b6da"
            ],
            [
             0.4,
             "#fde0ef"
            ],
            [
             0.5,
             "#f7f7f7"
            ],
            [
             0.6,
             "#e6f5d0"
            ],
            [
             0.7,
             "#b8e186"
            ],
            [
             0.8,
             "#7fbc41"
            ],
            [
             0.9,
             "#4d9221"
            ],
            [
             1,
             "#276419"
            ]
           ],
           "sequential": [
            [
             0,
             "#0d0887"
            ],
            [
             0.1111111111111111,
             "#46039f"
            ],
            [
             0.2222222222222222,
             "#7201a8"
            ],
            [
             0.3333333333333333,
             "#9c179e"
            ],
            [
             0.4444444444444444,
             "#bd3786"
            ],
            [
             0.5555555555555556,
             "#d8576b"
            ],
            [
             0.6666666666666666,
             "#ed7953"
            ],
            [
             0.7777777777777778,
             "#fb9f3a"
            ],
            [
             0.8888888888888888,
             "#fdca26"
            ],
            [
             1,
             "#f0f921"
            ]
           ],
           "sequentialminus": [
            [
             0,
             "#0d0887"
            ],
            [
             0.1111111111111111,
             "#46039f"
            ],
            [
             0.2222222222222222,
             "#7201a8"
            ],
            [
             0.3333333333333333,
             "#9c179e"
            ],
            [
             0.4444444444444444,
             "#bd3786"
            ],
            [
             0.5555555555555556,
             "#d8576b"
            ],
            [
             0.6666666666666666,
             "#ed7953"
            ],
            [
             0.7777777777777778,
             "#fb9f3a"
            ],
            [
             0.8888888888888888,
             "#fdca26"
            ],
            [
             1,
             "#f0f921"
            ]
           ]
          },
          "colorway": [
           "#636efa",
           "#EF553B",
           "#00cc96",
           "#ab63fa",
           "#FFA15A",
           "#19d3f3",
           "#FF6692",
           "#B6E880",
           "#FF97FF",
           "#FECB52"
          ],
          "font": {
           "color": "#2a3f5f"
          },
          "geo": {
           "bgcolor": "white",
           "lakecolor": "white",
           "landcolor": "#E5ECF6",
           "showlakes": true,
           "showland": true,
           "subunitcolor": "white"
          },
          "hoverlabel": {
           "align": "left"
          },
          "hovermode": "closest",
          "mapbox": {
           "style": "light"
          },
          "paper_bgcolor": "white",
          "plot_bgcolor": "#E5ECF6",
          "polar": {
           "angularaxis": {
            "gridcolor": "white",
            "linecolor": "white",
            "ticks": ""
           },
           "bgcolor": "#E5ECF6",
           "radialaxis": {
            "gridcolor": "white",
            "linecolor": "white",
            "ticks": ""
           }
          },
          "scene": {
           "xaxis": {
            "backgroundcolor": "#E5ECF6",
            "gridcolor": "white",
            "gridwidth": 2,
            "linecolor": "white",
            "showbackground": true,
            "ticks": "",
            "zerolinecolor": "white"
           },
           "yaxis": {
            "backgroundcolor": "#E5ECF6",
            "gridcolor": "white",
            "gridwidth": 2,
            "linecolor": "white",
            "showbackground": true,
            "ticks": "",
            "zerolinecolor": "white"
           },
           "zaxis": {
            "backgroundcolor": "#E5ECF6",
            "gridcolor": "white",
            "gridwidth": 2,
            "linecolor": "white",
            "showbackground": true,
            "ticks": "",
            "zerolinecolor": "white"
           }
          },
          "shapedefaults": {
           "line": {
            "color": "#2a3f5f"
           }
          },
          "ternary": {
           "aaxis": {
            "gridcolor": "white",
            "linecolor": "white",
            "ticks": ""
           },
           "baxis": {
            "gridcolor": "white",
            "linecolor": "white",
            "ticks": ""
           },
           "bgcolor": "#E5ECF6",
           "caxis": {
            "gridcolor": "white",
            "linecolor": "white",
            "ticks": ""
           }
          },
          "title": {
           "x": 0.05
          },
          "xaxis": {
           "automargin": true,
           "gridcolor": "white",
           "linecolor": "white",
           "ticks": "",
           "title": {
            "standoff": 15
           },
           "zerolinecolor": "white",
           "zerolinewidth": 2
          },
          "yaxis": {
           "automargin": true,
           "gridcolor": "white",
           "linecolor": "white",
           "ticks": "",
           "title": {
            "standoff": 15
           },
           "zerolinecolor": "white",
           "zerolinewidth": 2
          }
         }
        },
        "title": {
         "text": "RMSd during free MD Simulation"
        },
        "xaxis": {
         "title": {
          "text": "Time (ps)"
         }
        },
        "yaxis": {
         "title": {
          "text": "RMSd (nm)"
         }
        }
       }
      },
      "text/html": [
       "<div>            <script src=\"https://cdnjs.cloudflare.com/ajax/libs/mathjax/2.7.5/MathJax.js?config=TeX-AMS-MML_SVG\"></script><script type=\"text/javascript\">if (window.MathJax && window.MathJax.Hub && window.MathJax.Hub.Config) {window.MathJax.Hub.Config({SVG: {font: \"STIX-Web\"}});}</script>                <script type=\"text/javascript\">window.PlotlyConfig = {MathJaxConfig: 'local'};</script>\n",
       "        <script charset=\"utf-8\" src=\"https://cdn.plot.ly/plotly-3.0.1.min.js\"></script>                <div id=\"a41bda41-75f8-4372-ac97-ac7a7f903fc6\" class=\"plotly-graph-div\" style=\"height:525px; width:100%;\"></div>            <script type=\"text/javascript\">                window.PLOTLYENV=window.PLOTLYENV || {};                                if (document.getElementById(\"a41bda41-75f8-4372-ac97-ac7a7f903fc6\")) {                    Plotly.newPlot(                        \"a41bda41-75f8-4372-ac97-ac7a7f903fc6\",                        [{\"name\":\"RMSd vs exp\",\"x\":[0.0,10.0],\"y\":[0.0386877,0.0421248,0.0403502,0.041592,0.0402558,0.0398905,0.0413879,0.0408521,0.0401844,0.0391683,0.0409311,0.0398348,0.0395586,0.0399997,0.0400581,0.0385463,0.0410872,0.0415495,0.0400218,0.0399139,0.0417147,0.0400539,0.0400605,0.0390539,0.0409269,0.0398289,0.0395447,0.0392554,0.0407103,0.0395868,0.0387315,0.0416999,0.0398432,0.0423256,0.040254,0.0408447,0.0409709,0.0407988,0.0399157,0.0389833,0.0391984,0.0412099,0.0402677,0.0398592,0.039731,0.041439,0.0404212,0.0390628,0.0410126,0.0383693,0.0406051],\"type\":\"scatter\"}],                        {\"template\":{\"data\":{\"barpolar\":[{\"marker\":{\"line\":{\"color\":\"#E5ECF6\",\"width\":0.5},\"pattern\":{\"fillmode\":\"overlay\",\"size\":10,\"solidity\":0.2}},\"type\":\"barpolar\"}],\"bar\":[{\"error_x\":{\"color\":\"#2a3f5f\"},\"error_y\":{\"color\":\"#2a3f5f\"},\"marker\":{\"line\":{\"color\":\"#E5ECF6\",\"width\":0.5},\"pattern\":{\"fillmode\":\"overlay\",\"size\":10,\"solidity\":0.2}},\"type\":\"bar\"}],\"carpet\":[{\"aaxis\":{\"endlinecolor\":\"#2a3f5f\",\"gridcolor\":\"white\",\"linecolor\":\"white\",\"minorgridcolor\":\"white\",\"startlinecolor\":\"#2a3f5f\"},\"baxis\":{\"endlinecolor\":\"#2a3f5f\",\"gridcolor\":\"white\",\"linecolor\":\"white\",\"minorgridcolor\":\"white\",\"startlinecolor\":\"#2a3f5f\"},\"type\":\"carpet\"}],\"choropleth\":[{\"colorbar\":{\"outlinewidth\":0,\"ticks\":\"\"},\"type\":\"choropleth\"}],\"contourcarpet\":[{\"colorbar\":{\"outlinewidth\":0,\"ticks\":\"\"},\"type\":\"contourcarpet\"}],\"contour\":[{\"colorbar\":{\"outlinewidth\":0,\"ticks\":\"\"},\"colorscale\":[[0.0,\"#0d0887\"],[0.1111111111111111,\"#46039f\"],[0.2222222222222222,\"#7201a8\"],[0.3333333333333333,\"#9c179e\"],[0.4444444444444444,\"#bd3786\"],[0.5555555555555556,\"#d8576b\"],[0.6666666666666666,\"#ed7953\"],[0.7777777777777778,\"#fb9f3a\"],[0.8888888888888888,\"#fdca26\"],[1.0,\"#f0f921\"]],\"type\":\"contour\"}],\"heatmap\":[{\"colorbar\":{\"outlinewidth\":0,\"ticks\":\"\"},\"colorscale\":[[0.0,\"#0d0887\"],[0.1111111111111111,\"#46039f\"],[0.2222222222222222,\"#7201a8\"],[0.3333333333333333,\"#9c179e\"],[0.4444444444444444,\"#bd3786\"],[0.5555555555555556,\"#d8576b\"],[0.6666666666666666,\"#ed7953\"],[0.7777777777777778,\"#fb9f3a\"],[0.8888888888888888,\"#fdca26\"],[1.0,\"#f0f921\"]],\"type\":\"heatmap\"}],\"histogram2dcontour\":[{\"colorbar\":{\"outlinewidth\":0,\"ticks\":\"\"},\"colorscale\":[[0.0,\"#0d0887\"],[0.1111111111111111,\"#46039f\"],[0.2222222222222222,\"#7201a8\"],[0.3333333333333333,\"#9c179e\"],[0.4444444444444444,\"#bd3786\"],[0.5555555555555556,\"#d8576b\"],[0.6666666666666666,\"#ed7953\"],[0.7777777777777778,\"#fb9f3a\"],[0.8888888888888888,\"#fdca26\"],[1.0,\"#f0f921\"]],\"type\":\"histogram2dcontour\"}],\"histogram2d\":[{\"colorbar\":{\"outlinewidth\":0,\"ticks\":\"\"},\"colorscale\":[[0.0,\"#0d0887\"],[0.1111111111111111,\"#46039f\"],[0.2222222222222222,\"#7201a8\"],[0.3333333333333333,\"#9c179e\"],[0.4444444444444444,\"#bd3786\"],[0.5555555555555556,\"#d8576b\"],[0.6666666666666666,\"#ed7953\"],[0.7777777777777778,\"#fb9f3a\"],[0.8888888888888888,\"#fdca26\"],[1.0,\"#f0f921\"]],\"type\":\"histogram2d\"}],\"histogram\":[{\"marker\":{\"pattern\":{\"fillmode\":\"overlay\",\"size\":10,\"solidity\":0.2}},\"type\":\"histogram\"}],\"mesh3d\":[{\"colorbar\":{\"outlinewidth\":0,\"ticks\":\"\"},\"type\":\"mesh3d\"}],\"parcoords\":[{\"line\":{\"colorbar\":{\"outlinewidth\":0,\"ticks\":\"\"}},\"type\":\"parcoords\"}],\"pie\":[{\"automargin\":true,\"type\":\"pie\"}],\"scatter3d\":[{\"line\":{\"colorbar\":{\"outlinewidth\":0,\"ticks\":\"\"}},\"marker\":{\"colorbar\":{\"outlinewidth\":0,\"ticks\":\"\"}},\"type\":\"scatter3d\"}],\"scattercarpet\":[{\"marker\":{\"colorbar\":{\"outlinewidth\":0,\"ticks\":\"\"}},\"type\":\"scattercarpet\"}],\"scattergeo\":[{\"marker\":{\"colorbar\":{\"outlinewidth\":0,\"ticks\":\"\"}},\"type\":\"scattergeo\"}],\"scattergl\":[{\"marker\":{\"colorbar\":{\"outlinewidth\":0,\"ticks\":\"\"}},\"type\":\"scattergl\"}],\"scattermapbox\":[{\"marker\":{\"colorbar\":{\"outlinewidth\":0,\"ticks\":\"\"}},\"type\":\"scattermapbox\"}],\"scattermap\":[{\"marker\":{\"colorbar\":{\"outlinewidth\":0,\"ticks\":\"\"}},\"type\":\"scattermap\"}],\"scatterpolargl\":[{\"marker\":{\"colorbar\":{\"outlinewidth\":0,\"ticks\":\"\"}},\"type\":\"scatterpolargl\"}],\"scatterpolar\":[{\"marker\":{\"colorbar\":{\"outlinewidth\":0,\"ticks\":\"\"}},\"type\":\"scatterpolar\"}],\"scatter\":[{\"fillpattern\":{\"fillmode\":\"overlay\",\"size\":10,\"solidity\":0.2},\"type\":\"scatter\"}],\"scatterternary\":[{\"marker\":{\"colorbar\":{\"outlinewidth\":0,\"ticks\":\"\"}},\"type\":\"scatterternary\"}],\"surface\":[{\"colorbar\":{\"outlinewidth\":0,\"ticks\":\"\"},\"colorscale\":[[0.0,\"#0d0887\"],[0.1111111111111111,\"#46039f\"],[0.2222222222222222,\"#7201a8\"],[0.3333333333333333,\"#9c179e\"],[0.4444444444444444,\"#bd3786\"],[0.5555555555555556,\"#d8576b\"],[0.6666666666666666,\"#ed7953\"],[0.7777777777777778,\"#fb9f3a\"],[0.8888888888888888,\"#fdca26\"],[1.0,\"#f0f921\"]],\"type\":\"surface\"}],\"table\":[{\"cells\":{\"fill\":{\"color\":\"#EBF0F8\"},\"line\":{\"color\":\"white\"}},\"header\":{\"fill\":{\"color\":\"#C8D4E3\"},\"line\":{\"color\":\"white\"}},\"type\":\"table\"}]},\"layout\":{\"annotationdefaults\":{\"arrowcolor\":\"#2a3f5f\",\"arrowhead\":0,\"arrowwidth\":1},\"autotypenumbers\":\"strict\",\"coloraxis\":{\"colorbar\":{\"outlinewidth\":0,\"ticks\":\"\"}},\"colorscale\":{\"diverging\":[[0,\"#8e0152\"],[0.1,\"#c51b7d\"],[0.2,\"#de77ae\"],[0.3,\"#f1b6da\"],[0.4,\"#fde0ef\"],[0.5,\"#f7f7f7\"],[0.6,\"#e6f5d0\"],[0.7,\"#b8e186\"],[0.8,\"#7fbc41\"],[0.9,\"#4d9221\"],[1,\"#276419\"]],\"sequential\":[[0.0,\"#0d0887\"],[0.1111111111111111,\"#46039f\"],[0.2222222222222222,\"#7201a8\"],[0.3333333333333333,\"#9c179e\"],[0.4444444444444444,\"#bd3786\"],[0.5555555555555556,\"#d8576b\"],[0.6666666666666666,\"#ed7953\"],[0.7777777777777778,\"#fb9f3a\"],[0.8888888888888888,\"#fdca26\"],[1.0,\"#f0f921\"]],\"sequentialminus\":[[0.0,\"#0d0887\"],[0.1111111111111111,\"#46039f\"],[0.2222222222222222,\"#7201a8\"],[0.3333333333333333,\"#9c179e\"],[0.4444444444444444,\"#bd3786\"],[0.5555555555555556,\"#d8576b\"],[0.6666666666666666,\"#ed7953\"],[0.7777777777777778,\"#fb9f3a\"],[0.8888888888888888,\"#fdca26\"],[1.0,\"#f0f921\"]]},\"colorway\":[\"#636efa\",\"#EF553B\",\"#00cc96\",\"#ab63fa\",\"#FFA15A\",\"#19d3f3\",\"#FF6692\",\"#B6E880\",\"#FF97FF\",\"#FECB52\"],\"font\":{\"color\":\"#2a3f5f\"},\"geo\":{\"bgcolor\":\"white\",\"lakecolor\":\"white\",\"landcolor\":\"#E5ECF6\",\"showlakes\":true,\"showland\":true,\"subunitcolor\":\"white\"},\"hoverlabel\":{\"align\":\"left\"},\"hovermode\":\"closest\",\"mapbox\":{\"style\":\"light\"},\"paper_bgcolor\":\"white\",\"plot_bgcolor\":\"#E5ECF6\",\"polar\":{\"angularaxis\":{\"gridcolor\":\"white\",\"linecolor\":\"white\",\"ticks\":\"\"},\"bgcolor\":\"#E5ECF6\",\"radialaxis\":{\"gridcolor\":\"white\",\"linecolor\":\"white\",\"ticks\":\"\"}},\"scene\":{\"xaxis\":{\"backgroundcolor\":\"#E5ECF6\",\"gridcolor\":\"white\",\"gridwidth\":2,\"linecolor\":\"white\",\"showbackground\":true,\"ticks\":\"\",\"zerolinecolor\":\"white\"},\"yaxis\":{\"backgroundcolor\":\"#E5ECF6\",\"gridcolor\":\"white\",\"gridwidth\":2,\"linecolor\":\"white\",\"showbackground\":true,\"ticks\":\"\",\"zerolinecolor\":\"white\"},\"zaxis\":{\"backgroundcolor\":\"#E5ECF6\",\"gridcolor\":\"white\",\"gridwidth\":2,\"linecolor\":\"white\",\"showbackground\":true,\"ticks\":\"\",\"zerolinecolor\":\"white\"}},\"shapedefaults\":{\"line\":{\"color\":\"#2a3f5f\"}},\"ternary\":{\"aaxis\":{\"gridcolor\":\"white\",\"linecolor\":\"white\",\"ticks\":\"\"},\"baxis\":{\"gridcolor\":\"white\",\"linecolor\":\"white\",\"ticks\":\"\"},\"bgcolor\":\"#E5ECF6\",\"caxis\":{\"gridcolor\":\"white\",\"linecolor\":\"white\",\"ticks\":\"\"}},\"title\":{\"x\":0.05},\"xaxis\":{\"automargin\":true,\"gridcolor\":\"white\",\"linecolor\":\"white\",\"ticks\":\"\",\"title\":{\"standoff\":15},\"zerolinecolor\":\"white\",\"zerolinewidth\":2},\"yaxis\":{\"automargin\":true,\"gridcolor\":\"white\",\"linecolor\":\"white\",\"ticks\":\"\",\"title\":{\"standoff\":15},\"zerolinecolor\":\"white\",\"zerolinewidth\":2}}},\"title\":{\"text\":\"RMSd during free MD Simulation\"},\"xaxis\":{\"title\":{\"text\":\"Time (ps)\"}},\"yaxis\":{\"title\":{\"text\":\"RMSd (nm)\"}}},                        {\"responsive\": true}                    ).then(function(){\n",
       "                            \n",
       "var gd = document.getElementById('a41bda41-75f8-4372-ac97-ac7a7f903fc6');\n",
       "var x = new MutationObserver(function (mutations, observer) {{\n",
       "        var display = window.getComputedStyle(gd).display;\n",
       "        if (!display || display === 'none') {{\n",
       "            console.log([gd, 'removed!']);\n",
       "            Plotly.purge(gd);\n",
       "            observer.disconnect();\n",
       "        }}\n",
       "}});\n",
       "\n",
       "// Listen for the removal of the full notebook cells\n",
       "var notebookContainer = gd.closest('#notebook-container');\n",
       "if (notebookContainer) {{\n",
       "    x.observe(notebookContainer, {childList: true});\n",
       "}}\n",
       "\n",
       "// Listen for the clearing of the current output cell\n",
       "var outputEl = gd.closest('.output');\n",
       "if (outputEl) {{\n",
       "    x.observe(outputEl, {childList: true});\n",
       "}}\n",
       "\n",
       "                        })                };            </script>        </div>"
      ]
     },
     "metadata": {},
     "output_type": "display_data"
    }
   ],
   "source": [
    "import plotly\n",
    "import plotly.graph_objs as go\n",
    "\n",
    "# Read RMS vs experimental structure data from file \n",
    "with open(output_rms_exp,'r') as rms_exp_file:\n",
    "    x2,y2 = map(\n",
    "        list,\n",
    "        zip(*[\n",
    "            (float(line.split()[0]),float(line.split()[1]))\n",
    "            for line in rms_exp_file\n",
    "            if not line.startswith((\"#\",\"@\")) \n",
    "        ])\n",
    "    )\n",
    "\n",
    "trace = go.Scatter(\n",
    "    x = x,\n",
    "    y = y2,\n",
    "    name = 'RMSd vs exp'\n",
    ")\n",
    "\n",
    "plotly.offline.init_notebook_mode(connected=True)\n",
    "\n",
    "fig = {\n",
    "    \"data\": trace,\n",
    "    \"layout\": go.Layout(title=\"RMSd during free MD Simulation\",\n",
    "                        xaxis=dict(title = \"Time (ps)\"),\n",
    "                        yaxis=dict(title = \"RMSd (nm)\")\n",
    "                       )\n",
    "}\n",
    "\n",
    "plotly.offline.iplot(fig)\n"
   ]
  },
  {
   "cell_type": "code",
   "execution_count": 48,
   "metadata": {
    "scrolled": true
   },
   "outputs": [
    {
     "name": "stdout",
     "output_type": "stream",
     "text": [
      "2025-05-19 17:20:09,668 [MainThread  ] [INFO ]  Module: biobb_analysis.gromacs.gmx_rgyr Version: 5.0.1\n",
      "2025-05-19 17:20:09,669 [MainThread  ] [INFO ]  /home/rchaves/repo/ab_design/biobb_wf_haddock/biobb_wf_haddock/notebooks/sandbox_0e07ec5b-d1e8-4525-ab73-5d976a7f78a5 directory successfully created\n",
      "2025-05-19 17:20:09,672 [MainThread  ] [INFO ]  Copy: /home/rchaves/repo/ab_design/biobb_wf_haddock/biobb_wf_haddock/notebooks/data/antibody/1_MD/4G6K_gppmin.tpr to /home/rchaves/repo/ab_design/biobb_wf_haddock/biobb_wf_haddock/notebooks/sandbox_0e07ec5b-d1e8-4525-ab73-5d976a7f78a5\n",
      "2025-05-19 17:20:09,675 [MainThread  ] [INFO ]  Copy: /home/rchaves/repo/ab_design/biobb_wf_haddock/biobb_wf_haddock/notebooks/data/antibody/1_MD/4G6K_imaged_traj_rot.trr to /home/rchaves/repo/ab_design/biobb_wf_haddock/biobb_wf_haddock/notebooks/sandbox_0e07ec5b-d1e8-4525-ab73-5d976a7f78a5\n",
      "2025-05-19 17:20:09,675 [MainThread  ] [INFO ]  Copy: /home/rchaves/repo/ab_design/biobb_wf_haddock/biobb_wf_haddock/notebooks/ab53cdae-3b7f-4188-b703-a466700bf533.stdin to /home/rchaves/repo/ab_design/biobb_wf_haddock/biobb_wf_haddock/notebooks/sandbox_0e07ec5b-d1e8-4525-ab73-5d976a7f78a5\n",
      "2025-05-19 17:20:09,675 [MainThread  ] [INFO ]  gmx gyrate -s /home/rchaves/repo/ab_design/biobb_wf_haddock/biobb_wf_haddock/notebooks/sandbox_0e07ec5b-d1e8-4525-ab73-5d976a7f78a5/4G6K_gppmin.tpr -f /home/rchaves/repo/ab_design/biobb_wf_haddock/biobb_wf_haddock/notebooks/sandbox_0e07ec5b-d1e8-4525-ab73-5d976a7f78a5/4G6K_imaged_traj_rot.trr -o /home/rchaves/repo/ab_design/biobb_wf_haddock/biobb_wf_haddock/notebooks/sandbox_0e07ec5b-d1e8-4525-ab73-5d976a7f78a5/4G6K_rgyr.xvg -xvg none < /home/rchaves/repo/ab_design/biobb_wf_haddock/biobb_wf_haddock/notebooks/sandbox_0e07ec5b-d1e8-4525-ab73-5d976a7f78a5/ab53cdae-3b7f-4188-b703-a466700bf533.stdin\n",
      "\n",
      "2025-05-19 17:20:09,732 [MainThread  ] [INFO ]  Executing: gmx gyrate -s /home/rchaves/repo/ab_design/biobb_wf_haddock/biobb_wf_haddock/not...\n",
      "2025-05-19 17:20:09,733 [MainThread  ] [INFO ]  Exit code: 0\n",
      "2025-05-19 17:20:09,734 [MainThread  ] [INFO ]  Selected 4: 'Backbone'\n",
      "\n",
      "2025-05-19 17:20:09,734 [MainThread  ] [INFO ]                  :-) GROMACS - gmx gyrate, 2022.2-conda_forge (-:\n",
      "\n",
      "Executable:   /home/rchaves/miniforge3/envs/biobb_wf_antibody/bin.AVX2_256/gmx\n",
      "Data prefix:  /home/rchaves/miniforge3/envs/biobb_wf_antibody\n",
      "Working dir:  /home/rchaves/repo/ab_design/biobb_wf_haddock/biobb_wf_haddock/notebooks\n",
      "Command line:\n",
      "  gmx gyrate -s /home/rchaves/repo/ab_design/biobb_wf_haddock/biobb_wf_haddock/notebooks/sandbox_0e07ec5b-d1e8-4525-ab73-5d976a7f78a5/4G6K_gppmin.tpr -f /home/rchaves/repo/ab_design/biobb_wf_haddock/biobb_wf_haddock/notebooks/sandbox_0e07ec5b-d1e8-4525-ab73-5d976a7f78a5/4G6K_imaged_traj_rot.trr -o /home/rchaves/repo/ab_design/biobb_wf_haddock/biobb_wf_haddock/notebooks/sandbox_0e07ec5b-d1e8-4525-ab73-5d976a7f78a5/4G6K_rgyr.xvg -xvg none\n",
      "\n",
      "Reading file /home/rchaves/repo/ab_design/biobb_wf_haddock/biobb_wf_haddock/notebooks/sandbox_0e07ec5b-d1e8-4525-ab73-5d976a7f78a5/4G6K_gppmin.tpr, VERSION 2022.2-conda_forge (single precision)\n",
      "Reading file /home/rchaves/repo/ab_design/biobb_wf_haddock/biobb_wf_haddock/notebooks/sandbox_0e07ec5b-d1e8-4525-ab73-5d976a7f78a5/4G6K_gppmin.tpr, VERSION 2022.2-conda_forge (single precision)\n",
      "Group     0 (         System) has 56902 elements\n",
      "Group     1 (        Protein) has  6525 elements\n",
      "Group     2 (      Protein-H) has  3293 elements\n",
      "Group     3 (        C-alpha) has   432 elements\n",
      "Group     4 (       Backbone) has  1296 elements\n",
      "Group     5 (      MainChain) has  1726 elements\n",
      "Group     6 (   MainChain+Cb) has  2126 elements\n",
      "Group     7 (    MainChain+H) has  2139 elements\n",
      "Group     8 (      SideChain) has  4386 elements\n",
      "Group     9 (    SideChain-H) has  1567 elements\n",
      "Group    10 (    Prot-Masses) has  6525 elements\n",
      "Group    11 (    non-Protein) has 50377 elements\n",
      "Group    12 (          Water) has 50334 elements\n",
      "Group    13 (            SOL) has 50334 elements\n",
      "Group    14 (      non-Water) has  6568 elements\n",
      "Group    15 (            Ion) has    43 elements\n",
      "Group    16 (             NA) has    18 elements\n",
      "Group    17 (             CL) has    25 elements\n",
      "Group    18 ( Water_and_ions) has 50377 elements\n",
      "Select a group: trr version: GMX_trn_file (single precision)\n",
      "Last frame         50 time  100.000   \n",
      "\n",
      "GROMACS reminds you: \"The first 90% of the code accounts for the first 90% of the development time. The remaining 10% of the code accounts for the other 90% of the development time.\" (Tom Cargill)\n",
      "\n",
      "\n",
      "2025-05-19 17:20:09,736 [MainThread  ] [INFO ]  Removed: ['/home/rchaves/repo/ab_design/biobb_wf_haddock/biobb_wf_haddock/notebooks/sandbox_0e07ec5b-d1e8-4525-ab73-5d976a7f78a5', '/home/rchaves/repo/ab_design/biobb_wf_haddock/biobb_wf_haddock/notebooks/ab53cdae-3b7f-4188-b703-a466700bf533.stdin']\n",
      "2025-05-19 17:20:09,736 [MainThread  ] [INFO ]  \n"
     ]
    },
    {
     "data": {
      "text/plain": [
       "0"
      ]
     },
     "execution_count": 48,
     "metadata": {},
     "output_type": "execute_result"
    }
   ],
   "source": [
    "# GMXRgyr: Computing Radius of Gyration to measure the protein compactness during the free MD simulation \n",
    "\n",
    "from biobb_analysis.gromacs.gmx_rgyr import gmx_rgyr\n",
    "\n",
    "# Create prop dict and inputs/outputs\n",
    "output_rgyr = f'{MD_dir}{pdbCode}_rgyr.xvg'\n",
    "prop = {\n",
    "    'selection':  'Backbone'\n",
    "}\n",
    "\n",
    "# Create and launch bb\n",
    "gmx_rgyr(input_structure_path=output_gppmin_tpr,\n",
    "         input_traj_path=output_imaged_traj_rot,\n",
    "         output_xvg_path=output_rgyr, \n",
    "          properties=def_dict(prop))"
   ]
  },
  {
   "cell_type": "code",
   "execution_count": 49,
   "metadata": {},
   "outputs": [
    {
     "data": {
      "text/html": [
       "        <script type=\"text/javascript\">\n",
       "        window.PlotlyConfig = {MathJaxConfig: 'local'};\n",
       "        if (window.MathJax && window.MathJax.Hub && window.MathJax.Hub.Config) {window.MathJax.Hub.Config({SVG: {font: \"STIX-Web\"}});}\n",
       "        </script>\n",
       "        <script type=\"module\">import \"https://cdn.plot.ly/plotly-3.0.1.min\"</script>\n",
       "        "
      ]
     },
     "metadata": {},
     "output_type": "display_data"
    },
    {
     "data": {
      "application/vnd.plotly.v1+json": {
       "config": {
        "linkText": "Export to plot.ly",
        "plotlyServerURL": "https://plot.ly",
        "showLink": false
       },
       "data": [
        {
         "type": "scatter",
         "x": [
          0,
          2,
          4,
          6,
          8,
          10,
          12,
          14,
          16,
          18,
          20,
          22,
          24,
          26,
          28,
          30,
          32,
          34,
          36,
          38,
          40,
          42,
          44,
          46,
          48,
          50,
          52,
          54,
          56,
          58,
          60,
          62,
          64,
          66,
          68,
          70,
          72,
          74,
          76,
          78,
          80,
          82,
          84,
          86,
          88,
          90,
          92,
          94,
          96,
          98,
          100
         ],
         "y": [
          2.36753,
          2.36896,
          2.37146,
          2.37034,
          2.37062,
          2.37204,
          2.37035,
          2.37076,
          2.37019,
          2.3713,
          2.371,
          2.3718,
          2.3717,
          2.37003,
          2.37093,
          2.37254,
          2.37021,
          2.37063,
          2.3704,
          2.36995,
          2.36995,
          2.3711,
          2.37056,
          2.37031,
          2.36986,
          2.37069,
          2.37105,
          2.37143,
          2.36996,
          2.37094,
          2.37182,
          2.36999,
          2.37076,
          2.36859,
          2.37072,
          2.36933,
          2.36914,
          2.36931,
          2.3706,
          2.37176,
          2.371,
          2.37031,
          2.37046,
          2.37142,
          2.37183,
          2.37019,
          2.3705,
          2.37069,
          2.37027,
          2.37302,
          2.37185
         ]
        }
       ],
       "layout": {
        "template": {
         "data": {
          "bar": [
           {
            "error_x": {
             "color": "#2a3f5f"
            },
            "error_y": {
             "color": "#2a3f5f"
            },
            "marker": {
             "line": {
              "color": "#E5ECF6",
              "width": 0.5
             },
             "pattern": {
              "fillmode": "overlay",
              "size": 10,
              "solidity": 0.2
             }
            },
            "type": "bar"
           }
          ],
          "barpolar": [
           {
            "marker": {
             "line": {
              "color": "#E5ECF6",
              "width": 0.5
             },
             "pattern": {
              "fillmode": "overlay",
              "size": 10,
              "solidity": 0.2
             }
            },
            "type": "barpolar"
           }
          ],
          "carpet": [
           {
            "aaxis": {
             "endlinecolor": "#2a3f5f",
             "gridcolor": "white",
             "linecolor": "white",
             "minorgridcolor": "white",
             "startlinecolor": "#2a3f5f"
            },
            "baxis": {
             "endlinecolor": "#2a3f5f",
             "gridcolor": "white",
             "linecolor": "white",
             "minorgridcolor": "white",
             "startlinecolor": "#2a3f5f"
            },
            "type": "carpet"
           }
          ],
          "choropleth": [
           {
            "colorbar": {
             "outlinewidth": 0,
             "ticks": ""
            },
            "type": "choropleth"
           }
          ],
          "contour": [
           {
            "colorbar": {
             "outlinewidth": 0,
             "ticks": ""
            },
            "colorscale": [
             [
              0,
              "#0d0887"
             ],
             [
              0.1111111111111111,
              "#46039f"
             ],
             [
              0.2222222222222222,
              "#7201a8"
             ],
             [
              0.3333333333333333,
              "#9c179e"
             ],
             [
              0.4444444444444444,
              "#bd3786"
             ],
             [
              0.5555555555555556,
              "#d8576b"
             ],
             [
              0.6666666666666666,
              "#ed7953"
             ],
             [
              0.7777777777777778,
              "#fb9f3a"
             ],
             [
              0.8888888888888888,
              "#fdca26"
             ],
             [
              1,
              "#f0f921"
             ]
            ],
            "type": "contour"
           }
          ],
          "contourcarpet": [
           {
            "colorbar": {
             "outlinewidth": 0,
             "ticks": ""
            },
            "type": "contourcarpet"
           }
          ],
          "heatmap": [
           {
            "colorbar": {
             "outlinewidth": 0,
             "ticks": ""
            },
            "colorscale": [
             [
              0,
              "#0d0887"
             ],
             [
              0.1111111111111111,
              "#46039f"
             ],
             [
              0.2222222222222222,
              "#7201a8"
             ],
             [
              0.3333333333333333,
              "#9c179e"
             ],
             [
              0.4444444444444444,
              "#bd3786"
             ],
             [
              0.5555555555555556,
              "#d8576b"
             ],
             [
              0.6666666666666666,
              "#ed7953"
             ],
             [
              0.7777777777777778,
              "#fb9f3a"
             ],
             [
              0.8888888888888888,
              "#fdca26"
             ],
             [
              1,
              "#f0f921"
             ]
            ],
            "type": "heatmap"
           }
          ],
          "histogram": [
           {
            "marker": {
             "pattern": {
              "fillmode": "overlay",
              "size": 10,
              "solidity": 0.2
             }
            },
            "type": "histogram"
           }
          ],
          "histogram2d": [
           {
            "colorbar": {
             "outlinewidth": 0,
             "ticks": ""
            },
            "colorscale": [
             [
              0,
              "#0d0887"
             ],
             [
              0.1111111111111111,
              "#46039f"
             ],
             [
              0.2222222222222222,
              "#7201a8"
             ],
             [
              0.3333333333333333,
              "#9c179e"
             ],
             [
              0.4444444444444444,
              "#bd3786"
             ],
             [
              0.5555555555555556,
              "#d8576b"
             ],
             [
              0.6666666666666666,
              "#ed7953"
             ],
             [
              0.7777777777777778,
              "#fb9f3a"
             ],
             [
              0.8888888888888888,
              "#fdca26"
             ],
             [
              1,
              "#f0f921"
             ]
            ],
            "type": "histogram2d"
           }
          ],
          "histogram2dcontour": [
           {
            "colorbar": {
             "outlinewidth": 0,
             "ticks": ""
            },
            "colorscale": [
             [
              0,
              "#0d0887"
             ],
             [
              0.1111111111111111,
              "#46039f"
             ],
             [
              0.2222222222222222,
              "#7201a8"
             ],
             [
              0.3333333333333333,
              "#9c179e"
             ],
             [
              0.4444444444444444,
              "#bd3786"
             ],
             [
              0.5555555555555556,
              "#d8576b"
             ],
             [
              0.6666666666666666,
              "#ed7953"
             ],
             [
              0.7777777777777778,
              "#fb9f3a"
             ],
             [
              0.8888888888888888,
              "#fdca26"
             ],
             [
              1,
              "#f0f921"
             ]
            ],
            "type": "histogram2dcontour"
           }
          ],
          "mesh3d": [
           {
            "colorbar": {
             "outlinewidth": 0,
             "ticks": ""
            },
            "type": "mesh3d"
           }
          ],
          "parcoords": [
           {
            "line": {
             "colorbar": {
              "outlinewidth": 0,
              "ticks": ""
             }
            },
            "type": "parcoords"
           }
          ],
          "pie": [
           {
            "automargin": true,
            "type": "pie"
           }
          ],
          "scatter": [
           {
            "fillpattern": {
             "fillmode": "overlay",
             "size": 10,
             "solidity": 0.2
            },
            "type": "scatter"
           }
          ],
          "scatter3d": [
           {
            "line": {
             "colorbar": {
              "outlinewidth": 0,
              "ticks": ""
             }
            },
            "marker": {
             "colorbar": {
              "outlinewidth": 0,
              "ticks": ""
             }
            },
            "type": "scatter3d"
           }
          ],
          "scattercarpet": [
           {
            "marker": {
             "colorbar": {
              "outlinewidth": 0,
              "ticks": ""
             }
            },
            "type": "scattercarpet"
           }
          ],
          "scattergeo": [
           {
            "marker": {
             "colorbar": {
              "outlinewidth": 0,
              "ticks": ""
             }
            },
            "type": "scattergeo"
           }
          ],
          "scattergl": [
           {
            "marker": {
             "colorbar": {
              "outlinewidth": 0,
              "ticks": ""
             }
            },
            "type": "scattergl"
           }
          ],
          "scattermap": [
           {
            "marker": {
             "colorbar": {
              "outlinewidth": 0,
              "ticks": ""
             }
            },
            "type": "scattermap"
           }
          ],
          "scattermapbox": [
           {
            "marker": {
             "colorbar": {
              "outlinewidth": 0,
              "ticks": ""
             }
            },
            "type": "scattermapbox"
           }
          ],
          "scatterpolar": [
           {
            "marker": {
             "colorbar": {
              "outlinewidth": 0,
              "ticks": ""
             }
            },
            "type": "scatterpolar"
           }
          ],
          "scatterpolargl": [
           {
            "marker": {
             "colorbar": {
              "outlinewidth": 0,
              "ticks": ""
             }
            },
            "type": "scatterpolargl"
           }
          ],
          "scatterternary": [
           {
            "marker": {
             "colorbar": {
              "outlinewidth": 0,
              "ticks": ""
             }
            },
            "type": "scatterternary"
           }
          ],
          "surface": [
           {
            "colorbar": {
             "outlinewidth": 0,
             "ticks": ""
            },
            "colorscale": [
             [
              0,
              "#0d0887"
             ],
             [
              0.1111111111111111,
              "#46039f"
             ],
             [
              0.2222222222222222,
              "#7201a8"
             ],
             [
              0.3333333333333333,
              "#9c179e"
             ],
             [
              0.4444444444444444,
              "#bd3786"
             ],
             [
              0.5555555555555556,
              "#d8576b"
             ],
             [
              0.6666666666666666,
              "#ed7953"
             ],
             [
              0.7777777777777778,
              "#fb9f3a"
             ],
             [
              0.8888888888888888,
              "#fdca26"
             ],
             [
              1,
              "#f0f921"
             ]
            ],
            "type": "surface"
           }
          ],
          "table": [
           {
            "cells": {
             "fill": {
              "color": "#EBF0F8"
             },
             "line": {
              "color": "white"
             }
            },
            "header": {
             "fill": {
              "color": "#C8D4E3"
             },
             "line": {
              "color": "white"
             }
            },
            "type": "table"
           }
          ]
         },
         "layout": {
          "annotationdefaults": {
           "arrowcolor": "#2a3f5f",
           "arrowhead": 0,
           "arrowwidth": 1
          },
          "autotypenumbers": "strict",
          "coloraxis": {
           "colorbar": {
            "outlinewidth": 0,
            "ticks": ""
           }
          },
          "colorscale": {
           "diverging": [
            [
             0,
             "#8e0152"
            ],
            [
             0.1,
             "#c51b7d"
            ],
            [
             0.2,
             "#de77ae"
            ],
            [
             0.3,
             "#f1b6da"
            ],
            [
             0.4,
             "#fde0ef"
            ],
            [
             0.5,
             "#f7f7f7"
            ],
            [
             0.6,
             "#e6f5d0"
            ],
            [
             0.7,
             "#b8e186"
            ],
            [
             0.8,
             "#7fbc41"
            ],
            [
             0.9,
             "#4d9221"
            ],
            [
             1,
             "#276419"
            ]
           ],
           "sequential": [
            [
             0,
             "#0d0887"
            ],
            [
             0.1111111111111111,
             "#46039f"
            ],
            [
             0.2222222222222222,
             "#7201a8"
            ],
            [
             0.3333333333333333,
             "#9c179e"
            ],
            [
             0.4444444444444444,
             "#bd3786"
            ],
            [
             0.5555555555555556,
             "#d8576b"
            ],
            [
             0.6666666666666666,
             "#ed7953"
            ],
            [
             0.7777777777777778,
             "#fb9f3a"
            ],
            [
             0.8888888888888888,
             "#fdca26"
            ],
            [
             1,
             "#f0f921"
            ]
           ],
           "sequentialminus": [
            [
             0,
             "#0d0887"
            ],
            [
             0.1111111111111111,
             "#46039f"
            ],
            [
             0.2222222222222222,
             "#7201a8"
            ],
            [
             0.3333333333333333,
             "#9c179e"
            ],
            [
             0.4444444444444444,
             "#bd3786"
            ],
            [
             0.5555555555555556,
             "#d8576b"
            ],
            [
             0.6666666666666666,
             "#ed7953"
            ],
            [
             0.7777777777777778,
             "#fb9f3a"
            ],
            [
             0.8888888888888888,
             "#fdca26"
            ],
            [
             1,
             "#f0f921"
            ]
           ]
          },
          "colorway": [
           "#636efa",
           "#EF553B",
           "#00cc96",
           "#ab63fa",
           "#FFA15A",
           "#19d3f3",
           "#FF6692",
           "#B6E880",
           "#FF97FF",
           "#FECB52"
          ],
          "font": {
           "color": "#2a3f5f"
          },
          "geo": {
           "bgcolor": "white",
           "lakecolor": "white",
           "landcolor": "#E5ECF6",
           "showlakes": true,
           "showland": true,
           "subunitcolor": "white"
          },
          "hoverlabel": {
           "align": "left"
          },
          "hovermode": "closest",
          "mapbox": {
           "style": "light"
          },
          "paper_bgcolor": "white",
          "plot_bgcolor": "#E5ECF6",
          "polar": {
           "angularaxis": {
            "gridcolor": "white",
            "linecolor": "white",
            "ticks": ""
           },
           "bgcolor": "#E5ECF6",
           "radialaxis": {
            "gridcolor": "white",
            "linecolor": "white",
            "ticks": ""
           }
          },
          "scene": {
           "xaxis": {
            "backgroundcolor": "#E5ECF6",
            "gridcolor": "white",
            "gridwidth": 2,
            "linecolor": "white",
            "showbackground": true,
            "ticks": "",
            "zerolinecolor": "white"
           },
           "yaxis": {
            "backgroundcolor": "#E5ECF6",
            "gridcolor": "white",
            "gridwidth": 2,
            "linecolor": "white",
            "showbackground": true,
            "ticks": "",
            "zerolinecolor": "white"
           },
           "zaxis": {
            "backgroundcolor": "#E5ECF6",
            "gridcolor": "white",
            "gridwidth": 2,
            "linecolor": "white",
            "showbackground": true,
            "ticks": "",
            "zerolinecolor": "white"
           }
          },
          "shapedefaults": {
           "line": {
            "color": "#2a3f5f"
           }
          },
          "ternary": {
           "aaxis": {
            "gridcolor": "white",
            "linecolor": "white",
            "ticks": ""
           },
           "baxis": {
            "gridcolor": "white",
            "linecolor": "white",
            "ticks": ""
           },
           "bgcolor": "#E5ECF6",
           "caxis": {
            "gridcolor": "white",
            "linecolor": "white",
            "ticks": ""
           }
          },
          "title": {
           "x": 0.05
          },
          "xaxis": {
           "automargin": true,
           "gridcolor": "white",
           "linecolor": "white",
           "ticks": "",
           "title": {
            "standoff": 15
           },
           "zerolinecolor": "white",
           "zerolinewidth": 2
          },
          "yaxis": {
           "automargin": true,
           "gridcolor": "white",
           "linecolor": "white",
           "ticks": "",
           "title": {
            "standoff": 15
           },
           "zerolinecolor": "white",
           "zerolinewidth": 2
          }
         }
        },
        "title": {
         "text": "Radius of Gyration"
        },
        "xaxis": {
         "title": {
          "text": "Time (ps)"
         }
        },
        "yaxis": {
         "title": {
          "text": "Rgyr (nm)"
         }
        }
       }
      },
      "text/html": [
       "<div>            <script src=\"https://cdnjs.cloudflare.com/ajax/libs/mathjax/2.7.5/MathJax.js?config=TeX-AMS-MML_SVG\"></script><script type=\"text/javascript\">if (window.MathJax && window.MathJax.Hub && window.MathJax.Hub.Config) {window.MathJax.Hub.Config({SVG: {font: \"STIX-Web\"}});}</script>                <script type=\"text/javascript\">window.PlotlyConfig = {MathJaxConfig: 'local'};</script>\n",
       "        <script charset=\"utf-8\" src=\"https://cdn.plot.ly/plotly-3.0.1.min.js\"></script>                <div id=\"6624ecf2-9484-4144-bceb-4c2b226cc745\" class=\"plotly-graph-div\" style=\"height:525px; width:100%;\"></div>            <script type=\"text/javascript\">                window.PLOTLYENV=window.PLOTLYENV || {};                                if (document.getElementById(\"6624ecf2-9484-4144-bceb-4c2b226cc745\")) {                    Plotly.newPlot(                        \"6624ecf2-9484-4144-bceb-4c2b226cc745\",                        [{\"x\":[0.0,2.0,4.0,6.0,8.0,10.0,12.0,14.0,16.0,18.0,20.0,22.0,24.0,26.0,28.0,30.0,32.0,34.0,36.0,38.0,40.0,42.0,44.0,46.0,48.0,50.0,52.0,54.0,56.0,58.0,60.0,62.0,64.0,66.0,68.0,70.0,72.0,74.0,76.0,78.0,80.0,82.0,84.0,86.0,88.0,90.0,92.0,94.0,96.0,98.0,100.0],\"y\":[2.36753,2.36896,2.37146,2.37034,2.37062,2.37204,2.37035,2.37076,2.37019,2.3713,2.371,2.3718,2.3717,2.37003,2.37093,2.37254,2.37021,2.37063,2.3704,2.36995,2.36995,2.3711,2.37056,2.37031,2.36986,2.37069,2.37105,2.37143,2.36996,2.37094,2.37182,2.36999,2.37076,2.36859,2.37072,2.36933,2.36914,2.36931,2.3706,2.37176,2.371,2.37031,2.37046,2.37142,2.37183,2.37019,2.3705,2.37069,2.37027,2.37302,2.37185],\"type\":\"scatter\"}],                        {\"template\":{\"data\":{\"barpolar\":[{\"marker\":{\"line\":{\"color\":\"#E5ECF6\",\"width\":0.5},\"pattern\":{\"fillmode\":\"overlay\",\"size\":10,\"solidity\":0.2}},\"type\":\"barpolar\"}],\"bar\":[{\"error_x\":{\"color\":\"#2a3f5f\"},\"error_y\":{\"color\":\"#2a3f5f\"},\"marker\":{\"line\":{\"color\":\"#E5ECF6\",\"width\":0.5},\"pattern\":{\"fillmode\":\"overlay\",\"size\":10,\"solidity\":0.2}},\"type\":\"bar\"}],\"carpet\":[{\"aaxis\":{\"endlinecolor\":\"#2a3f5f\",\"gridcolor\":\"white\",\"linecolor\":\"white\",\"minorgridcolor\":\"white\",\"startlinecolor\":\"#2a3f5f\"},\"baxis\":{\"endlinecolor\":\"#2a3f5f\",\"gridcolor\":\"white\",\"linecolor\":\"white\",\"minorgridcolor\":\"white\",\"startlinecolor\":\"#2a3f5f\"},\"type\":\"carpet\"}],\"choropleth\":[{\"colorbar\":{\"outlinewidth\":0,\"ticks\":\"\"},\"type\":\"choropleth\"}],\"contourcarpet\":[{\"colorbar\":{\"outlinewidth\":0,\"ticks\":\"\"},\"type\":\"contourcarpet\"}],\"contour\":[{\"colorbar\":{\"outlinewidth\":0,\"ticks\":\"\"},\"colorscale\":[[0.0,\"#0d0887\"],[0.1111111111111111,\"#46039f\"],[0.2222222222222222,\"#7201a8\"],[0.3333333333333333,\"#9c179e\"],[0.4444444444444444,\"#bd3786\"],[0.5555555555555556,\"#d8576b\"],[0.6666666666666666,\"#ed7953\"],[0.7777777777777778,\"#fb9f3a\"],[0.8888888888888888,\"#fdca26\"],[1.0,\"#f0f921\"]],\"type\":\"contour\"}],\"heatmap\":[{\"colorbar\":{\"outlinewidth\":0,\"ticks\":\"\"},\"colorscale\":[[0.0,\"#0d0887\"],[0.1111111111111111,\"#46039f\"],[0.2222222222222222,\"#7201a8\"],[0.3333333333333333,\"#9c179e\"],[0.4444444444444444,\"#bd3786\"],[0.5555555555555556,\"#d8576b\"],[0.6666666666666666,\"#ed7953\"],[0.7777777777777778,\"#fb9f3a\"],[0.8888888888888888,\"#fdca26\"],[1.0,\"#f0f921\"]],\"type\":\"heatmap\"}],\"histogram2dcontour\":[{\"colorbar\":{\"outlinewidth\":0,\"ticks\":\"\"},\"colorscale\":[[0.0,\"#0d0887\"],[0.1111111111111111,\"#46039f\"],[0.2222222222222222,\"#7201a8\"],[0.3333333333333333,\"#9c179e\"],[0.4444444444444444,\"#bd3786\"],[0.5555555555555556,\"#d8576b\"],[0.6666666666666666,\"#ed7953\"],[0.7777777777777778,\"#fb9f3a\"],[0.8888888888888888,\"#fdca26\"],[1.0,\"#f0f921\"]],\"type\":\"histogram2dcontour\"}],\"histogram2d\":[{\"colorbar\":{\"outlinewidth\":0,\"ticks\":\"\"},\"colorscale\":[[0.0,\"#0d0887\"],[0.1111111111111111,\"#46039f\"],[0.2222222222222222,\"#7201a8\"],[0.3333333333333333,\"#9c179e\"],[0.4444444444444444,\"#bd3786\"],[0.5555555555555556,\"#d8576b\"],[0.6666666666666666,\"#ed7953\"],[0.7777777777777778,\"#fb9f3a\"],[0.8888888888888888,\"#fdca26\"],[1.0,\"#f0f921\"]],\"type\":\"histogram2d\"}],\"histogram\":[{\"marker\":{\"pattern\":{\"fillmode\":\"overlay\",\"size\":10,\"solidity\":0.2}},\"type\":\"histogram\"}],\"mesh3d\":[{\"colorbar\":{\"outlinewidth\":0,\"ticks\":\"\"},\"type\":\"mesh3d\"}],\"parcoords\":[{\"line\":{\"colorbar\":{\"outlinewidth\":0,\"ticks\":\"\"}},\"type\":\"parcoords\"}],\"pie\":[{\"automargin\":true,\"type\":\"pie\"}],\"scatter3d\":[{\"line\":{\"colorbar\":{\"outlinewidth\":0,\"ticks\":\"\"}},\"marker\":{\"colorbar\":{\"outlinewidth\":0,\"ticks\":\"\"}},\"type\":\"scatter3d\"}],\"scattercarpet\":[{\"marker\":{\"colorbar\":{\"outlinewidth\":0,\"ticks\":\"\"}},\"type\":\"scattercarpet\"}],\"scattergeo\":[{\"marker\":{\"colorbar\":{\"outlinewidth\":0,\"ticks\":\"\"}},\"type\":\"scattergeo\"}],\"scattergl\":[{\"marker\":{\"colorbar\":{\"outlinewidth\":0,\"ticks\":\"\"}},\"type\":\"scattergl\"}],\"scattermapbox\":[{\"marker\":{\"colorbar\":{\"outlinewidth\":0,\"ticks\":\"\"}},\"type\":\"scattermapbox\"}],\"scattermap\":[{\"marker\":{\"colorbar\":{\"outlinewidth\":0,\"ticks\":\"\"}},\"type\":\"scattermap\"}],\"scatterpolargl\":[{\"marker\":{\"colorbar\":{\"outlinewidth\":0,\"ticks\":\"\"}},\"type\":\"scatterpolargl\"}],\"scatterpolar\":[{\"marker\":{\"colorbar\":{\"outlinewidth\":0,\"ticks\":\"\"}},\"type\":\"scatterpolar\"}],\"scatter\":[{\"fillpattern\":{\"fillmode\":\"overlay\",\"size\":10,\"solidity\":0.2},\"type\":\"scatter\"}],\"scatterternary\":[{\"marker\":{\"colorbar\":{\"outlinewidth\":0,\"ticks\":\"\"}},\"type\":\"scatterternary\"}],\"surface\":[{\"colorbar\":{\"outlinewidth\":0,\"ticks\":\"\"},\"colorscale\":[[0.0,\"#0d0887\"],[0.1111111111111111,\"#46039f\"],[0.2222222222222222,\"#7201a8\"],[0.3333333333333333,\"#9c179e\"],[0.4444444444444444,\"#bd3786\"],[0.5555555555555556,\"#d8576b\"],[0.6666666666666666,\"#ed7953\"],[0.7777777777777778,\"#fb9f3a\"],[0.8888888888888888,\"#fdca26\"],[1.0,\"#f0f921\"]],\"type\":\"surface\"}],\"table\":[{\"cells\":{\"fill\":{\"color\":\"#EBF0F8\"},\"line\":{\"color\":\"white\"}},\"header\":{\"fill\":{\"color\":\"#C8D4E3\"},\"line\":{\"color\":\"white\"}},\"type\":\"table\"}]},\"layout\":{\"annotationdefaults\":{\"arrowcolor\":\"#2a3f5f\",\"arrowhead\":0,\"arrowwidth\":1},\"autotypenumbers\":\"strict\",\"coloraxis\":{\"colorbar\":{\"outlinewidth\":0,\"ticks\":\"\"}},\"colorscale\":{\"diverging\":[[0,\"#8e0152\"],[0.1,\"#c51b7d\"],[0.2,\"#de77ae\"],[0.3,\"#f1b6da\"],[0.4,\"#fde0ef\"],[0.5,\"#f7f7f7\"],[0.6,\"#e6f5d0\"],[0.7,\"#b8e186\"],[0.8,\"#7fbc41\"],[0.9,\"#4d9221\"],[1,\"#276419\"]],\"sequential\":[[0.0,\"#0d0887\"],[0.1111111111111111,\"#46039f\"],[0.2222222222222222,\"#7201a8\"],[0.3333333333333333,\"#9c179e\"],[0.4444444444444444,\"#bd3786\"],[0.5555555555555556,\"#d8576b\"],[0.6666666666666666,\"#ed7953\"],[0.7777777777777778,\"#fb9f3a\"],[0.8888888888888888,\"#fdca26\"],[1.0,\"#f0f921\"]],\"sequentialminus\":[[0.0,\"#0d0887\"],[0.1111111111111111,\"#46039f\"],[0.2222222222222222,\"#7201a8\"],[0.3333333333333333,\"#9c179e\"],[0.4444444444444444,\"#bd3786\"],[0.5555555555555556,\"#d8576b\"],[0.6666666666666666,\"#ed7953\"],[0.7777777777777778,\"#fb9f3a\"],[0.8888888888888888,\"#fdca26\"],[1.0,\"#f0f921\"]]},\"colorway\":[\"#636efa\",\"#EF553B\",\"#00cc96\",\"#ab63fa\",\"#FFA15A\",\"#19d3f3\",\"#FF6692\",\"#B6E880\",\"#FF97FF\",\"#FECB52\"],\"font\":{\"color\":\"#2a3f5f\"},\"geo\":{\"bgcolor\":\"white\",\"lakecolor\":\"white\",\"landcolor\":\"#E5ECF6\",\"showlakes\":true,\"showland\":true,\"subunitcolor\":\"white\"},\"hoverlabel\":{\"align\":\"left\"},\"hovermode\":\"closest\",\"mapbox\":{\"style\":\"light\"},\"paper_bgcolor\":\"white\",\"plot_bgcolor\":\"#E5ECF6\",\"polar\":{\"angularaxis\":{\"gridcolor\":\"white\",\"linecolor\":\"white\",\"ticks\":\"\"},\"bgcolor\":\"#E5ECF6\",\"radialaxis\":{\"gridcolor\":\"white\",\"linecolor\":\"white\",\"ticks\":\"\"}},\"scene\":{\"xaxis\":{\"backgroundcolor\":\"#E5ECF6\",\"gridcolor\":\"white\",\"gridwidth\":2,\"linecolor\":\"white\",\"showbackground\":true,\"ticks\":\"\",\"zerolinecolor\":\"white\"},\"yaxis\":{\"backgroundcolor\":\"#E5ECF6\",\"gridcolor\":\"white\",\"gridwidth\":2,\"linecolor\":\"white\",\"showbackground\":true,\"ticks\":\"\",\"zerolinecolor\":\"white\"},\"zaxis\":{\"backgroundcolor\":\"#E5ECF6\",\"gridcolor\":\"white\",\"gridwidth\":2,\"linecolor\":\"white\",\"showbackground\":true,\"ticks\":\"\",\"zerolinecolor\":\"white\"}},\"shapedefaults\":{\"line\":{\"color\":\"#2a3f5f\"}},\"ternary\":{\"aaxis\":{\"gridcolor\":\"white\",\"linecolor\":\"white\",\"ticks\":\"\"},\"baxis\":{\"gridcolor\":\"white\",\"linecolor\":\"white\",\"ticks\":\"\"},\"bgcolor\":\"#E5ECF6\",\"caxis\":{\"gridcolor\":\"white\",\"linecolor\":\"white\",\"ticks\":\"\"}},\"title\":{\"x\":0.05},\"xaxis\":{\"automargin\":true,\"gridcolor\":\"white\",\"linecolor\":\"white\",\"ticks\":\"\",\"title\":{\"standoff\":15},\"zerolinecolor\":\"white\",\"zerolinewidth\":2},\"yaxis\":{\"automargin\":true,\"gridcolor\":\"white\",\"linecolor\":\"white\",\"ticks\":\"\",\"title\":{\"standoff\":15},\"zerolinecolor\":\"white\",\"zerolinewidth\":2}}},\"title\":{\"text\":\"Radius of Gyration\"},\"xaxis\":{\"title\":{\"text\":\"Time (ps)\"}},\"yaxis\":{\"title\":{\"text\":\"Rgyr (nm)\"}}},                        {\"responsive\": true}                    ).then(function(){\n",
       "                            \n",
       "var gd = document.getElementById('6624ecf2-9484-4144-bceb-4c2b226cc745');\n",
       "var x = new MutationObserver(function (mutations, observer) {{\n",
       "        var display = window.getComputedStyle(gd).display;\n",
       "        if (!display || display === 'none') {{\n",
       "            console.log([gd, 'removed!']);\n",
       "            Plotly.purge(gd);\n",
       "            observer.disconnect();\n",
       "        }}\n",
       "}});\n",
       "\n",
       "// Listen for the removal of the full notebook cells\n",
       "var notebookContainer = gd.closest('#notebook-container');\n",
       "if (notebookContainer) {{\n",
       "    x.observe(notebookContainer, {childList: true});\n",
       "}}\n",
       "\n",
       "// Listen for the clearing of the current output cell\n",
       "var outputEl = gd.closest('.output');\n",
       "if (outputEl) {{\n",
       "    x.observe(outputEl, {childList: true});\n",
       "}}\n",
       "\n",
       "                        })                };            </script>        </div>"
      ]
     },
     "metadata": {},
     "output_type": "display_data"
    }
   ],
   "source": [
    "import plotly\n",
    "import plotly.graph_objs as go\n",
    "\n",
    "# Read Rgyr data from file \n",
    "with open(output_rgyr,'r') as rgyr_file:\n",
    "    x,y = map(\n",
    "        list,\n",
    "        zip(*[\n",
    "            (float(line.split()[0]),float(line.split()[1]))\n",
    "            for line in rgyr_file \n",
    "            if not line.startswith((\"#\",\"@\")) \n",
    "        ])\n",
    "    )\n",
    "\n",
    "plotly.offline.init_notebook_mode(connected=True)\n",
    "\n",
    "fig = {\n",
    "    \"data\": [go.Scatter(x=x, y=y)],\n",
    "    \"layout\": go.Layout(title=\"Radius of Gyration\",\n",
    "                        xaxis=dict(title = \"Time (ps)\"),\n",
    "                        yaxis=dict(title = \"Rgyr (nm)\")\n",
    "                       )\n",
    "}\n",
    "\n",
    "plotly.offline.iplot(fig)"
   ]
  },
  {
   "cell_type": "markdown",
   "metadata": {},
   "source": [
    "#### Step 5. Clustering CDR loops"
   ]
  },
  {
   "cell_type": "code",
   "execution_count": 38,
   "metadata": {},
   "outputs": [
    {
     "name": "stdout",
     "output_type": "stream",
     "text": [
      "  % Total    % Received % Xferd  Average Speed   Time    Time     Time  Current\n",
      "                                 Dload  Upload   Total   Spent    Left  Speed\n",
      "100 63895  100 63895    0     0   210k      0 --:--:-- --:--:-- --:--:--  210k\n",
      "  % Total    % Received % Xferd  Average Speed   Time    Time     Time  Current\n",
      "                                 Dload  Upload   Total   Spent    Left  Speed\n",
      "100  6044  100  6044    0     0  36961      0 --:--:-- --:--:-- --:--:-- 37079\n"
     ]
    }
   ],
   "source": [
    "!curl -o {MD_dir}ImmunoPDB.py https://raw.githubusercontent.com/haddocking/HADDOCK-antibody-antigen/refs/heads/master/ImmunoPDB.py\n",
    "!curl -o {MD_dir}ab_haddock_format.py https://raw.githubusercontent.com/alevil-gmx/workflow_template/refs/heads/main/workflow_template/scripts/ab_haddock_format.py"
   ]
  },
  {
   "cell_type": "code",
   "execution_count": 82,
   "metadata": {},
   "outputs": [
    {
     "name": "stdout",
     "output_type": "stream",
     "text": [
      "\n",
      "Looking for: ['anarci', 'biopandas', 'biopython==1.79']\n",
      "\n",
      "bioconda/linux-64                                           Using cache\n",
      "bioconda/noarch                                             Using cache\n",
      "conda-forge/linux-64                                        Using cache\n",
      "conda-forge/noarch                                          Using cache\n",
      "\n",
      "Pinned packages:\n",
      "  - python 3.10.*\n",
      "\n",
      "\n",
      "Transaction\n",
      "\n",
      "  Prefix: /home/rchaves/miniforge3/envs/biobb_wf_antibody\n",
      "\n",
      "  Updating specs:\n",
      "\n",
      "   - anarci\n",
      "   - biopandas\n",
      "   - biopython==1.79\n",
      "   - ca-certificates\n",
      "   - certifi\n",
      "   - openssl\n",
      "\n",
      "\n",
      "  Package      Version  Build            Channel           Size\n",
      "─────────────────────────────────────────────────────────────────\n",
      "  Downgrade:\n",
      "─────────────────────────────────────────────────────────────────\n",
      "\n",
      "  \u001b[31m- biopython\u001b[0m     1.80  py310h5764c6d_0  conda-forge\u001b[32m     Cached\u001b[0m\n",
      "  \u001b[32m+ biopython\u001b[0m     1.79  py310h5764c6d_3  conda-forge\u001b[32m     Cached\u001b[0m\n",
      "\n",
      "  Summary:\n",
      "\n",
      "  Downgrade: 1 packages\n",
      "\n",
      "  Total download: 0 B\n",
      "\n",
      "─────────────────────────────────────────────────────────────────\n",
      "\n",
      "\n",
      "\u001b[?25l\u001b[2K\u001b[0G\u001b[?25h\n",
      "Downloading and Extracting Packages:\n",
      "\n",
      "Preparing transaction: done\n",
      "Verifying transaction: done\n",
      "Executing transaction: done\n"
     ]
    }
   ],
   "source": [
    "!mamba install anarci biopandas biopython==1.79 -y -c bioconda"
   ]
  },
  {
   "cell_type": "code",
   "execution_count": 8,
   "metadata": {},
   "outputs": [],
   "source": [
    "!python {MD_dir}ImmunoPDB.py -i {MD_dir}{pdbCode}_fixed.pdb -o {MD_dir}{pdbCode}_cht.pdb --scheme c --rename --splitscfv"
   ]
  },
  {
   "cell_type": "code",
   "execution_count": null,
   "metadata": {},
   "outputs": [
    {
     "data": {
      "text/plain": [
       "['26, 27, 28, 29, 30, 31, 32, 33, 34, 55, 56, 57, 101, 102, 103, 104, 105, 106, 107, 108, 246, 247, 248, 249, 250, 251, 252, 270, 271, 272, 311, 312, 313, 314, 315, 316']"
      ]
     },
     "execution_count": 9,
     "metadata": {},
     "output_type": "execute_result"
    }
   ],
   "source": [
    "# Convert to a format for haddock, remove insertion index, one chain...\n",
    "l = !python {MD_dir}ab_haddock_format.py {MD_dir}{pdbCode}_cht.pdb {MD_dir}{pdbCode}_HADDOCK.pdb A\n",
    "l"
   ]
  },
  {
   "cell_type": "code",
   "execution_count": null,
   "metadata": {},
   "outputs": [
    {
     "name": "stdout",
     "output_type": "stream",
     "text": [
      "REMARK   6 SCHEME CHOTHIA\n",
      "REMARK   6 ANARCI TYPE, PAIRING AND ASSIGNED GERMLINE DETAILS\n",
      "REMARK   6 CHAIN H N_IG-V-DOMAINS 1\n",
      "REMARK   6 CHAIN H DOMAIN 0 TYPE VH\n",
      "REMARK   6 CHAIN H DOMAIN 0 PAIREDWITH CHAIN L DOMAIN 0\n",
      "REMARK   6 CHAIN H DOMAIN 0 V_GENE_SPECIES mouse\n",
      "REMARK   6 CHAIN H DOMAIN 0 V_GENE_GERMLINE IGHV8-4-8*01\n",
      "REMARK   6 CHAIN H DOMAIN 0 V_GENE_GERMLINE_IDENTITY 0.84\n",
      "REMARK   6 CHAIN H DOMAIN 0 J_GENE_SPECIES mouse\n",
      "REMARK   6 CHAIN H DOMAIN 0 J_GENE_GERMLINE IGHJ3*01\n",
      "REMARK   6 CHAIN H DOMAIN 0 J_GENE_GERMLINE_IDENTITY 0.79\n",
      "REMARK   6 CHAIN L N_IG-V-DOMAINS 1\n",
      "REMARK   6 CHAIN L DOMAIN 0 TYPE VK\n",
      "REMARK   6 CHAIN L DOMAIN 0 PAIREDWITH CHAIN H DOMAIN 0\n",
      "REMARK   6 CHAIN L DOMAIN 0 V_GENE_SPECIES mouse\n",
      "REMARK   6 CHAIN L DOMAIN 0 V_GENE_GERMLINE IGKV10-96*01\n",
      "REMARK   6 CHAIN L DOMAIN 0 V_GENE_GERMLINE_IDENTITY 0.85\n",
      "REMARK   6 CHAIN L DOMAIN 0 J_GENE_SPECIES mouse\n",
      "REMARK   6 CHAIN L DOMAIN 0 J_GENE_GERMLINE IGKJ1*01\n",
      "REMARK   6 CHAIN L DOMAIN 0 J_GENE_GERMLINE_IDENTITY 0.92\n",
      "ATOM      1  N   GLN H   1      37.767  11.746 -46.439  1.00 35.99           N  \n",
      "ATOM      2  CA  GLN H   1      38.455  10.490 -46.737  1.00 35.32           C  \n",
      "ATOM      3  C   GLN H   1      39.827  10.457 -46.060  1.00 35.35           C  \n",
      "ATOM      4  O   GLN H   1      40.143   9.494 -45.357  1.00 35.61           O  \n",
      "ATOM      5  CB  GLN H   1      38.602  10.284 -48.258  1.00 37.73           C  \n",
      "ATOM      6  CG  GLN H   1      37.283  10.067 -49.005  1.00 56.55           C  \n",
      "ATOM      7  CD  GLN H   1      36.620  11.342 -49.491  1.00 77.62           C  \n",
      "ATOM      8  OE1 GLN H   1      36.978  12.468 -49.114  1.00 72.75           O  \n",
      "ATOM      9  NE2 GLN H   1      35.615  11.185 -50.336  1.00 70.83           N  \n",
      "ATOM     10  N   VAL H   2      40.624  11.521 -46.256  1.00 28.01           N  \n",
      "ATOM     11  CA  VAL H   2      41.973  11.675 -45.706  1.00 25.56           C  \n",
      "ATOM     12  C   VAL H   2      41.935  11.908 -44.189  1.00 25.78           C  \n",
      "ATOM     13  O   VAL H   2      41.147  12.722 -43.700  1.00 24.19           O  \n",
      "ATOM     14  CB  VAL H   2      42.757  12.788 -46.471  1.00 28.91           C  \n",
      "ATOM     15  CG1 VAL H   2      44.065  13.156 -45.773  1.00 27.84           C  \n",
      "ATOM     16  CG2 VAL H   2      43.021  12.377 -47.920  1.00 29.30           C  \n",
      "ATOM     17  N   GLN H   3      42.799  11.190 -43.455  1.00 21.09           N  \n",
      "ATOM     18  CA  GLN H   3      42.936  11.324 -42.007  1.00 20.06           C  \n",
      "ATOM     19  C   GLN H   3      44.403  11.479 -41.630  1.00 21.49           C  \n",
      "ATOM     20  O   GLN H   3      45.245  10.776 -42.176  1.00 20.63           O  \n",
      "ATOM     21  CB  GLN H   3      42.325  10.118 -41.267  1.00 21.63           C  \n",
      "ATOM     22  CG  GLN H   3      40.798  10.076 -41.313  1.00 39.37           C  \n",
      "ATOM     23  CD  GLN H   3      40.217   9.003 -40.426  1.00 62.58           C  \n",
      "ATOM     24  OE1 GLN H   3      40.513   7.811 -40.563  1.00 57.73           O  \n",
      "ATOM     25  NE2 GLN H   3      39.342   9.402 -39.514  1.00 57.54           N  \n",
      "ATOM     26  N   LEU H   4      44.703  12.406 -40.707  1.00 16.90           N  \n",
      "ATOM     27  CA  LEU H   4      46.048  12.640 -40.176  1.00 16.62           C  \n",
      "ATOM     28  C   LEU H   4      45.946  12.666 -38.662  1.00 19.34           C  \n",
      "ATOM     29  O   LEU H   4      44.996  13.238 -38.119  1.00 18.17           O  \n",
      "ATOM     30  CB  LEU H   4      46.661  13.968 -40.668  1.00 16.75           C  \n",
      "ATOM     31  CG  LEU H   4      46.976  14.067 -42.150  1.00 22.25           C  \n",
      "ATOM     32  CD1 LEU H   4      45.887  14.812 -42.863  1.00 23.25           C  \n",
      "ATOM     33  CD2 LEU H   4      48.283  14.795 -42.378  1.00 25.09           C  \n",
      "ATOM     34  N   GLN H   5      46.928  12.065 -37.981  1.00 15.56           N  \n",
      "ATOM     35  CA  GLN H   5      46.946  12.026 -36.523  1.00 14.64           C  \n",
      "ATOM     36  C   GLN H   5      48.351  12.190 -35.997  1.00 17.00           C  \n",
      "ATOM     37  O   GLN H   5      49.248  11.417 -36.343  1.00 16.47           O  \n",
      "ATOM     38  CB  GLN H   5      46.284  10.733 -35.985  1.00 16.13           C  \n",
      "ATOM     39  CG  GLN H   5      46.223  10.641 -34.448  1.00 24.09           C  \n",
      "ATOM     40  CD  GLN H   5      45.436  11.771 -33.821  1.00 39.31           C  \n",
      "ATOM     41  OE1 GLN H   5      44.244  11.955 -34.088  1.00 34.84           O  \n",
      "ATOM     42  NE2 GLN H   5      46.098  12.581 -33.003  1.00 29.04           N  \n",
      "ATOM     43  N   GLU H   6      48.532  13.202 -35.155  1.00 13.22           N  \n",
      "ATOM     44  CA  GLU H   6      49.804  13.499 -34.510  1.00 12.84           C  \n",
      "ATOM     45  C   GLU H   6      49.887  12.720 -33.205  1.00 17.96           C  \n",
      "ATOM     46  O   GLU H   6      48.873  12.520 -32.538  1.00 17.94           O  \n",
      "ATOM     47  CB  GLU H   6      49.948  15.000 -34.213  1.00 13.55           C  \n",
      "ATOM     48  CG  GLU H   6      49.709  15.925 -35.398  1.00 18.09           C  \n",
      "ATOM     49  CD  GLU H   6      48.264  16.290 -35.692  1.00 22.71           C  \n",
      "ATOM     50  OE1 GLU H   6      47.341  15.651 -35.135  1.00 17.03           O  \n",
      "ATOM     51  OE2 GLU H   6      48.055  17.240 -36.476  1.00 15.68           O  \n",
      "ATOM     52  N   SER H   7      51.094  12.283 -32.850  1.00 15.56           N  \n",
      "ATOM     53  CA  SER H   7      51.380  11.589 -31.596  1.00 15.93           C  \n",
      "ATOM     54  C   SER H   7      52.707  12.089 -31.056  1.00 20.91           C  \n",
      "ATOM     55  O   SER H   7      53.608  12.430 -31.827  1.00 19.64           O  \n",
      "ATOM     56  CB  SER H   7      51.394  10.072 -31.776  1.00 19.00           C  \n",
      "ATOM     57  OG  SER H   7      52.340   9.645 -32.740  1.00 24.78           O  \n",
      "ATOM     58  N   GLY H   8      52.789  12.169 -29.738  1.00 19.03           N  \n",
      "ATOM     59  CA  GLY H   8      53.970  12.639 -29.030  1.00 20.03           C  \n",
      "ATOM     60  C   GLY H   8      54.008  12.169 -27.590  1.00 24.49           C  \n",
      "ATOM     61  O   GLY H   8      53.048  11.554 -27.121  1.00 23.74           O  \n",
      "ATOM     62  N   PRO H   9      55.096  12.472 -26.846  1.00 22.34           N  \n",
      "ATOM     63  CA  PRO H   9      55.181  12.015 -25.447  1.00 22.85           C  \n",
      "ATOM     64  C   PRO H   9      54.304  12.767 -24.441  1.00 27.19           C  \n",
      "ATOM     65  O   PRO H   9      54.141  12.291 -23.318  1.00 28.04           O  \n",
      "ATOM     66  CB  PRO H   9      56.672  12.140 -25.127  1.00 25.03           C  \n",
      "ATOM     67  CG  PRO H   9      57.136  13.236 -25.991  1.00 29.34           C  \n",
      "ATOM     68  CD  PRO H   9      56.318  13.197 -27.250  1.00 24.37           C  \n",
      "ATOM     69  N   GLY H  10      53.780  13.930 -24.827  1.00 22.80           N  \n",
      "ATOM     70  CA  GLY H  10      52.916  14.740 -23.967  1.00 22.34           C  \n",
      "ATOM     71  C   GLY H  10      53.647  15.638 -22.985  1.00 25.86           C  \n",
      "ATOM     72  O   GLY H  10      53.269  16.798 -22.808  1.00 26.41           O  \n",
      "ATOM     73  N   LEU H  11      54.673  15.091 -22.312  1.00 21.35           N  \n",
      "ATOM     74  CA  LEU H  11      55.511  15.788 -21.340  1.00 21.00           C  \n",
      "ATOM     75  C   LEU H  11      56.982  15.455 -21.613  1.00 24.52           C  \n",
      "ATOM     76  O   LEU H  11      57.346  14.282 -21.721  1.00 23.10           O  \n",
      "ATOM     77  CB  LEU H  11      55.104  15.427 -19.891  1.00 21.24           C  \n",
      "ATOM     78  CG  LEU H  11      55.961  15.986 -18.731  1.00 26.14           C  \n",
      "ATOM     79  CD1 LEU H  11      55.865  17.513 -18.631  1.00 26.00           C  \n",
      "ATOM     80  CD2 LEU H  11      55.554  15.356 -17.411  1.00 28.50           C  \n",
      "ATOM     81  N   VAL H  12      57.803  16.503 -21.786  1.00 22.20           N  \n",
      "ATOM     82  CA  VAL H  12      59.246  16.420 -22.064  1.00 22.94           C  \n",
      "ATOM     83  C   VAL H  12      59.944  17.360 -21.090  1.00 27.34           C  \n",
      "ATOM     84  O   VAL H  12      59.432  18.444 -20.817  1.00 26.77           O  \n",
      "ATOM     85  CB  VAL H  12      59.610  16.799 -23.537  1.00 26.96           C  \n",
      "ATOM     86  CG1 VAL H  12      61.049  16.413 -23.872  1.00 27.04           C  \n",
      "ATOM     87  CG2 VAL H  12      58.655  16.174 -24.542  1.00 26.49           C  \n",
      "ATOM     88  N   LYS H  13      61.111  16.958 -20.578  1.00 24.50           N  \n",
      "ATOM     89  CA  LYS H  13      61.878  17.788 -19.657  1.00 25.03           C  \n",
      "ATOM     90  C   LYS H  13      62.705  18.824 -20.434  1.00 29.15           C  \n",
      "ATOM     91  O   LYS H  13      63.120  18.528 -21.562  1.00 28.06           O  \n",
      "ATOM     92  CB  LYS H  13      62.787  16.914 -18.773  1.00 28.47           C  \n",
      "ATOM     93  CG  LYS H  13      62.015  16.101 -17.741  1.00 38.34           C  \n",
      "ATOM     94  CD  LYS H  13      62.936  15.401 -16.749  1.00 45.90           C  \n",
      "ATOM     95  CE  LYS H  13      62.173  14.549 -15.758  1.00 54.15           C  \n",
      "ATOM     96  NZ  LYS H  13      61.394  15.364 -14.785  1.00 60.66           N  \n",
      "ATOM     97  N   PRO H  14      62.978  20.031 -19.865  1.00 26.63           N  \n",
      "ATOM     98  CA  PRO H  14      63.833  21.004 -20.580  1.00 26.67           C  \n",
      "ATOM     99  C   PRO H  14      65.210  20.418 -20.914  1.00 30.66           C  \n",
      "ATOM    100  O   PRO H  14      65.728  19.608 -20.141  1.00 30.51           O  \n",
      "ATOM    101  CB  PRO H  14      63.950  22.174 -19.594  1.00 29.30           C  \n",
      "ATOM    102  CG  PRO H  14      62.791  22.020 -18.666  1.00 33.72           C  \n",
      "ATOM    103  CD  PRO H  14      62.576  20.546 -18.539  1.00 28.86           C  \n",
      "ATOM    104  N   SER H  15      65.770  20.804 -22.088  1.00 26.83           N  \n",
      "ATOM    105  CA  SER H  15      67.052  20.385 -22.686  1.00 26.92           C  \n",
      "ATOM    106  C   SER H  15      67.002  19.049 -23.448  1.00 30.36           C  \n",
      "ATOM    107  O   SER H  15      67.920  18.754 -24.217  1.00 30.40           O  \n",
      "ATOM    108  CB  SER H  15      68.211  20.427 -21.688  1.00 31.44           C  \n",
      "ATOM    109  OG  SER H  15      68.256  19.257 -20.886  1.00 38.28           O  \n",
      "ATOM    110  N   GLN H  16      65.934  18.252 -23.250  1.00 26.15           N  \n",
      "ATOM    111  CA  GLN H  16      65.758  16.957 -23.916  1.00 25.58           C  \n",
      "ATOM    112  C   GLN H  16      65.281  17.108 -25.371  1.00 28.29           C  \n",
      "ATOM    113  O   GLN H  16      64.975  18.217 -25.813  1.00 26.86           O  \n",
      "ATOM    114  CB  GLN H  16      64.785  16.063 -23.127  1.00 26.72           C  \n",
      "ATOM    115  CG  GLN H  16      65.333  15.550 -21.796  1.00 38.44           C  \n",
      "ATOM    116  CD  GLN H  16      64.435  14.509 -21.161  1.00 56.16           C  \n",
      "ATOM    117  OE1 GLN H  16      63.200  14.552 -21.257  1.00 51.27           O  \n",
      "ATOM    118  NE2 GLN H  16      65.039  13.560 -20.466  1.00 47.36           N  \n",
      "ATOM    119  N   THR H  17      65.229  15.984 -26.108  1.00 25.03           N  \n",
      "ATOM    120  CA  THR H  17      64.775  15.942 -27.496  1.00 24.35           C  \n",
      "ATOM    121  C   THR H  17      63.307  15.513 -27.552  1.00 27.75           C  \n",
      "ATOM    122  O   THR H  17      62.932  14.504 -26.950  1.00 27.72           O  \n",
      "ATOM    123  CB  THR H  17      65.706  15.059 -28.355  1.00 31.57           C  \n",
      "ATOM    124  OG1 THR H  17      67.030  15.574 -28.273  1.00 29.95           O  \n",
      "ATOM    125  CG2 THR H  17      65.283  14.998 -29.828  1.00 29.52           C  \n",
      "ATOM    126  N   LEU H  18      62.486  16.295 -28.266  1.00 23.40           N  \n",
      "ATOM    127  CA  LEU H  18      61.070  16.016 -28.487  1.00 22.66           C  \n",
      "ATOM    128  C   LEU H  18      60.917  15.268 -29.816  1.00 25.76           C  \n",
      "ATOM    129  O   LEU H  18      61.420  15.730 -30.842  1.00 25.63           O  \n",
      "ATOM    130  CB  LEU H  18      60.242  17.328 -28.489  1.00 22.39           C  \n",
      "ATOM    131  CG  LEU H  18      58.821  17.282 -29.106  1.00 26.69           C  \n",
      "ATOM    132  CD1 LEU H  18      57.881  16.398 -28.300  1.00 26.66           C  \n",
      "ATOM    133  CD2 LEU H  18      58.236  18.669 -29.231  1.00 29.75           C  \n",
      "ATOM    134  N   SER H  19      60.231  14.119 -29.789  1.00 21.26           N  \n",
      "ATOM    135  CA  SER H  19      59.971  13.320 -30.985  1.00 20.78           C  \n",
      "ATOM    136  C   SER H  19      58.464  13.287 -31.243  1.00 22.58           C  \n",
      "ATOM    137  O   SER H  19      57.690  12.970 -30.339  1.00 21.35           O  \n",
      "ATOM    138  CB  SER H  19      60.540  11.912 -30.834  1.00 26.23           C  \n",
      "ATOM    139  OG  SER H  19      60.434  11.192 -32.052  1.00 37.77           O  \n",
      "ATOM    140  N   LEU H  20      58.053  13.672 -32.460  1.00 18.05           N  \n",
      "ATOM    141  CA  LEU H  20      56.646  13.723 -32.875  1.00 17.04           C  \n",
      "ATOM    142  C   LEU H  20      56.444  12.891 -34.126  1.00 19.47           C  \n",
      "ATOM    143  O   LEU H  20      57.332  12.849 -34.978  1.00 18.46           O  \n",
      "ATOM    144  CB  LEU H  20      56.226  15.180 -33.166  1.00 17.00           C  \n",
      "ATOM    145  CG  LEU H  20      56.314  16.177 -32.007  1.00 22.37           C  \n",
      "ATOM    146  CD1 LEU H  20      56.481  17.587 -32.521  1.00 22.60           C  \n",
      "ATOM    147  CD2 LEU H  20      55.106  16.081 -31.098  1.00 25.42           C  \n",
      "ATOM    148  N   THR H  21      55.273  12.245 -34.251  1.00 15.81           N  \n",
      "ATOM    149  CA  THR H  21      54.938  11.442 -35.428  1.00 15.62           C  \n",
      "ATOM    150  C   THR H  21      53.578  11.854 -35.982  1.00 19.09           C  \n",
      "ATOM    151  O   THR H  21      52.656  12.115 -35.215  1.00 18.85           O  \n",
      "ATOM    152  CB  THR H  21      55.044   9.929 -35.122  1.00 22.55           C  \n",
      "ATOM    153  OG1 THR H  21      56.380   9.635 -34.720  1.00 22.46           O  \n",
      "ATOM    154  CG2 THR H  21      54.702   9.047 -36.326  1.00 22.05           C  \n",
      "ATOM    155  N   CYS H  22      53.473  11.907 -37.314  1.00 15.04           N  \n",
      "ATOM    156  CA  CYS H  22      52.253  12.190 -38.054  1.00 15.15           C  \n",
      "ATOM    157  C   CYS H  22      51.908  10.919 -38.829  1.00 18.75           C  \n",
      "ATOM    158  O   CYS H  22      52.656  10.527 -39.725  1.00 18.24           O  \n",
      "ATOM    159  CB  CYS H  22      52.450  13.380 -38.991  1.00 16.08           C  \n",
      "ATOM    160  SG  CYS H  22      51.020  13.746 -40.039  1.00 20.39           S  \n",
      "ATOM    161  N   SER H  23      50.801  10.259 -38.460  1.00 14.97           N  \n",
      "ATOM    162  CA  SER H  23      50.336   9.043 -39.117  1.00 15.01           C  \n",
      "ATOM    163  C   SER H  23      49.124   9.378 -39.959  1.00 17.98           C  \n",
      "ATOM    164  O   SER H  23      48.190  10.018 -39.472  1.00 17.54           O  \n",
      "ATOM    165  CB  SER H  23      50.013   7.964 -38.090  1.00 18.72           C  \n",
      "ATOM    166  OG  SER H  23      51.152   7.774 -37.271  1.00 27.15           O  \n",
      "ATOM    167  N   PHE H  24      49.147   8.975 -41.232  1.00 14.75           N  \n",
      "ATOM    168  CA  PHE H  24      48.069   9.313 -42.160  1.00 14.29           C  \n",
      "ATOM    169  C   PHE H  24      47.533   8.165 -43.008  1.00 17.73           C  \n",
      "ATOM    170  O   PHE H  24      48.177   7.125 -43.135  1.00 17.18           O  \n",
      "ATOM    171  CB  PHE H  24      48.491  10.507 -43.049  1.00 15.93           C  \n",
      "ATOM    172  CG  PHE H  24      49.772  10.296 -43.821  1.00 17.40           C  \n",
      "ATOM    173  CD1 PHE H  24      50.979  10.792 -43.344  1.00 20.17           C  \n",
      "ATOM    174  CD2 PHE H  24      49.772   9.600 -45.026  1.00 19.22           C  \n",
      "ATOM    175  CE1 PHE H  24      52.163  10.596 -44.060  1.00 21.29           C  \n",
      "ATOM    176  CE2 PHE H  24      50.956   9.408 -45.742  1.00 22.21           C  \n",
      "ATOM    177  CZ  PHE H  24      52.143   9.905 -45.252  1.00 20.20           C  \n",
      "ATOM    178  N   SER H  25      46.341   8.375 -43.596  1.00 15.09           N  \n",
      "ATOM    179  CA  SER H  25      45.653   7.449 -44.502  1.00 15.69           C  \n",
      "ATOM    180  C   SER H  25      44.868   8.270 -45.533  1.00 19.69           C  \n",
      "ATOM    181  O   SER H  25      44.619   9.458 -45.309  1.00 18.51           O  \n",
      "ATOM    182  CB  SER H  25      44.708   6.536 -43.723  1.00 19.37           C  \n",
      "ATOM    183  OG  SER H  25      43.734   7.290 -43.019  1.00 26.37           O  \n",
      "ATOM    184  N   GLY H  26      44.501   7.639 -46.646  1.00 17.75           N  \n",
      "ATOM    185  CA  GLY H  26      43.721   8.279 -47.702  1.00 18.28           C  \n",
      "ATOM    186  C   GLY H  26      44.534   8.884 -48.827  1.00 22.77           C  \n",
      "ATOM    187  O   GLY H  26      43.972   9.295 -49.847  1.00 23.29           O  \n",
      "ATOM    188  N   PHE H  27      45.858   8.970 -48.637  1.00 18.83           N  \n",
      "ATOM    189  CA  PHE H  27      46.806   9.478 -49.631  1.00 18.30           C  \n",
      "ATOM    190  C   PHE H  27      48.172   8.832 -49.402  1.00 21.48           C  \n",
      "ATOM    191  O   PHE H  27      48.420   8.277 -48.330  1.00 20.97           O  \n",
      "ATOM    192  CB  PHE H  27      46.895  11.025 -49.612  1.00 19.33           C  \n",
      "ATOM    193  CG  PHE H  27      47.704  11.623 -48.485  1.00 19.88           C  \n",
      "ATOM    194  CD1 PHE H  27      47.137  11.826 -47.231  1.00 21.68           C  \n",
      "ATOM    195  CD2 PHE H  27      49.036  11.984 -48.675  1.00 21.18           C  \n",
      "ATOM    196  CE1 PHE H  27      47.888  12.380 -46.187  1.00 21.78           C  \n",
      "ATOM    197  CE2 PHE H  27      49.787  12.529 -47.628  1.00 22.93           C  \n",
      "ATOM    198  CZ  PHE H  27      49.207  12.727 -46.393  1.00 20.37           C  \n",
      "ATOM    199  N   SER H  28      49.050   8.908 -50.410  1.00 17.17           N  \n",
      "ATOM    200  CA  SER H  28      50.403   8.378 -50.319  1.00 16.43           C  \n",
      "ATOM    201  C   SER H  28      51.399   9.527 -50.433  1.00 18.99           C  \n",
      "ATOM    202  O   SER H  28      51.239  10.409 -51.279  1.00 18.01           O  \n",
      "ATOM    203  CB  SER H  28      50.653   7.347 -51.418  1.00 19.58           C  \n",
      "ATOM    204  OG  SER H  28      51.999   6.898 -51.415  1.00 24.26           O  \n",
      "ATOM    205  N   LEU H  29      52.444   9.503 -49.598  1.00 15.65           N  \n",
      "ATOM    206  CA  LEU H  29      53.495  10.509 -49.669  1.00 15.11           C  \n",
      "ATOM    207  C   LEU H  29      54.498  10.157 -50.797  1.00 19.76           C  \n",
      "ATOM    208  O   LEU H  29      55.457  10.885 -51.006  1.00 19.71           O  \n",
      "ATOM    209  CB  LEU H  29      54.161  10.721 -48.292  1.00 14.40           C  \n",
      "ATOM    210  CG  LEU H  29      55.223  11.839 -48.136  1.00 18.34           C  \n",
      "ATOM    211  CD1 LEU H  29      54.717  13.230 -48.611  1.00 18.30           C  \n",
      "ATOM    212  CD2 LEU H  29      55.677  11.930 -46.719  1.00 19.49           C  \n",
      "ATOM    213  N   SER H  30      54.251   9.074 -51.546  1.00 16.77           N  \n",
      "ATOM    214  CA  SER H  30      55.086   8.707 -52.694  1.00 17.63           C  \n",
      "ATOM    215  C   SER H  30      54.486   9.309 -53.986  1.00 21.14           C  \n",
      "ATOM    216  O   SER H  30      55.138   9.299 -55.032  1.00 21.45           O  \n",
      "ATOM    217  CB  SER H  30      55.221   7.189 -52.802  1.00 21.82           C  \n",
      "ATOM    218  OG  SER H  30      54.008   6.575 -53.198  1.00 31.83           O  \n",
      "ATOM    219  N   THR H  31      53.241   9.834 -53.906  1.00 16.83           N  \n",
      "ATOM    220  CA  THR H  31      52.547  10.457 -55.039  1.00 16.06           C  \n",
      "ATOM    221  C   THR H  31      53.273  11.747 -55.424  1.00 17.85           C  \n",
      "ATOM    222  O   THR H  31      53.536  12.571 -54.553  1.00 15.73           O  \n",
      "ATOM    223  CB  THR H  31      51.066  10.709 -54.677  1.00 22.38           C  \n",
      "ATOM    224  OG1 THR H  31      50.443   9.462 -54.383  1.00 19.25           O  \n",
      "ATOM    225  CG2 THR H  31      50.293  11.425 -55.788  1.00 21.90           C  \n",
      "ATOM    226  N   SER H  32      53.612  11.908 -56.719  1.00 15.18           N  \n",
      "ATOM    227  CA  SER H  32      54.301  13.099 -57.240  1.00 14.70           C  \n",
      "ATOM    228  C   SER H  32      53.561  14.394 -56.840  1.00 18.53           C  \n",
      "ATOM    229  O   SER H  32      52.345  14.487 -57.020  1.00 17.61           O  \n",
      "ATOM    230  CB  SER H  32      54.431  13.009 -58.758  1.00 17.84           C  \n",
      "ATOM    231  OG  SER H  32      55.274  14.030 -59.266  1.00 24.16           O  \n",
      "ATOM    232  N   GLY H  33      54.296  15.337 -56.245  1.00 15.19           N  \n",
      "ATOM    233  CA  GLY H  33      53.762  16.618 -55.789  1.00 14.53           C  \n",
      "ATOM    234  C   GLY H  33      53.381  16.665 -54.319  1.00 17.78           C  \n",
      "ATOM    235  O   GLY H  33      53.220  17.755 -53.762  1.00 17.11           O  \n",
      "ATOM    236  N   MET H  34      53.226  15.491 -53.676  1.00 13.55           N  \n",
      "ATOM    237  CA  MET H  34      52.806  15.400 -52.273  1.00 11.97           C  \n",
      "ATOM    238  C   MET H  34      53.838  15.906 -51.273  1.00 15.02           C  \n",
      "ATOM    239  O   MET H  34      55.041  15.725 -51.457  1.00 14.33           O  \n",
      "ATOM    240  CB  MET H  34      52.364  13.971 -51.912  1.00 13.70           C  \n",
      "ATOM    241  CG  MET H  34      51.258  13.920 -50.862  1.00 16.41           C  \n",
      "ATOM    242  SD  MET H  34      49.667  14.602 -51.423  1.00 19.60           S  \n",
      "ATOM    243  CE  MET H  34      49.174  13.349 -52.617  1.00 16.78           C  \n",
      "ATOM    244  N   GLY H  35      53.338  16.518 -50.209  1.00 12.01           N  \n",
      "ATOM    245  CA  GLY H  35      54.150  17.038 -49.120  1.00 11.52           C  \n",
      "ATOM    246  C   GLY H  35      53.414  16.999 -47.802  1.00 15.27           C  \n",
      "ATOM    247  O   GLY H  35      52.181  16.928 -47.774  1.00 14.35           O  \n",
      "ATOM    248  N   VAL H  36      54.169  17.017 -46.699  1.00 12.82           N  \n",
      "ATOM    249  CA  VAL H  36      53.622  17.030 -45.338  1.00 12.50           C  \n",
      "ATOM    250  C   VAL H  36      54.400  18.071 -44.549  1.00 15.67           C  \n",
      "ATOM    251  O   VAL H  36      55.630  18.092 -44.601  1.00 14.25           O  \n",
      "ATOM    252  CB  VAL H  36      53.619  15.635 -44.639  1.00 16.30           C  \n",
      "ATOM    253  CG1 VAL H  36      53.198  15.744 -43.169  1.00 15.78           C  \n",
      "ATOM    254  CG2 VAL H  36      52.718  14.636 -45.376  1.00 16.35           C  \n",
      "ATOM    255  N   GLY H  37      53.674  18.933 -43.849  1.00 12.60           N  \n",
      "ATOM    256  CA  GLY H  37      54.280  19.967 -43.028  1.00 12.88           C  \n",
      "ATOM    257  C   GLY H  37      53.911  19.864 -41.566  1.00 16.87           C  \n",
      "ATOM    258  O   GLY H  37      52.923  19.209 -41.213  1.00 15.37           O  \n",
      "ATOM    259  N   TRP H  38      54.724  20.505 -40.712  1.00 14.19           N  \n",
      "ATOM    260  CA  TRP H  38      54.505  20.611 -39.275  1.00 13.98           C  \n",
      "ATOM    261  C   TRP H  38      54.298  22.084 -38.942  1.00 16.92           C  \n",
      "ATOM    262  O   TRP H  38      55.016  22.953 -39.449  1.00 15.91           O  \n",
      "ATOM    263  CB  TRP H  38      55.671  20.028 -38.461  1.00 13.18           C  \n",
      "ATOM    264  CG  TRP H  38      55.653  18.530 -38.348  1.00 14.34           C  \n",
      "ATOM    265  CD1 TRP H  38      56.370  17.645 -39.097  1.00 17.54           C  \n",
      "ATOM    266  CD2 TRP H  38      54.891  17.746 -37.418  1.00 14.14           C  \n",
      "ATOM    267  NE1 TRP H  38      56.097  16.355 -38.699  1.00 17.10           N  \n",
      "ATOM    268  CE2 TRP H  38      55.190  16.387 -37.672  1.00 18.06           C  \n",
      "ATOM    269  CE3 TRP H  38      53.961  18.057 -36.409  1.00 15.38           C  \n",
      "ATOM    270  CZ2 TRP H  38      54.620  15.344 -36.932  1.00 17.39           C  \n",
      "ATOM    271  CZ3 TRP H  38      53.387  17.021 -35.685  1.00 16.89           C  \n",
      "ATOM    272  CH2 TRP H  38      53.710  15.683 -35.954  1.00 17.62           C  \n",
      "ATOM    273  N   ILE H  39      53.268  22.355 -38.140  1.00 13.74           N  \n",
      "ATOM    274  CA  ILE H  39      52.856  23.685 -37.687  1.00 13.65           C  \n",
      "ATOM    275  C   ILE H  39      52.611  23.581 -36.178  1.00 17.50           C  \n",
      "ATOM    276  O   ILE H  39      52.106  22.558 -35.720  1.00 17.23           O  \n",
      "ATOM    277  CB  ILE H  39      51.565  24.157 -38.449  1.00 16.60           C  \n",
      "ATOM    278  CG1 ILE H  39      51.788  24.265 -39.978  1.00 17.22           C  \n",
      "ATOM    279  CG2 ILE H  39      51.004  25.488 -37.901  1.00 16.82           C  \n",
      "ATOM    280  CD1 ILE H  39      51.277  23.060 -40.786  1.00 21.49           C  \n",
      "ATOM    281  N   ARG H  40      52.959  24.628 -35.410  1.00 14.47           N  \n",
      "ATOM    282  CA  ARG H  40      52.699  24.627 -33.970  1.00 14.07           C  \n",
      "ATOM    283  C   ARG H  40      51.902  25.851 -33.515  1.00 17.83           C  \n",
      "ATOM    284  O   ARG H  40      51.883  26.876 -34.201  1.00 17.10           O  \n",
      "ATOM    285  CB  ARG H  40      53.981  24.438 -33.138  1.00 13.05           C  \n",
      "ATOM    286  CG  ARG H  40      54.900  25.650 -33.069  1.00 15.34           C  \n",
      "ATOM    287  CD  ARG H  40      55.978  25.432 -32.029  1.00 20.17           C  \n",
      "ATOM    288  NE  ARG H  40      56.924  26.546 -31.986  1.00 20.64           N  \n",
      "ATOM    289  CZ  ARG H  40      58.073  26.528 -31.319  1.00 32.14           C  \n",
      "ATOM    290  NH1 ARG H  40      58.437  25.447 -30.637  1.00 18.41           N  \n",
      "ATOM    291  NH2 ARG H  40      58.870  27.587 -31.332  1.00 19.18           N  \n",
      "ATOM    292  N   GLN H  41      51.259  25.738 -32.343  1.00 14.75           N  \n",
      "ATOM    293  CA  GLN H  41      50.473  26.816 -31.773  1.00 14.86           C  \n",
      "ATOM    294  C   GLN H  41      50.621  26.879 -30.247  1.00 21.20           C  \n",
      "ATOM    295  O   GLN H  41      50.021  26.064 -29.544  1.00 20.35           O  \n",
      "ATOM    296  CB  GLN H  41      48.998  26.680 -32.197  1.00 15.70           C  \n",
      "ATOM    297  CG  GLN H  41      48.102  27.833 -31.741  1.00 18.29           C  \n",
      "ATOM    298  CD  GLN H  41      46.706  27.706 -32.289  1.00 26.42           C  \n",
      "ATOM    299  OE1 GLN H  41      46.101  26.626 -32.297  1.00 23.45           O  \n",
      "ATOM    300  NE2 GLN H  41      46.163  28.814 -32.758  1.00 18.58           N  \n",
      "ATOM    301  N   PRO H  42      51.401  27.844 -29.707  1.00 22.02           N  \n",
      "ATOM    302  CA  PRO H  42      51.477  27.987 -28.238  1.00 23.15           C  \n",
      "ATOM    303  C   PRO H  42      50.135  28.509 -27.709  1.00 29.66           C  \n",
      "ATOM    304  O   PRO H  42      49.413  29.175 -28.457  1.00 28.38           O  \n",
      "ATOM    305  CB  PRO H  42      52.605  29.008 -28.031  1.00 25.47           C  \n",
      "ATOM    306  CG  PRO H  42      53.261  29.179 -29.380  1.00 29.42           C  \n",
      "ATOM    307  CD  PRO H  42      52.192  28.890 -30.382  1.00 24.13           C  \n",
      "ATOM    308  N   SER H  43      49.782  28.177 -26.446  1.00 29.08           N  \n",
      "ATOM    309  CA  SER H  43      48.514  28.570 -25.813  1.00 29.71           C  \n",
      "ATOM    310  C   SER H  43      48.203  30.059 -25.984  1.00 34.00           C  \n",
      "ATOM    311  O   SER H  43      49.053  30.904 -25.705  1.00 34.12           O  \n",
      "ATOM    312  CB  SER H  43      48.496  28.183 -24.336  1.00 34.51           C  \n",
      "ATOM    313  OG  SER H  43      47.210  28.379 -23.769  1.00 44.61           O  \n",
      "ATOM    314  N   GLY H  44      47.022  30.342 -26.528  1.00 30.84           N  \n",
      "ATOM    315  CA  GLY H  44      46.543  31.696 -26.790  1.00 31.34           C  \n",
      "ATOM    316  C   GLY H  44      47.238  32.439 -27.917  1.00 35.47           C  \n",
      "ATOM    317  O   GLY H  44      46.907  33.600 -28.174  1.00 36.82           O  \n",
      "ATOM    318  N   LYS H  45      48.204  31.790 -28.601  1.00 29.83           N  \n",
      "ATOM    319  CA  LYS H  45      48.956  32.396 -29.703  1.00 28.62           C  \n",
      "ATOM    320  C   LYS H  45      48.478  31.896 -31.078  1.00 29.17           C  \n",
      "ATOM    321  O   LYS H  45      47.519  31.127 -31.161  1.00 27.55           O  \n",
      "ATOM    322  CB  LYS H  45      50.475  32.196 -29.516  1.00 31.44           C  \n",
      "ATOM    323  CG  LYS H  45      51.078  33.056 -28.413  1.00 49.04           C  \n",
      "ATOM    324  CD  LYS H  45      52.599  33.116 -28.513  1.00 61.52           C  \n",
      "ATOM    325  CE  LYS H  45      53.220  33.997 -27.452  1.00 75.35           C  \n",
      "ATOM    326  NZ  LYS H  45      53.013  35.445 -27.727  1.00 86.06           N  \n",
      "ATOM    327  N   GLY H  46      49.127  32.374 -32.138  1.00 24.49           N  \n",
      "ATOM    328  CA  GLY H  46      48.791  32.009 -33.507  1.00 23.40           C  \n",
      "ATOM    329  C   GLY H  46      49.552  30.801 -34.021  1.00 24.39           C  \n",
      "ATOM    330  O   GLY H  46      50.266  30.137 -33.264  1.00 23.63           O  \n",
      "ATOM    331  N   LEU H  47      49.403  30.523 -35.321  1.00 19.22           N  \n",
      "ATOM    332  CA  LEU H  47      50.055  29.407 -36.000  1.00 18.07           C  \n",
      "ATOM    333  C   LEU H  47      51.453  29.794 -36.465  1.00 21.34           C  \n",
      "ATOM    334  O   LEU H  47      51.656  30.901 -36.964  1.00 21.21           O  \n",
      "ATOM    335  CB  LEU H  47      49.216  28.929 -37.202  1.00 17.93           C  \n",
      "ATOM    336  CG  LEU H  47      47.786  28.432 -36.933  1.00 22.22           C  \n",
      "ATOM    337  CD1 LEU H  47      47.076  28.127 -38.235  1.00 22.60           C  \n",
      "ATOM    338  CD2 LEU H  47      47.775  27.181 -36.044  1.00 24.20           C  \n",
      "ATOM    339  N   GLU H  48      52.416  28.876 -36.290  1.00 17.10           N  \n",
      "ATOM    340  CA  GLU H  48      53.800  29.065 -36.712  1.00 16.54           C  \n",
      "ATOM    341  C   GLU H  48      54.212  27.863 -37.553  1.00 19.15           C  \n",
      "ATOM    342  O   GLU H  48      54.100  26.726 -37.084  1.00 17.67           O  \n",
      "ATOM    343  CB  GLU H  48      54.727  29.207 -35.488  1.00 17.95           C  \n",
      "ATOM    344  CG  GLU H  48      56.191  29.453 -35.839  1.00 24.41           C  \n",
      "ATOM    345  CD  GLU H  48      57.167  29.504 -34.678  1.00 39.31           C  \n",
      "ATOM    346  OE1 GLU H  48      56.866  28.928 -33.606  1.00 30.65           O  \n",
      "ATOM    347  OE2 GLU H  48      58.256  30.095 -34.854  1.00 36.37           O  \n",
      "ATOM    348  N   TRP H  49      54.691  28.105 -38.788  1.00 15.49           N  \n",
      "ATOM    349  CA  TRP H  49      55.153  26.999 -39.630  1.00 14.64           C  \n",
      "ATOM    350  C   TRP H  49      56.544  26.556 -39.146  1.00 18.52           C  \n",
      "ATOM    351  O   TRP H  49      57.395  27.404 -38.877  1.00 18.80           O  \n",
      "ATOM    352  CB  TRP H  49      55.168  27.372 -41.126  1.00 13.17           C  \n",
      "ATOM    353  CG  TRP H  49      55.834  26.317 -41.964  1.00 13.57           C  \n",
      "ATOM    354  CD1 TRP H  49      55.342  25.081 -42.271  1.00 15.92           C  \n",
      "ATOM    355  CD2 TRP H  49      57.174  26.354 -42.473  1.00 13.61           C  \n",
      "ATOM    356  NE1 TRP H  49      56.274  24.365 -42.987  1.00 15.21           N  \n",
      "ATOM    357  CE2 TRP H  49      57.408  25.123 -43.127  1.00 17.22           C  \n",
      "ATOM    358  CE3 TRP H  49      58.182  27.334 -42.491  1.00 15.37           C  \n",
      "ATOM    359  CZ2 TRP H  49      58.611  24.841 -43.783  1.00 16.90           C  \n",
      "ATOM    360  CZ3 TRP H  49      59.378  27.048 -43.130  1.00 17.27           C  \n",
      "ATOM    361  CH2 TRP H  49      59.585  25.813 -43.764  1.00 17.65           C  \n",
      "ATOM    362  N   LEU H  50      56.763  25.237 -39.023  1.00 14.27           N  \n",
      "ATOM    363  CA  LEU H  50      58.029  24.689 -38.529  1.00 13.56           C  \n",
      "ATOM    364  C   LEU H  50      58.869  24.020 -39.605  1.00 17.37           C  \n",
      "ATOM    365  O   LEU H  50      60.011  24.416 -39.824  1.00 17.02           O  \n",
      "ATOM    366  CB  LEU H  50      57.792  23.684 -37.381  1.00 13.15           C  \n",
      "ATOM    367  CG  LEU H  50      57.075  24.168 -36.119  1.00 17.64           C  \n",
      "ATOM    368  CD1 LEU H  50      56.668  22.991 -35.268  1.00 17.44           C  \n",
      "ATOM    369  CD2 LEU H  50      57.947  25.110 -35.307  1.00 21.27           C  \n",
      "ATOM    370  N   ALA H  51      58.330  22.962 -40.231  1.00 14.39           N  \n",
      "ATOM    371  CA  ALA H  51      59.070  22.169 -41.207  1.00 14.07           C  \n",
      "ATOM    372  C   ALA H  51      58.168  21.572 -42.268  1.00 16.11           C  \n",
      "ATOM    373  O   ALA H  51      56.944  21.571 -42.117  1.00 15.52           O  \n",
      "ATOM    374  CB  ALA H  51      59.848  21.062 -40.491  1.00 14.89           C  \n",
      "ATOM    375  N   HIS H  52      58.779  21.067 -43.349  1.00 11.84           N  \n",
      "ATOM    376  CA  HIS H  52      58.074  20.455 -44.471  1.00 11.03           C  \n",
      "ATOM    377  C   HIS H  52      58.970  19.446 -45.175  1.00 14.76           C  \n",
      "ATOM    378  O   HIS H  52      60.192  19.595 -45.182  1.00 13.69           O  \n",
      "ATOM    379  CB  HIS H  52      57.594  21.537 -45.455  1.00 11.50           C  \n",
      "ATOM    380  CG  HIS H  52      56.710  21.032 -46.557  1.00 14.45           C  \n",
      "ATOM    381  ND1 HIS H  52      57.228  20.679 -47.789  1.00 16.28           N  \n",
      "ATOM    382  CD2 HIS H  52      55.369  20.854 -46.581  1.00 15.77           C  \n",
      "ATOM    383  CE1 HIS H  52      56.193  20.290 -48.516  1.00 15.32           C  \n",
      "ATOM    384  NE2 HIS H  52      55.054  20.378 -47.833  1.00 15.38           N  \n",
      "ATOM    385  N   ILE H  53      58.357  18.402 -45.737  1.00 12.17           N  \n",
      "ATOM    386  CA  ILE H  53      59.062  17.374 -46.500  1.00 12.07           C  \n",
      "ATOM    387  C   ILE H  53      58.233  17.007 -47.721  1.00 15.23           C  \n",
      "ATOM    388  O   ILE H  53      57.021  16.831 -47.612  1.00 14.98           O  \n",
      "ATOM    389  CB  ILE H  53      59.528  16.145 -45.649  1.00 14.98           C  \n",
      "ATOM    390  CG1 ILE H  53      60.595  15.304 -46.414  1.00 16.21           C  \n",
      "ATOM    391  CG2 ILE H  53      58.340  15.285 -45.144  1.00 14.05           C  \n",
      "ATOM    392  CD1 ILE H  53      61.366  14.250 -45.577  1.00 20.80           C  \n",
      "ATOM    393  N   TRP H  54      58.881  16.932 -48.883  1.00 12.84           N  \n",
      "ATOM    394  CA  TRP H  54      58.241  16.558 -50.140  1.00 13.44           C  \n",
      "ATOM    395  C   TRP H  54      58.401  15.053 -50.377  1.00 17.54           C  \n",
      "ATOM    396  O   TRP H  54      59.218  14.399 -49.712  1.00 17.26           O  \n",
      "ATOM    397  CB  TRP H  54      58.867  17.341 -51.314  1.00 12.78           C  \n",
      "ATOM    398  CG  TRP H  54      58.614  18.819 -51.286  1.00 13.79           C  \n",
      "ATOM    399  CD1 TRP H  54      59.497  19.793 -50.928  1.00 16.78           C  \n",
      "ATOM    400  CD2 TRP H  54      57.404  19.491 -51.663  1.00 13.48           C  \n",
      "ATOM    401  NE1 TRP H  54      58.914  21.031 -51.054  1.00 16.24           N  \n",
      "ATOM    402  CE2 TRP H  54      57.628  20.876 -51.504  1.00 17.49           C  \n",
      "ATOM    403  CE3 TRP H  54      56.156  19.058 -52.146  1.00 14.69           C  \n",
      "ATOM    404  CZ2 TRP H  54      56.643  21.832 -51.787  1.00 16.99           C  \n",
      "ATOM    405  CZ3 TRP H  54      55.178  20.004 -52.421  1.00 16.27           C  \n",
      "ATOM    406  CH2 TRP H  54      55.423  21.372 -52.240  1.00 17.02           C  \n",
      "ATOM    407  N   TRP H  55      57.638  14.514 -51.350  1.00 14.26           N  \n",
      "ATOM    408  CA  TRP H  55      57.677  13.118 -51.793  1.00 14.13           C  \n",
      "ATOM    409  C   TRP H  55      59.093  12.692 -52.233  1.00 17.66           C  \n",
      "ATOM    410  O   TRP H  55      59.442  11.517 -52.132  1.00 17.45           O  \n",
      "ATOM    411  CB  TRP H  55      56.675  12.897 -52.948  1.00 13.32           C  \n",
      "ATOM    412  CG  TRP H  55      57.182  13.272 -54.315  1.00 14.58           C  \n",
      "ATOM    413  CD1 TRP H  55      57.648  12.424 -55.276  1.00 17.84           C  \n",
      "ATOM    414  CD2 TRP H  55      57.296  14.595 -54.856  1.00 14.55           C  \n",
      "ATOM    415  NE1 TRP H  55      58.027  13.134 -56.390  1.00 17.53           N  \n",
      "ATOM    416  CE2 TRP H  55      57.816  14.469 -56.163  1.00 18.76           C  \n",
      "ATOM    417  CE3 TRP H  55      57.010  15.881 -54.361  1.00 15.39           C  \n",
      "ATOM    418  CZ2 TRP H  55      58.034  15.579 -56.992  1.00 18.45           C  \n",
      "ATOM    419  CZ3 TRP H  55      57.232  16.977 -55.180  1.00 17.15           C  \n",
      "ATOM    420  CH2 TRP H  55      57.737  16.823 -56.479  1.00 18.33           C  \n",
      "ATOM    421  N   ASP H  56      59.888  13.649 -52.751  1.00 14.17           N  \n",
      "ATOM    422  CA  ASP H  56      61.248  13.397 -53.229  1.00 13.71           C  \n",
      "ATOM    423  C   ASP H  56      62.292  13.536 -52.109  1.00 16.42           C  \n",
      "ATOM    424  O   ASP H  56      63.495  13.435 -52.358  1.00 15.53           O  \n",
      "ATOM    425  CB  ASP H  56      61.569  14.287 -54.450  1.00 15.07           C  \n",
      "ATOM    426  CG  ASP H  56      61.512  15.791 -54.230  1.00 20.97           C  \n",
      "ATOM    427  OD1 ASP H  56      61.487  16.226 -53.059  1.00 20.23           O  \n",
      "ATOM    428  OD2 ASP H  56      61.507  16.533 -55.232  1.00 26.08           O  \n",
      "ATOM    429  N   GLY H  57      61.811  13.754 -50.886  1.00 12.78           N  \n",
      "ATOM    430  CA  GLY H  57      62.653  13.872 -49.704  1.00 12.71           C  \n",
      "ATOM    431  C   GLY H  57      63.181  15.253 -49.388  0.00 15.33           C  \n",
      "ATOM    432  O   GLY H  57      63.847  15.418 -48.372  1.00 13.69           O  \n",
      "ATOM    433  N   ASP H  58      62.899  16.257 -50.230  1.00 12.29           N  \n",
      "ATOM    434  CA  ASP H  58      63.382  17.626 -49.997  1.00 12.21           C  \n",
      "ATOM    435  C   ASP H  58      62.788  18.231 -48.732  1.00 15.36           C  \n",
      "ATOM    436  O   ASP H  58      61.567  18.268 -48.576  1.00 14.17           O  \n",
      "ATOM    437  CB  ASP H  58      63.163  18.531 -51.219  1.00 13.71           C  \n",
      "ATOM    438  CG  ASP H  58      64.145  18.310 -52.362  1.00 20.31           C  \n",
      "ATOM    439  OD1 ASP H  58      65.024  17.425 -52.235  1.00 21.25           O  \n",
      "ATOM    440  OD2 ASP H  58      64.029  19.011 -53.380  1.00 23.91           O  \n",
      "ATOM    441  N   GLU H  59      63.670  18.651 -47.812  1.00 12.53           N  \n",
      "ATOM    442  CA  GLU H  59      63.319  19.207 -46.503  1.00 12.41           C  \n",
      "ATOM    443  C   GLU H  59      63.361  20.734 -46.503  1.00 17.26           C  \n",
      "ATOM    444  O   GLU H  59      64.258  21.326 -47.104  1.00 16.55           O  \n",
      "ATOM    445  CB  GLU H  59      64.298  18.698 -45.423  1.00 13.67           C  \n",
      "ATOM    446  CG  GLU H  59      64.346  17.189 -45.225  1.00 18.96           C  \n",
      "ATOM    447  CD  GLU H  59      65.611  16.687 -44.550  1.00 29.79           C  \n",
      "ATOM    448  OE1 GLU H  59      66.139  17.392 -43.659  1.00 21.41           O  \n",
      "ATOM    449  OE2 GLU H  59      66.083  15.587 -44.919  1.00 22.75           O  \n",
      "ATOM    450  N   SER H  60      62.423  21.355 -45.774  1.00 14.06           N  \n",
      "ATOM    451  CA  SER H  60      62.325  22.811 -45.593  1.00 14.17           C  \n",
      "ATOM    452  C   SER H  60      62.156  23.098 -44.103  1.00 17.82           C  \n",
      "ATOM    453  O   SER H  60      61.403  22.393 -43.433  1.00 16.36           O  \n",
      "ATOM    454  CB  SER H  60      61.135  23.368 -46.367  1.00 17.50           C  \n",
      "ATOM    455  OG  SER H  60      61.286  23.143 -47.759  1.00 26.41           O  \n",
      "ATOM    456  N   TYR H  61      62.852  24.122 -43.582  1.00 15.01           N  \n",
      "ATOM    457  CA  TYR H  61      62.782  24.465 -42.162  1.00 14.75           C  \n",
      "ATOM    458  C   TYR H  61      62.618  25.946 -41.916  1.00 18.75           C  \n",
      "ATOM    459  O   TYR H  61      63.165  26.761 -42.657  1.00 17.98           O  \n",
      "ATOM    460  CB  TYR H  61      64.054  23.997 -41.431  1.00 15.70           C  \n",
      "ATOM    461  CG  TYR H  61      64.289  22.505 -41.483  1.00 15.33           C  \n",
      "ATOM    462  CD1 TYR H  61      65.186  21.952 -42.392  1.00 17.03           C  \n",
      "ATOM    463  CD2 TYR H  61      63.627  21.646 -40.613  1.00 15.31           C  \n",
      "ATOM    464  CE1 TYR H  61      65.410  20.576 -42.439  1.00 17.17           C  \n",
      "ATOM    465  CE2 TYR H  61      63.850  20.272 -40.644  1.00 15.75           C  \n",
      "ATOM    466  CZ  TYR H  61      64.746  19.741 -41.556  1.00 19.76           C  \n",
      "ATOM    467  OH  TYR H  61      64.959  18.386 -41.583  1.00 19.49           O  \n",
      "ATOM    468  N   ASN H  62      61.927  26.295 -40.824  1.00 16.11           N  \n",
      "ATOM    469  CA  ASN H  62      61.805  27.688 -40.418  1.00 16.75           C  \n",
      "ATOM    470  C   ASN H  62      63.120  28.073 -39.712  1.00 22.78           C  \n",
      "ATOM    471  O   ASN H  62      63.483  27.407 -38.740  1.00 22.43           O  \n",
      "ATOM    472  CB  ASN H  62      60.618  27.888 -39.471  1.00 17.06           C  \n",
      "ATOM    473  CG  ASN H  62      60.237  29.337 -39.256  1.00 36.61           C  \n",
      "ATOM    474  OD1 ASN H  62      61.085  30.223 -39.123  1.00 28.89           O  \n",
      "ATOM    475  ND2 ASN H  62      58.946  29.612 -39.189  1.00 31.21           N  \n",
      "ATOM    476  N   PRO H  63      63.838  29.137 -40.161  1.00 21.95           N  \n",
      "ATOM    477  CA  PRO H  63      65.093  29.525 -39.485  1.00 23.69           C  \n",
      "ATOM    478  C   PRO H  63      64.945  30.033 -38.043  1.00 30.88           C  \n",
      "ATOM    479  O   PRO H  63      65.952  30.134 -37.348  1.00 32.00           O  \n",
      "ATOM    480  CB  PRO H  63      65.686  30.600 -40.411  1.00 25.85           C  \n",
      "ATOM    481  CG  PRO H  63      64.939  30.473 -41.699  1.00 29.57           C  \n",
      "ATOM    482  CD  PRO H  63      63.569  30.020 -41.311  1.00 24.11           C  \n",
      "ATOM    483  N   SER H  64      63.710  30.319 -37.577  1.00 28.73           N  \n",
      "ATOM    484  CA  SER H  64      63.449  30.757 -36.195  1.00 29.55           C  \n",
      "ATOM    485  C   SER H  64      63.708  29.619 -35.179  1.00 34.85           C  \n",
      "ATOM    486  O   SER H  64      63.886  29.884 -33.990  1.00 34.90           O  \n",
      "ATOM    487  CB  SER H  64      62.025  31.284 -36.054  1.00 32.70           C  \n",
      "ATOM    488  OG  SER H  64      61.068  30.274 -36.328  1.00 40.23           O  \n",
      "ATOM    489  N   LEU H  65      63.736  28.360 -35.665  1.00 31.28           N  \n",
      "ATOM    490  CA  LEU H  65      64.006  27.145 -34.892  1.00 31.10           C  \n",
      "ATOM    491  C   LEU H  65      65.360  26.572 -35.375  1.00 35.65           C  \n",
      "ATOM    492  O   LEU H  65      65.531  25.351 -35.442  1.00 34.58           O  \n",
      "ATOM    493  CB  LEU H  65      62.875  26.116 -35.149  1.00 30.34           C  \n",
      "ATOM    494  CG  LEU H  65      61.537  26.141 -34.359  1.00 34.97           C  \n",
      "ATOM    495  CD1 LEU H  65      61.686  25.625 -32.944  1.00 37.79           C  \n",
      "ATOM    496  CD2 LEU H  65      60.804  27.472 -34.448  1.00 35.18           C  \n",
      "ATOM    497  N   LYS H  66      66.312  27.472 -35.721  1.00 33.75           N  \n",
      "ATOM    498  CA  LYS H  66      67.643  27.166 -36.266  1.00 34.05           C  \n",
      "ATOM    499  C   LYS H  66      68.418  26.066 -35.546  1.00 37.32           C  \n",
      "ATOM    500  O   LYS H  66      68.654  26.156 -34.336  1.00 37.53           O  \n",
      "ATOM    501  CB  LYS H  66      68.498  28.440 -36.407  1.00 37.62           C  \n",
      "ATOM    502  CG  LYS H  66      69.711  28.288 -37.333  1.00 53.26           C  \n",
      "ATOM    503  CD  LYS H  66      70.434  29.620 -37.595  0.00 64.25           C  \n",
      "ATOM    504  CE  LYS H  66      71.316  30.101 -36.459  0.00 76.29           C  \n",
      "ATOM    505  NZ  LYS H  66      72.534  29.263 -36.293  0.00 86.09           N  \n",
      "ATOM    506  N   SER H  67      68.822  25.035 -36.324  1.00 32.42           N  \n",
      "ATOM    507  CA  SER H  67      69.610  23.861 -35.917  1.00 31.81           C  \n",
      "ATOM    508  C   SER H  67      68.931  22.938 -34.891  1.00 31.62           C  \n",
      "ATOM    509  O   SER H  67      69.582  22.036 -34.358  1.00 31.90           O  \n",
      "ATOM    510  CB  SER H  67      71.011  24.266 -35.459  1.00 37.82           C  \n",
      "ATOM    511  OG  SER H  67      71.685  25.015 -36.456  1.00 50.62           O  \n",
      "ATOM    512  N   ARG H  68      67.628  23.132 -34.637  1.00 24.28           N  \n",
      "ATOM    513  CA  ARG H  68      66.913  22.304 -33.664  1.00 22.67           C  \n",
      "ATOM    514  C   ARG H  68      65.918  21.322 -34.281  1.00 24.50           C  \n",
      "ATOM    515  O   ARG H  68      65.485  20.397 -33.590  1.00 23.62           O  \n",
      "ATOM    516  CB  ARG H  68      66.248  23.164 -32.574  1.00 21.42           C  \n",
      "ATOM    517  CG  ARG H  68      67.232  24.020 -31.771  1.00 26.95           C  \n",
      "ATOM    518  CD  ARG H  68      66.687  24.427 -30.414  1.00 29.86           C  \n",
      "ATOM    519  NE  ARG H  68      65.511  25.294 -30.503  1.00 30.33           N  \n",
      "ATOM    520  CZ  ARG H  68      64.341  25.039 -29.925  1.00 40.24           C  \n",
      "ATOM    521  NH1 ARG H  68      63.335  25.893 -30.046  1.00 25.25           N  \n",
      "ATOM    522  NH2 ARG H  68      64.169  23.929 -29.215  1.00 24.99           N  \n",
      "ATOM    523  N   LEU H  69      65.566  21.504 -35.570  1.00 19.68           N  \n",
      "ATOM    524  CA  LEU H  69      64.594  20.645 -36.255  1.00 18.19           C  \n",
      "ATOM    525  C   LEU H  69      65.186  19.633 -37.216  1.00 20.17           C  \n",
      "ATOM    526  O   LEU H  69      66.122  19.942 -37.958  1.00 18.90           O  \n",
      "ATOM    527  CB  LEU H  69      63.544  21.471 -37.028  1.00 17.94           C  \n",
      "ATOM    528  CG  LEU H  69      62.819  22.624 -36.333  1.00 22.70           C  \n",
      "ATOM    529  CD1 LEU H  69      62.026  23.425 -37.346  1.00 22.84           C  \n",
      "ATOM    530  CD2 LEU H  69      61.887  22.130 -35.243  1.00 24.36           C  \n",
      "ATOM    531  N   THR H  70      64.575  18.434 -37.243  1.00 16.42           N  \n",
      "ATOM    532  CA  THR H  70      64.877  17.354 -38.175  1.00 16.17           C  \n",
      "ATOM    533  C   THR H  70      63.546  16.721 -38.594  1.00 19.59           C  \n",
      "ATOM    534  O   THR H  70      62.870  16.081 -37.775  1.00 19.64           O  \n",
      "ATOM    535  CB  THR H  70      65.868  16.312 -37.603  1.00 22.33           C  \n",
      "ATOM    536  OG1 THR H  70      67.015  16.963 -37.060  1.00 19.90           O  \n",
      "ATOM    537  CG2 THR H  70      66.313  15.298 -38.660  1.00 21.42           C  \n",
      "ATOM    538  N   ILE H  71      63.159  16.933 -39.857  1.00 15.01           N  \n",
      "ATOM    539  CA  ILE H  71      61.949  16.334 -40.416  1.00 14.42           C  \n",
      "ATOM    540  C   ILE H  71      62.361  15.101 -41.216  1.00 18.27           C  \n",
      "ATOM    541  O   ILE H  71      63.379  15.123 -41.905  1.00 17.96           O  \n",
      "ATOM    542  CB  ILE H  71      61.035  17.334 -41.198  1.00 17.02           C  \n",
      "ATOM    543  CG1 ILE H  71      59.628  16.730 -41.454  1.00 16.79           C  \n",
      "ATOM    544  CG2 ILE H  71      61.696  17.863 -42.492  1.00 17.50           C  \n",
      "ATOM    545  CD1 ILE H  71      58.551  17.706 -41.988  1.00 16.66           C  \n",
      "ATOM    546  N   SER H  72      61.606  14.013 -41.077  1.00 15.08           N  \n",
      "ATOM    547  CA  SER H  72      61.890  12.771 -41.785  1.00 15.04           C  \n",
      "ATOM    548  C   SER H  72      60.586  12.105 -42.197  1.00 17.80           C  \n",
      "ATOM    549  O   SER H  72      59.518  12.472 -41.701  1.00 16.31           O  \n",
      "ATOM    550  CB  SER H  72      62.720  11.832 -40.910  1.00 18.83           C  \n",
      "ATOM    551  OG  SER H  72      62.042  11.554 -39.696  1.00 26.57           O  \n",
      "ATOM    552  N   LYS H  73      60.667  11.144 -43.117  1.00 14.64           N  \n",
      "ATOM    553  CA  LYS H  73      59.490  10.416 -43.576  1.00 14.50           C  \n",
      "ATOM    554  C   LYS H  73      59.781   8.928 -43.737  1.00 19.34           C  \n",
      "ATOM    555  O   LYS H  73      60.933   8.531 -43.939  1.00 19.22           O  \n",
      "ATOM    556  CB  LYS H  73      58.944  11.005 -44.899  1.00 16.36           C  \n",
      "ATOM    557  CG  LYS H  73      59.843  10.785 -46.128  1.00 19.81           C  \n",
      "ATOM    558  CD  LYS H  73      59.237  11.379 -47.397  1.00 21.65           C  \n",
      "ATOM    559  CE  LYS H  73      60.120  11.241 -48.618  1.00 16.73           C  \n",
      "ATOM    560  NZ  LYS H  73      60.341   9.817 -49.002  1.00 17.42           N  \n",
      "ATOM    561  N   ASP H  74      58.722   8.123 -43.636  1.00 15.64           N  \n",
      "ATOM    562  CA  ASP H  74      58.705   6.694 -43.911  1.00 16.48           C  \n",
      "ATOM    563  C   ASP H  74      57.403   6.463 -44.675  1.00 21.31           C  \n",
      "ATOM    564  O   ASP H  74      56.343   6.262 -44.071  1.00 21.41           O  \n",
      "ATOM    565  CB  ASP H  74      58.808   5.829 -42.640  1.00 18.29           C  \n",
      "ATOM    566  CG  ASP H  74      59.065   4.350 -42.917  1.00 26.53           C  \n",
      "ATOM    567  OD1 ASP H  74      58.856   3.911 -44.068  1.00 26.58           O  \n",
      "ATOM    568  OD2 ASP H  74      59.448   3.627 -41.975  1.00 32.44           O  \n",
      "ATOM    569  N   THR H  75      57.486   6.567 -46.010  1.00 18.78           N  \n",
      "ATOM    570  CA  THR H  75      56.348   6.438 -46.930  1.00 18.85           C  \n",
      "ATOM    571  C   THR H  75      55.671   5.072 -46.899  1.00 23.39           C  \n",
      "ATOM    572  O   THR H  75      54.456   5.001 -47.083  1.00 23.16           O  \n",
      "ATOM    573  CB  THR H  75      56.708   6.909 -48.342  1.00 26.07           C  \n",
      "ATOM    574  OG1 THR H  75      57.674   6.024 -48.909  1.00 31.50           O  \n",
      "ATOM    575  CG2 THR H  75      57.218   8.333 -48.360  1.00 20.96           C  \n",
      "ATOM    576  N   SER H  76      56.443   3.996 -46.648  1.00 20.71           N  \n",
      "ATOM    577  CA  SER H  76      55.913   2.631 -46.555  1.00 21.13           C  \n",
      "ATOM    578  C   SER H  76      55.048   2.435 -45.308  1.00 24.29           C  \n",
      "ATOM    579  O   SER H  76      54.235   1.513 -45.272  1.00 24.02           O  \n",
      "ATOM    580  CB  SER H  76      57.041   1.607 -46.575  1.00 25.04           C  \n",
      "ATOM    581  OG  SER H  76      57.623   1.559 -47.865  1.00 38.32           O  \n",
      "ATOM    582  N   LYS H  77      55.223   3.305 -44.295  1.00 20.04           N  \n",
      "ATOM    583  CA  LYS H  77      54.467   3.269 -43.041  1.00 19.12           C  \n",
      "ATOM    584  C   LYS H  77      53.469   4.429 -42.934  1.00 21.01           C  \n",
      "ATOM    585  O   LYS H  77      52.755   4.527 -41.930  1.00 20.22           O  \n",
      "ATOM    586  CB  LYS H  77      55.420   3.238 -41.829  1.00 21.85           C  \n",
      "ATOM    587  CG  LYS H  77      56.174   1.919 -41.699  1.00 34.43           C  \n",
      "ATOM    588  CD  LYS H  77      56.877   1.777 -40.359  0.00 44.93           C  \n",
      "ATOM    589  CE  LYS H  77      56.714   0.392 -39.776  0.00 56.73           C  \n",
      "ATOM    590  NZ  LYS H  77      57.455  -0.647 -40.545  0.00 66.81           N  \n",
      "ATOM    591  N   ASN H  78      53.404   5.294 -43.976  1.00 16.53           N  \n",
      "ATOM    592  CA  ASN H  78      52.521   6.470 -44.046  1.00 15.51           C  \n",
      "ATOM    593  C   ASN H  78      52.730   7.349 -42.809  1.00 18.86           C  \n",
      "ATOM    594  O   ASN H  78      51.786   7.703 -42.093  1.00 18.34           O  \n",
      "ATOM    595  CB  ASN H  78      51.052   6.052 -44.230  1.00 16.62           C  \n",
      "ATOM    596  CG  ASN H  78      50.810   5.241 -45.472  1.00 33.94           C  \n",
      "ATOM    597  OD1 ASN H  78      50.971   5.721 -46.596  1.00 22.91           O  \n",
      "ATOM    598  ND2 ASN H  78      50.431   3.986 -45.295  1.00 30.37           N  \n",
      "ATOM    599  N   GLN H  79      54.006   7.643 -42.534  1.00 15.45           N  \n",
      "ATOM    600  CA  GLN H  79      54.420   8.413 -41.371  1.00 14.70           C  \n",
      "ATOM    601  C   GLN H  79      55.443   9.470 -41.715  1.00 18.26           C  \n",
      "ATOM    602  O   GLN H  79      56.292   9.262 -42.586  1.00 17.67           O  \n",
      "ATOM    603  CB  GLN H  79      54.981   7.480 -40.282  1.00 16.23           C  \n",
      "ATOM    604  CG  GLN H  79      53.894   6.707 -39.523  1.00 28.39           C  \n",
      "ATOM    605  CD  GLN H  79      54.426   5.551 -38.704  1.00 43.68           C  \n",
      "ATOM    606  OE1 GLN H  79      55.591   5.514 -38.297  1.00 37.09           O  \n",
      "ATOM    607  NE2 GLN H  79      53.567   4.580 -38.431  1.00 37.52           N  \n",
      "ATOM    608  N   VAL H  80      55.359  10.603 -41.009  1.00 14.47           N  \n",
      "ATOM    609  CA  VAL H  80      56.272  11.742 -41.104  1.00 14.30           C  \n",
      "ATOM    610  C   VAL H  80      56.628  12.090 -39.659  1.00 19.25           C  \n",
      "ATOM    611  O   VAL H  80      55.734  12.176 -38.813  1.00 19.17           O  \n",
      "ATOM    612  CB  VAL H  80      55.656  12.949 -41.871  1.00 17.15           C  \n",
      "ATOM    613  CG1 VAL H  80      56.537  14.195 -41.767  1.00 16.54           C  \n",
      "ATOM    614  CG2 VAL H  80      55.420  12.598 -43.332  1.00 16.97           C  \n",
      "ATOM    615  N   SER H  81      57.921  12.245 -39.370  1.00 16.05           N  \n",
      "ATOM    616  CA  SER H  81      58.354  12.558 -38.017  1.00 16.17           C  \n",
      "ATOM    617  C   SER H  81      59.069  13.901 -37.882  1.00 20.10           C  \n",
      "ATOM    618  O   SER H  81      59.669  14.391 -38.841  1.00 19.43           O  \n",
      "ATOM    619  CB  SER H  81      59.199  11.423 -37.448  1.00 20.88           C  \n",
      "ATOM    620  OG  SER H  81      58.386  10.280 -37.231  1.00 30.52           O  \n",
      "ATOM    621  N   LEU H  82      58.971  14.505 -36.692  1.00 16.70           N  \n",
      "ATOM    622  CA  LEU H  82      59.651  15.757 -36.379  1.00 16.51           C  \n",
      "ATOM    623  C   LEU H  82      60.413  15.604 -35.074  1.00 20.34           C  \n",
      "ATOM    624  O   LEU H  82      59.846  15.174 -34.064  1.00 19.64           O  \n",
      "ATOM    625  CB  LEU H  82      58.688  16.962 -36.329  1.00 16.26           C  \n",
      "ATOM    626  CG  LEU H  82      59.345  18.345 -36.117  1.00 20.87           C  \n",
      "ATOM    627  CD1 LEU H  82      60.156  18.785 -37.346  1.00 20.75           C  \n",
      "ATOM    628  CD2 LEU H  82      58.304  19.401 -35.773  1.00 22.40           C  \n",
      "ATOM    629  N   LYS H  83      61.709  15.933 -35.107  1.00 17.44           N  \n",
      "ATOM    630  CA  LYS H  83      62.572  15.867 -33.929  1.00 17.41           C  \n",
      "ATOM    631  C   LYS H  83      63.012  17.277 -33.562  1.00 20.45           C  \n",
      "ATOM    632  O   LYS H  83      63.520  18.001 -34.421  1.00 20.10           O  \n",
      "ATOM    633  CB  LYS H  83      63.781  14.943 -34.164  1.00 20.62           C  \n",
      "ATOM    634  CG  LYS H  83      63.403  13.486 -34.414  0.00 35.59           C  \n",
      "ATOM    635  CD  LYS H  83      64.087  12.537 -33.447  0.00 46.50           C  \n",
      "ATOM    636  CE  LYS H  83      63.696  11.105 -33.717  0.00 57.67           C  \n",
      "ATOM    637  NZ  LYS H  83      64.322  10.170 -32.747  0.00 67.62           N  \n",
      "ATOM    638  N   ILE H  84      62.769  17.685 -32.302  1.00 16.57           N  \n",
      "ATOM    639  CA  ILE H  84      63.140  19.014 -31.807  1.00 17.03           C  \n",
      "ATOM    640  C   ILE H  84      64.131  18.850 -30.654  1.00 21.33           C  \n",
      "ATOM    641  O   ILE H  84      63.756  18.336 -29.600  1.00 20.81           O  \n",
      "ATOM    642  CB  ILE H  84      61.915  19.908 -31.420  1.00 19.70           C  \n",
      "ATOM    643  CG1 ILE H  84      60.808  19.866 -32.512  1.00 19.79           C  \n",
      "ATOM    644  CG2 ILE H  84      62.376  21.352 -31.127  1.00 20.88           C  \n",
      "ATOM    645  CD1 ILE H  84      59.524  20.634 -32.211  1.00 26.52           C  \n",
      "ATOM    646  N   THR H  85      65.387  19.284 -30.853  1.00 18.72           N  \n",
      "ATOM    647  CA  THR H  85      66.431  19.169 -29.826  1.00 19.48           C  \n",
      "ATOM    648  C   THR H  85      66.431  20.354 -28.865  1.00 24.17           C  \n",
      "ATOM    649  O   THR H  85      65.923  21.425 -29.207  1.00 23.28           O  \n",
      "ATOM    650  CB  THR H  85      67.821  18.988 -30.454  1.00 24.58           C  \n",
      "ATOM    651  OG1 THR H  85      68.123  20.117 -31.274  1.00 23.86           O  \n",
      "ATOM    652  CG2 THR H  85      67.961  17.684 -31.228  1.00 21.82           C  \n",
      "ATOM    653  N   SER H  86      67.030  20.156 -27.666  1.00 21.62           N  \n",
      "ATOM    654  CA  SER H  86      67.208  21.156 -26.605  1.00 22.01           C  \n",
      "ATOM    655  C   SER H  86      65.938  21.979 -26.341  1.00 25.83           C  \n",
      "ATOM    656  O   SER H  86      65.963  23.212 -26.423  1.00 26.30           O  \n",
      "ATOM    657  CB  SER H  86      68.404  22.056 -26.915  1.00 24.73           C  \n",
      "ATOM    658  OG  SER H  86      69.550  21.303 -27.276  1.00 30.64           O  \n",
      "ATOM    659  N   VAL H  87      64.823  21.288 -26.052  1.00 21.29           N  \n",
      "ATOM    660  CA  VAL H  87      63.537  21.948 -25.801  1.00 20.50           C  \n",
      "ATOM    661  C   VAL H  87      63.523  22.795 -24.519  1.00 25.48           C  \n",
      "ATOM    662  O   VAL H  87      64.267  22.512 -23.579  1.00 25.21           O  \n",
      "ATOM    663  CB  VAL H  87      62.288  21.028 -25.937  1.00 23.19           C  \n",
      "ATOM    664  CG1 VAL H  87      62.192  20.423 -27.336  1.00 22.23           C  \n",
      "ATOM    665  CG2 VAL H  87      62.255  19.942 -24.859  1.00 23.15           C  \n",
      "ATOM    666  N   THR H  88      62.719  23.867 -24.520  1.00 22.60           N  \n",
      "ATOM    667  CA  THR H  88      62.527  24.772 -23.377  1.00 23.41           C  \n",
      "ATOM    668  C   THR H  88      61.022  25.019 -23.251  1.00 26.85           C  \n",
      "ATOM    669  O   THR H  88      60.263  24.572 -24.117  1.00 24.68           O  \n",
      "ATOM    670  CB  THR H  88      63.276  26.115 -23.568  1.00 31.84           C  \n",
      "ATOM    671  OG1 THR H  88      62.703  26.842 -24.657  1.00 32.02           O  \n",
      "ATOM    672  CG2 THR H  88      64.784  25.956 -23.748  1.00 31.31           C  \n",
      "ATOM    673  N   ALA H  89      60.595  25.769 -22.213  1.00 24.97           N  \n",
      "ATOM    674  CA  ALA H  89      59.192  26.143 -21.991  1.00 24.71           C  \n",
      "ATOM    675  C   ALA H  89      58.614  26.893 -23.209  1.00 27.85           C  \n",
      "ATOM    676  O   ALA H  89      57.406  26.852 -23.428  1.00 27.25           O  \n",
      "ATOM    677  CB  ALA H  89      59.071  26.998 -20.738  1.00 26.36           C  \n",
      "ATOM    678  N   ALA H  90      59.484  27.531 -24.025  1.00 24.68           N  \n",
      "ATOM    679  CA  ALA H  90      59.097  28.233 -25.255  1.00 24.14           C  \n",
      "ATOM    680  C   ALA H  90      58.585  27.264 -26.350  1.00 25.83           C  \n",
      "ATOM    681  O   ALA H  90      57.954  27.712 -27.311  1.00 25.50           O  \n",
      "ATOM    682  CB  ALA H  90      60.264  29.060 -25.778  1.00 25.56           C  \n",
      "ATOM    683  N   ASP H  91      58.843  25.946 -26.194  1.00 20.80           N  \n",
      "ATOM    684  CA  ASP H  91      58.405  24.898 -27.128  1.00 19.22           C  \n",
      "ATOM    685  C   ASP H  91      57.091  24.217 -26.702  1.00 21.33           C  \n",
      "ATOM    686  O   ASP H  91      56.596  23.324 -27.407  1.00 19.20           O  \n",
      "ATOM    687  CB  ASP H  91      59.528  23.876 -27.395  1.00 20.57           C  \n",
      "ATOM    688  CG  ASP H  91      60.778  24.501 -27.983  1.00 24.84           C  \n",
      "ATOM    689  OD1 ASP H  91      60.674  25.163 -29.041  1.00 23.43           O  \n",
      "ATOM    690  OD2 ASP H  91      61.856  24.339 -27.383  1.00 28.87           O  \n",
      "ATOM    691  N   THR H  92      56.511  24.659 -25.567  1.00 18.11           N  \n",
      "ATOM    692  CA  THR H  92      55.222  24.153 -25.090  1.00 17.52           C  \n",
      "ATOM    693  C   THR H  92      54.174  24.685 -26.062  1.00 20.74           C  \n",
      "ATOM    694  O   THR H  92      54.056  25.903 -26.229  1.00 20.67           O  \n",
      "ATOM    695  CB  THR H  92      54.967  24.565 -23.630  1.00 23.13           C  \n",
      "ATOM    696  OG1 THR H  92      55.887  23.869 -22.794  1.00 21.81           O  \n",
      "ATOM    697  CG2 THR H  92      53.540  24.276 -23.172  1.00 20.42           C  \n",
      "ATOM    698  N   ALA H  93      53.476  23.768 -26.753  1.00 16.78           N  \n",
      "ATOM    699  CA  ALA H  93      52.477  24.103 -27.774  1.00 16.02           C  \n",
      "ATOM    700  C   ALA H  93      51.717  22.876 -28.242  1.00 18.52           C  \n",
      "ATOM    701  O   ALA H  93      52.088  21.743 -27.925  1.00 18.18           O  \n",
      "ATOM    702  CB  ALA H  93      53.180  24.728 -28.988  1.00 16.61           C  \n",
      "ATOM    703  N   VAL H  94      50.674  23.109 -29.054  1.00 14.78           N  \n",
      "ATOM    704  CA  VAL H  94      49.944  22.047 -29.732  1.00 14.08           C  \n",
      "ATOM    705  C   VAL H  94      50.676  21.933 -31.076  1.00 17.68           C  \n",
      "ATOM    706  O   VAL H  94      50.900  22.948 -31.737  1.00 16.93           O  \n",
      "ATOM    707  CB  VAL H  94      48.430  22.346 -29.910  1.00 18.06           C  \n",
      "ATOM    708  CG1 VAL H  94      47.764  21.288 -30.790  1.00 17.56           C  \n",
      "ATOM    709  CG2 VAL H  94      47.724  22.426 -28.557  1.00 17.94           C  \n",
      "ATOM    710  N   TYR H  95      51.082  20.711 -31.449  1.00 14.75           N  \n",
      "ATOM    711  CA  TYR H  95      51.786  20.441 -32.694  1.00 14.02           C  \n",
      "ATOM    712  C   TYR H  95      50.845  19.784 -33.691  1.00 16.94           C  \n",
      "ATOM    713  O   TYR H  95      50.186  18.792 -33.366  1.00 15.91           O  \n",
      "ATOM    714  CB  TYR H  95      53.049  19.593 -32.435  1.00 14.73           C  \n",
      "ATOM    715  CG  TYR H  95      54.141  20.391 -31.756  1.00 15.71           C  \n",
      "ATOM    716  CD1 TYR H  95      54.128  20.599 -30.379  1.00 17.36           C  \n",
      "ATOM    717  CD2 TYR H  95      55.162  20.978 -32.494  1.00 16.60           C  \n",
      "ATOM    718  CE1 TYR H  95      55.102  21.379 -29.755  1.00 17.48           C  \n",
      "ATOM    719  CE2 TYR H  95      56.153  21.741 -31.879  1.00 17.62           C  \n",
      "ATOM    720  CZ  TYR H  95      56.118  21.941 -30.509  1.00 22.34           C  \n",
      "ATOM    721  OH  TYR H  95      57.088  22.708 -29.911  1.00 19.89           O  \n",
      "ATOM    722  N   PHE H  96      50.759  20.368 -34.898  1.00 12.86           N  \n",
      "ATOM    723  CA  PHE H  96      49.887  19.874 -35.959  1.00 12.49           C  \n",
      "ATOM    724  C   PHE H  96      50.672  19.437 -37.168  1.00 17.45           C  \n",
      "ATOM    725  O   PHE H  96      51.667  20.073 -37.526  1.00 17.03           O  \n",
      "ATOM    726  CB  PHE H  96      48.926  20.981 -36.456  1.00 13.64           C  \n",
      "ATOM    727  CG  PHE H  96      48.061  21.696 -35.450  1.00 14.83           C  \n",
      "ATOM    728  CD1 PHE H  96      46.945  21.075 -34.903  1.00 17.15           C  \n",
      "ATOM    729  CD2 PHE H  96      48.306  23.025 -35.120  1.00 16.52           C  \n",
      "ATOM    730  CE1 PHE H  96      46.118  21.754 -34.003  1.00 17.71           C  \n",
      "ATOM    731  CE2 PHE H  96      47.484  23.700 -34.214  1.00 19.23           C  \n",
      "ATOM    732  CZ  PHE H  96      46.395  23.062 -33.665  1.00 16.80           C  \n",
      "ATOM    733  N   CYS H  97      50.166  18.413 -37.861  1.00 14.93           N  \n",
      "ATOM    734  CA  CYS H  97      50.710  18.040 -39.152  1.00 15.12           C  \n",
      "ATOM    735  C   CYS H  97      49.626  18.271 -40.208  1.00 17.42           C  \n",
      "ATOM    736  O   CYS H  97      48.428  18.248 -39.896  1.00 16.54           O  \n",
      "ATOM    737  CB  CYS H  97      51.302  16.631 -39.185  1.00 15.93           C  \n",
      "ATOM    738  SG  CYS H  97      50.097  15.286 -39.058  1.00 20.11           S  \n",
      "ATOM    739  N   ALA H  98      50.043  18.630 -41.415  1.00 12.79           N  \n",
      "ATOM    740  CA  ALA H  98      49.114  18.928 -42.499  1.00 12.65           C  \n",
      "ATOM    741  C   ALA H  98      49.711  18.512 -43.826  1.00 16.00           C  \n",
      "ATOM    742  O   ALA H  98      50.929  18.508 -43.980  1.00 15.64           O  \n",
      "ATOM    743  CB  ALA H  98      48.768  20.417 -42.510  1.00 13.25           C  \n",
      "ATOM    744  N   ARG H  99      48.860  18.158 -44.781  1.00 13.24           N  \n",
      "ATOM    745  CA  ARG H  99      49.318  17.709 -46.086  1.00 13.29           C  \n",
      "ATOM    746  C   ARG H  99      48.925  18.649 -47.219  1.00 16.70           C  \n",
      "ATOM    747  O   ARG H  99      47.957  19.403 -47.100  1.00 14.57           O  \n",
      "ATOM    748  CB  ARG H  99      48.875  16.259 -46.349  1.00 14.16           C  \n",
      "ATOM    749  CG  ARG H  99      47.401  16.080 -46.679  1.00 20.05           C  \n",
      "ATOM    750  CD  ARG H  99      47.248  15.539 -48.081  1.00 20.95           C  \n",
      "ATOM    751  NE  ARG H  99      45.847  15.460 -48.495  1.00 22.06           N  \n",
      "ATOM    752  CZ  ARG H  99      45.451  15.046 -49.693  1.00 34.28           C  \n",
      "ATOM    753  NH1 ARG H  99      46.342  14.666 -50.600  1.00 25.25           N  \n",
      "ATOM    754  NH2 ARG H  99      44.160  15.006 -49.993  1.00 17.54           N  \n",
      "ATOM    755  N   ASN H 100      49.686  18.586 -48.325  1.00 13.80           N  \n",
      "ATOM    756  CA  ASN H 100      49.453  19.383 -49.522  1.00 13.77           C  \n",
      "ATOM    757  C   ASN H 100      49.902  18.609 -50.756  1.00 17.25           C  \n",
      "ATOM    758  O   ASN H 100      50.686  17.665 -50.642  1.00 15.69           O  \n",
      "ATOM    759  CB  ASN H 100      50.251  20.700 -49.436  1.00 13.74           C  \n",
      "ATOM    760  CG  ASN H 100      51.743  20.511 -49.598  1.00 26.39           C  \n",
      "ATOM    761  OD1 ASN H 100      52.444  20.079 -48.680  1.00 16.58           O  \n",
      "ATOM    762  ND2 ASN H 100      52.253  20.790 -50.787  1.00 19.59           N  \n",
      "ATOM    763  N   ARG H 101      49.447  19.044 -51.935  1.00 14.86           N  \n",
      "ATOM    764  CA  ARG H 101      49.923  18.511 -53.201  1.00 15.30           C  \n",
      "ATOM    765  C   ARG H 101      50.305  19.701 -54.072  1.00 20.66           C  \n",
      "ATOM    766  O   ARG H 101      49.498  20.616 -54.248  1.00 20.77           O  \n",
      "ATOM    767  CB  ARG H 101      48.922  17.580 -53.900  1.00 16.47           C  \n",
      "ATOM    768  CG  ARG H 101      49.629  16.721 -54.951  1.00 22.89           C  \n",
      "ATOM    769  CD  ARG H 101      48.711  15.798 -55.721  1.00 28.07           C  \n",
      "ATOM    770  NE  ARG H 101      49.464  15.034 -56.717  1.00 26.63           N  \n",
      "ATOM    771  CZ  ARG H 101      48.918  14.218 -57.612  1.00 40.49           C  \n",
      "ATOM    772  NH1 ARG H 101      47.603  14.038 -57.643  1.00 28.96           N  \n",
      "ATOM    773  NH2 ARG H 101      49.684  13.573 -58.483  1.00 26.13           N  \n",
      "ATOM    774  N   TYR H 102      51.550  19.697 -54.576  1.00 18.00           N  \n",
      "ATOM    775  CA  TYR H 102      52.172  20.728 -55.418  1.00 18.42           C  \n",
      "ATOM    776  C   TYR H 102      52.643  21.954 -54.638  1.00 22.37           C  \n",
      "ATOM    777  O   TYR H 102      52.311  22.114 -53.460  1.00 20.43           O  \n",
      "ATOM    778  CB  TYR H 102      51.331  21.101 -56.662  1.00 20.27           C  \n",
      "ATOM    779  CG  TYR H 102      50.855  19.909 -57.467  1.00 21.73           C  \n",
      "ATOM    780  CD1 TYR H 102      49.497  19.645 -57.621  1.00 24.03           C  \n",
      "ATOM    781  CD2 TYR H 102      51.763  19.029 -58.052  1.00 22.28           C  \n",
      "ATOM    782  CE1 TYR H 102      49.053  18.545 -58.352  1.00 25.98           C  \n",
      "ATOM    783  CE2 TYR H 102      51.331  17.918 -58.774  1.00 23.42           C  \n",
      "ATOM    784  CZ  TYR H 102      49.974  17.687 -58.931  1.00 31.75           C  \n",
      "ATOM    785  OH  TYR H 102      49.540  16.605 -59.655  1.00 34.12           O  \n",
      "ATOM    786  N   ASP H 103      53.458  22.789 -55.299  1.00 19.93           N  \n",
      "ATOM    787  CA  ASP H 103      54.083  23.980 -54.740  1.00 20.26           C  \n",
      "ATOM    788  C   ASP H 103      53.467  25.247 -55.373  1.00 25.11           C  \n",
      "ATOM    789  O   ASP H 103      53.330  25.291 -56.599  1.00 25.67           O  \n",
      "ATOM    790  CB  ASP H 103      55.607  23.903 -54.989  1.00 22.35           C  \n",
      "ATOM    791  CG  ASP H 103      56.462  24.901 -54.233  1.00 33.74           C  \n",
      "ATOM    792  OD1 ASP H 103      56.169  25.161 -53.049  1.00 32.53           O  \n",
      "ATOM    793  OD2 ASP H 103      57.482  25.352 -54.797  1.00 44.38           O  \n",
      "ATOM    794  N   PRO H 104      53.049  26.275 -54.596  1.00 21.26           N  \n",
      "ATOM    795  CA  PRO H 104      53.107  26.422 -53.128  1.00 20.39           C  \n",
      "ATOM    796  C   PRO H 104      52.121  25.511 -52.382  1.00 23.04           C  \n",
      "ATOM    797  O   PRO H 104      51.149  25.049 -52.989  1.00 22.04           O  \n",
      "ATOM    798  CB  PRO H 104      52.772  27.906 -52.924  1.00 22.52           C  \n",
      "ATOM    799  CG  PRO H 104      51.869  28.224 -54.052  1.00 27.42           C  \n",
      "ATOM    800  CD  PRO H 104      52.442  27.469 -55.218  1.00 23.38           C  \n",
      "ATOM    801  N   PRO H 105      52.336  25.250 -51.075  1.00 19.55           N  \n",
      "ATOM    802  CA  PRO H 105      51.423  24.352 -50.362  1.00 18.88           C  \n",
      "ATOM    803  C   PRO H 105      50.091  24.972 -49.958  1.00 21.52           C  \n",
      "ATOM    804  O   PRO H 105      50.045  26.034 -49.334  1.00 20.59           O  \n",
      "ATOM    805  CB  PRO H 105      52.232  23.934 -49.133  1.00 20.43           C  \n",
      "ATOM    806  CG  PRO H 105      53.102  25.098 -48.859  1.00 25.47           C  \n",
      "ATOM    807  CD  PRO H 105      53.447  25.686 -50.199  1.00 21.31           C  \n",
      "ATOM    808  N   TRP H 106      49.008  24.291 -50.318  1.00 17.58           N  \n",
      "ATOM    809  CA  TRP H 106      47.667  24.636 -49.871  1.00 17.22           C  \n",
      "ATOM    810  C   TRP H 106      47.391  23.495 -48.896  1.00 18.80           C  \n",
      "ATOM    811  O   TRP H 106      47.194  22.357 -49.331  1.00 17.41           O  \n",
      "ATOM    812  CB  TRP H 106      46.636  24.653 -51.025  1.00 16.66           C  \n",
      "ATOM    813  CG  TRP H 106      47.067  25.339 -52.293  1.00 18.02           C  \n",
      "ATOM    814  CD1 TRP H 106      47.055  24.807 -53.549  1.00 21.29           C  \n",
      "ATOM    815  CD2 TRP H 106      47.509  26.700 -52.438  1.00 18.10           C  \n",
      "ATOM    816  NE1 TRP H 106      47.479  25.740 -54.465  1.00 21.15           N  \n",
      "ATOM    817  CE2 TRP H 106      47.763  26.913 -53.812  1.00 22.58           C  \n",
      "ATOM    818  CE3 TRP H 106      47.733  27.758 -51.538  1.00 19.00           C  \n",
      "ATOM    819  CZ2 TRP H 106      48.230  28.136 -54.307  1.00 22.35           C  \n",
      "ATOM    820  CZ3 TRP H 106      48.191  28.972 -52.031  1.00 21.01           C  \n",
      "ATOM    821  CH2 TRP H 106      48.436  29.152 -53.398  1.00 22.28           C  \n",
      "ATOM    822  N   PHE H 107      47.519  23.757 -47.584  1.00 14.99           N  \n",
      "ATOM    823  CA  PHE H 107      47.329  22.700 -46.579  1.00 13.95           C  \n",
      "ATOM    824  C   PHE H 107      45.862  22.243 -46.498  1.00 18.15           C  \n",
      "ATOM    825  O   PHE H 107      45.077  22.748 -45.694  1.00 17.15           O  \n",
      "ATOM    826  CB  PHE H 107      47.959  23.074 -45.230  1.00 14.59           C  \n",
      "ATOM    827  CG  PHE H 107      49.462  23.206 -45.302  1.00 15.33           C  \n",
      "ATOM    828  CD1 PHE H 107      50.273  22.079 -45.414  1.00 17.50           C  \n",
      "ATOM    829  CD2 PHE H 107      50.070  24.456 -45.261  1.00 17.31           C  \n",
      "ATOM    830  CE1 PHE H 107      51.664  22.202 -45.489  1.00 18.78           C  \n",
      "ATOM    831  CE2 PHE H 107      51.462  24.577 -45.326  1.00 20.02           C  \n",
      "ATOM    832  CZ  PHE H 107      52.250  23.451 -45.444  1.00 18.09           C  \n",
      "ATOM    833  N   VAL H 108      45.509  21.303 -47.403  1.00 15.77           N  \n",
      "ATOM    834  CA  VAL H 108      44.169  20.732 -47.623  1.00 15.73           C  \n",
      "ATOM    835  C   VAL H 108      43.582  19.919 -46.476  1.00 19.31           C  \n",
      "ATOM    836  O   VAL H 108      42.357  19.848 -46.361  1.00 19.52           O  \n",
      "ATOM    837  CB  VAL H 108      44.037  19.971 -48.976  1.00 19.85           C  \n",
      "ATOM    838  CG1 VAL H 108      44.074  20.928 -50.162  1.00 20.58           C  \n",
      "ATOM    839  CG2 VAL H 108      45.091  18.872 -49.121  1.00 19.21           C  \n",
      "ATOM    840  N   ASP H 109      44.432  19.244 -45.686  1.00 15.58           N  \n",
      "ATOM    841  CA  ASP H 109      43.990  18.398 -44.574  1.00 15.01           C  \n",
      "ATOM    842  C   ASP H 109      44.953  18.561 -43.412  1.00 19.05           C  \n",
      "ATOM    843  O   ASP H 109      46.168  18.567 -43.625  1.00 18.61           O  \n",
      "ATOM    844  CB  ASP H 109      43.922  16.913 -44.988  1.00 16.48           C  \n",
      "ATOM    845  CG  ASP H 109      42.999  16.602 -46.152  1.00 22.76           C  \n",
      "ATOM    846  OD1 ASP H 109      41.769  16.544 -45.936  1.00 22.63           O  \n",
      "ATOM    847  OD2 ASP H 109      43.511  16.381 -47.269  1.00 21.86           O  \n",
      "ATOM    848  N   TRP H 110      44.407  18.697 -42.191  1.00 14.72           N  \n",
      "ATOM    849  CA  TRP H 110      45.169  18.892 -40.956  1.00 13.88           C  \n",
      "ATOM    850  C   TRP H 110      44.751  17.858 -39.917  1.00 16.95           C  \n",
      "ATOM    851  O   TRP H 110      43.594  17.435 -39.890  1.00 15.36           O  \n",
      "ATOM    852  CB  TRP H 110      44.864  20.286 -40.361  1.00 12.65           C  \n",
      "ATOM    853  CG  TRP H 110      45.325  21.467 -41.169  1.00 13.54           C  \n",
      "ATOM    854  CD1 TRP H 110      44.893  21.837 -42.410  1.00 16.66           C  \n",
      "ATOM    855  CD2 TRP H 110      46.214  22.502 -40.730  1.00 13.37           C  \n",
      "ATOM    856  NE1 TRP H 110      45.506  23.007 -42.797  1.00 15.99           N  \n",
      "ATOM    857  CE2 TRP H 110      46.308  23.448 -41.777  1.00 17.31           C  \n",
      "ATOM    858  CE3 TRP H 110      46.938  22.730 -39.544  1.00 14.32           C  \n",
      "ATOM    859  CZ2 TRP H 110      47.124  24.585 -41.690  1.00 16.75           C  \n",
      "ATOM    860  CZ3 TRP H 110      47.736  23.863 -39.454  1.00 15.71           C  \n",
      "ATOM    861  CH2 TRP H 110      47.816  24.779 -40.513  1.00 16.50           C  \n",
      "ATOM    862  N   GLY H 111      45.672  17.513 -39.028  1.00 14.18           N  \n",
      "ATOM    863  CA  GLY H 111      45.363  16.636 -37.910  1.00 14.19           C  \n",
      "ATOM    864  C   GLY H 111      44.787  17.463 -36.774  1.00 18.27           C  \n",
      "ATOM    865  O   GLY H 111      44.839  18.701 -36.810  1.00 17.38           O  \n",
      "ATOM    866  N   GLN H 112      44.241  16.794 -35.751  1.00 15.18           N  \n",
      "ATOM    867  CA  GLN H 112      43.656  17.483 -34.598  1.00 15.27           C  \n",
      "ATOM    868  C   GLN H 112      44.702  18.086 -33.644  1.00 18.81           C  \n",
      "ATOM    869  O   GLN H 112      44.371  18.964 -32.847  1.00 18.15           O  \n",
      "ATOM    870  CB  GLN H 112      42.653  16.583 -33.868  1.00 16.82           C  \n",
      "ATOM    871  CG  GLN H 112      41.324  16.479 -34.619  1.00 30.15           C  \n",
      "ATOM    872  CD  GLN H 112      40.248  15.809 -33.807  1.00 54.01           C  \n",
      "ATOM    873  OE1 GLN H 112      39.923  14.636 -34.014  1.00 51.68           O  \n",
      "ATOM    874  NE2 GLN H 112      39.653  16.548 -32.882  1.00 47.52           N  \n",
      "ATOM    875  N   GLY H 113      45.944  17.619 -33.755  1.00 14.82           N  \n",
      "ATOM    876  CA  GLY H 113      47.063  18.109 -32.965  1.00 14.61           C  \n",
      "ATOM    877  C   GLY H 113      47.400  17.301 -31.735  1.00 18.98           C  \n",
      "ATOM    878  O   GLY H 113      46.564  16.555 -31.217  1.00 18.80           O  \n",
      "ATOM    879  N   THR H 114      48.643  17.451 -31.269  1.00 16.12           N  \n",
      "ATOM    880  CA  THR H 114      49.121  16.821 -30.044  1.00 16.06           C  \n",
      "ATOM    881  C   THR H 114      49.746  17.875 -29.133  1.00 18.93           C  \n",
      "ATOM    882  O   THR H 114      50.573  18.675 -29.578  1.00 17.87           O  \n",
      "ATOM    883  CB  THR H 114      49.984  15.566 -30.298  1.00 21.99           C  \n",
      "ATOM    884  OG1 THR H 114      50.166  14.894 -29.052  1.00 22.75           O  \n",
      "ATOM    885  CG2 THR H 114      51.357  15.880 -30.912  1.00 18.73           C  \n",
      "ATOM    886  N   LEU H 115      49.316  17.902 -27.871  1.00 16.21           N  \n",
      "ATOM    887  CA  LEU H 115      49.850  18.858 -26.912  1.00 16.10           C  \n",
      "ATOM    888  C   LEU H 115      51.177  18.368 -26.341  1.00 20.19           C  \n",
      "ATOM    889  O   LEU H 115      51.292  17.209 -25.928  1.00 20.22           O  \n",
      "ATOM    890  CB  LEU H 115      48.831  19.156 -25.789  1.00 16.13           C  \n",
      "ATOM    891  CG  LEU H 115      49.287  20.100 -24.654  1.00 20.73           C  \n",
      "ATOM    892  CD1 LEU H 115      49.454  21.545 -25.143  1.00 21.16           C  \n",
      "ATOM    893  CD2 LEU H 115      48.316  20.058 -23.497  1.00 22.06           C  \n",
      "ATOM    894  N   VAL H 116      52.178  19.257 -26.335  1.00 16.67           N  \n",
      "ATOM    895  CA  VAL H 116      53.497  18.994 -25.763  1.00 17.11           C  \n",
      "ATOM    896  C   VAL H 116      53.738  20.028 -24.667  1.00 20.57           C  \n",
      "ATOM    897  O   VAL H 116      53.688  21.230 -24.940  1.00 19.83           O  \n",
      "ATOM    898  CB  VAL H 116      54.646  18.996 -26.813  1.00 21.10           C  \n",
      "ATOM    899  CG1 VAL H 116      56.004  18.812 -26.140  1.00 21.78           C  \n",
      "ATOM    900  CG2 VAL H 116      54.432  17.925 -27.874  1.00 20.61           C  \n",
      "ATOM    901  N   THR H 117      53.982  19.559 -23.430  1.00 17.06           N  \n",
      "ATOM    902  CA  THR H 117      54.307  20.423 -22.297  1.00 17.07           C  \n",
      "ATOM    903  C   THR H 117      55.782  20.203 -21.981  1.00 21.13           C  \n",
      "ATOM    904  O   THR H 117      56.204  19.064 -21.794  1.00 21.03           O  \n",
      "ATOM    905  CB  THR H 117      53.393  20.135 -21.080  1.00 22.86           C  \n",
      "ATOM    906  OG1 THR H 117      52.038  20.421 -21.432  1.00 21.63           O  \n",
      "ATOM    907  CG2 THR H 117      53.776  20.958 -19.841  1.00 21.53           C  \n",
      "ATOM    908  N   VAL H 118      56.564  21.283 -21.946  1.00 18.75           N  \n",
      "ATOM    909  CA  VAL H 118      57.982  21.200 -21.595  1.00 19.46           C  \n",
      "ATOM    910  C   VAL H 118      58.110  21.649 -20.140  1.00 24.75           C  \n",
      "ATOM    911  O   VAL H 118      57.933  22.831 -19.840  1.00 24.65           O  \n",
      "ATOM    912  CB  VAL H 118      58.929  21.958 -22.562  1.00 23.04           C  \n",
      "ATOM    913  CG1 VAL H 118      60.387  21.791 -22.138  1.00 23.52           C  \n",
      "ATOM    914  CG2 VAL H 118      58.740  21.488 -24.005  1.00 22.20           C  \n",
      "ATOM    915  N   SER H 119      58.354  20.686 -19.235  1.00 22.70           N  \n",
      "ATOM    916  CA  SER H 119      58.451  20.936 -17.795  1.00 23.40           C  \n",
      "ATOM    917  C   SER H 119      59.276  19.873 -17.072  1.00 28.26           C  \n",
      "ATOM    918  O   SER H 119      59.322  18.720 -17.508  1.00 27.14           O  \n",
      "ATOM    919  CB  SER H 119      57.052  20.999 -17.180  1.00 25.95           C  \n",
      "ATOM    920  OG  SER H 119      57.085  21.258 -15.785  1.00 32.32           O  \n",
      "ATOM    921  N   SER H 120      59.895  20.266 -15.941  1.00 26.40           N  \n",
      "ATOM    922  CA  SER H 120      60.672  19.384 -15.068  1.00 27.65           C  \n",
      "ATOM    923  C   SER H 120      59.746  18.678 -14.067  1.00 31.49           C  \n",
      "ATOM    924  O   SER H 120      60.147  17.674 -13.470  1.00 31.82           O  \n",
      "ATOM    925  CB  SER H 120      61.730  20.180 -14.308  1.00 32.75           C  \n",
      "ATOM    926  OG  SER H 120      62.780  20.592 -15.167  1.00 45.09           O  \n",
      "ATOM    927  N   ALA H1008      58.516  19.210 -13.883  1.00 27.67           N  \n",
      "ATOM    928  CA  ALA H1008      57.510  18.684 -12.954  1.00 27.37           C  \n",
      "ATOM    929  C   ALA H1008      57.068  17.263 -13.289  1.00 30.46           C  \n",
      "ATOM    930  O   ALA H1008      56.981  16.892 -14.462  1.00 29.51           O  \n",
      "ATOM    931  CB  ALA H1008      56.311  19.615 -12.878  1.00 27.57           C  \n",
      "ATOM    932  N   SER H1009      56.823  16.464 -12.245  1.00 27.24           N  \n",
      "ATOM    933  CA  SER H1009      56.417  15.067 -12.365  1.00 26.52           C  \n",
      "ATOM    934  C   SER H1009      54.937  14.911 -12.683  1.00 28.30           C  \n",
      "ATOM    935  O   SER H1009      54.131  15.784 -12.355  1.00 26.98           O  \n",
      "ATOM    936  CB  SER H1009      56.766  14.303 -11.093  1.00 31.22           C  \n",
      "ATOM    937  OG  SER H1009      58.171  14.141 -10.985  1.00 41.65           O  \n",
      "ATOM    938  N   THR H1010      54.587  13.786 -13.324  1.00 23.99           N  \n",
      "ATOM    939  CA  THR H1010      53.211  13.451 -13.668  1.00 22.63           C  \n",
      "ATOM    940  C   THR H1010      52.435  13.097 -12.389  1.00 25.70           C  \n",
      "ATOM    941  O   THR H1010      52.978  12.435 -11.498  1.00 25.85           O  \n",
      "ATOM    942  CB  THR H1010      53.186  12.352 -14.736  1.00 30.30           C  \n",
      "ATOM    943  OG1 THR H1010      53.957  12.790 -15.856  1.00 29.56           O  \n",
      "ATOM    944  CG2 THR H1010      51.786  12.034 -15.212  1.00 29.26           C  \n",
      "ATOM    945  N   LYS H1011      51.183  13.575 -12.289  1.00 20.92           N  \n",
      "ATOM    946  CA  LYS H1011      50.317  13.324 -11.141  1.00 20.76           C  \n",
      "ATOM    947  C   LYS H1011      48.879  13.152 -11.599  1.00 23.57           C  \n",
      "ATOM    948  O   LYS H1011      48.362  13.988 -12.337  1.00 22.36           O  \n",
      "ATOM    949  CB  LYS H1011      50.418  14.468 -10.111  1.00 23.76           C  \n",
      "ATOM    950  CG  LYS H1011      49.746  14.147  -8.775  1.00 33.21           C  \n",
      "ATOM    951  CD  LYS H1011      49.561  15.381  -7.904  1.00 43.50           C  \n",
      "ATOM    952  CE  LYS H1011      48.846  15.067  -6.608  1.00 53.19           C  \n",
      "ATOM    953  NZ  LYS H1011      47.396  14.795  -6.814  1.00 63.07           N  \n",
      "ATOM    954  N   GLY H1012      48.247  12.079 -11.137  1.00 20.25           N  \n",
      "ATOM    955  CA  GLY H1012      46.856  11.780 -11.444  1.00 19.81           C  \n",
      "ATOM    956  C   GLY H1012      45.885  12.608 -10.627  1.00 24.35           C  \n",
      "ATOM    957  O   GLY H1012      46.207  13.007  -9.504  1.00 24.69           O  \n",
      "ATOM    958  N   PRO H1013      44.667  12.872 -11.146  1.00 21.18           N  \n",
      "ATOM    959  CA  PRO H1013      43.717  13.680 -10.377  1.00 21.23           C  \n",
      "ATOM    960  C   PRO H1013      42.854  12.893  -9.405  1.00 25.26           C  \n",
      "ATOM    961  O   PRO H1013      42.733  11.670  -9.497  1.00 24.54           O  \n",
      "ATOM    962  CB  PRO H1013      42.829  14.282 -11.464  1.00 22.46           C  \n",
      "ATOM    963  CG  PRO H1013      42.787  13.228 -12.528  1.00 26.42           C  \n",
      "ATOM    964  CD  PRO H1013      44.103  12.484 -12.458  1.00 22.16           C  \n",
      "ATOM    965  N   SER H1014      42.206  13.633  -8.507  1.00 22.47           N  \n",
      "ATOM    966  CA  SER H1014      41.183  13.138  -7.607  1.00 22.65           C  \n",
      "ATOM    967  C   SER H1014      39.895  13.610  -8.281  1.00 25.13           C  \n",
      "ATOM    968  O   SER H1014      39.882  14.695  -8.871  1.00 24.50           O  \n",
      "ATOM    969  CB  SER H1014      41.334  13.766  -6.227  1.00 27.67           C  \n",
      "ATOM    970  OG  SER H1014      42.468  13.236  -5.561  1.00 38.14           O  \n",
      "ATOM    971  N   VAL H1015      38.848  12.777  -8.283  1.00 20.38           N  \n",
      "ATOM    972  CA  VAL H1015      37.591  13.137  -8.942  1.00 19.15           C  \n",
      "ATOM    973  C   VAL H1015      36.473  13.171  -7.905  1.00 23.10           C  \n",
      "ATOM    974  O   VAL H1015      36.255  12.178  -7.212  1.00 22.50           O  \n",
      "ATOM    975  CB  VAL H1015      37.275  12.235 -10.170  1.00 21.89           C  \n",
      "ATOM    976  CG1 VAL H1015      35.931  12.595 -10.800  1.00 21.15           C  \n",
      "ATOM    977  CG2 VAL H1015      38.390  12.308 -11.214  1.00 21.30           C  \n",
      "ATOM    978  N   PHE H1016      35.797  14.324  -7.776  1.00 19.85           N  \n",
      "ATOM    979  CA  PHE H1016      34.722  14.498  -6.800  1.00 20.40           C  \n",
      "ATOM    980  C   PHE H1016      33.389  14.819  -7.476  1.00 25.00           C  \n",
      "ATOM    981  O   PHE H1016      33.375  15.566  -8.455  1.00 23.25           O  \n",
      "ATOM    982  CB  PHE H1016      35.079  15.590  -5.770  1.00 22.74           C  \n",
      "ATOM    983  CG  PHE H1016      36.446  15.445  -5.139  1.00 24.80           C  \n",
      "ATOM    984  CD1 PHE H1016      36.710  14.420  -4.236  1.00 28.37           C  \n",
      "ATOM    985  CD2 PHE H1016      37.469  16.335  -5.444  1.00 27.00           C  \n",
      "ATOM    986  CE1 PHE H1016      37.978  14.276  -3.668  1.00 29.80           C  \n",
      "ATOM    987  CE2 PHE H1016      38.732  16.201  -4.861  1.00 30.33           C  \n",
      "ATOM    988  CZ  PHE H1016      38.973  15.182  -3.964  1.00 28.83           C  \n",
      "ATOM    989  N   PRO H1017      32.251  14.294  -6.967  1.00 23.16           N  \n",
      "ATOM    990  CA  PRO H1017      30.968  14.626  -7.595  1.00 22.98           C  \n",
      "ATOM    991  C   PRO H1017      30.453  16.013  -7.201  1.00 28.13           C  \n",
      "ATOM    992  O   PRO H1017      30.684  16.474  -6.079  1.00 28.48           O  \n",
      "ATOM    993  CB  PRO H1017      30.036  13.518  -7.097  1.00 24.95           C  \n",
      "ATOM    994  CG  PRO H1017      30.594  13.115  -5.779  1.00 29.91           C  \n",
      "ATOM    995  CD  PRO H1017      32.075  13.385  -5.811  1.00 25.46           C  \n",
      "ATOM    996  N   LEU H1018      29.766  16.678  -8.141  1.00 24.73           N  \n",
      "ATOM    997  CA  LEU H1018      29.101  17.960  -7.919  1.00 25.06           C  \n",
      "ATOM    998  C   LEU H1018      27.624  17.581  -7.956  1.00 29.94           C  \n",
      "ATOM    999  O   LEU H1018      27.003  17.574  -9.020  1.00 28.63           O  \n",
      "ATOM   1000  CB  LEU H1018      29.455  19.003  -9.009  1.00 24.69           C  \n",
      "ATOM   1001  CG  LEU H1018      30.916  19.462  -9.107  1.00 28.82           C  \n",
      "ATOM   1002  CD1 LEU H1018      31.189  20.114 -10.443  1.00 28.59           C  \n",
      "ATOM   1003  CD2 LEU H1018      31.266  20.435  -8.010  1.00 31.39           C  \n",
      "ATOM   1004  N   ALA H1019      27.105  17.142  -6.798  1.00 28.54           N  \n",
      "ATOM   1005  CA  ALA H1019      25.742  16.643  -6.639  1.00 29.09           C  \n",
      "ATOM   1006  C   ALA H1019      24.665  17.683  -6.965  1.00 33.91           C  \n",
      "ATOM   1007  O   ALA H1019      24.815  18.847  -6.580  1.00 33.07           O  \n",
      "ATOM   1008  CB  ALA H1019      25.545  16.098  -5.230  1.00 30.38           C  \n",
      "ATOM   1009  N   PRO H1020      23.577  17.297  -7.680  1.00 32.18           N  \n",
      "ATOM   1010  CA  PRO H1020      22.514  18.277  -7.969  1.00 33.25           C  \n",
      "ATOM   1011  C   PRO H1020      21.770  18.676  -6.692  1.00 40.17           C  \n",
      "ATOM   1012  O   PRO H1020      21.543  17.829  -5.821  1.00 39.84           O  \n",
      "ATOM   1013  CB  PRO H1020      21.613  17.548  -8.970  1.00 34.88           C  \n",
      "ATOM   1014  CG  PRO H1020      21.832  16.103  -8.697  1.00 38.80           C  \n",
      "ATOM   1015  CD  PRO H1020      23.244  15.959  -8.217  1.00 33.81           C  \n",
      "ATOM   1016  N   SER H1021      21.452  19.975  -6.561  1.00 39.17           N  \n",
      "ATOM   1017  CA  SER H1021      20.770  20.553  -5.398  1.00 40.41           C  \n",
      "ATOM   1018  C   SER H1021      19.359  19.989  -5.204  1.00 45.69           C  \n",
      "ATOM   1019  O   SER H1021      18.711  19.608  -6.182  1.00 45.37           O  \n",
      "ATOM   1020  CB  SER H1021      20.719  22.074  -5.516  1.00 44.24           C  \n",
      "ATOM   1021  OG  SER H1021      20.172  22.679  -4.356  1.00 53.62           O  \n",
      "ATOM   1022  N   SER H1022      18.890  19.951  -3.936  0.00 43.54           N  \n",
      "ATOM   1023  CA  SER H1022      17.558  19.471  -3.543  0.00 44.19           C  \n",
      "ATOM   1024  C   SER H1022      16.447  20.317  -4.173  0.00 49.29           C  \n",
      "ATOM   1025  O   SER H1022      15.350  19.809  -4.415  0.00 49.09           O  \n",
      "ATOM   1026  CB  SER H1022      17.417  19.471  -2.024  0.00 48.27           C  \n",
      "ATOM   1027  OG  SER H1022      18.358  18.602  -1.416  0.00 56.85           O  \n",
      "ATOM   1028  N   LYS H1023      16.745  21.601  -4.446  0.00 46.68           N  \n",
      "ATOM   1029  CA  LYS H1023      15.839  22.560  -5.075  0.00 47.27           C  \n",
      "ATOM   1030  C   LYS H1023      16.519  23.315  -6.234  0.00 51.70           C  \n",
      "ATOM   1031  O   LYS H1023      16.796  24.514  -6.137  0.00 51.46           O  \n",
      "ATOM   1032  CB  LYS H1023      15.161  23.492  -4.040  0.00 50.58           C  \n",
      "ATOM   1033  CG  LYS H1023      16.074  24.024  -2.926  0.00 65.34           C  \n",
      "ATOM   1034  CD  LYS H1023      16.307  25.538  -3.009  0.00 75.91           C  \n",
      "ATOM   1035  CE  LYS H1023      15.247  26.365  -2.314  0.00 87.86           C  \n",
      "ATOM   1036  NZ  LYS H1023      15.360  26.291  -0.833  0.00 97.50           N  \n",
      "ATOM   1037  N   SER H1024      16.806  22.587  -7.331  0.00 48.53           N  \n",
      "ATOM   1038  CA  SER H1024      17.423  23.155  -8.532  0.00 48.39           C  \n",
      "ATOM   1039  C   SER H1024      16.352  23.935  -9.308  0.00 52.97           C  \n",
      "ATOM   1040  O   SER H1024      16.526  25.132  -9.535  0.00 52.71           O  \n",
      "ATOM   1041  CB  SER H1024      18.055  22.061  -9.389  1.00 51.95           C  \n",
      "ATOM   1042  OG  SER H1024      19.443  22.282  -9.589  1.00 60.23           O  \n",
      "ATOM   1043  N   THR H1025      15.236  23.248  -9.674  0.00 50.04           N  \n",
      "ATOM   1044  CA  THR H1025      14.004  23.710 -10.344  0.00 50.58           C  \n",
      "ATOM   1045  C   THR H1025      13.070  22.486 -10.443  0.00 53.75           C  \n",
      "ATOM   1046  O   THR H1025      13.241  21.670 -11.351  0.00 52.94           O  \n",
      "ATOM   1047  CB  THR H1025      14.248  24.373 -11.738  1.00 62.27           C  \n",
      "ATOM   1048  OG1 THR H1025      15.185  25.444 -11.628  1.00 63.92           O  \n",
      "ATOM   1049  CG2 THR H1025      12.962  24.925 -12.357  1.00 62.14           C  \n",
      "ATOM   1050  N   SER H1026      12.109  22.347  -9.500  0.00 50.25           N  \n",
      "ATOM   1051  CA  SER H1026      11.158  21.225  -9.474  0.00 50.03           C  \n",
      "ATOM   1052  C   SER H1026      10.258  21.250 -10.714  0.00 53.50           C  \n",
      "ATOM   1053  O   SER H1026       9.432  22.152 -10.871  0.00 53.71           O  \n",
      "ATOM   1054  CB  SER H1026      10.335  21.233  -8.188  0.00 54.17           C  \n",
      "ATOM   1055  OG  SER H1026       9.542  20.063  -8.079  0.00 63.23           O  \n",
      "ATOM   1056  N   GLY H1027      10.478  20.281 -11.599  0.00 49.12           N  \n",
      "ATOM   1057  CA  GLY H1027       9.776  20.173 -12.872  0.00 49.02           C  \n",
      "ATOM   1058  C   GLY H1027      10.372  21.111 -13.904  0.00 51.88           C  \n",
      "ATOM   1059  O   GLY H1027       9.644  21.696 -14.711  0.00 52.02           O  \n",
      "ATOM   1060  N   GLY H1028      11.698  21.259 -13.852  1.00 47.04           N  \n",
      "ATOM   1061  CA  GLY H1028      12.470  22.121 -14.738  1.00 45.88           C  \n",
      "ATOM   1062  C   GLY H1028      13.838  21.564 -15.074  1.00 46.91           C  \n",
      "ATOM   1063  O   GLY H1028      13.942  20.426 -15.536  1.00 46.22           O  \n",
      "ATOM   1064  N   THR H1029      14.899  22.369 -14.844  1.00 41.53           N  \n",
      "ATOM   1065  CA  THR H1029      16.290  22.011 -15.150  1.00 39.57           C  \n",
      "ATOM   1066  C   THR H1029      17.168  21.912 -13.894  1.00 40.12           C  \n",
      "ATOM   1067  O   THR H1029      17.133  22.798 -13.040  1.00 39.75           O  \n",
      "ATOM   1068  CB  THR H1029      16.869  22.989 -16.199  1.00 48.82           C  \n",
      "ATOM   1069  OG1 THR H1029      15.960  23.102 -17.294  1.00 50.74           O  \n",
      "ATOM   1070  CG2 THR H1029      18.233  22.557 -16.728  1.00 47.41           C  \n",
      "ATOM   1071  N   ALA H1030      17.973  20.838 -13.814  1.00 34.37           N  \n",
      "ATOM   1072  CA  ALA H1030      18.918  20.570 -12.731  1.00 32.79           C  \n",
      "ATOM   1073  C   ALA H1030      20.341  20.482 -13.283  1.00 33.76           C  \n",
      "ATOM   1074  O   ALA H1030      20.541  19.981 -14.391  1.00 33.13           O  \n",
      "ATOM   1075  CB  ALA H1030      18.555  19.270 -12.033  1.00 33.56           C  \n",
      "ATOM   1076  N   ALA H1031      21.327  20.965 -12.514  1.00 27.51           N  \n",
      "ATOM   1077  CA  ALA H1031      22.728  20.911 -12.924  1.00 25.51           C  \n",
      "ATOM   1078  C   ALA H1031      23.544  20.038 -11.984  1.00 27.22           C  \n",
      "ATOM   1079  O   ALA H1031      23.352  20.072 -10.768  1.00 26.15           O  \n",
      "ATOM   1080  CB  ALA H1031      23.319  22.308 -13.004  1.00 26.12           C  \n",
      "ATOM   1081  N   LEU H1032      24.446  19.242 -12.564  1.00 22.77           N  \n",
      "ATOM   1082  CA  LEU H1032      25.341  18.338 -11.842  1.00 21.79           C  \n",
      "ATOM   1083  C   LEU H1032      26.679  18.248 -12.575  1.00 23.32           C  \n",
      "ATOM   1084  O   LEU H1032      26.775  18.669 -13.727  1.00 21.79           O  \n",
      "ATOM   1085  CB  LEU H1032      24.700  16.942 -11.657  1.00 22.28           C  \n",
      "ATOM   1086  CG  LEU H1032      24.263  16.196 -12.917  1.00 27.49           C  \n",
      "ATOM   1087  CD1 LEU H1032      25.201  15.049 -13.215  1.00 27.37           C  \n",
      "ATOM   1088  CD2 LEU H1032      22.853  15.674 -12.770  1.00 31.40           C  \n",
      "ATOM   1089  N   GLY H1033      27.693  17.705 -11.914  1.00 19.44           N  \n",
      "ATOM   1090  CA  GLY H1033      29.000  17.572 -12.538  1.00 18.70           C  \n",
      "ATOM   1091  C   GLY H1033      30.041  16.814 -11.751  1.00 21.48           C  \n",
      "ATOM   1092  O   GLY H1033      29.721  16.082 -10.808  1.00 19.79           O  \n",
      "ATOM   1093  N   CYS H1034      31.301  16.986 -12.165  1.00 18.74           N  \n",
      "ATOM   1094  CA  CYS H1034      32.465  16.388 -11.529  1.00 19.08           C  \n",
      "ATOM   1095  C   CYS H1034      33.595  17.394 -11.446  1.00 21.50           C  \n",
      "ATOM   1096  O   CYS H1034      33.826  18.147 -12.393  1.00 20.04           O  \n",
      "ATOM   1097  CB  CYS H1034      32.909  15.124 -12.260  1.00 19.78           C  \n",
      "ATOM   1098  SG  CYS H1034      31.832  13.695 -12.001  1.00 24.01           S  \n",
      "ATOM   1099  N   LEU H1035      34.314  17.384 -10.322  1.00 18.87           N  \n",
      "ATOM   1100  CA  LEU H1035      35.491  18.212 -10.121  1.00 19.27           C  \n",
      "ATOM   1101  C   LEU H1035      36.703  17.296 -10.297  1.00 22.72           C  \n",
      "ATOM   1102  O   LEU H1035      36.812  16.278  -9.611  1.00 22.72           O  \n",
      "ATOM   1103  CB  LEU H1035      35.478  18.884  -8.733  1.00 20.07           C  \n",
      "ATOM   1104  CG  LEU H1035      36.698  19.751  -8.363  1.00 24.83           C  \n",
      "ATOM   1105  CD1 LEU H1035      36.776  21.024  -9.206  1.00 24.53           C  \n",
      "ATOM   1106  CD2 LEU H1035      36.682  20.098  -6.895  1.00 27.34           C  \n",
      "ATOM   1107  N   VAL H1036      37.574  17.631 -11.261  1.00 18.67           N  \n",
      "ATOM   1108  CA  VAL H1036      38.785  16.871 -11.586  1.00 18.18           C  \n",
      "ATOM   1109  C   VAL H1036      39.943  17.728 -11.063  1.00 22.27           C  \n",
      "ATOM   1110  O   VAL H1036      40.371  18.675 -11.725  1.00 21.27           O  \n",
      "ATOM   1111  CB  VAL H1036      38.858  16.569 -13.111  1.00 21.10           C  \n",
      "ATOM   1112  CG1 VAL H1036      40.103  15.765 -13.464  1.00 20.45           C  \n",
      "ATOM   1113  CG2 VAL H1036      37.603  15.836 -13.581  1.00 20.63           C  \n",
      "ATOM   1114  N   LYS H1037      40.405  17.417  -9.840  1.00 19.86           N  \n",
      "ATOM   1115  CA  LYS H1037      41.391  18.220  -9.124  1.00 20.07           C  \n",
      "ATOM   1116  C   LYS H1037      42.771  17.604  -8.919  1.00 23.80           C  \n",
      "ATOM   1117  O   LYS H1037      42.898  16.406  -8.671  1.00 22.89           O  \n",
      "ATOM   1118  CB  LYS H1037      40.800  18.632  -7.764  1.00 23.33           C  \n",
      "ATOM   1119  CG  LYS H1037      41.358  19.928  -7.184  1.00 32.41           C  \n",
      "ATOM   1120  CD  LYS H1037      40.824  20.166  -5.778  1.00 39.05           C  \n",
      "ATOM   1121  CE  LYS H1037      41.465  21.352  -5.100  1.00 48.56           C  \n",
      "ATOM   1122  NZ  LYS H1037      42.859  21.074  -4.667  1.00 57.90           N  \n",
      "ATOM   1123  N   ASP H1038      43.795  18.479  -8.958  1.00 21.04           N  \n",
      "ATOM   1124  CA  ASP H1038      45.210  18.215  -8.687  1.00 21.49           C  \n",
      "ATOM   1125  C   ASP H1038      45.902  17.216  -9.612  1.00 24.64           C  \n",
      "ATOM   1126  O   ASP H1038      46.352  16.153  -9.173  1.00 24.63           O  \n",
      "ATOM   1127  CB  ASP H1038      45.450  17.917  -7.186  1.00 23.89           C  \n",
      "ATOM   1128  CG  ASP H1038      44.889  18.963  -6.240  1.00 32.31           C  \n",
      "ATOM   1129  OD1 ASP H1038      44.910  20.163  -6.598  1.00 31.77           O  \n",
      "ATOM   1130  OD2 ASP H1038      44.433  18.582  -5.137  1.00 36.33           O  \n",
      "ATOM   1131  N   TYR H1039      46.024  17.585 -10.892  1.00 20.47           N  \n",
      "ATOM   1132  CA  TYR H1039      46.703  16.758 -11.890  1.00 18.98           C  \n",
      "ATOM   1133  C   TYR H1039      47.728  17.542 -12.689  1.00 22.10           C  \n",
      "ATOM   1134  O   TYR H1039      47.658  18.772 -12.761  1.00 21.55           O  \n",
      "ATOM   1135  CB  TYR H1039      45.704  16.039 -12.823  1.00 18.85           C  \n",
      "ATOM   1136  CG  TYR H1039      44.964  16.951 -13.779  1.00 18.50           C  \n",
      "ATOM   1137  CD1 TYR H1039      45.444  17.184 -15.067  1.00 19.44           C  \n",
      "ATOM   1138  CD2 TYR H1039      43.769  17.559 -13.408  1.00 18.87           C  \n",
      "ATOM   1139  CE1 TYR H1039      44.770  18.030 -15.948  1.00 18.89           C  \n",
      "ATOM   1140  CE2 TYR H1039      43.082  18.398 -14.282  1.00 18.87           C  \n",
      "ATOM   1141  CZ  TYR H1039      43.582  18.625 -15.553  1.00 22.55           C  \n",
      "ATOM   1142  OH  TYR H1039      42.898  19.449 -16.405  1.00 20.22           O  \n",
      "ATOM   1143  N   PHE H1040      48.671  16.812 -13.306  1.00 18.04           N  \n",
      "ATOM   1144  CA  PHE H1040      49.730  17.341 -14.159  1.00 17.60           C  \n",
      "ATOM   1145  C   PHE H1040      50.296  16.216 -15.024  1.00 21.52           C  \n",
      "ATOM   1146  O   PHE H1040      50.560  15.136 -14.499  1.00 21.58           O  \n",
      "ATOM   1147  CB  PHE H1040      50.871  17.995 -13.336  1.00 19.75           C  \n",
      "ATOM   1148  CG  PHE H1040      51.868  18.743 -14.199  1.00 20.73           C  \n",
      "ATOM   1149  CD1 PHE H1040      53.010  18.111 -14.681  1.00 23.15           C  \n",
      "ATOM   1150  CD2 PHE H1040      51.633  20.058 -14.579  1.00 22.46           C  \n",
      "ATOM   1151  CE1 PHE H1040      53.903  18.785 -15.520  1.00 24.07           C  \n",
      "ATOM   1152  CE2 PHE H1040      52.529  20.734 -15.413  1.00 25.36           C  \n",
      "ATOM   1153  CZ  PHE H1040      53.661  20.093 -15.873  1.00 23.41           C  \n",
      "ATOM   1154  N   PRO H1041      50.563  16.450 -16.326  1.00 18.00           N  \n",
      "ATOM   1155  CA  PRO H1041      50.296  17.667 -17.109  1.00 17.01           C  \n",
      "ATOM   1156  C   PRO H1041      48.908  17.620 -17.744  1.00 20.11           C  \n",
      "ATOM   1157  O   PRO H1041      48.130  16.708 -17.476  1.00 18.51           O  \n",
      "ATOM   1158  CB  PRO H1041      51.393  17.601 -18.181  1.00 18.60           C  \n",
      "ATOM   1159  CG  PRO H1041      51.526  16.114 -18.470  1.00 22.79           C  \n",
      "ATOM   1160  CD  PRO H1041      51.160  15.395 -17.175  1.00 19.33           C  \n",
      "ATOM   1161  N   GLU H1042      48.620  18.571 -18.632  1.00 16.76           N  \n",
      "ATOM   1162  CA  GLU H1042      47.391  18.540 -19.406  1.00 16.01           C  \n",
      "ATOM   1163  C   GLU H1042      47.633  17.515 -20.553  1.00 19.34           C  \n",
      "ATOM   1164  O   GLU H1042      48.792  17.260 -20.894  1.00 18.88           O  \n",
      "ATOM   1165  CB  GLU H1042      47.086  19.936 -19.975  1.00 17.24           C  \n",
      "ATOM   1166  CG  GLU H1042      46.535  20.898 -18.936  1.00 24.95           C  \n",
      "ATOM   1167  CD  GLU H1042      45.632  21.966 -19.515  1.00 45.75           C  \n",
      "ATOM   1168  OE1 GLU H1042      44.420  21.693 -19.674  1.00 31.59           O  \n",
      "ATOM   1169  OE2 GLU H1042      46.139  23.064 -19.837  1.00 44.26           O  \n",
      "ATOM   1170  N   PRO H1043      46.599  16.873 -21.129  1.00 15.61           N  \n",
      "ATOM   1171  CA  PRO H1043      45.162  17.044 -20.881  1.00 14.98           C  \n",
      "ATOM   1172  C   PRO H1043      44.534  15.920 -20.053  1.00 18.83           C  \n",
      "ATOM   1173  O   PRO H1043      45.170  14.905 -19.763  1.00 18.40           O  \n",
      "ATOM   1174  CB  PRO H1043      44.599  17.029 -22.309  1.00 16.16           C  \n",
      "ATOM   1175  CG  PRO H1043      45.511  16.040 -23.059  1.00 20.79           C  \n",
      "ATOM   1176  CD  PRO H1043      46.817  15.954 -22.267  1.00 16.98           C  \n",
      "ATOM   1177  N   VAL H1044      43.263  16.104 -19.706  1.00 16.33           N  \n",
      "ATOM   1178  CA  VAL H1044      42.444  15.094 -19.053  1.00 16.90           C  \n",
      "ATOM   1179  C   VAL H1044      41.227  14.865 -19.970  1.00 21.43           C  \n",
      "ATOM   1180  O   VAL H1044      40.747  15.818 -20.593  1.00 20.50           O  \n",
      "ATOM   1181  CB  VAL H1044      42.098  15.424 -17.572  1.00 21.50           C  \n",
      "ATOM   1182  CG1 VAL H1044      41.147  16.610 -17.446  1.00 21.21           C  \n",
      "ATOM   1183  CG2 VAL H1044      41.546  14.203 -16.846  1.00 21.72           C  \n",
      "ATOM   1184  N   THR H1045      40.806  13.602 -20.133  1.00 19.31           N  \n",
      "ATOM   1185  CA  THR H1045      39.656  13.259 -20.973  1.00 19.75           C  \n",
      "ATOM   1186  C   THR H1045      38.428  13.146 -20.069  1.00 23.05           C  \n",
      "ATOM   1187  O   THR H1045      38.482  12.457 -19.052  1.00 23.10           O  \n",
      "ATOM   1188  CB  THR H1045      39.939  11.971 -21.774  1.00 31.17           C  \n",
      "ATOM   1189  OG1 THR H1045      41.203  12.092 -22.427  1.00 36.26           O  \n",
      "ATOM   1190  CG2 THR H1045      38.866  11.672 -22.808  1.00 29.84           C  \n",
      "ATOM   1191  N   VAL H1046      37.342  13.854 -20.414  1.00 19.38           N  \n",
      "ATOM   1192  CA  VAL H1046      36.100  13.803 -19.646  1.00 19.17           C  \n",
      "ATOM   1193  C   VAL H1046      34.917  13.517 -20.567  1.00 22.75           C  \n",
      "ATOM   1194  O   VAL H1046      34.710  14.219 -21.555  1.00 22.24           O  \n",
      "ATOM   1195  CB  VAL H1046      35.833  15.039 -18.734  1.00 23.12           C  \n",
      "ATOM   1196  CG1 VAL H1046      34.635  14.784 -17.820  1.00 23.07           C  \n",
      "ATOM   1197  CG2 VAL H1046      37.061  15.417 -17.901  1.00 23.10           C  \n",
      "ATOM   1198  N   SER H1047      34.142  12.486 -20.233  1.00 19.01           N  \n",
      "ATOM   1199  CA  SER H1047      32.932  12.137 -20.965  1.00 18.28           C  \n",
      "ATOM   1200  C   SER H1047      31.816  11.850 -19.968  1.00 21.39           C  \n",
      "ATOM   1201  O   SER H1047      32.081  11.706 -18.772  1.00 20.69           O  \n",
      "ATOM   1202  CB  SER H1047      33.176  10.960 -21.910  1.00 21.73           C  \n",
      "ATOM   1203  OG  SER H1047      33.384   9.738 -21.221  1.00 29.37           O  \n",
      "ATOM   1204  N   TRP H1048      30.569  11.820 -20.447  1.00 17.31           N  \n",
      "ATOM   1205  CA  TRP H1048      29.414  11.531 -19.610  1.00 17.24           C  \n",
      "ATOM   1206  C   TRP H1048      28.694  10.314 -20.149  1.00 20.96           C  \n",
      "ATOM   1207  O   TRP H1048      28.446  10.232 -21.353  1.00 20.38           O  \n",
      "ATOM   1208  CB  TRP H1048      28.491  12.751 -19.505  1.00 15.86           C  \n",
      "ATOM   1209  CG  TRP H1048      29.042  13.793 -18.581  1.00 16.25           C  \n",
      "ATOM   1210  CD1 TRP H1048      29.897  14.807 -18.902  1.00 18.74           C  \n",
      "ATOM   1211  CD2 TRP H1048      28.842  13.868 -17.166  1.00 16.06           C  \n",
      "ATOM   1212  NE1 TRP H1048      30.211  15.535 -17.777  1.00 17.99           N  \n",
      "ATOM   1213  CE2 TRP H1048      29.577  14.980 -16.696  1.00 19.52           C  \n",
      "ATOM   1214  CE3 TRP H1048      28.100  13.106 -16.245  1.00 17.29           C  \n",
      "ATOM   1215  CZ2 TRP H1048      29.588  15.353 -15.348  1.00 18.84           C  \n",
      "ATOM   1216  CZ3 TRP H1048      28.117  13.473 -14.909  1.00 18.71           C  \n",
      "ATOM   1217  CH2 TRP H1048      28.850  14.586 -14.473  1.00 19.18           C  \n",
      "ATOM   1218  N   ASN H1049      28.411   9.343 -19.259  1.00 18.69           N  \n",
      "ATOM   1219  CA  ASN H1049      27.755   8.063 -19.565  1.00 18.98           C  \n",
      "ATOM   1220  C   ASN H1049      28.403   7.344 -20.759  1.00 21.86           C  \n",
      "ATOM   1221  O   ASN H1049      27.701   6.859 -21.643  1.00 21.30           O  \n",
      "ATOM   1222  CB  ASN H1049      26.234   8.248 -19.752  1.00 19.20           C  \n",
      "ATOM   1223  CG  ASN H1049      25.489   8.657 -18.505  1.00 33.00           C  \n",
      "ATOM   1224  OD1 ASN H1049      25.998   8.588 -17.380  1.00 27.89           O  \n",
      "ATOM   1225  ND2 ASN H1049      24.238   9.052 -18.678  1.00 24.01           N  \n",
      "ATOM   1226  N   SER H1050      29.752   7.303 -20.785  1.00 19.10           N  \n",
      "ATOM   1227  CA  SER H1050      30.579   6.680 -21.837  1.00 19.91           C  \n",
      "ATOM   1228  C   SER H1050      30.339   7.264 -23.253  1.00 25.80           C  \n",
      "ATOM   1229  O   SER H1050      30.430   6.544 -24.255  1.00 26.26           O  \n",
      "ATOM   1230  CB  SER H1050      30.456   5.153 -21.809  1.00 23.07           C  \n",
      "ATOM   1231  OG  SER H1050      30.710   4.637 -20.512  1.00 29.02           O  \n",
      "ATOM   1232  N   GLY H1051      30.066   8.567 -23.311  1.00 22.59           N  \n",
      "ATOM   1233  CA  GLY H1051      29.816   9.288 -24.556  1.00 22.57           C  \n",
      "ATOM   1234  C   GLY H1051      28.362   9.332 -24.991  1.00 27.05           C  \n",
      "ATOM   1235  O   GLY H1051      28.040   9.987 -25.988  1.00 26.57           O  \n",
      "ATOM   1236  N   ALA H1052      27.464   8.649 -24.248  1.00 24.14           N  \n",
      "ATOM   1237  CA  ALA H1052      26.030   8.629 -24.561  1.00 24.47           C  \n",
      "ATOM   1238  C   ALA H1052      25.341   9.960 -24.225  1.00 28.04           C  \n",
      "ATOM   1239  O   ALA H1052      24.289  10.259 -24.793  1.00 28.31           O  \n",
      "ATOM   1240  CB  ALA H1052      25.342   7.478 -23.841  1.00 25.70           C  \n",
      "ATOM   1241  N   LEU H1053      25.930  10.752 -23.306  1.00 23.04           N  \n",
      "ATOM   1242  CA  LEU H1053      25.395  12.052 -22.899  1.00 22.36           C  \n",
      "ATOM   1243  C   LEU H1053      26.343  13.171 -23.342  1.00 24.73           C  \n",
      "ATOM   1244  O   LEU H1053      27.460  13.281 -22.830  1.00 23.07           O  \n",
      "ATOM   1245  CB  LEU H1053      25.113  12.089 -21.379  1.00 22.18           C  \n",
      "ATOM   1246  CG  LEU H1053      24.602  13.411 -20.776  1.00 26.70           C  \n",
      "ATOM   1247  CD1 LEU H1053      23.224  13.802 -21.333  1.00 27.37           C  \n",
      "ATOM   1248  CD2 LEU H1053      24.547  13.325 -19.266  1.00 27.81           C  \n",
      "ATOM   1249  N   THR H1054      25.905  13.972 -24.329  1.00 21.47           N  \n",
      "ATOM   1250  CA  THR H1054      26.710  15.071 -24.888  1.00 20.63           C  \n",
      "ATOM   1251  C   THR H1054      25.980  16.409 -24.810  1.00 23.97           C  \n",
      "ATOM   1252  O   THR H1054      26.626  17.445 -24.650  1.00 22.92           O  \n",
      "ATOM   1253  CB  THR H1054      27.141  14.769 -26.334  1.00 27.00           C  \n",
      "ATOM   1254  OG1 THR H1054      25.979  14.567 -27.140  1.00 26.72           O  \n",
      "ATOM   1255  CG2 THR H1054      28.095  13.575 -26.439  1.00 24.28           C  \n",
      "ATOM   1256  N   SER H1055      24.639  16.386 -24.950  1.00 21.11           N  \n",
      "ATOM   1257  CA  SER H1055      23.780  17.569 -24.904  1.00 21.26           C  \n",
      "ATOM   1258  C   SER H1055      23.785  18.195 -23.500  1.00 23.86           C  \n",
      "ATOM   1259  O   SER H1055      23.620  17.486 -22.504  1.00 23.17           O  \n",
      "ATOM   1260  CB  SER H1055      22.357  17.204 -25.327  1.00 25.90           C  \n",
      "ATOM   1261  OG  SER H1055      21.467  18.300 -25.204  1.00 37.20           O  \n",
      "ATOM   1262  N   GLY H1056      24.011  19.507 -23.446  1.00 19.24           N  \n",
      "ATOM   1263  CA  GLY H1056      24.042  20.268 -22.202  1.00 18.59           C  \n",
      "ATOM   1264  C   GLY H1056      25.306  20.123 -21.377  1.00 20.68           C  \n",
      "ATOM   1265  O   GLY H1056      25.375  20.664 -20.271  1.00 20.26           O  \n",
      "ATOM   1266  N   VAL H1057      26.318  19.411 -21.907  1.00 16.97           N  \n",
      "ATOM   1267  CA  VAL H1057      27.609  19.189 -21.244  1.00 16.57           C  \n",
      "ATOM   1268  C   VAL H1057      28.539  20.381 -21.466  1.00 19.86           C  \n",
      "ATOM   1269  O   VAL H1057      28.639  20.889 -22.586  1.00 19.65           O  \n",
      "ATOM   1270  CB  VAL H1057      28.291  17.854 -21.689  1.00 20.52           C  \n",
      "ATOM   1271  CG1 VAL H1057      29.703  17.710 -21.108  1.00 20.32           C  \n",
      "ATOM   1272  CG2 VAL H1057      27.442  16.643 -21.321  1.00 20.39           C  \n",
      "ATOM   1273  N   HIS H1058      29.233  20.799 -20.397  1.00 15.20           N  \n",
      "ATOM   1274  CA  HIS H1058      30.255  21.836 -20.440  1.00 14.53           C  \n",
      "ATOM   1275  C   HIS H1058      31.476  21.379 -19.662  1.00 17.60           C  \n",
      "ATOM   1276  O   HIS H1058      31.441  21.336 -18.431  1.00 17.01           O  \n",
      "ATOM   1277  CB  HIS H1058      29.752  23.192 -19.912  1.00 15.04           C  \n",
      "ATOM   1278  CG  HIS H1058      28.715  23.842 -20.774  1.00 18.43           C  \n",
      "ATOM   1279  ND1 HIS H1058      28.965  24.149 -22.100  1.00 19.84           N  \n",
      "ATOM   1280  CD2 HIS H1058      27.471  24.264 -20.454  1.00 20.09           C  \n",
      "ATOM   1281  CE1 HIS H1058      27.857  24.718 -22.549  1.00 19.45           C  \n",
      "ATOM   1282  NE2 HIS H1058      26.931  24.806 -21.596  1.00 20.02           N  \n",
      "ATOM   1283  N   THR H1059      32.550  21.022 -20.385  1.00 14.20           N  \n",
      "ATOM   1284  CA  THR H1059      33.829  20.664 -19.781  1.00 14.14           C  \n",
      "ATOM   1285  C   THR H1059      34.679  21.922 -19.905  1.00 17.93           C  \n",
      "ATOM   1286  O   THR H1059      35.011  22.364 -21.008  1.00 17.16           O  \n",
      "ATOM   1287  CB  THR H1059      34.429  19.397 -20.406  1.00 18.35           C  \n",
      "ATOM   1288  OG1 THR H1059      33.527  18.322 -20.161  1.00 16.71           O  \n",
      "ATOM   1289  CG2 THR H1059      35.797  19.043 -19.814  1.00 16.58           C  \n",
      "ATOM   1290  N   PHE H1060      34.957  22.535 -18.765  1.00 14.86           N  \n",
      "ATOM   1291  CA  PHE H1060      35.681  23.793 -18.696  1.00 14.05           C  \n",
      "ATOM   1292  C   PHE H1060      37.172  23.659 -18.929  1.00 19.23           C  \n",
      "ATOM   1293  O   PHE H1060      37.761  22.675 -18.478  1.00 18.95           O  \n",
      "ATOM   1294  CB  PHE H1060      35.404  24.472 -17.343  1.00 15.66           C  \n",
      "ATOM   1295  CG  PHE H1060      33.979  24.953 -17.235  1.00 16.80           C  \n",
      "ATOM   1296  CD1 PHE H1060      33.617  26.209 -17.700  1.00 19.61           C  \n",
      "ATOM   1297  CD2 PHE H1060      32.989  24.133 -16.707  1.00 18.38           C  \n",
      "ATOM   1298  CE1 PHE H1060      32.291  26.635 -17.641  1.00 20.69           C  \n",
      "ATOM   1299  CE2 PHE H1060      31.663  24.562 -16.646  1.00 21.40           C  \n",
      "ATOM   1300  CZ  PHE H1060      31.326  25.816 -17.103  1.00 19.81           C  \n",
      "ATOM   1301  N   PRO H1061      37.819  24.655 -19.592  1.00 17.29           N  \n",
      "ATOM   1302  CA  PRO H1061      39.287  24.612 -19.723  1.00 17.17           C  \n",
      "ATOM   1303  C   PRO H1061      39.910  24.574 -18.323  1.00 21.35           C  \n",
      "ATOM   1304  O   PRO H1061      39.385  25.204 -17.393  1.00 20.18           O  \n",
      "ATOM   1305  CB  PRO H1061      39.619  25.942 -20.420  1.00 19.53           C  \n",
      "ATOM   1306  CG  PRO H1061      38.365  26.355 -21.090  1.00 23.84           C  \n",
      "ATOM   1307  CD  PRO H1061      37.268  25.894 -20.181  1.00 19.33           C  \n",
      "ATOM   1308  N   ALA H1062      40.990  23.799 -18.154  1.00 18.31           N  \n",
      "ATOM   1309  CA  ALA H1062      41.662  23.665 -16.863  1.00 18.60           C  \n",
      "ATOM   1310  C   ALA H1062      42.302  24.967 -16.398  1.00 22.73           C  \n",
      "ATOM   1311  O   ALA H1062      42.710  25.782 -17.229  1.00 22.07           O  \n",
      "ATOM   1312  CB  ALA H1062      42.719  22.579 -16.940  1.00 19.20           C  \n",
      "ATOM   1313  N   VAL H1063      42.364  25.163 -15.069  1.00 20.37           N  \n",
      "ATOM   1314  CA  VAL H1063      43.024  26.315 -14.456  1.00 21.19           C  \n",
      "ATOM   1315  C   VAL H1063      44.268  25.824 -13.727  1.00 24.83           C  \n",
      "ATOM   1316  O   VAL H1063      44.210  24.806 -13.035  1.00 23.55           O  \n",
      "ATOM   1317  CB  VAL H1063      42.127  27.216 -13.550  1.00 26.31           C  \n",
      "ATOM   1318  CG1 VAL H1063      40.976  27.837 -14.336  1.00 26.21           C  \n",
      "ATOM   1319  CG2 VAL H1063      41.617  26.480 -12.306  1.00 26.42           C  \n",
      "ATOM   1320  N   LEU H1064      45.390  26.533 -13.887  1.00 22.64           N  \n",
      "ATOM   1321  CA  LEU H1064      46.617  26.183 -13.185  1.00 23.28           C  \n",
      "ATOM   1322  C   LEU H1064      46.545  26.800 -11.789  1.00 28.26           C  \n",
      "ATOM   1323  O   LEU H1064      46.475  28.027 -11.658  1.00 28.14           O  \n",
      "ATOM   1324  CB  LEU H1064      47.863  26.677 -13.957  1.00 23.72           C  \n",
      "ATOM   1325  CG  LEU H1064      49.238  26.217 -13.437  1.00 29.02           C  \n",
      "ATOM   1326  CD1 LEU H1064      49.452  24.722 -13.652  1.00 28.65           C  \n",
      "ATOM   1327  CD2 LEU H1064      50.352  26.985 -14.115  1.00 32.56           C  \n",
      "ATOM   1328  N   GLN H1065      46.517  25.946 -10.751  1.00 24.93           N  \n",
      "ATOM   1329  CA  GLN H1065      46.461  26.380  -9.347  1.00 25.35           C  \n",
      "ATOM   1330  C   GLN H1065      47.847  26.851  -8.882  1.00 30.38           C  \n",
      "ATOM   1331  O   GLN H1065      48.835  26.642  -9.595  1.00 29.70           O  \n",
      "ATOM   1332  CB  GLN H1065      45.949  25.242  -8.443  1.00 26.47           C  \n",
      "ATOM   1333  CG  GLN H1065      44.545  24.746  -8.785  1.00 32.27           C  \n",
      "ATOM   1334  CD  GLN H1065      44.261  23.402  -8.163  1.00 44.67           C  \n",
      "ATOM   1335  OE1 GLN H1065      44.851  22.375  -8.529  1.00 36.35           O  \n",
      "ATOM   1336  NE2 GLN H1065      43.323  23.373  -7.236  1.00 34.17           N  \n",
      "ATOM   1337  N   SER H1066      47.925  27.473  -7.680  1.00 28.42           N  \n",
      "ATOM   1338  CA  SER H1066      49.181  27.970  -7.098  1.00 29.52           C  \n",
      "ATOM   1339  C   SER H1066      50.188  26.846  -6.810  1.00 34.26           C  \n",
      "ATOM   1340  O   SER H1066      51.394  27.099  -6.785  1.00 34.82           O  \n",
      "ATOM   1341  CB  SER H1066      48.912  28.783  -5.835  1.00 34.08           C  \n",
      "ATOM   1342  OG  SER H1066      48.249  28.004  -4.853  1.00 44.04           O  \n",
      "ATOM   1343  N   SER H1067      49.690  25.605  -6.632  1.00 30.23           N  \n",
      "ATOM   1344  CA  SER H1067      50.502  24.409  -6.385  1.00 30.09           C  \n",
      "ATOM   1345  C   SER H1067      51.257  23.934  -7.640  1.00 33.13           C  \n",
      "ATOM   1346  O   SER H1067      52.160  23.102  -7.532  1.00 33.65           O  \n",
      "ATOM   1347  CB  SER H1067      49.621  23.278  -5.861  1.00 32.80           C  \n",
      "ATOM   1348  OG  SER H1067      48.606  22.937  -6.792  1.00 38.29           O  \n",
      "ATOM   1349  N   GLY H1068      50.865  24.449  -8.806  1.00 27.85           N  \n",
      "ATOM   1350  CA  GLY H1068      51.425  24.063 -10.095  1.00 26.65           C  \n",
      "ATOM   1351  C   GLY H1068      50.671  22.899 -10.714  1.00 28.43           C  \n",
      "ATOM   1352  O   GLY H1068      51.117  22.327 -11.713  1.00 27.15           O  \n",
      "ATOM   1353  N   LEU H1069      49.518  22.539 -10.119  1.00 23.82           N  \n",
      "ATOM   1354  CA  LEU H1069      48.664  21.444 -10.591  1.00 22.29           C  \n",
      "ATOM   1355  C   LEU H1069      47.370  21.994 -11.184  1.00 24.93           C  \n",
      "ATOM   1356  O   LEU H1069      46.870  23.024 -10.733  1.00 25.05           O  \n",
      "ATOM   1357  CB  LEU H1069      48.355  20.445  -9.454  1.00 22.20           C  \n",
      "ATOM   1358  CG  LEU H1069      49.555  19.811  -8.727  1.00 26.92           C  \n",
      "ATOM   1359  CD1 LEU H1069      49.121  19.163  -7.424  1.00 27.35           C  \n",
      "ATOM   1360  CD2 LEU H1069      50.297  18.804  -9.617  1.00 28.43           C  \n",
      "ATOM   1361  N   TYR H1070      46.831  21.309 -12.195  1.00 20.13           N  \n",
      "ATOM   1362  CA  TYR H1070      45.601  21.730 -12.855  1.00 18.96           C  \n",
      "ATOM   1363  C   TYR H1070      44.362  21.237 -12.134  1.00 21.93           C  \n",
      "ATOM   1364  O   TYR H1070      44.399  20.240 -11.408  1.00 21.40           O  \n",
      "ATOM   1365  CB  TYR H1070      45.568  21.274 -14.323  1.00 19.29           C  \n",
      "ATOM   1366  CG  TYR H1070      46.626  21.916 -15.190  1.00 20.69           C  \n",
      "ATOM   1367  CD1 TYR H1070      47.852  21.294 -15.403  1.00 22.74           C  \n",
      "ATOM   1368  CD2 TYR H1070      46.391  23.134 -15.823  1.00 21.28           C  \n",
      "ATOM   1369  CE1 TYR H1070      48.833  21.882 -16.199  1.00 23.60           C  \n",
      "ATOM   1370  CE2 TYR H1070      47.361  23.727 -16.631  1.00 22.46           C  \n",
      "ATOM   1371  CZ  TYR H1070      48.580  23.096 -16.816  1.00 29.81           C  \n",
      "ATOM   1372  OH  TYR H1070      49.539  23.670 -17.611  1.00 31.48           O  \n",
      "ATOM   1373  N   SER H1071      43.261  21.947 -12.352  1.00 18.17           N  \n",
      "ATOM   1374  CA  SER H1071      41.948  21.615 -11.826  1.00 17.86           C  \n",
      "ATOM   1375  C   SER H1071      40.903  22.049 -12.836  1.00 22.17           C  \n",
      "ATOM   1376  O   SER H1071      41.035  23.116 -13.443  1.00 21.92           O  \n",
      "ATOM   1377  CB  SER H1071      41.704  22.313 -10.492  1.00 21.69           C  \n",
      "ATOM   1378  OG  SER H1071      40.461  21.923  -9.932  1.00 28.87           O  \n",
      "ATOM   1379  N   LEU H1072      39.891  21.203 -13.046  1.00 18.82           N  \n",
      "ATOM   1380  CA  LEU H1072      38.769  21.521 -13.926  1.00 18.47           C  \n",
      "ATOM   1381  C   LEU H1072      37.466  20.922 -13.466  1.00 21.48           C  \n",
      "ATOM   1382  O   LEU H1072      37.446  19.949 -12.709  1.00 20.46           O  \n",
      "ATOM   1383  CB  LEU H1072      39.035  21.286 -15.443  1.00 18.26           C  \n",
      "ATOM   1384  CG  LEU H1072      39.123  19.874 -16.048  1.00 21.98           C  \n",
      "ATOM   1385  CD1 LEU H1072      37.745  19.187 -16.144  1.00 21.84           C  \n",
      "ATOM   1386  CD2 LEU H1072      39.644  19.963 -17.471  1.00 23.44           C  \n",
      "ATOM   1387  N   SER H1073      36.375  21.507 -13.940  1.00 18.49           N  \n",
      "ATOM   1388  CA  SER H1073      35.039  21.023 -13.673  1.00 18.13           C  \n",
      "ATOM   1389  C   SER H1073      34.375  20.690 -15.002  1.00 20.21           C  \n",
      "ATOM   1390  O   SER H1073      34.630  21.347 -16.017  1.00 19.23           O  \n",
      "ATOM   1391  CB  SER H1073      34.226  22.077 -12.929  1.00 22.89           C  \n",
      "ATOM   1392  OG  SER H1073      34.063  23.239 -13.727  1.00 32.88           O  \n",
      "ATOM   1393  N   SER H1074      33.553  19.650 -14.996  1.00 16.07           N  \n",
      "ATOM   1394  CA  SER H1074      32.747  19.260 -16.139  1.00 15.11           C  \n",
      "ATOM   1395  C   SER H1074      31.351  19.157 -15.599  1.00 18.47           C  \n",
      "ATOM   1396  O   SER H1074      31.128  18.471 -14.603  1.00 18.30           O  \n",
      "ATOM   1397  CB  SER H1074      33.198  17.931 -16.731  1.00 17.51           C  \n",
      "ATOM   1398  OG  SER H1074      32.376  17.597 -17.838  1.00 21.00           O  \n",
      "ATOM   1399  N   VAL H1075      30.426  19.885 -16.212  1.00 14.85           N  \n",
      "ATOM   1400  CA  VAL H1075      29.037  19.938 -15.766  1.00 15.32           C  \n",
      "ATOM   1401  C   VAL H1075      28.082  19.526 -16.874  1.00 19.57           C  \n",
      "ATOM   1402  O   VAL H1075      28.451  19.497 -18.049  1.00 18.51           O  \n",
      "ATOM   1403  CB  VAL H1075      28.654  21.336 -15.198  1.00 19.38           C  \n",
      "ATOM   1404  CG1 VAL H1075      29.524  21.719 -14.001  1.00 19.17           C  \n",
      "ATOM   1405  CG2 VAL H1075      28.700  22.416 -16.283  1.00 19.45           C  \n",
      "ATOM   1406  N   VAL H1076      26.838  19.260 -16.491  1.00 17.58           N  \n",
      "ATOM   1407  CA  VAL H1076      25.752  18.945 -17.411  1.00 17.89           C  \n",
      "ATOM   1408  C   VAL H1076      24.433  19.416 -16.800  1.00 22.97           C  \n",
      "ATOM   1409  O   VAL H1076      24.227  19.264 -15.593  1.00 22.78           O  \n",
      "ATOM   1410  CB  VAL H1076      25.736  17.452 -17.884  1.00 21.51           C  \n",
      "ATOM   1411  CG1 VAL H1076      25.627  16.473 -16.714  1.00 21.30           C  \n",
      "ATOM   1412  CG2 VAL H1076      24.639  17.196 -18.921  1.00 21.60           C  \n",
      "ATOM   1413  N   THR H1077      23.574  20.033 -17.619  1.00 21.05           N  \n",
      "ATOM   1414  CA  THR H1077      22.230  20.426 -17.200  1.00 22.21           C  \n",
      "ATOM   1415  C   THR H1077      21.279  19.384 -17.780  1.00 27.33           C  \n",
      "ATOM   1416  O   THR H1077      21.381  19.040 -18.961  1.00 25.75           O  \n",
      "ATOM   1417  CB  THR H1077      21.868  21.864 -17.590  1.00 28.25           C  \n",
      "ATOM   1418  OG1 THR H1077      22.035  22.038 -18.996  1.00 28.33           O  \n",
      "ATOM   1419  CG2 THR H1077      22.662  22.905 -16.809  1.00 27.42           C  \n",
      "ATOM   1420  N   VAL H1078      20.406  18.834 -16.929  1.00 26.35           N  \n",
      "ATOM   1421  CA  VAL H1078      19.447  17.784 -17.292  1.00 27.36           C  \n",
      "ATOM   1422  C   VAL H1078      18.044  18.112 -16.723  1.00 33.71           C  \n",
      "ATOM   1423  O   VAL H1078      17.959  18.935 -15.806  1.00 32.74           O  \n",
      "ATOM   1424  CB  VAL H1078      19.935  16.371 -16.823  1.00 30.98           C  \n",
      "ATOM   1425  CG1 VAL H1078      21.189  15.920 -17.570  1.00 30.13           C  \n",
      "ATOM   1426  CG2 VAL H1078      20.137  16.306 -15.308  1.00 30.83           C  \n",
      "ATOM   1427  N   PRO H1079      16.941  17.470 -17.191  1.00 33.00           N  \n",
      "ATOM   1428  CA  PRO H1079      15.633  17.742 -16.571  1.00 34.24           C  \n",
      "ATOM   1429  C   PRO H1079      15.601  17.191 -15.143  1.00 39.99           C  \n",
      "ATOM   1430  O   PRO H1079      16.111  16.093 -14.905  1.00 39.32           O  \n",
      "ATOM   1431  CB  PRO H1079      14.640  17.000 -17.480  1.00 36.54           C  \n",
      "ATOM   1432  CG  PRO H1079      15.409  16.645 -18.717  1.00 40.34           C  \n",
      "ATOM   1433  CD  PRO H1079      16.814  16.459 -18.259  1.00 34.95           C  \n",
      "ATOM   1434  N   SER H1080      15.041  17.965 -14.191  1.00 38.43           N  \n",
      "ATOM   1435  CA  SER H1080      14.936  17.580 -12.776  1.00 39.02           C  \n",
      "ATOM   1436  C   SER H1080      14.136  16.292 -12.545  1.00 44.64           C  \n",
      "ATOM   1437  O   SER H1080      14.390  15.587 -11.567  1.00 44.59           O  \n",
      "ATOM   1438  CB  SER H1080      14.337  18.712 -11.953  1.00 43.03           C  \n",
      "ATOM   1439  OG  SER H1080      15.159  19.866 -11.984  1.00 52.00           O  \n",
      "ATOM   1440  N   SER H1081      13.188  15.982 -13.452  1.00 42.34           N  \n",
      "ATOM   1441  CA  SER H1081      12.328  14.795 -13.400  1.00 42.84           C  \n",
      "ATOM   1442  C   SER H1081      13.061  13.467 -13.675  1.00 47.11           C  \n",
      "ATOM   1443  O   SER H1081      12.480  12.403 -13.450  1.00 47.12           O  \n",
      "ATOM   1444  CB  SER H1081      11.153  14.956 -14.362  1.00 46.77           C  \n",
      "ATOM   1445  OG  SER H1081      11.594  15.075 -15.705  1.00 54.12           O  \n",
      "ATOM   1446  N   SER H1082      14.320  13.522 -14.159  1.00 43.99           N  \n",
      "ATOM   1447  CA  SER H1082      15.115  12.331 -14.489  1.00 43.75           C  \n",
      "ATOM   1448  C   SER H1082      16.284  12.053 -13.520  1.00 47.59           C  \n",
      "ATOM   1449  O   SER H1082      17.010  11.078 -13.719  1.00 47.03           O  \n",
      "ATOM   1450  CB  SER H1082      15.632  12.429 -15.923  1.00 47.04           C  \n",
      "ATOM   1451  OG  SER H1082      16.653  13.406 -16.045  1.00 55.27           O  \n",
      "ATOM   1452  N   LEU H1083      16.441  12.885 -12.471  1.00 44.61           N  \n",
      "ATOM   1453  CA  LEU H1083      17.534  12.846 -11.487  1.00 44.26           C  \n",
      "ATOM   1454  C   LEU H1083      18.115  11.506 -10.938  1.00 49.38           C  \n",
      "ATOM   1455  O   LEU H1083      19.343  11.381 -10.939  1.00 48.94           O  \n",
      "ATOM   1456  CB  LEU H1083      17.380  13.899 -10.377  1.00 44.27           C  \n",
      "ATOM   1457  CG  LEU H1083      17.695  15.351 -10.774  1.00 48.32           C  \n",
      "ATOM   1458  CD1 LEU H1083      17.421  16.302  -9.632  1.00 48.56           C  \n",
      "ATOM   1459  CD2 LEU H1083      19.137  15.513 -11.248  1.00 49.85           C  \n",
      "ATOM   1460  N   GLY H1084      17.323  10.550 -10.435  1.00 46.34           N  \n",
      "ATOM   1461  CA  GLY H1084      15.866  10.471 -10.371  1.00 46.67           C  \n",
      "ATOM   1462  C   GLY H1084      15.433   9.102 -10.857  1.00 50.30           C  \n",
      "ATOM   1463  O   GLY H1084      14.909   8.293 -10.086  1.00 50.64           O  \n",
      "ATOM   1464  N   THR H1085      15.711   8.826 -12.142  1.00 45.78           N  \n",
      "ATOM   1465  CA  THR H1085      15.443   7.566 -12.842  1.00 45.40           C  \n",
      "ATOM   1466  C   THR H1085      16.604   7.247 -13.801  1.00 46.86           C  \n",
      "ATOM   1467  O   THR H1085      16.815   6.084 -14.149  1.00 46.89           O  \n",
      "ATOM   1468  CB  THR H1085      14.077   7.590 -13.557  1.00 56.59           C  \n",
      "ATOM   1469  OG1 THR H1085      13.512   8.905 -13.516  1.00 58.40           O  \n",
      "ATOM   1470  CG2 THR H1085      13.095   6.588 -12.966  1.00 56.01           C  \n",
      "ATOM   1471  N   GLN H1086      17.352   8.290 -14.218  1.00 40.71           N  \n",
      "ATOM   1472  CA  GLN H1086      18.503   8.191 -15.119  1.00 38.78           C  \n",
      "ATOM   1473  C   GLN H1086      19.809   8.286 -14.319  1.00 39.34           C  \n",
      "ATOM   1474  O   GLN H1086      19.949   9.153 -13.451  1.00 38.84           O  \n",
      "ATOM   1475  CB  GLN H1086      18.430   9.292 -16.205  1.00 39.83           C  \n",
      "ATOM   1476  CG  GLN H1086      19.616   9.375 -17.183  1.00 51.09           C  \n",
      "ATOM   1477  CD  GLN H1086      19.805   8.153 -18.054  1.00 69.42           C  \n",
      "ATOM   1478  OE1 GLN H1086      20.784   7.412 -17.915  1.00 64.24           O  \n",
      "ATOM   1479  NE2 GLN H1086      18.900   7.939 -19.001  1.00 61.74           N  \n",
      "ATOM   1480  N   THR H1087      20.756   7.391 -14.625  1.00 33.20           N  \n",
      "ATOM   1481  CA  THR H1087      22.072   7.344 -13.996  1.00 31.69           C  \n",
      "ATOM   1482  C   THR H1087      23.003   8.330 -14.716  1.00 31.72           C  \n",
      "ATOM   1483  O   THR H1087      22.993   8.399 -15.947  1.00 31.94           O  \n",
      "ATOM   1484  CB  THR H1087      22.594   5.892 -14.002  1.00 42.90           C  \n",
      "ATOM   1485  OG1 THR H1087      21.686   5.075 -13.260  1.00 44.64           O  \n",
      "ATOM   1486  CG2 THR H1087      23.994   5.752 -13.408  1.00 41.60           C  \n",
      "ATOM   1487  N   TYR H1088      23.785   9.100 -13.946  1.00 24.17           N  \n",
      "ATOM   1488  CA  TYR H1088      24.761  10.037 -14.490  1.00 22.17           C  \n",
      "ATOM   1489  C   TYR H1088      26.136   9.686 -13.968  1.00 22.90           C  \n",
      "ATOM   1490  O   TYR H1088      26.364   9.695 -12.756  1.00 22.06           O  \n",
      "ATOM   1491  CB  TYR H1088      24.389  11.502 -14.189  1.00 23.21           C  \n",
      "ATOM   1492  CG  TYR H1088      23.086  11.918 -14.833  1.00 25.08           C  \n",
      "ATOM   1493  CD1 TYR H1088      22.985  12.068 -16.213  1.00 27.39           C  \n",
      "ATOM   1494  CD2 TYR H1088      21.946  12.136 -14.067  1.00 26.26           C  \n",
      "ATOM   1495  CE1 TYR H1088      21.780  12.423 -16.816  1.00 29.40           C  \n",
      "ATOM   1496  CE2 TYR H1088      20.737  12.505 -14.657  1.00 27.55           C  \n",
      "ATOM   1497  CZ  TYR H1088      20.660  12.650 -16.033  1.00 34.51           C  \n",
      "ATOM   1498  OH  TYR H1088      19.474  13.002 -16.629  1.00 35.01           O  \n",
      "ATOM   1499  N   ILE H1089      27.030   9.309 -14.890  1.00 17.84           N  \n",
      "ATOM   1500  CA  ILE H1089      28.405   8.929 -14.580  1.00 16.37           C  \n",
      "ATOM   1501  C   ILE H1089      29.360   9.781 -15.407  1.00 19.90           C  \n",
      "ATOM   1502  O   ILE H1089      29.199   9.868 -16.625  1.00 18.59           O  \n",
      "ATOM   1503  CB  ILE H1089      28.648   7.399 -14.818  1.00 18.91           C  \n",
      "ATOM   1504  CG1 ILE H1089      27.739   6.519 -13.915  1.00 19.41           C  \n",
      "ATOM   1505  CG2 ILE H1089      30.144   7.020 -14.650  1.00 18.35           C  \n",
      "ATOM   1506  CD1 ILE H1089      27.682   5.005 -14.308  1.00 23.88           C  \n",
      "ATOM   1507  N   CYS H1090      30.354  10.402 -14.750  1.00 17.88           N  \n",
      "ATOM   1508  CA  CYS H1090      31.389  11.138 -15.467  1.00 18.18           C  \n",
      "ATOM   1509  C   CYS H1090      32.583  10.194 -15.600  1.00 20.99           C  \n",
      "ATOM   1510  O   CYS H1090      32.977   9.566 -14.615  1.00 20.85           O  \n",
      "ATOM   1511  CB  CYS H1090      31.760  12.451 -14.777  1.00 19.10           C  \n",
      "ATOM   1512  SG  CYS H1090      32.637  12.264 -13.201  1.00 23.65           S  \n",
      "ATOM   1513  N   ASN H1091      33.089  10.020 -16.825  1.00 16.96           N  \n",
      "ATOM   1514  CA  ASN H1091      34.228   9.144 -17.092  1.00 16.50           C  \n",
      "ATOM   1515  C   ASN H1091      35.460  10.012 -17.266  1.00 19.73           C  \n",
      "ATOM   1516  O   ASN H1091      35.533  10.806 -18.205  1.00 19.02           O  \n",
      "ATOM   1517  CB  ASN H1091      33.984   8.252 -18.315  1.00 16.70           C  \n",
      "ATOM   1518  CG  ASN H1091      32.543   7.848 -18.493  1.00 29.55           C  \n",
      "ATOM   1519  OD1 ASN H1091      31.815   8.439 -19.292  1.00 23.03           O  \n",
      "ATOM   1520  ND2 ASN H1091      32.076   6.899 -17.690  1.00 22.04           N  \n",
      "ATOM   1521  N   VAL H1092      36.402   9.896 -16.324  1.00 16.20           N  \n",
      "ATOM   1522  CA  VAL H1092      37.627  10.695 -16.304  1.00 15.19           C  \n",
      "ATOM   1523  C   VAL H1092      38.814   9.810 -16.640  1.00 20.29           C  \n",
      "ATOM   1524  O   VAL H1092      38.972   8.740 -16.060  1.00 20.52           O  \n",
      "ATOM   1525  CB  VAL H1092      37.808  11.436 -14.947  1.00 18.33           C  \n",
      "ATOM   1526  CG1 VAL H1092      39.062  12.310 -14.942  1.00 17.76           C  \n",
      "ATOM   1527  CG2 VAL H1092      36.574  12.270 -14.604  1.00 17.69           C  \n",
      "ATOM   1528  N   ASN H1093      39.635  10.254 -17.589  1.00 17.39           N  \n",
      "ATOM   1529  CA  ASN H1093      40.837   9.535 -17.979  1.00 17.29           C  \n",
      "ATOM   1530  C   ASN H1093      41.988  10.509 -18.169  1.00 19.92           C  \n",
      "ATOM   1531  O   ASN H1093      41.978  11.322 -19.094  1.00 19.69           O  \n",
      "ATOM   1532  CB  ASN H1093      40.605   8.659 -19.232  1.00 17.72           C  \n",
      "ATOM   1533  CG  ASN H1093      41.790   7.801 -19.642  1.00 30.98           C  \n",
      "ATOM   1534  OD1 ASN H1093      42.803   7.682 -18.935  1.00 20.75           O  \n",
      "ATOM   1535  ND2 ASN H1093      41.679   7.163 -20.799  1.00 23.36           N  \n",
      "ATOM   1536  N   HIS H1094      42.965  10.441 -17.263  1.00 16.14           N  \n",
      "ATOM   1537  CA  HIS H1094      44.173  11.253 -17.340  1.00 15.60           C  \n",
      "ATOM   1538  C   HIS H1094      45.257  10.333 -17.899  1.00 19.57           C  \n",
      "ATOM   1539  O   HIS H1094      45.947   9.646 -17.143  1.00 19.27           O  \n",
      "ATOM   1540  CB  HIS H1094      44.534  11.841 -15.961  1.00 16.19           C  \n",
      "ATOM   1541  CG  HIS H1094      45.774  12.688 -15.945  1.00 19.30           C  \n",
      "ATOM   1542  ND1 HIS H1094      45.892  13.819 -16.732  1.00 20.64           N  \n",
      "ATOM   1543  CD2 HIS H1094      46.886  12.573 -15.186  1.00 20.85           C  \n",
      "ATOM   1544  CE1 HIS H1094      47.085  14.322 -16.457  1.00 19.81           C  \n",
      "ATOM   1545  NE2 HIS H1094      47.717  13.608 -15.534  1.00 20.67           N  \n",
      "ATOM   1546  N   LYS H1095      45.352  10.278 -19.245  1.00 16.54           N  \n",
      "ATOM   1547  CA  LYS H1095      46.307   9.436 -19.985  1.00 16.67           C  \n",
      "ATOM   1548  C   LYS H1095      47.778   9.568 -19.557  1.00 21.68           C  \n",
      "ATOM   1549  O   LYS H1095      48.416   8.521 -19.408  1.00 21.54           O  \n",
      "ATOM   1550  CB  LYS H1095      46.126   9.551 -21.512  1.00 18.64           C  \n",
      "ATOM   1551  CG  LYS H1095      44.804   8.961 -21.992  1.00 24.42           C  \n",
      "ATOM   1552  CD  LYS H1095      44.577   9.167 -23.474  1.00 27.11           C  \n",
      "ATOM   1553  CE  LYS H1095      43.198   8.712 -23.880  1.00 29.71           C  \n",
      "ATOM   1554  NZ  LYS H1095      43.008   8.796 -25.349  1.00 39.77           N  \n",
      "ATOM   1555  N   PRO H1096      48.336  10.786 -19.275  1.00 18.72           N  \n",
      "ATOM   1556  CA  PRO H1096      49.745  10.856 -18.841  1.00 18.55           C  \n",
      "ATOM   1557  C   PRO H1096      50.091  10.033 -17.600  1.00 21.83           C  \n",
      "ATOM   1558  O   PRO H1096      51.221   9.557 -17.498  1.00 21.81           O  \n",
      "ATOM   1559  CB  PRO H1096      49.958  12.349 -18.587  1.00 20.29           C  \n",
      "ATOM   1560  CG  PRO H1096      48.982  13.023 -19.461  1.00 24.06           C  \n",
      "ATOM   1561  CD  PRO H1096      47.769  12.147 -19.414  1.00 19.74           C  \n",
      "ATOM   1562  N   SER H1097      49.137   9.867 -16.656  1.00 17.40           N  \n",
      "ATOM   1563  CA  SER H1097      49.369   9.088 -15.434  1.00 17.47           C  \n",
      "ATOM   1564  C   SER H1097      48.606   7.758 -15.426  1.00 21.61           C  \n",
      "ATOM   1565  O   SER H1097      48.797   6.958 -14.510  1.00 21.69           O  \n",
      "ATOM   1566  CB  SER H1097      48.981   9.902 -14.205  1.00 19.50           C  \n",
      "ATOM   1567  OG  SER H1097      47.571  10.028 -14.111  1.00 21.68           O  \n",
      "ATOM   1568  N   ASN H1098      47.716   7.548 -16.419  1.00 18.05           N  \n",
      "ATOM   1569  CA  ASN H1098      46.827   6.381 -16.534  1.00 18.42           C  \n",
      "ATOM   1570  C   ASN H1098      45.868   6.286 -15.344  1.00 23.06           C  \n",
      "ATOM   1571  O   ASN H1098      45.460   5.188 -14.950  1.00 23.66           O  \n",
      "ATOM   1572  CB  ASN H1098      47.590   5.065 -16.779  1.00 18.89           C  \n",
      "ATOM   1573  CG  ASN H1098      48.436   5.100 -18.012  1.00 29.93           C  \n",
      "ATOM   1574  OD1 ASN H1098      47.948   5.258 -19.136  1.00 25.62           O  \n",
      "ATOM   1575  ND2 ASN H1098      49.726   4.996 -17.816  1.00 19.63           N  \n",
      "ATOM   1576  N   THR H1099      45.519   7.452 -14.766  1.00 19.54           N  \n",
      "ATOM   1577  CA  THR H1099      44.571   7.538 -13.661  1.00 19.68           C  \n",
      "ATOM   1578  C   THR H1099      43.189   7.660 -14.283  1.00 23.15           C  \n",
      "ATOM   1579  O   THR H1099      42.917   8.614 -15.016  1.00 21.37           O  \n",
      "ATOM   1580  CB  THR H1099      44.902   8.705 -12.713  1.00 25.56           C  \n",
      "ATOM   1581  OG1 THR H1099      46.247   8.573 -12.263  1.00 24.23           O  \n",
      "ATOM   1582  CG2 THR H1099      43.959   8.773 -11.507  1.00 23.64           C  \n",
      "ATOM   1583  N   LYS H1100      42.335   6.673 -14.002  1.00 20.61           N  \n",
      "ATOM   1584  CA  LYS H1100      40.964   6.610 -14.491  1.00 20.51           C  \n",
      "ATOM   1585  C   LYS H1100      40.025   6.591 -13.312  1.00 25.70           C  \n",
      "ATOM   1586  O   LYS H1100      40.257   5.851 -12.356  1.00 25.60           O  \n",
      "ATOM   1587  CB  LYS H1100      40.742   5.333 -15.313  1.00 23.40           C  \n",
      "ATOM   1588  CG  LYS H1100      41.196   5.412 -16.750  1.00 31.05           C  \n",
      "ATOM   1589  CD  LYS H1100      41.199   4.016 -17.332  1.00 39.65           C  \n",
      "ATOM   1590  CE  LYS H1100      40.588   3.944 -18.699  1.00 49.36           C  \n",
      "ATOM   1591  NZ  LYS H1100      40.577   2.545 -19.197  1.00 59.50           N  \n",
      "ATOM   1592  N   VAL H1101      38.976   7.421 -13.360  1.00 22.50           N  \n",
      "ATOM   1593  CA  VAL H1101      37.945   7.474 -12.325  1.00 22.84           C  \n",
      "ATOM   1594  C   VAL H1101      36.595   7.657 -13.018  1.00 26.47           C  \n",
      "ATOM   1595  O   VAL H1101      36.443   8.561 -13.847  1.00 25.53           O  \n",
      "ATOM   1596  CB  VAL H1101      38.157   8.567 -11.226  1.00 27.28           C  \n",
      "ATOM   1597  CG1 VAL H1101      37.166   8.393 -10.074  1.00 27.67           C  \n",
      "ATOM   1598  CG2 VAL H1101      39.586   8.595 -10.689  1.00 27.47           C  \n",
      "ATOM   1599  N   ASP H1102      35.624   6.789 -12.687  1.00 22.73           N  \n",
      "ATOM   1600  CA  ASP H1102      34.245   6.905 -13.158  1.00 21.90           C  \n",
      "ATOM   1601  C   ASP H1102      33.423   7.127 -11.910  1.00 24.00           C  \n",
      "ATOM   1602  O   ASP H1102      33.388   6.261 -11.032  1.00 23.15           O  \n",
      "ATOM   1603  CB  ASP H1102      33.774   5.668 -13.936  1.00 24.07           C  \n",
      "ATOM   1604  CG  ASP H1102      34.291   5.565 -15.359  1.00 33.41           C  \n",
      "ATOM   1605  OD1 ASP H1102      35.253   6.283 -15.697  1.00 34.53           O  \n",
      "ATOM   1606  OD2 ASP H1102      33.760   4.738 -16.121  1.00 39.41           O  \n",
      "ATOM   1607  N   LYS H1103      32.841   8.326 -11.790  1.00 19.52           N  \n",
      "ATOM   1608  CA  LYS H1103      32.076   8.731 -10.619  1.00 19.13           C  \n",
      "ATOM   1609  C   LYS H1103      30.591   8.846 -10.929  1.00 22.77           C  \n",
      "ATOM   1610  O   LYS H1103      30.209   9.531 -11.876  1.00 21.91           O  \n",
      "ATOM   1611  CB  LYS H1103      32.636  10.069 -10.075  1.00 20.90           C  \n",
      "ATOM   1612  CG  LYS H1103      32.081  10.544  -8.719  1.00 31.47           C  \n",
      "ATOM   1613  CD  LYS H1103      32.563   9.742  -7.487  1.00 37.63           C  \n",
      "ATOM   1614  CE  LYS H1103      34.060   9.696  -7.292  1.00 42.42           C  \n",
      "ATOM   1615  NZ  LYS H1103      34.426   8.904  -6.093  1.00 49.54           N  \n",
      "ATOM   1616  N   ARG H1104      29.763   8.176 -10.115  1.00 19.90           N  \n",
      "ATOM   1617  CA  ARG H1104      28.306   8.229 -10.185  1.00 19.91           C  \n",
      "ATOM   1618  C   ARG H1104      27.921   9.537  -9.478  1.00 24.84           C  \n",
      "ATOM   1619  O   ARG H1104      28.412   9.801  -8.375  1.00 25.45           O  \n",
      "ATOM   1620  CB  ARG H1104      27.666   7.004  -9.476  1.00 19.17           C  \n",
      "ATOM   1621  CG  ARG H1104      27.862   5.676 -10.218  1.00 23.02           C  \n",
      "ATOM   1622  CD  ARG H1104      27.135   4.484  -9.583  1.00 22.05           C  \n",
      "ATOM   1623  NE  ARG H1104      27.453   3.241 -10.295  1.00 23.95           N  \n",
      "ATOM   1624  CZ  ARG H1104      28.331   2.328  -9.880  1.00 36.94           C  \n",
      "ATOM   1625  NH1 ARG H1104      28.941   2.465  -8.707  1.00 18.19           N  \n",
      "ATOM   1626  NH2 ARG H1104      28.569   1.245 -10.612  1.00 25.19           N  \n",
      "ATOM   1627  N   VAL H1105      27.129  10.391 -10.141  1.00 21.21           N  \n",
      "ATOM   1628  CA  VAL H1105      26.707  11.681  -9.573  1.00 21.14           C  \n",
      "ATOM   1629  C   VAL H1105      25.209  11.605  -9.292  1.00 27.59           C  \n",
      "ATOM   1630  O   VAL H1105      24.397  11.621 -10.221  1.00 26.99           O  \n",
      "ATOM   1631  CB  VAL H1105      27.100  12.899 -10.454  1.00 24.07           C  \n",
      "ATOM   1632  CG1 VAL H1105      26.814  14.215  -9.733  1.00 23.74           C  \n",
      "ATOM   1633  CG2 VAL H1105      28.567  12.828 -10.867  1.00 23.27           C  \n",
      "ATOM   1634  N   GLU H1106      24.857  11.501  -8.005  1.00 27.02           N  \n",
      "ATOM   1635  CA  GLU H1106      23.481  11.323  -7.536  1.00 28.33           C  \n",
      "ATOM   1636  C   GLU H1106      22.987  12.448  -6.619  1.00 34.44           C  \n",
      "ATOM   1637  O   GLU H1106      23.804  13.047  -5.917  1.00 34.27           O  \n",
      "ATOM   1638  CB  GLU H1106      23.372   9.974  -6.805  1.00 30.12           C  \n",
      "ATOM   1639  CG  GLU H1106      23.359   8.777  -7.740  1.00 41.36           C  \n",
      "ATOM   1640  CD  GLU H1106      23.390   7.413  -7.076  1.00 62.08           C  \n",
      "ATOM   1641  OE1 GLU H1106      22.675   7.218  -6.067  1.00 62.65           O  \n",
      "ATOM   1642  OE2 GLU H1106      24.100   6.523  -7.595  1.00 53.66           O  \n",
      "ATOM   1643  N   PRO H1107      21.658  12.730  -6.568  1.00 32.90           N  \n",
      "ATOM   1644  CA  PRO H1107      21.170  13.770  -5.643  1.00 38.51           C  \n",
      "ATOM   1645  C   PRO H1107      21.133  13.284  -4.196  1.00 74.98           C  \n",
      "ATOM   1646  O   PRO H1107      21.215  12.085  -3.937  1.00 43.84           O  \n",
      "ATOM   1647  CB  PRO H1107      19.759  14.095  -6.157  1.00 39.85           C  \n",
      "ATOM   1648  CG  PRO H1107      19.502  13.176  -7.311  1.00 42.39           C  \n",
      "ATOM   1649  CD  PRO H1107      20.540  12.107  -7.304  1.00 36.40           C  \n",
      "TER    1650      PRO H1107                                                       \n",
      "ATOM   1650  N   ASP L   1      62.371  37.799 -45.552  1.00 36.90           N  \n",
      "ATOM   1651  CA  ASP L   1      61.344  37.193 -44.705  1.00 35.40           C  \n",
      "ATOM   1652  C   ASP L   1      60.021  37.964 -44.824  1.00 36.16           C  \n",
      "ATOM   1653  O   ASP L   1      59.956  39.137 -44.449  1.00 36.58           O  \n",
      "ATOM   1654  CB  ASP L   1      61.825  37.130 -43.244  1.00 37.66           C  \n",
      "ATOM   1655  CG  ASP L   1      61.132  36.070 -42.408  1.00 48.05           C  \n",
      "ATOM   1656  OD1 ASP L   1      61.816  35.116 -41.975  1.00 48.00           O  \n",
      "ATOM   1657  OD2 ASP L   1      59.916  36.215 -42.153  1.00 53.98           O  \n",
      "ATOM   1658  N   ILE L   2      58.976  37.311 -45.362  1.00 29.03           N  \n",
      "ATOM   1659  CA  ILE L   2      57.667  37.940 -45.564  1.00 26.96           C  \n",
      "ATOM   1660  C   ILE L   2      56.837  37.990 -44.275  1.00 28.98           C  \n",
      "ATOM   1661  O   ILE L   2      56.527  36.951 -43.689  1.00 27.77           O  \n",
      "ATOM   1662  CB  ILE L   2      56.898  37.361 -46.790  1.00 28.94           C  \n",
      "ATOM   1663  CG1 ILE L   2      57.772  37.444 -48.074  1.00 29.58           C  \n",
      "ATOM   1664  CG2 ILE L   2      55.533  38.063 -46.981  1.00 28.59           C  \n",
      "ATOM   1665  CD1 ILE L   2      57.224  36.792 -49.345  1.00 32.69           C  \n",
      "ATOM   1666  N   GLN L   3      56.482  39.210 -43.846  1.00 24.71           N  \n",
      "ATOM   1667  CA  GLN L   3      55.675  39.438 -42.650  1.00 23.63           C  \n",
      "ATOM   1668  C   GLN L   3      54.204  39.569 -43.036  1.00 25.39           C  \n",
      "ATOM   1669  O   GLN L   3      53.857  40.384 -43.897  1.00 25.57           O  \n",
      "ATOM   1670  CB  GLN L   3      56.163  40.677 -41.883  1.00 25.85           C  \n",
      "ATOM   1671  CG  GLN L   3      57.571  40.541 -41.305  1.00 38.90           C  \n",
      "ATOM   1672  CD  GLN L   3      58.508  41.598 -41.840  0.00 60.18           C  \n",
      "ATOM   1673  OE1 GLN L   3      58.352  42.798 -41.585  0.00 56.54           O  \n",
      "ATOM   1674  NE2 GLN L   3      59.522  41.171 -42.575  0.00 52.97           N  \n",
      "ATOM   1675  N   MET L   4      53.345  38.746 -42.413  1.00 19.43           N  \n",
      "ATOM   1676  CA  MET L   4      51.907  38.732 -42.675  1.00 18.20           C  \n",
      "ATOM   1677  C   MET L   4      51.152  39.385 -41.527  1.00 22.38           C  \n",
      "ATOM   1678  O   MET L   4      51.410  39.074 -40.361  1.00 22.41           O  \n",
      "ATOM   1679  CB  MET L   4      51.401  37.293 -42.918  1.00 19.00           C  \n",
      "ATOM   1680  CG  MET L   4      52.088  36.590 -44.083  1.00 21.78           C  \n",
      "ATOM   1681  SD  MET L   4      51.897  37.439 -45.670  1.00 25.56           S  \n",
      "ATOM   1682  CE  MET L   4      50.266  37.035 -46.050  1.00 22.34           C  \n",
      "ATOM   1683  N   THR L   5      50.238  40.303 -41.850  1.00 18.64           N  \n",
      "ATOM   1684  CA  THR L   5      49.473  40.991 -40.815  1.00 18.56           C  \n",
      "ATOM   1685  C   THR L   5      47.972  41.010 -41.054  1.00 21.70           C  \n",
      "ATOM   1686  O   THR L   5      47.519  41.211 -42.179  1.00 22.02           O  \n",
      "ATOM   1687  CB  THR L   5      50.088  42.359 -40.452  1.00 26.82           C  \n",
      "ATOM   1688  OG1 THR L   5      49.477  42.829 -39.252  1.00 31.71           O  \n",
      "ATOM   1689  CG2 THR L   5      49.928  43.400 -41.554  1.00 24.21           C  \n",
      "ATOM   1690  N   GLN L   6      47.211  40.815 -39.982  1.00 17.28           N  \n",
      "ATOM   1691  CA  GLN L   6      45.752  40.854 -39.998  1.00 16.70           C  \n",
      "ATOM   1692  C   GLN L   6      45.364  41.952 -39.019  1.00 21.00           C  \n",
      "ATOM   1693  O   GLN L   6      45.552  41.789 -37.813  1.00 20.01           O  \n",
      "ATOM   1694  CB  GLN L   6      45.167  39.483 -39.612  1.00 16.68           C  \n",
      "ATOM   1695  CG  GLN L   6      45.394  38.423 -40.692  1.00 15.17           C  \n",
      "ATOM   1696  CD  GLN L   6      44.907  37.055 -40.290  1.00 25.46           C  \n",
      "ATOM   1697  OE1 GLN L   6      45.685  36.102 -40.198  1.00 19.24           O  \n",
      "ATOM   1698  NE2 GLN L   6      43.605  36.910 -40.093  1.00 17.36           N  \n",
      "ATOM   1699  N   SER L   7      44.904  43.105 -39.544  1.00 19.73           N  \n",
      "ATOM   1700  CA  SER L   7      44.571  44.281 -38.731  1.00 20.24           C  \n",
      "ATOM   1701  C   SER L   7      43.513  44.035 -37.652  1.00 24.09           C  \n",
      "ATOM   1702  O   SER L   7      43.585  44.653 -36.593  1.00 24.54           O  \n",
      "ATOM   1703  CB  SER L   7      44.218  45.482 -39.603  1.00 24.50           C  \n",
      "ATOM   1704  OG  SER L   7      42.972  45.309 -40.257  1.00 32.57           O  \n",
      "ATOM   1705  N   THR L   8      42.561  43.117 -37.896  1.00 19.49           N  \n",
      "ATOM   1706  CA  THR L   8      41.543  42.797 -36.899  1.00 18.48           C  \n",
      "ATOM   1707  C   THR L   8      41.993  41.597 -36.075  1.00 21.38           C  \n",
      "ATOM   1708  O   THR L   8      42.157  40.503 -36.617  1.00 20.40           O  \n",
      "ATOM   1709  CB  THR L   8      40.149  42.627 -37.542  1.00 23.44           C  \n",
      "ATOM   1710  OG1 THR L   8      39.874  43.762 -38.357  1.00 22.77           O  \n",
      "ATOM   1711  CG2 THR L   8      39.038  42.471 -36.503  1.00 21.25           C  \n",
      "ATOM   1712  N   SER L   9      42.203  41.807 -34.769  1.00 18.10           N  \n",
      "ATOM   1713  CA  SER L   9      42.592  40.744 -33.843  1.00 17.56           C  \n",
      "ATOM   1714  C   SER L   9      41.370  39.883 -33.523  1.00 20.34           C  \n",
      "ATOM   1715  O   SER L   9      41.449  38.655 -33.541  1.00 19.58           O  \n",
      "ATOM   1716  CB  SER L   9      43.195  41.328 -32.568  1.00 21.23           C  \n",
      "ATOM   1717  OG  SER L   9      43.567  40.287 -31.678  1.00 29.61           O  \n",
      "ATOM   1718  N   SER L  10      40.236  40.536 -33.247  1.00 16.80           N  \n",
      "ATOM   1719  CA  SER L  10      38.966  39.878 -32.956  1.00 15.67           C  \n",
      "ATOM   1720  C   SER L  10      37.807  40.824 -33.208  1.00 19.20           C  \n",
      "ATOM   1721  O   SER L  10      37.980  42.044 -33.167  1.00 18.02           O  \n",
      "ATOM   1722  CB  SER L  10      38.923  39.358 -31.519  1.00 18.86           C  \n",
      "ATOM   1723  OG  SER L  10      39.011  40.420 -30.584  1.00 28.58           O  \n",
      "ATOM   1724  N   LEU L  11      36.625  40.252 -33.479  1.00 16.14           N  \n",
      "ATOM   1725  CA  LEU L  11      35.398  41.004 -33.720  1.00 16.68           C  \n",
      "ATOM   1726  C   LEU L  11      34.174  40.139 -33.484  1.00 19.85           C  \n",
      "ATOM   1727  O   LEU L  11      34.261  38.911 -33.528  1.00 18.56           O  \n",
      "ATOM   1728  CB  LEU L  11      35.375  41.647 -35.137  1.00 17.29           C  \n",
      "ATOM   1729  CG  LEU L  11      34.931  40.786 -36.333  1.00 21.93           C  \n",
      "ATOM   1730  CD1 LEU L  11      34.462  41.662 -37.481  1.00 22.94           C  \n",
      "ATOM   1731  CD2 LEU L  11      36.036  39.836 -36.792  1.00 23.16           C  \n",
      "ATOM   1732  N   SER L  12      33.038  40.788 -33.221  1.00 17.45           N  \n",
      "ATOM   1733  CA  SER L  12      31.754  40.123 -33.061  1.00 17.14           C  \n",
      "ATOM   1734  C   SER L  12      30.864  40.589 -34.211  1.00 21.52           C  \n",
      "ATOM   1735  O   SER L  12      30.923  41.757 -34.597  1.00 22.19           O  \n",
      "ATOM   1736  CB  SER L  12      31.124  40.457 -31.711  1.00 20.68           C  \n",
      "ATOM   1737  OG  SER L  12      30.853  41.843 -31.580  1.00 30.23           O  \n",
      "ATOM   1738  N   ALA L  13      30.099  39.669 -34.802  1.00 18.02           N  \n",
      "ATOM   1739  CA  ALA L  13      29.185  39.986 -35.902  1.00 18.16           C  \n",
      "ATOM   1740  C   ALA L  13      27.944  39.123 -35.806  1.00 20.30           C  \n",
      "ATOM   1741  O   ALA L  13      28.009  37.981 -35.343  1.00 18.94           O  \n",
      "ATOM   1742  CB  ALA L  13      29.871  39.800 -37.248  1.00 19.00           C  \n",
      "ATOM   1743  N   SER L  14      26.806  39.682 -36.208  1.00 17.42           N  \n",
      "ATOM   1744  CA  SER L  14      25.526  38.989 -36.130  1.00 17.10           C  \n",
      "ATOM   1745  C   SER L  14      25.340  38.019 -37.281  1.00 20.43           C  \n",
      "ATOM   1746  O   SER L  14      25.926  38.201 -38.346  1.00 19.44           O  \n",
      "ATOM   1747  CB  SER L  14      24.381  39.998 -36.111  1.00 20.69           C  \n",
      "ATOM   1748  OG  SER L  14      24.496  40.888 -35.013  1.00 24.79           O  \n",
      "ATOM   1749  N   VAL L  15      24.508  36.987 -37.067  1.00 17.75           N  \n",
      "ATOM   1750  CA  VAL L  15      24.123  36.019 -38.094  1.00 17.46           C  \n",
      "ATOM   1751  C   VAL L  15      23.440  36.836 -39.219  1.00 21.15           C  \n",
      "ATOM   1752  O   VAL L  15      22.607  37.701 -38.934  1.00 20.51           O  \n",
      "ATOM   1753  CB  VAL L  15      23.195  34.930 -37.482  1.00 21.20           C  \n",
      "ATOM   1754  CG1 VAL L  15      22.452  34.133 -38.551  1.00 21.57           C  \n",
      "ATOM   1755  CG2 VAL L  15      23.979  33.998 -36.564  1.00 20.08           C  \n",
      "ATOM   1756  N   GLY L  16      23.873  36.615 -40.457  1.00 17.50           N  \n",
      "ATOM   1757  CA  GLY L  16      23.352  37.329 -41.617  1.00 17.72           C  \n",
      "ATOM   1758  C   GLY L  16      24.202  38.507 -42.047  1.00 21.35           C  \n",
      "ATOM   1759  O   GLY L  16      23.984  39.054 -43.131  1.00 20.58           O  \n",
      "ATOM   1760  N   ASP L  17      25.176  38.912 -41.206  1.00 17.39           N  \n",
      "ATOM   1761  CA  ASP L  17      26.071  40.031 -41.524  1.00 17.94           C  \n",
      "ATOM   1762  C   ASP L  17      27.105  39.644 -42.569  1.00 21.80           C  \n",
      "ATOM   1763  O   ASP L  17      27.479  38.469 -42.686  1.00 19.76           O  \n",
      "ATOM   1764  CB  ASP L  17      26.817  40.528 -40.267  1.00 19.09           C  \n",
      "ATOM   1765  CG  ASP L  17      26.038  41.419 -39.309  1.00 25.50           C  \n",
      "ATOM   1766  OD1 ASP L  17      24.834  41.656 -39.556  1.00 26.11           O  \n",
      "ATOM   1767  OD2 ASP L  17      26.633  41.865 -38.301  1.00 26.20           O  \n",
      "ATOM   1768  N   ARG L  18      27.581  40.650 -43.313  1.00 19.72           N  \n",
      "ATOM   1769  CA  ARG L  18      28.661  40.511 -44.276  1.00 19.72           C  \n",
      "ATOM   1770  C   ARG L  18      29.929  40.797 -43.462  1.00 24.03           C  \n",
      "ATOM   1771  O   ARG L  18      30.033  41.858 -42.836  1.00 24.38           O  \n",
      "ATOM   1772  CB  ARG L  18      28.497  41.509 -45.437  1.00 20.16           C  \n",
      "ATOM   1773  CG  ARG L  18      29.537  41.348 -46.544  1.00 27.07           C  \n",
      "ATOM   1774  CD  ARG L  18      29.283  42.321 -47.683  1.00 34.23           C  \n",
      "ATOM   1775  NE  ARG L  18      30.375  42.329 -48.659  1.00 42.59           N  \n",
      "ATOM   1776  CZ  ARG L  18      30.448  41.531 -49.721  1.00 57.07           C  \n",
      "ATOM   1777  NH1 ARG L  18      29.497  40.633 -49.953  1.00 39.71           N  \n",
      "ATOM   1778  NH2 ARG L  18      31.477  41.616 -50.553  1.00 48.29           N  \n",
      "ATOM   1779  N   VAL L  19      30.846  39.822 -43.408  1.00 19.58           N  \n",
      "ATOM   1780  CA  VAL L  19      32.088  39.920 -42.638  1.00 19.14           C  \n",
      "ATOM   1781  C   VAL L  19      33.284  40.004 -43.589  1.00 23.14           C  \n",
      "ATOM   1782  O   VAL L  19      33.377  39.224 -44.532  1.00 22.82           O  \n",
      "ATOM   1783  CB  VAL L  19      32.227  38.755 -41.612  1.00 22.23           C  \n",
      "ATOM   1784  CG1 VAL L  19      33.535  38.845 -40.822  1.00 21.91           C  \n",
      "ATOM   1785  CG2 VAL L  19      31.035  38.720 -40.658  1.00 21.82           C  \n",
      "ATOM   1786  N   THR L  20      34.195  40.946 -43.318  1.00 19.78           N  \n",
      "ATOM   1787  CA  THR L  20      35.406  41.177 -44.095  1.00 20.47           C  \n",
      "ATOM   1788  C   THR L  20      36.619  41.004 -43.179  1.00 23.79           C  \n",
      "ATOM   1789  O   THR L  20      36.700  41.649 -42.129  1.00 23.44           O  \n",
      "ATOM   1790  CB  THR L  20      35.298  42.553 -44.800  1.00 32.99           C  \n",
      "ATOM   1791  OG1 THR L  20      34.469  42.410 -45.956  1.00 35.09           O  \n",
      "ATOM   1792  CG2 THR L  20      36.642  43.133 -45.200  1.00 34.59           C  \n",
      "ATOM   1793  N   ILE L  21      37.533  40.095 -43.560  1.00 19.16           N  \n",
      "ATOM   1794  CA  ILE L  21      38.761  39.827 -42.812  1.00 17.83           C  \n",
      "ATOM   1795  C   ILE L  21      39.926  40.107 -43.746  1.00 21.23           C  \n",
      "ATOM   1796  O   ILE L  21      40.031  39.477 -44.799  1.00 20.28           O  \n",
      "ATOM   1797  CB  ILE L  21      38.787  38.397 -42.195  1.00 19.45           C  \n",
      "ATOM   1798  CG1 ILE L  21      37.671  38.243 -41.125  1.00 19.25           C  \n",
      "ATOM   1799  CG2 ILE L  21      40.176  38.076 -41.601  1.00 19.10           C  \n",
      "ATOM   1800  CD1 ILE L  21      37.314  36.783 -40.711  1.00 21.63           C  \n",
      "ATOM   1801  N   THR L  22      40.776  41.076 -43.378  1.00 18.21           N  \n",
      "ATOM   1802  CA  THR L  22      41.908  41.476 -44.213  1.00 18.26           C  \n",
      "ATOM   1803  C   THR L  22      43.220  40.838 -43.792  1.00 21.54           C  \n",
      "ATOM   1804  O   THR L  22      43.410  40.481 -42.627  1.00 20.71           O  \n",
      "ATOM   1805  CB  THR L  22      42.035  43.014 -44.319  1.00 26.25           C  \n",
      "ATOM   1806  OG1 THR L  22      42.485  43.548 -43.074  1.00 24.56           O  \n",
      "ATOM   1807  CG2 THR L  22      40.743  43.698 -44.770  1.00 26.65           C  \n",
      "ATOM   1808  N   CYS L  23      44.135  40.737 -44.758  1.00 19.31           N  \n",
      "ATOM   1809  CA  CYS L  23      45.480  40.211 -44.609  1.00 19.29           C  \n",
      "ATOM   1810  C   CYS L  23      46.399  41.080 -45.467  1.00 23.21           C  \n",
      "ATOM   1811  O   CYS L  23      46.071  41.373 -46.616  1.00 22.83           O  \n",
      "ATOM   1812  CB  CYS L  23      45.530  38.744 -45.030  1.00 19.70           C  \n",
      "ATOM   1813  SG  CYS L  23      47.172  37.991 -44.934  1.00 24.06           S  \n",
      "ATOM   1814  N   ARG L  24      47.528  41.511 -44.901  1.00 20.11           N  \n",
      "ATOM   1815  CA  ARG L  24      48.509  42.330 -45.609  1.00 21.01           C  \n",
      "ATOM   1816  C   ARG L  24      49.893  41.685 -45.556  1.00 24.46           C  \n",
      "ATOM   1817  O   ARG L  24      50.362  41.319 -44.479  1.00 23.35           O  \n",
      "ATOM   1818  CB  ARG L  24      48.533  43.770 -45.059  1.00 21.46           C  \n",
      "ATOM   1819  CG  ARG L  24      49.553  44.687 -45.746  1.00 32.87           C  \n",
      "ATOM   1820  CD  ARG L  24      49.336  46.155 -45.428  1.00 43.12           C  \n",
      "ATOM   1821  NE  ARG L  24      48.257  46.727 -46.235  1.00 54.93           N  \n",
      "ATOM   1822  CZ  ARG L  24      47.923  48.014 -46.248  1.00 71.91           C  \n",
      "ATOM   1823  NH1 ARG L  24      48.582  48.887 -45.495  1.00 61.02           N  \n",
      "ATOM   1824  NH2 ARG L  24      46.928  48.439 -47.015  1.00 59.20           N  \n",
      "ATOM   1825  N   ALA L  25      50.542  41.559 -46.725  1.00 21.95           N  \n",
      "ATOM   1826  CA  ALA L  25      51.892  41.008 -46.845  1.00 22.07           C  \n",
      "ATOM   1827  C   ALA L  25      52.912  42.149 -46.910  1.00 26.86           C  \n",
      "ATOM   1828  O   ALA L  25      52.610  43.203 -47.472  1.00 27.77           O  \n",
      "ATOM   1829  CB  ALA L  25      51.991  40.146 -48.090  1.00 22.68           C  \n",
      "ATOM   1830  N   SER L  26      54.120  41.940 -46.345  1.00 23.31           N  \n",
      "ATOM   1831  CA  SER L  26      55.189  42.956 -46.335  1.00 23.74           C  \n",
      "ATOM   1832  C   SER L  26      55.767  43.251 -47.734  1.00 27.92           C  \n",
      "ATOM   1833  O   SER L  26      56.406  44.283 -47.925  1.00 27.93           O  \n",
      "ATOM   1834  CB  SER L  26      56.298  42.572 -45.358  1.00 26.53           C  \n",
      "ATOM   1835  OG  SER L  26      56.906  41.341 -45.712  1.00 31.70           O  \n",
      "ATOM   1836  N   GLN L  27      55.543  42.343 -48.701  1.00 24.07           N  \n",
      "ATOM   1837  CA  GLN L  27      55.973  42.489 -50.097  1.00 24.72           C  \n",
      "ATOM   1838  C   GLN L  27      55.006  41.720 -51.004  1.00 28.42           C  \n",
      "ATOM   1839  O   GLN L  27      54.159  40.985 -50.494  1.00 26.84           O  \n",
      "ATOM   1840  CB  GLN L  27      57.436  42.029 -50.294  1.00 25.96           C  \n",
      "ATOM   1841  CG  GLN L  27      57.660  40.538 -50.082  1.00 32.59           C  \n",
      "ATOM   1842  CD  GLN L  27      59.117  40.171 -50.097  1.00 42.42           C  \n",
      "ATOM   1843  OE1 GLN L  27      59.842  40.377 -49.121  1.00 36.44           O  \n",
      "ATOM   1844  NE2 GLN L  27      59.565  39.582 -51.190  1.00 33.55           N  \n",
      "ATOM   1845  N   ASP L  28      55.123  41.895 -52.335  1.00 25.70           N  \n",
      "ATOM   1846  CA  ASP L  28      54.268  41.219 -53.318  1.00 25.11           C  \n",
      "ATOM   1847  C   ASP L  28      54.313  39.684 -53.157  1.00 26.78           C  \n",
      "ATOM   1848  O   ASP L  28      55.388  39.087 -53.217  1.00 26.23           O  \n",
      "ATOM   1849  CB  ASP L  28      54.655  41.652 -54.750  1.00 27.83           C  \n",
      "ATOM   1850  CG  ASP L  28      53.835  41.060 -55.889  1.00 35.64           C  \n",
      "ATOM   1851  OD1 ASP L  28      52.728  40.532 -55.623  1.00 33.01           O  \n",
      "ATOM   1852  OD2 ASP L  28      54.285  41.153 -57.049  1.00 43.36           O  \n",
      "ATOM   1853  N   ILE L  29      53.142  39.063 -52.912  1.00 21.98           N  \n",
      "ATOM   1854  CA  ILE L  29      53.043  37.608 -52.753  1.00 20.67           C  \n",
      "ATOM   1855  C   ILE L  29      52.455  36.864 -53.965  1.00 24.18           C  \n",
      "ATOM   1856  O   ILE L  29      52.236  35.653 -53.900  1.00 22.00           O  \n",
      "ATOM   1857  CB  ILE L  29      52.540  37.118 -51.367  1.00 22.52           C  \n",
      "ATOM   1858  CG1 ILE L  29      51.121  37.617 -51.063  1.00 22.41           C  \n",
      "ATOM   1859  CG2 ILE L  29      53.546  37.476 -50.260  1.00 23.53           C  \n",
      "ATOM   1860  CD1 ILE L  29      50.388  36.788 -50.061  1.00 23.95           C  \n",
      "ATOM   1861  N   SER L  30      52.254  37.599 -55.089  1.00 22.85           N  \n",
      "ATOM   1862  CA  SER L  30      51.805  37.093 -56.396  1.00 23.16           C  \n",
      "ATOM   1863  C   SER L  30      50.627  36.101 -56.315  1.00 26.50           C  \n",
      "ATOM   1864  O   SER L  30      50.679  35.024 -56.918  1.00 26.31           O  \n",
      "ATOM   1865  CB  SER L  30      52.982  36.467 -57.146  1.00 26.48           C  \n",
      "ATOM   1866  OG  SER L  30      54.172  37.226 -57.010  1.00 33.06           O  \n",
      "ATOM   1867  N   ASN L  31      49.583  36.458 -55.540  1.00 22.11           N  \n",
      "ATOM   1868  CA  ASN L  31      48.376  35.645 -55.323  1.00 21.28           C  \n",
      "ATOM   1869  C   ASN L  31      48.583  34.305 -54.587  1.00 23.41           C  \n",
      "ATOM   1870  O   ASN L  31      47.619  33.555 -54.420  1.00 22.10           O  \n",
      "ATOM   1871  CB  ASN L  31      47.549  35.468 -56.613  1.00 23.11           C  \n",
      "ATOM   1872  CG  ASN L  31      46.981  36.758 -57.148  1.00 44.33           C  \n",
      "ATOM   1873  OD1 ASN L  31      46.120  37.390 -56.534  1.00 36.24           O  \n",
      "ATOM   1874  ND2 ASN L  31      47.451  37.173 -58.310  1.00 41.55           N  \n",
      "ATOM   1875  N   TYR L  32      49.814  34.013 -54.118  1.00 20.00           N  \n",
      "ATOM   1876  CA  TYR L  32      50.091  32.772 -53.388  1.00 18.68           C  \n",
      "ATOM   1877  C   TYR L  32      49.682  32.937 -51.929  1.00 22.31           C  \n",
      "ATOM   1878  O   TYR L  32      50.521  33.107 -51.039  1.00 22.10           O  \n",
      "ATOM   1879  CB  TYR L  32      51.560  32.327 -53.548  1.00 20.00           C  \n",
      "ATOM   1880  CG  TYR L  32      51.977  32.060 -54.980  1.00 23.00           C  \n",
      "ATOM   1881  CD1 TYR L  32      51.266  31.169 -55.783  1.00 24.95           C  \n",
      "ATOM   1882  CD2 TYR L  32      53.101  32.673 -55.524  1.00 24.59           C  \n",
      "ATOM   1883  CE1 TYR L  32      51.662  30.900 -57.094  1.00 27.05           C  \n",
      "ATOM   1884  CE2 TYR L  32      53.504  32.416 -56.835  1.00 26.41           C  \n",
      "ATOM   1885  CZ  TYR L  32      52.776  31.535 -57.619  1.00 32.77           C  \n",
      "ATOM   1886  OH  TYR L  32      53.166  31.286 -58.913  1.00 33.96           O  \n",
      "ATOM   1887  N   LEU L  33      48.365  32.936 -51.703  1.00 18.98           N  \n",
      "ATOM   1888  CA  LEU L  33      47.766  33.136 -50.396  1.00 18.35           C  \n",
      "ATOM   1889  C   LEU L  33      46.595  32.195 -50.183  1.00 19.23           C  \n",
      "ATOM   1890  O   LEU L  33      45.778  31.997 -51.085  1.00 18.39           O  \n",
      "ATOM   1891  CB  LEU L  33      47.315  34.600 -50.225  1.00 19.50           C  \n",
      "ATOM   1892  CG  LEU L  33      46.689  34.912 -48.869  1.00 24.71           C  \n",
      "ATOM   1893  CD1 LEU L  33      47.520  35.846 -48.071  1.00 25.31           C  \n",
      "ATOM   1894  CD2 LEU L  33      45.263  35.345 -49.005  1.00 27.33           C  \n",
      "ATOM   1895  N   SER L  34      46.508  31.637 -48.970  1.00 14.80           N  \n",
      "ATOM   1896  CA  SER L  34      45.421  30.746 -48.576  1.00 13.27           C  \n",
      "ATOM   1897  C   SER L  34      44.841  31.139 -47.219  1.00 16.33           C  \n",
      "ATOM   1898  O   SER L  34      45.540  31.727 -46.387  1.00 15.43           O  \n",
      "ATOM   1899  CB  SER L  34      45.860  29.282 -48.606  1.00 14.69           C  \n",
      "ATOM   1900  OG  SER L  34      47.102  29.073 -47.953  1.00 17.68           O  \n",
      "ATOM   1901  N   TRP L  35      43.550  30.842 -47.023  1.00 13.10           N  \n",
      "ATOM   1902  CA  TRP L  35      42.793  31.151 -45.812  1.00 13.23           C  \n",
      "ATOM   1903  C   TRP L  35      42.404  29.888 -45.077  1.00 15.93           C  \n",
      "ATOM   1904  O   TRP L  35      41.957  28.919 -45.697  1.00 14.97           O  \n",
      "ATOM   1905  CB  TRP L  35      41.544  31.957 -46.153  1.00 12.82           C  \n",
      "ATOM   1906  CG  TRP L  35      41.826  33.372 -46.556  1.00 14.69           C  \n",
      "ATOM   1907  CD1 TRP L  35      41.869  33.872 -47.825  1.00 18.27           C  \n",
      "ATOM   1908  CD2 TRP L  35      42.068  34.478 -45.679  1.00 15.02           C  \n",
      "ATOM   1909  NE1 TRP L  35      42.105  35.227 -47.792  1.00 18.48           N  \n",
      "ATOM   1910  CE2 TRP L  35      42.243  35.624 -46.486  1.00 19.75           C  \n",
      "ATOM   1911  CE3 TRP L  35      42.150  34.614 -44.281  1.00 16.18           C  \n",
      "ATOM   1912  CZ2 TRP L  35      42.482  36.892 -45.944  1.00 19.54           C  \n",
      "ATOM   1913  CZ3 TRP L  35      42.378  35.871 -43.745  1.00 18.18           C  \n",
      "ATOM   1914  CH2 TRP L  35      42.536  36.993 -44.570  1.00 19.59           C  \n",
      "ATOM   1915  N   TYR L  36      42.575  29.907 -43.747  1.00 12.20           N  \n",
      "ATOM   1916  CA  TYR L  36      42.296  28.770 -42.876  1.00 11.17           C  \n",
      "ATOM   1917  C   TYR L  36      41.356  29.139 -41.757  1.00 15.52           C  \n",
      "ATOM   1918  O   TYR L  36      41.397  30.264 -41.252  1.00 15.38           O  \n",
      "ATOM   1919  CB  TYR L  36      43.608  28.176 -42.322  1.00 11.96           C  \n",
      "ATOM   1920  CG  TYR L  36      44.537  27.731 -43.425  1.00 12.39           C  \n",
      "ATOM   1921  CD1 TYR L  36      45.446  28.617 -43.996  1.00 14.33           C  \n",
      "ATOM   1922  CD2 TYR L  36      44.459  26.445 -43.951  1.00 12.77           C  \n",
      "ATOM   1923  CE1 TYR L  36      46.260  28.233 -45.057  1.00 14.41           C  \n",
      "ATOM   1924  CE2 TYR L  36      45.283  26.043 -45.003  1.00 13.33           C  \n",
      "ATOM   1925  CZ  TYR L  36      46.167  26.947 -45.565  1.00 17.25           C  \n",
      "ATOM   1926  OH  TYR L  36      46.972  26.562 -46.605  1.00 16.91           O  \n",
      "ATOM   1927  N   GLN L  37      40.507  28.181 -41.377  1.00 11.89           N  \n",
      "ATOM   1928  CA  GLN L  37      39.501  28.331 -40.338  1.00 11.41           C  \n",
      "ATOM   1929  C   GLN L  37      39.790  27.376 -39.186  1.00 14.47           C  \n",
      "ATOM   1930  O   GLN L  37      39.827  26.153 -39.378  1.00 13.52           O  \n",
      "ATOM   1931  CB  GLN L  37      38.109  28.053 -40.933  1.00 12.66           C  \n",
      "ATOM   1932  CG  GLN L  37      36.958  28.260 -39.960  1.00 15.64           C  \n",
      "ATOM   1933  CD  GLN L  37      35.677  27.667 -40.482  1.00 23.05           C  \n",
      "ATOM   1934  OE1 GLN L  37      35.610  26.485 -40.855  1.00 14.82           O  \n",
      "ATOM   1935  NE2 GLN L  37      34.620  28.464 -40.483  1.00 14.74           N  \n",
      "ATOM   1936  N   GLN L  38      39.992  27.938 -37.990  1.00 11.39           N  \n",
      "ATOM   1937  CA  GLN L  38      40.234  27.138 -36.800  1.00 10.71           C  \n",
      "ATOM   1938  C   GLN L  38      39.069  27.266 -35.830  1.00 15.24           C  \n",
      "ATOM   1939  O   GLN L  38      38.955  28.266 -35.114  1.00 13.59           O  \n",
      "ATOM   1940  CB  GLN L  38      41.571  27.494 -36.133  1.00 11.70           C  \n",
      "ATOM   1941  CG  GLN L  38      41.921  26.541 -34.985  1.00 15.51           C  \n",
      "ATOM   1942  CD  GLN L  38      43.210  26.895 -34.296  1.00 25.83           C  \n",
      "ATOM   1943  OE1 GLN L  38      43.462  28.049 -33.949  1.00 20.05           O  \n",
      "ATOM   1944  NE2 GLN L  38      44.034  25.891 -34.035  1.00 19.21           N  \n",
      "ATOM   1945  N   LYS L  39      38.212  26.246 -35.808  1.00 13.85           N  \n",
      "ATOM   1946  CA  LYS L  39      37.066  26.193 -34.900  1.00 13.75           C  \n",
      "ATOM   1947  C   LYS L  39      37.520  25.580 -33.582  1.00 20.08           C  \n",
      "ATOM   1948  O   LYS L  39      38.353  24.674 -33.612  1.00 18.82           O  \n",
      "ATOM   1949  CB  LYS L  39      35.919  25.369 -35.500  1.00 14.75           C  \n",
      "ATOM   1950  CG  LYS L  39      35.200  26.081 -36.628  1.00 16.96           C  \n",
      "ATOM   1951  CD  LYS L  39      34.084  25.220 -37.176  1.00 21.33           C  \n",
      "ATOM   1952  CE  LYS L  39      33.432  25.883 -38.353  1.00 25.06           C  \n",
      "ATOM   1953  NZ  LYS L  39      32.193  25.180 -38.771  1.00 25.30           N  \n",
      "ATOM   1954  N   PRO L  40      36.993  26.048 -32.421  1.00 19.70           N  \n",
      "ATOM   1955  CA  PRO L  40      37.422  25.474 -31.131  1.00 19.88           C  \n",
      "ATOM   1956  C   PRO L  40      37.245  23.957 -31.045  1.00 24.64           C  \n",
      "ATOM   1957  O   PRO L  40      36.176  23.437 -31.371  1.00 24.66           O  \n",
      "ATOM   1958  CB  PRO L  40      36.544  26.211 -30.112  1.00 21.50           C  \n",
      "ATOM   1959  CG  PRO L  40      36.187  27.490 -30.772  1.00 26.21           C  \n",
      "ATOM   1960  CD  PRO L  40      36.009  27.134 -32.219  1.00 21.62           C  \n",
      "ATOM   1961  N   GLY L  41      38.322  23.267 -30.675  1.00 22.04           N  \n",
      "ATOM   1962  CA  GLY L  41      38.348  21.813 -30.526  1.00 21.87           C  \n",
      "ATOM   1963  C   GLY L  41      38.214  21.000 -31.801  1.00 25.07           C  \n",
      "ATOM   1964  O   GLY L  41      37.883  19.812 -31.743  1.00 25.16           O  \n",
      "ATOM   1965  N   LYS L  42      38.474  21.625 -32.965  1.00 19.98           N  \n",
      "ATOM   1966  CA  LYS L  42      38.392  20.956 -34.263  1.00 18.51           C  \n",
      "ATOM   1967  C   LYS L  42      39.669  21.186 -35.057  1.00 19.72           C  \n",
      "ATOM   1968  O   LYS L  42      40.345  22.196 -34.854  1.00 19.22           O  \n",
      "ATOM   1969  CB  LYS L  42      37.187  21.474 -35.071  1.00 20.70           C  \n",
      "ATOM   1970  CG  LYS L  42      35.831  21.056 -34.515  1.00 27.64           C  \n",
      "ATOM   1971  CD  LYS L  42      34.697  21.666 -35.319  1.00 32.78           C  \n",
      "ATOM   1972  CE  LYS L  42      33.349  21.251 -34.781  1.00 39.97           C  \n",
      "ATOM   1973  NZ  LYS L  42      32.243  21.966 -35.467  1.00 45.38           N  \n",
      "ATOM   1974  N   ALA L  43      39.975  20.273 -35.991  1.00 15.10           N  \n",
      "ATOM   1975  CA  ALA L  43      41.136  20.406 -36.870  1.00 14.88           C  \n",
      "ATOM   1976  C   ALA L  43      40.967  21.649 -37.750  1.00 16.92           C  \n",
      "ATOM   1977  O   ALA L  43      39.840  21.976 -38.145  1.00 15.84           O  \n",
      "ATOM   1978  CB  ALA L  43      41.264  19.175 -37.748  1.00 15.67           C  \n",
      "ATOM   1979  N   VAL L  44      42.082  22.339 -38.045  1.00 13.19           N  \n",
      "ATOM   1980  CA  VAL L  44      42.111  23.516 -38.926  1.00 12.17           C  \n",
      "ATOM   1981  C   VAL L  44      41.616  23.054 -40.318  1.00 15.58           C  \n",
      "ATOM   1982  O   VAL L  44      41.910  21.931 -40.738  1.00 14.81           O  \n",
      "ATOM   1983  CB  VAL L  44      43.534  24.148 -38.987  1.00 15.55           C  \n",
      "ATOM   1984  CG1 VAL L  44      43.626  25.250 -40.044  1.00 15.31           C  \n",
      "ATOM   1985  CG2 VAL L  44      43.976  24.680 -37.620  1.00 15.20           C  \n",
      "ATOM   1986  N   LYS L  45      40.834  23.902 -40.995  1.00 12.13           N  \n",
      "ATOM   1987  CA  LYS L  45      40.278  23.605 -42.305  1.00 12.41           C  \n",
      "ATOM   1988  C   LYS L  45      40.712  24.667 -43.318  1.00 15.38           C  \n",
      "ATOM   1989  O   LYS L  45      40.713  25.860 -43.008  1.00 14.53           O  \n",
      "ATOM   1990  CB  LYS L  45      38.740  23.569 -42.197  1.00 15.66           C  \n",
      "ATOM   1991  CG  LYS L  45      37.990  23.175 -43.465  1.00 29.57           C  \n",
      "ATOM   1992  CD  LYS L  45      36.472  23.406 -43.335  1.00 34.74           C  \n",
      "ATOM   1993  CE  LYS L  45      35.772  22.349 -42.508  1.00 35.59           C  \n",
      "ATOM   1994  NZ  LYS L  45      34.303  22.565 -42.461  1.00 35.60           N  \n",
      "ATOM   1995  N   LEU L  46      41.048  24.230 -44.535  1.00 12.17           N  \n",
      "ATOM   1996  CA  LEU L  46      41.373  25.145 -45.623  1.00 12.06           C  \n",
      "ATOM   1997  C   LEU L  46      40.038  25.648 -46.204  1.00 15.59           C  \n",
      "ATOM   1998  O   LEU L  46      39.163  24.840 -46.504  1.00 15.38           O  \n",
      "ATOM   1999  CB  LEU L  46      42.194  24.425 -46.719  1.00 12.07           C  \n",
      "ATOM   2000  CG  LEU L  46      42.348  25.175 -48.063  1.00 16.92           C  \n",
      "ATOM   2001  CD1 LEU L  46      43.299  26.362 -47.941  1.00 17.26           C  \n",
      "ATOM   2002  CD2 LEU L  46      42.819  24.246 -49.158  1.00 18.32           C  \n",
      "ATOM   2003  N   LEU L  47      39.892  26.962 -46.375  1.00 12.64           N  \n",
      "ATOM   2004  CA  LEU L  47      38.676  27.539 -46.950  1.00 13.05           C  \n",
      "ATOM   2005  C   LEU L  47      38.917  27.972 -48.383  1.00 17.00           C  \n",
      "ATOM   2006  O   LEU L  47      38.149  27.620 -49.278  1.00 15.87           O  \n",
      "ATOM   2007  CB  LEU L  47      38.210  28.779 -46.155  1.00 13.39           C  \n",
      "ATOM   2008  CG  LEU L  47      37.878  28.634 -44.671  1.00 18.40           C  \n",
      "ATOM   2009  CD1 LEU L  47      37.627  30.005 -44.070  1.00 19.74           C  \n",
      "ATOM   2010  CD2 LEU L  47      36.659  27.734 -44.445  1.00 20.19           C  \n",
      "ATOM   2011  N   ILE L  48      39.962  28.794 -48.576  1.00 14.17           N  \n",
      "ATOM   2012  CA  ILE L  48      40.319  29.428 -49.844  1.00 14.34           C  \n",
      "ATOM   2013  C   ILE L  48      41.804  29.234 -50.103  1.00 17.33           C  \n",
      "ATOM   2014  O   ILE L  48      42.604  29.404 -49.186  1.00 16.07           O  \n",
      "ATOM   2015  CB  ILE L  48      39.948  30.956 -49.791  1.00 17.65           C  \n",
      "ATOM   2016  CG1 ILE L  48      38.438  31.232 -49.489  1.00 18.56           C  \n",
      "ATOM   2017  CG2 ILE L  48      40.431  31.729 -51.022  1.00 18.13           C  \n",
      "ATOM   2018  CD1 ILE L  48      37.421  30.957 -50.624  1.00 24.13           C  \n",
      "ATOM   2019  N   TYR L  49      42.170  28.908 -51.358  1.00 14.31           N  \n",
      "ATOM   2020  CA  TYR L  49      43.559  28.742 -51.789  1.00 14.22           C  \n",
      "ATOM   2021  C   TYR L  49      43.785  29.563 -53.056  1.00 19.40           C  \n",
      "ATOM   2022  O   TYR L  49      42.821  29.852 -53.768  1.00 19.29           O  \n",
      "ATOM   2023  CB  TYR L  49      43.921  27.252 -51.981  1.00 14.84           C  \n",
      "ATOM   2024  CG  TYR L  49      43.217  26.564 -53.131  1.00 16.37           C  \n",
      "ATOM   2025  CD1 TYR L  49      43.836  26.428 -54.371  1.00 19.18           C  \n",
      "ATOM   2026  CD2 TYR L  49      41.950  26.010 -52.968  1.00 16.46           C  \n",
      "ATOM   2027  CE1 TYR L  49      43.199  25.780 -55.431  1.00 19.96           C  \n",
      "ATOM   2028  CE2 TYR L  49      41.305  25.360 -54.019  1.00 17.67           C  \n",
      "ATOM   2029  CZ  TYR L  49      41.933  25.247 -55.250  1.00 24.04           C  \n",
      "ATOM   2030  OH  TYR L  49      41.297  24.617 -56.294  1.00 24.42           O  \n",
      "ATOM   2031  N   TYR L  50      45.047  29.953 -53.331  1.00 17.17           N  \n",
      "ATOM   2032  CA  TYR L  50      45.424  30.780 -54.486  1.00 17.54           C  \n",
      "ATOM   2033  C   TYR L  50      44.527  32.026 -54.606  1.00 19.97           C  \n",
      "ATOM   2034  O   TYR L  50      43.912  32.279 -55.648  1.00 19.22           O  \n",
      "ATOM   2035  CB  TYR L  50      45.503  29.953 -55.786  1.00 19.95           C  \n",
      "ATOM   2036  CG  TYR L  50      46.223  30.649 -56.926  1.00 23.98           C  \n",
      "ATOM   2037  CD1 TYR L  50      47.531  31.103 -56.779  1.00 26.47           C  \n",
      "ATOM   2038  CD2 TYR L  50      45.612  30.812 -58.165  1.00 26.26           C  \n",
      "ATOM   2039  CE1 TYR L  50      48.202  31.731 -57.829  1.00 28.56           C  \n",
      "ATOM   2040  CE2 TYR L  50      46.274  31.434 -59.224  1.00 28.52           C  \n",
      "ATOM   2041  CZ  TYR L  50      47.571  31.888 -59.052  1.00 37.13           C  \n",
      "ATOM   2042  OH  TYR L  50      48.231  32.499 -60.094  1.00 41.82           O  \n",
      "ATOM   2043  N   THR L  51      44.416  32.760 -53.479  1.00 16.24           N  \n",
      "ATOM   2044  CA  THR L  51      43.641  33.993 -53.300  1.00 16.18           C  \n",
      "ATOM   2045  C   THR L  51      42.121  33.842 -53.334  1.00 19.85           C  \n",
      "ATOM   2046  O   THR L  51      41.461  34.369 -52.445  1.00 18.62           O  \n",
      "ATOM   2047  CB  THR L  51      44.137  35.120 -54.243  1.00 22.56           C  \n",
      "ATOM   2048  OG1 THR L  51      45.518  35.338 -53.996  1.00 23.90           O  \n",
      "ATOM   2049  CG2 THR L  51      43.373  36.432 -54.069  1.00 19.90           C  \n",
      "ATOM   2050  N   SER L  52      41.568  33.199 -54.379  1.00 17.35           N  \n",
      "ATOM   2051  CA  SER L  52      40.123  33.149 -54.608  1.00 17.55           C  \n",
      "ATOM   2052  C   SER L  52      39.484  31.779 -54.859  1.00 22.91           C  \n",
      "ATOM   2053  O   SER L  52      38.259  31.711 -55.010  1.00 23.35           O  \n",
      "ATOM   2054  CB  SER L  52      39.782  34.071 -55.775  1.00 20.35           C  \n",
      "ATOM   2055  OG  SER L  52      40.450  33.648 -56.953  1.00 26.00           O  \n",
      "ATOM   2056  N   LYS L  53      40.282  30.706 -54.949  1.00 19.40           N  \n",
      "ATOM   2057  CA  LYS L  53      39.732  29.382 -55.229  1.00 18.94           C  \n",
      "ATOM   2058  C   LYS L  53      39.155  28.723 -53.984  1.00 21.66           C  \n",
      "ATOM   2059  O   LYS L  53      39.837  28.603 -52.966  1.00 20.57           O  \n",
      "ATOM   2060  CB  LYS L  53      40.752  28.485 -55.945  1.00 21.45           C  \n",
      "ATOM   2061  CG  LYS L  53      41.070  28.940 -57.369  1.00 31.27           C  \n",
      "ATOM   2062  CD  LYS L  53      41.807  27.867 -58.153  0.00 42.04           C  \n",
      "ATOM   2063  CE  LYS L  53      41.998  28.254 -59.598  0.00 54.45           C  \n",
      "ATOM   2064  NZ  LYS L  53      42.678  27.181 -60.368  0.00 64.15           N  \n",
      "ATOM   2065  N   LEU L  54      37.883  28.314 -54.071  1.00 18.08           N  \n",
      "ATOM   2066  CA  LEU L  54      37.143  27.693 -52.978  1.00 17.50           C  \n",
      "ATOM   2067  C   LEU L  54      37.511  26.214 -52.813  1.00 20.56           C  \n",
      "ATOM   2068  O   LEU L  54      37.438  25.448 -53.778  1.00 20.05           O  \n",
      "ATOM   2069  CB  LEU L  54      35.629  27.878 -53.237  1.00 18.11           C  \n",
      "ATOM   2070  CG  LEU L  54      34.633  27.521 -52.127  1.00 22.13           C  \n",
      "ATOM   2071  CD1 LEU L  54      34.790  28.428 -50.912  1.00 21.96           C  \n",
      "ATOM   2072  CD2 LEU L  54      33.207  27.649 -52.640  1.00 24.10           C  \n",
      "ATOM   2073  N   HIS L  55      37.911  25.817 -51.586  1.00 16.69           N  \n",
      "ATOM   2074  CA  HIS L  55      38.245  24.424 -51.282  1.00 16.60           C  \n",
      "ATOM   2075  C   HIS L  55      36.968  23.585 -51.317  1.00 21.15           C  \n",
      "ATOM   2076  O   HIS L  55      35.915  24.057 -50.884  1.00 19.78           O  \n",
      "ATOM   2077  CB  HIS L  55      38.940  24.303 -49.906  1.00 16.66           C  \n",
      "ATOM   2078  CG  HIS L  55      39.235  22.890 -49.486  1.00 19.63           C  \n",
      "ATOM   2079  ND1 HIS L  55      39.971  22.032 -50.290  1.00 21.63           N  \n",
      "ATOM   2080  CD2 HIS L  55      38.895  22.238 -48.351  1.00 20.89           C  \n",
      "ATOM   2081  CE1 HIS L  55      40.041  20.889 -49.627  1.00 20.83           C  \n",
      "ATOM   2082  NE2 HIS L  55      39.408  20.964 -48.455  1.00 20.76           N  \n",
      "ATOM   2083  N   SER L  56      37.057  22.361 -51.867  1.00 19.26           N  \n",
      "ATOM   2084  CA  SER L  56      35.940  21.417 -51.968  1.00 19.53           C  \n",
      "ATOM   2085  C   SER L  56      35.262  21.215 -50.604  1.00 21.69           C  \n",
      "ATOM   2086  O   SER L  56      35.948  21.038 -49.598  1.00 19.85           O  \n",
      "ATOM   2087  CB  SER L  56      36.427  20.081 -52.525  1.00 24.07           C  \n",
      "ATOM   2088  OG  SER L  56      35.365  19.147 -52.632  1.00 36.01           O  \n",
      "ATOM   2089  N   GLY L  57      33.932  21.298 -50.589  1.00 19.32           N  \n",
      "ATOM   2090  CA  GLY L  57      33.132  21.130 -49.378  1.00 18.66           C  \n",
      "ATOM   2091  C   GLY L  57      32.862  22.396 -48.584  1.00 22.69           C  \n",
      "ATOM   2092  O   GLY L  57      32.054  22.370 -47.653  1.00 22.51           O  \n",
      "ATOM   2093  N   VAL L  58      33.538  23.509 -48.928  1.00 18.15           N  \n",
      "ATOM   2094  CA  VAL L  58      33.368  24.794 -48.233  1.00 17.12           C  \n",
      "ATOM   2095  C   VAL L  58      32.180  25.553 -48.880  1.00 20.88           C  \n",
      "ATOM   2096  O   VAL L  58      32.113  25.617 -50.110  1.00 20.77           O  \n",
      "ATOM   2097  CB  VAL L  58      34.690  25.628 -48.200  1.00 20.10           C  \n",
      "ATOM   2098  CG1 VAL L  58      34.501  26.978 -47.507  1.00 19.24           C  \n",
      "ATOM   2099  CG2 VAL L  58      35.821  24.846 -47.532  1.00 19.36           C  \n",
      "ATOM   2100  N   PRO L  59      31.224  26.109 -48.093  1.00 17.62           N  \n",
      "ATOM   2101  CA  PRO L  59      30.087  26.813 -48.721  1.00 17.93           C  \n",
      "ATOM   2102  C   PRO L  59      30.475  28.105 -49.447  1.00 21.45           C  \n",
      "ATOM   2103  O   PRO L  59      31.442  28.774 -49.065  1.00 19.48           O  \n",
      "ATOM   2104  CB  PRO L  59      29.111  27.038 -47.562  1.00 19.27           C  \n",
      "ATOM   2105  CG  PRO L  59      29.947  27.015 -46.345  1.00 23.20           C  \n",
      "ATOM   2106  CD  PRO L  59      31.111  26.099 -46.619  1.00 18.55           C  \n",
      "ATOM   2107  N   SER L  60      29.709  28.439 -50.506  1.00 19.23           N  \n",
      "ATOM   2108  CA  SER L  60      29.905  29.596 -51.388  1.00 19.99           C  \n",
      "ATOM   2109  C   SER L  60      29.863  30.974 -50.715  1.00 23.38           C  \n",
      "ATOM   2110  O   SER L  60      30.292  31.956 -51.332  1.00 24.46           O  \n",
      "ATOM   2111  CB  SER L  60      28.948  29.538 -52.576  1.00 24.25           C  \n",
      "ATOM   2112  OG  SER L  60      27.601  29.590 -52.140  1.00 34.60           O  \n",
      "ATOM   2113  N   ARG L  61      29.380  31.058 -49.454  1.00 17.59           N  \n",
      "ATOM   2114  CA  ARG L  61      29.364  32.324 -48.704  1.00 16.62           C  \n",
      "ATOM   2115  C   ARG L  61      30.802  32.793 -48.400  1.00 19.50           C  \n",
      "ATOM   2116  O   ARG L  61      31.019  33.979 -48.155  1.00 18.85           O  \n",
      "ATOM   2117  CB  ARG L  61      28.502  32.238 -47.426  1.00 14.09           C  \n",
      "ATOM   2118  CG  ARG L  61      29.085  31.368 -46.314  1.00 16.58           C  \n",
      "ATOM   2119  CD  ARG L  61      28.270  31.486 -45.038  1.00 16.98           C  \n",
      "ATOM   2120  NE  ARG L  61      28.664  30.493 -44.037  1.00 17.45           N  \n",
      "ATOM   2121  CZ  ARG L  61      28.202  29.247 -43.993  1.00 25.36           C  \n",
      "ATOM   2122  NH1 ARG L  61      27.300  28.833 -44.875  1.00 15.20           N  \n",
      "ATOM   2123  NH2 ARG L  61      28.613  28.416 -43.046  1.00 14.86           N  \n",
      "ATOM   2124  N   PHE L  62      31.776  31.854 -48.431  1.00 15.85           N  \n",
      "ATOM   2125  CA  PHE L  62      33.194  32.154 -48.244  1.00 15.53           C  \n",
      "ATOM   2126  C   PHE L  62      33.797  32.481 -49.601  1.00 19.99           C  \n",
      "ATOM   2127  O   PHE L  62      33.658  31.701 -50.550  1.00 20.30           O  \n",
      "ATOM   2128  CB  PHE L  62      33.945  30.974 -47.597  1.00 16.56           C  \n",
      "ATOM   2129  CG  PHE L  62      33.556  30.724 -46.161  1.00 17.42           C  \n",
      "ATOM   2130  CD1 PHE L  62      34.126  31.462 -45.130  1.00 19.65           C  \n",
      "ATOM   2131  CD2 PHE L  62      32.606  29.760 -45.839  1.00 18.99           C  \n",
      "ATOM   2132  CE1 PHE L  62      33.751  31.243 -43.801  1.00 20.08           C  \n",
      "ATOM   2133  CE2 PHE L  62      32.232  29.542 -44.509  1.00 21.20           C  \n",
      "ATOM   2134  CZ  PHE L  62      32.806  30.283 -43.500  1.00 18.87           C  \n",
      "ATOM   2135  N   SER L  63      34.424  33.654 -49.702  1.00 16.91           N  \n",
      "ATOM   2136  CA  SER L  63      35.093  34.096 -50.923  1.00 17.35           C  \n",
      "ATOM   2137  C   SER L  63      36.371  34.856 -50.591  1.00 21.52           C  \n",
      "ATOM   2138  O   SER L  63      36.493  35.436 -49.508  1.00 21.30           O  \n",
      "ATOM   2139  CB  SER L  63      34.157  34.917 -51.810  1.00 21.20           C  \n",
      "ATOM   2140  OG  SER L  63      33.892  36.203 -51.276  1.00 27.05           O  \n",
      "ATOM   2141  N   GLY L  64      37.321  34.807 -51.511  1.00 18.48           N  \n",
      "ATOM   2142  CA  GLY L  64      38.606  35.469 -51.364  1.00 17.96           C  \n",
      "ATOM   2143  C   GLY L  64      38.895  36.406 -52.512  1.00 21.72           C  \n",
      "ATOM   2144  O   GLY L  64      38.530  36.121 -53.656  1.00 21.00           O  \n",
      "ATOM   2145  N   SER L  65      39.538  37.540 -52.208  1.00 18.71           N  \n",
      "ATOM   2146  CA  SER L  65      39.912  38.545 -53.202  1.00 19.70           C  \n",
      "ATOM   2147  C   SER L  65      41.271  39.143 -52.844  1.00 23.84           C  \n",
      "ATOM   2148  O   SER L  65      41.756  38.950 -51.725  1.00 22.91           O  \n",
      "ATOM   2149  CB  SER L  65      38.844  39.634 -53.293  1.00 23.31           C  \n",
      "ATOM   2150  OG  SER L  65      38.708  40.340 -52.069  1.00 30.30           O  \n",
      "ATOM   2151  N   GLY L  66      41.880  39.841 -53.795  1.00 21.88           N  \n",
      "ATOM   2152  CA  GLY L  66      43.165  40.487 -53.572  1.00 22.18           C  \n",
      "ATOM   2153  C   GLY L  66      44.213  40.261 -54.637  1.00 27.77           C  \n",
      "ATOM   2154  O   GLY L  66      44.045  39.433 -55.537  1.00 27.82           O  \n",
      "ATOM   2155  N   SER L  67      45.308  41.024 -54.525  1.00 25.43           N  \n",
      "ATOM   2156  CA  SER L  67      46.480  41.014 -55.406  1.00 25.85           C  \n",
      "ATOM   2157  C   SER L  67      47.611  41.758 -54.699  1.00 29.78           C  \n",
      "ATOM   2158  O   SER L  67      47.350  42.555 -53.791  1.00 28.94           O  \n",
      "ATOM   2159  CB  SER L  67      46.165  41.701 -56.737  1.00 30.99           C  \n",
      "ATOM   2160  OG  SER L  67      45.759  43.047 -56.553  1.00 40.65           O  \n",
      "ATOM   2161  N   GLY L  68      48.845  41.504 -55.129  1.00 27.14           N  \n",
      "ATOM   2162  CA  GLY L  68      50.035  42.146 -54.582  1.00 27.33           C  \n",
      "ATOM   2163  C   GLY L  68      50.254  41.874 -53.107  1.00 30.26           C  \n",
      "ATOM   2164  O   GLY L  68      50.665  40.772 -52.733  1.00 28.63           O  \n",
      "ATOM   2165  N   THR L  69      49.952  42.877 -52.263  1.00 26.91           N  \n",
      "ATOM   2166  CA  THR L  69      50.133  42.801 -50.809  1.00 26.23           C  \n",
      "ATOM   2167  C   THR L  69      48.832  42.690 -50.002  1.00 29.18           C  \n",
      "ATOM   2168  O   THR L  69      48.869  42.162 -48.893  1.00 28.39           O  \n",
      "ATOM   2169  CB  THR L  69      50.956  44.000 -50.304  1.00 33.83           C  \n",
      "ATOM   2170  OG1 THR L  69      50.253  45.213 -50.577  1.00 30.92           O  \n",
      "ATOM   2171  CG2 THR L  69      52.365  44.056 -50.899  1.00 34.05           C  \n",
      "ATOM   2172  N   ASP L  70      47.710  43.218 -50.528  1.00 26.47           N  \n",
      "ATOM   2173  CA  ASP L  70      46.414  43.277 -49.839  1.00 25.68           C  \n",
      "ATOM   2174  C   ASP L  70      45.445  42.174 -50.231  1.00 27.58           C  \n",
      "ATOM   2175  O   ASP L  70      45.158  41.994 -51.414  1.00 27.83           O  \n",
      "ATOM   2176  CB  ASP L  70      45.763  44.664 -50.021  1.00 28.80           C  \n",
      "ATOM   2177  CG  ASP L  70      46.600  45.840 -49.546  1.00 42.20           C  \n",
      "ATOM   2178  OD1 ASP L  70      47.506  45.629 -48.706  1.00 42.39           O  \n",
      "ATOM   2179  OD2 ASP L  70      46.336  46.976 -49.999  1.00 50.56           O  \n",
      "ATOM   2180  N   TYR L  71      44.951  41.423 -49.228  1.00 21.49           N  \n",
      "ATOM   2181  CA  TYR L  71      44.033  40.296 -49.430  1.00 19.96           C  \n",
      "ATOM   2182  C   TYR L  71      42.868  40.336 -48.466  1.00 23.16           C  \n",
      "ATOM   2183  O   TYR L  71      43.011  40.828 -47.347  1.00 22.59           O  \n",
      "ATOM   2184  CB  TYR L  71      44.784  38.955 -49.350  1.00 19.69           C  \n",
      "ATOM   2185  CG  TYR L  71      45.839  38.828 -50.427  1.00 20.12           C  \n",
      "ATOM   2186  CD1 TYR L  71      45.537  38.263 -51.662  1.00 21.88           C  \n",
      "ATOM   2187  CD2 TYR L  71      47.119  39.346 -50.240  1.00 20.43           C  \n",
      "ATOM   2188  CE1 TYR L  71      46.488  38.204 -52.682  1.00 23.07           C  \n",
      "ATOM   2189  CE2 TYR L  71      48.060  39.331 -51.263  1.00 21.38           C  \n",
      "ATOM   2190  CZ  TYR L  71      47.753  38.730 -52.471  1.00 27.09           C  \n",
      "ATOM   2191  OH  TYR L  71      48.698  38.685 -53.464  1.00 25.68           O  \n",
      "ATOM   2192  N   THR L  72      41.706  39.827 -48.911  1.00 19.25           N  \n",
      "ATOM   2193  CA  THR L  72      40.480  39.836 -48.125  1.00 18.56           C  \n",
      "ATOM   2194  C   THR L  72      39.703  38.524 -48.203  1.00 21.00           C  \n",
      "ATOM   2195  O   THR L  72      39.465  38.000 -49.295  1.00 20.35           O  \n",
      "ATOM   2196  CB  THR L  72      39.582  41.022 -48.573  1.00 25.64           C  \n",
      "ATOM   2197  OG1 THR L  72      40.312  42.244 -48.480  1.00 26.76           O  \n",
      "ATOM   2198  CG2 THR L  72      38.292  41.141 -47.758  1.00 24.19           C  \n",
      "ATOM   2199  N   LEU L  73      39.263  38.033 -47.033  1.00 16.54           N  \n",
      "ATOM   2200  CA  LEU L  73      38.370  36.891 -46.920  1.00 15.33           C  \n",
      "ATOM   2201  C   LEU L  73      37.012  37.499 -46.579  1.00 19.90           C  \n",
      "ATOM   2202  O   LEU L  73      36.908  38.276 -45.624  1.00 19.44           O  \n",
      "ATOM   2203  CB  LEU L  73      38.803  35.919 -45.811  1.00 14.38           C  \n",
      "ATOM   2204  CG  LEU L  73      37.833  34.764 -45.503  1.00 18.01           C  \n",
      "ATOM   2205  CD1 LEU L  73      37.838  33.711 -46.608  1.00 17.85           C  \n",
      "ATOM   2206  CD2 LEU L  73      38.160  34.128 -44.177  1.00 19.43           C  \n",
      "ATOM   2207  N   THR L  74      35.990  37.170 -47.374  1.00 16.87           N  \n",
      "ATOM   2208  CA  THR L  74      34.636  37.671 -47.169  1.00 16.74           C  \n",
      "ATOM   2209  C   THR L  74      33.681  36.532 -46.857  1.00 19.62           C  \n",
      "ATOM   2210  O   THR L  74      33.704  35.500 -47.527  1.00 19.36           O  \n",
      "ATOM   2211  CB  THR L  74      34.156  38.481 -48.401  1.00 24.23           C  \n",
      "ATOM   2212  OG1 THR L  74      35.099  39.511 -48.688  1.00 22.96           O  \n",
      "ATOM   2213  CG2 THR L  74      32.769  39.107 -48.201  1.00 24.70           C  \n",
      "ATOM   2214  N   ILE L  75      32.832  36.737 -45.846  1.00 16.17           N  \n",
      "ATOM   2215  CA  ILE L  75      31.745  35.834 -45.486  1.00 16.04           C  \n",
      "ATOM   2216  C   ILE L  75      30.503  36.676 -45.799  1.00 20.91           C  \n",
      "ATOM   2217  O   ILE L  75      30.244  37.660 -45.105  1.00 20.95           O  \n",
      "ATOM   2218  CB  ILE L  75      31.798  35.309 -44.026  1.00 18.30           C  \n",
      "ATOM   2219  CG1 ILE L  75      33.234  34.869 -43.635  1.00 18.52           C  \n",
      "ATOM   2220  CG2 ILE L  75      30.786  34.165 -43.846  1.00 18.63           C  \n",
      "ATOM   2221  CD1 ILE L  75      33.488  34.598 -42.136  1.00 24.04           C  \n",
      "ATOM   2222  N   SER L  76      29.817  36.359 -46.915  1.00 18.08           N  \n",
      "ATOM   2223  CA  SER L  76      28.667  37.125 -47.423  1.00 18.52           C  \n",
      "ATOM   2224  C   SER L  76      27.483  37.232 -46.463  1.00 22.53           C  \n",
      "ATOM   2225  O   SER L  76      26.897  38.307 -46.336  1.00 23.39           O  \n",
      "ATOM   2226  CB  SER L  76      28.228  36.611 -48.792  1.00 21.68           C  \n",
      "ATOM   2227  OG  SER L  76      27.702  35.299 -48.701  1.00 27.89           O  \n",
      "ATOM   2228  N   SER L  77      27.138  36.129 -45.789  1.00 17.87           N  \n",
      "ATOM   2229  CA  SER L  77      26.037  36.087 -44.829  1.00 17.39           C  \n",
      "ATOM   2230  C   SER L  77      26.433  35.119 -43.732  1.00 20.20           C  \n",
      "ATOM   2231  O   SER L  77      26.371  33.900 -43.917  1.00 19.15           O  \n",
      "ATOM   2232  CB  SER L  77      24.738  35.662 -45.510  1.00 20.30           C  \n",
      "ATOM   2233  OG  SER L  77      23.648  35.719 -44.603  1.00 26.29           O  \n",
      "ATOM   2234  N   LEU L  78      26.917  35.676 -42.614  1.00 15.92           N  \n",
      "ATOM   2235  CA  LEU L  78      27.416  34.920 -41.467  1.00 14.85           C  \n",
      "ATOM   2236  C   LEU L  78      26.411  33.934 -40.888  1.00 16.81           C  \n",
      "ATOM   2237  O   LEU L  78      25.249  34.276 -40.701  1.00 15.98           O  \n",
      "ATOM   2238  CB  LEU L  78      27.899  35.890 -40.372  1.00 14.96           C  \n",
      "ATOM   2239  CG  LEU L  78      28.837  35.309 -39.313  1.00 19.30           C  \n",
      "ATOM   2240  CD1 LEU L  78      30.189  34.972 -39.916  1.00 19.44           C  \n",
      "ATOM   2241  CD2 LEU L  78      29.024  36.285 -38.172  1.00 22.55           C  \n",
      "ATOM   2242  N   GLN L  79      26.872  32.707 -40.605  1.00 13.41           N  \n",
      "ATOM   2243  CA  GLN L  79      26.054  31.667 -39.978  1.00 12.78           C  \n",
      "ATOM   2244  C   GLN L  79      26.584  31.433 -38.572  1.00 16.40           C  \n",
      "ATOM   2245  O   GLN L  79      27.753  31.719 -38.311  1.00 14.60           O  \n",
      "ATOM   2246  CB  GLN L  79      26.080  30.358 -40.790  1.00 13.79           C  \n",
      "ATOM   2247  CG  GLN L  79      25.551  30.479 -42.222  1.00 20.42           C  \n",
      "ATOM   2248  CD  GLN L  79      24.170  31.070 -42.330  1.00 27.96           C  \n",
      "ATOM   2249  OE1 GLN L  79      23.982  32.146 -42.906  1.00 25.95           O  \n",
      "ATOM   2250  NE2 GLN L  79      23.179  30.385 -41.783  1.00 15.18           N  \n",
      "ATOM   2251  N   GLN L  80      25.735  30.915 -37.660  1.00 14.17           N  \n",
      "ATOM   2252  CA  GLN L  80      26.136  30.651 -36.271  1.00 13.83           C  \n",
      "ATOM   2253  C   GLN L  80      27.316  29.682 -36.120  1.00 16.89           C  \n",
      "ATOM   2254  O   GLN L  80      28.032  29.754 -35.123  1.00 16.57           O  \n",
      "ATOM   2255  CB  GLN L  80      24.941  30.216 -35.407  1.00 14.82           C  \n",
      "ATOM   2256  CG  GLN L  80      24.376  28.830 -35.729  1.00 17.88           C  \n",
      "ATOM   2257  CD  GLN L  80      23.289  28.473 -34.752  1.00 24.89           C  \n",
      "ATOM   2258  OE1 GLN L  80      22.158  28.943 -34.858  1.00 20.02           O  \n",
      "ATOM   2259  NE2 GLN L  80      23.627  27.689 -33.739  1.00 16.07           N  \n",
      "ATOM   2260  N   GLU L  81      27.518  28.789 -37.103  1.00 13.08           N  \n",
      "ATOM   2261  CA  GLU L  81      28.615  27.818 -37.086  1.00 11.84           C  \n",
      "ATOM   2262  C   GLU L  81      29.940  28.420 -37.589  1.00 16.14           C  \n",
      "ATOM   2263  O   GLU L  81      30.942  27.714 -37.637  1.00 16.30           O  \n",
      "ATOM   2264  CB  GLU L  81      28.235  26.549 -37.882  1.00 12.49           C  \n",
      "ATOM   2265  CG  GLU L  81      27.939  26.789 -39.360  1.00 16.50           C  \n",
      "ATOM   2266  CD  GLU L  81      26.497  27.078 -39.734  1.00 22.36           C  \n",
      "ATOM   2267  OE1 GLU L  81      25.722  27.554 -38.871  1.00 15.76           O  \n",
      "ATOM   2268  OE2 GLU L  81      26.156  26.879 -40.920  1.00 15.69           O  \n",
      "ATOM   2269  N   ASP L  82      29.948  29.714 -37.953  1.00 12.92           N  \n",
      "ATOM   2270  CA  ASP L  82      31.136  30.374 -38.492  1.00 12.51           C  \n",
      "ATOM   2271  C   ASP L  82      32.091  30.967 -37.457  1.00 16.71           C  \n",
      "ATOM   2272  O   ASP L  82      33.119  31.527 -37.849  1.00 16.16           O  \n",
      "ATOM   2273  CB  ASP L  82      30.761  31.390 -39.587  1.00 14.31           C  \n",
      "ATOM   2274  CG  ASP L  82      30.097  30.790 -40.813  1.00 18.10           C  \n",
      "ATOM   2275  OD1 ASP L  82      30.287  29.571 -41.063  1.00 17.40           O  \n",
      "ATOM   2276  OD2 ASP L  82      29.416  31.540 -41.540  1.00 20.14           O  \n",
      "ATOM   2277  N   PHE L  83      31.779  30.843 -36.145  1.00 13.82           N  \n",
      "ATOM   2278  CA  PHE L  83      32.700  31.344 -35.117  1.00 14.12           C  \n",
      "ATOM   2279  C   PHE L  83      33.973  30.509 -35.163  1.00 16.56           C  \n",
      "ATOM   2280  O   PHE L  83      33.904  29.277 -35.207  1.00 15.42           O  \n",
      "ATOM   2281  CB  PHE L  83      32.081  31.387 -33.708  1.00 16.39           C  \n",
      "ATOM   2282  CG  PHE L  83      31.777  30.054 -33.076  1.00 18.02           C  \n",
      "ATOM   2283  CD1 PHE L  83      32.718  29.415 -32.275  1.00 20.50           C  \n",
      "ATOM   2284  CD2 PHE L  83      30.539  29.451 -33.251  1.00 20.76           C  \n",
      "ATOM   2285  CE1 PHE L  83      32.446  28.169 -31.712  1.00 21.52           C  \n",
      "ATOM   2286  CE2 PHE L  83      30.259  28.212 -32.670  1.00 23.39           C  \n",
      "ATOM   2287  CZ  PHE L  83      31.218  27.574 -31.915  1.00 21.22           C  \n",
      "ATOM   2288  N   ALA L  84      35.120  31.187 -35.274  1.00 13.33           N  \n",
      "ATOM   2289  CA  ALA L  84      36.435  30.558 -35.408  1.00 13.34           C  \n",
      "ATOM   2290  C   ALA L  84      37.506  31.620 -35.497  1.00 16.40           C  \n",
      "ATOM   2291  O   ALA L  84      37.195  32.812 -35.574  1.00 16.07           O  \n",
      "ATOM   2292  CB  ALA L  84      36.474  29.717 -36.688  1.00 14.10           C  \n",
      "ATOM   2293  N   THR L  85      38.777  31.182 -35.505  1.00 12.73           N  \n",
      "ATOM   2294  CA  THR L  85      39.915  32.065 -35.728  1.00 12.99           C  \n",
      "ATOM   2295  C   THR L  85      40.336  31.821 -37.173  1.00 16.22           C  \n",
      "ATOM   2296  O   THR L  85      40.535  30.667 -37.581  1.00 15.21           O  \n",
      "ATOM   2297  CB  THR L  85      41.036  31.856 -34.707  1.00 20.06           C  \n",
      "ATOM   2298  OG1 THR L  85      40.488  31.963 -33.393  1.00 19.46           O  \n",
      "ATOM   2299  CG2 THR L  85      42.160  32.881 -34.865  1.00 19.26           C  \n",
      "ATOM   2300  N   TYR L  86      40.411  32.906 -37.954  1.00 12.57           N  \n",
      "ATOM   2301  CA  TYR L  86      40.747  32.856 -39.370  1.00 12.26           C  \n",
      "ATOM   2302  C   TYR L  86      42.177  33.320 -39.583  1.00 17.05           C  \n",
      "ATOM   2303  O   TYR L  86      42.551  34.389 -39.099  1.00 17.84           O  \n",
      "ATOM   2304  CB  TYR L  86      39.737  33.684 -40.196  1.00 13.31           C  \n",
      "ATOM   2305  CG  TYR L  86      38.328  33.125 -40.145  1.00 13.65           C  \n",
      "ATOM   2306  CD1 TYR L  86      37.876  32.234 -41.114  1.00 15.00           C  \n",
      "ATOM   2307  CD2 TYR L  86      37.459  33.458 -39.108  1.00 13.90           C  \n",
      "ATOM   2308  CE1 TYR L  86      36.585  31.710 -41.069  1.00 14.70           C  \n",
      "ATOM   2309  CE2 TYR L  86      36.170  32.928 -39.045  1.00 14.24           C  \n",
      "ATOM   2310  CZ  TYR L  86      35.739  32.051 -40.029  1.00 18.14           C  \n",
      "ATOM   2311  OH  TYR L  86      34.470  31.524 -39.990  1.00 14.30           O  \n",
      "ATOM   2312  N   PHE L  87      42.978  32.500 -40.287  1.00 13.10           N  \n",
      "ATOM   2313  CA  PHE L  87      44.389  32.764 -40.562  1.00 13.06           C  \n",
      "ATOM   2314  C   PHE L  87      44.699  32.807 -42.044  1.00 17.34           C  \n",
      "ATOM   2315  O   PHE L  87      44.216  31.961 -42.803  1.00 16.12           O  \n",
      "ATOM   2316  CB  PHE L  87      45.270  31.660 -39.946  1.00 14.11           C  \n",
      "ATOM   2317  CG  PHE L  87      45.251  31.530 -38.446  1.00 14.82           C  \n",
      "ATOM   2318  CD1 PHE L  87      46.172  32.215 -37.662  1.00 16.72           C  \n",
      "ATOM   2319  CD2 PHE L  87      44.390  30.634 -37.821  1.00 15.63           C  \n",
      "ATOM   2320  CE1 PHE L  87      46.180  32.066 -36.273  1.00 17.46           C  \n",
      "ATOM   2321  CE2 PHE L  87      44.409  30.473 -36.434  1.00 17.90           C  \n",
      "ATOM   2322  CZ  PHE L  87      45.296  31.200 -35.667  1.00 16.55           C  \n",
      "ATOM   2323  N   CYS L  88      45.556  33.758 -42.451  1.00 15.35           N  \n",
      "ATOM   2324  CA  CYS L  88      46.040  33.807 -43.823  1.00 15.85           C  \n",
      "ATOM   2325  C   CYS L  88      47.458  33.221 -43.830  1.00 17.72           C  \n",
      "ATOM   2326  O   CYS L  88      48.099  33.176 -42.782  1.00 16.41           O  \n",
      "ATOM   2327  CB  CYS L  88      45.981  35.213 -44.423  1.00 17.59           C  \n",
      "ATOM   2328  SG  CYS L  88      47.031  36.443 -43.600  1.00 22.50           S  \n",
      "ATOM   2329  N   LEU L  89      47.910  32.706 -44.981  1.00 13.22           N  \n",
      "ATOM   2330  CA  LEU L  89      49.230  32.108 -45.134  1.00 12.61           C  \n",
      "ATOM   2331  C   LEU L  89      49.783  32.441 -46.508  1.00 16.65           C  \n",
      "ATOM   2332  O   LEU L  89      49.092  32.242 -47.506  1.00 15.64           O  \n",
      "ATOM   2333  CB  LEU L  89      49.146  30.564 -44.946  1.00 11.90           C  \n",
      "ATOM   2334  CG  LEU L  89      50.382  29.715 -45.340  1.00 15.50           C  \n",
      "ATOM   2335  CD1 LEU L  89      51.489  29.814 -44.293  1.00 15.34           C  \n",
      "ATOM   2336  CD2 LEU L  89      49.991  28.261 -45.532  1.00 16.59           C  \n",
      "ATOM   2337  N   GLN L  90      51.033  32.919 -46.565  1.00 14.06           N  \n",
      "ATOM   2338  CA  GLN L  90      51.683  33.183 -47.845  1.00 14.30           C  \n",
      "ATOM   2339  C   GLN L  90      52.542  31.983 -48.266  1.00 18.48           C  \n",
      "ATOM   2340  O   GLN L  90      53.186  31.353 -47.422  1.00 17.55           O  \n",
      "ATOM   2341  CB  GLN L  90      52.486  34.503 -47.843  1.00 16.09           C  \n",
      "ATOM   2342  CG  GLN L  90      53.705  34.556 -46.909  1.00 19.47           C  \n",
      "ATOM   2343  CD  GLN L  90      54.971  33.961 -47.494  1.00 27.07           C  \n",
      "ATOM   2344  OE1 GLN L  90      55.137  33.841 -48.711  1.00 20.85           O  \n",
      "ATOM   2345  NE2 GLN L  90      55.878  33.532 -46.631  1.00 18.06           N  \n",
      "ATOM   2346  N   GLY L  91      52.545  31.697 -49.564  1.00 16.33           N  \n",
      "ATOM   2347  CA  GLY L  91      53.338  30.624 -50.157  1.00 16.44           C  \n",
      "ATOM   2348  C   GLY L  91      54.286  31.125 -51.228  1.00 20.86           C  \n",
      "ATOM   2349  O   GLY L  91      54.791  30.340 -52.032  1.00 21.07           O  \n",
      "ATOM   2350  N   LYS L  92      54.541  32.438 -51.236  1.00 18.07           N  \n",
      "ATOM   2351  CA  LYS L  92      55.434  33.092 -52.192  1.00 18.83           C  \n",
      "ATOM   2352  C   LYS L  92      56.904  32.736 -51.954  1.00 23.90           C  \n",
      "ATOM   2353  O   LYS L  92      57.639  32.500 -52.914  1.00 24.14           O  \n",
      "ATOM   2354  CB  LYS L  92      55.222  34.623 -52.137  1.00 20.89           C  \n",
      "ATOM   2355  CG  LYS L  92      56.220  35.486 -52.933  1.00 24.00           C  \n",
      "ATOM   2356  CD  LYS L  92      56.005  35.433 -54.442  1.00 27.15           C  \n",
      "ATOM   2357  CE  LYS L  92      57.005  36.300 -55.176  1.00 27.23           C  \n",
      "ATOM   2358  NZ  LYS L  92      56.779  36.263 -56.642  1.00 30.92           N  \n",
      "ATOM   2359  N   MET L  93      57.335  32.712 -50.686  1.00 21.93           N  \n",
      "ATOM   2360  CA  MET L  93      58.737  32.502 -50.337  1.00 23.31           C  \n",
      "ATOM   2361  C   MET L  93      58.904  31.835 -48.969  1.00 24.15           C  \n",
      "ATOM   2362  O   MET L  93      58.158  32.136 -48.039  1.00 22.59           O  \n",
      "ATOM   2363  CB  MET L  93      59.412  33.890 -50.321  1.00 27.42           C  \n",
      "ATOM   2364  CG  MET L  93      60.915  33.891 -50.318  1.00 33.66           C  \n",
      "ATOM   2365  SD  MET L  93      61.491  35.578 -49.977  1.00 40.47           S  \n",
      "ATOM   2366  CE  MET L  93      61.550  35.529 -48.180  1.00 36.75           C  \n",
      "ATOM   2367  N   LEU L  94      59.924  30.971 -48.844  1.00 20.17           N  \n",
      "ATOM   2368  CA  LEU L  94      60.283  30.318 -47.586  1.00 19.09           C  \n",
      "ATOM   2369  C   LEU L  94      61.031  31.328 -46.698  1.00 23.16           C  \n",
      "ATOM   2370  O   LEU L  94      61.811  32.119 -47.228  1.00 23.32           O  \n",
      "ATOM   2371  CB  LEU L  94      61.173  29.083 -47.828  1.00 18.88           C  \n",
      "ATOM   2372  CG  LEU L  94      60.472  27.812 -48.293  1.00 22.22           C  \n",
      "ATOM   2373  CD1 LEU L  94      61.473  26.837 -48.887  1.00 22.81           C  \n",
      "ATOM   2374  CD2 LEU L  94      59.702  27.148 -47.151  1.00 22.16           C  \n",
      "ATOM   2375  N   PRO L  95      60.816  31.344 -45.362  1.00 19.83           N  \n",
      "ATOM   2376  CA  PRO L  95      59.906  30.485 -44.585  1.00 18.97           C  \n",
      "ATOM   2377  C   PRO L  95      58.446  30.886 -44.768  1.00 22.35           C  \n",
      "ATOM   2378  O   PRO L  95      58.144  32.083 -44.856  1.00 22.42           O  \n",
      "ATOM   2379  CB  PRO L  95      60.389  30.689 -43.146  1.00 20.97           C  \n",
      "ATOM   2380  CG  PRO L  95      60.917  32.099 -43.129  1.00 25.90           C  \n",
      "ATOM   2381  CD  PRO L  95      61.530  32.307 -44.494  1.00 22.11           C  \n",
      "ATOM   2382  N   TRP L  96      57.547  29.889 -44.874  1.00 18.52           N  \n",
      "ATOM   2383  CA  TRP L  96      56.113  30.145 -45.007  1.00 18.14           C  \n",
      "ATOM   2384  C   TRP L  96      55.621  30.788 -43.718  1.00 20.02           C  \n",
      "ATOM   2385  O   TRP L  96      56.053  30.394 -42.630  1.00 18.98           O  \n",
      "ATOM   2386  CB  TRP L  96      55.336  28.876 -45.381  1.00 17.12           C  \n",
      "ATOM   2387  CG  TRP L  96      55.795  28.274 -46.684  1.00 19.13           C  \n",
      "ATOM   2388  CD1 TRP L  96      56.105  28.940 -47.835  1.00 22.63           C  \n",
      "ATOM   2389  CD2 TRP L  96      55.984  26.881 -46.963  1.00 19.22           C  \n",
      "ATOM   2390  NE1 TRP L  96      56.482  28.047 -48.812  1.00 22.70           N  \n",
      "ATOM   2391  CE2 TRP L  96      56.410  26.776 -48.306  1.00 23.59           C  \n",
      "ATOM   2392  CE3 TRP L  96      55.819  25.708 -46.211  1.00 20.44           C  \n",
      "ATOM   2393  CZ2 TRP L  96      56.726  25.547 -48.898  1.00 23.47           C  \n",
      "ATOM   2394  CZ3 TRP L  96      56.089  24.487 -46.811  1.00 22.35           C  \n",
      "ATOM   2395  CH2 TRP L  96      56.549  24.413 -48.134  1.00 23.55           C  \n",
      "ATOM   2396  N   THR L  97      54.836  31.862 -43.848  1.00 15.63           N  \n",
      "ATOM   2397  CA  THR L  97      54.397  32.653 -42.698  1.00 14.94           C  \n",
      "ATOM   2398  C   THR L  97      52.902  32.896 -42.679  1.00 18.50           C  \n",
      "ATOM   2399  O   THR L  97      52.284  33.138 -43.720  1.00 18.08           O  \n",
      "ATOM   2400  CB  THR L  97      55.175  33.980 -42.623  1.00 20.05           C  \n",
      "ATOM   2401  OG1 THR L  97      55.110  34.640 -43.889  1.00 20.48           O  \n",
      "ATOM   2402  CG2 THR L  97      56.638  33.802 -42.189  1.00 18.94           C  \n",
      "ATOM   2403  N   PHE L  98      52.332  32.866 -41.472  1.00 15.01           N  \n",
      "ATOM   2404  CA  PHE L  98      50.914  33.084 -41.229  1.00 13.81           C  \n",
      "ATOM   2405  C   PHE L  98      50.661  34.467 -40.666  1.00 18.38           C  \n",
      "ATOM   2406  O   PHE L  98      51.522  35.028 -39.980  1.00 18.16           O  \n",
      "ATOM   2407  CB  PHE L  98      50.398  32.076 -40.182  1.00 14.80           C  \n",
      "ATOM   2408  CG  PHE L  98      50.280  30.639 -40.619  1.00 15.55           C  \n",
      "ATOM   2409  CD1 PHE L  98      51.303  29.733 -40.365  1.00 17.82           C  \n",
      "ATOM   2410  CD2 PHE L  98      49.128  30.179 -41.245  1.00 17.19           C  \n",
      "ATOM   2411  CE1 PHE L  98      51.183  28.393 -40.750  1.00 18.46           C  \n",
      "ATOM   2412  CE2 PHE L  98      49.006  28.837 -41.625  1.00 19.39           C  \n",
      "ATOM   2413  CZ  PHE L  98      50.038  27.956 -41.383  1.00 17.35           C  \n",
      "ATOM   2414  N   GLY L  99      49.438  34.958 -40.870  1.00 15.60           N  \n",
      "ATOM   2415  CA  GLY L  99      48.958  36.172 -40.225  1.00 15.80           C  \n",
      "ATOM   2416  C   GLY L  99      48.707  35.804 -38.770  1.00 18.62           C  \n",
      "ATOM   2417  O   GLY L  99      48.714  34.615 -38.434  1.00 17.61           O  \n",
      "ATOM   2418  N   GLN L 100      48.502  36.791 -37.888  1.00 15.41           N  \n",
      "ATOM   2419  CA  GLN L 100      48.313  36.526 -36.452  1.00 14.65           C  \n",
      "ATOM   2420  C   GLN L 100      46.975  35.868 -36.083  1.00 18.55           C  \n",
      "ATOM   2421  O   GLN L 100      46.832  35.347 -34.976  1.00 18.05           O  \n",
      "ATOM   2422  CB  GLN L 100      48.556  37.789 -35.598  1.00 16.01           C  \n",
      "ATOM   2423  CG  GLN L 100      49.807  38.593 -35.957  1.00 19.44           C  \n",
      "ATOM   2424  CD  GLN L 100      49.489  39.745 -36.880  1.00 28.50           C  \n",
      "ATOM   2425  OE1 GLN L 100      48.690  39.630 -37.819  1.00 22.46           O  \n",
      "ATOM   2426  NE2 GLN L 100      50.112  40.886 -36.637  1.00 22.76           N  \n",
      "ATOM   2427  N   GLY L 101      46.022  35.895 -37.008  1.00 15.50           N  \n",
      "ATOM   2428  CA  GLY L 101      44.693  35.330 -36.812  1.00 14.47           C  \n",
      "ATOM   2429  C   GLY L 101      43.659  36.362 -36.418  1.00 18.09           C  \n",
      "ATOM   2430  O   GLY L 101      43.976  37.338 -35.735  1.00 17.75           O  \n",
      "ATOM   2431  N   THR L 102      42.419  36.165 -36.885  1.00 15.10           N  \n",
      "ATOM   2432  CA  THR L 102      41.278  37.035 -36.584  1.00 14.91           C  \n",
      "ATOM   2433  C   THR L 102      40.224  36.158 -35.928  1.00 17.36           C  \n",
      "ATOM   2434  O   THR L 102      39.687  35.264 -36.584  1.00 15.66           O  \n",
      "ATOM   2435  CB  THR L 102      40.748  37.713 -37.865  1.00 18.88           C  \n",
      "ATOM   2436  OG1 THR L 102      41.777  38.517 -38.437  1.00 16.83           O  \n",
      "ATOM   2437  CG2 THR L 102      39.501  38.575 -37.611  1.00 15.69           C  \n",
      "ATOM   2438  N   LYS L 103      39.942  36.399 -34.639  1.00 15.31           N  \n",
      "ATOM   2439  CA  LYS L 103      38.943  35.621 -33.907  1.00 15.06           C  \n",
      "ATOM   2440  C   LYS L 103      37.559  36.223 -34.119  1.00 18.74           C  \n",
      "ATOM   2441  O   LYS L 103      37.316  37.370 -33.761  1.00 18.23           O  \n",
      "ATOM   2442  CB  LYS L 103      39.293  35.499 -32.410  1.00 17.99           C  \n",
      "ATOM   2443  CG  LYS L 103      38.451  34.448 -31.685  1.00 27.72           C  \n",
      "ATOM   2444  CD  LYS L 103      38.966  34.143 -30.293  1.00 36.69           C  \n",
      "ATOM   2445  CE  LYS L 103      38.132  33.081 -29.617  1.00 44.73           C  \n",
      "ATOM   2446  NZ  LYS L 103      38.522  32.891 -28.195  1.00 53.25           N  \n",
      "ATOM   2447  N   LEU L 104      36.656  35.447 -34.713  1.00 15.19           N  \n",
      "ATOM   2448  CA  LEU L 104      35.308  35.915 -34.996  1.00 14.61           C  \n",
      "ATOM   2449  C   LEU L 104      34.310  35.277 -34.043  1.00 18.01           C  \n",
      "ATOM   2450  O   LEU L 104      34.223  34.052 -33.971  1.00 17.68           O  \n",
      "ATOM   2451  CB  LEU L 104      34.966  35.655 -36.482  1.00 14.62           C  \n",
      "ATOM   2452  CG  LEU L 104      33.540  35.910 -36.991  1.00 19.18           C  \n",
      "ATOM   2453  CD1 LEU L 104      33.134  37.378 -36.846  1.00 19.86           C  \n",
      "ATOM   2454  CD2 LEU L 104      33.434  35.515 -38.450  1.00 21.03           C  \n",
      "ATOM   2455  N   GLU L 105      33.591  36.119 -33.288  1.00 14.67           N  \n",
      "ATOM   2456  CA  GLU L 105      32.550  35.725 -32.334  1.00 14.85           C  \n",
      "ATOM   2457  C   GLU L 105      31.181  35.992 -32.968  1.00 18.23           C  \n",
      "ATOM   2458  O   GLU L 105      31.028  36.966 -33.714  1.00 17.78           O  \n",
      "ATOM   2459  CB  GLU L 105      32.694  36.537 -31.024  1.00 16.92           C  \n",
      "ATOM   2460  CG  GLU L 105      31.564  36.360 -30.020  1.00 26.27           C  \n",
      "ATOM   2461  CD  GLU L 105      31.497  37.381 -28.902  1.00 45.25           C  \n",
      "ATOM   2462  OE1 GLU L 105      30.851  38.434 -29.096  1.00 42.88           O  \n",
      "ATOM   2463  OE2 GLU L 105      32.038  37.102 -27.809  1.00 38.29           O  \n",
      "ATOM   2464  N   ILE L 106      30.189  35.139 -32.664  1.00 15.00           N  \n",
      "ATOM   2465  CA  ILE L 106      28.822  35.333 -33.145  1.00 15.78           C  \n",
      "ATOM   2466  C   ILE L 106      28.107  36.247 -32.160  1.00 19.98           C  \n",
      "ATOM   2467  O   ILE L 106      28.020  35.929 -30.970  1.00 19.08           O  \n",
      "ATOM   2468  CB  ILE L 106      28.037  33.997 -33.353  1.00 19.02           C  \n",
      "ATOM   2469  CG1 ILE L 106      28.773  32.988 -34.280  1.00 19.12           C  \n",
      "ATOM   2470  CG2 ILE L 106      26.583  34.259 -33.810  1.00 20.79           C  \n",
      "ATOM   2471  CD1 ILE L 106      29.121  33.443 -35.704  1.00 25.74           C  \n",
      "ATOM   2472  N   LYS L 107      27.594  37.376 -32.660  1.00 18.25           N  \n",
      "ATOM   2473  CA  LYS L 107      26.829  38.320 -31.861  1.00 19.12           C  \n",
      "ATOM   2474  C   LYS L 107      25.374  37.860 -31.900  1.00 24.86           C  \n",
      "ATOM   2475  O   LYS L 107      24.757  37.824 -32.967  1.00 25.74           O  \n",
      "ATOM   2476  CB  LYS L 107      26.970  39.741 -32.429  1.00 21.74           C  \n",
      "ATOM   2477  CG  LYS L 107      26.488  40.848 -31.493  1.00 33.39           C  \n",
      "ATOM   2478  CD  LYS L 107      26.111  42.123 -32.256  1.00 42.41           C  \n",
      "ATOM   2479  CE  LYS L 107      27.297  42.895 -32.789  1.00 51.32           C  \n",
      "ATOM   2480  NZ  LYS L 107      26.868  44.033 -33.642  1.00 59.58           N  \n",
      "ATOM   2481  N   ARG L1001      24.844  37.474 -30.742  1.00 21.46           N  \n",
      "ATOM   2482  CA  ARG L1001      23.460  37.023 -30.601  1.00 20.83           C  \n",
      "ATOM   2483  C   ARG L1001      22.756  37.880 -29.548  1.00 23.71           C  \n",
      "ATOM   2484  O   ARG L1001      23.395  38.732 -28.931  1.00 23.00           O  \n",
      "ATOM   2485  CB  ARG L1001      23.420  35.527 -30.227  1.00 20.81           C  \n",
      "ATOM   2486  CG  ARG L1001      24.058  35.205 -28.875  1.00 28.48           C  \n",
      "ATOM   2487  CD  ARG L1001      23.635  33.857 -28.347  1.00 36.28           C  \n",
      "ATOM   2488  NE  ARG L1001      22.185  33.743 -28.177  1.00 45.23           N  \n",
      "ATOM   2489  CZ  ARG L1001      21.555  33.980 -27.037  1.00 57.84           C  \n",
      "ATOM   2490  NH1 ARG L1001      22.233  34.367 -25.967  1.00 52.70           N  \n",
      "ATOM   2491  NH2 ARG L1001      20.236  33.861 -26.963  1.00 38.57           N  \n",
      "ATOM   2492  N   THR L1002      21.453  37.643 -29.325  1.00 19.89           N  \n",
      "ATOM   2493  CA  THR L1002      20.675  38.365 -28.318  1.00 19.97           C  \n",
      "ATOM   2494  C   THR L1002      21.247  38.093 -26.922  1.00 22.60           C  \n",
      "ATOM   2495  O   THR L1002      21.811  37.021 -26.680  1.00 21.00           O  \n",
      "ATOM   2496  CB  THR L1002      19.194  37.952 -28.369  1.00 26.74           C  \n",
      "ATOM   2497  OG1 THR L1002      19.098  36.550 -28.130  1.00 25.78           O  \n",
      "ATOM   2498  CG2 THR L1002      18.513  38.330 -29.684  1.00 24.46           C  \n",
      "ATOM   2499  N   VAL L1003      21.102  39.062 -26.015  1.00 19.17           N  \n",
      "ATOM   2500  CA  VAL L1003      21.563  38.956 -24.631  1.00 19.22           C  \n",
      "ATOM   2501  C   VAL L1003      20.804  37.813 -23.931  1.00 22.23           C  \n",
      "ATOM   2502  O   VAL L1003      19.584  37.715 -24.063  1.00 21.89           O  \n",
      "ATOM   2503  CB  VAL L1003      21.402  40.313 -23.881  1.00 23.97           C  \n",
      "ATOM   2504  CG1 VAL L1003      21.796  40.191 -22.415  1.00 24.02           C  \n",
      "ATOM   2505  CG2 VAL L1003      22.219  41.416 -24.551  1.00 23.95           C  \n",
      "ATOM   2506  N   ALA L1004      21.535  36.929 -23.237  1.00 18.30           N  \n",
      "ATOM   2507  CA  ALA L1004      20.928  35.838 -22.480  1.00 18.03           C  \n",
      "ATOM   2508  C   ALA L1004      21.530  35.793 -21.103  1.00 22.16           C  \n",
      "ATOM   2509  O   ALA L1004      22.753  35.763 -20.951  1.00 21.13           O  \n",
      "ATOM   2510  CB  ALA L1004      21.112  34.502 -23.181  1.00 18.42           C  \n",
      "ATOM   2511  N   ALA L1005      20.665  35.841 -20.096  1.00 19.16           N  \n",
      "ATOM   2512  CA  ALA L1005      21.052  35.797 -18.696  1.00 18.97           C  \n",
      "ATOM   2513  C   ALA L1005      21.564  34.390 -18.347  1.00 21.23           C  \n",
      "ATOM   2514  O   ALA L1005      21.038  33.406 -18.878  1.00 19.06           O  \n",
      "ATOM   2515  CB  ALA L1005      19.851  36.141 -17.828  1.00 20.21           C  \n",
      "ATOM   2516  N   PRO L1006      22.583  34.254 -17.472  1.00 18.86           N  \n",
      "ATOM   2517  CA  PRO L1006      23.024  32.903 -17.101  1.00 18.83           C  \n",
      "ATOM   2518  C   PRO L1006      22.073  32.242 -16.110  1.00 23.25           C  \n",
      "ATOM   2519  O   PRO L1006      21.361  32.924 -15.365  1.00 22.67           O  \n",
      "ATOM   2520  CB  PRO L1006      24.382  33.145 -16.438  1.00 20.73           C  \n",
      "ATOM   2521  CG  PRO L1006      24.288  34.517 -15.872  1.00 25.91           C  \n",
      "ATOM   2522  CD  PRO L1006      23.340  35.297 -16.743  1.00 21.21           C  \n",
      "ATOM   2523  N   SER L1007      22.077  30.909 -16.103  1.00 20.18           N  \n",
      "ATOM   2524  CA  SER L1007      21.381  30.100 -15.114  1.00 20.52           C  \n",
      "ATOM   2525  C   SER L1007      22.498  29.843 -14.102  1.00 23.65           C  \n",
      "ATOM   2526  O   SER L1007      23.592  29.422 -14.495  1.00 22.72           O  \n",
      "ATOM   2527  CB  SER L1007      20.884  28.797 -15.731  1.00 24.25           C  \n",
      "ATOM   2528  OG  SER L1007      19.813  29.058 -16.624  1.00 35.89           O  \n",
      "ATOM   2529  N   VAL L1008      22.274  30.206 -12.839  1.00 20.39           N  \n",
      "ATOM   2530  CA  VAL L1008      23.301  30.102 -11.798  1.00 20.51           C  \n",
      "ATOM   2531  C   VAL L1008      23.063  28.932 -10.853  1.00 25.00           C  \n",
      "ATOM   2532  O   VAL L1008      21.946  28.742 -10.376  1.00 24.79           O  \n",
      "ATOM   2533  CB  VAL L1008      23.513  31.442 -11.037  1.00 24.54           C  \n",
      "ATOM   2534  CG1 VAL L1008      24.754  31.385 -10.146  1.00 24.51           C  \n",
      "ATOM   2535  CG2 VAL L1008      23.604  32.622 -12.005  1.00 23.85           C  \n",
      "ATOM   2536  N   PHE L1009      24.134  28.164 -10.571  1.00 22.00           N  \n",
      "ATOM   2537  CA  PHE L1009      24.112  27.009  -9.675  1.00 22.59           C  \n",
      "ATOM   2538  C   PHE L1009      25.308  27.037  -8.726  1.00 28.43           C  \n",
      "ATOM   2539  O   PHE L1009      26.423  27.371  -9.142  1.00 28.65           O  \n",
      "ATOM   2540  CB  PHE L1009      24.100  25.692 -10.474  1.00 23.49           C  \n",
      "ATOM   2541  CG  PHE L1009      22.984  25.569 -11.484  1.00 24.40           C  \n",
      "ATOM   2542  CD1 PHE L1009      21.758  25.020 -11.127  1.00 27.79           C  \n",
      "ATOM   2543  CD2 PHE L1009      23.159  25.999 -12.796  1.00 25.16           C  \n",
      "ATOM   2544  CE1 PHE L1009      20.731  24.894 -12.068  1.00 28.30           C  \n",
      "ATOM   2545  CE2 PHE L1009      22.127  25.887 -13.730  1.00 27.63           C  \n",
      "ATOM   2546  CZ  PHE L1009      20.922  25.331 -13.362  1.00 26.17           C  \n",
      "ATOM   2547  N   ILE L1010      25.073  26.685  -7.454  1.00 25.41           N  \n",
      "ATOM   2548  CA  ILE L1010      26.113  26.610  -6.429  1.00 26.04           C  \n",
      "ATOM   2549  C   ILE L1010      26.291  25.156  -5.970  1.00 30.66           C  \n",
      "ATOM   2550  O   ILE L1010      25.304  24.440  -5.776  1.00 30.64           O  \n",
      "ATOM   2551  CB  ILE L1010      25.930  27.644  -5.269  1.00 30.16           C  \n",
      "ATOM   2552  CG1 ILE L1010      27.200  27.739  -4.384  1.00 30.91           C  \n",
      "ATOM   2553  CG2 ILE L1010      24.647  27.395  -4.440  1.00 31.65           C  \n",
      "ATOM   2554  CD1 ILE L1010      27.407  29.072  -3.625  1.00 36.57           C  \n",
      "ATOM   2555  N   PHE L1011      27.549  24.713  -5.859  1.00 26.90           N  \n",
      "ATOM   2556  CA  PHE L1011      27.879  23.357  -5.444  1.00 26.88           C  \n",
      "ATOM   2557  C   PHE L1011      28.763  23.351  -4.206  1.00 32.22           C  \n",
      "ATOM   2558  O   PHE L1011      29.892  23.853  -4.257  1.00 30.99           O  \n",
      "ATOM   2559  CB  PHE L1011      28.545  22.568  -6.583  1.00 27.57           C  \n",
      "ATOM   2560  CG  PHE L1011      27.700  22.376  -7.818  1.00 27.84           C  \n",
      "ATOM   2561  CD1 PHE L1011      27.857  23.203  -8.923  1.00 29.49           C  \n",
      "ATOM   2562  CD2 PHE L1011      26.768  21.346  -7.889  1.00 29.57           C  \n",
      "ATOM   2563  CE1 PHE L1011      27.083  23.017 -10.072  1.00 29.45           C  \n",
      "ATOM   2564  CE2 PHE L1011      25.993  21.161  -9.038  1.00 31.36           C  \n",
      "ATOM   2565  CZ  PHE L1011      26.159  21.996 -10.123  1.00 28.70           C  \n",
      "ATOM   2566  N   PRO L1012      28.274  22.772  -3.082  1.00 31.12           N  \n",
      "ATOM   2567  CA  PRO L1012      29.118  22.690  -1.880  1.00 32.43           C  \n",
      "ATOM   2568  C   PRO L1012      30.246  21.662  -2.052  1.00 36.95           C  \n",
      "ATOM   2569  O   PRO L1012      30.116  20.775  -2.906  1.00 35.47           O  \n",
      "ATOM   2570  CB  PRO L1012      28.132  22.251  -0.788  1.00 35.13           C  \n",
      "ATOM   2571  CG  PRO L1012      27.072  21.518  -1.499  1.00 39.10           C  \n",
      "ATOM   2572  CD  PRO L1012      26.962  22.123  -2.871  1.00 33.09           C  \n",
      "ATOM   2573  N   PRO L1013      31.349  21.736  -1.265  1.00 35.13           N  \n",
      "ATOM   2574  CA  PRO L1013      32.398  20.708  -1.386  1.00 35.30           C  \n",
      "ATOM   2575  C   PRO L1013      31.828  19.344  -1.010  1.00 40.13           C  \n",
      "ATOM   2576  O   PRO L1013      31.082  19.248  -0.031  1.00 41.23           O  \n",
      "ATOM   2577  CB  PRO L1013      33.464  21.157  -0.374  1.00 38.22           C  \n",
      "ATOM   2578  CG  PRO L1013      33.149  22.582  -0.072  1.00 42.86           C  \n",
      "ATOM   2579  CD  PRO L1013      31.674  22.706  -0.201  1.00 37.89           C  \n",
      "ATOM   2580  N   SER L1014      32.133  18.308  -1.810  1.00 35.51           N  \n",
      "ATOM   2581  CA  SER L1014      31.654  16.946  -1.568  1.00 35.75           C  \n",
      "ATOM   2582  C   SER L1014      32.243  16.373  -0.276  1.00 41.54           C  \n",
      "ATOM   2583  O   SER L1014      33.340  16.775   0.124  1.00 41.50           O  \n",
      "ATOM   2584  CB  SER L1014      31.977  16.039  -2.754  1.00 38.00           C  \n",
      "ATOM   2585  OG  SER L1014      33.351  15.688  -2.809  1.00 45.47           O  \n",
      "ATOM   2586  N   ASP L1015      31.513  15.440   0.373  1.00 39.45           N  \n",
      "ATOM   2587  CA  ASP L1015      31.947  14.772   1.608  1.00 41.06           C  \n",
      "ATOM   2588  C   ASP L1015      33.264  14.020   1.394  1.00 44.27           C  \n",
      "ATOM   2589  O   ASP L1015      34.092  13.957   2.303  1.00 44.53           O  \n",
      "ATOM   2590  CB  ASP L1015      30.856  13.817   2.125  1.00 43.98           C  \n",
      "ATOM   2591  CG  ASP L1015      29.562  14.503   2.525  1.00 56.91           C  \n",
      "ATOM   2592  OD1 ASP L1015      29.618  15.454   3.337  1.00 58.42           O  \n",
      "ATOM   2593  OD2 ASP L1015      28.489  14.065   2.053  1.00 63.59           O  \n",
      "ATOM   2594  N   GLU L1016      33.458  13.489   0.170  1.00 39.63           N  \n",
      "ATOM   2595  CA  GLU L1016      34.650  12.764  -0.271  1.00 39.59           C  \n",
      "ATOM   2596  C   GLU L1016      35.890  13.667  -0.270  1.00 43.12           C  \n",
      "ATOM   2597  O   GLU L1016      36.965  13.212   0.127  1.00 43.76           O  \n",
      "ATOM   2598  CB  GLU L1016      34.431  12.172  -1.672  1.00 39.66           C  \n",
      "ATOM   2599  CG  GLU L1016      33.385  11.070  -1.721  1.00 50.35           C  \n",
      "ATOM   2600  CD  GLU L1016      32.938  10.670  -3.114  1.00 67.67           C  \n",
      "ATOM   2601  OE1 GLU L1016      33.804  10.546  -4.010  1.00 65.36           O  \n",
      "ATOM   2602  OE2 GLU L1016      31.718  10.465  -3.307  1.00 54.54           O  \n",
      "ATOM   2603  N   GLN L1017      35.736  14.939  -0.708  1.00 38.09           N  \n",
      "ATOM   2604  CA  GLN L1017      36.827  15.917  -0.746  1.00 37.72           C  \n",
      "ATOM   2605  C   GLN L1017      37.224  16.367   0.655  1.00 44.01           C  \n",
      "ATOM   2606  O   GLN L1017      38.419  16.451   0.950  1.00 43.81           O  \n",
      "ATOM   2607  CB  GLN L1017      36.480  17.130  -1.626  1.00 37.33           C  \n",
      "ATOM   2608  CG  GLN L1017      37.692  18.033  -1.879  1.00 40.92           C  \n",
      "ATOM   2609  CD  GLN L1017      37.413  19.356  -2.550  1.00 46.75           C  \n",
      "ATOM   2610  OE1 GLN L1017      36.273  19.816  -2.679  1.00 38.68           O  \n",
      "ATOM   2611  NE2 GLN L1017      38.482  20.022  -2.951  1.00 36.22           N  \n",
      "ATOM   2612  N   LEU L1018      36.222  16.654   1.514  1.00 42.46           N  \n",
      "ATOM   2613  CA  LEU L1018      36.427  17.096   2.897  1.00 44.58           C  \n",
      "ATOM   2614  C   LEU L1018      37.319  16.138   3.686  1.00 51.59           C  \n",
      "ATOM   2615  O   LEU L1018      38.152  16.599   4.459  1.00 52.45           O  \n",
      "ATOM   2616  CB  LEU L1018      35.090  17.346   3.617  1.00 45.10           C  \n",
      "ATOM   2617  CG  LEU L1018      34.213  18.479   3.059  1.00 48.83           C  \n",
      "ATOM   2618  CD1 LEU L1018      32.812  18.412   3.632  1.00 49.53           C  \n",
      "ATOM   2619  CD2 LEU L1018      34.827  19.852   3.317  1.00 50.97           C  \n",
      "ATOM   2620  N   LYS L1019      37.227  14.820   3.404  1.00 49.44           N  \n",
      "ATOM   2621  CA  LYS L1019      38.048  13.771   4.022  1.00 51.21           C  \n",
      "ATOM   2622  C   LYS L1019      39.565  13.905   3.723  1.00 55.66           C  \n",
      "ATOM   2623  O   LYS L1019      40.354  13.109   4.240  1.00 56.59           O  \n",
      "ATOM   2624  CB  LYS L1019      37.535  12.382   3.600  1.00 53.80           C  \n",
      "ATOM   2625  CG  LYS L1019      36.605  11.735   4.619  1.00 69.96           C  \n",
      "ATOM   2626  CD  LYS L1019      35.945  10.476   4.068  1.00 80.21           C  \n",
      "ATOM   2627  CE  LYS L1019      34.565  10.747   3.514  1.00 91.53           C  \n",
      "ATOM   2628  NZ  LYS L1019      34.066   9.614   2.693  1.00100.48           N  \n",
      "ATOM   2629  N   SER L1020      39.967  14.916   2.913  1.00 51.06           N  \n",
      "ATOM   2630  CA  SER L1020      41.361  15.174   2.531  1.00 50.71           C  \n",
      "ATOM   2631  C   SER L1020      41.936  16.528   3.019  1.00 54.20           C  \n",
      "ATOM   2632  O   SER L1020      43.072  16.869   2.675  1.00 54.14           O  \n",
      "ATOM   2633  CB  SER L1020      41.536  15.016   1.023  1.00 53.53           C  \n",
      "ATOM   2634  OG  SER L1020      42.909  15.037   0.666  1.00 64.02           O  \n",
      "ATOM   2635  N   GLY L1021      41.162  17.266   3.815  1.00 50.12           N  \n",
      "ATOM   2636  CA  GLY L1021      41.581  18.546   4.381  1.00 50.22           C  \n",
      "ATOM   2637  C   GLY L1021      41.388  19.765   3.499  1.00 51.50           C  \n",
      "ATOM   2638  O   GLY L1021      41.733  20.880   3.904  1.00 51.57           O  \n",
      "ATOM   2639  N   THR L1022      40.839  19.573   2.294  1.00 45.70           N  \n",
      "ATOM   2640  CA  THR L1022      40.588  20.666   1.356  1.00 43.71           C  \n",
      "ATOM   2641  C   THR L1022      39.111  20.775   0.982  1.00 44.51           C  \n",
      "ATOM   2642  O   THR L1022      38.408  19.763   0.942  1.00 43.74           O  \n",
      "ATOM   2643  CB  THR L1022      41.562  20.629   0.166  1.00 52.79           C  \n",
      "ATOM   2644  OG1 THR L1022      41.373  21.803  -0.626  1.00 53.53           O  \n",
      "ATOM   2645  CG2 THR L1022      41.409  19.372  -0.699  1.00 52.02           C  \n",
      "ATOM   2646  N   ALA L1023      38.645  22.009   0.731  1.00 38.94           N  \n",
      "ATOM   2647  CA  ALA L1023      37.262  22.285   0.358  1.00 37.28           C  \n",
      "ATOM   2648  C   ALA L1023      37.185  23.219  -0.851  1.00 38.07           C  \n",
      "ATOM   2649  O   ALA L1023      37.747  24.318  -0.823  1.00 38.05           O  \n",
      "ATOM   2650  CB  ALA L1023      36.510  22.877   1.541  1.00 39.09           C  \n",
      "ATOM   2651  N   SER L1024      36.512  22.762  -1.920  1.00 31.59           N  \n",
      "ATOM   2652  CA  SER L1024      36.310  23.535  -3.144  1.00 29.49           C  \n",
      "ATOM   2653  C   SER L1024      34.820  23.806  -3.320  1.00 32.29           C  \n",
      "ATOM   2654  O   SER L1024      34.021  22.866  -3.355  1.00 31.92           O  \n",
      "ATOM   2655  CB  SER L1024      36.850  22.789  -4.363  1.00 31.30           C  \n",
      "ATOM   2656  OG  SER L1024      38.220  22.450  -4.231  1.00 38.10           O  \n",
      "ATOM   2657  N   VAL L1025      34.446  25.087  -3.406  1.00 27.62           N  \n",
      "ATOM   2658  CA  VAL L1025      33.056  25.498  -3.604  1.00 26.70           C  \n",
      "ATOM   2659  C   VAL L1025      32.952  25.954  -5.051  1.00 28.99           C  \n",
      "ATOM   2660  O   VAL L1025      33.745  26.792  -5.483  1.00 28.45           O  \n",
      "ATOM   2661  CB  VAL L1025      32.583  26.586  -2.601  1.00 31.14           C  \n",
      "ATOM   2662  CG1 VAL L1025      31.064  26.697  -2.607  1.00 30.63           C  \n",
      "ATOM   2663  CG2 VAL L1025      33.082  26.295  -1.188  1.00 32.28           C  \n",
      "ATOM   2664  N   VAL L1026      32.010  25.374  -5.811  1.00 24.44           N  \n",
      "ATOM   2665  CA  VAL L1026      31.872  25.658  -7.240  1.00 23.20           C  \n",
      "ATOM   2666  C   VAL L1026      30.607  26.440  -7.596  1.00 27.50           C  \n",
      "ATOM   2667  O   VAL L1026      29.507  26.075  -7.177  1.00 26.67           O  \n",
      "ATOM   2668  CB  VAL L1026      32.034  24.361  -8.095  1.00 26.01           C  \n",
      "ATOM   2669  CG1 VAL L1026      31.942  24.651  -9.594  1.00 24.45           C  \n",
      "ATOM   2670  CG2 VAL L1026      33.345  23.644  -7.774  1.00 26.28           C  \n",
      "ATOM   2671  N   CYS L1027      30.778  27.507  -8.394  1.00 24.89           N  \n",
      "ATOM   2672  CA  CYS L1027      29.681  28.311  -8.917  1.00 25.26           C  \n",
      "ATOM   2673  C   CYS L1027      29.671  28.198 -10.433  1.00 26.20           C  \n",
      "ATOM   2674  O   CYS L1027      30.690  28.447 -11.087  1.00 25.12           O  \n",
      "ATOM   2675  CB  CYS L1027      29.767  29.763  -8.461  1.00 27.29           C  \n",
      "ATOM   2676  SG  CYS L1027      28.333  30.763  -8.926  1.00 31.66           S  \n",
      "ATOM   2677  N   LEU L1028      28.526  27.781 -10.983  1.00 20.85           N  \n",
      "ATOM   2678  CA  LEU L1028      28.332  27.610 -12.417  1.00 18.50           C  \n",
      "ATOM   2679  C   LEU L1028      27.385  28.668 -12.981  1.00 20.87           C  \n",
      "ATOM   2680  O   LEU L1028      26.283  28.852 -12.464  1.00 20.73           O  \n",
      "ATOM   2681  CB  LEU L1028      27.799  26.189 -12.703  1.00 18.03           C  \n",
      "ATOM   2682  CG  LEU L1028      27.192  25.910 -14.087  1.00 21.00           C  \n",
      "ATOM   2683  CD1 LEU L1028      28.246  25.987 -15.190  1.00 20.14           C  \n",
      "ATOM   2684  CD2 LEU L1028      26.484  24.566 -14.105  1.00 22.50           C  \n",
      "ATOM   2685  N   LEU L1029      27.823  29.341 -14.053  1.00 16.26           N  \n",
      "ATOM   2686  CA  LEU L1029      27.064  30.332 -14.816  1.00 16.02           C  \n",
      "ATOM   2687  C   LEU L1029      26.840  29.654 -16.147  1.00 20.01           C  \n",
      "ATOM   2688  O   LEU L1029      27.787  29.459 -16.916  1.00 19.68           O  \n",
      "ATOM   2689  CB  LEU L1029      27.876  31.626 -14.995  1.00 16.12           C  \n",
      "ATOM   2690  CG  LEU L1029      27.835  32.641 -13.858  1.00 21.44           C  \n",
      "ATOM   2691  CD1 LEU L1029      28.513  32.099 -12.586  1.00 21.89           C  \n",
      "ATOM   2692  CD2 LEU L1029      28.525  33.916 -14.283  1.00 23.53           C  \n",
      "ATOM   2693  N   ASN L1030      25.611  29.206 -16.382  1.00 16.89           N  \n",
      "ATOM   2694  CA  ASN L1030      25.281  28.394 -17.548  1.00 16.20           C  \n",
      "ATOM   2695  C   ASN L1030      24.597  29.137 -18.692  1.00 18.73           C  \n",
      "ATOM   2696  O   ASN L1030      23.555  29.758 -18.489  1.00 17.75           O  \n",
      "ATOM   2697  CB  ASN L1030      24.426  27.201 -17.088  1.00 17.50           C  \n",
      "ATOM   2698  CG  ASN L1030      24.226  26.121 -18.112  1.00 38.43           C  \n",
      "ATOM   2699  OD1 ASN L1030      25.114  25.307 -18.367  1.00 32.88           O  \n",
      "ATOM   2700  ND2 ASN L1030      23.037  26.064 -18.690  1.00 30.86           N  \n",
      "ATOM   2701  N   ASN L1031      25.180  29.012 -19.907  1.00 14.89           N  \n",
      "ATOM   2702  CA  ASN L1031      24.666  29.499 -21.195  1.00 14.67           C  \n",
      "ATOM   2703  C   ASN L1031      24.217  30.964 -21.223  1.00 18.89           C  \n",
      "ATOM   2704  O   ASN L1031      23.020  31.265 -21.255  1.00 18.55           O  \n",
      "ATOM   2705  CB  ASN L1031      23.582  28.546 -21.735  1.00 15.73           C  \n",
      "ATOM   2706  CG  ASN L1031      24.118  27.203 -22.177  1.00 31.20           C  \n",
      "ATOM   2707  OD1 ASN L1031      24.014  26.820 -23.339  1.00 30.34           O  \n",
      "ATOM   2708  ND2 ASN L1031      24.721  26.459 -21.271  1.00 19.89           N  \n",
      "ATOM   2709  N   PHE L1032      25.194  31.868 -21.225  1.00 15.04           N  \n",
      "ATOM   2710  CA  PHE L1032      24.940  33.305 -21.223  1.00 14.60           C  \n",
      "ATOM   2711  C   PHE L1032      25.633  34.025 -22.378  1.00 18.47           C  \n",
      "ATOM   2712  O   PHE L1032      26.572  33.497 -22.980  1.00 17.26           O  \n",
      "ATOM   2713  CB  PHE L1032      25.346  33.925 -19.868  1.00 16.48           C  \n",
      "ATOM   2714  CG  PHE L1032      26.802  33.747 -19.498  1.00 17.46           C  \n",
      "ATOM   2715  CD1 PHE L1032      27.223  32.635 -18.772  1.00 19.91           C  \n",
      "ATOM   2716  CD2 PHE L1032      27.751  34.692 -19.867  1.00 18.85           C  \n",
      "ATOM   2717  CE1 PHE L1032      28.570  32.467 -18.441  1.00 20.32           C  \n",
      "ATOM   2718  CE2 PHE L1032      29.099  34.521 -19.538  1.00 21.41           C  \n",
      "ATOM   2719  CZ  PHE L1032      29.498  33.412 -18.826  1.00 19.57           C  \n",
      "ATOM   2720  N   TYR L1033      25.165  35.248 -22.670  1.00 16.03           N  \n",
      "ATOM   2721  CA  TYR L1033      25.726  36.130 -23.690  1.00 16.13           C  \n",
      "ATOM   2722  C   TYR L1033      25.445  37.587 -23.297  1.00 20.40           C  \n",
      "ATOM   2723  O   TYR L1033      24.311  37.873 -22.923  1.00 20.07           O  \n",
      "ATOM   2724  CB  TYR L1033      25.197  35.826 -25.108  1.00 17.09           C  \n",
      "ATOM   2725  CG  TYR L1033      25.976  36.581 -26.162  1.00 18.54           C  \n",
      "ATOM   2726  CD1 TYR L1033      27.194  36.098 -26.634  1.00 19.92           C  \n",
      "ATOM   2727  CD2 TYR L1033      25.560  37.837 -26.598  1.00 20.17           C  \n",
      "ATOM   2728  CE1 TYR L1033      27.957  36.826 -27.544  1.00 20.45           C  \n",
      "ATOM   2729  CE2 TYR L1033      26.325  38.582 -27.494  1.00 21.31           C  \n",
      "ATOM   2730  CZ  TYR L1033      27.519  38.068 -27.969  1.00 26.03           C  \n",
      "ATOM   2731  OH  TYR L1033      28.265  38.793 -28.858  1.00 27.50           O  \n",
      "ATOM   2732  N   PRO L1034      26.413  38.534 -23.372  1.00 18.18           N  \n",
      "ATOM   2733  CA  PRO L1034      27.821  38.410 -23.809  1.00 17.53           C  \n",
      "ATOM   2734  C   PRO L1034      28.721  37.645 -22.834  1.00 21.07           C  \n",
      "ATOM   2735  O   PRO L1034      28.265  37.243 -21.766  1.00 20.84           O  \n",
      "ATOM   2736  CB  PRO L1034      28.246  39.876 -23.986  1.00 19.88           C  \n",
      "ATOM   2737  CG  PRO L1034      27.451  40.601 -22.953  1.00 24.54           C  \n",
      "ATOM   2738  CD  PRO L1034      26.105  39.928 -22.982  1.00 20.11           C  \n",
      "ATOM   2739  N   ARG L1035      30.000  37.461 -23.208  1.00 17.65           N  \n",
      "ATOM   2740  CA  ARG L1035      31.019  36.738 -22.432  1.00 17.21           C  \n",
      "ATOM   2741  C   ARG L1035      31.301  37.361 -21.047  1.00 21.76           C  \n",
      "ATOM   2742  O   ARG L1035      31.581  36.627 -20.098  1.00 21.38           O  \n",
      "ATOM   2743  CB  ARG L1035      32.313  36.632 -23.262  1.00 16.48           C  \n",
      "ATOM   2744  CG  ARG L1035      33.327  35.608 -22.759  1.00 21.80           C  \n",
      "ATOM   2745  CD  ARG L1035      34.596  35.666 -23.591  1.00 28.49           C  \n",
      "ATOM   2746  NE  ARG L1035      35.532  34.593 -23.248  1.00 35.01           N  \n",
      "ATOM   2747  CZ  ARG L1035      36.483  34.686 -22.323  1.00 48.13           C  \n",
      "ATOM   2748  NH1 ARG L1035      36.636  35.806 -21.626  1.00 35.00           N  \n",
      "ATOM   2749  NH2 ARG L1035      37.285  33.658 -22.084  1.00 35.55           N  \n",
      "ATOM   2750  N   GLU L1036      31.227  38.700 -20.940  1.00 18.92           N  \n",
      "ATOM   2751  CA  GLU L1036      31.499  39.458 -19.713  1.00 19.53           C  \n",
      "ATOM   2752  C   GLU L1036      30.509  39.154 -18.603  1.00 24.24           C  \n",
      "ATOM   2753  O   GLU L1036      29.303  39.304 -18.786  1.00 23.80           O  \n",
      "ATOM   2754  CB  GLU L1036      31.549  40.977 -19.986  1.00 21.51           C  \n",
      "ATOM   2755  CG  GLU L1036      32.779  41.437 -20.753  1.00 32.05           C  \n",
      "ATOM   2756  CD  GLU L1036      32.916  40.923 -22.173  1.00 47.58           C  \n",
      "ATOM   2757  OE1 GLU L1036      31.893  40.862 -22.894  1.00 33.50           O  \n",
      "ATOM   2758  OE2 GLU L1036      34.044  40.527 -22.544  1.00 43.42           O  \n",
      "ATOM   2759  N   ALA L1037      31.033  38.714 -17.451  1.00 21.54           N  \n",
      "ATOM   2760  CA  ALA L1037      30.258  38.366 -16.262  1.00 21.53           C  \n",
      "ATOM   2761  C   ALA L1037      31.118  38.559 -15.024  1.00 26.36           C  \n",
      "ATOM   2762  O   ALA L1037      32.328  38.318 -15.063  1.00 25.77           O  \n",
      "ATOM   2763  CB  ALA L1037      29.778  36.921 -16.348  1.00 21.36           C  \n",
      "ATOM   2764  N   LYS L1038      30.501  39.016 -13.933  1.00 24.30           N  \n",
      "ATOM   2765  CA  LYS L1038      31.208  39.230 -12.677  1.00 25.03           C  \n",
      "ATOM   2766  C   LYS L1038      30.710  38.233 -11.643  1.00 29.06           C  \n",
      "ATOM   2767  O   LYS L1038      29.501  38.084 -11.453  1.00 28.97           O  \n",
      "ATOM   2768  CB  LYS L1038      31.043  40.679 -12.189  1.00 28.57           C  \n",
      "ATOM   2769  CG  LYS L1038      32.060  41.094 -11.130  0.00 44.34           C  \n",
      "ATOM   2770  CD  LYS L1038      31.788  42.494 -10.607  0.00 55.55           C  \n",
      "ATOM   2771  CE  LYS L1038      32.743  42.879  -9.506  0.00 67.83           C  \n",
      "ATOM   2772  NZ  LYS L1038      32.443  44.230  -8.964  0.00 78.21           N  \n",
      "ATOM   2773  N   VAL L1039      31.648  37.529 -11.003  1.00 25.83           N  \n",
      "ATOM   2774  CA  VAL L1039      31.362  36.550  -9.955  1.00 26.22           C  \n",
      "ATOM   2775  C   VAL L1039      32.000  37.037  -8.655  1.00 29.49           C  \n",
      "ATOM   2776  O   VAL L1039      33.211  37.264  -8.605  1.00 28.88           O  \n",
      "ATOM   2777  CB  VAL L1039      31.816  35.111 -10.334  1.00 29.94           C  \n",
      "ATOM   2778  CG1 VAL L1039      31.664  34.147  -9.157  1.00 30.47           C  \n",
      "ATOM   2779  CG2 VAL L1039      31.045  34.596 -11.538  1.00 28.84           C  \n",
      "ATOM   2780  N   GLN L1040      31.176  37.205  -7.614  1.00 26.05           N  \n",
      "ATOM   2781  CA  GLN L1040      31.631  37.631  -6.297  1.00 26.72           C  \n",
      "ATOM   2782  C   GLN L1040      31.279  36.556  -5.273  1.00 31.48           C  \n",
      "ATOM   2783  O   GLN L1040      30.119  36.154  -5.170  1.00 31.51           O  \n",
      "ATOM   2784  CB  GLN L1040      31.009  38.984  -5.902  1.00 28.34           C  \n",
      "ATOM   2785  CG  GLN L1040      31.511  40.170  -6.716  1.00 40.97           C  \n",
      "ATOM   2786  CD  GLN L1040      30.868  41.459  -6.263  1.00 61.37           C  \n",
      "ATOM   2787  OE1 GLN L1040      29.710  41.753  -6.582  1.00 58.08           O  \n",
      "ATOM   2788  NE2 GLN L1040      31.606  42.259  -5.511  1.00 50.43           N  \n",
      "ATOM   2789  N   TRP L1041      32.288  36.070  -4.545  1.00 28.41           N  \n",
      "ATOM   2790  CA  TRP L1041      32.107  35.063  -3.505  1.00 29.09           C  \n",
      "ATOM   2791  C   TRP L1041      31.931  35.744  -2.153  1.00 35.25           C  \n",
      "ATOM   2792  O   TRP L1041      32.748  36.587  -1.781  1.00 35.11           O  \n",
      "ATOM   2793  CB  TRP L1041      33.307  34.110  -3.466  1.00 27.90           C  \n",
      "ATOM   2794  CG  TRP L1041      33.286  33.069  -4.539  1.00 27.70           C  \n",
      "ATOM   2795  CD1 TRP L1041      33.987  33.081  -5.709  1.00 29.68           C  \n",
      "ATOM   2796  CD2 TRP L1041      32.518  31.862  -4.541  1.00 27.21           C  \n",
      "ATOM   2797  NE1 TRP L1041      33.708  31.949  -6.438  1.00 28.18           N  \n",
      "ATOM   2798  CE2 TRP L1041      32.815  31.178  -5.741  1.00 29.82           C  \n",
      "ATOM   2799  CE3 TRP L1041      31.609  31.283  -3.640  1.00 28.91           C  \n",
      "ATOM   2800  CZ2 TRP L1041      32.252  29.937  -6.053  1.00 28.63           C  \n",
      "ATOM   2801  CZ3 TRP L1041      31.035  30.064  -3.960  1.00 29.74           C  \n",
      "ATOM   2802  CH2 TRP L1041      31.354  29.405  -5.154  1.00 29.29           C  \n",
      "ATOM   2803  N   LYS L1042      30.857  35.389  -1.429  1.00 33.57           N  \n",
      "ATOM   2804  CA  LYS L1042      30.569  35.922  -0.098  1.00 35.15           C  \n",
      "ATOM   2805  C   LYS L1042      30.492  34.785   0.918  1.00 40.30           C  \n",
      "ATOM   2806  O   LYS L1042      29.731  33.833   0.727  1.00 38.99           O  \n",
      "ATOM   2807  CB  LYS L1042      29.297  36.788  -0.096  1.00 37.98           C  \n",
      "ATOM   2808  CG  LYS L1042      29.509  38.166  -0.715  1.00 51.00           C  \n",
      "ATOM   2809  CD  LYS L1042      28.218  38.962  -0.814  1.00 60.59           C  \n",
      "ATOM   2810  CE  LYS L1042      28.441  40.282  -1.511  1.00 73.66           C  \n",
      "ATOM   2811  NZ  LYS L1042      27.203  41.103  -1.553  1.00 84.69           N  \n",
      "ATOM   2812  N   VAL L1043      31.326  34.867   1.971  1.00 38.36           N  \n",
      "ATOM   2813  CA  VAL L1043      31.416  33.874   3.046  1.00 39.24           C  \n",
      "ATOM   2814  C   VAL L1043      31.006  34.580   4.350  1.00 45.57           C  \n",
      "ATOM   2815  O   VAL L1043      31.731  35.458   4.818  1.00 46.34           O  \n",
      "ATOM   2816  CB  VAL L1043      32.835  33.234   3.095  1.00 43.31           C  \n",
      "ATOM   2817  CG1 VAL L1043      33.007  32.334   4.311  1.00 44.27           C  \n",
      "ATOM   2818  CG2 VAL L1043      33.130  32.455   1.814  1.00 41.74           C  \n",
      "ATOM   2819  N   ASP L1044      29.817  34.223   4.898  1.00 42.71           N  \n",
      "ATOM   2820  CA  ASP L1044      29.189  34.836   6.081  1.00 44.12           C  \n",
      "ATOM   2821  C   ASP L1044      29.051  36.359   5.868  1.00 48.70           C  \n",
      "ATOM   2822  O   ASP L1044      29.428  37.154   6.735  1.00 49.41           O  \n",
      "ATOM   2823  CB  ASP L1044      29.939  34.486   7.391  1.00 47.43           C  \n",
      "ATOM   2824  CG  ASP L1044      29.664  33.109   7.979  1.00 56.73           C  \n",
      "ATOM   2825  OD1 ASP L1044      28.732  32.426   7.497  1.00 55.72           O  \n",
      "ATOM   2826  OD2 ASP L1044      30.347  32.737   8.955  1.00 64.88           O  \n",
      "ATOM   2827  N   ASN L1045      28.550  36.745   4.665  1.00 44.28           N  \n",
      "ATOM   2828  CA  ASN L1045      28.356  38.119   4.172  1.00 44.23           C  \n",
      "ATOM   2829  C   ASN L1045      29.653  38.900   3.875  1.00 48.53           C  \n",
      "ATOM   2830  O   ASN L1045      29.584  40.028   3.380  1.00 48.46           O  \n",
      "ATOM   2831  CB  ASN L1045      27.354  38.925   5.024  1.00 47.15           C  \n",
      "ATOM   2832  CG  ASN L1045      25.919  38.524   4.794  1.00 72.78           C  \n",
      "ATOM   2833  OD1 ASN L1045      25.326  38.806   3.746  1.00 66.06           O  \n",
      "ATOM   2834  ND2 ASN L1045      25.325  37.859   5.772  1.00 67.13           N  \n",
      "ATOM   2835  N   ALA L1046      30.827  38.287   4.136  1.00 44.93           N  \n",
      "ATOM   2836  CA  ALA L1046      32.128  38.905   3.881  1.00 44.65           C  \n",
      "ATOM   2837  C   ALA L1046      32.602  38.575   2.470  1.00 46.73           C  \n",
      "ATOM   2838  O   ALA L1046      32.685  37.399   2.099  1.00 45.22           O  \n",
      "ATOM   2839  CB  ALA L1046      33.151  38.445   4.911  1.00 46.57           C  \n",
      "ATOM   2840  N   LEU L1047      32.891  39.624   1.682  1.00 42.63           N  \n",
      "ATOM   2841  CA  LEU L1047      33.360  39.509   0.304  1.00 41.04           C  \n",
      "ATOM   2842  C   LEU L1047      34.762  38.887   0.257  1.00 43.97           C  \n",
      "ATOM   2843  O   LEU L1047      35.652  39.296   1.007  1.00 43.89           O  \n",
      "ATOM   2844  CB  LEU L1047      33.329  40.887  -0.384  1.00 41.21           C  \n",
      "ATOM   2845  CG  LEU L1047      33.544  40.921  -1.900  1.00 44.88           C  \n",
      "ATOM   2846  CD1 LEU L1047      32.348  40.344  -2.651  1.00 44.11           C  \n",
      "ATOM   2847  CD2 LEU L1047      33.806  42.332  -2.371  1.00 47.64           C  \n",
      "ATOM   2848  N   GLN L1048      34.933  37.869  -0.602  1.00 39.07           N  \n",
      "ATOM   2849  CA  GLN L1048      36.199  37.153  -0.758  1.00 38.74           C  \n",
      "ATOM   2850  C   GLN L1048      37.052  37.715  -1.887  1.00 41.91           C  \n",
      "ATOM   2851  O   GLN L1048      36.517  38.214  -2.878  1.00 40.70           O  \n",
      "ATOM   2852  CB  GLN L1048      35.963  35.641  -0.943  1.00 39.32           C  \n",
      "ATOM   2853  CG  GLN L1048      35.465  34.934   0.322  1.00 52.56           C  \n",
      "ATOM   2854  CD  GLN L1048      36.544  34.591   1.331  1.00 69.47           C  \n",
      "ATOM   2855  OE1 GLN L1048      37.434  35.389   1.651  1.00 66.97           O  \n",
      "ATOM   2856  NE2 GLN L1048      36.463  33.396   1.890  1.00 59.27           N  \n",
      "ATOM   2857  N   SER L1049      38.385  37.640  -1.729  1.00 38.75           N  \n",
      "ATOM   2858  CA  SER L1049      39.352  38.127  -2.715  1.00 37.79           C  \n",
      "ATOM   2859  C   SER L1049      40.653  37.326  -2.643  1.00 40.44           C  \n",
      "ATOM   2860  O   SER L1049      41.173  37.093  -1.549  1.00 41.11           O  \n",
      "ATOM   2861  CB  SER L1049      39.630  39.614  -2.498  1.00 42.39           C  \n",
      "ATOM   2862  OG  SER L1049      40.411  40.160  -3.548  1.00 51.44           O  \n",
      "ATOM   2863  N   GLY L1050      41.144  36.904  -3.809  1.00 35.29           N  \n",
      "ATOM   2864  CA  GLY L1050      42.390  36.156  -3.957  1.00 34.72           C  \n",
      "ATOM   2865  C   GLY L1050      42.317  34.646  -3.803  1.00 36.78           C  \n",
      "ATOM   2866  O   GLY L1050      43.302  33.963  -4.091  1.00 36.11           O  \n",
      "ATOM   2867  N   ASN L1051      41.168  34.107  -3.347  1.00 31.87           N  \n",
      "ATOM   2868  CA  ASN L1051      40.991  32.666  -3.125  1.00 30.69           C  \n",
      "ATOM   2869  C   ASN L1051      40.024  31.973  -4.109  1.00 31.39           C  \n",
      "ATOM   2870  O   ASN L1051      39.481  30.908  -3.793  1.00 30.35           O  \n",
      "ATOM   2871  CB  ASN L1051      40.616  32.386  -1.660  1.00 31.22           C  \n",
      "ATOM   2872  CG  ASN L1051      39.356  33.066  -1.175  1.00 44.64           C  \n",
      "ATOM   2873  OD1 ASN L1051      38.703  33.836  -1.890  1.00 36.58           O  \n",
      "ATOM   2874  ND2 ASN L1051      38.991  32.800   0.069  1.00 34.42           N  \n",
      "ATOM   2875  N   SER L1052      39.839  32.556  -5.306  1.00 26.54           N  \n",
      "ATOM   2876  CA  SER L1052      38.977  31.987  -6.345  1.00 24.75           C  \n",
      "ATOM   2877  C   SER L1052      39.618  32.034  -7.728  1.00 27.86           C  \n",
      "ATOM   2878  O   SER L1052      40.412  32.932  -8.009  1.00 27.85           O  \n",
      "ATOM   2879  CB  SER L1052      37.610  32.668  -6.362  1.00 27.67           C  \n",
      "ATOM   2880  OG  SER L1052      37.688  34.023  -6.773  1.00 33.27           O  \n",
      "ATOM   2881  N   GLN L1053      39.271  31.059  -8.589  1.00 23.31           N  \n",
      "ATOM   2882  CA  GLN L1053      39.768  30.966  -9.966  1.00 22.49           C  \n",
      "ATOM   2883  C   GLN L1053      38.603  30.750 -10.921  1.00 26.21           C  \n",
      "ATOM   2884  O   GLN L1053      37.657  30.042 -10.579  1.00 25.65           O  \n",
      "ATOM   2885  CB  GLN L1053      40.829  29.865 -10.123  1.00 23.70           C  \n",
      "ATOM   2886  CG  GLN L1053      42.146  30.167  -9.407  1.00 32.53           C  \n",
      "ATOM   2887  CD  GLN L1053      43.263  29.257  -9.853  1.00 42.16           C  \n",
      "ATOM   2888  OE1 GLN L1053      44.128  29.641 -10.647  1.00 35.43           O  \n",
      "ATOM   2889  NE2 GLN L1053      43.281  28.034  -9.342  1.00 29.69           N  \n",
      "ATOM   2890  N   GLU L1054      38.661  31.388 -12.101  1.00 22.89           N  \n",
      "ATOM   2891  CA  GLU L1054      37.612  31.347 -13.127  1.00 21.75           C  \n",
      "ATOM   2892  C   GLU L1054      38.040  30.629 -14.398  1.00 22.87           C  \n",
      "ATOM   2893  O   GLU L1054      39.209  30.684 -14.772  1.00 21.49           O  \n",
      "ATOM   2894  CB  GLU L1054      37.209  32.781 -13.500  1.00 23.22           C  \n",
      "ATOM   2895  CG  GLU L1054      35.839  33.187 -12.998  1.00 34.74           C  \n",
      "ATOM   2896  CD  GLU L1054      35.489  34.647 -13.201  1.00 48.73           C  \n",
      "ATOM   2897  OE1 GLU L1054      35.814  35.200 -14.277  1.00 32.78           O  \n",
      "ATOM   2898  OE2 GLU L1054      34.860  35.234 -12.292  1.00 52.25           O  \n",
      "ATOM   2899  N   SER L1055      37.061  30.027 -15.101  1.00 18.24           N  \n",
      "ATOM   2900  CA  SER L1055      37.256  29.348 -16.372  1.00 17.14           C  \n",
      "ATOM   2901  C   SER L1055      36.025  29.572 -17.245  1.00 19.53           C  \n",
      "ATOM   2902  O   SER L1055      34.900  29.398 -16.771  1.00 18.53           O  \n",
      "ATOM   2903  CB  SER L1055      37.480  27.856 -16.147  1.00 21.08           C  \n",
      "ATOM   2904  OG  SER L1055      37.862  27.248 -17.363  1.00 26.81           O  \n",
      "ATOM   2905  N   VAL L1056      36.234  29.972 -18.512  1.00 14.97           N  \n",
      "ATOM   2906  CA  VAL L1056      35.144  30.242 -19.452  1.00 14.00           C  \n",
      "ATOM   2907  C   VAL L1056      35.274  29.320 -20.659  1.00 17.17           C  \n",
      "ATOM   2908  O   VAL L1056      36.365  29.176 -21.203  1.00 16.66           O  \n",
      "ATOM   2909  CB  VAL L1056      35.067  31.738 -19.888  1.00 18.21           C  \n",
      "ATOM   2910  CG1 VAL L1056      33.776  32.030 -20.660  1.00 17.74           C  \n",
      "ATOM   2911  CG2 VAL L1056      35.195  32.683 -18.693  1.00 18.91           C  \n",
      "ATOM   2912  N   THR L1057      34.159  28.715 -21.093  1.00 13.62           N  \n",
      "ATOM   2913  CA  THR L1057      34.165  27.856 -22.280  1.00 12.61           C  \n",
      "ATOM   2914  C   THR L1057      34.244  28.731 -23.533  1.00 17.19           C  \n",
      "ATOM   2915  O   THR L1057      34.027  29.949 -23.469  1.00 16.75           O  \n",
      "ATOM   2916  CB  THR L1057      32.892  26.992 -22.353  1.00 18.81           C  \n",
      "ATOM   2917  OG1 THR L1057      31.736  27.831 -22.363  1.00 17.13           O  \n",
      "ATOM   2918  CG2 THR L1057      32.810  25.950 -21.250  1.00 18.16           C  \n",
      "ATOM   2919  N   GLU L1058      34.541  28.098 -24.677  1.00 13.70           N  \n",
      "ATOM   2920  CA  GLU L1058      34.529  28.757 -25.975  1.00 13.36           C  \n",
      "ATOM   2921  C   GLU L1058      33.050  28.857 -26.357  1.00 16.53           C  \n",
      "ATOM   2922  O   GLU L1058      32.221  28.171 -25.755  1.00 15.99           O  \n",
      "ATOM   2923  CB  GLU L1058      35.310  27.923 -27.011  1.00 14.55           C  \n",
      "ATOM   2924  CG  GLU L1058      36.821  27.955 -26.817  1.00 24.30           C  \n",
      "ATOM   2925  CD  GLU L1058      37.470  29.322 -26.945  1.00 46.21           C  \n",
      "ATOM   2926  OE1 GLU L1058      37.351  29.940 -28.026  1.00 32.31           O  \n",
      "ATOM   2927  OE2 GLU L1058      38.081  29.783 -25.954  1.00 48.24           O  \n",
      "ATOM   2928  N   GLN L1059      32.710  29.711 -27.324  1.00 13.62           N  \n",
      "ATOM   2929  CA  GLN L1059      31.325  29.897 -27.762  1.00 13.95           C  \n",
      "ATOM   2930  C   GLN L1059      30.656  28.566 -28.143  1.00 18.54           C  \n",
      "ATOM   2931  O   GLN L1059      31.288  27.722 -28.778  1.00 18.36           O  \n",
      "ATOM   2932  CB  GLN L1059      31.275  30.895 -28.917  1.00 15.44           C  \n",
      "ATOM   2933  CG  GLN L1059      29.883  31.444 -29.177  1.00 21.52           C  \n",
      "ATOM   2934  CD  GLN L1059      29.899  32.785 -29.862  1.00 29.46           C  \n",
      "ATOM   2935  OE1 GLN L1059      29.103  33.668 -29.546  1.00 24.79           O  \n",
      "ATOM   2936  NE2 GLN L1059      30.790  32.964 -30.823  1.00 16.08           N  \n",
      "ATOM   2937  N   ASP L1060      29.403  28.366 -27.695  1.00 14.62           N  \n",
      "ATOM   2938  CA  ASP L1060      28.632  27.141 -27.930  1.00 14.03           C  \n",
      "ATOM   2939  C   ASP L1060      28.187  27.031 -29.387  1.00 19.15           C  \n",
      "ATOM   2940  O   ASP L1060      27.642  27.984 -29.941  1.00 17.66           O  \n",
      "ATOM   2941  CB  ASP L1060      27.422  27.079 -26.987  1.00 15.47           C  \n",
      "ATOM   2942  CG  ASP L1060      26.726  25.729 -26.973  1.00 20.77           C  \n",
      "ATOM   2943  OD1 ASP L1060      27.198  24.825 -26.251  1.00 20.55           O  \n",
      "ATOM   2944  OD2 ASP L1060      25.705  25.584 -27.673  1.00 23.09           O  \n",
      "ATOM   2945  N   SER L1061      28.409  25.857 -29.999  1.00 17.60           N  \n",
      "ATOM   2946  CA  SER L1061      28.040  25.596 -31.396  1.00 17.86           C  \n",
      "ATOM   2947  C   SER L1061      26.526  25.611 -31.642  1.00 21.35           C  \n",
      "ATOM   2948  O   SER L1061      26.086  25.976 -32.734  1.00 22.33           O  \n",
      "ATOM   2949  CB  SER L1061      28.637  24.271 -31.866  1.00 21.67           C  \n",
      "ATOM   2950  OG  SER L1061      28.221  23.197 -31.039  1.00 32.62           O  \n",
      "ATOM   2951  N   LYS L1062      25.737  25.237 -30.627  1.00 16.52           N  \n",
      "ATOM   2952  CA  LYS L1062      24.284  25.143 -30.738  1.00 15.71           C  \n",
      "ATOM   2953  C   LYS L1062      23.497  26.415 -30.450  1.00 17.64           C  \n",
      "ATOM   2954  O   LYS L1062      22.489  26.647 -31.116  1.00 16.60           O  \n",
      "ATOM   2955  CB  LYS L1062      23.748  23.957 -29.923  1.00 17.91           C  \n",
      "ATOM   2956  CG  LYS L1062      24.183  22.605 -30.474  1.00 24.23           C  \n",
      "ATOM   2957  CD  LYS L1062      23.764  21.458 -29.553  1.00 29.50           C  \n",
      "ATOM   2958  CE  LYS L1062      23.931  20.101 -30.203  1.00 37.03           C  \n",
      "ATOM   2959  NZ  LYS L1062      25.359  19.753 -30.443  1.00 39.73           N  \n",
      "ATOM   2960  N   ASP L1063      23.922  27.232 -29.467  1.00 14.63           N  \n",
      "ATOM   2961  CA  ASP L1063      23.166  28.446 -29.126  1.00 14.36           C  \n",
      "ATOM   2962  C   ASP L1063      23.980  29.746 -29.049  1.00 18.03           C  \n",
      "ATOM   2963  O   ASP L1063      23.439  30.762 -28.618  1.00 17.93           O  \n",
      "ATOM   2964  CB  ASP L1063      22.335  28.220 -27.842  1.00 16.25           C  \n",
      "ATOM   2965  CG  ASP L1063      23.136  28.032 -26.558  1.00 21.15           C  \n",
      "ATOM   2966  OD1 ASP L1063      22.516  27.815 -25.502  1.00 21.49           O  \n",
      "ATOM   2967  OD2 ASP L1063      24.382  28.143 -26.606  1.00 21.50           O  \n",
      "ATOM   2968  N   SER L1064      25.273  29.710 -29.440  1.00 15.05           N  \n",
      "ATOM   2969  CA  SER L1064      26.204  30.853 -29.442  1.00 14.83           C  \n",
      "ATOM   2970  C   SER L1064      26.455  31.486 -28.046  1.00 18.28           C  \n",
      "ATOM   2971  O   SER L1064      26.840  32.653 -27.956  1.00 18.44           O  \n",
      "ATOM   2972  CB  SER L1064      25.791  31.903 -30.476  1.00 18.20           C  \n",
      "ATOM   2973  OG  SER L1064      25.387  31.311 -31.699  1.00 23.12           O  \n",
      "ATOM   2974  N   THR L1065      26.267  30.711 -26.965  1.00 13.96           N  \n",
      "ATOM   2975  CA  THR L1065      26.478  31.232 -25.608  1.00 13.90           C  \n",
      "ATOM   2976  C   THR L1065      27.828  30.811 -25.022  1.00 16.26           C  \n",
      "ATOM   2977  O   THR L1065      28.561  30.017 -25.616  1.00 14.82           O  \n",
      "ATOM   2978  CB  THR L1065      25.348  30.785 -24.659  1.00 20.64           C  \n",
      "ATOM   2979  OG1 THR L1065      25.411  29.364 -24.476  1.00 19.05           O  \n",
      "ATOM   2980  CG2 THR L1065      23.960  31.236 -25.113  1.00 19.67           C  \n",
      "ATOM   2981  N   TYR L1066      28.109  31.308 -23.817  1.00 13.32           N  \n",
      "ATOM   2982  CA  TYR L1066      29.292  30.979 -23.033  1.00 13.34           C  \n",
      "ATOM   2983  C   TYR L1066      28.835  30.412 -21.703  1.00 17.19           C  \n",
      "ATOM   2984  O   TYR L1066      27.720  30.688 -21.259  1.00 16.54           O  \n",
      "ATOM   2985  CB  TYR L1066      30.123  32.242 -22.754  1.00 14.76           C  \n",
      "ATOM   2986  CG  TYR L1066      30.687  32.875 -24.001  1.00 16.35           C  \n",
      "ATOM   2987  CD1 TYR L1066      31.869  32.408 -24.569  1.00 17.85           C  \n",
      "ATOM   2988  CD2 TYR L1066      30.029  33.929 -24.630  1.00 17.11           C  \n",
      "ATOM   2989  CE1 TYR L1066      32.395  32.988 -25.719  1.00 18.49           C  \n",
      "ATOM   2990  CE2 TYR L1066      30.549  34.519 -25.781  1.00 17.70           C  \n",
      "ATOM   2991  CZ  TYR L1066      31.731  34.043 -26.321  1.00 23.06           C  \n",
      "ATOM   2992  OH  TYR L1066      32.250  34.601 -27.457  1.00 22.58           O  \n",
      "ATOM   2993  N   SER L1067      29.709  29.651 -21.055  1.00 13.84           N  \n",
      "ATOM   2994  CA  SER L1067      29.464  29.123 -19.720  1.00 13.31           C  \n",
      "ATOM   2995  C   SER L1067      30.697  29.405 -18.877  1.00 17.12           C  \n",
      "ATOM   2996  O   SER L1067      31.803  29.474 -19.418  1.00 16.06           O  \n",
      "ATOM   2997  CB  SER L1067      29.098  27.646 -19.761  1.00 15.20           C  \n",
      "ATOM   2998  OG  SER L1067      27.798  27.501 -20.318  1.00 16.86           O  \n",
      "ATOM   2999  N   LEU L1068      30.500  29.649 -17.574  1.00 14.69           N  \n",
      "ATOM   3000  CA  LEU L1068      31.581  30.015 -16.659  1.00 15.37           C  \n",
      "ATOM   3001  C   LEU L1068      31.553  29.171 -15.391  1.00 20.02           C  \n",
      "ATOM   3002  O   LEU L1068      30.488  28.947 -14.812  1.00 19.58           O  \n",
      "ATOM   3003  CB  LEU L1068      31.474  31.524 -16.323  1.00 16.09           C  \n",
      "ATOM   3004  CG  LEU L1068      32.613  32.179 -15.525  1.00 21.91           C  \n",
      "ATOM   3005  CD1 LEU L1068      32.785  33.636 -15.924  1.00 22.36           C  \n",
      "ATOM   3006  CD2 LEU L1068      32.361  32.097 -14.024  1.00 25.01           C  \n",
      "ATOM   3007  N   SER L1069      32.740  28.747 -14.945  1.00 17.31           N  \n",
      "ATOM   3008  CA  SER L1069      32.928  27.989 -13.715  1.00 18.48           C  \n",
      "ATOM   3009  C   SER L1069      33.884  28.764 -12.814  1.00 24.57           C  \n",
      "ATOM   3010  O   SER L1069      34.954  29.184 -13.262  1.00 24.14           O  \n",
      "ATOM   3011  CB  SER L1069      33.493  26.603 -14.016  1.00 22.50           C  \n",
      "ATOM   3012  OG  SER L1069      33.499  25.788 -12.854  1.00 32.68           O  \n",
      "ATOM   3013  N   SER L1070      33.470  29.001 -11.566  1.00 22.33           N  \n",
      "ATOM   3014  CA  SER L1070      34.279  29.690 -10.564  1.00 23.31           C  \n",
      "ATOM   3015  C   SER L1070      34.441  28.767  -9.357  1.00 27.81           C  \n",
      "ATOM   3016  O   SER L1070      33.451  28.222  -8.863  1.00 28.04           O  \n",
      "ATOM   3017  CB  SER L1070      33.640  31.012 -10.158  1.00 27.17           C  \n",
      "ATOM   3018  OG  SER L1070      34.385  31.636  -9.125  1.00 34.28           O  \n",
      "ATOM   3019  N   THR L1071      35.688  28.560  -8.917  1.00 24.24           N  \n",
      "ATOM   3020  CA  THR L1071      35.989  27.689  -7.782  1.00 24.84           C  \n",
      "ATOM   3021  C   THR L1071      36.620  28.473  -6.642  1.00 28.32           C  \n",
      "ATOM   3022  O   THR L1071      37.679  29.068  -6.825  1.00 27.40           O  \n",
      "ATOM   3023  CB  THR L1071      36.853  26.488  -8.219  1.00 33.31           C  \n",
      "ATOM   3024  OG1 THR L1071      36.252  25.862  -9.352  1.00 31.07           O  \n",
      "ATOM   3025  CG2 THR L1071      37.043  25.462  -7.102  1.00 33.43           C  \n",
      "ATOM   3026  N   LEU L1072      35.966  28.459  -5.469  1.00 25.41           N  \n",
      "ATOM   3027  CA  LEU L1072      36.448  29.090  -4.243  1.00 26.63           C  \n",
      "ATOM   3028  C   LEU L1072      37.232  28.020  -3.476  1.00 32.82           C  \n",
      "ATOM   3029  O   LEU L1072      36.688  26.949  -3.190  1.00 32.30           O  \n",
      "ATOM   3030  CB  LEU L1072      35.257  29.624  -3.409  1.00 26.92           C  \n",
      "ATOM   3031  CG  LEU L1072      35.565  30.279  -2.045  1.00 32.69           C  \n",
      "ATOM   3032  CD1 LEU L1072      36.165  31.661  -2.214  1.00 32.80           C  \n",
      "ATOM   3033  CD2 LEU L1072      34.308  30.393  -1.214  1.00 34.95           C  \n",
      "ATOM   3034  N   THR L1073      38.519  28.287  -3.200  1.00 31.77           N  \n",
      "ATOM   3035  CA  THR L1073      39.393  27.346  -2.499  1.00 33.61           C  \n",
      "ATOM   3036  C   THR L1073      39.757  27.843  -1.103  1.00 40.59           C  \n",
      "ATOM   3037  O   THR L1073      40.192  28.984  -0.932  1.00 40.82           O  \n",
      "ATOM   3038  CB  THR L1073      40.619  26.964  -3.357  1.00 42.72           C  \n",
      "ATOM   3039  OG1 THR L1073      40.173  26.546  -4.644  1.00 41.00           O  \n",
      "ATOM   3040  CG2 THR L1073      41.459  25.846  -2.734  1.00 42.66           C  \n",
      "ATOM   3041  N   LEU L1074      39.559  26.966  -0.112  1.00 39.14           N  \n",
      "ATOM   3042  CA  LEU L1074      39.856  27.181   1.306  1.00 41.07           C  \n",
      "ATOM   3043  C   LEU L1074      40.037  25.840   2.015  1.00 45.55           C  \n",
      "ATOM   3044  O   LEU L1074      39.480  24.831   1.572  1.00 44.45           O  \n",
      "ATOM   3045  CB  LEU L1074      38.787  28.049   2.015  1.00 41.93           C  \n",
      "ATOM   3046  CG  LEU L1074      37.347  28.005   1.485  1.00 46.18           C  \n",
      "ATOM   3047  CD1 LEU L1074      36.528  26.965   2.208  1.00 47.11           C  \n",
      "ATOM   3048  CD2 LEU L1074      36.686  29.358   1.611  1.00 49.18           C  \n",
      "ATOM   3049  N   SER L1075      40.827  25.826   3.107  1.00 43.28           N  \n",
      "ATOM   3050  CA  SER L1075      41.092  24.626   3.910  1.00 43.97           C  \n",
      "ATOM   3051  C   SER L1075      39.806  24.133   4.589  1.00 48.13           C  \n",
      "ATOM   3052  O   SER L1075      38.876  24.928   4.768  1.00 47.22           O  \n",
      "ATOM   3053  CB  SER L1075      42.162  24.921   4.958  1.00 48.86           C  \n",
      "ATOM   3054  OG  SER L1075      41.765  25.963   5.837  1.00 56.57           O  \n",
      "ATOM   3055  N   LYS L1076      39.748  22.830   4.959  1.00 45.57           N  \n",
      "ATOM   3056  CA  LYS L1076      38.581  22.252   5.642  1.00 46.07           C  \n",
      "ATOM   3057  C   LYS L1076      38.330  22.968   6.973  1.00 51.25           C  \n",
      "ATOM   3058  O   LYS L1076      37.177  23.265   7.291  1.00 50.76           O  \n",
      "ATOM   3059  CB  LYS L1076      38.721  20.730   5.844  1.00 49.27           C  \n",
      "ATOM   3060  CG  LYS L1076      37.492  20.102   6.520  1.00 64.62           C  \n",
      "ATOM   3061  CD  LYS L1076      37.547  18.592   6.648  1.00 75.05           C  \n",
      "ATOM   3062  CE  LYS L1076      38.316  18.082   7.842  1.00 87.82           C  \n",
      "ATOM   3063  NZ  LYS L1076      38.367  16.597   7.854  1.00 97.12           N  \n",
      "ATOM   3064  N   ALA L1077      39.418  23.277   7.719  1.00 49.41           N  \n",
      "ATOM   3065  CA  ALA L1077      39.383  23.994   9.000  1.00 50.77           C  \n",
      "ATOM   3066  C   ALA L1077      38.685  25.351   8.845  1.00 54.49           C  \n",
      "ATOM   3067  O   ALA L1077      37.814  25.677   9.651  1.00 54.80           O  \n",
      "ATOM   3068  CB  ALA L1077      40.796  24.181   9.536  1.00 52.73           C  \n",
      "ATOM   3069  N   ASP L1078      39.023  26.105   7.775  1.00 50.27           N  \n",
      "ATOM   3070  CA  ASP L1078      38.408  27.400   7.472  1.00 49.57           C  \n",
      "ATOM   3071  C   ASP L1078      36.972  27.229   6.974  1.00 51.55           C  \n",
      "ATOM   3072  O   ASP L1078      36.133  28.088   7.252  1.00 51.43           O  \n",
      "ATOM   3073  CB  ASP L1078      39.255  28.194   6.461  1.00 50.64           C  \n",
      "ATOM   3074  CG  ASP L1078      40.444  28.941   7.049  1.00 63.39           C  \n",
      "ATOM   3075  OD1 ASP L1078      40.800  28.675   8.221  1.00 65.79           O  \n",
      "ATOM   3076  OD2 ASP L1078      41.024  29.786   6.335  1.00 69.07           O  \n",
      "ATOM   3077  N   TYR L1079      36.686  26.113   6.266  1.00 46.09           N  \n",
      "ATOM   3078  CA  TYR L1079      35.351  25.794   5.751  1.00 44.33           C  \n",
      "ATOM   3079  C   TYR L1079      34.335  25.522   6.873  1.00 50.74           C  \n",
      "ATOM   3080  O   TYR L1079      33.178  25.928   6.759  1.00 49.68           O  \n",
      "ATOM   3081  CB  TYR L1079      35.396  24.619   4.749  1.00 43.18           C  \n",
      "ATOM   3082  CG  TYR L1079      34.036  24.217   4.212  1.00 42.16           C  \n",
      "ATOM   3083  CD1 TYR L1079      33.310  25.069   3.383  1.00 42.49           C  \n",
      "ATOM   3084  CD2 TYR L1079      33.467  22.992   4.546  1.00 42.81           C  \n",
      "ATOM   3085  CE1 TYR L1079      32.047  24.716   2.909  1.00 41.26           C  \n",
      "ATOM   3086  CE2 TYR L1079      32.217  22.617   4.057  1.00 42.67           C  \n",
      "ATOM   3087  CZ  TYR L1079      31.503  23.490   3.253  1.00 47.25           C  \n",
      "ATOM   3088  OH  TYR L1079      30.261  23.131   2.788  1.00 45.14           O  \n",
      "ATOM   3089  N   GLU L1080      34.772  24.843   7.948  1.00 50.34           N  \n",
      "ATOM   3090  CA  GLU L1080      33.926  24.491   9.093  1.00 51.93           C  \n",
      "ATOM   3091  C   GLU L1080      33.636  25.677  10.032  1.00 58.07           C  \n",
      "ATOM   3092  O   GLU L1080      32.704  25.602  10.836  1.00 58.55           O  \n",
      "ATOM   3093  CB  GLU L1080      34.523  23.301   9.859  1.00 54.63           C  \n",
      "ATOM   3094  CG  GLU L1080      34.529  22.005   9.060  1.00 64.65           C  \n",
      "ATOM   3095  CD  GLU L1080      35.411  20.883   9.576  1.00 89.31           C  \n",
      "ATOM   3096  OE1 GLU L1080      36.287  21.141  10.434  1.00 85.68           O  \n",
      "ATOM   3097  OE2 GLU L1080      35.244  19.741   9.091  1.00 84.61           O  \n",
      "ATOM   3098  N   LYS L1081      34.423  26.767   9.920  1.00 55.29           N  \n",
      "ATOM   3099  CA  LYS L1081      34.272  27.979  10.733  1.00 56.35           C  \n",
      "ATOM   3100  C   LYS L1081      33.049  28.805  10.325  1.00 58.91           C  \n",
      "ATOM   3101  O   LYS L1081      32.478  29.504  11.165  1.00 59.51           O  \n",
      "ATOM   3102  CB  LYS L1081      35.529  28.860  10.631  1.00 59.51           C  \n",
      "ATOM   3103  CG  LYS L1081      36.728  28.356  11.421  1.00 76.34           C  \n",
      "ATOM   3104  CD  LYS L1081      37.935  29.253  11.197  1.00 87.24           C  \n",
      "ATOM   3105  CE  LYS L1081      39.199  28.678  11.785  1.00100.70           C  \n",
      "ATOM   3106  NZ  LYS L1081      40.382  29.517  11.461  1.00110.60           N  \n",
      "ATOM   3107  N   HIS L1082      32.666  28.747   9.036  1.00 53.19           N  \n",
      "ATOM   3108  CA  HIS L1082      31.557  29.532   8.488  1.00 51.82           C  \n",
      "ATOM   3109  C   HIS L1082      30.334  28.704   8.087  1.00 53.35           C  \n",
      "ATOM   3110  O   HIS L1082      30.450  27.496   7.876  1.00 52.56           O  \n",
      "ATOM   3111  CB  HIS L1082      32.056  30.402   7.328  1.00 51.60           C  \n",
      "ATOM   3112  CG  HIS L1082      33.312  31.150   7.652  1.00 55.93           C  \n",
      "ATOM   3113  ND1 HIS L1082      33.293  32.289   8.435  1.00 58.89           N  \n",
      "ATOM   3114  CD2 HIS L1082      34.591  30.882   7.302  1.00 57.66           C  \n",
      "ATOM   3115  CE1 HIS L1082      34.554  32.677   8.533  1.00 58.95           C  \n",
      "ATOM   3116  NE2 HIS L1082      35.371  31.861   7.867  1.00 58.57           N  \n",
      "ATOM   3117  N   LYS L1083      29.161  29.366   7.981  1.00 48.62           N  \n",
      "ATOM   3118  CA  LYS L1083      27.878  28.743   7.645  1.00 47.40           C  \n",
      "ATOM   3119  C   LYS L1083      27.366  29.092   6.234  1.00 48.55           C  \n",
      "ATOM   3120  O   LYS L1083      27.015  28.181   5.481  1.00 46.90           O  \n",
      "ATOM   3121  CB  LYS L1083      26.826  29.102   8.718  1.00 50.88           C  \n",
      "ATOM   3122  CG  LYS L1083      25.489  28.379   8.583  0.00 65.40           C  \n",
      "ATOM   3123  CD  LYS L1083      24.426  29.026   9.457  0.00 76.75           C  \n",
      "ATOM   3124  CE  LYS L1083      23.050  28.472   9.190  0.00 87.54           C  \n",
      "ATOM   3125  NZ  LYS L1083      22.009  29.187   9.974  0.00 97.83           N  \n",
      "ATOM   3126  N   VAL L1084      27.289  30.397   5.897  1.00 44.68           N  \n",
      "ATOM   3127  CA  VAL L1084      26.755  30.887   4.617  1.00 43.03           C  \n",
      "ATOM   3128  C   VAL L1084      27.837  31.072   3.542  1.00 45.63           C  \n",
      "ATOM   3129  O   VAL L1084      28.789  31.828   3.740  1.00 45.95           O  \n",
      "ATOM   3130  CB  VAL L1084      25.865  32.157   4.790  1.00 47.27           C  \n",
      "ATOM   3131  CG1 VAL L1084      25.179  32.545   3.481  1.00 45.53           C  \n",
      "ATOM   3132  CG2 VAL L1084      24.828  31.969   5.896  1.00 48.28           C  \n",
      "ATOM   3133  N   TYR L1085      27.661  30.391   2.397  1.00 40.35           N  \n",
      "ATOM   3134  CA  TYR L1085      28.544  30.459   1.233  1.00 38.60           C  \n",
      "ATOM   3135  C   TYR L1085      27.695  30.867   0.042  1.00 40.49           C  \n",
      "ATOM   3136  O   TYR L1085      26.816  30.113  -0.378  1.00 39.34           O  \n",
      "ATOM   3137  CB  TYR L1085      29.257  29.115   0.995  1.00 39.16           C  \n",
      "ATOM   3138  CG  TYR L1085      30.270  28.790   2.068  1.00 41.68           C  \n",
      "ATOM   3139  CD1 TYR L1085      31.599  29.178   1.938  1.00 43.79           C  \n",
      "ATOM   3140  CD2 TYR L1085      29.896  28.117   3.228  1.00 43.38           C  \n",
      "ATOM   3141  CE1 TYR L1085      32.531  28.910   2.939  1.00 45.92           C  \n",
      "ATOM   3142  CE2 TYR L1085      30.818  27.845   4.237  1.00 45.39           C  \n",
      "ATOM   3143  CZ  TYR L1085      32.135  28.246   4.087  1.00 52.40           C  \n",
      "ATOM   3144  OH  TYR L1085      33.052  27.977   5.068  1.00 53.89           O  \n",
      "ATOM   3145  N   ALA L1086      27.915  32.092  -0.454  1.00 36.28           N  \n",
      "ATOM   3146  CA  ALA L1086      27.137  32.668  -1.545  1.00 34.77           C  \n",
      "ATOM   3147  C   ALA L1086      27.966  33.061  -2.762  1.00 36.39           C  \n",
      "ATOM   3148  O   ALA L1086      29.092  33.546  -2.626  1.00 35.69           O  \n",
      "ATOM   3149  CB  ALA L1086      26.367  33.876  -1.037  1.00 36.12           C  \n",
      "ATOM   3150  N   CYS L1087      27.379  32.864  -3.954  1.00 31.32           N  \n",
      "ATOM   3151  CA  CYS L1087      27.954  33.248  -5.237  1.00 30.07           C  \n",
      "ATOM   3152  C   CYS L1087      27.047  34.329  -5.828  1.00 31.75           C  \n",
      "ATOM   3153  O   CYS L1087      25.878  34.058  -6.108  1.00 30.90           O  \n",
      "ATOM   3154  CB  CYS L1087      28.080  32.044  -6.170  1.00 29.89           C  \n",
      "ATOM   3155  SG  CYS L1087      28.551  32.476  -7.863  1.00 33.13           S  \n",
      "ATOM   3156  N   GLU L1088      27.573  35.555  -5.980  1.00 27.36           N  \n",
      "ATOM   3157  CA  GLU L1088      26.834  36.688  -6.533  1.00 26.76           C  \n",
      "ATOM   3158  C   GLU L1088      27.257  36.930  -7.976  1.00 28.75           C  \n",
      "ATOM   3159  O   GLU L1088      28.437  37.154  -8.250  1.00 28.65           O  \n",
      "ATOM   3160  CB  GLU L1088      27.024  37.949  -5.675  1.00 29.18           C  \n",
      "ATOM   3161  CG  GLU L1088      26.133  39.102  -6.099  1.00 40.79           C  \n",
      "ATOM   3162  CD  GLU L1088      26.160  40.297  -5.170  1.00 60.27           C  \n",
      "ATOM   3163  OE1 GLU L1088      25.115  40.578  -4.542  1.00 50.33           O  \n",
      "ATOM   3164  OE2 GLU L1088      27.221  40.954  -5.069  1.00 56.47           O  \n",
      "ATOM   3165  N   VAL L1089      26.280  36.909  -8.888  1.00 23.95           N  \n",
      "ATOM   3166  CA  VAL L1089      26.504  37.053 -10.322  1.00 22.22           C  \n",
      "ATOM   3167  C   VAL L1089      25.958  38.356 -10.882  1.00 25.83           C  \n",
      "ATOM   3168  O   VAL L1089      24.770  38.634 -10.747  1.00 25.28           O  \n",
      "ATOM   3169  CB  VAL L1089      25.961  35.816 -11.086  1.00 24.79           C  \n",
      "ATOM   3170  CG1 VAL L1089      26.067  35.990 -12.601  1.00 23.40           C  \n",
      "ATOM   3171  CG2 VAL L1089      26.671  34.545 -10.637  1.00 24.51           C  \n",
      "ATOM   3172  N   THR L1090      26.829  39.125 -11.551  1.00 22.25           N  \n",
      "ATOM   3173  CA  THR L1090      26.481  40.360 -12.241  1.00 21.85           C  \n",
      "ATOM   3174  C   THR L1090      26.678  40.099 -13.739  1.00 24.53           C  \n",
      "ATOM   3175  O   THR L1090      27.751  39.647 -14.152  1.00 23.95           O  \n",
      "ATOM   3176  CB  THR L1090      27.305  41.545 -11.712  1.00 28.57           C  \n",
      "ATOM   3177  OG1 THR L1090      27.180  41.605 -10.290  1.00 28.59           O  \n",
      "ATOM   3178  CG2 THR L1090      26.868  42.874 -12.315  1.00 26.12           C  \n",
      "ATOM   3179  N   HIS L1091      25.625  40.342 -14.538  1.00 20.42           N  \n",
      "ATOM   3180  CA  HIS L1091      25.619  40.135 -15.990  1.00 19.10           C  \n",
      "ATOM   3181  C   HIS L1091      24.580  41.043 -16.640  1.00 24.47           C  \n",
      "ATOM   3182  O   HIS L1091      23.559  41.346 -16.020  1.00 24.76           O  \n",
      "ATOM   3183  CB  HIS L1091      25.325  38.655 -16.323  1.00 18.51           C  \n",
      "ATOM   3184  CG  HIS L1091      25.480  38.319 -17.773  1.00 20.32           C  \n",
      "ATOM   3185  ND1 HIS L1091      24.410  38.384 -18.646  1.00 21.24           N  \n",
      "ATOM   3186  CD2 HIS L1091      26.582  37.943 -18.459  1.00 21.09           C  \n",
      "ATOM   3187  CE1 HIS L1091      24.892  38.043 -19.828  1.00 19.93           C  \n",
      "ATOM   3188  NE2 HIS L1091      26.196  37.771 -19.766  1.00 20.07           N  \n",
      "ATOM   3189  N   GLN L1092      24.835  41.457 -17.898  1.00 21.58           N  \n",
      "ATOM   3190  CA  GLN L1092      23.966  42.330 -18.704  1.00 21.57           C  \n",
      "ATOM   3191  C   GLN L1092      22.518  41.815 -18.838  1.00 25.20           C  \n",
      "ATOM   3192  O   GLN L1092      21.593  42.623 -18.922  1.00 24.39           O  \n",
      "ATOM   3193  CB  GLN L1092      24.582  42.547 -20.095  1.00 22.16           C  \n",
      "ATOM   3194  CG  GLN L1092      24.062  43.789 -20.829  1.00 29.22           C  \n",
      "ATOM   3195  CD  GLN L1092      24.707  44.006 -22.178  1.00 43.00           C  \n",
      "ATOM   3196  OE1 GLN L1092      25.834  43.575 -22.448  1.00 35.02           O  \n",
      "ATOM   3197  NE2 GLN L1092      24.013  44.720 -23.050  1.00 38.44           N  \n",
      "ATOM   3198  N   GLY L1093      22.352  40.491 -18.872  1.00 22.09           N  \n",
      "ATOM   3199  CA  GLY L1093      21.054  39.830 -18.995  1.00 21.96           C  \n",
      "ATOM   3200  C   GLY L1093      20.211  39.829 -17.736  1.00 26.32           C  \n",
      "ATOM   3201  O   GLY L1093      19.030  39.476 -17.786  1.00 25.51           O  \n",
      "ATOM   3202  N   LEU L1094      20.810  40.215 -16.598  1.00 23.82           N  \n",
      "ATOM   3203  CA  LEU L1094      20.132  40.266 -15.305  1.00 24.57           C  \n",
      "ATOM   3204  C   LEU L1094      19.855  41.711 -14.909  1.00 30.82           C  \n",
      "ATOM   3205  O   LEU L1094      20.778  42.528 -14.901  1.00 30.42           O  \n",
      "ATOM   3206  CB  LEU L1094      20.970  39.555 -14.219  1.00 24.58           C  \n",
      "ATOM   3207  CG  LEU L1094      21.336  38.081 -14.475  1.00 27.97           C  \n",
      "ATOM   3208  CD1 LEU L1094      22.492  37.650 -13.598  1.00 28.11           C  \n",
      "ATOM   3209  CD2 LEU L1094      20.137  37.161 -14.273  1.00 30.23           C  \n",
      "ATOM   3210  N   SER L1095      18.582  42.023 -14.580  1.00 29.69           N  \n",
      "ATOM   3211  CA  SER L1095      18.132  43.361 -14.157  1.00 30.80           C  \n",
      "ATOM   3212  C   SER L1095      18.787  43.778 -12.837  1.00 35.54           C  \n",
      "ATOM   3213  O   SER L1095      19.033  44.962 -12.614  1.00 36.54           O  \n",
      "ATOM   3214  CB  SER L1095      16.612  43.406 -14.034  1.00 34.92           C  \n",
      "ATOM   3215  OG  SER L1095      16.132  42.424 -13.129  1.00 45.78           O  \n",
      "ATOM   3216  N   SER L1096      19.066  42.794 -11.974  1.00 31.74           N  \n",
      "ATOM   3217  CA  SER L1096      19.736  42.958 -10.686  1.00 32.22           C  \n",
      "ATOM   3218  C   SER L1096      20.619  41.719 -10.454  1.00 35.32           C  \n",
      "ATOM   3219  O   SER L1096      20.289  40.657 -10.991  1.00 33.14           O  \n",
      "ATOM   3220  CB  SER L1096      18.716  43.121  -9.559  1.00 36.40           C  \n",
      "ATOM   3221  OG  SER L1096      17.875  41.987  -9.424  1.00 44.27           O  \n",
      "ATOM   3222  N   PRO L1097      21.739  41.808  -9.688  1.00 32.88           N  \n",
      "ATOM   3223  CA  PRO L1097      22.583  40.619  -9.489  1.00 32.13           C  \n",
      "ATOM   3224  C   PRO L1097      21.869  39.470  -8.792  1.00 36.08           C  \n",
      "ATOM   3225  O   PRO L1097      21.062  39.689  -7.886  1.00 35.94           O  \n",
      "ATOM   3226  CB  PRO L1097      23.762  41.148  -8.665  1.00 34.65           C  \n",
      "ATOM   3227  CG  PRO L1097      23.769  42.614  -8.905  1.00 39.59           C  \n",
      "ATOM   3228  CD  PRO L1097      22.318  42.975  -8.999  1.00 35.29           C  \n",
      "ATOM   3229  N   VAL L1098      22.145  38.245  -9.259  1.00 32.16           N  \n",
      "ATOM   3230  CA  VAL L1098      21.548  37.021  -8.733  1.00 32.18           C  \n",
      "ATOM   3231  C   VAL L1098      22.524  36.355  -7.767  1.00 36.30           C  \n",
      "ATOM   3232  O   VAL L1098      23.713  36.233  -8.070  1.00 35.32           O  \n",
      "ATOM   3233  CB  VAL L1098      21.068  36.088  -9.883  1.00 35.43           C  \n",
      "ATOM   3234  CG1 VAL L1098      20.717  34.686  -9.383  1.00 35.45           C  \n",
      "ATOM   3235  CG2 VAL L1098      19.879  36.702 -10.610  1.00 35.14           C  \n",
      "ATOM   3236  N   THR L1099      22.015  35.947  -6.596  1.00 33.62           N  \n",
      "ATOM   3237  CA  THR L1099      22.806  35.284  -5.570  1.00 33.91           C  \n",
      "ATOM   3238  C   THR L1099      22.282  33.874  -5.306  1.00 37.35           C  \n",
      "ATOM   3239  O   THR L1099      21.089  33.689  -5.061  1.00 37.41           O  \n",
      "ATOM   3240  CB  THR L1099      22.909  36.166  -4.311  1.00 40.62           C  \n",
      "ATOM   3241  OG1 THR L1099      23.538  37.397  -4.665  1.00 39.97           O  \n",
      "ATOM   3242  CG2 THR L1099      23.696  35.504  -3.182  1.00 38.59           C  \n",
      "ATOM   3243  N   LYS L1100      23.186  32.887  -5.372  1.00 32.71           N  \n",
      "ATOM   3244  CA  LYS L1100      22.897  31.489  -5.075  1.00 32.20           C  \n",
      "ATOM   3245  C   LYS L1100      23.723  31.115  -3.854  1.00 37.52           C  \n",
      "ATOM   3246  O   LYS L1100      24.932  31.359  -3.830  1.00 37.24           O  \n",
      "ATOM   3247  CB  LYS L1100      23.196  30.571  -6.279  1.00 32.90           C  \n",
      "ATOM   3248  CG  LYS L1100      22.251  30.774  -7.464  1.00 35.85           C  \n",
      "ATOM   3249  CD  LYS L1100      20.860  30.186  -7.250  1.00 42.16           C  \n",
      "ATOM   3250  CE  LYS L1100      19.879  30.716  -8.265  1.00 50.26           C  \n",
      "ATOM   3251  NZ  LYS L1100      18.536  30.100  -8.104  1.00 59.36           N  \n",
      "ATOM   3252  N   SER L1101      23.065  30.592  -2.816  1.00 35.54           N  \n",
      "ATOM   3253  CA  SER L1101      23.726  30.245  -1.560  1.00 36.51           C  \n",
      "ATOM   3254  C   SER L1101      23.260  28.922  -0.950  1.00 40.95           C  \n",
      "ATOM   3255  O   SER L1101      22.269  28.341  -1.396  1.00 40.48           O  \n",
      "ATOM   3256  CB  SER L1101      23.571  31.384  -0.554  1.00 41.70           C  \n",
      "ATOM   3257  OG  SER L1101      22.215  31.774  -0.407  1.00 51.40           O  \n",
      "ATOM   3258  N   PHE L1102      23.999  28.444   0.065  1.00 38.19           N  \n",
      "ATOM   3259  CA  PHE L1102      23.692  27.225   0.811  1.00 38.45           C  \n",
      "ATOM   3260  C   PHE L1102      24.176  27.331   2.254  1.00 43.58           C  \n",
      "ATOM   3261  O   PHE L1102      25.146  28.043   2.532  1.00 43.34           O  \n",
      "ATOM   3262  CB  PHE L1102      24.290  25.973   0.128  1.00 39.42           C  \n",
      "ATOM   3263  CG  PHE L1102      25.800  25.874   0.148  1.00 40.71           C  \n",
      "ATOM   3264  CD1 PHE L1102      26.465  25.310   1.235  1.00 44.58           C  \n",
      "ATOM   3265  CD2 PHE L1102      26.555  26.314  -0.931  1.00 41.33           C  \n",
      "ATOM   3266  CE1 PHE L1102      27.860  25.236   1.260  1.00 45.46           C  \n",
      "ATOM   3267  CE2 PHE L1102      27.948  26.220  -0.914  1.00 44.01           C  \n",
      "ATOM   3268  CZ  PHE L1102      28.592  25.683   0.181  1.00 43.35           C  \n",
      "ATOM   3269  N   ASN L1103      23.524  26.585   3.157  0.00 41.00           N  \n",
      "ATOM   3270  CA  ASN L1103      23.904  26.489   4.561  0.00 42.29           C  \n",
      "ATOM   3271  C   ASN L1103      24.565  25.126   4.751  0.00 46.07           C  \n",
      "ATOM   3272  O   ASN L1103      23.941  24.095   4.482  0.00 45.32           O  \n",
      "ATOM   3273  CB  ASN L1103      22.693  26.678   5.483  1.00 44.55           C  \n",
      "ATOM   3274  CG  ASN L1103      22.140  28.084   5.487  1.00 67.78           C  \n",
      "ATOM   3275  OD1 ASN L1103      22.863  29.074   5.665  1.00 62.14           O  \n",
      "ATOM   3276  ND2 ASN L1103      20.831  28.203   5.325  1.00 59.70           N  \n",
      "ATOM   3277  N   ARG L1104      25.853  25.139   5.148  0.00 42.95           N  \n",
      "ATOM   3278  CA  ARG L1104      26.734  23.982   5.360  0.00 43.01           C  \n",
      "ATOM   3279  C   ARG L1104      26.078  22.780   6.071  0.00 47.65           C  \n",
      "ATOM   3280  O   ARG L1104      26.272  21.641   5.641  0.00 46.82           O  \n",
      "ATOM   3281  CB  ARG L1104      28.032  24.440   6.052  1.00 43.89           C  \n",
      "ATOM   3282  CG  ARG L1104      29.080  23.351   6.300  1.00 53.60           C  \n",
      "ATOM   3283  CD  ARG L1104      30.389  23.903   6.848  1.00 62.54           C  \n",
      "ATOM   3284  NE  ARG L1104      30.203  24.812   7.982  1.00 72.54           N  \n",
      "ATOM   3285  CZ  ARG L1104      30.137  24.435   9.255  1.00 86.65           C  \n",
      "ATOM   3286  NH1 ARG L1104      30.241  23.152   9.581  1.00 73.70           N  \n",
      "ATOM   3287  NH2 ARG L1104      29.967  25.337  10.211  1.00 73.89           N  \n",
      "ATOM   3288  N   GLY L1105      25.300  23.052   7.118  0.00 45.32           N  \n",
      "ATOM   3289  CA  GLY L1105      24.594  22.031   7.884  0.00 78.11           C  \n",
      "ATOM   3290  C   GLY L1105      23.320  21.560   7.212  0.00106.97           C  \n",
      "ATOM   3291  O   GLY L1105      23.353  21.025   6.103  0.00 67.22           O  \n",
      "TER    3292      GLY L1105                                                       \n",
      "END   \n"
     ]
    }
   ],
   "source": [
    "# The script can be changed to use pdb tools\n",
    "!pdb_fixinsert {MD_dir}{pdbCode}_cht.pdb"
   ]
  },
  {
   "cell_type": "code",
   "execution_count": 10,
   "metadata": {},
   "outputs": [
    {
     "data": {
      "application/vnd.jupyter.widget-view+json": {
       "model_id": "fb1b613b74e749878b41d34951936e21",
       "version_major": 2,
       "version_minor": 0
      },
      "text/plain": [
       "NGLWidget()"
      ]
     },
     "metadata": {},
     "output_type": "display_data"
    }
   ],
   "source": [
    "# residues from https://www.bonvinlab.org/education/HADDOCK3/HADDOCK3-antibody-antigen/#identifying-the-paratope-of-the-antibody\n",
    "loop_residues = [26, 27, 28, 29, 30, 31, 32, 33, 34, 55, 56, 57, 101, 102, 103, 104, 105, 106, 107, 108, 246, 247, 248, 249, 250, 251, 252, 270, 271, 272, 311, 312, 313, 314, 315, 316]\n",
    "ngl_loop_residues = '( '+ l[0] + ' )'\n",
    "\n",
    "view = nv.show_structure_file(f'{MD_dir}{pdbCode}_HADDOCK.pdb', default_representation=False)\n",
    "view.add_representation(repr_type='cartoon')\n",
    "view.add_representation(repr_type='ball+stick', selection=ngl_loop_residues, color='green')\n",
    "view.add_ball_and_stick(selection='CYS', color='yellow')\n",
    "#view.add_representation(repr_type='ball+stick', selection=\"26 17\", color='red')\n",
    "view.center()\n",
    "view._remote_call('setSize', target='Widget', args=['','600px'])\n",
    "view"
   ]
  },
  {
   "cell_type": "code",
   "execution_count": 50,
   "metadata": {
    "scrolled": true
   },
   "outputs": [
    {
     "name": "stdout",
     "output_type": "stream",
     "text": [
      "r 26 27 28 29 30 31 32 33 34 55 56 57 101 102 103 104 105 106 107 108 246 247 248 249 250 251 252 270 271 272 311 312 313 314 315 316\n",
      "r 26 27 28 29 30 31 32 33 34 55 56 57 101 102 103 104 105 106 107 108 246 247 248 249 250 251 252 270 271 272 311 312 313 314 315 316\n",
      "name 10 Loop\n",
      "2025-05-20 15:25:02,227 [MainThread  ] [INFO ]  Module: biobb_gromacs.gromacs.make_ndx Version: 5.0.0\n",
      "2025-05-20 15:25:02,228 [MainThread  ] [INFO ]  /home/rchaves/repo/ab_design/biobb_wf_haddock/biobb_wf_haddock/notebooks/sandbox_a19b7f6b-1e14-4033-8d58-27b8755a268b directory successfully created\n",
      "2025-05-20 15:25:02,229 [MainThread  ] [INFO ]  Copy: data/antibody/1_MD/4G6K_md_dry.gro to /home/rchaves/repo/ab_design/biobb_wf_haddock/biobb_wf_haddock/notebooks/sandbox_a19b7f6b-1e14-4033-8d58-27b8755a268b\n",
      "2025-05-20 15:25:02,230 [MainThread  ] [INFO ]  Copy: /home/rchaves/repo/ab_design/biobb_wf_haddock/biobb_wf_haddock/notebooks/4dd68ab1-b9ce-4134-8386-97c422aa9b19.stdin to /home/rchaves/repo/ab_design/biobb_wf_haddock/biobb_wf_haddock/notebooks/sandbox_a19b7f6b-1e14-4033-8d58-27b8755a268b\n",
      "2025-05-20 15:25:02,230 [MainThread  ] [INFO ]  gmx -nobackup -nocopyright make_ndx -f /home/rchaves/repo/ab_design/biobb_wf_haddock/biobb_wf_haddock/notebooks/sandbox_a19b7f6b-1e14-4033-8d58-27b8755a268b/4G6K_md_dry.gro -o /home/rchaves/repo/ab_design/biobb_wf_haddock/biobb_wf_haddock/notebooks/sandbox_a19b7f6b-1e14-4033-8d58-27b8755a268b/4G6K_loop.ndx < /home/rchaves/repo/ab_design/biobb_wf_haddock/biobb_wf_haddock/notebooks/sandbox_a19b7f6b-1e14-4033-8d58-27b8755a268b/4dd68ab1-b9ce-4134-8386-97c422aa9b19.stdin\n",
      "\n",
      "2025-05-20 15:25:02,258 [MainThread  ] [INFO ]  Executing: gmx -nobackup -nocopyright make_ndx -f /home/rchaves/repo/ab_design/biobb_wf_had...\n",
      "2025-05-20 15:25:02,258 [MainThread  ] [INFO ]  Exit code: 0\n",
      "2025-05-20 15:25:02,259 [MainThread  ] [INFO ]  Going to read 0 old index file(s)\n",
      "Analysing residue names:\n",
      "There are:   432    Protein residues\n",
      "Analysing Protein...\n",
      "\n",
      "  0 System              :  6525 atoms\n",
      "  1 Protein             :  6525 atoms\n",
      "  2 Protein-H           :  3293 atoms\n",
      "  3 C-alpha             :   432 atoms\n",
      "  4 Backbone            :  1296 atoms\n",
      "  5 MainChain           :  1726 atoms\n",
      "  6 MainChain+Cb        :  2126 atoms\n",
      "  7 MainChain+H         :  2139 atoms\n",
      "  8 SideChain           :  4386 atoms\n",
      "  9 SideChain-H         :  1567 atoms\n",
      "\n",
      " nr : group      '!': not  'name' nr name   'splitch' nr    Enter: list groups\n",
      " 'a': atom       '&': and  'del' nr         'splitres' nr   'l': list residues\n",
      " 't': atom type  '|': or   'keep' nr        'splitat' nr    'h': help\n",
      " 'r': residue              'res' nr         'chain' char\n",
      " \"name\": group             'case': case sensitive           'q': save and quit\n",
      " 'ri': residue index\n",
      "\n",
      "> \n",
      "\n",
      " 10 r_26_27_28_29_30_31_32_33_34_55_56_57_101_102_103_104_105_106_107_108_246_247_248_249_250_251_252_270_271_272_311_312_313_314_315_316:   617 atoms\n",
      "\n",
      "> \n",
      "\n",
      "> \n",
      "\n",
      "2025-05-20 15:25:02,259 [MainThread  ] [INFO ]                 :-) GROMACS - gmx make_ndx, 2022.2-conda_forge (-:\n",
      "\n",
      "Executable:   /home/rchaves/miniforge3/envs/biobb_wf_antibody/bin.AVX2_256/gmx\n",
      "Data prefix:  /home/rchaves/miniforge3/envs/biobb_wf_antibody\n",
      "Working dir:  /home/rchaves/repo/ab_design/biobb_wf_haddock/biobb_wf_haddock/notebooks\n",
      "Command line:\n",
      "  gmx -nobackup -nocopyright make_ndx -f /home/rchaves/repo/ab_design/biobb_wf_haddock/biobb_wf_haddock/notebooks/sandbox_a19b7f6b-1e14-4033-8d58-27b8755a268b/4G6K_md_dry.gro -o /home/rchaves/repo/ab_design/biobb_wf_haddock/biobb_wf_haddock/notebooks/sandbox_a19b7f6b-1e14-4033-8d58-27b8755a268b/4G6K_loop.ndx\n",
      "\n",
      "\n",
      "Reading structure file\n",
      "\n",
      "GROMACS reminds you: \"That Was Pretty Cool\" (Beavis)\n",
      "\n",
      "\n",
      "2025-05-20 15:25:02,260 [MainThread  ] [INFO ]  Removed: ['/home/rchaves/repo/ab_design/biobb_wf_haddock/biobb_wf_haddock/notebooks/sandbox_a19b7f6b-1e14-4033-8d58-27b8755a268b', '/home/rchaves/repo/ab_design/biobb_wf_haddock/biobb_wf_haddock/notebooks/4dd68ab1-b9ce-4134-8386-97c422aa9b19.stdin']\n",
      "2025-05-20 15:25:02,261 [MainThread  ] [INFO ]  \n"
     ]
    },
    {
     "data": {
      "text/plain": [
       "0"
      ]
     },
     "execution_count": 50,
     "metadata": {},
     "output_type": "execute_result"
    }
   ],
   "source": [
    "from biobb_gromacs.gromacs.make_ndx import make_ndx\n",
    "\n",
    "# Create prop dict and inputs/outputs\n",
    "loop_ndx = f'{MD_dir}{pdbCode}_loop.ndx'\n",
    "\n",
    "select_loop_residues = 'r ' + ' '.join(str(x) for x in loop_residues)\n",
    "\n",
    "index_input = select_loop_residues + '\\nname 10 Loop'\n",
    "\n",
    "print(select_loop_residues)\n",
    "print(index_input)\n",
    "\n",
    "prop = { \n",
    "    'selection': index_input\n",
    "}\n",
    "\n",
    "# Create and launch bb\n",
    "make_ndx(input_structure_path=output_dry_gro,\n",
    "         output_ndx_path=loop_ndx,\n",
    "         properties=def_dict(prop))"
   ]
  },
  {
   "cell_type": "code",
   "execution_count": 208,
   "metadata": {
    "scrolled": true
   },
   "outputs": [
    {
     "name": "stdout",
     "output_type": "stream",
     "text": [
      "2023-10-02 17:23:35,322 [MainThread  ] [INFO ]  Executing biobb_analysis.gromacs.gmx_cluster Version: 4.1.0\n",
      "2023-10-02 17:23:35,327 [MainThread  ] [INFO ]  Copy: /Users/hospital/BioBB/Antibody/BioBB/biobb_wf_md_setup/biobb_wf_md_setup/notebooks/3RVT_gppmin.tpr to /Users/hospital/BioBB/Antibody/BioBB/biobb_wf_md_setup/biobb_wf_md_setup/notebooks/55823374-a2ba-45f4-9302-a43a58ac1750\n",
      "2023-10-02 17:23:35,330 [MainThread  ] [INFO ]  Copy: /Users/hospital/BioBB/Antibody/BioBB/biobb_wf_md_setup/biobb_wf_md_setup/notebooks/3RVT_imaged_traj_rot.trr to /Users/hospital/BioBB/Antibody/BioBB/biobb_wf_md_setup/biobb_wf_md_setup/notebooks/55823374-a2ba-45f4-9302-a43a58ac1750\n",
      "2023-10-02 17:23:35,331 [MainThread  ] [INFO ]  Copy: /Users/hospital/BioBB/Antibody/BioBB/biobb_wf_md_setup/biobb_wf_md_setup/notebooks/3RVT_loop.ndx to /Users/hospital/BioBB/Antibody/BioBB/biobb_wf_md_setup/biobb_wf_md_setup/notebooks/55823374-a2ba-45f4-9302-a43a58ac1750\n",
      "2023-10-02 17:23:35,333 [MainThread  ] [INFO ]  Copy: /Users/hospital/BioBB/Antibody/BioBB/biobb_wf_md_setup/biobb_wf_md_setup/notebooks/5280606b-62f9-4978-b945-5ad465fa0ce6.stdin to /Users/hospital/BioBB/Antibody/BioBB/biobb_wf_md_setup/biobb_wf_md_setup/notebooks/55823374-a2ba-45f4-9302-a43a58ac1750\n",
      "2023-10-02 17:23:35,333 [MainThread  ] [INFO ]  gmx cluster -g /Users/hospital/BioBB/Antibody/BioBB/biobb_wf_md_setup/biobb_wf_md_setup/notebooks/55823374-a2ba-45f4-9302-a43a58ac1750/cluster.log -dist /Users/hospital/BioBB/Antibody/BioBB/biobb_wf_md_setup/biobb_wf_md_setup/notebooks/55823374-a2ba-45f4-9302-a43a58ac1750/rmsd-dist.xvg -o /Users/hospital/BioBB/Antibody/BioBB/biobb_wf_md_setup/biobb_wf_md_setup/notebooks/55823374-a2ba-45f4-9302-a43a58ac1750/rmsd-clust.xpm -s /Users/hospital/BioBB/Antibody/BioBB/biobb_wf_md_setup/biobb_wf_md_setup/notebooks/55823374-a2ba-45f4-9302-a43a58ac1750/3RVT_gppmin.tpr -f /Users/hospital/BioBB/Antibody/BioBB/biobb_wf_md_setup/biobb_wf_md_setup/notebooks/55823374-a2ba-45f4-9302-a43a58ac1750/3RVT_imaged_traj_rot.trr -cl /Users/hospital/BioBB/Antibody/BioBB/biobb_wf_md_setup/biobb_wf_md_setup/notebooks/55823374-a2ba-45f4-9302-a43a58ac1750/3RVT_clusters.pdb -cutoff 0.1 -method jarvis-patrick -n /Users/hospital/BioBB/Antibody/BioBB/biobb_wf_md_setup/biobb_wf_md_setup/notebooks/55823374-a2ba-45f4-9302-a43a58ac1750/3RVT_loop.ndx -nofit < /Users/hospital/BioBB/Antibody/BioBB/biobb_wf_md_setup/biobb_wf_md_setup/notebooks/55823374-a2ba-45f4-9302-a43a58ac1750/5280606b-62f9-4978-b945-5ad465fa0ce6.stdin\n",
      "\n",
      "2023-10-02 17:23:35,572 [MainThread  ] [INFO ]  Exit code 0\n",
      "\n",
      "2023-10-02 17:23:35,573 [MainThread  ] [INFO ]  Selected 10: 'Loop'\n",
      "Selected 0: 'System'\n",
      "\n",
      "2023-10-02 17:23:35,574 [MainThread  ] [INFO ]                 :-) GROMACS - gmx cluster, 2022.2-conda_forge (-:\n",
      "\n",
      "Executable:   /opt/anaconda3/envs/biobb_GMX_MDsetup_tutorial_v4.1/bin.SSE2/gmx\n",
      "Data prefix:  /opt/anaconda3/envs/biobb_GMX_MDsetup_tutorial_v4.1\n",
      "Working dir:  /Users/hospital/BioBB/Antibody/BioBB/biobb_wf_md_setup/biobb_wf_md_setup/notebooks\n",
      "Command line:\n",
      "  gmx cluster -g /Users/hospital/BioBB/Antibody/BioBB/biobb_wf_md_setup/biobb_wf_md_setup/notebooks/55823374-a2ba-45f4-9302-a43a58ac1750/cluster.log -dist /Users/hospital/BioBB/Antibody/BioBB/biobb_wf_md_setup/biobb_wf_md_setup/notebooks/55823374-a2ba-45f4-9302-a43a58ac1750/rmsd-dist.xvg -o /Users/hospital/BioBB/Antibody/BioBB/biobb_wf_md_setup/biobb_wf_md_setup/notebooks/55823374-a2ba-45f4-9302-a43a58ac1750/rmsd-clust.xpm -s /Users/hospital/BioBB/Antibody/BioBB/biobb_wf_md_setup/biobb_wf_md_setup/notebooks/55823374-a2ba-45f4-9302-a43a58ac1750/3RVT_gppmin.tpr -f /Users/hospital/BioBB/Antibody/BioBB/biobb_wf_md_setup/biobb_wf_md_setup/notebooks/55823374-a2ba-45f4-9302-a43a58ac1750/3RVT_imaged_traj_rot.trr -cl /Users/hospital/BioBB/Antibody/BioBB/biobb_wf_md_setup/biobb_wf_md_setup/notebooks/55823374-a2ba-45f4-9302-a43a58ac1750/3RVT_clusters.pdb -cutoff 0.1 -method jarvis-patrick -n /Users/hospital/BioBB/Antibody/BioBB/biobb_wf_md_setup/biobb_wf_md_setup/notebooks/55823374-a2ba-45f4-9302-a43a58ac1750/3RVT_loop.ndx -nofit\n",
      "\n",
      "Using jarvis-patrick method for clustering\n",
      "Will use P=3, M=10 and RMSD cutoff (0.1) for determining the neighbors\n",
      "\n",
      "Reading file /Users/hospital/BioBB/Antibody/BioBB/biobb_wf_md_setup/biobb_wf_md_setup/notebooks/55823374-a2ba-45f4-9302-a43a58ac1750/3RVT_gppmin.tpr, VERSION 2022.2-conda_forge (single precision)\n",
      "Reading file /Users/hospital/BioBB/Antibody/BioBB/biobb_wf_md_setup/biobb_wf_md_setup/notebooks/55823374-a2ba-45f4-9302-a43a58ac1750/3RVT_gppmin.tpr, VERSION 2022.2-conda_forge (single precision)\n",
      "\n",
      "Select group for least squares fit and RMSD calculation:\n",
      "Group     0 (         System) has  6664 elements\n",
      "Group     1 (        Protein) has  6664 elements\n",
      "Group     2 (      Protein-H) has  3383 elements\n",
      "Group     3 (        C-alpha) has   435 elements\n",
      "Group     4 (       Backbone) has  1305 elements\n",
      "Group     5 (      MainChain) has  1738 elements\n",
      "Group     6 (   MainChain+Cb) has  2144 elements\n",
      "Group     7 (    MainChain+H) has  2151 elements\n",
      "Group     8 (      SideChain) has  4513 elements\n",
      "Group     9 (    SideChain-H) has  1645 elements\n",
      "Group    10 (           Loop) has   495 elements\n",
      "Select a group: \n",
      "Select group for output:\n",
      "Group     0 (         System) has  6664 elements\n",
      "Group     1 (        Protein) has  6664 elements\n",
      "Group     2 (      Protein-H) has  3383 elements\n",
      "Group     3 (        C-alpha) has   435 elements\n",
      "Group     4 (       Backbone) has  1305 elements\n",
      "Group     5 (      MainChain) has  1738 elements\n",
      "Group     6 (   MainChain+Cb) has  2144 elements\n",
      "Group     7 (    MainChain+H) has  2151 elements\n",
      "Group     8 (      SideChain) has  4513 elements\n",
      "Group     9 (    SideChain-H) has  1645 elements\n",
      "Group    10 (           Loop) has   495 elements\n",
      "Select a group: trr version: GMX_trn_file (single precision)\n",
      "Last frame         50 time  100.000   \n",
      "Allocated 4798080 bytes for frames\n",
      "Read 51 frames from trajectory /Users/hospital/BioBB/Antibody/BioBB/biobb_wf_md_setup/biobb_wf_md_setup/notebooks/55823374-a2ba-45f4-9302-a43a58ac1750/3RVT_imaged_traj_rot.trr\n",
      "Computing 51x51 RMS deviation matrix\n",
      "# RMSD calculations left: 0      \n",
      "\n",
      "The RMSD ranges from 0.0606247 to 0.370415 nm\n",
      "Average RMSD is 0.158087\n",
      "Number of structures for matrix 51\n",
      "Energy of the matrix is 0.370685.\n",
      "WARNING: rmsd minimum 0 is below lowest rmsd value 0.0606247\n",
      "Linking structures ***\n",
      "Sorting and renumbering clusters\n",
      "\n",
      "Found 6 clusters\n",
      "\n",
      "Writing middle structure for each cluster to /Users/hospital/BioBB/Antibody/BioBB/biobb_wf_md_setup/biobb_wf_md_setup/notebooks/55823374-a2ba-45f4-9302-a43a58ac1750/3RVT_clusters.pdb\n",
      "Writing rms distance/clustering matrix            1 1 1 1 1 2 2 2 2 2 3 3 3 3 3 4 4 4 4 4 5 5 5 5 5 6 6 6 6 6 7 7 7 7 7 8 8 8 8 8 9 9 9 9 910\n",
      "\n",
      "GROMACS reminds you: \"With a Little Penknife\" (Nick Cave)\n",
      "\n",
      "\n",
      "2023-10-02 17:23:35,578 [MainThread  ] [INFO ]  Removed: ['rmsd-dist.xvg', 'rmsd-clust.xpm', 'cluster.log', '/Users/hospital/BioBB/Antibody/BioBB/biobb_wf_md_setup/biobb_wf_md_setup/notebooks/55823374-a2ba-45f4-9302-a43a58ac1750', '/Users/hospital/BioBB/Antibody/BioBB/biobb_wf_md_setup/biobb_wf_md_setup/notebooks/5280606b-62f9-4978-b945-5ad465fa0ce6.stdin']\n"
     ]
    },
    {
     "data": {
      "text/plain": [
       "0"
      ]
     },
     "execution_count": 208,
     "metadata": {},
     "output_type": "execute_result"
    }
   ],
   "source": [
    "from biobb_analysis.gromacs.gmx_cluster import gmx_cluster\n",
    "\n",
    "output_pdb_cluster = pdbCode+\"_clusters.pdb\"\n",
    "\n",
    "prop = {\n",
    "    'fit_selection': 'Loop',\n",
    "    'output_selection': 'System',\n",
    "#    'method': 'gromos',\n",
    "    'method' : 'jarvis-patrick',\n",
    "    'cutoff' : 0.1,\n",
    "    'nofit' : True\n",
    "    #'remove_tmp' : False\n",
    "}\n",
    "gmx_cluster(input_structure_path=output_gppmin_tpr,\n",
    "            input_traj_path=output_imaged_traj_rot,\n",
    "            input_index_path=loop_ndx,\n",
    "            output_pdb_path=output_pdb_cluster,\n",
    "            properties=prop)"
   ]
  },
  {
   "cell_type": "code",
   "execution_count": null,
   "metadata": {},
   "outputs": [
    {
     "data": {
      "application/vnd.jupyter.widget-view+json": {
       "model_id": "6b73ee9b60dc49d0ae3e093b985ce6f2",
       "version_major": 2,
       "version_minor": 0
      },
      "text/plain": [
       "NGLWidget()"
      ]
     },
     "metadata": {},
     "output_type": "display_data"
    }
   ],
   "source": [
    "view = nv.show_structure_file(output_pdb_cluster, default_representation=False)\n",
    "view.clear_representations()\n",
    "view.add_representation(repr_type='cartoon', selection='all', color='modelindex')\n",
    "view.center()\n",
    "view._remote_call('setSize', target='Widget', args=['','600px'])\n",
    "view"
   ]
  },
  {
   "cell_type": "markdown",
   "metadata": {},
   "source": [
    "## Docking the generated structures with HADDOCK"
   ]
  },
  {
   "cell_type": "code",
   "execution_count": null,
   "metadata": {},
   "outputs": [],
   "source": [
    "# copiar del workflow de biobb_wf_haddock"
   ]
  },
  {
   "cell_type": "markdown",
   "metadata": {},
   "source": [
    "### Running HADDOCK3"
   ]
  },
  {
   "cell_type": "code",
   "execution_count": null,
   "metadata": {},
   "outputs": [],
   "source": [
    "from biobb_haddock.haddock.common import read_cfg\n",
    "from haddock.gear.config import load, save"
   ]
  },
  {
   "cell_type": "code",
   "execution_count": 39,
   "metadata": {},
   "outputs": [
    {
     "data": {
      "text/plain": [
       "{'run_dir': PosixPath('run1'),\n",
       " 'mode': 'local',\n",
       " 'ncores': 50,\n",
       " 'postprocess': True,\n",
       " 'clean': True,\n",
       " 'molecules': [PosixPath('pdbs/4G6K_clean.pdb'),\n",
       "  PosixPath('pdbs/4I1B_clean.pdb')],\n",
       " 'topoaa.1': {},\n",
       " 'rigidbody.1': {'ambig_fname': PosixPath('restraints/ambig-paratope-NMR-epitope.tbl'),\n",
       "  'unambig_fname': PosixPath('restraints/antibody-unambig.tbl'),\n",
       "  'sampling': 100},\n",
       " 'caprieval.1': {'reference_fname': PosixPath('pdbs/4G6M_matched.pdb')},\n",
       " 'seletop.1': {'select': 40},\n",
       " 'flexref.1': {'tolerance': 5,\n",
       "  'ambig_fname': PosixPath('restraints/ambig-paratope-NMR-epitope.tbl'),\n",
       "  'unambig_fname': PosixPath('restraints/antibody-unambig.tbl')},\n",
       " 'caprieval.2': {'reference_fname': PosixPath('pdbs/4G6M_matched.pdb')},\n",
       " 'emref.1': {'tolerance': 5,\n",
       "  'ambig_fname': PosixPath('restraints/ambig-paratope-NMR-epitope.tbl'),\n",
       "  'unambig_fname': PosixPath('restraints/antibody-unambig.tbl')},\n",
       " 'caprieval.3': {'reference_fname': PosixPath('pdbs/4G6M_matched.pdb')},\n",
       " 'clustfcc.1': {'plot_matrix': True},\n",
       " 'seletopclusts.1': {'top_models': 4},\n",
       " 'caprieval.4': {'reference_fname': PosixPath('pdbs/4G6M_matched.pdb')},\n",
       " 'contactmap.1': {}}"
      ]
     },
     "execution_count": 39,
     "metadata": {},
     "output_type": "execute_result"
    }
   ],
   "source": [
    "final_cfg = load(haddock_config_path)\n",
    "final_cfg['final_cfg']"
   ]
  },
  {
   "cell_type": "code",
   "execution_count": 21,
   "metadata": {},
   "outputs": [],
   "source": [
    "save(load(wf_config)['final_cfg'], 'output_file_path.cfg')"
   ]
  },
  {
   "cell_type": "code",
   "execution_count": 36,
   "metadata": {},
   "outputs": [
    {
     "name": "stdout",
     "output_type": "stream",
     "text": [
      "2025-05-05 10:38:18,057 [MainThread  ] [INFO ]  Module: biobb_haddock.haddock.haddock3_run Version: 5.0.0\n",
      "2025-05-05 10:38:18,058 [MainThread  ] [INFO ]  /home/rchaves/repo/ab_design/biobb_wf_haddock/sandbox_8cb99d08-da81-4a4f-97e4-91f820d07e3d directory successfully created\n",
      "2025-05-05 10:38:18,059 [MainThread  ] [INFO ]  Copy: ./data/antibody/HADDOCK3-antibody-antigen/pdbs/4G6K_clean.pdb to /home/rchaves/repo/ab_design/biobb_wf_haddock/sandbox_8cb99d08-da81-4a4f-97e4-91f820d07e3d\n",
      "2025-05-05 10:38:18,059 [MainThread  ] [INFO ]  Copy: ./data/antibody/HADDOCK3-antibody-antigen/pdbs/4I1B_clean.pdb to /home/rchaves/repo/ab_design/biobb_wf_haddock/sandbox_8cb99d08-da81-4a4f-97e4-91f820d07e3d\n",
      "2025-05-05 10:38:18,060 [MainThread  ] [INFO ]  Copy: ./data/antibody/HADDOCK3-antibody-antigen/workflows/docking-antibody-antigen.cfg to /home/rchaves/repo/ab_design/biobb_wf_haddock/sandbox_8cb99d08-da81-4a4f-97e4-91f820d07e3d\n",
      "/home/rchaves/repo/ab_design/biobb_wf_haddock/sandbox_8cb99d08-da81-4a4f-97e4-91f820d07e3d/docking-antibody-antigen.cfg\n"
     ]
    },
    {
     "ename": "KeyError",
     "evalue": "'haddock_step_name'",
     "output_type": "error",
     "traceback": [
      "\u001b[0;31m---------------------------------------------------------------------------\u001b[0m",
      "\u001b[0;31mKeyError\u001b[0m                                  Traceback (most recent call last)",
      "Cell \u001b[0;32mIn[36], line 6\u001b[0m\n\u001b[1;32m      3\u001b[0m haddock_config_path        \u001b[38;5;241m=\u001b[39m \u001b[38;5;124mf\u001b[39m\u001b[38;5;124m'\u001b[39m\u001b[38;5;132;01m{\u001b[39;00mhaddock_data\u001b[38;5;132;01m}\u001b[39;00m\u001b[38;5;124mworkflows/docking-antibody-antigen.cfg\u001b[39m\u001b[38;5;124m'\u001b[39m\n\u001b[1;32m      4\u001b[0m output_haddock_wf_data_zip \u001b[38;5;241m=\u001b[39m \u001b[38;5;124mf\u001b[39m\u001b[38;5;124m'\u001b[39m\u001b[38;5;132;01m{\u001b[39;00mout_path\u001b[38;5;132;01m}\u001b[39;00m\u001b[38;5;124mwf.zip\u001b[39m\u001b[38;5;124m'\u001b[39m  \n\u001b[0;32m----> 6\u001b[0m \u001b[43mhaddock3_run\u001b[49m\u001b[43m(\u001b[49m\u001b[43mmol1_input_pdb_path\u001b[49m\u001b[43m  \u001b[49m\u001b[38;5;241;43m=\u001b[39;49m\u001b[43m \u001b[49m\u001b[43mab_clean_pdb\u001b[49m\u001b[43m,\u001b[49m\n\u001b[1;32m      7\u001b[0m \u001b[43m             \u001b[49m\u001b[43mmol2_input_pdb_path\u001b[49m\u001b[43m  \u001b[49m\u001b[38;5;241;43m=\u001b[39;49m\u001b[43m \u001b[49m\u001b[43mag_clean_pdb\u001b[49m\u001b[43m,\u001b[49m\n\u001b[1;32m      8\u001b[0m \u001b[43m             \u001b[49m\u001b[43mhaddock_config_path\u001b[49m\u001b[43m        \u001b[49m\u001b[38;5;241;43m=\u001b[39;49m\u001b[43m \u001b[49m\u001b[43mhaddock_config_path\u001b[49m\u001b[43m,\u001b[49m\n\u001b[1;32m      9\u001b[0m \u001b[43m             \u001b[49m\u001b[43moutput_haddock_wf_data_zip\u001b[49m\u001b[43m \u001b[49m\u001b[38;5;241;43m=\u001b[39;49m\u001b[43m \u001b[49m\u001b[43moutput_haddock_wf_data_zip\u001b[49m\u001b[43m)\u001b[49m\n",
      "File \u001b[0;32m~/repo/biobb_haddock/biobb_haddock/haddock/haddock3_run.py:191\u001b[0m, in \u001b[0;36mhaddock3_run\u001b[0;34m(mol1_input_pdb_path, mol2_input_pdb_path, output_haddock_wf_data_zip, ambig_restraints_table_path, unambig_restraints_table_path, hb_restraints_table_path, haddock_config_path, properties, **kwargs)\u001b[0m\n\u001b[1;32m    177\u001b[0m \u001b[38;5;28;01mdef\u001b[39;00m\u001b[38;5;250m \u001b[39m\u001b[38;5;21mhaddock3_run\u001b[39m(\n\u001b[1;32m    178\u001b[0m     mol1_input_pdb_path: \u001b[38;5;28mstr\u001b[39m,\n\u001b[1;32m    179\u001b[0m     mol2_input_pdb_path: \u001b[38;5;28mstr\u001b[39m,\n\u001b[0;32m   (...)\u001b[0m\n\u001b[1;32m    186\u001b[0m     \u001b[38;5;241m*\u001b[39m\u001b[38;5;241m*\u001b[39mkwargs,\n\u001b[1;32m    187\u001b[0m ) \u001b[38;5;241m-\u001b[39m\u001b[38;5;241m>\u001b[39m \u001b[38;5;28mint\u001b[39m:\n\u001b[1;32m    188\u001b[0m \u001b[38;5;250m    \u001b[39m\u001b[38;5;124;03m\"\"\"Create :class:`Haddock3Run <biobb_haddock.haddock.haddock3_run>` class and\u001b[39;00m\n\u001b[1;32m    189\u001b[0m \u001b[38;5;124;03m    execute the :meth:`launch() <biobb_haddock.haddock.haddock3_run.launch>` method.\"\"\"\u001b[39;00m\n\u001b[0;32m--> 191\u001b[0m     \u001b[38;5;28;01mreturn\u001b[39;00m \u001b[43mHaddock3Run\u001b[49m\u001b[43m(\u001b[49m\n\u001b[1;32m    192\u001b[0m \u001b[43m        \u001b[49m\u001b[43mmol1_input_pdb_path\u001b[49m\u001b[38;5;241;43m=\u001b[39;49m\u001b[43mmol1_input_pdb_path\u001b[49m\u001b[43m,\u001b[49m\n\u001b[1;32m    193\u001b[0m \u001b[43m        \u001b[49m\u001b[43mmol2_input_pdb_path\u001b[49m\u001b[38;5;241;43m=\u001b[39;49m\u001b[43mmol2_input_pdb_path\u001b[49m\u001b[43m,\u001b[49m\n\u001b[1;32m    194\u001b[0m \u001b[43m        \u001b[49m\u001b[43moutput_haddock_wf_data_zip\u001b[49m\u001b[38;5;241;43m=\u001b[39;49m\u001b[43moutput_haddock_wf_data_zip\u001b[49m\u001b[43m,\u001b[49m\n\u001b[1;32m    195\u001b[0m \u001b[43m        \u001b[49m\u001b[43mambig_restraints_table_path\u001b[49m\u001b[38;5;241;43m=\u001b[39;49m\u001b[43mambig_restraints_table_path\u001b[49m\u001b[43m,\u001b[49m\n\u001b[1;32m    196\u001b[0m \u001b[43m        \u001b[49m\u001b[43munambig_restraints_table_path\u001b[49m\u001b[38;5;241;43m=\u001b[39;49m\u001b[43munambig_restraints_table_path\u001b[49m\u001b[43m,\u001b[49m\n\u001b[1;32m    197\u001b[0m \u001b[43m        \u001b[49m\u001b[43mhb_restraints_table_path\u001b[49m\u001b[38;5;241;43m=\u001b[39;49m\u001b[43mhb_restraints_table_path\u001b[49m\u001b[43m,\u001b[49m\n\u001b[1;32m    198\u001b[0m \u001b[43m        \u001b[49m\u001b[43mhaddock_config_path\u001b[49m\u001b[38;5;241;43m=\u001b[39;49m\u001b[43mhaddock_config_path\u001b[49m\u001b[43m,\u001b[49m\n\u001b[1;32m    199\u001b[0m \u001b[43m        \u001b[49m\u001b[43mproperties\u001b[49m\u001b[38;5;241;43m=\u001b[39;49m\u001b[43mproperties\u001b[49m\u001b[43m,\u001b[49m\n\u001b[1;32m    200\u001b[0m \u001b[43m        \u001b[49m\u001b[38;5;241;43m*\u001b[39;49m\u001b[38;5;241;43m*\u001b[39;49m\u001b[43mkwargs\u001b[49m\u001b[43m,\u001b[49m\n\u001b[1;32m    201\u001b[0m \u001b[43m    \u001b[49m\u001b[43m)\u001b[49m\u001b[38;5;241;43m.\u001b[39;49m\u001b[43mlaunch\u001b[49m\u001b[43m(\u001b[49m\u001b[43m)\u001b[49m\n",
      "File \u001b[0;32m~/miniforge3/envs/biobb_haddock/lib/python3.9/site-packages/biobb_common/tools/file_utils.py:381\u001b[0m, in \u001b[0;36mlaunchlogger.<locals>.wrapper_log\u001b[0;34m(*args, **kwargs)\u001b[0m\n\u001b[1;32m    371\u001b[0m     \u001b[38;5;28;01mreturn\u001b[39;00m func(\u001b[38;5;241m*\u001b[39margs, \u001b[38;5;241m*\u001b[39m\u001b[38;5;241m*\u001b[39mkwargs)\n\u001b[1;32m    373\u001b[0m args[\u001b[38;5;241m0\u001b[39m]\u001b[38;5;241m.\u001b[39mout_log, args[\u001b[38;5;241m0\u001b[39m]\u001b[38;5;241m.\u001b[39merr_log \u001b[38;5;241m=\u001b[39m get_logs(\n\u001b[1;32m    374\u001b[0m     path\u001b[38;5;241m=\u001b[39margs[\u001b[38;5;241m0\u001b[39m]\u001b[38;5;241m.\u001b[39mpath,\n\u001b[1;32m    375\u001b[0m     prefix\u001b[38;5;241m=\u001b[39margs[\u001b[38;5;241m0\u001b[39m]\u001b[38;5;241m.\u001b[39mprefix,\n\u001b[0;32m   (...)\u001b[0m\n\u001b[1;32m    379\u001b[0m     err_log_path\u001b[38;5;241m=\u001b[39margs[\u001b[38;5;241m0\u001b[39m]\u001b[38;5;241m.\u001b[39merr_log_path\n\u001b[1;32m    380\u001b[0m )\n\u001b[0;32m--> 381\u001b[0m value \u001b[38;5;241m=\u001b[39m \u001b[43mfunc\u001b[49m\u001b[43m(\u001b[49m\u001b[38;5;241;43m*\u001b[39;49m\u001b[43margs\u001b[49m\u001b[43m,\u001b[49m\u001b[43m \u001b[49m\u001b[38;5;241;43m*\u001b[39;49m\u001b[38;5;241;43m*\u001b[39;49m\u001b[43mkwargs\u001b[49m\u001b[43m)\u001b[49m\n\u001b[1;32m    382\u001b[0m handlers \u001b[38;5;241m=\u001b[39m args[\u001b[38;5;241m0\u001b[39m]\u001b[38;5;241m.\u001b[39mout_log\u001b[38;5;241m.\u001b[39mhandlers[\n\u001b[1;32m    383\u001b[0m     :\n\u001b[1;32m    384\u001b[0m ]  \u001b[38;5;66;03m# Create a copy [:] of the handler list to be able to modify it while we are iterating\u001b[39;00m\n\u001b[1;32m    385\u001b[0m \u001b[38;5;28;01mfor\u001b[39;00m handler \u001b[38;5;129;01min\u001b[39;00m handlers:\n",
      "File \u001b[0;32m~/repo/biobb_haddock/biobb_haddock/haddock/haddock3_run.py:128\u001b[0m, in \u001b[0;36mHaddock3Run.launch\u001b[0;34m(self)\u001b[0m\n\u001b[1;32m    126\u001b[0m \u001b[38;5;66;03m# Create data dir\u001b[39;00m\n\u001b[1;32m    127\u001b[0m cfg_dir \u001b[38;5;241m=\u001b[39m fu\u001b[38;5;241m.\u001b[39mcreate_unique_dir()\n\u001b[0;32m--> 128\u001b[0m \u001b[38;5;28mself\u001b[39m\u001b[38;5;241m.\u001b[39moutput_cfg_path \u001b[38;5;241m=\u001b[39m \u001b[43mcreate_cfg\u001b[49m\u001b[43m(\u001b[49m\n\u001b[1;32m    129\u001b[0m \u001b[43m    \u001b[49m\u001b[43moutput_cfg_path\u001b[49m\u001b[38;5;241;43m=\u001b[39;49m\u001b[38;5;28;43mstr\u001b[39;49m\u001b[43m(\u001b[49m\u001b[43mPath\u001b[49m\u001b[43m(\u001b[49m\u001b[43mcfg_dir\u001b[49m\u001b[43m)\u001b[49m\u001b[38;5;241;43m.\u001b[39;49m\u001b[43mjoinpath\u001b[49m\u001b[43m(\u001b[49m\u001b[38;5;28;43mself\u001b[39;49m\u001b[38;5;241;43m.\u001b[39;49m\u001b[43moutput_cfg_path\u001b[49m\u001b[43m)\u001b[49m\u001b[43m)\u001b[49m\u001b[43m,\u001b[49m\n\u001b[1;32m    130\u001b[0m \u001b[43m    \u001b[49m\u001b[43mworkflow_dict\u001b[49m\u001b[38;5;241;43m=\u001b[39;49m\u001b[43mworkflow_dict\u001b[49m\u001b[43m,\u001b[49m\n\u001b[1;32m    131\u001b[0m \u001b[43m    \u001b[49m\u001b[43minput_cfg_path\u001b[49m\u001b[38;5;241;43m=\u001b[39;49m\u001b[38;5;28;43mself\u001b[39;49m\u001b[38;5;241;43m.\u001b[39;49m\u001b[43mstage_io_dict\u001b[49m\u001b[43m[\u001b[49m\u001b[38;5;124;43m\"\u001b[39;49m\u001b[38;5;124;43min\u001b[39;49m\u001b[38;5;124;43m\"\u001b[39;49m\u001b[43m]\u001b[49m\u001b[38;5;241;43m.\u001b[39;49m\u001b[43mget\u001b[49m\u001b[43m(\u001b[49m\u001b[38;5;124;43m\"\u001b[39;49m\u001b[38;5;124;43mhaddock_config_path\u001b[39;49m\u001b[38;5;124;43m\"\u001b[39;49m\u001b[43m)\u001b[49m\u001b[43m,\u001b[49m\n\u001b[1;32m    132\u001b[0m \u001b[43m    \u001b[49m\u001b[43mcfg_properties_dict\u001b[49m\u001b[38;5;241;43m=\u001b[39;49m\u001b[38;5;28;43mself\u001b[39;49m\u001b[38;5;241;43m.\u001b[39;49m\u001b[43mcfg\u001b[49m\u001b[43m,\u001b[49m\n\u001b[1;32m    133\u001b[0m \u001b[43m\u001b[49m\u001b[43m)\u001b[49m\n\u001b[1;32m    134\u001b[0m \u001b[38;5;28;01mreturn\u001b[39;00m\n\u001b[1;32m    135\u001b[0m \u001b[38;5;28;01mif\u001b[39;00m \u001b[38;5;28mself\u001b[39m\u001b[38;5;241m.\u001b[39mcontainer_path:\n",
      "File \u001b[0;32m~/repo/biobb_haddock/biobb_haddock/haddock/common.py:34\u001b[0m, in \u001b[0;36mcreate_cfg\u001b[0;34m(output_cfg_path, workflow_dict, input_cfg_path, preset_dict, cfg_properties_dict)\u001b[0m\n\u001b[1;32m     31\u001b[0m         \u001b[38;5;28mprint\u001b[39m(\u001b[38;5;124m\"\u001b[39m\u001b[38;5;124mCFG: \u001b[39m\u001b[38;5;124m\"\u001b[39m \u001b[38;5;241m+\u001b[39m \u001b[38;5;28mstr\u001b[39m(v))\n\u001b[1;32m     32\u001b[0m         cfg_dict[k] \u001b[38;5;241m=\u001b[39m v\n\u001b[0;32m---> 34\u001b[0m \u001b[38;5;28;01mreturn\u001b[39;00m \u001b[43mwrite_cfg\u001b[49m\u001b[43m(\u001b[49m\u001b[43moutput_cfg_path\u001b[49m\u001b[43m,\u001b[49m\u001b[43m \u001b[49m\u001b[43mworkflow_dict\u001b[49m\u001b[43m,\u001b[49m\u001b[43m \u001b[49m\u001b[43mcfg_dict\u001b[49m\u001b[43m)\u001b[49m\n",
      "File \u001b[0;32m~/repo/biobb_haddock/biobb_haddock/haddock/common.py:45\u001b[0m, in \u001b[0;36mwrite_cfg\u001b[0;34m(output_cfg_path, workflow_dict, cfg_dict)\u001b[0m\n\u001b[1;32m     43\u001b[0m \u001b[38;5;28;01mif\u001b[39;00m workflow_dict\u001b[38;5;241m.\u001b[39mget(\u001b[38;5;124m\"\u001b[39m\u001b[38;5;124mmolecules\u001b[39m\u001b[38;5;124m\"\u001b[39m):\n\u001b[1;32m     44\u001b[0m     cfg_list\u001b[38;5;241m.\u001b[39mappend(\u001b[38;5;124mf\u001b[39m\u001b[38;5;124m\"\u001b[39m\u001b[38;5;124mmolecules = \u001b[39m\u001b[38;5;132;01m{\u001b[39;00mworkflow_dict[\u001b[38;5;124m'\u001b[39m\u001b[38;5;124mmolecules\u001b[39m\u001b[38;5;124m'\u001b[39m]\u001b[38;5;132;01m}\u001b[39;00m\u001b[38;5;124m\"\u001b[39m)\n\u001b[0;32m---> 45\u001b[0m cfg_list\u001b[38;5;241m.\u001b[39mappend(\u001b[38;5;124mf\u001b[39m\u001b[38;5;124m\"\u001b[39m\u001b[38;5;130;01m\\n\u001b[39;00m\u001b[38;5;124m[\u001b[39m\u001b[38;5;132;01m{\u001b[39;00mworkflow_dict[\u001b[38;5;124m'\u001b[39m\u001b[38;5;124mhaddock_step_name\u001b[39m\u001b[38;5;124m'\u001b[39m]\u001b[38;5;132;01m}\u001b[39;00m\u001b[38;5;124m]\u001b[39m\u001b[38;5;124m\"\u001b[39m)\n\u001b[1;32m     47\u001b[0m \u001b[38;5;28;01mfor\u001b[39;00m k, v \u001b[38;5;129;01min\u001b[39;00m cfg_dict\u001b[38;5;241m.\u001b[39mitems():\n\u001b[1;32m     48\u001b[0m     \u001b[38;5;66;03m# cfg_list.append(k + ' = ' + str(v))\u001b[39;00m\n\u001b[1;32m     49\u001b[0m     \u001b[38;5;28;01mif\u001b[39;00m \u001b[38;5;28misinstance\u001b[39m(v, \u001b[38;5;28mint\u001b[39m):\n",
      "\u001b[0;31mKeyError\u001b[0m: 'haddock_step_name'"
     ]
    }
   ],
   "source": [
    "from biobb_haddock.haddock.haddock3_run import haddock3_run\n",
    "\n",
    "haddock_config_path        = f'{haddock_data}workflows/docking-antibody-antigen.cfg'\n",
    "output_haddock_wf_data_zip = f'{out_path}wf.zip'  \n",
    "\n",
    "haddock3_run(mol1_input_pdb_path  = ab_clean_pdb,\n",
    "             mol2_input_pdb_path  = ag_clean_pdb,\n",
    "             haddock_config_path        = haddock_config_path,\n",
    "             output_haddock_wf_data_zip = output_haddock_wf_data_zip)"
   ]
  },
  {
   "cell_type": "markdown",
   "metadata": {},
   "source": [
    "### Analysis of results"
   ]
  },
  {
   "cell_type": "markdown",
   "metadata": {},
   "source": [
    "## PMX"
   ]
  },
  {
   "cell_type": "code",
   "execution_count": null,
   "metadata": {},
   "outputs": [],
   "source": [
    "# https://mmb.irbbarcelona.org/biobb/workflows/tutorials/biobb_wf_pmx_tutorial\n",
    "# https://github.com/bioexcel/biobb_wf_pmx_tutorial"
   ]
  },
  {
   "cell_type": "markdown",
   "metadata": {},
   "source": [
    "***\n",
    "<a id=\"questions\"></a>\n",
    "\n",
    "## Questions & Comments\n",
    "\n",
    "Questions, issues, suggestions and comments are really welcome!\n",
    "\n",
    "* GitHub issues:\n",
    "    * [https://github.com/bioexcel/biobb](https://github.com/bioexcel/biobb)\n",
    "\n",
    "* BioExcel forum:\n",
    "    * [https://ask.bioexcel.eu/c/BioExcel-Building-Blocks-library](https://ask.bioexcel.eu/c/BioExcel-Building-Blocks-library)\n"
   ]
  }
 ],
 "metadata": {
  "kernelspec": {
   "display_name": "biobb_wf_antibody",
   "language": "python",
   "name": "python3"
  },
  "language_info": {
   "codemirror_mode": {
    "name": "ipython",
    "version": 3
   },
   "file_extension": ".py",
   "mimetype": "text/x-python",
   "name": "python",
   "nbconvert_exporter": "python",
   "pygments_lexer": "ipython3",
   "version": "3.10.17"
  }
 },
 "nbformat": 4,
 "nbformat_minor": 4
}
