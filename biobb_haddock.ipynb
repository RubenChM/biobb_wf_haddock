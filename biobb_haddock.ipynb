{
 "cells": [
  {
   "cell_type": "code",
   "execution_count": 17,
   "id": "e28d88eb-030c-4d63-a4fd-21fd04bc51d5",
   "metadata": {},
   "outputs": [
    {
     "name": "stdout",
     "output_type": "stream",
     "text": [
      "The autoreload extension is already loaded. To reload it, use:\n",
      "  %reload_ext autoreload\n"
     ]
    }
   ],
   "source": [
    "# TO BE REMOVED!!!\n",
    "%load_ext autoreload\n",
    "%autoreload 2\n",
    "\n",
    "# Imports\n",
    "import os, shutil\n",
    "import nglview as nv\n",
    "import ipywidgets\n",
    "import zipfile\n",
    "import webbrowser\n",
    "\n",
    "# Helpers\n",
    "def def_dict(propierties={}):\n",
    "    def_props = {'out_log_path': 'log/log.log',\n",
    "                 'err_log_path': 'log/log.err',\n",
    "                 'remove_tmp': True,\n",
    "                 'can_write_console_log': False}\n",
    "    def_props.update(propierties)\n",
    "    return def_props\n",
    "\n",
    "def show_pdbs(pdbs, surface=False):\n",
    "    # Load the PDB files\n",
    "    views = [nv.show_file(pdb) for pdb in pdbs]\n",
    "    for view in views:\n",
    "        if surface:\n",
    "            view.clear()\n",
    "            view.add_cartoon(color='black')\n",
    "            view.add_surface(color='electrostatic', opacity=0.5)\n",
    "        view.layout.width = '100%'\n",
    "    return ipywidgets.HBox(views)\n",
    "\n",
    "def display_actpass(pdb, actpass, opacity=1):\n",
    "    with open(actpass, 'r') as file:\n",
    "        actpass = file.read().splitlines()\n",
    "        act_res = actpass[0].replace(' ', ', ')\n",
    "        pas_res = actpass[1].replace(' ', ', ')\n",
    "        \n",
    "    # Load the PDB files\n",
    "    view = nv.NGLWidget()\n",
    "    view.add_component(pdb)\n",
    "    view.clear()\n",
    "    view.add_cartoon(color='black')\n",
    "    view.add_ball_and_stick(color='grey',opacity=opacity)\n",
    "    view.add_surface(selection=f'not ( {pas_res}, {act_res} )', color='white', opacity=opacity)\n",
    "    if act_res != '':\n",
    "        view.add_surface(selection=f'{act_res}', color='red')\n",
    "    if pas_res != '':\n",
    "        view.add_surface(selection=f'{pas_res}', color='green', opacity=opacity)\n",
    "    view.layout.width = '100%'\n",
    "    return view"
   ]
  },
  {
   "cell_type": "markdown",
   "id": "cc14867d",
   "metadata": {},
   "source": [
    "# Haddock3 protein protein docking using BioExcel Building Blocks (biobb)\n",
    "***\n",
    "This tutorial aims to illustrate the process of **proptein protein docking** using **Haddock3**, step by step, using the **BioExcel Building Blocks library (biobb)**. \n",
    "***\n",
    "**Biobb modules** used:\n",
    "\n",
    " - [biobb_haddock](https://github.com/bioexcel/biobb_haddock): Biobb building blocks for the Haddock3 suite.\n",
    " \n",
    "**Auxiliar libraries** used:\n",
    "\n",
    " - [nb_conda_kernels](https://github.com/Anaconda-Platform/nb_conda_kernels): Enables a Jupyter Notebook or JupyterLab application in one conda environment to access kernels for Python, R, and other languages found in other environments.\n",
    " - [nglview](http://nglviewer.org/#nglview): Jupyter/IPython widget to interactively view molecular structures and trajectories in notebooks.\n",
    " - [ipywidgets](https://github.com/jupyter-widgets/ipywidgets): Interactive HTML widgets for Jupyter notebooks and the IPython kernel.\n",
    "\n",
    "### Conda Installation and Launch\n",
    "\n",
    "```console\n",
    "git clone https://github.com/bioexcel/biobb_wf_ligand_parameterization.git\n",
    "cd biobb_wf_ligand_parameterization\n",
    "conda env create -f conda_env/environment.yml\n",
    "conda activate biobb_ligand_parameterization_tutorial\n",
    "jupyter-nbextension enable --py --user widgetsnbextension\n",
    "jupyter-nbextension enable --py --user nglview\n",
    "jupyter-notebook biobb_wf_ligand_parameterization/notebooks/biobb_ligand_parameterization_tutorial.ipynb\n",
    "  ``` \n",
    "\n",
    "***\n",
    "### Pipeline steps:\n",
    " 1. [Input Parameters](#input)\n",
    " 2. [Create topology](#fetch)\n",
    " 3. [CAPRI evaluation](#addh)\n",
    " 4. [Select Top structures](#min)\n",
    " 5. [Flexible Refinement](#acpype)\n",
    " 6. [2nd CAPRI evalutation](#output)\n",
    " 7. [Energy Minimization Refinement](#questions)\n",
    " 8. [Energy Minimization Refinement](#questions)\n",
    " \n",
    "***\n",
    "![](https://bioexcel.eu/wp-content/uploads/2019/04/Bioexcell_logo_1080px_transp.png)\n",
    "***"
   ]
  },
  {
   "cell_type": "markdown",
   "id": "a7d35d43",
   "metadata": {},
   "source": [
    "<a id=\"input\"></a>\n",
    "***\n",
    "## Input parameters\n",
    "**Input parameters** needed:\n",
    " - **ligandCode**: 3-letter code of the ligand structure (e.g. IBP)\n",
    " - **mol_charge**: Molecule net charge (e.g. -1)\n",
    " - **pH**: Acidity or alkalinity for the small molecule. Hydrogen atoms will be added according to this pH. (e.g. 7.4)"
   ]
  },
  {
   "cell_type": "markdown",
   "id": "b383ea12",
   "metadata": {},
   "source": [
    "# HADDOCK3 PPI tutorial"
   ]
  },
  {
   "cell_type": "code",
   "execution_count": 2,
   "id": "427b66b1",
   "metadata": {},
   "outputs": [],
   "source": [
    "# https://www.bonvinlab.org/education/HADDOCK3/HADDOCK3-antibody-antigen/#setting-up-and-running-the-docking-with-haddock3\n",
    "# data from: https://surfdrive.surf.nl/files/index.php/s/R7VHGQM9nx8QuQn\n",
    "\n",
    "ab_id    = '4G6K'  # antibody\n",
    "ag_id    = '4I1B' # antigen\n",
    "ref_id   = '4G6M' \n",
    "out_path = './data/antibody/'\n",
    "data_pth = '/home/rchaves/repo/biobb_haddock/biobb_haddock/test/data/haddock/'"
   ]
  },
  {
   "cell_type": "markdown",
   "id": "c2bf31c1",
   "metadata": {},
   "source": [
    "## Preparing PDB files for docking"
   ]
  },
  {
   "cell_type": "markdown",
   "id": "115dcbc4",
   "metadata": {},
   "source": [
    "### Fetching the PDBs"
   ]
  },
  {
   "cell_type": "code",
   "execution_count": 68,
   "id": "2ea72d60",
   "metadata": {},
   "outputs": [
    {
     "data": {
      "text/plain": [
       "0"
      ]
     },
     "execution_count": 68,
     "metadata": {},
     "output_type": "execute_result"
    }
   ],
   "source": [
    "# Downloading desired PDB files\n",
    "# Import module\n",
    "from biobb_io.api.pdb import pdb\n",
    "\n",
    "# Create properties dict and inputs/outputs\n",
    "ab_pdb  = f'{out_path}/pre/{ab_id}_0.pdb'\n",
    "ag_pdb  = f'{out_path}/pre/{ag_id}_0.pdb'\n",
    "ref_pdb = f'{out_path}/pre/{ref_id}_0.pdb'\n",
    "\n",
    "# Create and launch bb\n",
    "pdb(output_pdb_path = ab_pdb,  properties = def_dict({'pdb_code': ab_id}))\n",
    "pdb(output_pdb_path = ag_pdb,  properties = def_dict({'pdb_code': ag_id}))\n",
    "pdb(output_pdb_path = ref_pdb, properties = def_dict({'pdb_code': ref_id}))"
   ]
  },
  {
   "cell_type": "markdown",
   "id": "a1a8580d",
   "metadata": {},
   "source": [
    "### Preparing the antibody structure"
   ]
  },
  {
   "cell_type": "code",
   "execution_count": 42,
   "id": "0dade64e",
   "metadata": {},
   "outputs": [],
   "source": [
    "from biobb_pdb_tools.pdb_tools.biobb_pdb_tidy import biobb_pdb_tidy\n",
    "from biobb_pdb_tools.pdb_tools.biobb_pdb_selchain import biobb_pdb_selchain\n",
    "from biobb_pdb_tools.pdb_tools.biobb_pdb_delhetatm import biobb_pdb_delhetatm\n",
    "from biobb_pdb_tools.pdb_tools.biobb_pdb_fixinsert import biobb_pdb_fixinsert\n",
    "from biobb_pdb_tools.pdb_tools.biobb_pdb_selaltloc import biobb_pdb_selaltloc\n",
    "from biobb_pdb_tools.pdb_tools.biobb_pdb_keepcoord import biobb_pdb_keepcoord\n",
    "from biobb_pdb_tools.pdb_tools.biobb_pdb_selres import biobb_pdb_selres\n",
    "\n",
    "steps = [\n",
    "    biobb_pdb_tidy,\n",
    "    biobb_pdb_selchain,\n",
    "    biobb_pdb_delhetatm,\n",
    "    biobb_pdb_fixinsert,\n",
    "    biobb_pdb_selaltloc,\n",
    "    biobb_pdb_keepcoord,\n",
    "    biobb_pdb_selres,\n",
    "    biobb_pdb_tidy,\n",
    "]\n",
    "\n",
    "for ch in ['H','L']:\n",
    "    step_props = {\n",
    "        'biobb_pdb_tidy':     {'strict': True},\n",
    "        'biobb_pdb_selchain': {'chains': ch},\n",
    "        'biobb_pdb_selres':   {'selection': f'1:{ 120 if ch == \"H\" else 107}'},\n",
    "    }\n",
    "    for i, step in enumerate(steps):\n",
    "        pdb_in  = f'{out_path}/pre/{ab_id}_{i}.pdb'\n",
    "        if i+1 < len(steps):\n",
    "            pdb_out  = f'{out_path}/pre/{ab_id}_{i+1}.pdb'\n",
    "        else:\n",
    "            pdb_out  = f'{out_path}/pre/{ab_id}_{ch}.pdb'\n",
    "        props = def_dict(step_props.get(step.__name__, {}))\n",
    "        step(input_file_path = pdb_in,  output_file_path=pdb_out,  properties = props)"
   ]
  },
  {
   "cell_type": "code",
   "execution_count": 43,
   "id": "a5ec8c55",
   "metadata": {},
   "outputs": [],
   "source": [
    "import zipfile\n",
    "\n",
    "# Define the zip file path\n",
    "zip_file_path = f'{out_path}/pre/{ab_id}_HL.zip'\n",
    "\n",
    "# Create a zip file and add the pdb_out file to it\n",
    "with zipfile.ZipFile(zip_file_path, 'w') as zipf:\n",
    "    zipf.write(f'{out_path}/pre/{ab_id}_H.pdb', arcname=f'{ab_id}_H.pdb')\n",
    "    zipf.write(f'{out_path}/pre/{ab_id}_L.pdb', arcname=f'{ab_id}_L.pdb')"
   ]
  },
  {
   "cell_type": "code",
   "execution_count": 44,
   "id": "3844d236",
   "metadata": {},
   "outputs": [],
   "source": [
    "from biobb_pdb_tools.pdb_tools.biobb_pdb_merge import biobb_pdb_merge\n",
    "from biobb_pdb_tools.pdb_tools.biobb_pdb_reres import biobb_pdb_reres\n",
    "from biobb_pdb_tools.pdb_tools.biobb_pdb_chain import biobb_pdb_chain\n",
    "from biobb_pdb_tools.pdb_tools.biobb_pdb_chainxseg import biobb_pdb_chainxseg\n",
    "\n",
    "steps = [\n",
    "    biobb_pdb_merge,\n",
    "    biobb_pdb_reres,\n",
    "    biobb_pdb_chain,\n",
    "    biobb_pdb_chainxseg,\n",
    "    biobb_pdb_tidy,\n",
    "]\n",
    "\n",
    "step_props = {\n",
    "    'pdb_reres': {'number': 1},\n",
    "    'biobb_pdb_chain': {'chain': 'A'},\n",
    "    'biobb_pdb_tidy': {'strict': True},\n",
    "}\n",
    "\n",
    "for i, step in enumerate(steps):\n",
    "    pdb_in  = (zip_file_path if i == 0 \n",
    "               else f'{out_path}/pre/{ab_id}_HL_{i}.pdb')\n",
    "    \n",
    "    pdb_out = (f'{out_path}/pre/{ab_id}_HL_{i+1}.pdb' \n",
    "               if i+1 < len(steps) \n",
    "               else f'{out_path}/{ab_id}_clean.pdb')\n",
    "    \n",
    "    props = def_dict(step_props.get(step.__name__, {}))\n",
    "    step(input_file_path = pdb_in,  output_file_path=pdb_out,  properties = props)"
   ]
  },
  {
   "cell_type": "markdown",
   "id": "5e8488e2",
   "metadata": {},
   "source": [
    "### Preparing the antigen structure"
   ]
  },
  {
   "cell_type": "code",
   "execution_count": null,
   "id": "a33eb769",
   "metadata": {},
   "outputs": [],
   "source": [
    "steps = [\n",
    "    biobb_pdb_tidy,\n",
    "    biobb_pdb_delhetatm,\n",
    "    biobb_pdb_selaltloc,\n",
    "    biobb_pdb_keepcoord,\n",
    "    biobb_pdb_chain,\n",
    "    biobb_pdb_chainxseg,\n",
    "    biobb_pdb_tidy,\n",
    "]\n",
    "\n",
    "step_props = {\n",
    "    'biobb_pdb_tidy': {'strict': True},\n",
    "    'biobb_pdb_chain': {'chain': 'B'},\n",
    "}\n",
    "\n",
    "for i, step in enumerate(steps):\n",
    "    pdb_in  = f'{out_path}/pre/{ag_id}_{i}.pdb'\n",
    "    pdb_out = (f'{out_path}/pre/{ag_id}_{i+1}.pdb' \n",
    "               if i+1 < len(steps) \n",
    "               else f'{out_path}/{ag_id}_clean.pdb')\n",
    "    props = def_dict(step_props.get(step.__name__, {}))\n",
    "    step(input_file_path = pdb_in,  output_file_path=pdb_out,  properties = props)"
   ]
  },
  {
   "cell_type": "markdown",
   "id": "485208dd",
   "metadata": {},
   "source": [
    "### Preparing the reference pdb"
   ]
  },
  {
   "cell_type": "code",
   "execution_count": 84,
   "id": "3c14c96c",
   "metadata": {},
   "outputs": [],
   "source": [
    "steps = [\n",
    "    biobb_pdb_tidy,\n",
    "    biobb_pdb_selchain\n",
    "]\n",
    "\n",
    "step_props = {\n",
    "    'biobb_pdb_tidy': {'strict': True},\n",
    "    'biobb_pdb_selchain': {'chains': 'H,L'},\n",
    "}\n",
    "\n",
    "for i, step in enumerate(steps):\n",
    "    pdb_in  = f'{out_path}pre/{ref_id}_{i}.pdb'\n",
    "    pdb_out = f'{out_path}pre/{ref_id}_{i+1}.pdb' \n",
    "    props = def_dict(step_props.get(step.__name__, {}))\n",
    "    step(input_file_path = pdb_in,  output_file_path=pdb_out,  properties = props)"
   ]
  },
  {
   "cell_type": "code",
   "execution_count": 133,
   "id": "3ac1e1c2",
   "metadata": {},
   "outputs": [],
   "source": [
    "steps = [\n",
    "    biobb_pdb_tidy,\n",
    "    biobb_pdb_selchain,\n",
    "    biobb_pdb_delhetatm,\n",
    "    biobb_pdb_fixinsert,\n",
    "    biobb_pdb_selaltloc,\n",
    "    biobb_pdb_keepcoord,\n",
    "    biobb_pdb_selres,\n",
    "    biobb_pdb_tidy,\n",
    "]\n",
    "sels = {\"H\": 120, \"L\":107, \"A\": ''}\n",
    "\n",
    "for ch in ['H','L']:\n",
    "    step_props = {\n",
    "        'biobb_pdb_tidy':     {'strict': True},\n",
    "        'biobb_pdb_selchain': {'chains': ch},\n",
    "        'biobb_pdb_selres':   {'selection': f'1:{sels[ch]}'}\n",
    "    }\n",
    "    for i, step in enumerate(steps):\n",
    "        pdb_in  = f'{out_path}/pre/{ref_id}_{i}.pdb'\n",
    "        if i+1 < len(steps):\n",
    "            pdb_out  = f'{out_path}/pre/{ref_id}_{i+1}.pdb'\n",
    "        else:\n",
    "            pdb_out  = f'{out_path}/pre/{ref_id}_{ch}.pdb'\n",
    "        props = def_dict(step_props.get(step.__name__, {}))\n",
    "        step(input_file_path = pdb_in,  output_file_path=pdb_out,  properties = props)"
   ]
  },
  {
   "cell_type": "code",
   "execution_count": null,
   "id": "fdd223a8",
   "metadata": {},
   "outputs": [],
   "source": []
  },
  {
   "cell_type": "code",
   "execution_count": 178,
   "id": "33b946fb",
   "metadata": {},
   "outputs": [],
   "source": [
    "H = f'{out_path}/pre/{ref_id}_H.pdb'\n",
    "L = f'{out_path}/pre/{ref_id}_L.pdb'\n",
    "HL = f'{out_path}/pre/{ref_id}_HL.pdb'\n",
    "\n",
    "!pdb_merge {H} {L} | pdb_reres -1 | pdb_chain -A | pdb_chainxseg | pdb_tidy -strict > {HL}"
   ]
  },
  {
   "cell_type": "code",
   "execution_count": null,
   "id": "af63e206",
   "metadata": {},
   "outputs": [],
   "source": [
    "pdb_in  = f'{out_path}/pre/{ref_id}_0.pdb'\n",
    "A = f'{out_path}/pre/{ref_id}_A.pdb'\n",
    "ref_pdb_clean = f'{out_path}/{ref_id}_clean.pdb'\n",
    "\n",
    "!pdb_selchain -A {pdb_in} | pdb_reatom -0 | pdb_chain -B | pdb_chainxseg > {A}\n",
    "!pdb_merge {HL} {A} | pdb_segxchain | pdb_tidy -strict > {o}"
   ]
  },
  {
   "cell_type": "markdown",
   "id": "e53c6eb4",
   "metadata": {},
   "source": [
    "## Defining restrains"
   ]
  },
  {
   "cell_type": "markdown",
   "id": "98a53265",
   "metadata": {},
   "source": [
    "#### Paratope\n",
    "The residues of the hypervariable loops involved in binding. Identified with:\n",
    "- [ProABC-2](https://academic.oup.com/bioinformatics/article/36/20/5107/5873593?login=false)\n",
    "\n",
    "#### Epitope\n",
    "\n",
    "From [bibliography](https://linkinghub.elsevier.com/retrieve/pii/S0022283612007863)"
   ]
  },
  {
   "cell_type": "code",
   "execution_count": null,
   "id": "0e035057",
   "metadata": {},
   "outputs": [],
   "source": [
    "paratope_sel = '31,32,33,34,35,52,54,55,56,100,101,102,103,104,105,106,151,152,169,170,173,211,212,213,214,216'\n",
    "epitope_sel  = '72,73,74,75,81,83,84,89,90,92,94,96,97,98,115,116,117'"
   ]
  },
  {
   "cell_type": "code",
   "execution_count": 50,
   "id": "4bd79f4f",
   "metadata": {},
   "outputs": [],
   "source": [
    "ab_pdb_clean = f'{out_path}/{ab_id}_clean.pdb'\n",
    "ag_pdb_clean = f'{out_path}/{ag_id}_clean.pdb'\n",
    "views = show_pdbs([ab_pdb_clean, ag_pdb_clean])"
   ]
  },
  {
   "cell_type": "code",
   "execution_count": 49,
   "id": "b9478b53",
   "metadata": {},
   "outputs": [
    {
     "data": {
      "application/vnd.jupyter.widget-view+json": {
       "model_id": "844e78637f134423b49c5128022b11d6",
       "version_major": 2,
       "version_minor": 0
      },
      "text/plain": [
       "HBox(children=(NGLWidget(layout=Layout(width='100%')), NGLWidget(layout=Layout(width='100%'))))"
      ]
     },
     "execution_count": 49,
     "metadata": {},
     "output_type": "execute_result"
    }
   ],
   "source": [
    "views.children[0].add_surface(selection=paratope_sel.replace(',', ', '), color='red')\n",
    "views.children[1].add_surface(selection=epitope_sel.replace(',', ', '), color='red')\n",
    "views"
   ]
  },
  {
   "cell_type": "code",
   "execution_count": 64,
   "id": "684d4ae0",
   "metadata": {},
   "outputs": [
    {
     "data": {
      "text/plain": [
       "0"
      ]
     },
     "execution_count": 64,
     "metadata": {},
     "output_type": "execute_result"
    }
   ],
   "source": [
    "# Obtain passive from active selection\n",
    "from biobb_haddock.haddock_restraints.haddock3_passive_from_active import haddock3_passive_from_active\n",
    "\n",
    "ab_actpass = f'{out_path}{ab_id}_actpass.txt'\n",
    "ag_actpass = f'{out_path}{ag_id}_actpass.txt'\n",
    "\n",
    "# Create the actpass for the antibody manually\n",
    "with open(ab_actpass, 'w') as f:\n",
    "    f.write( paratope_sel.replace(',', ' ')+'\\n\\n')\n",
    "\n",
    "# For the antigen, we will use the epitope selection as the active selection\n",
    "# and some reidues around it as passsive\n",
    "haddock3_passive_from_active( \n",
    "    input_pdb_path      = ag_pdb_clean,\n",
    "    output_actpass_path = ag_actpass,\n",
    "    properties          = def_dict({'active_list' : epitope_sel}))"
   ]
  },
  {
   "cell_type": "code",
   "execution_count": 54,
   "id": "125da68d",
   "metadata": {},
   "outputs": [
    {
     "data": {
      "application/vnd.jupyter.widget-view+json": {
       "model_id": "289bfc5ffebf4a31891f7a4ab245bf18",
       "version_major": 2,
       "version_minor": 0
      },
      "text/plain": [
       "NGLWidget(layout=Layout(width='100%'))"
      ]
     },
     "metadata": {},
     "output_type": "display_data"
    }
   ],
   "source": [
    "display_actpass(ag_pdb_clean, ag_actpass)"
   ]
  },
  {
   "cell_type": "markdown",
   "id": "4da178f4",
   "metadata": {},
   "source": [
    "#### Defining ambiguous restraints"
   ]
  },
  {
   "cell_type": "code",
   "execution_count": 56,
   "id": "cf265d68",
   "metadata": {},
   "outputs": [
    {
     "data": {
      "text/plain": [
       "0"
      ]
     },
     "execution_count": 56,
     "metadata": {},
     "output_type": "execute_result"
    }
   ],
   "source": [
    "# Convert active/passive to ambiguous restraints\n",
    "from biobb_haddock.haddock_restraints.haddock3_actpass_to_ambig import haddock3_actpass_to_ambig\n",
    "\n",
    "complex_tbl = f'{out_path}ambig-paratope-NMR-epitope.tbl'\n",
    "\n",
    "haddock3_actpass_to_ambig( \n",
    "    input_actpass1_path=ab_actpass,\n",
    "    input_actpass2_path=ag_actpass,    \n",
    "    output_tbl_path=complex_tbl,\n",
    "    properties = def_dict({\n",
    "        'segid_one': 'A', \n",
    "        'segid_two': 'B'}))"
   ]
  },
  {
   "cell_type": "code",
   "execution_count": null,
   "id": "77570230",
   "metadata": {},
   "outputs": [],
   "source": [
    "# Validate tbl\n",
    "!haddock3-restraints validate_tbl {complex_tbl} --silent"
   ]
  },
  {
   "cell_type": "markdown",
   "id": "38edd193",
   "metadata": {},
   "source": [
    "#### Additional restraints for multi-chain proteins"
   ]
  },
  {
   "cell_type": "code",
   "execution_count": 57,
   "id": "ab255c62",
   "metadata": {},
   "outputs": [
    {
     "data": {
      "text/plain": [
       "0"
      ]
     },
     "execution_count": 57,
     "metadata": {},
     "output_type": "execute_result"
    }
   ],
   "source": [
    "# Tie antibody chains together\n",
    "from biobb_haddock.haddock_restraints.haddock3_restrain_bodies import haddock3_restrain_bodies\n",
    "\n",
    "body_tbl = f'{out_path}antibody-unambig.tbl'\n",
    "\n",
    "haddock3_restrain_bodies( \n",
    "    input_structure_path=ab_pdb_clean,\n",
    "    output_tbl_path=body_tbl,\n",
    "    properties = def_dict())"
   ]
  },
  {
   "cell_type": "markdown",
   "id": "de42a8b4",
   "metadata": {},
   "source": [
    "## Docking"
   ]
  },
  {
   "cell_type": "code",
   "execution_count": 15,
   "id": "72f4c0cf",
   "metadata": {},
   "outputs": [],
   "source": [
    "# repeat variables to run the code above\n",
    "ab_pdb_clean = f'{out_path}{ab_id}_clean.pdb'\n",
    "ag_pdb_clean = f'{out_path}{ag_id}_clean.pdb'\n",
    "ref_pdb_clean = f'{out_path}{ref_id}_clean.pdb'\n",
    "complex_tbl = f'{out_path}ambig-paratope-NMR-epitope.tbl'\n",
    "body_tbl = f'{out_path}antibody-unambig.tbl'"
   ]
  },
  {
   "cell_type": "markdown",
   "id": "dc3cc73c",
   "metadata": {},
   "source": [
    "### Create topology"
   ]
  },
  {
   "cell_type": "code",
   "execution_count": 26,
   "id": "e4575fdb",
   "metadata": {
    "scrolled": true
   },
   "outputs": [
    {
     "data": {
      "text/plain": [
       "0"
      ]
     },
     "execution_count": 26,
     "metadata": {},
     "output_type": "execute_result"
    }
   ],
   "source": [
    "from biobb_haddock.haddock.topology import topology\n",
    "step_idx = 0\n",
    "mol1_output_top_zip_path = f'{out_path}/docking/{step_idx}/top_mol1.zip'\n",
    "mol2_output_top_zip_path = f'{out_path}/docking/{step_idx}/top_mol2.zip'\n",
    "wf_topology              = f'{out_path}/docking/{step_idx}/wf_topology.zip'\n",
    "\n",
    "topology(mol1_input_pdb_path        = ab_pdb_clean,\n",
    "         mol2_input_pdb_path        = ag_pdb_clean,\n",
    "         mol1_output_top_zip_path   = mol1_output_top_zip_path,\n",
    "         mol2_output_top_zip_path   = mol2_output_top_zip_path,\n",
    "         output_haddock_wf_data_zip = wf_topology,\n",
    "         properties                 = def_dict())"
   ]
  },
  {
   "cell_type": "markdown",
   "id": "b6615b1b",
   "metadata": {},
   "source": [
    "### Rigid Body sampling"
   ]
  },
  {
   "cell_type": "code",
   "execution_count": 29,
   "id": "1e8b455b",
   "metadata": {
    "scrolled": true
   },
   "outputs": [
    {
     "data": {
      "text/plain": [
       "0"
      ]
     },
     "execution_count": 29,
     "metadata": {},
     "output_type": "execute_result"
    }
   ],
   "source": [
    "from biobb_haddock.haddock.rigid_body import rigid_body\n",
    "\n",
    "properties={\n",
    "    'cfg': {\n",
    "        'tolerance': 2,\n",
    "        'sampling': 5, # 1000\n",
    "    }\n",
    "}\n",
    "\n",
    "step_idx = 1\n",
    "docking_output_zip_path = f'{out_path}docking/{step_idx}/docking.zip'\n",
    "wf_rigidbody            = f'{out_path}docking/{step_idx}/wf_rigidbody.zip'\n",
    "\n",
    "rigid_body(input_haddock_wf_data_zip     = wf_topology,\n",
    "           docking_output_zip_path       = docking_output_zip_path,\n",
    "           ambig_restraints_table_path   = complex_tbl,\n",
    "           unambig_restraints_table_path = body_tbl,\n",
    "           output_haddock_wf_data_zip    = wf_rigidbody,\n",
    "           properties                    = def_dict(properties))"
   ]
  },
  {
   "cell_type": "markdown",
   "id": "205d3cdf",
   "metadata": {},
   "source": [
    "### CAPRI evaluation"
   ]
  },
  {
   "cell_type": "code",
   "execution_count": 34,
   "id": "c00da6c1",
   "metadata": {
    "scrolled": true
   },
   "outputs": [
    {
     "data": {
      "text/plain": [
       "0"
      ]
     },
     "execution_count": 34,
     "metadata": {},
     "output_type": "execute_result"
    }
   ],
   "source": [
    "from biobb_haddock.haddock.capri_eval import capri_eval\n",
    "\n",
    "step_idx = 2\n",
    "output_evaluation_zip_path = f'{out_path}docking/{step_idx}/caprieval.zip'\n",
    "wf_caprieval               = f'{out_path}docking/{step_idx}/wf_caprieval.zip'\n",
    "\n",
    "capri_eval(input_haddock_wf_data_zip  = wf_rigidbody,\n",
    "           reference_pdb_path         = ref_pdb_clean,\n",
    "           output_evaluation_zip_path = output_evaluation_zip_path,\n",
    "           output_haddock_wf_data_zip = wf_caprieval,\n",
    "           properties                 = def_dict())"
   ]
  },
  {
   "cell_type": "markdown",
   "id": "90347350",
   "metadata": {},
   "source": [
    "### Select Top structures"
   ]
  },
  {
   "cell_type": "code",
   "execution_count": 35,
   "id": "9a1687ea",
   "metadata": {
    "scrolled": true
   },
   "outputs": [
    {
     "data": {
      "text/plain": [
       "0"
      ]
     },
     "execution_count": 35,
     "metadata": {},
     "output_type": "execute_result"
    }
   ],
   "source": [
    "from biobb_haddock.haddock.sele_top import sele_top\n",
    "\n",
    "properties={\n",
    "    'cfg': {\n",
    "        'select': 3,\n",
    "    }\n",
    "}\n",
    "\n",
    "step_idx = 3\n",
    "output_selection_zip_path = f'{out_path}docking/{step_idx}/selected.zip'\n",
    "wf_seletop                = f'{out_path}docking/{step_idx}/wf_seletop.zip'\n",
    "\n",
    "sele_top(input_haddock_wf_data_zip  = wf_caprieval,\n",
    "         output_selection_zip_path  = output_selection_zip_path,\n",
    "         output_haddock_wf_data_zip = wf_seletop,\n",
    "         properties                 = def_dict(properties))"
   ]
  },
  {
   "cell_type": "markdown",
   "id": "6a8b2457",
   "metadata": {},
   "source": [
    "### 2nd CAPRI evalutation"
   ]
  },
  {
   "cell_type": "code",
   "execution_count": 37,
   "id": "c957cbbe",
   "metadata": {},
   "outputs": [
    {
     "data": {
      "text/plain": [
       "0"
      ]
     },
     "execution_count": 37,
     "metadata": {},
     "output_type": "execute_result"
    }
   ],
   "source": [
    "from biobb_haddock.haddock.capri_eval import capri_eval\n",
    "\n",
    "step_idx = 4\n",
    "output_evaluation_zip_path2 = f'{out_path}docking/{step_idx}/caprieval2.zip'\n",
    "wf_caprieval2               = f'{out_path}docking/{step_idx}/wf_caprieval2.zip'\n",
    "\n",
    "capri_eval(input_haddock_wf_data_zip  = wf_seletop,\n",
    "           reference_pdb_path         = ref_pdb_clean,\n",
    "           output_evaluation_zip_path = output_evaluation_zip_path2,\n",
    "           output_haddock_wf_data_zip = wf_caprieval2,\n",
    "           properties                 = def_dict())"
   ]
  },
  {
   "cell_type": "markdown",
   "id": "d3d2cc5e",
   "metadata": {},
   "source": [
    "### Flexible Refinement"
   ]
  },
  {
   "cell_type": "code",
   "execution_count": 40,
   "id": "b9a21c9f",
   "metadata": {
    "scrolled": true
   },
   "outputs": [
    {
     "data": {
      "text/plain": [
       "0"
      ]
     },
     "execution_count": 40,
     "metadata": {},
     "output_type": "execute_result"
    }
   ],
   "source": [
    "from biobb_haddock.haddock.flex_ref import flex_ref\n",
    "\n",
    "step_idx = 5\n",
    "refinement_output_zip_path = f'{out_path}docking/{step_idx}/flexref.zip'\n",
    "wf_flexref                 = f'{out_path}docking/{step_idx}/wf_flexref.zip'\n",
    "\n",
    "flex_ref(input_haddock_wf_data_zip     = wf_caprieval2,\n",
    "         refinement_output_zip_path    = refinement_output_zip_path,\n",
    "         ambig_restraints_table_path   = complex_tbl,\n",
    "         unambig_restraints_table_path = body_tbl,\n",
    "         output_haddock_wf_data_zip    = wf_flexref,\n",
    "         properties                    = def_dict())"
   ]
  },
  {
   "cell_type": "markdown",
   "id": "9b644fae",
   "metadata": {},
   "source": [
    "### 3nd CAPRI evalutation"
   ]
  },
  {
   "cell_type": "code",
   "execution_count": 41,
   "id": "1a1b14c7",
   "metadata": {
    "scrolled": true
   },
   "outputs": [
    {
     "data": {
      "text/plain": [
       "0"
      ]
     },
     "execution_count": 41,
     "metadata": {},
     "output_type": "execute_result"
    }
   ],
   "source": [
    "from biobb_haddock.haddock.capri_eval import capri_eval\n",
    "\n",
    "step_idx = 6\n",
    "output_evaluation_zip_path3 = f'{out_path}docking/{step_idx}/caprieval3.zip'\n",
    "wf_caprieval3               = f'{out_path}docking/{step_idx}/wf_caprieval3.zip'\n",
    "\n",
    "capri_eval(input_haddock_wf_data_zip  = wf_flexref,\n",
    "           reference_pdb_path         = ref_pdb_clean,\n",
    "           output_evaluation_zip_path = output_evaluation_zip_path3,\n",
    "           output_haddock_wf_data_zip = wf_caprieval3,\n",
    "           properties                 = def_dict())"
   ]
  },
  {
   "cell_type": "markdown",
   "id": "b4653cf4",
   "metadata": {},
   "source": [
    "### Energy Minimization Refinement"
   ]
  },
  {
   "cell_type": "code",
   "execution_count": 42,
   "id": "9b8e17ff",
   "metadata": {
    "scrolled": true
   },
   "outputs": [
    {
     "data": {
      "text/plain": [
       "0"
      ]
     },
     "execution_count": 42,
     "metadata": {},
     "output_type": "execute_result"
    }
   ],
   "source": [
    "from biobb_haddock.haddock.em_ref import em_ref\n",
    "\n",
    "step_idx = 7\n",
    "refinement_output_zip_path = f'{out_path}docking/{step_idx}/emref.zip'\n",
    "wf_emref                   = f'{out_path}docking/{step_idx}/wf_emref.zip'\n",
    "\n",
    "em_ref(input_haddock_wf_data_zip  = wf_caprieval3,\n",
    "       refinement_output_zip_path = refinement_output_zip_path,\n",
    "       ambig_restraints_table_path   = complex_tbl,\n",
    "       unambig_restraints_table_path = body_tbl,\n",
    "       output_haddock_wf_data_zip = wf_emref,\n",
    "       properties                 = def_dict())"
   ]
  },
  {
   "cell_type": "markdown",
   "id": "7fe0f0b9",
   "metadata": {},
   "source": [
    "### 4rd CAPRI evaluation"
   ]
  },
  {
   "cell_type": "code",
   "execution_count": 43,
   "id": "3ec423fa",
   "metadata": {},
   "outputs": [
    {
     "data": {
      "text/plain": [
       "0"
      ]
     },
     "execution_count": 43,
     "metadata": {},
     "output_type": "execute_result"
    }
   ],
   "source": [
    "from biobb_haddock.haddock.capri_eval import capri_eval\n",
    "\n",
    "step_idx = 8\n",
    "output_evaluation_zip_path4 = f'{out_path}docking/{step_idx}/caprieval4.zip'\n",
    "wf_caprieval4               = f'{out_path}docking/{step_idx}/wf_caprieval4.zip'\n",
    "\n",
    "capri_eval(input_haddock_wf_data_zip  = wf_emref,\n",
    "           reference_pdb_path         = ref_pdb_clean,\n",
    "           output_evaluation_zip_path = output_evaluation_zip_path4,\n",
    "           output_haddock_wf_data_zip = wf_caprieval4,\n",
    "           properties                 = def_dict())"
   ]
  },
  {
   "cell_type": "markdown",
   "id": "3604cb39",
   "metadata": {},
   "source": [
    "### Clustering using FCC"
   ]
  },
  {
   "cell_type": "code",
   "execution_count": 44,
   "id": "cb142845",
   "metadata": {},
   "outputs": [
    {
     "data": {
      "text/plain": [
       "0"
      ]
     },
     "execution_count": 44,
     "metadata": {},
     "output_type": "execute_result"
    }
   ],
   "source": [
    "from biobb_haddock.haddock.clust_fcc import clust_fcc\n",
    "\n",
    "step_idx = 9\n",
    "output_cluster_zip_path = f'{out_path}docking/{step_idx}/clustfcc.zip'\n",
    "wf_clustfcc             = f'{out_path}docking/{step_idx}/wf_clustfcc.zip'\n",
    "\n",
    "clust_fcc(input_haddock_wf_data_zip = wf_caprieval4,\n",
    "         output_cluster_zip_path    = output_cluster_zip_path,\n",
    "         output_haddock_wf_data_zip = wf_clustfcc,\n",
    "         properties                 = def_dict())"
   ]
  },
  {
   "cell_type": "markdown",
   "id": "f08ef792-efaf-4f1d-9e63-a9514bb5cf34",
   "metadata": {},
   "source": [
    "### Selecting top clusters"
   ]
  },
  {
   "cell_type": "code",
   "execution_count": null,
   "id": "b1ceaaeb-3242-4f99-889c-12e0aa02716c",
   "metadata": {
    "scrolled": true
   },
   "outputs": [
    {
     "data": {
      "text/plain": [
       "0"
      ]
     },
     "execution_count": 45,
     "metadata": {},
     "output_type": "execute_result"
    }
   ],
   "source": [
    "from biobb_haddock.haddock.sele_top_clusts import sele_top_clusts\n",
    "\n",
    "properties={\n",
    "    'cfg': {\n",
    "        'top_models': 4,\n",
    "    },\n",
    "}\n",
    "\n",
    "step_idx = 10\n",
    "output_seletopclusts_zip_path = f'{out_path}docking/{step_idx}/seletopclusts.zip'\n",
    "wf_seletopclusts              = f'{out_path}docking/{step_idx}/wf_seletopclusts.zip'\n",
    "\n",
    "sele_top_clusts(input_haddock_wf_data_zip  = wf_clustfcc,\n",
    "                output_selection_zip_path  = output_seletopclusts_zip_path,\n",
    "                output_haddock_wf_data_zip = wf_seletopclusts,\n",
    "                properties                 = def_dict(properties))"
   ]
  },
  {
   "cell_type": "markdown",
   "id": "cde7a881-4b5e-4f16-ba5d-c1fe79cb1988",
   "metadata": {},
   "source": [
    "### 5th CAPRI evaluation"
   ]
  },
  {
   "cell_type": "code",
   "execution_count": 53,
   "id": "c6300eda",
   "metadata": {},
   "outputs": [
    {
     "data": {
      "text/plain": [
       "0"
      ]
     },
     "execution_count": 53,
     "metadata": {},
     "output_type": "execute_result"
    }
   ],
   "source": [
    "from biobb_haddock.haddock.capri_eval import capri_eval\n",
    "\n",
    "step_idx = 11\n",
    "output_evaluation_zip_path5 = f'{out_path}docking/{step_idx}/caprieval5.zip'\n",
    "wf_caprieval5               = f'{out_path}docking/{step_idx}/wf_caprieval5.zip'\n",
    "\n",
    "capri_eval(input_haddock_wf_data_zip  = wf_seletopclusts,\n",
    "           reference_pdb_path         = ref_pdb_clean,\n",
    "           output_evaluation_zip_path = output_evaluation_zip_path5,\n",
    "           output_haddock_wf_data_zip = wf_caprieval5,\n",
    "           properties                 = def_dict())"
   ]
  },
  {
   "cell_type": "markdown",
   "id": "8f3be778",
   "metadata": {},
   "source": [
    "### Contacts analysis"
   ]
  },
  {
   "cell_type": "code",
   "execution_count": 54,
   "id": "f68101af",
   "metadata": {},
   "outputs": [
    {
     "data": {
      "text/plain": [
       "0"
      ]
     },
     "execution_count": 54,
     "metadata": {},
     "output_type": "execute_result"
    }
   ],
   "source": [
    "from biobb_haddock.haddock.contact_map import contact_map\n",
    "\n",
    "step_idx = 12\n",
    "output_contactmap_zip_path = f'{out_path}docking/{step_idx}/contact_map.zip'\n",
    "wf_contact_map             = f'{out_path}docking/{step_idx}/wf_contact_map.zip'\n",
    "\n",
    "contact_map(input_haddock_wf_data_zip  = wf_caprieval5,\n",
    "            output_contactmap_zip_path = output_contactmap_zip_path,\n",
    "            output_haddock_wf_data_zip = wf_contact_map,\n",
    "            properties                 = def_dict())"
   ]
  },
  {
   "cell_type": "markdown",
   "id": "72b123a7",
   "metadata": {},
   "source": [
    "## Results"
   ]
  },
  {
   "cell_type": "code",
   "execution_count": 5,
   "id": "c9dc1d36",
   "metadata": {},
   "outputs": [],
   "source": [
    "step_idx = 11"
   ]
  },
  {
   "cell_type": "code",
   "execution_count": 6,
   "id": "8a3304ff",
   "metadata": {},
   "outputs": [],
   "source": [
    "output_evaluation_zip_path5 = f'{out_path}/{step_idx}/caprieval5.zip'\n",
    "wf_caprieval5 = f'{out_path}/{step_idx}/wf_caprieval5.zip'"
   ]
  },
  {
   "cell_type": "code",
   "execution_count": 7,
   "id": "da6bd32f",
   "metadata": {},
   "outputs": [],
   "source": [
    "import zipfile\n",
    "\n",
    "# Unzip wf_caprieval5\n",
    "with zipfile.ZipFile(wf_caprieval5, 'r') as zip_ref:\n",
    "    zip_ref.extractall(out_path+'/final_results')"
   ]
  },
  {
   "cell_type": "code",
   "execution_count": 8,
   "id": "ee275df1",
   "metadata": {},
   "outputs": [],
   "source": [
    "import os\n",
    "import subprocess\n",
    "\n",
    "# Change directory to the final results folder\n",
    "os.chdir(out_path + '/final_results')"
   ]
  },
  {
   "cell_type": "code",
   "execution_count": 13,
   "id": "e2df7080",
   "metadata": {},
   "outputs": [
    {
     "ename": "NameError",
     "evalue": "name 'subprocess' is not defined",
     "output_type": "error",
     "traceback": [
      "\u001b[0;31m---------------------------------------------------------------------------\u001b[0m",
      "\u001b[0;31mNameError\u001b[0m                                 Traceback (most recent call last)",
      "Cell \u001b[0;32mIn[13], line 2\u001b[0m\n\u001b[1;32m      1\u001b[0m \u001b[38;5;66;03m# Start the HTTP server and store the process\u001b[39;00m\n\u001b[0;32m----> 2\u001b[0m http_server_process \u001b[38;5;241m=\u001b[39m \u001b[43msubprocess\u001b[49m\u001b[38;5;241m.\u001b[39mPopen([\u001b[38;5;124m'\u001b[39m\u001b[38;5;124mpython3\u001b[39m\u001b[38;5;124m'\u001b[39m, \u001b[38;5;124m'\u001b[39m\u001b[38;5;124m-m\u001b[39m\u001b[38;5;124m'\u001b[39m, \u001b[38;5;124m'\u001b[39m\u001b[38;5;124mhttp.server\u001b[39m\u001b[38;5;124m'\u001b[39m, \u001b[38;5;124m'\u001b[39m\u001b[38;5;124m8000\u001b[39m\u001b[38;5;124m'\u001b[39m])\n\u001b[1;32m      4\u001b[0m \u001b[38;5;66;03m# Function to stop the server when needed\u001b[39;00m\n\u001b[1;32m      5\u001b[0m \u001b[38;5;28;01mdef\u001b[39;00m\u001b[38;5;250m \u001b[39m\u001b[38;5;21mstop_http_server\u001b[39m():\n",
      "\u001b[0;31mNameError\u001b[0m: name 'subprocess' is not defined"
     ]
    }
   ],
   "source": [
    "# Start the HTTP server and store the process\n",
    "http_server_process = subprocess.Popen(['python3', '-m', 'http.server', '8000'])\n",
    "\n",
    "# Function to stop the server when needed\n",
    "def stop_http_server():\n",
    "    http_server_process.terminate()\n",
    "    http_server_process.wait()\n",
    "    print(\"HTTP server stopped.\")"
   ]
  },
  {
   "cell_type": "code",
   "execution_count": 11,
   "id": "43e06312",
   "metadata": {},
   "outputs": [
    {
     "name": "stdout",
     "output_type": "stream",
     "text": [
      "HTTP server stopped.\n"
     ]
    }
   ],
   "source": [
    "stop_http_server()"
   ]
  },
  {
   "cell_type": "code",
   "execution_count": 10,
   "id": "0ef4f80e",
   "metadata": {},
   "outputs": [
    {
     "data": {
      "text/html": [
       "\n",
       "<iframe src=\"http://0.0.0.0:8000/analysis/11_caprieval_analysis/report.html\" width=\"90%\" height=\"600\" style=\"border:none;\">\n",
       "    Your browser does not support iframes.\n",
       "</iframe>\n"
      ],
      "text/plain": [
       "<IPython.core.display.HTML object>"
      ]
     },
     "metadata": {},
     "output_type": "display_data"
    },
    {
     "name": "stderr",
     "output_type": "stream",
     "text": [
      "127.0.0.1 - - [04/Apr/2025 16:22:53] \"GET /analysis/11_caprieval_analysis/report.html HTTP/1.1\" 200 -\n",
      "127.0.0.1 - - [04/Apr/2025 16:23:31] \"GET /10_seletopclusts/cluster_1_model_4.pdb.gz HTTP/1.1\" 200 -\n",
      "127.0.0.1 - - [04/Apr/2025 16:25:05] \"GET /10_seletopclusts/cluster_1_model_2.pdb.gz HTTP/1.1\" 200 -\n"
     ]
    }
   ],
   "source": [
    "from IPython.core.display import HTML\n",
    "\n",
    "# Embed an external website using an iframe\n",
    "iframe_html = \"\"\"\n",
    "<iframe src=\"http://0.0.0.0:8000/analysis/11_caprieval_analysis/report.html\" width=\"90%\" height=\"600\" style=\"border:none;\">\n",
    "    Your browser does not support iframes.\n",
    "</iframe>\n",
    "\"\"\"\n",
    "display(HTML(iframe_html))"
   ]
  },
  {
   "cell_type": "markdown",
   "id": "e2bd4c62",
   "metadata": {},
   "source": [
    "# Barnase-Barstar protein complex"
   ]
  },
  {
   "cell_type": "code",
   "execution_count": 2,
   "id": "ef33a50f",
   "metadata": {},
   "outputs": [],
   "source": [
    "# Barnase-Barstar protein complex\n",
    "# From Chen, R., Mintseris, J., Janin, J. and Weng, Z. (2003)\n",
    "# A protein–protein docking benchmark. \n",
    "# Proteins, 52: 88-91. https://doi-org.sire.ub.edu/10.1002/prot.10390\n",
    "barnase_id = \"1A2P\"\n",
    "barnase_ch = \"B\"\n",
    "barstar_id = \"1A19\"\n",
    "barstar_ch = \"A\"\n",
    "complex_id = \"1BRS\" # barnase_barstar_complex\n",
    "complex_ch = \"A,D\"\n",
    "out_path = 'data/barnase_barstar/'"
   ]
  },
  {
   "cell_type": "markdown",
   "id": "5f4f0ed2",
   "metadata": {},
   "source": [
    "## Prepare pdbs"
   ]
  },
  {
   "cell_type": "code",
   "execution_count": 8,
   "id": "c1284be6",
   "metadata": {},
   "outputs": [
    {
     "data": {
      "text/plain": [
       "0"
      ]
     },
     "execution_count": 8,
     "metadata": {},
     "output_type": "execute_result"
    }
   ],
   "source": [
    "# Downloading desired PDB files\n",
    "# Import module\n",
    "from biobb_io.api.pdb import pdb\n",
    "\n",
    "# Create properties dict and inputs/outputs\n",
    "barnase_pdb = f'{out_path}{barnase_id}.pdb'\n",
    "barstar_pdb = f'{out_path}{barstar_id}.pdb'\n",
    "complex_pdb = f'{out_path}{complex_id}.pdb'\n",
    "\n",
    "# Create and launch bb\n",
    "pdb(output_pdb_path=barnase_pdb, properties=def_dict({'pdb_code': barnase_id}))\n",
    "pdb(output_pdb_path=barstar_pdb, properties=def_dict({'pdb_code': barstar_id}))\n",
    "pdb(output_pdb_path=complex_pdb, properties=def_dict({'pdb_code': complex_id}))"
   ]
  },
  {
   "cell_type": "code",
   "execution_count": 33,
   "id": "0b3dbc69",
   "metadata": {},
   "outputs": [
    {
     "data": {
      "application/vnd.jupyter.widget-view+json": {
       "model_id": "33f02f199e51472dbf683037a51080f0",
       "version_major": 2,
       "version_minor": 0
      },
      "text/plain": [
       "HBox(children=(NGLWidget(layout=Layout(width='100%')), NGLWidget(layout=Layout(width='100%')), NGLWidget(layou…"
      ]
     },
     "execution_count": 33,
     "metadata": {},
     "output_type": "execute_result"
    }
   ],
   "source": [
    "# These are the pdbs we get from RCSB\n",
    "show_pdbs([barnase_pdb, barstar_pdb, complex_pdb])"
   ]
  },
  {
   "cell_type": "code",
   "execution_count": 9,
   "id": "38081557",
   "metadata": {},
   "outputs": [
    {
     "name": "stdout",
     "output_type": "stream",
     "text": [
      "\n",
      "cmd_wrapper commnand print: pdb_selchain -B /home/rchaves/repo/ab_design/biobb_wf_haddock/sandbox_8e05ce18-713e-47fc-a976-a04052729ed7/1A2P.pdb > ./data/barnase_barstar/1A2P_ch.pdb\n",
      "Executing: pdb_selchain -B /home/rchaves/repo/ab_design/biobb_wf_haddock/sandbox_8e05ce18-7...\n",
      "Exit code: 0\n",
      "\n",
      "\n",
      "cmd_wrapper commnand print: pdb_selchain -A /home/rchaves/repo/ab_design/biobb_wf_haddock/sandbox_c1250fc6-6c55-4f76-bcbd-4ebca48708b3/1A19.pdb > ./data/barnase_barstar/1A19_ch.pdb\n",
      "Executing: pdb_selchain -A /home/rchaves/repo/ab_design/biobb_wf_haddock/sandbox_c1250fc6-6...\n",
      "Exit code: 0\n",
      "\n",
      "\n",
      "cmd_wrapper commnand print: pdb_selchain -A,D /home/rchaves/repo/ab_design/biobb_wf_haddock/sandbox_93703370-0e31-4cab-ac71-c980ecc64590/1BRS.pdb > ./data/barnase_barstar/1BRS_ch.pdb\n",
      "Executing: pdb_selchain -A,D /home/rchaves/repo/ab_design/biobb_wf_haddock/sandbox_93703370...\n",
      "Exit code: 0\n",
      "\n"
     ]
    },
    {
     "data": {
      "text/plain": [
       "0"
      ]
     },
     "execution_count": 9,
     "metadata": {},
     "output_type": "execute_result"
    }
   ],
   "source": [
    "# Filtering specific chains: we need to get rid of repeated chains\n",
    "from biobb_pdb_tools.pdb_tools.biobb_pdb_selchain import biobb_pdb_selchain\n",
    "\n",
    "# Create properties dict and inputs/outputs\n",
    "barnase_pdb_ch = f'{out_path}{barnase_id}_ch.pdb'\n",
    "barstar_pdb_ch = f'{out_path}{barstar_id}_ch.pdb'\n",
    "complex_pdb_ch = f'{out_path}{complex_id}_ch.pdb'\n",
    "\n",
    "# # Create and launch bb\n",
    "biobb_pdb_selchain(input_file_path  = barnase_pdb,\n",
    "                   output_file_path = barnase_pdb_ch,\n",
    "                   properties       = def_dict({'chains': barnase_ch}))\n",
    "\n",
    "biobb_pdb_selchain(input_file_path  = barstar_pdb,\n",
    "                   output_file_path = barstar_pdb_ch,\n",
    "                   properties       = def_dict({'chains': barstar_ch}))\n",
    "\n",
    "biobb_pdb_selchain(input_file_path  = complex_pdb,\n",
    "                   output_file_path = complex_pdb_ch,\n",
    "                   properties       = def_dict({'chains': complex_ch}))"
   ]
  },
  {
   "cell_type": "code",
   "execution_count": 35,
   "id": "9938bb02",
   "metadata": {},
   "outputs": [
    {
     "data": {
      "application/vnd.jupyter.widget-view+json": {
       "model_id": "edbf9f42666946038d29238ee101c9f7",
       "version_major": 2,
       "version_minor": 0
      },
      "text/plain": [
       "HBox(children=(NGLWidget(layout=Layout(width='100%')), NGLWidget(layout=Layout(width='100%')), NGLWidget(layou…"
      ]
     },
     "execution_count": 35,
     "metadata": {},
     "output_type": "execute_result"
    }
   ],
   "source": [
    "# On a real case we don't have the reference to know how the proteins bind each other\n",
    "# What information can use to guide the process?\n",
    "show_pdbs([barnase_pdb_ch, barstar_pdb_ch, complex_pdb_ch])"
   ]
  },
  {
   "cell_type": "markdown",
   "id": "64c69646",
   "metadata": {},
   "source": [
    "## Prepare AIRs"
   ]
  },
  {
   "cell_type": "code",
   "execution_count": 92,
   "id": "13c57d4a",
   "metadata": {},
   "outputs": [
    {
     "name": "stdout",
     "output_type": "stream",
     "text": [
      "\n",
      "cmd_wrapper commnand print: haddock3-restraints calc_accessibility /home/rchaves/repo/ab_design/biobb_wf_haddock/sandbox_069cd347-4593-402d-ad43-4281ac6db7cf/1A2P_ch.pdb --export_to_actpass -c 0.3 &> /home/rchaves/repo/ab_design/biobb_wf_haddock/sandbox_069cd347-4593-402d-ad43-4281ac6db7cf/1A2P_sasa_out.txt\n",
      "Executing: haddock3-restraints calc_accessibility /home/rchaves/repo/ab_design/biobb_wf_had...\n",
      "Exit code: 0\n",
      "\n",
      "\n",
      "cmd_wrapper commnand print: haddock3-restraints calc_accessibility /home/rchaves/repo/ab_design/biobb_wf_haddock/sandbox_31981aa4-f7d5-456f-b6fc-6416df9a9a91/1A19_ch.pdb --export_to_actpass -c 0.3 &> /home/rchaves/repo/ab_design/biobb_wf_haddock/sandbox_31981aa4-f7d5-456f-b6fc-6416df9a9a91/1A19_sasa_out.txt\n",
      "Executing: haddock3-restraints calc_accessibility /home/rchaves/repo/ab_design/biobb_wf_had...\n",
      "Exit code: 0\n",
      "\n"
     ]
    },
    {
     "data": {
      "text/plain": [
       "0"
      ]
     },
     "execution_count": 92,
     "metadata": {},
     "output_type": "execute_result"
    }
   ],
   "source": [
    "# Solvent accessibility: \n",
    "from biobb_haddock.haddock_restraints.haddock3_accessibility import haddock3_accessibility\n",
    "\n",
    "# Create properties dict and inputs/outputs\n",
    "barnase_sasa_out = f'{out_path}{barnase_id}_sasa_out.txt'\n",
    "barstar_sasa_out = f'{out_path}{barstar_id}_sasa_out.txt'\n",
    "barnase_sasa_actpass = f'{out_path}{barnase_id}_sasa_actpass.txt'\n",
    "barstar_sasa_actpass = f'{out_path}{barstar_id}_sasa_actpass.txt'\n",
    "\n",
    "cutoff = 0.3\n",
    "# Barnase Chain\n",
    "haddock3_accessibility(\n",
    "        input_pdb_path            = barnase_pdb_ch,\n",
    "        output_accessibility_path = barnase_sasa_out,\n",
    "        output_actpass_path       = barnase_sasa_actpass,\n",
    "        properties                = def_dict({'chain': barnase_ch,\n",
    "                                              'cutoff': cutoff}))\n",
    "# Barstar Chain\n",
    "haddock3_accessibility(\n",
    "        input_pdb_path            = barstar_pdb_ch,\n",
    "        output_accessibility_path = barstar_sasa_out,\n",
    "        output_actpass_path       = barstar_sasa_actpass,\n",
    "        properties                = def_dict({'chain': barstar_ch,\n",
    "                                              'cutoff': cutoff}))"
   ]
  },
  {
   "cell_type": "code",
   "execution_count": null,
   "id": "a2d68edd",
   "metadata": {},
   "outputs": [
    {
     "data": {
      "application/vnd.jupyter.widget-view+json": {
       "model_id": "1e888ab67bd44af8a72068c4f68a9be1",
       "version_major": 2,
       "version_minor": 0
      },
      "text/plain": [
       "HBox(children=(NGLWidget(layout=Layout(width='100%')), NGLWidget(layout=Layout(width='100%'))))"
      ]
     },
     "execution_count": 38,
     "metadata": {},
     "output_type": "execute_result"
    }
   ],
   "source": [
    "\n",
    "\n",
    "# Careful! Pockets are good places to bind but have low accessibility\n",
    "view1 = display_actpass(barnase_pdb_ch, barnase_sasa_actpass)\n",
    "view2 = display_actpass(barstar_pdb_ch, barstar_sasa_actpass)\n",
    "ipywidgets.HBox([view1, view2])"
   ]
  },
  {
   "cell_type": "code",
   "execution_count": 39,
   "id": "5b761833",
   "metadata": {},
   "outputs": [
    {
     "data": {
      "application/vnd.jupyter.widget-view+json": {
       "model_id": "f5c97070c7a442618c21229f6c860735",
       "version_major": 2,
       "version_minor": 0
      },
      "text/plain": [
       "HBox(children=(NGLWidget(layout=Layout(width='100%')), NGLWidget(layout=Layout(width='100%'))))"
      ]
     },
     "execution_count": 39,
     "metadata": {},
     "output_type": "execute_result"
    }
   ],
   "source": [
    "# Electrostatic energies:\n",
    "# We see a postive charge in the binding site of barnase and a negative charge in the binding site of barstar\n",
    "show_pdbs([barnase_pdb_ch, barstar_pdb_ch],surface=True)"
   ]
  },
  {
   "cell_type": "code",
   "execution_count": null,
   "id": "c658b3e0",
   "metadata": {},
   "outputs": [
    {
     "name": "stdout",
     "output_type": "stream",
     "text": [
      "2025-05-05 12:55:23,211 [MainThread  ] [INFO ]  Module: biobb_haddock.haddock_restraints.haddock3_passive_from_active Version: 5.0.0\n",
      "2025-05-05 12:55:23,212 [MainThread  ] [INFO ]  /home/rchaves/repo/ab_design/biobb_wf_haddock/sandbox_81ddc4f2-3579-4329-b68d-d5d509769dbe directory successfully created\n",
      "2025-05-05 12:55:23,213 [MainThread  ] [INFO ]  Copy: ./data/barnase_barstar/1A2P_ch.pdb to /home/rchaves/repo/ab_design/biobb_wf_haddock/sandbox_81ddc4f2-3579-4329-b68d-d5d509769dbe\n",
      "2025-05-05 12:55:23,214 [MainThread  ] [INFO ]  haddock3-restraints passive_from_active /home/rchaves/repo/ab_design/biobb_wf_haddock/sandbox_81ddc4f2-3579-4329-b68d-d5d509769dbe/1A2P_ch.pdb 27,73,83,87 &> /home/rchaves/repo/ab_design/biobb_wf_haddock/sandbox_81ddc4f2-3579-4329-b68d-d5d509769dbe/1A2P_manual_actpass.txt\n",
      "\n",
      "2025-05-05 12:55:23,584 [MainThread  ] [INFO ]  Executing: haddock3-restraints passive_from_active /home/rchaves/repo/ab_design/biobb_wf_ha...\n",
      "2025-05-05 12:55:23,585 [MainThread  ] [INFO ]  Exit code: 0\n",
      "2025-05-05 12:55:23,587 [MainThread  ] [INFO ]  Removed: ['/home/rchaves/repo/ab_design/biobb_wf_haddock/sandbox_81ddc4f2-3579-4329-b68d-d5d509769dbe']\n",
      "2025-05-05 12:55:23,589 [MainThread  ] [INFO ]  Module: biobb_haddock.haddock_restraints.haddock3_passive_from_active Version: 5.0.0\n",
      "2025-05-05 12:55:23,590 [MainThread  ] [INFO ]  /home/rchaves/repo/ab_design/biobb_wf_haddock/sandbox_3995bc8b-3a40-4910-9488-b29ad70eb749 directory successfully created\n",
      "2025-05-05 12:55:23,590 [MainThread  ] [INFO ]  Copy: ./data/barnase_barstar/1A19_ch.pdb to /home/rchaves/repo/ab_design/biobb_wf_haddock/sandbox_3995bc8b-3a40-4910-9488-b29ad70eb749\n",
      "2025-05-05 12:55:23,591 [MainThread  ] [INFO ]  haddock3-restraints passive_from_active /home/rchaves/repo/ab_design/biobb_wf_haddock/sandbox_3995bc8b-3a40-4910-9488-b29ad70eb749/1A19_ch.pdb 33,35,39,43 &> /home/rchaves/repo/ab_design/biobb_wf_haddock/sandbox_3995bc8b-3a40-4910-9488-b29ad70eb749/1A19_manual_actpass.txt\n",
      "\n",
      "2025-05-05 12:55:23,946 [MainThread  ] [INFO ]  Executing: haddock3-restraints passive_from_active /home/rchaves/repo/ab_design/biobb_wf_ha...\n",
      "2025-05-05 12:55:23,947 [MainThread  ] [INFO ]  Exit code: 0\n",
      "2025-05-05 12:55:23,949 [MainThread  ] [INFO ]  Removed: ['/home/rchaves/repo/ab_design/biobb_wf_haddock/sandbox_3995bc8b-3a40-4910-9488-b29ad70eb749']\n"
     ]
    },
    {
     "data": {
      "text/plain": [
       "0"
      ]
     },
     "execution_count": 40,
     "metadata": {},
     "output_type": "execute_result"
    }
   ],
   "source": [
    "# Obtain passive from active selection\n",
    "from biobb_haddock.haddock_restraints.haddock3_passive_from_active import haddock3_passive_from_active\n",
    "\n",
    "barnase_pass2act = f'{out_path}{barnase_id}_manual_actpass.txt'\n",
    "barstar_pass2act = f'{out_path}{barstar_id}_manual_actpass.txt'\n",
    "\n",
    "haddock3_passive_from_active( \n",
    "    input_pdb_path      = barnase_pdb_ch,\n",
    "    output_actpass_path = barnase_pass2act,\n",
    "    properties          = def_dict({'active_list' : '27,73,83,87'})\n",
    ")\n",
    "\n",
    "haddock3_passive_from_active( \n",
    "    input_pdb_path      = barstar_pdb_ch,\n",
    "    output_actpass_path = barstar_pass2act,\n",
    "    properties          = def_dict({'active_list' : '33,35,39,43'})\n",
    ")"
   ]
  },
  {
   "cell_type": "code",
   "execution_count": 41,
   "id": "46aab9fd",
   "metadata": {},
   "outputs": [
    {
     "data": {
      "application/vnd.jupyter.widget-view+json": {
       "model_id": "362cb15da1d5449f9626c34cf452877c",
       "version_major": 2,
       "version_minor": 0
      },
      "text/plain": [
       "HBox(children=(NGLWidget(layout=Layout(width='100%')), NGLWidget(layout=Layout(width='100%'))))"
      ]
     },
     "execution_count": 41,
     "metadata": {},
     "output_type": "execute_result"
    }
   ],
   "source": [
    "view1 = display_actpass(barnase_pdb_ch, barnase_pass2act, opacity=0.3)\n",
    "view2 = display_actpass(barstar_pdb_ch, barstar_pass2act, opacity=0.3)\n",
    "ipywidgets.HBox([view1, view2])"
   ]
  },
  {
   "cell_type": "code",
   "execution_count": null,
   "id": "40c6033a",
   "metadata": {},
   "outputs": [
    {
     "name": "stdout",
     "output_type": "stream",
     "text": [
      "\n",
      "cmd_wrapper commnand print: haddock3-restraints active_passive_to_ambig /home/rchaves/repo/ab_design/biobb_wf_haddock/sandbox_bd0c7188-d83a-4a48-b955-6428566e9585/1A2P_sasa_actpass.txt /home/rchaves/repo/ab_design/biobb_wf_haddock/sandbox_bd0c7188-d83a-4a48-b955-6428566e9585/1A19_sasa_actpass.txt --segid-one B --segid-two A &> /home/rchaves/repo/ab_design/biobb_wf_haddock/sandbox_bd0c7188-d83a-4a48-b955-6428566e9585/barnase_barstar_sasa.tbl\n",
      "Executing: haddock3-restraints active_passive_to_ambig /home/rchaves/repo/ab_design/biobb_w...\n",
      "Exit code: 0\n",
      "\n",
      "\n",
      "cmd_wrapper commnand print: haddock3-restraints active_passive_to_ambig /home/rchaves/repo/ab_design/biobb_wf_haddock/sandbox_3dda8207-10ba-4cc6-bd07-85841b9f6ac5/1A2P_manual_actpass.txt /home/rchaves/repo/ab_design/biobb_wf_haddock/sandbox_3dda8207-10ba-4cc6-bd07-85841b9f6ac5/1A19_manual_actpass.txt --segid-one B --segid-two A &> /home/rchaves/repo/ab_design/biobb_wf_haddock/sandbox_3dda8207-10ba-4cc6-bd07-85841b9f6ac5/barnase_barstar_manual.tbl\n",
      "Executing: haddock3-restraints active_passive_to_ambig /home/rchaves/repo/ab_design/biobb_w...\n",
      "Exit code: 0\n",
      "\n"
     ]
    },
    {
     "data": {
      "text/plain": [
       "0"
      ]
     },
     "execution_count": 93,
     "metadata": {},
     "output_type": "execute_result"
    }
   ],
   "source": [
    "# Convert active/passive to ambiguous restraints\n",
    "from biobb_haddock.haddock_restraints.haddock3_actpass_to_ambig import haddock3_actpass_to_ambig\n",
    "\n",
    "# With SASA\n",
    "barnase_barstar_sasa_tbl = f'{out_path}barnase_barstar_sasa.tbl'\n",
    "haddock3_actpass_to_ambig( \n",
    "    input_actpass1_path = barnase_sasa_actpass,\n",
    "    input_actpass2_path = barstar_sasa_actpass,    \n",
    "    output_tbl_path     = barnase_barstar_sasa_tbl,\n",
    "    properties          = def_dict({'pass_to_act' : True,  # tbl need actives, we use the passive as active\n",
    "                                    'segid_one': barnase_ch, \n",
    "                                    'segid_two': barstar_ch}))\n",
    "\n",
    "# With manual active/passive\n",
    "barnase_barstar_manual_tbl = f'{out_path}barnase_barstar_manual.tbl'\n",
    "haddock3_actpass_to_ambig( \n",
    "    input_actpass1_path = barnase_pass2act,\n",
    "    input_actpass2_path = barstar_pass2act,    \n",
    "    output_tbl_path     = barnase_barstar_manual_tbl,\n",
    "    properties          = def_dict({'segid_one': barnase_ch,\n",
    "                                    'segid_two': barstar_ch}))\n",
    "\n",
    "# The restrain have the next format:\n",
    "# assign (selection1) (selection2) distance, lower-bound correction, upper-bound correction"
   ]
  },
  {
   "cell_type": "code",
   "execution_count": 45,
   "id": "16b3e559",
   "metadata": {},
   "outputs": [
    {
     "name": "stdout",
     "output_type": "stream",
     "text": [
      "[2025-05-05 12:57:16,112 cli_restraints INFO] [DEPRECATION NOTICE] This command will soon be replaced with `haddock-restraints`\n",
      "[2025-05-05 12:57:16,647 cli_restraints INFO] [DEPRECATION NOTICE] This command will soon be replaced with `haddock-restraints`\n"
     ]
    }
   ],
   "source": [
    "# Validate tbl\n",
    "!haddock3-restraints validate_tbl {barnase_barstar_sasa_tbl} --silent\n",
    "!haddock3-restraints validate_tbl {barnase_barstar_manual_tbl} --silent"
   ]
  },
  {
   "cell_type": "markdown",
   "id": "53ca348c",
   "metadata": {},
   "source": [
    "## Docking"
   ]
  },
  {
   "cell_type": "markdown",
   "id": "083f28de",
   "metadata": {},
   "source": [
    "### 0. Topology"
   ]
  },
  {
   "cell_type": "code",
   "execution_count": 99,
   "id": "de15e97d",
   "metadata": {},
   "outputs": [
    {
     "name": "stdout",
     "output_type": "stream",
     "text": [
      "CFG: tolerance\n",
      "CFG: 0\n",
      "\n",
      "cmd_wrapper commnand print: haddock3 30475695-abd9-4bd3-8eda-76c878e6f144/haddock.cfg\n",
      "Executing: haddock3 30475695-abd9-4bd3-8eda-76c878e6f144/haddock.cfg...\n",
      "Exit code: 0\n",
      "\n"
     ]
    },
    {
     "data": {
      "text/plain": [
       "0"
      ]
     },
     "execution_count": 99,
     "metadata": {},
     "output_type": "execute_result"
    }
   ],
   "source": [
    "from biobb_haddock.haddock.topology import topology\n",
    "\n",
    "properties=def_dict({\n",
    "    'cfg': {\n",
    "        'tolerance': 0,\n",
    "    },\n",
    "})\n",
    "\n",
    "step_idx = 0\n",
    "barnase_top_zip_path = f'{out_path}{step_idx}/barnase_top.zip'\n",
    "barstar_top_zip_path = f'{out_path}{step_idx}/barstar_top.zip'\n",
    "wf_topology          = f'{out_path}{step_idx}/wf_topology.zip'\n",
    "\n",
    "topology(mol1_input_pdb_path        = barnase_pdb_ch,\n",
    "         mol2_input_pdb_path        = barstar_pdb_ch,\n",
    "         mol1_output_top_zip_path   = barnase_top_zip_path,\n",
    "         mol2_output_top_zip_path   = barstar_top_zip_path,\n",
    "         output_haddock_wf_data_zip = wf_topology,\n",
    "         properties                 = properties)"
   ]
  },
  {
   "cell_type": "markdown",
   "id": "223db566",
   "metadata": {},
   "source": [
    "### 1. Rigid body docking"
   ]
  },
  {
   "cell_type": "code",
   "execution_count": null,
   "id": "5cd2d632",
   "metadata": {},
   "outputs": [],
   "source": [
    "from biobb_haddock.haddock.rigid_body import rigid_body\n",
    "\n",
    "properties=def_dict({\n",
    "    'cfg': {\n",
    "        'tolerance': 5,\n",
    "        'sampling': 100,\n",
    "        # turn on random definiton of AIRs\n",
    "        'ranair': False\n",
    "    },\n",
    "})\n",
    "\n",
    "step_idx = 1\n",
    "docking_output_zip_path = f'{out_path}{step_idx}/docking.zip'\n",
    "wf_rigidbody            = f'{out_path}{step_idx}/wf_rigidbody.zip'\n",
    "\n",
    "rigid_body(input_haddock_wf_data_zip   = wf_topology,\n",
    "           docking_output_zip_path     = docking_output_zip_path,\n",
    "           ambig_restraints_table_path = barnase_barstar_manual_tbl,\n",
    "           output_haddock_wf_data_zip  = wf_rigidbody,\n",
    "           properties                  = properties)"
   ]
  },
  {
   "cell_type": "code",
   "execution_count": 4,
   "id": "86c17622",
   "metadata": {},
   "outputs": [],
   "source": [
    "folder = docking_output_zip_path[:-4]\n",
    "if os.path.exists(folder):\n",
    "    shutil.rmtree(folder)\n",
    "if not os.path.exists(folder):\n",
    "    os.makedirs(folder)\n",
    "\n",
    "with zipfile.ZipFile(docking_output_zip_path, 'r') as zip_ref:\n",
    "    zip_ref.extractall(folder)"
   ]
  },
  {
   "cell_type": "code",
   "execution_count": 5,
   "id": "b795e74b",
   "metadata": {},
   "outputs": [],
   "source": [
    "import pytraj as pt\n",
    "import glob\n",
    "\n",
    "pdb_dir = \"data/barnase_barstar/1/docking/\"\n",
    "pdb_files = sorted(glob.glob(f\"{pdb_dir}/*.pdb.gz\"))\n",
    "def show_aligned(chain):\n",
    "    # Get all PDB files and sort them\n",
    "    # Create a trajectory from the PDB files\n",
    "    traj = pt.iterload(pdb_files, top=pdb_files[0])\n",
    "    # Save the trajectory\n",
    "    # pt.write_traj(f\"{pdb_dir}/combined_{chain}_aligned.dcd\", traj, overwrite=True)\n",
    "    pt.align(traj, ref=0, mask=f'::{chain}')\n",
    "    traj.save(f\"{pdb_dir}/combined_{chain}_aligned_clust.pdb\", options=\"model\", overwrite=True)\n",
    "    view = nv.show_pytraj(traj)\n",
    "    view.layout.width = '100%'\n",
    "    return view"
   ]
  },
  {
   "cell_type": "code",
   "execution_count": 6,
   "id": "28a0e0c9",
   "metadata": {},
   "outputs": [
    {
     "data": {
      "application/vnd.jupyter.widget-view+json": {
       "model_id": "471afed209614139b12470c6c05239c8",
       "version_major": 2,
       "version_minor": 0
      },
      "text/plain": [
       "HBox(children=(NGLWidget(layout=Layout(width='100%'), max_frame=99), NGLWidget(layout=Layout(width='100%'), ma…"
      ]
     },
     "execution_count": 6,
     "metadata": {},
     "output_type": "execute_result"
    }
   ],
   "source": [
    "view1 = show_aligned('B') # barnase\n",
    "view2 = show_aligned('A') # barstar\n",
    "\n",
    "# Display the viewer\n",
    "ipywidgets.HBox([view1, view2])"
   ]
  },
  {
   "cell_type": "code",
   "execution_count": 54,
   "id": "4863cc3a",
   "metadata": {},
   "outputs": [
    {
     "data": {
      "application/vnd.jupyter.widget-view+json": {
       "model_id": "9a20eb1d979b4010a4a1186f6373a77d",
       "version_major": 2,
       "version_minor": 0
      },
      "text/plain": [
       "HBox(children=(NGLWidget(layout=Layout(width='100%')), NGLWidget(layout=Layout(width='100%'))))"
      ]
     },
     "metadata": {},
     "output_type": "display_data"
    },
    {
     "data": {
      "application/vnd.jupyter.widget-view+json": {
       "model_id": "b44a518f1adb4250b3869e345ab35493",
       "version_major": 2,
       "version_minor": 0
      },
      "text/plain": [
       "Dropdown(description='Sel. model:', options=('All', 'rigidbody_1', 'rigidbody_10', 'rigidbody_100', 'rigidbody…"
      ]
     },
     "metadata": {},
     "output_type": "display_data"
    }
   ],
   "source": [
    "view1 = nv.show_structure_file(f\"{pdb_dir}/combined_A_aligned_clust.pdb\", default_representation=False)\n",
    "view2 = nv.show_structure_file(f\"{pdb_dir}/combined_B_aligned_clust.pdb\", default_representation=False)\n",
    "view1.add_ribbon(color='chainIndex')\n",
    "view2.add_ribbon(color='chainIndex')\n",
    "view1.layout.width = '100%'\n",
    "view2.layout.width = '100%'\n",
    "# Display the viewer\n",
    "box = ipywidgets.HBox([view1, view2])\n",
    "display(box)\n",
    "# Create a dropdown widget\n",
    "opts = ['All']\n",
    "opts.extend([pdb_file.split('/')[-1].split('.')[0] for pdb_file in pdb_files])\n",
    "mdsel = ipywidgets.Dropdown(\n",
    "    options=opts,\n",
    "    description='Sel. model:',\n",
    "    disabled=False,\n",
    ")\n",
    "display(mdsel)\n",
    "\n",
    "def on_dropdown_change(change):\n",
    "    \"\"\"Handle dropdown selection changes.\n",
    "    From https://github.com/nglviewer/nglview/issues/765\n",
    "    \"\"\"\n",
    "    if change['type'] == 'change' and change['name'] == 'value': \n",
    "        selected_file = change['new']\n",
    "        if selected_file=='All':\n",
    "            view1._remote_call('setSelection', target='compList', args=[\"*\"], \n",
    "               kwargs=dict(component_index=0))\n",
    "            view2._remote_call('setSelection', target='compList', args=[\"*\"], \n",
    "               kwargs=dict(component_index=0))\n",
    "        else:\n",
    "            # Extract model number from the filename\n",
    "            model_num = selected_file.split('_')[1]\n",
    "            print(f\"Selected model: {model_num}\")\n",
    "            # Update the view with the selected model\n",
    "            view1._remote_call('setSelection', target='compList', \n",
    "                            args=[f\"/{model_num}\"], \n",
    "                            kwargs=dict(component_index=0))\n",
    "            # You can also update view2 if needed\n",
    "            view2._remote_call('setSelection', target='compList', \n",
    "                            args=[f\"/{model_num}\"], \n",
    "                            kwargs=dict(component_index=0))\n",
    "\n",
    "# Register the callback function\n",
    "mdsel.observe(on_dropdown_change, names='value')"
   ]
  },
  {
   "cell_type": "markdown",
   "id": "d1987bad",
   "metadata": {},
   "source": [
    "### 2. CAPRI eval"
   ]
  },
  {
   "cell_type": "code",
   "execution_count": null,
   "id": "fe766d42",
   "metadata": {},
   "outputs": [],
   "source": [
    "from biobb_haddock.haddock.capri_eval import capri_eval\n",
    "\n",
    "output_evaluation_zip_path = f'{out_path}2/caprieval.zip'\n",
    "wf_caprieval               = f'{out_path}2/wf_caprieval.zip'\n",
    "\n",
    "capri_eval(input_haddock_wf_data_zip  = wf_rigidbody,\n",
    "           reference_pdb_path         = complex_pdb_ch,\n",
    "           output_evaluation_zip_path = output_evaluation_zip_path,\n",
    "           output_haddock_wf_data_zip = wf_caprieval,\n",
    "           properties = def_dict())"
   ]
  },
  {
   "cell_type": "code",
   "execution_count": 31,
   "id": "ee712a19",
   "metadata": {},
   "outputs": [
    {
     "name": "stdout",
     "output_type": "stream",
     "text": [
      "Serving HTTP on 0.0.0.0 port 8000 (http://0.0.0.0:8000/) ...\n",
      "127.0.0.1 - - [05/May/2025 15:02:04] \"GET /data/barnase_barstar/2/wf_caprieval/analysis/2_caprieval_analysis/report.html HTTP/1.1\" 200 -\n",
      "\n",
      "Keyboard interrupt received, exiting.\n",
      "^C\n"
     ]
    }
   ],
   "source": [
    "with zipfile.ZipFile(wf_caprieval, 'r') as zip_ref:\n",
    "    zip_ref.extractall(wf_caprieval[:-4])\n",
    "    \n",
    "webbrowser.open(f\"http://0.0.0.0:8000/{wf_caprieval[:-4]}/analysis/2_caprieval_analysis/report.html\")\n",
    "!python3 -m http.server"
   ]
  },
  {
   "cell_type": "code",
   "execution_count": 33,
   "id": "eec024af",
   "metadata": {},
   "outputs": [
    {
     "data": {
      "text/html": [
       "<div>\n",
       "<style scoped>\n",
       "    .dataframe tbody tr th:only-of-type {\n",
       "        vertical-align: middle;\n",
       "    }\n",
       "\n",
       "    .dataframe tbody tr th {\n",
       "        vertical-align: top;\n",
       "    }\n",
       "\n",
       "    .dataframe thead th {\n",
       "        text-align: right;\n",
       "    }\n",
       "</style>\n",
       "<table border=\"1\" class=\"dataframe\">\n",
       "  <thead>\n",
       "    <tr style=\"text-align: right;\">\n",
       "      <th></th>\n",
       "      <th>model</th>\n",
       "      <th>md5</th>\n",
       "      <th>caprieval_rank</th>\n",
       "      <th>score</th>\n",
       "      <th>irmsd</th>\n",
       "      <th>fnat</th>\n",
       "      <th>lrmsd</th>\n",
       "      <th>ilrmsd</th>\n",
       "      <th>dockq</th>\n",
       "      <th>rmsd</th>\n",
       "      <th>...</th>\n",
       "      <th>dihe</th>\n",
       "      <th>elec</th>\n",
       "      <th>improper</th>\n",
       "      <th>rdcs</th>\n",
       "      <th>rg</th>\n",
       "      <th>sym</th>\n",
       "      <th>total</th>\n",
       "      <th>vdw</th>\n",
       "      <th>vean</th>\n",
       "      <th>xpcs</th>\n",
       "    </tr>\n",
       "  </thead>\n",
       "  <tbody>\n",
       "    <tr>\n",
       "      <th>0</th>\n",
       "      <td>../1_rigidbody/rigidbody_21.pdb</td>\n",
       "      <td>-</td>\n",
       "      <td>1</td>\n",
       "      <td>-35.399</td>\n",
       "      <td>10.500</td>\n",
       "      <td>0.073</td>\n",
       "      <td>17.720</td>\n",
       "      <td>17.460</td>\n",
       "      <td>0.093</td>\n",
       "      <td>10.437</td>\n",
       "      <td>...</td>\n",
       "      <td>0.0</td>\n",
       "      <td>-5.081</td>\n",
       "      <td>0.0</td>\n",
       "      <td>0.0</td>\n",
       "      <td>0.0</td>\n",
       "      <td>0.0</td>\n",
       "      <td>138.927</td>\n",
       "      <td>-27.074</td>\n",
       "      <td>0.0</td>\n",
       "      <td>0.0</td>\n",
       "    </tr>\n",
       "    <tr>\n",
       "      <th>1</th>\n",
       "      <td>../1_rigidbody/rigidbody_32.pdb</td>\n",
       "      <td>-</td>\n",
       "      <td>2</td>\n",
       "      <td>-32.402</td>\n",
       "      <td>9.090</td>\n",
       "      <td>0.036</td>\n",
       "      <td>16.234</td>\n",
       "      <td>15.139</td>\n",
       "      <td>0.093</td>\n",
       "      <td>9.466</td>\n",
       "      <td>...</td>\n",
       "      <td>0.0</td>\n",
       "      <td>-6.379</td>\n",
       "      <td>0.0</td>\n",
       "      <td>0.0</td>\n",
       "      <td>0.0</td>\n",
       "      <td>0.0</td>\n",
       "      <td>38.012</td>\n",
       "      <td>-17.737</td>\n",
       "      <td>0.0</td>\n",
       "      <td>0.0</td>\n",
       "    </tr>\n",
       "    <tr>\n",
       "      <th>2</th>\n",
       "      <td>../1_rigidbody/rigidbody_23.pdb</td>\n",
       "      <td>-</td>\n",
       "      <td>3</td>\n",
       "      <td>-31.626</td>\n",
       "      <td>12.408</td>\n",
       "      <td>0.036</td>\n",
       "      <td>19.163</td>\n",
       "      <td>18.927</td>\n",
       "      <td>0.072</td>\n",
       "      <td>11.838</td>\n",
       "      <td>...</td>\n",
       "      <td>0.0</td>\n",
       "      <td>-3.388</td>\n",
       "      <td>0.0</td>\n",
       "      <td>0.0</td>\n",
       "      <td>0.0</td>\n",
       "      <td>0.0</td>\n",
       "      <td>-1.722</td>\n",
       "      <td>-25.743</td>\n",
       "      <td>0.0</td>\n",
       "      <td>0.0</td>\n",
       "    </tr>\n",
       "    <tr>\n",
       "      <th>3</th>\n",
       "      <td>../1_rigidbody/rigidbody_39.pdb</td>\n",
       "      <td>-</td>\n",
       "      <td>4</td>\n",
       "      <td>-30.608</td>\n",
       "      <td>12.285</td>\n",
       "      <td>0.073</td>\n",
       "      <td>18.308</td>\n",
       "      <td>18.422</td>\n",
       "      <td>0.088</td>\n",
       "      <td>11.766</td>\n",
       "      <td>...</td>\n",
       "      <td>0.0</td>\n",
       "      <td>-4.807</td>\n",
       "      <td>0.0</td>\n",
       "      <td>0.0</td>\n",
       "      <td>0.0</td>\n",
       "      <td>0.0</td>\n",
       "      <td>35.006</td>\n",
       "      <td>-33.078</td>\n",
       "      <td>0.0</td>\n",
       "      <td>0.0</td>\n",
       "    </tr>\n",
       "    <tr>\n",
       "      <th>4</th>\n",
       "      <td>../1_rigidbody/rigidbody_92.pdb</td>\n",
       "      <td>-</td>\n",
       "      <td>5</td>\n",
       "      <td>-30.260</td>\n",
       "      <td>1.698</td>\n",
       "      <td>0.382</td>\n",
       "      <td>5.985</td>\n",
       "      <td>4.938</td>\n",
       "      <td>0.496</td>\n",
       "      <td>1.644</td>\n",
       "      <td>...</td>\n",
       "      <td>0.0</td>\n",
       "      <td>-3.119</td>\n",
       "      <td>0.0</td>\n",
       "      <td>0.0</td>\n",
       "      <td>0.0</td>\n",
       "      <td>0.0</td>\n",
       "      <td>-22.287</td>\n",
       "      <td>-41.086</td>\n",
       "      <td>0.0</td>\n",
       "      <td>0.0</td>\n",
       "    </tr>\n",
       "  </tbody>\n",
       "</table>\n",
       "<p>5 rows × 31 columns</p>\n",
       "</div>"
      ],
      "text/plain": [
       "                             model md5  caprieval_rank   score   irmsd   fnat  \\\n",
       "0  ../1_rigidbody/rigidbody_21.pdb   -               1 -35.399  10.500  0.073   \n",
       "1  ../1_rigidbody/rigidbody_32.pdb   -               2 -32.402   9.090  0.036   \n",
       "2  ../1_rigidbody/rigidbody_23.pdb   -               3 -31.626  12.408  0.036   \n",
       "3  ../1_rigidbody/rigidbody_39.pdb   -               4 -30.608  12.285  0.073   \n",
       "4  ../1_rigidbody/rigidbody_92.pdb   -               5 -30.260   1.698  0.382   \n",
       "\n",
       "    lrmsd  ilrmsd  dockq    rmsd  ... dihe   elec improper  rdcs   rg  sym  \\\n",
       "0  17.720  17.460  0.093  10.437  ...  0.0 -5.081      0.0   0.0  0.0  0.0   \n",
       "1  16.234  15.139  0.093   9.466  ...  0.0 -6.379      0.0   0.0  0.0  0.0   \n",
       "2  19.163  18.927  0.072  11.838  ...  0.0 -3.388      0.0   0.0  0.0  0.0   \n",
       "3  18.308  18.422  0.088  11.766  ...  0.0 -4.807      0.0   0.0  0.0  0.0   \n",
       "4   5.985   4.938  0.496   1.644  ...  0.0 -3.119      0.0   0.0  0.0  0.0   \n",
       "\n",
       "     total     vdw  vean  xpcs  \n",
       "0  138.927 -27.074   0.0   0.0  \n",
       "1   38.012 -17.737   0.0   0.0  \n",
       "2   -1.722 -25.743   0.0   0.0  \n",
       "3   35.006 -33.078   0.0   0.0  \n",
       "4  -22.287 -41.086   0.0   0.0  \n",
       "\n",
       "[5 rows x 31 columns]"
      ]
     },
     "metadata": {},
     "output_type": "display_data"
    },
    {
     "data": {
      "text/html": [
       "<div>\n",
       "<style scoped>\n",
       "    .dataframe tbody tr th:only-of-type {\n",
       "        vertical-align: middle;\n",
       "    }\n",
       "\n",
       "    .dataframe tbody tr th {\n",
       "        vertical-align: top;\n",
       "    }\n",
       "\n",
       "    .dataframe thead th {\n",
       "        text-align: right;\n",
       "    }\n",
       "</style>\n",
       "<table border=\"1\" class=\"dataframe\">\n",
       "  <thead>\n",
       "    <tr style=\"text-align: right;\">\n",
       "      <th></th>\n",
       "      <th>model</th>\n",
       "      <th>md5</th>\n",
       "      <th>caprieval_rank</th>\n",
       "      <th>score</th>\n",
       "      <th>irmsd</th>\n",
       "      <th>fnat</th>\n",
       "      <th>lrmsd</th>\n",
       "      <th>ilrmsd</th>\n",
       "      <th>dockq</th>\n",
       "      <th>rmsd</th>\n",
       "      <th>...</th>\n",
       "      <th>dihe</th>\n",
       "      <th>elec</th>\n",
       "      <th>improper</th>\n",
       "      <th>rdcs</th>\n",
       "      <th>rg</th>\n",
       "      <th>sym</th>\n",
       "      <th>total</th>\n",
       "      <th>vdw</th>\n",
       "      <th>vean</th>\n",
       "      <th>xpcs</th>\n",
       "    </tr>\n",
       "  </thead>\n",
       "  <tbody>\n",
       "    <tr>\n",
       "      <th>9</th>\n",
       "      <td>../1_rigidbody/rigidbody_14.pdb</td>\n",
       "      <td>-</td>\n",
       "      <td>10</td>\n",
       "      <td>-29.587</td>\n",
       "      <td>1.667</td>\n",
       "      <td>0.436</td>\n",
       "      <td>3.353</td>\n",
       "      <td>3.362</td>\n",
       "      <td>0.583</td>\n",
       "      <td>1.550</td>\n",
       "      <td>...</td>\n",
       "      <td>0.0</td>\n",
       "      <td>-3.629</td>\n",
       "      <td>0.0</td>\n",
       "      <td>0.0</td>\n",
       "      <td>0.0</td>\n",
       "      <td>0.0</td>\n",
       "      <td>62.121</td>\n",
       "      <td>-20.308</td>\n",
       "      <td>0.0</td>\n",
       "      <td>0.0</td>\n",
       "    </tr>\n",
       "    <tr>\n",
       "      <th>23</th>\n",
       "      <td>../1_rigidbody/rigidbody_69.pdb</td>\n",
       "      <td>-</td>\n",
       "      <td>24</td>\n",
       "      <td>-22.066</td>\n",
       "      <td>1.720</td>\n",
       "      <td>0.436</td>\n",
       "      <td>3.285</td>\n",
       "      <td>3.021</td>\n",
       "      <td>0.579</td>\n",
       "      <td>1.724</td>\n",
       "      <td>...</td>\n",
       "      <td>0.0</td>\n",
       "      <td>-1.703</td>\n",
       "      <td>0.0</td>\n",
       "      <td>0.0</td>\n",
       "      <td>0.0</td>\n",
       "      <td>0.0</td>\n",
       "      <td>19.948</td>\n",
       "      <td>-13.323</td>\n",
       "      <td>0.0</td>\n",
       "      <td>0.0</td>\n",
       "    </tr>\n",
       "    <tr>\n",
       "      <th>4</th>\n",
       "      <td>../1_rigidbody/rigidbody_92.pdb</td>\n",
       "      <td>-</td>\n",
       "      <td>5</td>\n",
       "      <td>-30.260</td>\n",
       "      <td>1.698</td>\n",
       "      <td>0.382</td>\n",
       "      <td>5.985</td>\n",
       "      <td>4.938</td>\n",
       "      <td>0.496</td>\n",
       "      <td>1.644</td>\n",
       "      <td>...</td>\n",
       "      <td>0.0</td>\n",
       "      <td>-3.119</td>\n",
       "      <td>0.0</td>\n",
       "      <td>0.0</td>\n",
       "      <td>0.0</td>\n",
       "      <td>0.0</td>\n",
       "      <td>-22.287</td>\n",
       "      <td>-41.086</td>\n",
       "      <td>0.0</td>\n",
       "      <td>0.0</td>\n",
       "    </tr>\n",
       "    <tr>\n",
       "      <th>7</th>\n",
       "      <td>../1_rigidbody/rigidbody_79.pdb</td>\n",
       "      <td>-</td>\n",
       "      <td>8</td>\n",
       "      <td>-29.777</td>\n",
       "      <td>1.760</td>\n",
       "      <td>0.382</td>\n",
       "      <td>6.202</td>\n",
       "      <td>5.176</td>\n",
       "      <td>0.485</td>\n",
       "      <td>1.690</td>\n",
       "      <td>...</td>\n",
       "      <td>0.0</td>\n",
       "      <td>-3.389</td>\n",
       "      <td>0.0</td>\n",
       "      <td>0.0</td>\n",
       "      <td>0.0</td>\n",
       "      <td>0.0</td>\n",
       "      <td>-31.637</td>\n",
       "      <td>-39.426</td>\n",
       "      <td>0.0</td>\n",
       "      <td>0.0</td>\n",
       "    </tr>\n",
       "    <tr>\n",
       "      <th>55</th>\n",
       "      <td>../1_rigidbody/rigidbody_70.pdb</td>\n",
       "      <td>-</td>\n",
       "      <td>56</td>\n",
       "      <td>-16.968</td>\n",
       "      <td>2.086</td>\n",
       "      <td>0.382</td>\n",
       "      <td>6.881</td>\n",
       "      <td>5.319</td>\n",
       "      <td>0.442</td>\n",
       "      <td>2.176</td>\n",
       "      <td>...</td>\n",
       "      <td>0.0</td>\n",
       "      <td>-2.606</td>\n",
       "      <td>0.0</td>\n",
       "      <td>0.0</td>\n",
       "      <td>0.0</td>\n",
       "      <td>0.0</td>\n",
       "      <td>-28.916</td>\n",
       "      <td>-29.317</td>\n",
       "      <td>0.0</td>\n",
       "      <td>0.0</td>\n",
       "    </tr>\n",
       "  </tbody>\n",
       "</table>\n",
       "<p>5 rows × 31 columns</p>\n",
       "</div>"
      ],
      "text/plain": [
       "                              model md5  caprieval_rank   score  irmsd   fnat  \\\n",
       "9   ../1_rigidbody/rigidbody_14.pdb   -              10 -29.587  1.667  0.436   \n",
       "23  ../1_rigidbody/rigidbody_69.pdb   -              24 -22.066  1.720  0.436   \n",
       "4   ../1_rigidbody/rigidbody_92.pdb   -               5 -30.260  1.698  0.382   \n",
       "7   ../1_rigidbody/rigidbody_79.pdb   -               8 -29.777  1.760  0.382   \n",
       "55  ../1_rigidbody/rigidbody_70.pdb   -              56 -16.968  2.086  0.382   \n",
       "\n",
       "    lrmsd  ilrmsd  dockq   rmsd  ... dihe   elec improper  rdcs   rg  sym  \\\n",
       "9   3.353   3.362  0.583  1.550  ...  0.0 -3.629      0.0   0.0  0.0  0.0   \n",
       "23  3.285   3.021  0.579  1.724  ...  0.0 -1.703      0.0   0.0  0.0  0.0   \n",
       "4   5.985   4.938  0.496  1.644  ...  0.0 -3.119      0.0   0.0  0.0  0.0   \n",
       "7   6.202   5.176  0.485  1.690  ...  0.0 -3.389      0.0   0.0  0.0  0.0   \n",
       "55  6.881   5.319  0.442  2.176  ...  0.0 -2.606      0.0   0.0  0.0  0.0   \n",
       "\n",
       "     total     vdw  vean  xpcs  \n",
       "9   62.121 -20.308   0.0   0.0  \n",
       "23  19.948 -13.323   0.0   0.0  \n",
       "4  -22.287 -41.086   0.0   0.0  \n",
       "7  -31.637 -39.426   0.0   0.0  \n",
       "55 -28.916 -29.317   0.0   0.0  \n",
       "\n",
       "[5 rows x 31 columns]"
      ]
     },
     "metadata": {},
     "output_type": "display_data"
    },
    {
     "data": {
      "text/html": [
       "<div>\n",
       "<style scoped>\n",
       "    .dataframe tbody tr th:only-of-type {\n",
       "        vertical-align: middle;\n",
       "    }\n",
       "\n",
       "    .dataframe tbody tr th {\n",
       "        vertical-align: top;\n",
       "    }\n",
       "\n",
       "    .dataframe thead th {\n",
       "        text-align: right;\n",
       "    }\n",
       "</style>\n",
       "<table border=\"1\" class=\"dataframe\">\n",
       "  <thead>\n",
       "    <tr style=\"text-align: right;\">\n",
       "      <th></th>\n",
       "      <th>cluster_rank</th>\n",
       "      <th>cluster_id</th>\n",
       "      <th>n</th>\n",
       "      <th>under_eval</th>\n",
       "      <th>score</th>\n",
       "      <th>score_std</th>\n",
       "      <th>irmsd</th>\n",
       "      <th>irmsd_std</th>\n",
       "      <th>fnat</th>\n",
       "      <th>fnat_std</th>\n",
       "      <th>...</th>\n",
       "      <th>bsa_std</th>\n",
       "      <th>desolv</th>\n",
       "      <th>desolv_std</th>\n",
       "      <th>elec</th>\n",
       "      <th>elec_std</th>\n",
       "      <th>total</th>\n",
       "      <th>total_std</th>\n",
       "      <th>vdw</th>\n",
       "      <th>vdw_std</th>\n",
       "      <th>caprieval_rank</th>\n",
       "    </tr>\n",
       "  </thead>\n",
       "  <tbody>\n",
       "    <tr>\n",
       "      <th>0</th>\n",
       "      <td>-</td>\n",
       "      <td>-</td>\n",
       "      <td>100</td>\n",
       "      <td>-</td>\n",
       "      <td>-32.509</td>\n",
       "      <td>1.786</td>\n",
       "      <td>11.071</td>\n",
       "      <td>1.37</td>\n",
       "      <td>0.055</td>\n",
       "      <td>0.018</td>\n",
       "      <td>...</td>\n",
       "      <td>106.215</td>\n",
       "      <td>-16.186</td>\n",
       "      <td>1.825</td>\n",
       "      <td>-4.914</td>\n",
       "      <td>1.062</td>\n",
       "      <td>52.556</td>\n",
       "      <td>52.263</td>\n",
       "      <td>-25.908</td>\n",
       "      <td>5.467</td>\n",
       "      <td>1</td>\n",
       "    </tr>\n",
       "  </tbody>\n",
       "</table>\n",
       "<p>1 rows × 31 columns</p>\n",
       "</div>"
      ],
      "text/plain": [
       "  cluster_rank cluster_id    n under_eval   score  score_std   irmsd  \\\n",
       "0            -          -  100          - -32.509      1.786  11.071   \n",
       "\n",
       "   irmsd_std   fnat  fnat_std  ...  bsa_std  desolv  desolv_std   elec  \\\n",
       "0       1.37  0.055     0.018  ...  106.215 -16.186       1.825 -4.914   \n",
       "\n",
       "   elec_std   total  total_std     vdw  vdw_std  caprieval_rank  \n",
       "0     1.062  52.556     52.263 -25.908    5.467               1  \n",
       "\n",
       "[1 rows x 31 columns]"
      ]
     },
     "metadata": {},
     "output_type": "display_data"
    }
   ],
   "source": [
    "import pandas as pd\n",
    "\n",
    "tsv_dir = wf_caprieval[:-4]+'/2_caprieval/'\n",
    "# Load the cluster and single data into pandas DataFrames\n",
    "cluster_df = pd.read_csv(tsv_dir + 'capri_clt.tsv', sep='\\t',comment='#')\n",
    "single_df = pd.read_csv(tsv_dir + 'capri_ss.tsv', sep='\\t',comment='#')\n",
    "\n",
    "# DockQ: incorrect (<0.23), acceptable (0.23-0.49), medium (0.49-0.80), and high (>=0.80) \n",
    "display(single_df.head())\n",
    "single_df = single_df.sort_values(by='dockq', ascending=False)\n",
    "display(single_df.head())\n",
    "display(cluster_df.head())"
   ]
  },
  {
   "cell_type": "code",
   "execution_count": 35,
   "id": "731cbf5c",
   "metadata": {},
   "outputs": [],
   "source": [
    "import gzip\n",
    "import shutil\n",
    "best_pdb = os.path.normpath(os.path.join(tsv_dir, single_df['model'][0]))\n",
    "# Decompress the .gz file\n",
    "with gzip.open(best_pdb + '.gz', 'rb') as f_in:\n",
    "    with open(best_pdb, 'wb') as f_out:\n",
    "        shutil.copyfileobj(f_in, f_out)"
   ]
  },
  {
   "cell_type": "code",
   "execution_count": 36,
   "id": "5eefb7f7",
   "metadata": {},
   "outputs": [
    {
     "data": {
      "application/vnd.jupyter.widget-view+json": {
       "model_id": "6db35e2c8b574747a9520e7093b8a86c",
       "version_major": 2,
       "version_minor": 0
      },
      "text/plain": [
       "HBox(children=(NGLWidget(layout=Layout(width='100%')), NGLWidget(layout=Layout(width='100%'))))"
      ]
     },
     "execution_count": 36,
     "metadata": {},
     "output_type": "execute_result"
    }
   ],
   "source": [
    "show_pdbs([best_pdb, complex_pdb_ch])"
   ]
  },
  {
   "cell_type": "code",
   "execution_count": 37,
   "id": "cd974ec9",
   "metadata": {},
   "outputs": [],
   "source": [
    "# the reference and the input proteins have diferent number of residues/atoms, \n",
    "# so a fit based on rmsd like pytraj does fails\n",
    "\n",
    "# # TODO: meter en structure utils\n",
    "from Bio.PDB import PDBParser, PDBIO\n",
    "from Bio.PDB.cealign import CEAligner\n",
    "\n",
    "# Parse the structures\n",
    "parser = PDBParser(QUIET=True)\n",
    "structure1 = parser.get_structure(\"complex_pdb_ch\", complex_pdb_ch)\n",
    "structure2 = parser.get_structure(\"best_pdb\", best_pdb)\n",
    "    \n",
    "# Perform CE alignment\n",
    "aligner = CEAligner()\n",
    "aligner.set_reference(structure1)\n",
    "aligner.align(structure2)\n",
    "\n",
    "# Save structure2 to a PDB file\n",
    "output_pdb_path = f\"{out_path}aligned_structure2.pdb\"\n",
    "io = PDBIO()\n",
    "io.set_structure(structure2)\n",
    "io.save(output_pdb_path)"
   ]
  },
  {
   "cell_type": "code",
   "execution_count": 38,
   "id": "c63cc0c3",
   "metadata": {},
   "outputs": [
    {
     "data": {
      "application/vnd.jupyter.widget-view+json": {
       "model_id": "2dc39fc6d40f42eda0a9a627b5250a3b",
       "version_major": 2,
       "version_minor": 0
      },
      "text/plain": [
       "NGLWidget()"
      ]
     },
     "metadata": {},
     "output_type": "display_data"
    }
   ],
   "source": [
    "view = nv.show_structure_file(output_pdb_path)\n",
    "view.add_component(complex_pdb_ch)\n",
    "view.clear()\n",
    "view.component_0.add_cartoon(selection=f':{barnase_ch}', color='red')\n",
    "view.component_0.add_cartoon(selection=f':{barstar_ch}', color='pink')\n",
    "view.component_1.clear()\n",
    "view.component_1.add_cartoon(selection=f':{complex_ch[0]}', color='blue')\n",
    "view.component_1.add_cartoon(selection=f':{complex_ch[-1]}', color='cyan')\n",
    "view"
   ]
  },
  {
   "cell_type": "markdown",
   "id": "2a10727a",
   "metadata": {},
   "source": [
    "### 3. Extend docking"
   ]
  },
  {
   "cell_type": "code",
   "execution_count": 18,
   "id": "f73e8d83",
   "metadata": {},
   "outputs": [],
   "source": [
    "# Files are relative to the input_haddock_wf_data_zip\n",
    "cfg =\"\"\"\n",
    "[seletop]\n",
    "select = 25\n",
    "\n",
    "[caprieval]\n",
    "reference_fname = \"./data/2_caprieval/1BRS_ch.pdb\"\n",
    "\n",
    "[flexref]\n",
    "tolerance = 5\n",
    "ambig_fname = \"./data/1_rigidbody/barnase_barstar_manual.tbl\"\n",
    "\n",
    "[caprieval]\n",
    "reference_fname = \"./data/2_caprieval/1BRS_ch.pdb\"\n",
    "\n",
    "[emref]\n",
    "tolerance = 5\n",
    "ambig_fname = \"./data/1_rigidbody/barnase_barstar_manual.tbl\"\n",
    "\n",
    "[caprieval]\n",
    "reference_fname = \"./data/2_caprieval/1BRS_ch.pdb\"\n",
    "# ====================================================================\n",
    "\"\"\"\n",
    "haddock_config_path        = f'{out_path}docking-barnase-barstar.cfg'\n",
    "\n",
    "with open(haddock_config_path, 'w') as config_file:\n",
    "    config_file.write(cfg)"
   ]
  },
  {
   "cell_type": "code",
   "execution_count": 19,
   "id": "ea83ce5f",
   "metadata": {},
   "outputs": [
    {
     "name": "stdout",
     "output_type": "stream",
     "text": [
      "2025-05-05 16:00:28,818 [MainThread  ] [INFO ]  Module: biobb_haddock.haddock.haddock3_extend Version: 5.0.0\n",
      "2025-05-05 16:00:28,819 [MainThread  ] [INFO ]  /home/rchaves/repo/ab_design/biobb_wf_haddock/sandbox_c72059a1-3c48-4835-9154-0217837ba52f directory successfully created\n",
      "2025-05-05 16:00:28,824 [MainThread  ] [INFO ]  Copy: data/barnase_barstar/2/wf_caprieval.zip to /home/rchaves/repo/ab_design/biobb_wf_haddock/sandbox_c72059a1-3c48-4835-9154-0217837ba52f\n",
      "2025-05-05 16:00:28,825 [MainThread  ] [INFO ]  Copy: data/barnase_barstar/docking-barnase-barstar.cfg to /home/rchaves/repo/ab_design/biobb_wf_haddock/sandbox_c72059a1-3c48-4835-9154-0217837ba52f\n"
     ]
    },
    {
     "name": "stdout",
     "output_type": "stream",
     "text": [
      "2025-05-05 16:00:28,878 [MainThread  ] [INFO ]  haddock3 /home/rchaves/repo/ab_design/biobb_wf_haddock/sandbox_c72059a1-3c48-4835-9154-0217837ba52f/docking-barnase-barstar.cfg --extend-run /home/rchaves/repo/ab_design/biobb_wf_haddock/sandbox_c72059a1-3c48-4835-9154-0217837ba52f/7d79ee1d-9ae4-43fd-b2b3-37f8187cbfb0\n",
      "\n",
      "2025-05-05 16:03:28,376 [MainThread  ] [INFO ]  Executing: haddock3 /home/rchaves/repo/ab_design/biobb_wf_haddock/sandbox_c72059a1-3c48-483...\n",
      "2025-05-05 16:03:28,377 [MainThread  ] [INFO ]  Exit code: 0\n",
      "2025-05-05 16:03:28,378 [MainThread  ] [INFO ]  [2025-05-05 16:00:29,420 cli INFO] \n",
      "##############################################\n",
      "#                                            #\n",
      "#                 HADDOCK3                   #\n",
      "#                                            #\n",
      "##############################################\n",
      "\n",
      "!! Some of the HADDOCK3 components use CNS (Crystallographic and NMR System) which is free of use for non-profit applications. !!\n",
      "!! For commercial use it is your own responsibility to have a proper license. !!\n",
      "!! For details refer to the DISCLAIMER file in the HADDOCK3 repository. !!\n",
      "\n",
      "Starting HADDOCK3 v2024.10.0b7 on 2025-05-05 16:00:00\n",
      "\n",
      "Python 3.9.21 | packaged by conda-forge | (main, Dec  5 2024, 13:51:40) \n",
      "[GCC 13.3.0]\n",
      "\n",
      "[2025-05-05 16:00:29,431 prepare_run INFO] Uncompressing previous output files for folders: 0_topoaa, 1_rigidbody, 2_caprieval\n",
      "[2025-05-05 16:00:32,278 libworkflow INFO] Reading instructions step 3_seletop\n",
      "[2025-05-05 16:00:32,278 libworkflow INFO] Reading instructions step 4_caprieval\n",
      "[2025-05-05 16:00:32,278 libworkflow INFO] Reading instructions step 5_flexref\n",
      "[2025-05-05 16:00:32,278 libworkflow INFO] Reading instructions step 6_caprieval\n",
      "[2025-05-05 16:00:32,278 libworkflow INFO] Reading instructions step 7_emref\n",
      "[2025-05-05 16:00:32,279 libworkflow INFO] Reading instructions step 8_caprieval\n",
      "[2025-05-05 16:00:32,286 __init__ INFO] Running [seletop] module\n",
      "[2025-05-05 16:00:32,298 __init__ INFO] Module [seletop] finished.\n",
      "[2025-05-05 16:00:32,298 __init__ INFO] [seletop] took 0 seconds\n",
      "[2025-05-05 16:00:32,321 __init__ INFO] Running [caprieval] module\n",
      "[2025-05-05 16:00:32,321 capri INFO] Found previous CNS step: 1_rigidbody\n",
      "[2025-05-05 16:00:32,439 capri INFO] Saved scoring weights to: weights_params.json\n",
      "[2025-05-05 16:00:32,476 libutil INFO] Selected 4 cores to process 25 jobs, with 16 maximum available cores.\n",
      "[2025-05-05 16:00:32,476 libparallel INFO] Using 4 cores\n",
      "[2025-05-05 16:00:32,488 libalign INFO] model2ref chain matching is {'B': 'A', 'A': 'D'}\n",
      "[2025-05-05 16:00:32,494 libalign INFO] model2ref chain matching is {'B': 'A', 'A': 'D'}\n",
      "[2025-05-05 16:00:32,496 libalign INFO] model2ref chain matching is {'B': 'A', 'A': 'D'}\n",
      "[2025-05-05 16:00:32,498 libalign INFO] model2ref chain matching is {'B': 'A', 'A': 'D'}\n",
      "[2025-05-05 16:00:32,563 libalign INFO] model2ref chain matching is {'B': 'A', 'A': 'D'}\n",
      "[2025-05-05 16:00:32,567 libalign INFO] model2ref chain matching is {'B': 'A', 'A': 'D'}\n",
      "[2025-05-05 16:00:32,568 libalign INFO] model2ref chain matching is {'B': 'A', 'A': 'D'}\n",
      "[2025-05-05 16:00:32,568 libalign INFO] model2ref chain matching is {'B': 'A', 'A': 'D'}\n",
      "[2025-05-05 16:00:32,637 libalign INFO] model2ref chain matching is {'B': 'A', 'A': 'D'}\n",
      "[2025-05-05 16:00:32,637 libalign INFO] model2ref chain matching is {'B': 'A', 'A': 'D'}\n",
      "[2025-05-05 16:00:32,638 libalign INFO] model2ref chain matching is {'B': 'A', 'A': 'D'}\n",
      "[2025-05-05 16:00:32,644 libalign INFO] model2ref chain matching is {'B': 'A', 'A': 'D'}\n",
      "[2025-05-05 16:00:32,706 libalign INFO] model2ref chain matching is {'B': 'A', 'A': 'D'}\n",
      "[2025-05-05 16:00:32,707 libalign INFO] model2ref chain matching is {'B': 'A', 'A': 'D'}\n",
      "[2025-05-05 16:00:32,707 libalign INFO] model2ref chain matching is {'B': 'A', 'A': 'D'}\n",
      "[2025-05-05 16:00:32,713 libalign INFO] model2ref chain matching is {'B': 'A', 'A': 'D'}\n",
      "[2025-05-05 16:00:32,773 libalign INFO] model2ref chain matching is {'B': 'A', 'A': 'D'}\n",
      "[2025-05-05 16:00:32,775 libalign INFO] model2ref chain matching is {'B': 'A', 'A': 'D'}\n",
      "[2025-05-05 16:00:32,775 libalign INFO] model2ref chain matching is {'B': 'A', 'A': 'D'}\n",
      "[2025-05-05 16:00:32,840 libalign INFO] model2ref chain matching is {'B': 'A', 'A': 'D'}\n",
      "[2025-05-05 16:00:32,841 libalign INFO] model2ref chain matching is {'B': 'A', 'A': 'D'}\n",
      "[2025-05-05 16:00:32,844 libalign INFO] model2ref chain matching is {'B': 'A', 'A': 'D'}\n",
      "[2025-05-05 16:00:32,906 libalign INFO] model2ref chain matching is {'B': 'A', 'A': 'D'}\n",
      "[2025-05-05 16:00:32,906 libalign INFO] model2ref chain matching is {'B': 'A', 'A': 'D'}\n",
      "[2025-05-05 16:00:32,912 libalign INFO] model2ref chain matching is {'B': 'A', 'A': 'D'}\n",
      "[2025-05-05 16:00:32,977 libparallel INFO] 25 tasks finished\n",
      "[2025-05-05 16:00:32,977 capri INFO] Rearranging cluster information into capri_clt.tsv\n",
      "[2025-05-05 16:00:32,983 __init__ INFO] Module [caprieval] finished.\n",
      "[2025-05-05 16:00:32,983 __init__ INFO] [caprieval] took 1 seconds\n",
      "[2025-05-05 16:00:33,539 base_cns_module INFO] Running [flexref] module\n",
      "[2025-05-05 16:00:33,578 __init__ INFO] [flexref] Running CNS Jobs n=25\n",
      "[2025-05-05 16:00:33,578 libutil INFO] Selected 4 cores to process 25 jobs, with 16 maximum available cores.\n",
      "[2025-05-05 16:00:33,578 libparallel INFO] Using 4 cores\n",
      "[2025-05-05 16:03:09,470 libparallel INFO] 25 tasks finished\n",
      "[2025-05-05 16:03:09,471 __init__ INFO] [flexref] CNS jobs have finished\n",
      "[2025-05-05 16:03:09,485 base_cns_module INFO] Module [flexref] finished.\n",
      "[2025-05-05 16:03:09,485 __init__ INFO] [flexref] took 2 minutes and 36 seconds\n",
      "[2025-05-05 16:03:09,508 __init__ INFO] Running [caprieval] module\n",
      "[2025-05-05 16:03:09,509 capri INFO] Found previous CNS step: 5_flexref\n",
      "[2025-05-05 16:03:09,787 capri INFO] Saved scoring weights to: weights_params.json\n",
      "[2025-05-05 16:03:09,824 libutil INFO] Selected 4 cores to process 25 jobs, with 16 maximum available cores.\n",
      "[2025-05-05 16:03:09,824 libparallel INFO] Using 4 cores\n",
      "[2025-05-05 16:03:09,836 libalign INFO] model2ref chain matching is {'B': 'A', 'A': 'D'}\n",
      "[2025-05-05 16:03:09,839 libalign INFO] model2ref chain matching is {'B': 'A', 'A': 'D'}\n",
      "[2025-05-05 16:03:09,843 libalign INFO] model2ref chain matching is {'B': 'A', 'A': 'D'}\n",
      "[2025-05-05 16:03:09,848 libalign INFO] model2ref chain matching is {'B': 'A', 'A': 'D'}\n",
      "[2025-05-05 16:03:09,911 libalign INFO] model2ref chain matching is {'B': 'A', 'A': 'D'}\n",
      "[2025-05-05 16:03:09,915 libalign INFO] model2ref chain matching is {'B': 'A', 'A': 'D'}\n",
      "[2025-05-05 16:03:09,916 libalign INFO] model2ref chain matching is {'B': 'A', 'A': 'D'}\n",
      "[2025-05-05 16:03:09,924 libalign INFO] model2ref chain matching is {'B': 'A', 'A': 'D'}\n",
      "[2025-05-05 16:03:09,996 libalign INFO] model2ref chain matching is {'B': 'A', 'A': 'D'}\n",
      "[2025-05-05 16:03:10,006 libalign INFO] model2ref chain matching is {'B': 'A', 'A': 'D'}\n",
      "[2025-05-05 16:03:10,010 libalign INFO] model2ref chain matching is {'B': 'A', 'A': 'D'}\n",
      "[2025-05-05 16:03:10,015 libalign INFO] model2ref chain matching is {'B': 'A', 'A': 'D'}\n",
      "[2025-05-05 16:03:10,088 libalign INFO] model2ref chain matching is {'B': 'A', 'A': 'D'}\n",
      "[2025-05-05 16:03:10,090 libalign INFO] model2ref chain matching is {'B': 'A', 'A': 'D'}\n",
      "[2025-05-05 16:03:10,094 libalign INFO] model2ref chain matching is {'B': 'A', 'A': 'D'}\n",
      "[2025-05-05 16:03:10,099 libalign INFO] model2ref chain matching is {'B': 'A', 'A': 'D'}\n",
      "[2025-05-05 16:03:10,155 libalign INFO] model2ref chain matching is {'B': 'A', 'A': 'D'}\n",
      "[2025-05-05 16:03:10,158 libalign INFO] model2ref chain matching is {'B': 'A', 'A': 'D'}\n",
      "[2025-05-05 16:03:10,165 libalign INFO] model2ref chain matching is {'B': 'A', 'A': 'D'}\n",
      "[2025-05-05 16:03:10,224 libalign INFO] model2ref chain matching is {'B': 'A', 'A': 'D'}\n",
      "[2025-05-05 16:03:10,227 libalign INFO] model2ref chain matching is {'B': 'A', 'A': 'D'}\n",
      "[2025-05-05 16:03:10,230 libalign INFO] model2ref chain matching is {'B': 'A', 'A': 'D'}\n",
      "[2025-05-05 16:03:10,287 libalign INFO] model2ref chain matching is {'B': 'A', 'A': 'D'}\n",
      "[2025-05-05 16:03:10,290 libalign INFO] model2ref chain matching is {'B': 'A', 'A': 'D'}\n",
      "[2025-05-05 16:03:10,294 libalign INFO] model2ref chain matching is {'B': 'A', 'A': 'D'}\n",
      "[2025-05-05 16:03:10,363 libparallel INFO] 25 tasks finished\n",
      "[2025-05-05 16:03:10,364 capri INFO] Rearranging cluster information into capri_clt.tsv\n",
      "[2025-05-05 16:03:10,368 __init__ INFO] Module [caprieval] finished.\n",
      "[2025-05-05 16:03:10,368 __init__ INFO] [caprieval] took 1 seconds\n",
      "[2025-05-05 16:03:10,856 base_cns_module INFO] Running [emref] module\n",
      "[2025-05-05 16:03:10,897 __init__ INFO] [emref] Running CNS Jobs n=25\n",
      "[2025-05-05 16:03:10,898 libutil INFO] Selected 4 cores to process 25 jobs, with 16 maximum available cores.\n",
      "[2025-05-05 16:03:10,898 libparallel INFO] Using 4 cores\n",
      "[2025-05-05 16:03:24,089 libparallel INFO] 25 tasks finished\n",
      "[2025-05-05 16:03:24,089 __init__ INFO] [emref] CNS jobs have finished\n",
      "[2025-05-05 16:03:24,101 base_cns_module INFO] Module [emref] finished.\n",
      "[2025-05-05 16:03:24,101 __init__ INFO] [emref] took 13 seconds\n",
      "[2025-05-05 16:03:24,121 __init__ INFO] Running [caprieval] module\n",
      "[2025-05-05 16:03:24,121 capri INFO] Found previous CNS step: 7_emref\n",
      "[2025-05-05 16:03:24,229 capri INFO] Saved scoring weights to: weights_params.json\n",
      "[2025-05-05 16:03:24,265 libutil INFO] Selected 4 cores to process 25 jobs, with 16 maximum available cores.\n",
      "[2025-05-05 16:03:24,266 libparallel INFO] Using 4 cores\n",
      "[2025-05-05 16:03:24,277 libalign INFO] model2ref chain matching is {'B': 'A', 'A': 'D'}\n",
      "[2025-05-05 16:03:24,281 libalign INFO] model2ref chain matching is {'B': 'A', 'A': 'D'}\n",
      "[2025-05-05 16:03:24,285 libalign INFO] model2ref chain matching is {'B': 'A', 'A': 'D'}\n",
      "[2025-05-05 16:03:24,288 libalign INFO] model2ref chain matching is {'B': 'A', 'A': 'D'}\n",
      "[2025-05-05 16:03:24,355 libalign INFO] model2ref chain matching is {'B': 'A', 'A': 'D'}\n",
      "[2025-05-05 16:03:24,357 libalign INFO] model2ref chain matching is {'B': 'A', 'A': 'D'}\n",
      "[2025-05-05 16:03:24,361 libalign INFO] model2ref chain matching is {'B': 'A', 'A': 'D'}\n",
      "[2025-05-05 16:03:24,364 libalign INFO] model2ref chain matching is {'B': 'A', 'A': 'D'}\n",
      "[2025-05-05 16:03:24,475 libalign INFO] model2ref chain matching is {'B': 'A', 'A': 'D'}\n",
      "[2025-05-05 16:03:24,477 libalign INFO] model2ref chain matching is {'B': 'A', 'A': 'D'}\n",
      "[2025-05-05 16:03:24,479 libalign INFO] model2ref chain matching is {'B': 'A', 'A': 'D'}\n",
      "[2025-05-05 16:03:24,490 libalign INFO] model2ref chain matching is {'B': 'A', 'A': 'D'}\n",
      "[2025-05-05 16:03:24,544 libalign INFO] model2ref chain matching is {'B': 'A', 'A': 'D'}\n",
      "[2025-05-05 16:03:24,545 libalign INFO] model2ref chain matching is {'B': 'A', 'A': 'D'}\n",
      "[2025-05-05 16:03:24,546 libalign INFO] model2ref chain matching is {'B': 'A', 'A': 'D'}\n",
      "[2025-05-05 16:03:24,557 libalign INFO] model2ref chain matching is {'B': 'A', 'A': 'D'}\n",
      "[2025-05-05 16:03:24,611 libalign INFO] model2ref chain matching is {'B': 'A', 'A': 'D'}\n",
      "[2025-05-05 16:03:24,611 libalign INFO] model2ref chain matching is {'B': 'A', 'A': 'D'}\n",
      "[2025-05-05 16:03:24,611 libalign INFO] model2ref chain matching is {'B': 'A', 'A': 'D'}\n",
      "[2025-05-05 16:03:24,678 libalign INFO] model2ref chain matching is {'B': 'A', 'A': 'D'}\n",
      "[2025-05-05 16:03:24,679 libalign INFO] model2ref chain matching is {'B': 'A', 'A': 'D'}\n",
      "[2025-05-05 16:03:24,680 libalign INFO] model2ref chain matching is {'B': 'A', 'A': 'D'}\n",
      "[2025-05-05 16:03:24,740 libalign INFO] model2ref chain matching is {'B': 'A', 'A': 'D'}\n",
      "[2025-05-05 16:03:24,741 libalign INFO] model2ref chain matching is {'B': 'A', 'A': 'D'}\n",
      "[2025-05-05 16:03:24,742 libalign INFO] model2ref chain matching is {'B': 'A', 'A': 'D'}\n",
      "[2025-05-05 16:03:24,806 libparallel INFO] 25 tasks finished\n",
      "[2025-05-05 16:03:24,807 capri INFO] Rearranging cluster information into capri_clt.tsv\n",
      "[2025-05-05 16:03:24,812 __init__ INFO] Module [caprieval] finished.\n",
      "[2025-05-05 16:03:24,812 __init__ INFO] [caprieval] took 1 seconds\n",
      "[2025-05-05 16:03:24,812 cli_analyse INFO] Running haddock3-analyse on ./, modules [4, 6, 8], with top_cluster = 10\n",
      "[2025-05-05 16:03:24,822 cli_analyse WARNING] Directory /home/rchaves/repo/ab_design/biobb_wf_haddock/sandbox_c72059a1-3c48-4835-9154-0217837ba52f/7d79ee1d-9ae4-43fd-b2b3-37f8187cbfb0/analysis already exists.\n",
      "[2025-05-05 16:03:24,822 cli_analyse INFO] Reading input run directory\n",
      "[2025-05-05 16:03:24,822 cli_analyse INFO] selected steps: 4_caprieval, 6_caprieval, 8_caprieval\n",
      "[2025-05-05 16:03:24,822 cli_analyse INFO] Analysing step 4_caprieval\n",
      "[2025-05-05 16:03:24,822 cli_analyse INFO] step 4_caprieval is caprieval, files should be already available\n",
      "[2025-05-05 16:03:24,823 cli_analyse INFO] CAPRI files identified\n",
      "[2025-05-05 16:03:24,826 cli_analyse INFO] Plotting results..\n",
      "[2025-05-05 16:03:25,840 cli_analyse INFO] Summary archive summary.tgz created!\n",
      "[2025-05-05 16:03:25,841 cli_analyse INFO] Analysing step 6_caprieval\n",
      "[2025-05-05 16:03:25,841 cli_analyse INFO] step 6_caprieval is caprieval, files should be already available\n",
      "[2025-05-05 16:03:25,841 cli_analyse INFO] CAPRI files identified\n",
      "[2025-05-05 16:03:25,842 cli_analyse INFO] Plotting results..\n",
      "[2025-05-05 16:03:26,715 cli_analyse INFO] Summary archive summary.tgz created!\n",
      "[2025-05-05 16:03:26,716 cli_analyse INFO] Analysing step 8_caprieval\n",
      "[2025-05-05 16:03:26,716 cli_analyse INFO] step 8_caprieval is caprieval, files should be already available\n",
      "[2025-05-05 16:03:26,716 cli_analyse INFO] CAPRI files identified\n",
      "[2025-05-05 16:03:26,718 cli_analyse INFO] Plotting results..\n",
      "[2025-05-05 16:03:27,563 cli_analyse INFO] Summary archive summary.tgz created!\n",
      "[2025-05-05 16:03:27,564 cli_analyse INFO] moving files to analysis folder\n",
      "[2025-05-05 16:03:27,564 cli_analyse INFO] updating paths in analysis/4_caprieval_analysis/capri_ss.tsv\n",
      "[2025-05-05 16:03:27,564 cli_analyse INFO] View the results in analysis/4_caprieval_analysis/report.html\n",
      "[2025-05-05 16:03:27,564 cli_analyse INFO] To view structures or download the structure files, in a terminal run the command `python -m http.server --directory /home/rchaves/repo/ab_design/biobb_wf_haddock/sandbox_c72059a1-3c48-4835-9154-0217837ba52f/7d79ee1d-9ae4-43fd-b2b3-37f8187cbfb0`. By default, http server runs on `http://0.0.0.0:8000/`. Open the link http://0.0.0.0:8000/analysis/4_caprieval_analysis/report.html in a web browser.\n",
      "[2025-05-05 16:03:27,564 cli_analyse INFO] updating paths in analysis/6_caprieval_analysis/capri_ss.tsv\n",
      "[2025-05-05 16:03:27,564 cli_analyse INFO] View the results in analysis/6_caprieval_analysis/report.html\n",
      "[2025-05-05 16:03:27,564 cli_analyse INFO] To view structures or download the structure files, in a terminal run the command `python -m http.server --directory /home/rchaves/repo/ab_design/biobb_wf_haddock/sandbox_c72059a1-3c48-4835-9154-0217837ba52f/7d79ee1d-9ae4-43fd-b2b3-37f8187cbfb0`. By default, http server runs on `http://0.0.0.0:8000/`. Open the link http://0.0.0.0:8000/analysis/6_caprieval_analysis/report.html in a web browser.\n",
      "[2025-05-05 16:03:27,564 cli_analyse INFO] updating paths in analysis/8_caprieval_analysis/capri_ss.tsv\n",
      "[2025-05-05 16:03:27,564 cli_analyse INFO] View the results in analysis/8_caprieval_analysis/report.html\n",
      "[2025-05-05 16:03:27,564 cli_analyse INFO] To view structures or download the structure files, in a terminal run the command `python -m http.server --directory /home/rchaves/repo/ab_design/biobb_wf_haddock/sandbox_c72059a1-3c48-4835-9154-0217837ba52f/7d79ee1d-9ae4-43fd-b2b3-37f8187cbfb0`. By default, http server runs on `http://0.0.0.0:8000/`. Open the link http://0.0.0.0:8000/analysis/8_caprieval_analysis/report.html in a web browser.\n",
      "[2025-05-05 16:03:27,564 cli_traceback INFO] Running haddock3-traceback on ./\n",
      "[2025-05-05 16:03:27,564 cli_traceback INFO] Reading input run directory\n",
      "[2025-05-05 16:03:27,565 cli_traceback INFO] All_steps: 0_topoaa, 1_rigidbody, 2_caprieval, 3_seletop, 4_caprieval, 5_flexref, 6_caprieval, 7_emref, 8_caprieval\n",
      "[2025-05-05 16:03:27,565 cli_traceback INFO] Modules not to be analysed: 0_topoaa, 2_caprieval, 3_seletop, 4_caprieval, 6_caprieval, 8_caprieval\n",
      "[2025-05-05 16:03:27,565 cli_traceback INFO] Steps to trace back: 1_rigidbody, 5_flexref, 7_emref\n",
      "[2025-05-05 16:03:27,565 cli_traceback WARNING] Directory /home/rchaves/repo/ab_design/biobb_wf_haddock/sandbox_c72059a1-3c48-4835-9154-0217837ba52f/7d79ee1d-9ae4-43fd-b2b3-37f8187cbfb0/traceback already exists.\n",
      "[2025-05-05 16:03:27,565 cli_traceback INFO] Tracing back step 7_emref\n",
      "[2025-05-05 16:03:27,568 cli_traceback INFO] Tracing back step 5_flexref\n",
      "[2025-05-05 16:03:27,571 cli_traceback INFO] Tracing back step 1_rigidbody\n",
      "[2025-05-05 16:03:27,580 cli_traceback INFO] Output dataframe traceback/traceback.tsv created with shape (100, 8)\n",
      "[2025-05-05 16:03:27,612 extend_run INFO] Compressing original folder: '1_rigidbody' because it was originally compressed.\n",
      "[2025-05-05 16:03:27,612 clean_steps INFO] Cleaning output for '1_rigidbody' using 4 cores.\n",
      "[2025-05-05 16:03:28,196 libtimer INFO] cleaning output files took 1 seconds\n",
      "[2025-05-05 16:03:28,196 cli INFO] This HADDOCK3 run took: 2 minutes and 59 seconds\n",
      "[2025-05-05 16:03:28,196 greetings INFO] Your feedback matters in Haddock3! Share your experience and help us grow:\n",
      "[2025-05-05 16:03:28,196 greetings INFO] GitHub issues: https://github.com/haddocking/haddock3/issues\n",
      "[2025-05-05 16:03:28,196 greetings INFO] BioExcel feedback: https://www.bonvinlab.org/feedback\n",
      "[2025-05-05 16:03:28,196 greetings INFO] BioExcel forum: https://ask.bioexcel.eu/c/haddock/6\n",
      "[2025-05-05 16:03:28,196 cli INFO] Finished at 05/05/2025 16:03:28. Dovidenia! Good bye! Au revoir!\n",
      "\n",
      "2025-05-05 16:03:28,378 [MainThread  ] [INFO ]  Zipping /home/rchaves/repo/ab_design/biobb_wf_haddock/sandbox_c72059a1-3c48-4835-9154-0217837ba52f/7d79ee1d-9ae4-43fd-b2b3-37f8187cbfb0 to data/barnase_barstar/3/extend_wf \n"
     ]
    },
    {
     "data": {
      "text/plain": [
       "0"
      ]
     },
     "execution_count": 19,
     "metadata": {},
     "output_type": "execute_result"
    }
   ],
   "source": [
    "from biobb_haddock.haddock.haddock3_extend import haddock3_extend\n",
    "\n",
    "output_haddock_wf_data_zip = f'{out_path}3/extend_wf.zip'  \n",
    "\n",
    "haddock3_extend(input_haddock_wf_data_zip  = wf_caprieval,\n",
    "                haddock_config_path        = haddock_config_path,\n",
    "                output_haddock_wf_data_zip = output_haddock_wf_data_zip,\n",
    "                properties = def_dict())"
   ]
  },
  {
   "cell_type": "code",
   "execution_count": 21,
   "id": "dc943a80",
   "metadata": {},
   "outputs": [
    {
     "name": "stdout",
     "output_type": "stream",
     "text": [
      "Serving HTTP on 0.0.0.0 port 8000 (http://0.0.0.0:8000/) ...\n",
      "127.0.0.1 - - [05/May/2025 16:03:53] \"GET /data/barnase_barstar/3/extend_wf/analysis/8_caprieval_analysis/report.html HTTP/1.1\" 200 -\n",
      "127.0.0.1 - - [05/May/2025 16:03:57] code 404, message File not found\n",
      "127.0.0.1 - - [05/May/2025 16:03:57] \"GET /data/barnase_barstar/3/extend_wf/7_emref/emref_9.pdb.gz HTTP/1.1\" 404 -\n",
      "127.0.0.1 - - [05/May/2025 16:04:52] \"GET /data/barnase_barstar/3/extend_wf/analysis/ HTTP/1.1\" 200 -\n",
      "127.0.0.1 - - [05/May/2025 16:04:54] \"GET /data/barnase_barstar/3/extend_wf/analysis/6_caprieval_analysis/ HTTP/1.1\" 200 -\n",
      "127.0.0.1 - - [05/May/2025 16:04:55] \"GET /data/barnase_barstar/3/extend_wf/analysis/6_caprieval_analysis/report.html HTTP/1.1\" 200 -\n",
      "127.0.0.1 - - [05/May/2025 16:05:42] \"GET /data/barnase_barstar/3/extend_wf/analysis/4_caprieval_analysis/ HTTP/1.1\" 200 -\n",
      "127.0.0.1 - - [05/May/2025 16:05:44] \"GET /data/barnase_barstar/3/extend_wf/analysis/4_caprieval_analysis/report.html HTTP/1.1\" 200 -\n",
      "127.0.0.1 - - [05/May/2025 16:06:04] \"GET /data/barnase_barstar/3/extend_wf/analysis/6_caprieval_analysis/ HTTP/1.1\" 200 -\n",
      "127.0.0.1 - - [05/May/2025 16:06:06] \"GET /data/barnase_barstar/3/extend_wf/analysis/6_caprieval_analysis/report.html HTTP/1.1\" 304 -\n",
      "127.0.0.1 - - [05/May/2025 16:06:21] \"GET /data/barnase_barstar/3/extend_wf/analysis/8_caprieval_analysis/ HTTP/1.1\" 200 -\n",
      "127.0.0.1 - - [05/May/2025 16:06:24] \"GET /data/barnase_barstar/3/extend_wf/analysis/8_caprieval_analysis/report.html HTTP/1.1\" 304 -\n",
      "\n",
      "Keyboard interrupt received, exiting.\n",
      "^C\n"
     ]
    }
   ],
   "source": [
    "with zipfile.ZipFile(output_haddock_wf_data_zip, 'r') as zip_ref:\n",
    "    zip_ref.extractall(output_haddock_wf_data_zip[:-4])\n",
    "    \n",
    "webbrowser.open(f\"http://0.0.0.0:8000/{output_haddock_wf_data_zip[:-4]}/analysis/8_caprieval_analysis/report.html\")\n",
    "!python3 -m http.server"
   ]
  },
  {
   "cell_type": "code",
   "execution_count": 23,
   "id": "cc83a06a",
   "metadata": {},
   "outputs": [
    {
     "data": {
      "text/html": [
       "<div>\n",
       "<style scoped>\n",
       "    .dataframe tbody tr th:only-of-type {\n",
       "        vertical-align: middle;\n",
       "    }\n",
       "\n",
       "    .dataframe tbody tr th {\n",
       "        vertical-align: top;\n",
       "    }\n",
       "\n",
       "    .dataframe thead th {\n",
       "        text-align: right;\n",
       "    }\n",
       "</style>\n",
       "<table border=\"1\" class=\"dataframe\">\n",
       "  <thead>\n",
       "    <tr style=\"text-align: right;\">\n",
       "      <th></th>\n",
       "      <th>model</th>\n",
       "      <th>md5</th>\n",
       "      <th>caprieval_rank</th>\n",
       "      <th>score</th>\n",
       "      <th>irmsd</th>\n",
       "      <th>fnat</th>\n",
       "      <th>lrmsd</th>\n",
       "      <th>ilrmsd</th>\n",
       "      <th>dockq</th>\n",
       "      <th>rmsd</th>\n",
       "      <th>...</th>\n",
       "      <th>dihe</th>\n",
       "      <th>elec</th>\n",
       "      <th>improper</th>\n",
       "      <th>rdcs</th>\n",
       "      <th>rg</th>\n",
       "      <th>sym</th>\n",
       "      <th>total</th>\n",
       "      <th>vdw</th>\n",
       "      <th>vean</th>\n",
       "      <th>xpcs</th>\n",
       "    </tr>\n",
       "  </thead>\n",
       "  <tbody>\n",
       "    <tr>\n",
       "      <th>0</th>\n",
       "      <td>../7_emref/emref_18.pdb</td>\n",
       "      <td>-</td>\n",
       "      <td>1</td>\n",
       "      <td>-120.098</td>\n",
       "      <td>10.365</td>\n",
       "      <td>0.127</td>\n",
       "      <td>15.461</td>\n",
       "      <td>16.703</td>\n",
       "      <td>0.127</td>\n",
       "      <td>9.804</td>\n",
       "      <td>...</td>\n",
       "      <td>0.0</td>\n",
       "      <td>-274.875</td>\n",
       "      <td>0.0</td>\n",
       "      <td>0.0</td>\n",
       "      <td>0.0</td>\n",
       "      <td>0.0</td>\n",
       "      <td>-325.708</td>\n",
       "      <td>-51.643</td>\n",
       "      <td>0.0</td>\n",
       "      <td>0.0</td>\n",
       "    </tr>\n",
       "    <tr>\n",
       "      <th>1</th>\n",
       "      <td>../7_emref/emref_3.pdb</td>\n",
       "      <td>-</td>\n",
       "      <td>2</td>\n",
       "      <td>-115.348</td>\n",
       "      <td>12.775</td>\n",
       "      <td>0.055</td>\n",
       "      <td>18.909</td>\n",
       "      <td>18.743</td>\n",
       "      <td>0.079</td>\n",
       "      <td>11.925</td>\n",
       "      <td>...</td>\n",
       "      <td>0.0</td>\n",
       "      <td>-345.125</td>\n",
       "      <td>0.0</td>\n",
       "      <td>0.0</td>\n",
       "      <td>0.0</td>\n",
       "      <td>0.0</td>\n",
       "      <td>-382.854</td>\n",
       "      <td>-40.634</td>\n",
       "      <td>0.0</td>\n",
       "      <td>0.0</td>\n",
       "    </tr>\n",
       "    <tr>\n",
       "      <th>2</th>\n",
       "      <td>../7_emref/emref_9.pdb</td>\n",
       "      <td>-</td>\n",
       "      <td>3</td>\n",
       "      <td>-111.546</td>\n",
       "      <td>1.469</td>\n",
       "      <td>0.600</td>\n",
       "      <td>2.430</td>\n",
       "      <td>2.393</td>\n",
       "      <td>0.678</td>\n",
       "      <td>1.421</td>\n",
       "      <td>...</td>\n",
       "      <td>0.0</td>\n",
       "      <td>-340.269</td>\n",
       "      <td>0.0</td>\n",
       "      <td>0.0</td>\n",
       "      <td>0.0</td>\n",
       "      <td>0.0</td>\n",
       "      <td>-379.879</td>\n",
       "      <td>-41.365</td>\n",
       "      <td>0.0</td>\n",
       "      <td>0.0</td>\n",
       "    </tr>\n",
       "    <tr>\n",
       "      <th>3</th>\n",
       "      <td>../7_emref/emref_15.pdb</td>\n",
       "      <td>-</td>\n",
       "      <td>4</td>\n",
       "      <td>-105.090</td>\n",
       "      <td>11.924</td>\n",
       "      <td>0.036</td>\n",
       "      <td>17.889</td>\n",
       "      <td>18.371</td>\n",
       "      <td>0.079</td>\n",
       "      <td>11.277</td>\n",
       "      <td>...</td>\n",
       "      <td>0.0</td>\n",
       "      <td>-252.707</td>\n",
       "      <td>0.0</td>\n",
       "      <td>0.0</td>\n",
       "      <td>0.0</td>\n",
       "      <td>0.0</td>\n",
       "      <td>-286.816</td>\n",
       "      <td>-36.093</td>\n",
       "      <td>0.0</td>\n",
       "      <td>0.0</td>\n",
       "    </tr>\n",
       "    <tr>\n",
       "      <th>4</th>\n",
       "      <td>../7_emref/emref_4.pdb</td>\n",
       "      <td>-</td>\n",
       "      <td>5</td>\n",
       "      <td>-104.415</td>\n",
       "      <td>12.638</td>\n",
       "      <td>0.091</td>\n",
       "      <td>18.653</td>\n",
       "      <td>18.593</td>\n",
       "      <td>0.092</td>\n",
       "      <td>12.072</td>\n",
       "      <td>...</td>\n",
       "      <td>0.0</td>\n",
       "      <td>-276.266</td>\n",
       "      <td>0.0</td>\n",
       "      <td>0.0</td>\n",
       "      <td>0.0</td>\n",
       "      <td>0.0</td>\n",
       "      <td>-310.324</td>\n",
       "      <td>-40.087</td>\n",
       "      <td>0.0</td>\n",
       "      <td>0.0</td>\n",
       "    </tr>\n",
       "  </tbody>\n",
       "</table>\n",
       "<p>5 rows × 31 columns</p>\n",
       "</div>"
      ],
      "text/plain": [
       "                     model md5  caprieval_rank    score   irmsd   fnat  \\\n",
       "0  ../7_emref/emref_18.pdb   -               1 -120.098  10.365  0.127   \n",
       "1   ../7_emref/emref_3.pdb   -               2 -115.348  12.775  0.055   \n",
       "2   ../7_emref/emref_9.pdb   -               3 -111.546   1.469  0.600   \n",
       "3  ../7_emref/emref_15.pdb   -               4 -105.090  11.924  0.036   \n",
       "4   ../7_emref/emref_4.pdb   -               5 -104.415  12.638  0.091   \n",
       "\n",
       "    lrmsd  ilrmsd  dockq    rmsd  ... dihe     elec improper  rdcs   rg  sym  \\\n",
       "0  15.461  16.703  0.127   9.804  ...  0.0 -274.875      0.0   0.0  0.0  0.0   \n",
       "1  18.909  18.743  0.079  11.925  ...  0.0 -345.125      0.0   0.0  0.0  0.0   \n",
       "2   2.430   2.393  0.678   1.421  ...  0.0 -340.269      0.0   0.0  0.0  0.0   \n",
       "3  17.889  18.371  0.079  11.277  ...  0.0 -252.707      0.0   0.0  0.0  0.0   \n",
       "4  18.653  18.593  0.092  12.072  ...  0.0 -276.266      0.0   0.0  0.0  0.0   \n",
       "\n",
       "     total     vdw  vean  xpcs  \n",
       "0 -325.708 -51.643   0.0   0.0  \n",
       "1 -382.854 -40.634   0.0   0.0  \n",
       "2 -379.879 -41.365   0.0   0.0  \n",
       "3 -286.816 -36.093   0.0   0.0  \n",
       "4 -310.324 -40.087   0.0   0.0  \n",
       "\n",
       "[5 rows x 31 columns]"
      ]
     },
     "metadata": {},
     "output_type": "display_data"
    },
    {
     "data": {
      "text/html": [
       "<div>\n",
       "<style scoped>\n",
       "    .dataframe tbody tr th:only-of-type {\n",
       "        vertical-align: middle;\n",
       "    }\n",
       "\n",
       "    .dataframe tbody tr th {\n",
       "        vertical-align: top;\n",
       "    }\n",
       "\n",
       "    .dataframe thead th {\n",
       "        text-align: right;\n",
       "    }\n",
       "</style>\n",
       "<table border=\"1\" class=\"dataframe\">\n",
       "  <thead>\n",
       "    <tr style=\"text-align: right;\">\n",
       "      <th></th>\n",
       "      <th>model</th>\n",
       "      <th>md5</th>\n",
       "      <th>caprieval_rank</th>\n",
       "      <th>score</th>\n",
       "      <th>irmsd</th>\n",
       "      <th>fnat</th>\n",
       "      <th>lrmsd</th>\n",
       "      <th>ilrmsd</th>\n",
       "      <th>dockq</th>\n",
       "      <th>rmsd</th>\n",
       "      <th>...</th>\n",
       "      <th>dihe</th>\n",
       "      <th>elec</th>\n",
       "      <th>improper</th>\n",
       "      <th>rdcs</th>\n",
       "      <th>rg</th>\n",
       "      <th>sym</th>\n",
       "      <th>total</th>\n",
       "      <th>vdw</th>\n",
       "      <th>vean</th>\n",
       "      <th>xpcs</th>\n",
       "    </tr>\n",
       "  </thead>\n",
       "  <tbody>\n",
       "    <tr>\n",
       "      <th>2</th>\n",
       "      <td>../7_emref/emref_9.pdb</td>\n",
       "      <td>-</td>\n",
       "      <td>3</td>\n",
       "      <td>-111.546</td>\n",
       "      <td>1.469</td>\n",
       "      <td>0.600</td>\n",
       "      <td>2.430</td>\n",
       "      <td>2.393</td>\n",
       "      <td>0.678</td>\n",
       "      <td>1.421</td>\n",
       "      <td>...</td>\n",
       "      <td>0.0</td>\n",
       "      <td>-340.269</td>\n",
       "      <td>0.0</td>\n",
       "      <td>0.0</td>\n",
       "      <td>0.0</td>\n",
       "      <td>0.0</td>\n",
       "      <td>-379.879</td>\n",
       "      <td>-41.365</td>\n",
       "      <td>0.0</td>\n",
       "      <td>0.0</td>\n",
       "    </tr>\n",
       "    <tr>\n",
       "      <th>10</th>\n",
       "      <td>../7_emref/emref_10.pdb</td>\n",
       "      <td>-</td>\n",
       "      <td>11</td>\n",
       "      <td>-95.662</td>\n",
       "      <td>1.420</td>\n",
       "      <td>0.582</td>\n",
       "      <td>2.560</td>\n",
       "      <td>2.482</td>\n",
       "      <td>0.675</td>\n",
       "      <td>1.416</td>\n",
       "      <td>...</td>\n",
       "      <td>0.0</td>\n",
       "      <td>-304.442</td>\n",
       "      <td>0.0</td>\n",
       "      <td>0.0</td>\n",
       "      <td>0.0</td>\n",
       "      <td>0.0</td>\n",
       "      <td>-327.697</td>\n",
       "      <td>-29.073</td>\n",
       "      <td>0.0</td>\n",
       "      <td>0.0</td>\n",
       "    </tr>\n",
       "    <tr>\n",
       "      <th>11</th>\n",
       "      <td>../7_emref/emref_2.pdb</td>\n",
       "      <td>-</td>\n",
       "      <td>12</td>\n",
       "      <td>-95.461</td>\n",
       "      <td>1.483</td>\n",
       "      <td>0.509</td>\n",
       "      <td>5.794</td>\n",
       "      <td>4.232</td>\n",
       "      <td>0.566</td>\n",
       "      <td>1.619</td>\n",
       "      <td>...</td>\n",
       "      <td>0.0</td>\n",
       "      <td>-331.200</td>\n",
       "      <td>0.0</td>\n",
       "      <td>0.0</td>\n",
       "      <td>0.0</td>\n",
       "      <td>0.0</td>\n",
       "      <td>-346.908</td>\n",
       "      <td>-24.219</td>\n",
       "      <td>0.0</td>\n",
       "      <td>0.0</td>\n",
       "    </tr>\n",
       "    <tr>\n",
       "      <th>14</th>\n",
       "      <td>../7_emref/emref_7.pdb</td>\n",
       "      <td>-</td>\n",
       "      <td>15</td>\n",
       "      <td>-87.220</td>\n",
       "      <td>2.305</td>\n",
       "      <td>0.400</td>\n",
       "      <td>7.167</td>\n",
       "      <td>5.766</td>\n",
       "      <td>0.427</td>\n",
       "      <td>2.437</td>\n",
       "      <td>...</td>\n",
       "      <td>0.0</td>\n",
       "      <td>-261.264</td>\n",
       "      <td>0.0</td>\n",
       "      <td>0.0</td>\n",
       "      <td>0.0</td>\n",
       "      <td>0.0</td>\n",
       "      <td>-291.301</td>\n",
       "      <td>-30.562</td>\n",
       "      <td>0.0</td>\n",
       "      <td>0.0</td>\n",
       "    </tr>\n",
       "    <tr>\n",
       "      <th>16</th>\n",
       "      <td>../7_emref/emref_24.pdb</td>\n",
       "      <td>-</td>\n",
       "      <td>17</td>\n",
       "      <td>-81.040</td>\n",
       "      <td>2.174</td>\n",
       "      <td>0.345</td>\n",
       "      <td>7.846</td>\n",
       "      <td>5.798</td>\n",
       "      <td>0.403</td>\n",
       "      <td>2.448</td>\n",
       "      <td>...</td>\n",
       "      <td>0.0</td>\n",
       "      <td>-222.034</td>\n",
       "      <td>0.0</td>\n",
       "      <td>0.0</td>\n",
       "      <td>0.0</td>\n",
       "      <td>0.0</td>\n",
       "      <td>-216.602</td>\n",
       "      <td>-28.297</td>\n",
       "      <td>0.0</td>\n",
       "      <td>0.0</td>\n",
       "    </tr>\n",
       "  </tbody>\n",
       "</table>\n",
       "<p>5 rows × 31 columns</p>\n",
       "</div>"
      ],
      "text/plain": [
       "                      model md5  caprieval_rank    score  irmsd   fnat  lrmsd  \\\n",
       "2    ../7_emref/emref_9.pdb   -               3 -111.546  1.469  0.600  2.430   \n",
       "10  ../7_emref/emref_10.pdb   -              11  -95.662  1.420  0.582  2.560   \n",
       "11   ../7_emref/emref_2.pdb   -              12  -95.461  1.483  0.509  5.794   \n",
       "14   ../7_emref/emref_7.pdb   -              15  -87.220  2.305  0.400  7.167   \n",
       "16  ../7_emref/emref_24.pdb   -              17  -81.040  2.174  0.345  7.846   \n",
       "\n",
       "    ilrmsd  dockq   rmsd  ... dihe     elec improper  rdcs   rg  sym    total  \\\n",
       "2    2.393  0.678  1.421  ...  0.0 -340.269      0.0   0.0  0.0  0.0 -379.879   \n",
       "10   2.482  0.675  1.416  ...  0.0 -304.442      0.0   0.0  0.0  0.0 -327.697   \n",
       "11   4.232  0.566  1.619  ...  0.0 -331.200      0.0   0.0  0.0  0.0 -346.908   \n",
       "14   5.766  0.427  2.437  ...  0.0 -261.264      0.0   0.0  0.0  0.0 -291.301   \n",
       "16   5.798  0.403  2.448  ...  0.0 -222.034      0.0   0.0  0.0  0.0 -216.602   \n",
       "\n",
       "       vdw  vean  xpcs  \n",
       "2  -41.365   0.0   0.0  \n",
       "10 -29.073   0.0   0.0  \n",
       "11 -24.219   0.0   0.0  \n",
       "14 -30.562   0.0   0.0  \n",
       "16 -28.297   0.0   0.0  \n",
       "\n",
       "[5 rows x 31 columns]"
      ]
     },
     "metadata": {},
     "output_type": "display_data"
    },
    {
     "data": {
      "text/html": [
       "<div>\n",
       "<style scoped>\n",
       "    .dataframe tbody tr th:only-of-type {\n",
       "        vertical-align: middle;\n",
       "    }\n",
       "\n",
       "    .dataframe tbody tr th {\n",
       "        vertical-align: top;\n",
       "    }\n",
       "\n",
       "    .dataframe thead th {\n",
       "        text-align: right;\n",
       "    }\n",
       "</style>\n",
       "<table border=\"1\" class=\"dataframe\">\n",
       "  <thead>\n",
       "    <tr style=\"text-align: right;\">\n",
       "      <th></th>\n",
       "      <th>cluster_rank</th>\n",
       "      <th>cluster_id</th>\n",
       "      <th>n</th>\n",
       "      <th>under_eval</th>\n",
       "      <th>score</th>\n",
       "      <th>score_std</th>\n",
       "      <th>irmsd</th>\n",
       "      <th>irmsd_std</th>\n",
       "      <th>fnat</th>\n",
       "      <th>fnat_std</th>\n",
       "      <th>...</th>\n",
       "      <th>bsa_std</th>\n",
       "      <th>desolv</th>\n",
       "      <th>desolv_std</th>\n",
       "      <th>elec</th>\n",
       "      <th>elec_std</th>\n",
       "      <th>total</th>\n",
       "      <th>total_std</th>\n",
       "      <th>vdw</th>\n",
       "      <th>vdw_std</th>\n",
       "      <th>caprieval_rank</th>\n",
       "    </tr>\n",
       "  </thead>\n",
       "  <tbody>\n",
       "    <tr>\n",
       "      <th>0</th>\n",
       "      <td>-</td>\n",
       "      <td>-</td>\n",
       "      <td>25</td>\n",
       "      <td>-</td>\n",
       "      <td>-113.021</td>\n",
       "      <td>5.49</td>\n",
       "      <td>9.133</td>\n",
       "      <td>4.508</td>\n",
       "      <td>0.205</td>\n",
       "      <td>0.231</td>\n",
       "      <td>...</td>\n",
       "      <td>114.879</td>\n",
       "      <td>-10.124</td>\n",
       "      <td>6.382</td>\n",
       "      <td>-303.244</td>\n",
       "      <td>40.261</td>\n",
       "      <td>-343.814</td>\n",
       "      <td>40.004</td>\n",
       "      <td>-42.434</td>\n",
       "      <td>5.688</td>\n",
       "      <td>1</td>\n",
       "    </tr>\n",
       "  </tbody>\n",
       "</table>\n",
       "<p>1 rows × 31 columns</p>\n",
       "</div>"
      ],
      "text/plain": [
       "  cluster_rank cluster_id   n under_eval    score  score_std  irmsd  \\\n",
       "0            -          -  25          - -113.021       5.49  9.133   \n",
       "\n",
       "   irmsd_std   fnat  fnat_std  ...  bsa_std  desolv  desolv_std     elec  \\\n",
       "0      4.508  0.205     0.231  ...  114.879 -10.124       6.382 -303.244   \n",
       "\n",
       "   elec_std    total  total_std     vdw  vdw_std  caprieval_rank  \n",
       "0    40.261 -343.814     40.004 -42.434    5.688               1  \n",
       "\n",
       "[1 rows x 31 columns]"
      ]
     },
     "metadata": {},
     "output_type": "display_data"
    }
   ],
   "source": [
    "import pandas as pd\n",
    "\n",
    "tsv_dir = output_haddock_wf_data_zip[:-4]+'/8_caprieval/'\n",
    "# Load the cluster and single data into pandas DataFrames\n",
    "cluster_df = pd.read_csv(tsv_dir + 'capri_clt.tsv', sep='\\t',comment='#')\n",
    "single_df = pd.read_csv(tsv_dir + 'capri_ss.tsv', sep='\\t',comment='#')\n",
    "\n",
    "# DockQ: incorrect (<0.23), acceptable (0.23-0.49), medium (0.49-0.80), and high (>=0.80) \n",
    "display(single_df.head())\n",
    "single_df = single_df.sort_values(by='dockq', ascending=False)\n",
    "display(single_df.head())\n",
    "display(cluster_df.head())"
   ]
  }
 ],
 "metadata": {
  "kernelspec": {
   "display_name": "biobb_haddock",
   "language": "python",
   "name": "python3"
  },
  "language_info": {
   "codemirror_mode": {
    "name": "ipython",
    "version": 3
   },
   "file_extension": ".py",
   "mimetype": "text/x-python",
   "name": "python",
   "nbconvert_exporter": "python",
   "pygments_lexer": "ipython3",
   "version": "3.9.21"
  }
 },
 "nbformat": 4,
 "nbformat_minor": 5
}
